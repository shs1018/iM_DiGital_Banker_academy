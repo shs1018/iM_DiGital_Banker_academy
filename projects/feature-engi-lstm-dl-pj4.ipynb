{
 "cells": [
  {
   "cell_type": "markdown",
   "metadata": {},
   "source": [
    "# [컴페티션] 딥러닝 컴페티션\n",
    "- 대회 주제 : Forecasting Mini-Course Sales\n",
    "- 대회 링크 : https://www.kaggle.com/competitions/playground-series-s3e19\n",
    "- 평가 항목 : SMAPE\n",
    "- 제출일 : 2025년 01월 02일 목요일 8교시\n",
    "- 평가 항목 점수 : 55.73186 / 54.61159\n",
    "- 수강생 성함 : 송현서"
   ]
  },
  {
   "cell_type": "code",
   "execution_count": 66,
   "metadata": {
    "_cell_guid": "b1076dfc-b9ad-4769-8c92-a6c4dae69d19",
    "_uuid": "8f2839f25d086af736a60e9eeb907d3b93b6e0e5",
    "execution": {
     "iopub.execute_input": "2025-01-02T04:34:05.049877Z",
     "iopub.status.busy": "2025-01-02T04:34:05.049599Z",
     "iopub.status.idle": "2025-01-02T04:34:05.056851Z",
     "shell.execute_reply": "2025-01-02T04:34:05.056083Z",
     "shell.execute_reply.started": "2025-01-02T04:34:05.049854Z"
    }
   },
   "outputs": [
    {
     "name": "stdout",
     "output_type": "stream",
     "text": [
      "/kaggle/input/playground-series-s3e19/sample_submission.csv\n",
      "/kaggle/input/playground-series-s3e19/train.csv\n",
      "/kaggle/input/playground-series-s3e19/test.csv\n"
     ]
    }
   ],
   "source": [
    "# This Python 3 environment comes with many helpful analytics libraries installed\n",
    "# It is defined by the kaggle/python Docker image: https://github.com/kaggle/docker-python\n",
    "# For example, here's several helpful packages to load\n",
    "\n",
    "import numpy as np # linear algebra\n",
    "import pandas as pd # data processing, CSV file I/O (e.g. pd.read_csv)\n",
    "\n",
    "# Input data files are available in the read-only \"../input/\" directory\n",
    "# For example, running this (by clicking run or pressing Shift+Enter) will list all files under the input directory\n",
    "\n",
    "import os\n",
    "for dirname, _, filenames in os.walk('/kaggle/input'):\n",
    "    for filename in filenames:\n",
    "        print(os.path.join(dirname, filename))\n",
    "\n",
    "# You can write up to 20GB to the current directory (/kaggle/working/) that gets preserved as output when you create a version using \"Save & Run All\" \n",
    "# You can also write temporary files to /kaggle/temp/, but they won't be saved outside of the current session"
   ]
  },
  {
   "cell_type": "code",
   "execution_count": 67,
   "metadata": {
    "execution": {
     "iopub.execute_input": "2025-01-02T04:34:05.058215Z",
     "iopub.status.busy": "2025-01-02T04:34:05.057919Z",
     "iopub.status.idle": "2025-01-02T04:34:05.220838Z",
     "shell.execute_reply": "2025-01-02T04:34:05.220011Z",
     "shell.execute_reply.started": "2025-01-02T04:34:05.058193Z"
    }
   },
   "outputs": [],
   "source": [
    "import pandas as pd\n",
    "import matplotlib.pyplot as plt\n",
    "import seaborn as sns\n",
    "import numpy as np\n",
    "import datetime as dt\n",
    "\n",
    "from lightgbm import LGBMRegressor\n",
    "from statsmodels.tsa.seasonal import seasonal_decompose\n",
    "from statsmodels.graphics.tsaplots import plot_acf,plot_pacf\n",
    "from scipy.stats import t\n",
    "from sklearn.model_selection import TimeSeriesSplit, train_test_split\n",
    "from sklearn.metrics import mean_absolute_error\n",
    "import warnings\n",
    "warnings.filterwarnings(\"ignore\")\n",
    "\n",
    "train = pd.read_csv('../input/playground-series-s3e19/train.csv')\n",
    "test = pd.read_csv('../input/playground-series-s3e19/test.csv')\n",
    "test['num_sold'] = 300  # this is dummy for simplify concat\n"
   ]
  },
  {
   "cell_type": "code",
   "execution_count": 68,
   "metadata": {
    "execution": {
     "iopub.execute_input": "2025-01-02T04:34:05.222339Z",
     "iopub.status.busy": "2025-01-02T04:34:05.222092Z",
     "iopub.status.idle": "2025-01-02T04:34:05.232675Z",
     "shell.execute_reply": "2025-01-02T04:34:05.231821Z",
     "shell.execute_reply.started": "2025-01-02T04:34:05.222318Z"
    }
   },
   "outputs": [
    {
     "data": {
      "text/html": [
       "<div>\n",
       "<style scoped>\n",
       "    .dataframe tbody tr th:only-of-type {\n",
       "        vertical-align: middle;\n",
       "    }\n",
       "\n",
       "    .dataframe tbody tr th {\n",
       "        vertical-align: top;\n",
       "    }\n",
       "\n",
       "    .dataframe thead th {\n",
       "        text-align: right;\n",
       "    }\n",
       "</style>\n",
       "<table border=\"1\" class=\"dataframe\">\n",
       "  <thead>\n",
       "    <tr style=\"text-align: right;\">\n",
       "      <th></th>\n",
       "      <th>id</th>\n",
       "      <th>date</th>\n",
       "      <th>country</th>\n",
       "      <th>store</th>\n",
       "      <th>product</th>\n",
       "      <th>num_sold</th>\n",
       "    </tr>\n",
       "  </thead>\n",
       "  <tbody>\n",
       "    <tr>\n",
       "      <th>0</th>\n",
       "      <td>0</td>\n",
       "      <td>2017-01-01</td>\n",
       "      <td>Argentina</td>\n",
       "      <td>Kaggle Learn</td>\n",
       "      <td>Using LLMs to Improve Your Coding</td>\n",
       "      <td>63</td>\n",
       "    </tr>\n",
       "    <tr>\n",
       "      <th>1</th>\n",
       "      <td>1</td>\n",
       "      <td>2017-01-01</td>\n",
       "      <td>Argentina</td>\n",
       "      <td>Kaggle Learn</td>\n",
       "      <td>Using LLMs to Train More LLMs</td>\n",
       "      <td>66</td>\n",
       "    </tr>\n",
       "    <tr>\n",
       "      <th>2</th>\n",
       "      <td>2</td>\n",
       "      <td>2017-01-01</td>\n",
       "      <td>Argentina</td>\n",
       "      <td>Kaggle Learn</td>\n",
       "      <td>Using LLMs to Win Friends and Influence People</td>\n",
       "      <td>9</td>\n",
       "    </tr>\n",
       "    <tr>\n",
       "      <th>3</th>\n",
       "      <td>3</td>\n",
       "      <td>2017-01-01</td>\n",
       "      <td>Argentina</td>\n",
       "      <td>Kaggle Learn</td>\n",
       "      <td>Using LLMs to Win More Kaggle Competitions</td>\n",
       "      <td>59</td>\n",
       "    </tr>\n",
       "    <tr>\n",
       "      <th>4</th>\n",
       "      <td>4</td>\n",
       "      <td>2017-01-01</td>\n",
       "      <td>Argentina</td>\n",
       "      <td>Kaggle Learn</td>\n",
       "      <td>Using LLMs to Write Better</td>\n",
       "      <td>49</td>\n",
       "    </tr>\n",
       "    <tr>\n",
       "      <th>...</th>\n",
       "      <td>...</td>\n",
       "      <td>...</td>\n",
       "      <td>...</td>\n",
       "      <td>...</td>\n",
       "      <td>...</td>\n",
       "      <td>...</td>\n",
       "    </tr>\n",
       "    <tr>\n",
       "      <th>136945</th>\n",
       "      <td>136945</td>\n",
       "      <td>2021-12-31</td>\n",
       "      <td>Spain</td>\n",
       "      <td>Kagglazon</td>\n",
       "      <td>Using LLMs to Improve Your Coding</td>\n",
       "      <td>700</td>\n",
       "    </tr>\n",
       "    <tr>\n",
       "      <th>136946</th>\n",
       "      <td>136946</td>\n",
       "      <td>2021-12-31</td>\n",
       "      <td>Spain</td>\n",
       "      <td>Kagglazon</td>\n",
       "      <td>Using LLMs to Train More LLMs</td>\n",
       "      <td>752</td>\n",
       "    </tr>\n",
       "    <tr>\n",
       "      <th>136947</th>\n",
       "      <td>136947</td>\n",
       "      <td>2021-12-31</td>\n",
       "      <td>Spain</td>\n",
       "      <td>Kagglazon</td>\n",
       "      <td>Using LLMs to Win Friends and Influence People</td>\n",
       "      <td>111</td>\n",
       "    </tr>\n",
       "    <tr>\n",
       "      <th>136948</th>\n",
       "      <td>136948</td>\n",
       "      <td>2021-12-31</td>\n",
       "      <td>Spain</td>\n",
       "      <td>Kagglazon</td>\n",
       "      <td>Using LLMs to Win More Kaggle Competitions</td>\n",
       "      <td>641</td>\n",
       "    </tr>\n",
       "    <tr>\n",
       "      <th>136949</th>\n",
       "      <td>136949</td>\n",
       "      <td>2021-12-31</td>\n",
       "      <td>Spain</td>\n",
       "      <td>Kagglazon</td>\n",
       "      <td>Using LLMs to Write Better</td>\n",
       "      <td>539</td>\n",
       "    </tr>\n",
       "  </tbody>\n",
       "</table>\n",
       "<p>136950 rows × 6 columns</p>\n",
       "</div>"
      ],
      "text/plain": [
       "            id        date    country         store  \\\n",
       "0            0  2017-01-01  Argentina  Kaggle Learn   \n",
       "1            1  2017-01-01  Argentina  Kaggle Learn   \n",
       "2            2  2017-01-01  Argentina  Kaggle Learn   \n",
       "3            3  2017-01-01  Argentina  Kaggle Learn   \n",
       "4            4  2017-01-01  Argentina  Kaggle Learn   \n",
       "...        ...         ...        ...           ...   \n",
       "136945  136945  2021-12-31      Spain     Kagglazon   \n",
       "136946  136946  2021-12-31      Spain     Kagglazon   \n",
       "136947  136947  2021-12-31      Spain     Kagglazon   \n",
       "136948  136948  2021-12-31      Spain     Kagglazon   \n",
       "136949  136949  2021-12-31      Spain     Kagglazon   \n",
       "\n",
       "                                               product  num_sold  \n",
       "0                    Using LLMs to Improve Your Coding        63  \n",
       "1                        Using LLMs to Train More LLMs        66  \n",
       "2       Using LLMs to Win Friends and Influence People         9  \n",
       "3           Using LLMs to Win More Kaggle Competitions        59  \n",
       "4                           Using LLMs to Write Better        49  \n",
       "...                                                ...       ...  \n",
       "136945               Using LLMs to Improve Your Coding       700  \n",
       "136946                   Using LLMs to Train More LLMs       752  \n",
       "136947  Using LLMs to Win Friends and Influence People       111  \n",
       "136948      Using LLMs to Win More Kaggle Competitions       641  \n",
       "136949                      Using LLMs to Write Better       539  \n",
       "\n",
       "[136950 rows x 6 columns]"
      ]
     },
     "execution_count": 68,
     "metadata": {},
     "output_type": "execute_result"
    }
   ],
   "source": [
    "train"
   ]
  },
  {
   "cell_type": "markdown",
   "metadata": {},
   "source": [
    "# Preprocessing"
   ]
  },
  {
   "cell_type": "code",
   "execution_count": 69,
   "metadata": {
    "execution": {
     "iopub.execute_input": "2025-01-02T04:34:05.234313Z",
     "iopub.status.busy": "2025-01-02T04:34:05.234012Z",
     "iopub.status.idle": "2025-01-02T04:34:05.247599Z",
     "shell.execute_reply": "2025-01-02T04:34:05.246749Z",
     "shell.execute_reply.started": "2025-01-02T04:34:05.234291Z"
    }
   },
   "outputs": [],
   "source": [
    "def preprocessing_all(data):\n",
    "\n",
    "    # Creating variables for analysis\n",
    "    analysis = data.drop(columns='id')\n",
    "\n",
    "    # date column is separated for each element\n",
    "    # 시계열을 각각의 요소로 분해\n",
    "\n",
    "    analysis['date'] = pd.to_datetime(analysis['date'])\n",
    "    analysis['day'] = analysis['date'].dt.day\n",
    "    analysis['week'] = analysis['date'].dt.dayofweek\n",
    "    analysis['month'] = analysis['date'].dt.month\n",
    "    analysis['year'] = analysis['date'].dt.year\n",
    "    analysis['day_of_year'] = analysis['date'].dt.dayofyear\n",
    "    analysis['time_no'] = (\n",
    "        analysis['date'] - dt.datetime(2017, 1, 1)\n",
    "    ) // dt.timedelta(days=1)\n",
    "\n",
    "    analysis.loc[analysis['date'] > dt.datetime(2020, 2, 29), 'time_no'] -= 1\n",
    "    date_columns = ['date', 'day', 'week', 'month', 'year', 'time_no']\n",
    "\n",
    "    df = analysis.groupby(['date', 'country'], as_index=False).mean(numeric_only=True)\n",
    "    df_not_outlier = df.copy()\n",
    "    df_not_outlier = df_not_outlier.loc[df_not_outlier['month'].isin([1,2])]\n",
    "    df_not_outlier = df_not_outlier.loc[(df_not_outlier['month'] == 2) | (df_not_outlier['day'] >= 11)]\n",
    "    df_not_outlier = df_not_outlier.loc[(df_not_outlier['month'] == 1) | (df_not_outlier['day'] <= 14)]\n",
    "    change = df_not_outlier.groupby(['country', 'year'], as_index=False).mean()\n",
    "    change = change[['country', 'year', 'num_sold']]\n",
    "\n",
    "    for year in [2017,2018,2019,2020,2021]:\n",
    "        df = pd.merge(df, change.loc[change['year']==year].rename(columns={'num_sold':f'c{year}'}).drop(columns='year'),\n",
    "                  on=['country'])\n",
    "    df.loc[df['year'] == 2017, 'num_sold'] /= df['c2017']\n",
    "    df.loc[df['year'] == 2018, 'num_sold'] /= df['c2018']\n",
    "    df.loc[df['year'] == 2019, 'num_sold'] /= df['c2019']\n",
    "    df.loc[df['year'] == 2020, 'num_sold'] /= df['c2020']\n",
    "    df.loc[df['year'] <2021, 'num_sold'] *= df['c2021']\n",
    "\n",
    "    return analysis, df"
   ]
  },
  {
   "cell_type": "code",
   "execution_count": 96,
   "metadata": {
    "execution": {
     "iopub.execute_input": "2025-01-02T04:51:50.250151Z",
     "iopub.status.busy": "2025-01-02T04:51:50.249684Z",
     "iopub.status.idle": "2025-01-02T04:51:50.256793Z",
     "shell.execute_reply": "2025-01-02T04:51:50.255922Z",
     "shell.execute_reply.started": "2025-01-02T04:51:50.250114Z"
    }
   },
   "outputs": [],
   "source": [
    "def preprocessing_test(data):\n",
    "\n",
    "    # Creating variables for analysis\n",
    "    analysis = data.drop(columns='id')\n",
    "\n",
    "    # date column is separated for each element\n",
    "    # 시계열을 각각의 요소로 분해\n",
    "\n",
    "    analysis['date'] = pd.to_datetime(analysis['date'])\n",
    "    analysis['day'] = analysis['date'].dt.day\n",
    "    analysis['week'] = analysis['date'].dt.dayofweek\n",
    "    analysis['month'] = analysis['date'].dt.month\n",
    "    analysis['year'] = analysis['date'].dt.year\n",
    "    analysis['day_of_year'] = analysis['date'].dt.dayofyear\n",
    "    analysis['time_no'] = (\n",
    "        analysis['date'] - dt.datetime(2017, 1, 1)\n",
    "    ) // dt.timedelta(days=1)\n",
    "\n",
    "    analysis.loc[analysis['date'] > dt.datetime(2020, 2, 29), 'time_no'] -= 1\n",
    "\n",
    "    # Create an instance of LabelEncoder\n",
    "    le = LabelEncoder()\n",
    "    # Fit and transform the data\n",
    "\n",
    "    analysis['country'] = le.fit_transform(analysis['country'])\n",
    "    analysis['store'] = le.fit_transform(analysis['store'])\n",
    "    analysis['product'] = le.fit_transform(analysis['product'])\n",
    "\n",
    "    return analysis"
   ]
  },
  {
   "cell_type": "code",
   "execution_count": 70,
   "metadata": {
    "execution": {
     "iopub.execute_input": "2025-01-02T04:34:05.248871Z",
     "iopub.status.busy": "2025-01-02T04:34:05.248578Z",
     "iopub.status.idle": "2025-01-02T04:34:05.352061Z",
     "shell.execute_reply": "2025-01-02T04:34:05.351370Z",
     "shell.execute_reply.started": "2025-01-02T04:34:05.248842Z"
    }
   },
   "outputs": [],
   "source": [
    "analysis, df = preprocessing_all(train)"
   ]
  },
  {
   "cell_type": "markdown",
   "metadata": {},
   "source": [
    "# preprocess for LSTM\n"
   ]
  },
  {
   "cell_type": "code",
   "execution_count": 71,
   "metadata": {
    "execution": {
     "iopub.execute_input": "2025-01-02T04:34:05.353020Z",
     "iopub.status.busy": "2025-01-02T04:34:05.352793Z",
     "iopub.status.idle": "2025-01-02T04:34:05.385385Z",
     "shell.execute_reply": "2025-01-02T04:34:05.384736Z",
     "shell.execute_reply.started": "2025-01-02T04:34:05.352973Z"
    }
   },
   "outputs": [
    {
     "name": "stdout",
     "output_type": "stream",
     "text": [
      "Feature date is normaly distributed\n",
      "Normalitiy test p_value for featue -  date is 0.0\n",
      "Feature num_sold is normaly distributed\n",
      "Normalitiy test p_value for featue -  num_sold is 0.0\n",
      "Feature day is normaly distributed\n",
      "Normalitiy test p_value for featue -  day is 0.0\n",
      "Feature week is normaly distributed\n",
      "Normalitiy test p_value for featue -  week is 0.0\n",
      "Feature month is normaly distributed\n",
      "Normalitiy test p_value for featue -  month is 0.0\n",
      "Feature year is normaly distributed\n",
      "Normalitiy test p_value for featue -  year is 0.0\n",
      "Feature day_of_year is normaly distributed\n",
      "Normalitiy test p_value for featue -  day_of_year is 0.0\n",
      "Feature time_no is normaly distributed\n",
      "Normalitiy test p_value for featue -  time_no is 0.0\n"
     ]
    }
   ],
   "source": [
    "from scipy.stats import levene, shapiro\n",
    "int_cols=analysis.select_dtypes(exclude='object').columns.to_list()\n",
    "\n",
    "for i in int_cols:\n",
    "    _, p_value=shapiro(analysis[i])\n",
    "    if p_value<0.05:\n",
    "        print(\"Feature {} is normaly distributed\".format(i))\n",
    "    else:\n",
    "        print(\"Feature {} is not normaly distributed\".format(i))\n",
    "        \n",
    "    print(\"Normalitiy test p_value for featue -  {} is {}\".format(i,np.round(p_value,3)))"
   ]
  },
  {
   "cell_type": "code",
   "execution_count": 72,
   "metadata": {
    "execution": {
     "iopub.execute_input": "2025-01-02T04:34:05.387499Z",
     "iopub.status.busy": "2025-01-02T04:34:05.387276Z",
     "iopub.status.idle": "2025-01-02T04:34:05.413065Z",
     "shell.execute_reply": "2025-01-02T04:34:05.412315Z",
     "shell.execute_reply.started": "2025-01-02T04:34:05.387479Z"
    }
   },
   "outputs": [
    {
     "name": "stdout",
     "output_type": "stream",
     "text": [
      "<class 'pandas.core.frame.DataFrame'>\n",
      "RangeIndex: 136950 entries, 0 to 136949\n",
      "Data columns (total 11 columns):\n",
      " #   Column       Non-Null Count   Dtype         \n",
      "---  ------       --------------   -----         \n",
      " 0   date         136950 non-null  datetime64[ns]\n",
      " 1   country      136950 non-null  object        \n",
      " 2   store        136950 non-null  object        \n",
      " 3   product      136950 non-null  object        \n",
      " 4   num_sold     136950 non-null  int64         \n",
      " 5   day          136950 non-null  int32         \n",
      " 6   week         136950 non-null  int32         \n",
      " 7   month        136950 non-null  int32         \n",
      " 8   year         136950 non-null  int32         \n",
      " 9   day_of_year  136950 non-null  int32         \n",
      " 10  time_no      136950 non-null  int64         \n",
      "dtypes: datetime64[ns](1), int32(5), int64(2), object(3)\n",
      "memory usage: 8.9+ MB\n"
     ]
    }
   ],
   "source": [
    "analysis.info()"
   ]
  },
  {
   "cell_type": "code",
   "execution_count": 73,
   "metadata": {
    "execution": {
     "iopub.execute_input": "2025-01-02T04:34:05.414899Z",
     "iopub.status.busy": "2025-01-02T04:34:05.414593Z",
     "iopub.status.idle": "2025-01-02T04:34:05.427823Z",
     "shell.execute_reply": "2025-01-02T04:34:05.426938Z",
     "shell.execute_reply.started": "2025-01-02T04:34:05.414866Z"
    }
   },
   "outputs": [
    {
     "data": {
      "text/plain": [
       "<bound method DataFrame.info of            date    country    num_sold   day  week  month    year  \\\n",
       "0    2017-01-01  Argentina   98.917755   1.0   6.0    1.0  2017.0   \n",
       "1    2017-01-02  Argentina   73.143064   2.0   0.0    1.0  2017.0   \n",
       "2    2017-01-03  Argentina   71.224718   3.0   1.0    1.0  2017.0   \n",
       "3    2017-01-04  Argentina   66.748579   4.0   2.0    1.0  2017.0   \n",
       "4    2017-01-05  Argentina   64.731857   5.0   3.0    1.0  2017.0   \n",
       "...         ...        ...         ...   ...   ...    ...     ...   \n",
       "9125 2021-12-27      Spain  211.466667  27.0   0.0   12.0  2021.0   \n",
       "9126 2021-12-28      Spain  239.600000  28.0   1.0   12.0  2021.0   \n",
       "9127 2021-12-29      Spain  273.733333  29.0   2.0   12.0  2021.0   \n",
       "9128 2021-12-30      Spain  262.400000  30.0   3.0   12.0  2021.0   \n",
       "9129 2021-12-31      Spain  262.666667  31.0   4.0   12.0  2021.0   \n",
       "\n",
       "      day_of_year  time_no       c2017       c2018       c2019       c2020  \\\n",
       "0             1.0      0.0   79.750476   66.748571   55.561905   47.457143   \n",
       "1             2.0      1.0   79.750476   66.748571   55.561905   47.457143   \n",
       "2             3.0      2.0   79.750476   66.748571   55.561905   47.457143   \n",
       "3             4.0      3.0   79.750476   66.748571   55.561905   47.457143   \n",
       "4             5.0      4.0   79.750476   66.748571   55.561905   47.457143   \n",
       "...           ...      ...         ...         ...         ...         ...   \n",
       "9125        361.0   1820.0  155.017143  174.080000  167.678095  152.118095   \n",
       "9126        362.0   1821.0  155.017143  174.080000  167.678095  152.118095   \n",
       "9127        363.0   1822.0  155.017143  174.080000  167.678095  152.118095   \n",
       "9128        364.0   1823.0  155.017143  174.080000  167.678095  152.118095   \n",
       "9129        365.0   1824.0  155.017143  174.080000  167.678095  152.118095   \n",
       "\n",
       "           c2021  \n",
       "0      58.841905  \n",
       "1      58.841905  \n",
       "2      58.841905  \n",
       "3      58.841905  \n",
       "4      58.841905  \n",
       "...          ...  \n",
       "9125  168.552381  \n",
       "9126  168.552381  \n",
       "9127  168.552381  \n",
       "9128  168.552381  \n",
       "9129  168.552381  \n",
       "\n",
       "[9130 rows x 14 columns]>"
      ]
     },
     "execution_count": 73,
     "metadata": {},
     "output_type": "execute_result"
    }
   ],
   "source": [
    "df.info"
   ]
  },
  {
   "cell_type": "code",
   "execution_count": 74,
   "metadata": {
    "execution": {
     "iopub.execute_input": "2025-01-02T04:34:05.429174Z",
     "iopub.status.busy": "2025-01-02T04:34:05.428795Z",
     "iopub.status.idle": "2025-01-02T04:34:05.446678Z",
     "shell.execute_reply": "2025-01-02T04:34:05.446079Z",
     "shell.execute_reply.started": "2025-01-02T04:34:05.429135Z"
    }
   },
   "outputs": [
    {
     "name": "stdout",
     "output_type": "stream",
     "text": [
      "['country', 'store', 'product']\n",
      "['num_sold', 'day', 'week', 'month', 'year', 'day_of_year', 'time_no']\n"
     ]
    }
   ],
   "source": [
    "cat_cols = analysis.select_dtypes(exclude = np.number).columns.tolist()[1:]\n",
    "num_cols = analysis.select_dtypes(include = np.number).columns.tolist()\n",
    "\n",
    "print(cat_cols)\n",
    "print(num_cols)"
   ]
  },
  {
   "cell_type": "code",
   "execution_count": 75,
   "metadata": {
    "execution": {
     "iopub.execute_input": "2025-01-02T04:34:05.447824Z",
     "iopub.status.busy": "2025-01-02T04:34:05.447525Z",
     "iopub.status.idle": "2025-01-02T04:34:05.453358Z",
     "shell.execute_reply": "2025-01-02T04:34:05.452710Z",
     "shell.execute_reply.started": "2025-01-02T04:34:05.447797Z"
    }
   },
   "outputs": [
    {
     "name": "stdout",
     "output_type": "stream",
     "text": [
      "['country', 'store', 'product']\n",
      "['num_sold', 'day', 'week', 'month', 'year', 'day_of_year', 'time_no']\n"
     ]
    }
   ],
   "source": [
    "cat_cols_df = df.select_dtypes(exclude = np.number).columns.tolist()[1:]\n",
    "num_cols_df = df.select_dtypes(include = np.number).columns.tolist()\n",
    "\n",
    "print(cat_cols)\n",
    "print(num_cols)"
   ]
  },
  {
   "cell_type": "code",
   "execution_count": 76,
   "metadata": {
    "execution": {
     "iopub.execute_input": "2025-01-02T04:34:05.454403Z",
     "iopub.status.busy": "2025-01-02T04:34:05.454152Z",
     "iopub.status.idle": "2025-01-02T04:34:05.525176Z",
     "shell.execute_reply": "2025-01-02T04:34:05.524355Z",
     "shell.execute_reply.started": "2025-01-02T04:34:05.454383Z"
    }
   },
   "outputs": [
    {
     "data": {
      "text/html": [
       "<div>\n",
       "<style scoped>\n",
       "    .dataframe tbody tr th:only-of-type {\n",
       "        vertical-align: middle;\n",
       "    }\n",
       "\n",
       "    .dataframe tbody tr th {\n",
       "        vertical-align: top;\n",
       "    }\n",
       "\n",
       "    .dataframe thead th {\n",
       "        text-align: right;\n",
       "    }\n",
       "</style>\n",
       "<table border=\"1\" class=\"dataframe\">\n",
       "  <thead>\n",
       "    <tr style=\"text-align: right;\">\n",
       "      <th></th>\n",
       "      <th>date</th>\n",
       "      <th>country</th>\n",
       "      <th>store</th>\n",
       "      <th>product</th>\n",
       "      <th>num_sold</th>\n",
       "      <th>day</th>\n",
       "      <th>week</th>\n",
       "      <th>month</th>\n",
       "      <th>year</th>\n",
       "      <th>day_of_year</th>\n",
       "      <th>time_no</th>\n",
       "    </tr>\n",
       "  </thead>\n",
       "  <tbody>\n",
       "    <tr>\n",
       "      <th>0</th>\n",
       "      <td>2017-01-01</td>\n",
       "      <td>0</td>\n",
       "      <td>1</td>\n",
       "      <td>0</td>\n",
       "      <td>63</td>\n",
       "      <td>1</td>\n",
       "      <td>6</td>\n",
       "      <td>1</td>\n",
       "      <td>2017</td>\n",
       "      <td>1</td>\n",
       "      <td>0</td>\n",
       "    </tr>\n",
       "    <tr>\n",
       "      <th>1</th>\n",
       "      <td>2017-01-01</td>\n",
       "      <td>0</td>\n",
       "      <td>1</td>\n",
       "      <td>1</td>\n",
       "      <td>66</td>\n",
       "      <td>1</td>\n",
       "      <td>6</td>\n",
       "      <td>1</td>\n",
       "      <td>2017</td>\n",
       "      <td>1</td>\n",
       "      <td>0</td>\n",
       "    </tr>\n",
       "    <tr>\n",
       "      <th>2</th>\n",
       "      <td>2017-01-01</td>\n",
       "      <td>0</td>\n",
       "      <td>1</td>\n",
       "      <td>2</td>\n",
       "      <td>9</td>\n",
       "      <td>1</td>\n",
       "      <td>6</td>\n",
       "      <td>1</td>\n",
       "      <td>2017</td>\n",
       "      <td>1</td>\n",
       "      <td>0</td>\n",
       "    </tr>\n",
       "    <tr>\n",
       "      <th>3</th>\n",
       "      <td>2017-01-01</td>\n",
       "      <td>0</td>\n",
       "      <td>1</td>\n",
       "      <td>3</td>\n",
       "      <td>59</td>\n",
       "      <td>1</td>\n",
       "      <td>6</td>\n",
       "      <td>1</td>\n",
       "      <td>2017</td>\n",
       "      <td>1</td>\n",
       "      <td>0</td>\n",
       "    </tr>\n",
       "    <tr>\n",
       "      <th>4</th>\n",
       "      <td>2017-01-01</td>\n",
       "      <td>0</td>\n",
       "      <td>1</td>\n",
       "      <td>4</td>\n",
       "      <td>49</td>\n",
       "      <td>1</td>\n",
       "      <td>6</td>\n",
       "      <td>1</td>\n",
       "      <td>2017</td>\n",
       "      <td>1</td>\n",
       "      <td>0</td>\n",
       "    </tr>\n",
       "  </tbody>\n",
       "</table>\n",
       "</div>"
      ],
      "text/plain": [
       "        date  country  store  product  num_sold  day  week  month  year  \\\n",
       "0 2017-01-01        0      1        0        63    1     6      1  2017   \n",
       "1 2017-01-01        0      1        1        66    1     6      1  2017   \n",
       "2 2017-01-01        0      1        2         9    1     6      1  2017   \n",
       "3 2017-01-01        0      1        3        59    1     6      1  2017   \n",
       "4 2017-01-01        0      1        4        49    1     6      1  2017   \n",
       "\n",
       "   day_of_year  time_no  \n",
       "0            1        0  \n",
       "1            1        0  \n",
       "2            1        0  \n",
       "3            1        0  \n",
       "4            1        0  "
      ]
     },
     "execution_count": 76,
     "metadata": {},
     "output_type": "execute_result"
    }
   ],
   "source": [
    "from sklearn.preprocessing import LabelEncoder\n",
    "\n",
    "# Create an instance of LabelEncoder\n",
    "le = LabelEncoder()\n",
    "# Fit and transform the data\n",
    "\n",
    "analysis['country'] = le.fit_transform(analysis['country'])\n",
    "analysis['store'] = le.fit_transform(analysis['store'])\n",
    "analysis['product'] = le.fit_transform(analysis['product'])\n",
    "\n",
    "analysis.head()"
   ]
  },
  {
   "cell_type": "code",
   "execution_count": 77,
   "metadata": {
    "execution": {
     "iopub.execute_input": "2025-01-02T04:34:05.526298Z",
     "iopub.status.busy": "2025-01-02T04:34:05.526017Z",
     "iopub.status.idle": "2025-01-02T04:34:05.534195Z",
     "shell.execute_reply": "2025-01-02T04:34:05.533384Z",
     "shell.execute_reply.started": "2025-01-02T04:34:05.526269Z"
    }
   },
   "outputs": [],
   "source": [
    "y = analysis.pop('num_sold')\n",
    "X = analysis.drop('date', axis = 1)"
   ]
  },
  {
   "cell_type": "code",
   "execution_count": 78,
   "metadata": {
    "execution": {
     "iopub.execute_input": "2025-01-02T04:34:05.535118Z",
     "iopub.status.busy": "2025-01-02T04:34:05.534868Z",
     "iopub.status.idle": "2025-01-02T04:34:05.548139Z",
     "shell.execute_reply": "2025-01-02T04:34:05.547400Z",
     "shell.execute_reply.started": "2025-01-02T04:34:05.535089Z"
    }
   },
   "outputs": [
    {
     "data": {
      "text/plain": [
       "\"\\ny = df.pop('num_sold')\\nX = df.drop('date', axis = 1)\\n\""
      ]
     },
     "execution_count": 78,
     "metadata": {},
     "output_type": "execute_result"
    }
   ],
   "source": [
    "'''\n",
    "y = df.pop('num_sold')\n",
    "X = df.drop('date', axis = 1)\n",
    "'''"
   ]
  },
  {
   "cell_type": "code",
   "execution_count": 79,
   "metadata": {
    "execution": {
     "iopub.execute_input": "2025-01-02T04:34:05.549149Z",
     "iopub.status.busy": "2025-01-02T04:34:05.548837Z",
     "iopub.status.idle": "2025-01-02T04:34:05.570783Z",
     "shell.execute_reply": "2025-01-02T04:34:05.569783Z",
     "shell.execute_reply.started": "2025-01-02T04:34:05.549119Z"
    }
   },
   "outputs": [],
   "source": [
    "# But this is Time series, should we use other split method?\n",
    "\n",
    "from sklearn.model_selection import train_test_split\n",
    "\n",
    "X_train, X_test, y_train, y_test = train_test_split(\n",
    "    X, y, test_size = 0.2, shuffle = False, random_state = 42\n",
    ")"
   ]
  },
  {
   "cell_type": "markdown",
   "metadata": {},
   "source": [
    "# Autoencoder"
   ]
  },
  {
   "cell_type": "code",
   "execution_count": 80,
   "metadata": {
    "execution": {
     "iopub.execute_input": "2025-01-02T04:34:05.572167Z",
     "iopub.status.busy": "2025-01-02T04:34:05.571838Z",
     "iopub.status.idle": "2025-01-02T04:34:05.767908Z",
     "shell.execute_reply": "2025-01-02T04:34:05.767346Z",
     "shell.execute_reply.started": "2025-01-02T04:34:05.572143Z"
    }
   },
   "outputs": [
    {
     "data": {
      "text/html": [
       "<pre style=\"white-space:pre;overflow-x:auto;line-height:normal;font-family:Menlo,'DejaVu Sans Mono',consolas,'Courier New',monospace\"><span style=\"font-weight: bold\">Model: \"sequential_2\"</span>\n",
       "</pre>\n"
      ],
      "text/plain": [
       "\u001b[1mModel: \"sequential_2\"\u001b[0m\n"
      ]
     },
     "metadata": {},
     "output_type": "display_data"
    },
    {
     "data": {
      "text/html": [
       "<pre style=\"white-space:pre;overflow-x:auto;line-height:normal;font-family:Menlo,'DejaVu Sans Mono',consolas,'Courier New',monospace\">┏━━━━━━━━━━━━━━━━━━━━━━━━━━━━━━━━━━━━━━┳━━━━━━━━━━━━━━━━━━━━━━━━━━━━━┳━━━━━━━━━━━━━━━━━┓\n",
       "┃<span style=\"font-weight: bold\"> Layer (type)                         </span>┃<span style=\"font-weight: bold\"> Output Shape                </span>┃<span style=\"font-weight: bold\">         Param # </span>┃\n",
       "┡━━━━━━━━━━━━━━━━━━━━━━━━━━━━━━━━━━━━━━╇━━━━━━━━━━━━━━━━━━━━━━━━━━━━━╇━━━━━━━━━━━━━━━━━┩\n",
       "│ lstm_13 (<span style=\"color: #0087ff; text-decoration-color: #0087ff\">LSTM</span>)                       │ (<span style=\"color: #00d7ff; text-decoration-color: #00d7ff\">None</span>, <span style=\"color: #00af00; text-decoration-color: #00af00\">9</span>, <span style=\"color: #00af00; text-decoration-color: #00af00\">50</span>)               │          <span style=\"color: #00af00; text-decoration-color: #00af00\">10,400</span> │\n",
       "├──────────────────────────────────────┼─────────────────────────────┼─────────────────┤\n",
       "│ lstm_14 (<span style=\"color: #0087ff; text-decoration-color: #0087ff\">LSTM</span>)                       │ (<span style=\"color: #00d7ff; text-decoration-color: #00d7ff\">None</span>, <span style=\"color: #00af00; text-decoration-color: #00af00\">9</span>, <span style=\"color: #00af00; text-decoration-color: #00af00\">50</span>)               │          <span style=\"color: #00af00; text-decoration-color: #00af00\">20,200</span> │\n",
       "├──────────────────────────────────────┼─────────────────────────────┼─────────────────┤\n",
       "│ lstm_15 (<span style=\"color: #0087ff; text-decoration-color: #0087ff\">LSTM</span>)                       │ (<span style=\"color: #00d7ff; text-decoration-color: #00d7ff\">None</span>, <span style=\"color: #00af00; text-decoration-color: #00af00\">9</span>, <span style=\"color: #00af00; text-decoration-color: #00af00\">50</span>)               │          <span style=\"color: #00af00; text-decoration-color: #00af00\">20,200</span> │\n",
       "├──────────────────────────────────────┼─────────────────────────────┼─────────────────┤\n",
       "│ lstm_16 (<span style=\"color: #0087ff; text-decoration-color: #0087ff\">LSTM</span>)                       │ (<span style=\"color: #00d7ff; text-decoration-color: #00d7ff\">None</span>, <span style=\"color: #00af00; text-decoration-color: #00af00\">9</span>, <span style=\"color: #00af00; text-decoration-color: #00af00\">50</span>)               │          <span style=\"color: #00af00; text-decoration-color: #00af00\">20,200</span> │\n",
       "├──────────────────────────────────────┼─────────────────────────────┼─────────────────┤\n",
       "│ lstm_17 (<span style=\"color: #0087ff; text-decoration-color: #0087ff\">LSTM</span>)                       │ (<span style=\"color: #00d7ff; text-decoration-color: #00d7ff\">None</span>, <span style=\"color: #00af00; text-decoration-color: #00af00\">1</span>)                   │             <span style=\"color: #00af00; text-decoration-color: #00af00\">208</span> │\n",
       "├──────────────────────────────────────┼─────────────────────────────┼─────────────────┤\n",
       "│ repeat_vector_1 (<span style=\"color: #0087ff; text-decoration-color: #0087ff\">RepeatVector</span>)       │ (<span style=\"color: #00d7ff; text-decoration-color: #00d7ff\">None</span>, <span style=\"color: #00af00; text-decoration-color: #00af00\">9</span>, <span style=\"color: #00af00; text-decoration-color: #00af00\">1</span>)                │               <span style=\"color: #00af00; text-decoration-color: #00af00\">0</span> │\n",
       "├──────────────────────────────────────┼─────────────────────────────┼─────────────────┤\n",
       "│ lstm_18 (<span style=\"color: #0087ff; text-decoration-color: #0087ff\">LSTM</span>)                       │ (<span style=\"color: #00d7ff; text-decoration-color: #00d7ff\">None</span>, <span style=\"color: #00af00; text-decoration-color: #00af00\">9</span>, <span style=\"color: #00af00; text-decoration-color: #00af00\">50</span>)               │          <span style=\"color: #00af00; text-decoration-color: #00af00\">10,400</span> │\n",
       "├──────────────────────────────────────┼─────────────────────────────┼─────────────────┤\n",
       "│ lstm_19 (<span style=\"color: #0087ff; text-decoration-color: #0087ff\">LSTM</span>)                       │ (<span style=\"color: #00d7ff; text-decoration-color: #00d7ff\">None</span>, <span style=\"color: #00af00; text-decoration-color: #00af00\">9</span>, <span style=\"color: #00af00; text-decoration-color: #00af00\">50</span>)               │          <span style=\"color: #00af00; text-decoration-color: #00af00\">20,200</span> │\n",
       "├──────────────────────────────────────┼─────────────────────────────┼─────────────────┤\n",
       "│ lstm_20 (<span style=\"color: #0087ff; text-decoration-color: #0087ff\">LSTM</span>)                       │ (<span style=\"color: #00d7ff; text-decoration-color: #00d7ff\">None</span>, <span style=\"color: #00af00; text-decoration-color: #00af00\">9</span>, <span style=\"color: #00af00; text-decoration-color: #00af00\">50</span>)               │          <span style=\"color: #00af00; text-decoration-color: #00af00\">20,200</span> │\n",
       "├──────────────────────────────────────┼─────────────────────────────┼─────────────────┤\n",
       "│ lstm_21 (<span style=\"color: #0087ff; text-decoration-color: #0087ff\">LSTM</span>)                       │ (<span style=\"color: #00d7ff; text-decoration-color: #00d7ff\">None</span>, <span style=\"color: #00af00; text-decoration-color: #00af00\">9</span>, <span style=\"color: #00af00; text-decoration-color: #00af00\">50</span>)               │          <span style=\"color: #00af00; text-decoration-color: #00af00\">20,200</span> │\n",
       "├──────────────────────────────────────┼─────────────────────────────┼─────────────────┤\n",
       "│ time_distributed_1 (<span style=\"color: #0087ff; text-decoration-color: #0087ff\">TimeDistributed</span>) │ (<span style=\"color: #00d7ff; text-decoration-color: #00d7ff\">None</span>, <span style=\"color: #00af00; text-decoration-color: #00af00\">9</span>, <span style=\"color: #00af00; text-decoration-color: #00af00\">1</span>)                │              <span style=\"color: #00af00; text-decoration-color: #00af00\">51</span> │\n",
       "└──────────────────────────────────────┴─────────────────────────────┴─────────────────┘\n",
       "</pre>\n"
      ],
      "text/plain": [
       "┏━━━━━━━━━━━━━━━━━━━━━━━━━━━━━━━━━━━━━━┳━━━━━━━━━━━━━━━━━━━━━━━━━━━━━┳━━━━━━━━━━━━━━━━━┓\n",
       "┃\u001b[1m \u001b[0m\u001b[1mLayer (type)                        \u001b[0m\u001b[1m \u001b[0m┃\u001b[1m \u001b[0m\u001b[1mOutput Shape               \u001b[0m\u001b[1m \u001b[0m┃\u001b[1m \u001b[0m\u001b[1m        Param #\u001b[0m\u001b[1m \u001b[0m┃\n",
       "┡━━━━━━━━━━━━━━━━━━━━━━━━━━━━━━━━━━━━━━╇━━━━━━━━━━━━━━━━━━━━━━━━━━━━━╇━━━━━━━━━━━━━━━━━┩\n",
       "│ lstm_13 (\u001b[38;5;33mLSTM\u001b[0m)                       │ (\u001b[38;5;45mNone\u001b[0m, \u001b[38;5;34m9\u001b[0m, \u001b[38;5;34m50\u001b[0m)               │          \u001b[38;5;34m10,400\u001b[0m │\n",
       "├──────────────────────────────────────┼─────────────────────────────┼─────────────────┤\n",
       "│ lstm_14 (\u001b[38;5;33mLSTM\u001b[0m)                       │ (\u001b[38;5;45mNone\u001b[0m, \u001b[38;5;34m9\u001b[0m, \u001b[38;5;34m50\u001b[0m)               │          \u001b[38;5;34m20,200\u001b[0m │\n",
       "├──────────────────────────────────────┼─────────────────────────────┼─────────────────┤\n",
       "│ lstm_15 (\u001b[38;5;33mLSTM\u001b[0m)                       │ (\u001b[38;5;45mNone\u001b[0m, \u001b[38;5;34m9\u001b[0m, \u001b[38;5;34m50\u001b[0m)               │          \u001b[38;5;34m20,200\u001b[0m │\n",
       "├──────────────────────────────────────┼─────────────────────────────┼─────────────────┤\n",
       "│ lstm_16 (\u001b[38;5;33mLSTM\u001b[0m)                       │ (\u001b[38;5;45mNone\u001b[0m, \u001b[38;5;34m9\u001b[0m, \u001b[38;5;34m50\u001b[0m)               │          \u001b[38;5;34m20,200\u001b[0m │\n",
       "├──────────────────────────────────────┼─────────────────────────────┼─────────────────┤\n",
       "│ lstm_17 (\u001b[38;5;33mLSTM\u001b[0m)                       │ (\u001b[38;5;45mNone\u001b[0m, \u001b[38;5;34m1\u001b[0m)                   │             \u001b[38;5;34m208\u001b[0m │\n",
       "├──────────────────────────────────────┼─────────────────────────────┼─────────────────┤\n",
       "│ repeat_vector_1 (\u001b[38;5;33mRepeatVector\u001b[0m)       │ (\u001b[38;5;45mNone\u001b[0m, \u001b[38;5;34m9\u001b[0m, \u001b[38;5;34m1\u001b[0m)                │               \u001b[38;5;34m0\u001b[0m │\n",
       "├──────────────────────────────────────┼─────────────────────────────┼─────────────────┤\n",
       "│ lstm_18 (\u001b[38;5;33mLSTM\u001b[0m)                       │ (\u001b[38;5;45mNone\u001b[0m, \u001b[38;5;34m9\u001b[0m, \u001b[38;5;34m50\u001b[0m)               │          \u001b[38;5;34m10,400\u001b[0m │\n",
       "├──────────────────────────────────────┼─────────────────────────────┼─────────────────┤\n",
       "│ lstm_19 (\u001b[38;5;33mLSTM\u001b[0m)                       │ (\u001b[38;5;45mNone\u001b[0m, \u001b[38;5;34m9\u001b[0m, \u001b[38;5;34m50\u001b[0m)               │          \u001b[38;5;34m20,200\u001b[0m │\n",
       "├──────────────────────────────────────┼─────────────────────────────┼─────────────────┤\n",
       "│ lstm_20 (\u001b[38;5;33mLSTM\u001b[0m)                       │ (\u001b[38;5;45mNone\u001b[0m, \u001b[38;5;34m9\u001b[0m, \u001b[38;5;34m50\u001b[0m)               │          \u001b[38;5;34m20,200\u001b[0m │\n",
       "├──────────────────────────────────────┼─────────────────────────────┼─────────────────┤\n",
       "│ lstm_21 (\u001b[38;5;33mLSTM\u001b[0m)                       │ (\u001b[38;5;45mNone\u001b[0m, \u001b[38;5;34m9\u001b[0m, \u001b[38;5;34m50\u001b[0m)               │          \u001b[38;5;34m20,200\u001b[0m │\n",
       "├──────────────────────────────────────┼─────────────────────────────┼─────────────────┤\n",
       "│ time_distributed_1 (\u001b[38;5;33mTimeDistributed\u001b[0m) │ (\u001b[38;5;45mNone\u001b[0m, \u001b[38;5;34m9\u001b[0m, \u001b[38;5;34m1\u001b[0m)                │              \u001b[38;5;34m51\u001b[0m │\n",
       "└──────────────────────────────────────┴─────────────────────────────┴─────────────────┘\n"
      ]
     },
     "metadata": {},
     "output_type": "display_data"
    },
    {
     "data": {
      "text/html": [
       "<pre style=\"white-space:pre;overflow-x:auto;line-height:normal;font-family:Menlo,'DejaVu Sans Mono',consolas,'Courier New',monospace\"><span style=\"font-weight: bold\"> Total params: </span><span style=\"color: #00af00; text-decoration-color: #00af00\">142,259</span> (555.70 KB)\n",
       "</pre>\n"
      ],
      "text/plain": [
       "\u001b[1m Total params: \u001b[0m\u001b[38;5;34m142,259\u001b[0m (555.70 KB)\n"
      ]
     },
     "metadata": {},
     "output_type": "display_data"
    },
    {
     "data": {
      "text/html": [
       "<pre style=\"white-space:pre;overflow-x:auto;line-height:normal;font-family:Menlo,'DejaVu Sans Mono',consolas,'Courier New',monospace\"><span style=\"font-weight: bold\"> Trainable params: </span><span style=\"color: #00af00; text-decoration-color: #00af00\">142,259</span> (555.70 KB)\n",
       "</pre>\n"
      ],
      "text/plain": [
       "\u001b[1m Trainable params: \u001b[0m\u001b[38;5;34m142,259\u001b[0m (555.70 KB)\n"
      ]
     },
     "metadata": {},
     "output_type": "display_data"
    },
    {
     "data": {
      "text/html": [
       "<pre style=\"white-space:pre;overflow-x:auto;line-height:normal;font-family:Menlo,'DejaVu Sans Mono',consolas,'Courier New',monospace\"><span style=\"font-weight: bold\"> Non-trainable params: </span><span style=\"color: #00af00; text-decoration-color: #00af00\">0</span> (0.00 B)\n",
       "</pre>\n"
      ],
      "text/plain": [
       "\u001b[1m Non-trainable params: \u001b[0m\u001b[38;5;34m0\u001b[0m (0.00 B)\n"
      ]
     },
     "metadata": {},
     "output_type": "display_data"
    }
   ],
   "source": [
    "from tensorflow.keras.models import Sequential\n",
    "from tensorflow.keras.layers import Dense, LSTM, RepeatVector,TimeDistributed\n",
    "from tensorflow.keras import optimizers, Sequential, Model\n",
    "\n",
    "epochs = 10\n",
    "batch = 128\n",
    "lr = 0.0001\n",
    "\n",
    "encoder_decoder = Sequential()\n",
    "encoder_decoder.add(LSTM(50, activation='relu', input_shape=(X.shape[1], 1), return_sequences=True))\n",
    "#encoder_decoder.add(LSTM(50, activation='relu', return_sequences=True))\n",
    "encoder_decoder.add(LSTM(50, activation='relu', return_sequences=True))\n",
    "encoder_decoder.add(LSTM(50, activation='relu', return_sequences=True))\n",
    "encoder_decoder.add(LSTM(50, activation='relu', return_sequences=True))\n",
    "encoder_decoder.add(LSTM(1, activation='relu'))\n",
    "encoder_decoder.add(RepeatVector(X.shape[1]))\n",
    "encoder_decoder.add(LSTM(50, activation='relu', return_sequences=True))\n",
    "encoder_decoder.add(LSTM(50, activation='relu', return_sequences=True))\n",
    "encoder_decoder.add(LSTM(50, activation='relu', return_sequences=True))\n",
    "encoder_decoder.add(LSTM(50, activation='relu', return_sequences=True))\n",
    "encoder_decoder.add(TimeDistributed(Dense(1)))\n",
    "encoder_decoder.summary()\n",
    "\n",
    "adam = optimizers.Adam(lr)\n",
    "encoder_decoder.compile(loss='mse', optimizer=adam)\n"
   ]
  },
  {
   "cell_type": "code",
   "execution_count": 81,
   "metadata": {
    "execution": {
     "iopub.execute_input": "2025-01-02T04:34:05.768812Z",
     "iopub.status.busy": "2025-01-02T04:34:05.768593Z",
     "iopub.status.idle": "2025-01-02T04:35:52.966696Z",
     "shell.execute_reply": "2025-01-02T04:35:52.966073Z",
     "shell.execute_reply.started": "2025-01-02T04:34:05.768792Z"
    }
   },
   "outputs": [
    {
     "name": "stdout",
     "output_type": "stream",
     "text": [
      "Epoch 1/10\n",
      "\u001b[1m856/856\u001b[0m \u001b[32m━━━━━━━━━━━━━━━━━━━━\u001b[0m\u001b[37m\u001b[0m \u001b[1m25s\u001b[0m 15ms/step - loss: 340555.2812\n",
      "Epoch 2/10\n",
      "\u001b[1m856/856\u001b[0m \u001b[32m━━━━━━━━━━━━━━━━━━━━\u001b[0m\u001b[37m\u001b[0m \u001b[1m9s\u001b[0m 11ms/step - loss: 30079.1426\n",
      "Epoch 3/10\n",
      "\u001b[1m856/856\u001b[0m \u001b[32m━━━━━━━━━━━━━━━━━━━━\u001b[0m\u001b[37m\u001b[0m \u001b[1m9s\u001b[0m 11ms/step - loss: 2608.8599\n",
      "Epoch 4/10\n",
      "\u001b[1m856/856\u001b[0m \u001b[32m━━━━━━━━━━━━━━━━━━━━\u001b[0m\u001b[37m\u001b[0m \u001b[1m9s\u001b[0m 11ms/step - loss: 1777.7643\n",
      "Epoch 5/10\n",
      "\u001b[1m856/856\u001b[0m \u001b[32m━━━━━━━━━━━━━━━━━━━━\u001b[0m\u001b[37m\u001b[0m \u001b[1m9s\u001b[0m 11ms/step - loss: 1884.6766\n",
      "Epoch 6/10\n",
      "\u001b[1m856/856\u001b[0m \u001b[32m━━━━━━━━━━━━━━━━━━━━\u001b[0m\u001b[37m\u001b[0m \u001b[1m9s\u001b[0m 11ms/step - loss: 2200.1350\n",
      "Epoch 7/10\n",
      "\u001b[1m856/856\u001b[0m \u001b[32m━━━━━━━━━━━━━━━━━━━━\u001b[0m\u001b[37m\u001b[0m \u001b[1m9s\u001b[0m 11ms/step - loss: 1570.3966\n",
      "Epoch 8/10\n",
      "\u001b[1m856/856\u001b[0m \u001b[32m━━━━━━━━━━━━━━━━━━━━\u001b[0m\u001b[37m\u001b[0m \u001b[1m9s\u001b[0m 11ms/step - loss: 1552.8536\n",
      "Epoch 9/10\n",
      "\u001b[1m856/856\u001b[0m \u001b[32m━━━━━━━━━━━━━━━━━━━━\u001b[0m\u001b[37m\u001b[0m \u001b[1m9s\u001b[0m 11ms/step - loss: 323035.7188\n",
      "Epoch 10/10\n",
      "\u001b[1m856/856\u001b[0m \u001b[32m━━━━━━━━━━━━━━━━━━━━\u001b[0m\u001b[37m\u001b[0m \u001b[1m9s\u001b[0m 11ms/step - loss: 67040.8203\n"
     ]
    }
   ],
   "source": [
    "encoder_decoder_history = encoder_decoder.fit(X_train, X_train, \n",
    "                                              #validation_data=(X_test,y_test),\n",
    "                                              batch_size=batch, \n",
    "                                              epochs=epochs, \n",
    "                                              verbose=1)"
   ]
  },
  {
   "cell_type": "code",
   "execution_count": 82,
   "metadata": {
    "execution": {
     "iopub.execute_input": "2025-01-02T04:35:52.967866Z",
     "iopub.status.busy": "2025-01-02T04:35:52.967598Z",
     "iopub.status.idle": "2025-01-02T04:35:52.973165Z",
     "shell.execute_reply": "2025-01-02T04:35:52.972359Z",
     "shell.execute_reply.started": "2025-01-02T04:35:52.967843Z"
    }
   },
   "outputs": [],
   "source": [
    "encoder = Model(inputs=encoder_decoder.inputs, outputs=encoder_decoder.layers[4].output)"
   ]
  },
  {
   "cell_type": "code",
   "execution_count": 83,
   "metadata": {
    "execution": {
     "iopub.execute_input": "2025-01-02T04:35:52.974299Z",
     "iopub.status.busy": "2025-01-02T04:35:52.974014Z",
     "iopub.status.idle": "2025-01-02T04:36:08.949905Z",
     "shell.execute_reply": "2025-01-02T04:36:08.949163Z",
     "shell.execute_reply.started": "2025-01-02T04:35:52.974270Z"
    }
   },
   "outputs": [
    {
     "name": "stdout",
     "output_type": "stream",
     "text": [
      "\u001b[1m3424/3424\u001b[0m \u001b[32m━━━━━━━━━━━━━━━━━━━━\u001b[0m\u001b[37m\u001b[0m \u001b[1m11s\u001b[0m 3ms/step\n",
      "\u001b[1m856/856\u001b[0m \u001b[32m━━━━━━━━━━━━━━━━━━━━\u001b[0m\u001b[37m\u001b[0m \u001b[1m3s\u001b[0m 4ms/step\n",
      "Encoded time-series shape (109560, 1)\n"
     ]
    }
   ],
   "source": [
    "train_encoded = encoder.predict(X_train)\n",
    "test_encoded = encoder.predict(X_test)\n",
    "print('Encoded time-series shape', train_encoded.shape)"
   ]
  },
  {
   "cell_type": "code",
   "execution_count": 84,
   "metadata": {
    "execution": {
     "iopub.execute_input": "2025-01-02T04:36:08.952825Z",
     "iopub.status.busy": "2025-01-02T04:36:08.952600Z",
     "iopub.status.idle": "2025-01-02T04:36:08.957229Z",
     "shell.execute_reply": "2025-01-02T04:36:08.956558Z",
     "shell.execute_reply.started": "2025-01-02T04:36:08.952804Z"
    }
   },
   "outputs": [],
   "source": [
    "X_train['encoded'] = train_encoded\n",
    "\n",
    "X_test['encoded'] = test_encoded"
   ]
  },
  {
   "cell_type": "markdown",
   "metadata": {},
   "source": [
    "# LSTM - RNN"
   ]
  },
  {
   "cell_type": "code",
   "execution_count": 85,
   "metadata": {
    "execution": {
     "iopub.execute_input": "2025-01-02T04:36:08.958749Z",
     "iopub.status.busy": "2025-01-02T04:36:08.958497Z",
     "iopub.status.idle": "2025-01-02T04:36:09.085597Z",
     "shell.execute_reply": "2025-01-02T04:36:09.084926Z",
     "shell.execute_reply.started": "2025-01-02T04:36:08.958726Z"
    }
   },
   "outputs": [
    {
     "data": {
      "text/html": [
       "<pre style=\"white-space:pre;overflow-x:auto;line-height:normal;font-family:Menlo,'DejaVu Sans Mono',consolas,'Courier New',monospace\"><span style=\"font-weight: bold\">Model: \"sequential_3\"</span>\n",
       "</pre>\n"
      ],
      "text/plain": [
       "\u001b[1mModel: \"sequential_3\"\u001b[0m\n"
      ]
     },
     "metadata": {},
     "output_type": "display_data"
    },
    {
     "data": {
      "text/html": [
       "<pre style=\"white-space:pre;overflow-x:auto;line-height:normal;font-family:Menlo,'DejaVu Sans Mono',consolas,'Courier New',monospace\">┏━━━━━━━━━━━━━━━━━━━━━━━━━━━━━━━━━━━━━━┳━━━━━━━━━━━━━━━━━━━━━━━━━━━━━┳━━━━━━━━━━━━━━━━━┓\n",
       "┃<span style=\"font-weight: bold\"> Layer (type)                         </span>┃<span style=\"font-weight: bold\"> Output Shape                </span>┃<span style=\"font-weight: bold\">         Param # </span>┃\n",
       "┡━━━━━━━━━━━━━━━━━━━━━━━━━━━━━━━━━━━━━━╇━━━━━━━━━━━━━━━━━━━━━━━━━━━━━╇━━━━━━━━━━━━━━━━━┩\n",
       "│ lstm_22 (<span style=\"color: #0087ff; text-decoration-color: #0087ff\">LSTM</span>)                       │ (<span style=\"color: #00d7ff; text-decoration-color: #00d7ff\">None</span>, <span style=\"color: #00af00; text-decoration-color: #00af00\">10</span>, <span style=\"color: #00af00; text-decoration-color: #00af00\">50</span>)              │          <span style=\"color: #00af00; text-decoration-color: #00af00\">10,400</span> │\n",
       "├──────────────────────────────────────┼─────────────────────────────┼─────────────────┤\n",
       "│ dropout_4 (<span style=\"color: #0087ff; text-decoration-color: #0087ff\">Dropout</span>)                  │ (<span style=\"color: #00d7ff; text-decoration-color: #00d7ff\">None</span>, <span style=\"color: #00af00; text-decoration-color: #00af00\">10</span>, <span style=\"color: #00af00; text-decoration-color: #00af00\">50</span>)              │               <span style=\"color: #00af00; text-decoration-color: #00af00\">0</span> │\n",
       "├──────────────────────────────────────┼─────────────────────────────┼─────────────────┤\n",
       "│ lstm_23 (<span style=\"color: #0087ff; text-decoration-color: #0087ff\">LSTM</span>)                       │ (<span style=\"color: #00d7ff; text-decoration-color: #00d7ff\">None</span>, <span style=\"color: #00af00; text-decoration-color: #00af00\">10</span>, <span style=\"color: #00af00; text-decoration-color: #00af00\">50</span>)              │          <span style=\"color: #00af00; text-decoration-color: #00af00\">20,200</span> │\n",
       "├──────────────────────────────────────┼─────────────────────────────┼─────────────────┤\n",
       "│ dropout_5 (<span style=\"color: #0087ff; text-decoration-color: #0087ff\">Dropout</span>)                  │ (<span style=\"color: #00d7ff; text-decoration-color: #00d7ff\">None</span>, <span style=\"color: #00af00; text-decoration-color: #00af00\">10</span>, <span style=\"color: #00af00; text-decoration-color: #00af00\">50</span>)              │               <span style=\"color: #00af00; text-decoration-color: #00af00\">0</span> │\n",
       "├──────────────────────────────────────┼─────────────────────────────┼─────────────────┤\n",
       "│ lstm_24 (<span style=\"color: #0087ff; text-decoration-color: #0087ff\">LSTM</span>)                       │ (<span style=\"color: #00d7ff; text-decoration-color: #00d7ff\">None</span>, <span style=\"color: #00af00; text-decoration-color: #00af00\">10</span>, <span style=\"color: #00af00; text-decoration-color: #00af00\">50</span>)              │          <span style=\"color: #00af00; text-decoration-color: #00af00\">20,200</span> │\n",
       "├──────────────────────────────────────┼─────────────────────────────┼─────────────────┤\n",
       "│ dropout_6 (<span style=\"color: #0087ff; text-decoration-color: #0087ff\">Dropout</span>)                  │ (<span style=\"color: #00d7ff; text-decoration-color: #00d7ff\">None</span>, <span style=\"color: #00af00; text-decoration-color: #00af00\">10</span>, <span style=\"color: #00af00; text-decoration-color: #00af00\">50</span>)              │               <span style=\"color: #00af00; text-decoration-color: #00af00\">0</span> │\n",
       "├──────────────────────────────────────┼─────────────────────────────┼─────────────────┤\n",
       "│ lstm_25 (<span style=\"color: #0087ff; text-decoration-color: #0087ff\">LSTM</span>)                       │ (<span style=\"color: #00d7ff; text-decoration-color: #00d7ff\">None</span>, <span style=\"color: #00af00; text-decoration-color: #00af00\">50</span>)                  │          <span style=\"color: #00af00; text-decoration-color: #00af00\">20,200</span> │\n",
       "├──────────────────────────────────────┼─────────────────────────────┼─────────────────┤\n",
       "│ dropout_7 (<span style=\"color: #0087ff; text-decoration-color: #0087ff\">Dropout</span>)                  │ (<span style=\"color: #00d7ff; text-decoration-color: #00d7ff\">None</span>, <span style=\"color: #00af00; text-decoration-color: #00af00\">50</span>)                  │               <span style=\"color: #00af00; text-decoration-color: #00af00\">0</span> │\n",
       "├──────────────────────────────────────┼─────────────────────────────┼─────────────────┤\n",
       "│ dense_3 (<span style=\"color: #0087ff; text-decoration-color: #0087ff\">Dense</span>)                      │ (<span style=\"color: #00d7ff; text-decoration-color: #00d7ff\">None</span>, <span style=\"color: #00af00; text-decoration-color: #00af00\">1</span>)                   │              <span style=\"color: #00af00; text-decoration-color: #00af00\">51</span> │\n",
       "└──────────────────────────────────────┴─────────────────────────────┴─────────────────┘\n",
       "</pre>\n"
      ],
      "text/plain": [
       "┏━━━━━━━━━━━━━━━━━━━━━━━━━━━━━━━━━━━━━━┳━━━━━━━━━━━━━━━━━━━━━━━━━━━━━┳━━━━━━━━━━━━━━━━━┓\n",
       "┃\u001b[1m \u001b[0m\u001b[1mLayer (type)                        \u001b[0m\u001b[1m \u001b[0m┃\u001b[1m \u001b[0m\u001b[1mOutput Shape               \u001b[0m\u001b[1m \u001b[0m┃\u001b[1m \u001b[0m\u001b[1m        Param #\u001b[0m\u001b[1m \u001b[0m┃\n",
       "┡━━━━━━━━━━━━━━━━━━━━━━━━━━━━━━━━━━━━━━╇━━━━━━━━━━━━━━━━━━━━━━━━━━━━━╇━━━━━━━━━━━━━━━━━┩\n",
       "│ lstm_22 (\u001b[38;5;33mLSTM\u001b[0m)                       │ (\u001b[38;5;45mNone\u001b[0m, \u001b[38;5;34m10\u001b[0m, \u001b[38;5;34m50\u001b[0m)              │          \u001b[38;5;34m10,400\u001b[0m │\n",
       "├──────────────────────────────────────┼─────────────────────────────┼─────────────────┤\n",
       "│ dropout_4 (\u001b[38;5;33mDropout\u001b[0m)                  │ (\u001b[38;5;45mNone\u001b[0m, \u001b[38;5;34m10\u001b[0m, \u001b[38;5;34m50\u001b[0m)              │               \u001b[38;5;34m0\u001b[0m │\n",
       "├──────────────────────────────────────┼─────────────────────────────┼─────────────────┤\n",
       "│ lstm_23 (\u001b[38;5;33mLSTM\u001b[0m)                       │ (\u001b[38;5;45mNone\u001b[0m, \u001b[38;5;34m10\u001b[0m, \u001b[38;5;34m50\u001b[0m)              │          \u001b[38;5;34m20,200\u001b[0m │\n",
       "├──────────────────────────────────────┼─────────────────────────────┼─────────────────┤\n",
       "│ dropout_5 (\u001b[38;5;33mDropout\u001b[0m)                  │ (\u001b[38;5;45mNone\u001b[0m, \u001b[38;5;34m10\u001b[0m, \u001b[38;5;34m50\u001b[0m)              │               \u001b[38;5;34m0\u001b[0m │\n",
       "├──────────────────────────────────────┼─────────────────────────────┼─────────────────┤\n",
       "│ lstm_24 (\u001b[38;5;33mLSTM\u001b[0m)                       │ (\u001b[38;5;45mNone\u001b[0m, \u001b[38;5;34m10\u001b[0m, \u001b[38;5;34m50\u001b[0m)              │          \u001b[38;5;34m20,200\u001b[0m │\n",
       "├──────────────────────────────────────┼─────────────────────────────┼─────────────────┤\n",
       "│ dropout_6 (\u001b[38;5;33mDropout\u001b[0m)                  │ (\u001b[38;5;45mNone\u001b[0m, \u001b[38;5;34m10\u001b[0m, \u001b[38;5;34m50\u001b[0m)              │               \u001b[38;5;34m0\u001b[0m │\n",
       "├──────────────────────────────────────┼─────────────────────────────┼─────────────────┤\n",
       "│ lstm_25 (\u001b[38;5;33mLSTM\u001b[0m)                       │ (\u001b[38;5;45mNone\u001b[0m, \u001b[38;5;34m50\u001b[0m)                  │          \u001b[38;5;34m20,200\u001b[0m │\n",
       "├──────────────────────────────────────┼─────────────────────────────┼─────────────────┤\n",
       "│ dropout_7 (\u001b[38;5;33mDropout\u001b[0m)                  │ (\u001b[38;5;45mNone\u001b[0m, \u001b[38;5;34m50\u001b[0m)                  │               \u001b[38;5;34m0\u001b[0m │\n",
       "├──────────────────────────────────────┼─────────────────────────────┼─────────────────┤\n",
       "│ dense_3 (\u001b[38;5;33mDense\u001b[0m)                      │ (\u001b[38;5;45mNone\u001b[0m, \u001b[38;5;34m1\u001b[0m)                   │              \u001b[38;5;34m51\u001b[0m │\n",
       "└──────────────────────────────────────┴─────────────────────────────┴─────────────────┘\n"
      ]
     },
     "metadata": {},
     "output_type": "display_data"
    },
    {
     "data": {
      "text/html": [
       "<pre style=\"white-space:pre;overflow-x:auto;line-height:normal;font-family:Menlo,'DejaVu Sans Mono',consolas,'Courier New',monospace\"><span style=\"font-weight: bold\"> Total params: </span><span style=\"color: #00af00; text-decoration-color: #00af00\">71,051</span> (277.54 KB)\n",
       "</pre>\n"
      ],
      "text/plain": [
       "\u001b[1m Total params: \u001b[0m\u001b[38;5;34m71,051\u001b[0m (277.54 KB)\n"
      ]
     },
     "metadata": {},
     "output_type": "display_data"
    },
    {
     "data": {
      "text/html": [
       "<pre style=\"white-space:pre;overflow-x:auto;line-height:normal;font-family:Menlo,'DejaVu Sans Mono',consolas,'Courier New',monospace\"><span style=\"font-weight: bold\"> Trainable params: </span><span style=\"color: #00af00; text-decoration-color: #00af00\">71,051</span> (277.54 KB)\n",
       "</pre>\n"
      ],
      "text/plain": [
       "\u001b[1m Trainable params: \u001b[0m\u001b[38;5;34m71,051\u001b[0m (277.54 KB)\n"
      ]
     },
     "metadata": {},
     "output_type": "display_data"
    },
    {
     "data": {
      "text/html": [
       "<pre style=\"white-space:pre;overflow-x:auto;line-height:normal;font-family:Menlo,'DejaVu Sans Mono',consolas,'Courier New',monospace\"><span style=\"font-weight: bold\"> Non-trainable params: </span><span style=\"color: #00af00; text-decoration-color: #00af00\">0</span> (0.00 B)\n",
       "</pre>\n"
      ],
      "text/plain": [
       "\u001b[1m Non-trainable params: \u001b[0m\u001b[38;5;34m0\u001b[0m (0.00 B)\n"
      ]
     },
     "metadata": {},
     "output_type": "display_data"
    }
   ],
   "source": [
    "from tensorflow.keras.models import Sequential\n",
    "from tensorflow.keras.layers import Dense, LSTM, Dropout\n",
    "\n",
    "model = Sequential()\n",
    "\n",
    "#Adding the first LSTM layer and some Dropout regularisation\n",
    "model.add(LSTM(units = 50, return_sequences = True, input_shape = (X_train.shape[1], 1)))\n",
    "model.add(Dropout(0.2))\n",
    "\n",
    "# Adding a second LSTM layer and some Dropout regularisation\n",
    "model.add(LSTM(units = 50, return_sequences = True))\n",
    "model.add(Dropout(0.2))\n",
    "\n",
    "# Adding a third LSTM layer and some Dropout regularisation\n",
    "model.add(LSTM(units = 50, return_sequences = True))\n",
    "model.add(Dropout(0.2))\n",
    "\n",
    "# Adding a fourth LSTM layer and some Dropout regularisation\n",
    "model.add(LSTM(units = 50))\n",
    "model.add(Dropout(0.2))\n",
    "\n",
    "# Adding the output layer\n",
    "model.add(Dense(units = 1))\n",
    "model.summary()\n"
   ]
  },
  {
   "cell_type": "code",
   "execution_count": 86,
   "metadata": {
    "execution": {
     "iopub.execute_input": "2025-01-02T04:36:09.086569Z",
     "iopub.status.busy": "2025-01-02T04:36:09.086349Z",
     "iopub.status.idle": "2025-01-02T04:46:05.338284Z",
     "shell.execute_reply": "2025-01-02T04:46:05.337539Z",
     "shell.execute_reply.started": "2025-01-02T04:36:09.086549Z"
    }
   },
   "outputs": [
    {
     "name": "stdout",
     "output_type": "stream",
     "text": [
      "Epoch 1/20\n",
      "\u001b[1m3424/3424\u001b[0m \u001b[32m━━━━━━━━━━━━━━━━━━━━\u001b[0m\u001b[37m\u001b[0m \u001b[1m33s\u001b[0m 9ms/step - loss: 46167.9609 - val_loss: 41415.9414\n",
      "Epoch 2/20\n",
      "\u001b[1m3424/3424\u001b[0m \u001b[32m━━━━━━━━━━━━━━━━━━━━\u001b[0m\u001b[37m\u001b[0m \u001b[1m29s\u001b[0m 9ms/step - loss: 32858.5312 - val_loss: 37004.1992\n",
      "Epoch 3/20\n",
      "\u001b[1m3424/3424\u001b[0m \u001b[32m━━━━━━━━━━━━━━━━━━━━\u001b[0m\u001b[37m\u001b[0m \u001b[1m29s\u001b[0m 9ms/step - loss: 29400.5469 - val_loss: 35762.9258\n",
      "Epoch 4/20\n",
      "\u001b[1m3424/3424\u001b[0m \u001b[32m━━━━━━━━━━━━━━━━━━━━\u001b[0m\u001b[37m\u001b[0m \u001b[1m30s\u001b[0m 9ms/step - loss: 29242.4043 - val_loss: 35633.7734\n",
      "Epoch 5/20\n",
      "\u001b[1m3424/3424\u001b[0m \u001b[32m━━━━━━━━━━━━━━━━━━━━\u001b[0m\u001b[37m\u001b[0m \u001b[1m30s\u001b[0m 9ms/step - loss: 29141.8711 - val_loss: 35659.0039\n",
      "Epoch 6/20\n",
      "\u001b[1m3424/3424\u001b[0m \u001b[32m━━━━━━━━━━━━━━━━━━━━\u001b[0m\u001b[37m\u001b[0m \u001b[1m30s\u001b[0m 9ms/step - loss: 29339.5293 - val_loss: 35699.3008\n",
      "Epoch 7/20\n",
      "\u001b[1m3424/3424\u001b[0m \u001b[32m━━━━━━━━━━━━━━━━━━━━\u001b[0m\u001b[37m\u001b[0m \u001b[1m30s\u001b[0m 9ms/step - loss: 29075.0098 - val_loss: 29207.3320\n",
      "Epoch 8/20\n",
      "\u001b[1m3424/3424\u001b[0m \u001b[32m━━━━━━━━━━━━━━━━━━━━\u001b[0m\u001b[37m\u001b[0m \u001b[1m30s\u001b[0m 9ms/step - loss: 19079.2598 - val_loss: 18141.9824\n",
      "Epoch 9/20\n",
      "\u001b[1m3424/3424\u001b[0m \u001b[32m━━━━━━━━━━━━━━━━━━━━\u001b[0m\u001b[37m\u001b[0m \u001b[1m30s\u001b[0m 9ms/step - loss: 13505.6123 - val_loss: 15349.2305\n",
      "Epoch 10/20\n",
      "\u001b[1m3424/3424\u001b[0m \u001b[32m━━━━━━━━━━━━━━━━━━━━\u001b[0m\u001b[37m\u001b[0m \u001b[1m30s\u001b[0m 9ms/step - loss: 11685.7646 - val_loss: 7617.2217\n",
      "Epoch 11/20\n",
      "\u001b[1m3424/3424\u001b[0m \u001b[32m━━━━━━━━━━━━━━━━━━━━\u001b[0m\u001b[37m\u001b[0m \u001b[1m30s\u001b[0m 9ms/step - loss: 4398.0962 - val_loss: 6080.0483\n",
      "Epoch 12/20\n",
      "\u001b[1m3424/3424\u001b[0m \u001b[32m━━━━━━━━━━━━━━━━━━━━\u001b[0m\u001b[37m\u001b[0m \u001b[1m30s\u001b[0m 9ms/step - loss: 3110.6487 - val_loss: 3345.3391\n",
      "Epoch 13/20\n",
      "\u001b[1m3424/3424\u001b[0m \u001b[32m━━━━━━━━━━━━━━━━━━━━\u001b[0m\u001b[37m\u001b[0m \u001b[1m30s\u001b[0m 9ms/step - loss: 1866.1835 - val_loss: 2370.5752\n",
      "Epoch 14/20\n",
      "\u001b[1m3424/3424\u001b[0m \u001b[32m━━━━━━━━━━━━━━━━━━━━\u001b[0m\u001b[37m\u001b[0m \u001b[1m30s\u001b[0m 9ms/step - loss: 1627.9915 - val_loss: 2125.0022\n",
      "Epoch 15/20\n",
      "\u001b[1m3424/3424\u001b[0m \u001b[32m━━━━━━━━━━━━━━━━━━━━\u001b[0m\u001b[37m\u001b[0m \u001b[1m30s\u001b[0m 9ms/step - loss: 1509.2295 - val_loss: 2013.5610\n",
      "Epoch 16/20\n",
      "\u001b[1m3424/3424\u001b[0m \u001b[32m━━━━━━━━━━━━━━━━━━━━\u001b[0m\u001b[37m\u001b[0m \u001b[1m30s\u001b[0m 9ms/step - loss: 1336.9617 - val_loss: 1857.4674\n",
      "Epoch 17/20\n",
      "\u001b[1m3424/3424\u001b[0m \u001b[32m━━━━━━━━━━━━━━━━━━━━\u001b[0m\u001b[37m\u001b[0m \u001b[1m30s\u001b[0m 9ms/step - loss: 1290.2555 - val_loss: 1786.6920\n",
      "Epoch 18/20\n",
      "\u001b[1m3424/3424\u001b[0m \u001b[32m━━━━━━━━━━━━━━━━━━━━\u001b[0m\u001b[37m\u001b[0m \u001b[1m30s\u001b[0m 9ms/step - loss: 1200.7594 - val_loss: 2235.3518\n",
      "Epoch 19/20\n",
      "\u001b[1m3424/3424\u001b[0m \u001b[32m━━━━━━━━━━━━━━━━━━━━\u001b[0m\u001b[37m\u001b[0m \u001b[1m30s\u001b[0m 9ms/step - loss: 1189.6115 - val_loss: 1726.7266\n",
      "Epoch 20/20\n",
      "\u001b[1m3424/3424\u001b[0m \u001b[32m━━━━━━━━━━━━━━━━━━━━\u001b[0m\u001b[37m\u001b[0m \u001b[1m30s\u001b[0m 9ms/step - loss: 1171.0620 - val_loss: 1546.2358\n"
     ]
    },
    {
     "data": {
      "text/plain": [
       "<keras.src.callbacks.history.History at 0x7daad87c7520>"
      ]
     },
     "execution_count": 86,
     "metadata": {},
     "output_type": "execute_result"
    }
   ],
   "source": [
    "# Compiling the RNN\n",
    "model.compile(optimizer = 'adam', loss = 'mean_squared_error')\n",
    "\n",
    "# Fitting the RNN to the Training set\n",
    "model.fit(X_train, y_train, validation_data=(X_test,y_test),epochs = 20, batch_size = 32)"
   ]
  },
  {
   "cell_type": "markdown",
   "metadata": {},
   "source": [
    "# Res"
   ]
  },
  {
   "cell_type": "code",
   "execution_count": 87,
   "metadata": {
    "execution": {
     "iopub.execute_input": "2025-01-02T04:46:05.339274Z",
     "iopub.status.busy": "2025-01-02T04:46:05.339034Z",
     "iopub.status.idle": "2025-01-02T04:46:05.643240Z",
     "shell.execute_reply": "2025-01-02T04:46:05.642368Z",
     "shell.execute_reply.started": "2025-01-02T04:46:05.339255Z"
    }
   },
   "outputs": [
    {
     "data": {
      "text/plain": [
       "[<matplotlib.lines.Line2D at 0x7dab24977490>,\n",
       " <matplotlib.lines.Line2D at 0x7dab24977550>]"
      ]
     },
     "execution_count": 87,
     "metadata": {},
     "output_type": "execute_result"
    },
    {
     "data": {
      "image/png": "[encoded data removed]",
      "text/plain": [
       "<Figure size 1500x800 with 1 Axes>"
      ]
     },
     "metadata": {},
     "output_type": "display_data"
    }
   ],
   "source": [
    "loss = pd.DataFrame(model.history.history)\n",
    "fig=plt.figure(figsize=(15,8))\n",
    "plt.title(\"Validation loss Vs Trainiinverse_transformss\", size=20, weight='bold')\n",
    "plt.plot(loss)"
   ]
  },
  {
   "cell_type": "markdown",
   "metadata": {},
   "source": [
    "# Predict"
   ]
  },
  {
   "cell_type": "code",
   "execution_count": 89,
   "metadata": {
    "execution": {
     "iopub.execute_input": "2025-01-02T04:47:47.452608Z",
     "iopub.status.busy": "2025-01-02T04:47:47.452299Z",
     "iopub.status.idle": "2025-01-02T04:47:47.465290Z",
     "shell.execute_reply": "2025-01-02T04:47:47.464363Z",
     "shell.execute_reply.started": "2025-01-02T04:47:47.452581Z"
    }
   },
   "outputs": [
    {
     "data": {
      "text/html": [
       "<div>\n",
       "<style scoped>\n",
       "    .dataframe tbody tr th:only-of-type {\n",
       "        vertical-align: middle;\n",
       "    }\n",
       "\n",
       "    .dataframe tbody tr th {\n",
       "        vertical-align: top;\n",
       "    }\n",
       "\n",
       "    .dataframe thead th {\n",
       "        text-align: right;\n",
       "    }\n",
       "</style>\n",
       "<table border=\"1\" class=\"dataframe\">\n",
       "  <thead>\n",
       "    <tr style=\"text-align: right;\">\n",
       "      <th></th>\n",
       "      <th>id</th>\n",
       "      <th>date</th>\n",
       "      <th>country</th>\n",
       "      <th>store</th>\n",
       "      <th>product</th>\n",
       "    </tr>\n",
       "  </thead>\n",
       "  <tbody>\n",
       "    <tr>\n",
       "      <th>0</th>\n",
       "      <td>136950</td>\n",
       "      <td>2022-01-01</td>\n",
       "      <td>Argentina</td>\n",
       "      <td>Kaggle Learn</td>\n",
       "      <td>Using LLMs to Improve Your Coding</td>\n",
       "    </tr>\n",
       "    <tr>\n",
       "      <th>1</th>\n",
       "      <td>136951</td>\n",
       "      <td>2022-01-01</td>\n",
       "      <td>Argentina</td>\n",
       "      <td>Kaggle Learn</td>\n",
       "      <td>Using LLMs to Train More LLMs</td>\n",
       "    </tr>\n",
       "    <tr>\n",
       "      <th>2</th>\n",
       "      <td>136952</td>\n",
       "      <td>2022-01-01</td>\n",
       "      <td>Argentina</td>\n",
       "      <td>Kaggle Learn</td>\n",
       "      <td>Using LLMs to Win Friends and Influence People</td>\n",
       "    </tr>\n",
       "    <tr>\n",
       "      <th>3</th>\n",
       "      <td>136953</td>\n",
       "      <td>2022-01-01</td>\n",
       "      <td>Argentina</td>\n",
       "      <td>Kaggle Learn</td>\n",
       "      <td>Using LLMs to Win More Kaggle Competitions</td>\n",
       "    </tr>\n",
       "    <tr>\n",
       "      <th>4</th>\n",
       "      <td>136954</td>\n",
       "      <td>2022-01-01</td>\n",
       "      <td>Argentina</td>\n",
       "      <td>Kaggle Learn</td>\n",
       "      <td>Using LLMs to Write Better</td>\n",
       "    </tr>\n",
       "    <tr>\n",
       "      <th>...</th>\n",
       "      <td>...</td>\n",
       "      <td>...</td>\n",
       "      <td>...</td>\n",
       "      <td>...</td>\n",
       "      <td>...</td>\n",
       "    </tr>\n",
       "    <tr>\n",
       "      <th>27370</th>\n",
       "      <td>164320</td>\n",
       "      <td>2022-12-31</td>\n",
       "      <td>Spain</td>\n",
       "      <td>Kagglazon</td>\n",
       "      <td>Using LLMs to Improve Your Coding</td>\n",
       "    </tr>\n",
       "    <tr>\n",
       "      <th>27371</th>\n",
       "      <td>164321</td>\n",
       "      <td>2022-12-31</td>\n",
       "      <td>Spain</td>\n",
       "      <td>Kagglazon</td>\n",
       "      <td>Using LLMs to Train More LLMs</td>\n",
       "    </tr>\n",
       "    <tr>\n",
       "      <th>27372</th>\n",
       "      <td>164322</td>\n",
       "      <td>2022-12-31</td>\n",
       "      <td>Spain</td>\n",
       "      <td>Kagglazon</td>\n",
       "      <td>Using LLMs to Win Friends and Influence People</td>\n",
       "    </tr>\n",
       "    <tr>\n",
       "      <th>27373</th>\n",
       "      <td>164323</td>\n",
       "      <td>2022-12-31</td>\n",
       "      <td>Spain</td>\n",
       "      <td>Kagglazon</td>\n",
       "      <td>Using LLMs to Win More Kaggle Competitions</td>\n",
       "    </tr>\n",
       "    <tr>\n",
       "      <th>27374</th>\n",
       "      <td>164324</td>\n",
       "      <td>2022-12-31</td>\n",
       "      <td>Spain</td>\n",
       "      <td>Kagglazon</td>\n",
       "      <td>Using LLMs to Write Better</td>\n",
       "    </tr>\n",
       "  </tbody>\n",
       "</table>\n",
       "<p>27375 rows × 5 columns</p>\n",
       "</div>"
      ],
      "text/plain": [
       "           id        date    country         store  \\\n",
       "0      136950  2022-01-01  Argentina  Kaggle Learn   \n",
       "1      136951  2022-01-01  Argentina  Kaggle Learn   \n",
       "2      136952  2022-01-01  Argentina  Kaggle Learn   \n",
       "3      136953  2022-01-01  Argentina  Kaggle Learn   \n",
       "4      136954  2022-01-01  Argentina  Kaggle Learn   \n",
       "...       ...         ...        ...           ...   \n",
       "27370  164320  2022-12-31      Spain     Kagglazon   \n",
       "27371  164321  2022-12-31      Spain     Kagglazon   \n",
       "27372  164322  2022-12-31      Spain     Kagglazon   \n",
       "27373  164323  2022-12-31      Spain     Kagglazon   \n",
       "27374  164324  2022-12-31      Spain     Kagglazon   \n",
       "\n",
       "                                              product  \n",
       "0                   Using LLMs to Improve Your Coding  \n",
       "1                       Using LLMs to Train More LLMs  \n",
       "2      Using LLMs to Win Friends and Influence People  \n",
       "3          Using LLMs to Win More Kaggle Competitions  \n",
       "4                          Using LLMs to Write Better  \n",
       "...                                               ...  \n",
       "27370               Using LLMs to Improve Your Coding  \n",
       "27371                   Using LLMs to Train More LLMs  \n",
       "27372  Using LLMs to Win Friends and Influence People  \n",
       "27373      Using LLMs to Win More Kaggle Competitions  \n",
       "27374                      Using LLMs to Write Better  \n",
       "\n",
       "[27375 rows x 5 columns]"
      ]
     },
     "execution_count": 89,
     "metadata": {},
     "output_type": "execute_result"
    }
   ],
   "source": [
    "test"
   ]
  },
  {
   "cell_type": "code",
   "execution_count": 99,
   "metadata": {
    "execution": {
     "iopub.execute_input": "2025-01-02T04:52:33.791208Z",
     "iopub.status.busy": "2025-01-02T04:52:33.790857Z",
     "iopub.status.idle": "2025-01-02T04:52:33.847781Z",
     "shell.execute_reply": "2025-01-02T04:52:33.847140Z",
     "shell.execute_reply.started": "2025-01-02T04:52:33.791169Z"
    }
   },
   "outputs": [],
   "source": [
    "sub = pd.read_csv('/kaggle/input/playground-series-s3e19/sample_submission.csv')\n",
    "test = pd.read_csv('../input/playground-series-s3e19/test.csv')\n",
    "\n",
    "sub_analysis = preprocessing_test(test)\n",
    "sub_analysis.head(3)"
   ]
  },
  {
   "cell_type": "code",
   "execution_count": 101,
   "metadata": {
    "execution": {
     "iopub.execute_input": "2025-01-02T04:52:40.614155Z",
     "iopub.status.busy": "2025-01-02T04:52:40.613804Z",
     "iopub.status.idle": "2025-01-02T04:52:44.167045Z",
     "shell.execute_reply": "2025-01-02T04:52:44.166087Z",
     "shell.execute_reply.started": "2025-01-02T04:52:40.614125Z"
    }
   },
   "outputs": [
    {
     "name": "stdout",
     "output_type": "stream",
     "text": [
      "\u001b[1m856/856\u001b[0m \u001b[32m━━━━━━━━━━━━━━━━━━━━\u001b[0m\u001b[37m\u001b[0m \u001b[1m3s\u001b[0m 4ms/step\n"
     ]
    }
   ],
   "source": [
    "Xtest = sub_analysis.drop('date', axis = 1)\n",
    "testencoded = encoder.predict(Xtest)\n",
    "\n",
    "Xtest['encoded'] = testencoded"
   ]
  },
  {
   "cell_type": "code",
   "execution_count": 102,
   "metadata": {
    "execution": {
     "iopub.execute_input": "2025-01-02T04:52:46.028366Z",
     "iopub.status.busy": "2025-01-02T04:52:46.028081Z",
     "iopub.status.idle": "2025-01-02T04:52:48.944632Z",
     "shell.execute_reply": "2025-01-02T04:52:48.943936Z",
     "shell.execute_reply.started": "2025-01-02T04:52:46.028344Z"
    }
   },
   "outputs": [
    {
     "name": "stdout",
     "output_type": "stream",
     "text": [
      "\u001b[1m856/856\u001b[0m \u001b[32m━━━━━━━━━━━━━━━━━━━━\u001b[0m\u001b[37m\u001b[0m \u001b[1m3s\u001b[0m 3ms/step\n"
     ]
    }
   ],
   "source": [
    "pred=model.predict(Xtest)"
   ]
  },
  {
   "cell_type": "code",
   "execution_count": 110,
   "metadata": {
    "execution": {
     "iopub.execute_input": "2025-01-02T04:57:05.209082Z",
     "iopub.status.busy": "2025-01-02T04:57:05.208753Z",
     "iopub.status.idle": "2025-01-02T04:57:05.218829Z",
     "shell.execute_reply": "2025-01-02T04:57:05.217973Z",
     "shell.execute_reply.started": "2025-01-02T04:57:05.209052Z"
    }
   },
   "outputs": [
    {
     "data": {
      "text/html": [
       "<div>\n",
       "<style scoped>\n",
       "    .dataframe tbody tr th:only-of-type {\n",
       "        vertical-align: middle;\n",
       "    }\n",
       "\n",
       "    .dataframe tbody tr th {\n",
       "        vertical-align: top;\n",
       "    }\n",
       "\n",
       "    .dataframe thead th {\n",
       "        text-align: right;\n",
       "    }\n",
       "</style>\n",
       "<table border=\"1\" class=\"dataframe\">\n",
       "  <thead>\n",
       "    <tr style=\"text-align: right;\">\n",
       "      <th></th>\n",
       "      <th>id</th>\n",
       "      <th>num_sold</th>\n",
       "    </tr>\n",
       "  </thead>\n",
       "  <tbody>\n",
       "    <tr>\n",
       "      <th>0</th>\n",
       "      <td>136950</td>\n",
       "      <td>28.241453</td>\n",
       "    </tr>\n",
       "    <tr>\n",
       "      <th>1</th>\n",
       "      <td>136951</td>\n",
       "      <td>28.642128</td>\n",
       "    </tr>\n",
       "    <tr>\n",
       "      <th>2</th>\n",
       "      <td>136952</td>\n",
       "      <td>26.451246</td>\n",
       "    </tr>\n",
       "    <tr>\n",
       "      <th>3</th>\n",
       "      <td>136953</td>\n",
       "      <td>9.474547</td>\n",
       "    </tr>\n",
       "    <tr>\n",
       "      <th>4</th>\n",
       "      <td>136954</td>\n",
       "      <td>8.824790</td>\n",
       "    </tr>\n",
       "    <tr>\n",
       "      <th>...</th>\n",
       "      <td>...</td>\n",
       "      <td>...</td>\n",
       "    </tr>\n",
       "    <tr>\n",
       "      <th>27370</th>\n",
       "      <td>164320</td>\n",
       "      <td>567.173157</td>\n",
       "    </tr>\n",
       "    <tr>\n",
       "      <th>27371</th>\n",
       "      <td>164321</td>\n",
       "      <td>579.997131</td>\n",
       "    </tr>\n",
       "    <tr>\n",
       "      <th>27372</th>\n",
       "      <td>164322</td>\n",
       "      <td>78.257225</td>\n",
       "    </tr>\n",
       "    <tr>\n",
       "      <th>27373</th>\n",
       "      <td>164323</td>\n",
       "      <td>545.314697</td>\n",
       "    </tr>\n",
       "    <tr>\n",
       "      <th>27374</th>\n",
       "      <td>164324</td>\n",
       "      <td>512.268738</td>\n",
       "    </tr>\n",
       "  </tbody>\n",
       "</table>\n",
       "<p>27375 rows × 2 columns</p>\n",
       "</div>"
      ],
      "text/plain": [
       "           id    num_sold\n",
       "0      136950   28.241453\n",
       "1      136951   28.642128\n",
       "2      136952   26.451246\n",
       "3      136953    9.474547\n",
       "4      136954    8.824790\n",
       "...       ...         ...\n",
       "27370  164320  567.173157\n",
       "27371  164321  579.997131\n",
       "27372  164322   78.257225\n",
       "27373  164323  545.314697\n",
       "27374  164324  512.268738\n",
       "\n",
       "[27375 rows x 2 columns]"
      ]
     },
     "execution_count": 110,
     "metadata": {},
     "output_type": "execute_result"
    }
   ],
   "source": [
    "sub"
   ]
  },
  {
   "cell_type": "code",
   "execution_count": 103,
   "metadata": {
    "execution": {
     "iopub.execute_input": "2025-01-02T04:52:50.138182Z",
     "iopub.status.busy": "2025-01-02T04:52:50.137854Z",
     "iopub.status.idle": "2025-01-02T04:52:50.180917Z",
     "shell.execute_reply": "2025-01-02T04:52:50.180062Z",
     "shell.execute_reply.started": "2025-01-02T04:52:50.138155Z"
    }
   },
   "outputs": [],
   "source": [
    "sub['num_sold']=pred\n",
    "sub = sub.rename(columns={'Unnamed: 0': 'id'})\n",
    "sub.to_csv('submission.csv',index=False)"
   ]
  },
  {
   "cell_type": "code",
   "execution_count": 111,
   "metadata": {
    "execution": {
     "iopub.execute_input": "2025-01-02T04:57:12.983277Z",
     "iopub.status.busy": "2025-01-02T04:57:12.982896Z",
     "iopub.status.idle": "2025-01-02T04:57:12.990900Z",
     "shell.execute_reply": "2025-01-02T04:57:12.990184Z",
     "shell.execute_reply.started": "2025-01-02T04:57:12.983244Z"
    }
   },
   "outputs": [
    {
     "data": {
      "text/html": [
       "<div>\n",
       "<style scoped>\n",
       "    .dataframe tbody tr th:only-of-type {\n",
       "        vertical-align: middle;\n",
       "    }\n",
       "\n",
       "    .dataframe tbody tr th {\n",
       "        vertical-align: top;\n",
       "    }\n",
       "\n",
       "    .dataframe thead th {\n",
       "        text-align: right;\n",
       "    }\n",
       "</style>\n",
       "<table border=\"1\" class=\"dataframe\">\n",
       "  <thead>\n",
       "    <tr style=\"text-align: right;\">\n",
       "      <th></th>\n",
       "      <th>id</th>\n",
       "      <th>num_sold</th>\n",
       "    </tr>\n",
       "  </thead>\n",
       "  <tbody>\n",
       "    <tr>\n",
       "      <th>0</th>\n",
       "      <td>136950</td>\n",
       "      <td>28.241453</td>\n",
       "    </tr>\n",
       "    <tr>\n",
       "      <th>1</th>\n",
       "      <td>136951</td>\n",
       "      <td>28.642128</td>\n",
       "    </tr>\n",
       "    <tr>\n",
       "      <th>2</th>\n",
       "      <td>136952</td>\n",
       "      <td>26.451246</td>\n",
       "    </tr>\n",
       "    <tr>\n",
       "      <th>3</th>\n",
       "      <td>136953</td>\n",
       "      <td>9.474547</td>\n",
       "    </tr>\n",
       "    <tr>\n",
       "      <th>4</th>\n",
       "      <td>136954</td>\n",
       "      <td>8.824790</td>\n",
       "    </tr>\n",
       "  </tbody>\n",
       "</table>\n",
       "</div>"
      ],
      "text/plain": [
       "       id   num_sold\n",
       "0  136950  28.241453\n",
       "1  136951  28.642128\n",
       "2  136952  26.451246\n",
       "3  136953   9.474547\n",
       "4  136954   8.824790"
      ]
     },
     "execution_count": 111,
     "metadata": {},
     "output_type": "execute_result"
    }
   ],
   "source": [
    "sub.head()"
   ]
  },
  {
   "cell_type": "code",
   "execution_count": 112,
   "metadata": {
    "execution": {
     "iopub.execute_input": "2025-01-02T04:57:21.443481Z",
     "iopub.status.busy": "2025-01-02T04:57:21.443164Z",
     "iopub.status.idle": "2025-01-02T04:57:21.617979Z",
     "shell.execute_reply": "2025-01-02T04:57:21.617252Z",
     "shell.execute_reply.started": "2025-01-02T04:57:21.443453Z"
    }
   },
   "outputs": [
    {
     "data": {
      "text/plain": [
       "<Axes: >"
      ]
     },
     "execution_count": 112,
     "metadata": {},
     "output_type": "execute_result"
    },
    {
     "data": {
      "image/png": "[encoded data removed]",
      "text/plain": [
       "<Figure size 640x480 with 1 Axes>"
      ]
     },
     "metadata": {},
     "output_type": "display_data"
    }
   ],
   "source": [
    "sub['num_sold'].hist()"
   ]
  }
 ],
 "metadata": {
  "kaggle": {
   "accelerator": "nvidiaTeslaT4",
   "dataSources": [
    {
     "databundleVersionId": 6197974,
     "sourceId": 57094,
     "sourceType": "competition"
    }
   ],
   "dockerImageVersionId": 30822,
   "isGpuEnabled": true,
   "isInternetEnabled": true,
   "language": "python",
   "sourceType": "notebook"
  },
  "kernelspec": {
   "display_name": "Python 3 (ipykernel)",
   "language": "python",
   "name": "python3"
  },
  "language_info": {
   "codemirror_mode": {
    "name": "ipython",
    "version": 3
   },
   "file_extension": ".py",
   "mimetype": "text/x-python",
   "name": "python",
   "nbconvert_exporter": "python",
   "pygments_lexer": "ipython3",
   "version": "3.12.7"
  }
 },
 "nbformat": 4,
 "nbformat_minor": 4
}
