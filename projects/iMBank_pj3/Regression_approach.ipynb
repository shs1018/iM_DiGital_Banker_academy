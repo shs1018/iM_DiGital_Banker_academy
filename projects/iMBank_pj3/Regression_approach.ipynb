{
 "cells": [
  {
   "cell_type": "code",
   "execution_count": 1,
   "metadata": {},
   "outputs": [],
   "source": [
    "import pandas as pd\n",
    "import numpy as np\n",
    "import seaborn as sns\n",
    "import matplotlib.pyplot as plt\n",
    "import polars as pl"
   ]
  },
  {
   "cell_type": "markdown",
   "metadata": {},
   "source": [
    "# Prob 1 -> Data is Too Big\n",
    "- need sampled data\n",
    "- but which sampling way should we use?\n",
    "- 'OOM' error occupied frequnetly"
   ]
  },
  {
   "cell_type": "markdown",
   "metadata": {},
   "source": [
    "# Prob 2 -> We didn't preprocess the data, and Now we have to.\n",
    "- got to do build model and preprocess the data, same time\n",
    "    - make added features\n",
    "    - handle nulls and NaNs via dendrogram group means or whatever\n",
    "    - Use PCA or T-sne to clearfy the group and make data USABLE"
   ]
  },
  {
   "cell_type": "markdown",
   "metadata": {},
   "source": [
    "## AutoGluon Tabular Results\n",
    "- LightGBM is the best model\n",
    "- But it looks like due to the OOM error. LightGBM is best algorithm to handle memory"
   ]
  },
  {
   "cell_type": "markdown",
   "metadata": {},
   "source": [
    "# Regression basic setting\n",
    "- Target is 'responder_6'\n",
    "- Use GBDT models first (LightGBM, XGBoost, CatBoost, Enssemble, ETC...)"
   ]
  },
  {
   "cell_type": "code",
   "execution_count": null,
   "metadata": {},
   "outputs": [],
   "source": []
  }
 ],
 "metadata": {
  "kernelspec": {
   "display_name": "venv",
   "language": "python",
   "name": "python3"
  },
  "language_info": {
   "codemirror_mode": {
    "name": "ipython",
    "version": 3
   },
   "file_extension": ".py",
   "mimetype": "text/x-python",
   "name": "python",
   "nbconvert_exporter": "python",
   "pygments_lexer": "ipython3",
   "version": "3.12.7"
  }
 },
 "nbformat": 4,
 "nbformat_minor": 2
}
