{
 "cells": [
  {
   "cell_type": "markdown",
   "id": "17904671",
   "metadata": {
    "papermill": {
     "duration": 0.005114,
     "end_time": "2025-01-03T04:49:58.965695",
     "exception": false,
     "start_time": "2025-01-03T04:49:58.960581",
     "status": "completed"
    },
    "tags": []
   },
   "source": [
    "# Libraries"
   ]
  },
  {
   "cell_type": "code",
   "execution_count": 1,
   "id": "6d4806d8",
   "metadata": {
    "execution": {
     "iopub.execute_input": "2025-01-03T04:49:58.976728Z",
     "iopub.status.busy": "2025-01-03T04:49:58.975813Z",
     "iopub.status.idle": "2025-01-03T04:50:01.343798Z",
     "shell.execute_reply": "2025-01-03T04:50:01.342898Z"
    },
    "papermill": {
     "duration": 2.375976,
     "end_time": "2025-01-03T04:50:01.346040",
     "exception": false,
     "start_time": "2025-01-03T04:49:58.970064",
     "status": "completed"
    },
    "tags": []
   },
   "outputs": [],
   "source": [
    "import pandas as pd\n",
    "import polars as pl\n",
    "import numpy as np\n",
    "import gc\n",
    "from matplotlib import pyplot as plt\n",
    "import matplotlib.cm as cm\n",
    "from sklearn.model_selection import StratifiedGroupKFold"
   ]
  },
  {
   "cell_type": "markdown",
   "id": "88b88cb5",
   "metadata": {
    "papermill": {
     "duration": 0.004026,
     "end_time": "2025-01-03T04:50:01.354659",
     "exception": false,
     "start_time": "2025-01-03T04:50:01.350633",
     "status": "completed"
    },
    "tags": []
   },
   "source": [
    "# Configurations"
   ]
  },
  {
   "cell_type": "code",
   "execution_count": 2,
   "id": "1a2190ae",
   "metadata": {
    "execution": {
     "iopub.execute_input": "2025-01-03T04:50:01.365030Z",
     "iopub.status.busy": "2025-01-03T04:50:01.364187Z",
     "iopub.status.idle": "2025-01-03T04:50:01.370250Z",
     "shell.execute_reply": "2025-01-03T04:50:01.369229Z"
    },
    "papermill": {
     "duration": 0.01343,
     "end_time": "2025-01-03T04:50:01.372311",
     "exception": false,
     "start_time": "2025-01-03T04:50:01.358881",
     "status": "completed"
    },
    "tags": []
   },
   "outputs": [],
   "source": [
    "class CONFIG:\n",
    "    target_col = \"responder_6\"\n",
    "    lag_cols_original = [\"date_id\", \"symbol_id\"] + [f\"responder_{idx}\" for idx in range(9)]\n",
    "    lag_cols_rename = { f\"responder_{idx}\" : f\"responder_{idx}_lag_1\" for idx in range(9)}\n",
    "    valid_ratio = 0.05\n",
    "    start_dt = 1100\n",
    "    chg_date_1 = 484\n",
    "    chg_date_2 = 677\n",
    "    chg_date_3 = 1360"
   ]
  },
  {
   "cell_type": "code",
   "execution_count": 3,
   "id": "fbf8b621",
   "metadata": {
    "execution": {
     "iopub.execute_input": "2025-01-03T04:50:01.382822Z",
     "iopub.status.busy": "2025-01-03T04:50:01.382205Z",
     "iopub.status.idle": "2025-01-03T04:50:01.400405Z",
     "shell.execute_reply": "2025-01-03T04:50:01.399471Z"
    },
    "papermill": {
     "duration": 0.025686,
     "end_time": "2025-01-03T04:50:01.402430",
     "exception": false,
     "start_time": "2025-01-03T04:50:01.376744",
     "status": "completed"
    },
    "tags": []
   },
   "outputs": [],
   "source": [
    "means = {'feature_00': 0.640198826789856, 'feature_01': 0.03755598142743111, 'feature_02': 0.6368075609207153, 'feature_03': 0.6365063786506653, 'feature_04': 0.013741530478000641, 'feature_05': -0.02173694409430027, 'feature_06': -0.006415014620870352, 'feature_07': -0.010971736162900925, 'feature_08': -0.04653771221637726, 'feature_09': 32.596106194690265, 'feature_10': 4.95929203539823, 'feature_11': 167.6541592920354, 'feature_12': -0.13415881991386414, 'feature_13': -0.07573335617780685, 'feature_14': -0.12015637010335922, 'feature_15': -0.7470195889472961, 'feature_16': -0.6257441639900208, 'feature_17': -0.7294047474861145, 'feature_18': -0.042215555906295776, 'feature_19': -0.08798160403966904, 'feature_20': -0.15741558372974396, 'feature_21': 0.10528526455163956, 'feature_22': 0.018054703250527382, 'feature_23': 0.03165541961789131, 'feature_24': 2.733017921447754, 'feature_25': 0.39958420395851135, 'feature_26': -0.11045943945646286, 'feature_27': -0.5332594513893127, 'feature_28': -0.4522790312767029, 'feature_29': -0.5739678144454956, 'feature_30': -0.7905704975128174, 'feature_31': 0.10600688308477402, 'feature_32': 0.40044134855270386, 'feature_33': -0.021725023165345192, 'feature_34': 0.4226262867450714, 'feature_35': 0.42143046855926514, 'feature_36': -0.00023802756913937628, 'feature_37': 0.027961043640971184, 'feature_38': 0.010258913040161133, 'feature_39': 0.005768273025751114, 'feature_40': 0.017485467717051506, 'feature_41': 0.038347117602825165, 'feature_42': -0.06123563274741173, 'feature_43': -0.11644423753023148, 'feature_44': -0.12342483550310135, 'feature_45': -0.028769943863153458, 'feature_46': -0.015200662426650524, 'feature_47': 0.015717582777142525, 'feature_48': -0.0033910537604242563, 'feature_49': -0.0052393232472240925, 'feature_50': -0.2285808026790619, 'feature_51': -0.3548349440097809, 'feature_52': -0.358092725276947, 'feature_53': 0.2607136368751526, 'feature_54': 0.18796788156032562, 'feature_55': 0.3154229521751404, 'feature_56': -0.1471923440694809, 'feature_57': 0.15730056166648865, 'feature_58': -0.021774644032120705, 'feature_59': -0.0037768862675875425, 'feature_60': -0.010220836848020554, 'feature_61': -0.03178725391626358, 'feature_62': -0.3769100308418274, 'feature_63': -0.3229374587535858, 'feature_64': -0.3718394339084625, 'feature_65': -0.10233989357948303, 'feature_66': -0.13688170909881592, 'feature_67': -0.14402112364768982, 'feature_68': -0.06875362992286682, 'feature_69': -0.11862917989492416, 'feature_70': -0.11789549142122269, 'feature_71': -0.06013699993491173, 'feature_72': -0.10766122490167618, 'feature_73': -0.09921672940254211, 'feature_74': -0.10233042389154434, 'feature_75': -0.05991339311003685, 'feature_76': -0.06349952518939972, 'feature_77': -0.07424316555261612, 'feature_78': -0.07759837061166763}\n",
    "stds = {'feature_00': 1.027751088142395, 'feature_01': 1.0967519283294678, 'feature_02': 1.0156300067901611, 'feature_03': 1.0170334577560425, 'feature_04': 1.0726385116577148, 'feature_05': 0.9639211297035217, 'feature_06': 1.0963259935379028, 'feature_07': 1.0789952278137207, 'feature_08': 0.7962697148323059, 'feature_09': 23.72976726545254, 'feature_10': 3.1867162933797224, 'feature_11': 163.44513161352285, 'feature_12': 0.6700984835624695, 'feature_13': 0.5805172920227051, 'feature_14': 0.664044201374054, 'feature_15': 0.37517768144607544, 'feature_16': 0.3393096327781677, 'feature_17': 0.3603287935256958, 'feature_18': 0.9911752939224243, 'feature_19': 1.0550744533538818, 'feature_20': 0.6643751263618469, 'feature_21': 0.38239365816116333, 'feature_22': 0.950261116027832, 'feature_23': 0.8119344711303711, 'feature_24': 1.4362775087356567, 'feature_25': 1.0947270393371582, 'feature_26': 1.077124834060669, 'feature_27': 1.0645726919174194, 'feature_28': 1.0676648616790771, 'feature_29': 0.2640742361545563, 'feature_30': 0.19689509272575378, 'feature_31': 0.3815343976020813, 'feature_32': 1.2996565103530884, 'feature_33': 0.9989405870437622, 'feature_34': 1.3409572839736938, 'feature_35': 1.3365675210952759, 'feature_36': 0.8695492148399353, 'feature_37': 0.7334080934524536, 'feature_38': 0.698810338973999, 'feature_39': 0.7965824604034424, 'feature_40': 0.518515944480896, 'feature_41': 0.6384949088096619, 'feature_42': 0.8168442249298096, 'feature_43': 0.5228385925292969, 'feature_44': 0.6521403193473816, 'feature_45': 0.8666537404060364, 'feature_46': 0.9039222002029419, 'feature_47': 3.2711963653564453, 'feature_48': 0.6570901274681091, 'feature_49': 0.7083076238632202, 'feature_50': 1.0132617950439453, 'feature_51': 0.6081287860870361, 'feature_52': 0.9250587224960327, 'feature_53': 1.0421689748764038, 'feature_54': 0.5859629511833191, 'feature_55': 0.9191848039627075, 'feature_56': 0.9549097418785095, 'feature_57': 1.0204777717590332, 'feature_58': 0.8327276110649109, 'feature_59': 0.8309783339500427, 'feature_60': 0.8389413356781006, 'feature_61': 1.192766547203064, 'feature_62': 1.388945460319519, 'feature_63': 0.09957146644592285, 'feature_64': 0.3396177291870117, 'feature_65': 1.01683509349823, 'feature_66': 1.0824761390686035, 'feature_67': 0.642227828502655, 'feature_68': 0.5312599539756775, 'feature_69': 0.6208390593528748, 'feature_70': 0.6724499464035034, 'feature_71': 0.5356909036636353, 'feature_72': 0.6534596681594849, 'feature_73': 1.0855497121810913, 'feature_74': 1.0880277156829834, 'feature_75': 1.2321789264678955, 'feature_76': 1.2345560789108276, 'feature_77': 1.0921478271484375, 'feature_78': 1.0924347639083862}\n",
    "\n",
    "def normalize_dataframe(df: pl.DataFrame, means: dict, stds: dict) -> pl.DataFrame:\n",
    "    # 폴라 데이터프레임을 평균과 표준편차로 정규화\n",
    "    normalize_exprs = []\n",
    "\n",
    "    for col in df.columns:\n",
    "        if col in means and col in stds: # 정규화 되어야 하는 열만 존재하도록\n",
    "            if stds[col] != 0: # 0인 차원 적용 X\n",
    "                # 정규화 하되 이름은 유지하도록\n",
    "                normalize_exprs.append(\n",
    "                    ((pl.col(col) - means[col]) / stds[col]).alias(col)\n",
    "                )\n",
    "            else:\n",
    "                normalize_exprs.append(pl.col(col) - means[col]).alias(col)\n",
    "\n",
    "    normalized_df = df.select(normalize_exprs) # 정규화된 데이터프레임 생성\n",
    "    return normalized_df"
   ]
  },
  {
   "cell_type": "markdown",
   "id": "90e3ea7f",
   "metadata": {
    "papermill": {
     "duration": 0.003955,
     "end_time": "2025-01-03T04:50:01.410796",
     "exception": false,
     "start_time": "2025-01-03T04:50:01.406841",
     "status": "completed"
    },
    "tags": []
   },
   "source": [
    "# Load training data & select"
   ]
  },
  {
   "cell_type": "code",
   "execution_count": 4,
   "id": "bea7256f",
   "metadata": {
    "execution": {
     "iopub.execute_input": "2025-01-03T04:50:01.422194Z",
     "iopub.status.busy": "2025-01-03T04:50:01.421350Z",
     "iopub.status.idle": "2025-01-03T04:50:01.452026Z",
     "shell.execute_reply": "2025-01-03T04:50:01.451148Z"
    },
    "papermill": {
     "duration": 0.038437,
     "end_time": "2025-01-03T04:50:01.454213",
     "exception": false,
     "start_time": "2025-01-03T04:50:01.415776",
     "status": "completed"
    },
    "tags": []
   },
   "outputs": [],
   "source": [
    "# Use last 2 parquets\n",
    "\n",
    "train = pl.scan_parquet(\n",
    "    f\"/kaggle/input/jane-street-real-time-market-data-forecasting/train.parquet\"\n",
    ").select(\n",
    "    pl.int_range(pl.len(), dtype=pl.UInt32).alias(\"id\"),\n",
    "    pl.all(),\n",
    ").with_columns(\n",
    "    (pl.col(CONFIG.target_col)*2).cast(pl.Int32).alias(\"label\"),\n",
    ").filter(\n",
    "    (pl.col(\"date_id\") >= CONFIG.chg_date_1 - 50) & (pl.col(\"date_id\") <= CONFIG.chg_date_1 + 50)\n",
    "    | (pl.col(\"date_id\") >= CONFIG.chg_date_2 - 50) & (pl.col(\"date_id\") <= CONFIG.chg_date_2 + 50)\n",
    "    | (pl.col(\"date_id\") >= CONFIG.chg_date_3) # 데이터를 초반 두 번의 변화 두 번 전후 50일씩, 그리고 마지막 2 parquet을 가져옴.\n",
    ").fill_null(\n",
    "    strategy=\"forward\"\n",
    ").fill_null(\n",
    "    value=0\n",
    ")"
   ]
  },
  {
   "cell_type": "code",
   "execution_count": 5,
   "id": "bfe8b8e2",
   "metadata": {
    "execution": {
     "iopub.execute_input": "2025-01-03T04:50:01.464160Z",
     "iopub.status.busy": "2025-01-03T04:50:01.463843Z",
     "iopub.status.idle": "2025-01-03T04:50:01.566595Z",
     "shell.execute_reply": "2025-01-03T04:50:01.565596Z"
    },
    "papermill": {
     "duration": 0.110375,
     "end_time": "2025-01-03T04:50:01.568948",
     "exception": false,
     "start_time": "2025-01-03T04:50:01.458573",
     "status": "completed"
    },
    "tags": []
   },
   "outputs": [],
   "source": [
    "col_names = train.collect_schema().names()\n",
    "\n",
    "# col_names를 사용하여 이후 처리\n",
    "normalize_exprs = []\n",
    "for col in col_names:\n",
    "    if col in means and col in stds:\n",
    "        if stds[col] != 0:\n",
    "            normalize_exprs.append(\n",
    "                ((pl.col(col) - means[col]) / stds[col]).alias(col)\n",
    "            )\n",
    "        else:\n",
    "            normalize_exprs.append((pl.col(col) - means[col]).alias(col))\n",
    "\n",
    "# LazyFrame에 정규화 적용\n",
    "train = train.with_columns(normalize_exprs)"
   ]
  },
  {
   "cell_type": "code",
   "execution_count": 6,
   "id": "4e78741f",
   "metadata": {
    "execution": {
     "iopub.execute_input": "2025-01-03T04:50:01.579417Z",
     "iopub.status.busy": "2025-01-03T04:50:01.578704Z",
     "iopub.status.idle": "2025-01-03T04:51:06.430255Z",
     "shell.execute_reply": "2025-01-03T04:51:06.428836Z"
    },
    "papermill": {
     "duration": 64.864404,
     "end_time": "2025-01-03T04:51:06.437781",
     "exception": false,
     "start_time": "2025-01-03T04:50:01.573377",
     "status": "completed"
    },
    "tags": []
   },
   "outputs": [
    {
     "data": {
      "text/html": [
       "<div>\n",
       "<style scoped>\n",
       "    .dataframe tbody tr th:only-of-type {\n",
       "        vertical-align: middle;\n",
       "    }\n",
       "\n",
       "    .dataframe tbody tr th {\n",
       "        vertical-align: top;\n",
       "    }\n",
       "\n",
       "    .dataframe thead th {\n",
       "        text-align: right;\n",
       "    }\n",
       "</style>\n",
       "<table border=\"1\" class=\"dataframe\">\n",
       "  <thead>\n",
       "    <tr style=\"text-align: right;\">\n",
       "      <th></th>\n",
       "      <th>id</th>\n",
       "      <th>date_id</th>\n",
       "      <th>time_id</th>\n",
       "      <th>symbol_id</th>\n",
       "      <th>weight</th>\n",
       "      <th>feature_00</th>\n",
       "      <th>feature_01</th>\n",
       "      <th>feature_02</th>\n",
       "      <th>feature_03</th>\n",
       "      <th>feature_04</th>\n",
       "      <th>...</th>\n",
       "      <th>responder_1</th>\n",
       "      <th>responder_2</th>\n",
       "      <th>responder_3</th>\n",
       "      <th>responder_4</th>\n",
       "      <th>responder_5</th>\n",
       "      <th>responder_6</th>\n",
       "      <th>responder_7</th>\n",
       "      <th>responder_8</th>\n",
       "      <th>partition_id</th>\n",
       "      <th>label</th>\n",
       "    </tr>\n",
       "  </thead>\n",
       "  <tbody>\n",
       "    <tr>\n",
       "      <th>0</th>\n",
       "      <td>6316560</td>\n",
       "      <td>434</td>\n",
       "      <td>0</td>\n",
       "      <td>0</td>\n",
       "      <td>2.274729</td>\n",
       "      <td>0.350401</td>\n",
       "      <td>0.833223</td>\n",
       "      <td>-0.290182</td>\n",
       "      <td>0.164869</td>\n",
       "      <td>2.051046</td>\n",
       "      <td>...</td>\n",
       "      <td>0.272830</td>\n",
       "      <td>-0.365024</td>\n",
       "      <td>0.357200</td>\n",
       "      <td>0.438255</td>\n",
       "      <td>0.094859</td>\n",
       "      <td>0.500254</td>\n",
       "      <td>0.510357</td>\n",
       "      <td>0.463678</td>\n",
       "      <td>2</td>\n",
       "      <td>1</td>\n",
       "    </tr>\n",
       "    <tr>\n",
       "      <th>1</th>\n",
       "      <td>6316561</td>\n",
       "      <td>434</td>\n",
       "      <td>0</td>\n",
       "      <td>1</td>\n",
       "      <td>4.780962</td>\n",
       "      <td>0.441058</td>\n",
       "      <td>0.799324</td>\n",
       "      <td>-0.236335</td>\n",
       "      <td>-0.021088</td>\n",
       "      <td>1.812573</td>\n",
       "      <td>...</td>\n",
       "      <td>0.274102</td>\n",
       "      <td>1.325831</td>\n",
       "      <td>0.572652</td>\n",
       "      <td>0.448252</td>\n",
       "      <td>-0.229782</td>\n",
       "      <td>0.294333</td>\n",
       "      <td>0.445521</td>\n",
       "      <td>-1.116650</td>\n",
       "      <td>2</td>\n",
       "      <td>0</td>\n",
       "    </tr>\n",
       "    <tr>\n",
       "      <th>2</th>\n",
       "      <td>6316562</td>\n",
       "      <td>434</td>\n",
       "      <td>0</td>\n",
       "      <td>2</td>\n",
       "      <td>1.162832</td>\n",
       "      <td>0.063179</td>\n",
       "      <td>0.820028</td>\n",
       "      <td>0.426863</td>\n",
       "      <td>0.115897</td>\n",
       "      <td>2.174137</td>\n",
       "      <td>...</td>\n",
       "      <td>-0.181420</td>\n",
       "      <td>-0.155896</td>\n",
       "      <td>0.089658</td>\n",
       "      <td>0.646632</td>\n",
       "      <td>-0.111775</td>\n",
       "      <td>0.199509</td>\n",
       "      <td>0.663340</td>\n",
       "      <td>0.377528</td>\n",
       "      <td>2</td>\n",
       "      <td>0</td>\n",
       "    </tr>\n",
       "    <tr>\n",
       "      <th>3</th>\n",
       "      <td>6316563</td>\n",
       "      <td>434</td>\n",
       "      <td>0</td>\n",
       "      <td>3</td>\n",
       "      <td>1.045792</td>\n",
       "      <td>0.233065</td>\n",
       "      <td>1.123905</td>\n",
       "      <td>0.152825</td>\n",
       "      <td>0.395505</td>\n",
       "      <td>2.364723</td>\n",
       "      <td>...</td>\n",
       "      <td>-0.124641</td>\n",
       "      <td>-1.419458</td>\n",
       "      <td>-0.562762</td>\n",
       "      <td>-0.145655</td>\n",
       "      <td>-1.202561</td>\n",
       "      <td>-0.797129</td>\n",
       "      <td>-0.150784</td>\n",
       "      <td>-1.485704</td>\n",
       "      <td>2</td>\n",
       "      <td>-1</td>\n",
       "    </tr>\n",
       "    <tr>\n",
       "      <th>4</th>\n",
       "      <td>6316564</td>\n",
       "      <td>434</td>\n",
       "      <td>0</td>\n",
       "      <td>7</td>\n",
       "      <td>2.628148</td>\n",
       "      <td>-0.277403</td>\n",
       "      <td>1.166836</td>\n",
       "      <td>-0.150327</td>\n",
       "      <td>0.519650</td>\n",
       "      <td>2.000447</td>\n",
       "      <td>...</td>\n",
       "      <td>-0.076131</td>\n",
       "      <td>0.098204</td>\n",
       "      <td>-0.406867</td>\n",
       "      <td>-0.324423</td>\n",
       "      <td>-0.713590</td>\n",
       "      <td>-0.433388</td>\n",
       "      <td>-0.366702</td>\n",
       "      <td>-0.916464</td>\n",
       "      <td>2</td>\n",
       "      <td>0</td>\n",
       "    </tr>\n",
       "  </tbody>\n",
       "</table>\n",
       "<p>5 rows × 95 columns</p>\n",
       "</div>"
      ],
      "text/plain": [
       "        id  date_id  time_id  symbol_id    weight  feature_00  feature_01  \\\n",
       "0  6316560      434        0          0  2.274729    0.350401    0.833223   \n",
       "1  6316561      434        0          1  4.780962    0.441058    0.799324   \n",
       "2  6316562      434        0          2  1.162832    0.063179    0.820028   \n",
       "3  6316563      434        0          3  1.045792    0.233065    1.123905   \n",
       "4  6316564      434        0          7  2.628148   -0.277403    1.166836   \n",
       "\n",
       "   feature_02  feature_03  feature_04  ...  responder_1  responder_2  \\\n",
       "0   -0.290182    0.164869    2.051046  ...     0.272830    -0.365024   \n",
       "1   -0.236335   -0.021088    1.812573  ...     0.274102     1.325831   \n",
       "2    0.426863    0.115897    2.174137  ...    -0.181420    -0.155896   \n",
       "3    0.152825    0.395505    2.364723  ...    -0.124641    -1.419458   \n",
       "4   -0.150327    0.519650    2.000447  ...    -0.076131     0.098204   \n",
       "\n",
       "   responder_3  responder_4  responder_5  responder_6  responder_7  \\\n",
       "0     0.357200     0.438255     0.094859     0.500254     0.510357   \n",
       "1     0.572652     0.448252    -0.229782     0.294333     0.445521   \n",
       "2     0.089658     0.646632    -0.111775     0.199509     0.663340   \n",
       "3    -0.562762    -0.145655    -1.202561    -0.797129    -0.150784   \n",
       "4    -0.406867    -0.324423    -0.713590    -0.433388    -0.366702   \n",
       "\n",
       "   responder_8  partition_id  label  \n",
       "0     0.463678             2      1  \n",
       "1    -1.116650             2      0  \n",
       "2     0.377528             2      0  \n",
       "3    -1.485704             2     -1  \n",
       "4    -0.916464             2      0  \n",
       "\n",
       "[5 rows x 95 columns]"
      ]
     },
     "execution_count": 6,
     "metadata": {},
     "output_type": "execute_result"
    }
   ],
   "source": [
    "train = train.collect().to_pandas()\n",
    "train.head()"
   ]
  },
  {
   "cell_type": "code",
   "execution_count": 7,
   "id": "6cda5715",
   "metadata": {
    "execution": {
     "iopub.execute_input": "2025-01-03T04:51:06.449263Z",
     "iopub.status.busy": "2025-01-03T04:51:06.448893Z",
     "iopub.status.idle": "2025-01-03T04:51:27.508868Z",
     "shell.execute_reply": "2025-01-03T04:51:27.507679Z"
    },
    "papermill": {
     "duration": 21.068807,
     "end_time": "2025-01-03T04:51:27.511382",
     "exception": false,
     "start_time": "2025-01-03T04:51:06.442575",
     "status": "completed"
    },
    "tags": []
   },
   "outputs": [],
   "source": [
    "tmp_normed = normalize_dataframe(pl.DataFrame(train), means, stds)\n",
    "tmp_normed = tmp_normed.to_pandas()"
   ]
  },
  {
   "cell_type": "code",
   "execution_count": 8,
   "id": "1f71e508",
   "metadata": {
    "execution": {
     "iopub.execute_input": "2025-01-03T04:51:27.522522Z",
     "iopub.status.busy": "2025-01-03T04:51:27.522124Z",
     "iopub.status.idle": "2025-01-03T04:51:27.544616Z",
     "shell.execute_reply": "2025-01-03T04:51:27.543506Z"
    },
    "papermill": {
     "duration": 0.030425,
     "end_time": "2025-01-03T04:51:27.546789",
     "exception": false,
     "start_time": "2025-01-03T04:51:27.516364",
     "status": "completed"
    },
    "tags": []
   },
   "outputs": [
    {
     "data": {
      "text/html": [
       "<div>\n",
       "<style scoped>\n",
       "    .dataframe tbody tr th:only-of-type {\n",
       "        vertical-align: middle;\n",
       "    }\n",
       "\n",
       "    .dataframe tbody tr th {\n",
       "        vertical-align: top;\n",
       "    }\n",
       "\n",
       "    .dataframe thead th {\n",
       "        text-align: right;\n",
       "    }\n",
       "</style>\n",
       "<table border=\"1\" class=\"dataframe\">\n",
       "  <thead>\n",
       "    <tr style=\"text-align: right;\">\n",
       "      <th></th>\n",
       "      <th>feature_00</th>\n",
       "      <th>feature_01</th>\n",
       "      <th>feature_02</th>\n",
       "      <th>feature_03</th>\n",
       "      <th>feature_04</th>\n",
       "      <th>feature_05</th>\n",
       "      <th>feature_06</th>\n",
       "      <th>feature_07</th>\n",
       "      <th>feature_08</th>\n",
       "      <th>feature_09</th>\n",
       "      <th>...</th>\n",
       "      <th>feature_69</th>\n",
       "      <th>feature_70</th>\n",
       "      <th>feature_71</th>\n",
       "      <th>feature_72</th>\n",
       "      <th>feature_73</th>\n",
       "      <th>feature_74</th>\n",
       "      <th>feature_75</th>\n",
       "      <th>feature_76</th>\n",
       "      <th>feature_77</th>\n",
       "      <th>feature_78</th>\n",
       "    </tr>\n",
       "  </thead>\n",
       "  <tbody>\n",
       "    <tr>\n",
       "      <th>0</th>\n",
       "      <td>-0.281973</td>\n",
       "      <td>0.725476</td>\n",
       "      <td>-0.912723</td>\n",
       "      <td>-0.463738</td>\n",
       "      <td>1.899339</td>\n",
       "      <td>0.069323</td>\n",
       "      <td>0.700608</td>\n",
       "      <td>0.447055</td>\n",
       "      <td>0.174910</td>\n",
       "      <td>-1.411990</td>\n",
       "      <td>...</td>\n",
       "      <td>-0.871308</td>\n",
       "      <td>-1.979774</td>\n",
       "      <td>0.685526</td>\n",
       "      <td>-0.829686</td>\n",
       "      <td>0.175593</td>\n",
       "      <td>0.180493</td>\n",
       "      <td>-0.057315</td>\n",
       "      <td>-0.064112</td>\n",
       "      <td>-0.119840</td>\n",
       "      <td>-0.172663</td>\n",
       "    </tr>\n",
       "    <tr>\n",
       "      <th>1</th>\n",
       "      <td>-0.193763</td>\n",
       "      <td>0.694567</td>\n",
       "      <td>-0.859705</td>\n",
       "      <td>-0.646581</td>\n",
       "      <td>1.677015</td>\n",
       "      <td>0.078985</td>\n",
       "      <td>0.781937</td>\n",
       "      <td>0.649650</td>\n",
       "      <td>0.185389</td>\n",
       "      <td>-1.411990</td>\n",
       "      <td>...</td>\n",
       "      <td>0.118375</td>\n",
       "      <td>-0.943577</td>\n",
       "      <td>0.985183</td>\n",
       "      <td>-0.982960</td>\n",
       "      <td>0.175593</td>\n",
       "      <td>0.180493</td>\n",
       "      <td>-0.033572</td>\n",
       "      <td>-0.049455</td>\n",
       "      <td>-0.074194</td>\n",
       "      <td>-0.192486</td>\n",
       "    </tr>\n",
       "    <tr>\n",
       "      <th>2</th>\n",
       "      <td>-0.561439</td>\n",
       "      <td>0.713445</td>\n",
       "      <td>-0.206713</td>\n",
       "      <td>-0.511890</td>\n",
       "      <td>2.014095</td>\n",
       "      <td>0.116023</td>\n",
       "      <td>1.095043</td>\n",
       "      <td>0.771529</td>\n",
       "      <td>0.202319</td>\n",
       "      <td>-1.287678</td>\n",
       "      <td>...</td>\n",
       "      <td>-0.658020</td>\n",
       "      <td>-1.628942</td>\n",
       "      <td>8.621769</td>\n",
       "      <td>0.331158</td>\n",
       "      <td>0.175593</td>\n",
       "      <td>0.180493</td>\n",
       "      <td>0.491979</td>\n",
       "      <td>0.334167</td>\n",
       "      <td>0.040144</td>\n",
       "      <td>0.034893</td>\n",
       "    </tr>\n",
       "    <tr>\n",
       "      <th>3</th>\n",
       "      <td>-0.396140</td>\n",
       "      <td>0.990514</td>\n",
       "      <td>-0.476535</td>\n",
       "      <td>-0.236965</td>\n",
       "      <td>2.191775</td>\n",
       "      <td>0.110620</td>\n",
       "      <td>0.943477</td>\n",
       "      <td>0.427947</td>\n",
       "      <td>0.225898</td>\n",
       "      <td>-1.424421</td>\n",
       "      <td>...</td>\n",
       "      <td>0.219942</td>\n",
       "      <td>-0.620904</td>\n",
       "      <td>1.635924</td>\n",
       "      <td>-0.444471</td>\n",
       "      <td>0.175593</td>\n",
       "      <td>0.180493</td>\n",
       "      <td>3.538906</td>\n",
       "      <td>3.340486</td>\n",
       "      <td>5.984796</td>\n",
       "      <td>6.022639</td>\n",
       "    </tr>\n",
       "    <tr>\n",
       "      <th>4</th>\n",
       "      <td>-0.892825</td>\n",
       "      <td>1.029658</td>\n",
       "      <td>-0.775021</td>\n",
       "      <td>-0.114899</td>\n",
       "      <td>1.852167</td>\n",
       "      <td>0.084860</td>\n",
       "      <td>0.922487</td>\n",
       "      <td>0.481041</td>\n",
       "      <td>0.206733</td>\n",
       "      <td>-1.411990</td>\n",
       "      <td>...</td>\n",
       "      <td>-0.523144</td>\n",
       "      <td>-1.551417</td>\n",
       "      <td>1.276610</td>\n",
       "      <td>-0.932359</td>\n",
       "      <td>0.175593</td>\n",
       "      <td>0.180493</td>\n",
       "      <td>-0.041877</td>\n",
       "      <td>-0.084179</td>\n",
       "      <td>-0.109762</td>\n",
       "      <td>-0.039549</td>\n",
       "    </tr>\n",
       "  </tbody>\n",
       "</table>\n",
       "<p>5 rows × 79 columns</p>\n",
       "</div>"
      ],
      "text/plain": [
       "   feature_00  feature_01  feature_02  feature_03  feature_04  feature_05  \\\n",
       "0   -0.281973    0.725476   -0.912723   -0.463738    1.899339    0.069323   \n",
       "1   -0.193763    0.694567   -0.859705   -0.646581    1.677015    0.078985   \n",
       "2   -0.561439    0.713445   -0.206713   -0.511890    2.014095    0.116023   \n",
       "3   -0.396140    0.990514   -0.476535   -0.236965    2.191775    0.110620   \n",
       "4   -0.892825    1.029658   -0.775021   -0.114899    1.852167    0.084860   \n",
       "\n",
       "   feature_06  feature_07  feature_08  feature_09  ...  feature_69  \\\n",
       "0    0.700608    0.447055    0.174910   -1.411990  ...   -0.871308   \n",
       "1    0.781937    0.649650    0.185389   -1.411990  ...    0.118375   \n",
       "2    1.095043    0.771529    0.202319   -1.287678  ...   -0.658020   \n",
       "3    0.943477    0.427947    0.225898   -1.424421  ...    0.219942   \n",
       "4    0.922487    0.481041    0.206733   -1.411990  ...   -0.523144   \n",
       "\n",
       "   feature_70  feature_71  feature_72  feature_73  feature_74  feature_75  \\\n",
       "0   -1.979774    0.685526   -0.829686    0.175593    0.180493   -0.057315   \n",
       "1   -0.943577    0.985183   -0.982960    0.175593    0.180493   -0.033572   \n",
       "2   -1.628942    8.621769    0.331158    0.175593    0.180493    0.491979   \n",
       "3   -0.620904    1.635924   -0.444471    0.175593    0.180493    3.538906   \n",
       "4   -1.551417    1.276610   -0.932359    0.175593    0.180493   -0.041877   \n",
       "\n",
       "   feature_76  feature_77  feature_78  \n",
       "0   -0.064112   -0.119840   -0.172663  \n",
       "1   -0.049455   -0.074194   -0.192486  \n",
       "2    0.334167    0.040144    0.034893  \n",
       "3    3.340486    5.984796    6.022639  \n",
       "4   -0.084179   -0.109762   -0.039549  \n",
       "\n",
       "[5 rows x 79 columns]"
      ]
     },
     "execution_count": 8,
     "metadata": {},
     "output_type": "execute_result"
    }
   ],
   "source": [
    "tmp_normed.head()"
   ]
  },
  {
   "cell_type": "code",
   "execution_count": 9,
   "id": "e1315cea",
   "metadata": {
    "execution": {
     "iopub.execute_input": "2025-01-03T04:51:27.558374Z",
     "iopub.status.busy": "2025-01-03T04:51:27.558022Z",
     "iopub.status.idle": "2025-01-03T04:51:40.386755Z",
     "shell.execute_reply": "2025-01-03T04:51:40.385710Z"
    },
    "papermill": {
     "duration": 12.83708,
     "end_time": "2025-01-03T04:51:40.388973",
     "exception": false,
     "start_time": "2025-01-03T04:51:27.551893",
     "status": "completed"
    },
    "tags": []
   },
   "outputs": [
    {
     "data": {
      "text/html": [
       "<div>\n",
       "<style scoped>\n",
       "    .dataframe tbody tr th:only-of-type {\n",
       "        vertical-align: middle;\n",
       "    }\n",
       "\n",
       "    .dataframe tbody tr th {\n",
       "        vertical-align: top;\n",
       "    }\n",
       "\n",
       "    .dataframe thead th {\n",
       "        text-align: right;\n",
       "    }\n",
       "</style>\n",
       "<table border=\"1\" class=\"dataframe\">\n",
       "  <thead>\n",
       "    <tr style=\"text-align: right;\">\n",
       "      <th></th>\n",
       "      <th>id</th>\n",
       "      <th>date_id</th>\n",
       "      <th>time_id</th>\n",
       "      <th>symbol_id</th>\n",
       "      <th>weight</th>\n",
       "      <th>feature_00</th>\n",
       "      <th>feature_01</th>\n",
       "      <th>feature_02</th>\n",
       "      <th>feature_03</th>\n",
       "      <th>feature_04</th>\n",
       "      <th>...</th>\n",
       "      <th>responder_1</th>\n",
       "      <th>responder_2</th>\n",
       "      <th>responder_3</th>\n",
       "      <th>responder_4</th>\n",
       "      <th>responder_5</th>\n",
       "      <th>responder_6</th>\n",
       "      <th>responder_7</th>\n",
       "      <th>responder_8</th>\n",
       "      <th>partition_id</th>\n",
       "      <th>label</th>\n",
       "    </tr>\n",
       "  </thead>\n",
       "  <tbody>\n",
       "    <tr>\n",
       "      <th>0</th>\n",
       "      <td>6316560</td>\n",
       "      <td>434</td>\n",
       "      <td>0</td>\n",
       "      <td>0</td>\n",
       "      <td>2.274729</td>\n",
       "      <td>-0.281973</td>\n",
       "      <td>0.725476</td>\n",
       "      <td>-0.912723</td>\n",
       "      <td>-0.463738</td>\n",
       "      <td>1.899339</td>\n",
       "      <td>...</td>\n",
       "      <td>0.272830</td>\n",
       "      <td>-0.365024</td>\n",
       "      <td>0.357200</td>\n",
       "      <td>0.438255</td>\n",
       "      <td>0.094859</td>\n",
       "      <td>0.500254</td>\n",
       "      <td>0.510357</td>\n",
       "      <td>0.463678</td>\n",
       "      <td>2</td>\n",
       "      <td>1</td>\n",
       "    </tr>\n",
       "    <tr>\n",
       "      <th>1</th>\n",
       "      <td>6316561</td>\n",
       "      <td>434</td>\n",
       "      <td>0</td>\n",
       "      <td>1</td>\n",
       "      <td>4.780962</td>\n",
       "      <td>-0.193763</td>\n",
       "      <td>0.694567</td>\n",
       "      <td>-0.859705</td>\n",
       "      <td>-0.646581</td>\n",
       "      <td>1.677015</td>\n",
       "      <td>...</td>\n",
       "      <td>0.274102</td>\n",
       "      <td>1.325831</td>\n",
       "      <td>0.572652</td>\n",
       "      <td>0.448252</td>\n",
       "      <td>-0.229782</td>\n",
       "      <td>0.294333</td>\n",
       "      <td>0.445521</td>\n",
       "      <td>-1.116650</td>\n",
       "      <td>2</td>\n",
       "      <td>0</td>\n",
       "    </tr>\n",
       "    <tr>\n",
       "      <th>2</th>\n",
       "      <td>6316562</td>\n",
       "      <td>434</td>\n",
       "      <td>0</td>\n",
       "      <td>2</td>\n",
       "      <td>1.162832</td>\n",
       "      <td>-0.561439</td>\n",
       "      <td>0.713445</td>\n",
       "      <td>-0.206713</td>\n",
       "      <td>-0.511890</td>\n",
       "      <td>2.014095</td>\n",
       "      <td>...</td>\n",
       "      <td>-0.181420</td>\n",
       "      <td>-0.155896</td>\n",
       "      <td>0.089658</td>\n",
       "      <td>0.646632</td>\n",
       "      <td>-0.111775</td>\n",
       "      <td>0.199509</td>\n",
       "      <td>0.663340</td>\n",
       "      <td>0.377528</td>\n",
       "      <td>2</td>\n",
       "      <td>0</td>\n",
       "    </tr>\n",
       "    <tr>\n",
       "      <th>3</th>\n",
       "      <td>6316563</td>\n",
       "      <td>434</td>\n",
       "      <td>0</td>\n",
       "      <td>3</td>\n",
       "      <td>1.045792</td>\n",
       "      <td>-0.396140</td>\n",
       "      <td>0.990514</td>\n",
       "      <td>-0.476535</td>\n",
       "      <td>-0.236965</td>\n",
       "      <td>2.191775</td>\n",
       "      <td>...</td>\n",
       "      <td>-0.124641</td>\n",
       "      <td>-1.419458</td>\n",
       "      <td>-0.562762</td>\n",
       "      <td>-0.145655</td>\n",
       "      <td>-1.202561</td>\n",
       "      <td>-0.797129</td>\n",
       "      <td>-0.150784</td>\n",
       "      <td>-1.485704</td>\n",
       "      <td>2</td>\n",
       "      <td>-1</td>\n",
       "    </tr>\n",
       "    <tr>\n",
       "      <th>4</th>\n",
       "      <td>6316564</td>\n",
       "      <td>434</td>\n",
       "      <td>0</td>\n",
       "      <td>7</td>\n",
       "      <td>2.628148</td>\n",
       "      <td>-0.892825</td>\n",
       "      <td>1.029658</td>\n",
       "      <td>-0.775021</td>\n",
       "      <td>-0.114899</td>\n",
       "      <td>1.852167</td>\n",
       "      <td>...</td>\n",
       "      <td>-0.076131</td>\n",
       "      <td>0.098204</td>\n",
       "      <td>-0.406867</td>\n",
       "      <td>-0.324423</td>\n",
       "      <td>-0.713590</td>\n",
       "      <td>-0.433388</td>\n",
       "      <td>-0.366702</td>\n",
       "      <td>-0.916464</td>\n",
       "      <td>2</td>\n",
       "      <td>0</td>\n",
       "    </tr>\n",
       "  </tbody>\n",
       "</table>\n",
       "<p>5 rows × 95 columns</p>\n",
       "</div>"
      ],
      "text/plain": [
       "        id  date_id  time_id  symbol_id    weight  feature_00  feature_01  \\\n",
       "0  6316560      434        0          0  2.274729   -0.281973    0.725476   \n",
       "1  6316561      434        0          1  4.780962   -0.193763    0.694567   \n",
       "2  6316562      434        0          2  1.162832   -0.561439    0.713445   \n",
       "3  6316563      434        0          3  1.045792   -0.396140    0.990514   \n",
       "4  6316564      434        0          7  2.628148   -0.892825    1.029658   \n",
       "\n",
       "   feature_02  feature_03  feature_04  ...  responder_1  responder_2  \\\n",
       "0   -0.912723   -0.463738    1.899339  ...     0.272830    -0.365024   \n",
       "1   -0.859705   -0.646581    1.677015  ...     0.274102     1.325831   \n",
       "2   -0.206713   -0.511890    2.014095  ...    -0.181420    -0.155896   \n",
       "3   -0.476535   -0.236965    2.191775  ...    -0.124641    -1.419458   \n",
       "4   -0.775021   -0.114899    1.852167  ...    -0.076131     0.098204   \n",
       "\n",
       "   responder_3  responder_4  responder_5  responder_6  responder_7  \\\n",
       "0     0.357200     0.438255     0.094859     0.500254     0.510357   \n",
       "1     0.572652     0.448252    -0.229782     0.294333     0.445521   \n",
       "2     0.089658     0.646632    -0.111775     0.199509     0.663340   \n",
       "3    -0.562762    -0.145655    -1.202561    -0.797129    -0.150784   \n",
       "4    -0.406867    -0.324423    -0.713590    -0.433388    -0.366702   \n",
       "\n",
       "   responder_8  partition_id  label  \n",
       "0     0.463678             2      1  \n",
       "1    -1.116650             2      0  \n",
       "2     0.377528             2      0  \n",
       "3    -1.485704             2     -1  \n",
       "4    -0.916464             2      0  \n",
       "\n",
       "[5 rows x 95 columns]"
      ]
     },
     "execution_count": 9,
     "metadata": {},
     "output_type": "execute_result"
    }
   ],
   "source": [
    "train.update(tmp_normed)\n",
    "train.head()"
   ]
  },
  {
   "cell_type": "code",
   "execution_count": 10,
   "id": "6834f462",
   "metadata": {
    "execution": {
     "iopub.execute_input": "2025-01-03T04:51:40.401624Z",
     "iopub.status.busy": "2025-01-03T04:51:40.401223Z",
     "iopub.status.idle": "2025-01-03T04:51:55.356500Z",
     "shell.execute_reply": "2025-01-03T04:51:55.354737Z"
    },
    "papermill": {
     "duration": 14.969869,
     "end_time": "2025-01-03T04:51:55.364462",
     "exception": false,
     "start_time": "2025-01-03T04:51:40.394593",
     "status": "completed"
    },
    "tags": []
   },
   "outputs": [],
   "source": [
    "train = pl.DataFrame(train)"
   ]
  },
  {
   "cell_type": "markdown",
   "id": "51020473",
   "metadata": {
    "papermill": {
     "duration": 0.005406,
     "end_time": "2025-01-03T04:51:55.377970",
     "exception": false,
     "start_time": "2025-01-03T04:51:55.372564",
     "status": "completed"
    },
    "tags": []
   },
   "source": [
    "# Create Lags data from training data"
   ]
  },
  {
   "cell_type": "code",
   "execution_count": 11,
   "id": "f744602d",
   "metadata": {
    "execution": {
     "iopub.execute_input": "2025-01-03T04:51:55.391572Z",
     "iopub.status.busy": "2025-01-03T04:51:55.391101Z",
     "iopub.status.idle": "2025-01-03T04:51:56.614494Z",
     "shell.execute_reply": "2025-01-03T04:51:56.613122Z"
    },
    "papermill": {
     "duration": 1.234248,
     "end_time": "2025-01-03T04:51:56.617741",
     "exception": false,
     "start_time": "2025-01-03T04:51:55.383493",
     "status": "completed"
    },
    "tags": []
   },
   "outputs": [
    {
     "data": {
      "text/html": [
       "<div><style>\n",
       ".dataframe > thead > tr,\n",
       ".dataframe > tbody > tr {\n",
       "  text-align: right;\n",
       "  white-space: pre-wrap;\n",
       "}\n",
       "</style>\n",
       "<small>shape: (18_100, 11)</small><table border=\"1\" class=\"dataframe\"><thead><tr><th>date_id</th><th>symbol_id</th><th>responder_0_lag_1</th><th>responder_1_lag_1</th><th>responder_2_lag_1</th><th>responder_3_lag_1</th><th>responder_4_lag_1</th><th>responder_5_lag_1</th><th>responder_6_lag_1</th><th>responder_7_lag_1</th><th>responder_8_lag_1</th></tr><tr><td>i16</td><td>i8</td><td>f32</td><td>f32</td><td>f32</td><td>f32</td><td>f32</td><td>f32</td><td>f32</td><td>f32</td><td>f32</td></tr></thead><tbody><tr><td>435</td><td>0</td><td>1.167622</td><td>0.522281</td><td>-0.651009</td><td>0.753661</td><td>0.485425</td><td>1.312562</td><td>1.757024</td><td>1.218615</td><td>4.805431</td></tr><tr><td>435</td><td>1</td><td>-0.221519</td><td>-0.064056</td><td>2.153494</td><td>-0.356272</td><td>-0.212228</td><td>0.309967</td><td>-0.363238</td><td>-0.1246</td><td>-1.147682</td></tr><tr><td>435</td><td>2</td><td>0.115236</td><td>-0.134426</td><td>1.4096</td><td>0.136752</td><td>0.052765</td><td>0.723226</td><td>0.187152</td><td>0.101661</td><td>0.271861</td></tr><tr><td>435</td><td>3</td><td>-0.759539</td><td>1.242356</td><td>2.137401</td><td>1.220474</td><td>0.514464</td><td>0.374935</td><td>-0.237412</td><td>-0.079438</td><td>-0.269219</td></tr><tr><td>435</td><td>7</td><td>-4.726245</td><td>-0.974081</td><td>-3.272671</td><td>-0.01613</td><td>-0.005919</td><td>-0.88512</td><td>-0.111873</td><td>-0.033721</td><td>-0.217343</td></tr><tr><td>&hellip;</td><td>&hellip;</td><td>&hellip;</td><td>&hellip;</td><td>&hellip;</td><td>&hellip;</td><td>&hellip;</td><td>&hellip;</td><td>&hellip;</td><td>&hellip;</td><td>&hellip;</td></tr><tr><td>1699</td><td>34</td><td>0.243475</td><td>0.166927</td><td>0.38494</td><td>-0.174297</td><td>-0.066046</td><td>-0.038767</td><td>-0.132337</td><td>-0.022426</td><td>-0.252461</td></tr><tr><td>1699</td><td>35</td><td>0.850152</td><td>0.909382</td><td>1.015314</td><td>0.235962</td><td>0.122539</td><td>0.099559</td><td>-0.249584</td><td>-0.123571</td><td>-0.46063</td></tr><tr><td>1699</td><td>36</td><td>0.395684</td><td>-0.292574</td><td>-3.215846</td><td>-0.535129</td><td>-0.178484</td><td>-1.80815</td><td>-0.065355</td><td>-0.000367</td><td>-0.12517</td></tr><tr><td>1699</td><td>37</td><td>1.925987</td><td>0.479394</td><td>3.621867</td><td>-0.107114</td><td>-0.063599</td><td>1.204755</td><td>-0.148711</td><td>-0.026583</td><td>-0.256395</td></tr><tr><td>1699</td><td>38</td><td>1.228778</td><td>0.512562</td><td>-0.050865</td><td>0.160883</td><td>0.080756</td><td>-0.078237</td><td>-0.138548</td><td>-0.038771</td><td>-0.21194</td></tr></tbody></table></div>"
      ],
      "text/plain": [
       "shape: (18_100, 11)\n",
       "┌─────────┬───────────┬────────────┬───────────┬───┬───────────┬───────────┬───────────┬───────────┐\n",
       "│ date_id ┆ symbol_id ┆ responder_ ┆ responder ┆ … ┆ responder ┆ responder ┆ responder ┆ responder │\n",
       "│ ---     ┆ ---       ┆ 0_lag_1    ┆ _1_lag_1  ┆   ┆ _5_lag_1  ┆ _6_lag_1  ┆ _7_lag_1  ┆ _8_lag_1  │\n",
       "│ i16     ┆ i8        ┆ ---        ┆ ---       ┆   ┆ ---       ┆ ---       ┆ ---       ┆ ---       │\n",
       "│         ┆           ┆ f32        ┆ f32       ┆   ┆ f32       ┆ f32       ┆ f32       ┆ f32       │\n",
       "╞═════════╪═══════════╪════════════╪═══════════╪═══╪═══════════╪═══════════╪═══════════╪═══════════╡\n",
       "│ 435     ┆ 0         ┆ 1.167622   ┆ 0.522281  ┆ … ┆ 1.312562  ┆ 1.757024  ┆ 1.218615  ┆ 4.805431  │\n",
       "│ 435     ┆ 1         ┆ -0.221519  ┆ -0.064056 ┆ … ┆ 0.309967  ┆ -0.363238 ┆ -0.1246   ┆ -1.147682 │\n",
       "│ 435     ┆ 2         ┆ 0.115236   ┆ -0.134426 ┆ … ┆ 0.723226  ┆ 0.187152  ┆ 0.101661  ┆ 0.271861  │\n",
       "│ 435     ┆ 3         ┆ -0.759539  ┆ 1.242356  ┆ … ┆ 0.374935  ┆ -0.237412 ┆ -0.079438 ┆ -0.269219 │\n",
       "│ 435     ┆ 7         ┆ -4.726245  ┆ -0.974081 ┆ … ┆ -0.88512  ┆ -0.111873 ┆ -0.033721 ┆ -0.217343 │\n",
       "│ …       ┆ …         ┆ …          ┆ …         ┆ … ┆ …         ┆ …         ┆ …         ┆ …         │\n",
       "│ 1699    ┆ 34        ┆ 0.243475   ┆ 0.166927  ┆ … ┆ -0.038767 ┆ -0.132337 ┆ -0.022426 ┆ -0.252461 │\n",
       "│ 1699    ┆ 35        ┆ 0.850152   ┆ 0.909382  ┆ … ┆ 0.099559  ┆ -0.249584 ┆ -0.123571 ┆ -0.46063  │\n",
       "│ 1699    ┆ 36        ┆ 0.395684   ┆ -0.292574 ┆ … ┆ -1.80815  ┆ -0.065355 ┆ -0.000367 ┆ -0.12517  │\n",
       "│ 1699    ┆ 37        ┆ 1.925987   ┆ 0.479394  ┆ … ┆ 1.204755  ┆ -0.148711 ┆ -0.026583 ┆ -0.256395 │\n",
       "│ 1699    ┆ 38        ┆ 1.228778   ┆ 0.512562  ┆ … ┆ -0.078237 ┆ -0.138548 ┆ -0.038771 ┆ -0.21194  │\n",
       "└─────────┴───────────┴────────────┴───────────┴───┴───────────┴───────────┴───────────┴───────────┘"
      ]
     },
     "execution_count": 11,
     "metadata": {},
     "output_type": "execute_result"
    }
   ],
   "source": [
    "lags = train.select(pl.col(CONFIG.lag_cols_original))\n",
    "lags = lags.rename(CONFIG.lag_cols_rename)\n",
    "lags = lags.with_columns(\n",
    "    date_id = pl.col('date_id') + 1,  # lagged by 1 day\n",
    "    )\n",
    "lags = lags.group_by([\"date_id\", \"symbol_id\"], maintain_order=True).last()  # pick up last record of previous date\n",
    "lags"
   ]
  },
  {
   "cell_type": "markdown",
   "id": "3702471a",
   "metadata": {
    "papermill": {
     "duration": 0.005338,
     "end_time": "2025-01-03T04:51:56.628849",
     "exception": false,
     "start_time": "2025-01-03T04:51:56.623511",
     "status": "completed"
    },
    "tags": []
   },
   "source": [
    "# Merge training data and lags data"
   ]
  },
  {
   "cell_type": "code",
   "execution_count": 12,
   "id": "fe90ab1a",
   "metadata": {
    "execution": {
     "iopub.execute_input": "2025-01-03T04:51:56.642022Z",
     "iopub.status.busy": "2025-01-03T04:51:56.641401Z",
     "iopub.status.idle": "2025-01-03T04:51:58.420112Z",
     "shell.execute_reply": "2025-01-03T04:51:58.419027Z"
    },
    "papermill": {
     "duration": 1.788003,
     "end_time": "2025-01-03T04:51:58.422305",
     "exception": false,
     "start_time": "2025-01-03T04:51:56.634302",
     "status": "completed"
    },
    "tags": []
   },
   "outputs": [
    {
     "data": {
      "text/html": [
       "<div><style>\n",
       ".dataframe > thead > tr,\n",
       ".dataframe > tbody > tr {\n",
       "  text-align: right;\n",
       "  white-space: pre-wrap;\n",
       "}\n",
       "</style>\n",
       "<small>shape: (17_068_838, 104)</small><table border=\"1\" class=\"dataframe\"><thead><tr><th>id</th><th>date_id</th><th>time_id</th><th>symbol_id</th><th>weight</th><th>feature_00</th><th>feature_01</th><th>feature_02</th><th>feature_03</th><th>feature_04</th><th>feature_05</th><th>feature_06</th><th>feature_07</th><th>feature_08</th><th>feature_09</th><th>feature_10</th><th>feature_11</th><th>feature_12</th><th>feature_13</th><th>feature_14</th><th>feature_15</th><th>feature_16</th><th>feature_17</th><th>feature_18</th><th>feature_19</th><th>feature_20</th><th>feature_21</th><th>feature_22</th><th>feature_23</th><th>feature_24</th><th>feature_25</th><th>feature_26</th><th>feature_27</th><th>feature_28</th><th>feature_29</th><th>feature_30</th><th>feature_31</th><th>&hellip;</th><th>feature_62</th><th>feature_63</th><th>feature_64</th><th>feature_65</th><th>feature_66</th><th>feature_67</th><th>feature_68</th><th>feature_69</th><th>feature_70</th><th>feature_71</th><th>feature_72</th><th>feature_73</th><th>feature_74</th><th>feature_75</th><th>feature_76</th><th>feature_77</th><th>feature_78</th><th>responder_0</th><th>responder_1</th><th>responder_2</th><th>responder_3</th><th>responder_4</th><th>responder_5</th><th>responder_6</th><th>responder_7</th><th>responder_8</th><th>partition_id</th><th>label</th><th>responder_0_lag_1</th><th>responder_1_lag_1</th><th>responder_2_lag_1</th><th>responder_3_lag_1</th><th>responder_4_lag_1</th><th>responder_5_lag_1</th><th>responder_6_lag_1</th><th>responder_7_lag_1</th><th>responder_8_lag_1</th></tr><tr><td>u32</td><td>i16</td><td>i16</td><td>i8</td><td>f32</td><td>f32</td><td>f32</td><td>f32</td><td>f32</td><td>f32</td><td>f32</td><td>f32</td><td>f32</td><td>f32</td><td>f64</td><td>f64</td><td>f64</td><td>f32</td><td>f32</td><td>f32</td><td>f32</td><td>f32</td><td>f32</td><td>f32</td><td>f32</td><td>f32</td><td>f32</td><td>f32</td><td>f32</td><td>f32</td><td>f32</td><td>f32</td><td>f32</td><td>f32</td><td>f32</td><td>f32</td><td>f32</td><td>&hellip;</td><td>f32</td><td>f32</td><td>f32</td><td>f32</td><td>f32</td><td>f32</td><td>f32</td><td>f32</td><td>f32</td><td>f32</td><td>f32</td><td>f32</td><td>f32</td><td>f32</td><td>f32</td><td>f32</td><td>f32</td><td>f32</td><td>f32</td><td>f32</td><td>f32</td><td>f32</td><td>f32</td><td>f32</td><td>f32</td><td>f32</td><td>i64</td><td>i32</td><td>f32</td><td>f32</td><td>f32</td><td>f32</td><td>f32</td><td>f32</td><td>f32</td><td>f32</td><td>f32</td></tr></thead><tbody><tr><td>6316560</td><td>434</td><td>0</td><td>0</td><td>2.274729</td><td>-0.281973</td><td>0.725476</td><td>-0.912723</td><td>-0.463738</td><td>1.899339</td><td>0.069323</td><td>0.700608</td><td>0.447055</td><td>0.17491</td><td>-1.41199</td><td>-1.355286</td><td>-1.029183</td><td>-1.827064</td><td>0.422669</td><td>-0.880802</td><td>7.298218</td><td>2.46083</td><td>7.642132</td><td>-1.903719</td><td>-1.206695</td><td>6.459238</td><td>-0.995355</td><td>0.636786</td><td>-0.023217</td><td>-2.175171</td><td>0.161991</td><td>0.197758</td><td>0.971445</td><td>1.007937</td><td>8.910877</td><td>8.373815</td><td>-1.00607</td><td>&hellip;</td><td>0.413646</td><td>8.394182</td><td>2.74325</td><td>-1.121971</td><td>-1.16523</td><td>-1.331035</td><td>0.186402</td><td>-0.871308</td><td>-1.979774</td><td>0.685526</td><td>-0.829686</td><td>0.175593</td><td>0.180493</td><td>-0.057315</td><td>-0.064112</td><td>-0.11984</td><td>-0.172663</td><td>-0.253606</td><td>0.27283</td><td>-0.365024</td><td>0.3572</td><td>0.438255</td><td>0.094859</td><td>0.500254</td><td>0.510357</td><td>0.463678</td><td>2</td><td>1</td><td>null</td><td>null</td><td>null</td><td>null</td><td>null</td><td>null</td><td>null</td><td>null</td><td>null</td></tr><tr><td>6316561</td><td>434</td><td>0</td><td>1</td><td>4.780962</td><td>-0.193763</td><td>0.694567</td><td>-0.859705</td><td>-0.646581</td><td>1.677015</td><td>0.078985</td><td>0.781937</td><td>0.64965</td><td>0.185389</td><td>-1.41199</td><td>-1.355286</td><td>-1.029183</td><td>-1.456445</td><td>2.691814</td><td>-0.460659</td><td>7.298218</td><td>4.666592</td><td>7.642132</td><td>-1.06728</td><td>-1.453145</td><td>5.708385</td><td>-0.995355</td><td>3.170527</td><td>2.007338</td><td>-2.197745</td><td>1.583821</td><td>0.197758</td><td>0.971445</td><td>1.856006</td><td>7.102427</td><td>14.445711</td><td>-1.00607</td><td>&hellip;</td><td>0.25931</td><td>10.638181</td><td>1.814321</td><td>-1.107595</td><td>-0.766132</td><td>-1.278714</td><td>4.250971</td><td>0.118375</td><td>-0.943577</td><td>0.985183</td><td>-0.98296</td><td>0.175593</td><td>0.180493</td><td>-0.033572</td><td>-0.049455</td><td>-0.074194</td><td>-0.192486</td><td>1.140099</td><td>0.274102</td><td>1.325831</td><td>0.572652</td><td>0.448252</td><td>-0.229782</td><td>0.294333</td><td>0.445521</td><td>-1.11665</td><td>2</td><td>0</td><td>null</td><td>null</td><td>null</td><td>null</td><td>null</td><td>null</td><td>null</td><td>null</td><td>null</td></tr><tr><td>6316562</td><td>434</td><td>0</td><td>2</td><td>1.162832</td><td>-0.561439</td><td>0.713445</td><td>-0.206713</td><td>-0.51189</td><td>2.014095</td><td>0.116023</td><td>1.095043</td><td>0.771529</td><td>0.202319</td><td>-1.287678</td><td>-1.847647</td><td>-1.029819</td><td>-1.819456</td><td>5.556284</td><td>-0.096689</td><td>7.298218</td><td>4.827356</td><td>7.642132</td><td>-1.27502</td><td>-0.651436</td><td>-1.418087</td><td>-0.995355</td><td>-1.112607</td><td>-1.421615</td><td>-2.999998</td><td>-0.475475</td><td>0.197758</td><td>0.971445</td><td>0.492544</td><td>5.641418</td><td>15.031393</td><td>-1.00607</td><td>&hellip;</td><td>0.546534</td><td>49.945595</td><td>10.320224</td><td>-0.582587</td><td>-1.162074</td><td>-1.17472</td><td>1.963946</td><td>-0.65802</td><td>-1.628942</td><td>8.621769</td><td>0.331158</td><td>0.175593</td><td>0.180493</td><td>0.491979</td><td>0.334167</td><td>0.040144</td><td>0.034893</td><td>-0.05987</td><td>-0.18142</td><td>-0.155896</td><td>0.089658</td><td>0.646632</td><td>-0.111775</td><td>0.199509</td><td>0.66334</td><td>0.377528</td><td>2</td><td>0</td><td>null</td><td>null</td><td>null</td><td>null</td><td>null</td><td>null</td><td>null</td><td>null</td><td>null</td></tr><tr><td>6316563</td><td>434</td><td>0</td><td>3</td><td>1.045792</td><td>-0.39614</td><td>0.990514</td><td>-0.476535</td><td>-0.236965</td><td>2.191775</td><td>0.11062</td><td>0.943477</td><td>0.427947</td><td>0.225898</td><td>-1.424421</td><td>-1.749175</td><td>-1.031616</td><td>-2.393446</td><td>3.267372</td><td>-0.259828</td><td>7.298218</td><td>3.306319</td><td>7.642132</td><td>-2.146226</td><td>-1.329383</td><td>0.873843</td><td>-0.995355</td><td>-1.178008</td><td>-2.870883</td><td>-2.485448</td><td>0.326723</td><td>0.197758</td><td>0.971445</td><td>-0.787151</td><td>2.621095</td><td>6.527111</td><td>-1.00607</td><td>&hellip;</td><td>0.659287</td><td>80.856636</td><td>7.098997</td><td>-0.582587</td><td>-1.162074</td><td>-1.203887</td><td>5.331989</td><td>0.219942</td><td>-0.620904</td><td>1.635924</td><td>-0.444471</td><td>0.175593</td><td>0.180493</td><td>3.538906</td><td>3.340486</td><td>5.984796</td><td>6.022639</td><td>0.187285</td><td>-0.124641</td><td>-1.419458</td><td>-0.562762</td><td>-0.145655</td><td>-1.202561</td><td>-0.797129</td><td>-0.150784</td><td>-1.485704</td><td>2</td><td>-1</td><td>null</td><td>null</td><td>null</td><td>null</td><td>null</td><td>null</td><td>null</td><td>null</td><td>null</td></tr><tr><td>6316564</td><td>434</td><td>0</td><td>7</td><td>2.628148</td><td>-0.892825</td><td>1.029658</td><td>-0.775021</td><td>-0.114899</td><td>1.852167</td><td>0.08486</td><td>0.922487</td><td>0.481041</td><td>0.206733</td><td>-1.41199</td><td>-1.355286</td><td>-1.029183</td><td>-1.833571</td><td>0.221941</td><td>-0.877202</td><td>7.298218</td><td>10.68426</td><td>7.642132</td><td>-1.313558</td><td>-1.033293</td><td>5.441164</td><td>-0.995355</td><td>0.371822</td><td>1.270197</td><td>-2.351796</td><td>0.339238</td><td>0.197758</td><td>0.971445</td><td>0.101967</td><td>26.040363</td><td>53.267483</td><td>-1.00607</td><td>&hellip;</td><td>0.232971</td><td>-21.414984</td><td>1.884187</td><td>-2.00817</td><td>-1.783691</td><td>-1.507834</td><td>-0.63355</td><td>-0.523144</td><td>-1.551417</td><td>1.27661</td><td>-0.932359</td><td>0.175593</td><td>0.180493</td><td>-0.041877</td><td>-0.084179</td><td>-0.109762</td><td>-0.039549</td><td>-0.175432</td><td>-0.076131</td><td>0.098204</td><td>-0.406867</td><td>-0.324423</td><td>-0.71359</td><td>-0.433388</td><td>-0.366702</td><td>-0.916464</td><td>2</td><td>0</td><td>null</td><td>null</td><td>null</td><td>null</td><td>null</td><td>null</td><td>null</td><td>null</td><td>null</td></tr><tr><td>&hellip;</td><td>&hellip;</td><td>&hellip;</td><td>&hellip;</td><td>&hellip;</td><td>&hellip;</td><td>&hellip;</td><td>&hellip;</td><td>&hellip;</td><td>&hellip;</td><td>&hellip;</td><td>&hellip;</td><td>&hellip;</td><td>&hellip;</td><td>&hellip;</td><td>&hellip;</td><td>&hellip;</td><td>&hellip;</td><td>&hellip;</td><td>&hellip;</td><td>&hellip;</td><td>&hellip;</td><td>&hellip;</td><td>&hellip;</td><td>&hellip;</td><td>&hellip;</td><td>&hellip;</td><td>&hellip;</td><td>&hellip;</td><td>&hellip;</td><td>&hellip;</td><td>&hellip;</td><td>&hellip;</td><td>&hellip;</td><td>&hellip;</td><td>&hellip;</td><td>&hellip;</td><td>&hellip;</td><td>&hellip;</td><td>&hellip;</td><td>&hellip;</td><td>&hellip;</td><td>&hellip;</td><td>&hellip;</td><td>&hellip;</td><td>&hellip;</td><td>&hellip;</td><td>&hellip;</td><td>&hellip;</td><td>&hellip;</td><td>&hellip;</td><td>&hellip;</td><td>&hellip;</td><td>&hellip;</td><td>&hellip;</td><td>&hellip;</td><td>&hellip;</td><td>&hellip;</td><td>&hellip;</td><td>&hellip;</td><td>&hellip;</td><td>&hellip;</td><td>&hellip;</td><td>&hellip;</td><td>&hellip;</td><td>&hellip;</td><td>&hellip;</td><td>&hellip;</td><td>&hellip;</td><td>&hellip;</td><td>&hellip;</td><td>&hellip;</td><td>&hellip;</td><td>&hellip;</td><td>&hellip;</td></tr><tr><td>47127333</td><td>1698</td><td>967</td><td>34</td><td>3.242493</td><td>1.161628</td><td>-0.665683</td><td>1.22196</td><td>1.154109</td><td>0.338164</td><td>0.891683</td><td>0.941189</td><td>1.908768</td><td>0.787044</td><td>-1.356938</td><td>-1.55223</td><td>-1.026413</td><td>2.290397</td><td>3.789178</td><td>2.792779</td><td>2.529841</td><td>4.425087</td><td>3.897956</td><td>1.846684</td><td>0.156879</td><td>0.590978</td><td>-2.452438</td><td>0.99381</td><td>1.987114</td><td>-3.343163</td><td>-1.276368</td><td>0.093324</td><td>1.93393</td><td>2.087409</td><td>0.71573</td><td>-1.72913</td><td>-2.674619</td><td>&hellip;</td><td>0.267257</td><td>7.995877</td><td>0.781016</td><td>2.547037</td><td>0.150737</td><td>2.366914</td><td>3.314534</td><td>1.449159</td><td>3.38448</td><td>4.069668</td><td>4.628181</td><td>0.019924</td><td>0.019806</td><td>0.242348</td><td>0.320862</td><td>0.092946</td><td>0.150246</td><td>0.243475</td><td>0.166927</td><td>0.38494</td><td>-0.174297</td><td>-0.066046</td><td>-0.038767</td><td>-0.132337</td><td>-0.022426</td><td>-0.252461</td><td>9</td><td>0</td><td>0.501321</td><td>0.905332</td><td>-0.819582</td><td>-0.564046</td><td>-0.223018</td><td>-0.283954</td><td>-0.045938</td><td>0.009797</td><td>-0.102538</td></tr><tr><td>47127334</td><td>1698</td><td>967</td><td>35</td><td>1.079139</td><td>0.529922</td><td>-0.722768</td><td>1.417222</td><td>1.020946</td><td>0.709732</td><td>0.746988</td><td>0.993193</td><td>1.708587</td><td>0.638972</td><td>-1.387128</td><td>-1.355286</td><td>-1.024728</td><td>0.3313</td><td>-0.098006</td><td>-0.00958</td><td>4.306299</td><td>9.164734</td><td>5.649051</td><td>1.994075</td><td>0.341983</td><td>0.14223</td><td>-1.854436</td><td>-1.151454</td><td>-0.165783</td><td>-3.009116</td><td>-0.690717</td><td>0.339223</td><td>0.142043</td><td>-0.182698</td><td>5.814374</td><td>14.609987</td><td>-1.984501</td><td>&hellip;</td><td>0.288492</td><td>10.197431</td><td>1.901252</td><td>2.182923</td><td>0.192487</td><td>0.50216</td><td>0.013813</td><td>0.011727</td><td>0.036124</td><td>0.021788</td><td>0.057631</td><td>0.009202</td><td>0.032418</td><td>0.776885</td><td>0.578446</td><td>0.158492</td><td>0.178672</td><td>0.850152</td><td>0.909382</td><td>1.015314</td><td>0.235962</td><td>0.122539</td><td>0.099559</td><td>-0.249584</td><td>-0.123571</td><td>-0.46063</td><td>9</td><td>0</td><td>-1.113053</td><td>0.69719</td><td>-1.619031</td><td>-1.222743</td><td>-0.706082</td><td>-0.291133</td><td>0.167733</td><td>0.099704</td><td>0.32461</td></tr><tr><td>47127335</td><td>1698</td><td>967</td><td>36</td><td>1.033172</td><td>1.152509</td><td>-0.624379</td><td>0.974966</td><td>1.196625</td><td>0.196945</td><td>1.035988</td><td>0.986301</td><td>1.892499</td><td>0.523708</td><td>-1.344507</td><td>-1.355286</td><td>-1.02091</td><td>2.785489</td><td>0.067674</td><td>0.962128</td><td>3.546333</td><td>1.156188</td><td>2.213644</td><td>2.439405</td><td>0.457112</td><td>0.348453</td><td>-1.854436</td><td>-1.086267</td><td>-0.457393</td><td>-3.127841</td><td>-0.996608</td><td>0.339223</td><td>0.142043</td><td>-0.154037</td><td>2.083538</td><td>14.075168</td><td>-1.984501</td><td>&hellip;</td><td>0.289465</td><td>10.68751</td><td>1.339279</td><td>2.377051</td><td>0.756934</td><td>3.082911</td><td>-0.630537</td><td>0.777092</td><td>2.338257</td><td>0.406235</td><td>1.294739</td><td>-0.011891</td><td>0.043998</td><td>0.10967</td><td>0.117301</td><td>0.271831</td><td>0.263699</td><td>0.395684</td><td>-0.292574</td><td>-3.215846</td><td>-0.535129</td><td>-0.178484</td><td>-1.80815</td><td>-0.065355</td><td>-0.000367</td><td>-0.12517</td><td>9</td><td>0</td><td>-1.019353</td><td>-0.460962</td><td>-2.026678</td><td>-0.848606</td><td>-0.305448</td><td>-1.256913</td><td>-0.109359</td><td>-0.027474</td><td>-0.253956</td></tr><tr><td>47127336</td><td>1698</td><td>967</td><td>37</td><td>1.243116</td><td>1.292408</td><td>-0.804627</td><td>0.998141</td><td>1.757201</td><td>0.257244</td><td>0.712089</td><td>0.997654</td><td>1.393654</td><td>0.636096</td><td>-1.371145</td><td>-1.650702</td><td>-1.024017</td><td>2.189982</td><td>1.198084</td><td>1.399475</td><td>2.956911</td><td>2.817212</td><td>0.776417</td><td>1.96859</td><td>0.527824</td><td>-3.049874</td><td>-2.723259</td><td>-0.339742</td><td>-0.164983</td><td>-3.180119</td><td>-1.244114</td><td>0.347453</td><td>0.956888</td><td>0.465522</td><td>2.126269</td><td>5.540723</td><td>-2.493066</td><td>&hellip;</td><td>0.281111</td><td>21.504911</td><td>2.106209</td><td>2.607128</td><td>0.702114</td><td>2.954546</td><td>-0.186826</td><td>0.855301</td><td>1.493915</td><td>3.049307</td><td>1.778495</td><td>0.085594</td><td>0.086714</td><td>0.196016</td><td>0.204198</td><td>0.098731</td><td>0.11135</td><td>1.925987</td><td>0.479394</td><td>3.621867</td><td>-0.107114</td><td>-0.063599</td><td>1.204755</td><td>-0.148711</td><td>-0.026583</td><td>-0.256395</td><td>9</td><td>0</td><td>0.23585</td><td>0.556479</td><td>0.618944</td><td>-0.243765</td><td>-0.108361</td><td>-0.260777</td><td>-0.486923</td><td>-0.275566</td><td>-1.020708</td></tr><tr><td>47127337</td><td>1698</td><td>967</td><td>38</td><td>3.193685</td><td>1.354142</td><td>-0.685018</td><td>1.459248</td><td>1.024345</td><td>0.370474</td><td>0.974584</td><td>0.813893</td><td>1.814489</td><td>0.675859</td><td>-1.342731</td><td>-1.946119</td><td>-1.012488</td><td>1.40433</td><td>2.189746</td><td>2.751339</td><td>0.534357</td><td>1.38014</td><td>3.039412</td><td>0.467397</td><td>1.936951</td><td>-0.405477</td><td>-1.487868</td><td>1.889422</td><td>2.007436</td><td>-3.281258</td><td>-1.428393</td><td>0.674766</td><td>1.441078</td><td>1.051291</td><td>-0.463442</td><td>1.986859</td><td>-1.43855</td><td>&hellip;</td><td>0.143878</td><td>-0.861184</td><td>0.888425</td><td>0.183365</td><td>1.964393</td><td>1.158914</td><td>1.27024</td><td>1.092317</td><td>1.459327</td><td>3.108348</td><td>2.070481</td><td>-0.143799</td><td>-0.061746</td><td>-0.148399</td><td>-0.068394</td><td>-0.112018</td><td>-0.071564</td><td>1.228778</td><td>0.512562</td><td>-0.050865</td><td>0.160883</td><td>0.080756</td><td>-0.078237</td><td>-0.138548</td><td>-0.038771</td><td>-0.21194</td><td>9</td><td>0</td><td>0.542563</td><td>0.513193</td><td>0.814393</td><td>0.032767</td><td>0.025435</td><td>0.311465</td><td>-0.044797</td><td>0.011133</td><td>-0.0793</td></tr></tbody></table></div>"
      ],
      "text/plain": [
       "shape: (17_068_838, 104)\n",
       "┌──────────┬─────────┬─────────┬───────────┬───┬────────────┬────────────┬────────────┬────────────┐\n",
       "│ id       ┆ date_id ┆ time_id ┆ symbol_id ┆ … ┆ responder_ ┆ responder_ ┆ responder_ ┆ responder_ │\n",
       "│ ---      ┆ ---     ┆ ---     ┆ ---       ┆   ┆ 5_lag_1    ┆ 6_lag_1    ┆ 7_lag_1    ┆ 8_lag_1    │\n",
       "│ u32      ┆ i16     ┆ i16     ┆ i8        ┆   ┆ ---        ┆ ---        ┆ ---        ┆ ---        │\n",
       "│          ┆         ┆         ┆           ┆   ┆ f32        ┆ f32        ┆ f32        ┆ f32        │\n",
       "╞══════════╪═════════╪═════════╪═══════════╪═══╪════════════╪════════════╪════════════╪════════════╡\n",
       "│ 6316560  ┆ 434     ┆ 0       ┆ 0         ┆ … ┆ null       ┆ null       ┆ null       ┆ null       │\n",
       "│ 6316561  ┆ 434     ┆ 0       ┆ 1         ┆ … ┆ null       ┆ null       ┆ null       ┆ null       │\n",
       "│ 6316562  ┆ 434     ┆ 0       ┆ 2         ┆ … ┆ null       ┆ null       ┆ null       ┆ null       │\n",
       "│ 6316563  ┆ 434     ┆ 0       ┆ 3         ┆ … ┆ null       ┆ null       ┆ null       ┆ null       │\n",
       "│ 6316564  ┆ 434     ┆ 0       ┆ 7         ┆ … ┆ null       ┆ null       ┆ null       ┆ null       │\n",
       "│ …        ┆ …       ┆ …       ┆ …         ┆ … ┆ …          ┆ …          ┆ …          ┆ …          │\n",
       "│ 47127333 ┆ 1698    ┆ 967     ┆ 34        ┆ … ┆ -0.283954  ┆ -0.045938  ┆ 0.009797   ┆ -0.102538  │\n",
       "│ 47127334 ┆ 1698    ┆ 967     ┆ 35        ┆ … ┆ -0.291133  ┆ 0.167733   ┆ 0.099704   ┆ 0.32461    │\n",
       "│ 47127335 ┆ 1698    ┆ 967     ┆ 36        ┆ … ┆ -1.256913  ┆ -0.109359  ┆ -0.027474  ┆ -0.253956  │\n",
       "│ 47127336 ┆ 1698    ┆ 967     ┆ 37        ┆ … ┆ -0.260777  ┆ -0.486923  ┆ -0.275566  ┆ -1.020708  │\n",
       "│ 47127337 ┆ 1698    ┆ 967     ┆ 38        ┆ … ┆ 0.311465   ┆ -0.044797  ┆ 0.011133   ┆ -0.0793    │\n",
       "└──────────┴─────────┴─────────┴───────────┴───┴────────────┴────────────┴────────────┴────────────┘"
      ]
     },
     "execution_count": 12,
     "metadata": {},
     "output_type": "execute_result"
    }
   ],
   "source": [
    "train = train.join(lags, on=[\"date_id\", \"symbol_id\"],  how=\"left\")\n",
    "train"
   ]
  },
  {
   "cell_type": "markdown",
   "id": "634e2b08",
   "metadata": {
    "papermill": {
     "duration": 0.005818,
     "end_time": "2025-01-03T04:51:58.434521",
     "exception": false,
     "start_time": "2025-01-03T04:51:58.428703",
     "status": "completed"
    },
    "tags": []
   },
   "source": [
    "# Split training data and validation data"
   ]
  },
  {
   "cell_type": "code",
   "execution_count": 13,
   "id": "3602cda8",
   "metadata": {
    "execution": {
     "iopub.execute_input": "2025-01-03T04:51:58.447688Z",
     "iopub.status.busy": "2025-01-03T04:51:58.447292Z",
     "iopub.status.idle": "2025-01-03T04:51:59.750372Z",
     "shell.execute_reply": "2025-01-03T04:51:59.749278Z"
    },
    "papermill": {
     "duration": 1.312496,
     "end_time": "2025-01-03T04:51:59.752861",
     "exception": false,
     "start_time": "2025-01-03T04:51:58.440365",
     "status": "completed"
    },
    "tags": []
   },
   "outputs": [
    {
     "name": "stdout",
     "output_type": "stream",
     "text": [
      "\n",
      " len_train = 17068838\n",
      "\n",
      " len_ofl_mdl = 16215397\n",
      "\n",
      "---> Last offline train date = 1676\n",
      "\n"
     ]
    }
   ],
   "source": [
    "len_train   = train.select(pl.col(\"date_id\")).shape[0]\n",
    "valid_records = int(len_train * CONFIG.valid_ratio)\n",
    "len_ofl_mdl = len_train - valid_records\n",
    "last_tr_dt  = train.select(pl.col(\"date_id\")).row(len_ofl_mdl)[0]\n",
    "\n",
    "print(f\"\\n len_train = {len_train}\")\n",
    "print(f\"\\n len_ofl_mdl = {len_ofl_mdl}\")\n",
    "print(f\"\\n---> Last offline train date = {last_tr_dt}\\n\")\n",
    "\n",
    "training_data = train.filter(pl.col(\"date_id\").le(last_tr_dt))\n",
    "validation_data = train.filter(pl.col(\"date_id\").gt(last_tr_dt))"
   ]
  },
  {
   "cell_type": "code",
   "execution_count": 14,
   "id": "8068d6f5",
   "metadata": {
    "execution": {
     "iopub.execute_input": "2025-01-03T04:51:59.766932Z",
     "iopub.status.busy": "2025-01-03T04:51:59.766583Z",
     "iopub.status.idle": "2025-01-03T04:51:59.783721Z",
     "shell.execute_reply": "2025-01-03T04:51:59.782529Z"
    },
    "papermill": {
     "duration": 0.026899,
     "end_time": "2025-01-03T04:51:59.785867",
     "exception": false,
     "start_time": "2025-01-03T04:51:59.758968",
     "status": "completed"
    },
    "tags": []
   },
   "outputs": [
    {
     "data": {
      "text/html": [
       "<div><style>\n",
       ".dataframe > thead > tr,\n",
       ".dataframe > tbody > tr {\n",
       "  text-align: right;\n",
       "  white-space: pre-wrap;\n",
       "}\n",
       "</style>\n",
       "<small>shape: (826_672, 104)</small><table border=\"1\" class=\"dataframe\"><thead><tr><th>id</th><th>date_id</th><th>time_id</th><th>symbol_id</th><th>weight</th><th>feature_00</th><th>feature_01</th><th>feature_02</th><th>feature_03</th><th>feature_04</th><th>feature_05</th><th>feature_06</th><th>feature_07</th><th>feature_08</th><th>feature_09</th><th>feature_10</th><th>feature_11</th><th>feature_12</th><th>feature_13</th><th>feature_14</th><th>feature_15</th><th>feature_16</th><th>feature_17</th><th>feature_18</th><th>feature_19</th><th>feature_20</th><th>feature_21</th><th>feature_22</th><th>feature_23</th><th>feature_24</th><th>feature_25</th><th>feature_26</th><th>feature_27</th><th>feature_28</th><th>feature_29</th><th>feature_30</th><th>feature_31</th><th>&hellip;</th><th>feature_62</th><th>feature_63</th><th>feature_64</th><th>feature_65</th><th>feature_66</th><th>feature_67</th><th>feature_68</th><th>feature_69</th><th>feature_70</th><th>feature_71</th><th>feature_72</th><th>feature_73</th><th>feature_74</th><th>feature_75</th><th>feature_76</th><th>feature_77</th><th>feature_78</th><th>responder_0</th><th>responder_1</th><th>responder_2</th><th>responder_3</th><th>responder_4</th><th>responder_5</th><th>responder_6</th><th>responder_7</th><th>responder_8</th><th>partition_id</th><th>label</th><th>responder_0_lag_1</th><th>responder_1_lag_1</th><th>responder_2_lag_1</th><th>responder_3_lag_1</th><th>responder_4_lag_1</th><th>responder_5_lag_1</th><th>responder_6_lag_1</th><th>responder_7_lag_1</th><th>responder_8_lag_1</th></tr><tr><td>u32</td><td>i16</td><td>i16</td><td>i8</td><td>f32</td><td>f32</td><td>f32</td><td>f32</td><td>f32</td><td>f32</td><td>f32</td><td>f32</td><td>f32</td><td>f32</td><td>f64</td><td>f64</td><td>f64</td><td>f32</td><td>f32</td><td>f32</td><td>f32</td><td>f32</td><td>f32</td><td>f32</td><td>f32</td><td>f32</td><td>f32</td><td>f32</td><td>f32</td><td>f32</td><td>f32</td><td>f32</td><td>f32</td><td>f32</td><td>f32</td><td>f32</td><td>f32</td><td>&hellip;</td><td>f32</td><td>f32</td><td>f32</td><td>f32</td><td>f32</td><td>f32</td><td>f32</td><td>f32</td><td>f32</td><td>f32</td><td>f32</td><td>f32</td><td>f32</td><td>f32</td><td>f32</td><td>f32</td><td>f32</td><td>f32</td><td>f32</td><td>f32</td><td>f32</td><td>f32</td><td>f32</td><td>f32</td><td>f32</td><td>f32</td><td>i64</td><td>i32</td><td>f32</td><td>f32</td><td>f32</td><td>f32</td><td>f32</td><td>f32</td><td>f32</td><td>f32</td><td>f32</td></tr></thead><tbody><tr><td>46300666</td><td>1677</td><td>0</td><td>0</td><td>2.873274</td><td>2.051845</td><td>-2.087524</td><td>2.128948</td><td>2.491857</td><td>2.637451</td><td>-1.587871</td><td>2.166003</td><td>0.947398</td><td>1.797012</td><td>-1.41199</td><td>-1.355286</td><td>-1.029183</td><td>-1.248793</td><td>11.645766</td><td>1.188871</td><td>1.908303</td><td>3.970276</td><td>3.216037</td><td>-0.849407</td><td>-0.969587</td><td>2.056125</td><td>-2.168102</td><td>1.789578</td><td>0.904839</td><td>-2.752288</td><td>-0.217181</td><td>1.091592</td><td>1.86991</td><td>1.271379</td><td>-0.29733</td><td>6.171846</td><td>-2.208922</td><td>&hellip;</td><td>0.186402</td><td>-1.613989</td><td>0.799266</td><td>-1.32266</td><td>-1.432696</td><td>-0.980803</td><td>11.07325</td><td>1.147051</td><td>-1.327311</td><td>9.655219</td><td>0.50019</td><td>0.041329</td><td>0.084309</td><td>1.361918</td><td>1.011515</td><td>0.373965</td><td>0.544464</td><td>-0.476772</td><td>-0.407066</td><td>-0.178412</td><td>0.651198</td><td>0.20705</td><td>-0.392802</td><td>1.096466</td><td>0.778626</td><td>-1.199324</td><td>9</td><td>2</td><td>-0.428585</td><td>-0.136251</td><td>1.566364</td><td>0.428843</td><td>0.23351</td><td>0.71017</td><td>0.007499</td><td>0.026758</td><td>-0.001246</td></tr><tr><td>46300667</td><td>1677</td><td>0</td><td>1</td><td>2.609207</td><td>2.884391</td><td>-2.057323</td><td>1.954708</td><td>2.253064</td><td>3.194304</td><td>-1.55187</td><td>2.356646</td><td>0.740778</td><td>1.720752</td><td>-1.41199</td><td>-1.355286</td><td>-1.029183</td><td>-1.244164</td><td>5.429528</td><td>0.395587</td><td>1.908303</td><td>7.580124</td><td>3.216037</td><td>-1.494669</td><td>-2.82874</td><td>2.708776</td><td>-1.459074</td><td>1.177254</td><td>0.706527</td><td>-2.644916</td><td>-0.264686</td><td>-1.045596</td><td>0.673719</td><td>1.693</td><td>0.625036</td><td>-4.596419</td><td>-1.363878</td><td>&hellip;</td><td>0.552515</td><td>7.9913</td><td>3.067132</td><td>-0.924866</td><td>-0.867734</td><td>-1.252565</td><td>10.660516</td><td>0.718726</td><td>-1.775867</td><td>4.808345</td><td>0.015539</td><td>0.041329</td><td>0.084309</td><td>1.262893</td><td>0.943764</td><td>0.401632</td><td>0.323128</td><td>-0.300104</td><td>-0.102044</td><td>-0.582812</td><td>0.399036</td><td>0.24965</td><td>0.589496</td><td>0.999029</td><td>0.337954</td><td>1.417968</td><td>9</td><td>1</td><td>-1.801191</td><td>-0.857617</td><td>0.480688</td><td>0.113079</td><td>0.061259</td><td>0.231233</td><td>0.221989</td><td>0.229291</td><td>0.457717</td></tr><tr><td>46300668</td><td>1677</td><td>0</td><td>2</td><td>2.283649</td><td>2.576077</td><td>-1.748822</td><td>1.637638</td><td>2.641702</td><td>2.768065</td><td>-2.165068</td><td>2.045094</td><td>0.675855</td><td>0.800727</td><td>-1.287678</td><td>-1.847647</td><td>-1.029819</td><td>-0.51008</td><td>25.694603</td><td>3.435648</td><td>1.908303</td><td>4.771524</td><td>3.216037</td><td>-0.837515</td><td>-1.442619</td><td>1.323822</td><td>-2.343809</td><td>0.680286</td><td>0.990703</td><td>-2.884496</td><td>-0.548675</td><td>0.745641</td><td>1.312172</td><td>0.644177</td><td>3.747975</td><td>5.480609</td><td>-2.944521</td><td>&hellip;</td><td>0.295382</td><td>6.562002</td><td>0.975869</td><td>-0.80762</td><td>-1.203791</td><td>0.216954</td><td>27.820011</td><td>7.363719</td><td>-1.553156</td><td>11.836189</td><td>0.889991</td><td>0.041329</td><td>0.084309</td><td>0.588648</td><td>0.544519</td><td>0.115381</td><td>0.036392</td><td>-0.174525</td><td>-0.242761</td><td>-0.528811</td><td>1.071503</td><td>0.880852</td><td>-2.011909</td><td>3.733616</td><td>1.047214</td><td>-3.185961</td><td>9</td><td>7</td><td>-0.628089</td><td>0.181011</td><td>-1.207484</td><td>1.384124</td><td>0.922712</td><td>-0.058739</td><td>0.198621</td><td>0.084671</td><td>0.338622</td></tr><tr><td>46300669</td><td>1677</td><td>0</td><td>3</td><td>1.90857</td><td>2.634571</td><td>-2.078476</td><td>2.306932</td><td>2.581763</td><td>2.65166</td><td>-1.577868</td><td>1.824954</td><td>0.84994</td><td>1.857093</td><td>-1.424421</td><td>-1.749175</td><td>-1.031616</td><td>-1.179679</td><td>17.189577</td><td>1.153447</td><td>1.908303</td><td>10.669032</td><td>3.216037</td><td>-0.917117</td><td>-2.545076</td><td>0.543072</td><td>-1.780067</td><td>0.31704</td><td>1.147671</td><td>-2.749204</td><td>-0.632405</td><td>0.183184</td><td>0.778162</td><td>0.189492</td><td>-0.014575</td><td>8.728395</td><td>-2.442986</td><td>&hellip;</td><td>0.354595</td><td>17.396265</td><td>2.24073</td><td>-0.380307</td><td>-1.433383</td><td>-0.594029</td><td>17.118586</td><td>2.418219</td><td>-1.2218</td><td>9.545094</td><td>0.358937</td><td>0.041329</td><td>0.084309</td><td>1.732601</td><td>1.28041</td><td>0.563479</td><td>0.576154</td><td>0.207932</td><td>-0.162053</td><td>0.516934</td><td>1.292413</td><td>-0.179215</td><td>0.916088</td><td>1.026692</td><td>-0.074256</td><td>1.460618</td><td>9</td><td>2</td><td>0.892754</td><td>0.094917</td><td>0.144263</td><td>0.315577</td><td>0.215864</td><td>0.864607</td><td>0.950294</td><td>0.473284</td><td>0.775277</td></tr><tr><td>46300670</td><td>1677</td><td>0</td><td>5</td><td>2.311023</td><td>2.865599</td><td>-1.99862</td><td>1.641862</td><td>2.576653</td><td>2.859766</td><td>-1.626988</td><td>1.939323</td><td>0.551119</td><td>1.917266</td><td>-1.427973</td><td>-1.05987</td><td>-1.025627</td><td>-1.169856</td><td>10.96752</td><td>0.725063</td><td>1.908303</td><td>5.571417</td><td>3.216037</td><td>-2.363008</td><td>-2.53181</td><td>2.551679</td><td>-1.930133</td><td>1.126099</td><td>0.225765</td><td>-2.674609</td><td>-0.079823</td><td>-0.344176</td><td>0.952108</td><td>1.340389</td><td>-1.789045</td><td>5.082495</td><td>-1.831453</td><td>&hellip;</td><td>0.308361</td><td>1.173485</td><td>2.76453</td><td>-1.537954</td><td>-0.768984</td><td>-1.217605</td><td>7.5347</td><td>0.51204</td><td>-1.430233</td><td>7.38337</td><td>0.960662</td><td>0.041329</td><td>0.084309</td><td>2.873025</td><td>1.870071</td><td>0.933466</td><td>0.914133</td><td>-0.111481</td><td>-0.075531</td><td>-0.202773</td><td>-0.752794</td><td>1.247104</td><td>-0.485876</td><td>-1.0209</td><td>1.181706</td><td>-1.000387</td><td>9</td><td>-2</td><td>-2.949066</td><td>-1.534304</td><td>0.350876</td><td>1.799247</td><td>0.62321</td><td>0.280726</td><td>0.15865</td><td>0.094266</td><td>0.232934</td></tr><tr><td>&hellip;</td><td>&hellip;</td><td>&hellip;</td><td>&hellip;</td><td>&hellip;</td><td>&hellip;</td><td>&hellip;</td><td>&hellip;</td><td>&hellip;</td><td>&hellip;</td><td>&hellip;</td><td>&hellip;</td><td>&hellip;</td><td>&hellip;</td><td>&hellip;</td><td>&hellip;</td><td>&hellip;</td><td>&hellip;</td><td>&hellip;</td><td>&hellip;</td><td>&hellip;</td><td>&hellip;</td><td>&hellip;</td><td>&hellip;</td><td>&hellip;</td><td>&hellip;</td><td>&hellip;</td><td>&hellip;</td><td>&hellip;</td><td>&hellip;</td><td>&hellip;</td><td>&hellip;</td><td>&hellip;</td><td>&hellip;</td><td>&hellip;</td><td>&hellip;</td><td>&hellip;</td><td>&hellip;</td><td>&hellip;</td><td>&hellip;</td><td>&hellip;</td><td>&hellip;</td><td>&hellip;</td><td>&hellip;</td><td>&hellip;</td><td>&hellip;</td><td>&hellip;</td><td>&hellip;</td><td>&hellip;</td><td>&hellip;</td><td>&hellip;</td><td>&hellip;</td><td>&hellip;</td><td>&hellip;</td><td>&hellip;</td><td>&hellip;</td><td>&hellip;</td><td>&hellip;</td><td>&hellip;</td><td>&hellip;</td><td>&hellip;</td><td>&hellip;</td><td>&hellip;</td><td>&hellip;</td><td>&hellip;</td><td>&hellip;</td><td>&hellip;</td><td>&hellip;</td><td>&hellip;</td><td>&hellip;</td><td>&hellip;</td><td>&hellip;</td><td>&hellip;</td><td>&hellip;</td><td>&hellip;</td></tr><tr><td>47127333</td><td>1698</td><td>967</td><td>34</td><td>3.242493</td><td>1.161628</td><td>-0.665683</td><td>1.22196</td><td>1.154109</td><td>0.338164</td><td>0.891683</td><td>0.941189</td><td>1.908768</td><td>0.787044</td><td>-1.356938</td><td>-1.55223</td><td>-1.026413</td><td>2.290397</td><td>3.789178</td><td>2.792779</td><td>2.529841</td><td>4.425087</td><td>3.897956</td><td>1.846684</td><td>0.156879</td><td>0.590978</td><td>-2.452438</td><td>0.99381</td><td>1.987114</td><td>-3.343163</td><td>-1.276368</td><td>0.093324</td><td>1.93393</td><td>2.087409</td><td>0.71573</td><td>-1.72913</td><td>-2.674619</td><td>&hellip;</td><td>0.267257</td><td>7.995877</td><td>0.781016</td><td>2.547037</td><td>0.150737</td><td>2.366914</td><td>3.314534</td><td>1.449159</td><td>3.38448</td><td>4.069668</td><td>4.628181</td><td>0.019924</td><td>0.019806</td><td>0.242348</td><td>0.320862</td><td>0.092946</td><td>0.150246</td><td>0.243475</td><td>0.166927</td><td>0.38494</td><td>-0.174297</td><td>-0.066046</td><td>-0.038767</td><td>-0.132337</td><td>-0.022426</td><td>-0.252461</td><td>9</td><td>0</td><td>0.501321</td><td>0.905332</td><td>-0.819582</td><td>-0.564046</td><td>-0.223018</td><td>-0.283954</td><td>-0.045938</td><td>0.009797</td><td>-0.102538</td></tr><tr><td>47127334</td><td>1698</td><td>967</td><td>35</td><td>1.079139</td><td>0.529922</td><td>-0.722768</td><td>1.417222</td><td>1.020946</td><td>0.709732</td><td>0.746988</td><td>0.993193</td><td>1.708587</td><td>0.638972</td><td>-1.387128</td><td>-1.355286</td><td>-1.024728</td><td>0.3313</td><td>-0.098006</td><td>-0.00958</td><td>4.306299</td><td>9.164734</td><td>5.649051</td><td>1.994075</td><td>0.341983</td><td>0.14223</td><td>-1.854436</td><td>-1.151454</td><td>-0.165783</td><td>-3.009116</td><td>-0.690717</td><td>0.339223</td><td>0.142043</td><td>-0.182698</td><td>5.814374</td><td>14.609987</td><td>-1.984501</td><td>&hellip;</td><td>0.288492</td><td>10.197431</td><td>1.901252</td><td>2.182923</td><td>0.192487</td><td>0.50216</td><td>0.013813</td><td>0.011727</td><td>0.036124</td><td>0.021788</td><td>0.057631</td><td>0.009202</td><td>0.032418</td><td>0.776885</td><td>0.578446</td><td>0.158492</td><td>0.178672</td><td>0.850152</td><td>0.909382</td><td>1.015314</td><td>0.235962</td><td>0.122539</td><td>0.099559</td><td>-0.249584</td><td>-0.123571</td><td>-0.46063</td><td>9</td><td>0</td><td>-1.113053</td><td>0.69719</td><td>-1.619031</td><td>-1.222743</td><td>-0.706082</td><td>-0.291133</td><td>0.167733</td><td>0.099704</td><td>0.32461</td></tr><tr><td>47127335</td><td>1698</td><td>967</td><td>36</td><td>1.033172</td><td>1.152509</td><td>-0.624379</td><td>0.974966</td><td>1.196625</td><td>0.196945</td><td>1.035988</td><td>0.986301</td><td>1.892499</td><td>0.523708</td><td>-1.344507</td><td>-1.355286</td><td>-1.02091</td><td>2.785489</td><td>0.067674</td><td>0.962128</td><td>3.546333</td><td>1.156188</td><td>2.213644</td><td>2.439405</td><td>0.457112</td><td>0.348453</td><td>-1.854436</td><td>-1.086267</td><td>-0.457393</td><td>-3.127841</td><td>-0.996608</td><td>0.339223</td><td>0.142043</td><td>-0.154037</td><td>2.083538</td><td>14.075168</td><td>-1.984501</td><td>&hellip;</td><td>0.289465</td><td>10.68751</td><td>1.339279</td><td>2.377051</td><td>0.756934</td><td>3.082911</td><td>-0.630537</td><td>0.777092</td><td>2.338257</td><td>0.406235</td><td>1.294739</td><td>-0.011891</td><td>0.043998</td><td>0.10967</td><td>0.117301</td><td>0.271831</td><td>0.263699</td><td>0.395684</td><td>-0.292574</td><td>-3.215846</td><td>-0.535129</td><td>-0.178484</td><td>-1.80815</td><td>-0.065355</td><td>-0.000367</td><td>-0.12517</td><td>9</td><td>0</td><td>-1.019353</td><td>-0.460962</td><td>-2.026678</td><td>-0.848606</td><td>-0.305448</td><td>-1.256913</td><td>-0.109359</td><td>-0.027474</td><td>-0.253956</td></tr><tr><td>47127336</td><td>1698</td><td>967</td><td>37</td><td>1.243116</td><td>1.292408</td><td>-0.804627</td><td>0.998141</td><td>1.757201</td><td>0.257244</td><td>0.712089</td><td>0.997654</td><td>1.393654</td><td>0.636096</td><td>-1.371145</td><td>-1.650702</td><td>-1.024017</td><td>2.189982</td><td>1.198084</td><td>1.399475</td><td>2.956911</td><td>2.817212</td><td>0.776417</td><td>1.96859</td><td>0.527824</td><td>-3.049874</td><td>-2.723259</td><td>-0.339742</td><td>-0.164983</td><td>-3.180119</td><td>-1.244114</td><td>0.347453</td><td>0.956888</td><td>0.465522</td><td>2.126269</td><td>5.540723</td><td>-2.493066</td><td>&hellip;</td><td>0.281111</td><td>21.504911</td><td>2.106209</td><td>2.607128</td><td>0.702114</td><td>2.954546</td><td>-0.186826</td><td>0.855301</td><td>1.493915</td><td>3.049307</td><td>1.778495</td><td>0.085594</td><td>0.086714</td><td>0.196016</td><td>0.204198</td><td>0.098731</td><td>0.11135</td><td>1.925987</td><td>0.479394</td><td>3.621867</td><td>-0.107114</td><td>-0.063599</td><td>1.204755</td><td>-0.148711</td><td>-0.026583</td><td>-0.256395</td><td>9</td><td>0</td><td>0.23585</td><td>0.556479</td><td>0.618944</td><td>-0.243765</td><td>-0.108361</td><td>-0.260777</td><td>-0.486923</td><td>-0.275566</td><td>-1.020708</td></tr><tr><td>47127337</td><td>1698</td><td>967</td><td>38</td><td>3.193685</td><td>1.354142</td><td>-0.685018</td><td>1.459248</td><td>1.024345</td><td>0.370474</td><td>0.974584</td><td>0.813893</td><td>1.814489</td><td>0.675859</td><td>-1.342731</td><td>-1.946119</td><td>-1.012488</td><td>1.40433</td><td>2.189746</td><td>2.751339</td><td>0.534357</td><td>1.38014</td><td>3.039412</td><td>0.467397</td><td>1.936951</td><td>-0.405477</td><td>-1.487868</td><td>1.889422</td><td>2.007436</td><td>-3.281258</td><td>-1.428393</td><td>0.674766</td><td>1.441078</td><td>1.051291</td><td>-0.463442</td><td>1.986859</td><td>-1.43855</td><td>&hellip;</td><td>0.143878</td><td>-0.861184</td><td>0.888425</td><td>0.183365</td><td>1.964393</td><td>1.158914</td><td>1.27024</td><td>1.092317</td><td>1.459327</td><td>3.108348</td><td>2.070481</td><td>-0.143799</td><td>-0.061746</td><td>-0.148399</td><td>-0.068394</td><td>-0.112018</td><td>-0.071564</td><td>1.228778</td><td>0.512562</td><td>-0.050865</td><td>0.160883</td><td>0.080756</td><td>-0.078237</td><td>-0.138548</td><td>-0.038771</td><td>-0.21194</td><td>9</td><td>0</td><td>0.542563</td><td>0.513193</td><td>0.814393</td><td>0.032767</td><td>0.025435</td><td>0.311465</td><td>-0.044797</td><td>0.011133</td><td>-0.0793</td></tr></tbody></table></div>"
      ],
      "text/plain": [
       "shape: (826_672, 104)\n",
       "┌──────────┬─────────┬─────────┬───────────┬───┬────────────┬────────────┬────────────┬────────────┐\n",
       "│ id       ┆ date_id ┆ time_id ┆ symbol_id ┆ … ┆ responder_ ┆ responder_ ┆ responder_ ┆ responder_ │\n",
       "│ ---      ┆ ---     ┆ ---     ┆ ---       ┆   ┆ 5_lag_1    ┆ 6_lag_1    ┆ 7_lag_1    ┆ 8_lag_1    │\n",
       "│ u32      ┆ i16     ┆ i16     ┆ i8        ┆   ┆ ---        ┆ ---        ┆ ---        ┆ ---        │\n",
       "│          ┆         ┆         ┆           ┆   ┆ f32        ┆ f32        ┆ f32        ┆ f32        │\n",
       "╞══════════╪═════════╪═════════╪═══════════╪═══╪════════════╪════════════╪════════════╪════════════╡\n",
       "│ 46300666 ┆ 1677    ┆ 0       ┆ 0         ┆ … ┆ 0.71017    ┆ 0.007499   ┆ 0.026758   ┆ -0.001246  │\n",
       "│ 46300667 ┆ 1677    ┆ 0       ┆ 1         ┆ … ┆ 0.231233   ┆ 0.221989   ┆ 0.229291   ┆ 0.457717   │\n",
       "│ 46300668 ┆ 1677    ┆ 0       ┆ 2         ┆ … ┆ -0.058739  ┆ 0.198621   ┆ 0.084671   ┆ 0.338622   │\n",
       "│ 46300669 ┆ 1677    ┆ 0       ┆ 3         ┆ … ┆ 0.864607   ┆ 0.950294   ┆ 0.473284   ┆ 0.775277   │\n",
       "│ 46300670 ┆ 1677    ┆ 0       ┆ 5         ┆ … ┆ 0.280726   ┆ 0.15865    ┆ 0.094266   ┆ 0.232934   │\n",
       "│ …        ┆ …       ┆ …       ┆ …         ┆ … ┆ …          ┆ …          ┆ …          ┆ …          │\n",
       "│ 47127333 ┆ 1698    ┆ 967     ┆ 34        ┆ … ┆ -0.283954  ┆ -0.045938  ┆ 0.009797   ┆ -0.102538  │\n",
       "│ 47127334 ┆ 1698    ┆ 967     ┆ 35        ┆ … ┆ -0.291133  ┆ 0.167733   ┆ 0.099704   ┆ 0.32461    │\n",
       "│ 47127335 ┆ 1698    ┆ 967     ┆ 36        ┆ … ┆ -1.256913  ┆ -0.109359  ┆ -0.027474  ┆ -0.253956  │\n",
       "│ 47127336 ┆ 1698    ┆ 967     ┆ 37        ┆ … ┆ -0.260777  ┆ -0.486923  ┆ -0.275566  ┆ -1.020708  │\n",
       "│ 47127337 ┆ 1698    ┆ 967     ┆ 38        ┆ … ┆ 0.311465   ┆ -0.044797  ┆ 0.011133   ┆ -0.0793    │\n",
       "└──────────┴─────────┴─────────┴───────────┴───┴────────────┴────────────┴────────────┴────────────┘"
      ]
     },
     "execution_count": 14,
     "metadata": {},
     "output_type": "execute_result"
    }
   ],
   "source": [
    "validation_data"
   ]
  },
  {
   "cell_type": "markdown",
   "id": "44915209",
   "metadata": {
    "papermill": {
     "duration": 0.006071,
     "end_time": "2025-01-03T04:51:59.798858",
     "exception": false,
     "start_time": "2025-01-03T04:51:59.792787",
     "status": "completed"
    },
    "tags": []
   },
   "source": [
    "# Save data as parquets"
   ]
  },
  {
   "cell_type": "code",
   "execution_count": 15,
   "id": "a0bab844",
   "metadata": {
    "execution": {
     "iopub.execute_input": "2025-01-03T04:51:59.812756Z",
     "iopub.status.busy": "2025-01-03T04:51:59.812338Z",
     "iopub.status.idle": "2025-01-03T04:52:25.621226Z",
     "shell.execute_reply": "2025-01-03T04:52:25.620381Z"
    },
    "papermill": {
     "duration": 25.818642,
     "end_time": "2025-01-03T04:52:25.623662",
     "exception": false,
     "start_time": "2025-01-03T04:51:59.805020",
     "status": "completed"
    },
    "tags": []
   },
   "outputs": [],
   "source": [
    "training_data.\\\n",
    "write_parquet(\n",
    "    f\"training_data.parquet\"\n",
    ")"
   ]
  },
  {
   "cell_type": "code",
   "execution_count": 16,
   "id": "593e4d92",
   "metadata": {
    "execution": {
     "iopub.execute_input": "2025-01-03T04:52:25.638318Z",
     "iopub.status.busy": "2025-01-03T04:52:25.637550Z",
     "iopub.status.idle": "2025-01-03T04:52:26.876744Z",
     "shell.execute_reply": "2025-01-03T04:52:26.875536Z"
    },
    "papermill": {
     "duration": 1.250037,
     "end_time": "2025-01-03T04:52:26.880328",
     "exception": false,
     "start_time": "2025-01-03T04:52:25.630291",
     "status": "completed"
    },
    "tags": []
   },
   "outputs": [],
   "source": [
    "validation_data.\\\n",
    "write_parquet(\n",
    "    f\"validation_data.parquet\"\n",
    ")"
   ]
  }
 ],
 "metadata": {
  "kaggle": {
   "accelerator": "none",
   "dataSources": [
    {
     "databundleVersionId": 9871156,
     "sourceId": 84493,
     "sourceType": "competition"
    }
   ],
   "dockerImageVersionId": 30786,
   "isGpuEnabled": false,
   "isInternetEnabled": false,
   "language": "python",
   "sourceType": "notebook"
  },
  "kernelspec": {
   "display_name": "Python 3",
   "language": "python",
   "name": "python3"
  },
  "language_info": {
   "codemirror_mode": {
    "name": "ipython",
    "version": 3
   },
   "file_extension": ".py",
   "mimetype": "text/x-python",
   "name": "python",
   "nbconvert_exporter": "python",
   "pygments_lexer": "ipython3",
   "version": "3.10.14"
  },
  "papermill": {
   "default_parameters": {},
   "duration": 153.883985,
   "end_time": "2025-01-03T04:52:29.937859",
   "environment_variables": {},
   "exception": null,
   "input_path": "__notebook__.ipynb",
   "output_path": "__notebook__.ipynb",
   "parameters": {},
   "start_time": "2025-01-03T04:49:56.053874",
   "version": "2.6.0"
  }
 },
 "nbformat": 4,
 "nbformat_minor": 5
}
