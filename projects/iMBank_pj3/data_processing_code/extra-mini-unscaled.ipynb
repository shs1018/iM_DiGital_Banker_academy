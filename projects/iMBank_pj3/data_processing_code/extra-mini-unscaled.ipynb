{
 "cells": [
  {
   "cell_type": "markdown",
   "id": "f22f11bc",
   "metadata": {
    "papermill": {
     "duration": 0.004403,
     "end_time": "2025-01-07T08:18:26.626704",
     "exception": false,
     "start_time": "2025-01-07T08:18:26.622301",
     "status": "completed"
    },
    "tags": []
   },
   "source": [
    "# Libraries"
   ]
  },
  {
   "cell_type": "code",
   "execution_count": 1,
   "id": "c9de0e9d",
   "metadata": {
    "execution": {
     "iopub.execute_input": "2025-01-07T08:18:26.636283Z",
     "iopub.status.busy": "2025-01-07T08:18:26.635427Z",
     "iopub.status.idle": "2025-01-07T08:18:28.976778Z",
     "shell.execute_reply": "2025-01-07T08:18:28.975802Z"
    },
    "papermill": {
     "duration": 2.34888,
     "end_time": "2025-01-07T08:18:28.979326",
     "exception": false,
     "start_time": "2025-01-07T08:18:26.630446",
     "status": "completed"
    },
    "tags": []
   },
   "outputs": [],
   "source": [
    "import pandas as pd\n",
    "import polars as pl\n",
    "import numpy as np\n",
    "import gc\n",
    "from matplotlib import pyplot as plt\n",
    "import matplotlib.cm as cm\n",
    "from sklearn.model_selection import StratifiedGroupKFold"
   ]
  },
  {
   "cell_type": "markdown",
   "id": "8fb63111",
   "metadata": {
    "papermill": {
     "duration": 0.003602,
     "end_time": "2025-01-07T08:18:28.986847",
     "exception": false,
     "start_time": "2025-01-07T08:18:28.983245",
     "status": "completed"
    },
    "tags": []
   },
   "source": [
    "# Configurations"
   ]
  },
  {
   "cell_type": "code",
   "execution_count": 2,
   "id": "16c8d07a",
   "metadata": {
    "execution": {
     "iopub.execute_input": "2025-01-07T08:18:28.995720Z",
     "iopub.status.busy": "2025-01-07T08:18:28.995230Z",
     "iopub.status.idle": "2025-01-07T08:18:29.001482Z",
     "shell.execute_reply": "2025-01-07T08:18:29.000353Z"
    },
    "papermill": {
     "duration": 0.013124,
     "end_time": "2025-01-07T08:18:29.003570",
     "exception": false,
     "start_time": "2025-01-07T08:18:28.990446",
     "status": "completed"
    },
    "tags": []
   },
   "outputs": [],
   "source": [
    "class CONFIG:\n",
    "    target_col = \"responder_6\"\n",
    "    lag_cols_original = [\"date_id\", \"symbol_id\"] + [f\"responder_{idx}\" for idx in range(9)]\n",
    "    lag_cols_rename = { f\"responder_{idx}\" : f\"responder_{idx}_lag_1\" for idx in range(9)}\n",
    "    valid_ratio = 0.05\n",
    "    start_dt = 1100\n",
    "    chg_date_1 = 484\n",
    "    chg_date_2 = 677\n",
    "    chg_date_3 = 1530 # 마지막 partiton"
   ]
  },
  {
   "cell_type": "markdown",
   "id": "53b39cfa",
   "metadata": {
    "papermill": {
     "duration": 0.00343,
     "end_time": "2025-01-07T08:18:29.011028",
     "exception": false,
     "start_time": "2025-01-07T08:18:29.007598",
     "status": "completed"
    },
    "tags": []
   },
   "source": [
    "# Load training data & select"
   ]
  },
  {
   "cell_type": "code",
   "execution_count": 3,
   "id": "44ff970c",
   "metadata": {
    "execution": {
     "iopub.execute_input": "2025-01-07T08:18:29.019874Z",
     "iopub.status.busy": "2025-01-07T08:18:29.019482Z",
     "iopub.status.idle": "2025-01-07T08:18:29.055775Z",
     "shell.execute_reply": "2025-01-07T08:18:29.054683Z"
    },
    "papermill": {
     "duration": 0.043134,
     "end_time": "2025-01-07T08:18:29.057802",
     "exception": false,
     "start_time": "2025-01-07T08:18:29.014668",
     "status": "completed"
    },
    "tags": []
   },
   "outputs": [],
   "source": [
    "# Use last 2 parquets\n",
    "\n",
    "train = pl.scan_parquet(\n",
    "    f\"/kaggle/input/jane-street-real-time-market-data-forecasting/train.parquet\"\n",
    ").select(\n",
    "    pl.int_range(pl.len(), dtype=pl.UInt32).alias(\"id\"),\n",
    "    pl.all(),\n",
    ").with_columns(\n",
    "    (pl.col(CONFIG.target_col)*2).cast(pl.Int32).alias(\"label\"),\n",
    ").filter(\n",
    "    (pl.col(\"date_id\") >= CONFIG.chg_date_1 - 30) & (pl.col(\"date_id\") <= CONFIG.chg_date_1 + 30)\n",
    "    | (pl.col(\"date_id\") >= CONFIG.chg_date_2 - 30) & (pl.col(\"date_id\") <= CONFIG.chg_date_2 + 30)\n",
    "    | (pl.col(\"date_id\") >= CONFIG.chg_date_3) # 데이터를 초반 두 번의 변화 두 번 전후 한달씩, 그리고 마지막 9 parquet을 가져옴.\n",
    ").fill_null(\n",
    "    strategy=\"forward\"\n",
    ").fill_null(\n",
    "    value=0 # 결측치는 일단 단순하게 0으로 처리 \n",
    ")"
   ]
  },
  {
   "cell_type": "code",
   "execution_count": 4,
   "id": "300017da",
   "metadata": {
    "execution": {
     "iopub.execute_input": "2025-01-07T08:18:29.066728Z",
     "iopub.status.busy": "2025-01-07T08:18:29.066326Z",
     "iopub.status.idle": "2025-01-07T08:19:25.193040Z",
     "shell.execute_reply": "2025-01-07T08:19:25.192025Z"
    },
    "papermill": {
     "duration": 56.138173,
     "end_time": "2025-01-07T08:19:25.199800",
     "exception": false,
     "start_time": "2025-01-07T08:18:29.061627",
     "status": "completed"
    },
    "tags": []
   },
   "outputs": [
    {
     "data": {
      "text/html": [
       "<div>\n",
       "<style scoped>\n",
       "    .dataframe tbody tr th:only-of-type {\n",
       "        vertical-align: middle;\n",
       "    }\n",
       "\n",
       "    .dataframe tbody tr th {\n",
       "        vertical-align: top;\n",
       "    }\n",
       "\n",
       "    .dataframe thead th {\n",
       "        text-align: right;\n",
       "    }\n",
       "</style>\n",
       "<table border=\"1\" class=\"dataframe\">\n",
       "  <thead>\n",
       "    <tr style=\"text-align: right;\">\n",
       "      <th></th>\n",
       "      <th>id</th>\n",
       "      <th>date_id</th>\n",
       "      <th>time_id</th>\n",
       "      <th>symbol_id</th>\n",
       "      <th>weight</th>\n",
       "      <th>feature_00</th>\n",
       "      <th>feature_01</th>\n",
       "      <th>feature_02</th>\n",
       "      <th>feature_03</th>\n",
       "      <th>feature_04</th>\n",
       "      <th>...</th>\n",
       "      <th>responder_1</th>\n",
       "      <th>responder_2</th>\n",
       "      <th>responder_3</th>\n",
       "      <th>responder_4</th>\n",
       "      <th>responder_5</th>\n",
       "      <th>responder_6</th>\n",
       "      <th>responder_7</th>\n",
       "      <th>responder_8</th>\n",
       "      <th>partition_id</th>\n",
       "      <th>label</th>\n",
       "    </tr>\n",
       "  </thead>\n",
       "  <tbody>\n",
       "    <tr>\n",
       "      <th>0</th>\n",
       "      <td>6655311</td>\n",
       "      <td>454</td>\n",
       "      <td>0</td>\n",
       "      <td>0</td>\n",
       "      <td>2.469772</td>\n",
       "      <td>2.011155</td>\n",
       "      <td>-1.183452</td>\n",
       "      <td>2.449150</td>\n",
       "      <td>1.968074</td>\n",
       "      <td>1.073371</td>\n",
       "      <td>...</td>\n",
       "      <td>-0.912550</td>\n",
       "      <td>-0.551103</td>\n",
       "      <td>0.071475</td>\n",
       "      <td>0.213802</td>\n",
       "      <td>0.920710</td>\n",
       "      <td>0.945452</td>\n",
       "      <td>0.355292</td>\n",
       "      <td>1.365892</td>\n",
       "      <td>2</td>\n",
       "      <td>1</td>\n",
       "    </tr>\n",
       "    <tr>\n",
       "      <th>1</th>\n",
       "      <td>6655312</td>\n",
       "      <td>454</td>\n",
       "      <td>0</td>\n",
       "      <td>1</td>\n",
       "      <td>4.609505</td>\n",
       "      <td>1.923074</td>\n",
       "      <td>-1.297473</td>\n",
       "      <td>1.898652</td>\n",
       "      <td>2.590320</td>\n",
       "      <td>0.983711</td>\n",
       "      <td>...</td>\n",
       "      <td>-0.381795</td>\n",
       "      <td>-0.265064</td>\n",
       "      <td>0.488816</td>\n",
       "      <td>0.821543</td>\n",
       "      <td>0.539706</td>\n",
       "      <td>0.821673</td>\n",
       "      <td>0.975165</td>\n",
       "      <td>1.707223</td>\n",
       "      <td>2</td>\n",
       "      <td>1</td>\n",
       "    </tr>\n",
       "    <tr>\n",
       "      <th>2</th>\n",
       "      <td>6655313</td>\n",
       "      <td>454</td>\n",
       "      <td>0</td>\n",
       "      <td>2</td>\n",
       "      <td>1.313092</td>\n",
       "      <td>2.103599</td>\n",
       "      <td>-0.866588</td>\n",
       "      <td>2.051928</td>\n",
       "      <td>2.211389</td>\n",
       "      <td>0.847589</td>\n",
       "      <td>...</td>\n",
       "      <td>-0.169111</td>\n",
       "      <td>-0.497740</td>\n",
       "      <td>2.245259</td>\n",
       "      <td>0.355446</td>\n",
       "      <td>0.867455</td>\n",
       "      <td>2.395301</td>\n",
       "      <td>0.417111</td>\n",
       "      <td>1.836413</td>\n",
       "      <td>2</td>\n",
       "      <td>4</td>\n",
       "    </tr>\n",
       "    <tr>\n",
       "      <th>3</th>\n",
       "      <td>6655314</td>\n",
       "      <td>454</td>\n",
       "      <td>0</td>\n",
       "      <td>3</td>\n",
       "      <td>0.953090</td>\n",
       "      <td>1.613543</td>\n",
       "      <td>-0.876514</td>\n",
       "      <td>2.681358</td>\n",
       "      <td>2.772389</td>\n",
       "      <td>1.059146</td>\n",
       "      <td>...</td>\n",
       "      <td>0.185034</td>\n",
       "      <td>0.866747</td>\n",
       "      <td>0.925349</td>\n",
       "      <td>-0.609420</td>\n",
       "      <td>1.878252</td>\n",
       "      <td>1.123068</td>\n",
       "      <td>-0.699646</td>\n",
       "      <td>2.347015</td>\n",
       "      <td>2</td>\n",
       "      <td>2</td>\n",
       "    </tr>\n",
       "    <tr>\n",
       "      <th>4</th>\n",
       "      <td>6655315</td>\n",
       "      <td>454</td>\n",
       "      <td>0</td>\n",
       "      <td>7</td>\n",
       "      <td>1.674723</td>\n",
       "      <td>2.253614</td>\n",
       "      <td>-1.061369</td>\n",
       "      <td>2.496380</td>\n",
       "      <td>2.403782</td>\n",
       "      <td>1.154420</td>\n",
       "      <td>...</td>\n",
       "      <td>-0.025160</td>\n",
       "      <td>-0.026998</td>\n",
       "      <td>0.154214</td>\n",
       "      <td>-0.225480</td>\n",
       "      <td>-0.242701</td>\n",
       "      <td>-0.107649</td>\n",
       "      <td>-0.422369</td>\n",
       "      <td>-0.321855</td>\n",
       "      <td>2</td>\n",
       "      <td>0</td>\n",
       "    </tr>\n",
       "  </tbody>\n",
       "</table>\n",
       "<p>5 rows × 95 columns</p>\n",
       "</div>"
      ],
      "text/plain": [
       "        id  date_id  time_id  symbol_id    weight  feature_00  feature_01  \\\n",
       "0  6655311      454        0          0  2.469772    2.011155   -1.183452   \n",
       "1  6655312      454        0          1  4.609505    1.923074   -1.297473   \n",
       "2  6655313      454        0          2  1.313092    2.103599   -0.866588   \n",
       "3  6655314      454        0          3  0.953090    1.613543   -0.876514   \n",
       "4  6655315      454        0          7  1.674723    2.253614   -1.061369   \n",
       "\n",
       "   feature_02  feature_03  feature_04  ...  responder_1  responder_2  \\\n",
       "0    2.449150    1.968074    1.073371  ...    -0.912550    -0.551103   \n",
       "1    1.898652    2.590320    0.983711  ...    -0.381795    -0.265064   \n",
       "2    2.051928    2.211389    0.847589  ...    -0.169111    -0.497740   \n",
       "3    2.681358    2.772389    1.059146  ...     0.185034     0.866747   \n",
       "4    2.496380    2.403782    1.154420  ...    -0.025160    -0.026998   \n",
       "\n",
       "   responder_3  responder_4  responder_5  responder_6  responder_7  \\\n",
       "0     0.071475     0.213802     0.920710     0.945452     0.355292   \n",
       "1     0.488816     0.821543     0.539706     0.821673     0.975165   \n",
       "2     2.245259     0.355446     0.867455     2.395301     0.417111   \n",
       "3     0.925349    -0.609420     1.878252     1.123068    -0.699646   \n",
       "4     0.154214    -0.225480    -0.242701    -0.107649    -0.422369   \n",
       "\n",
       "   responder_8  partition_id  label  \n",
       "0     1.365892             2      1  \n",
       "1     1.707223             2      1  \n",
       "2     1.836413             2      4  \n",
       "3     2.347015             2      2  \n",
       "4    -0.321855             2      0  \n",
       "\n",
       "[5 rows x 95 columns]"
      ]
     },
     "execution_count": 4,
     "metadata": {},
     "output_type": "execute_result"
    }
   ],
   "source": [
    "train = train.collect().to_pandas()\n",
    "train.head()"
   ]
  },
  {
   "cell_type": "code",
   "execution_count": 5,
   "id": "d048d732",
   "metadata": {
    "execution": {
     "iopub.execute_input": "2025-01-07T08:19:25.210976Z",
     "iopub.status.busy": "2025-01-07T08:19:25.209894Z",
     "iopub.status.idle": "2025-01-07T08:19:30.274746Z",
     "shell.execute_reply": "2025-01-07T08:19:30.273682Z"
    },
    "papermill": {
     "duration": 5.073341,
     "end_time": "2025-01-07T08:19:30.277107",
     "exception": false,
     "start_time": "2025-01-07T08:19:25.203766",
     "status": "completed"
    },
    "tags": []
   },
   "outputs": [],
   "source": [
    "train = pl.DataFrame(train)"
   ]
  },
  {
   "cell_type": "markdown",
   "id": "104bdab7",
   "metadata": {
    "papermill": {
     "duration": 0.004147,
     "end_time": "2025-01-07T08:19:30.286014",
     "exception": false,
     "start_time": "2025-01-07T08:19:30.281867",
     "status": "completed"
    },
    "tags": []
   },
   "source": [
    "# Create Lags data from training data"
   ]
  },
  {
   "cell_type": "code",
   "execution_count": 6,
   "id": "83b735d2",
   "metadata": {
    "execution": {
     "iopub.execute_input": "2025-01-07T08:19:30.295407Z",
     "iopub.status.busy": "2025-01-07T08:19:30.295059Z",
     "iopub.status.idle": "2025-01-07T08:19:30.588741Z",
     "shell.execute_reply": "2025-01-07T08:19:30.587648Z"
    },
    "papermill": {
     "duration": 0.300758,
     "end_time": "2025-01-07T08:19:30.590713",
     "exception": false,
     "start_time": "2025-01-07T08:19:30.289955",
     "status": "completed"
    },
    "tags": []
   },
   "outputs": [
    {
     "data": {
      "text/html": [
       "<div><style>\n",
       ".dataframe > thead > tr,\n",
       ".dataframe > tbody > tr {\n",
       "  text-align: right;\n",
       "  white-space: pre-wrap;\n",
       "}\n",
       "</style>\n",
       "<small>shape: (9_686, 11)</small><table border=\"1\" class=\"dataframe\"><thead><tr><th>date_id</th><th>symbol_id</th><th>responder_0_lag_1</th><th>responder_1_lag_1</th><th>responder_2_lag_1</th><th>responder_3_lag_1</th><th>responder_4_lag_1</th><th>responder_5_lag_1</th><th>responder_6_lag_1</th><th>responder_7_lag_1</th><th>responder_8_lag_1</th></tr><tr><td>i16</td><td>i8</td><td>f32</td><td>f32</td><td>f32</td><td>f32</td><td>f32</td><td>f32</td><td>f32</td><td>f32</td><td>f32</td></tr></thead><tbody><tr><td>455</td><td>0</td><td>-0.37962</td><td>0.622232</td><td>-0.443895</td><td>-0.16413</td><td>-0.064856</td><td>-0.706662</td><td>0.023419</td><td>0.043093</td><td>0.062117</td></tr><tr><td>455</td><td>1</td><td>0.460542</td><td>0.481335</td><td>-0.318708</td><td>0.534235</td><td>0.308263</td><td>-0.149519</td><td>-0.001026</td><td>0.034362</td><td>-0.013399</td></tr><tr><td>455</td><td>2</td><td>-0.250504</td><td>0.560345</td><td>-0.099183</td><td>0.205178</td><td>0.185717</td><td>-0.502219</td><td>-0.080229</td><td>-0.005963</td><td>-0.165517</td></tr><tr><td>455</td><td>3</td><td>5.0</td><td>3.922242</td><td>4.143309</td><td>2.798591</td><td>1.049106</td><td>1.343205</td><td>-0.327025</td><td>-0.11451</td><td>-0.591432</td></tr><tr><td>455</td><td>7</td><td>-0.832327</td><td>0.260436</td><td>1.770283</td><td>0.370914</td><td>0.11369</td><td>-0.845703</td><td>0.087104</td><td>0.058233</td><td>0.175273</td></tr><tr><td>&hellip;</td><td>&hellip;</td><td>&hellip;</td><td>&hellip;</td><td>&hellip;</td><td>&hellip;</td><td>&hellip;</td><td>&hellip;</td><td>&hellip;</td><td>&hellip;</td><td>&hellip;</td></tr><tr><td>1699</td><td>34</td><td>0.243475</td><td>0.166927</td><td>0.38494</td><td>-0.174297</td><td>-0.066046</td><td>-0.038767</td><td>-0.132337</td><td>-0.022426</td><td>-0.252461</td></tr><tr><td>1699</td><td>35</td><td>0.850152</td><td>0.909382</td><td>1.015314</td><td>0.235962</td><td>0.122539</td><td>0.099559</td><td>-0.249584</td><td>-0.123571</td><td>-0.46063</td></tr><tr><td>1699</td><td>36</td><td>0.395684</td><td>-0.292574</td><td>-3.215846</td><td>-0.535129</td><td>-0.178484</td><td>-1.80815</td><td>-0.065355</td><td>-0.000367</td><td>-0.12517</td></tr><tr><td>1699</td><td>37</td><td>1.925987</td><td>0.479394</td><td>3.621867</td><td>-0.107114</td><td>-0.063599</td><td>1.204755</td><td>-0.148711</td><td>-0.026583</td><td>-0.256395</td></tr><tr><td>1699</td><td>38</td><td>1.228778</td><td>0.512562</td><td>-0.050865</td><td>0.160883</td><td>0.080756</td><td>-0.078237</td><td>-0.138548</td><td>-0.038771</td><td>-0.21194</td></tr></tbody></table></div>"
      ],
      "text/plain": [
       "shape: (9_686, 11)\n",
       "┌─────────┬───────────┬────────────┬───────────┬───┬───────────┬───────────┬───────────┬───────────┐\n",
       "│ date_id ┆ symbol_id ┆ responder_ ┆ responder ┆ … ┆ responder ┆ responder ┆ responder ┆ responder │\n",
       "│ ---     ┆ ---       ┆ 0_lag_1    ┆ _1_lag_1  ┆   ┆ _5_lag_1  ┆ _6_lag_1  ┆ _7_lag_1  ┆ _8_lag_1  │\n",
       "│ i16     ┆ i8        ┆ ---        ┆ ---       ┆   ┆ ---       ┆ ---       ┆ ---       ┆ ---       │\n",
       "│         ┆           ┆ f32        ┆ f32       ┆   ┆ f32       ┆ f32       ┆ f32       ┆ f32       │\n",
       "╞═════════╪═══════════╪════════════╪═══════════╪═══╪═══════════╪═══════════╪═══════════╪═══════════╡\n",
       "│ 455     ┆ 0         ┆ -0.37962   ┆ 0.622232  ┆ … ┆ -0.706662 ┆ 0.023419  ┆ 0.043093  ┆ 0.062117  │\n",
       "│ 455     ┆ 1         ┆ 0.460542   ┆ 0.481335  ┆ … ┆ -0.149519 ┆ -0.001026 ┆ 0.034362  ┆ -0.013399 │\n",
       "│ 455     ┆ 2         ┆ -0.250504  ┆ 0.560345  ┆ … ┆ -0.502219 ┆ -0.080229 ┆ -0.005963 ┆ -0.165517 │\n",
       "│ 455     ┆ 3         ┆ 5.0        ┆ 3.922242  ┆ … ┆ 1.343205  ┆ -0.327025 ┆ -0.11451  ┆ -0.591432 │\n",
       "│ 455     ┆ 7         ┆ -0.832327  ┆ 0.260436  ┆ … ┆ -0.845703 ┆ 0.087104  ┆ 0.058233  ┆ 0.175273  │\n",
       "│ …       ┆ …         ┆ …          ┆ …         ┆ … ┆ …         ┆ …         ┆ …         ┆ …         │\n",
       "│ 1699    ┆ 34        ┆ 0.243475   ┆ 0.166927  ┆ … ┆ -0.038767 ┆ -0.132337 ┆ -0.022426 ┆ -0.252461 │\n",
       "│ 1699    ┆ 35        ┆ 0.850152   ┆ 0.909382  ┆ … ┆ 0.099559  ┆ -0.249584 ┆ -0.123571 ┆ -0.46063  │\n",
       "│ 1699    ┆ 36        ┆ 0.395684   ┆ -0.292574 ┆ … ┆ -1.80815  ┆ -0.065355 ┆ -0.000367 ┆ -0.12517  │\n",
       "│ 1699    ┆ 37        ┆ 1.925987   ┆ 0.479394  ┆ … ┆ 1.204755  ┆ -0.148711 ┆ -0.026583 ┆ -0.256395 │\n",
       "│ 1699    ┆ 38        ┆ 1.228778   ┆ 0.512562  ┆ … ┆ -0.078237 ┆ -0.138548 ┆ -0.038771 ┆ -0.21194  │\n",
       "└─────────┴───────────┴────────────┴───────────┴───┴───────────┴───────────┴───────────┴───────────┘"
      ]
     },
     "execution_count": 6,
     "metadata": {},
     "output_type": "execute_result"
    }
   ],
   "source": [
    "lags = train.select(pl.col(CONFIG.lag_cols_original))\n",
    "lags = lags.rename(CONFIG.lag_cols_rename)\n",
    "lags = lags.with_columns(\n",
    "    date_id = pl.col('date_id') + 1,  # lagged by 1 day\n",
    "    )\n",
    "lags = lags.group_by([\"date_id\", \"symbol_id\"], maintain_order=True).last()  # pick up last record of previous date\n",
    "lags"
   ]
  },
  {
   "cell_type": "markdown",
   "id": "6baf5da5",
   "metadata": {
    "papermill": {
     "duration": 0.003883,
     "end_time": "2025-01-07T08:19:30.598876",
     "exception": false,
     "start_time": "2025-01-07T08:19:30.594993",
     "status": "completed"
    },
    "tags": []
   },
   "source": [
    "# Merge training data and lags data"
   ]
  },
  {
   "cell_type": "code",
   "execution_count": 7,
   "id": "a797d395",
   "metadata": {
    "execution": {
     "iopub.execute_input": "2025-01-07T08:19:30.609157Z",
     "iopub.status.busy": "2025-01-07T08:19:30.608398Z",
     "iopub.status.idle": "2025-01-07T08:19:31.198929Z",
     "shell.execute_reply": "2025-01-07T08:19:31.197828Z"
    },
    "papermill": {
     "duration": 0.598053,
     "end_time": "2025-01-07T08:19:31.201045",
     "exception": false,
     "start_time": "2025-01-07T08:19:30.602992",
     "status": "completed"
    },
    "tags": []
   },
   "outputs": [
    {
     "data": {
      "text/html": [
       "<div><style>\n",
       ".dataframe > thead > tr,\n",
       ".dataframe > tbody > tr {\n",
       "  text-align: right;\n",
       "  white-space: pre-wrap;\n",
       "}\n",
       "</style>\n",
       "<small>shape: (9_101_515, 104)</small><table border=\"1\" class=\"dataframe\"><thead><tr><th>id</th><th>date_id</th><th>time_id</th><th>symbol_id</th><th>weight</th><th>feature_00</th><th>feature_01</th><th>feature_02</th><th>feature_03</th><th>feature_04</th><th>feature_05</th><th>feature_06</th><th>feature_07</th><th>feature_08</th><th>feature_09</th><th>feature_10</th><th>feature_11</th><th>feature_12</th><th>feature_13</th><th>feature_14</th><th>feature_15</th><th>feature_16</th><th>feature_17</th><th>feature_18</th><th>feature_19</th><th>feature_20</th><th>feature_21</th><th>feature_22</th><th>feature_23</th><th>feature_24</th><th>feature_25</th><th>feature_26</th><th>feature_27</th><th>feature_28</th><th>feature_29</th><th>feature_30</th><th>feature_31</th><th>&hellip;</th><th>feature_62</th><th>feature_63</th><th>feature_64</th><th>feature_65</th><th>feature_66</th><th>feature_67</th><th>feature_68</th><th>feature_69</th><th>feature_70</th><th>feature_71</th><th>feature_72</th><th>feature_73</th><th>feature_74</th><th>feature_75</th><th>feature_76</th><th>feature_77</th><th>feature_78</th><th>responder_0</th><th>responder_1</th><th>responder_2</th><th>responder_3</th><th>responder_4</th><th>responder_5</th><th>responder_6</th><th>responder_7</th><th>responder_8</th><th>partition_id</th><th>label</th><th>responder_0_lag_1</th><th>responder_1_lag_1</th><th>responder_2_lag_1</th><th>responder_3_lag_1</th><th>responder_4_lag_1</th><th>responder_5_lag_1</th><th>responder_6_lag_1</th><th>responder_7_lag_1</th><th>responder_8_lag_1</th></tr><tr><td>u32</td><td>i16</td><td>i16</td><td>i8</td><td>f32</td><td>f32</td><td>f32</td><td>f32</td><td>f32</td><td>f32</td><td>f32</td><td>f32</td><td>f32</td><td>f32</td><td>i8</td><td>i8</td><td>i16</td><td>f32</td><td>f32</td><td>f32</td><td>f32</td><td>f32</td><td>f32</td><td>f32</td><td>f32</td><td>f32</td><td>f32</td><td>f32</td><td>f32</td><td>f32</td><td>f32</td><td>f32</td><td>f32</td><td>f32</td><td>f32</td><td>f32</td><td>f32</td><td>&hellip;</td><td>f32</td><td>f32</td><td>f32</td><td>f32</td><td>f32</td><td>f32</td><td>f32</td><td>f32</td><td>f32</td><td>f32</td><td>f32</td><td>f32</td><td>f32</td><td>f32</td><td>f32</td><td>f32</td><td>f32</td><td>f32</td><td>f32</td><td>f32</td><td>f32</td><td>f32</td><td>f32</td><td>f32</td><td>f32</td><td>f32</td><td>i64</td><td>i32</td><td>f32</td><td>f32</td><td>f32</td><td>f32</td><td>f32</td><td>f32</td><td>f32</td><td>f32</td><td>f32</td></tr></thead><tbody><tr><td>6655311</td><td>454</td><td>0</td><td>0</td><td>2.469772</td><td>2.011155</td><td>-1.183452</td><td>2.44915</td><td>1.968074</td><td>1.073371</td><td>0.173038</td><td>0.764748</td><td>0.887245</td><td>-0.080057</td><td>11</td><td>7</td><td>76</td><td>-0.754221</td><td>0.611127</td><td>-0.62356</td><td>0.0</td><td>-0.413058</td><td>0.0</td><td>-1.452058</td><td>-1.056595</td><td>3.148603</td><td>0.0</td><td>0.578017</td><td>0.433606</td><td>1.267292</td><td>1.382232</td><td>0.0</td><td>0.0</td><td>0.445138</td><td>-0.228406</td><td>-0.699706</td><td>0.0</td><td>&hellip;</td><td>-0.158952</td><td>-0.326945</td><td>-0.212204</td><td>-1.547852</td><td>-1.304619</td><td>-0.828947</td><td>0.936439</td><td>-0.303425</td><td>-1.029249</td><td>0.165295</td><td>-0.575218</td><td>0.0</td><td>0.0</td><td>1.762617</td><td>2.387775</td><td>2.742359</td><td>2.962548</td><td>-0.599413</td><td>-0.91255</td><td>-0.551103</td><td>0.071475</td><td>0.213802</td><td>0.92071</td><td>0.945452</td><td>0.355292</td><td>1.365892</td><td>2</td><td>1</td><td>null</td><td>null</td><td>null</td><td>null</td><td>null</td><td>null</td><td>null</td><td>null</td><td>null</td></tr><tr><td>6655312</td><td>454</td><td>0</td><td>1</td><td>4.609505</td><td>1.923074</td><td>-1.297473</td><td>1.898652</td><td>2.59032</td><td>0.983711</td><td>0.124567</td><td>1.001583</td><td>0.855929</td><td>-0.097728</td><td>11</td><td>7</td><td>76</td><td>-1.01142</td><td>0.2557</td><td>-0.510994</td><td>0.0</td><td>-0.296151</td><td>0.0</td><td>-1.488241</td><td>-1.262973</td><td>2.169112</td><td>0.0</td><td>1.681371</td><td>1.543204</td><td>1.657605</td><td>2.555976</td><td>0.0</td><td>0.0</td><td>0.978464</td><td>-0.314007</td><td>-0.574282</td><td>0.0</td><td>&hellip;</td><td>-0.454976</td><td>-0.304905</td><td>-0.372808</td><td>-2.241868</td><td>-1.869178</td><td>-0.71385</td><td>-0.093584</td><td>-0.638239</td><td>-0.88669</td><td>0.706727</td><td>-0.525557</td><td>0.0</td><td>0.0</td><td>-0.067663</td><td>-0.052155</td><td>-0.205661</td><td>-0.232019</td><td>-0.450519</td><td>-0.381795</td><td>-0.265064</td><td>0.488816</td><td>0.821543</td><td>0.539706</td><td>0.821673</td><td>0.975165</td><td>1.707223</td><td>2</td><td>1</td><td>null</td><td>null</td><td>null</td><td>null</td><td>null</td><td>null</td><td>null</td><td>null</td><td>null</td></tr><tr><td>6655313</td><td>454</td><td>0</td><td>2</td><td>1.313092</td><td>2.103599</td><td>-0.866588</td><td>2.051928</td><td>2.211389</td><td>0.847589</td><td>0.177282</td><td>0.988273</td><td>0.435409</td><td>-0.178729</td><td>81</td><td>2</td><td>59</td><td>-0.766076</td><td>0.704434</td><td>-0.55336</td><td>0.0</td><td>-0.207497</td><td>0.0</td><td>-0.968711</td><td>-1.720343</td><td>-0.438561</td><td>0.0</td><td>-0.748295</td><td>-0.648906</td><td>0.808744</td><td>0.339712</td><td>0.0</td><td>0.0</td><td>0.20274</td><td>-0.517739</td><td>-0.732133</td><td>0.0</td><td>&hellip;</td><td>0.274716</td><td>2.711607</td><td>0.941928</td><td>-1.555242</td><td>-1.704168</td><td>-0.914428</td><td>1.449332</td><td>-0.201881</td><td>-0.799523</td><td>-0.21582</td><td>-0.561684</td><td>0.0</td><td>0.0</td><td>-0.349071</td><td>-0.428342</td><td>-0.289195</td><td>-0.362151</td><td>0.198349</td><td>-0.169111</td><td>-0.49774</td><td>2.245259</td><td>0.355446</td><td>0.867455</td><td>2.395301</td><td>0.417111</td><td>1.836413</td><td>2</td><td>4</td><td>null</td><td>null</td><td>null</td><td>null</td><td>null</td><td>null</td><td>null</td><td>null</td><td>null</td></tr><tr><td>6655314</td><td>454</td><td>0</td><td>3</td><td>0.95309</td><td>1.613543</td><td>-0.876514</td><td>2.681358</td><td>2.772389</td><td>1.059146</td><td>0.17529</td><td>0.9818</td><td>0.533703</td><td>-0.121689</td><td>4</td><td>3</td><td>11</td><td>-0.73376</td><td>2.234364</td><td>0.148274</td><td>0.0</td><td>-0.497003</td><td>0.0</td><td>-1.206971</td><td>-1.412848</td><td>1.289117</td><td>0.0</td><td>-1.145053</td><td>-1.662772</td><td>1.191818</td><td>1.489189</td><td>0.0</td><td>0.0</td><td>-2.443605</td><td>-0.554965</td><td>-0.79451</td><td>0.0</td><td>&hellip;</td><td>-0.225101</td><td>-0.251281</td><td>-0.028753</td><td>-1.555242</td><td>-1.704168</td><td>-0.636032</td><td>2.899746</td><td>0.391096</td><td>-1.116298</td><td>2.339685</td><td>-0.099127</td><td>0.0</td><td>0.0</td><td>-0.014938</td><td>-0.024851</td><td>-0.248691</td><td>-0.267081</td><td>0.095816</td><td>0.185034</td><td>0.866747</td><td>0.925349</td><td>-0.60942</td><td>1.878252</td><td>1.123068</td><td>-0.699646</td><td>2.347015</td><td>2</td><td>2</td><td>null</td><td>null</td><td>null</td><td>null</td><td>null</td><td>null</td><td>null</td><td>null</td><td>null</td></tr><tr><td>6655315</td><td>454</td><td>0</td><td>7</td><td>1.674723</td><td>2.253614</td><td>-1.061369</td><td>2.49638</td><td>2.403782</td><td>1.15442</td><td>0.144808</td><td>0.657552</td><td>1.034091</td><td>-0.138149</td><td>11</td><td>7</td><td>76</td><td>-1.104582</td><td>-0.237949</td><td>-0.581556</td><td>0.0</td><td>-0.046883</td><td>0.0</td><td>-0.936812</td><td>-1.082866</td><td>0.762833</td><td>0.0</td><td>-0.143877</td><td>1.309884</td><td>0.635429</td><td>0.155742</td><td>0.0</td><td>0.0</td><td>-0.813497</td><td>2.837898</td><td>1.569792</td><td>0.0</td><td>&hellip;</td><td>-0.298024</td><td>-0.548535</td><td>-0.117912</td><td>-1.568965</td><td>-1.734125</td><td>-1.062347</td><td>-0.066365</td><td>-0.734591</td><td>-0.909868</td><td>-0.368092</td><td>-0.830324</td><td>0.0</td><td>0.0</td><td>-0.395308</td><td>-0.328066</td><td>-0.282477</td><td>-0.342376</td><td>0.536572</td><td>-0.02516</td><td>-0.026998</td><td>0.154214</td><td>-0.22548</td><td>-0.242701</td><td>-0.107649</td><td>-0.422369</td><td>-0.321855</td><td>2</td><td>0</td><td>null</td><td>null</td><td>null</td><td>null</td><td>null</td><td>null</td><td>null</td><td>null</td><td>null</td></tr><tr><td>&hellip;</td><td>&hellip;</td><td>&hellip;</td><td>&hellip;</td><td>&hellip;</td><td>&hellip;</td><td>&hellip;</td><td>&hellip;</td><td>&hellip;</td><td>&hellip;</td><td>&hellip;</td><td>&hellip;</td><td>&hellip;</td><td>&hellip;</td><td>&hellip;</td><td>&hellip;</td><td>&hellip;</td><td>&hellip;</td><td>&hellip;</td><td>&hellip;</td><td>&hellip;</td><td>&hellip;</td><td>&hellip;</td><td>&hellip;</td><td>&hellip;</td><td>&hellip;</td><td>&hellip;</td><td>&hellip;</td><td>&hellip;</td><td>&hellip;</td><td>&hellip;</td><td>&hellip;</td><td>&hellip;</td><td>&hellip;</td><td>&hellip;</td><td>&hellip;</td><td>&hellip;</td><td>&hellip;</td><td>&hellip;</td><td>&hellip;</td><td>&hellip;</td><td>&hellip;</td><td>&hellip;</td><td>&hellip;</td><td>&hellip;</td><td>&hellip;</td><td>&hellip;</td><td>&hellip;</td><td>&hellip;</td><td>&hellip;</td><td>&hellip;</td><td>&hellip;</td><td>&hellip;</td><td>&hellip;</td><td>&hellip;</td><td>&hellip;</td><td>&hellip;</td><td>&hellip;</td><td>&hellip;</td><td>&hellip;</td><td>&hellip;</td><td>&hellip;</td><td>&hellip;</td><td>&hellip;</td><td>&hellip;</td><td>&hellip;</td><td>&hellip;</td><td>&hellip;</td><td>&hellip;</td><td>&hellip;</td><td>&hellip;</td><td>&hellip;</td><td>&hellip;</td><td>&hellip;</td><td>&hellip;</td></tr><tr><td>47127333</td><td>1698</td><td>967</td><td>34</td><td>3.242493</td><td>2.52516</td><td>-0.721981</td><td>2.544025</td><td>2.477615</td><td>0.417557</td><td>0.785812</td><td>1.117796</td><td>2.199436</td><td>0.415427</td><td>42</td><td>5</td><td>150</td><td>0.804403</td><td>1.157257</td><td>1.031543</td><td>-0.671189</td><td>-0.3286</td><td>-0.486132</td><td>1.730176</td><td>-0.006173</td><td>-0.001144</td><td>-0.213062</td><td>0.932618</td><td>1.367338</td><td>-0.238197</td><td>-0.692615</td><td>-0.121163</td><td>1.090798</td><td>1.444294</td><td>-0.675626</td><td>-1.013264</td><td>-0.242888</td><td>&hellip;</td><td>-0.384833</td><td>-0.275818</td><td>-0.40804</td><td>2.427115</td><td>-0.108427</td><td>0.739734</td><td>0.830205</td><td>0.366287</td><td>1.33325</td><td>1.075499</td><td>1.798264</td><td>-0.183443</td><td>-0.190222</td><td>0.234211</td><td>0.347142</td><td>-0.044463</td><td>0.016936</td><td>0.243475</td><td>0.166927</td><td>0.38494</td><td>-0.174297</td><td>-0.066046</td><td>-0.038767</td><td>-0.132337</td><td>-0.022426</td><td>-0.252461</td><td>9</td><td>0</td><td>0.501321</td><td>0.905332</td><td>-0.819582</td><td>-0.564046</td><td>-0.223018</td><td>-0.283954</td><td>-0.045938</td><td>0.009797</td><td>-0.102538</td></tr><tr><td>47127334</td><td>1698</td><td>967</td><td>35</td><td>1.079139</td><td>1.857906</td><td>-0.790646</td><td>2.745439</td><td>2.339877</td><td>0.845065</td><td>0.65137</td><td>1.180301</td><td>1.966379</td><td>0.321543</td><td>25</td><td>7</td><td>195</td><td>-0.075294</td><td>-0.152726</td><td>-0.20417</td><td>-0.421137</td><td>0.21708</td><td>-0.258775</td><td>1.874978</td><td>0.19988</td><td>-0.199219</td><td>-0.125619</td><td>-1.004547</td><td>-0.051933</td><td>0.450905</td><td>0.009246</td><td>0.164127</td><td>-0.939974</td><td>-1.143421</td><td>-0.320071</td><td>-0.379835</td><td>-0.142429</td><td>&hellip;</td><td>-0.343868</td><td>-0.253991</td><td>-0.278832</td><td>2.050639</td><td>-0.059506</td><td>-0.029396</td><td>-0.101381</td><td>-0.187759</td><td>-0.180839</td><td>-0.0861</td><td>-0.153405</td><td>-0.196077</td><td>-0.175292</td><td>1.04578</td><td>0.739733</td><td>0.03372</td><td>0.05086</td><td>0.850152</td><td>0.909382</td><td>1.015314</td><td>0.235962</td><td>0.122539</td><td>0.099559</td><td>-0.249584</td><td>-0.123571</td><td>-0.46063</td><td>9</td><td>0</td><td>-1.113053</td><td>0.69719</td><td>-1.619031</td><td>-1.222743</td><td>-0.706082</td><td>-0.291133</td><td>0.167733</td><td>0.099704</td><td>0.32461</td></tr><tr><td>47127335</td><td>1698</td><td>967</td><td>36</td><td>1.033172</td><td>2.515527</td><td>-0.672298</td><td>2.28925</td><td>2.521592</td><td>0.255077</td><td>0.919892</td><td>1.172018</td><td>2.180496</td><td>0.24846</td><td>49</td><td>7</td><td>297</td><td>1.026715</td><td>-0.096892</td><td>0.224309</td><td>-0.528109</td><td>-0.704952</td><td>-0.704818</td><td>2.312482</td><td>0.32804</td><td>-0.108193</td><td>-0.125619</td><td>-0.945684</td><td>-0.244173</td><td>0.205989</td><td>-0.357343</td><td>0.164127</td><td>-0.939974</td><td>-1.11075</td><td>-0.580242</td><td>-0.400568</td><td>-0.142429</td><td>&hellip;</td><td>-0.341991</td><td>-0.249132</td><td>-0.34365</td><td>2.251358</td><td>0.601888</td><td>1.035051</td><td>-0.283241</td><td>0.107244</td><td>0.86016</td><td>0.024223</td><td>0.374852</td><td>-0.220933</td><td>-0.161584</td><td>0.032771</td><td>0.036888</td><td>0.168908</td><td>0.152333</td><td>0.395684</td><td>-0.292574</td><td>-3.215846</td><td>-0.535129</td><td>-0.178484</td><td>-1.80815</td><td>-0.065355</td><td>-0.000367</td><td>-0.12517</td><td>9</td><td>0</td><td>-1.019353</td><td>-0.460962</td><td>-2.026678</td><td>-0.848606</td><td>-0.305448</td><td>-1.256913</td><td>-0.109359</td><td>-0.027474</td><td>-0.253956</td></tr><tr><td>47127336</td><td>1698</td><td>967</td><td>37</td><td>1.243116</td><td>2.663298</td><td>-0.889112</td><td>2.313155</td><td>3.101428</td><td>0.324454</td><td>0.618944</td><td>1.185663</td><td>1.599724</td><td>0.319719</td><td>34</td><td>4</td><td>214</td><td>0.759314</td><td>0.284057</td><td>0.41716</td><td>-0.611075</td><td>-0.513717</td><td>-0.891423</td><td>1.84994</td><td>0.406756</td><td>-1.608196</td><td>-0.252663</td><td>-0.271574</td><td>-0.051405</td><td>0.098146</td><td>-0.653961</td><td>0.173676</td><td>-0.016497</td><td>-0.404509</td><td>-0.577262</td><td>-0.731429</td><td>-0.21646</td><td>&hellip;</td><td>-0.358106</td><td>-0.141883</td><td>-0.255192</td><td>2.489247</td><td>0.537652</td><td>0.982107</td><td>-0.158009</td><td>0.137389</td><td>0.478357</td><td>0.782692</td><td>0.581421</td><td>-0.106056</td><td>-0.111017</td><td>0.163867</td><td>0.169331</td><td>-0.037563</td><td>-0.029483</td><td>1.925987</td><td>0.479394</td><td>3.621867</td><td>-0.107114</td><td>-0.063599</td><td>1.204755</td><td>-0.148711</td><td>-0.026583</td><td>-0.256395</td><td>9</td><td>0</td><td>0.23585</td><td>0.556479</td><td>0.618944</td><td>-0.243765</td><td>-0.108361</td><td>-0.260777</td><td>-0.486923</td><td>-0.275566</td><td>-1.020708</td></tr><tr><td>47127337</td><td>1698</td><td>967</td><td>38</td><td>3.193685</td><td>2.728506</td><td>-0.745238</td><td>2.788789</td><td>2.343393</td><td>0.454731</td><td>0.862839</td><td>0.964795</td><td>2.089673</td><td>0.344931</td><td>50</td><td>1</td><td>522</td><td>0.406531</td><td>0.618247</td><td>1.01327</td><td>-0.952069</td><td>-0.679168</td><td>-0.597603</td><td>0.375125</td><td>1.97537</td><td>-0.440974</td><td>-0.072018</td><td>1.741353</td><td>1.380735</td><td>-0.110494</td><td>-0.874806</td><td>0.553424</td><td>0.532243</td><td>0.263214</td><td>-0.757856</td><td>-0.869204</td><td>-0.062955</td><td>&hellip;</td><td>-0.622853</td><td>-0.363631</td><td>-0.395652</td><td>-0.016812</td><td>2.016734</td><td>0.241486</td><td>0.253229</td><td>0.228745</td><td>0.462717</td><td>0.799635</td><td>0.706102</td><td>-0.376377</td><td>-0.286764</td><td>-0.359046</td><td>-0.246135</td><td>-0.288941</td><td>-0.247774</td><td>1.228778</td><td>0.512562</td><td>-0.050865</td><td>0.160883</td><td>0.080756</td><td>-0.078237</td><td>-0.138548</td><td>-0.038771</td><td>-0.21194</td><td>9</td><td>0</td><td>0.542563</td><td>0.513193</td><td>0.814393</td><td>0.032767</td><td>0.025435</td><td>0.311465</td><td>-0.044797</td><td>0.011133</td><td>-0.0793</td></tr></tbody></table></div>"
      ],
      "text/plain": [
       "shape: (9_101_515, 104)\n",
       "┌──────────┬─────────┬─────────┬───────────┬───┬────────────┬────────────┬────────────┬────────────┐\n",
       "│ id       ┆ date_id ┆ time_id ┆ symbol_id ┆ … ┆ responder_ ┆ responder_ ┆ responder_ ┆ responder_ │\n",
       "│ ---      ┆ ---     ┆ ---     ┆ ---       ┆   ┆ 5_lag_1    ┆ 6_lag_1    ┆ 7_lag_1    ┆ 8_lag_1    │\n",
       "│ u32      ┆ i16     ┆ i16     ┆ i8        ┆   ┆ ---        ┆ ---        ┆ ---        ┆ ---        │\n",
       "│          ┆         ┆         ┆           ┆   ┆ f32        ┆ f32        ┆ f32        ┆ f32        │\n",
       "╞══════════╪═════════╪═════════╪═══════════╪═══╪════════════╪════════════╪════════════╪════════════╡\n",
       "│ 6655311  ┆ 454     ┆ 0       ┆ 0         ┆ … ┆ null       ┆ null       ┆ null       ┆ null       │\n",
       "│ 6655312  ┆ 454     ┆ 0       ┆ 1         ┆ … ┆ null       ┆ null       ┆ null       ┆ null       │\n",
       "│ 6655313  ┆ 454     ┆ 0       ┆ 2         ┆ … ┆ null       ┆ null       ┆ null       ┆ null       │\n",
       "│ 6655314  ┆ 454     ┆ 0       ┆ 3         ┆ … ┆ null       ┆ null       ┆ null       ┆ null       │\n",
       "│ 6655315  ┆ 454     ┆ 0       ┆ 7         ┆ … ┆ null       ┆ null       ┆ null       ┆ null       │\n",
       "│ …        ┆ …       ┆ …       ┆ …         ┆ … ┆ …          ┆ …          ┆ …          ┆ …          │\n",
       "│ 47127333 ┆ 1698    ┆ 967     ┆ 34        ┆ … ┆ -0.283954  ┆ -0.045938  ┆ 0.009797   ┆ -0.102538  │\n",
       "│ 47127334 ┆ 1698    ┆ 967     ┆ 35        ┆ … ┆ -0.291133  ┆ 0.167733   ┆ 0.099704   ┆ 0.32461    │\n",
       "│ 47127335 ┆ 1698    ┆ 967     ┆ 36        ┆ … ┆ -1.256913  ┆ -0.109359  ┆ -0.027474  ┆ -0.253956  │\n",
       "│ 47127336 ┆ 1698    ┆ 967     ┆ 37        ┆ … ┆ -0.260777  ┆ -0.486923  ┆ -0.275566  ┆ -1.020708  │\n",
       "│ 47127337 ┆ 1698    ┆ 967     ┆ 38        ┆ … ┆ 0.311465   ┆ -0.044797  ┆ 0.011133   ┆ -0.0793    │\n",
       "└──────────┴─────────┴─────────┴───────────┴───┴────────────┴────────────┴────────────┴────────────┘"
      ]
     },
     "execution_count": 7,
     "metadata": {},
     "output_type": "execute_result"
    }
   ],
   "source": [
    "train = train.join(lags, on=[\"date_id\", \"symbol_id\"],  how=\"left\")\n",
    "train"
   ]
  },
  {
   "cell_type": "markdown",
   "id": "69d9a3af",
   "metadata": {
    "papermill": {
     "duration": 0.004261,
     "end_time": "2025-01-07T08:19:31.210069",
     "exception": false,
     "start_time": "2025-01-07T08:19:31.205808",
     "status": "completed"
    },
    "tags": []
   },
   "source": [
    "# Split training data and validation data"
   ]
  },
  {
   "cell_type": "code",
   "execution_count": 8,
   "id": "afda2f4c",
   "metadata": {
    "execution": {
     "iopub.execute_input": "2025-01-07T08:19:31.220937Z",
     "iopub.status.busy": "2025-01-07T08:19:31.220042Z",
     "iopub.status.idle": "2025-01-07T08:19:31.357312Z",
     "shell.execute_reply": "2025-01-07T08:19:31.356064Z"
    },
    "papermill": {
     "duration": 0.145213,
     "end_time": "2025-01-07T08:19:31.359650",
     "exception": false,
     "start_time": "2025-01-07T08:19:31.214437",
     "status": "completed"
    },
    "tags": []
   },
   "outputs": [
    {
     "name": "stdout",
     "output_type": "stream",
     "text": [
      "\n",
      " len_train = 9101515\n",
      "\n",
      " len_ofl_mdl = 8646440\n",
      "\n",
      "---> Last offline train date = 1686\n",
      "\n"
     ]
    }
   ],
   "source": [
    "len_train   = train.select(pl.col(\"date_id\")).shape[0]\n",
    "valid_records = int(len_train * CONFIG.valid_ratio)\n",
    "len_ofl_mdl = len_train - valid_records\n",
    "last_tr_dt  = train.select(pl.col(\"date_id\")).row(len_ofl_mdl)[0]\n",
    "\n",
    "print(f\"\\n len_train = {len_train}\")\n",
    "print(f\"\\n len_ofl_mdl = {len_ofl_mdl}\")\n",
    "print(f\"\\n---> Last offline train date = {last_tr_dt}\\n\")\n",
    "\n",
    "training_data = train.filter(pl.col(\"date_id\").le(last_tr_dt))\n",
    "validation_data = train.filter(pl.col(\"date_id\").gt(last_tr_dt))"
   ]
  },
  {
   "cell_type": "code",
   "execution_count": 9,
   "id": "f6f51eb5",
   "metadata": {
    "execution": {
     "iopub.execute_input": "2025-01-07T08:19:31.371441Z",
     "iopub.status.busy": "2025-01-07T08:19:31.370338Z",
     "iopub.status.idle": "2025-01-07T08:19:31.387746Z",
     "shell.execute_reply": "2025-01-07T08:19:31.386549Z"
    },
    "papermill": {
     "duration": 0.025405,
     "end_time": "2025-01-07T08:19:31.389887",
     "exception": false,
     "start_time": "2025-01-07T08:19:31.364482",
     "status": "completed"
    },
    "tags": []
   },
   "outputs": [
    {
     "data": {
      "text/html": [
       "<div><style>\n",
       ".dataframe > thead > tr,\n",
       ".dataframe > tbody > tr {\n",
       "  text-align: right;\n",
       "  white-space: pre-wrap;\n",
       "}\n",
       "</style>\n",
       "<small>shape: (452_056, 104)</small><table border=\"1\" class=\"dataframe\"><thead><tr><th>id</th><th>date_id</th><th>time_id</th><th>symbol_id</th><th>weight</th><th>feature_00</th><th>feature_01</th><th>feature_02</th><th>feature_03</th><th>feature_04</th><th>feature_05</th><th>feature_06</th><th>feature_07</th><th>feature_08</th><th>feature_09</th><th>feature_10</th><th>feature_11</th><th>feature_12</th><th>feature_13</th><th>feature_14</th><th>feature_15</th><th>feature_16</th><th>feature_17</th><th>feature_18</th><th>feature_19</th><th>feature_20</th><th>feature_21</th><th>feature_22</th><th>feature_23</th><th>feature_24</th><th>feature_25</th><th>feature_26</th><th>feature_27</th><th>feature_28</th><th>feature_29</th><th>feature_30</th><th>feature_31</th><th>&hellip;</th><th>feature_62</th><th>feature_63</th><th>feature_64</th><th>feature_65</th><th>feature_66</th><th>feature_67</th><th>feature_68</th><th>feature_69</th><th>feature_70</th><th>feature_71</th><th>feature_72</th><th>feature_73</th><th>feature_74</th><th>feature_75</th><th>feature_76</th><th>feature_77</th><th>feature_78</th><th>responder_0</th><th>responder_1</th><th>responder_2</th><th>responder_3</th><th>responder_4</th><th>responder_5</th><th>responder_6</th><th>responder_7</th><th>responder_8</th><th>partition_id</th><th>label</th><th>responder_0_lag_1</th><th>responder_1_lag_1</th><th>responder_2_lag_1</th><th>responder_3_lag_1</th><th>responder_4_lag_1</th><th>responder_5_lag_1</th><th>responder_6_lag_1</th><th>responder_7_lag_1</th><th>responder_8_lag_1</th></tr><tr><td>u32</td><td>i16</td><td>i16</td><td>i8</td><td>f32</td><td>f32</td><td>f32</td><td>f32</td><td>f32</td><td>f32</td><td>f32</td><td>f32</td><td>f32</td><td>f32</td><td>i8</td><td>i8</td><td>i16</td><td>f32</td><td>f32</td><td>f32</td><td>f32</td><td>f32</td><td>f32</td><td>f32</td><td>f32</td><td>f32</td><td>f32</td><td>f32</td><td>f32</td><td>f32</td><td>f32</td><td>f32</td><td>f32</td><td>f32</td><td>f32</td><td>f32</td><td>f32</td><td>&hellip;</td><td>f32</td><td>f32</td><td>f32</td><td>f32</td><td>f32</td><td>f32</td><td>f32</td><td>f32</td><td>f32</td><td>f32</td><td>f32</td><td>f32</td><td>f32</td><td>f32</td><td>f32</td><td>f32</td><td>f32</td><td>f32</td><td>f32</td><td>f32</td><td>f32</td><td>f32</td><td>f32</td><td>f32</td><td>f32</td><td>f32</td><td>i64</td><td>i32</td><td>f32</td><td>f32</td><td>f32</td><td>f32</td><td>f32</td><td>f32</td><td>f32</td><td>f32</td><td>f32</td></tr></thead><tbody><tr><td>46675282</td><td>1687</td><td>0</td><td>0</td><td>3.781251</td><td>3.349843</td><td>0.963676</td><td>3.552205</td><td>3.070421</td><td>1.310815</td><td>-0.334233</td><td>0.29246</td><td>-0.463342</td><td>0.082186</td><td>11</td><td>7</td><td>76</td><td>-0.703837</td><td>1.303777</td><td>-0.395715</td><td>-0.744088</td><td>-0.417004</td><td>-0.717782</td><td>-0.790829</td><td>-1.892243</td><td>0.610748</td><td>-0.176413</td><td>1.30363</td><td>1.176901</td><td>2.203566</td><td>1.401162</td><td>0.750112</td><td>1.108462</td><td>0.688569</td><td>-0.6664</td><td>-0.904038</td><td>-0.184586</td><td>&hellip;</td><td>-0.495252</td><td>-0.408928</td><td>-0.505222</td><td>-0.772683</td><td>-2.835992</td><td>-1.026971</td><td>1.140901</td><td>-0.292416</td><td>-0.960177</td><td>0.324994</td><td>-0.588715</td><td>-0.261634</td><td>-0.263176</td><td>0.220839</td><td>0.265147</td><td>-0.179722</td><td>-0.12342</td><td>-0.388299</td><td>-0.033851</td><td>-0.340357</td><td>-0.077653</td><td>-0.971475</td><td>1.526969</td><td>0.01145</td><td>-1.353011</td><td>2.108581</td><td>9</td><td>0</td><td>-0.266812</td><td>-0.054878</td><td>-1.545247</td><td>0.385557</td><td>0.193606</td><td>-0.535236</td><td>0.058816</td><td>0.057375</td><td>0.083458</td></tr><tr><td>46675283</td><td>1687</td><td>0</td><td>1</td><td>2.606019</td><td>3.14255</td><td>1.244218</td><td>3.421399</td><td>3.048235</td><td>1.849931</td><td>-0.393432</td><td>0.321511</td><td>-0.522529</td><td>0.079715</td><td>11</td><td>7</td><td>76</td><td>-0.997407</td><td>1.887145</td><td>-0.087004</td><td>-0.744088</td><td>-0.359729</td><td>-0.717782</td><td>-1.231142</td><td>-1.691611</td><td>1.24168</td><td>-0.087754</td><td>0.883954</td><td>0.836346</td><td>1.564198</td><td>1.054291</td><td>-1.539081</td><td>-0.095403</td><td>1.502827</td><td>-0.415602</td><td>-0.640846</td><td>-0.058053</td><td>&hellip;</td><td>-0.319049</td><td>-0.324798</td><td>-0.524809</td><td>-1.333263</td><td>-2.538328</td><td>-0.782871</td><td>3.472205</td><td>0.283183</td><td>-0.763013</td><td>-0.081193</td><td>-0.704203</td><td>-0.261634</td><td>-0.263176</td><td>0.356346</td><td>0.375532</td><td>-0.123293</td><td>-0.143475</td><td>-0.332037</td><td>-0.512074</td><td>-0.418187</td><td>0.813138</td><td>-3.348194</td><td>1.64164</td><td>1.138862</td><td>-2.781623</td><td>3.425127</td><td>9</td><td>2</td><td>-0.241919</td><td>0.078192</td><td>-1.161707</td><td>0.000655</td><td>0.002046</td><td>-0.984262</td><td>-0.197686</td><td>-0.045213</td><td>-0.391194</td></tr><tr><td>46675284</td><td>1687</td><td>0</td><td>2</td><td>1.981104</td><td>2.78494</td><td>1.219115</td><td>2.595899</td><td>2.744964</td><td>1.372905</td><td>-0.565429</td><td>0.298982</td><td>-0.55758</td><td>0.028771</td><td>81</td><td>2</td><td>59</td><td>-0.538077</td><td>7.173572</td><td>1.052984</td><td>-0.744088</td><td>-0.204323</td><td>-0.717782</td><td>-1.146885</td><td>-2.23182</td><td>0.060473</td><td>-0.190955</td><td>1.217303</td><td>0.776203</td><td>0.596932</td><td>-0.477281</td><td>0.653693</td><td>0.649214</td><td>-0.156624</td><td>-0.592842</td><td>-0.842065</td><td>-0.229279</td><td>&hellip;</td><td>-0.181678</td><td>-0.297587</td><td>-0.319342</td><td>-1.502958</td><td>-1.685082</td><td>-0.280431</td><td>4.068408</td><td>0.735362</td><td>-0.836369</td><td>5.736065</td><td>0.943794</td><td>-0.261634</td><td>-0.263176</td><td>0.519323</td><td>0.493615</td><td>-0.083611</td><td>-0.103366</td><td>-0.343166</td><td>-0.26202</td><td>-0.408565</td><td>1.182349</td><td>2.643964</td><td>0.361312</td><td>1.431608</td><td>2.309818</td><td>0.698061</td><td>9</td><td>2</td><td>0.978288</td><td>0.76318</td><td>1.443481</td><td>-0.485256</td><td>-0.157901</td><td>0.084363</td><td>-0.164799</td><td>-0.109012</td><td>-0.762613</td></tr><tr><td>46675285</td><td>1687</td><td>0</td><td>3</td><td>2.110739</td><td>3.409801</td><td>0.865232</td><td>3.727028</td><td>3.588998</td><td>1.967243</td><td>-0.414937</td><td>0.336027</td><td>-0.631726</td><td>0.144795</td><td>4</td><td>3</td><td>11</td><td>-0.580152</td><td>3.140839</td><td>0.302595</td><td>-0.744088</td><td>-0.387682</td><td>-0.717782</td><td>-1.871841</td><td>-1.225321</td><td>-0.063711</td><td>-0.060089</td><td>0.55742</td><td>0.370213</td><td>0.762512</td><td>0.01872</td><td>-0.009819</td><td>-0.303811</td><td>-0.558923</td><td>-0.183521</td><td>-0.669897</td><td>-0.046879</td><td>&hellip;</td><td>-0.370689</td><td>-0.212923</td><td>-0.260396</td><td>-1.844798</td><td>-1.443868</td><td>-0.980988</td><td>2.543783</td><td>0.0621</td><td>-0.783769</td><td>3.202863</td><td>0.283404</td><td>-0.261634</td><td>-0.263176</td><td>0.668884</td><td>0.894722</td><td>0.027543</td><td>0.04745</td><td>-0.05093</td><td>-0.297161</td><td>-0.508374</td><td>-0.777918</td><td>-0.197728</td><td>-0.214127</td><td>-0.74216</td><td>-0.065933</td><td>-0.046738</td><td>9</td><td>-1</td><td>-0.855925</td><td>-0.629784</td><td>0.388898</td><td>-0.357745</td><td>-0.217354</td><td>0.082131</td><td>0.055058</td><td>0.040775</td><td>0.113845</td></tr><tr><td>46675286</td><td>1687</td><td>0</td><td>4</td><td>3.387619</td><td>3.457838</td><td>1.090773</td><td>3.220798</td><td>3.2206</td><td>1.926766</td><td>-0.267177</td><td>0.120857</td><td>-0.291993</td><td>0.044369</td><td>15</td><td>1</td><td>9</td><td>-1.218627</td><td>-0.002251</td><td>-0.476603</td><td>-0.744088</td><td>-0.56163</td><td>-0.717782</td><td>-0.856431</td><td>-1.271446</td><td>-1.845027</td><td>0.997514</td><td>1.072357</td><td>0.382435</td><td>4.423906</td><td>2.585491</td><td>-0.949899</td><td>-1.253955</td><td>-0.872029</td><td>-0.899487</td><td>-1.064321</td><td>1.280752</td><td>&hellip;</td><td>-0.462063</td><td>-0.188739</td><td>-0.574291</td><td>-0.95483</td><td>-1.706109</td><td>-0.960331</td><td>-0.098317</td><td>-0.644932</td><td>-0.626863</td><td>0.010343</td><td>-0.759367</td><td>-0.261634</td><td>-0.263176</td><td>0.318565</td><td>0.231392</td><td>-0.195577</td><td>-0.155292</td><td>-2.789933</td><td>-0.952092</td><td>-3.151275</td><td>-0.70305</td><td>-0.919101</td><td>-0.292212</td><td>-0.222295</td><td>-0.968092</td><td>0.372206</td><td>9</td><td>0</td><td>-1.050013</td><td>-0.673737</td><td>-0.359097</td><td>-0.360675</td><td>-0.185535</td><td>-0.410965</td><td>-0.330635</td><td>-0.070691</td><td>-0.544708</td></tr><tr><td>&hellip;</td><td>&hellip;</td><td>&hellip;</td><td>&hellip;</td><td>&hellip;</td><td>&hellip;</td><td>&hellip;</td><td>&hellip;</td><td>&hellip;</td><td>&hellip;</td><td>&hellip;</td><td>&hellip;</td><td>&hellip;</td><td>&hellip;</td><td>&hellip;</td><td>&hellip;</td><td>&hellip;</td><td>&hellip;</td><td>&hellip;</td><td>&hellip;</td><td>&hellip;</td><td>&hellip;</td><td>&hellip;</td><td>&hellip;</td><td>&hellip;</td><td>&hellip;</td><td>&hellip;</td><td>&hellip;</td><td>&hellip;</td><td>&hellip;</td><td>&hellip;</td><td>&hellip;</td><td>&hellip;</td><td>&hellip;</td><td>&hellip;</td><td>&hellip;</td><td>&hellip;</td><td>&hellip;</td><td>&hellip;</td><td>&hellip;</td><td>&hellip;</td><td>&hellip;</td><td>&hellip;</td><td>&hellip;</td><td>&hellip;</td><td>&hellip;</td><td>&hellip;</td><td>&hellip;</td><td>&hellip;</td><td>&hellip;</td><td>&hellip;</td><td>&hellip;</td><td>&hellip;</td><td>&hellip;</td><td>&hellip;</td><td>&hellip;</td><td>&hellip;</td><td>&hellip;</td><td>&hellip;</td><td>&hellip;</td><td>&hellip;</td><td>&hellip;</td><td>&hellip;</td><td>&hellip;</td><td>&hellip;</td><td>&hellip;</td><td>&hellip;</td><td>&hellip;</td><td>&hellip;</td><td>&hellip;</td><td>&hellip;</td><td>&hellip;</td><td>&hellip;</td><td>&hellip;</td><td>&hellip;</td></tr><tr><td>47127333</td><td>1698</td><td>967</td><td>34</td><td>3.242493</td><td>2.52516</td><td>-0.721981</td><td>2.544025</td><td>2.477615</td><td>0.417557</td><td>0.785812</td><td>1.117796</td><td>2.199436</td><td>0.415427</td><td>42</td><td>5</td><td>150</td><td>0.804403</td><td>1.157257</td><td>1.031543</td><td>-0.671189</td><td>-0.3286</td><td>-0.486132</td><td>1.730176</td><td>-0.006173</td><td>-0.001144</td><td>-0.213062</td><td>0.932618</td><td>1.367338</td><td>-0.238197</td><td>-0.692615</td><td>-0.121163</td><td>1.090798</td><td>1.444294</td><td>-0.675626</td><td>-1.013264</td><td>-0.242888</td><td>&hellip;</td><td>-0.384833</td><td>-0.275818</td><td>-0.40804</td><td>2.427115</td><td>-0.108427</td><td>0.739734</td><td>0.830205</td><td>0.366287</td><td>1.33325</td><td>1.075499</td><td>1.798264</td><td>-0.183443</td><td>-0.190222</td><td>0.234211</td><td>0.347142</td><td>-0.044463</td><td>0.016936</td><td>0.243475</td><td>0.166927</td><td>0.38494</td><td>-0.174297</td><td>-0.066046</td><td>-0.038767</td><td>-0.132337</td><td>-0.022426</td><td>-0.252461</td><td>9</td><td>0</td><td>0.501321</td><td>0.905332</td><td>-0.819582</td><td>-0.564046</td><td>-0.223018</td><td>-0.283954</td><td>-0.045938</td><td>0.009797</td><td>-0.102538</td></tr><tr><td>47127334</td><td>1698</td><td>967</td><td>35</td><td>1.079139</td><td>1.857906</td><td>-0.790646</td><td>2.745439</td><td>2.339877</td><td>0.845065</td><td>0.65137</td><td>1.180301</td><td>1.966379</td><td>0.321543</td><td>25</td><td>7</td><td>195</td><td>-0.075294</td><td>-0.152726</td><td>-0.20417</td><td>-0.421137</td><td>0.21708</td><td>-0.258775</td><td>1.874978</td><td>0.19988</td><td>-0.199219</td><td>-0.125619</td><td>-1.004547</td><td>-0.051933</td><td>0.450905</td><td>0.009246</td><td>0.164127</td><td>-0.939974</td><td>-1.143421</td><td>-0.320071</td><td>-0.379835</td><td>-0.142429</td><td>&hellip;</td><td>-0.343868</td><td>-0.253991</td><td>-0.278832</td><td>2.050639</td><td>-0.059506</td><td>-0.029396</td><td>-0.101381</td><td>-0.187759</td><td>-0.180839</td><td>-0.0861</td><td>-0.153405</td><td>-0.196077</td><td>-0.175292</td><td>1.04578</td><td>0.739733</td><td>0.03372</td><td>0.05086</td><td>0.850152</td><td>0.909382</td><td>1.015314</td><td>0.235962</td><td>0.122539</td><td>0.099559</td><td>-0.249584</td><td>-0.123571</td><td>-0.46063</td><td>9</td><td>0</td><td>-1.113053</td><td>0.69719</td><td>-1.619031</td><td>-1.222743</td><td>-0.706082</td><td>-0.291133</td><td>0.167733</td><td>0.099704</td><td>0.32461</td></tr><tr><td>47127335</td><td>1698</td><td>967</td><td>36</td><td>1.033172</td><td>2.515527</td><td>-0.672298</td><td>2.28925</td><td>2.521592</td><td>0.255077</td><td>0.919892</td><td>1.172018</td><td>2.180496</td><td>0.24846</td><td>49</td><td>7</td><td>297</td><td>1.026715</td><td>-0.096892</td><td>0.224309</td><td>-0.528109</td><td>-0.704952</td><td>-0.704818</td><td>2.312482</td><td>0.32804</td><td>-0.108193</td><td>-0.125619</td><td>-0.945684</td><td>-0.244173</td><td>0.205989</td><td>-0.357343</td><td>0.164127</td><td>-0.939974</td><td>-1.11075</td><td>-0.580242</td><td>-0.400568</td><td>-0.142429</td><td>&hellip;</td><td>-0.341991</td><td>-0.249132</td><td>-0.34365</td><td>2.251358</td><td>0.601888</td><td>1.035051</td><td>-0.283241</td><td>0.107244</td><td>0.86016</td><td>0.024223</td><td>0.374852</td><td>-0.220933</td><td>-0.161584</td><td>0.032771</td><td>0.036888</td><td>0.168908</td><td>0.152333</td><td>0.395684</td><td>-0.292574</td><td>-3.215846</td><td>-0.535129</td><td>-0.178484</td><td>-1.80815</td><td>-0.065355</td><td>-0.000367</td><td>-0.12517</td><td>9</td><td>0</td><td>-1.019353</td><td>-0.460962</td><td>-2.026678</td><td>-0.848606</td><td>-0.305448</td><td>-1.256913</td><td>-0.109359</td><td>-0.027474</td><td>-0.253956</td></tr><tr><td>47127336</td><td>1698</td><td>967</td><td>37</td><td>1.243116</td><td>2.663298</td><td>-0.889112</td><td>2.313155</td><td>3.101428</td><td>0.324454</td><td>0.618944</td><td>1.185663</td><td>1.599724</td><td>0.319719</td><td>34</td><td>4</td><td>214</td><td>0.759314</td><td>0.284057</td><td>0.41716</td><td>-0.611075</td><td>-0.513717</td><td>-0.891423</td><td>1.84994</td><td>0.406756</td><td>-1.608196</td><td>-0.252663</td><td>-0.271574</td><td>-0.051405</td><td>0.098146</td><td>-0.653961</td><td>0.173676</td><td>-0.016497</td><td>-0.404509</td><td>-0.577262</td><td>-0.731429</td><td>-0.21646</td><td>&hellip;</td><td>-0.358106</td><td>-0.141883</td><td>-0.255192</td><td>2.489247</td><td>0.537652</td><td>0.982107</td><td>-0.158009</td><td>0.137389</td><td>0.478357</td><td>0.782692</td><td>0.581421</td><td>-0.106056</td><td>-0.111017</td><td>0.163867</td><td>0.169331</td><td>-0.037563</td><td>-0.029483</td><td>1.925987</td><td>0.479394</td><td>3.621867</td><td>-0.107114</td><td>-0.063599</td><td>1.204755</td><td>-0.148711</td><td>-0.026583</td><td>-0.256395</td><td>9</td><td>0</td><td>0.23585</td><td>0.556479</td><td>0.618944</td><td>-0.243765</td><td>-0.108361</td><td>-0.260777</td><td>-0.486923</td><td>-0.275566</td><td>-1.020708</td></tr><tr><td>47127337</td><td>1698</td><td>967</td><td>38</td><td>3.193685</td><td>2.728506</td><td>-0.745238</td><td>2.788789</td><td>2.343393</td><td>0.454731</td><td>0.862839</td><td>0.964795</td><td>2.089673</td><td>0.344931</td><td>50</td><td>1</td><td>522</td><td>0.406531</td><td>0.618247</td><td>1.01327</td><td>-0.952069</td><td>-0.679168</td><td>-0.597603</td><td>0.375125</td><td>1.97537</td><td>-0.440974</td><td>-0.072018</td><td>1.741353</td><td>1.380735</td><td>-0.110494</td><td>-0.874806</td><td>0.553424</td><td>0.532243</td><td>0.263214</td><td>-0.757856</td><td>-0.869204</td><td>-0.062955</td><td>&hellip;</td><td>-0.622853</td><td>-0.363631</td><td>-0.395652</td><td>-0.016812</td><td>2.016734</td><td>0.241486</td><td>0.253229</td><td>0.228745</td><td>0.462717</td><td>0.799635</td><td>0.706102</td><td>-0.376377</td><td>-0.286764</td><td>-0.359046</td><td>-0.246135</td><td>-0.288941</td><td>-0.247774</td><td>1.228778</td><td>0.512562</td><td>-0.050865</td><td>0.160883</td><td>0.080756</td><td>-0.078237</td><td>-0.138548</td><td>-0.038771</td><td>-0.21194</td><td>9</td><td>0</td><td>0.542563</td><td>0.513193</td><td>0.814393</td><td>0.032767</td><td>0.025435</td><td>0.311465</td><td>-0.044797</td><td>0.011133</td><td>-0.0793</td></tr></tbody></table></div>"
      ],
      "text/plain": [
       "shape: (452_056, 104)\n",
       "┌──────────┬─────────┬─────────┬───────────┬───┬────────────┬────────────┬────────────┬────────────┐\n",
       "│ id       ┆ date_id ┆ time_id ┆ symbol_id ┆ … ┆ responder_ ┆ responder_ ┆ responder_ ┆ responder_ │\n",
       "│ ---      ┆ ---     ┆ ---     ┆ ---       ┆   ┆ 5_lag_1    ┆ 6_lag_1    ┆ 7_lag_1    ┆ 8_lag_1    │\n",
       "│ u32      ┆ i16     ┆ i16     ┆ i8        ┆   ┆ ---        ┆ ---        ┆ ---        ┆ ---        │\n",
       "│          ┆         ┆         ┆           ┆   ┆ f32        ┆ f32        ┆ f32        ┆ f32        │\n",
       "╞══════════╪═════════╪═════════╪═══════════╪═══╪════════════╪════════════╪════════════╪════════════╡\n",
       "│ 46675282 ┆ 1687    ┆ 0       ┆ 0         ┆ … ┆ -0.535236  ┆ 0.058816   ┆ 0.057375   ┆ 0.083458   │\n",
       "│ 46675283 ┆ 1687    ┆ 0       ┆ 1         ┆ … ┆ -0.984262  ┆ -0.197686  ┆ -0.045213  ┆ -0.391194  │\n",
       "│ 46675284 ┆ 1687    ┆ 0       ┆ 2         ┆ … ┆ 0.084363   ┆ -0.164799  ┆ -0.109012  ┆ -0.762613  │\n",
       "│ 46675285 ┆ 1687    ┆ 0       ┆ 3         ┆ … ┆ 0.082131   ┆ 0.055058   ┆ 0.040775   ┆ 0.113845   │\n",
       "│ 46675286 ┆ 1687    ┆ 0       ┆ 4         ┆ … ┆ -0.410965  ┆ -0.330635  ┆ -0.070691  ┆ -0.544708  │\n",
       "│ …        ┆ …       ┆ …       ┆ …         ┆ … ┆ …          ┆ …          ┆ …          ┆ …          │\n",
       "│ 47127333 ┆ 1698    ┆ 967     ┆ 34        ┆ … ┆ -0.283954  ┆ -0.045938  ┆ 0.009797   ┆ -0.102538  │\n",
       "│ 47127334 ┆ 1698    ┆ 967     ┆ 35        ┆ … ┆ -0.291133  ┆ 0.167733   ┆ 0.099704   ┆ 0.32461    │\n",
       "│ 47127335 ┆ 1698    ┆ 967     ┆ 36        ┆ … ┆ -1.256913  ┆ -0.109359  ┆ -0.027474  ┆ -0.253956  │\n",
       "│ 47127336 ┆ 1698    ┆ 967     ┆ 37        ┆ … ┆ -0.260777  ┆ -0.486923  ┆ -0.275566  ┆ -1.020708  │\n",
       "│ 47127337 ┆ 1698    ┆ 967     ┆ 38        ┆ … ┆ 0.311465   ┆ -0.044797  ┆ 0.011133   ┆ -0.0793    │\n",
       "└──────────┴─────────┴─────────┴───────────┴───┴────────────┴────────────┴────────────┴────────────┘"
      ]
     },
     "execution_count": 9,
     "metadata": {},
     "output_type": "execute_result"
    }
   ],
   "source": [
    "validation_data"
   ]
  },
  {
   "cell_type": "markdown",
   "id": "2dc5ec65",
   "metadata": {
    "papermill": {
     "duration": 0.004709,
     "end_time": "2025-01-07T08:19:31.399782",
     "exception": false,
     "start_time": "2025-01-07T08:19:31.395073",
     "status": "completed"
    },
    "tags": []
   },
   "source": [
    "# Save data as parquets"
   ]
  },
  {
   "cell_type": "code",
   "execution_count": 10,
   "id": "6122e8e0",
   "metadata": {
    "execution": {
     "iopub.execute_input": "2025-01-07T08:19:31.411397Z",
     "iopub.status.busy": "2025-01-07T08:19:31.411010Z",
     "iopub.status.idle": "2025-01-07T08:19:40.535716Z",
     "shell.execute_reply": "2025-01-07T08:19:40.534846Z"
    },
    "papermill": {
     "duration": 9.133187,
     "end_time": "2025-01-07T08:19:40.537972",
     "exception": false,
     "start_time": "2025-01-07T08:19:31.404785",
     "status": "completed"
    },
    "tags": []
   },
   "outputs": [],
   "source": [
    "training_data.\\\n",
    "write_parquet(\n",
    "    f\"training_data.parquet\"\n",
    ")"
   ]
  },
  {
   "cell_type": "code",
   "execution_count": 11,
   "id": "a16fb373",
   "metadata": {
    "execution": {
     "iopub.execute_input": "2025-01-07T08:19:40.549581Z",
     "iopub.status.busy": "2025-01-07T08:19:40.549227Z",
     "iopub.status.idle": "2025-01-07T08:19:41.057923Z",
     "shell.execute_reply": "2025-01-07T08:19:41.056317Z"
    },
    "papermill": {
     "duration": 0.517835,
     "end_time": "2025-01-07T08:19:41.060996",
     "exception": false,
     "start_time": "2025-01-07T08:19:40.543161",
     "status": "completed"
    },
    "tags": []
   },
   "outputs": [],
   "source": [
    "validation_data.\\\n",
    "write_parquet(\n",
    "    f\"validation_data.parquet\"\n",
    ")"
   ]
  }
 ],
 "metadata": {
  "kaggle": {
   "accelerator": "none",
   "dataSources": [
    {
     "databundleVersionId": 9871156,
     "sourceId": 84493,
     "sourceType": "competition"
    }
   ],
   "dockerImageVersionId": 30786,
   "isGpuEnabled": false,
   "isInternetEnabled": false,
   "language": "python",
   "sourceType": "notebook"
  },
  "kernelspec": {
   "display_name": "Python 3",
   "language": "python",
   "name": "python3"
  },
  "language_info": {
   "codemirror_mode": {
    "name": "ipython",
    "version": 3
   },
   "file_extension": ".py",
   "mimetype": "text/x-python",
   "name": "python",
   "nbconvert_exporter": "python",
   "pygments_lexer": "ipython3",
   "version": "3.10.14"
  },
  "papermill": {
   "default_parameters": {},
   "duration": 80.843193,
   "end_time": "2025-01-07T08:19:44.565448",
   "environment_variables": {},
   "exception": null,
   "input_path": "__notebook__.ipynb",
   "output_path": "__notebook__.ipynb",
   "parameters": {},
   "start_time": "2025-01-07T08:18:23.722255",
   "version": "2.6.0"
  }
 },
 "nbformat": 4,
 "nbformat_minor": 5
}
