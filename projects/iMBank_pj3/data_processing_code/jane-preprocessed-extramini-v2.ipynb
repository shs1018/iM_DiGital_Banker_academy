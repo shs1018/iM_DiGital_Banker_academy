{
 "cells": [
  {
   "cell_type": "markdown",
   "id": "a9e7e418",
   "metadata": {
    "papermill": {
     "duration": 0.005251,
     "end_time": "2025-01-03T04:44:15.598112",
     "exception": false,
     "start_time": "2025-01-03T04:44:15.592861",
     "status": "completed"
    },
    "tags": []
   },
   "source": [
    "# Libraries"
   ]
  },
  {
   "cell_type": "code",
   "execution_count": 1,
   "id": "bc875b36",
   "metadata": {
    "execution": {
     "iopub.execute_input": "2025-01-03T04:44:15.610069Z",
     "iopub.status.busy": "2025-01-03T04:44:15.608944Z",
     "iopub.status.idle": "2025-01-03T04:44:18.094738Z",
     "shell.execute_reply": "2025-01-03T04:44:18.093170Z"
    },
    "papermill": {
     "duration": 2.494389,
     "end_time": "2025-01-03T04:44:18.097148",
     "exception": false,
     "start_time": "2025-01-03T04:44:15.602759",
     "status": "completed"
    },
    "tags": []
   },
   "outputs": [],
   "source": [
    "import pandas as pd\n",
    "import polars as pl\n",
    "import numpy as np\n",
    "import gc\n",
    "from matplotlib import pyplot as plt\n",
    "import matplotlib.cm as cm\n",
    "from sklearn.model_selection import StratifiedGroupKFold"
   ]
  },
  {
   "cell_type": "markdown",
   "id": "a9e1a152",
   "metadata": {
    "papermill": {
     "duration": 0.004182,
     "end_time": "2025-01-03T04:44:18.106035",
     "exception": false,
     "start_time": "2025-01-03T04:44:18.101853",
     "status": "completed"
    },
    "tags": []
   },
   "source": [
    "# Configurations"
   ]
  },
  {
   "cell_type": "code",
   "execution_count": 2,
   "id": "fd132943",
   "metadata": {
    "execution": {
     "iopub.execute_input": "2025-01-03T04:44:18.116860Z",
     "iopub.status.busy": "2025-01-03T04:44:18.116325Z",
     "iopub.status.idle": "2025-01-03T04:44:18.122580Z",
     "shell.execute_reply": "2025-01-03T04:44:18.121599Z"
    },
    "papermill": {
     "duration": 0.013971,
     "end_time": "2025-01-03T04:44:18.124544",
     "exception": false,
     "start_time": "2025-01-03T04:44:18.110573",
     "status": "completed"
    },
    "tags": []
   },
   "outputs": [],
   "source": [
    "class CONFIG:\n",
    "    target_col = \"responder_6\"\n",
    "    lag_cols_original = [\"date_id\", \"symbol_id\"] + [f\"responder_{idx}\" for idx in range(9)]\n",
    "    lag_cols_rename = { f\"responder_{idx}\" : f\"responder_{idx}_lag_1\" for idx in range(9)}\n",
    "    valid_ratio = 0.05\n",
    "    start_dt = 1100\n",
    "    chg_date_1 = 484\n",
    "    chg_date_2 = 677\n",
    "    chg_date_3 = 1530 # 마지막 partiton"
   ]
  },
  {
   "cell_type": "code",
   "execution_count": 3,
   "id": "0106cc6f",
   "metadata": {
    "execution": {
     "iopub.execute_input": "2025-01-03T04:44:18.135671Z",
     "iopub.status.busy": "2025-01-03T04:44:18.135313Z",
     "iopub.status.idle": "2025-01-03T04:44:18.153756Z",
     "shell.execute_reply": "2025-01-03T04:44:18.152713Z"
    },
    "papermill": {
     "duration": 0.02675,
     "end_time": "2025-01-03T04:44:18.155796",
     "exception": false,
     "start_time": "2025-01-03T04:44:18.129046",
     "status": "completed"
    },
    "tags": []
   },
   "outputs": [],
   "source": [
    "means = {'feature_00': 0.640198826789856, 'feature_01': 0.03755598142743111, 'feature_02': 0.6368075609207153, 'feature_03': 0.6365063786506653, 'feature_04': 0.013741530478000641, 'feature_05': -0.02173694409430027, 'feature_06': -0.006415014620870352, 'feature_07': -0.010971736162900925, 'feature_08': -0.04653771221637726, 'feature_09': 32.596106194690265, 'feature_10': 4.95929203539823, 'feature_11': 167.6541592920354, 'feature_12': -0.13415881991386414, 'feature_13': -0.07573335617780685, 'feature_14': -0.12015637010335922, 'feature_15': -0.7470195889472961, 'feature_16': -0.6257441639900208, 'feature_17': -0.7294047474861145, 'feature_18': -0.042215555906295776, 'feature_19': -0.08798160403966904, 'feature_20': -0.15741558372974396, 'feature_21': 0.10528526455163956, 'feature_22': 0.018054703250527382, 'feature_23': 0.03165541961789131, 'feature_24': 2.733017921447754, 'feature_25': 0.39958420395851135, 'feature_26': -0.11045943945646286, 'feature_27': -0.5332594513893127, 'feature_28': -0.4522790312767029, 'feature_29': -0.5739678144454956, 'feature_30': -0.7905704975128174, 'feature_31': 0.10600688308477402, 'feature_32': 0.40044134855270386, 'feature_33': -0.021725023165345192, 'feature_34': 0.4226262867450714, 'feature_35': 0.42143046855926514, 'feature_36': -0.00023802756913937628, 'feature_37': 0.027961043640971184, 'feature_38': 0.010258913040161133, 'feature_39': 0.005768273025751114, 'feature_40': 0.017485467717051506, 'feature_41': 0.038347117602825165, 'feature_42': -0.06123563274741173, 'feature_43': -0.11644423753023148, 'feature_44': -0.12342483550310135, 'feature_45': -0.028769943863153458, 'feature_46': -0.015200662426650524, 'feature_47': 0.015717582777142525, 'feature_48': -0.0033910537604242563, 'feature_49': -0.0052393232472240925, 'feature_50': -0.2285808026790619, 'feature_51': -0.3548349440097809, 'feature_52': -0.358092725276947, 'feature_53': 0.2607136368751526, 'feature_54': 0.18796788156032562, 'feature_55': 0.3154229521751404, 'feature_56': -0.1471923440694809, 'feature_57': 0.15730056166648865, 'feature_58': -0.021774644032120705, 'feature_59': -0.0037768862675875425, 'feature_60': -0.010220836848020554, 'feature_61': -0.03178725391626358, 'feature_62': -0.3769100308418274, 'feature_63': -0.3229374587535858, 'feature_64': -0.3718394339084625, 'feature_65': -0.10233989357948303, 'feature_66': -0.13688170909881592, 'feature_67': -0.14402112364768982, 'feature_68': -0.06875362992286682, 'feature_69': -0.11862917989492416, 'feature_70': -0.11789549142122269, 'feature_71': -0.06013699993491173, 'feature_72': -0.10766122490167618, 'feature_73': -0.09921672940254211, 'feature_74': -0.10233042389154434, 'feature_75': -0.05991339311003685, 'feature_76': -0.06349952518939972, 'feature_77': -0.07424316555261612, 'feature_78': -0.07759837061166763}\n",
    "stds = {'feature_00': 1.027751088142395, 'feature_01': 1.0967519283294678, 'feature_02': 1.0156300067901611, 'feature_03': 1.0170334577560425, 'feature_04': 1.0726385116577148, 'feature_05': 0.9639211297035217, 'feature_06': 1.0963259935379028, 'feature_07': 1.0789952278137207, 'feature_08': 0.7962697148323059, 'feature_09': 23.72976726545254, 'feature_10': 3.1867162933797224, 'feature_11': 163.44513161352285, 'feature_12': 0.6700984835624695, 'feature_13': 0.5805172920227051, 'feature_14': 0.664044201374054, 'feature_15': 0.37517768144607544, 'feature_16': 0.3393096327781677, 'feature_17': 0.3603287935256958, 'feature_18': 0.9911752939224243, 'feature_19': 1.0550744533538818, 'feature_20': 0.6643751263618469, 'feature_21': 0.38239365816116333, 'feature_22': 0.950261116027832, 'feature_23': 0.8119344711303711, 'feature_24': 1.4362775087356567, 'feature_25': 1.0947270393371582, 'feature_26': 1.077124834060669, 'feature_27': 1.0645726919174194, 'feature_28': 1.0676648616790771, 'feature_29': 0.2640742361545563, 'feature_30': 0.19689509272575378, 'feature_31': 0.3815343976020813, 'feature_32': 1.2996565103530884, 'feature_33': 0.9989405870437622, 'feature_34': 1.3409572839736938, 'feature_35': 1.3365675210952759, 'feature_36': 0.8695492148399353, 'feature_37': 0.7334080934524536, 'feature_38': 0.698810338973999, 'feature_39': 0.7965824604034424, 'feature_40': 0.518515944480896, 'feature_41': 0.6384949088096619, 'feature_42': 0.8168442249298096, 'feature_43': 0.5228385925292969, 'feature_44': 0.6521403193473816, 'feature_45': 0.8666537404060364, 'feature_46': 0.9039222002029419, 'feature_47': 3.2711963653564453, 'feature_48': 0.6570901274681091, 'feature_49': 0.7083076238632202, 'feature_50': 1.0132617950439453, 'feature_51': 0.6081287860870361, 'feature_52': 0.9250587224960327, 'feature_53': 1.0421689748764038, 'feature_54': 0.5859629511833191, 'feature_55': 0.9191848039627075, 'feature_56': 0.9549097418785095, 'feature_57': 1.0204777717590332, 'feature_58': 0.8327276110649109, 'feature_59': 0.8309783339500427, 'feature_60': 0.8389413356781006, 'feature_61': 1.192766547203064, 'feature_62': 1.388945460319519, 'feature_63': 0.09957146644592285, 'feature_64': 0.3396177291870117, 'feature_65': 1.01683509349823, 'feature_66': 1.0824761390686035, 'feature_67': 0.642227828502655, 'feature_68': 0.5312599539756775, 'feature_69': 0.6208390593528748, 'feature_70': 0.6724499464035034, 'feature_71': 0.5356909036636353, 'feature_72': 0.6534596681594849, 'feature_73': 1.0855497121810913, 'feature_74': 1.0880277156829834, 'feature_75': 1.2321789264678955, 'feature_76': 1.2345560789108276, 'feature_77': 1.0921478271484375, 'feature_78': 1.0924347639083862}\n",
    "\n",
    "# 전체 데이터 기준으로 재정의\n",
    "\n",
    "def normalize_dataframe(df: pl.DataFrame, means: dict, stds: dict) -> pl.DataFrame:\n",
    "    # 폴라 데이터프레임을 평균과 표준편차로 정규화\n",
    "    normalize_exprs = []\n",
    "\n",
    "    for col in df.columns:\n",
    "        if col in means and col in stds: # 정규화 되어야 하는 열만 존재하도록\n",
    "            if stds[col] != 0: # 0인 차원 적용 X\n",
    "                # 정규화 하되 이름은 유지하도록\n",
    "                normalize_exprs.append(\n",
    "                    ((pl.col(col) - means[col]) / stds[col]).alias(col)\n",
    "                )\n",
    "            else:\n",
    "                normalize_exprs.append(pl.col(col) - means[col]).alias(col)\n",
    "\n",
    "    normalized_df = df.select(normalize_exprs) # 정규화된 데이터프레임 생성\n",
    "    return normalized_df"
   ]
  },
  {
   "cell_type": "markdown",
   "id": "b69516bb",
   "metadata": {
    "papermill": {
     "duration": 0.004196,
     "end_time": "2025-01-03T04:44:18.164536",
     "exception": false,
     "start_time": "2025-01-03T04:44:18.160340",
     "status": "completed"
    },
    "tags": []
   },
   "source": [
    "# Load training data & select"
   ]
  },
  {
   "cell_type": "code",
   "execution_count": 4,
   "id": "8df4eaf6",
   "metadata": {
    "execution": {
     "iopub.execute_input": "2025-01-03T04:44:18.176274Z",
     "iopub.status.busy": "2025-01-03T04:44:18.175334Z",
     "iopub.status.idle": "2025-01-03T04:44:18.208435Z",
     "shell.execute_reply": "2025-01-03T04:44:18.207275Z"
    },
    "papermill": {
     "duration": 0.040962,
     "end_time": "2025-01-03T04:44:18.210737",
     "exception": false,
     "start_time": "2025-01-03T04:44:18.169775",
     "status": "completed"
    },
    "tags": []
   },
   "outputs": [],
   "source": [
    "# Use last 2 parquets\n",
    "\n",
    "train = pl.scan_parquet(\n",
    "    f\"/kaggle/input/jane-street-real-time-market-data-forecasting/train.parquet\"\n",
    ").select(\n",
    "    pl.int_range(pl.len(), dtype=pl.UInt32).alias(\"id\"),\n",
    "    pl.all(),\n",
    ").with_columns(\n",
    "    (pl.col(CONFIG.target_col)*2).cast(pl.Int32).alias(\"label\"),\n",
    ").filter(\n",
    "    (pl.col(\"date_id\") >= CONFIG.chg_date_1 - 30) & (pl.col(\"date_id\") <= CONFIG.chg_date_1 + 30)\n",
    "    | (pl.col(\"date_id\") >= CONFIG.chg_date_2 - 30) & (pl.col(\"date_id\") <= CONFIG.chg_date_2 + 30)\n",
    "    | (pl.col(\"date_id\") >= CONFIG.chg_date_3) # 데이터를 초반 두 번의 변화 두 번 전후 한달씩, 그리고 마지막 9 parquet을 가져옴.\n",
    ").fill_null(\n",
    "    strategy=\"forward\"\n",
    ").fill_null(\n",
    "    value=0 # 결측치는 일단 단순하게 0으로 처리 \n",
    ")"
   ]
  },
  {
   "cell_type": "code",
   "execution_count": 5,
   "id": "2688581c",
   "metadata": {
    "execution": {
     "iopub.execute_input": "2025-01-03T04:44:18.222608Z",
     "iopub.status.busy": "2025-01-03T04:44:18.221634Z",
     "iopub.status.idle": "2025-01-03T04:45:11.741575Z",
     "shell.execute_reply": "2025-01-03T04:45:11.740445Z"
    },
    "papermill": {
     "duration": 53.532709,
     "end_time": "2025-01-03T04:45:11.748329",
     "exception": false,
     "start_time": "2025-01-03T04:44:18.215620",
     "status": "completed"
    },
    "tags": []
   },
   "outputs": [
    {
     "data": {
      "text/html": [
       "<div>\n",
       "<style scoped>\n",
       "    .dataframe tbody tr th:only-of-type {\n",
       "        vertical-align: middle;\n",
       "    }\n",
       "\n",
       "    .dataframe tbody tr th {\n",
       "        vertical-align: top;\n",
       "    }\n",
       "\n",
       "    .dataframe thead th {\n",
       "        text-align: right;\n",
       "    }\n",
       "</style>\n",
       "<table border=\"1\" class=\"dataframe\">\n",
       "  <thead>\n",
       "    <tr style=\"text-align: right;\">\n",
       "      <th></th>\n",
       "      <th>id</th>\n",
       "      <th>date_id</th>\n",
       "      <th>time_id</th>\n",
       "      <th>symbol_id</th>\n",
       "      <th>weight</th>\n",
       "      <th>feature_00</th>\n",
       "      <th>feature_01</th>\n",
       "      <th>feature_02</th>\n",
       "      <th>feature_03</th>\n",
       "      <th>feature_04</th>\n",
       "      <th>...</th>\n",
       "      <th>responder_1</th>\n",
       "      <th>responder_2</th>\n",
       "      <th>responder_3</th>\n",
       "      <th>responder_4</th>\n",
       "      <th>responder_5</th>\n",
       "      <th>responder_6</th>\n",
       "      <th>responder_7</th>\n",
       "      <th>responder_8</th>\n",
       "      <th>partition_id</th>\n",
       "      <th>label</th>\n",
       "    </tr>\n",
       "  </thead>\n",
       "  <tbody>\n",
       "    <tr>\n",
       "      <th>0</th>\n",
       "      <td>6655311</td>\n",
       "      <td>454</td>\n",
       "      <td>0</td>\n",
       "      <td>0</td>\n",
       "      <td>2.469772</td>\n",
       "      <td>2.011155</td>\n",
       "      <td>-1.183452</td>\n",
       "      <td>2.449150</td>\n",
       "      <td>1.968074</td>\n",
       "      <td>1.073371</td>\n",
       "      <td>...</td>\n",
       "      <td>-0.912550</td>\n",
       "      <td>-0.551103</td>\n",
       "      <td>0.071475</td>\n",
       "      <td>0.213802</td>\n",
       "      <td>0.920710</td>\n",
       "      <td>0.945452</td>\n",
       "      <td>0.355292</td>\n",
       "      <td>1.365892</td>\n",
       "      <td>2</td>\n",
       "      <td>1</td>\n",
       "    </tr>\n",
       "    <tr>\n",
       "      <th>1</th>\n",
       "      <td>6655312</td>\n",
       "      <td>454</td>\n",
       "      <td>0</td>\n",
       "      <td>1</td>\n",
       "      <td>4.609505</td>\n",
       "      <td>1.923074</td>\n",
       "      <td>-1.297473</td>\n",
       "      <td>1.898652</td>\n",
       "      <td>2.590320</td>\n",
       "      <td>0.983711</td>\n",
       "      <td>...</td>\n",
       "      <td>-0.381795</td>\n",
       "      <td>-0.265064</td>\n",
       "      <td>0.488816</td>\n",
       "      <td>0.821543</td>\n",
       "      <td>0.539706</td>\n",
       "      <td>0.821673</td>\n",
       "      <td>0.975165</td>\n",
       "      <td>1.707223</td>\n",
       "      <td>2</td>\n",
       "      <td>1</td>\n",
       "    </tr>\n",
       "    <tr>\n",
       "      <th>2</th>\n",
       "      <td>6655313</td>\n",
       "      <td>454</td>\n",
       "      <td>0</td>\n",
       "      <td>2</td>\n",
       "      <td>1.313092</td>\n",
       "      <td>2.103599</td>\n",
       "      <td>-0.866588</td>\n",
       "      <td>2.051928</td>\n",
       "      <td>2.211389</td>\n",
       "      <td>0.847589</td>\n",
       "      <td>...</td>\n",
       "      <td>-0.169111</td>\n",
       "      <td>-0.497740</td>\n",
       "      <td>2.245259</td>\n",
       "      <td>0.355446</td>\n",
       "      <td>0.867455</td>\n",
       "      <td>2.395301</td>\n",
       "      <td>0.417111</td>\n",
       "      <td>1.836413</td>\n",
       "      <td>2</td>\n",
       "      <td>4</td>\n",
       "    </tr>\n",
       "    <tr>\n",
       "      <th>3</th>\n",
       "      <td>6655314</td>\n",
       "      <td>454</td>\n",
       "      <td>0</td>\n",
       "      <td>3</td>\n",
       "      <td>0.953090</td>\n",
       "      <td>1.613543</td>\n",
       "      <td>-0.876514</td>\n",
       "      <td>2.681358</td>\n",
       "      <td>2.772389</td>\n",
       "      <td>1.059146</td>\n",
       "      <td>...</td>\n",
       "      <td>0.185034</td>\n",
       "      <td>0.866747</td>\n",
       "      <td>0.925349</td>\n",
       "      <td>-0.609420</td>\n",
       "      <td>1.878252</td>\n",
       "      <td>1.123068</td>\n",
       "      <td>-0.699646</td>\n",
       "      <td>2.347015</td>\n",
       "      <td>2</td>\n",
       "      <td>2</td>\n",
       "    </tr>\n",
       "    <tr>\n",
       "      <th>4</th>\n",
       "      <td>6655315</td>\n",
       "      <td>454</td>\n",
       "      <td>0</td>\n",
       "      <td>7</td>\n",
       "      <td>1.674723</td>\n",
       "      <td>2.253614</td>\n",
       "      <td>-1.061369</td>\n",
       "      <td>2.496380</td>\n",
       "      <td>2.403782</td>\n",
       "      <td>1.154420</td>\n",
       "      <td>...</td>\n",
       "      <td>-0.025160</td>\n",
       "      <td>-0.026998</td>\n",
       "      <td>0.154214</td>\n",
       "      <td>-0.225480</td>\n",
       "      <td>-0.242701</td>\n",
       "      <td>-0.107649</td>\n",
       "      <td>-0.422369</td>\n",
       "      <td>-0.321855</td>\n",
       "      <td>2</td>\n",
       "      <td>0</td>\n",
       "    </tr>\n",
       "  </tbody>\n",
       "</table>\n",
       "<p>5 rows × 95 columns</p>\n",
       "</div>"
      ],
      "text/plain": [
       "        id  date_id  time_id  symbol_id    weight  feature_00  feature_01  \\\n",
       "0  6655311      454        0          0  2.469772    2.011155   -1.183452   \n",
       "1  6655312      454        0          1  4.609505    1.923074   -1.297473   \n",
       "2  6655313      454        0          2  1.313092    2.103599   -0.866588   \n",
       "3  6655314      454        0          3  0.953090    1.613543   -0.876514   \n",
       "4  6655315      454        0          7  1.674723    2.253614   -1.061369   \n",
       "\n",
       "   feature_02  feature_03  feature_04  ...  responder_1  responder_2  \\\n",
       "0    2.449150    1.968074    1.073371  ...    -0.912550    -0.551103   \n",
       "1    1.898652    2.590320    0.983711  ...    -0.381795    -0.265064   \n",
       "2    2.051928    2.211389    0.847589  ...    -0.169111    -0.497740   \n",
       "3    2.681358    2.772389    1.059146  ...     0.185034     0.866747   \n",
       "4    2.496380    2.403782    1.154420  ...    -0.025160    -0.026998   \n",
       "\n",
       "   responder_3  responder_4  responder_5  responder_6  responder_7  \\\n",
       "0     0.071475     0.213802     0.920710     0.945452     0.355292   \n",
       "1     0.488816     0.821543     0.539706     0.821673     0.975165   \n",
       "2     2.245259     0.355446     0.867455     2.395301     0.417111   \n",
       "3     0.925349    -0.609420     1.878252     1.123068    -0.699646   \n",
       "4     0.154214    -0.225480    -0.242701    -0.107649    -0.422369   \n",
       "\n",
       "   responder_8  partition_id  label  \n",
       "0     1.365892             2      1  \n",
       "1     1.707223             2      1  \n",
       "2     1.836413             2      4  \n",
       "3     2.347015             2      2  \n",
       "4    -0.321855             2      0  \n",
       "\n",
       "[5 rows x 95 columns]"
      ]
     },
     "execution_count": 5,
     "metadata": {},
     "output_type": "execute_result"
    }
   ],
   "source": [
    "train = train.collect().to_pandas()\n",
    "train.head()"
   ]
  },
  {
   "cell_type": "code",
   "execution_count": 6,
   "id": "71e14480",
   "metadata": {
    "execution": {
     "iopub.execute_input": "2025-01-03T04:45:11.759514Z",
     "iopub.status.busy": "2025-01-03T04:45:11.759139Z",
     "iopub.status.idle": "2025-01-03T04:45:22.264297Z",
     "shell.execute_reply": "2025-01-03T04:45:22.263170Z"
    },
    "papermill": {
     "duration": 10.513764,
     "end_time": "2025-01-03T04:45:22.266788",
     "exception": false,
     "start_time": "2025-01-03T04:45:11.753024",
     "status": "completed"
    },
    "tags": []
   },
   "outputs": [],
   "source": [
    "tmp_normed = normalize_dataframe(pl.DataFrame(train), means, stds)\n",
    "tmp_normed = tmp_normed.to_pandas()"
   ]
  },
  {
   "cell_type": "code",
   "execution_count": 7,
   "id": "fcc9f814",
   "metadata": {
    "execution": {
     "iopub.execute_input": "2025-01-03T04:45:22.278823Z",
     "iopub.status.busy": "2025-01-03T04:45:22.278442Z",
     "iopub.status.idle": "2025-01-03T04:45:22.302271Z",
     "shell.execute_reply": "2025-01-03T04:45:22.301256Z"
    },
    "papermill": {
     "duration": 0.032225,
     "end_time": "2025-01-03T04:45:22.304375",
     "exception": false,
     "start_time": "2025-01-03T04:45:22.272150",
     "status": "completed"
    },
    "tags": []
   },
   "outputs": [
    {
     "data": {
      "text/html": [
       "<div>\n",
       "<style scoped>\n",
       "    .dataframe tbody tr th:only-of-type {\n",
       "        vertical-align: middle;\n",
       "    }\n",
       "\n",
       "    .dataframe tbody tr th {\n",
       "        vertical-align: top;\n",
       "    }\n",
       "\n",
       "    .dataframe thead th {\n",
       "        text-align: right;\n",
       "    }\n",
       "</style>\n",
       "<table border=\"1\" class=\"dataframe\">\n",
       "  <thead>\n",
       "    <tr style=\"text-align: right;\">\n",
       "      <th></th>\n",
       "      <th>feature_00</th>\n",
       "      <th>feature_01</th>\n",
       "      <th>feature_02</th>\n",
       "      <th>feature_03</th>\n",
       "      <th>feature_04</th>\n",
       "      <th>feature_05</th>\n",
       "      <th>feature_06</th>\n",
       "      <th>feature_07</th>\n",
       "      <th>feature_08</th>\n",
       "      <th>feature_09</th>\n",
       "      <th>...</th>\n",
       "      <th>feature_69</th>\n",
       "      <th>feature_70</th>\n",
       "      <th>feature_71</th>\n",
       "      <th>feature_72</th>\n",
       "      <th>feature_73</th>\n",
       "      <th>feature_74</th>\n",
       "      <th>feature_75</th>\n",
       "      <th>feature_76</th>\n",
       "      <th>feature_77</th>\n",
       "      <th>feature_78</th>\n",
       "    </tr>\n",
       "  </thead>\n",
       "  <tbody>\n",
       "    <tr>\n",
       "      <th>0</th>\n",
       "      <td>1.333938</td>\n",
       "      <td>-1.113294</td>\n",
       "      <td>1.784451</td>\n",
       "      <td>1.309266</td>\n",
       "      <td>0.987872</td>\n",
       "      <td>0.202065</td>\n",
       "      <td>0.703406</td>\n",
       "      <td>0.832457</td>\n",
       "      <td>-0.042096</td>\n",
       "      <td>-0.910085</td>\n",
       "      <td>...</td>\n",
       "      <td>-0.297654</td>\n",
       "      <td>-1.355273</td>\n",
       "      <td>0.420824</td>\n",
       "      <td>-0.715510</td>\n",
       "      <td>0.091398</td>\n",
       "      <td>0.094051</td>\n",
       "      <td>1.479111</td>\n",
       "      <td>1.985552</td>\n",
       "      <td>2.578956</td>\n",
       "      <td>2.782909</td>\n",
       "    </tr>\n",
       "    <tr>\n",
       "      <th>1</th>\n",
       "      <td>1.248235</td>\n",
       "      <td>-1.217257</td>\n",
       "      <td>1.242425</td>\n",
       "      <td>1.921091</td>\n",
       "      <td>0.904284</td>\n",
       "      <td>0.151780</td>\n",
       "      <td>0.919433</td>\n",
       "      <td>0.803433</td>\n",
       "      <td>-0.064288</td>\n",
       "      <td>-0.910085</td>\n",
       "      <td>...</td>\n",
       "      <td>-0.836947</td>\n",
       "      <td>-1.143275</td>\n",
       "      <td>1.431542</td>\n",
       "      <td>-0.639512</td>\n",
       "      <td>0.091398</td>\n",
       "      <td>0.094051</td>\n",
       "      <td>-0.006290</td>\n",
       "      <td>0.009189</td>\n",
       "      <td>-0.120330</td>\n",
       "      <td>-0.141355</td>\n",
       "    </tr>\n",
       "    <tr>\n",
       "      <th>2</th>\n",
       "      <td>1.423886</td>\n",
       "      <td>-0.824384</td>\n",
       "      <td>1.393342</td>\n",
       "      <td>1.548506</td>\n",
       "      <td>0.777380</td>\n",
       "      <td>0.206468</td>\n",
       "      <td>0.907292</td>\n",
       "      <td>0.413701</td>\n",
       "      <td>-0.166014</td>\n",
       "      <td>2.039796</td>\n",
       "      <td>...</td>\n",
       "      <td>-0.134096</td>\n",
       "      <td>-1.013648</td>\n",
       "      <td>-0.290621</td>\n",
       "      <td>-0.694798</td>\n",
       "      <td>0.091398</td>\n",
       "      <td>0.094051</td>\n",
       "      <td>-0.234672</td>\n",
       "      <td>-0.295525</td>\n",
       "      <td>-0.196816</td>\n",
       "      <td>-0.260476</td>\n",
       "    </tr>\n",
       "    <tr>\n",
       "      <th>3</th>\n",
       "      <td>0.947062</td>\n",
       "      <td>-0.833434</td>\n",
       "      <td>2.013085</td>\n",
       "      <td>2.100111</td>\n",
       "      <td>0.974610</td>\n",
       "      <td>0.204402</td>\n",
       "      <td>0.901388</td>\n",
       "      <td>0.504798</td>\n",
       "      <td>-0.094379</td>\n",
       "      <td>-1.205073</td>\n",
       "      <td>...</td>\n",
       "      <td>0.821026</td>\n",
       "      <td>-1.484724</td>\n",
       "      <td>4.479863</td>\n",
       "      <td>0.013060</td>\n",
       "      <td>0.091398</td>\n",
       "      <td>0.094051</td>\n",
       "      <td>0.036501</td>\n",
       "      <td>0.031306</td>\n",
       "      <td>-0.159729</td>\n",
       "      <td>-0.173449</td>\n",
       "    </tr>\n",
       "    <tr>\n",
       "      <th>4</th>\n",
       "      <td>1.569850</td>\n",
       "      <td>-1.001981</td>\n",
       "      <td>1.830955</td>\n",
       "      <td>1.737677</td>\n",
       "      <td>1.063433</td>\n",
       "      <td>0.172779</td>\n",
       "      <td>0.605629</td>\n",
       "      <td>0.968551</td>\n",
       "      <td>-0.115050</td>\n",
       "      <td>-0.910085</td>\n",
       "      <td>...</td>\n",
       "      <td>-0.992144</td>\n",
       "      <td>-1.177742</td>\n",
       "      <td>-0.574875</td>\n",
       "      <td>-1.105902</td>\n",
       "      <td>0.091398</td>\n",
       "      <td>0.094051</td>\n",
       "      <td>-0.272196</td>\n",
       "      <td>-0.214301</td>\n",
       "      <td>-0.190665</td>\n",
       "      <td>-0.242373</td>\n",
       "    </tr>\n",
       "  </tbody>\n",
       "</table>\n",
       "<p>5 rows × 79 columns</p>\n",
       "</div>"
      ],
      "text/plain": [
       "   feature_00  feature_01  feature_02  feature_03  feature_04  feature_05  \\\n",
       "0    1.333938   -1.113294    1.784451    1.309266    0.987872    0.202065   \n",
       "1    1.248235   -1.217257    1.242425    1.921091    0.904284    0.151780   \n",
       "2    1.423886   -0.824384    1.393342    1.548506    0.777380    0.206468   \n",
       "3    0.947062   -0.833434    2.013085    2.100111    0.974610    0.204402   \n",
       "4    1.569850   -1.001981    1.830955    1.737677    1.063433    0.172779   \n",
       "\n",
       "   feature_06  feature_07  feature_08  feature_09  ...  feature_69  \\\n",
       "0    0.703406    0.832457   -0.042096   -0.910085  ...   -0.297654   \n",
       "1    0.919433    0.803433   -0.064288   -0.910085  ...   -0.836947   \n",
       "2    0.907292    0.413701   -0.166014    2.039796  ...   -0.134096   \n",
       "3    0.901388    0.504798   -0.094379   -1.205073  ...    0.821026   \n",
       "4    0.605629    0.968551   -0.115050   -0.910085  ...   -0.992144   \n",
       "\n",
       "   feature_70  feature_71  feature_72  feature_73  feature_74  feature_75  \\\n",
       "0   -1.355273    0.420824   -0.715510    0.091398    0.094051    1.479111   \n",
       "1   -1.143275    1.431542   -0.639512    0.091398    0.094051   -0.006290   \n",
       "2   -1.013648   -0.290621   -0.694798    0.091398    0.094051   -0.234672   \n",
       "3   -1.484724    4.479863    0.013060    0.091398    0.094051    0.036501   \n",
       "4   -1.177742   -0.574875   -1.105902    0.091398    0.094051   -0.272196   \n",
       "\n",
       "   feature_76  feature_77  feature_78  \n",
       "0    1.985552    2.578956    2.782909  \n",
       "1    0.009189   -0.120330   -0.141355  \n",
       "2   -0.295525   -0.196816   -0.260476  \n",
       "3    0.031306   -0.159729   -0.173449  \n",
       "4   -0.214301   -0.190665   -0.242373  \n",
       "\n",
       "[5 rows x 79 columns]"
      ]
     },
     "execution_count": 7,
     "metadata": {},
     "output_type": "execute_result"
    }
   ],
   "source": [
    "tmp_normed.head()"
   ]
  },
  {
   "cell_type": "code",
   "execution_count": 8,
   "id": "7efc6656",
   "metadata": {
    "execution": {
     "iopub.execute_input": "2025-01-03T04:45:22.316289Z",
     "iopub.status.busy": "2025-01-03T04:45:22.315923Z",
     "iopub.status.idle": "2025-01-03T04:45:30.053208Z",
     "shell.execute_reply": "2025-01-03T04:45:30.052077Z"
    },
    "papermill": {
     "duration": 7.745751,
     "end_time": "2025-01-03T04:45:30.055330",
     "exception": false,
     "start_time": "2025-01-03T04:45:22.309579",
     "status": "completed"
    },
    "tags": []
   },
   "outputs": [
    {
     "name": "stderr",
     "output_type": "stream",
     "text": [
      "/tmp/ipykernel_17/3479842813.py:1: FutureWarning: Setting an item of incompatible dtype is deprecated and will raise in a future error of pandas. Value '[-0.91008504 -0.91008504  2.0397964  ...  0.69127917  0.05916172\n",
      "  0.73342033]' has dtype incompatible with int8, please explicitly cast to a compatible dtype first.\n",
      "  train.update(tmp_normed)\n",
      "/tmp/ipykernel_17/3479842813.py:1: FutureWarning: Setting an item of incompatible dtype is deprecated and will raise in a future error of pandas. Value '[ 0.64037956  0.64037956 -0.92863367 ...  0.64037956 -0.30102838\n",
      " -1.24243631]' has dtype incompatible with int8, please explicitly cast to a compatible dtype first.\n",
      "  train.update(tmp_normed)\n",
      "/tmp/ipykernel_17/3479842813.py:1: FutureWarning: Setting an item of incompatible dtype is deprecated and will raise in a future error of pandas. Value '[-0.56076408 -0.56076408 -0.66477452 ...  0.79137163  0.28355596\n",
      "  2.16798039]' has dtype incompatible with int16, please explicitly cast to a compatible dtype first.\n",
      "  train.update(tmp_normed)\n"
     ]
    },
    {
     "data": {
      "text/html": [
       "<div>\n",
       "<style scoped>\n",
       "    .dataframe tbody tr th:only-of-type {\n",
       "        vertical-align: middle;\n",
       "    }\n",
       "\n",
       "    .dataframe tbody tr th {\n",
       "        vertical-align: top;\n",
       "    }\n",
       "\n",
       "    .dataframe thead th {\n",
       "        text-align: right;\n",
       "    }\n",
       "</style>\n",
       "<table border=\"1\" class=\"dataframe\">\n",
       "  <thead>\n",
       "    <tr style=\"text-align: right;\">\n",
       "      <th></th>\n",
       "      <th>id</th>\n",
       "      <th>date_id</th>\n",
       "      <th>time_id</th>\n",
       "      <th>symbol_id</th>\n",
       "      <th>weight</th>\n",
       "      <th>feature_00</th>\n",
       "      <th>feature_01</th>\n",
       "      <th>feature_02</th>\n",
       "      <th>feature_03</th>\n",
       "      <th>feature_04</th>\n",
       "      <th>...</th>\n",
       "      <th>responder_1</th>\n",
       "      <th>responder_2</th>\n",
       "      <th>responder_3</th>\n",
       "      <th>responder_4</th>\n",
       "      <th>responder_5</th>\n",
       "      <th>responder_6</th>\n",
       "      <th>responder_7</th>\n",
       "      <th>responder_8</th>\n",
       "      <th>partition_id</th>\n",
       "      <th>label</th>\n",
       "    </tr>\n",
       "  </thead>\n",
       "  <tbody>\n",
       "    <tr>\n",
       "      <th>0</th>\n",
       "      <td>6655311</td>\n",
       "      <td>454</td>\n",
       "      <td>0</td>\n",
       "      <td>0</td>\n",
       "      <td>2.469772</td>\n",
       "      <td>1.333938</td>\n",
       "      <td>-1.113294</td>\n",
       "      <td>1.784451</td>\n",
       "      <td>1.309266</td>\n",
       "      <td>0.987872</td>\n",
       "      <td>...</td>\n",
       "      <td>-0.912550</td>\n",
       "      <td>-0.551103</td>\n",
       "      <td>0.071475</td>\n",
       "      <td>0.213802</td>\n",
       "      <td>0.920710</td>\n",
       "      <td>0.945452</td>\n",
       "      <td>0.355292</td>\n",
       "      <td>1.365892</td>\n",
       "      <td>2</td>\n",
       "      <td>1</td>\n",
       "    </tr>\n",
       "    <tr>\n",
       "      <th>1</th>\n",
       "      <td>6655312</td>\n",
       "      <td>454</td>\n",
       "      <td>0</td>\n",
       "      <td>1</td>\n",
       "      <td>4.609505</td>\n",
       "      <td>1.248235</td>\n",
       "      <td>-1.217257</td>\n",
       "      <td>1.242425</td>\n",
       "      <td>1.921091</td>\n",
       "      <td>0.904284</td>\n",
       "      <td>...</td>\n",
       "      <td>-0.381795</td>\n",
       "      <td>-0.265064</td>\n",
       "      <td>0.488816</td>\n",
       "      <td>0.821543</td>\n",
       "      <td>0.539706</td>\n",
       "      <td>0.821673</td>\n",
       "      <td>0.975165</td>\n",
       "      <td>1.707223</td>\n",
       "      <td>2</td>\n",
       "      <td>1</td>\n",
       "    </tr>\n",
       "    <tr>\n",
       "      <th>2</th>\n",
       "      <td>6655313</td>\n",
       "      <td>454</td>\n",
       "      <td>0</td>\n",
       "      <td>2</td>\n",
       "      <td>1.313092</td>\n",
       "      <td>1.423886</td>\n",
       "      <td>-0.824384</td>\n",
       "      <td>1.393342</td>\n",
       "      <td>1.548506</td>\n",
       "      <td>0.777380</td>\n",
       "      <td>...</td>\n",
       "      <td>-0.169111</td>\n",
       "      <td>-0.497740</td>\n",
       "      <td>2.245259</td>\n",
       "      <td>0.355446</td>\n",
       "      <td>0.867455</td>\n",
       "      <td>2.395301</td>\n",
       "      <td>0.417111</td>\n",
       "      <td>1.836413</td>\n",
       "      <td>2</td>\n",
       "      <td>4</td>\n",
       "    </tr>\n",
       "    <tr>\n",
       "      <th>3</th>\n",
       "      <td>6655314</td>\n",
       "      <td>454</td>\n",
       "      <td>0</td>\n",
       "      <td>3</td>\n",
       "      <td>0.953090</td>\n",
       "      <td>0.947062</td>\n",
       "      <td>-0.833434</td>\n",
       "      <td>2.013085</td>\n",
       "      <td>2.100111</td>\n",
       "      <td>0.974610</td>\n",
       "      <td>...</td>\n",
       "      <td>0.185034</td>\n",
       "      <td>0.866747</td>\n",
       "      <td>0.925349</td>\n",
       "      <td>-0.609420</td>\n",
       "      <td>1.878252</td>\n",
       "      <td>1.123068</td>\n",
       "      <td>-0.699646</td>\n",
       "      <td>2.347015</td>\n",
       "      <td>2</td>\n",
       "      <td>2</td>\n",
       "    </tr>\n",
       "    <tr>\n",
       "      <th>4</th>\n",
       "      <td>6655315</td>\n",
       "      <td>454</td>\n",
       "      <td>0</td>\n",
       "      <td>7</td>\n",
       "      <td>1.674723</td>\n",
       "      <td>1.569850</td>\n",
       "      <td>-1.001981</td>\n",
       "      <td>1.830955</td>\n",
       "      <td>1.737677</td>\n",
       "      <td>1.063433</td>\n",
       "      <td>...</td>\n",
       "      <td>-0.025160</td>\n",
       "      <td>-0.026998</td>\n",
       "      <td>0.154214</td>\n",
       "      <td>-0.225480</td>\n",
       "      <td>-0.242701</td>\n",
       "      <td>-0.107649</td>\n",
       "      <td>-0.422369</td>\n",
       "      <td>-0.321855</td>\n",
       "      <td>2</td>\n",
       "      <td>0</td>\n",
       "    </tr>\n",
       "  </tbody>\n",
       "</table>\n",
       "<p>5 rows × 95 columns</p>\n",
       "</div>"
      ],
      "text/plain": [
       "        id  date_id  time_id  symbol_id    weight  feature_00  feature_01  \\\n",
       "0  6655311      454        0          0  2.469772    1.333938   -1.113294   \n",
       "1  6655312      454        0          1  4.609505    1.248235   -1.217257   \n",
       "2  6655313      454        0          2  1.313092    1.423886   -0.824384   \n",
       "3  6655314      454        0          3  0.953090    0.947062   -0.833434   \n",
       "4  6655315      454        0          7  1.674723    1.569850   -1.001981   \n",
       "\n",
       "   feature_02  feature_03  feature_04  ...  responder_1  responder_2  \\\n",
       "0    1.784451    1.309266    0.987872  ...    -0.912550    -0.551103   \n",
       "1    1.242425    1.921091    0.904284  ...    -0.381795    -0.265064   \n",
       "2    1.393342    1.548506    0.777380  ...    -0.169111    -0.497740   \n",
       "3    2.013085    2.100111    0.974610  ...     0.185034     0.866747   \n",
       "4    1.830955    1.737677    1.063433  ...    -0.025160    -0.026998   \n",
       "\n",
       "   responder_3  responder_4  responder_5  responder_6  responder_7  \\\n",
       "0     0.071475     0.213802     0.920710     0.945452     0.355292   \n",
       "1     0.488816     0.821543     0.539706     0.821673     0.975165   \n",
       "2     2.245259     0.355446     0.867455     2.395301     0.417111   \n",
       "3     0.925349    -0.609420     1.878252     1.123068    -0.699646   \n",
       "4     0.154214    -0.225480    -0.242701    -0.107649    -0.422369   \n",
       "\n",
       "   responder_8  partition_id  label  \n",
       "0     1.365892             2      1  \n",
       "1     1.707223             2      1  \n",
       "2     1.836413             2      4  \n",
       "3     2.347015             2      2  \n",
       "4    -0.321855             2      0  \n",
       "\n",
       "[5 rows x 95 columns]"
      ]
     },
     "execution_count": 8,
     "metadata": {},
     "output_type": "execute_result"
    }
   ],
   "source": [
    "train.update(tmp_normed)\n",
    "train.head()"
   ]
  },
  {
   "cell_type": "code",
   "execution_count": 9,
   "id": "885436fe",
   "metadata": {
    "execution": {
     "iopub.execute_input": "2025-01-03T04:45:30.068673Z",
     "iopub.status.busy": "2025-01-03T04:45:30.067728Z",
     "iopub.status.idle": "2025-01-03T04:45:35.705283Z",
     "shell.execute_reply": "2025-01-03T04:45:35.704193Z"
    },
    "papermill": {
     "duration": 5.647121,
     "end_time": "2025-01-03T04:45:35.708225",
     "exception": false,
     "start_time": "2025-01-03T04:45:30.061104",
     "status": "completed"
    },
    "tags": []
   },
   "outputs": [],
   "source": [
    "train = pl.DataFrame(train)"
   ]
  },
  {
   "cell_type": "markdown",
   "id": "676e1ae1",
   "metadata": {
    "papermill": {
     "duration": 0.005814,
     "end_time": "2025-01-03T04:45:35.720532",
     "exception": false,
     "start_time": "2025-01-03T04:45:35.714718",
     "status": "completed"
    },
    "tags": []
   },
   "source": [
    "# Create Lags data from training data"
   ]
  },
  {
   "cell_type": "code",
   "execution_count": 10,
   "id": "88b32c4e",
   "metadata": {
    "execution": {
     "iopub.execute_input": "2025-01-03T04:45:35.734102Z",
     "iopub.status.busy": "2025-01-03T04:45:35.733573Z",
     "iopub.status.idle": "2025-01-03T04:45:36.059585Z",
     "shell.execute_reply": "2025-01-03T04:45:36.058512Z"
    },
    "papermill": {
     "duration": 0.335522,
     "end_time": "2025-01-03T04:45:36.061657",
     "exception": false,
     "start_time": "2025-01-03T04:45:35.726135",
     "status": "completed"
    },
    "tags": []
   },
   "outputs": [
    {
     "data": {
      "text/html": [
       "<div><style>\n",
       ".dataframe > thead > tr,\n",
       ".dataframe > tbody > tr {\n",
       "  text-align: right;\n",
       "  white-space: pre-wrap;\n",
       "}\n",
       "</style>\n",
       "<small>shape: (9_686, 11)</small><table border=\"1\" class=\"dataframe\"><thead><tr><th>date_id</th><th>symbol_id</th><th>responder_0_lag_1</th><th>responder_1_lag_1</th><th>responder_2_lag_1</th><th>responder_3_lag_1</th><th>responder_4_lag_1</th><th>responder_5_lag_1</th><th>responder_6_lag_1</th><th>responder_7_lag_1</th><th>responder_8_lag_1</th></tr><tr><td>i16</td><td>i8</td><td>f32</td><td>f32</td><td>f32</td><td>f32</td><td>f32</td><td>f32</td><td>f32</td><td>f32</td><td>f32</td></tr></thead><tbody><tr><td>455</td><td>0</td><td>-0.37962</td><td>0.622232</td><td>-0.443895</td><td>-0.16413</td><td>-0.064856</td><td>-0.706662</td><td>0.023419</td><td>0.043093</td><td>0.062117</td></tr><tr><td>455</td><td>1</td><td>0.460542</td><td>0.481335</td><td>-0.318708</td><td>0.534235</td><td>0.308263</td><td>-0.149519</td><td>-0.001026</td><td>0.034362</td><td>-0.013399</td></tr><tr><td>455</td><td>2</td><td>-0.250504</td><td>0.560345</td><td>-0.099183</td><td>0.205178</td><td>0.185717</td><td>-0.502219</td><td>-0.080229</td><td>-0.005963</td><td>-0.165517</td></tr><tr><td>455</td><td>3</td><td>5.0</td><td>3.922242</td><td>4.143309</td><td>2.798591</td><td>1.049106</td><td>1.343205</td><td>-0.327025</td><td>-0.11451</td><td>-0.591432</td></tr><tr><td>455</td><td>7</td><td>-0.832327</td><td>0.260436</td><td>1.770283</td><td>0.370914</td><td>0.11369</td><td>-0.845703</td><td>0.087104</td><td>0.058233</td><td>0.175273</td></tr><tr><td>&hellip;</td><td>&hellip;</td><td>&hellip;</td><td>&hellip;</td><td>&hellip;</td><td>&hellip;</td><td>&hellip;</td><td>&hellip;</td><td>&hellip;</td><td>&hellip;</td><td>&hellip;</td></tr><tr><td>1699</td><td>34</td><td>0.243475</td><td>0.166927</td><td>0.38494</td><td>-0.174297</td><td>-0.066046</td><td>-0.038767</td><td>-0.132337</td><td>-0.022426</td><td>-0.252461</td></tr><tr><td>1699</td><td>35</td><td>0.850152</td><td>0.909382</td><td>1.015314</td><td>0.235962</td><td>0.122539</td><td>0.099559</td><td>-0.249584</td><td>-0.123571</td><td>-0.46063</td></tr><tr><td>1699</td><td>36</td><td>0.395684</td><td>-0.292574</td><td>-3.215846</td><td>-0.535129</td><td>-0.178484</td><td>-1.80815</td><td>-0.065355</td><td>-0.000367</td><td>-0.12517</td></tr><tr><td>1699</td><td>37</td><td>1.925987</td><td>0.479394</td><td>3.621867</td><td>-0.107114</td><td>-0.063599</td><td>1.204755</td><td>-0.148711</td><td>-0.026583</td><td>-0.256395</td></tr><tr><td>1699</td><td>38</td><td>1.228778</td><td>0.512562</td><td>-0.050865</td><td>0.160883</td><td>0.080756</td><td>-0.078237</td><td>-0.138548</td><td>-0.038771</td><td>-0.21194</td></tr></tbody></table></div>"
      ],
      "text/plain": [
       "shape: (9_686, 11)\n",
       "┌─────────┬───────────┬────────────┬───────────┬───┬───────────┬───────────┬───────────┬───────────┐\n",
       "│ date_id ┆ symbol_id ┆ responder_ ┆ responder ┆ … ┆ responder ┆ responder ┆ responder ┆ responder │\n",
       "│ ---     ┆ ---       ┆ 0_lag_1    ┆ _1_lag_1  ┆   ┆ _5_lag_1  ┆ _6_lag_1  ┆ _7_lag_1  ┆ _8_lag_1  │\n",
       "│ i16     ┆ i8        ┆ ---        ┆ ---       ┆   ┆ ---       ┆ ---       ┆ ---       ┆ ---       │\n",
       "│         ┆           ┆ f32        ┆ f32       ┆   ┆ f32       ┆ f32       ┆ f32       ┆ f32       │\n",
       "╞═════════╪═══════════╪════════════╪═══════════╪═══╪═══════════╪═══════════╪═══════════╪═══════════╡\n",
       "│ 455     ┆ 0         ┆ -0.37962   ┆ 0.622232  ┆ … ┆ -0.706662 ┆ 0.023419  ┆ 0.043093  ┆ 0.062117  │\n",
       "│ 455     ┆ 1         ┆ 0.460542   ┆ 0.481335  ┆ … ┆ -0.149519 ┆ -0.001026 ┆ 0.034362  ┆ -0.013399 │\n",
       "│ 455     ┆ 2         ┆ -0.250504  ┆ 0.560345  ┆ … ┆ -0.502219 ┆ -0.080229 ┆ -0.005963 ┆ -0.165517 │\n",
       "│ 455     ┆ 3         ┆ 5.0        ┆ 3.922242  ┆ … ┆ 1.343205  ┆ -0.327025 ┆ -0.11451  ┆ -0.591432 │\n",
       "│ 455     ┆ 7         ┆ -0.832327  ┆ 0.260436  ┆ … ┆ -0.845703 ┆ 0.087104  ┆ 0.058233  ┆ 0.175273  │\n",
       "│ …       ┆ …         ┆ …          ┆ …         ┆ … ┆ …         ┆ …         ┆ …         ┆ …         │\n",
       "│ 1699    ┆ 34        ┆ 0.243475   ┆ 0.166927  ┆ … ┆ -0.038767 ┆ -0.132337 ┆ -0.022426 ┆ -0.252461 │\n",
       "│ 1699    ┆ 35        ┆ 0.850152   ┆ 0.909382  ┆ … ┆ 0.099559  ┆ -0.249584 ┆ -0.123571 ┆ -0.46063  │\n",
       "│ 1699    ┆ 36        ┆ 0.395684   ┆ -0.292574 ┆ … ┆ -1.80815  ┆ -0.065355 ┆ -0.000367 ┆ -0.12517  │\n",
       "│ 1699    ┆ 37        ┆ 1.925987   ┆ 0.479394  ┆ … ┆ 1.204755  ┆ -0.148711 ┆ -0.026583 ┆ -0.256395 │\n",
       "│ 1699    ┆ 38        ┆ 1.228778   ┆ 0.512562  ┆ … ┆ -0.078237 ┆ -0.138548 ┆ -0.038771 ┆ -0.21194  │\n",
       "└─────────┴───────────┴────────────┴───────────┴───┴───────────┴───────────┴───────────┴───────────┘"
      ]
     },
     "execution_count": 10,
     "metadata": {},
     "output_type": "execute_result"
    }
   ],
   "source": [
    "lags = train.select(pl.col(CONFIG.lag_cols_original))\n",
    "lags = lags.rename(CONFIG.lag_cols_rename)\n",
    "lags = lags.with_columns(\n",
    "    date_id = pl.col('date_id') + 1,  # lagged by 1 day\n",
    "    )\n",
    "lags = lags.group_by([\"date_id\", \"symbol_id\"], maintain_order=True).last()  # pick up last record of previous date\n",
    "lags"
   ]
  },
  {
   "cell_type": "markdown",
   "id": "b1384d54",
   "metadata": {
    "papermill": {
     "duration": 0.005713,
     "end_time": "2025-01-03T04:45:36.073486",
     "exception": false,
     "start_time": "2025-01-03T04:45:36.067773",
     "status": "completed"
    },
    "tags": []
   },
   "source": [
    "# Merge training data and lags data"
   ]
  },
  {
   "cell_type": "code",
   "execution_count": 11,
   "id": "6d0833eb",
   "metadata": {
    "execution": {
     "iopub.execute_input": "2025-01-03T04:45:36.086581Z",
     "iopub.status.busy": "2025-01-03T04:45:36.086129Z",
     "iopub.status.idle": "2025-01-03T04:45:36.725789Z",
     "shell.execute_reply": "2025-01-03T04:45:36.724727Z"
    },
    "papermill": {
     "duration": 0.648977,
     "end_time": "2025-01-03T04:45:36.728216",
     "exception": false,
     "start_time": "2025-01-03T04:45:36.079239",
     "status": "completed"
    },
    "tags": []
   },
   "outputs": [
    {
     "data": {
      "text/html": [
       "<div><style>\n",
       ".dataframe > thead > tr,\n",
       ".dataframe > tbody > tr {\n",
       "  text-align: right;\n",
       "  white-space: pre-wrap;\n",
       "}\n",
       "</style>\n",
       "<small>shape: (9_101_515, 104)</small><table border=\"1\" class=\"dataframe\"><thead><tr><th>id</th><th>date_id</th><th>time_id</th><th>symbol_id</th><th>weight</th><th>feature_00</th><th>feature_01</th><th>feature_02</th><th>feature_03</th><th>feature_04</th><th>feature_05</th><th>feature_06</th><th>feature_07</th><th>feature_08</th><th>feature_09</th><th>feature_10</th><th>feature_11</th><th>feature_12</th><th>feature_13</th><th>feature_14</th><th>feature_15</th><th>feature_16</th><th>feature_17</th><th>feature_18</th><th>feature_19</th><th>feature_20</th><th>feature_21</th><th>feature_22</th><th>feature_23</th><th>feature_24</th><th>feature_25</th><th>feature_26</th><th>feature_27</th><th>feature_28</th><th>feature_29</th><th>feature_30</th><th>feature_31</th><th>&hellip;</th><th>feature_62</th><th>feature_63</th><th>feature_64</th><th>feature_65</th><th>feature_66</th><th>feature_67</th><th>feature_68</th><th>feature_69</th><th>feature_70</th><th>feature_71</th><th>feature_72</th><th>feature_73</th><th>feature_74</th><th>feature_75</th><th>feature_76</th><th>feature_77</th><th>feature_78</th><th>responder_0</th><th>responder_1</th><th>responder_2</th><th>responder_3</th><th>responder_4</th><th>responder_5</th><th>responder_6</th><th>responder_7</th><th>responder_8</th><th>partition_id</th><th>label</th><th>responder_0_lag_1</th><th>responder_1_lag_1</th><th>responder_2_lag_1</th><th>responder_3_lag_1</th><th>responder_4_lag_1</th><th>responder_5_lag_1</th><th>responder_6_lag_1</th><th>responder_7_lag_1</th><th>responder_8_lag_1</th></tr><tr><td>u32</td><td>i16</td><td>i16</td><td>i8</td><td>f32</td><td>f32</td><td>f32</td><td>f32</td><td>f32</td><td>f32</td><td>f32</td><td>f32</td><td>f32</td><td>f32</td><td>f64</td><td>f64</td><td>f64</td><td>f32</td><td>f32</td><td>f32</td><td>f32</td><td>f32</td><td>f32</td><td>f32</td><td>f32</td><td>f32</td><td>f32</td><td>f32</td><td>f32</td><td>f32</td><td>f32</td><td>f32</td><td>f32</td><td>f32</td><td>f32</td><td>f32</td><td>f32</td><td>&hellip;</td><td>f32</td><td>f32</td><td>f32</td><td>f32</td><td>f32</td><td>f32</td><td>f32</td><td>f32</td><td>f32</td><td>f32</td><td>f32</td><td>f32</td><td>f32</td><td>f32</td><td>f32</td><td>f32</td><td>f32</td><td>f32</td><td>f32</td><td>f32</td><td>f32</td><td>f32</td><td>f32</td><td>f32</td><td>f32</td><td>f32</td><td>i64</td><td>i32</td><td>f32</td><td>f32</td><td>f32</td><td>f32</td><td>f32</td><td>f32</td><td>f32</td><td>f32</td><td>f32</td></tr></thead><tbody><tr><td>6655311</td><td>454</td><td>0</td><td>0</td><td>2.469772</td><td>1.333938</td><td>-1.113294</td><td>1.784451</td><td>1.309266</td><td>0.987872</td><td>0.202065</td><td>0.703406</td><td>0.832457</td><td>-0.042096</td><td>-0.910085</td><td>0.64038</td><td>-0.560764</td><td>-0.925331</td><td>1.183186</td><td>-0.758088</td><td>1.991109</td><td>0.626821</td><td>2.024276</td><td>-1.422394</td><td>-0.918052</td><td>4.976132</td><td>-0.275332</td><td>0.589272</td><td>0.495053</td><td>-1.020504</td><td>0.897619</td><td>0.10255</td><td>0.500914</td><td>0.840541</td><td>1.308578</td><td>0.461486</td><td>-0.277844</td><td>&hellip;</td><td>0.156923</td><td>-0.040245</td><td>0.470043</td><td>-1.42158</td><td>-1.078765</td><td>-1.066483</td><td>1.892092</td><td>-0.297654</td><td>-1.355273</td><td>0.420824</td><td>-0.71551</td><td>0.091398</td><td>0.094051</td><td>1.479111</td><td>1.985552</td><td>2.578956</td><td>2.782909</td><td>-0.599413</td><td>-0.91255</td><td>-0.551103</td><td>0.071475</td><td>0.213802</td><td>0.92071</td><td>0.945452</td><td>0.355292</td><td>1.365892</td><td>2</td><td>1</td><td>null</td><td>null</td><td>null</td><td>null</td><td>null</td><td>null</td><td>null</td><td>null</td><td>null</td></tr><tr><td>6655312</td><td>454</td><td>0</td><td>1</td><td>4.609505</td><td>1.248235</td><td>-1.217257</td><td>1.242425</td><td>1.921091</td><td>0.904284</td><td>0.15178</td><td>0.919433</td><td>0.803433</td><td>-0.064288</td><td>-0.910085</td><td>0.64038</td><td>-0.560764</td><td>-1.309152</td><td>0.570928</td><td>-0.588572</td><td>1.991109</td><td>0.971363</td><td>2.024276</td><td>-1.4589</td><td>-1.113657</td><td>3.501829</td><td>-0.275332</td><td>1.750378</td><td>1.861664</td><td>-0.74875</td><td>1.969799</td><td>0.10255</td><td>0.500914</td><td>1.340068</td><td>0.984422</td><td>1.098497</td><td>-0.277844</td><td>&hellip;</td><td>-0.056206</td><td>0.181105</td><td>-0.002852</td><td>-2.104105</td><td>-1.600309</td><td>-0.887269</td><td>-0.046739</td><td>-0.836947</td><td>-1.143275</td><td>1.431542</td><td>-0.639512</td><td>0.091398</td><td>0.094051</td><td>-0.00629</td><td>0.009189</td><td>-0.12033</td><td>-0.141355</td><td>-0.450519</td><td>-0.381795</td><td>-0.265064</td><td>0.488816</td><td>0.821543</td><td>0.539706</td><td>0.821673</td><td>0.975165</td><td>1.707223</td><td>2</td><td>1</td><td>null</td><td>null</td><td>null</td><td>null</td><td>null</td><td>null</td><td>null</td><td>null</td><td>null</td></tr><tr><td>6655313</td><td>454</td><td>0</td><td>2</td><td>1.313092</td><td>1.423886</td><td>-0.824384</td><td>1.393342</td><td>1.548506</td><td>0.77738</td><td>0.206468</td><td>0.907292</td><td>0.413701</td><td>-0.166014</td><td>2.039796</td><td>-0.928634</td><td>-0.664775</td><td>-0.943022</td><td>1.343918</td><td>-0.652372</td><td>1.991109</td><td>1.232643</td><td>2.024276</td><td>-0.934744</td><td>-1.547153</td><td>-0.423173</td><td>-0.275332</td><td>-0.806463</td><td>-0.838197</td><td>-1.339765</td><td>-0.054692</td><td>0.10255</td><td>0.500914</td><td>0.613507</td><td>0.212927</td><td>0.296796</td><td>-0.277844</td><td>&hellip;</td><td>0.469152</td><td>30.476044</td><td>3.868371</td><td>-1.428847</td><td>-1.447871</td><td>-1.199585</td><td>2.857519</td><td>-0.134096</td><td>-1.013648</td><td>-0.290621</td><td>-0.694798</td><td>0.091398</td><td>0.094051</td><td>-0.234672</td><td>-0.295525</td><td>-0.196816</td><td>-0.260476</td><td>0.198349</td><td>-0.169111</td><td>-0.49774</td><td>2.245259</td><td>0.355446</td><td>0.867455</td><td>2.395301</td><td>0.417111</td><td>1.836413</td><td>2</td><td>4</td><td>null</td><td>null</td><td>null</td><td>null</td><td>null</td><td>null</td><td>null</td><td>null</td><td>null</td></tr><tr><td>6655314</td><td>454</td><td>0</td><td>3</td><td>0.95309</td><td>0.947062</td><td>-0.833434</td><td>2.013085</td><td>2.100111</td><td>0.97461</td><td>0.204402</td><td>0.901388</td><td>0.504798</td><td>-0.094379</td><td>-1.205073</td><td>-0.614831</td><td>-0.958451</td><td>-0.894795</td><td>3.979377</td><td>0.404236</td><td>1.991109</td><td>0.37942</td><td>2.024276</td><td>-1.175126</td><td>-1.255709</td><td>2.177283</td><td>-0.275332</td><td>-1.223988</td><td>-2.086902</td><td>-1.073052</td><td>0.995321</td><td>0.10255</td><td>0.500914</td><td>-1.865123</td><td>0.071962</td><td>-0.020008</td><td>-0.277844</td><td>&hellip;</td><td>0.109298</td><td>0.719647</td><td>1.010212</td><td>-1.428847</td><td>-1.447871</td><td>-0.7661</td><td>5.58766</td><td>0.821026</td><td>-1.484724</td><td>4.479863</td><td>0.01306</td><td>0.091398</td><td>0.094051</td><td>0.036501</td><td>0.031306</td><td>-0.159729</td><td>-0.173449</td><td>0.095816</td><td>0.185034</td><td>0.866747</td><td>0.925349</td><td>-0.60942</td><td>1.878252</td><td>1.123068</td><td>-0.699646</td><td>2.347015</td><td>2</td><td>2</td><td>null</td><td>null</td><td>null</td><td>null</td><td>null</td><td>null</td><td>null</td><td>null</td><td>null</td></tr><tr><td>6655315</td><td>454</td><td>0</td><td>7</td><td>1.674723</td><td>1.56985</td><td>-1.001981</td><td>1.830955</td><td>1.737677</td><td>1.063433</td><td>0.172779</td><td>0.605629</td><td>0.968551</td><td>-0.11505</td><td>-0.910085</td><td>0.64038</td><td>-0.560764</td><td>-1.448179</td><td>-0.279433</td><td>-0.694833</td><td>1.991109</td><td>1.705997</td><td>2.024276</td><td>-0.902561</td><td>-0.942952</td><td>1.385134</td><td>-0.275332</td><td>-0.170408</td><td>1.5743</td><td>-1.460435</td><td>-0.222743</td><td>0.10255</td><td>0.500914</td><td>-0.338325</td><td>12.920099</td><td>11.987921</td><td>-0.277844</td><td>&hellip;</td><td>0.056795</td><td>-2.265686</td><td>0.747685</td><td>-1.442343</td><td>-1.475546</td><td>-1.429906</td><td>0.004497</td><td>-0.992144</td><td>-1.177742</td><td>-0.574875</td><td>-1.105902</td><td>0.091398</td><td>0.094051</td><td>-0.272196</td><td>-0.214301</td><td>-0.190665</td><td>-0.242373</td><td>0.536572</td><td>-0.02516</td><td>-0.026998</td><td>0.154214</td><td>-0.22548</td><td>-0.242701</td><td>-0.107649</td><td>-0.422369</td><td>-0.321855</td><td>2</td><td>0</td><td>null</td><td>null</td><td>null</td><td>null</td><td>null</td><td>null</td><td>null</td><td>null</td><td>null</td></tr><tr><td>&hellip;</td><td>&hellip;</td><td>&hellip;</td><td>&hellip;</td><td>&hellip;</td><td>&hellip;</td><td>&hellip;</td><td>&hellip;</td><td>&hellip;</td><td>&hellip;</td><td>&hellip;</td><td>&hellip;</td><td>&hellip;</td><td>&hellip;</td><td>&hellip;</td><td>&hellip;</td><td>&hellip;</td><td>&hellip;</td><td>&hellip;</td><td>&hellip;</td><td>&hellip;</td><td>&hellip;</td><td>&hellip;</td><td>&hellip;</td><td>&hellip;</td><td>&hellip;</td><td>&hellip;</td><td>&hellip;</td><td>&hellip;</td><td>&hellip;</td><td>&hellip;</td><td>&hellip;</td><td>&hellip;</td><td>&hellip;</td><td>&hellip;</td><td>&hellip;</td><td>&hellip;</td><td>&hellip;</td><td>&hellip;</td><td>&hellip;</td><td>&hellip;</td><td>&hellip;</td><td>&hellip;</td><td>&hellip;</td><td>&hellip;</td><td>&hellip;</td><td>&hellip;</td><td>&hellip;</td><td>&hellip;</td><td>&hellip;</td><td>&hellip;</td><td>&hellip;</td><td>&hellip;</td><td>&hellip;</td><td>&hellip;</td><td>&hellip;</td><td>&hellip;</td><td>&hellip;</td><td>&hellip;</td><td>&hellip;</td><td>&hellip;</td><td>&hellip;</td><td>&hellip;</td><td>&hellip;</td><td>&hellip;</td><td>&hellip;</td><td>&hellip;</td><td>&hellip;</td><td>&hellip;</td><td>&hellip;</td><td>&hellip;</td><td>&hellip;</td><td>&hellip;</td><td>&hellip;</td><td>&hellip;</td></tr><tr><td>47127333</td><td>1698</td><td>967</td><td>34</td><td>3.242493</td><td>1.834064</td><td>-0.692533</td><td>1.877867</td><td>1.810274</td><td>0.37647</td><td>0.837775</td><td>1.025435</td><td>2.04858</td><td>0.580161</td><td>0.396291</td><td>0.012774</td><td>-0.108013</td><td>1.400633</td><td>2.12395</td><td>1.734372</td><td>0.20212</td><td>0.875731</td><td>0.675141</td><td>1.788172</td><td>0.077538</td><td>0.235215</td><td>-0.832511</td><td>0.962434</td><td>1.645062</td><td>-2.068691</td><td>-0.997691</td><td>-0.009937</td><td>1.525549</td><td>1.776374</td><td>-0.384962</td><td>-1.131028</td><td>-0.914452</td><td>&hellip;</td><td>-0.005705</td><td>0.473224</td><td>-0.106592</td><td>2.487577</td><td>0.026287</td><td>1.376077</td><td>1.692126</td><td>0.781065</td><td>2.157998</td><td>2.119947</td><td>2.916669</td><td>-0.077589</td><td>-0.080781</td><td>0.238702</td><td>0.332623</td><td>0.027268</td><td>0.086536</td><td>0.243475</td><td>0.166927</td><td>0.38494</td><td>-0.174297</td><td>-0.066046</td><td>-0.038767</td><td>-0.132337</td><td>-0.022426</td><td>-0.252461</td><td>9</td><td>0</td><td>0.501321</td><td>0.905332</td><td>-0.819582</td><td>-0.564046</td><td>-0.223018</td><td>-0.283954</td><td>-0.045938</td><td>0.009797</td><td>-0.102538</td></tr><tr><td>47127334</td><td>1698</td><td>967</td><td>35</td><td>1.079139</td><td>1.184827</td><td>-0.755141</td><td>2.076181</td><td>1.674842</td><td>0.775027</td><td>0.698301</td><td>1.082448</td><td>1.832585</td><td>0.462256</td><td>-0.320109</td><td>0.64038</td><td>0.167309</td><td>0.087845</td><td>-0.132628</td><td>-0.126518</td><td>0.868608</td><td>2.483938</td><td>1.306111</td><td>1.934262</td><td>0.272836</td><td>-0.062922</td><td>-0.603839</td><td>-1.076128</td><td>-0.10295</td><td>-1.588908</td><td>-0.356563</td><td>0.254926</td><td>-0.382045</td><td>-0.64734</td><td>0.961459</td><td>2.086064</td><td>-0.651148</td><td>&hellip;</td><td>0.02379</td><td>0.692436</td><td>0.27386</td><td>2.117333</td><td>0.071481</td><td>0.17848</td><td>-0.061415</td><td>-0.111349</td><td>-0.093604</td><td>-0.048466</td><td>-0.070002</td><td>-0.089227</td><td>-0.067058</td><td>0.897348</td><td>0.650624</td><td>0.098854</td><td>0.117589</td><td>0.850152</td><td>0.909382</td><td>1.015314</td><td>0.235962</td><td>0.122539</td><td>0.099559</td><td>-0.249584</td><td>-0.123571</td><td>-0.46063</td><td>9</td><td>0</td><td>-1.113053</td><td>0.69719</td><td>-1.619031</td><td>-1.222743</td><td>-0.706082</td><td>-0.291133</td><td>0.167733</td><td>0.099704</td><td>0.32461</td></tr><tr><td>47127335</td><td>1698</td><td>967</td><td>36</td><td>1.033172</td><td>1.824691</td><td>-0.647233</td><td>1.627012</td><td>1.853514</td><td>0.224992</td><td>0.976874</td><td>1.074893</td><td>2.031026</td><td>0.370475</td><td>0.691279</td><td>0.64038</td><td>0.791372</td><td>1.732393</td><td>-0.036447</td><td>0.518739</td><td>0.583485</td><td>-0.233439</td><td>0.068235</td><td>2.375662</td><td>0.394305</td><td>0.074088</td><td>-0.603839</td><td>-1.014183</td><td>-0.339718</td><td>-1.75943</td><td>-0.69143</td><td>0.254926</td><td>-0.382045</td><td>-0.616739</td><td>-0.023759</td><td>1.980761</td><td>-0.651148</td><td>&hellip;</td><td>0.025141</td><td>0.741234</td><td>0.083004</td><td>2.314729</td><td>0.682482</td><td>1.83591</td><td>-0.403733</td><td>0.36382</td><td>1.454465</td><td>0.157479</td><td>0.738398</td><td>-0.112124</td><td>-0.054459</td><td>0.07522</td><td>0.081315</td><td>0.222636</td><td>0.210476</td><td>0.395684</td><td>-0.292574</td><td>-3.215846</td><td>-0.535129</td><td>-0.178484</td><td>-1.80815</td><td>-0.065355</td><td>-0.000367</td><td>-0.12517</td><td>9</td><td>0</td><td>-1.019353</td><td>-0.460962</td><td>-2.026678</td><td>-0.848606</td><td>-0.305448</td><td>-1.256913</td><td>-0.109359</td><td>-0.027474</td><td>-0.253956</td></tr><tr><td>47127336</td><td>1698</td><td>967</td><td>37</td><td>1.243116</td><td>1.968472</td><td>-0.84492</td><td>1.65055</td><td>2.423639</td><td>0.289672</td><td>0.664661</td><td>1.087339</td><td>1.492774</td><td>0.459966</td><td>0.059162</td><td>-0.301028</td><td>0.283556</td><td>1.333345</td><td>0.619775</td><td>0.809157</td><td>0.362347</td><td>0.330163</td><td>-0.449639</td><td>1.909002</td><td>0.468912</td><td>-2.183676</td><td>-0.936072</td><td>-0.304789</td><td>-0.1023</td><td>-1.834514</td><td>-0.962381</td><td>0.263791</td><td>0.485418</td><td>0.044742</td><td>-0.012475</td><td>0.300371</td><td>-0.845183</td><td>&hellip;</td><td>0.013538</td><td>1.818338</td><td>0.343466</td><td>2.548679</td><td>0.623139</td><td>1.753471</td><td>-0.168007</td><td>0.412375</td><td>0.886687</td><td>1.573349</td><td>1.054513</td><td>-0.0063</td><td>-0.007983</td><td>0.181613</td><td>0.188594</td><td>0.033585</td><td>0.044044</td><td>1.925987</td><td>0.479394</td><td>3.621867</td><td>-0.107114</td><td>-0.063599</td><td>1.204755</td><td>-0.148711</td><td>-0.026583</td><td>-0.256395</td><td>9</td><td>0</td><td>0.23585</td><td>0.556479</td><td>0.618944</td><td>-0.243765</td><td>-0.108361</td><td>-0.260777</td><td>-0.486923</td><td>-0.275566</td><td>-1.020708</td></tr><tr><td>47127337</td><td>1698</td><td>967</td><td>38</td><td>3.193685</td><td>2.031919</td><td>-0.713739</td><td>2.118863</td><td>1.6783</td><td>0.411126</td><td>0.917685</td><td>0.885877</td><td>1.946853</td><td>0.491628</td><td>0.73342</td><td>-1.242436</td><td>2.16798</td><td>0.806881</td><td>1.195452</td><td>1.706855</td><td>-0.546541</td><td>-0.157449</td><td>0.365783</td><td>0.421056</td><td>1.955646</td><td>-0.426805</td><td>-0.463666</td><td>1.813499</td><td>1.661562</td><td>-1.979779</td><td>-1.164117</td><td>0.616348</td><td>1.000873</td><td>0.670148</td><td>-0.696351</td><td>-0.399368</td><td>-0.442849</td><td>&hellip;</td><td>-0.177072</td><td>-0.408687</td><td>-0.070114</td><td>0.084112</td><td>1.989527</td><td>0.600266</td><td>0.606074</td><td>0.559524</td><td>0.863429</td><td>1.604977</td><td>1.245315</td><td>-0.255318</td><td>-0.169512</td><td>-0.242767</td><td>-0.147936</td><td>-0.196583</td><td>-0.155777</td><td>1.228778</td><td>0.512562</td><td>-0.050865</td><td>0.160883</td><td>0.080756</td><td>-0.078237</td><td>-0.138548</td><td>-0.038771</td><td>-0.21194</td><td>9</td><td>0</td><td>0.542563</td><td>0.513193</td><td>0.814393</td><td>0.032767</td><td>0.025435</td><td>0.311465</td><td>-0.044797</td><td>0.011133</td><td>-0.0793</td></tr></tbody></table></div>"
      ],
      "text/plain": [
       "shape: (9_101_515, 104)\n",
       "┌──────────┬─────────┬─────────┬───────────┬───┬────────────┬────────────┬────────────┬────────────┐\n",
       "│ id       ┆ date_id ┆ time_id ┆ symbol_id ┆ … ┆ responder_ ┆ responder_ ┆ responder_ ┆ responder_ │\n",
       "│ ---      ┆ ---     ┆ ---     ┆ ---       ┆   ┆ 5_lag_1    ┆ 6_lag_1    ┆ 7_lag_1    ┆ 8_lag_1    │\n",
       "│ u32      ┆ i16     ┆ i16     ┆ i8        ┆   ┆ ---        ┆ ---        ┆ ---        ┆ ---        │\n",
       "│          ┆         ┆         ┆           ┆   ┆ f32        ┆ f32        ┆ f32        ┆ f32        │\n",
       "╞══════════╪═════════╪═════════╪═══════════╪═══╪════════════╪════════════╪════════════╪════════════╡\n",
       "│ 6655311  ┆ 454     ┆ 0       ┆ 0         ┆ … ┆ null       ┆ null       ┆ null       ┆ null       │\n",
       "│ 6655312  ┆ 454     ┆ 0       ┆ 1         ┆ … ┆ null       ┆ null       ┆ null       ┆ null       │\n",
       "│ 6655313  ┆ 454     ┆ 0       ┆ 2         ┆ … ┆ null       ┆ null       ┆ null       ┆ null       │\n",
       "│ 6655314  ┆ 454     ┆ 0       ┆ 3         ┆ … ┆ null       ┆ null       ┆ null       ┆ null       │\n",
       "│ 6655315  ┆ 454     ┆ 0       ┆ 7         ┆ … ┆ null       ┆ null       ┆ null       ┆ null       │\n",
       "│ …        ┆ …       ┆ …       ┆ …         ┆ … ┆ …          ┆ …          ┆ …          ┆ …          │\n",
       "│ 47127333 ┆ 1698    ┆ 967     ┆ 34        ┆ … ┆ -0.283954  ┆ -0.045938  ┆ 0.009797   ┆ -0.102538  │\n",
       "│ 47127334 ┆ 1698    ┆ 967     ┆ 35        ┆ … ┆ -0.291133  ┆ 0.167733   ┆ 0.099704   ┆ 0.32461    │\n",
       "│ 47127335 ┆ 1698    ┆ 967     ┆ 36        ┆ … ┆ -1.256913  ┆ -0.109359  ┆ -0.027474  ┆ -0.253956  │\n",
       "│ 47127336 ┆ 1698    ┆ 967     ┆ 37        ┆ … ┆ -0.260777  ┆ -0.486923  ┆ -0.275566  ┆ -1.020708  │\n",
       "│ 47127337 ┆ 1698    ┆ 967     ┆ 38        ┆ … ┆ 0.311465   ┆ -0.044797  ┆ 0.011133   ┆ -0.0793    │\n",
       "└──────────┴─────────┴─────────┴───────────┴───┴────────────┴────────────┴────────────┴────────────┘"
      ]
     },
     "execution_count": 11,
     "metadata": {},
     "output_type": "execute_result"
    }
   ],
   "source": [
    "train = train.join(lags, on=[\"date_id\", \"symbol_id\"],  how=\"left\")\n",
    "train"
   ]
  },
  {
   "cell_type": "markdown",
   "id": "99058cd1",
   "metadata": {
    "papermill": {
     "duration": 0.006231,
     "end_time": "2025-01-03T04:45:36.741242",
     "exception": false,
     "start_time": "2025-01-03T04:45:36.735011",
     "status": "completed"
    },
    "tags": []
   },
   "source": [
    "# Split training data and validation data"
   ]
  },
  {
   "cell_type": "code",
   "execution_count": 12,
   "id": "646a1cbc",
   "metadata": {
    "execution": {
     "iopub.execute_input": "2025-01-03T04:45:36.755368Z",
     "iopub.status.busy": "2025-01-03T04:45:36.754972Z",
     "iopub.status.idle": "2025-01-03T04:45:36.917385Z",
     "shell.execute_reply": "2025-01-03T04:45:36.916336Z"
    },
    "papermill": {
     "duration": 0.172432,
     "end_time": "2025-01-03T04:45:36.919740",
     "exception": false,
     "start_time": "2025-01-03T04:45:36.747308",
     "status": "completed"
    },
    "tags": []
   },
   "outputs": [
    {
     "name": "stdout",
     "output_type": "stream",
     "text": [
      "\n",
      " len_train = 9101515\n",
      "\n",
      " len_ofl_mdl = 8646440\n",
      "\n",
      "---> Last offline train date = 1686\n",
      "\n"
     ]
    }
   ],
   "source": [
    "len_train   = train.select(pl.col(\"date_id\")).shape[0]\n",
    "valid_records = int(len_train * CONFIG.valid_ratio)\n",
    "len_ofl_mdl = len_train - valid_records\n",
    "last_tr_dt  = train.select(pl.col(\"date_id\")).row(len_ofl_mdl)[0]\n",
    "\n",
    "print(f\"\\n len_train = {len_train}\")\n",
    "print(f\"\\n len_ofl_mdl = {len_ofl_mdl}\")\n",
    "print(f\"\\n---> Last offline train date = {last_tr_dt}\\n\")\n",
    "\n",
    "training_data = train.filter(pl.col(\"date_id\").le(last_tr_dt))\n",
    "validation_data = train.filter(pl.col(\"date_id\").gt(last_tr_dt))"
   ]
  },
  {
   "cell_type": "code",
   "execution_count": 13,
   "id": "a03d965d",
   "metadata": {
    "execution": {
     "iopub.execute_input": "2025-01-03T04:45:36.934244Z",
     "iopub.status.busy": "2025-01-03T04:45:36.933869Z",
     "iopub.status.idle": "2025-01-03T04:45:36.941170Z",
     "shell.execute_reply": "2025-01-03T04:45:36.939936Z"
    },
    "papermill": {
     "duration": 0.016853,
     "end_time": "2025-01-03T04:45:36.943212",
     "exception": false,
     "start_time": "2025-01-03T04:45:36.926359",
     "status": "completed"
    },
    "tags": []
   },
   "outputs": [
    {
     "data": {
      "text/plain": [
       "'\\nlen_train   = train.select(pl.col(\"date_id\")).collect().shape[0]\\nvalid_records = int(len_train * CONFIG.valid_ratio)\\nlen_ofl_mdl = len_train - valid_records\\nlast_tr_dt  = train.select(pl.col(\"date_id\")).collect().row(len_ofl_mdl)[0]\\n\\nprint(f\"\\n len_train = {len_train}\")\\nprint(f\"\\n len_ofl_mdl = {len_ofl_mdl}\")\\nprint(f\"\\n---> Last offline train date = {last_tr_dt}\\n\")\\n\\ntraining_data = train.filter(pl.col(\"date_id\").le(last_tr_dt))\\nvalidation_data = train.filter(pl.col(\"date_id\").gt(last_tr_dt))\\n'"
      ]
     },
     "execution_count": 13,
     "metadata": {},
     "output_type": "execute_result"
    }
   ],
   "source": [
    "'''\n",
    "len_train   = train.select(pl.col(\"date_id\")).collect().shape[0]\n",
    "valid_records = int(len_train * CONFIG.valid_ratio)\n",
    "len_ofl_mdl = len_train - valid_records\n",
    "last_tr_dt  = train.select(pl.col(\"date_id\")).collect().row(len_ofl_mdl)[0]\n",
    "\n",
    "print(f\"\\n len_train = {len_train}\")\n",
    "print(f\"\\n len_ofl_mdl = {len_ofl_mdl}\")\n",
    "print(f\"\\n---> Last offline train date = {last_tr_dt}\\n\")\n",
    "\n",
    "training_data = train.filter(pl.col(\"date_id\").le(last_tr_dt))\n",
    "validation_data = train.filter(pl.col(\"date_id\").gt(last_tr_dt))\n",
    "'''"
   ]
  },
  {
   "cell_type": "code",
   "execution_count": 14,
   "id": "0e45f271",
   "metadata": {
    "execution": {
     "iopub.execute_input": "2025-01-03T04:45:36.958217Z",
     "iopub.status.busy": "2025-01-03T04:45:36.957808Z",
     "iopub.status.idle": "2025-01-03T04:45:36.975687Z",
     "shell.execute_reply": "2025-01-03T04:45:36.974601Z"
    },
    "papermill": {
     "duration": 0.027667,
     "end_time": "2025-01-03T04:45:36.977804",
     "exception": false,
     "start_time": "2025-01-03T04:45:36.950137",
     "status": "completed"
    },
    "tags": []
   },
   "outputs": [
    {
     "data": {
      "text/html": [
       "<div><style>\n",
       ".dataframe > thead > tr,\n",
       ".dataframe > tbody > tr {\n",
       "  text-align: right;\n",
       "  white-space: pre-wrap;\n",
       "}\n",
       "</style>\n",
       "<small>shape: (452_056, 104)</small><table border=\"1\" class=\"dataframe\"><thead><tr><th>id</th><th>date_id</th><th>time_id</th><th>symbol_id</th><th>weight</th><th>feature_00</th><th>feature_01</th><th>feature_02</th><th>feature_03</th><th>feature_04</th><th>feature_05</th><th>feature_06</th><th>feature_07</th><th>feature_08</th><th>feature_09</th><th>feature_10</th><th>feature_11</th><th>feature_12</th><th>feature_13</th><th>feature_14</th><th>feature_15</th><th>feature_16</th><th>feature_17</th><th>feature_18</th><th>feature_19</th><th>feature_20</th><th>feature_21</th><th>feature_22</th><th>feature_23</th><th>feature_24</th><th>feature_25</th><th>feature_26</th><th>feature_27</th><th>feature_28</th><th>feature_29</th><th>feature_30</th><th>feature_31</th><th>&hellip;</th><th>feature_62</th><th>feature_63</th><th>feature_64</th><th>feature_65</th><th>feature_66</th><th>feature_67</th><th>feature_68</th><th>feature_69</th><th>feature_70</th><th>feature_71</th><th>feature_72</th><th>feature_73</th><th>feature_74</th><th>feature_75</th><th>feature_76</th><th>feature_77</th><th>feature_78</th><th>responder_0</th><th>responder_1</th><th>responder_2</th><th>responder_3</th><th>responder_4</th><th>responder_5</th><th>responder_6</th><th>responder_7</th><th>responder_8</th><th>partition_id</th><th>label</th><th>responder_0_lag_1</th><th>responder_1_lag_1</th><th>responder_2_lag_1</th><th>responder_3_lag_1</th><th>responder_4_lag_1</th><th>responder_5_lag_1</th><th>responder_6_lag_1</th><th>responder_7_lag_1</th><th>responder_8_lag_1</th></tr><tr><td>u32</td><td>i16</td><td>i16</td><td>i8</td><td>f32</td><td>f32</td><td>f32</td><td>f32</td><td>f32</td><td>f32</td><td>f32</td><td>f32</td><td>f32</td><td>f32</td><td>f64</td><td>f64</td><td>f64</td><td>f32</td><td>f32</td><td>f32</td><td>f32</td><td>f32</td><td>f32</td><td>f32</td><td>f32</td><td>f32</td><td>f32</td><td>f32</td><td>f32</td><td>f32</td><td>f32</td><td>f32</td><td>f32</td><td>f32</td><td>f32</td><td>f32</td><td>f32</td><td>&hellip;</td><td>f32</td><td>f32</td><td>f32</td><td>f32</td><td>f32</td><td>f32</td><td>f32</td><td>f32</td><td>f32</td><td>f32</td><td>f32</td><td>f32</td><td>f32</td><td>f32</td><td>f32</td><td>f32</td><td>f32</td><td>f32</td><td>f32</td><td>f32</td><td>f32</td><td>f32</td><td>f32</td><td>f32</td><td>f32</td><td>f32</td><td>i64</td><td>i32</td><td>f32</td><td>f32</td><td>f32</td><td>f32</td><td>f32</td><td>f32</td><td>f32</td><td>f32</td><td>f32</td></tr></thead><tbody><tr><td>46675282</td><td>1687</td><td>0</td><td>0</td><td>3.781251</td><td>2.636479</td><td>0.84442</td><td>2.870531</td><td>2.393151</td><td>1.209236</td><td>-0.324193</td><td>0.272615</td><td>-0.419251</td><td>0.161659</td><td>-0.910085</td><td>0.64038</td><td>-0.560764</td><td>-0.850141</td><td>2.376347</td><td>-0.414971</td><td>0.007815</td><td>0.615192</td><td>0.032255</td><td>-0.755278</td><td>-1.71008</td><td>1.15622</td><td>-0.73667</td><td>1.352865</td><td>1.410515</td><td>-0.368628</td><td>0.914911</td><td>0.798953</td><td>1.542142</td><td>1.068545</td><td>-0.350025</td><td>-0.576282</td><td>-0.761642</td><td>&hellip;</td><td>-0.085203</td><td>-0.863602</td><td>-0.392742</td><td>-0.659245</td><td>-2.49346</td><td>-1.374823</td><td>2.276955</td><td>-0.279922</td><td>-1.252557</td><td>0.718943</td><td>-0.736165</td><td>-0.149618</td><td>-0.147832</td><td>0.22785</td><td>0.266206</td><td>-0.096579</td><td>-0.041945</td><td>-0.388299</td><td>-0.033851</td><td>-0.340357</td><td>-0.077653</td><td>-0.971475</td><td>1.526969</td><td>0.01145</td><td>-1.353011</td><td>2.108581</td><td>9</td><td>0</td><td>-0.266812</td><td>-0.054878</td><td>-1.545247</td><td>0.385557</td><td>0.193606</td><td>-0.535236</td><td>0.058816</td><td>0.057375</td><td>0.083458</td></tr><tr><td>46675283</td><td>1687</td><td>0</td><td>1</td><td>2.606019</td><td>2.434783</td><td>1.100215</td><td>2.741738</td><td>2.371337</td><td>1.711844</td><td>-0.385608</td><td>0.299114</td><td>-0.474106</td><td>0.158555</td><td>-0.910085</td><td>0.64038</td><td>-0.560764</td><td>-1.288241</td><td>3.381258</td><td>0.049925</td><td>0.007815</td><td>0.78399</td><td>0.032255</td><td>-1.199512</td><td>-1.519921</td><td>2.105883</td><td>-0.504819</td><td>0.911222</td><td>0.991078</td><td>-0.813784</td><td>0.598055</td><td>-1.326329</td><td>0.411298</td><td>1.831198</td><td>0.599703</td><td>0.76043</td><td>-0.43</td><td>&hellip;</td><td>0.041658</td><td>-0.018689</td><td>-0.450416</td><td>-1.210543</td><td>-2.218475</td><td>-0.994741</td><td>6.66521</td><td>0.647209</td><td>-0.959355</td><td>-0.039306</td><td>-0.912898</td><td>-0.149618</td><td>-0.147832</td><td>0.337824</td><td>0.355619</td><td>-0.044912</td><td>-0.060303</td><td>-0.332037</td><td>-0.512074</td><td>-0.418187</td><td>0.813138</td><td>-3.348194</td><td>1.64164</td><td>1.138862</td><td>-2.781623</td><td>3.425127</td><td>9</td><td>2</td><td>-0.241919</td><td>0.078192</td><td>-1.161707</td><td>0.000655</td><td>0.002046</td><td>-0.984262</td><td>-0.197686</td><td>-0.045213</td><td>-0.391194</td></tr><tr><td>46675284</td><td>1687</td><td>0</td><td>2</td><td>1.981104</td><td>2.086829</td><td>1.077325</td><td>1.928942</td><td>2.073144</td><td>1.267122</td><td>-0.564042</td><td>0.278564</td><td>-0.50659</td><td>0.094577</td><td>2.039796</td><td>-0.928634</td><td>-0.664775</td><td>-0.602775</td><td>12.487664</td><td>1.76666</td><td>0.007815</td><td>1.241995</td><td>0.032255</td><td>-1.114504</td><td>-2.031931</td><td>0.32796</td><td>-0.7747</td><td>1.26202</td><td>0.917004</td><td>-1.487237</td><td>-0.800989</td><td>0.709437</td><td>1.11075</td><td>0.276917</td><td>-0.071472</td><td>-0.261531</td><td>-0.878782</td><td>&hellip;</td><td>0.140561</td><td>0.254594</td><td>0.154579</td><td>-1.377429</td><td>-1.430239</td><td>-0.212402</td><td>7.787453</td><td>1.375543</td><td>-1.068442</td><td>10.820049</td><td>1.60906</td><td>-0.149618</td><td>-0.147832</td><td>0.470091</td><td>0.451267</td><td>-0.008578</td><td>-0.023587</td><td>-0.343166</td><td>-0.26202</td><td>-0.408565</td><td>1.182349</td><td>2.643964</td><td>0.361312</td><td>1.431608</td><td>2.309818</td><td>0.698061</td><td>9</td><td>2</td><td>0.978288</td><td>0.76318</td><td>1.443481</td><td>-0.485256</td><td>-0.157901</td><td>0.084363</td><td>-0.164799</td><td>-0.109012</td><td>-0.762613</td></tr><tr><td>46675285</td><td>1687</td><td>0</td><td>3</td><td>2.110739</td><td>2.694819</td><td>0.754661</td><td>3.042663</td><td>2.903043</td><td>1.821212</td><td>-0.407918</td><td>0.312354</td><td>-0.575308</td><td>0.240287</td><td>-1.205073</td><td>-0.614831</td><td>-0.958451</td><td>-0.665564</td><td>5.540873</td><td>0.636631</td><td>0.007815</td><td>0.701606</td><td>0.032255</td><td>-1.845915</td><td>-1.077971</td><td>0.141042</td><td>-0.432471</td><td>0.567596</td><td>0.416976</td><td>-1.371953</td><td>-0.347908</td><td>0.093435</td><td>0.215531</td><td>-0.099886</td><td>1.478549</td><td>0.612884</td><td>-0.400713</td><td>&hellip;</td><td>0.004479</td><td>1.104882</td><td>0.328145</td><td>-1.71361</td><td>-1.207404</td><td>-1.303224</td><td>4.917625</td><td>0.291105</td><td>-0.990219</td><td>6.091198</td><td>0.598453</td><td>-0.149618</td><td>-0.147832</td><td>0.59147</td><td>0.776167</td><td>0.093198</td><td>0.114467</td><td>-0.05093</td><td>-0.297161</td><td>-0.508374</td><td>-0.777918</td><td>-0.197728</td><td>-0.214127</td><td>-0.74216</td><td>-0.065933</td><td>-0.046738</td><td>9</td><td>-1</td><td>-0.855925</td><td>-0.629784</td><td>0.388898</td><td>-0.357745</td><td>-0.217354</td><td>0.082131</td><td>0.055058</td><td>0.040775</td><td>0.113845</td></tr><tr><td>46675286</td><td>1687</td><td>0</td><td>4</td><td>3.387619</td><td>2.741558</td><td>0.960306</td><td>2.544225</td><td>2.540815</td><td>1.783475</td><td>-0.254627</td><td>0.116089</td><td>-0.260447</td><td>0.114165</td><td>-0.74152</td><td>-1.242436</td><td>-0.970688</td><td>-1.618372</td><td>0.126582</td><td>-0.536781</td><td>0.007815</td><td>0.188953</td><td>0.032255</td><td>-0.821465</td><td>-1.121688</td><td>-2.540149</td><td>2.333273</td><td>1.109487</td><td>0.432029</td><td>1.177271</td><td>1.99676</td><td>-0.779334</td><td>-0.676982</td><td>-0.393148</td><td>-1.23268</td><td>-1.390337</td><td>3.079002</td><td>&hellip;</td><td>-0.061308</td><td>1.347762</td><td>-0.596116</td><td>-0.838376</td><td>-1.449665</td><td>-1.27106</td><td>-0.055648</td><td>-0.847728</td><td>-0.756885</td><td>0.131568</td><td>-0.997315</td><td>-0.149618</td><td>-0.147832</td><td>0.307161</td><td>0.238864</td><td>-0.111096</td><td>-0.071119</td><td>-2.789933</td><td>-0.952092</td><td>-3.151275</td><td>-0.70305</td><td>-0.919101</td><td>-0.292212</td><td>-0.222295</td><td>-0.968092</td><td>0.372206</td><td>9</td><td>0</td><td>-1.050013</td><td>-0.673737</td><td>-0.359097</td><td>-0.360675</td><td>-0.185535</td><td>-0.410965</td><td>-0.330635</td><td>-0.070691</td><td>-0.544708</td></tr><tr><td>&hellip;</td><td>&hellip;</td><td>&hellip;</td><td>&hellip;</td><td>&hellip;</td><td>&hellip;</td><td>&hellip;</td><td>&hellip;</td><td>&hellip;</td><td>&hellip;</td><td>&hellip;</td><td>&hellip;</td><td>&hellip;</td><td>&hellip;</td><td>&hellip;</td><td>&hellip;</td><td>&hellip;</td><td>&hellip;</td><td>&hellip;</td><td>&hellip;</td><td>&hellip;</td><td>&hellip;</td><td>&hellip;</td><td>&hellip;</td><td>&hellip;</td><td>&hellip;</td><td>&hellip;</td><td>&hellip;</td><td>&hellip;</td><td>&hellip;</td><td>&hellip;</td><td>&hellip;</td><td>&hellip;</td><td>&hellip;</td><td>&hellip;</td><td>&hellip;</td><td>&hellip;</td><td>&hellip;</td><td>&hellip;</td><td>&hellip;</td><td>&hellip;</td><td>&hellip;</td><td>&hellip;</td><td>&hellip;</td><td>&hellip;</td><td>&hellip;</td><td>&hellip;</td><td>&hellip;</td><td>&hellip;</td><td>&hellip;</td><td>&hellip;</td><td>&hellip;</td><td>&hellip;</td><td>&hellip;</td><td>&hellip;</td><td>&hellip;</td><td>&hellip;</td><td>&hellip;</td><td>&hellip;</td><td>&hellip;</td><td>&hellip;</td><td>&hellip;</td><td>&hellip;</td><td>&hellip;</td><td>&hellip;</td><td>&hellip;</td><td>&hellip;</td><td>&hellip;</td><td>&hellip;</td><td>&hellip;</td><td>&hellip;</td><td>&hellip;</td><td>&hellip;</td><td>&hellip;</td><td>&hellip;</td></tr><tr><td>47127333</td><td>1698</td><td>967</td><td>34</td><td>3.242493</td><td>1.834064</td><td>-0.692533</td><td>1.877867</td><td>1.810274</td><td>0.37647</td><td>0.837775</td><td>1.025435</td><td>2.04858</td><td>0.580161</td><td>0.396291</td><td>0.012774</td><td>-0.108013</td><td>1.400633</td><td>2.12395</td><td>1.734372</td><td>0.20212</td><td>0.875731</td><td>0.675141</td><td>1.788172</td><td>0.077538</td><td>0.235215</td><td>-0.832511</td><td>0.962434</td><td>1.645062</td><td>-2.068691</td><td>-0.997691</td><td>-0.009937</td><td>1.525549</td><td>1.776374</td><td>-0.384962</td><td>-1.131028</td><td>-0.914452</td><td>&hellip;</td><td>-0.005705</td><td>0.473224</td><td>-0.106592</td><td>2.487577</td><td>0.026287</td><td>1.376077</td><td>1.692126</td><td>0.781065</td><td>2.157998</td><td>2.119947</td><td>2.916669</td><td>-0.077589</td><td>-0.080781</td><td>0.238702</td><td>0.332623</td><td>0.027268</td><td>0.086536</td><td>0.243475</td><td>0.166927</td><td>0.38494</td><td>-0.174297</td><td>-0.066046</td><td>-0.038767</td><td>-0.132337</td><td>-0.022426</td><td>-0.252461</td><td>9</td><td>0</td><td>0.501321</td><td>0.905332</td><td>-0.819582</td><td>-0.564046</td><td>-0.223018</td><td>-0.283954</td><td>-0.045938</td><td>0.009797</td><td>-0.102538</td></tr><tr><td>47127334</td><td>1698</td><td>967</td><td>35</td><td>1.079139</td><td>1.184827</td><td>-0.755141</td><td>2.076181</td><td>1.674842</td><td>0.775027</td><td>0.698301</td><td>1.082448</td><td>1.832585</td><td>0.462256</td><td>-0.320109</td><td>0.64038</td><td>0.167309</td><td>0.087845</td><td>-0.132628</td><td>-0.126518</td><td>0.868608</td><td>2.483938</td><td>1.306111</td><td>1.934262</td><td>0.272836</td><td>-0.062922</td><td>-0.603839</td><td>-1.076128</td><td>-0.10295</td><td>-1.588908</td><td>-0.356563</td><td>0.254926</td><td>-0.382045</td><td>-0.64734</td><td>0.961459</td><td>2.086064</td><td>-0.651148</td><td>&hellip;</td><td>0.02379</td><td>0.692436</td><td>0.27386</td><td>2.117333</td><td>0.071481</td><td>0.17848</td><td>-0.061415</td><td>-0.111349</td><td>-0.093604</td><td>-0.048466</td><td>-0.070002</td><td>-0.089227</td><td>-0.067058</td><td>0.897348</td><td>0.650624</td><td>0.098854</td><td>0.117589</td><td>0.850152</td><td>0.909382</td><td>1.015314</td><td>0.235962</td><td>0.122539</td><td>0.099559</td><td>-0.249584</td><td>-0.123571</td><td>-0.46063</td><td>9</td><td>0</td><td>-1.113053</td><td>0.69719</td><td>-1.619031</td><td>-1.222743</td><td>-0.706082</td><td>-0.291133</td><td>0.167733</td><td>0.099704</td><td>0.32461</td></tr><tr><td>47127335</td><td>1698</td><td>967</td><td>36</td><td>1.033172</td><td>1.824691</td><td>-0.647233</td><td>1.627012</td><td>1.853514</td><td>0.224992</td><td>0.976874</td><td>1.074893</td><td>2.031026</td><td>0.370475</td><td>0.691279</td><td>0.64038</td><td>0.791372</td><td>1.732393</td><td>-0.036447</td><td>0.518739</td><td>0.583485</td><td>-0.233439</td><td>0.068235</td><td>2.375662</td><td>0.394305</td><td>0.074088</td><td>-0.603839</td><td>-1.014183</td><td>-0.339718</td><td>-1.75943</td><td>-0.69143</td><td>0.254926</td><td>-0.382045</td><td>-0.616739</td><td>-0.023759</td><td>1.980761</td><td>-0.651148</td><td>&hellip;</td><td>0.025141</td><td>0.741234</td><td>0.083004</td><td>2.314729</td><td>0.682482</td><td>1.83591</td><td>-0.403733</td><td>0.36382</td><td>1.454465</td><td>0.157479</td><td>0.738398</td><td>-0.112124</td><td>-0.054459</td><td>0.07522</td><td>0.081315</td><td>0.222636</td><td>0.210476</td><td>0.395684</td><td>-0.292574</td><td>-3.215846</td><td>-0.535129</td><td>-0.178484</td><td>-1.80815</td><td>-0.065355</td><td>-0.000367</td><td>-0.12517</td><td>9</td><td>0</td><td>-1.019353</td><td>-0.460962</td><td>-2.026678</td><td>-0.848606</td><td>-0.305448</td><td>-1.256913</td><td>-0.109359</td><td>-0.027474</td><td>-0.253956</td></tr><tr><td>47127336</td><td>1698</td><td>967</td><td>37</td><td>1.243116</td><td>1.968472</td><td>-0.84492</td><td>1.65055</td><td>2.423639</td><td>0.289672</td><td>0.664661</td><td>1.087339</td><td>1.492774</td><td>0.459966</td><td>0.059162</td><td>-0.301028</td><td>0.283556</td><td>1.333345</td><td>0.619775</td><td>0.809157</td><td>0.362347</td><td>0.330163</td><td>-0.449639</td><td>1.909002</td><td>0.468912</td><td>-2.183676</td><td>-0.936072</td><td>-0.304789</td><td>-0.1023</td><td>-1.834514</td><td>-0.962381</td><td>0.263791</td><td>0.485418</td><td>0.044742</td><td>-0.012475</td><td>0.300371</td><td>-0.845183</td><td>&hellip;</td><td>0.013538</td><td>1.818338</td><td>0.343466</td><td>2.548679</td><td>0.623139</td><td>1.753471</td><td>-0.168007</td><td>0.412375</td><td>0.886687</td><td>1.573349</td><td>1.054513</td><td>-0.0063</td><td>-0.007983</td><td>0.181613</td><td>0.188594</td><td>0.033585</td><td>0.044044</td><td>1.925987</td><td>0.479394</td><td>3.621867</td><td>-0.107114</td><td>-0.063599</td><td>1.204755</td><td>-0.148711</td><td>-0.026583</td><td>-0.256395</td><td>9</td><td>0</td><td>0.23585</td><td>0.556479</td><td>0.618944</td><td>-0.243765</td><td>-0.108361</td><td>-0.260777</td><td>-0.486923</td><td>-0.275566</td><td>-1.020708</td></tr><tr><td>47127337</td><td>1698</td><td>967</td><td>38</td><td>3.193685</td><td>2.031919</td><td>-0.713739</td><td>2.118863</td><td>1.6783</td><td>0.411126</td><td>0.917685</td><td>0.885877</td><td>1.946853</td><td>0.491628</td><td>0.73342</td><td>-1.242436</td><td>2.16798</td><td>0.806881</td><td>1.195452</td><td>1.706855</td><td>-0.546541</td><td>-0.157449</td><td>0.365783</td><td>0.421056</td><td>1.955646</td><td>-0.426805</td><td>-0.463666</td><td>1.813499</td><td>1.661562</td><td>-1.979779</td><td>-1.164117</td><td>0.616348</td><td>1.000873</td><td>0.670148</td><td>-0.696351</td><td>-0.399368</td><td>-0.442849</td><td>&hellip;</td><td>-0.177072</td><td>-0.408687</td><td>-0.070114</td><td>0.084112</td><td>1.989527</td><td>0.600266</td><td>0.606074</td><td>0.559524</td><td>0.863429</td><td>1.604977</td><td>1.245315</td><td>-0.255318</td><td>-0.169512</td><td>-0.242767</td><td>-0.147936</td><td>-0.196583</td><td>-0.155777</td><td>1.228778</td><td>0.512562</td><td>-0.050865</td><td>0.160883</td><td>0.080756</td><td>-0.078237</td><td>-0.138548</td><td>-0.038771</td><td>-0.21194</td><td>9</td><td>0</td><td>0.542563</td><td>0.513193</td><td>0.814393</td><td>0.032767</td><td>0.025435</td><td>0.311465</td><td>-0.044797</td><td>0.011133</td><td>-0.0793</td></tr></tbody></table></div>"
      ],
      "text/plain": [
       "shape: (452_056, 104)\n",
       "┌──────────┬─────────┬─────────┬───────────┬───┬────────────┬────────────┬────────────┬────────────┐\n",
       "│ id       ┆ date_id ┆ time_id ┆ symbol_id ┆ … ┆ responder_ ┆ responder_ ┆ responder_ ┆ responder_ │\n",
       "│ ---      ┆ ---     ┆ ---     ┆ ---       ┆   ┆ 5_lag_1    ┆ 6_lag_1    ┆ 7_lag_1    ┆ 8_lag_1    │\n",
       "│ u32      ┆ i16     ┆ i16     ┆ i8        ┆   ┆ ---        ┆ ---        ┆ ---        ┆ ---        │\n",
       "│          ┆         ┆         ┆           ┆   ┆ f32        ┆ f32        ┆ f32        ┆ f32        │\n",
       "╞══════════╪═════════╪═════════╪═══════════╪═══╪════════════╪════════════╪════════════╪════════════╡\n",
       "│ 46675282 ┆ 1687    ┆ 0       ┆ 0         ┆ … ┆ -0.535236  ┆ 0.058816   ┆ 0.057375   ┆ 0.083458   │\n",
       "│ 46675283 ┆ 1687    ┆ 0       ┆ 1         ┆ … ┆ -0.984262  ┆ -0.197686  ┆ -0.045213  ┆ -0.391194  │\n",
       "│ 46675284 ┆ 1687    ┆ 0       ┆ 2         ┆ … ┆ 0.084363   ┆ -0.164799  ┆ -0.109012  ┆ -0.762613  │\n",
       "│ 46675285 ┆ 1687    ┆ 0       ┆ 3         ┆ … ┆ 0.082131   ┆ 0.055058   ┆ 0.040775   ┆ 0.113845   │\n",
       "│ 46675286 ┆ 1687    ┆ 0       ┆ 4         ┆ … ┆ -0.410965  ┆ -0.330635  ┆ -0.070691  ┆ -0.544708  │\n",
       "│ …        ┆ …       ┆ …       ┆ …         ┆ … ┆ …          ┆ …          ┆ …          ┆ …          │\n",
       "│ 47127333 ┆ 1698    ┆ 967     ┆ 34        ┆ … ┆ -0.283954  ┆ -0.045938  ┆ 0.009797   ┆ -0.102538  │\n",
       "│ 47127334 ┆ 1698    ┆ 967     ┆ 35        ┆ … ┆ -0.291133  ┆ 0.167733   ┆ 0.099704   ┆ 0.32461    │\n",
       "│ 47127335 ┆ 1698    ┆ 967     ┆ 36        ┆ … ┆ -1.256913  ┆ -0.109359  ┆ -0.027474  ┆ -0.253956  │\n",
       "│ 47127336 ┆ 1698    ┆ 967     ┆ 37        ┆ … ┆ -0.260777  ┆ -0.486923  ┆ -0.275566  ┆ -1.020708  │\n",
       "│ 47127337 ┆ 1698    ┆ 967     ┆ 38        ┆ … ┆ 0.311465   ┆ -0.044797  ┆ 0.011133   ┆ -0.0793    │\n",
       "└──────────┴─────────┴─────────┴───────────┴───┴────────────┴────────────┴────────────┴────────────┘"
      ]
     },
     "execution_count": 14,
     "metadata": {},
     "output_type": "execute_result"
    }
   ],
   "source": [
    "validation_data"
   ]
  },
  {
   "cell_type": "markdown",
   "id": "92733519",
   "metadata": {
    "papermill": {
     "duration": 0.006681,
     "end_time": "2025-01-03T04:45:36.991257",
     "exception": false,
     "start_time": "2025-01-03T04:45:36.984576",
     "status": "completed"
    },
    "tags": []
   },
   "source": [
    "# Save data as parquets"
   ]
  },
  {
   "cell_type": "code",
   "execution_count": 15,
   "id": "fe2c45a6",
   "metadata": {
    "execution": {
     "iopub.execute_input": "2025-01-03T04:45:37.006691Z",
     "iopub.status.busy": "2025-01-03T04:45:37.005695Z",
     "iopub.status.idle": "2025-01-03T04:45:48.010041Z",
     "shell.execute_reply": "2025-01-03T04:45:48.008598Z"
    },
    "papermill": {
     "duration": 11.015768,
     "end_time": "2025-01-03T04:45:48.013771",
     "exception": false,
     "start_time": "2025-01-03T04:45:36.998003",
     "status": "completed"
    },
    "tags": []
   },
   "outputs": [],
   "source": [
    "training_data.\\\n",
    "write_parquet(\n",
    "    f\"training_data.parquet\"\n",
    ")"
   ]
  },
  {
   "cell_type": "code",
   "execution_count": 16,
   "id": "9b22230f",
   "metadata": {
    "execution": {
     "iopub.execute_input": "2025-01-03T04:45:48.135575Z",
     "iopub.status.busy": "2025-01-03T04:45:48.134522Z",
     "iopub.status.idle": "2025-01-03T04:45:48.761807Z",
     "shell.execute_reply": "2025-01-03T04:45:48.760460Z"
    },
    "papermill": {
     "duration": 0.699872,
     "end_time": "2025-01-03T04:45:48.764522",
     "exception": false,
     "start_time": "2025-01-03T04:45:48.064650",
     "status": "completed"
    },
    "tags": []
   },
   "outputs": [],
   "source": [
    "validation_data.\\\n",
    "write_parquet(\n",
    "    f\"validation_data.parquet\"\n",
    ")"
   ]
  }
 ],
 "metadata": {
  "kaggle": {
   "accelerator": "none",
   "dataSources": [
    {
     "databundleVersionId": 9871156,
     "sourceId": 84493,
     "sourceType": "competition"
    }
   ],
   "dockerImageVersionId": 30786,
   "isGpuEnabled": false,
   "isInternetEnabled": false,
   "language": "python",
   "sourceType": "notebook"
  },
  "kernelspec": {
   "display_name": "Python 3",
   "language": "python",
   "name": "python3"
  },
  "language_info": {
   "codemirror_mode": {
    "name": "ipython",
    "version": 3
   },
   "file_extension": ".py",
   "mimetype": "text/x-python",
   "name": "python",
   "nbconvert_exporter": "python",
   "pygments_lexer": "ipython3",
   "version": "3.10.14"
  },
  "papermill": {
   "default_parameters": {},
   "duration": 100.903653,
   "end_time": "2025-01-03T04:45:53.436987",
   "environment_variables": {},
   "exception": null,
   "input_path": "__notebook__.ipynb",
   "output_path": "__notebook__.ipynb",
   "parameters": {},
   "start_time": "2025-01-03T04:44:12.533334",
   "version": "2.6.0"
  }
 },
 "nbformat": 4,
 "nbformat_minor": 5
}
