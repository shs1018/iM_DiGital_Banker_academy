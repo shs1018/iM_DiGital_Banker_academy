{
 "cells": [
  {
   "cell_type": "markdown",
   "id": "18334228",
   "metadata": {
    "papermill": {
     "duration": 0.007004,
     "end_time": "2025-01-07T08:25:27.352127",
     "exception": false,
     "start_time": "2025-01-07T08:25:27.345123",
     "status": "completed"
    },
    "tags": []
   },
   "source": [
    "# Libraries"
   ]
  },
  {
   "cell_type": "code",
   "execution_count": 1,
   "id": "e802f21f",
   "metadata": {
    "execution": {
     "iopub.execute_input": "2025-01-07T08:25:27.363675Z",
     "iopub.status.busy": "2025-01-07T08:25:27.363150Z",
     "iopub.status.idle": "2025-01-07T08:25:30.395739Z",
     "shell.execute_reply": "2025-01-07T08:25:30.394434Z"
    },
    "papermill": {
     "duration": 3.041288,
     "end_time": "2025-01-07T08:25:30.398266",
     "exception": false,
     "start_time": "2025-01-07T08:25:27.356978",
     "status": "completed"
    },
    "tags": []
   },
   "outputs": [],
   "source": [
    "import pandas as pd\n",
    "import polars as pl\n",
    "import numpy as np\n",
    "import gc\n",
    "from matplotlib import pyplot as plt\n",
    "import matplotlib.cm as cm\n",
    "from sklearn.model_selection import StratifiedGroupKFold"
   ]
  },
  {
   "cell_type": "markdown",
   "id": "d3e70b11",
   "metadata": {
    "papermill": {
     "duration": 0.004275,
     "end_time": "2025-01-07T08:25:30.407225",
     "exception": false,
     "start_time": "2025-01-07T08:25:30.402950",
     "status": "completed"
    },
    "tags": []
   },
   "source": [
    "# Configurations"
   ]
  },
  {
   "cell_type": "code",
   "execution_count": 2,
   "id": "26f17b35",
   "metadata": {
    "execution": {
     "iopub.execute_input": "2025-01-07T08:25:30.418025Z",
     "iopub.status.busy": "2025-01-07T08:25:30.417487Z",
     "iopub.status.idle": "2025-01-07T08:25:30.424049Z",
     "shell.execute_reply": "2025-01-07T08:25:30.422942Z"
    },
    "papermill": {
     "duration": 0.014689,
     "end_time": "2025-01-07T08:25:30.426443",
     "exception": false,
     "start_time": "2025-01-07T08:25:30.411754",
     "status": "completed"
    },
    "tags": []
   },
   "outputs": [],
   "source": [
    "class CONFIG:\n",
    "    target_col = \"responder_6\"\n",
    "    lag_cols_original = [\"date_id\", \"symbol_id\"] + [f\"responder_{idx}\" for idx in range(9)]\n",
    "    lag_cols_rename = { f\"responder_{idx}\" : f\"responder_{idx}_lag_1\" for idx in range(9)}\n",
    "    valid_ratio = 0.05\n",
    "    start_dt = 1100\n",
    "    chg_date_3 = 1530 # 마지막 partiton"
   ]
  },
  {
   "cell_type": "code",
   "execution_count": 3,
   "id": "75613369",
   "metadata": {
    "execution": {
     "iopub.execute_input": "2025-01-07T08:25:30.437886Z",
     "iopub.status.busy": "2025-01-07T08:25:30.437496Z",
     "iopub.status.idle": "2025-01-07T08:25:30.457218Z",
     "shell.execute_reply": "2025-01-07T08:25:30.456057Z"
    },
    "papermill": {
     "duration": 0.028499,
     "end_time": "2025-01-07T08:25:30.459560",
     "exception": false,
     "start_time": "2025-01-07T08:25:30.431061",
     "status": "completed"
    },
    "tags": []
   },
   "outputs": [],
   "source": [
    "means = {'feature_00': 0.640198826789856, 'feature_01': 0.03755598142743111, 'feature_02': 0.6368075609207153, 'feature_03': 0.6365063786506653, 'feature_04': 0.013741530478000641, 'feature_05': -0.02173694409430027, 'feature_06': -0.006415014620870352, 'feature_07': -0.010971736162900925, 'feature_08': -0.04653771221637726, 'feature_09': 32.596106194690265, 'feature_10': 4.95929203539823, 'feature_11': 167.6541592920354, 'feature_12': -0.13415881991386414, 'feature_13': -0.07573335617780685, 'feature_14': -0.12015637010335922, 'feature_15': -0.7470195889472961, 'feature_16': -0.6257441639900208, 'feature_17': -0.7294047474861145, 'feature_18': -0.042215555906295776, 'feature_19': -0.08798160403966904, 'feature_20': -0.15741558372974396, 'feature_21': 0.10528526455163956, 'feature_22': 0.018054703250527382, 'feature_23': 0.03165541961789131, 'feature_24': 2.733017921447754, 'feature_25': 0.39958420395851135, 'feature_26': -0.11045943945646286, 'feature_27': -0.5332594513893127, 'feature_28': -0.4522790312767029, 'feature_29': -0.5739678144454956, 'feature_30': -0.7905704975128174, 'feature_31': 0.10600688308477402, 'feature_32': 0.40044134855270386, 'feature_33': -0.021725023165345192, 'feature_34': 0.4226262867450714, 'feature_35': 0.42143046855926514, 'feature_36': -0.00023802756913937628, 'feature_37': 0.027961043640971184, 'feature_38': 0.010258913040161133, 'feature_39': 0.005768273025751114, 'feature_40': 0.017485467717051506, 'feature_41': 0.038347117602825165, 'feature_42': -0.06123563274741173, 'feature_43': -0.11644423753023148, 'feature_44': -0.12342483550310135, 'feature_45': -0.028769943863153458, 'feature_46': -0.015200662426650524, 'feature_47': 0.015717582777142525, 'feature_48': -0.0033910537604242563, 'feature_49': -0.0052393232472240925, 'feature_50': -0.2285808026790619, 'feature_51': -0.3548349440097809, 'feature_52': -0.358092725276947, 'feature_53': 0.2607136368751526, 'feature_54': 0.18796788156032562, 'feature_55': 0.3154229521751404, 'feature_56': -0.1471923440694809, 'feature_57': 0.15730056166648865, 'feature_58': -0.021774644032120705, 'feature_59': -0.0037768862675875425, 'feature_60': -0.010220836848020554, 'feature_61': -0.03178725391626358, 'feature_62': -0.3769100308418274, 'feature_63': -0.3229374587535858, 'feature_64': -0.3718394339084625, 'feature_65': -0.10233989357948303, 'feature_66': -0.13688170909881592, 'feature_67': -0.14402112364768982, 'feature_68': -0.06875362992286682, 'feature_69': -0.11862917989492416, 'feature_70': -0.11789549142122269, 'feature_71': -0.06013699993491173, 'feature_72': -0.10766122490167618, 'feature_73': -0.09921672940254211, 'feature_74': -0.10233042389154434, 'feature_75': -0.05991339311003685, 'feature_76': -0.06349952518939972, 'feature_77': -0.07424316555261612, 'feature_78': -0.07759837061166763}\n",
    "stds = {'feature_00': 1.027751088142395, 'feature_01': 1.0967519283294678, 'feature_02': 1.0156300067901611, 'feature_03': 1.0170334577560425, 'feature_04': 1.0726385116577148, 'feature_05': 0.9639211297035217, 'feature_06': 1.0963259935379028, 'feature_07': 1.0789952278137207, 'feature_08': 0.7962697148323059, 'feature_09': 23.72976726545254, 'feature_10': 3.1867162933797224, 'feature_11': 163.44513161352285, 'feature_12': 0.6700984835624695, 'feature_13': 0.5805172920227051, 'feature_14': 0.664044201374054, 'feature_15': 0.37517768144607544, 'feature_16': 0.3393096327781677, 'feature_17': 0.3603287935256958, 'feature_18': 0.9911752939224243, 'feature_19': 1.0550744533538818, 'feature_20': 0.6643751263618469, 'feature_21': 0.38239365816116333, 'feature_22': 0.950261116027832, 'feature_23': 0.8119344711303711, 'feature_24': 1.4362775087356567, 'feature_25': 1.0947270393371582, 'feature_26': 1.077124834060669, 'feature_27': 1.0645726919174194, 'feature_28': 1.0676648616790771, 'feature_29': 0.2640742361545563, 'feature_30': 0.19689509272575378, 'feature_31': 0.3815343976020813, 'feature_32': 1.2996565103530884, 'feature_33': 0.9989405870437622, 'feature_34': 1.3409572839736938, 'feature_35': 1.3365675210952759, 'feature_36': 0.8695492148399353, 'feature_37': 0.7334080934524536, 'feature_38': 0.698810338973999, 'feature_39': 0.7965824604034424, 'feature_40': 0.518515944480896, 'feature_41': 0.6384949088096619, 'feature_42': 0.8168442249298096, 'feature_43': 0.5228385925292969, 'feature_44': 0.6521403193473816, 'feature_45': 0.8666537404060364, 'feature_46': 0.9039222002029419, 'feature_47': 3.2711963653564453, 'feature_48': 0.6570901274681091, 'feature_49': 0.7083076238632202, 'feature_50': 1.0132617950439453, 'feature_51': 0.6081287860870361, 'feature_52': 0.9250587224960327, 'feature_53': 1.0421689748764038, 'feature_54': 0.5859629511833191, 'feature_55': 0.9191848039627075, 'feature_56': 0.9549097418785095, 'feature_57': 1.0204777717590332, 'feature_58': 0.8327276110649109, 'feature_59': 0.8309783339500427, 'feature_60': 0.8389413356781006, 'feature_61': 1.192766547203064, 'feature_62': 1.388945460319519, 'feature_63': 0.09957146644592285, 'feature_64': 0.3396177291870117, 'feature_65': 1.01683509349823, 'feature_66': 1.0824761390686035, 'feature_67': 0.642227828502655, 'feature_68': 0.5312599539756775, 'feature_69': 0.6208390593528748, 'feature_70': 0.6724499464035034, 'feature_71': 0.5356909036636353, 'feature_72': 0.6534596681594849, 'feature_73': 1.0855497121810913, 'feature_74': 1.0880277156829834, 'feature_75': 1.2321789264678955, 'feature_76': 1.2345560789108276, 'feature_77': 1.0921478271484375, 'feature_78': 1.0924347639083862}\n",
    "\n",
    "# 전체 데이터 기준으로 재정의\n",
    "\n",
    "def normalize_dataframe(df: pl.DataFrame, means: dict, stds: dict) -> pl.DataFrame:\n",
    "    # 폴라 데이터프레임을 평균과 표준편차로 정규화\n",
    "    normalize_exprs = []\n",
    "\n",
    "    for col in df.columns:\n",
    "        if col in means and col in stds: # 정규화 되어야 하는 열만 존재하도록\n",
    "            if stds[col] != 0: # 0인 차원 적용 X\n",
    "                # 정규화 하되 이름은 유지하도록\n",
    "                normalize_exprs.append(\n",
    "                    ((pl.col(col) - means[col]) / stds[col]).alias(col)\n",
    "                )\n",
    "            else:\n",
    "                normalize_exprs.append(pl.col(col) - means[col]).alias(col)\n",
    "\n",
    "    normalized_df = df.select(normalize_exprs) # 정규화된 데이터프레임 생성\n",
    "    return normalized_df"
   ]
  },
  {
   "cell_type": "markdown",
   "id": "20892dac",
   "metadata": {
    "papermill": {
     "duration": 0.004193,
     "end_time": "2025-01-07T08:25:30.468317",
     "exception": false,
     "start_time": "2025-01-07T08:25:30.464124",
     "status": "completed"
    },
    "tags": []
   },
   "source": [
    "# Load training data & select"
   ]
  },
  {
   "cell_type": "code",
   "execution_count": 4,
   "id": "52102700",
   "metadata": {
    "execution": {
     "iopub.execute_input": "2025-01-07T08:25:30.479944Z",
     "iopub.status.busy": "2025-01-07T08:25:30.479290Z",
     "iopub.status.idle": "2025-01-07T08:25:30.522246Z",
     "shell.execute_reply": "2025-01-07T08:25:30.521148Z"
    },
    "papermill": {
     "duration": 0.051239,
     "end_time": "2025-01-07T08:25:30.524938",
     "exception": false,
     "start_time": "2025-01-07T08:25:30.473699",
     "status": "completed"
    },
    "tags": []
   },
   "outputs": [],
   "source": [
    "# Use last 2 parquets\n",
    "\n",
    "train = pl.scan_parquet(\n",
    "    f\"/kaggle/input/jane-street-real-time-market-data-forecasting/train.parquet\"\n",
    ").select(\n",
    "    pl.int_range(pl.len(), dtype=pl.UInt32).alias(\"id\"),\n",
    "    pl.all(),\n",
    ").with_columns(\n",
    "    (pl.col(CONFIG.target_col)*2).cast(pl.Int32).alias(\"label\"),\n",
    ").filter(\n",
    "    (pl.col(\"date_id\") >= CONFIG.chg_date_3) # 이유는 모르겠지만 1100일 이후의 데이터만 가져옴\n",
    ").fill_null(\n",
    "    strategy=\"forward\"\n",
    ").fill_null(\n",
    "    value=0 # 결측치는 일단 단순하게 0으로 처리 \n",
    ")"
   ]
  },
  {
   "cell_type": "code",
   "execution_count": 5,
   "id": "f8215cd4",
   "metadata": {
    "execution": {
     "iopub.execute_input": "2025-01-07T08:25:30.536313Z",
     "iopub.status.busy": "2025-01-07T08:25:30.535904Z",
     "iopub.status.idle": "2025-01-07T08:26:35.934027Z",
     "shell.execute_reply": "2025-01-07T08:26:35.932712Z"
    },
    "papermill": {
     "duration": 65.410952,
     "end_time": "2025-01-07T08:26:35.940732",
     "exception": false,
     "start_time": "2025-01-07T08:25:30.529780",
     "status": "completed"
    },
    "tags": []
   },
   "outputs": [
    {
     "data": {
      "text/html": [
       "<div>\n",
       "<style scoped>\n",
       "    .dataframe tbody tr th:only-of-type {\n",
       "        vertical-align: middle;\n",
       "    }\n",
       "\n",
       "    .dataframe tbody tr th {\n",
       "        vertical-align: top;\n",
       "    }\n",
       "\n",
       "    .dataframe thead th {\n",
       "        text-align: right;\n",
       "    }\n",
       "</style>\n",
       "<table border=\"1\" class=\"dataframe\">\n",
       "  <thead>\n",
       "    <tr style=\"text-align: right;\">\n",
       "      <th></th>\n",
       "      <th>id</th>\n",
       "      <th>date_id</th>\n",
       "      <th>time_id</th>\n",
       "      <th>symbol_id</th>\n",
       "      <th>weight</th>\n",
       "      <th>feature_00</th>\n",
       "      <th>feature_01</th>\n",
       "      <th>feature_02</th>\n",
       "      <th>feature_03</th>\n",
       "      <th>feature_04</th>\n",
       "      <th>...</th>\n",
       "      <th>responder_1</th>\n",
       "      <th>responder_2</th>\n",
       "      <th>responder_3</th>\n",
       "      <th>responder_4</th>\n",
       "      <th>responder_5</th>\n",
       "      <th>responder_6</th>\n",
       "      <th>responder_7</th>\n",
       "      <th>responder_8</th>\n",
       "      <th>partition_id</th>\n",
       "      <th>label</th>\n",
       "    </tr>\n",
       "  </thead>\n",
       "  <tbody>\n",
       "    <tr>\n",
       "      <th>0</th>\n",
       "      <td>40852762</td>\n",
       "      <td>1530</td>\n",
       "      <td>0</td>\n",
       "      <td>0</td>\n",
       "      <td>3.084694</td>\n",
       "      <td>1.153571</td>\n",
       "      <td>1.563784</td>\n",
       "      <td>0.697396</td>\n",
       "      <td>0.756759</td>\n",
       "      <td>2.580965</td>\n",
       "      <td>...</td>\n",
       "      <td>0.323897</td>\n",
       "      <td>0.601499</td>\n",
       "      <td>2.074103</td>\n",
       "      <td>0.746552</td>\n",
       "      <td>0.552013</td>\n",
       "      <td>3.071231</td>\n",
       "      <td>0.914794</td>\n",
       "      <td>0.997124</td>\n",
       "      <td>9</td>\n",
       "      <td>6</td>\n",
       "    </tr>\n",
       "    <tr>\n",
       "      <th>1</th>\n",
       "      <td>40852763</td>\n",
       "      <td>1530</td>\n",
       "      <td>0</td>\n",
       "      <td>1</td>\n",
       "      <td>2.232906</td>\n",
       "      <td>0.553354</td>\n",
       "      <td>1.730064</td>\n",
       "      <td>0.990195</td>\n",
       "      <td>0.611490</td>\n",
       "      <td>2.023031</td>\n",
       "      <td>...</td>\n",
       "      <td>-0.399384</td>\n",
       "      <td>-0.635306</td>\n",
       "      <td>2.092151</td>\n",
       "      <td>0.342582</td>\n",
       "      <td>0.757289</td>\n",
       "      <td>1.979042</td>\n",
       "      <td>0.967537</td>\n",
       "      <td>1.219739</td>\n",
       "      <td>9</td>\n",
       "      <td>3</td>\n",
       "    </tr>\n",
       "    <tr>\n",
       "      <th>2</th>\n",
       "      <td>40852764</td>\n",
       "      <td>1530</td>\n",
       "      <td>0</td>\n",
       "      <td>2</td>\n",
       "      <td>2.404948</td>\n",
       "      <td>1.532503</td>\n",
       "      <td>2.095852</td>\n",
       "      <td>0.919688</td>\n",
       "      <td>0.583715</td>\n",
       "      <td>2.330047</td>\n",
       "      <td>...</td>\n",
       "      <td>-0.006571</td>\n",
       "      <td>0.518870</td>\n",
       "      <td>-0.344441</td>\n",
       "      <td>0.641694</td>\n",
       "      <td>-0.646040</td>\n",
       "      <td>-0.506260</td>\n",
       "      <td>0.739797</td>\n",
       "      <td>-2.041514</td>\n",
       "      <td>9</td>\n",
       "      <td>-1</td>\n",
       "    </tr>\n",
       "    <tr>\n",
       "      <th>3</th>\n",
       "      <td>40852765</td>\n",
       "      <td>1530</td>\n",
       "      <td>0</td>\n",
       "      <td>3</td>\n",
       "      <td>1.986533</td>\n",
       "      <td>0.647099</td>\n",
       "      <td>1.687460</td>\n",
       "      <td>0.569406</td>\n",
       "      <td>1.061679</td>\n",
       "      <td>2.444131</td>\n",
       "      <td>...</td>\n",
       "      <td>-0.235901</td>\n",
       "      <td>-0.428956</td>\n",
       "      <td>-1.903627</td>\n",
       "      <td>-1.214619</td>\n",
       "      <td>-0.469500</td>\n",
       "      <td>-2.590589</td>\n",
       "      <td>-0.946317</td>\n",
       "      <td>-0.390001</td>\n",
       "      <td>9</td>\n",
       "      <td>-5</td>\n",
       "    </tr>\n",
       "    <tr>\n",
       "      <th>4</th>\n",
       "      <td>40852766</td>\n",
       "      <td>1530</td>\n",
       "      <td>0</td>\n",
       "      <td>4</td>\n",
       "      <td>2.742601</td>\n",
       "      <td>1.096778</td>\n",
       "      <td>1.551411</td>\n",
       "      <td>0.632113</td>\n",
       "      <td>0.368218</td>\n",
       "      <td>2.181873</td>\n",
       "      <td>...</td>\n",
       "      <td>-0.209282</td>\n",
       "      <td>-0.095182</td>\n",
       "      <td>-1.598217</td>\n",
       "      <td>0.968505</td>\n",
       "      <td>-0.705594</td>\n",
       "      <td>-1.579623</td>\n",
       "      <td>0.954296</td>\n",
       "      <td>-1.805623</td>\n",
       "      <td>9</td>\n",
       "      <td>-3</td>\n",
       "    </tr>\n",
       "  </tbody>\n",
       "</table>\n",
       "<p>5 rows × 95 columns</p>\n",
       "</div>"
      ],
      "text/plain": [
       "         id  date_id  time_id  symbol_id    weight  feature_00  feature_01  \\\n",
       "0  40852762     1530        0          0  3.084694    1.153571    1.563784   \n",
       "1  40852763     1530        0          1  2.232906    0.553354    1.730064   \n",
       "2  40852764     1530        0          2  2.404948    1.532503    2.095852   \n",
       "3  40852765     1530        0          3  1.986533    0.647099    1.687460   \n",
       "4  40852766     1530        0          4  2.742601    1.096778    1.551411   \n",
       "\n",
       "   feature_02  feature_03  feature_04  ...  responder_1  responder_2  \\\n",
       "0    0.697396    0.756759    2.580965  ...     0.323897     0.601499   \n",
       "1    0.990195    0.611490    2.023031  ...    -0.399384    -0.635306   \n",
       "2    0.919688    0.583715    2.330047  ...    -0.006571     0.518870   \n",
       "3    0.569406    1.061679    2.444131  ...    -0.235901    -0.428956   \n",
       "4    0.632113    0.368218    2.181873  ...    -0.209282    -0.095182   \n",
       "\n",
       "   responder_3  responder_4  responder_5  responder_6  responder_7  \\\n",
       "0     2.074103     0.746552     0.552013     3.071231     0.914794   \n",
       "1     2.092151     0.342582     0.757289     1.979042     0.967537   \n",
       "2    -0.344441     0.641694    -0.646040    -0.506260     0.739797   \n",
       "3    -1.903627    -1.214619    -0.469500    -2.590589    -0.946317   \n",
       "4    -1.598217     0.968505    -0.705594    -1.579623     0.954296   \n",
       "\n",
       "   responder_8  partition_id  label  \n",
       "0     0.997124             9      6  \n",
       "1     1.219739             9      3  \n",
       "2    -2.041514             9     -1  \n",
       "3    -0.390001             9     -5  \n",
       "4    -1.805623             9     -3  \n",
       "\n",
       "[5 rows x 95 columns]"
      ]
     },
     "execution_count": 5,
     "metadata": {},
     "output_type": "execute_result"
    }
   ],
   "source": [
    "train = train.collect().to_pandas()\n",
    "train.head()"
   ]
  },
  {
   "cell_type": "code",
   "execution_count": 6,
   "id": "f54236ea",
   "metadata": {
    "execution": {
     "iopub.execute_input": "2025-01-07T08:26:35.952308Z",
     "iopub.status.busy": "2025-01-07T08:26:35.951907Z",
     "iopub.status.idle": "2025-01-07T08:26:43.274502Z",
     "shell.execute_reply": "2025-01-07T08:26:43.273397Z"
    },
    "papermill": {
     "duration": 7.331492,
     "end_time": "2025-01-07T08:26:43.277016",
     "exception": false,
     "start_time": "2025-01-07T08:26:35.945524",
     "status": "completed"
    },
    "tags": []
   },
   "outputs": [],
   "source": [
    "tmp_normed = normalize_dataframe(pl.DataFrame(train), means, stds)\n",
    "tmp_normed = tmp_normed.to_pandas()"
   ]
  },
  {
   "cell_type": "code",
   "execution_count": 7,
   "id": "ccbf3b4c",
   "metadata": {
    "execution": {
     "iopub.execute_input": "2025-01-07T08:26:43.288626Z",
     "iopub.status.busy": "2025-01-07T08:26:43.288203Z",
     "iopub.status.idle": "2025-01-07T08:26:43.312847Z",
     "shell.execute_reply": "2025-01-07T08:26:43.311508Z"
    },
    "papermill": {
     "duration": 0.033109,
     "end_time": "2025-01-07T08:26:43.315165",
     "exception": false,
     "start_time": "2025-01-07T08:26:43.282056",
     "status": "completed"
    },
    "tags": []
   },
   "outputs": [
    {
     "data": {
      "text/html": [
       "<div>\n",
       "<style scoped>\n",
       "    .dataframe tbody tr th:only-of-type {\n",
       "        vertical-align: middle;\n",
       "    }\n",
       "\n",
       "    .dataframe tbody tr th {\n",
       "        vertical-align: top;\n",
       "    }\n",
       "\n",
       "    .dataframe thead th {\n",
       "        text-align: right;\n",
       "    }\n",
       "</style>\n",
       "<table border=\"1\" class=\"dataframe\">\n",
       "  <thead>\n",
       "    <tr style=\"text-align: right;\">\n",
       "      <th></th>\n",
       "      <th>feature_00</th>\n",
       "      <th>feature_01</th>\n",
       "      <th>feature_02</th>\n",
       "      <th>feature_03</th>\n",
       "      <th>feature_04</th>\n",
       "      <th>feature_05</th>\n",
       "      <th>feature_06</th>\n",
       "      <th>feature_07</th>\n",
       "      <th>feature_08</th>\n",
       "      <th>feature_09</th>\n",
       "      <th>...</th>\n",
       "      <th>feature_69</th>\n",
       "      <th>feature_70</th>\n",
       "      <th>feature_71</th>\n",
       "      <th>feature_72</th>\n",
       "      <th>feature_73</th>\n",
       "      <th>feature_74</th>\n",
       "      <th>feature_75</th>\n",
       "      <th>feature_76</th>\n",
       "      <th>feature_77</th>\n",
       "      <th>feature_78</th>\n",
       "    </tr>\n",
       "  </thead>\n",
       "  <tbody>\n",
       "    <tr>\n",
       "      <th>0</th>\n",
       "      <td>0.499511</td>\n",
       "      <td>1.391589</td>\n",
       "      <td>0.059656</td>\n",
       "      <td>0.118239</td>\n",
       "      <td>2.393372</td>\n",
       "      <td>0.200274</td>\n",
       "      <td>1.033240</td>\n",
       "      <td>0.507069</td>\n",
       "      <td>0.130217</td>\n",
       "      <td>-0.910085</td>\n",
       "      <td>...</td>\n",
       "      <td>0.985952</td>\n",
       "      <td>-1.250955</td>\n",
       "      <td>2.510017</td>\n",
       "      <td>-0.256836</td>\n",
       "      <td>0.091398</td>\n",
       "      <td>0.094051</td>\n",
       "      <td>3.447852</td>\n",
       "      <td>3.021115</td>\n",
       "      <td>0.844592</td>\n",
       "      <td>0.985976</td>\n",
       "    </tr>\n",
       "    <tr>\n",
       "      <th>1</th>\n",
       "      <td>-0.084500</td>\n",
       "      <td>1.543200</td>\n",
       "      <td>0.347949</td>\n",
       "      <td>-0.024597</td>\n",
       "      <td>1.873222</td>\n",
       "      <td>0.353507</td>\n",
       "      <td>1.085249</td>\n",
       "      <td>0.531814</td>\n",
       "      <td>0.131020</td>\n",
       "      <td>-0.910085</td>\n",
       "      <td>...</td>\n",
       "      <td>0.245522</td>\n",
       "      <td>-1.252480</td>\n",
       "      <td>0.684429</td>\n",
       "      <td>-0.634124</td>\n",
       "      <td>0.091398</td>\n",
       "      <td>0.094051</td>\n",
       "      <td>0.972306</td>\n",
       "      <td>1.330793</td>\n",
       "      <td>0.232393</td>\n",
       "      <td>0.218051</td>\n",
       "    </tr>\n",
       "    <tr>\n",
       "      <th>2</th>\n",
       "      <td>0.868210</td>\n",
       "      <td>1.876720</td>\n",
       "      <td>0.278527</td>\n",
       "      <td>-0.051907</td>\n",
       "      <td>2.159446</td>\n",
       "      <td>0.372264</td>\n",
       "      <td>1.157184</td>\n",
       "      <td>0.469902</td>\n",
       "      <td>0.150821</td>\n",
       "      <td>2.039796</td>\n",
       "      <td>...</td>\n",
       "      <td>-0.055353</td>\n",
       "      <td>-1.638039</td>\n",
       "      <td>0.782851</td>\n",
       "      <td>-0.808737</td>\n",
       "      <td>0.091398</td>\n",
       "      <td>0.094051</td>\n",
       "      <td>0.410088</td>\n",
       "      <td>0.294533</td>\n",
       "      <td>0.028503</td>\n",
       "      <td>0.010836</td>\n",
       "    </tr>\n",
       "    <tr>\n",
       "      <th>3</th>\n",
       "      <td>0.006714</td>\n",
       "      <td>1.504355</td>\n",
       "      <td>-0.066364</td>\n",
       "      <td>0.418051</td>\n",
       "      <td>2.265805</td>\n",
       "      <td>0.178670</td>\n",
       "      <td>0.823622</td>\n",
       "      <td>0.664158</td>\n",
       "      <td>0.149550</td>\n",
       "      <td>-1.205073</td>\n",
       "      <td>...</td>\n",
       "      <td>-0.629897</td>\n",
       "      <td>-1.904379</td>\n",
       "      <td>0.544011</td>\n",
       "      <td>-0.746161</td>\n",
       "      <td>0.091398</td>\n",
       "      <td>0.094051</td>\n",
       "      <td>5.725927</td>\n",
       "      <td>5.829973</td>\n",
       "      <td>0.391163</td>\n",
       "      <td>0.552786</td>\n",
       "    </tr>\n",
       "    <tr>\n",
       "      <th>4</th>\n",
       "      <td>0.444251</td>\n",
       "      <td>1.380308</td>\n",
       "      <td>-0.004622</td>\n",
       "      <td>-0.263795</td>\n",
       "      <td>2.021307</td>\n",
       "      <td>0.245187</td>\n",
       "      <td>1.095154</td>\n",
       "      <td>0.252112</td>\n",
       "      <td>0.115493</td>\n",
       "      <td>-0.741520</td>\n",
       "      <td>...</td>\n",
       "      <td>-0.651171</td>\n",
       "      <td>-1.495421</td>\n",
       "      <td>0.337533</td>\n",
       "      <td>-0.769647</td>\n",
       "      <td>0.091398</td>\n",
       "      <td>0.094051</td>\n",
       "      <td>0.449206</td>\n",
       "      <td>0.505704</td>\n",
       "      <td>-1.152199</td>\n",
       "      <td>-0.812885</td>\n",
       "    </tr>\n",
       "  </tbody>\n",
       "</table>\n",
       "<p>5 rows × 79 columns</p>\n",
       "</div>"
      ],
      "text/plain": [
       "   feature_00  feature_01  feature_02  feature_03  feature_04  feature_05  \\\n",
       "0    0.499511    1.391589    0.059656    0.118239    2.393372    0.200274   \n",
       "1   -0.084500    1.543200    0.347949   -0.024597    1.873222    0.353507   \n",
       "2    0.868210    1.876720    0.278527   -0.051907    2.159446    0.372264   \n",
       "3    0.006714    1.504355   -0.066364    0.418051    2.265805    0.178670   \n",
       "4    0.444251    1.380308   -0.004622   -0.263795    2.021307    0.245187   \n",
       "\n",
       "   feature_06  feature_07  feature_08  feature_09  ...  feature_69  \\\n",
       "0    1.033240    0.507069    0.130217   -0.910085  ...    0.985952   \n",
       "1    1.085249    0.531814    0.131020   -0.910085  ...    0.245522   \n",
       "2    1.157184    0.469902    0.150821    2.039796  ...   -0.055353   \n",
       "3    0.823622    0.664158    0.149550   -1.205073  ...   -0.629897   \n",
       "4    1.095154    0.252112    0.115493   -0.741520  ...   -0.651171   \n",
       "\n",
       "   feature_70  feature_71  feature_72  feature_73  feature_74  feature_75  \\\n",
       "0   -1.250955    2.510017   -0.256836    0.091398    0.094051    3.447852   \n",
       "1   -1.252480    0.684429   -0.634124    0.091398    0.094051    0.972306   \n",
       "2   -1.638039    0.782851   -0.808737    0.091398    0.094051    0.410088   \n",
       "3   -1.904379    0.544011   -0.746161    0.091398    0.094051    5.725927   \n",
       "4   -1.495421    0.337533   -0.769647    0.091398    0.094051    0.449206   \n",
       "\n",
       "   feature_76  feature_77  feature_78  \n",
       "0    3.021115    0.844592    0.985976  \n",
       "1    1.330793    0.232393    0.218051  \n",
       "2    0.294533    0.028503    0.010836  \n",
       "3    5.829973    0.391163    0.552786  \n",
       "4    0.505704   -1.152199   -0.812885  \n",
       "\n",
       "[5 rows x 79 columns]"
      ]
     },
     "execution_count": 7,
     "metadata": {},
     "output_type": "execute_result"
    }
   ],
   "source": [
    "tmp_normed.head()"
   ]
  },
  {
   "cell_type": "code",
   "execution_count": 8,
   "id": "a4d70dbc",
   "metadata": {
    "execution": {
     "iopub.execute_input": "2025-01-07T08:26:43.327435Z",
     "iopub.status.busy": "2025-01-07T08:26:43.327046Z",
     "iopub.status.idle": "2025-01-07T08:26:50.939677Z",
     "shell.execute_reply": "2025-01-07T08:26:50.938523Z"
    },
    "papermill": {
     "duration": 7.622284,
     "end_time": "2025-01-07T08:26:50.942913",
     "exception": false,
     "start_time": "2025-01-07T08:26:43.320629",
     "status": "completed"
    },
    "tags": []
   },
   "outputs": [
    {
     "name": "stderr",
     "output_type": "stream",
     "text": [
      "/tmp/ipykernel_17/3479842813.py:1: FutureWarning: Setting an item of incompatible dtype is deprecated and will raise in a future error of pandas. Value '[-0.91008504 -0.91008504  2.0397964  ...  0.69127917  0.05916172\n",
      "  0.73342033]' has dtype incompatible with int8, please explicitly cast to a compatible dtype first.\n",
      "  train.update(tmp_normed)\n",
      "/tmp/ipykernel_17/3479842813.py:1: FutureWarning: Setting an item of incompatible dtype is deprecated and will raise in a future error of pandas. Value '[ 0.64037956  0.64037956 -0.92863367 ...  0.64037956 -0.30102838\n",
      " -1.24243631]' has dtype incompatible with int8, please explicitly cast to a compatible dtype first.\n",
      "  train.update(tmp_normed)\n",
      "/tmp/ipykernel_17/3479842813.py:1: FutureWarning: Setting an item of incompatible dtype is deprecated and will raise in a future error of pandas. Value '[-0.56076408 -0.56076408 -0.66477452 ...  0.79137163  0.28355596\n",
      "  2.16798039]' has dtype incompatible with int16, please explicitly cast to a compatible dtype first.\n",
      "  train.update(tmp_normed)\n"
     ]
    },
    {
     "data": {
      "text/html": [
       "<div>\n",
       "<style scoped>\n",
       "    .dataframe tbody tr th:only-of-type {\n",
       "        vertical-align: middle;\n",
       "    }\n",
       "\n",
       "    .dataframe tbody tr th {\n",
       "        vertical-align: top;\n",
       "    }\n",
       "\n",
       "    .dataframe thead th {\n",
       "        text-align: right;\n",
       "    }\n",
       "</style>\n",
       "<table border=\"1\" class=\"dataframe\">\n",
       "  <thead>\n",
       "    <tr style=\"text-align: right;\">\n",
       "      <th></th>\n",
       "      <th>id</th>\n",
       "      <th>date_id</th>\n",
       "      <th>time_id</th>\n",
       "      <th>symbol_id</th>\n",
       "      <th>weight</th>\n",
       "      <th>feature_00</th>\n",
       "      <th>feature_01</th>\n",
       "      <th>feature_02</th>\n",
       "      <th>feature_03</th>\n",
       "      <th>feature_04</th>\n",
       "      <th>...</th>\n",
       "      <th>responder_1</th>\n",
       "      <th>responder_2</th>\n",
       "      <th>responder_3</th>\n",
       "      <th>responder_4</th>\n",
       "      <th>responder_5</th>\n",
       "      <th>responder_6</th>\n",
       "      <th>responder_7</th>\n",
       "      <th>responder_8</th>\n",
       "      <th>partition_id</th>\n",
       "      <th>label</th>\n",
       "    </tr>\n",
       "  </thead>\n",
       "  <tbody>\n",
       "    <tr>\n",
       "      <th>0</th>\n",
       "      <td>40852762</td>\n",
       "      <td>1530</td>\n",
       "      <td>0</td>\n",
       "      <td>0</td>\n",
       "      <td>3.084694</td>\n",
       "      <td>0.499511</td>\n",
       "      <td>1.391589</td>\n",
       "      <td>0.059656</td>\n",
       "      <td>0.118239</td>\n",
       "      <td>2.393372</td>\n",
       "      <td>...</td>\n",
       "      <td>0.323897</td>\n",
       "      <td>0.601499</td>\n",
       "      <td>2.074103</td>\n",
       "      <td>0.746552</td>\n",
       "      <td>0.552013</td>\n",
       "      <td>3.071231</td>\n",
       "      <td>0.914794</td>\n",
       "      <td>0.997124</td>\n",
       "      <td>9</td>\n",
       "      <td>6</td>\n",
       "    </tr>\n",
       "    <tr>\n",
       "      <th>1</th>\n",
       "      <td>40852763</td>\n",
       "      <td>1530</td>\n",
       "      <td>0</td>\n",
       "      <td>1</td>\n",
       "      <td>2.232906</td>\n",
       "      <td>-0.084500</td>\n",
       "      <td>1.543200</td>\n",
       "      <td>0.347949</td>\n",
       "      <td>-0.024597</td>\n",
       "      <td>1.873222</td>\n",
       "      <td>...</td>\n",
       "      <td>-0.399384</td>\n",
       "      <td>-0.635306</td>\n",
       "      <td>2.092151</td>\n",
       "      <td>0.342582</td>\n",
       "      <td>0.757289</td>\n",
       "      <td>1.979042</td>\n",
       "      <td>0.967537</td>\n",
       "      <td>1.219739</td>\n",
       "      <td>9</td>\n",
       "      <td>3</td>\n",
       "    </tr>\n",
       "    <tr>\n",
       "      <th>2</th>\n",
       "      <td>40852764</td>\n",
       "      <td>1530</td>\n",
       "      <td>0</td>\n",
       "      <td>2</td>\n",
       "      <td>2.404948</td>\n",
       "      <td>0.868210</td>\n",
       "      <td>1.876720</td>\n",
       "      <td>0.278527</td>\n",
       "      <td>-0.051907</td>\n",
       "      <td>2.159446</td>\n",
       "      <td>...</td>\n",
       "      <td>-0.006571</td>\n",
       "      <td>0.518870</td>\n",
       "      <td>-0.344441</td>\n",
       "      <td>0.641694</td>\n",
       "      <td>-0.646040</td>\n",
       "      <td>-0.506260</td>\n",
       "      <td>0.739797</td>\n",
       "      <td>-2.041514</td>\n",
       "      <td>9</td>\n",
       "      <td>-1</td>\n",
       "    </tr>\n",
       "    <tr>\n",
       "      <th>3</th>\n",
       "      <td>40852765</td>\n",
       "      <td>1530</td>\n",
       "      <td>0</td>\n",
       "      <td>3</td>\n",
       "      <td>1.986533</td>\n",
       "      <td>0.006714</td>\n",
       "      <td>1.504355</td>\n",
       "      <td>-0.066364</td>\n",
       "      <td>0.418051</td>\n",
       "      <td>2.265805</td>\n",
       "      <td>...</td>\n",
       "      <td>-0.235901</td>\n",
       "      <td>-0.428956</td>\n",
       "      <td>-1.903627</td>\n",
       "      <td>-1.214619</td>\n",
       "      <td>-0.469500</td>\n",
       "      <td>-2.590589</td>\n",
       "      <td>-0.946317</td>\n",
       "      <td>-0.390001</td>\n",
       "      <td>9</td>\n",
       "      <td>-5</td>\n",
       "    </tr>\n",
       "    <tr>\n",
       "      <th>4</th>\n",
       "      <td>40852766</td>\n",
       "      <td>1530</td>\n",
       "      <td>0</td>\n",
       "      <td>4</td>\n",
       "      <td>2.742601</td>\n",
       "      <td>0.444251</td>\n",
       "      <td>1.380308</td>\n",
       "      <td>-0.004622</td>\n",
       "      <td>-0.263795</td>\n",
       "      <td>2.021307</td>\n",
       "      <td>...</td>\n",
       "      <td>-0.209282</td>\n",
       "      <td>-0.095182</td>\n",
       "      <td>-1.598217</td>\n",
       "      <td>0.968505</td>\n",
       "      <td>-0.705594</td>\n",
       "      <td>-1.579623</td>\n",
       "      <td>0.954296</td>\n",
       "      <td>-1.805623</td>\n",
       "      <td>9</td>\n",
       "      <td>-3</td>\n",
       "    </tr>\n",
       "  </tbody>\n",
       "</table>\n",
       "<p>5 rows × 95 columns</p>\n",
       "</div>"
      ],
      "text/plain": [
       "         id  date_id  time_id  symbol_id    weight  feature_00  feature_01  \\\n",
       "0  40852762     1530        0          0  3.084694    0.499511    1.391589   \n",
       "1  40852763     1530        0          1  2.232906   -0.084500    1.543200   \n",
       "2  40852764     1530        0          2  2.404948    0.868210    1.876720   \n",
       "3  40852765     1530        0          3  1.986533    0.006714    1.504355   \n",
       "4  40852766     1530        0          4  2.742601    0.444251    1.380308   \n",
       "\n",
       "   feature_02  feature_03  feature_04  ...  responder_1  responder_2  \\\n",
       "0    0.059656    0.118239    2.393372  ...     0.323897     0.601499   \n",
       "1    0.347949   -0.024597    1.873222  ...    -0.399384    -0.635306   \n",
       "2    0.278527   -0.051907    2.159446  ...    -0.006571     0.518870   \n",
       "3   -0.066364    0.418051    2.265805  ...    -0.235901    -0.428956   \n",
       "4   -0.004622   -0.263795    2.021307  ...    -0.209282    -0.095182   \n",
       "\n",
       "   responder_3  responder_4  responder_5  responder_6  responder_7  \\\n",
       "0     2.074103     0.746552     0.552013     3.071231     0.914794   \n",
       "1     2.092151     0.342582     0.757289     1.979042     0.967537   \n",
       "2    -0.344441     0.641694    -0.646040    -0.506260     0.739797   \n",
       "3    -1.903627    -1.214619    -0.469500    -2.590589    -0.946317   \n",
       "4    -1.598217     0.968505    -0.705594    -1.579623     0.954296   \n",
       "\n",
       "   responder_8  partition_id  label  \n",
       "0     0.997124             9      6  \n",
       "1     1.219739             9      3  \n",
       "2    -2.041514             9     -1  \n",
       "3    -0.390001             9     -5  \n",
       "4    -1.805623             9     -3  \n",
       "\n",
       "[5 rows x 95 columns]"
      ]
     },
     "execution_count": 8,
     "metadata": {},
     "output_type": "execute_result"
    }
   ],
   "source": [
    "train.update(tmp_normed)\n",
    "train.head()"
   ]
  },
  {
   "cell_type": "code",
   "execution_count": 9,
   "id": "b8c169fc",
   "metadata": {
    "execution": {
     "iopub.execute_input": "2025-01-07T08:26:50.956231Z",
     "iopub.status.busy": "2025-01-07T08:26:50.955848Z",
     "iopub.status.idle": "2025-01-07T08:26:54.824578Z",
     "shell.execute_reply": "2025-01-07T08:26:54.823356Z"
    },
    "papermill": {
     "duration": 3.878608,
     "end_time": "2025-01-07T08:26:54.827355",
     "exception": false,
     "start_time": "2025-01-07T08:26:50.948747",
     "status": "completed"
    },
    "tags": []
   },
   "outputs": [],
   "source": [
    "train = pl.DataFrame(train)"
   ]
  },
  {
   "cell_type": "markdown",
   "id": "b2c0af1b",
   "metadata": {
    "papermill": {
     "duration": 0.005369,
     "end_time": "2025-01-07T08:26:54.838757",
     "exception": false,
     "start_time": "2025-01-07T08:26:54.833388",
     "status": "completed"
    },
    "tags": []
   },
   "source": [
    "# Create Lags data from training data"
   ]
  },
  {
   "cell_type": "code",
   "execution_count": 10,
   "id": "67333d5d",
   "metadata": {
    "execution": {
     "iopub.execute_input": "2025-01-07T08:26:54.851578Z",
     "iopub.status.busy": "2025-01-07T08:26:54.851147Z",
     "iopub.status.idle": "2025-01-07T08:26:55.098814Z",
     "shell.execute_reply": "2025-01-07T08:26:55.097562Z"
    },
    "papermill": {
     "duration": 0.256906,
     "end_time": "2025-01-07T08:26:55.101171",
     "exception": false,
     "start_time": "2025-01-07T08:26:54.844265",
     "status": "completed"
    },
    "tags": []
   },
   "outputs": [
    {
     "data": {
      "text/html": [
       "<div><style>\n",
       ".dataframe > thead > tr,\n",
       ".dataframe > tbody > tr {\n",
       "  text-align: right;\n",
       "  white-space: pre-wrap;\n",
       "}\n",
       "</style>\n",
       "<small>shape: (6_482, 11)</small><table border=\"1\" class=\"dataframe\"><thead><tr><th>date_id</th><th>symbol_id</th><th>responder_0_lag_1</th><th>responder_1_lag_1</th><th>responder_2_lag_1</th><th>responder_3_lag_1</th><th>responder_4_lag_1</th><th>responder_5_lag_1</th><th>responder_6_lag_1</th><th>responder_7_lag_1</th><th>responder_8_lag_1</th></tr><tr><td>i16</td><td>i8</td><td>f32</td><td>f32</td><td>f32</td><td>f32</td><td>f32</td><td>f32</td><td>f32</td><td>f32</td><td>f32</td></tr></thead><tbody><tr><td>1531</td><td>0</td><td>-0.111643</td><td>-0.098582</td><td>-2.035532</td><td>0.772288</td><td>0.356617</td><td>-0.269562</td><td>-0.042934</td><td>0.009101</td><td>-0.106585</td></tr><tr><td>1531</td><td>1</td><td>1.982551</td><td>0.174802</td><td>2.422206</td><td>0.574457</td><td>0.197794</td><td>0.750299</td><td>-0.263879</td><td>-0.138759</td><td>-0.672006</td></tr><tr><td>1531</td><td>2</td><td>-0.658825</td><td>-0.717583</td><td>-0.137797</td><td>0.549591</td><td>0.308446</td><td>0.166129</td><td>-0.130733</td><td>-0.055674</td><td>-0.452719</td></tr><tr><td>1531</td><td>3</td><td>1.554449</td><td>0.562713</td><td>-0.514036</td><td>0.353216</td><td>0.235419</td><td>-0.11215</td><td>-0.087656</td><td>-0.010191</td><td>-0.223291</td></tr><tr><td>1531</td><td>4</td><td>0.500255</td><td>0.198204</td><td>2.345295</td><td>0.172461</td><td>0.09778</td><td>0.780662</td><td>-0.157494</td><td>-0.062953</td><td>-0.330664</td></tr><tr><td>&hellip;</td><td>&hellip;</td><td>&hellip;</td><td>&hellip;</td><td>&hellip;</td><td>&hellip;</td><td>&hellip;</td><td>&hellip;</td><td>&hellip;</td><td>&hellip;</td><td>&hellip;</td></tr><tr><td>1699</td><td>34</td><td>0.243475</td><td>0.166927</td><td>0.38494</td><td>-0.174297</td><td>-0.066046</td><td>-0.038767</td><td>-0.132337</td><td>-0.022426</td><td>-0.252461</td></tr><tr><td>1699</td><td>35</td><td>0.850152</td><td>0.909382</td><td>1.015314</td><td>0.235962</td><td>0.122539</td><td>0.099559</td><td>-0.249584</td><td>-0.123571</td><td>-0.46063</td></tr><tr><td>1699</td><td>36</td><td>0.395684</td><td>-0.292574</td><td>-3.215846</td><td>-0.535129</td><td>-0.178484</td><td>-1.80815</td><td>-0.065355</td><td>-0.000367</td><td>-0.12517</td></tr><tr><td>1699</td><td>37</td><td>1.925987</td><td>0.479394</td><td>3.621867</td><td>-0.107114</td><td>-0.063599</td><td>1.204755</td><td>-0.148711</td><td>-0.026583</td><td>-0.256395</td></tr><tr><td>1699</td><td>38</td><td>1.228778</td><td>0.512562</td><td>-0.050865</td><td>0.160883</td><td>0.080756</td><td>-0.078237</td><td>-0.138548</td><td>-0.038771</td><td>-0.21194</td></tr></tbody></table></div>"
      ],
      "text/plain": [
       "shape: (6_482, 11)\n",
       "┌─────────┬───────────┬────────────┬───────────┬───┬───────────┬───────────┬───────────┬───────────┐\n",
       "│ date_id ┆ symbol_id ┆ responder_ ┆ responder ┆ … ┆ responder ┆ responder ┆ responder ┆ responder │\n",
       "│ ---     ┆ ---       ┆ 0_lag_1    ┆ _1_lag_1  ┆   ┆ _5_lag_1  ┆ _6_lag_1  ┆ _7_lag_1  ┆ _8_lag_1  │\n",
       "│ i16     ┆ i8        ┆ ---        ┆ ---       ┆   ┆ ---       ┆ ---       ┆ ---       ┆ ---       │\n",
       "│         ┆           ┆ f32        ┆ f32       ┆   ┆ f32       ┆ f32       ┆ f32       ┆ f32       │\n",
       "╞═════════╪═══════════╪════════════╪═══════════╪═══╪═══════════╪═══════════╪═══════════╪═══════════╡\n",
       "│ 1531    ┆ 0         ┆ -0.111643  ┆ -0.098582 ┆ … ┆ -0.269562 ┆ -0.042934 ┆ 0.009101  ┆ -0.106585 │\n",
       "│ 1531    ┆ 1         ┆ 1.982551   ┆ 0.174802  ┆ … ┆ 0.750299  ┆ -0.263879 ┆ -0.138759 ┆ -0.672006 │\n",
       "│ 1531    ┆ 2         ┆ -0.658825  ┆ -0.717583 ┆ … ┆ 0.166129  ┆ -0.130733 ┆ -0.055674 ┆ -0.452719 │\n",
       "│ 1531    ┆ 3         ┆ 1.554449   ┆ 0.562713  ┆ … ┆ -0.11215  ┆ -0.087656 ┆ -0.010191 ┆ -0.223291 │\n",
       "│ 1531    ┆ 4         ┆ 0.500255   ┆ 0.198204  ┆ … ┆ 0.780662  ┆ -0.157494 ┆ -0.062953 ┆ -0.330664 │\n",
       "│ …       ┆ …         ┆ …          ┆ …         ┆ … ┆ …         ┆ …         ┆ …         ┆ …         │\n",
       "│ 1699    ┆ 34        ┆ 0.243475   ┆ 0.166927  ┆ … ┆ -0.038767 ┆ -0.132337 ┆ -0.022426 ┆ -0.252461 │\n",
       "│ 1699    ┆ 35        ┆ 0.850152   ┆ 0.909382  ┆ … ┆ 0.099559  ┆ -0.249584 ┆ -0.123571 ┆ -0.46063  │\n",
       "│ 1699    ┆ 36        ┆ 0.395684   ┆ -0.292574 ┆ … ┆ -1.80815  ┆ -0.065355 ┆ -0.000367 ┆ -0.12517  │\n",
       "│ 1699    ┆ 37        ┆ 1.925987   ┆ 0.479394  ┆ … ┆ 1.204755  ┆ -0.148711 ┆ -0.026583 ┆ -0.256395 │\n",
       "│ 1699    ┆ 38        ┆ 1.228778   ┆ 0.512562  ┆ … ┆ -0.078237 ┆ -0.138548 ┆ -0.038771 ┆ -0.21194  │\n",
       "└─────────┴───────────┴────────────┴───────────┴───┴───────────┴───────────┴───────────┴───────────┘"
      ]
     },
     "execution_count": 10,
     "metadata": {},
     "output_type": "execute_result"
    }
   ],
   "source": [
    "lags = train.select(pl.col(CONFIG.lag_cols_original))\n",
    "lags = lags.rename(CONFIG.lag_cols_rename)\n",
    "lags = lags.with_columns(\n",
    "    date_id = pl.col('date_id') + 1,  # lagged by 1 day\n",
    "    )\n",
    "lags = lags.group_by([\"date_id\", \"symbol_id\"], maintain_order=True).last()  # pick up last record of previous date\n",
    "lags"
   ]
  },
  {
   "cell_type": "markdown",
   "id": "7ec89c9c",
   "metadata": {
    "papermill": {
     "duration": 0.005555,
     "end_time": "2025-01-07T08:26:55.112619",
     "exception": false,
     "start_time": "2025-01-07T08:26:55.107064",
     "status": "completed"
    },
    "tags": []
   },
   "source": [
    "# Merge training data and lags data"
   ]
  },
  {
   "cell_type": "code",
   "execution_count": 11,
   "id": "2c360bb6",
   "metadata": {
    "execution": {
     "iopub.execute_input": "2025-01-07T08:26:55.126313Z",
     "iopub.status.busy": "2025-01-07T08:26:55.125923Z",
     "iopub.status.idle": "2025-01-07T08:26:55.555115Z",
     "shell.execute_reply": "2025-01-07T08:26:55.553955Z"
    },
    "papermill": {
     "duration": 0.438885,
     "end_time": "2025-01-07T08:26:55.557707",
     "exception": false,
     "start_time": "2025-01-07T08:26:55.118822",
     "status": "completed"
    },
    "tags": []
   },
   "outputs": [
    {
     "data": {
      "text/html": [
       "<div><style>\n",
       ".dataframe > thead > tr,\n",
       ".dataframe > tbody > tr {\n",
       "  text-align: right;\n",
       "  white-space: pre-wrap;\n",
       "}\n",
       "</style>\n",
       "<small>shape: (6_274_576, 104)</small><table border=\"1\" class=\"dataframe\"><thead><tr><th>id</th><th>date_id</th><th>time_id</th><th>symbol_id</th><th>weight</th><th>feature_00</th><th>feature_01</th><th>feature_02</th><th>feature_03</th><th>feature_04</th><th>feature_05</th><th>feature_06</th><th>feature_07</th><th>feature_08</th><th>feature_09</th><th>feature_10</th><th>feature_11</th><th>feature_12</th><th>feature_13</th><th>feature_14</th><th>feature_15</th><th>feature_16</th><th>feature_17</th><th>feature_18</th><th>feature_19</th><th>feature_20</th><th>feature_21</th><th>feature_22</th><th>feature_23</th><th>feature_24</th><th>feature_25</th><th>feature_26</th><th>feature_27</th><th>feature_28</th><th>feature_29</th><th>feature_30</th><th>feature_31</th><th>&hellip;</th><th>feature_62</th><th>feature_63</th><th>feature_64</th><th>feature_65</th><th>feature_66</th><th>feature_67</th><th>feature_68</th><th>feature_69</th><th>feature_70</th><th>feature_71</th><th>feature_72</th><th>feature_73</th><th>feature_74</th><th>feature_75</th><th>feature_76</th><th>feature_77</th><th>feature_78</th><th>responder_0</th><th>responder_1</th><th>responder_2</th><th>responder_3</th><th>responder_4</th><th>responder_5</th><th>responder_6</th><th>responder_7</th><th>responder_8</th><th>partition_id</th><th>label</th><th>responder_0_lag_1</th><th>responder_1_lag_1</th><th>responder_2_lag_1</th><th>responder_3_lag_1</th><th>responder_4_lag_1</th><th>responder_5_lag_1</th><th>responder_6_lag_1</th><th>responder_7_lag_1</th><th>responder_8_lag_1</th></tr><tr><td>u32</td><td>i16</td><td>i16</td><td>i8</td><td>f32</td><td>f32</td><td>f32</td><td>f32</td><td>f32</td><td>f32</td><td>f32</td><td>f32</td><td>f32</td><td>f32</td><td>f64</td><td>f64</td><td>f64</td><td>f32</td><td>f32</td><td>f32</td><td>f32</td><td>f32</td><td>f32</td><td>f32</td><td>f32</td><td>f32</td><td>f32</td><td>f32</td><td>f32</td><td>f32</td><td>f32</td><td>f32</td><td>f32</td><td>f32</td><td>f32</td><td>f32</td><td>f32</td><td>&hellip;</td><td>f32</td><td>f32</td><td>f32</td><td>f32</td><td>f32</td><td>f32</td><td>f32</td><td>f32</td><td>f32</td><td>f32</td><td>f32</td><td>f32</td><td>f32</td><td>f32</td><td>f32</td><td>f32</td><td>f32</td><td>f32</td><td>f32</td><td>f32</td><td>f32</td><td>f32</td><td>f32</td><td>f32</td><td>f32</td><td>f32</td><td>i64</td><td>i32</td><td>f32</td><td>f32</td><td>f32</td><td>f32</td><td>f32</td><td>f32</td><td>f32</td><td>f32</td><td>f32</td></tr></thead><tbody><tr><td>40852762</td><td>1530</td><td>0</td><td>0</td><td>3.084694</td><td>0.499511</td><td>1.391589</td><td>0.059656</td><td>0.118239</td><td>2.393372</td><td>0.200274</td><td>1.03324</td><td>0.507069</td><td>0.130217</td><td>-0.910085</td><td>0.64038</td><td>-0.560764</td><td>-0.779183</td><td>3.765472</td><td>0.400486</td><td>1.991109</td><td>1.245036</td><td>2.024276</td><td>-1.206654</td><td>-2.091535</td><td>0.141268</td><td>-0.662939</td><td>1.792462</td><td>0.756125</td><td>-0.873898</td><td>0.117753</td><td>1.173064</td><td>0.938796</td><td>0.559958</td><td>0.102707</td><td>0.488256</td><td>-0.707417</td><td>&hellip;</td><td>-0.060013</td><td>-0.931456</td><td>-0.252875</td><td>-1.211234</td><td>-1.937454</td><td>-0.323892</td><td>6.011952</td><td>0.985952</td><td>-1.250955</td><td>2.510017</td><td>-0.256836</td><td>0.091398</td><td>0.094051</td><td>3.447852</td><td>3.021115</td><td>0.844592</td><td>0.985976</td><td>0.417462</td><td>0.323897</td><td>0.601499</td><td>2.074103</td><td>0.746552</td><td>0.552013</td><td>3.071231</td><td>0.914794</td><td>0.997124</td><td>9</td><td>6</td><td>null</td><td>null</td><td>null</td><td>null</td><td>null</td><td>null</td><td>null</td><td>null</td><td>null</td></tr><tr><td>40852763</td><td>1530</td><td>0</td><td>1</td><td>2.232906</td><td>-0.0845</td><td>1.5432</td><td>0.347949</td><td>-0.024597</td><td>1.873222</td><td>0.353507</td><td>1.085249</td><td>0.531814</td><td>0.13102</td><td>-0.910085</td><td>0.64038</td><td>-0.560764</td><td>-1.3869</td><td>1.917889</td><td>-0.203604</td><td>1.991109</td><td>0.905414</td><td>2.024276</td><td>-1.436592</td><td>-1.964066</td><td>0.251065</td><td>-0.165011</td><td>0.317551</td><td>0.137221</td><td>-0.603025</td><td>0.766088</td><td>-1.742014</td><td>0.052924</td><td>0.806168</td><td>-0.438616</td><td>0.869968</td><td>-0.064461</td><td>&hellip;</td><td>0.092257</td><td>0.36992</td><td>-0.245319</td><td>-1.666959</td><td>-2.216311</td><td>-0.919993</td><td>3.016481</td><td>0.245522</td><td>-1.25248</td><td>0.684429</td><td>-0.634124</td><td>0.091398</td><td>0.094051</td><td>0.972306</td><td>1.330793</td><td>0.232393</td><td>0.218051</td><td>-0.318671</td><td>-0.399384</td><td>-0.635306</td><td>2.092151</td><td>0.342582</td><td>0.757289</td><td>1.979042</td><td>0.967537</td><td>1.219739</td><td>9</td><td>3</td><td>null</td><td>null</td><td>null</td><td>null</td><td>null</td><td>null</td><td>null</td><td>null</td><td>null</td></tr><tr><td>40852764</td><td>1530</td><td>0</td><td>2</td><td>2.404948</td><td>0.86821</td><td>1.87672</td><td>0.278527</td><td>-0.051907</td><td>2.159446</td><td>0.372264</td><td>1.157184</td><td>0.469902</td><td>0.150821</td><td>2.039796</td><td>-0.928634</td><td>-0.664775</td><td>-1.295046</td><td>2.03526</td><td>-0.277496</td><td>1.991109</td><td>0.276652</td><td>2.024276</td><td>-1.270575</td><td>-1.447565</td><td>0.920898</td><td>-0.769085</td><td>-0.003088</td><td>-0.235416</td><td>-0.942683</td><td>0.187247</td><td>0.786031</td><td>0.991258</td><td>0.252159</td><td>-0.22286</td><td>-0.24872</td><td>-0.827074</td><td>&hellip;</td><td>0.058283</td><td>-0.63556</td><td>0.078729</td><td>-1.471262</td><td>-1.824139</td><td>-0.990994</td><td>1.727234</td><td>-0.055353</td><td>-1.638039</td><td>0.782851</td><td>-0.808737</td><td>0.091398</td><td>0.094051</td><td>0.410088</td><td>0.294533</td><td>0.028503</td><td>0.010836</td><td>0.200878</td><td>-0.006571</td><td>0.51887</td><td>-0.344441</td><td>0.641694</td><td>-0.64604</td><td>-0.50626</td><td>0.739797</td><td>-2.041514</td><td>9</td><td>-1</td><td>null</td><td>null</td><td>null</td><td>null</td><td>null</td><td>null</td><td>null</td><td>null</td><td>null</td></tr><tr><td>40852765</td><td>1530</td><td>0</td><td>3</td><td>1.986533</td><td>0.006714</td><td>1.504355</td><td>-0.066364</td><td>0.418051</td><td>2.265805</td><td>0.17867</td><td>0.823622</td><td>0.664158</td><td>0.14955</td><td>-1.205073</td><td>-0.614831</td><td>-0.958451</td><td>-1.242276</td><td>0.846063</td><td>-0.615656</td><td>1.991109</td><td>2.386341</td><td>2.024276</td><td>-1.891906</td><td>-1.745729</td><td>-0.518283</td><td>-0.543042</td><td>-0.332258</td><td>-1.331192</td><td>-1.252893</td><td>-0.919064</td><td>0.066196</td><td>0.24545</td><td>-0.438845</td><td>-1.334981</td><td>0.038435</td><td>-0.633564</td><td>&hellip;</td><td>-0.013778</td><td>1.774841</td><td>0.422454</td><td>-1.927524</td><td>-1.187028</td><td>-1.101101</td><td>0.891364</td><td>-0.629897</td><td>-1.904379</td><td>0.544011</td><td>-0.746161</td><td>0.091398</td><td>0.094051</td><td>5.725927</td><td>5.829973</td><td>0.391163</td><td>0.552786</td><td>-0.349773</td><td>-0.235901</td><td>-0.428956</td><td>-1.903627</td><td>-1.214619</td><td>-0.4695</td><td>-2.590589</td><td>-0.946317</td><td>-0.390001</td><td>9</td><td>-5</td><td>null</td><td>null</td><td>null</td><td>null</td><td>null</td><td>null</td><td>null</td><td>null</td><td>null</td></tr><tr><td>40852766</td><td>1530</td><td>0</td><td>4</td><td>2.742601</td><td>0.444251</td><td>1.380308</td><td>-0.004622</td><td>-0.263795</td><td>2.021307</td><td>0.245187</td><td>1.095154</td><td>0.252112</td><td>0.115493</td><td>-0.74152</td><td>-1.242436</td><td>-0.970688</td><td>-1.135423</td><td>0.212984</td><td>-0.848328</td><td>1.991109</td><td>-0.037126</td><td>2.024276</td><td>-1.529391</td><td>-1.057173</td><td>-0.223391</td><td>0.382956</td><td>0.215408</td><td>-1.150255</td><td>1.040125</td><td>0.761322</td><td>-2.00925</td><td>-0.500362</td><td>0.20893</td><td>-0.089326</td><td>-1.014103</td><td>0.177179</td><td>&hellip;</td><td>-0.049093</td><td>-0.251247</td><td>-0.28985</td><td>-1.649936</td><td>-1.989867</td><td>-1.246919</td><td>0.181925</td><td>-0.651171</td><td>-1.495421</td><td>0.337533</td><td>-0.769647</td><td>0.091398</td><td>0.094051</td><td>0.449206</td><td>0.505704</td><td>-1.152199</td><td>-0.812885</td><td>-0.373938</td><td>-0.209282</td><td>-0.095182</td><td>-1.598217</td><td>0.968505</td><td>-0.705594</td><td>-1.579623</td><td>0.954296</td><td>-1.805623</td><td>9</td><td>-3</td><td>null</td><td>null</td><td>null</td><td>null</td><td>null</td><td>null</td><td>null</td><td>null</td><td>null</td></tr><tr><td>&hellip;</td><td>&hellip;</td><td>&hellip;</td><td>&hellip;</td><td>&hellip;</td><td>&hellip;</td><td>&hellip;</td><td>&hellip;</td><td>&hellip;</td><td>&hellip;</td><td>&hellip;</td><td>&hellip;</td><td>&hellip;</td><td>&hellip;</td><td>&hellip;</td><td>&hellip;</td><td>&hellip;</td><td>&hellip;</td><td>&hellip;</td><td>&hellip;</td><td>&hellip;</td><td>&hellip;</td><td>&hellip;</td><td>&hellip;</td><td>&hellip;</td><td>&hellip;</td><td>&hellip;</td><td>&hellip;</td><td>&hellip;</td><td>&hellip;</td><td>&hellip;</td><td>&hellip;</td><td>&hellip;</td><td>&hellip;</td><td>&hellip;</td><td>&hellip;</td><td>&hellip;</td><td>&hellip;</td><td>&hellip;</td><td>&hellip;</td><td>&hellip;</td><td>&hellip;</td><td>&hellip;</td><td>&hellip;</td><td>&hellip;</td><td>&hellip;</td><td>&hellip;</td><td>&hellip;</td><td>&hellip;</td><td>&hellip;</td><td>&hellip;</td><td>&hellip;</td><td>&hellip;</td><td>&hellip;</td><td>&hellip;</td><td>&hellip;</td><td>&hellip;</td><td>&hellip;</td><td>&hellip;</td><td>&hellip;</td><td>&hellip;</td><td>&hellip;</td><td>&hellip;</td><td>&hellip;</td><td>&hellip;</td><td>&hellip;</td><td>&hellip;</td><td>&hellip;</td><td>&hellip;</td><td>&hellip;</td><td>&hellip;</td><td>&hellip;</td><td>&hellip;</td><td>&hellip;</td><td>&hellip;</td></tr><tr><td>47127333</td><td>1698</td><td>967</td><td>34</td><td>3.242493</td><td>1.834064</td><td>-0.692533</td><td>1.877867</td><td>1.810274</td><td>0.37647</td><td>0.837775</td><td>1.025435</td><td>2.04858</td><td>0.580161</td><td>0.396291</td><td>0.012774</td><td>-0.108013</td><td>1.400633</td><td>2.12395</td><td>1.734372</td><td>0.20212</td><td>0.875731</td><td>0.675141</td><td>1.788172</td><td>0.077538</td><td>0.235215</td><td>-0.832511</td><td>0.962434</td><td>1.645062</td><td>-2.068691</td><td>-0.997691</td><td>-0.009937</td><td>1.525549</td><td>1.776374</td><td>-0.384962</td><td>-1.131028</td><td>-0.914452</td><td>&hellip;</td><td>-0.005705</td><td>0.473224</td><td>-0.106592</td><td>2.487577</td><td>0.026287</td><td>1.376077</td><td>1.692126</td><td>0.781065</td><td>2.157998</td><td>2.119947</td><td>2.916669</td><td>-0.077589</td><td>-0.080781</td><td>0.238702</td><td>0.332623</td><td>0.027268</td><td>0.086536</td><td>0.243475</td><td>0.166927</td><td>0.38494</td><td>-0.174297</td><td>-0.066046</td><td>-0.038767</td><td>-0.132337</td><td>-0.022426</td><td>-0.252461</td><td>9</td><td>0</td><td>0.501321</td><td>0.905332</td><td>-0.819582</td><td>-0.564046</td><td>-0.223018</td><td>-0.283954</td><td>-0.045938</td><td>0.009797</td><td>-0.102538</td></tr><tr><td>47127334</td><td>1698</td><td>967</td><td>35</td><td>1.079139</td><td>1.184827</td><td>-0.755141</td><td>2.076181</td><td>1.674842</td><td>0.775027</td><td>0.698301</td><td>1.082448</td><td>1.832585</td><td>0.462256</td><td>-0.320109</td><td>0.64038</td><td>0.167309</td><td>0.087845</td><td>-0.132628</td><td>-0.126518</td><td>0.868608</td><td>2.483938</td><td>1.306111</td><td>1.934262</td><td>0.272836</td><td>-0.062922</td><td>-0.603839</td><td>-1.076128</td><td>-0.10295</td><td>-1.588908</td><td>-0.356563</td><td>0.254926</td><td>-0.382045</td><td>-0.64734</td><td>0.961459</td><td>2.086064</td><td>-0.651148</td><td>&hellip;</td><td>0.02379</td><td>0.692436</td><td>0.27386</td><td>2.117333</td><td>0.071481</td><td>0.17848</td><td>-0.061415</td><td>-0.111349</td><td>-0.093604</td><td>-0.048466</td><td>-0.070002</td><td>-0.089227</td><td>-0.067058</td><td>0.897348</td><td>0.650624</td><td>0.098854</td><td>0.117589</td><td>0.850152</td><td>0.909382</td><td>1.015314</td><td>0.235962</td><td>0.122539</td><td>0.099559</td><td>-0.249584</td><td>-0.123571</td><td>-0.46063</td><td>9</td><td>0</td><td>-1.113053</td><td>0.69719</td><td>-1.619031</td><td>-1.222743</td><td>-0.706082</td><td>-0.291133</td><td>0.167733</td><td>0.099704</td><td>0.32461</td></tr><tr><td>47127335</td><td>1698</td><td>967</td><td>36</td><td>1.033172</td><td>1.824691</td><td>-0.647233</td><td>1.627012</td><td>1.853514</td><td>0.224992</td><td>0.976874</td><td>1.074893</td><td>2.031026</td><td>0.370475</td><td>0.691279</td><td>0.64038</td><td>0.791372</td><td>1.732393</td><td>-0.036447</td><td>0.518739</td><td>0.583485</td><td>-0.233439</td><td>0.068235</td><td>2.375662</td><td>0.394305</td><td>0.074088</td><td>-0.603839</td><td>-1.014183</td><td>-0.339718</td><td>-1.75943</td><td>-0.69143</td><td>0.254926</td><td>-0.382045</td><td>-0.616739</td><td>-0.023759</td><td>1.980761</td><td>-0.651148</td><td>&hellip;</td><td>0.025141</td><td>0.741234</td><td>0.083004</td><td>2.314729</td><td>0.682482</td><td>1.83591</td><td>-0.403733</td><td>0.36382</td><td>1.454465</td><td>0.157479</td><td>0.738398</td><td>-0.112124</td><td>-0.054459</td><td>0.07522</td><td>0.081315</td><td>0.222636</td><td>0.210476</td><td>0.395684</td><td>-0.292574</td><td>-3.215846</td><td>-0.535129</td><td>-0.178484</td><td>-1.80815</td><td>-0.065355</td><td>-0.000367</td><td>-0.12517</td><td>9</td><td>0</td><td>-1.019353</td><td>-0.460962</td><td>-2.026678</td><td>-0.848606</td><td>-0.305448</td><td>-1.256913</td><td>-0.109359</td><td>-0.027474</td><td>-0.253956</td></tr><tr><td>47127336</td><td>1698</td><td>967</td><td>37</td><td>1.243116</td><td>1.968472</td><td>-0.84492</td><td>1.65055</td><td>2.423639</td><td>0.289672</td><td>0.664661</td><td>1.087339</td><td>1.492774</td><td>0.459966</td><td>0.059162</td><td>-0.301028</td><td>0.283556</td><td>1.333345</td><td>0.619775</td><td>0.809157</td><td>0.362347</td><td>0.330163</td><td>-0.449639</td><td>1.909002</td><td>0.468912</td><td>-2.183676</td><td>-0.936072</td><td>-0.304789</td><td>-0.1023</td><td>-1.834514</td><td>-0.962381</td><td>0.263791</td><td>0.485418</td><td>0.044742</td><td>-0.012475</td><td>0.300371</td><td>-0.845183</td><td>&hellip;</td><td>0.013538</td><td>1.818338</td><td>0.343466</td><td>2.548679</td><td>0.623139</td><td>1.753471</td><td>-0.168007</td><td>0.412375</td><td>0.886687</td><td>1.573349</td><td>1.054513</td><td>-0.0063</td><td>-0.007983</td><td>0.181613</td><td>0.188594</td><td>0.033585</td><td>0.044044</td><td>1.925987</td><td>0.479394</td><td>3.621867</td><td>-0.107114</td><td>-0.063599</td><td>1.204755</td><td>-0.148711</td><td>-0.026583</td><td>-0.256395</td><td>9</td><td>0</td><td>0.23585</td><td>0.556479</td><td>0.618944</td><td>-0.243765</td><td>-0.108361</td><td>-0.260777</td><td>-0.486923</td><td>-0.275566</td><td>-1.020708</td></tr><tr><td>47127337</td><td>1698</td><td>967</td><td>38</td><td>3.193685</td><td>2.031919</td><td>-0.713739</td><td>2.118863</td><td>1.6783</td><td>0.411126</td><td>0.917685</td><td>0.885877</td><td>1.946853</td><td>0.491628</td><td>0.73342</td><td>-1.242436</td><td>2.16798</td><td>0.806881</td><td>1.195452</td><td>1.706855</td><td>-0.546541</td><td>-0.157449</td><td>0.365783</td><td>0.421056</td><td>1.955646</td><td>-0.426805</td><td>-0.463666</td><td>1.813499</td><td>1.661562</td><td>-1.979779</td><td>-1.164117</td><td>0.616348</td><td>1.000873</td><td>0.670148</td><td>-0.696351</td><td>-0.399368</td><td>-0.442849</td><td>&hellip;</td><td>-0.177072</td><td>-0.408687</td><td>-0.070114</td><td>0.084112</td><td>1.989527</td><td>0.600266</td><td>0.606074</td><td>0.559524</td><td>0.863429</td><td>1.604977</td><td>1.245315</td><td>-0.255318</td><td>-0.169512</td><td>-0.242767</td><td>-0.147936</td><td>-0.196583</td><td>-0.155777</td><td>1.228778</td><td>0.512562</td><td>-0.050865</td><td>0.160883</td><td>0.080756</td><td>-0.078237</td><td>-0.138548</td><td>-0.038771</td><td>-0.21194</td><td>9</td><td>0</td><td>0.542563</td><td>0.513193</td><td>0.814393</td><td>0.032767</td><td>0.025435</td><td>0.311465</td><td>-0.044797</td><td>0.011133</td><td>-0.0793</td></tr></tbody></table></div>"
      ],
      "text/plain": [
       "shape: (6_274_576, 104)\n",
       "┌──────────┬─────────┬─────────┬───────────┬───┬────────────┬────────────┬────────────┬────────────┐\n",
       "│ id       ┆ date_id ┆ time_id ┆ symbol_id ┆ … ┆ responder_ ┆ responder_ ┆ responder_ ┆ responder_ │\n",
       "│ ---      ┆ ---     ┆ ---     ┆ ---       ┆   ┆ 5_lag_1    ┆ 6_lag_1    ┆ 7_lag_1    ┆ 8_lag_1    │\n",
       "│ u32      ┆ i16     ┆ i16     ┆ i8        ┆   ┆ ---        ┆ ---        ┆ ---        ┆ ---        │\n",
       "│          ┆         ┆         ┆           ┆   ┆ f32        ┆ f32        ┆ f32        ┆ f32        │\n",
       "╞══════════╪═════════╪═════════╪═══════════╪═══╪════════════╪════════════╪════════════╪════════════╡\n",
       "│ 40852762 ┆ 1530    ┆ 0       ┆ 0         ┆ … ┆ null       ┆ null       ┆ null       ┆ null       │\n",
       "│ 40852763 ┆ 1530    ┆ 0       ┆ 1         ┆ … ┆ null       ┆ null       ┆ null       ┆ null       │\n",
       "│ 40852764 ┆ 1530    ┆ 0       ┆ 2         ┆ … ┆ null       ┆ null       ┆ null       ┆ null       │\n",
       "│ 40852765 ┆ 1530    ┆ 0       ┆ 3         ┆ … ┆ null       ┆ null       ┆ null       ┆ null       │\n",
       "│ 40852766 ┆ 1530    ┆ 0       ┆ 4         ┆ … ┆ null       ┆ null       ┆ null       ┆ null       │\n",
       "│ …        ┆ …       ┆ …       ┆ …         ┆ … ┆ …          ┆ …          ┆ …          ┆ …          │\n",
       "│ 47127333 ┆ 1698    ┆ 967     ┆ 34        ┆ … ┆ -0.283954  ┆ -0.045938  ┆ 0.009797   ┆ -0.102538  │\n",
       "│ 47127334 ┆ 1698    ┆ 967     ┆ 35        ┆ … ┆ -0.291133  ┆ 0.167733   ┆ 0.099704   ┆ 0.32461    │\n",
       "│ 47127335 ┆ 1698    ┆ 967     ┆ 36        ┆ … ┆ -1.256913  ┆ -0.109359  ┆ -0.027474  ┆ -0.253956  │\n",
       "│ 47127336 ┆ 1698    ┆ 967     ┆ 37        ┆ … ┆ -0.260777  ┆ -0.486923  ┆ -0.275566  ┆ -1.020708  │\n",
       "│ 47127337 ┆ 1698    ┆ 967     ┆ 38        ┆ … ┆ 0.311465   ┆ -0.044797  ┆ 0.011133   ┆ -0.0793    │\n",
       "└──────────┴─────────┴─────────┴───────────┴───┴────────────┴────────────┴────────────┴────────────┘"
      ]
     },
     "execution_count": 11,
     "metadata": {},
     "output_type": "execute_result"
    }
   ],
   "source": [
    "train = train.join(lags, on=[\"date_id\", \"symbol_id\"],  how=\"left\")\n",
    "train"
   ]
  },
  {
   "cell_type": "markdown",
   "id": "09513073",
   "metadata": {
    "papermill": {
     "duration": 0.005899,
     "end_time": "2025-01-07T08:26:55.569974",
     "exception": false,
     "start_time": "2025-01-07T08:26:55.564075",
     "status": "completed"
    },
    "tags": []
   },
   "source": [
    "# Split training data and validation data"
   ]
  },
  {
   "cell_type": "code",
   "execution_count": 12,
   "id": "a6969fcf",
   "metadata": {
    "execution": {
     "iopub.execute_input": "2025-01-07T08:26:55.583874Z",
     "iopub.status.busy": "2025-01-07T08:26:55.583458Z",
     "iopub.status.idle": "2025-01-07T08:26:55.706088Z",
     "shell.execute_reply": "2025-01-07T08:26:55.704755Z"
    },
    "papermill": {
     "duration": 0.132407,
     "end_time": "2025-01-07T08:26:55.708378",
     "exception": false,
     "start_time": "2025-01-07T08:26:55.575971",
     "status": "completed"
    },
    "tags": []
   },
   "outputs": [
    {
     "name": "stdout",
     "output_type": "stream",
     "text": [
      "\n",
      " len_train = 6274576\n",
      "\n",
      " len_ofl_mdl = 5960848\n",
      "\n",
      "---> Last offline train date = 1690\n",
      "\n"
     ]
    }
   ],
   "source": [
    "len_train   = train.select(pl.col(\"date_id\")).shape[0]\n",
    "valid_records = int(len_train * CONFIG.valid_ratio)\n",
    "len_ofl_mdl = len_train - valid_records\n",
    "last_tr_dt  = train.select(pl.col(\"date_id\")).row(len_ofl_mdl)[0]\n",
    "\n",
    "print(f\"\\n len_train = {len_train}\")\n",
    "print(f\"\\n len_ofl_mdl = {len_ofl_mdl}\")\n",
    "print(f\"\\n---> Last offline train date = {last_tr_dt}\\n\")\n",
    "\n",
    "training_data = train.filter(pl.col(\"date_id\").le(last_tr_dt))\n",
    "validation_data = train.filter(pl.col(\"date_id\").gt(last_tr_dt))"
   ]
  },
  {
   "cell_type": "code",
   "execution_count": 13,
   "id": "64b04f50",
   "metadata": {
    "execution": {
     "iopub.execute_input": "2025-01-07T08:26:55.723494Z",
     "iopub.status.busy": "2025-01-07T08:26:55.722723Z",
     "iopub.status.idle": "2025-01-07T08:26:55.739957Z",
     "shell.execute_reply": "2025-01-07T08:26:55.738814Z"
    },
    "papermill": {
     "duration": 0.027114,
     "end_time": "2025-01-07T08:26:55.742191",
     "exception": false,
     "start_time": "2025-01-07T08:26:55.715077",
     "status": "completed"
    },
    "tags": []
   },
   "outputs": [
    {
     "data": {
      "text/html": [
       "<div><style>\n",
       ".dataframe > thead > tr,\n",
       ".dataframe > tbody > tr {\n",
       "  text-align: right;\n",
       "  white-space: pre-wrap;\n",
       "}\n",
       "</style>\n",
       "<small>shape: (301_048, 104)</small><table border=\"1\" class=\"dataframe\"><thead><tr><th>id</th><th>date_id</th><th>time_id</th><th>symbol_id</th><th>weight</th><th>feature_00</th><th>feature_01</th><th>feature_02</th><th>feature_03</th><th>feature_04</th><th>feature_05</th><th>feature_06</th><th>feature_07</th><th>feature_08</th><th>feature_09</th><th>feature_10</th><th>feature_11</th><th>feature_12</th><th>feature_13</th><th>feature_14</th><th>feature_15</th><th>feature_16</th><th>feature_17</th><th>feature_18</th><th>feature_19</th><th>feature_20</th><th>feature_21</th><th>feature_22</th><th>feature_23</th><th>feature_24</th><th>feature_25</th><th>feature_26</th><th>feature_27</th><th>feature_28</th><th>feature_29</th><th>feature_30</th><th>feature_31</th><th>&hellip;</th><th>feature_62</th><th>feature_63</th><th>feature_64</th><th>feature_65</th><th>feature_66</th><th>feature_67</th><th>feature_68</th><th>feature_69</th><th>feature_70</th><th>feature_71</th><th>feature_72</th><th>feature_73</th><th>feature_74</th><th>feature_75</th><th>feature_76</th><th>feature_77</th><th>feature_78</th><th>responder_0</th><th>responder_1</th><th>responder_2</th><th>responder_3</th><th>responder_4</th><th>responder_5</th><th>responder_6</th><th>responder_7</th><th>responder_8</th><th>partition_id</th><th>label</th><th>responder_0_lag_1</th><th>responder_1_lag_1</th><th>responder_2_lag_1</th><th>responder_3_lag_1</th><th>responder_4_lag_1</th><th>responder_5_lag_1</th><th>responder_6_lag_1</th><th>responder_7_lag_1</th><th>responder_8_lag_1</th></tr><tr><td>u32</td><td>i16</td><td>i16</td><td>i8</td><td>f32</td><td>f32</td><td>f32</td><td>f32</td><td>f32</td><td>f32</td><td>f32</td><td>f32</td><td>f32</td><td>f32</td><td>f64</td><td>f64</td><td>f64</td><td>f32</td><td>f32</td><td>f32</td><td>f32</td><td>f32</td><td>f32</td><td>f32</td><td>f32</td><td>f32</td><td>f32</td><td>f32</td><td>f32</td><td>f32</td><td>f32</td><td>f32</td><td>f32</td><td>f32</td><td>f32</td><td>f32</td><td>f32</td><td>&hellip;</td><td>f32</td><td>f32</td><td>f32</td><td>f32</td><td>f32</td><td>f32</td><td>f32</td><td>f32</td><td>f32</td><td>f32</td><td>f32</td><td>f32</td><td>f32</td><td>f32</td><td>f32</td><td>f32</td><td>f32</td><td>f32</td><td>f32</td><td>f32</td><td>f32</td><td>f32</td><td>f32</td><td>f32</td><td>f32</td><td>f32</td><td>i64</td><td>i32</td><td>f32</td><td>f32</td><td>f32</td><td>f32</td><td>f32</td><td>f32</td><td>f32</td><td>f32</td><td>f32</td></tr></thead><tbody><tr><td>46826290</td><td>1691</td><td>0</td><td>0</td><td>3.725687</td><td>2.174799</td><td>1.700422</td><td>1.777762</td><td>1.611958</td><td>-1.784994</td><td>0.136469</td><td>-0.894757</td><td>-0.451468</td><td>-0.197641</td><td>-0.910085</td><td>0.64038</td><td>-0.560764</td><td>-1.398536</td><td>4.603804</td><td>0.307726</td><td>0.422075</td><td>1.602574</td><td>-0.081417</td><td>-1.81812</td><td>-1.44895</td><td>1.936515</td><td>-0.582772</td><td>1.975919</td><td>1.261393</td><td>-0.69666</td><td>1.142125</td><td>1.073541</td><td>1.592272</td><td>0.816611</td><td>-1.488494</td><td>-0.631275</td><td>-0.541859</td><td>&hellip;</td><td>0.000368</td><td>0.230374</td><td>-0.096989</td><td>-1.431326</td><td>-1.395397</td><td>-1.083865</td><td>2.400614</td><td>-0.099187</td><td>-0.886815</td><td>6.595269</td><td>0.900937</td><td>-0.082144</td><td>-0.141269</td><td>3.244081</td><td>5.320797</td><td>3.177561</td><td>4.122289</td><td>-0.300887</td><td>0.024018</td><td>0.26636</td><td>-1.846393</td><td>-1.319574</td><td>-1.649363</td><td>-2.37614</td><td>-2.129162</td><td>-3.700761</td><td>9</td><td>-4</td><td>-0.220147</td><td>-0.263234</td><td>0.314635</td><td>0.003016</td><td>0.004875</td><td>0.164086</td><td>0.015148</td><td>0.024748</td><td>0.016193</td></tr><tr><td>46826291</td><td>1691</td><td>0</td><td>1</td><td>3.344007</td><td>1.926211</td><td>0.856727</td><td>1.87192</td><td>1.355163</td><td>-2.649967</td><td>0.177514</td><td>-0.708286</td><td>-0.464213</td><td>-0.240851</td><td>-0.910085</td><td>0.64038</td><td>-0.560764</td><td>-1.382643</td><td>1.560727</td><td>-0.423562</td><td>0.422075</td><td>1.974938</td><td>-0.081417</td><td>-2.787019</td><td>-1.439849</td><td>1.804608</td><td>-0.09051</td><td>1.624237</td><td>0.996693</td><td>-1.063224</td><td>0.076583</td><td>-1.059632</td><td>0.324185</td><td>1.11346</td><td>-0.106605</td><td>0.37774</td><td>-0.122139</td><td>&hellip;</td><td>0.07158</td><td>0.453076</td><td>0.337309</td><td>-1.504624</td><td>-1.604561</td><td>-0.975691</td><td>0.954613</td><td>-0.754664</td><td>-1.328763</td><td>2.22035</td><td>-0.139829</td><td>-0.082144</td><td>-0.141269</td><td>1.168534</td><td>2.221594</td><td>0.482529</td><td>0.402646</td><td>-0.138919</td><td>-0.002569</td><td>0.175624</td><td>-2.282696</td><td>-2.430525</td><td>-3.05395</td><td>-3.764602</td><td>-2.666663</td><td>-5.0</td><td>9</td><td>-7</td><td>-1.077176</td><td>-0.22724</td><td>0.145465</td><td>0.119212</td><td>0.0406</td><td>0.258023</td><td>0.146226</td><td>0.08656</td><td>0.273702</td></tr><tr><td>46826292</td><td>1691</td><td>0</td><td>2</td><td>2.97724</td><td>1.217192</td><td>1.166066</td><td>1.794446</td><td>1.498346</td><td>-2.317598</td><td>0.131342</td><td>-0.752495</td><td>-0.754113</td><td>-0.426893</td><td>2.039796</td><td>-0.928634</td><td>-0.664775</td><td>-0.684741</td><td>1.151628</td><td>-0.34019</td><td>0.422075</td><td>0.257135</td><td>-0.081417</td><td>-0.738676</td><td>-1.815353</td><td>0.122224</td><td>-0.674488</td><td>0.695731</td><td>0.942926</td><td>-1.53274</td><td>-0.409942</td><td>0.898842</td><td>1.14319</td><td>0.398204</td><td>0.531089</td><td>1.530534</td><td>-0.782129</td><td>&hellip;</td><td>0.075425</td><td>0.411855</td><td>0.214407</td><td>-0.968207</td><td>-2.574945</td><td>-1.085329</td><td>1.201904</td><td>-0.509749</td><td>-0.962329</td><td>0.939316</td><td>-0.589747</td><td>-0.082144</td><td>-0.141269</td><td>0.105927</td><td>0.091016</td><td>-0.151619</td><td>-0.093128</td><td>-0.246979</td><td>-0.112181</td><td>-0.920523</td><td>0.785028</td><td>1.981712</td><td>-2.451337</td><td>1.154909</td><td>3.141321</td><td>-0.85232</td><td>9</td><td>2</td><td>-1.273494</td><td>-0.254899</td><td>-0.731619</td><td>0.295771</td><td>0.182442</td><td>-0.137669</td><td>-0.097605</td><td>-0.00902</td><td>-0.20872</td></tr><tr><td>46826293</td><td>1691</td><td>0</td><td>3</td><td>1.978776</td><td>1.40807</td><td>0.843012</td><td>1.916022</td><td>1.768141</td><td>-2.472045</td><td>0.199619</td><td>-1.128111</td><td>-0.609235</td><td>-0.370962</td><td>-1.205073</td><td>-0.614831</td><td>-0.958451</td><td>-0.829923</td><td>3.86456</td><td>0.24509</td><td>0.422075</td><td>1.062493</td><td>-0.081417</td><td>-2.097163</td><td>-2.032649</td><td>0.212301</td><td>-0.425554</td><td>0.37655</td><td>0.7353</td><td>-1.640007</td><td>-0.623054</td><td>0.091123</td><td>0.09971</td><td>-0.085562</td><td>-0.218938</td><td>0.985046</td><td>-0.3913</td><td>&hellip;</td><td>0.233994</td><td>2.304885</td><td>0.879985</td><td>-1.945667</td><td>-3.240269</td><td>-0.971295</td><td>3.960341</td><td>0.144013</td><td>-0.903143</td><td>3.988668</td><td>0.434363</td><td>-0.082144</td><td>-0.141269</td><td>1.123385</td><td>1.559152</td><td>0.196944</td><td>0.202918</td><td>0.085344</td><td>-0.032906</td><td>0.097499</td><td>-0.741609</td><td>-0.503937</td><td>0.042153</td><td>-0.994788</td><td>-0.568593</td><td>-0.002262</td><td>9</td><td>-1</td><td>-1.151294</td><td>-0.786059</td><td>0.122825</td><td>-0.228032</td><td>-0.10892</td><td>0.266399</td><td>0.264185</td><td>0.120004</td><td>0.335621</td></tr><tr><td>46826294</td><td>1691</td><td>0</td><td>4</td><td>2.612476</td><td>1.826925</td><td>1.039475</td><td>1.952895</td><td>2.051906</td><td>-2.64141</td><td>0.082287</td><td>-0.60732</td><td>-0.341058</td><td>-0.120292</td><td>-0.74152</td><td>-1.242436</td><td>-0.970688</td><td>-1.29748</td><td>0.711712</td><td>-0.605696</td><td>0.422075</td><td>-0.387647</td><td>-0.081417</td><td>-1.4871</td><td>-2.63563</td><td>-1.240343</td><td>2.111321</td><td>0.930969</td><td>0.162271</td><td>1.142982</td><td>2.165401</td><td>-1.290798</td><td>-0.7571</td><td>-0.185446</td><td>0.018131</td><td>0.334925</td><td>1.572323</td><td>&hellip;</td><td>-0.00614</td><td>-0.093082</td><td>-0.034937</td><td>-1.071342</td><td>-1.616501</td><td>-1.283037</td><td>0.839491</td><td>-0.559032</td><td>-1.140646</td><td>-0.217996</td><td>-0.889073</td><td>-0.082144</td><td>-0.141269</td><td>0.407777</td><td>0.422105</td><td>-0.063591</td><td>-0.054679</td><td>0.115972</td><td>0.124892</td><td>-0.05685</td><td>0.266993</td><td>0.023727</td><td>-0.544508</td><td>0.337255</td><td>0.019037</td><td>-0.882814</td><td>9</td><td>0</td><td>0.688146</td><td>0.658165</td><td>-0.366572</td><td>-0.078787</td><td>-0.056613</td><td>-0.170136</td><td>-0.007079</td><td>0.023542</td><td>-0.032158</td></tr><tr><td>&hellip;</td><td>&hellip;</td><td>&hellip;</td><td>&hellip;</td><td>&hellip;</td><td>&hellip;</td><td>&hellip;</td><td>&hellip;</td><td>&hellip;</td><td>&hellip;</td><td>&hellip;</td><td>&hellip;</td><td>&hellip;</td><td>&hellip;</td><td>&hellip;</td><td>&hellip;</td><td>&hellip;</td><td>&hellip;</td><td>&hellip;</td><td>&hellip;</td><td>&hellip;</td><td>&hellip;</td><td>&hellip;</td><td>&hellip;</td><td>&hellip;</td><td>&hellip;</td><td>&hellip;</td><td>&hellip;</td><td>&hellip;</td><td>&hellip;</td><td>&hellip;</td><td>&hellip;</td><td>&hellip;</td><td>&hellip;</td><td>&hellip;</td><td>&hellip;</td><td>&hellip;</td><td>&hellip;</td><td>&hellip;</td><td>&hellip;</td><td>&hellip;</td><td>&hellip;</td><td>&hellip;</td><td>&hellip;</td><td>&hellip;</td><td>&hellip;</td><td>&hellip;</td><td>&hellip;</td><td>&hellip;</td><td>&hellip;</td><td>&hellip;</td><td>&hellip;</td><td>&hellip;</td><td>&hellip;</td><td>&hellip;</td><td>&hellip;</td><td>&hellip;</td><td>&hellip;</td><td>&hellip;</td><td>&hellip;</td><td>&hellip;</td><td>&hellip;</td><td>&hellip;</td><td>&hellip;</td><td>&hellip;</td><td>&hellip;</td><td>&hellip;</td><td>&hellip;</td><td>&hellip;</td><td>&hellip;</td><td>&hellip;</td><td>&hellip;</td><td>&hellip;</td><td>&hellip;</td><td>&hellip;</td></tr><tr><td>47127333</td><td>1698</td><td>967</td><td>34</td><td>3.242493</td><td>1.834064</td><td>-0.692533</td><td>1.877867</td><td>1.810274</td><td>0.37647</td><td>0.837775</td><td>1.025435</td><td>2.04858</td><td>0.580161</td><td>0.396291</td><td>0.012774</td><td>-0.108013</td><td>1.400633</td><td>2.12395</td><td>1.734372</td><td>0.20212</td><td>0.875731</td><td>0.675141</td><td>1.788172</td><td>0.077538</td><td>0.235215</td><td>-0.832511</td><td>0.962434</td><td>1.645062</td><td>-2.068691</td><td>-0.997691</td><td>-0.009937</td><td>1.525549</td><td>1.776374</td><td>-0.384962</td><td>-1.131028</td><td>-0.914452</td><td>&hellip;</td><td>-0.005705</td><td>0.473224</td><td>-0.106592</td><td>2.487577</td><td>0.026287</td><td>1.376077</td><td>1.692126</td><td>0.781065</td><td>2.157998</td><td>2.119947</td><td>2.916669</td><td>-0.077589</td><td>-0.080781</td><td>0.238702</td><td>0.332623</td><td>0.027268</td><td>0.086536</td><td>0.243475</td><td>0.166927</td><td>0.38494</td><td>-0.174297</td><td>-0.066046</td><td>-0.038767</td><td>-0.132337</td><td>-0.022426</td><td>-0.252461</td><td>9</td><td>0</td><td>0.501321</td><td>0.905332</td><td>-0.819582</td><td>-0.564046</td><td>-0.223018</td><td>-0.283954</td><td>-0.045938</td><td>0.009797</td><td>-0.102538</td></tr><tr><td>47127334</td><td>1698</td><td>967</td><td>35</td><td>1.079139</td><td>1.184827</td><td>-0.755141</td><td>2.076181</td><td>1.674842</td><td>0.775027</td><td>0.698301</td><td>1.082448</td><td>1.832585</td><td>0.462256</td><td>-0.320109</td><td>0.64038</td><td>0.167309</td><td>0.087845</td><td>-0.132628</td><td>-0.126518</td><td>0.868608</td><td>2.483938</td><td>1.306111</td><td>1.934262</td><td>0.272836</td><td>-0.062922</td><td>-0.603839</td><td>-1.076128</td><td>-0.10295</td><td>-1.588908</td><td>-0.356563</td><td>0.254926</td><td>-0.382045</td><td>-0.64734</td><td>0.961459</td><td>2.086064</td><td>-0.651148</td><td>&hellip;</td><td>0.02379</td><td>0.692436</td><td>0.27386</td><td>2.117333</td><td>0.071481</td><td>0.17848</td><td>-0.061415</td><td>-0.111349</td><td>-0.093604</td><td>-0.048466</td><td>-0.070002</td><td>-0.089227</td><td>-0.067058</td><td>0.897348</td><td>0.650624</td><td>0.098854</td><td>0.117589</td><td>0.850152</td><td>0.909382</td><td>1.015314</td><td>0.235962</td><td>0.122539</td><td>0.099559</td><td>-0.249584</td><td>-0.123571</td><td>-0.46063</td><td>9</td><td>0</td><td>-1.113053</td><td>0.69719</td><td>-1.619031</td><td>-1.222743</td><td>-0.706082</td><td>-0.291133</td><td>0.167733</td><td>0.099704</td><td>0.32461</td></tr><tr><td>47127335</td><td>1698</td><td>967</td><td>36</td><td>1.033172</td><td>1.824691</td><td>-0.647233</td><td>1.627012</td><td>1.853514</td><td>0.224992</td><td>0.976874</td><td>1.074893</td><td>2.031026</td><td>0.370475</td><td>0.691279</td><td>0.64038</td><td>0.791372</td><td>1.732393</td><td>-0.036447</td><td>0.518739</td><td>0.583485</td><td>-0.233439</td><td>0.068235</td><td>2.375662</td><td>0.394305</td><td>0.074088</td><td>-0.603839</td><td>-1.014183</td><td>-0.339718</td><td>-1.75943</td><td>-0.69143</td><td>0.254926</td><td>-0.382045</td><td>-0.616739</td><td>-0.023759</td><td>1.980761</td><td>-0.651148</td><td>&hellip;</td><td>0.025141</td><td>0.741234</td><td>0.083004</td><td>2.314729</td><td>0.682482</td><td>1.83591</td><td>-0.403733</td><td>0.36382</td><td>1.454465</td><td>0.157479</td><td>0.738398</td><td>-0.112124</td><td>-0.054459</td><td>0.07522</td><td>0.081315</td><td>0.222636</td><td>0.210476</td><td>0.395684</td><td>-0.292574</td><td>-3.215846</td><td>-0.535129</td><td>-0.178484</td><td>-1.80815</td><td>-0.065355</td><td>-0.000367</td><td>-0.12517</td><td>9</td><td>0</td><td>-1.019353</td><td>-0.460962</td><td>-2.026678</td><td>-0.848606</td><td>-0.305448</td><td>-1.256913</td><td>-0.109359</td><td>-0.027474</td><td>-0.253956</td></tr><tr><td>47127336</td><td>1698</td><td>967</td><td>37</td><td>1.243116</td><td>1.968472</td><td>-0.84492</td><td>1.65055</td><td>2.423639</td><td>0.289672</td><td>0.664661</td><td>1.087339</td><td>1.492774</td><td>0.459966</td><td>0.059162</td><td>-0.301028</td><td>0.283556</td><td>1.333345</td><td>0.619775</td><td>0.809157</td><td>0.362347</td><td>0.330163</td><td>-0.449639</td><td>1.909002</td><td>0.468912</td><td>-2.183676</td><td>-0.936072</td><td>-0.304789</td><td>-0.1023</td><td>-1.834514</td><td>-0.962381</td><td>0.263791</td><td>0.485418</td><td>0.044742</td><td>-0.012475</td><td>0.300371</td><td>-0.845183</td><td>&hellip;</td><td>0.013538</td><td>1.818338</td><td>0.343466</td><td>2.548679</td><td>0.623139</td><td>1.753471</td><td>-0.168007</td><td>0.412375</td><td>0.886687</td><td>1.573349</td><td>1.054513</td><td>-0.0063</td><td>-0.007983</td><td>0.181613</td><td>0.188594</td><td>0.033585</td><td>0.044044</td><td>1.925987</td><td>0.479394</td><td>3.621867</td><td>-0.107114</td><td>-0.063599</td><td>1.204755</td><td>-0.148711</td><td>-0.026583</td><td>-0.256395</td><td>9</td><td>0</td><td>0.23585</td><td>0.556479</td><td>0.618944</td><td>-0.243765</td><td>-0.108361</td><td>-0.260777</td><td>-0.486923</td><td>-0.275566</td><td>-1.020708</td></tr><tr><td>47127337</td><td>1698</td><td>967</td><td>38</td><td>3.193685</td><td>2.031919</td><td>-0.713739</td><td>2.118863</td><td>1.6783</td><td>0.411126</td><td>0.917685</td><td>0.885877</td><td>1.946853</td><td>0.491628</td><td>0.73342</td><td>-1.242436</td><td>2.16798</td><td>0.806881</td><td>1.195452</td><td>1.706855</td><td>-0.546541</td><td>-0.157449</td><td>0.365783</td><td>0.421056</td><td>1.955646</td><td>-0.426805</td><td>-0.463666</td><td>1.813499</td><td>1.661562</td><td>-1.979779</td><td>-1.164117</td><td>0.616348</td><td>1.000873</td><td>0.670148</td><td>-0.696351</td><td>-0.399368</td><td>-0.442849</td><td>&hellip;</td><td>-0.177072</td><td>-0.408687</td><td>-0.070114</td><td>0.084112</td><td>1.989527</td><td>0.600266</td><td>0.606074</td><td>0.559524</td><td>0.863429</td><td>1.604977</td><td>1.245315</td><td>-0.255318</td><td>-0.169512</td><td>-0.242767</td><td>-0.147936</td><td>-0.196583</td><td>-0.155777</td><td>1.228778</td><td>0.512562</td><td>-0.050865</td><td>0.160883</td><td>0.080756</td><td>-0.078237</td><td>-0.138548</td><td>-0.038771</td><td>-0.21194</td><td>9</td><td>0</td><td>0.542563</td><td>0.513193</td><td>0.814393</td><td>0.032767</td><td>0.025435</td><td>0.311465</td><td>-0.044797</td><td>0.011133</td><td>-0.0793</td></tr></tbody></table></div>"
      ],
      "text/plain": [
       "shape: (301_048, 104)\n",
       "┌──────────┬─────────┬─────────┬───────────┬───┬────────────┬────────────┬────────────┬────────────┐\n",
       "│ id       ┆ date_id ┆ time_id ┆ symbol_id ┆ … ┆ responder_ ┆ responder_ ┆ responder_ ┆ responder_ │\n",
       "│ ---      ┆ ---     ┆ ---     ┆ ---       ┆   ┆ 5_lag_1    ┆ 6_lag_1    ┆ 7_lag_1    ┆ 8_lag_1    │\n",
       "│ u32      ┆ i16     ┆ i16     ┆ i8        ┆   ┆ ---        ┆ ---        ┆ ---        ┆ ---        │\n",
       "│          ┆         ┆         ┆           ┆   ┆ f32        ┆ f32        ┆ f32        ┆ f32        │\n",
       "╞══════════╪═════════╪═════════╪═══════════╪═══╪════════════╪════════════╪════════════╪════════════╡\n",
       "│ 46826290 ┆ 1691    ┆ 0       ┆ 0         ┆ … ┆ 0.164086   ┆ 0.015148   ┆ 0.024748   ┆ 0.016193   │\n",
       "│ 46826291 ┆ 1691    ┆ 0       ┆ 1         ┆ … ┆ 0.258023   ┆ 0.146226   ┆ 0.08656    ┆ 0.273702   │\n",
       "│ 46826292 ┆ 1691    ┆ 0       ┆ 2         ┆ … ┆ -0.137669  ┆ -0.097605  ┆ -0.00902   ┆ -0.20872   │\n",
       "│ 46826293 ┆ 1691    ┆ 0       ┆ 3         ┆ … ┆ 0.266399   ┆ 0.264185   ┆ 0.120004   ┆ 0.335621   │\n",
       "│ 46826294 ┆ 1691    ┆ 0       ┆ 4         ┆ … ┆ -0.170136  ┆ -0.007079  ┆ 0.023542   ┆ -0.032158  │\n",
       "│ …        ┆ …       ┆ …       ┆ …         ┆ … ┆ …          ┆ …          ┆ …          ┆ …          │\n",
       "│ 47127333 ┆ 1698    ┆ 967     ┆ 34        ┆ … ┆ -0.283954  ┆ -0.045938  ┆ 0.009797   ┆ -0.102538  │\n",
       "│ 47127334 ┆ 1698    ┆ 967     ┆ 35        ┆ … ┆ -0.291133  ┆ 0.167733   ┆ 0.099704   ┆ 0.32461    │\n",
       "│ 47127335 ┆ 1698    ┆ 967     ┆ 36        ┆ … ┆ -1.256913  ┆ -0.109359  ┆ -0.027474  ┆ -0.253956  │\n",
       "│ 47127336 ┆ 1698    ┆ 967     ┆ 37        ┆ … ┆ -0.260777  ┆ -0.486923  ┆ -0.275566  ┆ -1.020708  │\n",
       "│ 47127337 ┆ 1698    ┆ 967     ┆ 38        ┆ … ┆ 0.311465   ┆ -0.044797  ┆ 0.011133   ┆ -0.0793    │\n",
       "└──────────┴─────────┴─────────┴───────────┴───┴────────────┴────────────┴────────────┴────────────┘"
      ]
     },
     "execution_count": 13,
     "metadata": {},
     "output_type": "execute_result"
    }
   ],
   "source": [
    "validation_data"
   ]
  },
  {
   "cell_type": "markdown",
   "id": "026f4ef3",
   "metadata": {
    "papermill": {
     "duration": 0.006039,
     "end_time": "2025-01-07T08:26:55.754891",
     "exception": false,
     "start_time": "2025-01-07T08:26:55.748852",
     "status": "completed"
    },
    "tags": []
   },
   "source": [
    "# Save data as parquets"
   ]
  },
  {
   "cell_type": "code",
   "execution_count": 14,
   "id": "578c8fb6",
   "metadata": {
    "execution": {
     "iopub.execute_input": "2025-01-07T08:26:55.769654Z",
     "iopub.status.busy": "2025-01-07T08:26:55.769221Z",
     "iopub.status.idle": "2025-01-07T08:27:03.677857Z",
     "shell.execute_reply": "2025-01-07T08:27:03.676347Z"
    },
    "papermill": {
     "duration": 7.919984,
     "end_time": "2025-01-07T08:27:03.681255",
     "exception": false,
     "start_time": "2025-01-07T08:26:55.761271",
     "status": "completed"
    },
    "tags": []
   },
   "outputs": [],
   "source": [
    "training_data.\\\n",
    "write_parquet(\n",
    "    f\"training_data.parquet\"\n",
    ")"
   ]
  },
  {
   "cell_type": "code",
   "execution_count": 15,
   "id": "5edfdda5",
   "metadata": {
    "execution": {
     "iopub.execute_input": "2025-01-07T08:27:03.696769Z",
     "iopub.status.busy": "2025-01-07T08:27:03.696384Z",
     "iopub.status.idle": "2025-01-07T08:27:04.086037Z",
     "shell.execute_reply": "2025-01-07T08:27:04.084665Z"
    },
    "papermill": {
     "duration": 0.400671,
     "end_time": "2025-01-07T08:27:04.088943",
     "exception": false,
     "start_time": "2025-01-07T08:27:03.688272",
     "status": "completed"
    },
    "tags": []
   },
   "outputs": [],
   "source": [
    "validation_data.\\\n",
    "write_parquet(\n",
    "    f\"validation_data.parquet\"\n",
    ")"
   ]
  }
 ],
 "metadata": {
  "kaggle": {
   "accelerator": "none",
   "dataSources": [
    {
     "databundleVersionId": 9871156,
     "sourceId": 84493,
     "sourceType": "competition"
    }
   ],
   "dockerImageVersionId": 30786,
   "isGpuEnabled": false,
   "isInternetEnabled": false,
   "language": "python",
   "sourceType": "notebook"
  },
  "kernelspec": {
   "display_name": "Python 3",
   "language": "python",
   "name": "python3"
  },
  "language_info": {
   "codemirror_mode": {
    "name": "ipython",
    "version": 3
   },
   "file_extension": ".py",
   "mimetype": "text/x-python",
   "name": "python",
   "nbconvert_exporter": "python",
   "pygments_lexer": "ipython3",
   "version": "3.10.14"
  },
  "papermill": {
   "default_parameters": {},
   "duration": 105.083826,
   "end_time": "2025-01-07T08:27:08.955088",
   "environment_variables": {},
   "exception": null,
   "input_path": "__notebook__.ipynb",
   "output_path": "__notebook__.ipynb",
   "parameters": {},
   "start_time": "2025-01-07T08:25:23.871262",
   "version": "2.6.0"
  }
 },
 "nbformat": 4,
 "nbformat_minor": 5
}
