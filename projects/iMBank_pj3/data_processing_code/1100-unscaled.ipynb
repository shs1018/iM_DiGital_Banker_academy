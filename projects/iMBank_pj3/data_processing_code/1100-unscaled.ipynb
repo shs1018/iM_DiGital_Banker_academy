{
 "cells": [
  {
   "cell_type": "markdown",
   "id": "74a47816",
   "metadata": {
    "papermill": {
     "duration": 0.004939,
     "end_time": "2025-01-07T08:29:38.823480",
     "exception": false,
     "start_time": "2025-01-07T08:29:38.818541",
     "status": "completed"
    },
    "tags": []
   },
   "source": [
    "# Libraries"
   ]
  },
  {
   "cell_type": "code",
   "execution_count": 1,
   "id": "65dfb8bd",
   "metadata": {
    "execution": {
     "iopub.execute_input": "2025-01-07T08:29:38.834752Z",
     "iopub.status.busy": "2025-01-07T08:29:38.834327Z",
     "iopub.status.idle": "2025-01-07T08:29:41.750265Z",
     "shell.execute_reply": "2025-01-07T08:29:41.748949Z"
    },
    "papermill": {
     "duration": 2.924267,
     "end_time": "2025-01-07T08:29:41.753089",
     "exception": false,
     "start_time": "2025-01-07T08:29:38.828822",
     "status": "completed"
    },
    "tags": []
   },
   "outputs": [],
   "source": [
    "import pandas as pd\n",
    "import polars as pl\n",
    "import numpy as np\n",
    "import gc\n",
    "from matplotlib import pyplot as plt\n",
    "import matplotlib.cm as cm\n",
    "from sklearn.model_selection import StratifiedGroupKFold"
   ]
  },
  {
   "cell_type": "markdown",
   "id": "32e8a79a",
   "metadata": {
    "papermill": {
     "duration": 0.003781,
     "end_time": "2025-01-07T08:29:41.761620",
     "exception": false,
     "start_time": "2025-01-07T08:29:41.757839",
     "status": "completed"
    },
    "tags": []
   },
   "source": [
    "# Configurations"
   ]
  },
  {
   "cell_type": "code",
   "execution_count": 2,
   "id": "cddc1985",
   "metadata": {
    "execution": {
     "iopub.execute_input": "2025-01-07T08:29:41.771788Z",
     "iopub.status.busy": "2025-01-07T08:29:41.770758Z",
     "iopub.status.idle": "2025-01-07T08:29:41.777416Z",
     "shell.execute_reply": "2025-01-07T08:29:41.776262Z"
    },
    "papermill": {
     "duration": 0.014052,
     "end_time": "2025-01-07T08:29:41.779596",
     "exception": false,
     "start_time": "2025-01-07T08:29:41.765544",
     "status": "completed"
    },
    "tags": []
   },
   "outputs": [],
   "source": [
    "class CONFIG:\n",
    "    target_col = \"responder_6\"\n",
    "    lag_cols_original = [\"date_id\", \"symbol_id\"] + [f\"responder_{idx}\" for idx in range(9)]\n",
    "    lag_cols_rename = { f\"responder_{idx}\" : f\"responder_{idx}_lag_1\" for idx in range(9)}\n",
    "    valid_ratio = 0.05\n",
    "    start_dt = 1100\n",
    "    chg_date_3 = 1530 # 마지막 partiton"
   ]
  },
  {
   "cell_type": "markdown",
   "id": "18d8fae2",
   "metadata": {
    "papermill": {
     "duration": 0.003596,
     "end_time": "2025-01-07T08:29:41.787330",
     "exception": false,
     "start_time": "2025-01-07T08:29:41.783734",
     "status": "completed"
    },
    "tags": []
   },
   "source": [
    "# Load training data & select"
   ]
  },
  {
   "cell_type": "code",
   "execution_count": 3,
   "id": "c1db2ef9",
   "metadata": {
    "execution": {
     "iopub.execute_input": "2025-01-07T08:29:41.796681Z",
     "iopub.status.busy": "2025-01-07T08:29:41.796250Z",
     "iopub.status.idle": "2025-01-07T08:29:41.835437Z",
     "shell.execute_reply": "2025-01-07T08:29:41.833794Z"
    },
    "papermill": {
     "duration": 0.047002,
     "end_time": "2025-01-07T08:29:41.838089",
     "exception": false,
     "start_time": "2025-01-07T08:29:41.791087",
     "status": "completed"
    },
    "tags": []
   },
   "outputs": [],
   "source": [
    "# Use last 2 parquets\n",
    "\n",
    "train = pl.scan_parquet(\n",
    "    f\"/kaggle/input/jane-street-real-time-market-data-forecasting/train.parquet\"\n",
    ").select(\n",
    "    pl.int_range(pl.len(), dtype=pl.UInt32).alias(\"id\"),\n",
    "    pl.all(),\n",
    ").with_columns(\n",
    "    (pl.col(CONFIG.target_col)*2).cast(pl.Int32).alias(\"label\"),\n",
    ").filter(\n",
    "    (pl.col(\"date_id\") >= CONFIG.chg_date_3) # 이유는 모르겠지만 1100일 이후의 데이터만 가져옴\n",
    ").fill_null(\n",
    "    strategy=\"forward\"\n",
    ").fill_null(\n",
    "    value=0 # 결측치는 일단 단순하게 0으로 처리 \n",
    ")"
   ]
  },
  {
   "cell_type": "code",
   "execution_count": 4,
   "id": "66cbced8",
   "metadata": {
    "execution": {
     "iopub.execute_input": "2025-01-07T08:29:41.848341Z",
     "iopub.status.busy": "2025-01-07T08:29:41.847923Z",
     "iopub.status.idle": "2025-01-07T08:30:37.333403Z",
     "shell.execute_reply": "2025-01-07T08:30:37.332038Z"
    },
    "papermill": {
     "duration": 55.497415,
     "end_time": "2025-01-07T08:30:37.339830",
     "exception": false,
     "start_time": "2025-01-07T08:29:41.842415",
     "status": "completed"
    },
    "tags": []
   },
   "outputs": [
    {
     "data": {
      "text/html": [
       "<div>\n",
       "<style scoped>\n",
       "    .dataframe tbody tr th:only-of-type {\n",
       "        vertical-align: middle;\n",
       "    }\n",
       "\n",
       "    .dataframe tbody tr th {\n",
       "        vertical-align: top;\n",
       "    }\n",
       "\n",
       "    .dataframe thead th {\n",
       "        text-align: right;\n",
       "    }\n",
       "</style>\n",
       "<table border=\"1\" class=\"dataframe\">\n",
       "  <thead>\n",
       "    <tr style=\"text-align: right;\">\n",
       "      <th></th>\n",
       "      <th>id</th>\n",
       "      <th>date_id</th>\n",
       "      <th>time_id</th>\n",
       "      <th>symbol_id</th>\n",
       "      <th>weight</th>\n",
       "      <th>feature_00</th>\n",
       "      <th>feature_01</th>\n",
       "      <th>feature_02</th>\n",
       "      <th>feature_03</th>\n",
       "      <th>feature_04</th>\n",
       "      <th>...</th>\n",
       "      <th>responder_1</th>\n",
       "      <th>responder_2</th>\n",
       "      <th>responder_3</th>\n",
       "      <th>responder_4</th>\n",
       "      <th>responder_5</th>\n",
       "      <th>responder_6</th>\n",
       "      <th>responder_7</th>\n",
       "      <th>responder_8</th>\n",
       "      <th>partition_id</th>\n",
       "      <th>label</th>\n",
       "    </tr>\n",
       "  </thead>\n",
       "  <tbody>\n",
       "    <tr>\n",
       "      <th>0</th>\n",
       "      <td>40852762</td>\n",
       "      <td>1530</td>\n",
       "      <td>0</td>\n",
       "      <td>0</td>\n",
       "      <td>3.084694</td>\n",
       "      <td>1.153571</td>\n",
       "      <td>1.563784</td>\n",
       "      <td>0.697396</td>\n",
       "      <td>0.756759</td>\n",
       "      <td>2.580965</td>\n",
       "      <td>...</td>\n",
       "      <td>0.323897</td>\n",
       "      <td>0.601499</td>\n",
       "      <td>2.074103</td>\n",
       "      <td>0.746552</td>\n",
       "      <td>0.552013</td>\n",
       "      <td>3.071231</td>\n",
       "      <td>0.914794</td>\n",
       "      <td>0.997124</td>\n",
       "      <td>9</td>\n",
       "      <td>6</td>\n",
       "    </tr>\n",
       "    <tr>\n",
       "      <th>1</th>\n",
       "      <td>40852763</td>\n",
       "      <td>1530</td>\n",
       "      <td>0</td>\n",
       "      <td>1</td>\n",
       "      <td>2.232906</td>\n",
       "      <td>0.553354</td>\n",
       "      <td>1.730064</td>\n",
       "      <td>0.990195</td>\n",
       "      <td>0.611490</td>\n",
       "      <td>2.023031</td>\n",
       "      <td>...</td>\n",
       "      <td>-0.399384</td>\n",
       "      <td>-0.635306</td>\n",
       "      <td>2.092151</td>\n",
       "      <td>0.342582</td>\n",
       "      <td>0.757289</td>\n",
       "      <td>1.979042</td>\n",
       "      <td>0.967537</td>\n",
       "      <td>1.219739</td>\n",
       "      <td>9</td>\n",
       "      <td>3</td>\n",
       "    </tr>\n",
       "    <tr>\n",
       "      <th>2</th>\n",
       "      <td>40852764</td>\n",
       "      <td>1530</td>\n",
       "      <td>0</td>\n",
       "      <td>2</td>\n",
       "      <td>2.404948</td>\n",
       "      <td>1.532503</td>\n",
       "      <td>2.095852</td>\n",
       "      <td>0.919688</td>\n",
       "      <td>0.583715</td>\n",
       "      <td>2.330047</td>\n",
       "      <td>...</td>\n",
       "      <td>-0.006571</td>\n",
       "      <td>0.518870</td>\n",
       "      <td>-0.344441</td>\n",
       "      <td>0.641694</td>\n",
       "      <td>-0.646040</td>\n",
       "      <td>-0.506260</td>\n",
       "      <td>0.739797</td>\n",
       "      <td>-2.041514</td>\n",
       "      <td>9</td>\n",
       "      <td>-1</td>\n",
       "    </tr>\n",
       "    <tr>\n",
       "      <th>3</th>\n",
       "      <td>40852765</td>\n",
       "      <td>1530</td>\n",
       "      <td>0</td>\n",
       "      <td>3</td>\n",
       "      <td>1.986533</td>\n",
       "      <td>0.647099</td>\n",
       "      <td>1.687460</td>\n",
       "      <td>0.569406</td>\n",
       "      <td>1.061679</td>\n",
       "      <td>2.444131</td>\n",
       "      <td>...</td>\n",
       "      <td>-0.235901</td>\n",
       "      <td>-0.428956</td>\n",
       "      <td>-1.903627</td>\n",
       "      <td>-1.214619</td>\n",
       "      <td>-0.469500</td>\n",
       "      <td>-2.590589</td>\n",
       "      <td>-0.946317</td>\n",
       "      <td>-0.390001</td>\n",
       "      <td>9</td>\n",
       "      <td>-5</td>\n",
       "    </tr>\n",
       "    <tr>\n",
       "      <th>4</th>\n",
       "      <td>40852766</td>\n",
       "      <td>1530</td>\n",
       "      <td>0</td>\n",
       "      <td>4</td>\n",
       "      <td>2.742601</td>\n",
       "      <td>1.096778</td>\n",
       "      <td>1.551411</td>\n",
       "      <td>0.632113</td>\n",
       "      <td>0.368218</td>\n",
       "      <td>2.181873</td>\n",
       "      <td>...</td>\n",
       "      <td>-0.209282</td>\n",
       "      <td>-0.095182</td>\n",
       "      <td>-1.598217</td>\n",
       "      <td>0.968505</td>\n",
       "      <td>-0.705594</td>\n",
       "      <td>-1.579623</td>\n",
       "      <td>0.954296</td>\n",
       "      <td>-1.805623</td>\n",
       "      <td>9</td>\n",
       "      <td>-3</td>\n",
       "    </tr>\n",
       "  </tbody>\n",
       "</table>\n",
       "<p>5 rows × 95 columns</p>\n",
       "</div>"
      ],
      "text/plain": [
       "         id  date_id  time_id  symbol_id    weight  feature_00  feature_01  \\\n",
       "0  40852762     1530        0          0  3.084694    1.153571    1.563784   \n",
       "1  40852763     1530        0          1  2.232906    0.553354    1.730064   \n",
       "2  40852764     1530        0          2  2.404948    1.532503    2.095852   \n",
       "3  40852765     1530        0          3  1.986533    0.647099    1.687460   \n",
       "4  40852766     1530        0          4  2.742601    1.096778    1.551411   \n",
       "\n",
       "   feature_02  feature_03  feature_04  ...  responder_1  responder_2  \\\n",
       "0    0.697396    0.756759    2.580965  ...     0.323897     0.601499   \n",
       "1    0.990195    0.611490    2.023031  ...    -0.399384    -0.635306   \n",
       "2    0.919688    0.583715    2.330047  ...    -0.006571     0.518870   \n",
       "3    0.569406    1.061679    2.444131  ...    -0.235901    -0.428956   \n",
       "4    0.632113    0.368218    2.181873  ...    -0.209282    -0.095182   \n",
       "\n",
       "   responder_3  responder_4  responder_5  responder_6  responder_7  \\\n",
       "0     2.074103     0.746552     0.552013     3.071231     0.914794   \n",
       "1     2.092151     0.342582     0.757289     1.979042     0.967537   \n",
       "2    -0.344441     0.641694    -0.646040    -0.506260     0.739797   \n",
       "3    -1.903627    -1.214619    -0.469500    -2.590589    -0.946317   \n",
       "4    -1.598217     0.968505    -0.705594    -1.579623     0.954296   \n",
       "\n",
       "   responder_8  partition_id  label  \n",
       "0     0.997124             9      6  \n",
       "1     1.219739             9      3  \n",
       "2    -2.041514             9     -1  \n",
       "3    -0.390001             9     -5  \n",
       "4    -1.805623             9     -3  \n",
       "\n",
       "[5 rows x 95 columns]"
      ]
     },
     "execution_count": 4,
     "metadata": {},
     "output_type": "execute_result"
    }
   ],
   "source": [
    "train = train.collect().to_pandas()\n",
    "train.head()"
   ]
  },
  {
   "cell_type": "code",
   "execution_count": 5,
   "id": "07567492",
   "metadata": {
    "execution": {
     "iopub.execute_input": "2025-01-07T08:30:37.351854Z",
     "iopub.status.busy": "2025-01-07T08:30:37.350909Z",
     "iopub.status.idle": "2025-01-07T08:30:41.074935Z",
     "shell.execute_reply": "2025-01-07T08:30:41.073618Z"
    },
    "papermill": {
     "duration": 3.733571,
     "end_time": "2025-01-07T08:30:41.077690",
     "exception": false,
     "start_time": "2025-01-07T08:30:37.344119",
     "status": "completed"
    },
    "tags": []
   },
   "outputs": [],
   "source": [
    "train = pl.DataFrame(train)"
   ]
  },
  {
   "cell_type": "markdown",
   "id": "ceb4091a",
   "metadata": {
    "papermill": {
     "duration": 0.003849,
     "end_time": "2025-01-07T08:30:41.085958",
     "exception": false,
     "start_time": "2025-01-07T08:30:41.082109",
     "status": "completed"
    },
    "tags": []
   },
   "source": [
    "# Create Lags data from training data"
   ]
  },
  {
   "cell_type": "code",
   "execution_count": 6,
   "id": "2fd3804a",
   "metadata": {
    "execution": {
     "iopub.execute_input": "2025-01-07T08:30:41.095744Z",
     "iopub.status.busy": "2025-01-07T08:30:41.095355Z",
     "iopub.status.idle": "2025-01-07T08:30:41.312530Z",
     "shell.execute_reply": "2025-01-07T08:30:41.311258Z"
    },
    "papermill": {
     "duration": 0.22508,
     "end_time": "2025-01-07T08:30:41.315007",
     "exception": false,
     "start_time": "2025-01-07T08:30:41.089927",
     "status": "completed"
    },
    "tags": []
   },
   "outputs": [
    {
     "data": {
      "text/html": [
       "<div><style>\n",
       ".dataframe > thead > tr,\n",
       ".dataframe > tbody > tr {\n",
       "  text-align: right;\n",
       "  white-space: pre-wrap;\n",
       "}\n",
       "</style>\n",
       "<small>shape: (6_482, 11)</small><table border=\"1\" class=\"dataframe\"><thead><tr><th>date_id</th><th>symbol_id</th><th>responder_0_lag_1</th><th>responder_1_lag_1</th><th>responder_2_lag_1</th><th>responder_3_lag_1</th><th>responder_4_lag_1</th><th>responder_5_lag_1</th><th>responder_6_lag_1</th><th>responder_7_lag_1</th><th>responder_8_lag_1</th></tr><tr><td>i16</td><td>i8</td><td>f32</td><td>f32</td><td>f32</td><td>f32</td><td>f32</td><td>f32</td><td>f32</td><td>f32</td><td>f32</td></tr></thead><tbody><tr><td>1531</td><td>0</td><td>-0.111643</td><td>-0.098582</td><td>-2.035532</td><td>0.772288</td><td>0.356617</td><td>-0.269562</td><td>-0.042934</td><td>0.009101</td><td>-0.106585</td></tr><tr><td>1531</td><td>1</td><td>1.982551</td><td>0.174802</td><td>2.422206</td><td>0.574457</td><td>0.197794</td><td>0.750299</td><td>-0.263879</td><td>-0.138759</td><td>-0.672006</td></tr><tr><td>1531</td><td>2</td><td>-0.658825</td><td>-0.717583</td><td>-0.137797</td><td>0.549591</td><td>0.308446</td><td>0.166129</td><td>-0.130733</td><td>-0.055674</td><td>-0.452719</td></tr><tr><td>1531</td><td>3</td><td>1.554449</td><td>0.562713</td><td>-0.514036</td><td>0.353216</td><td>0.235419</td><td>-0.11215</td><td>-0.087656</td><td>-0.010191</td><td>-0.223291</td></tr><tr><td>1531</td><td>4</td><td>0.500255</td><td>0.198204</td><td>2.345295</td><td>0.172461</td><td>0.09778</td><td>0.780662</td><td>-0.157494</td><td>-0.062953</td><td>-0.330664</td></tr><tr><td>&hellip;</td><td>&hellip;</td><td>&hellip;</td><td>&hellip;</td><td>&hellip;</td><td>&hellip;</td><td>&hellip;</td><td>&hellip;</td><td>&hellip;</td><td>&hellip;</td><td>&hellip;</td></tr><tr><td>1699</td><td>34</td><td>0.243475</td><td>0.166927</td><td>0.38494</td><td>-0.174297</td><td>-0.066046</td><td>-0.038767</td><td>-0.132337</td><td>-0.022426</td><td>-0.252461</td></tr><tr><td>1699</td><td>35</td><td>0.850152</td><td>0.909382</td><td>1.015314</td><td>0.235962</td><td>0.122539</td><td>0.099559</td><td>-0.249584</td><td>-0.123571</td><td>-0.46063</td></tr><tr><td>1699</td><td>36</td><td>0.395684</td><td>-0.292574</td><td>-3.215846</td><td>-0.535129</td><td>-0.178484</td><td>-1.80815</td><td>-0.065355</td><td>-0.000367</td><td>-0.12517</td></tr><tr><td>1699</td><td>37</td><td>1.925987</td><td>0.479394</td><td>3.621867</td><td>-0.107114</td><td>-0.063599</td><td>1.204755</td><td>-0.148711</td><td>-0.026583</td><td>-0.256395</td></tr><tr><td>1699</td><td>38</td><td>1.228778</td><td>0.512562</td><td>-0.050865</td><td>0.160883</td><td>0.080756</td><td>-0.078237</td><td>-0.138548</td><td>-0.038771</td><td>-0.21194</td></tr></tbody></table></div>"
      ],
      "text/plain": [
       "shape: (6_482, 11)\n",
       "┌─────────┬───────────┬────────────┬───────────┬───┬───────────┬───────────┬───────────┬───────────┐\n",
       "│ date_id ┆ symbol_id ┆ responder_ ┆ responder ┆ … ┆ responder ┆ responder ┆ responder ┆ responder │\n",
       "│ ---     ┆ ---       ┆ 0_lag_1    ┆ _1_lag_1  ┆   ┆ _5_lag_1  ┆ _6_lag_1  ┆ _7_lag_1  ┆ _8_lag_1  │\n",
       "│ i16     ┆ i8        ┆ ---        ┆ ---       ┆   ┆ ---       ┆ ---       ┆ ---       ┆ ---       │\n",
       "│         ┆           ┆ f32        ┆ f32       ┆   ┆ f32       ┆ f32       ┆ f32       ┆ f32       │\n",
       "╞═════════╪═══════════╪════════════╪═══════════╪═══╪═══════════╪═══════════╪═══════════╪═══════════╡\n",
       "│ 1531    ┆ 0         ┆ -0.111643  ┆ -0.098582 ┆ … ┆ -0.269562 ┆ -0.042934 ┆ 0.009101  ┆ -0.106585 │\n",
       "│ 1531    ┆ 1         ┆ 1.982551   ┆ 0.174802  ┆ … ┆ 0.750299  ┆ -0.263879 ┆ -0.138759 ┆ -0.672006 │\n",
       "│ 1531    ┆ 2         ┆ -0.658825  ┆ -0.717583 ┆ … ┆ 0.166129  ┆ -0.130733 ┆ -0.055674 ┆ -0.452719 │\n",
       "│ 1531    ┆ 3         ┆ 1.554449   ┆ 0.562713  ┆ … ┆ -0.11215  ┆ -0.087656 ┆ -0.010191 ┆ -0.223291 │\n",
       "│ 1531    ┆ 4         ┆ 0.500255   ┆ 0.198204  ┆ … ┆ 0.780662  ┆ -0.157494 ┆ -0.062953 ┆ -0.330664 │\n",
       "│ …       ┆ …         ┆ …          ┆ …         ┆ … ┆ …         ┆ …         ┆ …         ┆ …         │\n",
       "│ 1699    ┆ 34        ┆ 0.243475   ┆ 0.166927  ┆ … ┆ -0.038767 ┆ -0.132337 ┆ -0.022426 ┆ -0.252461 │\n",
       "│ 1699    ┆ 35        ┆ 0.850152   ┆ 0.909382  ┆ … ┆ 0.099559  ┆ -0.249584 ┆ -0.123571 ┆ -0.46063  │\n",
       "│ 1699    ┆ 36        ┆ 0.395684   ┆ -0.292574 ┆ … ┆ -1.80815  ┆ -0.065355 ┆ -0.000367 ┆ -0.12517  │\n",
       "│ 1699    ┆ 37        ┆ 1.925987   ┆ 0.479394  ┆ … ┆ 1.204755  ┆ -0.148711 ┆ -0.026583 ┆ -0.256395 │\n",
       "│ 1699    ┆ 38        ┆ 1.228778   ┆ 0.512562  ┆ … ┆ -0.078237 ┆ -0.138548 ┆ -0.038771 ┆ -0.21194  │\n",
       "└─────────┴───────────┴────────────┴───────────┴───┴───────────┴───────────┴───────────┴───────────┘"
      ]
     },
     "execution_count": 6,
     "metadata": {},
     "output_type": "execute_result"
    }
   ],
   "source": [
    "lags = train.select(pl.col(CONFIG.lag_cols_original))\n",
    "lags = lags.rename(CONFIG.lag_cols_rename)\n",
    "lags = lags.with_columns(\n",
    "    date_id = pl.col('date_id') + 1,  # lagged by 1 day\n",
    "    )\n",
    "lags = lags.group_by([\"date_id\", \"symbol_id\"], maintain_order=True).last()  # pick up last record of previous date\n",
    "lags"
   ]
  },
  {
   "cell_type": "markdown",
   "id": "b3eb5e41",
   "metadata": {
    "papermill": {
     "duration": 0.004154,
     "end_time": "2025-01-07T08:30:41.323654",
     "exception": false,
     "start_time": "2025-01-07T08:30:41.319500",
     "status": "completed"
    },
    "tags": []
   },
   "source": [
    "# Merge training data and lags data"
   ]
  },
  {
   "cell_type": "code",
   "execution_count": 7,
   "id": "ef626b5c",
   "metadata": {
    "execution": {
     "iopub.execute_input": "2025-01-07T08:30:41.334090Z",
     "iopub.status.busy": "2025-01-07T08:30:41.333633Z",
     "iopub.status.idle": "2025-01-07T08:30:41.746994Z",
     "shell.execute_reply": "2025-01-07T08:30:41.745779Z"
    },
    "papermill": {
     "duration": 0.421608,
     "end_time": "2025-01-07T08:30:41.749555",
     "exception": false,
     "start_time": "2025-01-07T08:30:41.327947",
     "status": "completed"
    },
    "tags": []
   },
   "outputs": [
    {
     "data": {
      "text/html": [
       "<div><style>\n",
       ".dataframe > thead > tr,\n",
       ".dataframe > tbody > tr {\n",
       "  text-align: right;\n",
       "  white-space: pre-wrap;\n",
       "}\n",
       "</style>\n",
       "<small>shape: (6_274_576, 104)</small><table border=\"1\" class=\"dataframe\"><thead><tr><th>id</th><th>date_id</th><th>time_id</th><th>symbol_id</th><th>weight</th><th>feature_00</th><th>feature_01</th><th>feature_02</th><th>feature_03</th><th>feature_04</th><th>feature_05</th><th>feature_06</th><th>feature_07</th><th>feature_08</th><th>feature_09</th><th>feature_10</th><th>feature_11</th><th>feature_12</th><th>feature_13</th><th>feature_14</th><th>feature_15</th><th>feature_16</th><th>feature_17</th><th>feature_18</th><th>feature_19</th><th>feature_20</th><th>feature_21</th><th>feature_22</th><th>feature_23</th><th>feature_24</th><th>feature_25</th><th>feature_26</th><th>feature_27</th><th>feature_28</th><th>feature_29</th><th>feature_30</th><th>feature_31</th><th>&hellip;</th><th>feature_62</th><th>feature_63</th><th>feature_64</th><th>feature_65</th><th>feature_66</th><th>feature_67</th><th>feature_68</th><th>feature_69</th><th>feature_70</th><th>feature_71</th><th>feature_72</th><th>feature_73</th><th>feature_74</th><th>feature_75</th><th>feature_76</th><th>feature_77</th><th>feature_78</th><th>responder_0</th><th>responder_1</th><th>responder_2</th><th>responder_3</th><th>responder_4</th><th>responder_5</th><th>responder_6</th><th>responder_7</th><th>responder_8</th><th>partition_id</th><th>label</th><th>responder_0_lag_1</th><th>responder_1_lag_1</th><th>responder_2_lag_1</th><th>responder_3_lag_1</th><th>responder_4_lag_1</th><th>responder_5_lag_1</th><th>responder_6_lag_1</th><th>responder_7_lag_1</th><th>responder_8_lag_1</th></tr><tr><td>u32</td><td>i16</td><td>i16</td><td>i8</td><td>f32</td><td>f32</td><td>f32</td><td>f32</td><td>f32</td><td>f32</td><td>f32</td><td>f32</td><td>f32</td><td>f32</td><td>i8</td><td>i8</td><td>i16</td><td>f32</td><td>f32</td><td>f32</td><td>f32</td><td>f32</td><td>f32</td><td>f32</td><td>f32</td><td>f32</td><td>f32</td><td>f32</td><td>f32</td><td>f32</td><td>f32</td><td>f32</td><td>f32</td><td>f32</td><td>f32</td><td>f32</td><td>f32</td><td>&hellip;</td><td>f32</td><td>f32</td><td>f32</td><td>f32</td><td>f32</td><td>f32</td><td>f32</td><td>f32</td><td>f32</td><td>f32</td><td>f32</td><td>f32</td><td>f32</td><td>f32</td><td>f32</td><td>f32</td><td>f32</td><td>f32</td><td>f32</td><td>f32</td><td>f32</td><td>f32</td><td>f32</td><td>f32</td><td>f32</td><td>f32</td><td>i64</td><td>i32</td><td>f32</td><td>f32</td><td>f32</td><td>f32</td><td>f32</td><td>f32</td><td>f32</td><td>f32</td><td>f32</td></tr></thead><tbody><tr><td>40852762</td><td>1530</td><td>0</td><td>0</td><td>3.084694</td><td>1.153571</td><td>1.563784</td><td>0.697396</td><td>0.756759</td><td>2.580965</td><td>0.171311</td><td>1.126353</td><td>0.536153</td><td>0.05715</td><td>11</td><td>7</td><td>76</td><td>-0.656288</td><td>2.110188</td><td>0.145784</td><td>0.0</td><td>-0.203291</td><td>0.0</td><td>-1.238222</td><td>-2.294707</td><td>-0.06356</td><td>-0.148218</td><td>1.721362</td><td>0.64558</td><td>1.477857</td><td>0.528492</td><td>1.153077</td><td>0.466157</td><td>0.145568</td><td>-0.546845</td><td>-0.694435</td><td>-0.163897</td><td>&hellip;</td><td>-0.460265</td><td>-0.415684</td><td>-0.45772</td><td>-1.333965</td><td>-2.23413</td><td>-0.352034</td><td>3.125156</td><td>0.493488</td><td>-0.9591</td><td>1.284456</td><td>-0.275493</td><td>0.0</td><td>0.0</td><td>4.188457</td><td>3.666236</td><td>0.848177</td><td>0.999516</td><td>0.417462</td><td>0.323897</td><td>0.601499</td><td>2.074103</td><td>0.746552</td><td>0.552013</td><td>3.071231</td><td>0.914794</td><td>0.997124</td><td>9</td><td>6</td><td>null</td><td>null</td><td>null</td><td>null</td><td>null</td><td>null</td><td>null</td><td>null</td><td>null</td></tr><tr><td>40852763</td><td>1530</td><td>0</td><td>1</td><td>2.232906</td><td>0.553354</td><td>1.730064</td><td>0.990195</td><td>0.61149</td><td>2.023031</td><td>0.319015</td><td>1.183371</td><td>0.562853</td><td>0.057789</td><td>11</td><td>7</td><td>76</td><td>-1.063518</td><td>1.037634</td><td>-0.255358</td><td>0.0</td><td>-0.318528</td><td>0.0</td><td>-1.46613</td><td>-2.160217</td><td>0.009386</td><td>0.042186</td><td>0.319811</td><td>0.14307</td><td>1.866907</td><td>1.238242</td><td>-1.986826</td><td>-0.476918</td><td>0.408439</td><td>-0.689795</td><td>-0.619278</td><td>0.081413</td><td>&hellip;</td><td>-0.24877</td><td>-0.286104</td><td>-0.455154</td><td>-1.797363</td><td>-2.535985</td><td>-0.734866</td><td>1.533782</td><td>0.033801</td><td>-0.960126</td><td>0.306505</td><td>-0.522036</td><td>0.0</td><td>0.0</td><td>1.138142</td><td>1.579439</td><td>0.179564</td><td>0.160609</td><td>-0.318671</td><td>-0.399384</td><td>-0.635306</td><td>2.092151</td><td>0.342582</td><td>0.757289</td><td>1.979042</td><td>0.967537</td><td>1.219739</td><td>9</td><td>3</td><td>null</td><td>null</td><td>null</td><td>null</td><td>null</td><td>null</td><td>null</td><td>null</td><td>null</td></tr><tr><td>40852764</td><td>1530</td><td>0</td><td>2</td><td>2.404948</td><td>1.532503</td><td>2.095852</td><td>0.919688</td><td>0.583715</td><td>2.330047</td><td>0.337096</td><td>1.262236</td><td>0.49605</td><td>0.073556</td><td>81</td><td>2</td><td>59</td><td>-1.001967</td><td>1.10577</td><td>-0.304426</td><td>0.0</td><td>-0.531873</td><td>0.0</td><td>-1.301579</td><td>-1.615271</td><td>0.454406</td><td>-0.188808</td><td>0.01512</td><td>-0.159487</td><td>1.379064</td><td>0.604568</td><td>0.736194</td><td>0.522007</td><td>-0.183058</td><td>-0.632819</td><td>-0.839542</td><td>-0.20955</td><td>&hellip;</td><td>-0.295958</td><td>-0.386221</td><td>-0.345102</td><td>-1.598371</td><td>-2.111468</td><td>-0.780465</td><td>0.848857</td><td>-0.152994</td><td>-1.219395</td><td>0.359229</td><td>-0.636138</td><td>0.0</td><td>0.0</td><td>0.445388</td><td>0.300118</td><td>-0.043114</td><td>-0.065761</td><td>0.200878</td><td>-0.006571</td><td>0.51887</td><td>-0.344441</td><td>0.641694</td><td>-0.64604</td><td>-0.50626</td><td>0.739797</td><td>-2.041514</td><td>9</td><td>-1</td><td>null</td><td>null</td><td>null</td><td>null</td><td>null</td><td>null</td><td>null</td><td>null</td><td>null</td></tr><tr><td>40852765</td><td>1530</td><td>0</td><td>3</td><td>1.986533</td><td>0.647099</td><td>1.68746</td><td>0.569406</td><td>1.061679</td><td>2.444131</td><td>0.150487</td><td>0.896543</td><td>0.705652</td><td>0.072545</td><td>4</td><td>3</td><td>11</td><td>-0.966606</td><td>0.415421</td><td>-0.528979</td><td>0.0</td><td>0.183964</td><td>0.0</td><td>-1.917427</td><td>-1.929856</td><td>-0.50175</td><td>-0.102371</td><td>-0.297677</td><td>-1.049185</td><td>0.933516</td><td>-0.60654</td><td>-0.039158</td><td>-0.27196</td><td>-0.920819</td><td>-0.926502</td><td>-0.783003</td><td>-0.13572</td><td>&hellip;</td><td>-0.396047</td><td>-0.146214</td><td>-0.228367</td><td>-2.062314</td><td>-1.421811</td><td>-0.851179</td><td>0.404792</td><td>-0.509694</td><td>-1.398495</td><td>0.231285</td><td>-0.595247</td><td>0.0</td><td>0.0</td><td>6.995454</td><td>7.133929</td><td>0.352965</td><td>0.526284</td><td>-0.349773</td><td>-0.235901</td><td>-0.428956</td><td>-1.903627</td><td>-1.214619</td><td>-0.4695</td><td>-2.590589</td><td>-0.946317</td><td>-0.390001</td><td>9</td><td>-5</td><td>null</td><td>null</td><td>null</td><td>null</td><td>null</td><td>null</td><td>null</td><td>null</td><td>null</td></tr><tr><td>40852766</td><td>1530</td><td>0</td><td>4</td><td>2.742601</td><td>1.096778</td><td>1.551411</td><td>0.632113</td><td>0.368218</td><td>2.181873</td><td>0.214604</td><td>1.19423</td><td>0.261056</td><td>0.045426</td><td>15</td><td>1</td><td>9</td><td>-0.895004</td><td>0.047908</td><td>-0.683484</td><td>0.0</td><td>-0.638341</td><td>0.0</td><td>-1.55811</td><td>-1.203378</td><td>-0.305831</td><td>0.251725</td><td>0.222749</td><td>-0.902276</td><td>4.226925</td><td>1.233024</td><td>-2.274672</td><td>-1.065931</td><td>-0.229211</td><td>-0.597557</td><td>-0.990242</td><td>0.173607</td><td>&hellip;</td><td>-0.445097</td><td>-0.347954</td><td>-0.470278</td><td>-1.780053</td><td>-2.290865</td><td>-0.944827</td><td>0.027896</td><td>-0.522902</td><td>-1.123492</td><td>0.120676</td><td>-0.610595</td><td>0.0</td><td>0.0</td><td>0.493589</td><td>0.560821</td><td>-1.332615</td><td>-0.965623</td><td>-0.373938</td><td>-0.209282</td><td>-0.095182</td><td>-1.598217</td><td>0.968505</td><td>-0.705594</td><td>-1.579623</td><td>0.954296</td><td>-1.805623</td><td>9</td><td>-3</td><td>null</td><td>null</td><td>null</td><td>null</td><td>null</td><td>null</td><td>null</td><td>null</td><td>null</td></tr><tr><td>&hellip;</td><td>&hellip;</td><td>&hellip;</td><td>&hellip;</td><td>&hellip;</td><td>&hellip;</td><td>&hellip;</td><td>&hellip;</td><td>&hellip;</td><td>&hellip;</td><td>&hellip;</td><td>&hellip;</td><td>&hellip;</td><td>&hellip;</td><td>&hellip;</td><td>&hellip;</td><td>&hellip;</td><td>&hellip;</td><td>&hellip;</td><td>&hellip;</td><td>&hellip;</td><td>&hellip;</td><td>&hellip;</td><td>&hellip;</td><td>&hellip;</td><td>&hellip;</td><td>&hellip;</td><td>&hellip;</td><td>&hellip;</td><td>&hellip;</td><td>&hellip;</td><td>&hellip;</td><td>&hellip;</td><td>&hellip;</td><td>&hellip;</td><td>&hellip;</td><td>&hellip;</td><td>&hellip;</td><td>&hellip;</td><td>&hellip;</td><td>&hellip;</td><td>&hellip;</td><td>&hellip;</td><td>&hellip;</td><td>&hellip;</td><td>&hellip;</td><td>&hellip;</td><td>&hellip;</td><td>&hellip;</td><td>&hellip;</td><td>&hellip;</td><td>&hellip;</td><td>&hellip;</td><td>&hellip;</td><td>&hellip;</td><td>&hellip;</td><td>&hellip;</td><td>&hellip;</td><td>&hellip;</td><td>&hellip;</td><td>&hellip;</td><td>&hellip;</td><td>&hellip;</td><td>&hellip;</td><td>&hellip;</td><td>&hellip;</td><td>&hellip;</td><td>&hellip;</td><td>&hellip;</td><td>&hellip;</td><td>&hellip;</td><td>&hellip;</td><td>&hellip;</td><td>&hellip;</td><td>&hellip;</td></tr><tr><td>47127333</td><td>1698</td><td>967</td><td>34</td><td>3.242493</td><td>2.52516</td><td>-0.721981</td><td>2.544025</td><td>2.477615</td><td>0.417557</td><td>0.785812</td><td>1.117796</td><td>2.199436</td><td>0.415427</td><td>42</td><td>5</td><td>150</td><td>0.804403</td><td>1.157257</td><td>1.031543</td><td>-0.671189</td><td>-0.3286</td><td>-0.486132</td><td>1.730176</td><td>-0.006173</td><td>-0.001144</td><td>-0.213062</td><td>0.932618</td><td>1.367338</td><td>-0.238197</td><td>-0.692615</td><td>-0.121163</td><td>1.090798</td><td>1.444294</td><td>-0.675626</td><td>-1.013264</td><td>-0.242888</td><td>&hellip;</td><td>-0.384833</td><td>-0.275818</td><td>-0.40804</td><td>2.427115</td><td>-0.108427</td><td>0.739734</td><td>0.830205</td><td>0.366287</td><td>1.33325</td><td>1.075499</td><td>1.798264</td><td>-0.183443</td><td>-0.190222</td><td>0.234211</td><td>0.347142</td><td>-0.044463</td><td>0.016936</td><td>0.243475</td><td>0.166927</td><td>0.38494</td><td>-0.174297</td><td>-0.066046</td><td>-0.038767</td><td>-0.132337</td><td>-0.022426</td><td>-0.252461</td><td>9</td><td>0</td><td>0.501321</td><td>0.905332</td><td>-0.819582</td><td>-0.564046</td><td>-0.223018</td><td>-0.283954</td><td>-0.045938</td><td>0.009797</td><td>-0.102538</td></tr><tr><td>47127334</td><td>1698</td><td>967</td><td>35</td><td>1.079139</td><td>1.857906</td><td>-0.790646</td><td>2.745439</td><td>2.339877</td><td>0.845065</td><td>0.65137</td><td>1.180301</td><td>1.966379</td><td>0.321543</td><td>25</td><td>7</td><td>195</td><td>-0.075294</td><td>-0.152726</td><td>-0.20417</td><td>-0.421137</td><td>0.21708</td><td>-0.258775</td><td>1.874978</td><td>0.19988</td><td>-0.199219</td><td>-0.125619</td><td>-1.004547</td><td>-0.051933</td><td>0.450905</td><td>0.009246</td><td>0.164127</td><td>-0.939974</td><td>-1.143421</td><td>-0.320071</td><td>-0.379835</td><td>-0.142429</td><td>&hellip;</td><td>-0.343868</td><td>-0.253991</td><td>-0.278832</td><td>2.050639</td><td>-0.059506</td><td>-0.029396</td><td>-0.101381</td><td>-0.187759</td><td>-0.180839</td><td>-0.0861</td><td>-0.153405</td><td>-0.196077</td><td>-0.175292</td><td>1.04578</td><td>0.739733</td><td>0.03372</td><td>0.05086</td><td>0.850152</td><td>0.909382</td><td>1.015314</td><td>0.235962</td><td>0.122539</td><td>0.099559</td><td>-0.249584</td><td>-0.123571</td><td>-0.46063</td><td>9</td><td>0</td><td>-1.113053</td><td>0.69719</td><td>-1.619031</td><td>-1.222743</td><td>-0.706082</td><td>-0.291133</td><td>0.167733</td><td>0.099704</td><td>0.32461</td></tr><tr><td>47127335</td><td>1698</td><td>967</td><td>36</td><td>1.033172</td><td>2.515527</td><td>-0.672298</td><td>2.28925</td><td>2.521592</td><td>0.255077</td><td>0.919892</td><td>1.172018</td><td>2.180496</td><td>0.24846</td><td>49</td><td>7</td><td>297</td><td>1.026715</td><td>-0.096892</td><td>0.224309</td><td>-0.528109</td><td>-0.704952</td><td>-0.704818</td><td>2.312482</td><td>0.32804</td><td>-0.108193</td><td>-0.125619</td><td>-0.945684</td><td>-0.244173</td><td>0.205989</td><td>-0.357343</td><td>0.164127</td><td>-0.939974</td><td>-1.11075</td><td>-0.580242</td><td>-0.400568</td><td>-0.142429</td><td>&hellip;</td><td>-0.341991</td><td>-0.249132</td><td>-0.34365</td><td>2.251358</td><td>0.601888</td><td>1.035051</td><td>-0.283241</td><td>0.107244</td><td>0.86016</td><td>0.024223</td><td>0.374852</td><td>-0.220933</td><td>-0.161584</td><td>0.032771</td><td>0.036888</td><td>0.168908</td><td>0.152333</td><td>0.395684</td><td>-0.292574</td><td>-3.215846</td><td>-0.535129</td><td>-0.178484</td><td>-1.80815</td><td>-0.065355</td><td>-0.000367</td><td>-0.12517</td><td>9</td><td>0</td><td>-1.019353</td><td>-0.460962</td><td>-2.026678</td><td>-0.848606</td><td>-0.305448</td><td>-1.256913</td><td>-0.109359</td><td>-0.027474</td><td>-0.253956</td></tr><tr><td>47127336</td><td>1698</td><td>967</td><td>37</td><td>1.243116</td><td>2.663298</td><td>-0.889112</td><td>2.313155</td><td>3.101428</td><td>0.324454</td><td>0.618944</td><td>1.185663</td><td>1.599724</td><td>0.319719</td><td>34</td><td>4</td><td>214</td><td>0.759314</td><td>0.284057</td><td>0.41716</td><td>-0.611075</td><td>-0.513717</td><td>-0.891423</td><td>1.84994</td><td>0.406756</td><td>-1.608196</td><td>-0.252663</td><td>-0.271574</td><td>-0.051405</td><td>0.098146</td><td>-0.653961</td><td>0.173676</td><td>-0.016497</td><td>-0.404509</td><td>-0.577262</td><td>-0.731429</td><td>-0.21646</td><td>&hellip;</td><td>-0.358106</td><td>-0.141883</td><td>-0.255192</td><td>2.489247</td><td>0.537652</td><td>0.982107</td><td>-0.158009</td><td>0.137389</td><td>0.478357</td><td>0.782692</td><td>0.581421</td><td>-0.106056</td><td>-0.111017</td><td>0.163867</td><td>0.169331</td><td>-0.037563</td><td>-0.029483</td><td>1.925987</td><td>0.479394</td><td>3.621867</td><td>-0.107114</td><td>-0.063599</td><td>1.204755</td><td>-0.148711</td><td>-0.026583</td><td>-0.256395</td><td>9</td><td>0</td><td>0.23585</td><td>0.556479</td><td>0.618944</td><td>-0.243765</td><td>-0.108361</td><td>-0.260777</td><td>-0.486923</td><td>-0.275566</td><td>-1.020708</td></tr><tr><td>47127337</td><td>1698</td><td>967</td><td>38</td><td>3.193685</td><td>2.728506</td><td>-0.745238</td><td>2.788789</td><td>2.343393</td><td>0.454731</td><td>0.862839</td><td>0.964795</td><td>2.089673</td><td>0.344931</td><td>50</td><td>1</td><td>522</td><td>0.406531</td><td>0.618247</td><td>1.01327</td><td>-0.952069</td><td>-0.679168</td><td>-0.597603</td><td>0.375125</td><td>1.97537</td><td>-0.440974</td><td>-0.072018</td><td>1.741353</td><td>1.380735</td><td>-0.110494</td><td>-0.874806</td><td>0.553424</td><td>0.532243</td><td>0.263214</td><td>-0.757856</td><td>-0.869204</td><td>-0.062955</td><td>&hellip;</td><td>-0.622853</td><td>-0.363631</td><td>-0.395652</td><td>-0.016812</td><td>2.016734</td><td>0.241486</td><td>0.253229</td><td>0.228745</td><td>0.462717</td><td>0.799635</td><td>0.706102</td><td>-0.376377</td><td>-0.286764</td><td>-0.359046</td><td>-0.246135</td><td>-0.288941</td><td>-0.247774</td><td>1.228778</td><td>0.512562</td><td>-0.050865</td><td>0.160883</td><td>0.080756</td><td>-0.078237</td><td>-0.138548</td><td>-0.038771</td><td>-0.21194</td><td>9</td><td>0</td><td>0.542563</td><td>0.513193</td><td>0.814393</td><td>0.032767</td><td>0.025435</td><td>0.311465</td><td>-0.044797</td><td>0.011133</td><td>-0.0793</td></tr></tbody></table></div>"
      ],
      "text/plain": [
       "shape: (6_274_576, 104)\n",
       "┌──────────┬─────────┬─────────┬───────────┬───┬────────────┬────────────┬────────────┬────────────┐\n",
       "│ id       ┆ date_id ┆ time_id ┆ symbol_id ┆ … ┆ responder_ ┆ responder_ ┆ responder_ ┆ responder_ │\n",
       "│ ---      ┆ ---     ┆ ---     ┆ ---       ┆   ┆ 5_lag_1    ┆ 6_lag_1    ┆ 7_lag_1    ┆ 8_lag_1    │\n",
       "│ u32      ┆ i16     ┆ i16     ┆ i8        ┆   ┆ ---        ┆ ---        ┆ ---        ┆ ---        │\n",
       "│          ┆         ┆         ┆           ┆   ┆ f32        ┆ f32        ┆ f32        ┆ f32        │\n",
       "╞══════════╪═════════╪═════════╪═══════════╪═══╪════════════╪════════════╪════════════╪════════════╡\n",
       "│ 40852762 ┆ 1530    ┆ 0       ┆ 0         ┆ … ┆ null       ┆ null       ┆ null       ┆ null       │\n",
       "│ 40852763 ┆ 1530    ┆ 0       ┆ 1         ┆ … ┆ null       ┆ null       ┆ null       ┆ null       │\n",
       "│ 40852764 ┆ 1530    ┆ 0       ┆ 2         ┆ … ┆ null       ┆ null       ┆ null       ┆ null       │\n",
       "│ 40852765 ┆ 1530    ┆ 0       ┆ 3         ┆ … ┆ null       ┆ null       ┆ null       ┆ null       │\n",
       "│ 40852766 ┆ 1530    ┆ 0       ┆ 4         ┆ … ┆ null       ┆ null       ┆ null       ┆ null       │\n",
       "│ …        ┆ …       ┆ …       ┆ …         ┆ … ┆ …          ┆ …          ┆ …          ┆ …          │\n",
       "│ 47127333 ┆ 1698    ┆ 967     ┆ 34        ┆ … ┆ -0.283954  ┆ -0.045938  ┆ 0.009797   ┆ -0.102538  │\n",
       "│ 47127334 ┆ 1698    ┆ 967     ┆ 35        ┆ … ┆ -0.291133  ┆ 0.167733   ┆ 0.099704   ┆ 0.32461    │\n",
       "│ 47127335 ┆ 1698    ┆ 967     ┆ 36        ┆ … ┆ -1.256913  ┆ -0.109359  ┆ -0.027474  ┆ -0.253956  │\n",
       "│ 47127336 ┆ 1698    ┆ 967     ┆ 37        ┆ … ┆ -0.260777  ┆ -0.486923  ┆ -0.275566  ┆ -1.020708  │\n",
       "│ 47127337 ┆ 1698    ┆ 967     ┆ 38        ┆ … ┆ 0.311465   ┆ -0.044797  ┆ 0.011133   ┆ -0.0793    │\n",
       "└──────────┴─────────┴─────────┴───────────┴───┴────────────┴────────────┴────────────┴────────────┘"
      ]
     },
     "execution_count": 7,
     "metadata": {},
     "output_type": "execute_result"
    }
   ],
   "source": [
    "train = train.join(lags, on=[\"date_id\", \"symbol_id\"],  how=\"left\")\n",
    "train"
   ]
  },
  {
   "cell_type": "markdown",
   "id": "ae7a12f6",
   "metadata": {
    "papermill": {
     "duration": 0.004968,
     "end_time": "2025-01-07T08:30:41.759329",
     "exception": false,
     "start_time": "2025-01-07T08:30:41.754361",
     "status": "completed"
    },
    "tags": []
   },
   "source": [
    "# Split training data and validation data"
   ]
  },
  {
   "cell_type": "code",
   "execution_count": 8,
   "id": "9c4526a6",
   "metadata": {
    "execution": {
     "iopub.execute_input": "2025-01-07T08:30:41.771105Z",
     "iopub.status.busy": "2025-01-07T08:30:41.770690Z",
     "iopub.status.idle": "2025-01-07T08:30:41.868416Z",
     "shell.execute_reply": "2025-01-07T08:30:41.866844Z"
    },
    "papermill": {
     "duration": 0.106166,
     "end_time": "2025-01-07T08:30:41.870715",
     "exception": false,
     "start_time": "2025-01-07T08:30:41.764549",
     "status": "completed"
    },
    "tags": []
   },
   "outputs": [
    {
     "name": "stdout",
     "output_type": "stream",
     "text": [
      "\n",
      " len_train = 6274576\n",
      "\n",
      " len_ofl_mdl = 5960848\n",
      "\n",
      "---> Last offline train date = 1690\n",
      "\n"
     ]
    }
   ],
   "source": [
    "len_train   = train.select(pl.col(\"date_id\")).shape[0]\n",
    "valid_records = int(len_train * CONFIG.valid_ratio)\n",
    "len_ofl_mdl = len_train - valid_records\n",
    "last_tr_dt  = train.select(pl.col(\"date_id\")).row(len_ofl_mdl)[0]\n",
    "\n",
    "print(f\"\\n len_train = {len_train}\")\n",
    "print(f\"\\n len_ofl_mdl = {len_ofl_mdl}\")\n",
    "print(f\"\\n---> Last offline train date = {last_tr_dt}\\n\")\n",
    "\n",
    "training_data = train.filter(pl.col(\"date_id\").le(last_tr_dt))\n",
    "validation_data = train.filter(pl.col(\"date_id\").gt(last_tr_dt))"
   ]
  },
  {
   "cell_type": "code",
   "execution_count": 9,
   "id": "bc48a6e2",
   "metadata": {
    "execution": {
     "iopub.execute_input": "2025-01-07T08:30:41.881837Z",
     "iopub.status.busy": "2025-01-07T08:30:41.881460Z",
     "iopub.status.idle": "2025-01-07T08:30:41.900831Z",
     "shell.execute_reply": "2025-01-07T08:30:41.899704Z"
    },
    "papermill": {
     "duration": 0.02729,
     "end_time": "2025-01-07T08:30:41.902912",
     "exception": false,
     "start_time": "2025-01-07T08:30:41.875622",
     "status": "completed"
    },
    "tags": []
   },
   "outputs": [
    {
     "data": {
      "text/html": [
       "<div><style>\n",
       ".dataframe > thead > tr,\n",
       ".dataframe > tbody > tr {\n",
       "  text-align: right;\n",
       "  white-space: pre-wrap;\n",
       "}\n",
       "</style>\n",
       "<small>shape: (301_048, 104)</small><table border=\"1\" class=\"dataframe\"><thead><tr><th>id</th><th>date_id</th><th>time_id</th><th>symbol_id</th><th>weight</th><th>feature_00</th><th>feature_01</th><th>feature_02</th><th>feature_03</th><th>feature_04</th><th>feature_05</th><th>feature_06</th><th>feature_07</th><th>feature_08</th><th>feature_09</th><th>feature_10</th><th>feature_11</th><th>feature_12</th><th>feature_13</th><th>feature_14</th><th>feature_15</th><th>feature_16</th><th>feature_17</th><th>feature_18</th><th>feature_19</th><th>feature_20</th><th>feature_21</th><th>feature_22</th><th>feature_23</th><th>feature_24</th><th>feature_25</th><th>feature_26</th><th>feature_27</th><th>feature_28</th><th>feature_29</th><th>feature_30</th><th>feature_31</th><th>&hellip;</th><th>feature_62</th><th>feature_63</th><th>feature_64</th><th>feature_65</th><th>feature_66</th><th>feature_67</th><th>feature_68</th><th>feature_69</th><th>feature_70</th><th>feature_71</th><th>feature_72</th><th>feature_73</th><th>feature_74</th><th>feature_75</th><th>feature_76</th><th>feature_77</th><th>feature_78</th><th>responder_0</th><th>responder_1</th><th>responder_2</th><th>responder_3</th><th>responder_4</th><th>responder_5</th><th>responder_6</th><th>responder_7</th><th>responder_8</th><th>partition_id</th><th>label</th><th>responder_0_lag_1</th><th>responder_1_lag_1</th><th>responder_2_lag_1</th><th>responder_3_lag_1</th><th>responder_4_lag_1</th><th>responder_5_lag_1</th><th>responder_6_lag_1</th><th>responder_7_lag_1</th><th>responder_8_lag_1</th></tr><tr><td>u32</td><td>i16</td><td>i16</td><td>i8</td><td>f32</td><td>f32</td><td>f32</td><td>f32</td><td>f32</td><td>f32</td><td>f32</td><td>f32</td><td>f32</td><td>f32</td><td>i8</td><td>i8</td><td>i16</td><td>f32</td><td>f32</td><td>f32</td><td>f32</td><td>f32</td><td>f32</td><td>f32</td><td>f32</td><td>f32</td><td>f32</td><td>f32</td><td>f32</td><td>f32</td><td>f32</td><td>f32</td><td>f32</td><td>f32</td><td>f32</td><td>f32</td><td>f32</td><td>&hellip;</td><td>f32</td><td>f32</td><td>f32</td><td>f32</td><td>f32</td><td>f32</td><td>f32</td><td>f32</td><td>f32</td><td>f32</td><td>f32</td><td>f32</td><td>f32</td><td>f32</td><td>f32</td><td>f32</td><td>f32</td><td>f32</td><td>f32</td><td>f32</td><td>f32</td><td>f32</td><td>f32</td><td>f32</td><td>f32</td><td>f32</td><td>i64</td><td>i32</td><td>f32</td><td>f32</td><td>f32</td><td>f32</td><td>f32</td><td>f32</td><td>f32</td><td>f32</td><td>f32</td></tr></thead><tbody><tr><td>46826290</td><td>1691</td><td>0</td><td>0</td><td>3.725687</td><td>2.875351</td><td>1.902497</td><td>2.442356</td><td>2.275922</td><td>-1.900912</td><td>0.109809</td><td>-0.987361</td><td>-0.498103</td><td>-0.203913</td><td>11</td><td>7</td><td>76</td><td>-1.071316</td><td>2.596854</td><td>0.084187</td><td>-0.588666</td><td>-0.081975</td><td>-0.758741</td><td>-1.844292</td><td>-1.616732</td><td>1.129157</td><td>-0.117563</td><td>1.895694</td><td>1.055824</td><td>1.732422</td><td>1.6499</td><td>1.045879</td><td>1.16183</td><td>0.419587</td><td>-0.967041</td><td>-0.914865</td><td>-0.100731</td><td>&hellip;</td><td>-0.376398</td><td>-0.299999</td><td>-0.404779</td><td>-1.557762</td><td>-1.647366</td><td>-0.840109</td><td>1.206596</td><td>-0.180208</td><td>-0.714234</td><td>3.472888</td><td>0.481065</td><td>-0.188388</td><td>-0.256035</td><td>3.937374</td><td>6.505323</td><td>3.396123</td><td>4.425734</td><td>-0.300887</td><td>0.024018</td><td>0.26636</td><td>-1.846393</td><td>-1.319574</td><td>-1.649363</td><td>-2.37614</td><td>-2.129162</td><td>-3.700761</td><td>9</td><td>-4</td><td>-0.220147</td><td>-0.263234</td><td>0.314635</td><td>0.003016</td><td>0.004875</td><td>0.164086</td><td>0.015148</td><td>0.024748</td><td>0.016193</td></tr><tr><td>46826291</td><td>1691</td><td>0</td><td>1</td><td>3.344007</td><td>2.619865</td><td>0.977173</td><td>2.537985</td><td>2.014753</td><td>-2.828716</td><td>0.149373</td><td>-0.782928</td><td>-0.511855</td><td>-0.23832</td><td>11</td><td>7</td><td>76</td><td>-1.060666</td><td>0.830296</td><td>-0.40142</td><td>-0.588666</td><td>0.044371</td><td>-0.758741</td><td>-2.804641</td><td>-1.607129</td><td>1.041521</td><td>0.070675</td><td>1.561504</td><td>0.840905</td><td>1.205934</td><td>0.483422</td><td>-1.251816</td><td>-0.188141</td><td>0.736524</td><td>-0.60212</td><td>-0.716195</td><td>0.059407</td><td>&hellip;</td><td>-0.277489</td><td>-0.277824</td><td>-0.257283</td><td>-1.632294</td><td>-1.873781</td><td>-0.770637</td><td>0.438394</td><td>-0.587154</td><td>-1.011422</td><td>1.129284</td><td>-0.199034</td><td>-0.188388</td><td>-0.256035</td><td>1.37993</td><td>2.679183</td><td>0.45275</td><td>0.362266</td><td>-0.138919</td><td>-0.002569</td><td>0.175624</td><td>-2.282696</td><td>-2.430525</td><td>-3.05395</td><td>-3.764602</td><td>-2.666663</td><td>-5.0</td><td>9</td><td>-7</td><td>-1.077176</td><td>-0.22724</td><td>0.145465</td><td>0.119212</td><td>0.0406</td><td>0.258023</td><td>0.146226</td><td>0.08656</td><td>0.273702</td></tr><tr><td>46826292</td><td>1691</td><td>0</td><td>2</td><td>2.97724</td><td>1.891169</td><td>1.316441</td><td>2.459301</td><td>2.160374</td><td>-2.472204</td><td>0.104867</td><td>-0.831395</td><td>-0.824656</td><td>-0.38646</td><td>81</td><td>2</td><td>59</td><td>-0.593003</td><td>0.592807</td><td>-0.346058</td><td>-0.588666</td><td>-0.538496</td><td>-0.758741</td><td>-0.774373</td><td>-2.003314</td><td>-0.076213</td><td>-0.152635</td><td>0.679181</td><td>0.797249</td><td>0.531578</td><td>-0.04919</td><td>0.857706</td><td>0.68375</td><td>-0.027131</td><td>-0.433721</td><td>-0.489216</td><td>-0.192402</td><td>&hellip;</td><td>-0.272149</td><td>-0.281928</td><td>-0.299023</td><td>-1.086847</td><td>-2.924199</td><td>-0.841049</td><td>0.56977</td><td>-0.435101</td><td>-0.765014</td><td>0.443046</td><td>-0.493037</td><td>-0.188388</td><td>-0.256035</td><td>0.070608</td><td>0.048865</td><td>-0.239833</td><td>-0.179334</td><td>-0.246979</td><td>-0.112181</td><td>-0.920523</td><td>0.785028</td><td>1.981712</td><td>-2.451337</td><td>1.154909</td><td>3.141321</td><td>-0.85232</td><td>9</td><td>2</td><td>-1.273494</td><td>-0.254899</td><td>-0.731619</td><td>0.295771</td><td>0.182442</td><td>-0.137669</td><td>-0.097605</td><td>-0.00902</td><td>-0.20872</td></tr><tr><td>46826293</td><td>1691</td><td>0</td><td>3</td><td>1.978776</td><td>2.087344</td><td>0.962131</td><td>2.582777</td><td>2.434765</td><td>-2.637869</td><td>0.17068</td><td>-1.243193</td><td>-0.668333</td><td>-0.341923</td><td>4</td><td>3</td><td>11</td><td>-0.690289</td><td>2.167711</td><td>0.042594</td><td>-0.588666</td><td>-0.26523</td><td>-0.758741</td><td>-2.120872</td><td>-2.232578</td><td>-0.016368</td><td>-0.057444</td><td>0.375875</td><td>0.628671</td><td>0.377513</td><td>-0.282489</td><td>-0.012308</td><td>-0.427111</td><td>-0.543631</td><td>-0.631784</td><td>-0.59662</td><td>-0.043287</td><td>&hellip;</td><td>-0.051905</td><td>-0.093437</td><td>-0.072981</td><td>-2.080763</td><td>-3.644395</td><td>-0.767814</td><td>2.035217</td><td>-0.02922</td><td>-0.725214</td><td>2.076556</td><td>0.176178</td><td>-0.188388</td><td>-0.256035</td><td>1.324298</td><td>1.861361</td><td>0.140849</td><td>0.144077</td><td>0.085344</td><td>-0.032906</td><td>0.097499</td><td>-0.741609</td><td>-0.503937</td><td>0.042153</td><td>-0.994788</td><td>-0.568593</td><td>-0.002262</td><td>9</td><td>-1</td><td>-1.151294</td><td>-0.786059</td><td>0.122825</td><td>-0.228032</td><td>-0.10892</td><td>0.266399</td><td>0.264185</td><td>0.120004</td><td>0.335621</td></tr><tr><td>46826294</td><td>1691</td><td>0</td><td>4</td><td>2.612476</td><td>2.517823</td><td>1.177602</td><td>2.620227</td><td>2.723363</td><td>-2.819536</td><td>0.057581</td><td>-0.672236</td><td>-0.378972</td><td>-0.142323</td><td>15</td><td>1</td><td>9</td><td>-1.003598</td><td>0.337428</td><td>-0.522365</td><td>-0.588666</td><td>-0.757276</td><td>-0.758741</td><td>-1.516193</td><td>-2.868767</td><td>-0.981469</td><td>0.912641</td><td>0.902719</td><td>0.163409</td><td>4.374658</td><td>2.770107</td><td>-1.50081</td><td>-1.339248</td><td>-0.650273</td><td>-0.56918</td><td>-0.724625</td><td>0.705902</td><td>&hellip;</td><td>-0.385439</td><td>-0.332206</td><td>-0.383705</td><td>-1.191718</td><td>-1.886705</td><td>-0.968023</td><td>0.377234</td><td>-0.465698</td><td>-0.884923</td><td>-0.176916</td><td>-0.688634</td><td>-0.188388</td><td>-0.256035</td><td>0.442541</td><td>0.457613</td><td>-0.143694</td><td>-0.137332</td><td>0.115972</td><td>0.124892</td><td>-0.05685</td><td>0.266993</td><td>0.023727</td><td>-0.544508</td><td>0.337255</td><td>0.019037</td><td>-0.882814</td><td>9</td><td>0</td><td>0.688146</td><td>0.658165</td><td>-0.366572</td><td>-0.078787</td><td>-0.056613</td><td>-0.170136</td><td>-0.007079</td><td>0.023542</td><td>-0.032158</td></tr><tr><td>&hellip;</td><td>&hellip;</td><td>&hellip;</td><td>&hellip;</td><td>&hellip;</td><td>&hellip;</td><td>&hellip;</td><td>&hellip;</td><td>&hellip;</td><td>&hellip;</td><td>&hellip;</td><td>&hellip;</td><td>&hellip;</td><td>&hellip;</td><td>&hellip;</td><td>&hellip;</td><td>&hellip;</td><td>&hellip;</td><td>&hellip;</td><td>&hellip;</td><td>&hellip;</td><td>&hellip;</td><td>&hellip;</td><td>&hellip;</td><td>&hellip;</td><td>&hellip;</td><td>&hellip;</td><td>&hellip;</td><td>&hellip;</td><td>&hellip;</td><td>&hellip;</td><td>&hellip;</td><td>&hellip;</td><td>&hellip;</td><td>&hellip;</td><td>&hellip;</td><td>&hellip;</td><td>&hellip;</td><td>&hellip;</td><td>&hellip;</td><td>&hellip;</td><td>&hellip;</td><td>&hellip;</td><td>&hellip;</td><td>&hellip;</td><td>&hellip;</td><td>&hellip;</td><td>&hellip;</td><td>&hellip;</td><td>&hellip;</td><td>&hellip;</td><td>&hellip;</td><td>&hellip;</td><td>&hellip;</td><td>&hellip;</td><td>&hellip;</td><td>&hellip;</td><td>&hellip;</td><td>&hellip;</td><td>&hellip;</td><td>&hellip;</td><td>&hellip;</td><td>&hellip;</td><td>&hellip;</td><td>&hellip;</td><td>&hellip;</td><td>&hellip;</td><td>&hellip;</td><td>&hellip;</td><td>&hellip;</td><td>&hellip;</td><td>&hellip;</td><td>&hellip;</td><td>&hellip;</td><td>&hellip;</td></tr><tr><td>47127333</td><td>1698</td><td>967</td><td>34</td><td>3.242493</td><td>2.52516</td><td>-0.721981</td><td>2.544025</td><td>2.477615</td><td>0.417557</td><td>0.785812</td><td>1.117796</td><td>2.199436</td><td>0.415427</td><td>42</td><td>5</td><td>150</td><td>0.804403</td><td>1.157257</td><td>1.031543</td><td>-0.671189</td><td>-0.3286</td><td>-0.486132</td><td>1.730176</td><td>-0.006173</td><td>-0.001144</td><td>-0.213062</td><td>0.932618</td><td>1.367338</td><td>-0.238197</td><td>-0.692615</td><td>-0.121163</td><td>1.090798</td><td>1.444294</td><td>-0.675626</td><td>-1.013264</td><td>-0.242888</td><td>&hellip;</td><td>-0.384833</td><td>-0.275818</td><td>-0.40804</td><td>2.427115</td><td>-0.108427</td><td>0.739734</td><td>0.830205</td><td>0.366287</td><td>1.33325</td><td>1.075499</td><td>1.798264</td><td>-0.183443</td><td>-0.190222</td><td>0.234211</td><td>0.347142</td><td>-0.044463</td><td>0.016936</td><td>0.243475</td><td>0.166927</td><td>0.38494</td><td>-0.174297</td><td>-0.066046</td><td>-0.038767</td><td>-0.132337</td><td>-0.022426</td><td>-0.252461</td><td>9</td><td>0</td><td>0.501321</td><td>0.905332</td><td>-0.819582</td><td>-0.564046</td><td>-0.223018</td><td>-0.283954</td><td>-0.045938</td><td>0.009797</td><td>-0.102538</td></tr><tr><td>47127334</td><td>1698</td><td>967</td><td>35</td><td>1.079139</td><td>1.857906</td><td>-0.790646</td><td>2.745439</td><td>2.339877</td><td>0.845065</td><td>0.65137</td><td>1.180301</td><td>1.966379</td><td>0.321543</td><td>25</td><td>7</td><td>195</td><td>-0.075294</td><td>-0.152726</td><td>-0.20417</td><td>-0.421137</td><td>0.21708</td><td>-0.258775</td><td>1.874978</td><td>0.19988</td><td>-0.199219</td><td>-0.125619</td><td>-1.004547</td><td>-0.051933</td><td>0.450905</td><td>0.009246</td><td>0.164127</td><td>-0.939974</td><td>-1.143421</td><td>-0.320071</td><td>-0.379835</td><td>-0.142429</td><td>&hellip;</td><td>-0.343868</td><td>-0.253991</td><td>-0.278832</td><td>2.050639</td><td>-0.059506</td><td>-0.029396</td><td>-0.101381</td><td>-0.187759</td><td>-0.180839</td><td>-0.0861</td><td>-0.153405</td><td>-0.196077</td><td>-0.175292</td><td>1.04578</td><td>0.739733</td><td>0.03372</td><td>0.05086</td><td>0.850152</td><td>0.909382</td><td>1.015314</td><td>0.235962</td><td>0.122539</td><td>0.099559</td><td>-0.249584</td><td>-0.123571</td><td>-0.46063</td><td>9</td><td>0</td><td>-1.113053</td><td>0.69719</td><td>-1.619031</td><td>-1.222743</td><td>-0.706082</td><td>-0.291133</td><td>0.167733</td><td>0.099704</td><td>0.32461</td></tr><tr><td>47127335</td><td>1698</td><td>967</td><td>36</td><td>1.033172</td><td>2.515527</td><td>-0.672298</td><td>2.28925</td><td>2.521592</td><td>0.255077</td><td>0.919892</td><td>1.172018</td><td>2.180496</td><td>0.24846</td><td>49</td><td>7</td><td>297</td><td>1.026715</td><td>-0.096892</td><td>0.224309</td><td>-0.528109</td><td>-0.704952</td><td>-0.704818</td><td>2.312482</td><td>0.32804</td><td>-0.108193</td><td>-0.125619</td><td>-0.945684</td><td>-0.244173</td><td>0.205989</td><td>-0.357343</td><td>0.164127</td><td>-0.939974</td><td>-1.11075</td><td>-0.580242</td><td>-0.400568</td><td>-0.142429</td><td>&hellip;</td><td>-0.341991</td><td>-0.249132</td><td>-0.34365</td><td>2.251358</td><td>0.601888</td><td>1.035051</td><td>-0.283241</td><td>0.107244</td><td>0.86016</td><td>0.024223</td><td>0.374852</td><td>-0.220933</td><td>-0.161584</td><td>0.032771</td><td>0.036888</td><td>0.168908</td><td>0.152333</td><td>0.395684</td><td>-0.292574</td><td>-3.215846</td><td>-0.535129</td><td>-0.178484</td><td>-1.80815</td><td>-0.065355</td><td>-0.000367</td><td>-0.12517</td><td>9</td><td>0</td><td>-1.019353</td><td>-0.460962</td><td>-2.026678</td><td>-0.848606</td><td>-0.305448</td><td>-1.256913</td><td>-0.109359</td><td>-0.027474</td><td>-0.253956</td></tr><tr><td>47127336</td><td>1698</td><td>967</td><td>37</td><td>1.243116</td><td>2.663298</td><td>-0.889112</td><td>2.313155</td><td>3.101428</td><td>0.324454</td><td>0.618944</td><td>1.185663</td><td>1.599724</td><td>0.319719</td><td>34</td><td>4</td><td>214</td><td>0.759314</td><td>0.284057</td><td>0.41716</td><td>-0.611075</td><td>-0.513717</td><td>-0.891423</td><td>1.84994</td><td>0.406756</td><td>-1.608196</td><td>-0.252663</td><td>-0.271574</td><td>-0.051405</td><td>0.098146</td><td>-0.653961</td><td>0.173676</td><td>-0.016497</td><td>-0.404509</td><td>-0.577262</td><td>-0.731429</td><td>-0.21646</td><td>&hellip;</td><td>-0.358106</td><td>-0.141883</td><td>-0.255192</td><td>2.489247</td><td>0.537652</td><td>0.982107</td><td>-0.158009</td><td>0.137389</td><td>0.478357</td><td>0.782692</td><td>0.581421</td><td>-0.106056</td><td>-0.111017</td><td>0.163867</td><td>0.169331</td><td>-0.037563</td><td>-0.029483</td><td>1.925987</td><td>0.479394</td><td>3.621867</td><td>-0.107114</td><td>-0.063599</td><td>1.204755</td><td>-0.148711</td><td>-0.026583</td><td>-0.256395</td><td>9</td><td>0</td><td>0.23585</td><td>0.556479</td><td>0.618944</td><td>-0.243765</td><td>-0.108361</td><td>-0.260777</td><td>-0.486923</td><td>-0.275566</td><td>-1.020708</td></tr><tr><td>47127337</td><td>1698</td><td>967</td><td>38</td><td>3.193685</td><td>2.728506</td><td>-0.745238</td><td>2.788789</td><td>2.343393</td><td>0.454731</td><td>0.862839</td><td>0.964795</td><td>2.089673</td><td>0.344931</td><td>50</td><td>1</td><td>522</td><td>0.406531</td><td>0.618247</td><td>1.01327</td><td>-0.952069</td><td>-0.679168</td><td>-0.597603</td><td>0.375125</td><td>1.97537</td><td>-0.440974</td><td>-0.072018</td><td>1.741353</td><td>1.380735</td><td>-0.110494</td><td>-0.874806</td><td>0.553424</td><td>0.532243</td><td>0.263214</td><td>-0.757856</td><td>-0.869204</td><td>-0.062955</td><td>&hellip;</td><td>-0.622853</td><td>-0.363631</td><td>-0.395652</td><td>-0.016812</td><td>2.016734</td><td>0.241486</td><td>0.253229</td><td>0.228745</td><td>0.462717</td><td>0.799635</td><td>0.706102</td><td>-0.376377</td><td>-0.286764</td><td>-0.359046</td><td>-0.246135</td><td>-0.288941</td><td>-0.247774</td><td>1.228778</td><td>0.512562</td><td>-0.050865</td><td>0.160883</td><td>0.080756</td><td>-0.078237</td><td>-0.138548</td><td>-0.038771</td><td>-0.21194</td><td>9</td><td>0</td><td>0.542563</td><td>0.513193</td><td>0.814393</td><td>0.032767</td><td>0.025435</td><td>0.311465</td><td>-0.044797</td><td>0.011133</td><td>-0.0793</td></tr></tbody></table></div>"
      ],
      "text/plain": [
       "shape: (301_048, 104)\n",
       "┌──────────┬─────────┬─────────┬───────────┬───┬────────────┬────────────┬────────────┬────────────┐\n",
       "│ id       ┆ date_id ┆ time_id ┆ symbol_id ┆ … ┆ responder_ ┆ responder_ ┆ responder_ ┆ responder_ │\n",
       "│ ---      ┆ ---     ┆ ---     ┆ ---       ┆   ┆ 5_lag_1    ┆ 6_lag_1    ┆ 7_lag_1    ┆ 8_lag_1    │\n",
       "│ u32      ┆ i16     ┆ i16     ┆ i8        ┆   ┆ ---        ┆ ---        ┆ ---        ┆ ---        │\n",
       "│          ┆         ┆         ┆           ┆   ┆ f32        ┆ f32        ┆ f32        ┆ f32        │\n",
       "╞══════════╪═════════╪═════════╪═══════════╪═══╪════════════╪════════════╪════════════╪════════════╡\n",
       "│ 46826290 ┆ 1691    ┆ 0       ┆ 0         ┆ … ┆ 0.164086   ┆ 0.015148   ┆ 0.024748   ┆ 0.016193   │\n",
       "│ 46826291 ┆ 1691    ┆ 0       ┆ 1         ┆ … ┆ 0.258023   ┆ 0.146226   ┆ 0.08656    ┆ 0.273702   │\n",
       "│ 46826292 ┆ 1691    ┆ 0       ┆ 2         ┆ … ┆ -0.137669  ┆ -0.097605  ┆ -0.00902   ┆ -0.20872   │\n",
       "│ 46826293 ┆ 1691    ┆ 0       ┆ 3         ┆ … ┆ 0.266399   ┆ 0.264185   ┆ 0.120004   ┆ 0.335621   │\n",
       "│ 46826294 ┆ 1691    ┆ 0       ┆ 4         ┆ … ┆ -0.170136  ┆ -0.007079  ┆ 0.023542   ┆ -0.032158  │\n",
       "│ …        ┆ …       ┆ …       ┆ …         ┆ … ┆ …          ┆ …          ┆ …          ┆ …          │\n",
       "│ 47127333 ┆ 1698    ┆ 967     ┆ 34        ┆ … ┆ -0.283954  ┆ -0.045938  ┆ 0.009797   ┆ -0.102538  │\n",
       "│ 47127334 ┆ 1698    ┆ 967     ┆ 35        ┆ … ┆ -0.291133  ┆ 0.167733   ┆ 0.099704   ┆ 0.32461    │\n",
       "│ 47127335 ┆ 1698    ┆ 967     ┆ 36        ┆ … ┆ -1.256913  ┆ -0.109359  ┆ -0.027474  ┆ -0.253956  │\n",
       "│ 47127336 ┆ 1698    ┆ 967     ┆ 37        ┆ … ┆ -0.260777  ┆ -0.486923  ┆ -0.275566  ┆ -1.020708  │\n",
       "│ 47127337 ┆ 1698    ┆ 967     ┆ 38        ┆ … ┆ 0.311465   ┆ -0.044797  ┆ 0.011133   ┆ -0.0793    │\n",
       "└──────────┴─────────┴─────────┴───────────┴───┴────────────┴────────────┴────────────┴────────────┘"
      ]
     },
     "execution_count": 9,
     "metadata": {},
     "output_type": "execute_result"
    }
   ],
   "source": [
    "validation_data"
   ]
  },
  {
   "cell_type": "markdown",
   "id": "6b790d6b",
   "metadata": {
    "papermill": {
     "duration": 0.004708,
     "end_time": "2025-01-07T08:30:41.912716",
     "exception": false,
     "start_time": "2025-01-07T08:30:41.908008",
     "status": "completed"
    },
    "tags": []
   },
   "source": [
    "# Save data as parquets"
   ]
  },
  {
   "cell_type": "code",
   "execution_count": 10,
   "id": "ee389438",
   "metadata": {
    "execution": {
     "iopub.execute_input": "2025-01-07T08:30:41.924391Z",
     "iopub.status.busy": "2025-01-07T08:30:41.924012Z",
     "iopub.status.idle": "2025-01-07T08:30:49.544385Z",
     "shell.execute_reply": "2025-01-07T08:30:49.543411Z"
    },
    "papermill": {
     "duration": 7.629215,
     "end_time": "2025-01-07T08:30:49.546882",
     "exception": false,
     "start_time": "2025-01-07T08:30:41.917667",
     "status": "completed"
    },
    "tags": []
   },
   "outputs": [],
   "source": [
    "training_data.\\\n",
    "write_parquet(\n",
    "    f\"training_data.parquet\"\n",
    ")"
   ]
  },
  {
   "cell_type": "code",
   "execution_count": 11,
   "id": "751f0864",
   "metadata": {
    "execution": {
     "iopub.execute_input": "2025-01-07T08:30:49.559126Z",
     "iopub.status.busy": "2025-01-07T08:30:49.558692Z",
     "iopub.status.idle": "2025-01-07T08:30:49.935268Z",
     "shell.execute_reply": "2025-01-07T08:30:49.934126Z"
    },
    "papermill": {
     "duration": 0.385654,
     "end_time": "2025-01-07T08:30:49.938074",
     "exception": false,
     "start_time": "2025-01-07T08:30:49.552420",
     "status": "completed"
    },
    "tags": []
   },
   "outputs": [],
   "source": [
    "validation_data.\\\n",
    "write_parquet(\n",
    "    f\"validation_data.parquet\"\n",
    ")"
   ]
  }
 ],
 "metadata": {
  "kaggle": {
   "accelerator": "none",
   "dataSources": [
    {
     "databundleVersionId": 9871156,
     "sourceId": 84493,
     "sourceType": "competition"
    }
   ],
   "dockerImageVersionId": 30786,
   "isGpuEnabled": false,
   "isInternetEnabled": false,
   "language": "python",
   "sourceType": "notebook"
  },
  "kernelspec": {
   "display_name": "Python 3",
   "language": "python",
   "name": "python3"
  },
  "language_info": {
   "codemirror_mode": {
    "name": "ipython",
    "version": 3
   },
   "file_extension": ".py",
   "mimetype": "text/x-python",
   "name": "python",
   "nbconvert_exporter": "python",
   "pygments_lexer": "ipython3",
   "version": "3.10.14"
  },
  "papermill": {
   "default_parameters": {},
   "duration": 79.0644,
   "end_time": "2025-01-07T08:30:54.411783",
   "environment_variables": {},
   "exception": null,
   "input_path": "__notebook__.ipynb",
   "output_path": "__notebook__.ipynb",
   "parameters": {},
   "start_time": "2025-01-07T08:29:35.347383",
   "version": "2.6.0"
  }
 },
 "nbformat": 4,
 "nbformat_minor": 5
}
