{
 "cells": [
  {
   "cell_type": "code",
   "execution_count": 1,
   "metadata": {},
   "outputs": [],
   "source": [
    "import pandas as pd\n",
    "import numpy as np\n",
    "from matplotlib import pyplot as plt\n",
    "import seaborn as sns\n",
    "import polars as pl\n",
    "import gc"
   ]
  },
  {
   "cell_type": "markdown",
   "metadata": {},
   "source": [
    "# Data Preparing"
   ]
  },
  {
   "cell_type": "code",
   "execution_count": 2,
   "metadata": {},
   "outputs": [
    {
     "data": {
      "text/plain": [
       "\"\\nfor i in range(0,11,1):\\n    df = pl.read_parquet(f'datasets/train.parquet/partition_id={i}')\\n    globals()[f'df_{i + 1}'] = df\\n\\ndf_total = pl.concat([df_1, df_2, df_3, df_4, df_5, df_6, df_7, df_8, df_9, df_10])\\ndf_total.shape\\n\""
      ]
     },
     "execution_count": 2,
     "metadata": {},
     "output_type": "execute_result"
    }
   ],
   "source": [
    "# Parquet 파일을 읽기\n",
    "# polar를 활용하여 3번째 까지만 읽어옴\n",
    "'''\n",
    "for i in range(0,11,1):\n",
    "    df = pl.read_parquet(f'datasets/train.parquet/partition_id={i}')\n",
    "    globals()[f'df_{i + 1}'] = df\n",
    "\n",
    "df_total = pl.concat([df_1, df_2, df_3, df_4, df_5, df_6, df_7, df_8, df_9, df_10])\n",
    "df_total.shape\n",
    "'''"
   ]
  },
  {
   "cell_type": "code",
   "execution_count": 3,
   "metadata": {},
   "outputs": [],
   "source": [
    "# build datareading model\n",
    "def read_data(num_f, num_s = 0):\n",
    "    dfs = []\n",
    "    for i in range(num_s,num_f):\n",
    "        df = pl.read_parquet(f'datasets/train.parquet/partition_id={i}')\n",
    "        dfs.append(df)\n",
    "\n",
    "    df_total = pl.concat(dfs)\n",
    "    return df_total"
   ]
  },
  {
   "cell_type": "code",
   "execution_count": 4,
   "metadata": {},
   "outputs": [],
   "source": [
    "df_early_model = read_data(2)\n",
    "df_mid_model = read_data(6, num_s = 4)\n",
    "df_late_model = read_data(10, num_s = 8)"
   ]
  },
  {
   "cell_type": "code",
   "execution_count": 5,
   "metadata": {},
   "outputs": [],
   "source": [
    "# feature grouping by Tag_n CSV, by distance = 2\n",
    "# But just before, we gotta do scale the data!\n",
    "\n",
    "\n",
    "g1 = [44,55,7,60,52,41,49]\n",
    "g2 = [43, 54, 46, 57, 42, 53]\n",
    "g3 = [6,59,37,38,5,8]\n",
    "g4 = [47,58,39,50]\n",
    "g5 = [40,48,51,45,56]\n",
    "g6 = [0,1,32,33]\n",
    "g7 = [2,34,3,4,35,36]\n",
    "g8 = [20,31,30,29,28,27,26,25,24,23,21,22]\n",
    "g9 = [70,12,67]\n",
    "g10 = [71,13,68]\n",
    "g11 = [72,14,69]\n",
    "g12 = [73,74,75,76,77,78]\n",
    "g13 = [17,64,15,62,16,63]\n",
    "g14 = [61,11,9,10]\n",
    "g15 = [18,65,19,66]\n"
   ]
  },
  {
   "cell_type": "markdown",
   "metadata": {},
   "source": [
    "# Functions - handling data"
   ]
  },
  {
   "cell_type": "code",
   "execution_count": 6,
   "metadata": {},
   "outputs": [],
   "source": [
    "from sklearn.cluster import AgglomerativeClustering\n",
    "from scipy.cluster.hierarchy import dendrogram, linkage\n",
    "from sklearn.mixture import GaussianMixture\n",
    "\n",
    "def date_and_resp(df_tmp_total):\n",
    "    # responder들 가져요기\n",
    "    df_tmp_resp = df_tmp_total[:,83:92]\n",
    "\n",
    "    # 첫 번째 행의 date_id 가져오기\n",
    "    date_id_value = df_tmp_total[\"date_id\"]\n",
    "\n",
    "    # date_id 값을 새로운 열로 추가\n",
    "    df_tmp_resp = df_tmp_resp.with_columns(\n",
    "        pl.lit(date_id_value).alias(\"date_id\")  # date_id 열 추가\n",
    "    )\n",
    "\n",
    "    return df_tmp_resp\n",
    "\n",
    "def date_and_feature(df_tmp_total):\n",
    "    # responder들 가져요기\n",
    "    df_tmp_feat = df_tmp_total[:,4:83]\n",
    "\n",
    "    # 첫 번째 행의 date_id 가져오기\n",
    "    date_id_value = df_tmp_total[\"date_id\"]  \n",
    "\n",
    "    # date_id 값을 새로운 열로 추가\n",
    "    df_tmp_feat = df_tmp_feat.with_columns(\n",
    "        pl.lit(date_id_value).alias(\"date_id\")  # date_id 열 추가\n",
    "    )\n",
    "\n",
    "    return df_tmp_feat\n",
    "\n",
    "def sample_df_small(df):\n",
    "    df_sampled = df.sample(n=2000000, with_replacement=False)\n",
    "    return df_sampled"
   ]
  },
  {
   "cell_type": "code",
   "execution_count": 7,
   "metadata": {},
   "outputs": [],
   "source": [
    "test_data = date_and_feature(df_early_model).drop('date_id')"
   ]
  },
  {
   "cell_type": "markdown",
   "metadata": {},
   "source": [
    "# Functions - Clustering\n",
    "- with no scaling"
   ]
  },
  {
   "cell_type": "code",
   "execution_count": 13,
   "metadata": {},
   "outputs": [],
   "source": [
    "from sklearn.cluster import KMeans\n",
    "from sklearn.impute import SimpleImputer\n",
    "import pandas as pd\n",
    "import numpy as np\n",
    "\n",
    "def kmeans(data, nclusters = 5, transpose = 'y'):\n",
    "\n",
    "    imputer = SimpleImputer(strategy='mean')\n",
    "    data_imputed = imputer.fit_transform(data)\n",
    "    \n",
    "    if transpose == 'y':\n",
    "        data_imputed.transpose()\n",
    "    else:\n",
    "        pass\n",
    "\n",
    "    # K-프로토타입스 모델 생성\n",
    "    n_clusters = 5  # 클러스터 개수 (그룹 개수)\n",
    "    kmeans = KMeans(n_clusters=nclusters, random_state=42)\n",
    "\n",
    "    # 클러스터링 수행\n",
    "    clusters = kmeans.fit_predict(data_imputed)\n",
    "\n",
    "    # 클러스터링 결과\n",
    "    data = data.with_columns(pl.Series(name='Cluster', values=clusters))\n",
    "\n",
    "    return data\n"
   ]
  },
  {
   "cell_type": "code",
   "execution_count": 16,
   "metadata": {},
   "outputs": [
    {
     "name": "stderr",
     "output_type": "stream",
     "text": [
      "c:\\Users\\campus3S031\\Desktop\\iMBank\\iM_DiGital_Banker_academy\\venv\\Lib\\site-packages\\sklearn\\impute\\_base.py:598: UserWarning: Skipping features without any observed values: ['feature_21' 'feature_26' 'feature_27' 'feature_31']. At least one non-missing value is needed for imputation with strategy='mean'.\n",
      "  warnings.warn(\n"
     ]
    }
   ],
   "source": [
    "kmeans_clustered_dat = kmeans(test_data)"
   ]
  },
  {
   "cell_type": "code",
   "execution_count": 15,
   "metadata": {},
   "outputs": [
    {
     "data": {
      "text/html": [
       "<div><style>\n",
       ".dataframe > thead > tr,\n",
       ".dataframe > tbody > tr {\n",
       "  text-align: right;\n",
       "  white-space: pre-wrap;\n",
       "}\n",
       "</style>\n",
       "<small>shape: (4_748_457, 80)</small><table border=\"1\" class=\"dataframe\"><thead><tr><th>feature_00</th><th>feature_01</th><th>feature_02</th><th>feature_03</th><th>feature_04</th><th>feature_05</th><th>feature_06</th><th>feature_07</th><th>feature_08</th><th>feature_09</th><th>feature_10</th><th>feature_11</th><th>feature_12</th><th>feature_13</th><th>feature_14</th><th>feature_15</th><th>feature_16</th><th>feature_17</th><th>feature_18</th><th>feature_19</th><th>feature_20</th><th>feature_21</th><th>feature_22</th><th>feature_23</th><th>feature_24</th><th>feature_25</th><th>feature_26</th><th>feature_27</th><th>feature_28</th><th>feature_29</th><th>feature_30</th><th>feature_31</th><th>feature_32</th><th>feature_33</th><th>feature_34</th><th>feature_35</th><th>feature_36</th><th>&hellip;</th><th>feature_43</th><th>feature_44</th><th>feature_45</th><th>feature_46</th><th>feature_47</th><th>feature_48</th><th>feature_49</th><th>feature_50</th><th>feature_51</th><th>feature_52</th><th>feature_53</th><th>feature_54</th><th>feature_55</th><th>feature_56</th><th>feature_57</th><th>feature_58</th><th>feature_59</th><th>feature_60</th><th>feature_61</th><th>feature_62</th><th>feature_63</th><th>feature_64</th><th>feature_65</th><th>feature_66</th><th>feature_67</th><th>feature_68</th><th>feature_69</th><th>feature_70</th><th>feature_71</th><th>feature_72</th><th>feature_73</th><th>feature_74</th><th>feature_75</th><th>feature_76</th><th>feature_77</th><th>feature_78</th><th>Cluster</th></tr><tr><td>f32</td><td>f32</td><td>f32</td><td>f32</td><td>f32</td><td>f32</td><td>f32</td><td>f32</td><td>f32</td><td>i8</td><td>i8</td><td>i16</td><td>f32</td><td>f32</td><td>f32</td><td>f32</td><td>f32</td><td>f32</td><td>f32</td><td>f32</td><td>f32</td><td>f32</td><td>f32</td><td>f32</td><td>f32</td><td>f32</td><td>f32</td><td>f32</td><td>f32</td><td>f32</td><td>f32</td><td>f32</td><td>f32</td><td>f32</td><td>f32</td><td>f32</td><td>f32</td><td>&hellip;</td><td>f32</td><td>f32</td><td>f32</td><td>f32</td><td>f32</td><td>f32</td><td>f32</td><td>f32</td><td>f32</td><td>f32</td><td>f32</td><td>f32</td><td>f32</td><td>f32</td><td>f32</td><td>f32</td><td>f32</td><td>f32</td><td>f32</td><td>f32</td><td>f32</td><td>f32</td><td>f32</td><td>f32</td><td>f32</td><td>f32</td><td>f32</td><td>f32</td><td>f32</td><td>f32</td><td>f32</td><td>f32</td><td>f32</td><td>f32</td><td>f32</td><td>f32</td><td>i32</td></tr></thead><tbody><tr><td>null</td><td>null</td><td>null</td><td>null</td><td>null</td><td>0.851033</td><td>0.242971</td><td>0.2634</td><td>-0.891687</td><td>11</td><td>7</td><td>76</td><td>-0.883028</td><td>0.003067</td><td>-0.744703</td><td>null</td><td>-0.169586</td><td>null</td><td>-1.335938</td><td>-1.707803</td><td>0.91013</td><td>null</td><td>1.636431</td><td>1.522133</td><td>-1.551398</td><td>-0.229627</td><td>null</td><td>null</td><td>1.378301</td><td>-0.283712</td><td>0.123196</td><td>null</td><td>null</td><td>null</td><td>0.28118</td><td>0.269163</td><td>0.349028</td><td>&hellip;</td><td>-0.181716</td><td>null</td><td>null</td><td>null</td><td>0.564021</td><td>2.088506</td><td>0.832022</td><td>null</td><td>0.204797</td><td>null</td><td>null</td><td>-0.808103</td><td>null</td><td>-2.037683</td><td>0.727661</td><td>null</td><td>-0.989118</td><td>-0.345213</td><td>-1.36224</td><td>null</td><td>null</td><td>null</td><td>null</td><td>null</td><td>-1.251104</td><td>-0.110252</td><td>-0.491157</td><td>-1.02269</td><td>0.152241</td><td>-0.659864</td><td>null</td><td>null</td><td>-0.261412</td><td>-0.211486</td><td>-0.335556</td><td>-0.281498</td><td>2</td></tr><tr><td>null</td><td>null</td><td>null</td><td>null</td><td>null</td><td>0.676961</td><td>0.151984</td><td>0.192465</td><td>-0.521729</td><td>11</td><td>7</td><td>76</td><td>-0.865307</td><td>-0.225629</td><td>-0.582163</td><td>null</td><td>0.317467</td><td>null</td><td>-1.250016</td><td>-1.682929</td><td>1.412757</td><td>null</td><td>0.520378</td><td>0.744132</td><td>-0.788658</td><td>0.641776</td><td>null</td><td>null</td><td>0.2272</td><td>0.580907</td><td>1.128879</td><td>null</td><td>null</td><td>null</td><td>-1.512286</td><td>-1.414357</td><td>-1.823322</td><td>&hellip;</td><td>null</td><td>null</td><td>null</td><td>null</td><td>-10.835207</td><td>-0.002704</td><td>-0.621836</td><td>null</td><td>1.172836</td><td>null</td><td>null</td><td>-1.625862</td><td>null</td><td>-1.410017</td><td>1.063013</td><td>null</td><td>0.888355</td><td>0.467994</td><td>-1.36224</td><td>null</td><td>null</td><td>null</td><td>null</td><td>null</td><td>-1.065759</td><td>0.013322</td><td>-0.592855</td><td>-1.052685</td><td>-0.393726</td><td>-0.741603</td><td>null</td><td>null</td><td>-0.281207</td><td>-0.182894</td><td>-0.245565</td><td>-0.302441</td><td>2</td></tr><tr><td>null</td><td>null</td><td>null</td><td>null</td><td>null</td><td>1.056285</td><td>0.187227</td><td>0.249901</td><td>-0.77305</td><td>11</td><td>7</td><td>76</td><td>-0.675719</td><td>-0.199404</td><td>-0.586798</td><td>null</td><td>-0.814909</td><td>null</td><td>-1.296782</td><td>-2.040234</td><td>0.639589</td><td>null</td><td>1.597359</td><td>0.657514</td><td>-1.350148</td><td>0.364215</td><td>null</td><td>null</td><td>-0.017751</td><td>-0.317361</td><td>-0.122379</td><td>null</td><td>null</td><td>null</td><td>-0.320921</td><td>-0.95809</td><td>-2.436589</td><td>&hellip;</td><td>null</td><td>null</td><td>null</td><td>null</td><td>-1.420632</td><td>-3.515137</td><td>-4.67776</td><td>null</td><td>0.535897</td><td>null</td><td>null</td><td>-0.72542</td><td>null</td><td>-2.29417</td><td>1.764551</td><td>null</td><td>-0.120789</td><td>-0.063458</td><td>-1.36224</td><td>null</td><td>null</td><td>null</td><td>null</td><td>null</td><td>-0.882604</td><td>-0.072482</td><td>-0.617934</td><td>-0.86323</td><td>-0.241892</td><td>-0.709919</td><td>null</td><td>null</td><td>0.377131</td><td>0.300724</td><td>-0.106842</td><td>-0.096792</td><td>2</td></tr><tr><td>null</td><td>null</td><td>null</td><td>null</td><td>null</td><td>1.139366</td><td>0.273328</td><td>0.306549</td><td>-1.262223</td><td>42</td><td>5</td><td>150</td><td>-0.694008</td><td>3.004091</td><td>0.114809</td><td>null</td><td>-0.251882</td><td>null</td><td>-1.902009</td><td>-0.979447</td><td>0.241165</td><td>null</td><td>-0.392359</td><td>-0.224699</td><td>-2.129397</td><td>-0.855287</td><td>null</td><td>null</td><td>0.404142</td><td>-0.578156</td><td>0.105702</td><td>null</td><td>null</td><td>null</td><td>0.544138</td><td>-0.087091</td><td>-1.500147</td><td>&hellip;</td><td>null</td><td>null</td><td>null</td><td>null</td><td>0.382074</td><td>2.669135</td><td>0.611711</td><td>null</td><td>2.413415</td><td>null</td><td>null</td><td>1.313203</td><td>null</td><td>-0.810125</td><td>2.939022</td><td>null</td><td>3.988801</td><td>1.834661</td><td>-1.36224</td><td>null</td><td>null</td><td>null</td><td>null</td><td>null</td><td>-0.697595</td><td>1.074309</td><td>-0.206929</td><td>-0.530602</td><td>4.765215</td><td>0.571554</td><td>null</td><td>null</td><td>-0.226891</td><td>-0.251412</td><td>-0.215522</td><td>-0.296244</td><td>4</td></tr><tr><td>null</td><td>null</td><td>null</td><td>null</td><td>null</td><td>0.9552</td><td>0.262404</td><td>0.344457</td><td>-0.613813</td><td>44</td><td>3</td><td>16</td><td>-0.947351</td><td>-0.030018</td><td>-0.502379</td><td>null</td><td>0.646086</td><td>null</td><td>-1.844685</td><td>-1.58656</td><td>-0.182024</td><td>null</td><td>-0.969949</td><td>-0.673813</td><td>-1.282132</td><td>-1.399894</td><td>null</td><td>null</td><td>0.043815</td><td>-0.320225</td><td>-0.031713</td><td>null</td><td>null</td><td>null</td><td>-0.08842</td><td>-0.995003</td><td>-2.635336</td><td>&hellip;</td><td>null</td><td>null</td><td>null</td><td>null</td><td>-2.0146</td><td>-2.321076</td><td>-3.711265</td><td>null</td><td>1.253902</td><td>null</td><td>null</td><td>0.476195</td><td>null</td><td>-0.771732</td><td>2.843421</td><td>null</td><td>1.379815</td><td>0.411827</td><td>-1.36224</td><td>null</td><td>null</td><td>null</td><td>null</td><td>null</td><td>-0.948601</td><td>-0.136814</td><td>-0.447704</td><td>-1.141761</td><td>0.099631</td><td>-0.661928</td><td>null</td><td>null</td><td>3.678076</td><td>2.793581</td><td>2.61825</td><td>3.418133</td><td>0</td></tr><tr><td>&hellip;</td><td>&hellip;</td><td>&hellip;</td><td>&hellip;</td><td>&hellip;</td><td>&hellip;</td><td>&hellip;</td><td>&hellip;</td><td>&hellip;</td><td>&hellip;</td><td>&hellip;</td><td>&hellip;</td><td>&hellip;</td><td>&hellip;</td><td>&hellip;</td><td>&hellip;</td><td>&hellip;</td><td>&hellip;</td><td>&hellip;</td><td>&hellip;</td><td>&hellip;</td><td>&hellip;</td><td>&hellip;</td><td>&hellip;</td><td>&hellip;</td><td>&hellip;</td><td>&hellip;</td><td>&hellip;</td><td>&hellip;</td><td>&hellip;</td><td>&hellip;</td><td>&hellip;</td><td>&hellip;</td><td>&hellip;</td><td>&hellip;</td><td>&hellip;</td><td>&hellip;</td><td>&hellip;</td><td>&hellip;</td><td>&hellip;</td><td>&hellip;</td><td>&hellip;</td><td>&hellip;</td><td>&hellip;</td><td>&hellip;</td><td>&hellip;</td><td>&hellip;</td><td>&hellip;</td><td>&hellip;</td><td>&hellip;</td><td>&hellip;</td><td>&hellip;</td><td>&hellip;</td><td>&hellip;</td><td>&hellip;</td><td>&hellip;</td><td>&hellip;</td><td>&hellip;</td><td>&hellip;</td><td>&hellip;</td><td>&hellip;</td><td>&hellip;</td><td>&hellip;</td><td>&hellip;</td><td>&hellip;</td><td>&hellip;</td><td>&hellip;</td><td>&hellip;</td><td>&hellip;</td><td>&hellip;</td><td>&hellip;</td><td>&hellip;</td><td>&hellip;</td><td>&hellip;</td><td>&hellip;</td></tr><tr><td>-0.35785</td><td>-1.13562</td><td>-0.375377</td><td>0.005456</td><td>-1.24166</td><td>-0.13973</td><td>0.516646</td><td>0.260458</td><td>-0.242858</td><td>4</td><td>3</td><td>11</td><td>0.344665</td><td>1.391562</td><td>0.206765</td><td>-0.591372</td><td>-0.431353</td><td>-0.696445</td><td>0.021674</td><td>4.882616</td><td>0.576746</td><td>null</td><td>0.925021</td><td>0.305147</td><td>-0.052437</td><td>0.50404</td><td>null</td><td>null</td><td>0.422083</td><td>-0.666412</td><td>-0.695889</td><td>null</td><td>0.17068</td><td>-0.563891</td><td>0.437356</td><td>0.433671</td><td>-0.971546</td><td>&hellip;</td><td>0.233183</td><td>0.422837</td><td>1.006626</td><td>1.996108</td><td>1.279601</td><td>2.06907</td><td>0.870379</td><td>0.812333</td><td>1.585388</td><td>1.305475</td><td>1.874429</td><td>1.07527</td><td>1.648119</td><td>1.318408</td><td>2.489544</td><td>1.72876</td><td>3.074942</td><td>1.849418</td><td>0.614996</td><td>-0.382727</td><td>-0.179164</td><td>-0.523905</td><td>-0.541556</td><td>4.247954</td><td>-0.013244</td><td>-0.12569</td><td>-0.272412</td><td>0.387978</td><td>4.361437</td><td>0.670746</td><td>-0.012737</td><td>0.055946</td><td>-0.198232</td><td>-0.123728</td><td>-0.213151</td><td>-0.118423</td><td>2</td></tr><tr><td>0.013418</td><td>-1.095379</td><td>-0.315413</td><td>-0.227001</td><td>-1.131748</td><td>-0.119023</td><td>0.488473</td><td>0.293664</td><td>-0.454515</td><td>81</td><td>2</td><td>534</td><td>0.191049</td><td>1.209248</td><td>0.435061</td><td>0.279052</td><td>0.271087</td><td>0.21642</td><td>1.884411</td><td>-1.761875</td><td>-0.621022</td><td>null</td><td>-1.27471</td><td>-1.046584</td><td>-0.566841</td><td>-0.589031</td><td>null</td><td>null</td><td>-0.257403</td><td>0.030426</td><td>0.152594</td><td>null</td><td>0.538207</td><td>-1.039341</td><td>0.210923</td><td>1.140675</td><td>0.606589</td><td>&hellip;</td><td>-0.592021</td><td>-0.244926</td><td>0.253202</td><td>-0.853085</td><td>1.357217</td><td>0.538878</td><td>0.944651</td><td>2.033233</td><td>1.442158</td><td>0.232352</td><td>-0.490851</td><td>-1.278772</td><td>-0.635557</td><td>0.726547</td><td>-1.652164</td><td>1.927173</td><td>-0.361427</td><td>0.983282</td><td>0.614996</td><td>0.542293</td><td>2.768966</td><td>2.137131</td><td>2.841306</td><td>-0.00291</td><td>0.082625</td><td>1.761964</td><td>0.441157</td><td>0.218207</td><td>0.479721</td><td>0.376112</td><td>-0.313414</td><td>-0.241622</td><td>-0.344834</td><td>-0.261346</td><td>-0.258581</td><td>-0.094272</td><td>1</td></tr><tr><td>-0.378911</td><td>-1.521467</td><td>0.209378</td><td>-0.241914</td><td>-1.597019</td><td>-0.082501</td><td>0.459861</td><td>0.27999</td><td>-0.504757</td><td>11</td><td>7</td><td>76</td><td>0.198413</td><td>0.122236</td><td>0.126304</td><td>0.109355</td><td>-0.684751</td><td>0.094314</td><td>-0.415184</td><td>0.992357</td><td>-0.002575</td><td>null</td><td>-0.949387</td><td>-0.400192</td><td>-0.327297</td><td>-0.75546</td><td>null</td><td>null</td><td>-0.314848</td><td>0.010643</td><td>0.066193</td><td>null</td><td>-0.001354</td><td>-1.369518</td><td>0.951162</td><td>0.438592</td><td>-0.846402</td><td>&hellip;</td><td>1.217482</td><td>1.002742</td><td>0.505779</td><td>-0.59163</td><td>-0.160185</td><td>0.075581</td><td>-0.03326</td><td>0.83697</td><td>0.864865</td><td>-0.061847</td><td>-0.039025</td><td>1.872947</td><td>0.785961</td><td>0.923649</td><td>-0.278201</td><td>0.150394</td><td>0.047294</td><td>0.065536</td><td>0.614996</td><td>-0.078248</td><td>-0.259078</td><td>-0.083395</td><td>-1.45649</td><td>1.229205</td><td>0.370197</td><td>0.492404</td><td>0.377557</td><td>-0.008118</td><td>-0.37</td><td>-0.269154</td><td>-0.323393</td><td>-0.240579</td><td>-0.22987</td><td>-0.375907</td><td>-0.305031</td><td>-0.196051</td><td>2</td></tr><tr><td>-0.343313</td><td>-1.548126</td><td>-0.188658</td><td>0.17416</td><td>-1.160716</td><td>-0.150091</td><td>0.581775</td><td>0.358614</td><td>-0.367701</td><td>42</td><td>5</td><td>150</td><td>-0.050838</td><td>-0.22463</td><td>-0.162486</td><td>-0.403926</td><td>-0.29756</td><td>-0.394447</td><td>0.919238</td><td>-0.192924</td><td>-0.511504</td><td>null</td><td>-0.611811</td><td>-0.956282</td><td>-0.700883</td><td>-0.858822</td><td>null</td><td>null</td><td>0.746061</td><td>-0.672652</td><td>-0.359745</td><td>null</td><td>-0.000295</td><td>-0.812882</td><td>0.552832</td><td>0.074477</td><td>-1.521742</td><td>&hellip;</td><td>-0.960144</td><td>-1.242716</td><td>-1.461865</td><td>-1.254643</td><td>-0.491974</td><td>-0.006365</td><td>-0.183785</td><td>0.075744</td><td>-0.265529</td><td>0.003536</td><td>0.024062</td><td>0.733859</td><td>1.049817</td><td>-0.659275</td><td>-1.423695</td><td>-0.721198</td><td>0.02199</td><td>0.096723</td><td>0.614996</td><td>-0.210764</td><td>-0.235109</td><td>-0.276261</td><td>0.62586</td><td>-0.852727</td><td>-0.005068</td><td>-0.31602</td><td>-0.324462</td><td>-0.053338</td><td>-0.196675</td><td>-0.174927</td><td>-0.063328</td><td>-0.230653</td><td>-0.251512</td><td>-0.469115</td><td>-0.11479</td><td>-0.221749</td><td>4</td></tr><tr><td>-0.41492</td><td>-1.261129</td><td>0.046846</td><td>-0.117544</td><td>-1.687853</td><td>-0.096446</td><td>0.262097</td><td>0.253267</td><td>-0.317358</td><td>50</td><td>1</td><td>522</td><td>-0.69059</td><td>0.513022</td><td>-0.253493</td><td>-0.768331</td><td>-0.372625</td><td>-0.674298</td><td>0.730633</td><td>0.142212</td><td>0.572839</td><td>null</td><td>-0.042056</td><td>-0.344351</td><td>0.389996</td><td>0.708781</td><td>null</td><td>null</td><td>1.343317</td><td>-0.679918</td><td>-0.616004</td><td>null</td><td>-2.18274</td><td>-0.976028</td><td>-2.892233</td><td>-2.615448</td><td>-1.679611</td><td>&hellip;</td><td>0.580859</td><td>0.123474</td><td>1.135437</td><td>-0.058192</td><td>0.133371</td><td>1.079369</td><td>0.018718</td><td>-1.535589</td><td>0.647523</td><td>-0.6382</td><td>0.293885</td><td>-1.290359</td><td>-0.090929</td><td>1.253032</td><td>-0.078525</td><td>0.138695</td><td>-1.123793</td><td>-0.227249</td><td>0.614996</td><td>-0.269385</td><td>-0.162446</td><td>-0.25266</td><td>0.577016</td><td>-0.064775</td><td>-0.605599</td><td>1.156216</td><td>-0.124762</td><td>-0.359961</td><td>0.104845</td><td>-0.326499</td><td>0.20901</td><td>0.410809</td><td>0.680345</td><td>0.797256</td><td>0.075962</td><td>0.178854</td><td>1</td></tr></tbody></table></div>"
      ],
      "text/plain": [
       "shape: (4_748_457, 80)\n",
       "┌────────────┬───────────┬───────────┬───────────┬───┬───────────┬───────────┬───────────┬─────────┐\n",
       "│ feature_00 ┆ feature_0 ┆ feature_0 ┆ feature_0 ┆ … ┆ feature_7 ┆ feature_7 ┆ feature_7 ┆ Cluster │\n",
       "│ ---        ┆ 1         ┆ 2         ┆ 3         ┆   ┆ 6         ┆ 7         ┆ 8         ┆ ---     │\n",
       "│ f32        ┆ ---       ┆ ---       ┆ ---       ┆   ┆ ---       ┆ ---       ┆ ---       ┆ i32     │\n",
       "│            ┆ f32       ┆ f32       ┆ f32       ┆   ┆ f32       ┆ f32       ┆ f32       ┆         │\n",
       "╞════════════╪═══════════╪═══════════╪═══════════╪═══╪═══════════╪═══════════╪═══════════╪═════════╡\n",
       "│ null       ┆ null      ┆ null      ┆ null      ┆ … ┆ -0.211486 ┆ -0.335556 ┆ -0.281498 ┆ 2       │\n",
       "│ null       ┆ null      ┆ null      ┆ null      ┆ … ┆ -0.182894 ┆ -0.245565 ┆ -0.302441 ┆ 2       │\n",
       "│ null       ┆ null      ┆ null      ┆ null      ┆ … ┆ 0.300724  ┆ -0.106842 ┆ -0.096792 ┆ 2       │\n",
       "│ null       ┆ null      ┆ null      ┆ null      ┆ … ┆ -0.251412 ┆ -0.215522 ┆ -0.296244 ┆ 4       │\n",
       "│ null       ┆ null      ┆ null      ┆ null      ┆ … ┆ 2.793581  ┆ 2.61825   ┆ 3.418133  ┆ 0       │\n",
       "│ …          ┆ …         ┆ …         ┆ …         ┆ … ┆ …         ┆ …         ┆ …         ┆ …       │\n",
       "│ -0.35785   ┆ -1.13562  ┆ -0.375377 ┆ 0.005456  ┆ … ┆ -0.123728 ┆ -0.213151 ┆ -0.118423 ┆ 2       │\n",
       "│ 0.013418   ┆ -1.095379 ┆ -0.315413 ┆ -0.227001 ┆ … ┆ -0.261346 ┆ -0.258581 ┆ -0.094272 ┆ 1       │\n",
       "│ -0.378911  ┆ -1.521467 ┆ 0.209378  ┆ -0.241914 ┆ … ┆ -0.375907 ┆ -0.305031 ┆ -0.196051 ┆ 2       │\n",
       "│ -0.343313  ┆ -1.548126 ┆ -0.188658 ┆ 0.17416   ┆ … ┆ -0.469115 ┆ -0.11479  ┆ -0.221749 ┆ 4       │\n",
       "│ -0.41492   ┆ -1.261129 ┆ 0.046846  ┆ -0.117544 ┆ … ┆ 0.797256  ┆ 0.075962  ┆ 0.178854  ┆ 1       │\n",
       "└────────────┴───────────┴───────────┴───────────┴───┴───────────┴───────────┴───────────┴─────────┘"
      ]
     },
     "execution_count": 15,
     "metadata": {},
     "output_type": "execute_result"
    }
   ],
   "source": [
    "kmeans_clustered_dat"
   ]
  },
  {
   "cell_type": "code",
   "execution_count": 14,
   "metadata": {},
   "outputs": [
    {
     "data": {
      "text/html": [
       "<div><style>\n",
       ".dataframe > thead > tr,\n",
       ".dataframe > tbody > tr {\n",
       "  text-align: right;\n",
       "  white-space: pre-wrap;\n",
       "}\n",
       "</style>\n",
       "<small>shape: (4_748_457,)</small><table border=\"1\" class=\"dataframe\"><thead><tr><th>Cluster</th></tr><tr><td>i32</td></tr></thead><tbody><tr><td>2</td></tr><tr><td>2</td></tr><tr><td>2</td></tr><tr><td>4</td></tr><tr><td>0</td></tr><tr><td>&hellip;</td></tr><tr><td>2</td></tr><tr><td>1</td></tr><tr><td>2</td></tr><tr><td>4</td></tr><tr><td>1</td></tr></tbody></table></div>"
      ],
      "text/plain": [
       "shape: (4_748_457,)\n",
       "Series: 'Cluster' [i32]\n",
       "[\n",
       "\t2\n",
       "\t2\n",
       "\t2\n",
       "\t4\n",
       "\t0\n",
       "\t…\n",
       "\t2\n",
       "\t1\n",
       "\t2\n",
       "\t4\n",
       "\t1\n",
       "]"
      ]
     },
     "execution_count": 14,
     "metadata": {},
     "output_type": "execute_result"
    }
   ],
   "source": [
    "kmeans_clustered_dat['Cluster']"
   ]
  },
  {
   "cell_type": "code",
   "execution_count": null,
   "metadata": {},
   "outputs": [],
   "source": []
  }
 ],
 "metadata": {
  "kernelspec": {
   "display_name": "venv",
   "language": "python",
   "name": "python3"
  },
  "language_info": {
   "codemirror_mode": {
    "name": "ipython",
    "version": 3
   },
   "file_extension": ".py",
   "mimetype": "text/x-python",
   "name": "python",
   "nbconvert_exporter": "python",
   "pygments_lexer": "ipython3",
   "version": "3.12.7"
  }
 },
 "nbformat": 4,
 "nbformat_minor": 2
}
