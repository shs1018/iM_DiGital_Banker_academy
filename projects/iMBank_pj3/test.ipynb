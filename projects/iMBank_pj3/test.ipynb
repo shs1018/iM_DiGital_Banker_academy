{
 "cells": [
  {
   "cell_type": "markdown",
   "metadata": {},
   "source": [
    "# Studying_Class\n",
    "- Use Class to build own Regression_model\n",
    "- Use inheritance to Use code more propertry"
   ]
  },
  {
   "cell_type": "code",
   "execution_count": 30,
   "metadata": {},
   "outputs": [],
   "source": [
    "import pandas as pd\n",
    "import numpy as np\n",
    "import seaborn as sns\n",
    "import regression_class as regression_class"
   ]
  },
  {
   "cell_type": "code",
   "execution_count": 46,
   "metadata": {},
   "outputs": [
    {
     "data": {
      "text/plain": [
       "<module 'regression_class' from 'c:\\\\Users\\\\campus3S031\\\\Desktop\\\\iMBank\\\\iM_DiGital_Banker_academy\\\\projects\\\\iMBank_pj3\\\\regression_class.py'>"
      ]
     },
     "execution_count": 46,
     "metadata": {},
     "output_type": "execute_result"
    }
   ],
   "source": [
    "import importlib\n",
    "import regression_class\n",
    "\n",
    "# 모듈 강제 리로드\n",
    "importlib.reload(regression_class)"
   ]
  },
  {
   "cell_type": "markdown",
   "metadata": {},
   "source": [
    "# Calling data\n",
    "- sns_dataset, 'tips'"
   ]
  },
  {
   "cell_type": "code",
   "execution_count": 25,
   "metadata": {},
   "outputs": [],
   "source": [
    "tips = sns.load_dataset('tips')\n",
    "\n",
    "y = tips.pop('tip')\n",
    "X = tips"
   ]
  },
  {
   "cell_type": "code",
   "execution_count": 26,
   "metadata": {},
   "outputs": [
    {
     "name": "stdout",
     "output_type": "stream",
     "text": [
      "num: ['total_bill', 'size']\n",
      "cat: ['sex', 'smoker', 'day', 'time']\n"
     ]
    }
   ],
   "source": [
    "numeric_features_tips = tips.select_dtypes(include = np.number).columns.tolist()\n",
    "categorial_features_tips = tips.select_dtypes(exclude = np.number).columns.tolist()\n",
    "\n",
    "print('num:', numeric_features_tips)\n",
    "print('cat:', categorial_features_tips)"
   ]
  },
  {
   "cell_type": "code",
   "execution_count": 39,
   "metadata": {},
   "outputs": [
    {
     "data": {
      "text/plain": [
       "['total_bill', 'size']"
      ]
     },
     "execution_count": 39,
     "metadata": {},
     "output_type": "execute_result"
    }
   ],
   "source": [
    "numeric_features_tips"
   ]
  },
  {
   "cell_type": "code",
   "execution_count": 47,
   "metadata": {},
   "outputs": [
    {
     "name": "stdout",
     "output_type": "stream",
     "text": [
      "최고의 하이퍼 파라미터 RandomTreeRegressor 모델은: {'regressor__n_estimators': 800, 'regressor__min_samples_split': 15, 'regressor__min_samples_leaf': 1, 'regressor__max_depth': 50}\n",
      "Train MSE: 0.5870\n",
      "Test MSE: 0.8792\n",
      "Train R2: 0.7111\n",
      "Test R2: 0.2966\n"
     ]
    }
   ],
   "source": [
    "regression_pipeline = regression_class.Regression_Model_Pipeline(\n",
    "    numeric_features = numeric_features_tips,\n",
    "    categorial_features = categorial_features_tips\n",
    ")\n",
    "\n",
    "best_model = regression_pipeline.fit_and_evaluate(X, y)"
   ]
  },
  {
   "cell_type": "markdown",
   "metadata": {},
   "source": [
    "최고의 하이퍼 파라미터 RandomTreeRegressor 모델은: {'regressor__n_estimators': 300, 'regressor__min_samples_split': 10, 'regressor__min_samples_leaf': 1, 'regressor__max_depth': 10}\n",
    "Train MSE: 0.4779\n",
    "Test MSE: 0.9545\n",
    "Train R2: 0.7648\n",
    "Test R2: 0.2364"
   ]
  }
 ],
 "metadata": {
  "kernelspec": {
   "display_name": "Python 3",
   "language": "python",
   "name": "python3"
  },
  "language_info": {
   "codemirror_mode": {
    "name": "ipython",
    "version": 3
   },
   "file_extension": ".py",
   "mimetype": "text/x-python",
   "name": "python",
   "nbconvert_exporter": "python",
   "pygments_lexer": "ipython3",
   "version": "3.12.7"
  }
 },
 "nbformat": 4,
 "nbformat_minor": 2
}
