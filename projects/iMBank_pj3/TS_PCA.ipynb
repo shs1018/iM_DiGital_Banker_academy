{
 "cells": [
  {
   "cell_type": "code",
   "execution_count": 2,
   "metadata": {},
   "outputs": [
    {
     "data": {
      "text/plain": [
       "polars.config.Config"
      ]
     },
     "execution_count": 2,
     "metadata": {},
     "output_type": "execute_result"
    }
   ],
   "source": [
    "import pandas as pd\n",
    "import numpy as np\n",
    "from matplotlib import pyplot as plt\n",
    "import seaborn as sns\n",
    "import polars as pl\n",
    "import gc\n",
    "\n",
    "from sklearn.decomposition import PCA\n",
    "from sklearn.preprocessing import MinMaxScaler\n",
    "from sklearn.impute import SimpleImputer\n",
    "from sklearn.cluster import KMeans\n",
    "from sklearn.pipeline import Pipeline\n",
    "\n",
    "# Pandas의 출력 옵션 설정\n",
    "pd.set_option('display.max_columns', None)  # 모든 열을 출력\n",
    "pd.set_option('display.width', None)  # 출력 너비 제한 해제\n",
    "\n",
    "pl.Config.set_tbl_cols(None)  # 모든 열 출력\n",
    "pl.Config.set_tbl_rows(None)  # 모든 행 출력"
   ]
  },
  {
   "cell_type": "markdown",
   "metadata": {},
   "source": [
    "# Functions"
   ]
  },
  {
   "cell_type": "code",
   "execution_count": 3,
   "metadata": {},
   "outputs": [],
   "source": [
    "# build datareading model\n",
    "def read_data(num_f, num_s = 0):\n",
    "    dfs = []\n",
    "    for i in range(num_s,num_f):\n",
    "        df = pl.read_parquet(f'datasets/train.parquet/partition_id={i}')\n",
    "        dfs.append(df)\n",
    "\n",
    "    df_total = pl.concat(dfs)\n",
    "    return df_total"
   ]
  },
  {
   "cell_type": "code",
   "execution_count": 4,
   "metadata": {},
   "outputs": [],
   "source": [
    "# other usrful functions\n",
    "\n",
    "def date_and_resp(df_tmp_total):\n",
    "    # responder들 가져요기\n",
    "    df_tmp_resp = df_tmp_total[:,83:92]\n",
    "\n",
    "    # 첫 번째 행의 date_id 가져오기\n",
    "    date_id_value = df_tmp_total[\"date_id\"]\n",
    "\n",
    "    # date_id 값을 새로운 열로 추가\n",
    "    df_tmp_resp = df_tmp_resp.with_columns(\n",
    "        pl.lit(date_id_value).alias(\"date_id\")  # date_id 열 추가\n",
    "    )\n",
    "\n",
    "    return df_tmp_resp\n",
    "\n",
    "def feature_and_more(df_tmp_total, res = 'y'):\n",
    "    # responder들 가져요기\n",
    "    df_tmp_feat = df_tmp_total[:,4:83]\n",
    "\n",
    "    # 정답(responder_6)가져오기\n",
    "    if res == 'y':\n",
    "        date_resp_value = df_tmp_total[\"responder_6\"]  \n",
    "\n",
    "        # date_id 값을 새로운 열로 추가\n",
    "        df_tmp_feat = df_tmp_feat.with_columns(\n",
    "        pl.lit(date_resp_value).alias(\"responder_6\")  # date_id 열 추가\n",
    "        )\n",
    "\n",
    "    return df_tmp_feat\n",
    "\n",
    "def sample_df_small(df):\n",
    "    df_sampled = df.sample(n=2000000, with_replacement=False)\n",
    "    return df_sampled\n"
   ]
  },
  {
   "cell_type": "markdown",
   "metadata": {},
   "source": [
    "# Dimention reduction functions"
   ]
  },
  {
   "cell_type": "code",
   "execution_count": 5,
   "metadata": {},
   "outputs": [],
   "source": [
    "def reduce_PCA(data, n_components = None, explained_variance = 0.95):\n",
    "\n",
    "    # Preprocessing First\n",
    "    transformer = Pipeline(steps=[\n",
    "        ('imputer', SimpleImputer(strategy='constant', fill_value=0)), #결측치는 모두 0으로 처리 사유 -> 모두 NaN인 경우 열이 삭제됨.\n",
    "        ('scaler', MinMaxScaler())\n",
    "    ])\n",
    "    \n",
    "    data_preprocessed = transformer.fit_transform(data.select(pl.col(\"*\")).to_numpy())\n",
    "    data_preprocessed = pl.DataFrame(data_preprocessed)\n",
    "\n",
    "    if n_components is None:\n",
    "        # 분산 비율 기준으로 자동 조정\n",
    "        pca_model = PCA(n_components = explained_variance)\n",
    "    else:\n",
    "        # feature수로 축소 및 설정\n",
    "        pca_model = PCA(n_components=n_components)\n",
    "\n",
    "    # PCA 적용\n",
    "    reduced_data = pca_model.fit_transform(data_preprocessed)\n",
    "\n",
    "    print(f\"원래 feature 수: {data.shape[1]}\")\n",
    "    print(f\"줄어든 feature 수: {reduced_data.shape[1]}\")\n",
    "    print(f\"설명된 분산 비율: {np.sum(pca_model.explained_variance_ratio_):.4f}\")\n",
    "\n",
    "    new_columns = [f\"PC{i+1}\" for i in range(reduced_data.shape[1])]\n",
    "    reduced_data = pl.DataFrame(reduced_data, schema=new_columns)\n",
    "\n",
    "    return reduced_data, pca_model"
   ]
  },
  {
   "cell_type": "code",
   "execution_count": 6,
   "metadata": {},
   "outputs": [],
   "source": [
    "# Using TSNE\n",
    "\n",
    "from sklearn.manifold import TSNE\n",
    "\n",
    "def reduce_T_sne(data, n_components = None, explained_variance = 0.95):\n",
    "\n",
    "    # Preprocessing First\n",
    "    transformer = Pipeline(steps=[\n",
    "        ('imputer', SimpleImputer(strategy='constant', fill_value=0)), #결측치는 모두 0으로 처리 사유 -> 모두 NaN인 경우 열이 삭제됨.\n",
    "        ('scaler', MinMaxScaler())\n",
    "    ])\n",
    "    \n",
    "    data_preprocessed = transformer.fit_transform(data.select(pl.col(\"*\")).to_numpy())\n",
    "    data_preprocessed = pl.DataFrame(data_preprocessed)\n",
    "\n",
    "    if n_components is None:\n",
    "        # 분산 비율 기준으로 자동 조정\n",
    "        TSNE_model = TSNE(n_components = explained_variance)\n",
    "    else:\n",
    "        # feature수로 축소 및 설정\n",
    "        TSNE_model = TSNE(n_components = n_components)\n",
    "\n",
    "    # PCA 적용\n",
    "    reduced_data = TSNE_model.fit_transform(data_preprocessed)\n",
    "\n",
    "    print(f\"원래 feature 수: {data.shape[1]}\")\n",
    "    print(f\"줄어든 feature 수: {reduced_data.shape[1]}\")\n",
    "    print(f\"설명된 분산 비율: {np.sum(TSNE_model.explained_variance_ratio_):.4f}\")\n",
    "\n",
    "    new_columns = [f\"PC{i+1}\" for i in range(reduced_data.shape[1])]\n",
    "    reduced_data = pl.DataFrame(reduced_data, schema=new_columns)\n",
    "\n",
    "    return reduced_data, TSNE_model"
   ]
  },
  {
   "cell_type": "code",
   "execution_count": 7,
   "metadata": {},
   "outputs": [],
   "source": [
    "# Using TSNE는 알고리즘상으로 계산 비중이 상당히 크다. 따라서 3백만개의 데이터가 있는 현재 데이터에는 적합하지 않을 가능성이 매우 높다.\n",
    "# 따라서 해당 코드는 사용하지 않기로 한다.\n",
    "\n",
    "def reduce_T_sne(data, n_components = None, explained_variance = 2):\n",
    "\n",
    "    # Preprocessing First\n",
    "    transformer = Pipeline(steps=[\n",
    "        ('imputer', SimpleImputer(strategy='constant', fill_value=0)), #결측치는 모두 0으로 처리 사유 -> 모두 NaN인 경우 열이 삭제됨.\n",
    "        ('scaler', MinMaxScaler())\n",
    "    ])\n",
    "    \n",
    "    data_preprocessed = transformer.fit_transform(data.select(pl.col(\"*\")).to_numpy())\n",
    "    data_preprocessed = pl.DataFrame(data_preprocessed)\n",
    "\n",
    "    if n_components is None:\n",
    "        # 분산 비율 기준으로 자동 조정\n",
    "        TSNE_model = TSNE(n_components = explained_variance)\n",
    "    else:\n",
    "        # feature수로 축소 및 설정\n",
    "        TSNE_model = TSNE(n_components = n_components)\n",
    "\n",
    "    # PCA 적용\n",
    "    reduced_data = TSNE_model.fit_transform(data_preprocessed)\n",
    "\n",
    "    print(f\"원래 feature 수: {data.shape[1]}\")\n",
    "    print(f\"줄어든 feature 수: {reduced_data.shape[1]}\")\n",
    "    print(f\"설명된 분산 비율: {np.sum(TSNE_model.explained_variance_ratio_):.4f}\")\n",
    "\n",
    "    new_columns = [f\"PC{i+1}\" for i in range(reduced_data.shape[1])]\n",
    "    reduced_data = pl.DataFrame(reduced_data, schema=new_columns)\n",
    "\n",
    "    return reduced_data, TSNE_model\n",
    "\n",
    "\n",
    "'''\n",
    "from sklearn.manifold import TSNE\n",
    "from sklearn.preprocessing import MinMaxScaler\n",
    "from sklearn.impute import SimpleImputer\n",
    "from sklearn.pipeline import Pipeline\n",
    "import polars as pl\n",
    "import numpy as np\n",
    "\n",
    "def reduce_t_sne(data, n_components=2, perplexity=30, n_iter=1000):\n",
    "    \"\"\"\n",
    "    t-SNE로 차원 축소를 수행하는 함수\n",
    "    Args:\n",
    "        data: Polars 데이터프레임\n",
    "        n_components: 축소할 차원 수 (기본값: 2)\n",
    "        perplexity: t-SNE Perplexity (기본값: 30)\n",
    "        n_iter: t-SNE 반복 수 (기본값: 1000)\n",
    "    Returns:\n",
    "        reduced_data: 차원 축소된 데이터 (Polars 데이터프레임)\n",
    "    \"\"\"\n",
    "    # Preprocessing\n",
    "    transformer = Pipeline(steps=[\n",
    "        ('imputer', SimpleImputer(strategy='constant', fill_value=0)),\n",
    "        ('scaler', MinMaxScaler())\n",
    "    ])\n",
    "    \n",
    "    data_preprocessed = transformer.fit_transform(data.select(pl.col(\"*\")).to_numpy())\n",
    "\n",
    "    # t-SNE 모델 생성 및 학습\n",
    "    tsne_model = TSNE(n_components=n_components, perplexity=perplexity, n_iter=n_iter, random_state=42)\n",
    "    reduced_data = tsne_model.fit_transform(data_preprocessed)\n",
    "\n",
    "    # 결과 반환\n",
    "    new_columns = [f\"Dim{i+1}\" for i in range(n_components)]\n",
    "    reduced_data = pl.DataFrame(reduced_data, schema=new_columns)\n",
    "    return reduced_data, tsne_model\n",
    "\n",
    "# 예시 실행\n",
    "# data: feature가 많은 Polars 데이터프레임\n",
    "reduced_data, tsne_model = reduce_t_sne(data, n_components=2, perplexity=40, n_iter=500)\n",
    "print(reduced_data)\n",
    "\n",
    "'''"
   ]
  },
  {
   "cell_type": "code",
   "execution_count": null,
   "metadata": {},
   "outputs": [],
   "source": [
    "# using U-map\n",
    "\n"
   ]
  },
  {
   "cell_type": "markdown",
   "metadata": {},
   "source": [
    "# Data_Sampling\n",
    "- let's try with random sampling\n",
    "- 반목문을 통해 한 번에 한 partiton을 불러 온 다음, 3만개의 rows를 랜덤 샘플 방식으로 추출해 오는 방식을 취해 보자.\n",
    "- 단, 이렇게 할 경우 시계열성이 무너져서 시계열 접근방식이나 LSTM은 실행할 수 없다."
   ]
  },
  {
   "cell_type": "code",
   "execution_count": 8,
   "metadata": {},
   "outputs": [],
   "source": [
    "def sample_parquet(num_sample = 30000):\n",
    "    df_all_sampled = []\n",
    "    for i in range(10):\n",
    "        df = pl.read_parquet(f'datasets/train.parquet/partition_id={i}')\n",
    "        df_sampled = df.sample(n=num_sample, with_replacement=False)\n",
    "        df_all_sampled.append(df_sampled)\n",
    "        print(f\"partition{i} sampled!\")\n",
    "\n",
    "    df_all = pl.concat(df_all_sampled)\n",
    "    return df_all"
   ]
  },
  {
   "cell_type": "code",
   "execution_count": 9,
   "metadata": {},
   "outputs": [
    {
     "name": "stdout",
     "output_type": "stream",
     "text": [
      "partition0 sampled!\n",
      "partition1 sampled!\n",
      "partition2 sampled!\n",
      "partition3 sampled!\n",
      "partition4 sampled!\n",
      "partition5 sampled!\n",
      "partition6 sampled!\n",
      "partition7 sampled!\n",
      "partition8 sampled!\n",
      "partition9 sampled!\n"
     ]
    }
   ],
   "source": [
    "df_sampled = sample_parquet(num_sample=300000)"
   ]
  },
  {
   "cell_type": "code",
   "execution_count": 10,
   "metadata": {},
   "outputs": [],
   "source": [
    "# 데이터를 responder_6와 피쳐로 분리리\n",
    "\n",
    "df_sampled_feat = feature_and_more(df_sampled)\n",
    "resp_6 = df_sampled_feat.select('responder_6')\n",
    "df_sampled_feat_olny = df_sampled_feat.drop('responder_6')"
   ]
  },
  {
   "cell_type": "markdown",
   "metadata": {},
   "source": [
    "# Data Sampled By Time Series"
   ]
  },
  {
   "cell_type": "code",
   "execution_count": 11,
   "metadata": {},
   "outputs": [],
   "source": [
    "def sampled_by_TS(moment1, moment2):\n",
    "    pass"
   ]
  },
  {
   "cell_type": "markdown",
   "metadata": {},
   "source": [
    "# PCA_data"
   ]
  },
  {
   "cell_type": "markdown",
   "metadata": {},
   "source": [
    "## PCA"
   ]
  },
  {
   "cell_type": "code",
   "execution_count": 12,
   "metadata": {},
   "outputs": [
    {
     "name": "stdout",
     "output_type": "stream",
     "text": [
      "원래 feature 수: 79\n",
      "줄어든 feature 수: 28\n",
      "설명된 분산 비율: 0.9542\n"
     ]
    }
   ],
   "source": [
    "df_pca, pca_model = reduce_PCA(df_sampled_feat_olny)"
   ]
  },
  {
   "cell_type": "code",
   "execution_count": 13,
   "metadata": {},
   "outputs": [
    {
     "data": {
      "text/html": [
       "<div><style>\n",
       ".dataframe > thead > tr,\n",
       ".dataframe > tbody > tr {\n",
       "  text-align: right;\n",
       "  white-space: pre-wrap;\n",
       "}\n",
       "</style>\n",
       "<small>shape: (3_000_000, 29)</small><table border=\"1\" class=\"dataframe\"><thead><tr><th>PC1</th><th>PC2</th><th>PC3</th><th>PC4</th><th>PC5</th><th>PC6</th><th>PC7</th><th>PC8</th><th>PC9</th><th>PC10</th><th>PC11</th><th>PC12</th><th>PC13</th><th>PC14</th><th>PC15</th><th>PC16</th><th>PC17</th><th>PC18</th><th>PC19</th><th>PC20</th><th>PC21</th><th>PC22</th><th>PC23</th><th>PC24</th><th>PC25</th><th>PC26</th><th>PC27</th><th>PC28</th><th>responder_6</th></tr><tr><td>f64</td><td>f64</td><td>f64</td><td>f64</td><td>f64</td><td>f64</td><td>f64</td><td>f64</td><td>f64</td><td>f64</td><td>f64</td><td>f64</td><td>f64</td><td>f64</td><td>f64</td><td>f64</td><td>f64</td><td>f64</td><td>f64</td><td>f64</td><td>f64</td><td>f64</td><td>f64</td><td>f64</td><td>f64</td><td>f64</td><td>f64</td><td>f64</td><td>f32</td></tr></thead><tbody><tr><td>-0.356643</td><td>-0.067905</td><td>0.209008</td><td>0.103273</td><td>0.108563</td><td>0.147282</td><td>-0.281857</td><td>0.322359</td><td>-0.115775</td><td>0.022237</td><td>0.040494</td><td>0.022748</td><td>0.153309</td><td>0.109429</td><td>-0.110651</td><td>-0.083268</td><td>0.100306</td><td>-0.029265</td><td>0.039157</td><td>0.056828</td><td>-0.155762</td><td>0.019608</td><td>0.063388</td><td>-0.011141</td><td>-0.052983</td><td>0.067132</td><td>0.014979</td><td>0.034129</td><td>0.119941</td></tr><tr><td>-0.352777</td><td>-0.175736</td><td>0.199725</td><td>-0.160107</td><td>0.320231</td><td>0.02052</td><td>-0.195037</td><td>-0.03186</td><td>0.018312</td><td>0.079096</td><td>-0.04025</td><td>0.349851</td><td>0.025613</td><td>0.022328</td><td>-0.019107</td><td>-0.035606</td><td>0.081854</td><td>-0.108289</td><td>-0.096115</td><td>-0.088518</td><td>-0.081819</td><td>0.031042</td><td>0.094518</td><td>0.042818</td><td>0.134221</td><td>0.050864</td><td>-0.040126</td><td>0.030615</td><td>-0.291114</td></tr><tr><td>-0.376572</td><td>-0.275761</td><td>0.074977</td><td>-0.070353</td><td>0.312885</td><td>-0.005162</td><td>0.178556</td><td>0.083469</td><td>0.044895</td><td>0.053178</td><td>-0.062003</td><td>0.105017</td><td>-0.056184</td><td>-0.002577</td><td>0.139597</td><td>-0.16174</td><td>0.06158</td><td>-0.038428</td><td>-0.132241</td><td>-0.0197</td><td>-0.02542</td><td>0.201979</td><td>0.085105</td><td>0.02468</td><td>0.162006</td><td>0.041641</td><td>-0.047091</td><td>0.000265</td><td>0.754146</td></tr><tr><td>-0.389938</td><td>-0.142194</td><td>-0.142429</td><td>0.207952</td><td>0.404282</td><td>-0.147955</td><td>-0.22875</td><td>0.158666</td><td>0.008201</td><td>-0.159175</td><td>-0.065407</td><td>0.242136</td><td>-0.07733</td><td>0.030689</td><td>0.054386</td><td>-0.044805</td><td>-0.031252</td><td>-0.053644</td><td>0.002184</td><td>-0.098723</td><td>0.152904</td><td>0.06854</td><td>0.133857</td><td>-0.029617</td><td>0.073803</td><td>0.070891</td><td>-0.038996</td><td>0.008772</td><td>-0.014246</td></tr><tr><td>-0.386075</td><td>-0.137231</td><td>-0.086615</td><td>0.329983</td><td>0.502147</td><td>-0.000287</td><td>-0.342556</td><td>-0.278396</td><td>0.149734</td><td>0.149537</td><td>0.202795</td><td>-0.193702</td><td>-0.014322</td><td>-0.137535</td><td>0.130038</td><td>-0.119676</td><td>-0.183665</td><td>-0.114191</td><td>0.0962</td><td>0.042946</td><td>0.092525</td><td>0.122085</td><td>0.126193</td><td>-0.056175</td><td>0.079443</td><td>0.10576</td><td>-0.033365</td><td>0.055994</td><td>-0.712278</td></tr><tr><td>&hellip;</td><td>&hellip;</td><td>&hellip;</td><td>&hellip;</td><td>&hellip;</td><td>&hellip;</td><td>&hellip;</td><td>&hellip;</td><td>&hellip;</td><td>&hellip;</td><td>&hellip;</td><td>&hellip;</td><td>&hellip;</td><td>&hellip;</td><td>&hellip;</td><td>&hellip;</td><td>&hellip;</td><td>&hellip;</td><td>&hellip;</td><td>&hellip;</td><td>&hellip;</td><td>&hellip;</td><td>&hellip;</td><td>&hellip;</td><td>&hellip;</td><td>&hellip;</td><td>&hellip;</td><td>&hellip;</td><td>&hellip;</td></tr><tr><td>-0.40783</td><td>-0.038691</td><td>-0.319135</td><td>0.503025</td><td>0.331767</td><td>0.341429</td><td>0.122802</td><td>-0.039321</td><td>0.011612</td><td>-0.1035</td><td>-0.024301</td><td>0.015979</td><td>-0.015552</td><td>-0.011253</td><td>0.01321</td><td>0.106313</td><td>-0.122896</td><td>-0.021341</td><td>0.046979</td><td>0.125806</td><td>0.066172</td><td>-0.095336</td><td>-0.154027</td><td>-0.037182</td><td>0.01663</td><td>0.064422</td><td>0.017412</td><td>0.023812</td><td>0.024239</td></tr><tr><td>-0.360587</td><td>0.687089</td><td>-0.442246</td><td>0.26192</td><td>-0.222201</td><td>0.071184</td><td>0.037852</td><td>0.175925</td><td>-0.081094</td><td>0.030677</td><td>-0.039238</td><td>-0.201755</td><td>0.026403</td><td>0.029595</td><td>0.022514</td><td>-0.171818</td><td>0.014152</td><td>0.10307</td><td>-0.039188</td><td>0.168388</td><td>0.090365</td><td>-0.058637</td><td>-0.043008</td><td>0.074713</td><td>0.004879</td><td>0.028209</td><td>0.037013</td><td>0.126674</td><td>-0.222975</td></tr><tr><td>-0.181074</td><td>0.373918</td><td>-0.366184</td><td>0.311654</td><td>-0.156321</td><td>0.049019</td><td>-0.297717</td><td>-0.052828</td><td>-0.077204</td><td>-0.043217</td><td>-0.028979</td><td>0.048437</td><td>0.036715</td><td>0.16044</td><td>0.202134</td><td>-0.063142</td><td>-0.172036</td><td>0.042926</td><td>0.062896</td><td>-0.074404</td><td>0.045129</td><td>0.03166</td><td>-0.013172</td><td>0.021488</td><td>0.036819</td><td>-0.011214</td><td>-0.024619</td><td>0.019688</td><td>0.021371</td></tr><tr><td>-0.327236</td><td>0.12627</td><td>0.229138</td><td>-0.39666</td><td>-0.000297</td><td>-0.299997</td><td>0.359684</td><td>-0.051906</td><td>0.089231</td><td>-0.136582</td><td>0.11652</td><td>-0.042038</td><td>0.088749</td><td>-0.021824</td><td>0.158958</td><td>0.09318</td><td>0.076699</td><td>-0.188767</td><td>0.021977</td><td>0.098728</td><td>-0.043276</td><td>-0.033572</td><td>0.099314</td><td>0.018685</td><td>0.056962</td><td>0.057293</td><td>-0.084113</td><td>-0.010024</td><td>-0.429312</td></tr><tr><td>0.326186</td><td>-0.089986</td><td>-0.255514</td><td>-0.151978</td><td>0.033657</td><td>0.264651</td><td>-0.055261</td><td>-0.095771</td><td>0.233219</td><td>-0.371207</td><td>0.204938</td><td>-0.181054</td><td>0.205876</td><td>0.106992</td><td>0.020211</td><td>0.023549</td><td>-0.06839</td><td>0.01845</td><td>-0.013784</td><td>0.039725</td><td>0.080145</td><td>0.041104</td><td>-0.031313</td><td>0.099247</td><td>0.101613</td><td>-0.068709</td><td>-0.058629</td><td>0.028167</td><td>4.303058</td></tr></tbody></table></div>"
      ],
      "text/plain": [
       "shape: (3_000_000, 29)\n",
       "┌───────────┬───────────┬───────────┬───────────┬───┬───────────┬───────────┬───────────┬──────────┐\n",
       "│ PC1       ┆ PC2       ┆ PC3       ┆ PC4       ┆ … ┆ PC26      ┆ PC27      ┆ PC28      ┆ responde │\n",
       "│ ---       ┆ ---       ┆ ---       ┆ ---       ┆   ┆ ---       ┆ ---       ┆ ---       ┆ r_6      │\n",
       "│ f64       ┆ f64       ┆ f64       ┆ f64       ┆   ┆ f64       ┆ f64       ┆ f64       ┆ ---      │\n",
       "│           ┆           ┆           ┆           ┆   ┆           ┆           ┆           ┆ f32      │\n",
       "╞═══════════╪═══════════╪═══════════╪═══════════╪═══╪═══════════╪═══════════╪═══════════╪══════════╡\n",
       "│ -0.356643 ┆ -0.067905 ┆ 0.209008  ┆ 0.103273  ┆ … ┆ 0.067132  ┆ 0.014979  ┆ 0.034129  ┆ 0.119941 │\n",
       "│ -0.352777 ┆ -0.175736 ┆ 0.199725  ┆ -0.160107 ┆ … ┆ 0.050864  ┆ -0.040126 ┆ 0.030615  ┆ -0.29111 │\n",
       "│           ┆           ┆           ┆           ┆   ┆           ┆           ┆           ┆ 4        │\n",
       "│ -0.376572 ┆ -0.275761 ┆ 0.074977  ┆ -0.070353 ┆ … ┆ 0.041641  ┆ -0.047091 ┆ 0.000265  ┆ 0.754146 │\n",
       "│ -0.389938 ┆ -0.142194 ┆ -0.142429 ┆ 0.207952  ┆ … ┆ 0.070891  ┆ -0.038996 ┆ 0.008772  ┆ -0.01424 │\n",
       "│           ┆           ┆           ┆           ┆   ┆           ┆           ┆           ┆ 6        │\n",
       "│ -0.386075 ┆ -0.137231 ┆ -0.086615 ┆ 0.329983  ┆ … ┆ 0.10576   ┆ -0.033365 ┆ 0.055994  ┆ -0.71227 │\n",
       "│           ┆           ┆           ┆           ┆   ┆           ┆           ┆           ┆ 8        │\n",
       "│ …         ┆ …         ┆ …         ┆ …         ┆ … ┆ …         ┆ …         ┆ …         ┆ …        │\n",
       "│ -0.40783  ┆ -0.038691 ┆ -0.319135 ┆ 0.503025  ┆ … ┆ 0.064422  ┆ 0.017412  ┆ 0.023812  ┆ 0.024239 │\n",
       "│ -0.360587 ┆ 0.687089  ┆ -0.442246 ┆ 0.26192   ┆ … ┆ 0.028209  ┆ 0.037013  ┆ 0.126674  ┆ -0.22297 │\n",
       "│           ┆           ┆           ┆           ┆   ┆           ┆           ┆           ┆ 5        │\n",
       "│ -0.181074 ┆ 0.373918  ┆ -0.366184 ┆ 0.311654  ┆ … ┆ -0.011214 ┆ -0.024619 ┆ 0.019688  ┆ 0.021371 │\n",
       "│ -0.327236 ┆ 0.12627   ┆ 0.229138  ┆ -0.39666  ┆ … ┆ 0.057293  ┆ -0.084113 ┆ -0.010024 ┆ -0.42931 │\n",
       "│           ┆           ┆           ┆           ┆   ┆           ┆           ┆           ┆ 2        │\n",
       "│ 0.326186  ┆ -0.089986 ┆ -0.255514 ┆ -0.151978 ┆ … ┆ -0.068709 ┆ -0.058629 ┆ 0.028167  ┆ 4.303058 │\n",
       "└───────────┴───────────┴───────────┴───────────┴───┴───────────┴───────────┴───────────┴──────────┘"
      ]
     },
     "execution_count": 13,
     "metadata": {},
     "output_type": "execute_result"
    }
   ],
   "source": [
    "df_pca_resp_6 = df_pca.with_columns(resp_6)\n",
    "df_pca_resp_6"
   ]
  },
  {
   "cell_type": "markdown",
   "metadata": {},
   "source": [
    "## T-sne"
   ]
  },
  {
   "cell_type": "code",
   "execution_count": 14,
   "metadata": {},
   "outputs": [],
   "source": [
    "# df_tsne, tsne_model = reduce_T_sne(df_sampled_feat_olny)"
   ]
  },
  {
   "cell_type": "code",
   "execution_count": null,
   "metadata": {},
   "outputs": [],
   "source": [
    "# df_tsne_resp_6 = df_tsne.with_columns(resp_6)\n",
    "# df_tsne_resp_6"
   ]
  }
 ],
 "metadata": {
  "kernelspec": {
   "display_name": "venv",
   "language": "python",
   "name": "python3"
  },
  "language_info": {
   "codemirror_mode": {
    "name": "ipython",
    "version": 3
   },
   "file_extension": ".py",
   "mimetype": "text/x-python",
   "name": "python",
   "nbconvert_exporter": "python",
   "pygments_lexer": "ipython3",
   "version": "3.12.7"
  }
 },
 "nbformat": 4,
 "nbformat_minor": 2
}
