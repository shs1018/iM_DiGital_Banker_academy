{
 "cells": [
  {
   "cell_type": "markdown",
   "metadata": {
    "_cell_guid": "b1076dfc-b9ad-4769-8c92-a6c4dae69d19",
    "_uuid": "8f2839f25d086af736a60e9eeb907d3b93b6e0e5",
    "execution": {
     "iopub.execute_input": "2024-02-03T09:46:56.760011Z",
     "iopub.status.busy": "2024-02-03T09:46:56.759057Z",
     "iopub.status.idle": "2024-02-03T09:46:56.765954Z",
     "shell.execute_reply": "2024-02-03T09:46:56.764894Z",
     "shell.execute_reply.started": "2024-02-03T09:46:56.759977Z"
    }
   },
   "source": [
    "# [컴페티션] 머신러닝 성능 극대화\n",
    "- 대회 주제 : Binary Classification with a Bank Churn Dataset\n",
    "- 대회 링크 : https://www.kaggle.com/competitions/playground-series-s4e1\n",
    "- 평가 항목 : ROC Curve\n",
    "- 제출일 : 2024년 12월 10일 화요일 7교시\n",
    "- 평가 항목 점수 : 0.8945/1\n",
    "- 수강생 성함 : 송현서"
   ]
  },
  {
   "cell_type": "code",
   "execution_count": 17,
   "metadata": {
    "execution": {
     "iopub.execute_input": "2024-02-03T23:54:56.833249Z",
     "iopub.status.busy": "2024-02-03T23:54:56.832559Z",
     "iopub.status.idle": "2024-02-03T23:54:56.839245Z",
     "shell.execute_reply": "2024-02-03T23:54:56.838154Z",
     "shell.execute_reply.started": "2024-02-03T23:54:56.833215Z"
    }
   },
   "outputs": [],
   "source": [
    "import numpy as np\n",
    "import pandas as pd\n",
    "import lightgbm as lgb\n",
    "from sklearn.model_selection import train_test_split\n",
    "from sklearn.metrics import roc_auc_score\n",
    "import matplotlib.pyplot as plt\n",
    "from sklearn.model_selection import StratifiedKFold\n",
    "from sklearn.feature_extraction.text import TfidfVectorizer\n",
    "from sklearn.decomposition import TruncatedSVD\n",
    "from catboost import CatBoostClassifier, Pool\n",
    "from catboost.utils import eval_metric\n",
    "\n",
    "from sklearn.model_selection import StratifiedKFold\n",
    "from sklearn.metrics import roc_auc_score\n",
    "import matplotlib.pyplot as plt\n",
    "\n",
    "import warnings\n",
    "warnings.filterwarnings(\"ignore\")"
   ]
  },
  {
   "cell_type": "code",
   "execution_count": 18,
   "metadata": {
    "execution": {
     "iopub.execute_input": "2024-02-03T23:54:56.84188Z",
     "iopub.status.busy": "2024-02-03T23:54:56.841106Z",
     "iopub.status.idle": "2024-02-03T23:54:56.851941Z",
     "shell.execute_reply": "2024-02-03T23:54:56.851052Z",
     "shell.execute_reply.started": "2024-02-03T23:54:56.841826Z"
    }
   },
   "outputs": [],
   "source": [
    "RAND_VAL=27\n",
    "num_folds=2 ## Number of folds\n",
    "n_est=1000 ## Number of estimators"
   ]
  },
  {
   "cell_type": "code",
   "execution_count": 19,
   "metadata": {
    "execution": {
     "iopub.execute_input": "2024-02-03T23:54:56.853437Z",
     "iopub.status.busy": "2024-02-03T23:54:56.853117Z",
     "iopub.status.idle": "2024-02-03T23:54:57.118997Z",
     "shell.execute_reply": "2024-02-03T23:54:57.118093Z",
     "shell.execute_reply.started": "2024-02-03T23:54:56.853406Z"
    }
   },
   "outputs": [],
   "source": [
    "df_train = pd.read_csv('data/train.csv')"
   ]
  },
  {
   "cell_type": "code",
   "execution_count": 20,
   "metadata": {
    "execution": {
     "iopub.execute_input": "2024-02-03T23:54:57.121238Z",
     "iopub.status.busy": "2024-02-03T23:54:57.12095Z",
     "iopub.status.idle": "2024-02-03T23:54:57.313007Z",
     "shell.execute_reply": "2024-02-03T23:54:57.311871Z",
     "shell.execute_reply.started": "2024-02-03T23:54:57.121213Z"
    }
   },
   "outputs": [],
   "source": [
    "df_test = pd.read_csv('data/test.csv')\n",
    "df_test_ov = df_test.copy()"
   ]
  },
  {
   "cell_type": "code",
   "execution_count": 21,
   "metadata": {
    "execution": {
     "iopub.execute_input": "2024-02-03T23:54:57.31464Z",
     "iopub.status.busy": "2024-02-03T23:54:57.314256Z",
     "iopub.status.idle": "2024-02-03T23:54:57.353246Z",
     "shell.execute_reply": "2024-02-03T23:54:57.352206Z",
     "shell.execute_reply.started": "2024-02-03T23:54:57.314604Z"
    }
   },
   "outputs": [],
   "source": [
    "df_orig=pd.read_csv(\"data/Churn_Modelling.csv\")\n",
    "df_orig=df_orig.rename(columns={'RowNumber':'id'})"
   ]
  },
  {
   "cell_type": "code",
   "execution_count": 22,
   "metadata": {
    "execution": {
     "iopub.execute_input": "2024-02-03T23:54:57.354607Z",
     "iopub.status.busy": "2024-02-03T23:54:57.354342Z",
     "iopub.status.idle": "2024-02-03T23:54:57.372208Z",
     "shell.execute_reply": "2024-02-03T23:54:57.37135Z",
     "shell.execute_reply.started": "2024-02-03T23:54:57.354583Z"
    }
   },
   "outputs": [],
   "source": [
    "# 진짜 의미가 있는 숫자형 데이터만 MinMaxScaler를 사용함.\n",
    "# MinMaxScaler와 같은 작동방식으로 사용한다.\n",
    "\n",
    "scale_cols = ['Age','CreditScore', 'Balance','EstimatedSalary']\n",
    "\n",
    "for c in scale_cols:\n",
    "    min_value = df_train[c].min()\n",
    "    max_value = df_train[c].max()\n",
    "    df_train[c+\"_scaled\"] = (df_train[c] - min_value) / (max_value - min_value)\n",
    "    df_test[c+\"_scaled\"] = (df_test[c] - min_value) / (max_value - min_value)"
   ]
  },
  {
   "cell_type": "code",
   "execution_count": 23,
   "metadata": {
    "execution": {
     "iopub.execute_input": "2024-02-03T23:54:57.373476Z",
     "iopub.status.busy": "2024-02-03T23:54:57.373222Z",
     "iopub.status.idle": "2024-02-03T23:54:57.759981Z",
     "shell.execute_reply": "2024-02-03T23:54:57.758897Z",
     "shell.execute_reply.started": "2024-02-03T23:54:57.373453Z"
    }
   },
   "outputs": [
    {
     "name": "stdout",
     "output_type": "stream",
     "text": [
      "235258\n"
     ]
    }
   ],
   "source": [
    "# train과 test를 합친 다음 인덱스 제거\n",
    "# 이후 주요 통계 지표 확인\n",
    "\n",
    "df_all = pd.concat([df_train,df_test]).reset_index(drop=True)\n",
    "aggs = {\n",
    "    'Age': ['min','max', 'mean'],       \n",
    "    'Balance': ['min','max', 'mean','sum'],\n",
    "    'NumOfProducts': ['mean','sum'],\n",
    "    'IsActiveMember': ['min','max', 'mean','sum'],\n",
    "    'CreditScore': ['min','max', 'mean'],\n",
    "    'EstimatedSalary': ['min','max', 'mean','sum'],\n",
    "    'id': 'count',\n",
    "}\n",
    "df_grps=df_all.groupby(['CustomerId', 'Surname', 'Geography', 'Gender']).agg(aggs).reset_index()\n",
    "df_grps.columns = list(map(''.join, df_grps.columns.values))\n",
    "print(len(df_grps))"
   ]
  },
  {
   "cell_type": "code",
   "execution_count": 24,
   "metadata": {
    "execution": {
     "iopub.execute_input": "2024-02-03T23:54:57.76158Z",
     "iopub.status.busy": "2024-02-03T23:54:57.76123Z",
     "iopub.status.idle": "2024-02-03T23:54:58.086777Z",
     "shell.execute_reply": "2024-02-03T23:54:58.085907Z",
     "shell.execute_reply.started": "2024-02-03T23:54:57.761555Z"
    }
   },
   "outputs": [
    {
     "name": "stdout",
     "output_type": "stream",
     "text": [
      "252537\n"
     ]
    }
   ],
   "source": [
    "aggs = {   \n",
    "    'Balance': ['min','max', 'mean','sum'],\n",
    "    'NumOfProducts': ['mean','sum'],\n",
    "    'IsActiveMember': ['min','max', 'mean','sum'],\n",
    "    'CreditScore': ['min','max', 'mean'],\n",
    "    'EstimatedSalary': ['min','max', 'mean','sum'],\n",
    "    'id': 'count',\n",
    "}\n",
    "df_grps1=df_all.groupby(['CustomerId', 'Surname', 'Age', 'Gender']).agg(aggs).reset_index()\n",
    "df_grps1.columns = list(map('grps1'.join, df_grps1.columns.values))\n",
    "print(len(df_grps1))\n",
    "df_grps1=df_grps1.rename(columns={'CustomerIdgrps1':'CustomerId','Surnamegrps1':'Surname',\n",
    "                                 'Agegrps1':'Age','Gendergrps1':'Gender'})"
   ]
  },
  {
   "cell_type": "code",
   "execution_count": 25,
   "metadata": {
    "execution": {
     "iopub.execute_input": "2024-02-03T23:54:58.407738Z",
     "iopub.status.busy": "2024-02-03T23:54:58.407455Z",
     "iopub.status.idle": "2024-02-03T23:54:59.401353Z",
     "shell.execute_reply": "2024-02-03T23:54:59.400458Z",
     "shell.execute_reply.started": "2024-02-03T23:54:58.407713Z"
    }
   },
   "outputs": [
    {
     "data": {
      "text/html": [
       "<div>\n",
       "<style scoped>\n",
       "    .dataframe tbody tr th:only-of-type {\n",
       "        vertical-align: middle;\n",
       "    }\n",
       "\n",
       "    .dataframe tbody tr th {\n",
       "        vertical-align: top;\n",
       "    }\n",
       "\n",
       "    .dataframe thead th {\n",
       "        text-align: right;\n",
       "    }\n",
       "</style>\n",
       "<table border=\"1\" class=\"dataframe\">\n",
       "  <thead>\n",
       "    <tr style=\"text-align: right;\">\n",
       "      <th></th>\n",
       "      <th>id</th>\n",
       "      <th>Exit_lag1</th>\n",
       "      <th>Exit_lag2</th>\n",
       "      <th>Exit_lag3</th>\n",
       "      <th>Exit_lead1</th>\n",
       "      <th>Exit_lead2</th>\n",
       "      <th>Exit_lead3</th>\n",
       "      <th>Balance_lag_diff1</th>\n",
       "      <th>Balance_lead_diff1</th>\n",
       "    </tr>\n",
       "  </thead>\n",
       "  <tbody>\n",
       "    <tr>\n",
       "      <th>87277</th>\n",
       "      <td>87277</td>\n",
       "      <td>-1</td>\n",
       "      <td>-1</td>\n",
       "      <td>-1</td>\n",
       "      <td>-1</td>\n",
       "      <td>-1</td>\n",
       "      <td>-1</td>\n",
       "      <td>-1</td>\n",
       "      <td>107209</td>\n",
       "    </tr>\n",
       "    <tr>\n",
       "      <th>140882</th>\n",
       "      <td>140882</td>\n",
       "      <td>-1</td>\n",
       "      <td>-1</td>\n",
       "      <td>-1</td>\n",
       "      <td>-1</td>\n",
       "      <td>-1</td>\n",
       "      <td>-1</td>\n",
       "      <td>0</td>\n",
       "      <td>161993</td>\n",
       "    </tr>\n",
       "    <tr>\n",
       "      <th>160702</th>\n",
       "      <td>160702</td>\n",
       "      <td>-1</td>\n",
       "      <td>-1</td>\n",
       "      <td>-1</td>\n",
       "      <td>-1</td>\n",
       "      <td>-1</td>\n",
       "      <td>-1</td>\n",
       "      <td>107209</td>\n",
       "      <td>161993</td>\n",
       "    </tr>\n",
       "    <tr>\n",
       "      <th>259273</th>\n",
       "      <td>259273</td>\n",
       "      <td>-1</td>\n",
       "      <td>-1</td>\n",
       "      <td>-1</td>\n",
       "      <td>-1</td>\n",
       "      <td>-1</td>\n",
       "      <td>-1</td>\n",
       "      <td>161993</td>\n",
       "      <td>0</td>\n",
       "    </tr>\n",
       "    <tr>\n",
       "      <th>106193</th>\n",
       "      <td>106193</td>\n",
       "      <td>-1</td>\n",
       "      <td>-1</td>\n",
       "      <td>-1</td>\n",
       "      <td>-1</td>\n",
       "      <td>-1</td>\n",
       "      <td>-1</td>\n",
       "      <td>161993</td>\n",
       "      <td>0</td>\n",
       "    </tr>\n",
       "    <tr>\n",
       "      <th>...</th>\n",
       "      <td>...</td>\n",
       "      <td>...</td>\n",
       "      <td>...</td>\n",
       "      <td>...</td>\n",
       "      <td>...</td>\n",
       "      <td>...</td>\n",
       "      <td>...</td>\n",
       "      <td>...</td>\n",
       "      <td>...</td>\n",
       "    </tr>\n",
       "    <tr>\n",
       "      <th>189759</th>\n",
       "      <td>189759</td>\n",
       "      <td>-1</td>\n",
       "      <td>-1</td>\n",
       "      <td>-1</td>\n",
       "      <td>-1</td>\n",
       "      <td>-1</td>\n",
       "      <td>-1</td>\n",
       "      <td>0</td>\n",
       "      <td>0</td>\n",
       "    </tr>\n",
       "    <tr>\n",
       "      <th>124621</th>\n",
       "      <td>124621</td>\n",
       "      <td>-1</td>\n",
       "      <td>-1</td>\n",
       "      <td>-1</td>\n",
       "      <td>-1</td>\n",
       "      <td>-1</td>\n",
       "      <td>-1</td>\n",
       "      <td>0</td>\n",
       "      <td>135277</td>\n",
       "    </tr>\n",
       "    <tr>\n",
       "      <th>97684</th>\n",
       "      <td>97684</td>\n",
       "      <td>-1</td>\n",
       "      <td>-1</td>\n",
       "      <td>-1</td>\n",
       "      <td>-1</td>\n",
       "      <td>-1</td>\n",
       "      <td>-1</td>\n",
       "      <td>0</td>\n",
       "      <td>144591</td>\n",
       "    </tr>\n",
       "    <tr>\n",
       "      <th>46972</th>\n",
       "      <td>46972</td>\n",
       "      <td>-1</td>\n",
       "      <td>-1</td>\n",
       "      <td>-1</td>\n",
       "      <td>-1</td>\n",
       "      <td>-1</td>\n",
       "      <td>-1</td>\n",
       "      <td>135277</td>\n",
       "      <td>0</td>\n",
       "    </tr>\n",
       "    <tr>\n",
       "      <th>235423</th>\n",
       "      <td>235423</td>\n",
       "      <td>-1</td>\n",
       "      <td>-1</td>\n",
       "      <td>-1</td>\n",
       "      <td>-1</td>\n",
       "      <td>-1</td>\n",
       "      <td>-1</td>\n",
       "      <td>144591</td>\n",
       "      <td>-1</td>\n",
       "    </tr>\n",
       "  </tbody>\n",
       "</table>\n",
       "<p>275057 rows × 9 columns</p>\n",
       "</div>"
      ],
      "text/plain": [
       "            id  Exit_lag1  Exit_lag2  Exit_lag3  Exit_lead1  Exit_lead2  \\\n",
       "87277    87277         -1         -1         -1          -1          -1   \n",
       "140882  140882         -1         -1         -1          -1          -1   \n",
       "160702  160702         -1         -1         -1          -1          -1   \n",
       "259273  259273         -1         -1         -1          -1          -1   \n",
       "106193  106193         -1         -1         -1          -1          -1   \n",
       "...        ...        ...        ...        ...         ...         ...   \n",
       "189759  189759         -1         -1         -1          -1          -1   \n",
       "124621  124621         -1         -1         -1          -1          -1   \n",
       "97684    97684         -1         -1         -1          -1          -1   \n",
       "46972    46972         -1         -1         -1          -1          -1   \n",
       "235423  235423         -1         -1         -1          -1          -1   \n",
       "\n",
       "        Exit_lead3  Balance_lag_diff1  Balance_lead_diff1  \n",
       "87277           -1                 -1              107209  \n",
       "140882          -1                  0              161993  \n",
       "160702          -1             107209              161993  \n",
       "259273          -1             161993                   0  \n",
       "106193          -1             161993                   0  \n",
       "...            ...                ...                 ...  \n",
       "189759          -1                  0                   0  \n",
       "124621          -1                  0              135277  \n",
       "97684           -1                  0              144591  \n",
       "46972           -1             135277                   0  \n",
       "235423          -1             144591                  -1  \n",
       "\n",
       "[275057 rows x 9 columns]"
      ]
     },
     "execution_count": 25,
     "metadata": {},
     "output_type": "execute_result"
    }
   ],
   "source": [
    "exitGrpBy=['CustomerId', 'Surname',  'Gender','Geography','EstimatedSalary']\n",
    "\n",
    "exitSrtBy=['CustomerId', 'Surname',  'Gender','Geography',\n",
    "       'Age', 'Tenure']\n",
    "##\n",
    "df_all_Exits=df_all.copy()\n",
    "df_all_Exits['Exited']=df_all_Exits['Exited'].fillna(-1)\n",
    "df_all_Exits=df_all_Exits.sort_values(exitSrtBy)\n",
    "df_all_Exits['Exit_lag1']=df_all_Exits.groupby(exitGrpBy)['Exited'].shift(1)\n",
    "df_all_Exits['Exit_lag2']=df_all_Exits.groupby(exitGrpBy)['Exited'].shift(2)\n",
    "df_all_Exits['Exit_lag3']=df_all_Exits.groupby(exitGrpBy)['Exited'].shift(3)\n",
    "\n",
    "df_all_Exits['Exit_lead1']=df_all_Exits.groupby(exitGrpBy)['Exited'].shift(-1)\n",
    "df_all_Exits['Exit_lead2']=df_all_Exits.groupby(exitGrpBy)['Exited'].shift(-2)\n",
    "df_all_Exits['Exit_lead3']=df_all_Exits.groupby(exitGrpBy)['Exited'].shift(-3)\n",
    "\n",
    "df_all_Exits['Balance_lag_diff1']=df_all_Exits['Balance'].shift(1)\n",
    "df_all_Exits['Balance_lead_diff1']=df_all_Exits['Balance'].shift(-1)\n",
    "\n",
    "df_all_Exits=df_all_Exits[['id','Exit_lag1','Exit_lag2','Exit_lag3',\n",
    "                         'Exit_lead1','Exit_lead2','Exit_lead3',\n",
    "                          'Balance_lag_diff1','Balance_lead_diff1']]\n",
    "df_all_Exits=df_all_Exits.fillna(-1).astype('int')\n",
    "df_all_Exits"
   ]
  },
  {
   "cell_type": "code",
   "execution_count": 26,
   "metadata": {
    "execution": {
     "iopub.execute_input": "2024-02-03T23:54:59.403089Z",
     "iopub.status.busy": "2024-02-03T23:54:59.402711Z",
     "iopub.status.idle": "2024-02-03T23:54:59.411767Z",
     "shell.execute_reply": "2024-02-03T23:54:59.410881Z",
     "shell.execute_reply.started": "2024-02-03T23:54:59.403055Z"
    }
   },
   "outputs": [],
   "source": [
    "def getGrpsIndv(df_orig,df_train,df_test,grpCols,nm):\n",
    "    grpBy=[]\n",
    "    for c in grpCols:\n",
    "        for i in grpCols:\n",
    "            if c!=i:\n",
    "                grpBy=[c,i]\n",
    "                grpBy=[c,i]\n",
    "                df_tmp=df_orig.groupby(grpBy).agg({'id':'count','Exited':{'mean'}}).reset_index()\n",
    "                df_tmp.columns=list(map(''.join, (list(df_tmp.columns.values))))\n",
    "                sepCols=df_tmp.columns.drop(grpBy)+nm+'_ind_'+c+'-'+i\n",
    "                df_tmp.columns=list(grpBy)+list(sepCols)\n",
    "                #\n",
    "                df_train=df_train.merge(df_tmp,how='left')\n",
    "                df_test=df_test.merge(df_tmp,how='left')\n",
    "                \n",
    "                df_train[sepCols]=df_train[sepCols].fillna(0)\n",
    "                df_test[sepCols]=df_test[sepCols].fillna(0)\n",
    "\n",
    "                df_train[sepCols]=df_train[sepCols].astype('int')\n",
    "                df_test[sepCols]=df_test[sepCols].astype('int')\n",
    "    return df_train,df_test"
   ]
  },
  {
   "cell_type": "code",
   "execution_count": 27,
   "metadata": {
    "execution": {
     "iopub.execute_input": "2024-02-03T23:54:59.413595Z",
     "iopub.status.busy": "2024-02-03T23:54:59.412995Z",
     "iopub.status.idle": "2024-02-03T23:54:59.425653Z",
     "shell.execute_reply": "2024-02-03T23:54:59.424751Z",
     "shell.execute_reply.started": "2024-02-03T23:54:59.413562Z"
    }
   },
   "outputs": [],
   "source": [
    "def getGrps(df_orig,df_train,df_test,grpCols,nm):\n",
    "    grpBy=[]\n",
    "    for c in grpCols:\n",
    "        grpBy.append(c)\n",
    "        df_tmp=df_orig.groupby(grpBy).agg({'id':'count','Exited':{'sum'}}).reset_index()\n",
    "        df_tmp.columns=list(map(''.join, (list(df_tmp.columns.values))))\n",
    "        sepCols=df_tmp.columns.drop(grpBy)+nm+'_grps_'+c\n",
    "        df_tmp.columns=list(grpBy)+list(sepCols)\n",
    "                #\n",
    "        df_train=df_train.merge(df_tmp,how='left')\n",
    "        df_test=df_test.merge(df_tmp,how='left')\n",
    "        \n",
    "        df_train[sepCols]=df_train[sepCols].fillna(0)\n",
    "        df_test[sepCols]=df_test[sepCols].fillna(0)\n",
    "        \n",
    "        df_train[sepCols]=df_train[sepCols].astype('int')\n",
    "        df_test[sepCols]=df_test[sepCols].astype('int')\n",
    "    return df_train,df_test"
   ]
  },
  {
   "cell_type": "code",
   "execution_count": 28,
   "metadata": {
    "execution": {
     "iopub.execute_input": "2024-02-03T23:54:59.42706Z",
     "iopub.status.busy": "2024-02-03T23:54:59.426748Z",
     "iopub.status.idle": "2024-02-03T23:55:58.428784Z",
     "shell.execute_reply": "2024-02-03T23:55:58.427778Z",
     "shell.execute_reply.started": "2024-02-03T23:54:59.427034Z"
    }
   },
   "outputs": [],
   "source": [
    "grpCols=['CustomerId', 'Surname', 'Geography', 'Gender', 'Age', 'Tenure', 'CreditScore', \n",
    "         'NumOfProducts','HasCrCard', \n",
    "         'IsActiveMember' ,'EstimatedSalary','Balance']\n",
    "df_train,df_test=getGrps(df_orig,df_train,df_test,grpCols,'Orig_groups')\n",
    "df_train,df_test=getGrpsIndv(df_orig,df_train,df_test,grpCols,'Orig_ind')"
   ]
  },
  {
   "cell_type": "markdown",
   "metadata": {},
   "source": [
    "## Feature Engineering"
   ]
  },
  {
   "cell_type": "code",
   "execution_count": 29,
   "metadata": {
    "execution": {
     "iopub.execute_input": "2024-02-03T23:55:58.469769Z",
     "iopub.status.busy": "2024-02-03T23:55:58.469418Z",
     "iopub.status.idle": "2024-02-03T23:55:58.478216Z",
     "shell.execute_reply": "2024-02-03T23:55:58.477376Z",
     "shell.execute_reply.started": "2024-02-03T23:55:58.469741Z"
    }
   },
   "outputs": [],
   "source": [
    "def getFeats(df):\n",
    "    \n",
    "    df['IsSenior'] = df['Age'].apply(lambda x: 1 if x >= 60 else 0)\n",
    "    df['IsActive_by_CreditCard'] = df['HasCrCard'] * df['IsActiveMember']\n",
    "    df['Products_Per_Tenure'] =  df['Tenure'] / df['NumOfProducts']\n",
    "    df['AgeCat'] = np.round(df.Age/20).astype('int').astype('category')\n",
    "    df['Sur_Geo_Gend_Sal'] = df['Surname']+df['Geography']+df['Gender']+np.round(df.EstimatedSalary).astype('str')\n",
    "    \n",
    "    df = df.merge(df_grps,how='left',on=['CustomerId', 'Surname', 'Geography', 'Gender'])\n",
    "    df = df.merge(df_grps1,how='left',on=['CustomerId', 'Surname', 'Age', 'Gender'])\n",
    "    df = df.merge(df_all_Exits,how='left')\n",
    "    return df"
   ]
  },
  {
   "cell_type": "code",
   "execution_count": 30,
   "metadata": {
    "execution": {
     "iopub.execute_input": "2024-02-03T23:55:58.47979Z",
     "iopub.status.busy": "2024-02-03T23:55:58.479492Z",
     "iopub.status.idle": "2024-02-03T23:56:02.054468Z",
     "shell.execute_reply": "2024-02-03T23:56:02.053597Z",
     "shell.execute_reply.started": "2024-02-03T23:55:58.479766Z"
    }
   },
   "outputs": [
    {
     "name": "stdout",
     "output_type": "stream",
     "text": [
      "Number of Features: 352\n",
      "Index(['CustomerId', 'Surname', 'Geography', 'Gender', 'Tenure',\n",
      "       'NumOfProducts', 'HasCrCard', 'IsActiveMember', 'Age_scaled',\n",
      "       'CreditScore_scaled',\n",
      "       ...\n",
      "       'EstimatedSalarygrps1sum', 'idgrps1count', 'Exit_lag1', 'Exit_lag2',\n",
      "       'Exit_lag3', 'Exit_lead1', 'Exit_lead2', 'Exit_lead3',\n",
      "       'Balance_lag_diff1', 'Balance_lead_diff1'],\n",
      "      dtype='object', length=352)\n"
     ]
    },
    {
     "data": {
      "text/html": [
       "<div>\n",
       "<style scoped>\n",
       "    .dataframe tbody tr th:only-of-type {\n",
       "        vertical-align: middle;\n",
       "    }\n",
       "\n",
       "    .dataframe tbody tr th {\n",
       "        vertical-align: top;\n",
       "    }\n",
       "\n",
       "    .dataframe thead th {\n",
       "        text-align: right;\n",
       "    }\n",
       "</style>\n",
       "<table border=\"1\" class=\"dataframe\">\n",
       "  <thead>\n",
       "    <tr style=\"text-align: right;\">\n",
       "      <th></th>\n",
       "      <th>id</th>\n",
       "      <th>CustomerId</th>\n",
       "      <th>Surname</th>\n",
       "      <th>CreditScore</th>\n",
       "      <th>Geography</th>\n",
       "      <th>Gender</th>\n",
       "      <th>Age</th>\n",
       "      <th>Tenure</th>\n",
       "      <th>Balance</th>\n",
       "      <th>NumOfProducts</th>\n",
       "      <th>...</th>\n",
       "      <th>EstimatedSalarygrps1sum</th>\n",
       "      <th>idgrps1count</th>\n",
       "      <th>Exit_lag1</th>\n",
       "      <th>Exit_lag2</th>\n",
       "      <th>Exit_lag3</th>\n",
       "      <th>Exit_lead1</th>\n",
       "      <th>Exit_lead2</th>\n",
       "      <th>Exit_lead3</th>\n",
       "      <th>Balance_lag_diff1</th>\n",
       "      <th>Balance_lead_diff1</th>\n",
       "    </tr>\n",
       "  </thead>\n",
       "  <tbody>\n",
       "    <tr>\n",
       "      <th>0</th>\n",
       "      <td>0</td>\n",
       "      <td>15674932</td>\n",
       "      <td>Okwudilichukwu</td>\n",
       "      <td>668</td>\n",
       "      <td>France</td>\n",
       "      <td>Male</td>\n",
       "      <td>33.0</td>\n",
       "      <td>3</td>\n",
       "      <td>0.00</td>\n",
       "      <td>2</td>\n",
       "      <td>...</td>\n",
       "      <td>181449.97</td>\n",
       "      <td>1</td>\n",
       "      <td>-1</td>\n",
       "      <td>-1</td>\n",
       "      <td>-1</td>\n",
       "      <td>-1</td>\n",
       "      <td>-1</td>\n",
       "      <td>-1</td>\n",
       "      <td>0</td>\n",
       "      <td>0</td>\n",
       "    </tr>\n",
       "    <tr>\n",
       "      <th>1</th>\n",
       "      <td>1</td>\n",
       "      <td>15749177</td>\n",
       "      <td>Okwudiliolisa</td>\n",
       "      <td>627</td>\n",
       "      <td>France</td>\n",
       "      <td>Male</td>\n",
       "      <td>33.0</td>\n",
       "      <td>1</td>\n",
       "      <td>0.00</td>\n",
       "      <td>2</td>\n",
       "      <td>...</td>\n",
       "      <td>49503.50</td>\n",
       "      <td>1</td>\n",
       "      <td>-1</td>\n",
       "      <td>-1</td>\n",
       "      <td>-1</td>\n",
       "      <td>-1</td>\n",
       "      <td>-1</td>\n",
       "      <td>-1</td>\n",
       "      <td>115587</td>\n",
       "      <td>0</td>\n",
       "    </tr>\n",
       "    <tr>\n",
       "      <th>2</th>\n",
       "      <td>2</td>\n",
       "      <td>15694510</td>\n",
       "      <td>Hsueh</td>\n",
       "      <td>678</td>\n",
       "      <td>France</td>\n",
       "      <td>Male</td>\n",
       "      <td>40.0</td>\n",
       "      <td>10</td>\n",
       "      <td>0.00</td>\n",
       "      <td>2</td>\n",
       "      <td>...</td>\n",
       "      <td>184866.69</td>\n",
       "      <td>1</td>\n",
       "      <td>-1</td>\n",
       "      <td>-1</td>\n",
       "      <td>-1</td>\n",
       "      <td>-1</td>\n",
       "      <td>-1</td>\n",
       "      <td>-1</td>\n",
       "      <td>0</td>\n",
       "      <td>0</td>\n",
       "    </tr>\n",
       "    <tr>\n",
       "      <th>3</th>\n",
       "      <td>3</td>\n",
       "      <td>15741417</td>\n",
       "      <td>Kao</td>\n",
       "      <td>581</td>\n",
       "      <td>France</td>\n",
       "      <td>Male</td>\n",
       "      <td>34.0</td>\n",
       "      <td>2</td>\n",
       "      <td>148882.54</td>\n",
       "      <td>1</td>\n",
       "      <td>...</td>\n",
       "      <td>84560.88</td>\n",
       "      <td>1</td>\n",
       "      <td>-1</td>\n",
       "      <td>-1</td>\n",
       "      <td>-1</td>\n",
       "      <td>-1</td>\n",
       "      <td>-1</td>\n",
       "      <td>-1</td>\n",
       "      <td>0</td>\n",
       "      <td>0</td>\n",
       "    </tr>\n",
       "    <tr>\n",
       "      <th>4</th>\n",
       "      <td>4</td>\n",
       "      <td>15766172</td>\n",
       "      <td>Chiemenam</td>\n",
       "      <td>716</td>\n",
       "      <td>Spain</td>\n",
       "      <td>Male</td>\n",
       "      <td>33.0</td>\n",
       "      <td>5</td>\n",
       "      <td>0.00</td>\n",
       "      <td>2</td>\n",
       "      <td>...</td>\n",
       "      <td>15068.83</td>\n",
       "      <td>1</td>\n",
       "      <td>-1</td>\n",
       "      <td>-1</td>\n",
       "      <td>-1</td>\n",
       "      <td>-1</td>\n",
       "      <td>-1</td>\n",
       "      <td>-1</td>\n",
       "      <td>135759</td>\n",
       "      <td>142084</td>\n",
       "    </tr>\n",
       "  </tbody>\n",
       "</table>\n",
       "<p>5 rows × 358 columns</p>\n",
       "</div>"
      ],
      "text/plain": [
       "   id  CustomerId         Surname  CreditScore Geography Gender   Age  Tenure  \\\n",
       "0   0    15674932  Okwudilichukwu          668    France   Male  33.0       3   \n",
       "1   1    15749177   Okwudiliolisa          627    France   Male  33.0       1   \n",
       "2   2    15694510           Hsueh          678    France   Male  40.0      10   \n",
       "3   3    15741417             Kao          581    France   Male  34.0       2   \n",
       "4   4    15766172       Chiemenam          716     Spain   Male  33.0       5   \n",
       "\n",
       "     Balance  NumOfProducts  ...  EstimatedSalarygrps1sum  idgrps1count  \\\n",
       "0       0.00              2  ...                181449.97             1   \n",
       "1       0.00              2  ...                 49503.50             1   \n",
       "2       0.00              2  ...                184866.69             1   \n",
       "3  148882.54              1  ...                 84560.88             1   \n",
       "4       0.00              2  ...                 15068.83             1   \n",
       "\n",
       "   Exit_lag1  Exit_lag2  Exit_lag3  Exit_lead1  Exit_lead2  Exit_lead3  \\\n",
       "0         -1         -1         -1          -1          -1          -1   \n",
       "1         -1         -1         -1          -1          -1          -1   \n",
       "2         -1         -1         -1          -1          -1          -1   \n",
       "3         -1         -1         -1          -1          -1          -1   \n",
       "4         -1         -1         -1          -1          -1          -1   \n",
       "\n",
       "   Balance_lag_diff1  Balance_lead_diff1  \n",
       "0                  0                   0  \n",
       "1             115587                   0  \n",
       "2                  0                   0  \n",
       "3                  0                   0  \n",
       "4             135759              142084  \n",
       "\n",
       "[5 rows x 358 columns]"
      ]
     },
     "execution_count": 30,
     "metadata": {},
     "output_type": "execute_result"
    }
   ],
   "source": [
    "df_train = getFeats(df_train)\n",
    "df_test = getFeats(df_test)\n",
    "##\n",
    "feat_cols=df_train.columns.drop(['id','Exited'])\n",
    "feat_cols=feat_cols.drop(scale_cols)\n",
    "print(\"Number of Features:\",len(feat_cols))\n",
    "print(feat_cols)\n",
    "df_train.head()"
   ]
  },
  {
   "cell_type": "code",
   "execution_count": 31,
   "metadata": {
    "execution": {
     "iopub.execute_input": "2024-02-03T23:56:02.055899Z",
     "iopub.status.busy": "2024-02-03T23:56:02.055579Z",
     "iopub.status.idle": "2024-02-03T23:56:02.202917Z",
     "shell.execute_reply": "2024-02-03T23:56:02.201948Z",
     "shell.execute_reply.started": "2024-02-03T23:56:02.055871Z"
    }
   },
   "outputs": [
    {
     "data": {
      "text/plain": [
       "array([  0,   1,   2,   3,   4,   5,  12,  13,  14,  15,  16,  17,  18,\n",
       "        19,  20,  21,  22,  23,  24,  25,  26,  27,  28,  29,  30,  31,\n",
       "        32,  33,  34,  35,  36,  37,  38,  39,  40,  41,  42,  43,  44,\n",
       "        45,  46,  47,  48,  49,  50,  51,  52,  53,  54,  55,  56,  57,\n",
       "        58,  59,  60,  61,  62,  63,  64,  65,  66,  67,  68,  69,  70,\n",
       "        71,  72,  73,  74,  75,  76,  77,  78,  79,  80,  81,  82,  83,\n",
       "        84,  85,  86,  87,  88,  89,  90,  91,  92,  93,  94,  95,  96,\n",
       "        97,  98,  99, 100, 101, 102, 103, 104, 105, 106, 107, 108, 109,\n",
       "       110, 111, 112, 113, 114, 115, 116, 117, 118, 119, 120, 121, 122,\n",
       "       123, 124, 125, 126, 127, 128, 129, 130, 131, 132, 133, 134, 135,\n",
       "       136, 137, 138, 139, 140, 141, 142, 143, 144, 145, 146, 147, 148,\n",
       "       149, 150, 151, 152, 153, 154, 155, 156, 157, 158, 159, 160, 161,\n",
       "       162, 163, 164, 165, 166, 167, 168, 169, 170, 171, 172, 173, 174,\n",
       "       175, 176, 177, 178, 179, 180, 181, 182, 183, 184, 185, 186, 187,\n",
       "       188, 189, 190, 191, 192, 193, 194, 195, 196, 197, 198, 199, 200,\n",
       "       201, 202, 203, 204, 205, 206, 207, 208, 209, 210, 211, 212, 213,\n",
       "       214, 215, 216, 217, 218, 219, 220, 221, 222, 223, 224, 225, 226,\n",
       "       227, 228, 229, 230, 231, 232, 233, 234, 235, 236, 237, 238, 239,\n",
       "       240, 241, 242, 243, 244, 245, 246, 247, 248, 249, 250, 251, 252,\n",
       "       253, 254, 255, 256, 257, 258, 259, 260, 261, 262, 263, 264, 265,\n",
       "       266, 267, 268, 269, 270, 271, 272, 273, 274, 275, 276, 277, 278,\n",
       "       279, 280, 281, 282, 283, 284, 285, 286, 287, 288, 289, 290, 291,\n",
       "       292, 293, 294, 295, 296, 297, 298, 299, 300, 303, 304, 313, 318,\n",
       "       319, 325, 331, 336, 337, 343, 344, 345, 346, 347, 348, 349, 350,\n",
       "       351], dtype=int64)"
      ]
     },
     "execution_count": 31,
     "metadata": {},
     "output_type": "execute_result"
    }
   ],
   "source": [
    "X=df_train[feat_cols]\n",
    "y=df_train['Exited']\n",
    "##\n",
    "cat_features = np.where(X.dtypes != np.float64)[0]\n",
    "cat_features"
   ]
  },
  {
   "cell_type": "markdown",
   "metadata": {},
   "source": [
    "## Training"
   ]
  },
  {
   "cell_type": "code",
   "execution_count": 32,
   "metadata": {
    "execution": {
     "iopub.execute_input": "2024-02-03T23:56:02.204281Z",
     "iopub.status.busy": "2024-02-03T23:56:02.204011Z"
    }
   },
   "outputs": [
    {
     "name": "stdout",
     "output_type": "stream",
     "text": [
      "0:\ttest: 0.8528796\tbest: 0.8528796 (0)\ttotal: 1.59s\tremaining: 26m 29s\n",
      "300:\ttest: 0.9004386\tbest: 0.9004386 (300)\ttotal: 19m 53s\tremaining: 46m 10s\n",
      "600:\ttest: 0.9023322\tbest: 0.9023322 (600)\ttotal: 1h 33m 26s\tremaining: 1h 2m 1s\n"
     ]
    }
   ],
   "source": [
    "folds = StratifiedKFold(n_splits=num_folds,random_state=RAND_VAL,shuffle=True)\n",
    "test_preds = np.empty((num_folds, len(df_test)))\n",
    "auc_vals=[]\n",
    "\n",
    "for n_fold, (train_idx, valid_idx) in enumerate(folds.split(X, y)):\n",
    "    \n",
    "    X_train, y_train = X.iloc[train_idx], y.iloc[train_idx]\n",
    "    X_val, y_val = X.iloc[valid_idx], y.iloc[valid_idx]\n",
    "    \n",
    "    train_pool = Pool(X_train, y_train,cat_features=cat_features)\n",
    "    val_pool = Pool(X_val, y_val,cat_features=cat_features)\n",
    "    \n",
    "    clf = CatBoostClassifier(\n",
    "    eval_metric='AUC',\n",
    "    task_type='CPU',\n",
    "    learning_rate=0.02,\n",
    "    iterations=n_est)\n",
    "    clf.fit(train_pool, eval_set=val_pool,verbose=300)\n",
    "    \n",
    "    y_pred_val = clf.predict_proba(X_val[feat_cols])[:,1]\n",
    "    auc_val = roc_auc_score(y_val, y_pred_val)\n",
    "    print(\"AUC for fold \",n_fold,\": \",auc_val)\n",
    "    auc_vals.append(auc_val)\n",
    "    \n",
    "    y_pred_test = clf.predict_proba(df_test[feat_cols])[:,1]\n",
    "    test_preds[n_fold, :] = y_pred_test\n",
    "    print(\"----------------\")"
   ]
  },
  {
   "cell_type": "markdown",
   "metadata": {},
   "source": [
    "## Evaluation"
   ]
  },
  {
   "cell_type": "code",
   "execution_count": null,
   "metadata": {},
   "outputs": [],
   "source": [
    "\"Mean AUC: \",np.mean(auc_vals)"
   ]
  },
  {
   "cell_type": "markdown",
   "metadata": {},
   "source": [
    "## Feature Importance"
   ]
  },
  {
   "cell_type": "code",
   "execution_count": null,
   "metadata": {},
   "outputs": [],
   "source": [
    "import shap\n",
    "shap.initjs()\n",
    "explainer = shap.TreeExplainer(clf)\n",
    "shap_values = explainer.shap_values(train_pool)\n",
    "shap.summary_plot(shap_values, X_train, plot_type=\"bar\")"
   ]
  },
  {
   "cell_type": "markdown",
   "metadata": {},
   "source": [
    "## Prediction and Submission"
   ]
  },
  {
   "cell_type": "code",
   "execution_count": null,
   "metadata": {},
   "outputs": [],
   "source": [
    "join_cols=list(df_orig.columns.drop(['Exited']))\n",
    "df_orig.rename(columns={'Exited':'Exited_Orig'},inplace=True)\n",
    "df_orig['Exited_Orig']=df_orig['Exited_Orig'].map({0:1,1:0})\n",
    "df_test_ov=df_test_ov.merge(df_orig,on=join_cols,how='left')[['id','Exited_Orig']].fillna(-1)\n",
    "df_test_ov.head()"
   ]
  },
  {
   "cell_type": "code",
   "execution_count": null,
   "metadata": {},
   "outputs": [],
   "source": [
    "y_pred = test_preds.mean(axis=0)\n",
    "df_sub = df_test_ov[['id','Exited_Orig']]\n",
    "df_sub['Exited'] = np.where(df_sub.Exited_Orig==-1,y_pred,df_sub.Exited_Orig)\n",
    "df_sub.drop('Exited_Orig',axis=1,inplace=True)\n",
    "df_sub.head()"
   ]
  },
  {
   "cell_type": "code",
   "execution_count": null,
   "metadata": {},
   "outputs": [],
   "source": [
    "df_sub.to_csv(\"submission.csv\",index=False)"
   ]
  },
  {
   "cell_type": "code",
   "execution_count": null,
   "metadata": {},
   "outputs": [],
   "source": [
    "df_sub.hist(column='Exited', bins=20, range=[0,1],figsize=(12,6))\n",
    "plt.show()"
   ]
  }
 ],
 "metadata": {
  "kaggle": {
   "accelerator": "none",
   "dataSources": [
    {
     "databundleVersionId": 7405009,
     "sourceId": 65711,
     "sourceType": "competition"
    },
    {
     "datasetId": 3191230,
     "sourceId": 5536933,
     "sourceType": "datasetVersion"
    }
   ],
   "dockerImageVersionId": 30636,
   "isGpuEnabled": false,
   "isInternetEnabled": false,
   "language": "python",
   "sourceType": "notebook"
  },
  "kernelspec": {
   "display_name": "Python 3 (ipykernel)",
   "language": "python",
   "name": "python3"
  },
  "language_info": {
   "codemirror_mode": {
    "name": "ipython",
    "version": 3
   },
   "file_extension": ".py",
   "mimetype": "text/x-python",
   "name": "python",
   "nbconvert_exporter": "python",
   "pygments_lexer": "ipython3",
   "version": "3.12.7"
  }
 },
 "nbformat": 4,
 "nbformat_minor": 4
}
