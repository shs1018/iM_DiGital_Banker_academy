{
 "cells": [
  {
   "cell_type": "code",
   "execution_count": null,
   "metadata": {},
   "outputs": [],
   "source": [
    "import pandas as pd\n",
    "import numpy as np\n",
    "from matplotlib import pyplot as plt\n",
    "import seaborn as sns"
   ]
  },
  {
   "cell_type": "code",
   "execution_count": null,
   "metadata": {},
   "outputs": [],
   "source": [
    "import pandas as pd\n",
    "\n",
    "# 파일을 작은 청크로 읽기\n",
    "chunk_size = 1_000_000  # 한 번에 100만 행씩 읽기\n",
    "chunks = pd.read_parquet('your_file.parquet', engine='pyarrow', chunksize=chunk_size)\n",
    "\n",
    "# 청크 단위로 처리 예시\n",
    "for chunk in chunks:\n",
    "    # 각 청크를 처리하거나 필요한 작업 수행\n",
    "    print(chunk.head())  # 청크의 첫 5개 행 출력\n"
   ]
  }
 ],
 "metadata": {
  "language_info": {
   "name": "python"
  }
 },
 "nbformat": 4,
 "nbformat_minor": 2
}
