{
 "cells": [
  {
   "cell_type": "markdown",
   "metadata": {},
   "source": [
    "# [컴페티션] 머신러닝 성능 극대화\n",
    "- 대회 주제 : Binary Classification with a Bank Churn Dataset\n",
    "- 대회 링크 : https://www.kaggle.com/competitions/playground-series-s4e1\n",
    "- 평가 항목 : ROC Curve\n",
    "- 제출일 : 2024년 12월 10일 화요일 7교시\n",
    "- 평가 항목 점수 : 0.90573/0.90249\n",
    "- 수강생 성함 : 송현서"
   ]
  },
  {
   "cell_type": "code",
   "execution_count": null,
   "metadata": {
    "execution": {
     "iopub.execute_input": "2024-02-03T23:54:56.833249Z",
     "iopub.status.busy": "2024-02-03T23:54:56.832559Z",
     "iopub.status.idle": "2024-02-03T23:54:56.839245Z",
     "shell.execute_reply": "2024-02-03T23:54:56.838154Z",
     "shell.execute_reply.started": "2024-02-03T23:54:56.833215Z"
    }
   },
   "outputs": [],
   "source": [
    "import numpy as np\n",
    "import pandas as pd\n",
    "import lightgbm as lgb\n",
    "from sklearn.model_selection import train_test_split\n",
    "from sklearn.metrics import roc_auc_score\n",
    "import matplotlib.pyplot as plt\n",
    "from sklearn.model_selection import StratifiedKFold\n",
    "from sklearn.feature_extraction.text import TfidfVectorizer\n",
    "from sklearn.decomposition import TruncatedSVD\n",
    "from catboost import CatBoostClassifier, Pool\n",
    "from catboost.utils import eval_metric\n",
    "\n",
    "from sklearn.model_selection import StratifiedKFold\n",
    "from sklearn.metrics import roc_auc_score\n",
    "import matplotlib.pyplot as plt\n",
    "\n",
    "import warnings\n",
    "warnings.filterwarnings(\"ignore\")"
   ]
  },
  {
   "cell_type": "code",
   "execution_count": null,
   "metadata": {
    "execution": {
     "iopub.execute_input": "2024-02-03T23:54:56.84188Z",
     "iopub.status.busy": "2024-02-03T23:54:56.841106Z",
     "iopub.status.idle": "2024-02-03T23:54:56.851941Z",
     "shell.execute_reply": "2024-02-03T23:54:56.851052Z",
     "shell.execute_reply.started": "2024-02-03T23:54:56.841826Z"
    }
   },
   "outputs": [],
   "source": [
    "# 성능을 올리는 가장 쉽고 빠른 방법 -> 학습을 많이 시킨다.\n",
    "\n",
    "RAND_VAL=27\n",
    "num_folds=8 ## Number of folds\n",
    "n_est=8000 ## Number of estimators"
   ]
  },
  {
   "cell_type": "code",
   "execution_count": null,
   "metadata": {
    "execution": {
     "iopub.execute_input": "2024-02-03T23:54:56.853437Z",
     "iopub.status.busy": "2024-02-03T23:54:56.853117Z",
     "iopub.status.idle": "2024-02-03T23:54:57.118997Z",
     "shell.execute_reply": "2024-02-03T23:54:57.118093Z",
     "shell.execute_reply.started": "2024-02-03T23:54:56.853406Z"
    }
   },
   "outputs": [],
   "source": [
    "df_train = pd.read_csv('/kaggle/input/playground-series-s4e1/train.csv')\n",
    "df_train.head()"
   ]
  },
  {
   "cell_type": "code",
   "execution_count": null,
   "metadata": {
    "execution": {
     "iopub.execute_input": "2024-02-03T23:54:57.121238Z",
     "iopub.status.busy": "2024-02-03T23:54:57.12095Z",
     "iopub.status.idle": "2024-02-03T23:54:57.313007Z",
     "shell.execute_reply": "2024-02-03T23:54:57.311871Z",
     "shell.execute_reply.started": "2024-02-03T23:54:57.121213Z"
    }
   },
   "outputs": [],
   "source": [
    "df_test = pd.read_csv('/kaggle/input/playground-series-s4e1/test.csv')\n",
    "df_test_ov = df_test.copy()\n",
    "df_test.head()"
   ]
  },
  {
   "cell_type": "code",
   "execution_count": null,
   "metadata": {
    "execution": {
     "iopub.execute_input": "2024-02-03T23:54:57.31464Z",
     "iopub.status.busy": "2024-02-03T23:54:57.314256Z",
     "iopub.status.idle": "2024-02-03T23:54:57.353246Z",
     "shell.execute_reply": "2024-02-03T23:54:57.352206Z",
     "shell.execute_reply.started": "2024-02-03T23:54:57.314604Z"
    }
   },
   "outputs": [],
   "source": [
    "df_orig=pd.read_csv(\"/kaggle/input/bank-customer-churn-prediction/Churn_Modelling.csv\")\n",
    "df_orig=df_orig.rename(columns={'RowNumber':'id'})\n",
    "df_orig.head()"
   ]
  },
  {
   "cell_type": "code",
   "execution_count": null,
   "metadata": {
    "execution": {
     "iopub.execute_input": "2024-02-03T23:54:57.354607Z",
     "iopub.status.busy": "2024-02-03T23:54:57.354342Z",
     "iopub.status.idle": "2024-02-03T23:54:57.372208Z",
     "shell.execute_reply": "2024-02-03T23:54:57.37135Z",
     "shell.execute_reply.started": "2024-02-03T23:54:57.354583Z"
    }
   },
   "outputs": [],
   "source": [
    "scale_cols = ['Age','CreditScore', 'Balance','EstimatedSalary']\n",
    "###\n",
    "for c in scale_cols:\n",
    "    min_value = df_train[c].min()\n",
    "    max_value = df_train[c].max()\n",
    "    df_train[c+\"_scaled\"] = (df_train[c] - min_value) / (max_value - min_value)\n",
    "    df_test[c+\"_scaled\"] = (df_test[c] - min_value) / (max_value - min_value)"
   ]
  },
  {
   "cell_type": "code",
   "execution_count": null,
   "metadata": {
    "execution": {
     "iopub.execute_input": "2024-02-03T23:54:57.373476Z",
     "iopub.status.busy": "2024-02-03T23:54:57.373222Z",
     "iopub.status.idle": "2024-02-03T23:54:57.759981Z",
     "shell.execute_reply": "2024-02-03T23:54:57.758897Z",
     "shell.execute_reply.started": "2024-02-03T23:54:57.373453Z"
    }
   },
   "outputs": [],
   "source": [
    "df_all = pd.concat([df_train,df_test]).reset_index(drop=True)\n",
    "aggs = {\n",
    "    'Age': ['min','max', 'mean'],       \n",
    "    'Balance': ['min','max', 'mean','sum'],\n",
    "    'NumOfProducts': ['mean','sum'],\n",
    "    'IsActiveMember': ['min','max', 'mean','sum'],\n",
    "    'CreditScore': ['min','max', 'mean'],\n",
    "    'EstimatedSalary': ['min','max', 'mean','sum'],\n",
    "    'id': 'count',\n",
    "}\n",
    "df_grps=df_all.groupby(['CustomerId', 'Surname', 'Geography', 'Gender']).agg(aggs).reset_index()\n",
    "df_grps.columns = list(map(''.join, df_grps.columns.values))\n",
    "print(len(df_grps))\n",
    "df_grps.head()"
   ]
  },
  {
   "cell_type": "code",
   "execution_count": null,
   "metadata": {
    "execution": {
     "iopub.execute_input": "2024-02-03T23:54:57.76158Z",
     "iopub.status.busy": "2024-02-03T23:54:57.76123Z",
     "iopub.status.idle": "2024-02-03T23:54:58.086777Z",
     "shell.execute_reply": "2024-02-03T23:54:58.085907Z",
     "shell.execute_reply.started": "2024-02-03T23:54:57.761555Z"
    }
   },
   "outputs": [],
   "source": [
    "aggs = {   \n",
    "    'Balance': ['min','max', 'mean','sum'],\n",
    "    'NumOfProducts': ['mean','sum'],\n",
    "    'IsActiveMember': ['min','max', 'mean','sum'],\n",
    "    'CreditScore': ['min','max', 'mean'],\n",
    "    'EstimatedSalary': ['min','max', 'mean','sum'],\n",
    "    'id': 'count',\n",
    "}\n",
    "df_grps1=df_all.groupby(['CustomerId', 'Surname', 'Age', 'Gender']).agg(aggs).reset_index()\n",
    "df_grps1.columns = list(map('grps1'.join, df_grps1.columns.values))\n",
    "print(len(df_grps1))\n",
    "df_grps1=df_grps1.rename(columns={'CustomerIdgrps1':'CustomerId','Surnamegrps1':'Surname',\n",
    "                                 'Agegrps1':'Age','Gendergrps1':'Gender'})\n",
    "df_grps1.head()"
   ]
  },
  {
   "cell_type": "code",
   "execution_count": null,
   "metadata": {
    "execution": {
     "iopub.execute_input": "2024-02-03T23:54:58.407738Z",
     "iopub.status.busy": "2024-02-03T23:54:58.407455Z",
     "iopub.status.idle": "2024-02-03T23:54:59.401353Z",
     "shell.execute_reply": "2024-02-03T23:54:59.400458Z",
     "shell.execute_reply.started": "2024-02-03T23:54:58.407713Z"
    }
   },
   "outputs": [],
   "source": [
    "exitGrpBy=['CustomerId', 'Surname',  'Gender','Geography','EstimatedSalary']\n",
    "\n",
    "exitSrtBy=['CustomerId', 'Surname',  'Gender','Geography',\n",
    "       'Age', 'Tenure']\n",
    "##\n",
    "df_all_Exits=df_all.copy()\n",
    "df_all_Exits['Exited']=df_all_Exits['Exited'].fillna(-1)\n",
    "df_all_Exits=df_all_Exits.sort_values(exitSrtBy)\n",
    "df_all_Exits['Exit_lag1']=df_all_Exits.groupby(exitGrpBy)['Exited'].shift(1)\n",
    "df_all_Exits['Exit_lag2']=df_all_Exits.groupby(exitGrpBy)['Exited'].shift(2)\n",
    "df_all_Exits['Exit_lag3']=df_all_Exits.groupby(exitGrpBy)['Exited'].shift(3)\n",
    "\n",
    "df_all_Exits['Exit_lead1']=df_all_Exits.groupby(exitGrpBy)['Exited'].shift(-1)\n",
    "df_all_Exits['Exit_lead2']=df_all_Exits.groupby(exitGrpBy)['Exited'].shift(-2)\n",
    "df_all_Exits['Exit_lead3']=df_all_Exits.groupby(exitGrpBy)['Exited'].shift(-3)\n",
    "\n",
    "df_all_Exits['Balance_lag_diff1']=df_all_Exits['Balance'].shift(1)\n",
    "df_all_Exits['Balance_lead_diff1']=df_all_Exits['Balance'].shift(-1)\n",
    "\n",
    "df_all_Exits=df_all_Exits[['id','Exit_lag1','Exit_lag2','Exit_lag3',\n",
    "                         'Exit_lead1','Exit_lead2','Exit_lead3',\n",
    "                          'Balance_lag_diff1','Balance_lead_diff1']]\n",
    "df_all_Exits=df_all_Exits.fillna(-1).astype('int')\n",
    "df_all_Exits"
   ]
  },
  {
   "cell_type": "code",
   "execution_count": null,
   "metadata": {
    "execution": {
     "iopub.execute_input": "2024-02-03T23:54:59.403089Z",
     "iopub.status.busy": "2024-02-03T23:54:59.402711Z",
     "iopub.status.idle": "2024-02-03T23:54:59.411767Z",
     "shell.execute_reply": "2024-02-03T23:54:59.410881Z",
     "shell.execute_reply.started": "2024-02-03T23:54:59.403055Z"
    }
   },
   "outputs": [],
   "source": [
    "def getGrpsIndv(df_orig,df_train,df_test,grpCols,nm):\n",
    "    grpBy=[]\n",
    "    for c in grpCols:\n",
    "        for i in grpCols:\n",
    "            if c!=i:\n",
    "                grpBy=[c,i]\n",
    "                grpBy=[c,i]\n",
    "                df_tmp=df_orig.groupby(grpBy).agg({'id':'count','Exited':{'mean'}}).reset_index()\n",
    "                df_tmp.columns=list(map(''.join, (list(df_tmp.columns.values))))\n",
    "                sepCols=df_tmp.columns.drop(grpBy)+nm+'_ind_'+c+'-'+i\n",
    "                df_tmp.columns=list(grpBy)+list(sepCols)\n",
    "                #\n",
    "                df_train=df_train.merge(df_tmp,how='left')\n",
    "                df_test=df_test.merge(df_tmp,how='left')\n",
    "                \n",
    "                df_train[sepCols]=df_train[sepCols].fillna(0)\n",
    "                df_test[sepCols]=df_test[sepCols].fillna(0)\n",
    "\n",
    "                df_train[sepCols]=df_train[sepCols].astype('int')\n",
    "                df_test[sepCols]=df_test[sepCols].astype('int')\n",
    "    return df_train,df_test"
   ]
  },
  {
   "cell_type": "code",
   "execution_count": null,
   "metadata": {
    "execution": {
     "iopub.execute_input": "2024-02-03T23:54:59.413595Z",
     "iopub.status.busy": "2024-02-03T23:54:59.412995Z",
     "iopub.status.idle": "2024-02-03T23:54:59.425653Z",
     "shell.execute_reply": "2024-02-03T23:54:59.424751Z",
     "shell.execute_reply.started": "2024-02-03T23:54:59.413562Z"
    }
   },
   "outputs": [],
   "source": [
    "def getGrps(df_orig,df_train,df_test,grpCols,nm):\n",
    "    grpBy=[]\n",
    "    for c in grpCols:\n",
    "        grpBy.append(c)\n",
    "        df_tmp=df_orig.groupby(grpBy).agg({'id':'count','Exited':{'sum'}}).reset_index()\n",
    "        df_tmp.columns=list(map(''.join, (list(df_tmp.columns.values))))\n",
    "        sepCols=df_tmp.columns.drop(grpBy)+nm+'_grps_'+c\n",
    "        df_tmp.columns=list(grpBy)+list(sepCols)\n",
    "                #\n",
    "        df_train=df_train.merge(df_tmp,how='left')\n",
    "        df_test=df_test.merge(df_tmp,how='left')\n",
    "        \n",
    "        df_train[sepCols]=df_train[sepCols].fillna(0)\n",
    "        df_test[sepCols]=df_test[sepCols].fillna(0)\n",
    "        \n",
    "        df_train[sepCols]=df_train[sepCols].astype('int')\n",
    "        df_test[sepCols]=df_test[sepCols].astype('int')\n",
    "    return df_train,df_test"
   ]
  },
  {
   "cell_type": "code",
   "execution_count": null,
   "metadata": {
    "execution": {
     "iopub.execute_input": "2024-02-03T23:54:59.42706Z",
     "iopub.status.busy": "2024-02-03T23:54:59.426748Z",
     "iopub.status.idle": "2024-02-03T23:55:58.428784Z",
     "shell.execute_reply": "2024-02-03T23:55:58.427778Z",
     "shell.execute_reply.started": "2024-02-03T23:54:59.427034Z"
    }
   },
   "outputs": [],
   "source": [
    "grpCols=['CustomerId', 'Surname', 'Geography', 'Gender', 'Age', 'Tenure', 'CreditScore', \n",
    "         'NumOfProducts','HasCrCard', \n",
    "         'IsActiveMember' ,'EstimatedSalary','Balance']\n",
    "df_train,df_test=getGrps(df_orig,df_train,df_test,grpCols,'Orig_groups')\n",
    "df_train,df_test=getGrpsIndv(df_orig,df_train,df_test,grpCols,'Orig_ind')"
   ]
  },
  {
   "cell_type": "code",
   "execution_count": null,
   "metadata": {
    "execution": {
     "iopub.execute_input": "2024-02-03T23:55:58.431007Z",
     "iopub.status.busy": "2024-02-03T23:55:58.430167Z",
     "iopub.status.idle": "2024-02-03T23:55:58.43704Z",
     "shell.execute_reply": "2024-02-03T23:55:58.436032Z",
     "shell.execute_reply.started": "2024-02-03T23:55:58.43097Z"
    }
   },
   "outputs": [],
   "source": [
    "df_train.shape"
   ]
  },
  {
   "cell_type": "code",
   "execution_count": null,
   "metadata": {
    "execution": {
     "iopub.execute_input": "2024-02-03T23:55:58.438336Z",
     "iopub.status.busy": "2024-02-03T23:55:58.438089Z",
     "iopub.status.idle": "2024-02-03T23:55:58.468085Z",
     "shell.execute_reply": "2024-02-03T23:55:58.467224Z",
     "shell.execute_reply.started": "2024-02-03T23:55:58.438313Z"
    }
   },
   "outputs": [],
   "source": [
    "df_train.head()"
   ]
  },
  {
   "cell_type": "markdown",
   "metadata": {},
   "source": [
    "## Feature Engineering"
   ]
  },
  {
   "cell_type": "code",
   "execution_count": null,
   "metadata": {
    "execution": {
     "iopub.execute_input": "2024-02-03T23:55:58.469769Z",
     "iopub.status.busy": "2024-02-03T23:55:58.469418Z",
     "iopub.status.idle": "2024-02-03T23:55:58.478216Z",
     "shell.execute_reply": "2024-02-03T23:55:58.477376Z",
     "shell.execute_reply.started": "2024-02-03T23:55:58.469741Z"
    }
   },
   "outputs": [],
   "source": [
    "def getFeats(df):\n",
    "    \n",
    "    df['IsSenior'] = df['Age'].apply(lambda x: 1 if x >= 60 else 0)\n",
    "    df['IsActive_by_CreditCard'] = df['HasCrCard'] * df['IsActiveMember']\n",
    "    df['Products_Per_Tenure'] =  df['Tenure'] / df['NumOfProducts']\n",
    "    df['AgeCat'] = np.round(df.Age/20).astype('int').astype('category')\n",
    "    df['Sur_Geo_Gend_Sal'] = df['Surname']+df['Geography']+df['Gender']+np.round(df.EstimatedSalary).astype('str')\n",
    "    \n",
    "    df = df.merge(df_grps,how='left',on=['CustomerId', 'Surname', 'Geography', 'Gender'])\n",
    "    df = df.merge(df_grps1,how='left',on=['CustomerId', 'Surname', 'Age', 'Gender'])\n",
    "    df = df.merge(df_all_Exits,how='left')\n",
    "    return df"
   ]
  },
  {
   "cell_type": "code",
   "execution_count": null,
   "metadata": {
    "execution": {
     "iopub.execute_input": "2024-02-03T23:55:58.47979Z",
     "iopub.status.busy": "2024-02-03T23:55:58.479492Z",
     "iopub.status.idle": "2024-02-03T23:56:02.054468Z",
     "shell.execute_reply": "2024-02-03T23:56:02.053597Z",
     "shell.execute_reply.started": "2024-02-03T23:55:58.479766Z"
    }
   },
   "outputs": [],
   "source": [
    "df_train = getFeats(df_train)\n",
    "df_test = getFeats(df_test)\n",
    "##\n",
    "feat_cols=df_train.columns.drop(['id','Exited'])\n",
    "feat_cols=feat_cols.drop(scale_cols)\n",
    "print(\"Number of Features:\",len(feat_cols))\n",
    "print(feat_cols)\n",
    "df_train.head()"
   ]
  },
  {
   "cell_type": "code",
   "execution_count": null,
   "metadata": {
    "execution": {
     "iopub.execute_input": "2024-02-03T23:56:02.055899Z",
     "iopub.status.busy": "2024-02-03T23:56:02.055579Z",
     "iopub.status.idle": "2024-02-03T23:56:02.202917Z",
     "shell.execute_reply": "2024-02-03T23:56:02.201948Z",
     "shell.execute_reply.started": "2024-02-03T23:56:02.055871Z"
    }
   },
   "outputs": [],
   "source": [
    "X=df_train[feat_cols]\n",
    "y=df_train['Exited']\n",
    "##\n",
    "cat_features = np.where(X.dtypes != np.float64)[0]\n",
    "cat_features"
   ]
  },
  {
   "cell_type": "markdown",
   "metadata": {},
   "source": [
    "## Training"
   ]
  },
  {
   "cell_type": "code",
   "execution_count": null,
   "metadata": {
    "execution": {
     "iopub.execute_input": "2024-02-03T23:56:02.204281Z",
     "iopub.status.busy": "2024-02-03T23:56:02.204011Z"
    }
   },
   "outputs": [],
   "source": [
    "'''\n",
    "folds = StratifiedKFold(n_splits=num_folds,random_state=RAND_VAL,shuffle=True)\n",
    "test_preds = np.empty((num_folds, len(df_test)))\n",
    "auc_vals=[]\n",
    "\n",
    "for n_fold, (train_idx, valid_idx) in enumerate(folds.split(X, y)):\n",
    "    \n",
    "    X_train, y_train = X.iloc[train_idx], y.iloc[train_idx]\n",
    "    X_val, y_val = X.iloc[valid_idx], y.iloc[valid_idx]\n",
    "    \n",
    "    train_pool = Pool(X_train, y_train,cat_features=cat_features)\n",
    "    val_pool = Pool(X_val, y_val,cat_features=cat_features)\n",
    "    \n",
    "    clf = CatBoostClassifier(\n",
    "    eval_metric='AUC',\n",
    "    task_type='GPU',\n",
    "    learning_rate=0.02,\n",
    "    iterations=n_est)\n",
    "    clf.fit(train_pool, eval_set=val_pool,verbose=300)\n",
    "    \n",
    "    y_pred_val = clf.predict_proba(X_val[feat_cols])[:,1]\n",
    "    auc_val = roc_auc_score(y_val, y_pred_val)\n",
    "    print(\"AUC for fold \",n_fold,\": \",auc_val)\n",
    "    auc_vals.append(auc_val)\n",
    "    \n",
    "    y_pred_test = clf.predict_proba(df_test[feat_cols])[:,1]\n",
    "    test_preds[n_fold, :] = y_pred_test\n",
    "    print(\"----------------\")\n",
    "    '''"
   ]
  },
  {
   "cell_type": "code",
   "execution_count": null,
   "metadata": {},
   "outputs": [],
   "source": [
    "from skopt import BayesSearchCV\n",
    "\n",
    "param_space = {\n",
    "    'learning_rate': (0.005, 0.1, 'log-uniform'),  # 범위\n",
    "    'depth': (4, 12),                             # 트리 깊이 범위 확장\n",
    "    'l2_leaf_reg': (1, 15),                       # 정규화 범위 확장\n",
    "    'bagging_temperature': (0, 1.0),              # 샘플링 온도 추가\n",
    "    'border_count': (32, 255),                    # 분할 기준 개수 추가\n",
    "    'iterations': (500, 3000)                     # Iterations 범위 조정\n",
    "}\n",
    "\n",
    "folds = StratifiedKFold(n_splits=num_folds, random_state=42, shuffle=True)  # fold 수 7로 고정\n",
    "test_preds = np.empty((folds.n_splits, len(df_test)))\n",
    "auc_vals = []\n",
    "\n",
    "for n_fold, (train_idx, valid_idx) in enumerate(folds.split(X, y)):\n",
    "    X_train, y_train = X.iloc[train_idx], y.iloc[train_idx]\n",
    "    X_val, y_val = X.iloc[valid_idx], y.iloc[valid_idx]\n",
    "\n",
    "    train_pool = Pool(X_train, y_train, cat_features=cat_features)\n",
    "    val_pool = Pool(X_val, y_val, cat_features=cat_features)\n",
    "\n",
    "    clf = CatBoostClassifier(task_type='GPU', eval_metric='AUC', verbose=0)  # 기본 모델\n",
    "\n",
    "    # Bayesian Optimization\n",
    "    bayes_search = BayesSearchCV(\n",
    "        estimator=clf,\n",
    "        search_spaces=param_space,\n",
    "        scoring='roc_auc',\n",
    "        cv=3,\n",
    "        n_iter=30,  # 탐색 횟수\n",
    "        verbose=2,\n",
    "        random_state=42\n",
    "    )\n",
    "    # 하이퍼파라미터 최적화 수행\n",
    "    bayes_search.fit(X_train, y_train, cat_features=cat_features)\n",
    "\n",
    "    # 최적 파라미터와 성능 출력\n",
    "    best_params = bayes_search.best_params_\n",
    "    print(f\"Fold {n_fold + 1} - Best Parameters: {best_params}\")\n",
    "\n",
    "    # 최적 파라미터로 학습\n",
    "    clf = CatBoostClassifier(\n",
    "        **best_params, task_type='GPU', eval_metric='AUC', verbose=300\n",
    "    )\n",
    "    clf.fit(train_pool, eval_set=val_pool)\n",
    "\n",
    "    # 성능 평가\n",
    "    y_pred_val = clf.predict_proba(X_val[feat_cols])[:, 1]\n",
    "    auc_val = roc_auc_score(y_val, y_pred_val)\n",
    "    print(f\"AUC for fold {n_fold + 1}: {auc_val}\")\n",
    "    auc_vals.append(auc_val)\n",
    "\n",
    "    # 테스트 데이터 예측\n",
    "    y_pred_test = clf.predict_proba(df_test[feat_cols])[:, 1]\n",
    "    test_preds[n_fold, :] = y_pred_test\n",
    "\n",
    "    # 현재까지 진행 상황 표시\n",
    "    print(f\"Completed fold {n_fold + 1}/{folds.n_splits}\")\n",
    "    print(\"----------------\")\n",
    "\n",
    "# 전체 결과 출력\n",
    "print(f\"Mean AUC across folds: {np.mean(auc_vals):.4f}\")"
   ]
  },
  {
   "cell_type": "markdown",
   "metadata": {},
   "source": [
    "## Evaluation"
   ]
  },
  {
   "cell_type": "code",
   "execution_count": null,
   "metadata": {},
   "outputs": [],
   "source": [
    "\"Mean AUC: \",np.mean(auc_vals)"
   ]
  },
  {
   "cell_type": "markdown",
   "metadata": {},
   "source": [
    "## Feature Importance"
   ]
  },
  {
   "cell_type": "code",
   "execution_count": null,
   "metadata": {},
   "outputs": [],
   "source": [
    "import shap\n",
    "shap.initjs()\n",
    "explainer = shap.TreeExplainer(clf)\n",
    "shap_values = explainer.shap_values(train_pool)\n",
    "shap.summary_plot(shap_values, X_train, plot_type=\"bar\")"
   ]
  },
  {
   "cell_type": "markdown",
   "metadata": {},
   "source": [
    "## Prediction and Submission"
   ]
  },
  {
   "cell_type": "code",
   "execution_count": null,
   "metadata": {},
   "outputs": [],
   "source": [
    "join_cols=list(df_orig.columns.drop(['Exited']))\n",
    "df_orig.rename(columns={'Exited':'Exited_Orig'},inplace=True)\n",
    "df_orig['Exited_Orig']=df_orig['Exited_Orig'].map({0:1,1:0})\n",
    "df_test_ov=df_test_ov.merge(df_orig,on=join_cols,how='left')[['id','Exited_Orig']].fillna(-1)\n",
    "df_test_ov.head()"
   ]
  },
  {
   "cell_type": "code",
   "execution_count": null,
   "metadata": {},
   "outputs": [],
   "source": [
    "y_pred = test_preds.mean(axis=0)\n",
    "df_sub = df_test_ov[['id','Exited_Orig']]\n",
    "df_sub['Exited'] = np.where(df_sub.Exited_Orig==-1,y_pred,df_sub.Exited_Orig)\n",
    "df_sub.drop('Exited_Orig',axis=1,inplace=True)\n",
    "df_sub.head()"
   ]
  },
  {
   "cell_type": "code",
   "execution_count": null,
   "metadata": {},
   "outputs": [],
   "source": [
    "df_sub.to_csv(\"submission.csv\",index=False)"
   ]
  },
  {
   "cell_type": "code",
   "execution_count": null,
   "metadata": {},
   "outputs": [],
   "source": [
    "df_sub.hist(column='Exited', bins=20, range=[0,1],figsize=(12,6))\n",
    "plt.show()"
   ]
  }
 ],
 "metadata": {
  "kaggle": {
   "accelerator": "nvidiaTeslaT4",
   "dataSources": [
    {
     "databundleVersionId": 7405009,
     "sourceId": 65711,
     "sourceType": "competition"
    },
    {
     "datasetId": 3191230,
     "sourceId": 5536933,
     "sourceType": "datasetVersion"
    }
   ],
   "dockerImageVersionId": 30636,
   "isGpuEnabled": true,
   "isInternetEnabled": false,
   "language": "python",
   "sourceType": "notebook"
  },
  "kernelspec": {
   "display_name": "Python 3 (ipykernel)",
   "language": "python",
   "name": "python3"
  },
  "language_info": {
   "codemirror_mode": {
    "name": "ipython",
    "version": 3
   },
   "file_extension": ".py",
   "mimetype": "text/x-python",
   "name": "python",
   "nbconvert_exporter": "python",
   "pygments_lexer": "ipython3",
   "version": "3.12.7"
  }
 },
 "nbformat": 4,
 "nbformat_minor": 4
}
