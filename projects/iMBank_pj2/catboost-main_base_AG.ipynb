{
 "cells": [
  {
   "cell_type": "markdown",
   "metadata": {},
   "source": [
    "# [컴페티션] 머신러닝 성능 극대화\n",
    "- 대회 주제 : Binary Classification with a Bank Churn Dataset\n",
    "- 대회 링크 : https://www.kaggle.com/competitions/playground-series-s4e1\n",
    "- 평가 항목 : ROC Curve\n",
    "- 제출일 : 2024년 12월 10일 화요일 7교시\n",
    "- 평가 항목 점수 : 0.90556/0.90171\n",
    "- 수강생 성함 : 송현서"
   ]
  },
  {
   "cell_type": "code",
   "execution_count": null,
   "metadata": {},
   "outputs": [],
   "source": [
    "import numpy as np\n",
    "import pandas as pd\n",
    "import lightgbm as lgb\n",
    "from sklearn.model_selection import train_test_split\n",
    "from sklearn.metrics import roc_auc_score\n",
    "import matplotlib.pyplot as plt\n",
    "from sklearn.model_selection import StratifiedKFold\n",
    "from sklearn.feature_extraction.text import TfidfVectorizer\n",
    "from sklearn.decomposition import TruncatedSVD\n",
    "from catboost import CatBoostClassifier, Pool\n",
    "from catboost.utils import eval_metric\n",
    "\n",
    "from sklearn.model_selection import StratifiedKFold\n",
    "from sklearn.metrics import roc_auc_score\n",
    "import matplotlib.pyplot as plt\n",
    "\n",
    "import warnings\n",
    "warnings.filterwarnings(\"ignore\")"
   ]
  },
  {
   "cell_type": "code",
   "execution_count": null,
   "metadata": {},
   "outputs": [],
   "source": [
    "RAND_VAL=27\n",
    "num_folds=1 ## Number of folds\n",
    "n_est=1000 ## Number of estimators"
   ]
  },
  {
   "cell_type": "code",
   "execution_count": null,
   "metadata": {},
   "outputs": [],
   "source": [
    "df_train = pd.read_csv('data/train.csv')\n",
    "df_train.head()"
   ]
  },
  {
   "cell_type": "code",
   "execution_count": null,
   "metadata": {},
   "outputs": [],
   "source": [
    "df_test = pd.read_csv('data/test.csv')\n",
    "df_test_ov = df_test.copy()\n",
    "df_test.head()"
   ]
  },
  {
   "cell_type": "code",
   "execution_count": null,
   "metadata": {},
   "outputs": [],
   "source": [
    "df_orig=pd.read_csv(\"data/Churn_Modelling.csv\")\n",
    "df_orig=df_orig.rename(columns={'RowNumber':'id'})\n",
    "df_orig.head()"
   ]
  },
  {
   "cell_type": "markdown",
   "metadata": {},
   "source": [
    "# Preprocessing"
   ]
  },
  {
   "cell_type": "code",
   "execution_count": null,
   "metadata": {},
   "outputs": [],
   "source": [
    "# 진짜 의미가 있는 숫자형 데이터만 MinMaxScaler를 사용함.\n",
    "# MinMaxScaler와 같은 작동방식으로 사용한다.\n",
    "\n",
    "scale_cols = ['Age','CreditScore', 'Balance','EstimatedSalary']\n",
    "\n",
    "for c in scale_cols:\n",
    "    min_value = df_train[c].min()\n",
    "    max_value = df_train[c].max()\n",
    "    df_train[c+\"_scaled\"] = (df_train[c] - min_value) / (max_value - min_value)\n",
    "    df_test[c+\"_scaled\"] = (df_test[c] - min_value) / (max_value - min_value)"
   ]
  },
  {
   "cell_type": "code",
   "execution_count": null,
   "metadata": {},
   "outputs": [],
   "source": [
    "df_train.head(2)"
   ]
  },
  {
   "cell_type": "code",
   "execution_count": null,
   "metadata": {},
   "outputs": [],
   "source": [
    "# train과 test를 합친 다음 인덱스 제거\n",
    "# 이후 주요 통계 지표 확인\n",
    "\n",
    "df_all = pd.concat([df_train,df_test]).reset_index(drop=True)\n",
    "aggs = {\n",
    "    'Age': ['min','max', 'mean'],       \n",
    "    'Balance': ['min','max', 'mean','sum'],\n",
    "    'NumOfProducts': ['mean','sum'],\n",
    "    'IsActiveMember': ['min','max', 'mean','sum'],\n",
    "    'CreditScore': ['min','max', 'mean'],\n",
    "    'EstimatedSalary': ['min','max', 'mean','sum'],\n",
    "    'id': 'count',\n",
    "}\n",
    "df_grps=df_all.groupby(['CustomerId', 'Surname', 'Geography', 'Gender']).agg(aggs).reset_index()\n",
    "df_grps.columns = list(map(''.join, df_grps.columns.values))\n",
    "print(len(df_grps))\n",
    "df_grps.head()"
   ]
  },
  {
   "cell_type": "code",
   "execution_count": null,
   "metadata": {},
   "outputs": [],
   "source": [
    "aggs = {   \n",
    "    'Balance': ['min','max', 'mean','sum'],\n",
    "    'NumOfProducts': ['mean','sum'],\n",
    "    'IsActiveMember': ['min','max', 'mean','sum'],\n",
    "    'CreditScore': ['min','max', 'mean'],\n",
    "    'EstimatedSalary': ['min','max', 'mean','sum'],\n",
    "    'id': 'count',\n",
    "}\n",
    "df_grps1=df_all.groupby(['CustomerId', 'Surname', 'Age', 'Gender']).agg(aggs).reset_index()\n",
    "df_grps1.columns = list(map('grps1'.join, df_grps1.columns.values))\n",
    "print(len(df_grps1))\n",
    "df_grps1=df_grps1.rename(columns={'CustomerIdgrps1':'CustomerId','Surnamegrps1':'Surname',\n",
    "                                 'Agegrps1':'Age','Gendergrps1':'Gender'})\n",
    "df_grps1.head()"
   ]
  },
  {
   "cell_type": "code",
   "execution_count": null,
   "metadata": {},
   "outputs": [],
   "source": [
    "exitGrpBy=['CustomerId', 'Surname',  'Gender','Geography','EstimatedSalary']\n",
    "\n",
    "exitSrtBy=['CustomerId', 'Surname',  'Gender','Geography',\n",
    "       'Age', 'Tenure']\n",
    "##\n",
    "df_all_Exits=df_all.copy()\n",
    "df_all_Exits['Exited']=df_all_Exits['Exited'].fillna(-1)\n",
    "df_all_Exits=df_all_Exits.sort_values(exitSrtBy)\n",
    "df_all_Exits['Exit_lag1']=df_all_Exits.groupby(exitGrpBy)['Exited'].shift(1)\n",
    "df_all_Exits['Exit_lag2']=df_all_Exits.groupby(exitGrpBy)['Exited'].shift(2)\n",
    "df_all_Exits['Exit_lag3']=df_all_Exits.groupby(exitGrpBy)['Exited'].shift(3)\n",
    "\n",
    "df_all_Exits['Exit_lead1']=df_all_Exits.groupby(exitGrpBy)['Exited'].shift(-1)\n",
    "df_all_Exits['Exit_lead2']=df_all_Exits.groupby(exitGrpBy)['Exited'].shift(-2)\n",
    "df_all_Exits['Exit_lead3']=df_all_Exits.groupby(exitGrpBy)['Exited'].shift(-3)\n",
    "\n",
    "df_all_Exits['Balance_lag_diff1']=df_all_Exits['Balance'].shift(1)\n",
    "df_all_Exits['Balance_lead_diff1']=df_all_Exits['Balance'].shift(-1)\n",
    "\n",
    "df_all_Exits=df_all_Exits[['id','Exit_lag1','Exit_lag2','Exit_lag3',\n",
    "                         'Exit_lead1','Exit_lead2','Exit_lead3',\n",
    "                          'Balance_lag_diff1','Balance_lead_diff1']]\n",
    "df_all_Exits=df_all_Exits.fillna(-1).astype('int')\n",
    "df_all_Exits"
   ]
  },
  {
   "cell_type": "code",
   "execution_count": null,
   "metadata": {},
   "outputs": [],
   "source": [
    "def getGrpsIndv(df_orig,df_train,df_test,grpCols,nm):\n",
    "    grpBy=[]\n",
    "    for c in grpCols:\n",
    "        for i in grpCols:\n",
    "            if c!=i:\n",
    "                grpBy=[c,i]\n",
    "                grpBy=[c,i]\n",
    "                df_tmp=df_orig.groupby(grpBy).agg({'id':'count','Exited':{'mean'}}).reset_index()\n",
    "                df_tmp.columns=list(map(''.join, (list(df_tmp.columns.values))))\n",
    "                sepCols=df_tmp.columns.drop(grpBy)+nm+'_ind_'+c+'-'+i\n",
    "                df_tmp.columns=list(grpBy)+list(sepCols)\n",
    "                #\n",
    "                df_train=df_train.merge(df_tmp,how='left')\n",
    "                df_test=df_test.merge(df_tmp,how='left')\n",
    "                \n",
    "                df_train[sepCols]=df_train[sepCols].fillna(0)\n",
    "                df_test[sepCols]=df_test[sepCols].fillna(0)\n",
    "\n",
    "                df_train[sepCols]=df_train[sepCols].astype('int')\n",
    "                df_test[sepCols]=df_test[sepCols].astype('int')\n",
    "    return df_train,df_test"
   ]
  },
  {
   "cell_type": "code",
   "execution_count": null,
   "metadata": {},
   "outputs": [],
   "source": [
    "def getGrps(df_orig,df_train,df_test,grpCols,nm):\n",
    "    grpBy=[]\n",
    "    for c in grpCols:\n",
    "        grpBy.append(c)\n",
    "        df_tmp=df_orig.groupby(grpBy).agg({'id':'count','Exited':{'sum'}}).reset_index()\n",
    "        df_tmp.columns=list(map(''.join, (list(df_tmp.columns.values))))\n",
    "        sepCols=df_tmp.columns.drop(grpBy)+nm+'_grps_'+c\n",
    "        df_tmp.columns=list(grpBy)+list(sepCols)\n",
    "                #\n",
    "        df_train=df_train.merge(df_tmp,how='left')\n",
    "        df_test=df_test.merge(df_tmp,how='left')\n",
    "        \n",
    "        df_train[sepCols]=df_train[sepCols].fillna(0)\n",
    "        df_test[sepCols]=df_test[sepCols].fillna(0)\n",
    "        \n",
    "        df_train[sepCols]=df_train[sepCols].astype('int')\n",
    "        df_test[sepCols]=df_test[sepCols].astype('int')\n",
    "    return df_train,df_test"
   ]
  },
  {
   "cell_type": "code",
   "execution_count": null,
   "metadata": {},
   "outputs": [],
   "source": [
    "grpCols=['CustomerId', 'Surname', 'Geography', 'Gender', 'Age', 'Tenure', 'CreditScore', \n",
    "         'NumOfProducts','HasCrCard', \n",
    "         'IsActiveMember' ,'EstimatedSalary','Balance']\n",
    "df_train,df_test=getGrps(df_orig,df_train,df_test,grpCols,'Orig_groups')\n",
    "df_train,df_test=getGrpsIndv(df_orig,df_train,df_test,grpCols,'Orig_ind')"
   ]
  },
  {
   "cell_type": "code",
   "execution_count": null,
   "metadata": {},
   "outputs": [],
   "source": [
    "df_train.shape"
   ]
  },
  {
   "cell_type": "code",
   "execution_count": null,
   "metadata": {},
   "outputs": [],
   "source": [
    "df_train.head()"
   ]
  },
  {
   "cell_type": "markdown",
   "metadata": {},
   "source": [
    "## Feature Engineering\n",
    "- 기존 변수들을 활용한 신구 파생변수 생성\n",
    "    - 장년층 여부, 나이 카테고리화, 신용카드와 활성사용자 여부 등"
   ]
  },
  {
   "cell_type": "code",
   "execution_count": null,
   "metadata": {},
   "outputs": [],
   "source": [
    "def getFeats(df):\n",
    "    \n",
    "    df['IsSenior'] = df['Age'].apply(lambda x: 1 if x >= 60 else 0)\n",
    "    df['IsActive_by_CreditCard'] = df['HasCrCard'] * df['IsActiveMember']\n",
    "    df['Products_Per_Tenure'] =  df['Tenure'] / df['NumOfProducts']\n",
    "    df['AgeCat'] = np.round(df.Age/20).astype('int').astype('category')\n",
    "    df['Sur_Geo_Gend_Sal'] = df['Surname']+df['Geography']+df['Gender']+np.round(df.EstimatedSalary).astype('str')\n",
    "    \n",
    "    df = df.merge(df_grps,how='left',on=['CustomerId', 'Surname', 'Geography', 'Gender'])\n",
    "    df = df.merge(df_grps1,how='left',on=['CustomerId', 'Surname', 'Age', 'Gender'])\n",
    "    df = df.merge(df_all_Exits,how='left')\n",
    "    return df"
   ]
  },
  {
   "cell_type": "code",
   "execution_count": null,
   "metadata": {},
   "outputs": [],
   "source": [
    "df_train = getFeats(df_train)\n",
    "df_test = getFeats(df_test)\n",
    "##\n",
    "feat_cols=df_train.columns.drop(['id','Exited'])\n",
    "feat_cols=feat_cols.drop(scale_cols) #아예 기존 연속형 데이터는 전부 제거 -> 이미 전처리를 통해 모두 스케일링 / 범주화 / 통계화 시킴.\n",
    "print(\"Number of Features:\",len(feat_cols))\n",
    "print(feat_cols)\n",
    "df_train.head()"
   ]
  },
  {
   "cell_type": "code",
   "execution_count": null,
   "metadata": {},
   "outputs": [],
   "source": [
    "X=df_train[feat_cols]\n",
    "y=df_train['Exited']\n",
    "##\n",
    "cat_features = np.where(X.dtypes != np.float64)[0]\n",
    "cat_features"
   ]
  },
  {
   "cell_type": "code",
   "execution_count": null,
   "metadata": {},
   "outputs": [],
   "source": [
    "X.head(3)"
   ]
  },
  {
   "cell_type": "code",
   "execution_count": null,
   "metadata": {},
   "outputs": [],
   "source": [
    "df_train['Exited']"
   ]
  },
  {
   "cell_type": "markdown",
   "metadata": {},
   "source": [
    "# AutoGluon Test"
   ]
  },
  {
   "cell_type": "code",
   "execution_count": null,
   "metadata": {},
   "outputs": [],
   "source": [
    "from autogluon.tabular import TabularDataset, TabularPredictor"
   ]
  },
  {
   "cell_type": "code",
   "execution_count": null,
   "metadata": {},
   "outputs": [],
   "source": [
    "df_train_AG = df_train.copy()\n",
    "df_train_AG.pop('id')\n",
    "df_train_AG.head(3)"
   ]
  },
  {
   "cell_type": "code",
   "execution_count": null,
   "metadata": {},
   "outputs": [],
   "source": [
    "df_test_AG = df_test.copy()\n",
    "df_test_AG.pop('id')\n",
    "df_test_AG.head(3)"
   ]
  },
  {
   "cell_type": "code",
   "execution_count": null,
   "metadata": {},
   "outputs": [],
   "source": [
    "automl = TabularPredictor(\n",
    "    label='Exited',\n",
    "    problem_type='binary',\n",
    "    eval_metric='roc_auc')"
   ]
  },
  {
   "cell_type": "code",
   "execution_count": null,
   "metadata": {},
   "outputs": [],
   "source": [
    "automl.fit(df_train_AG, presets='best_quality')\n",
    "automl.leaderboard()"
   ]
  },
  {
   "cell_type": "code",
   "execution_count": null,
   "metadata": {},
   "outputs": [],
   "source": [
    "predictions = automl.predict_proba(df_test)\n",
    "predictions0 = predictions[1]"
   ]
  },
  {
   "cell_type": "code",
   "execution_count": null,
   "metadata": {},
   "outputs": [],
   "source": [
    "output_sample = pd.read_csv('data/sample_submission.csv')\n",
    "output = pd.DataFrame({'id': output_sample.id, 'Exited': predictions0})\n",
    "output.to_csv('submission.csv', index=False, sep=',')"
   ]
  }
 ],
 "metadata": {
  "kaggle": {
   "accelerator": "none",
   "dataSources": [
    {
     "databundleVersionId": 7405009,
     "sourceId": 65711,
     "sourceType": "competition"
    },
    {
     "datasetId": 3191230,
     "sourceId": 5536933,
     "sourceType": "datasetVersion"
    }
   ],
   "dockerImageVersionId": 30636,
   "isGpuEnabled": false,
   "isInternetEnabled": false,
   "language": "python",
   "sourceType": "notebook"
  },
  "kernelspec": {
   "display_name": "Python 3 (ipykernel)",
   "language": "python",
   "name": "python3"
  },
  "language_info": {
   "codemirror_mode": {
    "name": "ipython",
    "version": 3
   },
   "file_extension": ".py",
   "mimetype": "text/x-python",
   "name": "python",
   "nbconvert_exporter": "python",
   "pygments_lexer": "ipython3",
   "version": "3.12.7"
  }
 },
 "nbformat": 4,
 "nbformat_minor": 4
}
