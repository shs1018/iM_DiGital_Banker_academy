{
 "cells": [
  {
   "cell_type": "code",
   "execution_count": 1,
   "metadata": {},
   "outputs": [],
   "source": [
    "import pandas as pd\n",
    "import numpy as np"
   ]
  },
  {
   "cell_type": "code",
   "execution_count": 2,
   "metadata": {},
   "outputs": [],
   "source": [
    "# 한글 패치 진행\n",
    "\n",
    "import matplotlib.pyplot as plt\n",
    "plt.rcParams['font.family'] ='Malgun Gothic'\n",
    "plt.rcParams['axes.unicode_minus'] =False"
   ]
  },
  {
   "cell_type": "code",
   "execution_count": 3,
   "metadata": {},
   "outputs": [
    {
     "name": "stdout",
     "output_type": "stream",
     "text": [
      "data input complete! : iMBANK_CARD_DATA_2021(K-DigitalTraining).csv as data_1\n",
      "data input complete! : iMBANK_CARD_DATA_2022(K-DigitalTraining).csv as data_2\n",
      "data input complete! : iMBANK_CARD_DATA_2023(K-DigitalTraining).csv as data_3\n",
      "data input complete! : iMBANK_CUSTOMER_DATA_2021(K-DigitalTraining).csv as data_4\n",
      "data input complete! : iMBANK_CUSTOMER_DATA_2022(K-DigitalTraining).csv as data_5\n",
      "data input complete! : iMBANK_CUSTOMER_DATA_2023(K-DigitalTraining).csv as data_6\n",
      "All data read complete!\n"
     ]
    }
   ],
   "source": [
    "DATA_PATH = 'C:/Users/campus3S031/Desktop/iM뱅크 프로젝트용 데이터/raw_data/'\n",
    "csv_names = [\n",
    "    'iMBANK_CARD_DATA_2021(K-DigitalTraining).csv', \n",
    "    'iMBANK_CARD_DATA_2022(K-DigitalTraining).csv', \n",
    "    'iMBANK_CARD_DATA_2023(K-DigitalTraining).csv', \n",
    "    'iMBANK_CUSTOMER_DATA_2021(K-DigitalTraining).csv', \n",
    "    'iMBANK_CUSTOMER_DATA_2022(K-DigitalTraining).csv', \n",
    "    'iMBANK_CUSTOMER_DATA_2023(K-DigitalTraining).csv'\n",
    "    ]\n",
    "datasets = {}\n",
    "def read_data(csv_names):\n",
    "    for i in range(len(csv_names)):\n",
    "        datasets[f\"data_{i+1}\"] = pd.read_csv(f\"{DATA_PATH}{csv_names[i]}\", encoding='cp949')\n",
    "\n",
    "        print(f'data input complete! : {csv_names[i]} as data_{i+1}')\n",
    "    print('All data read complete!')\n",
    "\n",
    "read_data(csv_names)"
   ]
  },
  {
   "cell_type": "code",
   "execution_count": 7,
   "metadata": {},
   "outputs": [
    {
     "name": "stdout",
     "output_type": "stream",
     "text": [
      "(12477330, 7) (12959876, 7) (13399948, 7)\n"
     ]
    }
   ],
   "source": [
    "# raw에서 서울/경기 결제 건수만\n",
    "\n",
    "dat_1 = datasets['data_1']\n",
    "dat_1 = dat_1[dat_1['가맹점_광역시도'].isin(['서울특별시', '경기도'])]\n",
    "\n",
    "dat_2 = datasets['data_2']\n",
    "dat_2 = dat_2[dat_2['가맹점_광역시도'].isin(['서울특별시', '경기도'])]\n",
    "\n",
    "dat_3 = datasets['data_3']\n",
    "dat_3 = dat_3[dat_3['가맹점_광역시도'].isin(['서울특별시', '경기도'])]\n",
    "\n",
    "print(dat_1.shape, dat_2.shape, dat_3.shape)\n"
   ]
  },
  {
   "cell_type": "code",
   "execution_count": 3,
   "metadata": {},
   "outputs": [],
   "source": [
    "# 고객 ID로 그룹화 및 필요한 칼럼의 첫 번쨰 값(.first())만 빼오기\n",
    "\n",
    "age_col_21 = datasets['data_4'].groupby('고객ID')[['연령대', '성별', '고객등급', '자택_시도', '자택_시군구']].first().reset_index()\n",
    "age_col_22 = datasets['data_5'].groupby('고객ID')[['연령대', '성별', '고객등급', '자택_시도', '자택_시군구']].first().reset_index()\n",
    "age_col_23 = datasets['data_6'].groupby('고객ID')[['연령대', '성별', '고객등급', '자택_시도', '자택_시군구']].first().reset_index()"
   ]
  },
  {
   "cell_type": "code",
   "execution_count": 8,
   "metadata": {},
   "outputs": [],
   "source": [
    "# merge 진행 -> 그룹화된 customer data와 card 데이터 조인\n",
    "\n",
    "data_21 = dat_1.merge(age_col_21, on = '고객ID', how = 'left').dropna()\n",
    "data_22 = dat_2.merge(age_col_22, on = '고객ID', how = 'left').dropna()\n",
    "data_23 = dat_3.merge(age_col_23, on = '고객ID', how = 'left').dropna()"
   ]
  },
  {
   "cell_type": "code",
   "execution_count": 11,
   "metadata": {},
   "outputs": [],
   "source": [
    "data_21.to_csv('sampled_data/data_21.csv', index = False)\n",
    "data_22.to_csv('sampled_data/data_22.csv', index = False)\n",
    "data_23.to_csv('sampled_data/data_23.csv', index = False)\n",
    "\n"
   ]
  },
  {
   "cell_type": "markdown",
   "metadata": {},
   "source": [
    "# 데이터 전처리 진행\n",
    "\n"
   ]
  },
  {
   "cell_type": "code",
   "execution_count": 4,
   "metadata": {},
   "outputs": [],
   "source": [
    "# 터졌을 경우 실행할 것 \n",
    "\n",
    "data_21 = pd.read_csv('sampled_data/data_21.csv')\n",
    "data_22 = pd.read_csv('sampled_data/data_22.csv')\n",
    "data_23 = pd.read_csv('sampled_data/data_23.csv')"
   ]
  },
  {
   "cell_type": "code",
   "execution_count": 9,
   "metadata": {},
   "outputs": [
    {
     "name": "stdout",
     "output_type": "stream",
     "text": [
      "<class 'pandas.core.frame.DataFrame'>\n",
      "RangeIndex: 12231961 entries, 0 to 12231960\n",
      "Data columns (total 14 columns):\n",
      " #   Column    Dtype         \n",
      "---  ------    -----         \n",
      " 0   거래년월      datetime64[ns]\n",
      " 1   고객ID      int64         \n",
      " 2   가맹점업종명    object        \n",
      " 3   가맹점_광역시도  object        \n",
      " 4   가맹점_시군구   object        \n",
      " 5   승인건수      object        \n",
      " 6   승인금액      int64         \n",
      " 7   연령대       object        \n",
      " 8   성별        object        \n",
      " 9   고객등급      object        \n",
      " 10  자택_시도     object        \n",
      " 11  자택_시군구    object        \n",
      " 12  승인건수_수치화  int64         \n",
      " 13  거래년월_분기   int32         \n",
      "dtypes: datetime64[ns](1), int32(1), int64(3), object(9)\n",
      "memory usage: 1.2+ GB\n"
     ]
    }
   ],
   "source": [
    "data_21.info()"
   ]
  },
  {
   "cell_type": "code",
   "execution_count": 6,
   "metadata": {},
   "outputs": [
    {
     "name": "stderr",
     "output_type": "stream",
     "text": [
      "C:\\Users\\campus3S031\\AppData\\Local\\Temp\\ipykernel_25280\\2008942924.py:13: FutureWarning: Downcasting behavior in `replace` is deprecated and will be removed in a future version. To retain the old behavior, explicitly call `result.infer_objects(copy=False)`. To opt-in to the future behavior, set `pd.set_option('future.no_silent_downcasting', True)`\n",
      "  df[f'{colname}_수치화'] = df[f'{colname}'].replace(map)\n"
     ]
    },
    {
     "name": "stdout",
     "output_type": "stream",
     "text": [
      "수치화 완료\n"
     ]
    },
    {
     "name": "stderr",
     "output_type": "stream",
     "text": [
      "C:\\Users\\campus3S031\\AppData\\Local\\Temp\\ipykernel_25280\\2008942924.py:13: FutureWarning: Downcasting behavior in `replace` is deprecated and will be removed in a future version. To retain the old behavior, explicitly call `result.infer_objects(copy=False)`. To opt-in to the future behavior, set `pd.set_option('future.no_silent_downcasting', True)`\n",
      "  df[f'{colname}_수치화'] = df[f'{colname}'].replace(map)\n"
     ]
    },
    {
     "name": "stdout",
     "output_type": "stream",
     "text": [
      "수치화 완료\n",
      "수치화 완료\n"
     ]
    },
    {
     "name": "stderr",
     "output_type": "stream",
     "text": [
      "C:\\Users\\campus3S031\\AppData\\Local\\Temp\\ipykernel_25280\\2008942924.py:13: FutureWarning: Downcasting behavior in `replace` is deprecated and will be removed in a future version. To retain the old behavior, explicitly call `result.infer_objects(copy=False)`. To opt-in to the future behavior, set `pd.set_option('future.no_silent_downcasting', True)`\n",
      "  df[f'{colname}_수치화'] = df[f'{colname}'].replace(map)\n"
     ]
    }
   ],
   "source": [
    "# 승인건수 범주화\n",
    "\n",
    "mapping = {\n",
    "    '5번이하': 1,\n",
    "    '5번초과 10번이하': 2,\n",
    "    '10번초과 15번이하': 3,\n",
    "    '15번초과 20번이하': 4,\n",
    "    '20번 초과': 5\n",
    "}\n",
    "\n",
    "# 특정 칼럼을 수치화 해주는 함수 - 쓰려면 매핑 수정 필수적!!\n",
    "def cartegory_to_int_columns(df, colname, map = mapping):\n",
    "    df[f'{colname}_수치화'] = df[f'{colname}'].replace(map)\n",
    "    print('수치화 완료')\n",
    "\n",
    "cartegory_to_int_columns(data_21, '승인건수')\n",
    "cartegory_to_int_columns(data_22, '승인건수')\n",
    "cartegory_to_int_columns(data_23, '승인건수')"
   ]
  },
  {
   "cell_type": "code",
   "execution_count": 8,
   "metadata": {},
   "outputs": [
    {
     "name": "stdout",
     "output_type": "stream",
     "text": [
      "거래년월의 타입은: datetime64[ns]\n",
      "거래년월_분기 생성됨!\n",
      "거래년월의 타입은: datetime64[ns]\n",
      "거래년월_분기 생성됨!\n",
      "거래년월의 타입은: datetime64[ns]\n",
      "거래년월_분기 생성됨!\n"
     ]
    }
   ],
   "source": [
    "# Datetime으로 만들어주는 코드\n",
    "\n",
    "def datetime_quater(df, colname):\n",
    "\n",
    "    for i in colname:\n",
    "        df[i] = pd.to_datetime(df[i].astype(int).astype(str), format = '%Y%m')\n",
    "        df[f'{i}_분기'] = df[i].dt.quarter\n",
    "        print(f'{i}의 타입은: {df[i].dtype}')\n",
    "        print(f'{i}_분기 생성됨!')\n",
    "\n",
    "datetime_quater(data_21, ['거래년월'])\n",
    "datetime_quater(data_22, ['거래년월'])\n",
    "datetime_quater(data_23, ['거래년월'])"
   ]
  },
  {
   "cell_type": "code",
   "execution_count": 16,
   "metadata": {},
   "outputs": [],
   "source": [
    "from datetime import datetime\n",
    "\n",
    "\n",
    "data_21['거래월'] = data_21['거래년월'].dt.strftime(\"%b\").str.upper()  \n",
    "data_22['거래월'] = data_22['거래년월'].dt.strftime(\"%b\").str.upper() \n",
    "data_23['거래월'] = data_23['거래년월'].dt.strftime(\"%b\").str.upper()  "
   ]
  },
  {
   "cell_type": "code",
   "execution_count": 20,
   "metadata": {},
   "outputs": [],
   "source": [
    "data_21.to_csv('sampled_data/rawdata_21.csv', index = False)\n",
    "data_22.to_csv('sampled_data/rawdata_22.csv', index = False)\n",
    "data_23.to_csv('sampled_data/rawdata_23.csv', index = False)"
   ]
  },
  {
   "cell_type": "code",
   "execution_count": 21,
   "metadata": {},
   "outputs": [],
   "source": [
    "# 무조건 터질 거 같은데...\n",
    "\n",
    "data_21['년도'] = 2021\n",
    "data_22['년도'] = 2022\n",
    "data_23['년도'] = 2023\n",
    "\n",
    "total_data = pd.concat([data_21,data_22,data_23], axis = 0)"
   ]
  },
  {
   "cell_type": "code",
   "execution_count": 37,
   "metadata": {},
   "outputs": [],
   "source": [
    "# total 기준 범주화 삽입\n",
    "\n",
    "\n",
    "food_related = [\n",
    "    '기타건강식품', '기타음료식품', '서양음식', '정육점', '제과점', '주점', '유흥주점', '단란주점', '일반한식', '일식·회집', '스넥', '중국식', '칵테일바', '편 의 점',\n",
    "    '농,축협직영매장', '농·축·수산품', '농축수산가공품', \n",
    "]\n",
    "\n",
    "retail_goods = [\n",
    "    '가 방', '가전제품', '기타 사무용품', '기타가구', '기타의류', '기타잡화', '기타전기제품', '내의판매', '당구장', '대형할인점', \n",
    "    '목재·석재·철물', '문구용품', '세탁소', '소프트웨어', '슈퍼마켓', '스포츠·레져용품', '스포츠의류', '신 발', '안경', '액세서리', '의료용품', '일반가구', \n",
    "    '일반서적', '자동차부품', '자동차정비', '정수기', '정장', '종합용역', '주방용구', '주방용식기', '출판 및 인쇄물', '치과의원', '컴퓨터', '통신기기', '홍삼제품', \n",
    "    '화원', '화장품', 'DP&E', '기계공구', '기념품점', '사무용 OA기기', '이용원', '자동차시트·타이어', '침구·수예점', '미곡상', '비료,사료,종자', '아동의류', \n",
    "    '화방·표구점', '귀금속', '민예·공예품', '면 세 점', '인테리어전문', '조명기구', '보일러·펌프·샷시', '건축용 요업제품', '페인트', '음반영상물', '농기계', \n",
    "    '시 계', '단체복', '제 화', '농협하나로클럽'\n",
    "]\n",
    "\n",
    "service = [\n",
    "    '1급 호텔', '가례서비스업', '골프경기장', '골프연습장', '공공요금대행서비스/소득공제대상', '공공요금대행서비스/소득공제비대상', '기타대인서비스', '기타레져업소', \n",
    "    '동물병원', '레져업소', '미용원', '미용재료', '보습학원', '사무서비스', '영화관', '외국어학원', '조세서비스', '종합병원', '통신서비스/소득공제비대상', '특급호텔', \n",
    "    '피부미용실', '학원', '헬스클럽', '예·체능계학원', '기능학원', '스크린골프', '한방병원', '2급 호텔', '치과병원', '혼례서비스업', '안마/스포츠마사지', \n",
    "    '종합레져타운', '기타숙박업', '기타의료기관 및 기타의료기기', '독서실', '병 원(응급실운영)', '보관및 창고업', '비씨카드 정산용(할인)', '기타 교육기관', \n",
    "    '학습지교육', '문화취미기타', '관광여행', '수족관', '초중고교육기관', '위탁급식업', '한 의 원', '콘도', '상품권전문판매', '부동산중개·임대', \n",
    "    '노 래 방', '이동통신요금', '인터넷Mall', '인터넷종합Mall', '일반(통신판매)', '통신판매업1', '티켓', '맞춤복점', '수 영 장', '약 국', '연 쇄 점', '완구점', \n",
    "    '유아원', '의 원', 'CATV홈쇼핑', 'PG상품권', '가정용품수리', '건강진단', '골프용품 전문점', '구내매점(국가기관등)', '손해보험', 'CATV', '전자상거래상품권전문판매', \n",
    "    '위성방송', '주류판매점', '애완동물', '비씨카드 정산용가맹점', '비영리/대상', '비영리/비대상', '사무·통신기기수리', '사우나', '상 품 권', '생명보험', '세차장', \n",
    "    '주차장', '볼 링 장', '자사카드발행백화점', '전문서적', '전자상거래상품권'\n",
    "]\n",
    "\n",
    "transportation = [\n",
    "    'E1가스충전소', 'GS가스충전소', 'GS주유소', 'SK가스충전소', 'SK주유소', '고속버스', '렌터카', '전기차충전소', '주유소', '철도', '택시', '항공사', \n",
    "    '현대정유가스충전소', '화물운송', '쌍용S-OIL가스충전소', '여객선', 'LPG취급점', '현대정유(오일뱅크)', '쌍용S-OIL', '유류판매'\n",
    "]\n",
    "\n",
    "others = ['기타 전문점', '기타1', '기타건축자재', '기타용역서비스', '기타유통업', '업종미등록', '기타수리서비스', '기타4', '갈비전문점', '이륜차판매']"
   ]
  },
  {
   "cell_type": "code",
   "execution_count": 1,
   "metadata": {},
   "outputs": [],
   "source": [
    "# 중분류\n",
    "\n",
    "food_related = [\n",
    "    '기타건강식품', '기타음료식품', '서양음식', '정육점', '제과점', '주점', '유흥주점', '단란주점', '일반한식', '일식·회집', '스넥', '중국식', '칵테일바', '편 의 점',\n",
    "    '농,축협직영매장', '농·축·수산품', '농축수산가공품',  '주류판매점'\n",
    "]\n",
    "\n",
    "retail = [\n",
    "    '가 방', '기타 사무용품', '기타잡화', '기타전기제품', '대형할인점', \n",
    "    '목재·석재·철물', '문구용품', '소프트웨어', '슈퍼마켓',\n",
    "    '자동차부품', '종합용역', '출판 및 인쇄물', '컴퓨터', '통신기기', '홍삼제품', \n",
    "    '화원', 'DP&E', '기계공구', '기념품점', '사무용 OA기기', '미곡상', '비료,사료,종자',  \n",
    "    '화방·표구점', '민예·공예품', '면 세 점', '인테리어전문', '조명기구', '보일러·펌프·샷시', '건축용 요업제품', '페인트', '음반영상물', '농기계', \n",
    "    '시 계', '단체복', '제 화', '농협하나로클럽','아동의류', '연 쇄 점', '완구점'\n",
    "]\n",
    "\n",
    "life = [\n",
    "    '가전제품', '기타가구', '기타의류', '신 발', '안경', '액세서리', '일반가구',\n",
    "    '일반서적', '내의판매', '세탁소', '화장품', '침구·수예점', '신 발', '안경', '귀금속','정수기', '정장',\n",
    "    '주방용구', '주방용식기'\n",
    "]\n",
    "\n",
    "med = [\n",
    "    '의료용품', '치과의원', '종합병원', '한방병원', '치과병원', '기타의료기관 및 기타의료기기','병 원(응급실운영)',\n",
    "    '한 의 원', '약 국',  '의 원', '건강진단', '동물병원'\n",
    "]\n",
    "\n",
    "online = [\n",
    "    '인터넷Mall', '인터넷종합Mall', 'CATV홈쇼핑','CATV'\n",
    "]\n",
    "\n",
    "education = [\n",
    "    '학원', '독서실', '기타 교육기관', '학습지교육', '초중고교육기관', '유아원', '기능학원', '예·체능계학원',\n",
    "    '외국어학원', '보습학원', '전문서적'\n",
    "]\n",
    "\n",
    "service = [\n",
    "    '가례서비스업', '공공요금대행서비스/소득공제대상', '공공요금대행서비스/소득공제비대상', '기타대인서비스',\n",
    "    '미용원', '미용재료', '사무서비스', '조세서비스', '통신서비스/소득공제비대상',\n",
    "    '피부미용실', '혼례서비스업', '애완동물',\n",
    "    '기타숙박업', '보관및 창고업', '비씨카드 정산용(할인)',\n",
    "    '위탁급식업', '상품권전문판매', '부동산중개·임대', \n",
    "    '이동통신요금', '일반(통신판매)', '통신판매업1', '티켓', '맞춤복점',\n",
    "    'PG상품권', '가정용품수리', '구내매점(국가기관등)', '손해보험', '전자상거래상품권전문판매', \n",
    "    '위성방송', '비씨카드 정산용가맹점', '비영리/대상', '비영리/비대상', '사무·통신기기수리', '상 품 권', '생명보험',\n",
    "    '자사카드발행백화점', '전자상거래상품권', '이용원'\n",
    "]\n",
    "\n",
    "lesuire = [\n",
    "    '골프경기장', '골프연습장', '스크린골프','당구장','스포츠·레져용품', '스포츠의류', '기타레져업소', '레져업소',\n",
    "    '영화관', '헬스클럽', '종합레져타운', '수족관', '콘도', '안마/스포츠마사지', '관광여행', '노 래 방',\n",
    "    '문화취미기타', '수 영 장', '골프용품 전문점', '사우나', '볼 링 장', '1급 호텔', '특급호텔', '2급 호텔',\n",
    "]\n",
    "\n",
    "transportation = [\n",
    "    'E1가스충전소', 'GS가스충전소', 'GS주유소', 'SK가스충전소', 'SK주유소', '고속버스', '렌터카', '전기차충전소', '주유소', '철도', '택시', '항공사', \n",
    "    '현대정유가스충전소', '화물운송', '쌍용S-OIL가스충전소', '여객선', 'LPG취급점', '현대정유(오일뱅크)', '쌍용S-OIL', '유류판매', '자동차시트·타이어',\n",
    "    '주차장', '세차장',  '자동차정비'\n",
    "]\n",
    "\n",
    "others = ['기타 전문점', '기타1', '기타건축자재', '기타용역서비스', '기타유통업', '업종미등록', '기타수리서비스', '기타4', '갈비전문점', '이륜차판매']"
   ]
  },
  {
   "cell_type": "code",
   "execution_count": 38,
   "metadata": {},
   "outputs": [],
   "source": [
    "# 대분류\n",
    "\n",
    "categorizing_list = [food_related, retail_goods, service, transportation, others]\n",
    "categorizing_list_name = ['식생활', '소매_및_생활용품', '서비스_및_여가','교통_및_물류', '기타']\n",
    "\n",
    "# 매핑 딕셔너리 생성\n",
    "mapping_dict = {}\n",
    "for i, clist in enumerate(categorizing_list):\n",
    "    for item in clist:\n",
    "        mapping_dict[item] = categorizing_list_name[i]\n",
    "\n",
    "total_data['가맹점업종명_범주화'] = total_data['가맹점업종명'].map(mapping_dict).fillna('인터넷P/G')\n"
   ]
  },
  {
   "cell_type": "code",
   "execution_count": null,
   "metadata": {},
   "outputs": [],
   "source": [
    "# 중분류\n",
    "\n",
    "categorizing_list2 = [food_related, retail_goods, life, med, online, education, service, lesuire, transportation, others]\n",
    "categorizing_list_name2 = ['식생활', '소매', '라이프스타일', '의료', '온라인쇼핑', '교육', '서비스', '여가','교통_및_물류', '기타']\n",
    "\n",
    "# 매핑 딕셔너리 생성\n",
    "mapping_dict2 = {}\n",
    "for i, clist in enumerate(categorizing_list2):\n",
    "    for item in clist:\n",
    "        mapping_dict2[item] = categorizing_list_name2[i]\n",
    "\n",
    "total_data['가맹점업종명_범주화_중분류'] = total_data['가맹점업종명'].map(mapping_dict2).fillna('인터넷P/G')"
   ]
  },
  {
   "cell_type": "code",
   "execution_count": 41,
   "metadata": {},
   "outputs": [],
   "source": [
    "total_data.to_csv('sampled_data/rawdata_pj1.csv', index = False)"
   ]
  },
  {
   "cell_type": "code",
   "execution_count": 40,
   "metadata": {},
   "outputs": [
    {
     "data": {
      "text/html": [
       "<div>\n",
       "<style scoped>\n",
       "    .dataframe tbody tr th:only-of-type {\n",
       "        vertical-align: middle;\n",
       "    }\n",
       "\n",
       "    .dataframe tbody tr th {\n",
       "        vertical-align: top;\n",
       "    }\n",
       "\n",
       "    .dataframe thead th {\n",
       "        text-align: right;\n",
       "    }\n",
       "</style>\n",
       "<table border=\"1\" class=\"dataframe\">\n",
       "  <thead>\n",
       "    <tr style=\"text-align: right;\">\n",
       "      <th></th>\n",
       "      <th>거래년월</th>\n",
       "      <th>고객ID</th>\n",
       "      <th>가맹점업종명</th>\n",
       "      <th>가맹점_광역시도</th>\n",
       "      <th>가맹점_시군구</th>\n",
       "      <th>승인건수</th>\n",
       "      <th>승인금액</th>\n",
       "      <th>연령대</th>\n",
       "      <th>성별</th>\n",
       "      <th>고객등급</th>\n",
       "      <th>자택_시도</th>\n",
       "      <th>자택_시군구</th>\n",
       "      <th>승인건수_수치화</th>\n",
       "      <th>거래년월_분기</th>\n",
       "      <th>거래월</th>\n",
       "      <th>년도</th>\n",
       "      <th>가맹점업종명_범주화</th>\n",
       "    </tr>\n",
       "  </thead>\n",
       "  <tbody>\n",
       "    <tr>\n",
       "      <th>0</th>\n",
       "      <td>2021-12-01</td>\n",
       "      <td>4355201439</td>\n",
       "      <td>약 국</td>\n",
       "      <td>경기도</td>\n",
       "      <td>양주시</td>\n",
       "      <td>5번이하</td>\n",
       "      <td>120000</td>\n",
       "      <td>50대</td>\n",
       "      <td>남</td>\n",
       "      <td>일반등급</td>\n",
       "      <td>대구광역시</td>\n",
       "      <td>북구</td>\n",
       "      <td>1</td>\n",
       "      <td>4</td>\n",
       "      <td>DEC</td>\n",
       "      <td>2021</td>\n",
       "      <td>서비스_및_여가</td>\n",
       "    </tr>\n",
       "    <tr>\n",
       "      <th>1</th>\n",
       "      <td>2021-12-01</td>\n",
       "      <td>3632812613</td>\n",
       "      <td>기타레져업소</td>\n",
       "      <td>서울특별시</td>\n",
       "      <td>중랑구</td>\n",
       "      <td>5번이하</td>\n",
       "      <td>10000</td>\n",
       "      <td>20대</td>\n",
       "      <td>남</td>\n",
       "      <td>일반등급</td>\n",
       "      <td>서울특별시</td>\n",
       "      <td>중랑구</td>\n",
       "      <td>1</td>\n",
       "      <td>4</td>\n",
       "      <td>DEC</td>\n",
       "      <td>2021</td>\n",
       "      <td>서비스_및_여가</td>\n",
       "    </tr>\n",
       "    <tr>\n",
       "      <th>2</th>\n",
       "      <td>2021-12-01</td>\n",
       "      <td>7718040540</td>\n",
       "      <td>슈퍼마켓</td>\n",
       "      <td>경기도</td>\n",
       "      <td>수원시 장안구</td>\n",
       "      <td>5번이하</td>\n",
       "      <td>30000</td>\n",
       "      <td>50대</td>\n",
       "      <td>여</td>\n",
       "      <td>일반등급</td>\n",
       "      <td>대구광역시</td>\n",
       "      <td>달서구</td>\n",
       "      <td>1</td>\n",
       "      <td>4</td>\n",
       "      <td>DEC</td>\n",
       "      <td>2021</td>\n",
       "      <td>소매_및_생활용품</td>\n",
       "    </tr>\n",
       "    <tr>\n",
       "      <th>3</th>\n",
       "      <td>2021-12-01</td>\n",
       "      <td>6529634994</td>\n",
       "      <td>슈퍼마켓</td>\n",
       "      <td>경기도</td>\n",
       "      <td>수원시 장안구</td>\n",
       "      <td>5번이하</td>\n",
       "      <td>10000</td>\n",
       "      <td>50대</td>\n",
       "      <td>남</td>\n",
       "      <td>일반등급</td>\n",
       "      <td>대구광역시</td>\n",
       "      <td>서구</td>\n",
       "      <td>1</td>\n",
       "      <td>4</td>\n",
       "      <td>DEC</td>\n",
       "      <td>2021</td>\n",
       "      <td>소매_및_생활용품</td>\n",
       "    </tr>\n",
       "    <tr>\n",
       "      <th>4</th>\n",
       "      <td>2021-12-01</td>\n",
       "      <td>4188819272</td>\n",
       "      <td>슈퍼마켓</td>\n",
       "      <td>경기도</td>\n",
       "      <td>수원시 장안구</td>\n",
       "      <td>5번이하</td>\n",
       "      <td>10000</td>\n",
       "      <td>30대</td>\n",
       "      <td>남</td>\n",
       "      <td>일반등급</td>\n",
       "      <td>대구광역시</td>\n",
       "      <td>달서구</td>\n",
       "      <td>1</td>\n",
       "      <td>4</td>\n",
       "      <td>DEC</td>\n",
       "      <td>2021</td>\n",
       "      <td>소매_및_생활용품</td>\n",
       "    </tr>\n",
       "    <tr>\n",
       "      <th>...</th>\n",
       "      <td>...</td>\n",
       "      <td>...</td>\n",
       "      <td>...</td>\n",
       "      <td>...</td>\n",
       "      <td>...</td>\n",
       "      <td>...</td>\n",
       "      <td>...</td>\n",
       "      <td>...</td>\n",
       "      <td>...</td>\n",
       "      <td>...</td>\n",
       "      <td>...</td>\n",
       "      <td>...</td>\n",
       "      <td>...</td>\n",
       "      <td>...</td>\n",
       "      <td>...</td>\n",
       "      <td>...</td>\n",
       "      <td>...</td>\n",
       "    </tr>\n",
       "    <tr>\n",
       "      <th>13058840</th>\n",
       "      <td>2023-01-01</td>\n",
       "      <td>5768252008</td>\n",
       "      <td>편 의 점</td>\n",
       "      <td>서울특별시</td>\n",
       "      <td>양천구</td>\n",
       "      <td>5번이하</td>\n",
       "      <td>40000</td>\n",
       "      <td>50대</td>\n",
       "      <td>남</td>\n",
       "      <td>일반등급</td>\n",
       "      <td>대구광역시</td>\n",
       "      <td>동구</td>\n",
       "      <td>1</td>\n",
       "      <td>1</td>\n",
       "      <td>JAN</td>\n",
       "      <td>2023</td>\n",
       "      <td>식생활</td>\n",
       "    </tr>\n",
       "    <tr>\n",
       "      <th>13058841</th>\n",
       "      <td>2023-01-01</td>\n",
       "      <td>4285881153</td>\n",
       "      <td>편 의 점</td>\n",
       "      <td>서울특별시</td>\n",
       "      <td>양천구</td>\n",
       "      <td>5번이하</td>\n",
       "      <td>20000</td>\n",
       "      <td>30대</td>\n",
       "      <td>남</td>\n",
       "      <td>일반등급</td>\n",
       "      <td>대구광역시</td>\n",
       "      <td>북구</td>\n",
       "      <td>1</td>\n",
       "      <td>1</td>\n",
       "      <td>JAN</td>\n",
       "      <td>2023</td>\n",
       "      <td>식생활</td>\n",
       "    </tr>\n",
       "    <tr>\n",
       "      <th>13058842</th>\n",
       "      <td>2023-01-01</td>\n",
       "      <td>5655139258</td>\n",
       "      <td>기타레져업소</td>\n",
       "      <td>서울특별시</td>\n",
       "      <td>관악구</td>\n",
       "      <td>5번이하</td>\n",
       "      <td>20000</td>\n",
       "      <td>20대</td>\n",
       "      <td>여</td>\n",
       "      <td>일반등급</td>\n",
       "      <td>서울특별시</td>\n",
       "      <td>관악구</td>\n",
       "      <td>1</td>\n",
       "      <td>1</td>\n",
       "      <td>JAN</td>\n",
       "      <td>2023</td>\n",
       "      <td>서비스_및_여가</td>\n",
       "    </tr>\n",
       "    <tr>\n",
       "      <th>13058843</th>\n",
       "      <td>2023-01-01</td>\n",
       "      <td>6239666048</td>\n",
       "      <td>기타레져업소</td>\n",
       "      <td>서울특별시</td>\n",
       "      <td>관악구</td>\n",
       "      <td>5번이하</td>\n",
       "      <td>10000</td>\n",
       "      <td>20대</td>\n",
       "      <td>남</td>\n",
       "      <td>일반등급</td>\n",
       "      <td>대구광역시</td>\n",
       "      <td>남구</td>\n",
       "      <td>1</td>\n",
       "      <td>1</td>\n",
       "      <td>JAN</td>\n",
       "      <td>2023</td>\n",
       "      <td>서비스_및_여가</td>\n",
       "    </tr>\n",
       "    <tr>\n",
       "      <th>13058844</th>\n",
       "      <td>2023-01-01</td>\n",
       "      <td>4981961549</td>\n",
       "      <td>편 의 점</td>\n",
       "      <td>서울특별시</td>\n",
       "      <td>마포구</td>\n",
       "      <td>5번이하</td>\n",
       "      <td>20000</td>\n",
       "      <td>30대</td>\n",
       "      <td>여</td>\n",
       "      <td>일반등급</td>\n",
       "      <td>서울특별시</td>\n",
       "      <td>마포구</td>\n",
       "      <td>1</td>\n",
       "      <td>1</td>\n",
       "      <td>JAN</td>\n",
       "      <td>2023</td>\n",
       "      <td>식생활</td>\n",
       "    </tr>\n",
       "  </tbody>\n",
       "</table>\n",
       "<p>21333200 rows × 17 columns</p>\n",
       "</div>"
      ],
      "text/plain": [
       "               거래년월        고객ID  가맹점업종명 가맹점_광역시도  가맹점_시군구  승인건수    승인금액  연령대  \\\n",
       "0        2021-12-01  4355201439     약 국      경기도      양주시  5번이하  120000  50대   \n",
       "1        2021-12-01  3632812613  기타레져업소    서울특별시      중랑구  5번이하   10000  20대   \n",
       "2        2021-12-01  7718040540    슈퍼마켓      경기도  수원시 장안구  5번이하   30000  50대   \n",
       "3        2021-12-01  6529634994    슈퍼마켓      경기도  수원시 장안구  5번이하   10000  50대   \n",
       "4        2021-12-01  4188819272    슈퍼마켓      경기도  수원시 장안구  5번이하   10000  30대   \n",
       "...             ...         ...     ...      ...      ...   ...     ...  ...   \n",
       "13058840 2023-01-01  5768252008   편 의 점    서울특별시      양천구  5번이하   40000  50대   \n",
       "13058841 2023-01-01  4285881153   편 의 점    서울특별시      양천구  5번이하   20000  30대   \n",
       "13058842 2023-01-01  5655139258  기타레져업소    서울특별시      관악구  5번이하   20000  20대   \n",
       "13058843 2023-01-01  6239666048  기타레져업소    서울특별시      관악구  5번이하   10000  20대   \n",
       "13058844 2023-01-01  4981961549   편 의 점    서울특별시      마포구  5번이하   20000  30대   \n",
       "\n",
       "         성별  고객등급  자택_시도 자택_시군구  승인건수_수치화  거래년월_분기  거래월    년도 가맹점업종명_범주화  \n",
       "0         남  일반등급  대구광역시     북구         1        4  DEC  2021   서비스_및_여가  \n",
       "1         남  일반등급  서울특별시    중랑구         1        4  DEC  2021   서비스_및_여가  \n",
       "2         여  일반등급  대구광역시    달서구         1        4  DEC  2021  소매_및_생활용품  \n",
       "3         남  일반등급  대구광역시     서구         1        4  DEC  2021  소매_및_생활용품  \n",
       "4         남  일반등급  대구광역시    달서구         1        4  DEC  2021  소매_및_생활용품  \n",
       "...      ..   ...    ...    ...       ...      ...  ...   ...        ...  \n",
       "13058840  남  일반등급  대구광역시     동구         1        1  JAN  2023        식생활  \n",
       "13058841  남  일반등급  대구광역시     북구         1        1  JAN  2023        식생활  \n",
       "13058842  여  일반등급  서울특별시    관악구         1        1  JAN  2023   서비스_및_여가  \n",
       "13058843  남  일반등급  대구광역시     남구         1        1  JAN  2023   서비스_및_여가  \n",
       "13058844  여  일반등급  서울특별시    마포구         1        1  JAN  2023        식생활  \n",
       "\n",
       "[21333200 rows x 17 columns]"
      ]
     },
     "execution_count": 40,
     "metadata": {},
     "output_type": "execute_result"
    }
   ],
   "source": [
    "total_data"
   ]
  },
  {
   "cell_type": "markdown",
   "metadata": {},
   "source": [
    "## Raw Data 구경"
   ]
  },
  {
   "cell_type": "code",
   "execution_count": 36,
   "metadata": {},
   "outputs": [
    {
     "data": {
      "text/plain": [
       "([0, 1, 2, 3, 4, 5, 6, 7, 8, 9],\n",
       " [Text(0, 0, '기타 전문점'),\n",
       "  Text(1, 0, '인터넷종합Mall'),\n",
       "  Text(2, 0, '이동통신요금'),\n",
       "  Text(3, 0, '서양음식'),\n",
       "  Text(4, 0, '손해보험'),\n",
       "  Text(5, 0, '일반한식'),\n",
       "  Text(6, 0, '택시'),\n",
       "  Text(7, 0, '인터넷Mall'),\n",
       "  Text(8, 0, '연 쇄 점'),\n",
       "  Text(9, 0, 'PG상품권')])"
      ]
     },
     "execution_count": 36,
     "metadata": {},
     "output_type": "execute_result"
    },
    {
     "data": {
      "image/png": "[encoded data removed]",
      "text/plain": [
       "<Figure size 640x480 with 1 Axes>"
      ]
     },
     "metadata": {},
     "output_type": "display_data"
    }
   ],
   "source": [
    "import seaborn as sns\n",
    "\n",
    "# 인터넷P/G를 제외한 데이터만 필터링\n",
    "total_data2 = total_data[total_data['가맹점업종명'] != '인터넷P/G']\n",
    "\n",
    "# 확인을 위해 업종별 비율 다시 확인\n",
    "sns.barplot(total_data2['가맹점업종명'].value_counts(normalize=True).head(10))\n",
    "plt.xticks(rotation = 45)"
   ]
  }
 ],
 "metadata": {
  "kernelspec": {
   "display_name": "venv",
   "language": "python",
   "name": "python3"
  },
  "language_info": {
   "codemirror_mode": {
    "name": "ipython",
    "version": 3
   },
   "file_extension": ".py",
   "mimetype": "text/x-python",
   "name": "python",
   "nbconvert_exporter": "python",
   "pygments_lexer": "ipython3",
   "version": "3.12.7"
  }
 },
 "nbformat": 4,
 "nbformat_minor": 2
}
