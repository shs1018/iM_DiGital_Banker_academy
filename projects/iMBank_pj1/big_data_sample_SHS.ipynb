{
 "cells": [
  {
   "cell_type": "code",
   "execution_count": 20,
   "metadata": {},
   "outputs": [],
   "source": [
    "import pandas as pd\n",
    "import numpy as np\n",
    "import matplotlib.pyplot as plt\n",
    "import seaborn as sns"
   ]
  },
  {
   "cell_type": "code",
   "execution_count": 21,
   "metadata": {},
   "outputs": [
    {
     "name": "stdout",
     "output_type": "stream",
     "text": [
      "data input complete! : iMBANK_CARD_DATA_2021(K-DigitalTraining).csv as data_1\n",
      "data input complete! : iMBANK_CARD_DATA_2022(K-DigitalTraining).csv as data_2\n",
      "data input complete! : iMBANK_CARD_DATA_2023(K-DigitalTraining).csv as data_3\n",
      "data input complete! : iMBANK_CUSTOMER_DATA_2021(K-DigitalTraining).csv as data_4\n",
      "data input complete! : iMBANK_CUSTOMER_DATA_2022(K-DigitalTraining).csv as data_5\n",
      "data input complete! : iMBANK_CUSTOMER_DATA_2023(K-DigitalTraining).csv as data_6\n",
      "All data read complete!\n"
     ]
    }
   ],
   "source": [
    "import pandas as pd\n",
    "\n",
    "DATA_PATH = 'C:/Users/campus3S031/Desktop/iM뱅크 프로젝트용 데이터/raw_data/'\n",
    "csv_names = [\n",
    "    'iMBANK_CARD_DATA_2021(K-DigitalTraining).csv', \n",
    "    'iMBANK_CARD_DATA_2022(K-DigitalTraining).csv', \n",
    "    'iMBANK_CARD_DATA_2023(K-DigitalTraining).csv', \n",
    "    'iMBANK_CUSTOMER_DATA_2021(K-DigitalTraining).csv', \n",
    "    'iMBANK_CUSTOMER_DATA_2022(K-DigitalTraining).csv', \n",
    "    'iMBANK_CUSTOMER_DATA_2023(K-DigitalTraining).csv'\n",
    "    ]\n",
    "datasets = {}\n",
    "def read_data(csv_names):\n",
    "    for i in range(len(csv_names)):\n",
    "        datasets[f\"data_{i+1}\"] = pd.read_csv(f\"{DATA_PATH}{csv_names[i]}\", encoding='cp949')\n",
    "\n",
    "        print(f'data input complete! : {csv_names[i]} as data_{i+1}')\n",
    "    print('All data read complete!')\n",
    "\n",
    "read_data(csv_names)"
   ]
  },
  {
   "cell_type": "markdown",
   "metadata": {},
   "source": [
    "# 층화추출 적용\n",
    "- card 데이터의 경우 그룹이 너무 많으면 메모리가 감당하지 못한다 \n",
    "- 그래서 년월과 지역 두 가지로만 층화추출을 진행했다.\n",
    "\n",
    "- 24.10.31 수정 -> card data 층화추출 요소에 '고객ID' 추가"
   ]
  },
  {
   "cell_type": "code",
   "execution_count": 22,
   "metadata": {},
   "outputs": [
    {
     "name": "stderr",
     "output_type": "stream",
     "text": [
      "C:\\Users\\campus3S031\\AppData\\Local\\Temp\\ipykernel_6880\\1445902252.py:1: DeprecationWarning: DataFrameGroupBy.apply operated on the grouping columns. This behavior is deprecated, and in a future version of pandas the grouping columns will be excluded from the operation. Either pass `include_groups=False` to exclude the groupings or explicitly select the grouping columns after groupby to silence this warning.\n",
      "  sample_df = datasets['data_4'].groupby(['기준년월', '연령대', '성별', '고객등급', '자택_시도', '자택_시군구'], group_keys=False).apply(lambda x: x.sample(frac=0.01))\n"
     ]
    },
    {
     "data": {
      "text/plain": [
       "(206314, 13)"
      ]
     },
     "execution_count": 22,
     "metadata": {},
     "output_type": "execute_result"
    }
   ],
   "source": [
    "sample_df = datasets['data_4'].groupby(['기준년월', '연령대', '성별', '고객등급', '자택_시도', '자택_시군구'], group_keys=False).apply(lambda x: x.sample(frac=0.01))\n",
    "sample_df.shape"
   ]
  },
  {
   "cell_type": "code",
   "execution_count": 23,
   "metadata": {},
   "outputs": [],
   "source": [
    "#tempo= datasets['data_1'].groupby(['거래년월','고객ID' ,'가맹점_광역시도'], group_keys=False).apply(lambda x: x.sample(frac=0.01))\n",
    "#tempo.head(1)\n"
   ]
  },
  {
   "cell_type": "markdown",
   "metadata": {},
   "source": [
    "### 11/01 층화추출 비율을 5%로 변경함"
   ]
  },
  {
   "cell_type": "code",
   "execution_count": 24,
   "metadata": {},
   "outputs": [
    {
     "name": "stderr",
     "output_type": "stream",
     "text": [
      "C:\\Users\\campus3S031\\AppData\\Local\\Temp\\ipykernel_6880\\2805561267.py:13: DeprecationWarning: DataFrameGroupBy.apply operated on the grouping columns. This behavior is deprecated, and in a future version of pandas the grouping columns will be excluded from the operation. Either pass `include_groups=False` to exclude the groupings or explicitly select the grouping columns after groupby to silence this warning.\n",
      "  customer_data[f\"{2020 + (i-3)}\"] = datasets[f'data_{i}'].dropna().groupby(['기준년월', '연령대', '성별', '고객등급', '자택_시도', '자택_시군구'], group_keys=False).apply(lambda x: x.sample(frac=0.05))\n"
     ]
    },
    {
     "name": "stdout",
     "output_type": "stream",
     "text": [
      "customer data 2021 sampled!\n"
     ]
    },
    {
     "name": "stderr",
     "output_type": "stream",
     "text": [
      "C:\\Users\\campus3S031\\AppData\\Local\\Temp\\ipykernel_6880\\2805561267.py:13: DeprecationWarning: DataFrameGroupBy.apply operated on the grouping columns. This behavior is deprecated, and in a future version of pandas the grouping columns will be excluded from the operation. Either pass `include_groups=False` to exclude the groupings or explicitly select the grouping columns after groupby to silence this warning.\n",
      "  customer_data[f\"{2020 + (i-3)}\"] = datasets[f'data_{i}'].dropna().groupby(['기준년월', '연령대', '성별', '고객등급', '자택_시도', '자택_시군구'], group_keys=False).apply(lambda x: x.sample(frac=0.05))\n"
     ]
    },
    {
     "name": "stdout",
     "output_type": "stream",
     "text": [
      "customer data 2022 sampled!\n"
     ]
    },
    {
     "name": "stderr",
     "output_type": "stream",
     "text": [
      "C:\\Users\\campus3S031\\AppData\\Local\\Temp\\ipykernel_6880\\2805561267.py:13: DeprecationWarning: DataFrameGroupBy.apply operated on the grouping columns. This behavior is deprecated, and in a future version of pandas the grouping columns will be excluded from the operation. Either pass `include_groups=False` to exclude the groupings or explicitly select the grouping columns after groupby to silence this warning.\n",
      "  customer_data[f\"{2020 + (i-3)}\"] = datasets[f'data_{i}'].dropna().groupby(['기준년월', '연령대', '성별', '고객등급', '자택_시도', '자택_시군구'], group_keys=False).apply(lambda x: x.sample(frac=0.05))\n"
     ]
    },
    {
     "name": "stdout",
     "output_type": "stream",
     "text": [
      "customer data 2023 sampled!\n"
     ]
    },
    {
     "name": "stderr",
     "output_type": "stream",
     "text": [
      "C:\\Users\\campus3S031\\AppData\\Local\\Temp\\ipykernel_6880\\2805561267.py:17: DeprecationWarning: DataFrameGroupBy.apply operated on the grouping columns. This behavior is deprecated, and in a future version of pandas the grouping columns will be excluded from the operation. Either pass `include_groups=False` to exclude the groupings or explicitly select the grouping columns after groupby to silence this warning.\n",
      "  card_data[f\"{2020 + i}\"] = datasets[f'data_{i}'].dropna().groupby(['거래년월','가맹점업종명','가맹점_광역시도','가맹점_시군구'], group_keys=False).apply(lambda x: x.sample(frac=0.05))\n"
     ]
    },
    {
     "name": "stdout",
     "output_type": "stream",
     "text": [
      "card data 2021 sampled!\n"
     ]
    },
    {
     "name": "stderr",
     "output_type": "stream",
     "text": [
      "C:\\Users\\campus3S031\\AppData\\Local\\Temp\\ipykernel_6880\\2805561267.py:17: DeprecationWarning: DataFrameGroupBy.apply operated on the grouping columns. This behavior is deprecated, and in a future version of pandas the grouping columns will be excluded from the operation. Either pass `include_groups=False` to exclude the groupings or explicitly select the grouping columns after groupby to silence this warning.\n",
      "  card_data[f\"{2020 + i}\"] = datasets[f'data_{i}'].dropna().groupby(['거래년월','가맹점업종명','가맹점_광역시도','가맹점_시군구'], group_keys=False).apply(lambda x: x.sample(frac=0.05))\n"
     ]
    },
    {
     "name": "stdout",
     "output_type": "stream",
     "text": [
      "card data 2022 sampled!\n",
      "card data 2023 sampled!\n",
      "-----Sample Complete-----\n",
      "<class 'pandas.core.frame.DataFrame'>\n",
      "Index: 3016535 entries, 58962768 to 434210\n",
      "Data columns (total 7 columns):\n",
      " #   Column    Dtype \n",
      "---  ------    ----- \n",
      " 0   거래년월      int64 \n",
      " 1   고객ID      int64 \n",
      " 2   가맹점업종명    object\n",
      " 3   가맹점_광역시도  object\n",
      " 4   가맹점_시군구   object\n",
      " 5   승인건수      object\n",
      " 6   승인금액      int64 \n",
      "dtypes: int64(3), object(4)\n",
      "memory usage: 184.1+ MB\n"
     ]
    },
    {
     "name": "stderr",
     "output_type": "stream",
     "text": [
      "C:\\Users\\campus3S031\\AppData\\Local\\Temp\\ipykernel_6880\\2805561267.py:17: DeprecationWarning: DataFrameGroupBy.apply operated on the grouping columns. This behavior is deprecated, and in a future version of pandas the grouping columns will be excluded from the operation. Either pass `include_groups=False` to exclude the groupings or explicitly select the grouping columns after groupby to silence this warning.\n",
      "  card_data[f\"{2020 + i}\"] = datasets[f'data_{i}'].dropna().groupby(['거래년월','가맹점업종명','가맹점_광역시도','가맹점_시군구'], group_keys=False).apply(lambda x: x.sample(frac=0.05))\n"
     ]
    }
   ],
   "source": [
    "# 데이터를 넣을 딕셔너리 생성\n",
    "customer_data = {}\n",
    "card_data = {}\n",
    "\n",
    "def sample_dataset(datasets):\n",
    "\n",
    "    # 데이터를 넣을 딕셔너리 생성\n",
    "    customer_data = {}\n",
    "    card_data = {}\n",
    "\n",
    "    # 데이터 층화 추출 - 칼럼들 기준\n",
    "    for i in range(4,7):\n",
    "        customer_data[f\"{2020 + (i-3)}\"] = datasets[f'data_{i}'].dropna().groupby(['기준년월', '연령대', '성별', '고객등급', '자택_시도', '자택_시군구'], group_keys=False).apply(lambda x: x.sample(frac=0.05))\n",
    "        print(f'customer data {2020 + (i-3)} sampled!')\n",
    "\n",
    "    for i in range(1,4):\n",
    "        card_data[f\"{2020 + i}\"] = datasets[f'data_{i}'].dropna().groupby(['거래년월','가맹점업종명','가맹점_광역시도','가맹점_시군구'], group_keys=False).apply(lambda x: x.sample(frac=0.05))\n",
    "        print(f'card data {2020 + i} sampled!')\n",
    "\n",
    "    print('-----Sample Complete-----')\n",
    "    return customer_data, card_data\n",
    "\n",
    "customer_data, card_data = sample_dataset(datasets)\n",
    "card_data['2021'].info()"
   ]
  },
  {
   "cell_type": "code",
   "execution_count": 25,
   "metadata": {},
   "outputs": [
    {
     "data": {
      "text/plain": [
       "가맹점_시군구\n",
       "중구     406934\n",
       "달서구    379998\n",
       "수성구    329440\n",
       "북구     287384\n",
       "동구     219371\n",
       "        ...  \n",
       "증평군        29\n",
       "고창군        25\n",
       "서천군        16\n",
       "영광군        10\n",
       "무안군        10\n",
       "Name: count, Length: 208, dtype: int64"
      ]
     },
     "execution_count": 25,
     "metadata": {},
     "output_type": "execute_result"
    }
   ],
   "source": [
    "card_data['2021']['가맹점_시군구'].value_counts()"
   ]
  },
  {
   "cell_type": "code",
   "execution_count": 26,
   "metadata": {},
   "outputs": [
    {
     "data": {
      "text/plain": [
       "가맹점_시군구\n",
       "중구     8148185\n",
       "달서구    7600912\n",
       "수성구    6589354\n",
       "북구     5754217\n",
       "동구     4394302\n",
       "        ...   \n",
       "완도군        686\n",
       "고창군        593\n",
       "서천군        359\n",
       "무안군        284\n",
       "영광군        276\n",
       "Name: count, Length: 208, dtype: int64"
      ]
     },
     "execution_count": 26,
     "metadata": {},
     "output_type": "execute_result"
    }
   ],
   "source": [
    "datasets['data_1']['가맹점_시군구'].value_counts()"
   ]
  },
  {
   "cell_type": "markdown",
   "metadata": {},
   "source": [
    "# MERGE DATA"
   ]
  },
  {
   "cell_type": "code",
   "execution_count": 27,
   "metadata": {},
   "outputs": [
    {
     "name": "stdout",
     "output_type": "stream",
     "text": [
      "<class 'pandas.core.frame.DataFrame'>\n",
      "RangeIndex: 3648477 entries, 0 to 3648476\n",
      "Data columns (total 19 columns):\n",
      " #   Column    Dtype  \n",
      "---  ------    -----  \n",
      " 0   거래년월      int64  \n",
      " 1   고객ID      int64  \n",
      " 2   가맹점업종명    object \n",
      " 3   가맹점_광역시도  object \n",
      " 4   가맹점_시군구   object \n",
      " 5   승인건수      object \n",
      " 6   승인금액      int64  \n",
      " 7   기준년월      float64\n",
      " 8   연령대       object \n",
      " 9   성별        object \n",
      " 10  고객등급      object \n",
      " 11  자택_시도     object \n",
      " 12  자택_시군구    object \n",
      " 13  수신_요구불예금  float64\n",
      " 14  수신_거치식예금  float64\n",
      " 15  수신_적립식예금  float64\n",
      " 16  수신_펀드     float64\n",
      " 17  수신_외화예금   float64\n",
      " 18  대출금액      float64\n",
      "dtypes: float64(7), int64(3), object(9)\n",
      "memory usage: 528.9+ MB\n"
     ]
    }
   ],
   "source": [
    "merged_2023 = pd.merge(card_data['2023'], customer_data['2023'], on = '고객ID', how='left')\n",
    "merged_2022 = pd.merge(card_data['2022'], customer_data['2022'], on = '고객ID', how='left')\n",
    "merged_2021 = pd.merge(card_data['2021'], customer_data['2021'], on = '고객ID', how='left')\n",
    "merged_2023.info()"
   ]
  },
  {
   "cell_type": "code",
   "execution_count": 28,
   "metadata": {},
   "outputs": [
    {
     "name": "stdout",
     "output_type": "stream",
     "text": [
      "Saved card_2021_sample.csv\n",
      "Saved card_2022_sample.csv\n",
      "Saved card_2023_sample.csv\n",
      "Saved customer_2021_sample.csv\n",
      "Saved customer_2022_sample.csv\n",
      "Saved customer_2023_sample.csv\n",
      "Saved merged_2021.csv\n",
      "Saved merged_2022.csv\n",
      "Saved merged_2023.csv\n",
      "save complete!\n"
     ]
    }
   ],
   "source": [
    "merged_data = [merged_2021,merged_2022,merged_2023]\n",
    "\n",
    "file_names_card = [\n",
    "    \"card_2021_sample.csv\",\n",
    "    \"card_2022_sample.csv\",\n",
    "    \"card_2023_sample.csv\"\n",
    "]\n",
    "\n",
    "file_names_customer = [\n",
    "    \"customer_2021_sample.csv\",\n",
    "    \"customer_2022_sample.csv\",\n",
    "    \"customer_2023_sample.csv\"\n",
    "]\n",
    "\n",
    "file_names_merged = [\n",
    "    \"merged_2021.csv\",\n",
    "    \"merged_2022.csv\",\n",
    "    \"merged_2023.csv\"\n",
    "]\n",
    "\n",
    "for (key, df), name in zip(card_data.items(), file_names_card):\n",
    "    df.to_csv(f\"sampled_data/{name}\", index = False)\n",
    "    print(f\"Saved {name}\")\n",
    "\n",
    "for (key, df), name in zip(customer_data.items(), file_names_customer):\n",
    "    df.to_csv(f\"sampled_data/{name}\", index = False)\n",
    "    print(f\"Saved {name}\")\n",
    "\n",
    "for df, name in zip(merged_data, file_names_merged):\n",
    "    df.to_csv(f\"sampled_data/{name}\", index = False)\n",
    "    print(f\"Saved {name}\")\n",
    "\n",
    "print('save complete!')"
   ]
  },
  {
   "cell_type": "markdown",
   "metadata": {},
   "source": [
    "# Changed merged data method"
   ]
  },
  {
   "cell_type": "code",
   "execution_count": 29,
   "metadata": {},
   "outputs": [
    {
     "name": "stdout",
     "output_type": "stream",
     "text": [
      "<class 'pandas.core.frame.DataFrame'>\n",
      "RangeIndex: 4477204 entries, 0 to 4477203\n",
      "Data columns (total 19 columns):\n",
      " #   Column    Dtype  \n",
      "---  ------    -----  \n",
      " 0   거래년월      float64\n",
      " 1   고객ID      int64  \n",
      " 2   가맹점업종명    object \n",
      " 3   가맹점_광역시도  object \n",
      " 4   가맹점_시군구   object \n",
      " 5   승인건수      object \n",
      " 6   승인금액      float64\n",
      " 7   기준년월      float64\n",
      " 8   연령대       object \n",
      " 9   성별        object \n",
      " 10  고객등급      object \n",
      " 11  자택_시도     object \n",
      " 12  자택_시군구    object \n",
      " 13  수신_요구불예금  float64\n",
      " 14  수신_거치식예금  float64\n",
      " 15  수신_적립식예금  float64\n",
      " 16  수신_펀드     float64\n",
      " 17  수신_외화예금   float64\n",
      " 18  대출금액      float64\n",
      "dtypes: float64(9), int64(1), object(9)\n",
      "memory usage: 649.0+ MB\n"
     ]
    }
   ],
   "source": [
    "merged_2023 = pd.merge(card_data['2023'], customer_data['2023'], on = '고객ID', how='outer')\n",
    "merged_2022 = pd.merge(card_data['2022'], customer_data['2022'], on = '고객ID', how='outer')\n",
    "merged_2021 = pd.merge(card_data['2021'], customer_data['2021'], on = '고객ID', how='outer')\n",
    "merged_2023.info()"
   ]
  },
  {
   "cell_type": "code",
   "execution_count": 30,
   "metadata": {},
   "outputs": [
    {
     "name": "stdout",
     "output_type": "stream",
     "text": [
      "Saved merged_full_2021.csv\n",
      "Saved merged_full_2022.csv\n",
      "Saved merged_full_2023.csv\n"
     ]
    }
   ],
   "source": [
    "merged_data = [merged_2021,merged_2022,merged_2023]\n",
    "\n",
    "file_names_merged = [\n",
    "    \"merged_full_2021.csv\",\n",
    "    \"merged_full_2022.csv\",\n",
    "    \"merged_full_2023.csv\"\n",
    "]\n",
    "\n",
    "for df, name in zip(merged_data, file_names_merged):\n",
    "    df.to_csv(f\"sampled_data/{name}\", index = False)\n",
    "    print(f\"Saved {name}\")"
   ]
  },
  {
   "cell_type": "markdown",
   "metadata": {},
   "source": [
    "# 카드 데이터 중복 없이 Card 위주로 Join된 데이터 생성\n",
    "- join의 결과로 Card의 행에 변화가 있어서는 안 된다 -> shape에 변화가 있어서 안됨"
   ]
  },
  {
   "cell_type": "code",
   "execution_count": 31,
   "metadata": {},
   "outputs": [],
   "source": [
    "# 데이터 불러오기\n",
    "\n",
    "card_data_21 = pd.read_csv('sampled_data/card_2021_sample.csv')\n",
    "card_data_22 = pd.read_csv('sampled_data/card_2022_sample.csv')\n",
    "card_data_23 = pd.read_csv('sampled_data/card_2023_sample.csv')\n",
    "\n",
    "customer_data_21 = pd.read_csv('sampled_data/customer_2021_sample.csv')\n",
    "customer_data_22 = pd.read_csv('sampled_data/customer_2022_sample.csv')\n",
    "customer_data_23 = pd.read_csv('sampled_data/customer_2023_sample.csv')"
   ]
  },
  {
   "cell_type": "code",
   "execution_count": 32,
   "metadata": {},
   "outputs": [],
   "source": [
    "# 고객 ID로 그룹화 및 필요한 칼럼의 첫 번쨰 값(.first())만 빼오기\n",
    "\n",
    "age_col_21 = customer_data_21.groupby('고객ID')[['연령대', '성별', '고객등급', '자택_시도', '자택_시군구']].first().reset_index()\n",
    "age_col_22 = customer_data_21.groupby('고객ID')[['연령대', '성별', '고객등급', '자택_시도', '자택_시군구']].first().reset_index()\n",
    "age_col_23 = customer_data_21.groupby('고객ID')[['연령대', '성별', '고객등급', '자택_시도', '자택_시군구']].first().reset_index()"
   ]
  },
  {
   "cell_type": "code",
   "execution_count": 33,
   "metadata": {},
   "outputs": [],
   "source": [
    "# merge 진행 -> 그룹화된 customer data와 card 데이터 조인\n",
    "\n",
    "data_21 = card_data_21.merge(age_col_21, on = '고객ID', how = 'left').dropna()\n",
    "data_22 = card_data_22.merge(age_col_22, on = '고객ID', how = 'left').dropna()\n",
    "data_23 = card_data_23.merge(age_col_23, on = '고객ID', how = 'left').dropna()"
   ]
  },
  {
   "cell_type": "markdown",
   "metadata": {},
   "source": [
    "- 함수화가 가능한가?"
   ]
  },
  {
   "cell_type": "code",
   "execution_count": 34,
   "metadata": {},
   "outputs": [],
   "source": [
    "# 데이터 리스트화 하기\n",
    "\n",
    "data_list = [data_21, data_22, data_23]"
   ]
  },
  {
   "cell_type": "code",
   "execution_count": 35,
   "metadata": {},
   "outputs": [
    {
     "name": "stdout",
     "output_type": "stream",
     "text": [
      "Saved card_base_2021.csv\n",
      "Saved card_base_2022.csv\n",
      "Saved card_base_2023.csv\n"
     ]
    }
   ],
   "source": [
    "# 데이터 csv로 내보내기\n",
    "\n",
    "\n",
    "file_names_merged = [\n",
    "    \"card_base_2021.csv\",\n",
    "    \"card_base_2022.csv\",\n",
    "    \"card_base_2023.csv\"\n",
    "]\n",
    "\n",
    "for df, name in zip(data_list, file_names_merged):\n",
    "    df.to_csv(f\"sampled_data/{name}\", index = False)\n",
    "    print(f\"Saved {name}\")"
   ]
  },
  {
   "cell_type": "markdown",
   "metadata": {},
   "source": [
    "### 모집단과 표본집단의 비율 차이 확인 - 시각화를 위주로"
   ]
  },
  {
   "cell_type": "code",
   "execution_count": 36,
   "metadata": {},
   "outputs": [],
   "source": [
    "def make_pie_chart(df_list):\n",
    "\n",
    "    fig, ax = plt.subplots(1,len(df_list),figsize = (15,5))\n",
    "\n",
    "    explode = (0,0,0.1,0,0.1,0)\n",
    "\n",
    "    for i, df in enumerate(df_list):\n",
    "        age_counts = df['연령대'].value_counts()\n",
    "        labels = age_counts.index.tolist()\n",
    "        sizes = age_counts.values\n",
    "\n",
    "        ax[i].pie(sizes,\n",
    "           labels = labels,\n",
    "           explode=explode,\n",
    "           autopct = '%1.1f%%',\n",
    "           shadow = True, startangle= 90)\n",
    "        ax[i].set_title(f\"{2021 + i} age piechart\")\n",
    "\n",
    "    plt.show()"
   ]
  },
  {
   "cell_type": "code",
   "execution_count": 37,
   "metadata": {},
   "outputs": [
    {
     "name": "stderr",
     "output_type": "stream",
     "text": [
      "c:\\Users\\campus3S031\\Desktop\\iMBank\\iM_DiGital_Banker_academy\\venv\\Lib\\site-packages\\IPython\\core\\pylabtools.py:170: UserWarning: Glyph 45824 (\\N{HANGUL SYLLABLE DAE}) missing from font(s) DejaVu Sans.\n",
      "  fig.canvas.print_figure(bytes_io, **kw)\n",
      "c:\\Users\\campus3S031\\Desktop\\iMBank\\iM_DiGital_Banker_academy\\venv\\Lib\\site-packages\\IPython\\core\\pylabtools.py:170: UserWarning: Glyph 51060 (\\N{HANGUL SYLLABLE I}) missing from font(s) DejaVu Sans.\n",
      "  fig.canvas.print_figure(bytes_io, **kw)\n",
      "c:\\Users\\campus3S031\\Desktop\\iMBank\\iM_DiGital_Banker_academy\\venv\\Lib\\site-packages\\IPython\\core\\pylabtools.py:170: UserWarning: Glyph 49345 (\\N{HANGUL SYLLABLE SANG}) missing from font(s) DejaVu Sans.\n",
      "  fig.canvas.print_figure(bytes_io, **kw)\n",
      "c:\\Users\\campus3S031\\Desktop\\iMBank\\iM_DiGital_Banker_academy\\venv\\Lib\\site-packages\\IPython\\core\\pylabtools.py:170: UserWarning: Glyph 48120 (\\N{HANGUL SYLLABLE MI}) missing from font(s) DejaVu Sans.\n",
      "  fig.canvas.print_figure(bytes_io, **kw)\n",
      "c:\\Users\\campus3S031\\Desktop\\iMBank\\iM_DiGital_Banker_academy\\venv\\Lib\\site-packages\\IPython\\core\\pylabtools.py:170: UserWarning: Glyph 47564 (\\N{HANGUL SYLLABLE MAN}) missing from font(s) DejaVu Sans.\n",
      "  fig.canvas.print_figure(bytes_io, **kw)\n"
     ]
    },
    {
     "data": {
      "image/png": "[encoded data removed]",
      "text/plain": [
       "<Figure size 1500x500 with 3 Axes>"
      ]
     },
     "metadata": {},
     "output_type": "display_data"
    }
   ],
   "source": [
    "make_pie_chart(data_list)"
   ]
  },
  {
   "cell_type": "markdown",
   "metadata": {},
   "source": [
    "# 한식 대 서양음식"
   ]
  },
  {
   "cell_type": "code",
   "execution_count": 44,
   "metadata": {},
   "outputs": [
    {
     "data": {
      "text/html": [
       "<div>\n",
       "<style scoped>\n",
       "    .dataframe tbody tr th:only-of-type {\n",
       "        vertical-align: middle;\n",
       "    }\n",
       "\n",
       "    .dataframe tbody tr th {\n",
       "        vertical-align: top;\n",
       "    }\n",
       "\n",
       "    .dataframe thead th {\n",
       "        text-align: right;\n",
       "    }\n",
       "</style>\n",
       "<table border=\"1\" class=\"dataframe\">\n",
       "  <thead>\n",
       "    <tr style=\"text-align: right;\">\n",
       "      <th></th>\n",
       "      <th>거래년월</th>\n",
       "      <th>고객ID</th>\n",
       "      <th>가맹점업종명</th>\n",
       "      <th>가맹점_광역시도</th>\n",
       "      <th>가맹점_시군구</th>\n",
       "      <th>승인건수</th>\n",
       "      <th>승인금액</th>\n",
       "    </tr>\n",
       "  </thead>\n",
       "  <tbody>\n",
       "    <tr>\n",
       "      <th>0</th>\n",
       "      <td>202112</td>\n",
       "      <td>4080934272</td>\n",
       "      <td>일반한식</td>\n",
       "      <td>경상북도</td>\n",
       "      <td>경주시</td>\n",
       "      <td>5번이하</td>\n",
       "      <td>20000</td>\n",
       "    </tr>\n",
       "    <tr>\n",
       "      <th>1</th>\n",
       "      <td>202112</td>\n",
       "      <td>4116127380</td>\n",
       "      <td>일반한식</td>\n",
       "      <td>경상북도</td>\n",
       "      <td>경주시</td>\n",
       "      <td>5번이하</td>\n",
       "      <td>20000</td>\n",
       "    </tr>\n",
       "    <tr>\n",
       "      <th>2</th>\n",
       "      <td>202112</td>\n",
       "      <td>2914424833</td>\n",
       "      <td>일반한식</td>\n",
       "      <td>경상북도</td>\n",
       "      <td>경주시</td>\n",
       "      <td>5번이하</td>\n",
       "      <td>20000</td>\n",
       "    </tr>\n",
       "  </tbody>\n",
       "</table>\n",
       "</div>"
      ],
      "text/plain": [
       "     거래년월        고객ID 가맹점업종명 가맹점_광역시도 가맹점_시군구  승인건수   승인금액\n",
       "0  202112  4080934272   일반한식     경상북도     경주시  5번이하  20000\n",
       "1  202112  4116127380   일반한식     경상북도     경주시  5번이하  20000\n",
       "2  202112  2914424833   일반한식     경상북도     경주시  5번이하  20000"
      ]
     },
     "execution_count": 44,
     "metadata": {},
     "output_type": "execute_result"
    }
   ],
   "source": [
    "datasets['data_1'].head(3)"
   ]
  },
  {
   "cell_type": "code",
   "execution_count": 43,
   "metadata": {},
   "outputs": [
    {
     "name": "stdout",
     "output_type": "stream",
     "text": [
      "가맹점업종명\n",
      "일반한식    8751749\n",
      "Name: count, dtype: int64\n",
      "가맹점업종명\n",
      "서양음식    4763634\n",
      "Name: count, dtype: int64\n"
     ]
    }
   ],
   "source": [
    "print(datasets['data_1']['가맹점업종명'][datasets['data_1']['가맹점업종명'] == '일반한식'].value_counts())\n",
    "print(datasets['data_1']['가맹점업종명'][datasets['data_1']['가맹점업종명'] == '서양음식'].value_counts())"
   ]
  },
  {
   "cell_type": "code",
   "execution_count": 46,
   "metadata": {},
   "outputs": [
    {
     "name": "stdout",
     "output_type": "stream",
     "text": [
      "가맹점업종명\n",
      "일반한식    134932\n",
      "Name: count, dtype: int64\n",
      "가맹점업종명\n",
      "서양음식    331545\n",
      "Name: count, dtype: int64\n"
     ]
    }
   ],
   "source": [
    "print(datasets['data_1']['가맹점업종명'][datasets['data_1']['가맹점_광역시도'] == '서울특별시'][datasets['data_1']['가맹점업종명'] == '일반한식'].value_counts())\n",
    "print(datasets['data_1']['가맹점업종명'][datasets['data_1']['가맹점_광역시도'] == '서울특별시'][datasets['data_1']['가맹점업종명'] == '서양음식'].value_counts())"
   ]
  }
 ],
 "metadata": {
  "kernelspec": {
   "display_name": "venv",
   "language": "python",
   "name": "python3"
  },
  "language_info": {
   "codemirror_mode": {
    "name": "ipython",
    "version": 3
   },
   "file_extension": ".py",
   "mimetype": "text/x-python",
   "name": "python",
   "nbconvert_exporter": "python",
   "pygments_lexer": "ipython3",
   "version": "3.12.7"
  }
 },
 "nbformat": 4,
 "nbformat_minor": 2
}
