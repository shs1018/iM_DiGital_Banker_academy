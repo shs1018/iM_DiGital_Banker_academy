{
 "cells": [
  {
   "cell_type": "code",
   "execution_count": 1,
   "metadata": {},
   "outputs": [],
   "source": [
    "import pandas as pd\n",
    "import numpy as np"
   ]
  },
  {
   "cell_type": "code",
   "execution_count": 2,
   "metadata": {},
   "outputs": [],
   "source": [
    "# 한글 패치 진행\n",
    "\n",
    "import matplotlib.pyplot as plt\n",
    "plt.rcParams['font.family'] ='Malgun Gothic'\n",
    "plt.rcParams['axes.unicode_minus'] =False"
   ]
  },
  {
   "cell_type": "code",
   "execution_count": 3,
   "metadata": {},
   "outputs": [
    {
     "name": "stdout",
     "output_type": "stream",
     "text": [
      "data input complete! : iMBANK_CARD_DATA_2021(K-DigitalTraining).csv as data_1\n",
      "data input complete! : iMBANK_CARD_DATA_2022(K-DigitalTraining).csv as data_2\n",
      "data input complete! : iMBANK_CARD_DATA_2023(K-DigitalTraining).csv as data_3\n",
      "data input complete! : iMBANK_CUSTOMER_DATA_2021(K-DigitalTraining).csv as data_4\n",
      "data input complete! : iMBANK_CUSTOMER_DATA_2022(K-DigitalTraining).csv as data_5\n",
      "data input complete! : iMBANK_CUSTOMER_DATA_2023(K-DigitalTraining).csv as data_6\n",
      "All data read complete!\n"
     ]
    }
   ],
   "source": [
    "DATA_PATH = 'C:/Users/campus3S031/Desktop/iM뱅크 프로젝트용 데이터/raw_data/'\n",
    "csv_names = [\n",
    "    'iMBANK_CARD_DATA_2021(K-DigitalTraining).csv', \n",
    "    'iMBANK_CARD_DATA_2022(K-DigitalTraining).csv', \n",
    "    'iMBANK_CARD_DATA_2023(K-DigitalTraining).csv', \n",
    "    'iMBANK_CUSTOMER_DATA_2021(K-DigitalTraining).csv', \n",
    "    'iMBANK_CUSTOMER_DATA_2022(K-DigitalTraining).csv', \n",
    "    'iMBANK_CUSTOMER_DATA_2023(K-DigitalTraining).csv'\n",
    "    ]\n",
    "datasets = {}\n",
    "def read_data(csv_names):\n",
    "    for i in range(len(csv_names)):\n",
    "        datasets[f\"data_{i+1}\"] = pd.read_csv(f\"{DATA_PATH}{csv_names[i]}\", encoding='cp949')\n",
    "\n",
    "        print(f'data input complete! : {csv_names[i]} as data_{i+1}')\n",
    "    print('All data read complete!')\n",
    "\n",
    "read_data(csv_names)"
   ]
  },
  {
   "cell_type": "markdown",
   "metadata": {},
   "source": [
    "## 필터링\n",
    "- 가맹점, 자택 모두 수도권인 사람들의 카드 이용 데이터만 뽑아와야 한다."
   ]
  },
  {
   "cell_type": "code",
   "execution_count": 5,
   "metadata": {},
   "outputs": [
    {
     "name": "stdout",
     "output_type": "stream",
     "text": [
      "(12567630, 7) (13083923, 7) (13553996, 7)\n"
     ]
    }
   ],
   "source": [
    "# raw_card data 에서 서울/경기 결제 건수만\n",
    "\n",
    "# 수도권(서울,경기,인천) 데이터만 필터링\n",
    "capital = ['서울특별시', '경기도', '인천광역시']\n",
    "\n",
    "dat_1 = datasets['data_1']\n",
    "dat_1 = pd.DataFrame(dat_1[dat_1['가맹점_광역시도'].isin(capital)])\n",
    "\n",
    "dat_2 = datasets['data_2']\n",
    "dat_2 = pd.DataFrame(dat_2[dat_2['가맹점_광역시도'].isin(capital)])\n",
    "\n",
    "dat_3 = datasets['data_3']\n",
    "dat_3 = pd.DataFrame(dat_3[dat_3['가맹점_광역시도'].isin(capital)])\n",
    "\n",
    "print(dat_1.shape, dat_2.shape, dat_3.shape)\n"
   ]
  },
  {
   "cell_type": "code",
   "execution_count": 6,
   "metadata": {},
   "outputs": [],
   "source": [
    "# 고객 ID로 그룹화 및 필요한 칼럼의 첫 번쨰 값(.first())만 빼오기\n",
    "\n",
    "age_col_21 = datasets['data_4'].groupby('고객ID')[['연령대', '성별', '자택_시도', '자택_시군구']].first().reset_index()\n",
    "age_col_22 = datasets['data_5'].groupby('고객ID')[['연령대', '성별', '자택_시도', '자택_시군구']].first().reset_index()\n",
    "age_col_23 = datasets['data_6'].groupby('고객ID')[['연령대', '성별', '자택_시도', '자택_시군구']].first().reset_index()"
   ]
  },
  {
   "cell_type": "code",
   "execution_count": 7,
   "metadata": {},
   "outputs": [],
   "source": [
    "# merge 진행 -> 그룹화된 customer data와 card 데이터 조인\n",
    "\n",
    "data_21 = dat_1.merge(age_col_21, on = '고객ID', how = 'inner')\n",
    "data_22 = dat_2.merge(age_col_22, on = '고객ID', how = 'inner')\n",
    "data_23 = dat_3.merge(age_col_23, on = '고객ID', how = 'inner')"
   ]
  },
  {
   "cell_type": "code",
   "execution_count": 8,
   "metadata": {},
   "outputs": [],
   "source": [
    "dat_21 = pd.DataFrame(data_21[data_21['자택_시도'].isin(capital)])\n",
    "dat_22 = pd.DataFrame(data_22[data_22['자택_시도'].isin(capital)])\n",
    "dat_23 = pd.DataFrame(data_23[data_23['자택_시도'].isin(capital)])"
   ]
  },
  {
   "cell_type": "code",
   "execution_count": 9,
   "metadata": {},
   "outputs": [
    {
     "name": "stdout",
     "output_type": "stream",
     "text": [
      "(688552, 11) (695437, 11) (739861, 11)\n"
     ]
    }
   ],
   "source": [
    "print(dat_21.shape, dat_22.shape, dat_23.shape)"
   ]
  },
  {
   "cell_type": "code",
   "execution_count": 10,
   "metadata": {},
   "outputs": [
    {
     "data": {
      "text/plain": [
       "\"\\ndata_21.to_csv('sampled_data/data_21_full.csv', index = False)\\ndata_22.to_csv('sampled_data/data_22_full.csv', index = False)\\ndata_23.to_csv('sampled_data/data_23_full.csv', index = False)\\n\""
      ]
     },
     "execution_count": 10,
     "metadata": {},
     "output_type": "execute_result"
    }
   ],
   "source": [
    "'''\n",
    "data_21.to_csv('sampled_data/data_21_full.csv', index = False)\n",
    "data_22.to_csv('sampled_data/data_22_full.csv', index = False)\n",
    "data_23.to_csv('sampled_data/data_23_full.csv', index = False)\n",
    "'''"
   ]
  },
  {
   "cell_type": "markdown",
   "metadata": {},
   "source": [
    "# 데이터 전처리 진행\n",
    "\n"
   ]
  },
  {
   "cell_type": "code",
   "execution_count": 11,
   "metadata": {},
   "outputs": [
    {
     "data": {
      "text/plain": [
       "\"\\ndata_21 = pd.read_csv('sampled_data/data_21.csv')\\ndata_22 = pd.read_csv('sampled_data/data_22.csv')\\ndata_23 = pd.read_csv('sampled_data/data_23.csv')\\n\""
      ]
     },
     "execution_count": 11,
     "metadata": {},
     "output_type": "execute_result"
    }
   ],
   "source": [
    "# 터졌을 경우 실행할 것 \n",
    "'''\n",
    "data_21 = pd.read_csv('sampled_data/data_21.csv')\n",
    "data_22 = pd.read_csv('sampled_data/data_22.csv')\n",
    "data_23 = pd.read_csv('sampled_data/data_23.csv')\n",
    "'''"
   ]
  },
  {
   "cell_type": "code",
   "execution_count": 12,
   "metadata": {},
   "outputs": [
    {
     "name": "stdout",
     "output_type": "stream",
     "text": [
      "<class 'pandas.core.frame.DataFrame'>\n",
      "Index: 688552 entries, 1 to 12327313\n",
      "Data columns (total 11 columns):\n",
      " #   Column    Non-Null Count   Dtype \n",
      "---  ------    --------------   ----- \n",
      " 0   거래년월      688552 non-null  int64 \n",
      " 1   고객ID      688552 non-null  int64 \n",
      " 2   가맹점업종명    688552 non-null  object\n",
      " 3   가맹점_광역시도  688552 non-null  object\n",
      " 4   가맹점_시군구   688552 non-null  object\n",
      " 5   승인건수      688552 non-null  object\n",
      " 6   승인금액      688552 non-null  int64 \n",
      " 7   연령대       688552 non-null  object\n",
      " 8   성별        688552 non-null  object\n",
      " 9   자택_시도     688552 non-null  object\n",
      " 10  자택_시군구    688552 non-null  object\n",
      "dtypes: int64(3), object(8)\n",
      "memory usage: 63.0+ MB\n"
     ]
    }
   ],
   "source": [
    "dat_21.info()"
   ]
  },
  {
   "cell_type": "code",
   "execution_count": 13,
   "metadata": {},
   "outputs": [
    {
     "name": "stderr",
     "output_type": "stream",
     "text": [
      "C:\\Users\\campus3S031\\AppData\\Local\\Temp\\ipykernel_80796\\3022468831.py:13: FutureWarning: Downcasting behavior in `replace` is deprecated and will be removed in a future version. To retain the old behavior, explicitly call `result.infer_objects(copy=False)`. To opt-in to the future behavior, set `pd.set_option('future.no_silent_downcasting', True)`\n",
      "  df[f'{colname}_수치화'] = df[f'{colname}'].replace(map)\n"
     ]
    },
    {
     "name": "stdout",
     "output_type": "stream",
     "text": [
      "수치화 완료\n"
     ]
    },
    {
     "name": "stderr",
     "output_type": "stream",
     "text": [
      "C:\\Users\\campus3S031\\AppData\\Local\\Temp\\ipykernel_80796\\3022468831.py:13: FutureWarning: Downcasting behavior in `replace` is deprecated and will be removed in a future version. To retain the old behavior, explicitly call `result.infer_objects(copy=False)`. To opt-in to the future behavior, set `pd.set_option('future.no_silent_downcasting', True)`\n",
      "  df[f'{colname}_수치화'] = df[f'{colname}'].replace(map)\n"
     ]
    },
    {
     "name": "stdout",
     "output_type": "stream",
     "text": [
      "수치화 완료\n",
      "수치화 완료\n"
     ]
    },
    {
     "name": "stderr",
     "output_type": "stream",
     "text": [
      "C:\\Users\\campus3S031\\AppData\\Local\\Temp\\ipykernel_80796\\3022468831.py:13: FutureWarning: Downcasting behavior in `replace` is deprecated and will be removed in a future version. To retain the old behavior, explicitly call `result.infer_objects(copy=False)`. To opt-in to the future behavior, set `pd.set_option('future.no_silent_downcasting', True)`\n",
      "  df[f'{colname}_수치화'] = df[f'{colname}'].replace(map)\n"
     ]
    }
   ],
   "source": [
    "# 승인건수 수치화\n",
    "# 현재 승인건수는 구간변수 형태로 범주화 되어 있어서 처리해주어야 한다. \n",
    "\n",
    "mapping = {\n",
    "    '5번이하': 1,\n",
    "    '5번초과 10번이하': 2,\n",
    "    '10번초과 15번이하': 3,\n",
    "    '15번초과 20번이하': 4,\n",
    "    '20번 초과': 5\n",
    "}\n",
    "\n",
    "# 특정 칼럼을 수치화 해주는 함수 - 쓰려면 매핑 수정 필수적!!\n",
    "def cartegory_to_int_columns(df, colname, map = mapping):\n",
    "    df[f'{colname}_수치화'] = df[f'{colname}'].replace(map)\n",
    "    print('수치화 완료')\n",
    "\n",
    "cartegory_to_int_columns(dat_21, '승인건수')\n",
    "cartegory_to_int_columns(dat_22, '승인건수')\n",
    "cartegory_to_int_columns(dat_23, '승인건수')"
   ]
  },
  {
   "cell_type": "code",
   "execution_count": 14,
   "metadata": {},
   "outputs": [
    {
     "name": "stdout",
     "output_type": "stream",
     "text": [
      "거래년월의 타입은: datetime64[ns]\n",
      "거래년월_분기 생성됨!\n",
      "거래년월의 타입은: datetime64[ns]\n",
      "거래년월_분기 생성됨!\n",
      "거래년월의 타입은: datetime64[ns]\n",
      "거래년월_분기 생성됨!\n"
     ]
    }
   ],
   "source": [
    "# Datetime으로 만들어주는 코드\n",
    "\n",
    "def datetime_quater(df, colname):\n",
    "\n",
    "    for i in colname:\n",
    "        df[i] = pd.to_datetime(df[i].astype(int).astype(str), format = '%Y%m')\n",
    "        df[f'{i}_분기'] = df[i].dt.quarter\n",
    "        print(f'{i}의 타입은: {df[i].dtype}')\n",
    "        print(f'{i}_분기 생성됨!')\n",
    "\n",
    "datetime_quater(dat_21, ['거래년월'])\n",
    "datetime_quater(dat_22, ['거래년월'])\n",
    "datetime_quater(dat_23, ['거래년월'])"
   ]
  },
  {
   "cell_type": "code",
   "execution_count": 15,
   "metadata": {},
   "outputs": [
    {
     "data": {
      "text/plain": [
       "'\\nfrom datetime import datetime\\n\\n\\ndata_21[\\'거래월\\'] = data_21[\\'거래년월\\'].dt.strftime(\"%b\").str.upper()  \\ndata_22[\\'거래월\\'] = data_22[\\'거래년월\\'].dt.strftime(\"%b\").str.upper() \\ndata_23[\\'거래월\\'] = data_23[\\'거래년월\\'].dt.strftime(\"%b\").str.upper()  \\n'"
      ]
     },
     "execution_count": 15,
     "metadata": {},
     "output_type": "execute_result"
    }
   ],
   "source": [
    "'''\n",
    "from datetime import datetime\n",
    "\n",
    "\n",
    "data_21['거래월'] = data_21['거래년월'].dt.strftime(\"%b\").str.upper()  \n",
    "data_22['거래월'] = data_22['거래년월'].dt.strftime(\"%b\").str.upper() \n",
    "data_23['거래월'] = data_23['거래년월'].dt.strftime(\"%b\").str.upper()  \n",
    "'''"
   ]
  },
  {
   "cell_type": "code",
   "execution_count": 16,
   "metadata": {},
   "outputs": [
    {
     "data": {
      "text/plain": [
       "\"\\ndat_21.to_csv('sampled_data/rawdata_21.csv', index = False)\\ndat_22.to_csv('sampled_data/rawdata_22.csv', index = False)\\ndat_23.to_csv('sampled_data/rawdata_23.csv', index = False)\\n\""
      ]
     },
     "execution_count": 16,
     "metadata": {},
     "output_type": "execute_result"
    }
   ],
   "source": [
    "'''\n",
    "dat_21.to_csv('sampled_data/rawdata_21.csv', index = False)\n",
    "dat_22.to_csv('sampled_data/rawdata_22.csv', index = False)\n",
    "dat_23.to_csv('sampled_data/rawdata_23.csv', index = False)\n",
    "'''"
   ]
  },
  {
   "cell_type": "markdown",
   "metadata": {},
   "source": [
    "## 데이터 병합\n",
    "- 구분 가능하도록 연도 열 추가"
   ]
  },
  {
   "cell_type": "code",
   "execution_count": 17,
   "metadata": {},
   "outputs": [],
   "source": [
    "dat_21['년도'] = 2021\n",
    "dat_22['년도'] = 2022\n",
    "dat_23['년도'] = 2023\n",
    "\n",
    "total_data = pd.concat([dat_21,dat_22,dat_23], axis = 0)"
   ]
  },
  {
   "cell_type": "code",
   "execution_count": 18,
   "metadata": {},
   "outputs": [
    {
     "name": "stdout",
     "output_type": "stream",
     "text": [
      "<class 'pandas.core.frame.DataFrame'>\n",
      "Index: 2123850 entries, 1 to 13215188\n",
      "Data columns (total 14 columns):\n",
      " #   Column    Dtype         \n",
      "---  ------    -----         \n",
      " 0   거래년월      datetime64[ns]\n",
      " 1   고객ID      int64         \n",
      " 2   가맹점업종명    object        \n",
      " 3   가맹점_광역시도  object        \n",
      " 4   가맹점_시군구   object        \n",
      " 5   승인건수      object        \n",
      " 6   승인금액      int64         \n",
      " 7   연령대       object        \n",
      " 8   성별        object        \n",
      " 9   자택_시도     object        \n",
      " 10  자택_시군구    object        \n",
      " 11  승인건수_수치화  int64         \n",
      " 12  거래년월_분기   int32         \n",
      " 13  년도        int64         \n",
      "dtypes: datetime64[ns](1), int32(1), int64(4), object(8)\n",
      "memory usage: 235.0+ MB\n"
     ]
    }
   ],
   "source": [
    "total_data.info()"
   ]
  },
  {
   "cell_type": "markdown",
   "metadata": {},
   "source": [
    "## 업종별 분류 추가\n",
    "- 5개의 대분류\n",
    "- 11개의 중분류\n",
    "- 하지만 대분류는 결국 안 쓰는 것으로 변경하면서 주석 처리"
   ]
  },
  {
   "cell_type": "code",
   "execution_count": 19,
   "metadata": {},
   "outputs": [
    {
     "data": {
      "text/plain": [
       "\"\\n# total 기준 범주화 삽입\\n\\n\\nfood_related = [\\n    '기타건강식품', '기타음료식품', '서양음식', '정육점', '제과점', '주점', '유흥주점', '단란주점', '일반한식', '일식·회집', '스넥', '중국식', '칵테일바', '편 의 점',\\n    '농,축협직영매장', '농·축·수산품', '농축수산가공품', \\n]\\n\\nretail_goods = [\\n    '가 방', '가전제품', '기타 사무용품', '기타가구', '기타의류', '기타잡화', '기타전기제품', '내의판매', '당구장', '대형할인점', \\n    '목재·석재·철물', '문구용품', '세탁소', '소프트웨어', '슈퍼마켓', '스포츠·레져용품', '스포츠의류', '신 발', '안경', '액세서리', '의료용품', '일반가구', \\n    '일반서적', '자동차부품', '자동차정비', '정수기', '정장', '종합용역', '주방용구', '주방용식기', '출판 및 인쇄물', '치과의원', '컴퓨터', '통신기기', '홍삼제품', \\n    '화원', '화장품', 'DP&E', '기계공구', '기념품점', '사무용 OA기기', '이용원', '자동차시트·타이어', '침구·수예점', '미곡상', '비료,사료,종자', '아동의류', \\n    '화방·표구점', '귀금속', '민예·공예품', '면 세 점', '인테리어전문', '조명기구', '보일러·펌프·샷시', '건축용 요업제품', '페인트', '음반영상물', '농기계', \\n    '시 계', '단체복', '제 화', '농협하나로클럽'\\n]\\n\\nservice = [\\n    '1급 호텔', '가례서비스업', '골프경기장', '골프연습장', '공공요금대행서비스/소득공제대상', '공공요금대행서비스/소득공제비대상', '기타대인서비스', '기타레져업소', \\n    '동물병원', '레져업소', '미용원', '미용재료', '보습학원', '사무서비스', '영화관', '외국어학원', '조세서비스', '종합병원', '통신서비스/소득공제비대상', '특급호텔', \\n    '피부미용실', '학원', '헬스클럽', '예·체능계학원', '기능학원', '스크린골프', '한방병원', '2급 호텔', '치과병원', '혼례서비스업', '안마/스포츠마사지', \\n    '종합레져타운', '기타숙박업', '기타의료기관 및 기타의료기기', '독서실', '병 원(응급실운영)', '보관및 창고업', '비씨카드 정산용(할인)', '기타 교육기관', \\n    '학습지교육', '문화취미기타', '관광여행', '수족관', '초중고교육기관', '위탁급식업', '한 의 원', '콘도', '상품권전문판매', '부동산중개·임대', \\n    '노 래 방', '이동통신요금', '인터넷Mall', '인터넷종합Mall', '일반(통신판매)', '통신판매업1', '티켓', '맞춤복점', '수 영 장', '약 국', '연 쇄 점', '완구점', \\n    '유아원', '의 원', 'CATV홈쇼핑', 'PG상품권', '가정용품수리', '건강진단', '골프용품 전문점', '구내매점(국가기관등)', '손해보험', 'CATV', '전자상거래상품권전문판매', \\n    '위성방송', '주류판매점', '애완동물', '비씨카드 정산용가맹점', '비영리/대상', '비영리/비대상', '사무·통신기기수리', '사우나', '상 품 권', '생명보험', '세차장', \\n    '주차장', '볼 링 장', '자사카드발행백화점', '전문서적', '전자상거래상품권'\\n]\\n\\ntransportation = [\\n    'E1가스충전소', 'GS가스충전소', 'GS주유소', 'SK가스충전소', 'SK주유소', '고속버스', '렌터카', '전기차충전소', '주유소', '철도', '택시', '항공사', \\n    '현대정유가스충전소', '화물운송', '쌍용S-OIL가스충전소', '여객선', 'LPG취급점', '현대정유(오일뱅크)', '쌍용S-OIL', '유류판매'\\n]\\n\\nothers = ['기타 전문점', '기타1', '기타건축자재', '기타용역서비스', '기타유통업', '업종미등록', '기타수리서비스', '기타4', '갈비전문점', '이륜차판매']\\n\""
      ]
     },
     "execution_count": 19,
     "metadata": {},
     "output_type": "execute_result"
    }
   ],
   "source": [
    "'''\n",
    "# total 기준 범주화 삽입\n",
    "\n",
    "\n",
    "food_related = [\n",
    "    '기타건강식품', '기타음료식품', '서양음식', '정육점', '제과점', '주점', '유흥주점', '단란주점', '일반한식', '일식·회집', '스넥', '중국식', '칵테일바', '편 의 점',\n",
    "    '농,축협직영매장', '농·축·수산품', '농축수산가공품', \n",
    "]\n",
    "\n",
    "retail_goods = [\n",
    "    '가 방', '가전제품', '기타 사무용품', '기타가구', '기타의류', '기타잡화', '기타전기제품', '내의판매', '당구장', '대형할인점', \n",
    "    '목재·석재·철물', '문구용품', '세탁소', '소프트웨어', '슈퍼마켓', '스포츠·레져용품', '스포츠의류', '신 발', '안경', '액세서리', '의료용품', '일반가구', \n",
    "    '일반서적', '자동차부품', '자동차정비', '정수기', '정장', '종합용역', '주방용구', '주방용식기', '출판 및 인쇄물', '치과의원', '컴퓨터', '통신기기', '홍삼제품', \n",
    "    '화원', '화장품', 'DP&E', '기계공구', '기념품점', '사무용 OA기기', '이용원', '자동차시트·타이어', '침구·수예점', '미곡상', '비료,사료,종자', '아동의류', \n",
    "    '화방·표구점', '귀금속', '민예·공예품', '면 세 점', '인테리어전문', '조명기구', '보일러·펌프·샷시', '건축용 요업제품', '페인트', '음반영상물', '농기계', \n",
    "    '시 계', '단체복', '제 화', '농협하나로클럽'\n",
    "]\n",
    "\n",
    "service = [\n",
    "    '1급 호텔', '가례서비스업', '골프경기장', '골프연습장', '공공요금대행서비스/소득공제대상', '공공요금대행서비스/소득공제비대상', '기타대인서비스', '기타레져업소', \n",
    "    '동물병원', '레져업소', '미용원', '미용재료', '보습학원', '사무서비스', '영화관', '외국어학원', '조세서비스', '종합병원', '통신서비스/소득공제비대상', '특급호텔', \n",
    "    '피부미용실', '학원', '헬스클럽', '예·체능계학원', '기능학원', '스크린골프', '한방병원', '2급 호텔', '치과병원', '혼례서비스업', '안마/스포츠마사지', \n",
    "    '종합레져타운', '기타숙박업', '기타의료기관 및 기타의료기기', '독서실', '병 원(응급실운영)', '보관및 창고업', '비씨카드 정산용(할인)', '기타 교육기관', \n",
    "    '학습지교육', '문화취미기타', '관광여행', '수족관', '초중고교육기관', '위탁급식업', '한 의 원', '콘도', '상품권전문판매', '부동산중개·임대', \n",
    "    '노 래 방', '이동통신요금', '인터넷Mall', '인터넷종합Mall', '일반(통신판매)', '통신판매업1', '티켓', '맞춤복점', '수 영 장', '약 국', '연 쇄 점', '완구점', \n",
    "    '유아원', '의 원', 'CATV홈쇼핑', 'PG상품권', '가정용품수리', '건강진단', '골프용품 전문점', '구내매점(국가기관등)', '손해보험', 'CATV', '전자상거래상품권전문판매', \n",
    "    '위성방송', '주류판매점', '애완동물', '비씨카드 정산용가맹점', '비영리/대상', '비영리/비대상', '사무·통신기기수리', '사우나', '상 품 권', '생명보험', '세차장', \n",
    "    '주차장', '볼 링 장', '자사카드발행백화점', '전문서적', '전자상거래상품권'\n",
    "]\n",
    "\n",
    "transportation = [\n",
    "    'E1가스충전소', 'GS가스충전소', 'GS주유소', 'SK가스충전소', 'SK주유소', '고속버스', '렌터카', '전기차충전소', '주유소', '철도', '택시', '항공사', \n",
    "    '현대정유가스충전소', '화물운송', '쌍용S-OIL가스충전소', '여객선', 'LPG취급점', '현대정유(오일뱅크)', '쌍용S-OIL', '유류판매'\n",
    "]\n",
    "\n",
    "others = ['기타 전문점', '기타1', '기타건축자재', '기타용역서비스', '기타유통업', '업종미등록', '기타수리서비스', '기타4', '갈비전문점', '이륜차판매']\n",
    "'''"
   ]
  },
  {
   "cell_type": "code",
   "execution_count": 20,
   "metadata": {},
   "outputs": [],
   "source": [
    "# 중분류\n",
    "\n",
    "food_related = [\n",
    "    '기타건강식품', '기타음료식품', '서양음식', '정육점', '제과점', '주점', '유흥주점', '단란주점', '일반한식', '일식·회집', '스넥', '중국식', '칵테일바', '편 의 점',\n",
    "    '농,축협직영매장', '농·축·수산품', '농축수산가공품',  '주류판매점'\n",
    "]\n",
    "\n",
    "retail = [\n",
    "    '가 방', '기타 사무용품', '기타잡화', '기타전기제품', '대형할인점', \n",
    "    '목재·석재·철물', '문구용품', '소프트웨어', '슈퍼마켓',\n",
    "    '자동차부품', '종합용역', '출판 및 인쇄물', '컴퓨터', '통신기기', '홍삼제품', \n",
    "    '화원', 'DP&E', '기계공구', '기념품점', '사무용 OA기기', '미곡상', '비료,사료,종자',  \n",
    "    '화방·표구점', '민예·공예품', '면 세 점', '인테리어전문', '조명기구', '보일러·펌프·샷시', '건축용 요업제품', '페인트', '음반영상물', '농기계', \n",
    "    '시 계', '단체복', '제 화', '농협하나로클럽','아동의류', '연 쇄 점', '완구점'\n",
    "]\n",
    "\n",
    "life = [\n",
    "    '가전제품', '기타가구', '기타의류', '신 발', '안경', '액세서리', '일반가구',\n",
    "    '일반서적', '내의판매', '세탁소', '화장품', '침구·수예점', '신 발', '안경', '귀금속','정수기', '정장',\n",
    "    '주방용구', '주방용식기'\n",
    "]\n",
    "\n",
    "med = [\n",
    "    '의료용품', '치과의원', '종합병원', '한방병원', '치과병원', '기타의료기관 및 기타의료기기','병 원(응급실운영)',\n",
    "    '한 의 원', '약 국',  '의 원', '건강진단', '동물병원'\n",
    "]\n",
    "\n",
    "online = [\n",
    "    '인터넷Mall', '인터넷종합Mall', 'CATV홈쇼핑','CATV'\n",
    "]\n",
    "\n",
    "education = [\n",
    "    '학원', '독서실', '기타 교육기관', '학습지교육', '초중고교육기관', '유아원', '기능학원', '예·체능계학원',\n",
    "    '외국어학원', '보습학원', '전문서적'\n",
    "]\n",
    "\n",
    "service = [\n",
    "    '가례서비스업', '공공요금대행서비스/소득공제대상', '공공요금대행서비스/소득공제비대상', '기타대인서비스',\n",
    "    '미용원', '미용재료', '사무서비스', '조세서비스', '통신서비스/소득공제비대상',\n",
    "    '피부미용실', '혼례서비스업', '애완동물',\n",
    "    '기타숙박업', '보관및 창고업', '비씨카드 정산용(할인)',\n",
    "    '위탁급식업', '상품권전문판매', '부동산중개·임대', \n",
    "    '이동통신요금', '일반(통신판매)', '통신판매업1', '티켓', '맞춤복점',\n",
    "    'PG상품권', '가정용품수리', '구내매점(국가기관등)', '손해보험', '전자상거래상품권전문판매', \n",
    "    '위성방송', '비씨카드 정산용가맹점', '비영리/대상', '비영리/비대상', '사무·통신기기수리', '상 품 권', '생명보험',\n",
    "    '자사카드발행백화점', '전자상거래상품권', '이용원'\n",
    "]\n",
    "\n",
    "lesuire = [\n",
    "    '골프경기장', '골프연습장', '스크린골프','당구장','스포츠·레져용품', '스포츠의류', '기타레져업소', '레져업소',\n",
    "    '영화관', '헬스클럽', '종합레져타운', '수족관', '콘도', '안마/스포츠마사지', '관광여행', '노 래 방',\n",
    "    '문화취미기타', '수 영 장', '골프용품 전문점', '사우나', '볼 링 장', '1급 호텔', '특급호텔', '2급 호텔',\n",
    "]\n",
    "\n",
    "transportation = [\n",
    "    'E1가스충전소', 'GS가스충전소', 'GS주유소', 'SK가스충전소', 'SK주유소', '고속버스', '렌터카', '전기차충전소', '주유소', '철도', '택시', '항공사', \n",
    "    '현대정유가스충전소', '화물운송', '쌍용S-OIL가스충전소', '여객선', 'LPG취급점', '현대정유(오일뱅크)', '쌍용S-OIL', '유류판매', '자동차시트·타이어',\n",
    "    '주차장', '세차장',  '자동차정비'\n",
    "]\n",
    "\n",
    "others = ['기타 전문점', '기타1', '기타건축자재', '기타용역서비스', '기타유통업', '업종미등록', '기타수리서비스', '기타4', '갈비전문점', '이륜차판매']"
   ]
  },
  {
   "cell_type": "code",
   "execution_count": 21,
   "metadata": {},
   "outputs": [
    {
     "data": {
      "text/plain": [
       "\"\\n# 대분류\\n\\ncategorizing_list = [food_related, retail_goods, service, transportation, others]\\ncategorizing_list_name = ['식생활', '소매_및_생활용품', '서비스_및_여가','교통_및_물류', '기타']\\n\\n# 매핑 딕셔너리 생성\\nmapping_dict = {}\\nfor i, clist in enumerate(categorizing_list):\\n    for item in clist:\\n        mapping_dict[item] = categorizing_list_name[i]\\n\\ntotal_data['가맹점업종명_범주화'] = total_data['가맹점업종명'].map(mapping_dict).fillna('인터넷P/G')\\n\""
      ]
     },
     "execution_count": 21,
     "metadata": {},
     "output_type": "execute_result"
    }
   ],
   "source": [
    "'''\n",
    "# 대분류\n",
    "\n",
    "categorizing_list = [food_related, retail_goods, service, transportation, others]\n",
    "categorizing_list_name = ['식생활', '소매_및_생활용품', '서비스_및_여가','교통_및_물류', '기타']\n",
    "\n",
    "# 매핑 딕셔너리 생성\n",
    "mapping_dict = {}\n",
    "for i, clist in enumerate(categorizing_list):\n",
    "    for item in clist:\n",
    "        mapping_dict[item] = categorizing_list_name[i]\n",
    "\n",
    "total_data['가맹점업종명_범주화'] = total_data['가맹점업종명'].map(mapping_dict).fillna('인터넷P/G')\n",
    "'''\n"
   ]
  },
  {
   "cell_type": "code",
   "execution_count": 22,
   "metadata": {},
   "outputs": [],
   "source": [
    "# 중분류\n",
    "categorizing_list2 = [food_related, retail, life, med, online, education, service, lesuire, transportation, others]\n",
    "categorizing_list_name2 = ['식생활', '소매', '라이프스타일', '의료', '온라인쇼핑', '교육', '서비스', '여가','교통_및_물류', '기타']\n",
    "\n",
    "# 매핑 딕셔너리 생성\n",
    "mapping_dict2 = {}\n",
    "for i, clist in enumerate(categorizing_list2):\n",
    "    for item in clist:\n",
    "        mapping_dict2[item] = categorizing_list_name2[i]\n",
    "\n",
    "total_data['가맹점업종명_범주화_중분류'] = total_data['가맹점업종명'].map(mapping_dict2).fillna('인터넷P/G')"
   ]
  },
  {
   "cell_type": "markdown",
   "metadata": {},
   "source": []
  },
  {
   "cell_type": "code",
   "execution_count": 23,
   "metadata": {},
   "outputs": [
    {
     "ename": "ValueError",
     "evalue": "unconverted data remains when parsing with format \"%Y%m\": \"16800000000000\", at position 0. You might want to try:\n    - passing `format` if your strings have a consistent format;\n    - passing `format='ISO8601'` if your strings are all ISO8601 but not necessarily in exactly the same format;\n    - passing `format='mixed'`, and the format will be inferred for each element individually. You might want to use `dayfirst` alongside this.",
     "output_type": "error",
     "traceback": [
      "\u001b[1;31m---------------------------------------------------------------------------\u001b[0m",
      "\u001b[1;31mValueError\u001b[0m                                Traceback (most recent call last)",
      "Cell \u001b[1;32mIn[23], line 14\u001b[0m\n\u001b[0;32m     11\u001b[0m         \u001b[38;5;28mprint\u001b[39m(\u001b[38;5;124mf\u001b[39m\u001b[38;5;124m'\u001b[39m\u001b[38;5;132;01m{\u001b[39;00mi\u001b[38;5;132;01m}\u001b[39;00m\u001b[38;5;124m의 타입은: \u001b[39m\u001b[38;5;132;01m{\u001b[39;00mdf[i]\u001b[38;5;241m.\u001b[39mdtype\u001b[38;5;132;01m}\u001b[39;00m\u001b[38;5;124m'\u001b[39m)\n\u001b[0;32m     12\u001b[0m         \u001b[38;5;28mprint\u001b[39m(\u001b[38;5;124mf\u001b[39m\u001b[38;5;124m'\u001b[39m\u001b[38;5;132;01m{\u001b[39;00mi\u001b[38;5;132;01m}\u001b[39;00m\u001b[38;5;124m_분기 생성됨!\u001b[39m\u001b[38;5;124m'\u001b[39m)\n\u001b[1;32m---> 14\u001b[0m \u001b[43mdatetime_processor\u001b[49m\u001b[43m(\u001b[49m\u001b[43mtotal_data\u001b[49m\u001b[43m,\u001b[49m\u001b[43m \u001b[49m\u001b[43m[\u001b[49m\u001b[38;5;124;43m'\u001b[39;49m\u001b[38;5;124;43m거래년월\u001b[39;49m\u001b[38;5;124;43m'\u001b[39;49m\u001b[43m]\u001b[49m\u001b[43m)\u001b[49m\n",
      "Cell \u001b[1;32mIn[23], line 7\u001b[0m, in \u001b[0;36mdatetime_processor\u001b[1;34m(df, colname)\u001b[0m\n\u001b[0;32m      4\u001b[0m \u001b[38;5;28;01mdef\u001b[39;00m \u001b[38;5;21mdatetime_processor\u001b[39m(df, colname):\n\u001b[0;32m      6\u001b[0m     \u001b[38;5;28;01mfor\u001b[39;00m i \u001b[38;5;129;01min\u001b[39;00m colname:\n\u001b[1;32m----> 7\u001b[0m         df[i] \u001b[38;5;241m=\u001b[39m \u001b[43mpd\u001b[49m\u001b[38;5;241;43m.\u001b[39;49m\u001b[43mto_datetime\u001b[49m\u001b[43m(\u001b[49m\u001b[43mdf\u001b[49m\u001b[43m[\u001b[49m\u001b[43mi\u001b[49m\u001b[43m]\u001b[49m\u001b[38;5;241;43m.\u001b[39;49m\u001b[43mastype\u001b[49m\u001b[43m(\u001b[49m\u001b[38;5;28;43mint\u001b[39;49m\u001b[43m)\u001b[49m\u001b[38;5;241;43m.\u001b[39;49m\u001b[43mastype\u001b[49m\u001b[43m(\u001b[49m\u001b[38;5;28;43mstr\u001b[39;49m\u001b[43m)\u001b[49m\u001b[43m,\u001b[49m\u001b[43m \u001b[49m\u001b[38;5;28;43mformat\u001b[39;49m\u001b[43m \u001b[49m\u001b[38;5;241;43m=\u001b[39;49m\u001b[43m \u001b[49m\u001b[38;5;124;43m'\u001b[39;49m\u001b[38;5;124;43m%\u001b[39;49m\u001b[38;5;124;43mY\u001b[39;49m\u001b[38;5;124;43m%\u001b[39;49m\u001b[38;5;124;43mm\u001b[39;49m\u001b[38;5;124;43m'\u001b[39;49m\u001b[43m)\u001b[49m\n\u001b[0;32m      8\u001b[0m         df[\u001b[38;5;124mf\u001b[39m\u001b[38;5;124m'\u001b[39m\u001b[38;5;132;01m{\u001b[39;00mi\u001b[38;5;132;01m}\u001b[39;00m\u001b[38;5;124m_분기\u001b[39m\u001b[38;5;124m'\u001b[39m] \u001b[38;5;241m=\u001b[39m df[i]\u001b[38;5;241m.\u001b[39mdt\u001b[38;5;241m.\u001b[39mquarter\n\u001b[0;32m      9\u001b[0m         df[\u001b[38;5;124mf\u001b[39m\u001b[38;5;124m'\u001b[39m\u001b[38;5;132;01m{\u001b[39;00mi\u001b[38;5;132;01m}\u001b[39;00m\u001b[38;5;124m_월\u001b[39m\u001b[38;5;124m'\u001b[39m] \u001b[38;5;241m=\u001b[39m df[i]\u001b[38;5;241m.\u001b[39mdt\u001b[38;5;241m.\u001b[39mmonth\n",
      "File \u001b[1;32m~\\AppData\\Roaming\\Python\\Python312\\site-packages\\pandas\\core\\tools\\datetimes.py:1063\u001b[0m, in \u001b[0;36mto_datetime\u001b[1;34m(arg, errors, dayfirst, yearfirst, utc, format, exact, unit, infer_datetime_format, origin, cache)\u001b[0m\n\u001b[0;32m   1061\u001b[0m             result \u001b[38;5;241m=\u001b[39m arg\u001b[38;5;241m.\u001b[39mtz_localize(\u001b[38;5;124m\"\u001b[39m\u001b[38;5;124mutc\u001b[39m\u001b[38;5;124m\"\u001b[39m)\n\u001b[0;32m   1062\u001b[0m \u001b[38;5;28;01melif\u001b[39;00m \u001b[38;5;28misinstance\u001b[39m(arg, ABCSeries):\n\u001b[1;32m-> 1063\u001b[0m     cache_array \u001b[38;5;241m=\u001b[39m \u001b[43m_maybe_cache\u001b[49m\u001b[43m(\u001b[49m\u001b[43marg\u001b[49m\u001b[43m,\u001b[49m\u001b[43m \u001b[49m\u001b[38;5;28;43mformat\u001b[39;49m\u001b[43m,\u001b[49m\u001b[43m \u001b[49m\u001b[43mcache\u001b[49m\u001b[43m,\u001b[49m\u001b[43m \u001b[49m\u001b[43mconvert_listlike\u001b[49m\u001b[43m)\u001b[49m\n\u001b[0;32m   1064\u001b[0m     \u001b[38;5;28;01mif\u001b[39;00m \u001b[38;5;129;01mnot\u001b[39;00m cache_array\u001b[38;5;241m.\u001b[39mempty:\n\u001b[0;32m   1065\u001b[0m         result \u001b[38;5;241m=\u001b[39m arg\u001b[38;5;241m.\u001b[39mmap(cache_array)\n",
      "File \u001b[1;32m~\\AppData\\Roaming\\Python\\Python312\\site-packages\\pandas\\core\\tools\\datetimes.py:247\u001b[0m, in \u001b[0;36m_maybe_cache\u001b[1;34m(arg, format, cache, convert_listlike)\u001b[0m\n\u001b[0;32m    245\u001b[0m unique_dates \u001b[38;5;241m=\u001b[39m unique(arg)\n\u001b[0;32m    246\u001b[0m \u001b[38;5;28;01mif\u001b[39;00m \u001b[38;5;28mlen\u001b[39m(unique_dates) \u001b[38;5;241m<\u001b[39m \u001b[38;5;28mlen\u001b[39m(arg):\n\u001b[1;32m--> 247\u001b[0m     cache_dates \u001b[38;5;241m=\u001b[39m \u001b[43mconvert_listlike\u001b[49m\u001b[43m(\u001b[49m\u001b[43munique_dates\u001b[49m\u001b[43m,\u001b[49m\u001b[43m \u001b[49m\u001b[38;5;28;43mformat\u001b[39;49m\u001b[43m)\u001b[49m\n\u001b[0;32m    248\u001b[0m     \u001b[38;5;66;03m# GH#45319\u001b[39;00m\n\u001b[0;32m    249\u001b[0m     \u001b[38;5;28;01mtry\u001b[39;00m:\n",
      "File \u001b[1;32m~\\AppData\\Roaming\\Python\\Python312\\site-packages\\pandas\\core\\tools\\datetimes.py:433\u001b[0m, in \u001b[0;36m_convert_listlike_datetimes\u001b[1;34m(arg, format, name, utc, unit, errors, dayfirst, yearfirst, exact)\u001b[0m\n\u001b[0;32m    431\u001b[0m \u001b[38;5;66;03m# `format` could be inferred, or user didn't ask for mixed-format parsing.\u001b[39;00m\n\u001b[0;32m    432\u001b[0m \u001b[38;5;28;01mif\u001b[39;00m \u001b[38;5;28mformat\u001b[39m \u001b[38;5;129;01mis\u001b[39;00m \u001b[38;5;129;01mnot\u001b[39;00m \u001b[38;5;28;01mNone\u001b[39;00m \u001b[38;5;129;01mand\u001b[39;00m \u001b[38;5;28mformat\u001b[39m \u001b[38;5;241m!=\u001b[39m \u001b[38;5;124m\"\u001b[39m\u001b[38;5;124mmixed\u001b[39m\u001b[38;5;124m\"\u001b[39m:\n\u001b[1;32m--> 433\u001b[0m     \u001b[38;5;28;01mreturn\u001b[39;00m \u001b[43m_array_strptime_with_fallback\u001b[49m\u001b[43m(\u001b[49m\u001b[43marg\u001b[49m\u001b[43m,\u001b[49m\u001b[43m \u001b[49m\u001b[43mname\u001b[49m\u001b[43m,\u001b[49m\u001b[43m \u001b[49m\u001b[43mutc\u001b[49m\u001b[43m,\u001b[49m\u001b[43m \u001b[49m\u001b[38;5;28;43mformat\u001b[39;49m\u001b[43m,\u001b[49m\u001b[43m \u001b[49m\u001b[43mexact\u001b[49m\u001b[43m,\u001b[49m\u001b[43m \u001b[49m\u001b[43merrors\u001b[49m\u001b[43m)\u001b[49m\n\u001b[0;32m    435\u001b[0m result, tz_parsed \u001b[38;5;241m=\u001b[39m objects_to_datetime64(\n\u001b[0;32m    436\u001b[0m     arg,\n\u001b[0;32m    437\u001b[0m     dayfirst\u001b[38;5;241m=\u001b[39mdayfirst,\n\u001b[1;32m   (...)\u001b[0m\n\u001b[0;32m    441\u001b[0m     allow_object\u001b[38;5;241m=\u001b[39m\u001b[38;5;28;01mTrue\u001b[39;00m,\n\u001b[0;32m    442\u001b[0m )\n\u001b[0;32m    444\u001b[0m \u001b[38;5;28;01mif\u001b[39;00m tz_parsed \u001b[38;5;129;01mis\u001b[39;00m \u001b[38;5;129;01mnot\u001b[39;00m \u001b[38;5;28;01mNone\u001b[39;00m:\n\u001b[0;32m    445\u001b[0m     \u001b[38;5;66;03m# We can take a shortcut since the datetime64 numpy array\u001b[39;00m\n\u001b[0;32m    446\u001b[0m     \u001b[38;5;66;03m# is in UTC\u001b[39;00m\n",
      "File \u001b[1;32m~\\AppData\\Roaming\\Python\\Python312\\site-packages\\pandas\\core\\tools\\datetimes.py:467\u001b[0m, in \u001b[0;36m_array_strptime_with_fallback\u001b[1;34m(arg, name, utc, fmt, exact, errors)\u001b[0m\n\u001b[0;32m    456\u001b[0m \u001b[38;5;28;01mdef\u001b[39;00m \u001b[38;5;21m_array_strptime_with_fallback\u001b[39m(\n\u001b[0;32m    457\u001b[0m     arg,\n\u001b[0;32m    458\u001b[0m     name,\n\u001b[1;32m   (...)\u001b[0m\n\u001b[0;32m    462\u001b[0m     errors: \u001b[38;5;28mstr\u001b[39m,\n\u001b[0;32m    463\u001b[0m ) \u001b[38;5;241m-\u001b[39m\u001b[38;5;241m>\u001b[39m Index:\n\u001b[0;32m    464\u001b[0m \u001b[38;5;250m    \u001b[39m\u001b[38;5;124;03m\"\"\"\u001b[39;00m\n\u001b[0;32m    465\u001b[0m \u001b[38;5;124;03m    Call array_strptime, with fallback behavior depending on 'errors'.\u001b[39;00m\n\u001b[0;32m    466\u001b[0m \u001b[38;5;124;03m    \"\"\"\u001b[39;00m\n\u001b[1;32m--> 467\u001b[0m     result, tz_out \u001b[38;5;241m=\u001b[39m \u001b[43marray_strptime\u001b[49m\u001b[43m(\u001b[49m\u001b[43marg\u001b[49m\u001b[43m,\u001b[49m\u001b[43m \u001b[49m\u001b[43mfmt\u001b[49m\u001b[43m,\u001b[49m\u001b[43m \u001b[49m\u001b[43mexact\u001b[49m\u001b[38;5;241;43m=\u001b[39;49m\u001b[43mexact\u001b[49m\u001b[43m,\u001b[49m\u001b[43m \u001b[49m\u001b[43merrors\u001b[49m\u001b[38;5;241;43m=\u001b[39;49m\u001b[43merrors\u001b[49m\u001b[43m,\u001b[49m\u001b[43m \u001b[49m\u001b[43mutc\u001b[49m\u001b[38;5;241;43m=\u001b[39;49m\u001b[43mutc\u001b[49m\u001b[43m)\u001b[49m\n\u001b[0;32m    468\u001b[0m     \u001b[38;5;28;01mif\u001b[39;00m tz_out \u001b[38;5;129;01mis\u001b[39;00m \u001b[38;5;129;01mnot\u001b[39;00m \u001b[38;5;28;01mNone\u001b[39;00m:\n\u001b[0;32m    469\u001b[0m         unit \u001b[38;5;241m=\u001b[39m np\u001b[38;5;241m.\u001b[39mdatetime_data(result\u001b[38;5;241m.\u001b[39mdtype)[\u001b[38;5;241m0\u001b[39m]\n",
      "File \u001b[1;32mstrptime.pyx:501\u001b[0m, in \u001b[0;36mpandas._libs.tslibs.strptime.array_strptime\u001b[1;34m()\u001b[0m\n",
      "File \u001b[1;32mstrptime.pyx:451\u001b[0m, in \u001b[0;36mpandas._libs.tslibs.strptime.array_strptime\u001b[1;34m()\u001b[0m\n",
      "File \u001b[1;32mstrptime.pyx:587\u001b[0m, in \u001b[0;36mpandas._libs.tslibs.strptime._parse_with_format\u001b[1;34m()\u001b[0m\n",
      "\u001b[1;31mValueError\u001b[0m: unconverted data remains when parsing with format \"%Y%m\": \"16800000000000\", at position 0. You might want to try:\n    - passing `format` if your strings have a consistent format;\n    - passing `format='ISO8601'` if your strings are all ISO8601 but not necessarily in exactly the same format;\n    - passing `format='mixed'`, and the format will be inferred for each element individually. You might want to use `dayfirst` alongside this."
     ]
    }
   ],
   "source": [
    "# Datetime으로 만들어주는 코드\n",
    "# 분기로 만들어주는 코드 추가\n",
    "\n",
    "def datetime_processor(df, colname):\n",
    "\n",
    "    for i in colname:\n",
    "\n",
    "        df[i] = df[i].astype(str).str[:6]  # 앞 6자리만 사용 (YYYYMM 형식)\n",
    "        df[i] = pd.to_datetime(df[i], format='%Y%m')\n",
    "        #df[i] = pd.to_datetime(df[i].astype(int).astype(str), format = '%Y%m')\n",
    "        \n",
    "        df[f'{i}_분기'] = df[i].dt.quarter\n",
    "        df[f'{i}_월'] = df[i].dt.month\n",
    "        \n",
    "        print(f'{i}의 타입은: {df[i].dtype}')\n",
    "        print(f'{i}_분기 생성됨!')\n",
    "\n",
    "datetime_processor(total_data, ['거래년월'])"
   ]
  },
  {
   "cell_type": "code",
   "execution_count": 58,
   "metadata": {},
   "outputs": [],
   "source": [
    "#total_data.to_csv('sampled_data/rawdata_pj1.csv', index = False)"
   ]
  },
  {
   "cell_type": "markdown",
   "metadata": {},
   "source": [
    "## Raw Data 구경"
   ]
  },
  {
   "cell_type": "code",
   "execution_count": 25,
   "metadata": {},
   "outputs": [
    {
     "data": {
      "text/plain": [
       "([0, 1, 2, 3, 4, 5, 6, 7, 8, 9],\n",
       " [Text(0, 0, '식생활'),\n",
       "  Text(1, 0, '소매'),\n",
       "  Text(2, 0, '서비스'),\n",
       "  Text(3, 0, '교통_및_물류'),\n",
       "  Text(4, 0, '온라인쇼핑'),\n",
       "  Text(5, 0, '의료'),\n",
       "  Text(6, 0, '기타'),\n",
       "  Text(7, 0, '여가'),\n",
       "  Text(8, 0, '라이프스타일'),\n",
       "  Text(9, 0, '교육')])"
      ]
     },
     "execution_count": 25,
     "metadata": {},
     "output_type": "execute_result"
    },
    {
     "data": {
      "image/png": "[encoded data removed]",
      "text/plain": [
       "<Figure size 640x480 with 1 Axes>"
      ]
     },
     "metadata": {},
     "output_type": "display_data"
    }
   ],
   "source": [
    "import seaborn as sns\n",
    "\n",
    "# 인터넷P/G를 제외한 데이터만 필터링\n",
    "total_data2 = total_data[total_data['가맹점업종명'] != '인터넷P/G']\n",
    "\n",
    "# 확인을 위해 업종별 비율 다시 확인\n",
    "sns.barplot(total_data2['가맹점업종명_범주화_중분류'].value_counts(normalize=True).head(10))\n",
    "plt.xticks(rotation = 45)"
   ]
  }
 ],
 "metadata": {
  "kernelspec": {
   "display_name": "venv",
   "language": "python",
   "name": "python3"
  },
  "language_info": {
   "codemirror_mode": {
    "name": "ipython",
    "version": 3
   },
   "file_extension": ".py",
   "mimetype": "text/x-python",
   "name": "python",
   "nbconvert_exporter": "python",
   "pygments_lexer": "ipython3",
   "version": "3.12.7"
  }
 },
 "nbformat": 4,
 "nbformat_minor": 2
}
