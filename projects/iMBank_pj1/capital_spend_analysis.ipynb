{
 "cells": [
  {
   "cell_type": "code",
   "execution_count": 100,
   "metadata": {},
   "outputs": [],
   "source": [
    "import pandas as pd\n",
    "import numpy as np\n",
    "import matplotlib.pyplot as plt\n",
    "import seaborn as sns"
   ]
  },
  {
   "cell_type": "markdown",
   "metadata": {},
   "source": [
    "# 사용 함수"
   ]
  },
  {
   "cell_type": "code",
   "execution_count": 101,
   "metadata": {},
   "outputs": [],
   "source": [
    "def make_pie_chart(df_list,colname = '연령대'):\n",
    "\n",
    "    fig, ax = plt.subplots(1,len(df_list),figsize = (15,5))\n",
    "\n",
    "    for i, df in enumerate(df_list):\n",
    "        age_counts = df[colname].value_counts().head(10)\n",
    "        labels = age_counts.index.tolist()\n",
    "        sizes = age_counts.values\n",
    "\n",
    "        ax[i].pie(sizes,\n",
    "           labels = labels,\n",
    "           #explode=explode,\n",
    "           autopct = '%1.1f%%',\n",
    "           shadow = True, startangle= 90)\n",
    "        ax[i].set_title(f\"{2021 + i} {colname} 파이차트\")\n",
    "\n",
    "    plt.show()"
   ]
  },
  {
   "cell_type": "code",
   "execution_count": 102,
   "metadata": {},
   "outputs": [],
   "source": [
    "# Butterfly Plot 그리기 함수\n",
    "\n",
    "def make_butterfly_chart(df1, df2, year = 2020):\n",
    "\n",
    "    # Butterfly Chart\n",
    "\n",
    "    plt.figure(figsize = (10,6))\n",
    "\n",
    "    # 데이터 그리기\n",
    "    sns.barplot(data = df1, y = '가맹점업종명', x = 'count' , color = 'BLue', label = '2030', errorbar=None)\n",
    "    sns.barplot(data = df2, y = '가맹점업종명', x = 'count' , color = 'Red', label = '4050', errorbar=None ,estimator = lambda x: -sum(x))\n",
    "\n",
    "    # 축과 레이블 설정\n",
    "    plt.axvline(0, color = 'grey', linestyle = '--')\n",
    "    plt.axis('tight')\n",
    "    plt.subplots_adjust(left = 0.1, right = 0.9, top = 0.9, bottom = 0.1)\n",
    "\n",
    "    plt.gca().spines['top'].set_visible(False)   \n",
    "    plt.gca().spines['right'].set_visible(False) \n",
    "    plt.gca().spines['left'].set_visible(False)    \n",
    "    plt.gca().spines['bottom'].set_visible(False)   \n",
    "\n",
    "    plt.title(f\"{year}년 세대별 식습관 소비 횟수 비교\", fontsize=17)\n",
    "    plt.show()"
   ]
  },
  {
   "cell_type": "markdown",
   "metadata": {},
   "source": [
    "# 데이터 로딩 및 전처리"
   ]
  },
  {
   "cell_type": "code",
   "execution_count": 103,
   "metadata": {},
   "outputs": [],
   "source": [
    "data_21 = pd.read_csv('sampled_data/card_base_2021.csv')\n",
    "data_22 = pd.read_csv('sampled_data/card_base_2022.csv')\n",
    "data_23 = pd.read_csv('sampled_data/card_base_2023.csv')"
   ]
  },
  {
   "cell_type": "code",
   "execution_count": 104,
   "metadata": {},
   "outputs": [],
   "source": [
    "# 데이터 가맹점 기준 수도권으로 분류\n",
    "\n",
    "capital_21 = data_21[data_21['가맹점_광역시도'].isin(['서울특별시', '경기도'])]\n",
    "capital_22 = data_22[data_22['가맹점_광역시도'].isin(['서울특별시', '경기도'])]\n",
    "capital_23 = data_23[data_23['가맹점_광역시도'].isin(['서울특별시', '경기도'])]"
   ]
  },
  {
   "cell_type": "code",
   "execution_count": 105,
   "metadata": {},
   "outputs": [
    {
     "name": "stdout",
     "output_type": "stream",
     "text": [
      "수치화 완료\n",
      "수치화 완료\n",
      "수치화 완료\n"
     ]
    },
    {
     "name": "stderr",
     "output_type": "stream",
     "text": [
      "C:\\Users\\campus3S031\\AppData\\Local\\Temp\\ipykernel_21868\\200683854.py:13: FutureWarning: Downcasting behavior in `replace` is deprecated and will be removed in a future version. To retain the old behavior, explicitly call `result.infer_objects(copy=False)`. To opt-in to the future behavior, set `pd.set_option('future.no_silent_downcasting', True)`\n",
      "  df[f'{colname}_수치화'] = df[f'{colname}'].replace(map)\n",
      "C:\\Users\\campus3S031\\AppData\\Local\\Temp\\ipykernel_21868\\200683854.py:13: SettingWithCopyWarning: \n",
      "A value is trying to be set on a copy of a slice from a DataFrame.\n",
      "Try using .loc[row_indexer,col_indexer] = value instead\n",
      "\n",
      "See the caveats in the documentation: https://pandas.pydata.org/pandas-docs/stable/user_guide/indexing.html#returning-a-view-versus-a-copy\n",
      "  df[f'{colname}_수치화'] = df[f'{colname}'].replace(map)\n",
      "C:\\Users\\campus3S031\\AppData\\Local\\Temp\\ipykernel_21868\\200683854.py:13: FutureWarning: Downcasting behavior in `replace` is deprecated and will be removed in a future version. To retain the old behavior, explicitly call `result.infer_objects(copy=False)`. To opt-in to the future behavior, set `pd.set_option('future.no_silent_downcasting', True)`\n",
      "  df[f'{colname}_수치화'] = df[f'{colname}'].replace(map)\n",
      "C:\\Users\\campus3S031\\AppData\\Local\\Temp\\ipykernel_21868\\200683854.py:13: SettingWithCopyWarning: \n",
      "A value is trying to be set on a copy of a slice from a DataFrame.\n",
      "Try using .loc[row_indexer,col_indexer] = value instead\n",
      "\n",
      "See the caveats in the documentation: https://pandas.pydata.org/pandas-docs/stable/user_guide/indexing.html#returning-a-view-versus-a-copy\n",
      "  df[f'{colname}_수치화'] = df[f'{colname}'].replace(map)\n",
      "C:\\Users\\campus3S031\\AppData\\Local\\Temp\\ipykernel_21868\\200683854.py:13: FutureWarning: Downcasting behavior in `replace` is deprecated and will be removed in a future version. To retain the old behavior, explicitly call `result.infer_objects(copy=False)`. To opt-in to the future behavior, set `pd.set_option('future.no_silent_downcasting', True)`\n",
      "  df[f'{colname}_수치화'] = df[f'{colname}'].replace(map)\n",
      "C:\\Users\\campus3S031\\AppData\\Local\\Temp\\ipykernel_21868\\200683854.py:13: SettingWithCopyWarning: \n",
      "A value is trying to be set on a copy of a slice from a DataFrame.\n",
      "Try using .loc[row_indexer,col_indexer] = value instead\n",
      "\n",
      "See the caveats in the documentation: https://pandas.pydata.org/pandas-docs/stable/user_guide/indexing.html#returning-a-view-versus-a-copy\n",
      "  df[f'{colname}_수치화'] = df[f'{colname}'].replace(map)\n"
     ]
    }
   ],
   "source": [
    "# 승인건수 범주화\n",
    "\n",
    "mapping = {\n",
    "    '5번이하': 5,\n",
    "    '5번초과 10번이하': 10,\n",
    "    '10번초과 15번이하': 15,\n",
    "    '15번초과 20번이하': 20,\n",
    "    '20번 초과': 25\n",
    "}\n",
    "\n",
    "# 특정 칼럼을 수치화 해주는 함수 - 쓰려면 매핑 수정 필수적!!\n",
    "def cartegory_to_int_columns(df, colname, map = mapping):\n",
    "    df[f'{colname}_수치화'] = df[f'{colname}'].replace(map)\n",
    "    print('수치화 완료')\n",
    "\n",
    "cartegory_to_int_columns(capital_21, '승인건수')\n",
    "cartegory_to_int_columns(capital_22, '승인건수')\n",
    "cartegory_to_int_columns(capital_23, '승인건수')"
   ]
  },
  {
   "cell_type": "code",
   "execution_count": 106,
   "metadata": {},
   "outputs": [
    {
     "name": "stdout",
     "output_type": "stream",
     "text": [
      "거래년월의 타입은: datetime64[ns]\n",
      "거래년월_분기 생성됨!\n",
      "거래년월의 타입은: datetime64[ns]\n",
      "거래년월_분기 생성됨!\n",
      "거래년월의 타입은: datetime64[ns]\n",
      "거래년월_분기 생성됨!\n"
     ]
    },
    {
     "name": "stderr",
     "output_type": "stream",
     "text": [
      "C:\\Users\\campus3S031\\AppData\\Local\\Temp\\ipykernel_21868\\2300631196.py:6: SettingWithCopyWarning: \n",
      "A value is trying to be set on a copy of a slice from a DataFrame.\n",
      "Try using .loc[row_indexer,col_indexer] = value instead\n",
      "\n",
      "See the caveats in the documentation: https://pandas.pydata.org/pandas-docs/stable/user_guide/indexing.html#returning-a-view-versus-a-copy\n",
      "  df[i] = pd.to_datetime(df[i].astype(int).astype(str), format = '%Y%m')\n",
      "C:\\Users\\campus3S031\\AppData\\Local\\Temp\\ipykernel_21868\\2300631196.py:7: SettingWithCopyWarning: \n",
      "A value is trying to be set on a copy of a slice from a DataFrame.\n",
      "Try using .loc[row_indexer,col_indexer] = value instead\n",
      "\n",
      "See the caveats in the documentation: https://pandas.pydata.org/pandas-docs/stable/user_guide/indexing.html#returning-a-view-versus-a-copy\n",
      "  df[f'{i}_분기'] = df[i].dt.quarter\n",
      "C:\\Users\\campus3S031\\AppData\\Local\\Temp\\ipykernel_21868\\2300631196.py:6: SettingWithCopyWarning: \n",
      "A value is trying to be set on a copy of a slice from a DataFrame.\n",
      "Try using .loc[row_indexer,col_indexer] = value instead\n",
      "\n",
      "See the caveats in the documentation: https://pandas.pydata.org/pandas-docs/stable/user_guide/indexing.html#returning-a-view-versus-a-copy\n",
      "  df[i] = pd.to_datetime(df[i].astype(int).astype(str), format = '%Y%m')\n",
      "C:\\Users\\campus3S031\\AppData\\Local\\Temp\\ipykernel_21868\\2300631196.py:7: SettingWithCopyWarning: \n",
      "A value is trying to be set on a copy of a slice from a DataFrame.\n",
      "Try using .loc[row_indexer,col_indexer] = value instead\n",
      "\n",
      "See the caveats in the documentation: https://pandas.pydata.org/pandas-docs/stable/user_guide/indexing.html#returning-a-view-versus-a-copy\n",
      "  df[f'{i}_분기'] = df[i].dt.quarter\n",
      "C:\\Users\\campus3S031\\AppData\\Local\\Temp\\ipykernel_21868\\2300631196.py:6: SettingWithCopyWarning: \n",
      "A value is trying to be set on a copy of a slice from a DataFrame.\n",
      "Try using .loc[row_indexer,col_indexer] = value instead\n",
      "\n",
      "See the caveats in the documentation: https://pandas.pydata.org/pandas-docs/stable/user_guide/indexing.html#returning-a-view-versus-a-copy\n",
      "  df[i] = pd.to_datetime(df[i].astype(int).astype(str), format = '%Y%m')\n",
      "C:\\Users\\campus3S031\\AppData\\Local\\Temp\\ipykernel_21868\\2300631196.py:7: SettingWithCopyWarning: \n",
      "A value is trying to be set on a copy of a slice from a DataFrame.\n",
      "Try using .loc[row_indexer,col_indexer] = value instead\n",
      "\n",
      "See the caveats in the documentation: https://pandas.pydata.org/pandas-docs/stable/user_guide/indexing.html#returning-a-view-versus-a-copy\n",
      "  df[f'{i}_분기'] = df[i].dt.quarter\n"
     ]
    }
   ],
   "source": [
    "# Datetime으로 만들어주는 코드\n",
    "\n",
    "def datetime_quater(df, colname):\n",
    "\n",
    "    for i in colname:\n",
    "        df[i] = pd.to_datetime(df[i].astype(int).astype(str), format = '%Y%m')\n",
    "        df[f'{i}_분기'] = df[i].dt.quarter\n",
    "        print(f'{i}의 타입은: {df[i].dtype}')\n",
    "        print(f'{i}_분기 생성됨!')\n",
    "\n",
    "datetime_quater(capital_21, ['거래년월'])\n",
    "datetime_quater(capital_22, ['거래년월'])\n",
    "datetime_quater(capital_23, ['거래년월'])"
   ]
  },
  {
   "cell_type": "code",
   "execution_count": 107,
   "metadata": {},
   "outputs": [
    {
     "name": "stderr",
     "output_type": "stream",
     "text": [
      "C:\\Users\\campus3S031\\AppData\\Local\\Temp\\ipykernel_21868\\1551777910.py:1: SettingWithCopyWarning: \n",
      "A value is trying to be set on a copy of a slice from a DataFrame.\n",
      "Try using .loc[row_indexer,col_indexer] = value instead\n",
      "\n",
      "See the caveats in the documentation: https://pandas.pydata.org/pandas-docs/stable/user_guide/indexing.html#returning-a-view-versus-a-copy\n",
      "  capital_21['년도'] = 2021\n",
      "C:\\Users\\campus3S031\\AppData\\Local\\Temp\\ipykernel_21868\\1551777910.py:2: SettingWithCopyWarning: \n",
      "A value is trying to be set on a copy of a slice from a DataFrame.\n",
      "Try using .loc[row_indexer,col_indexer] = value instead\n",
      "\n",
      "See the caveats in the documentation: https://pandas.pydata.org/pandas-docs/stable/user_guide/indexing.html#returning-a-view-versus-a-copy\n",
      "  capital_22['년도'] = 2022\n",
      "C:\\Users\\campus3S031\\AppData\\Local\\Temp\\ipykernel_21868\\1551777910.py:3: SettingWithCopyWarning: \n",
      "A value is trying to be set on a copy of a slice from a DataFrame.\n",
      "Try using .loc[row_indexer,col_indexer] = value instead\n",
      "\n",
      "See the caveats in the documentation: https://pandas.pydata.org/pandas-docs/stable/user_guide/indexing.html#returning-a-view-versus-a-copy\n",
      "  capital_23['년도'] = 2023\n"
     ]
    }
   ],
   "source": [
    "capital_21['년도'] = 2021\n",
    "capital_22['년도'] = 2022\n",
    "capital_23['년도'] = 2023\n",
    "\n",
    "capital_data = pd.concat([capital_21,capital_22,capital_23], axis = 0)"
   ]
  },
  {
   "cell_type": "code",
   "execution_count": 108,
   "metadata": {},
   "outputs": [
    {
     "name": "stdout",
     "output_type": "stream",
     "text": [
      "<class 'pandas.core.frame.DataFrame'>\n",
      "Index: 839757 entries, 6 to 1396615\n",
      "Data columns (total 15 columns):\n",
      " #   Column    Non-Null Count   Dtype         \n",
      "---  ------    --------------   -----         \n",
      " 0   거래년월      839757 non-null  datetime64[ns]\n",
      " 1   고객ID      839757 non-null  int64         \n",
      " 2   가맹점업종명    839757 non-null  object        \n",
      " 3   가맹점_광역시도  839757 non-null  object        \n",
      " 4   가맹점_시군구   839757 non-null  object        \n",
      " 5   승인건수      839757 non-null  object        \n",
      " 6   승인금액      839757 non-null  int64         \n",
      " 7   연령대       839757 non-null  object        \n",
      " 8   성별        839757 non-null  object        \n",
      " 9   고객등급      839757 non-null  object        \n",
      " 10  자택_시도     839757 non-null  object        \n",
      " 11  자택_시군구    839757 non-null  object        \n",
      " 12  승인건수_수치화  839757 non-null  int64         \n",
      " 13  거래년월_분기   839757 non-null  int32         \n",
      " 14  년도        839757 non-null  int64         \n",
      "dtypes: datetime64[ns](1), int32(1), int64(4), object(9)\n",
      "memory usage: 99.3+ MB\n"
     ]
    }
   ],
   "source": [
    "capital_data.info()"
   ]
  },
  {
   "cell_type": "code",
   "execution_count": 109,
   "metadata": {},
   "outputs": [
    {
     "data": {
      "text/html": [
       "<div>\n",
       "<style scoped>\n",
       "    .dataframe tbody tr th:only-of-type {\n",
       "        vertical-align: middle;\n",
       "    }\n",
       "\n",
       "    .dataframe tbody tr th {\n",
       "        vertical-align: top;\n",
       "    }\n",
       "\n",
       "    .dataframe thead th {\n",
       "        text-align: right;\n",
       "    }\n",
       "</style>\n",
       "<table border=\"1\" class=\"dataframe\">\n",
       "  <thead>\n",
       "    <tr style=\"text-align: right;\">\n",
       "      <th></th>\n",
       "      <th>거래년월</th>\n",
       "      <th>고객ID</th>\n",
       "      <th>가맹점업종명</th>\n",
       "      <th>가맹점_광역시도</th>\n",
       "      <th>가맹점_시군구</th>\n",
       "      <th>승인건수</th>\n",
       "      <th>승인금액</th>\n",
       "      <th>연령대</th>\n",
       "      <th>성별</th>\n",
       "      <th>고객등급</th>\n",
       "      <th>자택_시도</th>\n",
       "      <th>자택_시군구</th>\n",
       "      <th>승인건수_수치화</th>\n",
       "      <th>거래년월_분기</th>\n",
       "      <th>년도</th>\n",
       "    </tr>\n",
       "  </thead>\n",
       "  <tbody>\n",
       "    <tr>\n",
       "      <th>6</th>\n",
       "      <td>2021-01-01</td>\n",
       "      <td>7779449587</td>\n",
       "      <td>1급 호텔</td>\n",
       "      <td>서울특별시</td>\n",
       "      <td>구로구</td>\n",
       "      <td>5번이하</td>\n",
       "      <td>80000</td>\n",
       "      <td>50대</td>\n",
       "      <td>여</td>\n",
       "      <td>일반등급</td>\n",
       "      <td>경상북도</td>\n",
       "      <td>구미시</td>\n",
       "      <td>5</td>\n",
       "      <td>1</td>\n",
       "      <td>2021</td>\n",
       "    </tr>\n",
       "    <tr>\n",
       "      <th>16</th>\n",
       "      <td>2021-01-01</td>\n",
       "      <td>9787214635</td>\n",
       "      <td>CATV홈쇼핑</td>\n",
       "      <td>서울특별시</td>\n",
       "      <td>마포구</td>\n",
       "      <td>5번이하</td>\n",
       "      <td>70000</td>\n",
       "      <td>50대</td>\n",
       "      <td>남</td>\n",
       "      <td>일반등급</td>\n",
       "      <td>대구광역시</td>\n",
       "      <td>서구</td>\n",
       "      <td>5</td>\n",
       "      <td>1</td>\n",
       "      <td>2021</td>\n",
       "    </tr>\n",
       "    <tr>\n",
       "      <th>17</th>\n",
       "      <td>2021-01-01</td>\n",
       "      <td>7152642392</td>\n",
       "      <td>CATV홈쇼핑</td>\n",
       "      <td>서울특별시</td>\n",
       "      <td>서초구</td>\n",
       "      <td>5번이하</td>\n",
       "      <td>50000</td>\n",
       "      <td>40대</td>\n",
       "      <td>여</td>\n",
       "      <td>일반등급</td>\n",
       "      <td>대구광역시</td>\n",
       "      <td>남구</td>\n",
       "      <td>5</td>\n",
       "      <td>1</td>\n",
       "      <td>2021</td>\n",
       "    </tr>\n",
       "    <tr>\n",
       "      <th>18</th>\n",
       "      <td>2021-01-01</td>\n",
       "      <td>9185487426</td>\n",
       "      <td>CATV홈쇼핑</td>\n",
       "      <td>서울특별시</td>\n",
       "      <td>영등포구</td>\n",
       "      <td>5번이하</td>\n",
       "      <td>30000</td>\n",
       "      <td>50대</td>\n",
       "      <td>여</td>\n",
       "      <td>일반등급</td>\n",
       "      <td>대구광역시</td>\n",
       "      <td>북구</td>\n",
       "      <td>5</td>\n",
       "      <td>1</td>\n",
       "      <td>2021</td>\n",
       "    </tr>\n",
       "    <tr>\n",
       "      <th>19</th>\n",
       "      <td>2021-01-01</td>\n",
       "      <td>7836307657</td>\n",
       "      <td>CATV홈쇼핑</td>\n",
       "      <td>서울특별시</td>\n",
       "      <td>영등포구</td>\n",
       "      <td>5번이하</td>\n",
       "      <td>40000</td>\n",
       "      <td>50대</td>\n",
       "      <td>여</td>\n",
       "      <td>일반등급</td>\n",
       "      <td>대구광역시</td>\n",
       "      <td>남구</td>\n",
       "      <td>5</td>\n",
       "      <td>1</td>\n",
       "      <td>2021</td>\n",
       "    </tr>\n",
       "  </tbody>\n",
       "</table>\n",
       "</div>"
      ],
      "text/plain": [
       "         거래년월        고객ID   가맹점업종명 가맹점_광역시도 가맹점_시군구  승인건수   승인금액  연령대 성별  \\\n",
       "6  2021-01-01  7779449587    1급 호텔    서울특별시     구로구  5번이하  80000  50대  여   \n",
       "16 2021-01-01  9787214635  CATV홈쇼핑    서울특별시     마포구  5번이하  70000  50대  남   \n",
       "17 2021-01-01  7152642392  CATV홈쇼핑    서울특별시     서초구  5번이하  50000  40대  여   \n",
       "18 2021-01-01  9185487426  CATV홈쇼핑    서울특별시    영등포구  5번이하  30000  50대  여   \n",
       "19 2021-01-01  7836307657  CATV홈쇼핑    서울특별시    영등포구  5번이하  40000  50대  여   \n",
       "\n",
       "    고객등급  자택_시도 자택_시군구  승인건수_수치화  거래년월_분기    년도  \n",
       "6   일반등급   경상북도    구미시         5        1  2021  \n",
       "16  일반등급  대구광역시     서구         5        1  2021  \n",
       "17  일반등급  대구광역시     남구         5        1  2021  \n",
       "18  일반등급  대구광역시     북구         5        1  2021  \n",
       "19  일반등급  대구광역시     남구         5        1  2021  "
      ]
     },
     "execution_count": 109,
     "metadata": {},
     "output_type": "execute_result"
    }
   ],
   "source": [
    "capital_data.head()"
   ]
  },
  {
   "cell_type": "markdown",
   "metadata": {},
   "source": [
    "# 가맹점업종 업종별로 범주화\n",
    "- 4개 ~ 5개 정도 범주로 설정하자"
   ]
  },
  {
   "cell_type": "code",
   "execution_count": 110,
   "metadata": {},
   "outputs": [],
   "source": [
    "food_related = [\n",
    "    '제과점', '정육점', '서양음식', '일반한식', '스넥', '중국식', '일식·회집', '갈비전문점', '한정식', '카페', '주점', '칵테일바', '주류판매점', '유흥주점', '단란주점', '위탁급식업', '기타음료식품'\n",
    "]\n",
    "\n",
    "retail_goods = [\n",
    "    '슈퍼마켓', '대형할인점', '농·축·수산품', '문구용품', '약 국', '화장품', '가방', '완구점', '스포츠·레져용품', '의류', '액세서리', '가전제품', '일반서적', '기념품점', '농축수산가공품', '기타잡화', '침구·수예점', '내의판매', '아동의류', '화원', '가정용품수리', '신발', '사무용 OA기기', '골프용품 전문점'\n",
    "]\n",
    "\n",
    "service = [\n",
    "    '병원(응급실운영)', '미용원', '피부미용실', '사우나', '헬스클럽', '보습학원', '예·체능계학원', '당구장', '골프경기장', '골프연습장', '볼링장', '스크린골프', '레져업소', '종합레져타운', '영화관', '노래방', '종합병원', '한방병원', '안마/스포츠마사지', '치과병원', '동물병원'\n",
    "]\n",
    "\n",
    "transportation = [\n",
    "    '주유소', 'GS가스충전소', 'SK주유소', '현대정유(오일뱅크)', '화물운송', '자동차정비', '자동차부품', '택시', '렌터카', '전기차충전소', '고속버스', '항공사', '철도', '여객선', '주차장', 'LPG취급점'\n",
    "]\n",
    "\n",
    "others = [\n",
    "    '비영리/대상', '비영리/비대상', '인터넷종합Mall', '통신기기', '통신판매업1', '전자상거래상품권', 'PG상품권', '가례서비스업', '부동산중개·임대', '문화취미기타', '사무서비스', '기타전문점', '공공요금대행서비스', '종합용역', '기타건강식품', '이용원', '농협하나로클럽', 'DP&E', '귀금속', '기타대인서비스', '기타보험', 'CATV홈쇼핑', '소프트웨어', '기타의료기관 및 기타의료기기', '공공요금대행서비스/소득공제대상', '기타4'\n",
    "]\n",
    "\n",
    "categorizing_list = [food_related, retail_goods, service, transportation, others]\n",
    "categorizing_list_name = ['식생활', '소매_및_생활용품', '서비스_및_여가','교통_및_물류', '기타']\n",
    "\n",
    "# 매핑 딕셔너리 생성\n",
    "mapping_dict = {}\n",
    "for i, clist in enumerate(categorizing_list):\n",
    "    for item in clist:\n",
    "        mapping_dict[item] = categorizing_list_name[i]\n",
    "\n",
    "capital_data['가맹점업종명_범주화'] = capital_data['가맹점업종명'].map(mapping_dict).fillna('인터넷P/G')\n"
   ]
  },
  {
   "cell_type": "markdown",
   "metadata": {},
   "source": [
    "## 간단시각화"
   ]
  },
  {
   "cell_type": "code",
   "execution_count": 111,
   "metadata": {},
   "outputs": [],
   "source": [
    "# 한글 패치 진행\n",
    "\n",
    "import matplotlib.pyplot as plt\n",
    "plt.rcParams['font.family'] ='Malgun Gothic'\n",
    "plt.rcParams['axes.unicode_minus'] =False"
   ]
  },
  {
   "cell_type": "markdown",
   "metadata": {},
   "source": [
    "## 소비 범주의 시각화"
   ]
  },
  {
   "cell_type": "code",
   "execution_count": 112,
   "metadata": {},
   "outputs": [
    {
     "data": {
      "image/png": "[encoded data removed]",
      "text/plain": [
       "<Figure size 1000x600 with 1 Axes>"
      ]
     },
     "metadata": {},
     "output_type": "display_data"
    }
   ],
   "source": [
    "# 비중 시각화로 확인\n",
    "\n",
    "df = capital_data['가맹점업종명_범주화'].value_counts(normalize=True).reset_index()\n",
    "df.columns = ['업종명','갯수']\n",
    "\n",
    "plt.figure(figsize = (10,6))\n",
    "sns.barplot(x = '업종명', y = '갯수', data = df)\n",
    "plt.show()"
   ]
  },
  {
   "cell_type": "code",
   "execution_count": 113,
   "metadata": {},
   "outputs": [],
   "source": [
    "# 나이대로 데이터 분할\n",
    "\n",
    "capital_2030 = capital_data[capital_data['연령대'].isin(['20대', '30대'])]\n",
    "capital_4050 = capital_data[capital_data['연령대'].isin(['40대', '50대'])]"
   ]
  },
  {
   "cell_type": "markdown",
   "metadata": {},
   "source": [
    "## 승인건수가 5번 이하인것과 아닌 것의 가맹점 업종 비율"
   ]
  },
  {
   "cell_type": "code",
   "execution_count": 118,
   "metadata": {},
   "outputs": [
    {
     "data": {
      "text/plain": [
       "([0, 1, 2, 3, 4, 5],\n",
       " [Text(0, 0, '인터넷P/G'),\n",
       "  Text(1, 0, '기타'),\n",
       "  Text(2, 0, '교통_및_물류'),\n",
       "  Text(3, 0, '식생활'),\n",
       "  Text(4, 0, '소매_및_생활용품'),\n",
       "  Text(5, 0, '서비스_및_여가')])"
      ]
     },
     "execution_count": 118,
     "metadata": {},
     "output_type": "execute_result"
    },
    {
     "data": {
      "image/png": "[encoded data removed]",
      "text/plain": [
       "<Figure size 640x480 with 1 Axes>"
      ]
     },
     "metadata": {},
     "output_type": "display_data"
    }
   ],
   "source": [
    "sns.barplot(capital_data[capital_data['승인건수'] != '5번이하']['가맹점업종명_범주화'].value_counts(normalize=True))\n",
    "plt.xticks(rotation = 45)"
   ]
  },
  {
   "cell_type": "code",
   "execution_count": 119,
   "metadata": {},
   "outputs": [
    {
     "data": {
      "text/plain": [
       "([0, 1, 2, 3, 4, 5],\n",
       " [Text(0, 0, '인터넷P/G'),\n",
       "  Text(1, 0, '기타'),\n",
       "  Text(2, 0, '식생활'),\n",
       "  Text(3, 0, '교통_및_물류'),\n",
       "  Text(4, 0, '소매_및_생활용품'),\n",
       "  Text(5, 0, '서비스_및_여가')])"
      ]
     },
     "execution_count": 119,
     "metadata": {},
     "output_type": "execute_result"
    },
    {
     "data": {
      "image/png": "[encoded data removed]",
      "text/plain": [
       "<Figure size 640x480 with 1 Axes>"
      ]
     },
     "metadata": {},
     "output_type": "display_data"
    }
   ],
   "source": [
    "sns.barplot(capital_data[capital_data['승인건수'] == '5번이하']['가맹점업종명_범주화'].value_counts(normalize=True))\n",
    "plt.xticks(rotation = 45)"
   ]
  },
  {
   "cell_type": "code",
   "execution_count": 116,
   "metadata": {},
   "outputs": [
    {
     "data": {
      "image/png": "[encoded data removed]",
      "text/plain": [
       "<Figure size 800x600 with 1 Axes>"
      ]
     },
     "metadata": {},
     "output_type": "display_data"
    }
   ],
   "source": [
    "plt.figure(figsize=(8, 6))\n",
    "plt.hist(capital_data['승인건수'], bins=30, color='skyblue', edgecolor='black')\n",
    "plt.title(\"Histogram\")\n",
    "plt.show()"
   ]
  },
  {
   "cell_type": "markdown",
   "metadata": {},
   "source": [
    "# 외부데이터 Join"
   ]
  },
  {
   "cell_type": "markdown",
   "metadata": {},
   "source": [
    "# ML 분류모델 만들기 - 승인금액 기준으로\n",
    "- randomforest를 사용하여 승인 금액을 기준으로 분류해보자."
   ]
  },
  {
   "cell_type": "code",
   "execution_count": null,
   "metadata": {},
   "outputs": [],
   "source": []
  },
  {
   "cell_type": "markdown",
   "metadata": {},
   "source": [
    "# capital_data 저장"
   ]
  },
  {
   "cell_type": "code",
   "execution_count": 117,
   "metadata": {},
   "outputs": [],
   "source": [
    "#capital_data.to_csv('sampled_data/capital_data.csv')"
   ]
  }
 ],
 "metadata": {
  "kernelspec": {
   "display_name": "venv",
   "language": "python",
   "name": "python3"
  },
  "language_info": {
   "codemirror_mode": {
    "name": "ipython",
    "version": 3
   },
   "file_extension": ".py",
   "mimetype": "text/x-python",
   "name": "python",
   "nbconvert_exporter": "python",
   "pygments_lexer": "ipython3",
   "version": "3.12.7"
  }
 },
 "nbformat": 4,
 "nbformat_minor": 2
}
