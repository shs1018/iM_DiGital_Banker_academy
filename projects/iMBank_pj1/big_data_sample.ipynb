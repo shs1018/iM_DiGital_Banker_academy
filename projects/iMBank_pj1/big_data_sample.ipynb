{
 "cells": [
  {
   "cell_type": "code",
   "execution_count": 1,
   "metadata": {},
   "outputs": [],
   "source": [
    "import pandas as pd\n",
    "import numpy as np"
   ]
  },
  {
   "cell_type": "code",
   "execution_count": 2,
   "metadata": {},
   "outputs": [
    {
     "name": "stdout",
     "output_type": "stream",
     "text": [
      "data input complete! : iMBANK_CARD_DATA_2021(K-DigitalTraining).csv as data_1\n",
      "data input complete! : iMBANK_CARD_DATA_2022(K-DigitalTraining).csv as data_2\n",
      "data input complete! : iMBANK_CARD_DATA_2023(K-DigitalTraining).csv as data_3\n",
      "data input complete! : iMBANK_CUSTOMER_DATA_2021(K-DigitalTraining).csv as data_4\n",
      "data input complete! : iMBANK_CUSTOMER_DATA_2022(K-DigitalTraining).csv as data_5\n",
      "data input complete! : iMBANK_CUSTOMER_DATA_2023(K-DigitalTraining).csv as data_6\n",
      "All data read complete!\n"
     ]
    }
   ],
   "source": [
    "import pandas as pd\n",
    "\n",
    "DATA_PATH = 'C:/Users/campus3S031/Desktop/iM뱅크 프로젝트용 데이터/raw_data/'\n",
    "csv_names = [\n",
    "    'iMBANK_CARD_DATA_2021(K-DigitalTraining).csv', \n",
    "    'iMBANK_CARD_DATA_2022(K-DigitalTraining).csv', \n",
    "    'iMBANK_CARD_DATA_2023(K-DigitalTraining).csv', \n",
    "    'iMBANK_CUSTOMER_DATA_2021(K-DigitalTraining).csv', \n",
    "    'iMBANK_CUSTOMER_DATA_2022(K-DigitalTraining).csv', \n",
    "    'iMBANK_CUSTOMER_DATA_2023(K-DigitalTraining).csv'\n",
    "    ]\n",
    "datasets = {}\n",
    "def read_data(csv_names):\n",
    "    for i in range(len(csv_names)):\n",
    "        datasets[f\"data_{i+1}\"] = pd.read_csv(f\"{DATA_PATH}{csv_names[i]}\", encoding='cp949')\n",
    "\n",
    "        print(f'data input complete! : {csv_names[i]} as data_{i+1}')\n",
    "    print('All data read complete!')\n",
    "\n",
    "read_data(csv_names)"
   ]
  },
  {
   "cell_type": "markdown",
   "metadata": {},
   "source": [
    "# 층화추출 적용\n",
    "- card 데이터의 경우 그룹이 너무 많으면 메모리가 감당하지 못한다 \n",
    "- 그래서 년월과 지역 두 가지로만 층화추출을 진행했다."
   ]
  },
  {
   "cell_type": "code",
   "execution_count": 3,
   "metadata": {},
   "outputs": [
    {
     "name": "stderr",
     "output_type": "stream",
     "text": [
      "C:\\Users\\campus3S031\\AppData\\Local\\Temp\\ipykernel_17424\\1445902252.py:1: DeprecationWarning: DataFrameGroupBy.apply operated on the grouping columns. This behavior is deprecated, and in a future version of pandas the grouping columns will be excluded from the operation. Either pass `include_groups=False` to exclude the groupings or explicitly select the grouping columns after groupby to silence this warning.\n",
      "  sample_df = datasets['data_4'].groupby(['기준년월', '연령대', '성별', '고객등급', '자택_시도', '자택_시군구'], group_keys=False).apply(lambda x: x.sample(frac=0.01))\n"
     ]
    },
    {
     "data": {
      "text/plain": [
       "(206314, 13)"
      ]
     },
     "execution_count": 3,
     "metadata": {},
     "output_type": "execute_result"
    }
   ],
   "source": [
    "sample_df = datasets['data_4'].groupby(['기준년월', '연령대', '성별', '고객등급', '자택_시도', '자택_시군구'], group_keys=False).apply(lambda x: x.sample(frac=0.01))\n",
    "sample_df.shape"
   ]
  },
  {
   "cell_type": "code",
   "execution_count": 4,
   "metadata": {},
   "outputs": [
    {
     "name": "stderr",
     "output_type": "stream",
     "text": [
      "C:\\Users\\campus3S031\\AppData\\Local\\Temp\\ipykernel_8876\\251243986.py:1: DeprecationWarning: DataFrameGroupBy.apply operated on the grouping columns. This behavior is deprecated, and in a future version of pandas the grouping columns will be excluded from the operation. Either pass `include_groups=False` to exclude the groupings or explicitly select the grouping columns after groupby to silence this warning.\n",
      "  tempo= datasets['data_1'].groupby(['거래년월', '가맹점_광역시도'], group_keys=False).apply(lambda x: x.sample(frac=0.01))\n"
     ]
    },
    {
     "data": {
      "text/plain": [
       "(606724, 7)"
      ]
     },
     "execution_count": 4,
     "metadata": {},
     "output_type": "execute_result"
    }
   ],
   "source": [
    "tempo= datasets['data_1'].groupby(['거래년월', '가맹점_광역시도'], group_keys=False).apply(lambda x: x.sample(frac=0.01))\n",
    "tempo.shape\n"
   ]
  },
  {
   "cell_type": "code",
   "execution_count": 3,
   "metadata": {},
   "outputs": [
    {
     "name": "stderr",
     "output_type": "stream",
     "text": [
      "C:\\Users\\campus3S031\\AppData\\Local\\Temp\\ipykernel_5032\\1335478511.py:13: DeprecationWarning: DataFrameGroupBy.apply operated on the grouping columns. This behavior is deprecated, and in a future version of pandas the grouping columns will be excluded from the operation. Either pass `include_groups=False` to exclude the groupings or explicitly select the grouping columns after groupby to silence this warning.\n",
      "  customer_data[f\"{2020 + (i-3)}\"] = datasets[f'data_{i}'].groupby(['기준년월', '연령대', '성별', '고객등급', '자택_시도', '자택_시군구'], group_keys=False).apply(lambda x: x.sample(frac=0.01))\n"
     ]
    },
    {
     "name": "stdout",
     "output_type": "stream",
     "text": [
      "customer data 2021 sampled!\n"
     ]
    },
    {
     "name": "stderr",
     "output_type": "stream",
     "text": [
      "C:\\Users\\campus3S031\\AppData\\Local\\Temp\\ipykernel_5032\\1335478511.py:13: DeprecationWarning: DataFrameGroupBy.apply operated on the grouping columns. This behavior is deprecated, and in a future version of pandas the grouping columns will be excluded from the operation. Either pass `include_groups=False` to exclude the groupings or explicitly select the grouping columns after groupby to silence this warning.\n",
      "  customer_data[f\"{2020 + (i-3)}\"] = datasets[f'data_{i}'].groupby(['기준년월', '연령대', '성별', '고객등급', '자택_시도', '자택_시군구'], group_keys=False).apply(lambda x: x.sample(frac=0.01))\n"
     ]
    },
    {
     "name": "stdout",
     "output_type": "stream",
     "text": [
      "customer data 2022 sampled!\n"
     ]
    },
    {
     "name": "stderr",
     "output_type": "stream",
     "text": [
      "C:\\Users\\campus3S031\\AppData\\Local\\Temp\\ipykernel_5032\\1335478511.py:13: DeprecationWarning: DataFrameGroupBy.apply operated on the grouping columns. This behavior is deprecated, and in a future version of pandas the grouping columns will be excluded from the operation. Either pass `include_groups=False` to exclude the groupings or explicitly select the grouping columns after groupby to silence this warning.\n",
      "  customer_data[f\"{2020 + (i-3)}\"] = datasets[f'data_{i}'].groupby(['기준년월', '연령대', '성별', '고객등급', '자택_시도', '자택_시군구'], group_keys=False).apply(lambda x: x.sample(frac=0.01))\n"
     ]
    },
    {
     "name": "stdout",
     "output_type": "stream",
     "text": [
      "customer data 2023 sampled!\n"
     ]
    },
    {
     "name": "stderr",
     "output_type": "stream",
     "text": [
      "C:\\Users\\campus3S031\\AppData\\Local\\Temp\\ipykernel_5032\\1335478511.py:17: DeprecationWarning: DataFrameGroupBy.apply operated on the grouping columns. This behavior is deprecated, and in a future version of pandas the grouping columns will be excluded from the operation. Either pass `include_groups=False` to exclude the groupings or explicitly select the grouping columns after groupby to silence this warning.\n",
      "  card_data[f\"{2020 + i}\"] = datasets[f'data_{i}'].groupby(['거래년월','가맹점_광역시도','가맹점_시군구'], group_keys=False).apply(lambda x: x.sample(frac=0.01))\n"
     ]
    },
    {
     "name": "stdout",
     "output_type": "stream",
     "text": [
      "card data 2021 sampled!\n"
     ]
    },
    {
     "name": "stderr",
     "output_type": "stream",
     "text": [
      "C:\\Users\\campus3S031\\AppData\\Local\\Temp\\ipykernel_5032\\1335478511.py:17: DeprecationWarning: DataFrameGroupBy.apply operated on the grouping columns. This behavior is deprecated, and in a future version of pandas the grouping columns will be excluded from the operation. Either pass `include_groups=False` to exclude the groupings or explicitly select the grouping columns after groupby to silence this warning.\n",
      "  card_data[f\"{2020 + i}\"] = datasets[f'data_{i}'].groupby(['거래년월','가맹점_광역시도','가맹점_시군구'], group_keys=False).apply(lambda x: x.sample(frac=0.01))\n"
     ]
    },
    {
     "name": "stdout",
     "output_type": "stream",
     "text": [
      "card data 2022 sampled!\n"
     ]
    },
    {
     "name": "stderr",
     "output_type": "stream",
     "text": [
      "C:\\Users\\campus3S031\\AppData\\Local\\Temp\\ipykernel_5032\\1335478511.py:17: DeprecationWarning: DataFrameGroupBy.apply operated on the grouping columns. This behavior is deprecated, and in a future version of pandas the grouping columns will be excluded from the operation. Either pass `include_groups=False` to exclude the groupings or explicitly select the grouping columns after groupby to silence this warning.\n",
      "  card_data[f\"{2020 + i}\"] = datasets[f'data_{i}'].groupby(['거래년월','가맹점_광역시도','가맹점_시군구'], group_keys=False).apply(lambda x: x.sample(frac=0.01))\n"
     ]
    },
    {
     "name": "stdout",
     "output_type": "stream",
     "text": [
      "card data 2023 sampled!\n",
      "-----Sample Complete-----\n",
      "<class 'pandas.core.frame.DataFrame'>\n",
      "Index: 606442 entries, 59112979 to 5068671\n",
      "Data columns (total 7 columns):\n",
      " #   Column    Non-Null Count   Dtype \n",
      "---  ------    --------------   ----- \n",
      " 0   거래년월      606442 non-null  int64 \n",
      " 1   고객ID      606442 non-null  int64 \n",
      " 2   가맹점업종명    606442 non-null  object\n",
      " 3   가맹점_광역시도  606442 non-null  object\n",
      " 4   가맹점_시군구   606442 non-null  object\n",
      " 5   승인건수      606442 non-null  object\n",
      " 6   승인금액      606442 non-null  int64 \n",
      "dtypes: int64(3), object(4)\n",
      "memory usage: 37.0+ MB\n"
     ]
    }
   ],
   "source": [
    "# 데이터를 넣을 딕셔너리 생성\n",
    "customer_data = {}\n",
    "card_data = {}\n",
    "\n",
    "def sample_dataset(datasets):\n",
    "\n",
    "    # 데이터를 넣을 딕셔너리 생성\n",
    "    customer_data = {}\n",
    "    card_data = {}\n",
    "\n",
    "    # 데이터 층화 추출 - 칼럼들 기준\n",
    "    for i in range(4,7):\n",
    "        customer_data[f\"{2020 + (i-3)}\"] = datasets[f'data_{i}'].groupby(['기준년월', '연령대', '성별', '고객등급', '자택_시도', '자택_시군구'], group_keys=False).apply(lambda x: x.sample(frac=0.01))\n",
    "        print(f'customer data {2020 + (i-3)} sampled!')\n",
    "\n",
    "    for i in range(1,4):\n",
    "        card_data[f\"{2020 + i}\"] = datasets[f'data_{i}'].groupby(['거래년월','가맹점_광역시도','가맹점_시군구'], group_keys=False).apply(lambda x: x.sample(frac=0.01))\n",
    "        print(f'card data {2020 + i} sampled!')\n",
    "\n",
    "    print('-----Sample Complete-----')\n",
    "    return customer_data, card_data\n",
    "\n",
    "customer_data, card_data = sample_dataset(datasets)\n",
    "card_data['2021'].info()"
   ]
  },
  {
   "cell_type": "code",
   "execution_count": 25,
   "metadata": {},
   "outputs": [
    {
     "data": {
      "text/plain": [
       "가맹점_시군구\n",
       "중구     81481\n",
       "달서구    76008\n",
       "수성구    65894\n",
       "북구     57543\n",
       "동구     43939\n",
       "       ...  \n",
       "완도군        6\n",
       "고창군        6\n",
       "서천군        4\n",
       "영광군        3\n",
       "무안군        3\n",
       "Name: count, Length: 208, dtype: int64"
      ]
     },
     "execution_count": 25,
     "metadata": {},
     "output_type": "execute_result"
    }
   ],
   "source": [
    "card_data['2021']['가맹점_시군구'].value_counts()"
   ]
  },
  {
   "cell_type": "code",
   "execution_count": 23,
   "metadata": {},
   "outputs": [
    {
     "data": {
      "text/plain": [
       "가맹점_시군구\n",
       "중구     8148185\n",
       "달서구    7600912\n",
       "수성구    6589354\n",
       "북구     5754217\n",
       "동구     4394302\n",
       "        ...   \n",
       "완도군        686\n",
       "고창군        593\n",
       "서천군        359\n",
       "무안군        284\n",
       "영광군        276\n",
       "Name: count, Length: 208, dtype: int64"
      ]
     },
     "execution_count": 23,
     "metadata": {},
     "output_type": "execute_result"
    }
   ],
   "source": [
    "datasets['data_1']['가맹점_시군구'].value_counts()"
   ]
  },
  {
   "cell_type": "markdown",
   "metadata": {},
   "source": [
    "# MERGE DATA"
   ]
  },
  {
   "cell_type": "code",
   "execution_count": 28,
   "metadata": {},
   "outputs": [
    {
     "name": "stdout",
     "output_type": "stream",
     "text": [
      "<class 'pandas.core.frame.DataFrame'>\n",
      "RangeIndex: 651977 entries, 0 to 651976\n",
      "Data columns (total 19 columns):\n",
      " #   Column    Non-Null Count   Dtype  \n",
      "---  ------    --------------   -----  \n",
      " 0   거래년월      651977 non-null  int64  \n",
      " 1   고객ID      651977 non-null  int64  \n",
      " 2   가맹점업종명    651977 non-null  object \n",
      " 3   가맹점_광역시도  651977 non-null  object \n",
      " 4   가맹점_시군구   651977 non-null  object \n",
      " 5   승인건수      651977 non-null  object \n",
      " 6   승인금액      651977 non-null  int64  \n",
      " 7   기준년월      73553 non-null   float64\n",
      " 8   연령대       73553 non-null   object \n",
      " 9   성별        73553 non-null   object \n",
      " 10  고객등급      73553 non-null   object \n",
      " 11  자택_시도     73553 non-null   object \n",
      " 12  자택_시군구    73553 non-null   object \n",
      " 13  수신_요구불예금  73553 non-null   float64\n",
      " 14  수신_거치식예금  73553 non-null   float64\n",
      " 15  수신_적립식예금  73553 non-null   float64\n",
      " 16  수신_펀드     73553 non-null   float64\n",
      " 17  수신_외화예금   73553 non-null   float64\n",
      " 18  대출금액      73553 non-null   float64\n",
      "dtypes: float64(7), int64(3), object(9)\n",
      "memory usage: 94.5+ MB\n"
     ]
    }
   ],
   "source": [
    "merged_2023 = pd.merge(card_data['2023'], customer_data['2023'], on = '고객ID', how='left')\n",
    "merged_2022 = pd.merge(card_data['2022'], customer_data['2022'], on = '고객ID', how='left')\n",
    "merged_2021 = pd.merge(card_data['2021'], customer_data['2021'], on = '고객ID', how='left')\n",
    "merged_2023.info()"
   ]
  },
  {
   "cell_type": "code",
   "execution_count": 38,
   "metadata": {},
   "outputs": [
    {
     "name": "stdout",
     "output_type": "stream",
     "text": [
      "Saved card_2021_sample.csv\n",
      "Saved card_2022_sample.csv\n",
      "Saved card_2023_sample.csv\n",
      "Saved customer_2021_sample.csv\n",
      "Saved customer_2022_sample.csv\n",
      "Saved customer_2023_sample.csv\n",
      "Saved merged_2021.csv\n",
      "Saved merged_2022.csv\n",
      "Saved merged_2023.csv\n"
     ]
    }
   ],
   "source": [
    "merged_data = [merged_2021,merged_2022,merged_2023]\n",
    "\n",
    "file_names_card = [\n",
    "    \"card_2021_sample.csv\",\n",
    "    \"card_2022_sample.csv\",\n",
    "    \"card_2023_sample.csv\"\n",
    "]\n",
    "\n",
    "file_names_customer = [\n",
    "    \"customer_2021_sample.csv\",\n",
    "    \"customer_2022_sample.csv\",\n",
    "    \"customer_2023_sample.csv\"\n",
    "]\n",
    "\n",
    "file_names_merged = [\n",
    "    \"merged_2021.csv\",\n",
    "    \"merged_2022.csv\",\n",
    "    \"merged_2023.csv\"\n",
    "]\n",
    "\n",
    "for (key, df), name in zip(card_data.items(), file_names_card):\n",
    "    df.to_csv(f\"sampled_data/{name}\", index = False)\n",
    "    print(f\"Saved {name}\")\n",
    "\n",
    "for (key, df), name in zip(customer_data.items(), file_names_customer):\n",
    "    df.to_csv(f\"sampled_data/{name}\", index = False)\n",
    "    print(f\"Saved {name}\")\n",
    "\n",
    "for df, name in zip(merged_data, file_names_merged):\n",
    "    df.to_csv(f\"sampled_data/{name}\", index = False)\n",
    "    print(f\"Saved {name}\")"
   ]
  },
  {
   "cell_type": "markdown",
   "metadata": {},
   "source": [
    "# Changed merged data method"
   ]
  },
  {
   "cell_type": "code",
   "execution_count": 4,
   "metadata": {},
   "outputs": [
    {
     "name": "stdout",
     "output_type": "stream",
     "text": [
      "<class 'pandas.core.frame.DataFrame'>\n",
      "RangeIndex: 841770 entries, 0 to 841769\n",
      "Data columns (total 19 columns):\n",
      " #   Column    Non-Null Count   Dtype  \n",
      "---  ------    --------------   -----  \n",
      " 0   거래년월      651828 non-null  float64\n",
      " 1   고객ID      841770 non-null  int64  \n",
      " 2   가맹점업종명    651828 non-null  object \n",
      " 3   가맹점_광역시도  651828 non-null  object \n",
      " 4   가맹점_시군구   651828 non-null  object \n",
      " 5   승인건수      651828 non-null  object \n",
      " 6   승인금액      651828 non-null  float64\n",
      " 7   기준년월      263854 non-null  float64\n",
      " 8   연령대       263854 non-null  object \n",
      " 9   성별        263854 non-null  object \n",
      " 10  고객등급      263854 non-null  object \n",
      " 11  자택_시도     263854 non-null  object \n",
      " 12  자택_시군구    263854 non-null  object \n",
      " 13  수신_요구불예금  263854 non-null  float64\n",
      " 14  수신_거치식예금  263854 non-null  float64\n",
      " 15  수신_적립식예금  263854 non-null  float64\n",
      " 16  수신_펀드     263854 non-null  float64\n",
      " 17  수신_외화예금   263854 non-null  float64\n",
      " 18  대출금액      263854 non-null  float64\n",
      "dtypes: float64(9), int64(1), object(9)\n",
      "memory usage: 122.0+ MB\n"
     ]
    }
   ],
   "source": [
    "merged_2023 = pd.merge(card_data['2023'], customer_data['2023'], on = '고객ID', how='outer')\n",
    "merged_2022 = pd.merge(card_data['2022'], customer_data['2022'], on = '고객ID', how='outer')\n",
    "merged_2021 = pd.merge(card_data['2021'], customer_data['2021'], on = '고객ID', how='outer')\n",
    "merged_2023.info()"
   ]
  },
  {
   "cell_type": "code",
   "execution_count": 5,
   "metadata": {},
   "outputs": [
    {
     "name": "stdout",
     "output_type": "stream",
     "text": [
      "Saved merged_full_2021.csv\n",
      "Saved merged_full_2022.csv\n",
      "Saved merged_full_2023.csv\n"
     ]
    }
   ],
   "source": [
    "merged_data = [merged_2021,merged_2022,merged_2023]\n",
    "\n",
    "file_names_merged = [\n",
    "    \"merged_full_2021.csv\",\n",
    "    \"merged_full_2022.csv\",\n",
    "    \"merged_full_2023.csv\"\n",
    "]\n",
    "\n",
    "for df, name in zip(merged_data, file_names_merged):\n",
    "    df.to_csv(f\"sampled_data/{name}\", index = False)\n",
    "    print(f\"Saved {name}\")"
   ]
  },
  {
   "cell_type": "markdown",
   "metadata": {},
   "source": [
    "# Data Grouping\n",
    "- MZ가 타겟이니 20 ~ 30대를 타겟으로 잡아보자\n",
    "- 소비 패턴을 먼저 잡아내야 하니 카드 데이터 위주로 일단 보자.\n",
    "- 수신/여신 데이터로는 어떤 패턴을 파악 할 수 있을까?"
   ]
  },
  {
   "cell_type": "code",
   "execution_count": 9,
   "metadata": {},
   "outputs": [],
   "source": [
    "# 가맹업종만 csv로\n",
    "\n",
    "store_feature = datasets['data_1']['가맹점업종명'].value_counts()\n",
    "store_feature.to_csv(f\"sampled_data/store_feature.csv\")"
   ]
  },
  {
   "cell_type": "code",
   "execution_count": 15,
   "metadata": {},
   "outputs": [],
   "source": [
    "# RAW 데이터만 \n",
    "\n",
    "data_full_MZ_21 = datasets['data_4'][datasets['data_4']['연령대'].isin(['20대','30대'])]"
   ]
  },
  {
   "cell_type": "code",
   "execution_count": null,
   "metadata": {},
   "outputs": [],
   "source": []
  }
 ],
 "metadata": {
  "kernelspec": {
   "display_name": "venv",
   "language": "python",
   "name": "python3"
  },
  "language_info": {
   "codemirror_mode": {
    "name": "ipython",
    "version": 3
   },
   "file_extension": ".py",
   "mimetype": "text/x-python",
   "name": "python",
   "nbconvert_exporter": "python",
   "pygments_lexer": "ipython3",
   "version": "3.12.7"
  }
 },
 "nbformat": 4,
 "nbformat_minor": 2
}
