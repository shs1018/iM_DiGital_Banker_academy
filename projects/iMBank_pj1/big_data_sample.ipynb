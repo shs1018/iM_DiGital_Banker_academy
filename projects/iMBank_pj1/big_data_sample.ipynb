{
 "cells": [
  {
   "cell_type": "code",
   "execution_count": 2,
   "metadata": {},
   "outputs": [],
   "source": [
    "import pandas as pd\n",
    "import numpy as np"
   ]
  },
  {
   "cell_type": "code",
   "execution_count": 3,
   "metadata": {},
   "outputs": [
    {
     "name": "stdout",
     "output_type": "stream",
     "text": [
      "data input complete! : iMBANK_CARD_DATA_2021(K-DigitalTraining).csv as data_1\n",
      "data input complete! : iMBANK_CARD_DATA_2022(K-DigitalTraining).csv as data_2\n",
      "data input complete! : iMBANK_CARD_DATA_2023(K-DigitalTraining).csv as data_3\n",
      "data input complete! : iMBANK_CUSTOMER_DATA_2021(K-DigitalTraining).csv as data_4\n",
      "data input complete! : iMBANK_CUSTOMER_DATA_2022(K-DigitalTraining).csv as data_5\n",
      "data input complete! : iMBANK_CUSTOMER_DATA_2023(K-DigitalTraining).csv as data_6\n",
      "All data read complete!\n"
     ]
    }
   ],
   "source": [
    "import pandas as pd\n",
    "\n",
    "DATA_PATH = 'C:/Users/campus3S031/Desktop/iM뱅크 프로젝트용 데이터/raw_data/'\n",
    "csv_names = [\n",
    "    'iMBANK_CARD_DATA_2021(K-DigitalTraining).csv', \n",
    "    'iMBANK_CARD_DATA_2022(K-DigitalTraining).csv', \n",
    "    'iMBANK_CARD_DATA_2023(K-DigitalTraining).csv', \n",
    "    'iMBANK_CUSTOMER_DATA_2021(K-DigitalTraining).csv', \n",
    "    'iMBANK_CUSTOMER_DATA_2022(K-DigitalTraining).csv', \n",
    "    'iMBANK_CUSTOMER_DATA_2023(K-DigitalTraining).csv'\n",
    "    ]\n",
    "datasets = {}\n",
    "def read_data(csv_names):\n",
    "    for i in range(len(csv_names)):\n",
    "        datasets[f\"data_{i+1}\"] = pd.read_csv(f\"{DATA_PATH}{csv_names[i]}\", encoding='cp949')\n",
    "\n",
    "        print(f'data input complete! : {csv_names[i]} as data_{i+1}')\n",
    "    print('All data read complete!')\n",
    "\n",
    "read_data(csv_names)"
   ]
  },
  {
   "cell_type": "code",
   "execution_count": 20,
   "metadata": {},
   "outputs": [
    {
     "name": "stderr",
     "output_type": "stream",
     "text": [
      "C:\\Users\\campus3S031\\AppData\\Local\\Temp\\ipykernel_11776\\1717384603.py:1: UserWarning: Boolean Series key will be reindexed to match DataFrame index.\n",
      "  datasets['data_2'][datasets['data_2']['고객ID'] == 5111865089][datasets['data_2']['가맹점_광역시도']=='강원특별자치도']\n"
     ]
    },
    {
     "data": {
      "text/html": [
       "<div>\n",
       "<style scoped>\n",
       "    .dataframe tbody tr th:only-of-type {\n",
       "        vertical-align: middle;\n",
       "    }\n",
       "\n",
       "    .dataframe tbody tr th {\n",
       "        vertical-align: top;\n",
       "    }\n",
       "\n",
       "    .dataframe thead th {\n",
       "        text-align: right;\n",
       "    }\n",
       "</style>\n",
       "<table border=\"1\" class=\"dataframe\">\n",
       "  <thead>\n",
       "    <tr style=\"text-align: right;\">\n",
       "      <th></th>\n",
       "      <th>거래년월</th>\n",
       "      <th>고객ID</th>\n",
       "      <th>가맹점업종명</th>\n",
       "      <th>가맹점_광역시도</th>\n",
       "      <th>가맹점_시군구</th>\n",
       "      <th>승인건수</th>\n",
       "      <th>승인금액</th>\n",
       "    </tr>\n",
       "  </thead>\n",
       "  <tbody>\n",
       "    <tr>\n",
       "      <th>393760</th>\n",
       "      <td>202212</td>\n",
       "      <td>5111865089</td>\n",
       "      <td>편 의 점</td>\n",
       "      <td>강원특별자치도</td>\n",
       "      <td>횡성군</td>\n",
       "      <td>5번이하</td>\n",
       "      <td>10000</td>\n",
       "    </tr>\n",
       "    <tr>\n",
       "      <th>1740283</th>\n",
       "      <td>202212</td>\n",
       "      <td>5111865089</td>\n",
       "      <td>일반한식</td>\n",
       "      <td>강원특별자치도</td>\n",
       "      <td>평창군</td>\n",
       "      <td>5번이하</td>\n",
       "      <td>50000</td>\n",
       "    </tr>\n",
       "    <tr>\n",
       "      <th>1778631</th>\n",
       "      <td>202212</td>\n",
       "      <td>5111865089</td>\n",
       "      <td>서양음식</td>\n",
       "      <td>강원특별자치도</td>\n",
       "      <td>평창군</td>\n",
       "      <td>5번이하</td>\n",
       "      <td>10000</td>\n",
       "    </tr>\n",
       "    <tr>\n",
       "      <th>2607283</th>\n",
       "      <td>202212</td>\n",
       "      <td>5111865089</td>\n",
       "      <td>편 의 점</td>\n",
       "      <td>강원특별자치도</td>\n",
       "      <td>평창군</td>\n",
       "      <td>5번이하</td>\n",
       "      <td>10000</td>\n",
       "    </tr>\n",
       "    <tr>\n",
       "      <th>4100325</th>\n",
       "      <td>202212</td>\n",
       "      <td>5111865089</td>\n",
       "      <td>GS주유소</td>\n",
       "      <td>강원특별자치도</td>\n",
       "      <td>평창군</td>\n",
       "      <td>5번이하</td>\n",
       "      <td>30000</td>\n",
       "    </tr>\n",
       "    <tr>\n",
       "      <th>5309484</th>\n",
       "      <td>202212</td>\n",
       "      <td>5111865089</td>\n",
       "      <td>슈퍼마켓</td>\n",
       "      <td>강원특별자치도</td>\n",
       "      <td>횡성군</td>\n",
       "      <td>5번이하</td>\n",
       "      <td>10000</td>\n",
       "    </tr>\n",
       "    <tr>\n",
       "      <th>5966273</th>\n",
       "      <td>202211</td>\n",
       "      <td>5111865089</td>\n",
       "      <td>일반한식</td>\n",
       "      <td>강원특별자치도</td>\n",
       "      <td>평창군</td>\n",
       "      <td>5번이하</td>\n",
       "      <td>40000</td>\n",
       "    </tr>\n",
       "    <tr>\n",
       "      <th>6076689</th>\n",
       "      <td>202211</td>\n",
       "      <td>5111865089</td>\n",
       "      <td>서양음식</td>\n",
       "      <td>강원특별자치도</td>\n",
       "      <td>평창군</td>\n",
       "      <td>5번이하</td>\n",
       "      <td>10000</td>\n",
       "    </tr>\n",
       "    <tr>\n",
       "      <th>6076787</th>\n",
       "      <td>202211</td>\n",
       "      <td>5111865089</td>\n",
       "      <td>서양음식</td>\n",
       "      <td>강원특별자치도</td>\n",
       "      <td>횡성군</td>\n",
       "      <td>5번이하</td>\n",
       "      <td>10000</td>\n",
       "    </tr>\n",
       "    <tr>\n",
       "      <th>6756852</th>\n",
       "      <td>202211</td>\n",
       "      <td>5111865089</td>\n",
       "      <td>일반한식</td>\n",
       "      <td>강원특별자치도</td>\n",
       "      <td>평창군</td>\n",
       "      <td>5번이하</td>\n",
       "      <td>20000</td>\n",
       "    </tr>\n",
       "    <tr>\n",
       "      <th>7380751</th>\n",
       "      <td>202211</td>\n",
       "      <td>5111865089</td>\n",
       "      <td>서양음식</td>\n",
       "      <td>강원특별자치도</td>\n",
       "      <td>평창군</td>\n",
       "      <td>5번이하</td>\n",
       "      <td>20000</td>\n",
       "    </tr>\n",
       "    <tr>\n",
       "      <th>7652786</th>\n",
       "      <td>202211</td>\n",
       "      <td>5111865089</td>\n",
       "      <td>주유소</td>\n",
       "      <td>강원특별자치도</td>\n",
       "      <td>원주시</td>\n",
       "      <td>5번이하</td>\n",
       "      <td>40000</td>\n",
       "    </tr>\n",
       "    <tr>\n",
       "      <th>7954964</th>\n",
       "      <td>202211</td>\n",
       "      <td>5111865089</td>\n",
       "      <td>일반한식</td>\n",
       "      <td>강원특별자치도</td>\n",
       "      <td>평창군</td>\n",
       "      <td>5번이하</td>\n",
       "      <td>40000</td>\n",
       "    </tr>\n",
       "    <tr>\n",
       "      <th>8084631</th>\n",
       "      <td>202211</td>\n",
       "      <td>5111865089</td>\n",
       "      <td>편 의 점</td>\n",
       "      <td>강원특별자치도</td>\n",
       "      <td>평창군</td>\n",
       "      <td>5번이하</td>\n",
       "      <td>20000</td>\n",
       "    </tr>\n",
       "    <tr>\n",
       "      <th>8119294</th>\n",
       "      <td>202211</td>\n",
       "      <td>5111865089</td>\n",
       "      <td>편 의 점</td>\n",
       "      <td>강원특별자치도</td>\n",
       "      <td>평창군</td>\n",
       "      <td>5번이하</td>\n",
       "      <td>30000</td>\n",
       "    </tr>\n",
       "    <tr>\n",
       "      <th>8333695</th>\n",
       "      <td>202211</td>\n",
       "      <td>5111865089</td>\n",
       "      <td>서양음식</td>\n",
       "      <td>강원특별자치도</td>\n",
       "      <td>원주시</td>\n",
       "      <td>5번이하</td>\n",
       "      <td>10000</td>\n",
       "    </tr>\n",
       "    <tr>\n",
       "      <th>8412878</th>\n",
       "      <td>202211</td>\n",
       "      <td>5111865089</td>\n",
       "      <td>일반한식</td>\n",
       "      <td>강원특별자치도</td>\n",
       "      <td>원주시</td>\n",
       "      <td>5번이하</td>\n",
       "      <td>20000</td>\n",
       "    </tr>\n",
       "    <tr>\n",
       "      <th>8418327</th>\n",
       "      <td>202211</td>\n",
       "      <td>5111865089</td>\n",
       "      <td>일반한식</td>\n",
       "      <td>강원특별자치도</td>\n",
       "      <td>원주시</td>\n",
       "      <td>5번이하</td>\n",
       "      <td>10000</td>\n",
       "    </tr>\n",
       "    <tr>\n",
       "      <th>9075636</th>\n",
       "      <td>202211</td>\n",
       "      <td>5111865089</td>\n",
       "      <td>기계공구</td>\n",
       "      <td>강원특별자치도</td>\n",
       "      <td>평창군</td>\n",
       "      <td>5번이하</td>\n",
       "      <td>10000</td>\n",
       "    </tr>\n",
       "    <tr>\n",
       "      <th>9124624</th>\n",
       "      <td>202211</td>\n",
       "      <td>5111865089</td>\n",
       "      <td>쌍용S-OIL</td>\n",
       "      <td>강원특별자치도</td>\n",
       "      <td>평창군</td>\n",
       "      <td>5번이하</td>\n",
       "      <td>40000</td>\n",
       "    </tr>\n",
       "    <tr>\n",
       "      <th>10026796</th>\n",
       "      <td>202211</td>\n",
       "      <td>5111865089</td>\n",
       "      <td>편 의 점</td>\n",
       "      <td>강원특별자치도</td>\n",
       "      <td>평창군</td>\n",
       "      <td>5번이하</td>\n",
       "      <td>10000</td>\n",
       "    </tr>\n",
       "    <tr>\n",
       "      <th>10977905</th>\n",
       "      <td>202210</td>\n",
       "      <td>5111865089</td>\n",
       "      <td>주유소</td>\n",
       "      <td>강원특별자치도</td>\n",
       "      <td>횡성군</td>\n",
       "      <td>5번이하</td>\n",
       "      <td>30000</td>\n",
       "    </tr>\n",
       "    <tr>\n",
       "      <th>20514934</th>\n",
       "      <td>202209</td>\n",
       "      <td>5111865089</td>\n",
       "      <td>SK주유소</td>\n",
       "      <td>강원특별자치도</td>\n",
       "      <td>원주시</td>\n",
       "      <td>5번이하</td>\n",
       "      <td>30000</td>\n",
       "    </tr>\n",
       "    <tr>\n",
       "      <th>45001887</th>\n",
       "      <td>202204</td>\n",
       "      <td>5111865089</td>\n",
       "      <td>서양음식</td>\n",
       "      <td>강원특별자치도</td>\n",
       "      <td>원주시</td>\n",
       "      <td>5번이하</td>\n",
       "      <td>10000</td>\n",
       "    </tr>\n",
       "    <tr>\n",
       "      <th>46182558</th>\n",
       "      <td>202204</td>\n",
       "      <td>5111865089</td>\n",
       "      <td>편 의 점</td>\n",
       "      <td>강원특별자치도</td>\n",
       "      <td>원주시</td>\n",
       "      <td>5번이하</td>\n",
       "      <td>10000</td>\n",
       "    </tr>\n",
       "    <tr>\n",
       "      <th>48873997</th>\n",
       "      <td>202203</td>\n",
       "      <td>5111865089</td>\n",
       "      <td>일반한식</td>\n",
       "      <td>강원특별자치도</td>\n",
       "      <td>원주시</td>\n",
       "      <td>5번이하</td>\n",
       "      <td>30000</td>\n",
       "    </tr>\n",
       "    <tr>\n",
       "      <th>50899722</th>\n",
       "      <td>202203</td>\n",
       "      <td>5111865089</td>\n",
       "      <td>일반한식</td>\n",
       "      <td>강원특별자치도</td>\n",
       "      <td>원주시</td>\n",
       "      <td>5번이하</td>\n",
       "      <td>10000</td>\n",
       "    </tr>\n",
       "    <tr>\n",
       "      <th>50918235</th>\n",
       "      <td>202203</td>\n",
       "      <td>5111865089</td>\n",
       "      <td>주유소</td>\n",
       "      <td>강원특별자치도</td>\n",
       "      <td>원주시</td>\n",
       "      <td>5번이하</td>\n",
       "      <td>30000</td>\n",
       "    </tr>\n",
       "    <tr>\n",
       "      <th>57846760</th>\n",
       "      <td>202202</td>\n",
       "      <td>5111865089</td>\n",
       "      <td>주유소</td>\n",
       "      <td>강원특별자치도</td>\n",
       "      <td>원주시</td>\n",
       "      <td>5번이하</td>\n",
       "      <td>50000</td>\n",
       "    </tr>\n",
       "  </tbody>\n",
       "</table>\n",
       "</div>"
      ],
      "text/plain": [
       "            거래년월        고객ID   가맹점업종명 가맹점_광역시도 가맹점_시군구  승인건수   승인금액\n",
       "393760    202212  5111865089    편 의 점  강원특별자치도     횡성군  5번이하  10000\n",
       "1740283   202212  5111865089     일반한식  강원특별자치도     평창군  5번이하  50000\n",
       "1778631   202212  5111865089     서양음식  강원특별자치도     평창군  5번이하  10000\n",
       "2607283   202212  5111865089    편 의 점  강원특별자치도     평창군  5번이하  10000\n",
       "4100325   202212  5111865089    GS주유소  강원특별자치도     평창군  5번이하  30000\n",
       "5309484   202212  5111865089     슈퍼마켓  강원특별자치도     횡성군  5번이하  10000\n",
       "5966273   202211  5111865089     일반한식  강원특별자치도     평창군  5번이하  40000\n",
       "6076689   202211  5111865089     서양음식  강원특별자치도     평창군  5번이하  10000\n",
       "6076787   202211  5111865089     서양음식  강원특별자치도     횡성군  5번이하  10000\n",
       "6756852   202211  5111865089     일반한식  강원특별자치도     평창군  5번이하  20000\n",
       "7380751   202211  5111865089     서양음식  강원특별자치도     평창군  5번이하  20000\n",
       "7652786   202211  5111865089      주유소  강원특별자치도     원주시  5번이하  40000\n",
       "7954964   202211  5111865089     일반한식  강원특별자치도     평창군  5번이하  40000\n",
       "8084631   202211  5111865089    편 의 점  강원특별자치도     평창군  5번이하  20000\n",
       "8119294   202211  5111865089    편 의 점  강원특별자치도     평창군  5번이하  30000\n",
       "8333695   202211  5111865089     서양음식  강원특별자치도     원주시  5번이하  10000\n",
       "8412878   202211  5111865089     일반한식  강원특별자치도     원주시  5번이하  20000\n",
       "8418327   202211  5111865089     일반한식  강원특별자치도     원주시  5번이하  10000\n",
       "9075636   202211  5111865089     기계공구  강원특별자치도     평창군  5번이하  10000\n",
       "9124624   202211  5111865089  쌍용S-OIL  강원특별자치도     평창군  5번이하  40000\n",
       "10026796  202211  5111865089    편 의 점  강원특별자치도     평창군  5번이하  10000\n",
       "10977905  202210  5111865089      주유소  강원특별자치도     횡성군  5번이하  30000\n",
       "20514934  202209  5111865089    SK주유소  강원특별자치도     원주시  5번이하  30000\n",
       "45001887  202204  5111865089     서양음식  강원특별자치도     원주시  5번이하  10000\n",
       "46182558  202204  5111865089    편 의 점  강원특별자치도     원주시  5번이하  10000\n",
       "48873997  202203  5111865089     일반한식  강원특별자치도     원주시  5번이하  30000\n",
       "50899722  202203  5111865089     일반한식  강원특별자치도     원주시  5번이하  10000\n",
       "50918235  202203  5111865089      주유소  강원특별자치도     원주시  5번이하  30000\n",
       "57846760  202202  5111865089      주유소  강원특별자치도     원주시  5번이하  50000"
      ]
     },
     "execution_count": 20,
     "metadata": {},
     "output_type": "execute_result"
    }
   ],
   "source": [
    "datasets['data_2'][datasets['data_2']['고객ID'] == 5111865089][datasets['data_2']['가맹점_광역시도']=='강원특별자치도']"
   ]
  },
  {
   "cell_type": "markdown",
   "metadata": {},
   "source": [
    "# 층화추출 적용\n",
    "- card 데이터의 경우 그룹이 너무 많으면 메모리가 감당하지 못한다 \n",
    "- 그래서 년월과 지역 두 가지로만 층화추출을 진행했다.\n",
    "\n",
    "- 24.10.31 수정 -> card data 층화추출 요소에 '고객ID' 추가"
   ]
  },
  {
   "cell_type": "code",
   "execution_count": 3,
   "metadata": {},
   "outputs": [
    {
     "name": "stderr",
     "output_type": "stream",
     "text": [
      "C:\\Users\\campus3S031\\AppData\\Local\\Temp\\ipykernel_17424\\1445902252.py:1: DeprecationWarning: DataFrameGroupBy.apply operated on the grouping columns. This behavior is deprecated, and in a future version of pandas the grouping columns will be excluded from the operation. Either pass `include_groups=False` to exclude the groupings or explicitly select the grouping columns after groupby to silence this warning.\n",
      "  sample_df = datasets['data_4'].groupby(['기준년월', '연령대', '성별', '고객등급', '자택_시도', '자택_시군구'], group_keys=False).apply(lambda x: x.sample(frac=0.01))\n"
     ]
    },
    {
     "data": {
      "text/plain": [
       "(206314, 13)"
      ]
     },
     "execution_count": 3,
     "metadata": {},
     "output_type": "execute_result"
    }
   ],
   "source": [
    "sample_df = datasets['data_4'].groupby(['기준년월', '연령대', '성별', '고객등급', '자택_시도', '자택_시군구'], group_keys=False).apply(lambda x: x.sample(frac=0.01))\n",
    "sample_df.shape"
   ]
  },
  {
   "cell_type": "code",
   "execution_count": null,
   "metadata": {},
   "outputs": [],
   "source": [
    "tempo= datasets['data_1'].groupby(['거래년월','고객ID' ,'가맹점_광역시도'], group_keys=False).apply(lambda x: x.sample(frac=0.01))\n",
    "tempo.head(1)\n"
   ]
  },
  {
   "cell_type": "markdown",
   "metadata": {},
   "source": [
    "### 11/01 층화추출 비율을 5%로 변경함"
   ]
  },
  {
   "cell_type": "code",
   "execution_count": 4,
   "metadata": {},
   "outputs": [
    {
     "name": "stderr",
     "output_type": "stream",
     "text": [
      "C:\\Users\\campus3S031\\AppData\\Local\\Temp\\ipykernel_26592\\3004272468.py:13: DeprecationWarning: DataFrameGroupBy.apply operated on the grouping columns. This behavior is deprecated, and in a future version of pandas the grouping columns will be excluded from the operation. Either pass `include_groups=False` to exclude the groupings or explicitly select the grouping columns after groupby to silence this warning.\n",
      "  customer_data[f\"{2020 + (i-3)}\"] = datasets[f'data_{i}'].groupby(['기준년월', '연령대', '성별', '고객등급', '자택_시도', '자택_시군구'], group_keys=False).apply(lambda x: x.sample(frac=0.05))\n"
     ]
    },
    {
     "name": "stdout",
     "output_type": "stream",
     "text": [
      "customer data 2021 sampled!\n"
     ]
    },
    {
     "name": "stderr",
     "output_type": "stream",
     "text": [
      "C:\\Users\\campus3S031\\AppData\\Local\\Temp\\ipykernel_26592\\3004272468.py:13: DeprecationWarning: DataFrameGroupBy.apply operated on the grouping columns. This behavior is deprecated, and in a future version of pandas the grouping columns will be excluded from the operation. Either pass `include_groups=False` to exclude the groupings or explicitly select the grouping columns after groupby to silence this warning.\n",
      "  customer_data[f\"{2020 + (i-3)}\"] = datasets[f'data_{i}'].groupby(['기준년월', '연령대', '성별', '고객등급', '자택_시도', '자택_시군구'], group_keys=False).apply(lambda x: x.sample(frac=0.05))\n"
     ]
    },
    {
     "name": "stdout",
     "output_type": "stream",
     "text": [
      "customer data 2022 sampled!\n"
     ]
    },
    {
     "name": "stderr",
     "output_type": "stream",
     "text": [
      "C:\\Users\\campus3S031\\AppData\\Local\\Temp\\ipykernel_26592\\3004272468.py:13: DeprecationWarning: DataFrameGroupBy.apply operated on the grouping columns. This behavior is deprecated, and in a future version of pandas the grouping columns will be excluded from the operation. Either pass `include_groups=False` to exclude the groupings or explicitly select the grouping columns after groupby to silence this warning.\n",
      "  customer_data[f\"{2020 + (i-3)}\"] = datasets[f'data_{i}'].groupby(['기준년월', '연령대', '성별', '고객등급', '자택_시도', '자택_시군구'], group_keys=False).apply(lambda x: x.sample(frac=0.05))\n"
     ]
    },
    {
     "name": "stdout",
     "output_type": "stream",
     "text": [
      "customer data 2023 sampled!\n"
     ]
    },
    {
     "name": "stderr",
     "output_type": "stream",
     "text": [
      "C:\\Users\\campus3S031\\AppData\\Local\\Temp\\ipykernel_26592\\3004272468.py:17: DeprecationWarning: DataFrameGroupBy.apply operated on the grouping columns. This behavior is deprecated, and in a future version of pandas the grouping columns will be excluded from the operation. Either pass `include_groups=False` to exclude the groupings or explicitly select the grouping columns after groupby to silence this warning.\n",
      "  card_data[f\"{2020 + i}\"] = datasets[f'data_{i}'].groupby(['거래년월','가맹점업종명','가맹점_광역시도'], group_keys=False).apply(lambda x: x.sample(frac=0.05))\n"
     ]
    },
    {
     "name": "stdout",
     "output_type": "stream",
     "text": [
      "card data 2021 sampled!\n"
     ]
    },
    {
     "name": "stderr",
     "output_type": "stream",
     "text": [
      "C:\\Users\\campus3S031\\AppData\\Local\\Temp\\ipykernel_26592\\3004272468.py:17: DeprecationWarning: DataFrameGroupBy.apply operated on the grouping columns. This behavior is deprecated, and in a future version of pandas the grouping columns will be excluded from the operation. Either pass `include_groups=False` to exclude the groupings or explicitly select the grouping columns after groupby to silence this warning.\n",
      "  card_data[f\"{2020 + i}\"] = datasets[f'data_{i}'].groupby(['거래년월','가맹점업종명','가맹점_광역시도'], group_keys=False).apply(lambda x: x.sample(frac=0.05))\n"
     ]
    },
    {
     "name": "stdout",
     "output_type": "stream",
     "text": [
      "card data 2022 sampled!\n",
      "card data 2023 sampled!\n",
      "-----Sample Complete-----\n",
      "<class 'pandas.core.frame.DataFrame'>\n",
      "Index: 3031857 entries, 56659176 to 3442615\n",
      "Data columns (total 7 columns):\n",
      " #   Column    Dtype \n",
      "---  ------    ----- \n",
      " 0   거래년월      int64 \n",
      " 1   고객ID      int64 \n",
      " 2   가맹점업종명    object\n",
      " 3   가맹점_광역시도  object\n",
      " 4   가맹점_시군구   object\n",
      " 5   승인건수      object\n",
      " 6   승인금액      int64 \n",
      "dtypes: int64(3), object(4)\n",
      "memory usage: 185.0+ MB\n"
     ]
    },
    {
     "name": "stderr",
     "output_type": "stream",
     "text": [
      "C:\\Users\\campus3S031\\AppData\\Local\\Temp\\ipykernel_26592\\3004272468.py:17: DeprecationWarning: DataFrameGroupBy.apply operated on the grouping columns. This behavior is deprecated, and in a future version of pandas the grouping columns will be excluded from the operation. Either pass `include_groups=False` to exclude the groupings or explicitly select the grouping columns after groupby to silence this warning.\n",
      "  card_data[f\"{2020 + i}\"] = datasets[f'data_{i}'].groupby(['거래년월','가맹점업종명','가맹점_광역시도'], group_keys=False).apply(lambda x: x.sample(frac=0.05))\n"
     ]
    }
   ],
   "source": [
    "# 데이터를 넣을 딕셔너리 생성\n",
    "customer_data = {}\n",
    "card_data = {}\n",
    "\n",
    "def sample_dataset(datasets):\n",
    "\n",
    "    # 데이터를 넣을 딕셔너리 생성\n",
    "    customer_data = {}\n",
    "    card_data = {}\n",
    "\n",
    "    # 데이터 층화 추출 - 칼럼들 기준\n",
    "    for i in range(4,7):\n",
    "        customer_data[f\"{2020 + (i-3)}\"] = datasets[f'data_{i}'].groupby(['기준년월', '연령대', '성별', '고객등급', '자택_시도', '자택_시군구'], group_keys=False).apply(lambda x: x.sample(frac=0.05))\n",
    "        print(f'customer data {2020 + (i-3)} sampled!')\n",
    "\n",
    "    for i in range(1,4):\n",
    "        card_data[f\"{2020 + i}\"] = datasets[f'data_{i}'].groupby(['거래년월','가맹점업종명','가맹점_광역시도'], group_keys=False).apply(lambda x: x.sample(frac=0.05))\n",
    "        print(f'card data {2020 + i} sampled!')\n",
    "\n",
    "    print('-----Sample Complete-----')\n",
    "    return customer_data, card_data\n",
    "\n",
    "customer_data, card_data = sample_dataset(datasets)\n",
    "card_data['2021'].info()"
   ]
  },
  {
   "cell_type": "code",
   "execution_count": 5,
   "metadata": {},
   "outputs": [
    {
     "data": {
      "text/plain": [
       "가맹점_시군구\n",
       "중구     407405\n",
       "달서구    380045\n",
       "수성구    329469\n",
       "북구     287711\n",
       "동구     219711\n",
       "        ...  \n",
       "완도군        34\n",
       "고창군        30\n",
       "서천군        18\n",
       "영광군        14\n",
       "무안군        14\n",
       "Name: count, Length: 208, dtype: int64"
      ]
     },
     "execution_count": 5,
     "metadata": {},
     "output_type": "execute_result"
    }
   ],
   "source": [
    "card_data['2021']['가맹점_시군구'].value_counts()"
   ]
  },
  {
   "cell_type": "code",
   "execution_count": 23,
   "metadata": {},
   "outputs": [
    {
     "data": {
      "text/plain": [
       "가맹점_시군구\n",
       "중구     8148185\n",
       "달서구    7600912\n",
       "수성구    6589354\n",
       "북구     5754217\n",
       "동구     4394302\n",
       "        ...   \n",
       "완도군        686\n",
       "고창군        593\n",
       "서천군        359\n",
       "무안군        284\n",
       "영광군        276\n",
       "Name: count, Length: 208, dtype: int64"
      ]
     },
     "execution_count": 23,
     "metadata": {},
     "output_type": "execute_result"
    }
   ],
   "source": [
    "datasets['data_1']['가맹점_시군구'].value_counts()"
   ]
  },
  {
   "cell_type": "markdown",
   "metadata": {},
   "source": [
    "# MERGE DATA"
   ]
  },
  {
   "cell_type": "code",
   "execution_count": 5,
   "metadata": {},
   "outputs": [
    {
     "name": "stdout",
     "output_type": "stream",
     "text": [
      "<class 'pandas.core.frame.DataFrame'>\n",
      "RangeIndex: 3670888 entries, 0 to 3670887\n",
      "Data columns (total 19 columns):\n",
      " #   Column    Dtype  \n",
      "---  ------    -----  \n",
      " 0   거래년월      int64  \n",
      " 1   고객ID      int64  \n",
      " 2   가맹점업종명    object \n",
      " 3   가맹점_광역시도  object \n",
      " 4   가맹점_시군구   object \n",
      " 5   승인건수      object \n",
      " 6   승인금액      int64  \n",
      " 7   기준년월      float64\n",
      " 8   연령대       object \n",
      " 9   성별        object \n",
      " 10  고객등급      object \n",
      " 11  자택_시도     object \n",
      " 12  자택_시군구    object \n",
      " 13  수신_요구불예금  float64\n",
      " 14  수신_거치식예금  float64\n",
      " 15  수신_적립식예금  float64\n",
      " 16  수신_펀드     float64\n",
      " 17  수신_외화예금   float64\n",
      " 18  대출금액      float64\n",
      "dtypes: float64(7), int64(3), object(9)\n",
      "memory usage: 532.1+ MB\n"
     ]
    }
   ],
   "source": [
    "merged_2023 = pd.merge(card_data['2023'], customer_data['2023'], on = '고객ID', how='left')\n",
    "merged_2022 = pd.merge(card_data['2022'], customer_data['2022'], on = '고객ID', how='left')\n",
    "merged_2021 = pd.merge(card_data['2021'], customer_data['2021'], on = '고객ID', how='left')\n",
    "merged_2023.info()"
   ]
  },
  {
   "cell_type": "code",
   "execution_count": 6,
   "metadata": {},
   "outputs": [
    {
     "name": "stdout",
     "output_type": "stream",
     "text": [
      "Saved card_2021_sample.csv\n",
      "Saved card_2022_sample.csv\n",
      "Saved card_2023_sample.csv\n",
      "Saved customer_2021_sample.csv\n",
      "Saved customer_2022_sample.csv\n",
      "Saved customer_2023_sample.csv\n",
      "Saved merged_2021.csv\n",
      "Saved merged_2022.csv\n",
      "Saved merged_2023.csv\n",
      "save complete!\n"
     ]
    }
   ],
   "source": [
    "merged_data = [merged_2021,merged_2022,merged_2023]\n",
    "\n",
    "file_names_card = [\n",
    "    \"card_2021_sample.csv\",\n",
    "    \"card_2022_sample.csv\",\n",
    "    \"card_2023_sample.csv\"\n",
    "]\n",
    "\n",
    "file_names_customer = [\n",
    "    \"customer_2021_sample.csv\",\n",
    "    \"customer_2022_sample.csv\",\n",
    "    \"customer_2023_sample.csv\"\n",
    "]\n",
    "\n",
    "file_names_merged = [\n",
    "    \"merged_2021.csv\",\n",
    "    \"merged_2022.csv\",\n",
    "    \"merged_2023.csv\"\n",
    "]\n",
    "\n",
    "for (key, df), name in zip(card_data.items(), file_names_card):\n",
    "    df.to_csv(f\"sampled_data/{name}\", index = False)\n",
    "    print(f\"Saved {name}\")\n",
    "\n",
    "for (key, df), name in zip(customer_data.items(), file_names_customer):\n",
    "    df.to_csv(f\"sampled_data/{name}\", index = False)\n",
    "    print(f\"Saved {name}\")\n",
    "\n",
    "for df, name in zip(merged_data, file_names_merged):\n",
    "    df.to_csv(f\"sampled_data/{name}\", index = False)\n",
    "    print(f\"Saved {name}\")\n",
    "\n",
    "print('save complete!')"
   ]
  },
  {
   "cell_type": "markdown",
   "metadata": {},
   "source": [
    "# Changed merged data method"
   ]
  },
  {
   "cell_type": "code",
   "execution_count": 7,
   "metadata": {},
   "outputs": [
    {
     "name": "stdout",
     "output_type": "stream",
     "text": [
      "<class 'pandas.core.frame.DataFrame'>\n",
      "RangeIndex: 4497954 entries, 0 to 4497953\n",
      "Data columns (total 19 columns):\n",
      " #   Column    Dtype  \n",
      "---  ------    -----  \n",
      " 0   거래년월      float64\n",
      " 1   고객ID      int64  \n",
      " 2   가맹점업종명    object \n",
      " 3   가맹점_광역시도  object \n",
      " 4   가맹점_시군구   object \n",
      " 5   승인건수      object \n",
      " 6   승인금액      float64\n",
      " 7   기준년월      float64\n",
      " 8   연령대       object \n",
      " 9   성별        object \n",
      " 10  고객등급      object \n",
      " 11  자택_시도     object \n",
      " 12  자택_시군구    object \n",
      " 13  수신_요구불예금  float64\n",
      " 14  수신_거치식예금  float64\n",
      " 15  수신_적립식예금  float64\n",
      " 16  수신_펀드     float64\n",
      " 17  수신_외화예금   float64\n",
      " 18  대출금액      float64\n",
      "dtypes: float64(9), int64(1), object(9)\n",
      "memory usage: 652.0+ MB\n"
     ]
    }
   ],
   "source": [
    "merged_2023 = pd.merge(card_data['2023'], customer_data['2023'], on = '고객ID', how='outer')\n",
    "merged_2022 = pd.merge(card_data['2022'], customer_data['2022'], on = '고객ID', how='outer')\n",
    "merged_2021 = pd.merge(card_data['2021'], customer_data['2021'], on = '고객ID', how='outer')\n",
    "merged_2023.info()"
   ]
  },
  {
   "cell_type": "code",
   "execution_count": 8,
   "metadata": {},
   "outputs": [
    {
     "name": "stdout",
     "output_type": "stream",
     "text": [
      "Saved merged_full_2021.csv\n",
      "Saved merged_full_2022.csv\n",
      "Saved merged_full_2023.csv\n"
     ]
    }
   ],
   "source": [
    "merged_data = [merged_2021,merged_2022,merged_2023]\n",
    "\n",
    "file_names_merged = [\n",
    "    \"merged_full_2021.csv\",\n",
    "    \"merged_full_2022.csv\",\n",
    "    \"merged_full_2023.csv\"\n",
    "]\n",
    "\n",
    "for df, name in zip(merged_data, file_names_merged):\n",
    "    df.to_csv(f\"sampled_data/{name}\", index = False)\n",
    "    print(f\"Saved {name}\")"
   ]
  },
  {
   "cell_type": "markdown",
   "metadata": {},
   "source": [
    "# Data Grouping\n",
    "- MZ가 타겟이니 20 ~ 30대를 타겟으로 잡아보자\n",
    "- 소비 패턴을 먼저 잡아내야 하니 카드 데이터 위주로 일단 보자.\n",
    "- 수신/여신 데이터로는 어떤 패턴을 파악 할 수 있을까?"
   ]
  },
  {
   "cell_type": "code",
   "execution_count": 9,
   "metadata": {},
   "outputs": [],
   "source": [
    "# 가맹업종만 csv로\n",
    "\n",
    "store_feature = datasets['data_1']['가맹점업종명'].value_counts()\n",
    "store_feature.to_csv(f\"sampled_data/store_feature.csv\")"
   ]
  },
  {
   "cell_type": "code",
   "execution_count": 3,
   "metadata": {},
   "outputs": [],
   "source": [
    "# RAW 데이터 중 MZ데이터만 출력해보자\n",
    "\n",
    "data_full_MZ_21 = datasets['data_4'][datasets['data_4']['연령대'].isin(['20대','30대'])]\n",
    "data_full_MZ_22 = datasets['data_5'][datasets['data_5']['연령대'].isin(['20대','30대'])]\n",
    "data_full_MZ_23 = datasets['data_6'][datasets['data_6']['연령대'].isin(['20대','30대'])]"
   ]
  },
  {
   "cell_type": "code",
   "execution_count": 10,
   "metadata": {},
   "outputs": [
    {
     "data": {
      "text/plain": [
       "(6112785, 13)"
      ]
     },
     "execution_count": 10,
     "metadata": {},
     "output_type": "execute_result"
    }
   ],
   "source": [
    "data_full_MZ_21.shape"
   ]
  },
  {
   "cell_type": "code",
   "execution_count": 11,
   "metadata": {},
   "outputs": [
    {
     "data": {
      "text/plain": [
       "(60672642, 7)"
      ]
     },
     "execution_count": 11,
     "metadata": {},
     "output_type": "execute_result"
    }
   ],
   "source": [
    "datasets['data_1'].shape"
   ]
  },
  {
   "cell_type": "code",
   "execution_count": 9,
   "metadata": {},
   "outputs": [
    {
     "ename": "MemoryError",
     "evalue": "Unable to allocate 1.81 GiB for an array with shape (243049893,) and data type int64",
     "output_type": "error",
     "traceback": [
      "\u001b[1;31m---------------------------------------------------------------------------\u001b[0m",
      "\u001b[1;31mMemoryError\u001b[0m                               Traceback (most recent call last)",
      "Cell \u001b[1;32mIn[9], line 1\u001b[0m\n\u001b[1;32m----> 1\u001b[0m merged_full_MZ_21 \u001b[38;5;241m=\u001b[39m \u001b[43mdata_full_MZ_21\u001b[49m\u001b[38;5;241;43m.\u001b[39;49m\u001b[43mset_index\u001b[49m\u001b[43m(\u001b[49m\u001b[38;5;124;43m'\u001b[39;49m\u001b[38;5;124;43m고객ID\u001b[39;49m\u001b[38;5;124;43m'\u001b[39;49m\u001b[43m)\u001b[49m\u001b[38;5;241;43m.\u001b[39;49m\u001b[43mjoin\u001b[49m\u001b[43m(\u001b[49m\u001b[43mdatasets\u001b[49m\u001b[43m[\u001b[49m\u001b[38;5;124;43m'\u001b[39;49m\u001b[38;5;124;43mdata_1\u001b[39;49m\u001b[38;5;124;43m'\u001b[39;49m\u001b[43m]\u001b[49m\u001b[38;5;241;43m.\u001b[39;49m\u001b[43mset_index\u001b[49m\u001b[43m(\u001b[49m\u001b[38;5;124;43m'\u001b[39;49m\u001b[38;5;124;43m고객ID\u001b[39;49m\u001b[38;5;124;43m'\u001b[39;49m\u001b[43m)\u001b[49m\u001b[43m,\u001b[49m\u001b[43m \u001b[49m\u001b[43mhow\u001b[49m\u001b[43m \u001b[49m\u001b[38;5;241;43m=\u001b[39;49m\u001b[43m \u001b[49m\u001b[38;5;124;43m'\u001b[39;49m\u001b[38;5;124;43minner\u001b[39;49m\u001b[38;5;124;43m'\u001b[39;49m\u001b[43m)\u001b[49m\n\u001b[0;32m      2\u001b[0m merged_full_MZ_22 \u001b[38;5;241m=\u001b[39m data_full_MZ_22\u001b[38;5;241m.\u001b[39mset_index(\u001b[38;5;124m'\u001b[39m\u001b[38;5;124m고객ID\u001b[39m\u001b[38;5;124m'\u001b[39m)\u001b[38;5;241m.\u001b[39mjoin(datasets[\u001b[38;5;124m'\u001b[39m\u001b[38;5;124mdata_2\u001b[39m\u001b[38;5;124m'\u001b[39m]\u001b[38;5;241m.\u001b[39mset_index(\u001b[38;5;124m'\u001b[39m\u001b[38;5;124m고객ID\u001b[39m\u001b[38;5;124m'\u001b[39m), how \u001b[38;5;241m=\u001b[39m \u001b[38;5;124m'\u001b[39m\u001b[38;5;124minner\u001b[39m\u001b[38;5;124m'\u001b[39m)\n\u001b[0;32m      3\u001b[0m merged_full_MZ_23 \u001b[38;5;241m=\u001b[39m data_full_MZ_23\u001b[38;5;241m.\u001b[39mset_index(\u001b[38;5;124m'\u001b[39m\u001b[38;5;124m고객ID\u001b[39m\u001b[38;5;124m'\u001b[39m)\u001b[38;5;241m.\u001b[39mjoin(datasets[\u001b[38;5;124m'\u001b[39m\u001b[38;5;124mdata_3\u001b[39m\u001b[38;5;124m'\u001b[39m]\u001b[38;5;241m.\u001b[39mset_index(\u001b[38;5;124m'\u001b[39m\u001b[38;5;124m고객ID\u001b[39m\u001b[38;5;124m'\u001b[39m), how \u001b[38;5;241m=\u001b[39m \u001b[38;5;124m'\u001b[39m\u001b[38;5;124minner\u001b[39m\u001b[38;5;124m'\u001b[39m)\n",
      "File \u001b[1;32mc:\\Users\\campus3S031\\Desktop\\iMBank\\iM_DiGital_Banker_academy\\venv\\Lib\\site-packages\\pandas\\core\\frame.py:10757\u001b[0m, in \u001b[0;36mDataFrame.join\u001b[1;34m(self, other, on, how, lsuffix, rsuffix, sort, validate)\u001b[0m\n\u001b[0;32m  10747\u001b[0m     \u001b[38;5;28;01mif\u001b[39;00m how \u001b[38;5;241m==\u001b[39m \u001b[38;5;124m\"\u001b[39m\u001b[38;5;124mcross\u001b[39m\u001b[38;5;124m\"\u001b[39m:\n\u001b[0;32m  10748\u001b[0m         \u001b[38;5;28;01mreturn\u001b[39;00m merge(\n\u001b[0;32m  10749\u001b[0m             \u001b[38;5;28mself\u001b[39m,\n\u001b[0;32m  10750\u001b[0m             other,\n\u001b[1;32m   (...)\u001b[0m\n\u001b[0;32m  10755\u001b[0m             validate\u001b[38;5;241m=\u001b[39mvalidate,\n\u001b[0;32m  10756\u001b[0m         )\n\u001b[1;32m> 10757\u001b[0m     \u001b[38;5;28;01mreturn\u001b[39;00m \u001b[43mmerge\u001b[49m\u001b[43m(\u001b[49m\n\u001b[0;32m  10758\u001b[0m \u001b[43m        \u001b[49m\u001b[38;5;28;43mself\u001b[39;49m\u001b[43m,\u001b[49m\n\u001b[0;32m  10759\u001b[0m \u001b[43m        \u001b[49m\u001b[43mother\u001b[49m\u001b[43m,\u001b[49m\n\u001b[0;32m  10760\u001b[0m \u001b[43m        \u001b[49m\u001b[43mleft_on\u001b[49m\u001b[38;5;241;43m=\u001b[39;49m\u001b[43mon\u001b[49m\u001b[43m,\u001b[49m\n\u001b[0;32m  10761\u001b[0m \u001b[43m        \u001b[49m\u001b[43mhow\u001b[49m\u001b[38;5;241;43m=\u001b[39;49m\u001b[43mhow\u001b[49m\u001b[43m,\u001b[49m\n\u001b[0;32m  10762\u001b[0m \u001b[43m        \u001b[49m\u001b[43mleft_index\u001b[49m\u001b[38;5;241;43m=\u001b[39;49m\u001b[43mon\u001b[49m\u001b[43m \u001b[49m\u001b[38;5;129;43;01mis\u001b[39;49;00m\u001b[43m \u001b[49m\u001b[38;5;28;43;01mNone\u001b[39;49;00m\u001b[43m,\u001b[49m\n\u001b[0;32m  10763\u001b[0m \u001b[43m        \u001b[49m\u001b[43mright_index\u001b[49m\u001b[38;5;241;43m=\u001b[39;49m\u001b[38;5;28;43;01mTrue\u001b[39;49;00m\u001b[43m,\u001b[49m\n\u001b[0;32m  10764\u001b[0m \u001b[43m        \u001b[49m\u001b[43msuffixes\u001b[49m\u001b[38;5;241;43m=\u001b[39;49m\u001b[43m(\u001b[49m\u001b[43mlsuffix\u001b[49m\u001b[43m,\u001b[49m\u001b[43m \u001b[49m\u001b[43mrsuffix\u001b[49m\u001b[43m)\u001b[49m\u001b[43m,\u001b[49m\n\u001b[0;32m  10765\u001b[0m \u001b[43m        \u001b[49m\u001b[43msort\u001b[49m\u001b[38;5;241;43m=\u001b[39;49m\u001b[43msort\u001b[49m\u001b[43m,\u001b[49m\n\u001b[0;32m  10766\u001b[0m \u001b[43m        \u001b[49m\u001b[43mvalidate\u001b[49m\u001b[38;5;241;43m=\u001b[39;49m\u001b[43mvalidate\u001b[49m\u001b[43m,\u001b[49m\n\u001b[0;32m  10767\u001b[0m \u001b[43m    \u001b[49m\u001b[43m)\u001b[49m\n\u001b[0;32m  10768\u001b[0m \u001b[38;5;28;01melse\u001b[39;00m:\n\u001b[0;32m  10769\u001b[0m     \u001b[38;5;28;01mif\u001b[39;00m on \u001b[38;5;129;01mis\u001b[39;00m \u001b[38;5;129;01mnot\u001b[39;00m \u001b[38;5;28;01mNone\u001b[39;00m:\n",
      "File \u001b[1;32mc:\\Users\\campus3S031\\Desktop\\iMBank\\iM_DiGital_Banker_academy\\venv\\Lib\\site-packages\\pandas\\core\\reshape\\merge.py:184\u001b[0m, in \u001b[0;36mmerge\u001b[1;34m(left, right, how, on, left_on, right_on, left_index, right_index, sort, suffixes, copy, indicator, validate)\u001b[0m\n\u001b[0;32m    169\u001b[0m \u001b[38;5;28;01melse\u001b[39;00m:\n\u001b[0;32m    170\u001b[0m     op \u001b[38;5;241m=\u001b[39m _MergeOperation(\n\u001b[0;32m    171\u001b[0m         left_df,\n\u001b[0;32m    172\u001b[0m         right_df,\n\u001b[1;32m   (...)\u001b[0m\n\u001b[0;32m    182\u001b[0m         validate\u001b[38;5;241m=\u001b[39mvalidate,\n\u001b[0;32m    183\u001b[0m     )\n\u001b[1;32m--> 184\u001b[0m     \u001b[38;5;28;01mreturn\u001b[39;00m \u001b[43mop\u001b[49m\u001b[38;5;241;43m.\u001b[39;49m\u001b[43mget_result\u001b[49m\u001b[43m(\u001b[49m\u001b[43mcopy\u001b[49m\u001b[38;5;241;43m=\u001b[39;49m\u001b[43mcopy\u001b[49m\u001b[43m)\u001b[49m\n",
      "File \u001b[1;32mc:\\Users\\campus3S031\\Desktop\\iMBank\\iM_DiGital_Banker_academy\\venv\\Lib\\site-packages\\pandas\\core\\reshape\\merge.py:886\u001b[0m, in \u001b[0;36m_MergeOperation.get_result\u001b[1;34m(self, copy)\u001b[0m\n\u001b[0;32m    883\u001b[0m \u001b[38;5;28;01mif\u001b[39;00m \u001b[38;5;28mself\u001b[39m\u001b[38;5;241m.\u001b[39mindicator:\n\u001b[0;32m    884\u001b[0m     \u001b[38;5;28mself\u001b[39m\u001b[38;5;241m.\u001b[39mleft, \u001b[38;5;28mself\u001b[39m\u001b[38;5;241m.\u001b[39mright \u001b[38;5;241m=\u001b[39m \u001b[38;5;28mself\u001b[39m\u001b[38;5;241m.\u001b[39m_indicator_pre_merge(\u001b[38;5;28mself\u001b[39m\u001b[38;5;241m.\u001b[39mleft, \u001b[38;5;28mself\u001b[39m\u001b[38;5;241m.\u001b[39mright)\n\u001b[1;32m--> 886\u001b[0m join_index, left_indexer, right_indexer \u001b[38;5;241m=\u001b[39m \u001b[38;5;28;43mself\u001b[39;49m\u001b[38;5;241;43m.\u001b[39;49m\u001b[43m_get_join_info\u001b[49m\u001b[43m(\u001b[49m\u001b[43m)\u001b[49m\n\u001b[0;32m    888\u001b[0m result \u001b[38;5;241m=\u001b[39m \u001b[38;5;28mself\u001b[39m\u001b[38;5;241m.\u001b[39m_reindex_and_concat(\n\u001b[0;32m    889\u001b[0m     join_index, left_indexer, right_indexer, copy\u001b[38;5;241m=\u001b[39mcopy\n\u001b[0;32m    890\u001b[0m )\n\u001b[0;32m    891\u001b[0m result \u001b[38;5;241m=\u001b[39m result\u001b[38;5;241m.\u001b[39m__finalize__(\u001b[38;5;28mself\u001b[39m, method\u001b[38;5;241m=\u001b[39m\u001b[38;5;28mself\u001b[39m\u001b[38;5;241m.\u001b[39m_merge_type)\n",
      "File \u001b[1;32mc:\\Users\\campus3S031\\Desktop\\iMBank\\iM_DiGital_Banker_academy\\venv\\Lib\\site-packages\\pandas\\core\\reshape\\merge.py:1137\u001b[0m, in \u001b[0;36m_MergeOperation._get_join_info\u001b[1;34m(self)\u001b[0m\n\u001b[0;32m   1134\u001b[0m right_ax \u001b[38;5;241m=\u001b[39m \u001b[38;5;28mself\u001b[39m\u001b[38;5;241m.\u001b[39mright\u001b[38;5;241m.\u001b[39mindex\n\u001b[0;32m   1136\u001b[0m \u001b[38;5;28;01mif\u001b[39;00m \u001b[38;5;28mself\u001b[39m\u001b[38;5;241m.\u001b[39mleft_index \u001b[38;5;129;01mand\u001b[39;00m \u001b[38;5;28mself\u001b[39m\u001b[38;5;241m.\u001b[39mright_index \u001b[38;5;129;01mand\u001b[39;00m \u001b[38;5;28mself\u001b[39m\u001b[38;5;241m.\u001b[39mhow \u001b[38;5;241m!=\u001b[39m \u001b[38;5;124m\"\u001b[39m\u001b[38;5;124masof\u001b[39m\u001b[38;5;124m\"\u001b[39m:\n\u001b[1;32m-> 1137\u001b[0m     join_index, left_indexer, right_indexer \u001b[38;5;241m=\u001b[39m \u001b[43mleft_ax\u001b[49m\u001b[38;5;241;43m.\u001b[39;49m\u001b[43mjoin\u001b[49m\u001b[43m(\u001b[49m\n\u001b[0;32m   1138\u001b[0m \u001b[43m        \u001b[49m\u001b[43mright_ax\u001b[49m\u001b[43m,\u001b[49m\u001b[43m \u001b[49m\u001b[43mhow\u001b[49m\u001b[38;5;241;43m=\u001b[39;49m\u001b[38;5;28;43mself\u001b[39;49m\u001b[38;5;241;43m.\u001b[39;49m\u001b[43mhow\u001b[49m\u001b[43m,\u001b[49m\u001b[43m \u001b[49m\u001b[43mreturn_indexers\u001b[49m\u001b[38;5;241;43m=\u001b[39;49m\u001b[38;5;28;43;01mTrue\u001b[39;49;00m\u001b[43m,\u001b[49m\u001b[43m \u001b[49m\u001b[43msort\u001b[49m\u001b[38;5;241;43m=\u001b[39;49m\u001b[38;5;28;43mself\u001b[39;49m\u001b[38;5;241;43m.\u001b[39;49m\u001b[43msort\u001b[49m\n\u001b[0;32m   1139\u001b[0m \u001b[43m    \u001b[49m\u001b[43m)\u001b[49m\n\u001b[0;32m   1141\u001b[0m \u001b[38;5;28;01melif\u001b[39;00m \u001b[38;5;28mself\u001b[39m\u001b[38;5;241m.\u001b[39mright_index \u001b[38;5;129;01mand\u001b[39;00m \u001b[38;5;28mself\u001b[39m\u001b[38;5;241m.\u001b[39mhow \u001b[38;5;241m==\u001b[39m \u001b[38;5;124m\"\u001b[39m\u001b[38;5;124mleft\u001b[39m\u001b[38;5;124m\"\u001b[39m:\n\u001b[0;32m   1142\u001b[0m     join_index, left_indexer, right_indexer \u001b[38;5;241m=\u001b[39m _left_join_on_index(\n\u001b[0;32m   1143\u001b[0m         left_ax, right_ax, \u001b[38;5;28mself\u001b[39m\u001b[38;5;241m.\u001b[39mleft_join_keys, sort\u001b[38;5;241m=\u001b[39m\u001b[38;5;28mself\u001b[39m\u001b[38;5;241m.\u001b[39msort\n\u001b[0;32m   1144\u001b[0m     )\n",
      "File \u001b[1;32mc:\\Users\\campus3S031\\Desktop\\iMBank\\iM_DiGital_Banker_academy\\venv\\Lib\\site-packages\\pandas\\core\\indexes\\base.py:279\u001b[0m, in \u001b[0;36m_maybe_return_indexers.<locals>.join\u001b[1;34m(self, other, how, level, return_indexers, sort)\u001b[0m\n\u001b[0;32m    269\u001b[0m \u001b[38;5;129m@functools\u001b[39m\u001b[38;5;241m.\u001b[39mwraps(meth)\n\u001b[0;32m    270\u001b[0m \u001b[38;5;28;01mdef\u001b[39;00m \u001b[38;5;21mjoin\u001b[39m(\n\u001b[0;32m    271\u001b[0m     \u001b[38;5;28mself\u001b[39m,\n\u001b[1;32m   (...)\u001b[0m\n\u001b[0;32m    277\u001b[0m     sort: \u001b[38;5;28mbool\u001b[39m \u001b[38;5;241m=\u001b[39m \u001b[38;5;28;01mFalse\u001b[39;00m,\n\u001b[0;32m    278\u001b[0m ):\n\u001b[1;32m--> 279\u001b[0m     join_index, lidx, ridx \u001b[38;5;241m=\u001b[39m \u001b[43mmeth\u001b[49m\u001b[43m(\u001b[49m\u001b[38;5;28;43mself\u001b[39;49m\u001b[43m,\u001b[49m\u001b[43m \u001b[49m\u001b[43mother\u001b[49m\u001b[43m,\u001b[49m\u001b[43m \u001b[49m\u001b[43mhow\u001b[49m\u001b[38;5;241;43m=\u001b[39;49m\u001b[43mhow\u001b[49m\u001b[43m,\u001b[49m\u001b[43m \u001b[49m\u001b[43mlevel\u001b[49m\u001b[38;5;241;43m=\u001b[39;49m\u001b[43mlevel\u001b[49m\u001b[43m,\u001b[49m\u001b[43m \u001b[49m\u001b[43msort\u001b[49m\u001b[38;5;241;43m=\u001b[39;49m\u001b[43msort\u001b[49m\u001b[43m)\u001b[49m\n\u001b[0;32m    280\u001b[0m     \u001b[38;5;28;01mif\u001b[39;00m \u001b[38;5;129;01mnot\u001b[39;00m return_indexers:\n\u001b[0;32m    281\u001b[0m         \u001b[38;5;28;01mreturn\u001b[39;00m join_index\n",
      "File \u001b[1;32mc:\\Users\\campus3S031\\Desktop\\iMBank\\iM_DiGital_Banker_academy\\venv\\Lib\\site-packages\\pandas\\core\\indexes\\base.py:4657\u001b[0m, in \u001b[0;36mIndex.join\u001b[1;34m(self, other, how, level, return_indexers, sort)\u001b[0m\n\u001b[0;32m   4655\u001b[0m         \u001b[38;5;28;01mpass\u001b[39;00m\n\u001b[0;32m   4656\u001b[0m \u001b[38;5;28;01melif\u001b[39;00m \u001b[38;5;129;01mnot\u001b[39;00m \u001b[38;5;28mself\u001b[39m\u001b[38;5;241m.\u001b[39mis_unique \u001b[38;5;129;01mor\u001b[39;00m \u001b[38;5;129;01mnot\u001b[39;00m other\u001b[38;5;241m.\u001b[39mis_unique:\n\u001b[1;32m-> 4657\u001b[0m     \u001b[38;5;28;01mreturn\u001b[39;00m \u001b[38;5;28;43mself\u001b[39;49m\u001b[38;5;241;43m.\u001b[39;49m\u001b[43m_join_non_unique\u001b[49m\u001b[43m(\u001b[49m\u001b[43mother\u001b[49m\u001b[43m,\u001b[49m\u001b[43m \u001b[49m\u001b[43mhow\u001b[49m\u001b[38;5;241;43m=\u001b[39;49m\u001b[43mhow\u001b[49m\u001b[43m,\u001b[49m\u001b[43m \u001b[49m\u001b[43msort\u001b[49m\u001b[38;5;241;43m=\u001b[39;49m\u001b[43msort\u001b[49m\u001b[43m)\u001b[49m\n\u001b[0;32m   4659\u001b[0m \u001b[38;5;28;01mreturn\u001b[39;00m \u001b[38;5;28mself\u001b[39m\u001b[38;5;241m.\u001b[39m_join_via_get_indexer(other, how, sort)\n",
      "File \u001b[1;32mc:\\Users\\campus3S031\\Desktop\\iMBank\\iM_DiGital_Banker_academy\\venv\\Lib\\site-packages\\pandas\\core\\indexes\\base.py:4821\u001b[0m, in \u001b[0;36mIndex._join_non_unique\u001b[1;34m(self, other, how, sort)\u001b[0m\n\u001b[0;32m   4818\u001b[0m \u001b[38;5;66;03m# We only get here if dtypes match\u001b[39;00m\n\u001b[0;32m   4819\u001b[0m \u001b[38;5;28;01massert\u001b[39;00m \u001b[38;5;28mself\u001b[39m\u001b[38;5;241m.\u001b[39mdtype \u001b[38;5;241m==\u001b[39m other\u001b[38;5;241m.\u001b[39mdtype\n\u001b[1;32m-> 4821\u001b[0m left_idx, right_idx \u001b[38;5;241m=\u001b[39m \u001b[43mget_join_indexers_non_unique\u001b[49m\u001b[43m(\u001b[49m\n\u001b[0;32m   4822\u001b[0m \u001b[43m    \u001b[49m\u001b[38;5;28;43mself\u001b[39;49m\u001b[38;5;241;43m.\u001b[39;49m\u001b[43m_values\u001b[49m\u001b[43m,\u001b[49m\u001b[43m \u001b[49m\u001b[43mother\u001b[49m\u001b[38;5;241;43m.\u001b[39;49m\u001b[43m_values\u001b[49m\u001b[43m,\u001b[49m\u001b[43m \u001b[49m\u001b[43mhow\u001b[49m\u001b[38;5;241;43m=\u001b[39;49m\u001b[43mhow\u001b[49m\u001b[43m,\u001b[49m\u001b[43m \u001b[49m\u001b[43msort\u001b[49m\u001b[38;5;241;43m=\u001b[39;49m\u001b[43msort\u001b[49m\n\u001b[0;32m   4823\u001b[0m \u001b[43m\u001b[49m\u001b[43m)\u001b[49m\n\u001b[0;32m   4824\u001b[0m mask \u001b[38;5;241m=\u001b[39m left_idx \u001b[38;5;241m==\u001b[39m \u001b[38;5;241m-\u001b[39m\u001b[38;5;241m1\u001b[39m\n\u001b[0;32m   4826\u001b[0m join_idx \u001b[38;5;241m=\u001b[39m \u001b[38;5;28mself\u001b[39m\u001b[38;5;241m.\u001b[39mtake(left_idx)\n",
      "File \u001b[1;32mc:\\Users\\campus3S031\\Desktop\\iMBank\\iM_DiGital_Banker_academy\\venv\\Lib\\site-packages\\pandas\\core\\reshape\\merge.py:1799\u001b[0m, in \u001b[0;36mget_join_indexers_non_unique\u001b[1;34m(left, right, sort, how)\u001b[0m\n\u001b[0;32m   1797\u001b[0m     ridx, lidx \u001b[38;5;241m=\u001b[39m libjoin\u001b[38;5;241m.\u001b[39mleft_outer_join(rkey, lkey, count, sort\u001b[38;5;241m=\u001b[39msort)\n\u001b[0;32m   1798\u001b[0m \u001b[38;5;28;01melif\u001b[39;00m how \u001b[38;5;241m==\u001b[39m \u001b[38;5;124m\"\u001b[39m\u001b[38;5;124minner\u001b[39m\u001b[38;5;124m\"\u001b[39m:\n\u001b[1;32m-> 1799\u001b[0m     lidx, ridx \u001b[38;5;241m=\u001b[39m \u001b[43mlibjoin\u001b[49m\u001b[38;5;241;43m.\u001b[39;49m\u001b[43minner_join\u001b[49m\u001b[43m(\u001b[49m\u001b[43mlkey\u001b[49m\u001b[43m,\u001b[49m\u001b[43m \u001b[49m\u001b[43mrkey\u001b[49m\u001b[43m,\u001b[49m\u001b[43m \u001b[49m\u001b[43mcount\u001b[49m\u001b[43m,\u001b[49m\u001b[43m \u001b[49m\u001b[43msort\u001b[49m\u001b[38;5;241;43m=\u001b[39;49m\u001b[43msort\u001b[49m\u001b[43m)\u001b[49m\n\u001b[0;32m   1800\u001b[0m \u001b[38;5;28;01melif\u001b[39;00m how \u001b[38;5;241m==\u001b[39m \u001b[38;5;124m\"\u001b[39m\u001b[38;5;124mouter\u001b[39m\u001b[38;5;124m\"\u001b[39m:\n\u001b[0;32m   1801\u001b[0m     lidx, ridx \u001b[38;5;241m=\u001b[39m libjoin\u001b[38;5;241m.\u001b[39mfull_outer_join(lkey, rkey, count)\n",
      "File \u001b[1;32mjoin.pyx:81\u001b[0m, in \u001b[0;36mpandas._libs.join.inner_join\u001b[1;34m()\u001b[0m\n",
      "File \u001b[1;32malgos.pyx:240\u001b[0m, in \u001b[0;36mpandas._libs.algos.groupsort_indexer\u001b[1;34m()\u001b[0m\n",
      "\u001b[1;31mMemoryError\u001b[0m: Unable to allocate 1.81 GiB for an array with shape (243049893,) and data type int64"
     ]
    }
   ],
   "source": [
    "# 데이터 용량이 너무 커서 계속 실패함\n",
    "'''\n",
    "merged_full_MZ_21 = data_full_MZ_21.set_index('고객ID').join(datasets['data_1'].set_index('고객ID'), how = 'inner')\n",
    "merged_full_MZ_22 = data_full_MZ_22.set_index('고객ID').join(datasets['data_2'].set_index('고객ID'), how = 'inner')\n",
    "merged_full_MZ_23 = data_full_MZ_23.set_index('고객ID').join(datasets['data_3'].set_index('고객ID'), how = 'inner')\n",
    "'''"
   ]
  },
  {
   "cell_type": "code",
   "execution_count": null,
   "metadata": {},
   "outputs": [],
   "source": []
  }
 ],
 "metadata": {
  "kernelspec": {
   "display_name": "venv",
   "language": "python",
   "name": "python3"
  },
  "language_info": {
   "codemirror_mode": {
    "name": "ipython",
    "version": 3
   },
   "file_extension": ".py",
   "mimetype": "text/x-python",
   "name": "python",
   "nbconvert_exporter": "python",
   "pygments_lexer": "ipython3",
   "version": "3.12.7"
  }
 },
 "nbformat": 4,
 "nbformat_minor": 2
}
