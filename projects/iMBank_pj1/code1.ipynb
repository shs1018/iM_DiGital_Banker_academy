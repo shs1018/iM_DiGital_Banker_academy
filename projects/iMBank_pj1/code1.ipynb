{
 "cells": [
  {
   "cell_type": "code",
   "execution_count": null,
   "metadata": {},
   "outputs": [],
   "source": [
    "#pip install -r \"../requirements.txt\" -qq"
   ]
  },
  {
   "cell_type": "code",
   "execution_count": 8,
   "metadata": {},
   "outputs": [],
   "source": [
    "import pandas as pd\n",
    "import numpy as np"
   ]
  },
  {
   "cell_type": "code",
   "execution_count": 38,
   "metadata": {},
   "outputs": [],
   "source": [
    "import pandas as pd\n",
    "\n",
    "DATA_PATH = 'C:/Users/campus3S031/Desktop/iM뱅크 프로젝트용 데이터/'\n",
    "csv_names = [\n",
    "    'iMBANK_CARD_DATA_2021(K-DigitalTraining).csv', \n",
    "    'iMBANK_CARD_DATA_2022(K-DigitalTraining).csv', \n",
    "    'iMBANK_CARD_DATA_2023(K-DigitalTraining).csv', \n",
    "    'iMBANK_CUSTOMER_DATA_2021(K-DigitalTraining).csv', \n",
    "    'iMBANK_CUSTOMER_DATA_2022(K-DigitalTraining).csv', \n",
    "    'iMBANK_CUSTOMER_DATA_2023(K-DigitalTraining).csv'\n",
    "    ]\n",
    "datasets = {}\n",
    "def read_data(csv_names):\n",
    "    for i in range(len(csv_names)):\n",
    "        datasets[f\"data_{i+1}\"] = pd.read_csv(f\"{DATA_PATH}{csv_names[i]}\", encoding='cp949')\n",
    "\n",
    "        print(f'data input complete! : {csv_names[i]} as data_{i+1}')\n",
    "    print('All data read complete!')\n",
    "\n",
    "read_data(csv_names)"
   ]
  },
  {
   "cell_type": "code",
   "execution_count": 39,
   "metadata": {},
   "outputs": [
    {
     "name": "stdout",
     "output_type": "stream",
     "text": [
      "data input complete! : iMBANK_CARD_DATA_2021(K-DigitalTraining).csv as data_1\n",
      "data input complete! : iMBANK_CARD_DATA_2022(K-DigitalTraining).csv as data_2\n",
      "data input complete! : iMBANK_CARD_DATA_2023(K-DigitalTraining).csv as data_3\n",
      "data input complete! : iMBANK_CUSTOMER_DATA_2021(K-DigitalTraining).csv as data_4\n",
      "data input complete! : iMBANK_CUSTOMER_DATA_2022(K-DigitalTraining).csv as data_5\n",
      "data input complete! : iMBANK_CUSTOMER_DATA_2023(K-DigitalTraining).csv as data_6\n"
     ]
    }
   ],
   "source": [
    "read_data(csv_names)"
   ]
  },
  {
   "cell_type": "markdown",
   "metadata": {},
   "source": [
    "# 다 읽어왔다!"
   ]
  },
  {
   "cell_type": "code",
   "execution_count": 45,
   "metadata": {},
   "outputs": [
    {
     "data": {
      "text/html": [
       "<div>\n",
       "<style scoped>\n",
       "    .dataframe tbody tr th:only-of-type {\n",
       "        vertical-align: middle;\n",
       "    }\n",
       "\n",
       "    .dataframe tbody tr th {\n",
       "        vertical-align: top;\n",
       "    }\n",
       "\n",
       "    .dataframe thead th {\n",
       "        text-align: right;\n",
       "    }\n",
       "</style>\n",
       "<table border=\"1\" class=\"dataframe\">\n",
       "  <thead>\n",
       "    <tr style=\"text-align: right;\">\n",
       "      <th></th>\n",
       "      <th>거래년월</th>\n",
       "      <th>고객ID</th>\n",
       "      <th>승인금액</th>\n",
       "    </tr>\n",
       "  </thead>\n",
       "  <tbody>\n",
       "    <tr>\n",
       "      <th>count</th>\n",
       "      <td>6.067264e+07</td>\n",
       "      <td>6.067264e+07</td>\n",
       "      <td>6.067264e+07</td>\n",
       "    </tr>\n",
       "    <tr>\n",
       "      <th>mean</th>\n",
       "      <td>2.021066e+05</td>\n",
       "      <td>6.677297e+09</td>\n",
       "      <td>5.299210e+04</td>\n",
       "    </tr>\n",
       "    <tr>\n",
       "      <th>std</th>\n",
       "      <td>3.417087e+00</td>\n",
       "      <td>1.886250e+09</td>\n",
       "      <td>1.454830e+05</td>\n",
       "    </tr>\n",
       "    <tr>\n",
       "      <th>min</th>\n",
       "      <td>2.021010e+05</td>\n",
       "      <td>2.800789e+09</td>\n",
       "      <td>1.000000e+04</td>\n",
       "    </tr>\n",
       "    <tr>\n",
       "      <th>25%</th>\n",
       "      <td>2.021040e+05</td>\n",
       "      <td>5.095210e+09</td>\n",
       "      <td>1.000000e+04</td>\n",
       "    </tr>\n",
       "    <tr>\n",
       "      <th>50%</th>\n",
       "      <td>2.021070e+05</td>\n",
       "      <td>6.702004e+09</td>\n",
       "      <td>2.000000e+04</td>\n",
       "    </tr>\n",
       "    <tr>\n",
       "      <th>75%</th>\n",
       "      <td>2.021100e+05</td>\n",
       "      <td>8.280529e+09</td>\n",
       "      <td>5.000000e+04</td>\n",
       "    </tr>\n",
       "    <tr>\n",
       "      <th>max</th>\n",
       "      <td>2.021120e+05</td>\n",
       "      <td>9.999998e+09</td>\n",
       "      <td>9.900000e+06</td>\n",
       "    </tr>\n",
       "  </tbody>\n",
       "</table>\n",
       "</div>"
      ],
      "text/plain": [
       "               거래년월          고객ID          승인금액\n",
       "count  6.067264e+07  6.067264e+07  6.067264e+07\n",
       "mean   2.021066e+05  6.677297e+09  5.299210e+04\n",
       "std    3.417087e+00  1.886250e+09  1.454830e+05\n",
       "min    2.021010e+05  2.800789e+09  1.000000e+04\n",
       "25%    2.021040e+05  5.095210e+09  1.000000e+04\n",
       "50%    2.021070e+05  6.702004e+09  2.000000e+04\n",
       "75%    2.021100e+05  8.280529e+09  5.000000e+04\n",
       "max    2.021120e+05  9.999998e+09  9.900000e+06"
      ]
     },
     "execution_count": 45,
     "metadata": {},
     "output_type": "execute_result"
    }
   ],
   "source": [
    "datasets['data_1'].describe()"
   ]
  },
  {
   "cell_type": "code",
   "execution_count": 46,
   "metadata": {},
   "outputs": [
    {
     "name": "stdout",
     "output_type": "stream",
     "text": [
      "<class 'pandas.core.frame.DataFrame'>\n",
      "RangeIndex: 20835992 entries, 0 to 20835991\n",
      "Data columns (total 13 columns):\n",
      " #   Column    Dtype \n",
      "---  ------    ----- \n",
      " 0   기준년월      int64 \n",
      " 1   고객ID      int64 \n",
      " 2   연령대       object\n",
      " 3   성별        object\n",
      " 4   고객등급      object\n",
      " 5   자택_시도     object\n",
      " 6   자택_시군구    object\n",
      " 7   수신_요구불예금  int64 \n",
      " 8   수신_거치식예금  int64 \n",
      " 9   수신_적립식예금  int64 \n",
      " 10  수신_펀드     int64 \n",
      " 11  수신_외화예금   int64 \n",
      " 12  대출금액      int64 \n",
      "dtypes: int64(8), object(5)\n",
      "memory usage: 2.0+ GB\n"
     ]
    }
   ],
   "source": [
    "datasets['data_4'].info()"
   ]
  },
  {
   "cell_type": "code",
   "execution_count": null,
   "metadata": {},
   "outputs": [],
   "source": []
  }
 ],
 "metadata": {
  "kernelspec": {
   "display_name": "Python 3",
   "language": "python",
   "name": "python3"
  },
  "language_info": {
   "codemirror_mode": {
    "name": "ipython",
    "version": 3
   },
   "file_extension": ".py",
   "mimetype": "text/x-python",
   "name": "python",
   "nbconvert_exporter": "python",
   "pygments_lexer": "ipython3",
   "version": "3.12.7"
  }
 },
 "nbformat": 4,
 "nbformat_minor": 2
}
