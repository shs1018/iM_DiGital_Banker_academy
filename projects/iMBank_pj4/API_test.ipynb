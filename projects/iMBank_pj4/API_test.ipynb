{
 "cells": [
  {
   "cell_type": "code",
   "execution_count": 3,
   "metadata": {},
   "outputs": [
    {
     "name": "stdout",
     "output_type": "stream",
     "text": [
      "Defaulting to user installation because normal site-packages is not writeable\n",
      "Collecting PyQt5\n",
      "  Downloading PyQt5-5.15.11-cp38-abi3-win_amd64.whl.metadata (2.1 kB)\n",
      "Collecting PyQt5-sip<13,>=12.15 (from PyQt5)\n",
      "  Downloading PyQt5_sip-12.16.1-cp312-cp312-win_amd64.whl.metadata (439 bytes)\n",
      "Collecting PyQt5-Qt5<5.16.0,>=5.15.2 (from PyQt5)\n",
      "  Downloading PyQt5_Qt5-5.15.2-py3-none-win_amd64.whl.metadata (552 bytes)\n",
      "Downloading PyQt5-5.15.11-cp38-abi3-win_amd64.whl (6.9 MB)\n",
      "   ---------------------------------------- 0.0/6.9 MB ? eta -:--:--\n",
      "   ---------------------------------------- 6.9/6.9 MB 42.3 MB/s eta 0:00:00\n",
      "Downloading PyQt5_Qt5-5.15.2-py3-none-win_amd64.whl (50.1 MB)\n",
      "   ---------------------------------------- 0.0/50.1 MB ? eta -:--:--\n",
      "   ----------- ---------------------------- 14.7/50.1 MB 71.0 MB/s eta 0:00:01\n",
      "   --------------------- ------------------ 27.5/50.1 MB 67.2 MB/s eta 0:00:01\n",
      "   --------------------------------- ------ 42.2/50.1 MB 65.5 MB/s eta 0:00:01\n",
      "   ---------------------------------------- 50.1/50.1 MB 60.2 MB/s eta 0:00:00\n",
      "Downloading PyQt5_sip-12.16.1-cp312-cp312-win_amd64.whl (57 kB)\n",
      "Installing collected packages: PyQt5-Qt5, PyQt5-sip, PyQt5\n",
      "Successfully installed PyQt5-5.15.11 PyQt5-Qt5-5.15.2 PyQt5-sip-12.16.1\n"
     ]
    }
   ],
   "source": [
    "# PyQt5는 키움API의 방식인 COM 방식으로 동작하므로 PyQt5가 필요하다.\n",
    "#!pip install PyQt5"
   ]
  },
  {
   "cell_type": "code",
   "execution_count": 3,
   "metadata": {},
   "outputs": [
    {
     "name": "stdout",
     "output_type": "stream",
     "text": [
      "Defaulting to user installation because normal site-packages is not writeable\n",
      "Collecting pykiwoom\n",
      "  Downloading pykiwoom-0.1.6-py3-none-any.whl.metadata (381 bytes)\n",
      "Requirement already satisfied: pandas in c:\\users\\campus3s031\\appdata\\roaming\\python\\python312\\site-packages (from pykiwoom) (2.2.3)\n",
      "Requirement already satisfied: pyqt5 in c:\\users\\campus3s031\\appdata\\roaming\\python\\python312\\site-packages (from pykiwoom) (5.15.11)\n",
      "Requirement already satisfied: pywin32 in c:\\users\\campus3s031\\appdata\\roaming\\python\\python312\\site-packages (from pykiwoom) (308)\n",
      "Requirement already satisfied: numpy>=1.26.0 in c:\\users\\campus3s031\\appdata\\roaming\\python\\python312\\site-packages (from pandas->pykiwoom) (2.1.3)\n",
      "Requirement already satisfied: python-dateutil>=2.8.2 in c:\\users\\campus3s031\\appdata\\roaming\\python\\python312\\site-packages (from pandas->pykiwoom) (2.9.0.post0)\n",
      "Requirement already satisfied: pytz>=2020.1 in c:\\users\\campus3s031\\appdata\\roaming\\python\\python312\\site-packages (from pandas->pykiwoom) (2024.2)\n",
      "Requirement already satisfied: tzdata>=2022.7 in c:\\users\\campus3s031\\appdata\\roaming\\python\\python312\\site-packages (from pandas->pykiwoom) (2024.2)\n",
      "Requirement already satisfied: PyQt5-sip<13,>=12.15 in c:\\users\\campus3s031\\appdata\\roaming\\python\\python312\\site-packages (from pyqt5->pykiwoom) (12.16.1)\n",
      "Requirement already satisfied: PyQt5-Qt5<5.16.0,>=5.15.2 in c:\\users\\campus3s031\\appdata\\roaming\\python\\python312\\site-packages (from pyqt5->pykiwoom) (5.15.2)\n",
      "Requirement already satisfied: six>=1.5 in c:\\users\\campus3s031\\appdata\\roaming\\python\\python312\\site-packages (from python-dateutil>=2.8.2->pandas->pykiwoom) (1.16.0)\n",
      "Downloading pykiwoom-0.1.6-py3-none-any.whl (16 kB)\n",
      "Installing collected packages: pykiwoom\n",
      "Successfully installed pykiwoom-0.1.6\n"
     ]
    }
   ],
   "source": [
    "# OpenAPI를 사용하기 쉽게 해 주는 라이브러리(업데이트 중)\n",
    "#!pip install pykiwoom"
   ]
  },
  {
   "cell_type": "code",
   "execution_count": 1,
   "metadata": {},
   "outputs": [],
   "source": [
    "import sys \n",
    "from PyQt5.QtWidgets import *\n",
    "from PyQt5.QAxContainer import *\n",
    "from pykiwoom.kiwoom import *"
   ]
  },
  {
   "cell_type": "markdown",
   "metadata": {},
   "source": [
    "# 로그인"
   ]
  },
  {
   "cell_type": "code",
   "execution_count": null,
   "metadata": {},
   "outputs": [],
   "source": []
  },
  {
   "cell_type": "code",
   "execution_count": 5,
   "metadata": {},
   "outputs": [
    {
     "ename": "AttributeError",
     "evalue": "'QAxWidget' object has no attribute 'OnReceiveTrData'",
     "output_type": "error",
     "traceback": [
      "\u001b[1;31m---------------------------------------------------------------------------\u001b[0m",
      "\u001b[1;31mAttributeError\u001b[0m                            Traceback (most recent call last)",
      "Cell \u001b[1;32mIn[5], line 1\u001b[0m\n\u001b[1;32m----> 1\u001b[0m kiwoom \u001b[38;5;241m=\u001b[39m \u001b[43mKiwoom\u001b[49m\u001b[43m(\u001b[49m\u001b[43m)\u001b[49m\n\u001b[0;32m      2\u001b[0m kiwoom\u001b[38;5;241m.\u001b[39mCommConnect(block\u001b[38;5;241m=\u001b[39m\u001b[38;5;28;01mTrue\u001b[39;00m)\n\u001b[0;32m      3\u001b[0m \u001b[38;5;28mprint\u001b[39m(\u001b[38;5;124m\"\u001b[39m\u001b[38;5;124m블록킹 로그인 완료\u001b[39m\u001b[38;5;124m\"\u001b[39m)\n",
      "File \u001b[1;32m~\\AppData\\Roaming\\Python\\Python312\\site-packages\\pykiwoom\\kiwoom.py:36\u001b[0m, in \u001b[0;36mKiwoom.__init__\u001b[1;34m(self, login, tr_dqueue, real_dqueues, tr_cond_dqueue, real_cond_dqueue, chejan_dqueue)\u001b[0m\n\u001b[0;32m     33\u001b[0m \u001b[38;5;28mself\u001b[39m\u001b[38;5;241m.\u001b[39mtr_remained        \u001b[38;5;241m=\u001b[39m \u001b[38;5;28;01mFalse\u001b[39;00m\n\u001b[0;32m     34\u001b[0m \u001b[38;5;28mself\u001b[39m\u001b[38;5;241m.\u001b[39mcondition_loaded   \u001b[38;5;241m=\u001b[39m \u001b[38;5;28;01mFalse\u001b[39;00m\n\u001b[1;32m---> 36\u001b[0m \u001b[38;5;28;43mself\u001b[39;49m\u001b[38;5;241;43m.\u001b[39;49m\u001b[43m_set_signals_slots\u001b[49m\u001b[43m(\u001b[49m\u001b[43m)\u001b[49m\n\u001b[0;32m     38\u001b[0m \u001b[38;5;28mself\u001b[39m\u001b[38;5;241m.\u001b[39mtr_output \u001b[38;5;241m=\u001b[39m {}\n\u001b[0;32m     39\u001b[0m \u001b[38;5;28mself\u001b[39m\u001b[38;5;241m.\u001b[39mreal_fid \u001b[38;5;241m=\u001b[39m {}\n",
      "File \u001b[1;32m~\\AppData\\Roaming\\Python\\Python312\\site-packages\\pykiwoom\\kiwoom.py:221\u001b[0m, in \u001b[0;36mKiwoom._set_signals_slots\u001b[1;34m(self)\u001b[0m\n\u001b[0;32m    220\u001b[0m \u001b[38;5;28;01mdef\u001b[39;00m \u001b[38;5;21m_set_signals_slots\u001b[39m(\u001b[38;5;28mself\u001b[39m):\n\u001b[1;32m--> 221\u001b[0m     \u001b[38;5;28;43mself\u001b[39;49m\u001b[38;5;241;43m.\u001b[39;49m\u001b[43mocx\u001b[49m\u001b[38;5;241;43m.\u001b[39;49m\u001b[43mOnReceiveTrData\u001b[49m\u001b[38;5;241m.\u001b[39mconnect(\u001b[38;5;28mself\u001b[39m\u001b[38;5;241m.\u001b[39mOnReceiveTrData)\n\u001b[0;32m    222\u001b[0m     \u001b[38;5;28mself\u001b[39m\u001b[38;5;241m.\u001b[39mocx\u001b[38;5;241m.\u001b[39mOnReceiveRealData\u001b[38;5;241m.\u001b[39mconnect(\u001b[38;5;28mself\u001b[39m\u001b[38;5;241m.\u001b[39mOnReceiveRealData)\n\u001b[0;32m    223\u001b[0m     \u001b[38;5;28mself\u001b[39m\u001b[38;5;241m.\u001b[39mocx\u001b[38;5;241m.\u001b[39mOnReceiveMsg\u001b[38;5;241m.\u001b[39mconnect(\u001b[38;5;28mself\u001b[39m\u001b[38;5;241m.\u001b[39mOnReceiveMsg)\n",
      "\u001b[1;31mAttributeError\u001b[0m: 'QAxWidget' object has no attribute 'OnReceiveTrData'"
     ]
    }
   ],
   "source": [
    "kiwoom = Kiwoom()\n",
    "kiwoom.CommConnect(block=True)\n",
    "print(\"블록킹 로그인 완료\")"
   ]
  },
  {
   "cell_type": "code",
   "execution_count": 6,
   "metadata": {},
   "outputs": [
    {
     "ename": "AttributeError",
     "evalue": "'QAxWidget' object has no attribute 'OnReceiveTrData'",
     "output_type": "error",
     "traceback": [
      "\u001b[1;31m---------------------------------------------------------------------------\u001b[0m",
      "\u001b[1;31mAttributeError\u001b[0m                            Traceback (most recent call last)",
      "Cell \u001b[1;32mIn[6], line 1\u001b[0m\n\u001b[1;32m----> 1\u001b[0m kiwoom \u001b[38;5;241m=\u001b[39m \u001b[43mKiwoom\u001b[49m\u001b[43m(\u001b[49m\u001b[43m)\u001b[49m\n\u001b[0;32m      2\u001b[0m kiwoom\u001b[38;5;241m.\u001b[39mCommConnect(block\u001b[38;5;241m=\u001b[39m\u001b[38;5;28;01mTrue\u001b[39;00m)  \u001b[38;5;66;03m# API 로그인\u001b[39;00m\n\u001b[0;32m      4\u001b[0m \u001b[38;5;66;03m# 계좌 정보 확인\u001b[39;00m\n",
      "File \u001b[1;32m~\\AppData\\Roaming\\Python\\Python312\\site-packages\\pykiwoom\\kiwoom.py:36\u001b[0m, in \u001b[0;36mKiwoom.__init__\u001b[1;34m(self, login, tr_dqueue, real_dqueues, tr_cond_dqueue, real_cond_dqueue, chejan_dqueue)\u001b[0m\n\u001b[0;32m     33\u001b[0m \u001b[38;5;28mself\u001b[39m\u001b[38;5;241m.\u001b[39mtr_remained        \u001b[38;5;241m=\u001b[39m \u001b[38;5;28;01mFalse\u001b[39;00m\n\u001b[0;32m     34\u001b[0m \u001b[38;5;28mself\u001b[39m\u001b[38;5;241m.\u001b[39mcondition_loaded   \u001b[38;5;241m=\u001b[39m \u001b[38;5;28;01mFalse\u001b[39;00m\n\u001b[1;32m---> 36\u001b[0m \u001b[38;5;28;43mself\u001b[39;49m\u001b[38;5;241;43m.\u001b[39;49m\u001b[43m_set_signals_slots\u001b[49m\u001b[43m(\u001b[49m\u001b[43m)\u001b[49m\n\u001b[0;32m     38\u001b[0m \u001b[38;5;28mself\u001b[39m\u001b[38;5;241m.\u001b[39mtr_output \u001b[38;5;241m=\u001b[39m {}\n\u001b[0;32m     39\u001b[0m \u001b[38;5;28mself\u001b[39m\u001b[38;5;241m.\u001b[39mreal_fid \u001b[38;5;241m=\u001b[39m {}\n",
      "File \u001b[1;32m~\\AppData\\Roaming\\Python\\Python312\\site-packages\\pykiwoom\\kiwoom.py:221\u001b[0m, in \u001b[0;36mKiwoom._set_signals_slots\u001b[1;34m(self)\u001b[0m\n\u001b[0;32m    220\u001b[0m \u001b[38;5;28;01mdef\u001b[39;00m \u001b[38;5;21m_set_signals_slots\u001b[39m(\u001b[38;5;28mself\u001b[39m):\n\u001b[1;32m--> 221\u001b[0m     \u001b[38;5;28;43mself\u001b[39;49m\u001b[38;5;241;43m.\u001b[39;49m\u001b[43mocx\u001b[49m\u001b[38;5;241;43m.\u001b[39;49m\u001b[43mOnReceiveTrData\u001b[49m\u001b[38;5;241m.\u001b[39mconnect(\u001b[38;5;28mself\u001b[39m\u001b[38;5;241m.\u001b[39mOnReceiveTrData)\n\u001b[0;32m    222\u001b[0m     \u001b[38;5;28mself\u001b[39m\u001b[38;5;241m.\u001b[39mocx\u001b[38;5;241m.\u001b[39mOnReceiveRealData\u001b[38;5;241m.\u001b[39mconnect(\u001b[38;5;28mself\u001b[39m\u001b[38;5;241m.\u001b[39mOnReceiveRealData)\n\u001b[0;32m    223\u001b[0m     \u001b[38;5;28mself\u001b[39m\u001b[38;5;241m.\u001b[39mocx\u001b[38;5;241m.\u001b[39mOnReceiveMsg\u001b[38;5;241m.\u001b[39mconnect(\u001b[38;5;28mself\u001b[39m\u001b[38;5;241m.\u001b[39mOnReceiveMsg)\n",
      "\u001b[1;31mAttributeError\u001b[0m: 'QAxWidget' object has no attribute 'OnReceiveTrData'"
     ]
    }
   ],
   "source": [
    "kiwoom = Kiwoom()\n",
    "kiwoom.CommConnect(block=True)  # API 로그인\n",
    "\n",
    "# 계좌 정보 확인\n",
    "accounts = kiwoom.GetLoginInfo(\"ACCNO\")  # 계좌 번호 가져오기\n",
    "print(\"계좌번호:\", accounts)"
   ]
  }
 ],
 "metadata": {
  "kernelspec": {
   "display_name": "Python 3",
   "language": "python",
   "name": "python3"
  },
  "language_info": {
   "codemirror_mode": {
    "name": "ipython",
    "version": 3
   },
   "file_extension": ".py",
   "mimetype": "text/x-python",
   "name": "python",
   "nbconvert_exporter": "python",
   "pygments_lexer": "ipython3",
   "version": "3.12.7"
  }
 },
 "nbformat": 4,
 "nbformat_minor": 2
}
