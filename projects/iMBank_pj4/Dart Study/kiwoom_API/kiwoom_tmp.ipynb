{
 "cells": [
  {
   "cell_type": "code",
   "execution_count": 2,
   "metadata": {},
   "outputs": [
    {
     "name": "stdout",
     "output_type": "stream",
     "text": [
      "Requirement already satisfied: pywin32 in c:\\users\\campus3s031\\desktop\\imbank\\im_digital_banker_academy\\venv\\lib\\site-packages (308)\n",
      "Collecting kiwoom\n",
      "  Downloading kiwoom-1.3.5-py3-none-any.whl.metadata (12 kB)\n",
      "Requirement already satisfied: tabulate>=0.9.0 in c:\\users\\campus3s031\\desktop\\imbank\\im_digital_banker_academy\\venv\\lib\\site-packages (from kiwoom) (0.9.0)\n",
      "Requirement already satisfied: PyQt5>=5.15.9 in c:\\users\\campus3s031\\desktop\\imbank\\im_digital_banker_academy\\venv\\lib\\site-packages (from kiwoom) (5.15.11)\n",
      "Requirement already satisfied: PyQt5-sip<13,>=12.15 in c:\\users\\campus3s031\\desktop\\imbank\\im_digital_banker_academy\\venv\\lib\\site-packages (from PyQt5>=5.15.9->kiwoom) (12.17.0)\n",
      "Requirement already satisfied: PyQt5-Qt5<5.16.0,>=5.15.2 in c:\\users\\campus3s031\\desktop\\imbank\\im_digital_banker_academy\\venv\\lib\\site-packages (from PyQt5>=5.15.9->kiwoom) (5.15.2)\n",
      "Downloading kiwoom-1.3.5-py3-none-any.whl (49 kB)\n",
      "Installing collected packages: kiwoom\n",
      "Successfully installed kiwoom-1.3.5\n"
     ]
    },
    {
     "name": "stderr",
     "output_type": "stream",
     "text": [
      "\n",
      "[notice] A new release of pip is available: 24.3.1 -> 25.0\n",
      "[notice] To update, run: python.exe -m pip install --upgrade pip\n"
     ]
    }
   ],
   "source": [
    "!pip install pywin32 kiwoom -qq"
   ]
  },
  {
   "cell_type": "code",
   "execution_count": 3,
   "metadata": {},
   "outputs": [
    {
     "ename": "AttributeError",
     "evalue": "'Kiwoom' object has no attribute 'OnEventConnect'",
     "output_type": "error",
     "traceback": [
      "\u001b[1;31m---------------------------------------------------------------------------\u001b[0m",
      "\u001b[1;31mAttributeError\u001b[0m                            Traceback (most recent call last)",
      "Cell \u001b[1;32mIn[3], line 20\u001b[0m\n\u001b[0;32m     17\u001b[0m         \u001b[38;5;28mprint\u001b[39m(\u001b[38;5;124mf\u001b[39m\u001b[38;5;124m\"\u001b[39m\u001b[38;5;132;01m{\u001b[39;00mstock_code\u001b[38;5;132;01m}\u001b[39;00m\u001b[38;5;124m의 이름: \u001b[39m\u001b[38;5;132;01m{\u001b[39;00mstock_info\u001b[38;5;132;01m}\u001b[39;00m\u001b[38;5;124m\"\u001b[39m)\n\u001b[0;32m     19\u001b[0m \u001b[38;5;28;01mif\u001b[39;00m \u001b[38;5;18m__name__\u001b[39m \u001b[38;5;241m==\u001b[39m \u001b[38;5;124m\"\u001b[39m\u001b[38;5;124m__main__\u001b[39m\u001b[38;5;124m\"\u001b[39m:\n\u001b[1;32m---> 20\u001b[0m     my_app \u001b[38;5;241m=\u001b[39m \u001b[43mMyApp\u001b[49m\u001b[43m(\u001b[49m\u001b[43m)\u001b[49m\n\u001b[0;32m     21\u001b[0m     sys\u001b[38;5;241m.\u001b[39mexit(my_app\u001b[38;5;241m.\u001b[39mapp\u001b[38;5;241m.\u001b[39mexec_())\n",
      "Cell \u001b[1;32mIn[3], line 8\u001b[0m, in \u001b[0;36mMyApp.__init__\u001b[1;34m(self)\u001b[0m\n\u001b[0;32m      6\u001b[0m \u001b[38;5;28;01mdef\u001b[39;00m \u001b[38;5;21m__init__\u001b[39m(\u001b[38;5;28mself\u001b[39m):\n\u001b[0;32m      7\u001b[0m     \u001b[38;5;28mself\u001b[39m\u001b[38;5;241m.\u001b[39mapp \u001b[38;5;241m=\u001b[39m QApplication(sys\u001b[38;5;241m.\u001b[39margv)\n\u001b[1;32m----> 8\u001b[0m     \u001b[38;5;28mself\u001b[39m\u001b[38;5;241m.\u001b[39mkiwoom \u001b[38;5;241m=\u001b[39m \u001b[43mKiwoom\u001b[49m\u001b[43m(\u001b[49m\u001b[43m)\u001b[49m\n\u001b[0;32m      9\u001b[0m     \u001b[38;5;28mself\u001b[39m\u001b[38;5;241m.\u001b[39mkiwoom\u001b[38;5;241m.\u001b[39mCommConnect()  \u001b[38;5;66;03m# 로그인\u001b[39;00m\n\u001b[0;32m     11\u001b[0m     \u001b[38;5;66;03m# 로그인 후 주식 정보 조회\u001b[39;00m\n",
      "File \u001b[1;32mc:\\Users\\campus3S031\\Desktop\\iMBank\\iM_DiGital_Banker_academy\\venv\\Lib\\site-packages\\kiwoom\\core\\kiwoom.py:67\u001b[0m, in \u001b[0;36mKiwoom.__init__\u001b[1;34m(self)\u001b[0m\n\u001b[0;32m     66\u001b[0m \u001b[38;5;28;01mdef\u001b[39;00m \u001b[38;5;21m__init__\u001b[39m(\u001b[38;5;28mself\u001b[39m):\n\u001b[1;32m---> 67\u001b[0m     \u001b[38;5;28;43msuper\u001b[39;49m\u001b[43m(\u001b[49m\u001b[43m)\u001b[49m\u001b[38;5;241;43m.\u001b[39;49m\u001b[38;5;21;43m__init__\u001b[39;49m\u001b[43m(\u001b[49m\u001b[43m)\u001b[49m\n\u001b[0;32m     68\u001b[0m     \u001b[38;5;28mself\u001b[39m\u001b[38;5;241m.\u001b[39mmsg \u001b[38;5;241m=\u001b[39m \u001b[38;5;28;01mTrue\u001b[39;00m\n\u001b[0;32m     69\u001b[0m     \u001b[38;5;28mself\u001b[39m\u001b[38;5;241m.\u001b[39m_qloop \u001b[38;5;241m=\u001b[39m QEventLoop()\n",
      "File \u001b[1;32mc:\\Users\\campus3S031\\Desktop\\iMBank\\iM_DiGital_Banker_academy\\venv\\Lib\\site-packages\\kiwoom\\wrapper\\api.py:24\u001b[0m, in \u001b[0;36mAPI.__init__\u001b[1;34m(self)\u001b[0m\n\u001b[0;32m     21\u001b[0m \u001b[38;5;28mself\u001b[39m\u001b[38;5;241m.\u001b[39msetControl(\u001b[38;5;124m\"\u001b[39m\u001b[38;5;124mKHOPENAPI.KHOpenAPICtrl.1\u001b[39m\u001b[38;5;124m\"\u001b[39m)\n\u001b[0;32m     23\u001b[0m \u001b[38;5;66;03m# To connect event handler\u001b[39;00m\n\u001b[1;32m---> 24\u001b[0m \u001b[38;5;28;43mself\u001b[39;49m\u001b[38;5;241;43m.\u001b[39;49m\u001b[43mOnEventConnect\u001b[49m\u001b[38;5;241m.\u001b[39mconnect(\u001b[38;5;28mself\u001b[39m\u001b[38;5;241m.\u001b[39mon_event_connect)\n\u001b[0;32m     25\u001b[0m \u001b[38;5;28mself\u001b[39m\u001b[38;5;241m.\u001b[39mOnReceiveMsg\u001b[38;5;241m.\u001b[39mconnect(\u001b[38;5;28mself\u001b[39m\u001b[38;5;241m.\u001b[39mon_receive_msg)\n\u001b[0;32m     26\u001b[0m \u001b[38;5;28mself\u001b[39m\u001b[38;5;241m.\u001b[39mOnReceiveTrData\u001b[38;5;241m.\u001b[39mconnect(\u001b[38;5;28mself\u001b[39m\u001b[38;5;241m.\u001b[39mon_receive_tr_data)\n",
      "\u001b[1;31mAttributeError\u001b[0m: 'Kiwoom' object has no attribute 'OnEventConnect'"
     ]
    }
   ],
   "source": [
    "import sys\n",
    "from PyQt5.QtWidgets import QApplication\n",
    "from kiwoom import Kiwoom  # kiwoom.py 파일에서 Kiwoom 클래스를 가져옵니다.\n",
    "\n",
    "class MyApp:\n",
    "    def __init__(self):\n",
    "        self.app = QApplication(sys.argv)\n",
    "        self.kiwoom = Kiwoom()\n",
    "        self.kiwoom.CommConnect()  # 로그인\n",
    "\n",
    "        # 로그인 후 주식 정보 조회\n",
    "        self.get_stock_info(\"005930\")  # 삼성전자 종목 코드\n",
    "\n",
    "    def get_stock_info(self, stock_code):\n",
    "        # 주식 정보 요청\n",
    "        stock_info = self.kiwoom.GetMasterCodeName(stock_code)\n",
    "        print(f\"{stock_code}의 이름: {stock_info}\")\n",
    "\n",
    "if __name__ == \"__main__\":\n",
    "    my_app = MyApp()\n",
    "    sys.exit(my_app.app.exec_())"
   ]
  }
 ],
 "metadata": {
  "kernelspec": {
   "display_name": "venv",
   "language": "python",
   "name": "python3"
  },
  "language_info": {
   "codemirror_mode": {
    "name": "ipython",
    "version": 3
   },
   "file_extension": ".py",
   "mimetype": "text/x-python",
   "name": "python",
   "nbconvert_exporter": "python",
   "pygments_lexer": "ipython3",
   "version": "3.12.7"
  }
 },
 "nbformat": 4,
 "nbformat_minor": 2
}
