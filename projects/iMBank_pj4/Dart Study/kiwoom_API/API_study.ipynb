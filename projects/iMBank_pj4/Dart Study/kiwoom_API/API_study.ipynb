{
 "cells": [
  {
   "cell_type": "code",
   "execution_count": 1,
   "metadata": {},
   "outputs": [],
   "source": [
    "from tkinter import *\n",
    "\n",
    "root = Tk()\n",
    "label = Label(root, text='Hello World')\n",
    "label.pack()\n",
    "\n",
    "root.mainloop()"
   ]
  },
  {
   "cell_type": "code",
   "execution_count": 2,
   "metadata": {},
   "outputs": [
    {
     "data": {
      "text/plain": [
       "0"
      ]
     },
     "execution_count": 2,
     "metadata": {},
     "output_type": "execute_result"
    },
    {
     "ename": "",
     "evalue": "",
     "output_type": "error",
     "traceback": [
      "\u001b[1;31mThe Kernel crashed while executing code in the current cell or a previous cell. \n",
      "\u001b[1;31mPlease review the code in the cell(s) to identify a possible cause of the failure. \n",
      "\u001b[1;31mClick <a href='https://aka.ms/vscodeJupyterKernelCrash'>here</a> for more info. \n",
      "\u001b[1;31mView Jupyter <a href='command:jupyter.viewOutput'>log</a> for further details."
     ]
    }
   ],
   "source": [
    "import sys\n",
    "from PyQt5.QtWidgets import *\n",
    "\n",
    "app = QApplication(sys.argv)\n",
    "label = QLabel(\"Hello PyQt\")\n",
    "label.show()\n",
    "app.exec_()\n"
   ]
  },
  {
   "cell_type": "code",
   "execution_count": 3,
   "metadata": {},
   "outputs": [],
   "source": [
    "import sys\n",
    "from PyQt5.QtWidgets import *\n",
    "\n",
    "app = QApplication(sys.argv)\n",
    "label = QPushButton(\"Quit\")\n",
    "label.show()\n",
    "app.exec_()"
   ]
  },
  {
   "cell_type": "code",
   "execution_count": null,
   "metadata": {},
   "outputs": [],
   "source": [
    "#pyside6-designer QtDesigner 실행이 가능함"
   ]
  },
  {
   "cell_type": "code",
   "execution_count": 3,
   "metadata": {},
   "outputs": [
    {
     "data": {
      "text/plain": [
       "sqlite3.Connection"
      ]
     },
     "execution_count": 3,
     "metadata": {},
     "output_type": "execute_result"
    }
   ],
   "source": [
    "# 미니 데이터베이스\n",
    "import sqlite3\n",
    "\n",
    "path = sqlite3.connect(\"c:/database_mini/kospi.db\") # 없으면 생성한다.\n",
    "type(path)\n",
    "sqlite3.Connection"
   ]
  },
  {
   "cell_type": "code",
   "execution_count": 7,
   "metadata": {},
   "outputs": [
    {
     "ename": "OperationalError",
     "evalue": "table kakao already exists",
     "output_type": "error",
     "traceback": [
      "\u001b[1;31m---------------------------------------------------------------------------\u001b[0m",
      "\u001b[1;31mOperationalError\u001b[0m                          Traceback (most recent call last)",
      "Cell \u001b[1;32mIn[7], line 3\u001b[0m\n\u001b[0;32m      1\u001b[0m cursor \u001b[38;5;241m=\u001b[39m path\u001b[38;5;241m.\u001b[39mcursor() \u001b[38;5;66;03m# 해당 db를 대상으로 하는 SQL을 실행할 수 있게 해 준다.\u001b[39;00m\n\u001b[1;32m----> 3\u001b[0m \u001b[43mcursor\u001b[49m\u001b[38;5;241;43m.\u001b[39;49m\u001b[43mexecute\u001b[49m\u001b[43m(\u001b[49m\u001b[38;5;124;43m\"\u001b[39;49m\u001b[38;5;124;43mCREATE TABLE kakao(Date text, Open int, High int, Low int, Closing int, Volumn int)\u001b[39;49m\u001b[38;5;124;43m\"\u001b[39;49m\u001b[43m)\u001b[49m\n\u001b[0;32m      4\u001b[0m cursor\u001b[38;5;241m.\u001b[39mexecute(\u001b[38;5;124m\"\u001b[39m\u001b[38;5;124mINSERT INTO kakao VALUES(\u001b[39m\u001b[38;5;124m'\u001b[39m\u001b[38;5;124m16.06.03\u001b[39m\u001b[38;5;124m'\u001b[39m\u001b[38;5;124m, 97000, 98600, 96900, 98000, 321405)\u001b[39m\u001b[38;5;124m\"\u001b[39m)\n",
      "\u001b[1;31mOperationalError\u001b[0m: table kakao already exists"
     ]
    }
   ],
   "source": [
    "cursor = path.cursor() # 해당 db를 대상으로 하는 SQL을 실행할 수 있게 해 준다.\n",
    "\n",
    "cursor.execute(\"CREATE TABLE kakao(Date text, Open int, High int, Low int, Closing int, Volumn int)\")"
   ]
  },
  {
   "cell_type": "code",
   "execution_count": 8,
   "metadata": {},
   "outputs": [
    {
     "data": {
      "text/plain": [
       "<sqlite3.Cursor at 0x20510276dc0>"
      ]
     },
     "execution_count": 8,
     "metadata": {},
     "output_type": "execute_result"
    }
   ],
   "source": [
    "cursor.execute(\"INSERT INTO kakao VALUES('16.06.03', 97000, 98600, 96900, 98000, 321405)\")"
   ]
  },
  {
   "cell_type": "code",
   "execution_count": 9,
   "metadata": {},
   "outputs": [
    {
     "data": {
      "text/plain": [
       "<sqlite3.Cursor at 0x20510276dc0>"
      ]
     },
     "execution_count": 9,
     "metadata": {},
     "output_type": "execute_result"
    }
   ],
   "source": [
    "cursor.execute(\"INSERT INTO kakao VALUES('16.06.02', 99000, 99300, 96300, 97500, 556790)\")"
   ]
  },
  {
   "cell_type": "code",
   "execution_count": 11,
   "metadata": {},
   "outputs": [],
   "source": [
    "path.commit() # commit을 해야 지금까지의 내용이 반영된다.\n",
    "path.close()"
   ]
  },
  {
   "cell_type": "markdown",
   "metadata": {},
   "source": [
    "# 증권사 API 써 보기"
   ]
  },
  {
   "cell_type": "code",
   "execution_count": 1,
   "metadata": {},
   "outputs": [],
   "source": [
    "import sys\n",
    "from PyQt5.QtWidgets import *\n",
    "from PyQt5.QAxContainer import *\n",
    "from PyQt5.QtCore import *"
   ]
  },
  {
   "cell_type": "code",
   "execution_count": 2,
   "metadata": {},
   "outputs": [],
   "source": [
    "class Kiwoom(QAxWidget):\n",
    "    def __init__(self):\n",
    "        super().__init__()\n",
    "        self._create_kiwoom_instance()\n",
    "\n",
    "    def _create_kiwoom_instance(self):\n",
    "        self.setControl(\"KHOPENAPI.KHOpenAPICtrl.1\")\n",
    "\n",
    "    def comm_connect(self):\n",
    "        self.dynamicCall(\"CommConnect()\") #로그인 창이 호출된다.\n",
    "        self.login_event_loop = QEventLoop()\n",
    "        self.login_event_loop.exec_()\n",
    "\n",
    "    def _event_connect(self, err_code):\n",
    "        if err_code == 0:\n",
    "            print(\"connected\")\n",
    "        else:\n",
    "            print(\"disconnected\")\n",
    "\n",
    "        self.login_event_loop.exit()\n",
    "\n",
    "    def _set_signal_slots(self):\n",
    "        self.OnEventConnect.connect(self._event_connect)\n",
    "\n",
    "    def get_code_list_by_market(self, market):\n",
    "        code_list = self.dynamicCall(\"GetCodeListByMarket(QString)\", market)\n",
    "        code_list = code_list.split(';')\n",
    "        return code_list[:-1]"
   ]
  },
  {
   "cell_type": "code",
   "execution_count": 1,
   "metadata": {},
   "outputs": [
    {
     "name": "stdout",
     "output_type": "stream",
     "text": [
      "현재 파이썬 비트 수: 64bit\n"
     ]
    }
   ],
   "source": [
    "import platform\n",
    "\n",
    "bit_version = platform.architecture()[0]\n",
    "print(f\"현재 파이썬 비트 수: {bit_version}\")"
   ]
  }
 ],
 "metadata": {
  "kernelspec": {
   "display_name": "venv",
   "language": "python",
   "name": "python3"
  },
  "language_info": {
   "codemirror_mode": {
    "name": "ipython",
    "version": 3
   },
   "file_extension": ".py",
   "mimetype": "text/x-python",
   "name": "python",
   "nbconvert_exporter": "python",
   "pygments_lexer": "ipython3",
   "version": "3.12.7"
  }
 },
 "nbformat": 4,
 "nbformat_minor": 2
}
