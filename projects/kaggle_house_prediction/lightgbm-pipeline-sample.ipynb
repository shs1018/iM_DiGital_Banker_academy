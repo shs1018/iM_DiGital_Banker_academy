{
 "cells": [
  {
   "cell_type": "code",
   "execution_count": 4,
   "id": "102d467a",
   "metadata": {
    "_cell_guid": "b1076dfc-b9ad-4769-8c92-a6c4dae69d19",
    "_uuid": "8f2839f25d086af736a60e9eeb907d3b93b6e0e5",
    "execution": {
     "iopub.execute_input": "2024-11-25T00:56:43.076170Z",
     "iopub.status.busy": "2024-11-25T00:56:43.075736Z",
     "iopub.status.idle": "2024-11-25T00:56:43.954963Z",
     "shell.execute_reply": "2024-11-25T00:56:43.953712Z"
    },
    "papermill": {
     "duration": 0.890073,
     "end_time": "2024-11-25T00:56:43.957444",
     "exception": false,
     "start_time": "2024-11-25T00:56:43.067371",
     "status": "completed"
    },
    "tags": []
   },
   "outputs": [],
   "source": [
    "# This Python 3 environment comes with many helpful analytics libraries installed\n",
    "# It is defined by the kaggle/python Docker image: https://github.com/kaggle/docker-python\n",
    "# For example, here's several helpful packages to load\n",
    "\n",
    "import numpy as np # linear algebra\n",
    "import pandas as pd # data processing, CSV file I/O (e.g. pd.read_csv)\n",
    "\n",
    "# Input data files are available in the read-only \"../input/\" directory\n",
    "# For example, running this (by clicking run or pressing Shift+Enter) will list all files under the input directory\n",
    "\n",
    "import os\n",
    "for dirname, _, filenames in os.walk('/kaggle/input'):\n",
    "    for filename in filenames:\n",
    "        print(os.path.join(dirname, filename))\n",
    "\n",
    "# You can write up to 20GB to the current directory (/kaggle/working/) that gets preserved as output when you create a version using \"Save & Run All\" \n",
    "# You can also write temporary files to /kaggle/temp/, but they won't be saved outside of the current session"
   ]
  },
  {
   "cell_type": "markdown",
   "id": "326e2274",
   "metadata": {
    "papermill": {
     "duration": 0.005571,
     "end_time": "2024-11-25T00:56:43.969143",
     "exception": false,
     "start_time": "2024-11-25T00:56:43.963572",
     "status": "completed"
    },
    "tags": []
   },
   "source": [
    "# 필수 라이브러리 가져오기"
   ]
  },
  {
   "cell_type": "code",
   "execution_count": 5,
   "id": "c71a9695",
   "metadata": {
    "execution": {
     "iopub.execute_input": "2024-11-25T00:56:43.983133Z",
     "iopub.status.busy": "2024-11-25T00:56:43.981990Z",
     "iopub.status.idle": "2024-11-25T00:56:45.777823Z",
     "shell.execute_reply": "2024-11-25T00:56:45.776786Z"
    },
    "papermill": {
     "duration": 1.805216,
     "end_time": "2024-11-25T00:56:45.780192",
     "exception": false,
     "start_time": "2024-11-25T00:56:43.974976",
     "status": "completed"
    },
    "tags": []
   },
   "outputs": [],
   "source": [
    "from sklearn.compose import ColumnTransformer\n",
    "from sklearn.pipeline import Pipeline\n",
    "from sklearn.impute import SimpleImputer\n",
    "from sklearn.preprocessing import StandardScaler, OneHotEncoder\n",
    "from sklearn.ensemble import RandomForestRegressor\n",
    "\n",
    "# StratifiedKFold : 분류 작업 할 때\n",
    "# KFold : 수치 작업 할 때\n",
    "from sklearn.model_selection import RandomizedSearchCV, cross_val_score, StratifiedKFold, KFold\n",
    "\n",
    "import numpy as np\n",
    "import pandas as pd \n",
    "from scipy.stats import uniform, randint"
   ]
  },
  {
   "cell_type": "markdown",
   "id": "d0cc2e88",
   "metadata": {
    "papermill": {
     "duration": 0.006104,
     "end_time": "2024-11-25T00:56:45.792540",
     "exception": false,
     "start_time": "2024-11-25T00:56:45.786436",
     "status": "completed"
    },
    "tags": []
   },
   "source": [
    "# 데이터 가져오기"
   ]
  },
  {
   "cell_type": "code",
   "execution_count": 6,
   "id": "65e2ccda",
   "metadata": {
    "execution": {
     "iopub.execute_input": "2024-11-25T00:56:45.807515Z",
     "iopub.status.busy": "2024-11-25T00:56:45.806954Z",
     "iopub.status.idle": "2024-11-25T00:56:45.877866Z",
     "shell.execute_reply": "2024-11-25T00:56:45.876649Z"
    },
    "papermill": {
     "duration": 0.080444,
     "end_time": "2024-11-25T00:56:45.880079",
     "exception": false,
     "start_time": "2024-11-25T00:56:45.799635",
     "status": "completed"
    },
    "tags": []
   },
   "outputs": [
    {
     "data": {
      "text/plain": [
       "((1460, 81), (1459, 80))"
      ]
     },
     "execution_count": 6,
     "metadata": {},
     "output_type": "execute_result"
    }
   ],
   "source": [
    "#train = pd.read_csv(\"/kaggle/input/house-prices-advanced-regression-techniques/train.csv\")\n",
    "#test = pd.read_csv(\"/kaggle/input/house-prices-advanced-regression-techniques/test.csv\")\n",
    "\n",
    "train =  pd.read_csv('datasets/train.csv')\n",
    "test = pd.read_csv('datasets/test.csv')\n",
    "\n",
    "train.shape, test.shape"
   ]
  },
  {
   "cell_type": "markdown",
   "id": "610984d8",
   "metadata": {
    "papermill": {
     "duration": 0.005698,
     "end_time": "2024-11-25T00:56:45.892074",
     "exception": false,
     "start_time": "2024-11-25T00:56:45.886376",
     "status": "completed"
    },
    "tags": []
   },
   "source": [
    "## 데이터 확인"
   ]
  },
  {
   "cell_type": "code",
   "execution_count": 7,
   "id": "17431664",
   "metadata": {
    "execution": {
     "iopub.execute_input": "2024-11-25T00:56:45.905899Z",
     "iopub.status.busy": "2024-11-25T00:56:45.905513Z",
     "iopub.status.idle": "2024-11-25T00:56:45.940787Z",
     "shell.execute_reply": "2024-11-25T00:56:45.939558Z"
    },
    "papermill": {
     "duration": 0.045138,
     "end_time": "2024-11-25T00:56:45.943327",
     "exception": false,
     "start_time": "2024-11-25T00:56:45.898189",
     "status": "completed"
    },
    "tags": []
   },
   "outputs": [
    {
     "data": {
      "text/html": [
       "<div>\n",
       "<style scoped>\n",
       "    .dataframe tbody tr th:only-of-type {\n",
       "        vertical-align: middle;\n",
       "    }\n",
       "\n",
       "    .dataframe tbody tr th {\n",
       "        vertical-align: top;\n",
       "    }\n",
       "\n",
       "    .dataframe thead th {\n",
       "        text-align: right;\n",
       "    }\n",
       "</style>\n",
       "<table border=\"1\" class=\"dataframe\">\n",
       "  <thead>\n",
       "    <tr style=\"text-align: right;\">\n",
       "      <th></th>\n",
       "      <th>Id</th>\n",
       "      <th>MSSubClass</th>\n",
       "      <th>MSZoning</th>\n",
       "      <th>LotFrontage</th>\n",
       "      <th>LotArea</th>\n",
       "      <th>Street</th>\n",
       "      <th>Alley</th>\n",
       "      <th>LotShape</th>\n",
       "      <th>LandContour</th>\n",
       "      <th>Utilities</th>\n",
       "      <th>...</th>\n",
       "      <th>PoolArea</th>\n",
       "      <th>PoolQC</th>\n",
       "      <th>Fence</th>\n",
       "      <th>MiscFeature</th>\n",
       "      <th>MiscVal</th>\n",
       "      <th>MoSold</th>\n",
       "      <th>YrSold</th>\n",
       "      <th>SaleType</th>\n",
       "      <th>SaleCondition</th>\n",
       "      <th>SalePrice</th>\n",
       "    </tr>\n",
       "  </thead>\n",
       "  <tbody>\n",
       "    <tr>\n",
       "      <th>0</th>\n",
       "      <td>1</td>\n",
       "      <td>60</td>\n",
       "      <td>RL</td>\n",
       "      <td>65.0</td>\n",
       "      <td>8450</td>\n",
       "      <td>Pave</td>\n",
       "      <td>NaN</td>\n",
       "      <td>Reg</td>\n",
       "      <td>Lvl</td>\n",
       "      <td>AllPub</td>\n",
       "      <td>...</td>\n",
       "      <td>0</td>\n",
       "      <td>NaN</td>\n",
       "      <td>NaN</td>\n",
       "      <td>NaN</td>\n",
       "      <td>0</td>\n",
       "      <td>2</td>\n",
       "      <td>2008</td>\n",
       "      <td>WD</td>\n",
       "      <td>Normal</td>\n",
       "      <td>208500</td>\n",
       "    </tr>\n",
       "  </tbody>\n",
       "</table>\n",
       "<p>1 rows × 81 columns</p>\n",
       "</div>"
      ],
      "text/plain": [
       "   Id  MSSubClass MSZoning  LotFrontage  LotArea Street Alley LotShape  \\\n",
       "0   1          60       RL         65.0     8450   Pave   NaN      Reg   \n",
       "\n",
       "  LandContour Utilities  ... PoolArea PoolQC Fence MiscFeature MiscVal MoSold  \\\n",
       "0         Lvl    AllPub  ...        0    NaN   NaN         NaN       0      2   \n",
       "\n",
       "  YrSold  SaleType  SaleCondition  SalePrice  \n",
       "0   2008        WD         Normal     208500  \n",
       "\n",
       "[1 rows x 81 columns]"
      ]
     },
     "execution_count": 7,
     "metadata": {},
     "output_type": "execute_result"
    }
   ],
   "source": [
    "train.head(1)"
   ]
  },
  {
   "cell_type": "code",
   "execution_count": 8,
   "id": "06615010",
   "metadata": {
    "execution": {
     "iopub.execute_input": "2024-11-25T00:56:45.957475Z",
     "iopub.status.busy": "2024-11-25T00:56:45.957067Z",
     "iopub.status.idle": "2024-11-25T00:56:45.976309Z",
     "shell.execute_reply": "2024-11-25T00:56:45.975211Z"
    },
    "papermill": {
     "duration": 0.028817,
     "end_time": "2024-11-25T00:56:45.978549",
     "exception": false,
     "start_time": "2024-11-25T00:56:45.949732",
     "status": "completed"
    },
    "tags": []
   },
   "outputs": [
    {
     "data": {
      "text/html": [
       "<div>\n",
       "<style scoped>\n",
       "    .dataframe tbody tr th:only-of-type {\n",
       "        vertical-align: middle;\n",
       "    }\n",
       "\n",
       "    .dataframe tbody tr th {\n",
       "        vertical-align: top;\n",
       "    }\n",
       "\n",
       "    .dataframe thead th {\n",
       "        text-align: right;\n",
       "    }\n",
       "</style>\n",
       "<table border=\"1\" class=\"dataframe\">\n",
       "  <thead>\n",
       "    <tr style=\"text-align: right;\">\n",
       "      <th></th>\n",
       "      <th>Id</th>\n",
       "      <th>MSSubClass</th>\n",
       "      <th>MSZoning</th>\n",
       "      <th>LotFrontage</th>\n",
       "      <th>LotArea</th>\n",
       "      <th>Street</th>\n",
       "      <th>Alley</th>\n",
       "      <th>LotShape</th>\n",
       "      <th>LandContour</th>\n",
       "      <th>Utilities</th>\n",
       "      <th>...</th>\n",
       "      <th>ScreenPorch</th>\n",
       "      <th>PoolArea</th>\n",
       "      <th>PoolQC</th>\n",
       "      <th>Fence</th>\n",
       "      <th>MiscFeature</th>\n",
       "      <th>MiscVal</th>\n",
       "      <th>MoSold</th>\n",
       "      <th>YrSold</th>\n",
       "      <th>SaleType</th>\n",
       "      <th>SaleCondition</th>\n",
       "    </tr>\n",
       "  </thead>\n",
       "  <tbody>\n",
       "    <tr>\n",
       "      <th>0</th>\n",
       "      <td>1461</td>\n",
       "      <td>20</td>\n",
       "      <td>RH</td>\n",
       "      <td>80.0</td>\n",
       "      <td>11622</td>\n",
       "      <td>Pave</td>\n",
       "      <td>NaN</td>\n",
       "      <td>Reg</td>\n",
       "      <td>Lvl</td>\n",
       "      <td>AllPub</td>\n",
       "      <td>...</td>\n",
       "      <td>120</td>\n",
       "      <td>0</td>\n",
       "      <td>NaN</td>\n",
       "      <td>MnPrv</td>\n",
       "      <td>NaN</td>\n",
       "      <td>0</td>\n",
       "      <td>6</td>\n",
       "      <td>2010</td>\n",
       "      <td>WD</td>\n",
       "      <td>Normal</td>\n",
       "    </tr>\n",
       "  </tbody>\n",
       "</table>\n",
       "<p>1 rows × 80 columns</p>\n",
       "</div>"
      ],
      "text/plain": [
       "     Id  MSSubClass MSZoning  LotFrontage  LotArea Street Alley LotShape  \\\n",
       "0  1461          20       RH         80.0    11622   Pave   NaN      Reg   \n",
       "\n",
       "  LandContour Utilities  ... ScreenPorch PoolArea PoolQC  Fence MiscFeature  \\\n",
       "0         Lvl    AllPub  ...         120        0    NaN  MnPrv         NaN   \n",
       "\n",
       "  MiscVal MoSold  YrSold  SaleType  SaleCondition  \n",
       "0       0      6    2010        WD         Normal  \n",
       "\n",
       "[1 rows x 80 columns]"
      ]
     },
     "execution_count": 8,
     "metadata": {},
     "output_type": "execute_result"
    }
   ],
   "source": [
    "test.head(1)"
   ]
  },
  {
   "cell_type": "markdown",
   "id": "17aece49",
   "metadata": {
    "papermill": {
     "duration": 0.006009,
     "end_time": "2024-11-25T00:56:45.991147",
     "exception": false,
     "start_time": "2024-11-25T00:56:45.985138",
     "status": "completed"
    },
    "tags": []
   },
   "source": [
    "# 피처 엔지니어링"
   ]
  },
  {
   "cell_type": "markdown",
   "id": "2d4ca24d",
   "metadata": {
    "papermill": {
     "duration": 0.006154,
     "end_time": "2024-11-25T00:56:46.003627",
     "exception": false,
     "start_time": "2024-11-25T00:56:45.997473",
     "status": "completed"
    },
    "tags": []
   },
   "source": [
    "## ID 제거"
   ]
  },
  {
   "cell_type": "code",
   "execution_count": 9,
   "id": "6db8a4b2",
   "metadata": {
    "execution": {
     "iopub.execute_input": "2024-11-25T00:56:46.017966Z",
     "iopub.status.busy": "2024-11-25T00:56:46.017562Z",
     "iopub.status.idle": "2024-11-25T00:56:46.026514Z",
     "shell.execute_reply": "2024-11-25T00:56:46.025431Z"
    },
    "papermill": {
     "duration": 0.019015,
     "end_time": "2024-11-25T00:56:46.029059",
     "exception": false,
     "start_time": "2024-11-25T00:56:46.010044",
     "status": "completed"
    },
    "tags": []
   },
   "outputs": [
    {
     "data": {
      "text/plain": [
       "((1460, 80), (1459, 79))"
      ]
     },
     "execution_count": 9,
     "metadata": {},
     "output_type": "execute_result"
    }
   ],
   "source": [
    "train_ID = train.pop('Id')\n",
    "test_ID = test.pop('Id')\n",
    "\n",
    "train.shape, test.shape"
   ]
  },
  {
   "cell_type": "markdown",
   "id": "d3d95d44",
   "metadata": {
    "papermill": {
     "duration": 0.006857,
     "end_time": "2024-11-25T00:56:46.042726",
     "exception": false,
     "start_time": "2024-11-25T00:56:46.035869",
     "status": "completed"
    },
    "tags": []
   },
   "source": [
    "## 독립변수와 종속변수 분리"
   ]
  },
  {
   "cell_type": "code",
   "execution_count": 10,
   "id": "2e29c928",
   "metadata": {
    "execution": {
     "iopub.execute_input": "2024-11-25T00:56:46.057573Z",
     "iopub.status.busy": "2024-11-25T00:56:46.057195Z",
     "iopub.status.idle": "2024-11-25T00:56:46.068588Z",
     "shell.execute_reply": "2024-11-25T00:56:46.067328Z"
    },
    "papermill": {
     "duration": 0.022195,
     "end_time": "2024-11-25T00:56:46.071463",
     "exception": false,
     "start_time": "2024-11-25T00:56:46.049268",
     "status": "completed"
    },
    "tags": []
   },
   "outputs": [],
   "source": [
    "# y = train['SalePrice']\n",
    "# log 변환\n",
    "y = np.log1p(train['SalePrice'])\n",
    "X = train.drop('SalePrice', axis=1)"
   ]
  },
  {
   "cell_type": "markdown",
   "id": "76e71ce0",
   "metadata": {
    "papermill": {
     "duration": 0.00663,
     "end_time": "2024-11-25T00:56:46.084877",
     "exception": false,
     "start_time": "2024-11-25T00:56:46.078247",
     "status": "completed"
    },
    "tags": []
   },
   "source": [
    "## 컬럼 분리"
   ]
  },
  {
   "cell_type": "code",
   "execution_count": 11,
   "id": "bb9348c9",
   "metadata": {
    "execution": {
     "iopub.execute_input": "2024-11-25T00:56:46.099949Z",
     "iopub.status.busy": "2024-11-25T00:56:46.099557Z",
     "iopub.status.idle": "2024-11-25T00:56:46.109970Z",
     "shell.execute_reply": "2024-11-25T00:56:46.108678Z"
    },
    "papermill": {
     "duration": 0.020769,
     "end_time": "2024-11-25T00:56:46.112315",
     "exception": false,
     "start_time": "2024-11-25T00:56:46.091546",
     "status": "completed"
    },
    "tags": []
   },
   "outputs": [
    {
     "name": "stdout",
     "output_type": "stream",
     "text": [
      "['MSZoning', 'Street', 'Alley', 'LotShape', 'LandContour', 'Utilities', 'LotConfig', 'LandSlope', 'Neighborhood', 'Condition1', 'Condition2', 'BldgType', 'HouseStyle', 'RoofStyle', 'RoofMatl', 'Exterior1st', 'Exterior2nd', 'MasVnrType', 'ExterQual', 'ExterCond', 'Foundation', 'BsmtQual', 'BsmtCond', 'BsmtExposure', 'BsmtFinType1', 'BsmtFinType2', 'Heating', 'HeatingQC', 'CentralAir', 'Electrical', 'KitchenQual', 'Functional', 'FireplaceQu', 'GarageType', 'GarageFinish', 'GarageQual', 'GarageCond', 'PavedDrive', 'PoolQC', 'Fence', 'MiscFeature', 'SaleType', 'SaleCondition'] ['MSSubClass', 'LotFrontage', 'LotArea', 'OverallQual', 'OverallCond', 'YearBuilt', 'YearRemodAdd', 'MasVnrArea', 'BsmtFinSF1', 'BsmtFinSF2', 'BsmtUnfSF', 'TotalBsmtSF', '1stFlrSF', '2ndFlrSF', 'LowQualFinSF', 'GrLivArea', 'BsmtFullBath', 'BsmtHalfBath', 'FullBath', 'HalfBath', 'BedroomAbvGr', 'KitchenAbvGr', 'TotRmsAbvGrd', 'Fireplaces', 'GarageYrBlt', 'GarageCars', 'GarageArea', 'WoodDeckSF', 'OpenPorchSF', 'EnclosedPorch', '3SsnPorch', 'ScreenPorch', 'PoolArea', 'MiscVal', 'MoSold', 'YrSold']\n"
     ]
    }
   ],
   "source": [
    "cat_cols = X.select_dtypes(exclude = np.number).columns.tolist()\n",
    "num_cols = X.select_dtypes(include = np.number).columns.tolist()\n",
    "\n",
    "print(cat_cols, num_cols)"
   ]
  },
  {
   "cell_type": "markdown",
   "id": "72dfe798",
   "metadata": {
    "papermill": {
     "duration": 0.006253,
     "end_time": "2024-11-25T00:56:46.125182",
     "exception": false,
     "start_time": "2024-11-25T00:56:46.118929",
     "status": "completed"
    },
    "tags": []
   },
   "source": [
    "# 모델 만들기"
   ]
  },
  {
   "cell_type": "markdown",
   "id": "2797339d",
   "metadata": {
    "papermill": {
     "duration": 0.006345,
     "end_time": "2024-11-25T00:56:46.138017",
     "exception": false,
     "start_time": "2024-11-25T00:56:46.131672",
     "status": "completed"
    },
    "tags": []
   },
   "source": [
    "## 훈련 및 검증 데이터셋 분리"
   ]
  },
  {
   "cell_type": "code",
   "execution_count": 12,
   "id": "40718daa",
   "metadata": {
    "execution": {
     "iopub.execute_input": "2024-11-25T00:56:46.152632Z",
     "iopub.status.busy": "2024-11-25T00:56:46.152234Z",
     "iopub.status.idle": "2024-11-25T00:56:46.167944Z",
     "shell.execute_reply": "2024-11-25T00:56:46.166801Z"
    },
    "papermill": {
     "duration": 0.025533,
     "end_time": "2024-11-25T00:56:46.170066",
     "exception": false,
     "start_time": "2024-11-25T00:56:46.144533",
     "status": "completed"
    },
    "tags": []
   },
   "outputs": [
    {
     "data": {
      "text/plain": [
       "((1022, 79), (438, 79), (1022,), (438,))"
      ]
     },
     "execution_count": 12,
     "metadata": {},
     "output_type": "execute_result"
    }
   ],
   "source": [
    "from sklearn.model_selection import train_test_split\n",
    "\n",
    "X_tr, X_val, y_tr, y_val = train_test_split(\n",
    "    X, y,\n",
    "    test_size=0.3,\n",
    "    random_state=42\n",
    ")\n",
    "\n",
    "X_tr.shape, X_val.shape, y_tr.shape, y_val.shape"
   ]
  },
  {
   "cell_type": "markdown",
   "id": "b8fd6387",
   "metadata": {
    "papermill": {
     "duration": 0.006283,
     "end_time": "2024-11-25T00:56:46.182885",
     "exception": false,
     "start_time": "2024-11-25T00:56:46.176602",
     "status": "completed"
    },
    "tags": []
   },
   "source": [
    "## 파이프라인 모델 만들기"
   ]
  },
  {
   "cell_type": "markdown",
   "id": "fddeab4a",
   "metadata": {
    "papermill": {
     "duration": 0.006402,
     "end_time": "2024-11-25T00:56:46.195766",
     "exception": false,
     "start_time": "2024-11-25T00:56:46.189364",
     "status": "completed"
    },
    "tags": []
   },
   "source": [
    "## 머신러닝 모델 시간 측정 함수"
   ]
  },
  {
   "cell_type": "code",
   "execution_count": 13,
   "id": "8f928ff6",
   "metadata": {
    "execution": {
     "iopub.execute_input": "2024-11-25T00:56:46.210687Z",
     "iopub.status.busy": "2024-11-25T00:56:46.210316Z",
     "iopub.status.idle": "2024-11-25T00:56:46.217071Z",
     "shell.execute_reply": "2024-11-25T00:56:46.215908Z"
    },
    "papermill": {
     "duration": 0.017129,
     "end_time": "2024-11-25T00:56:46.219616",
     "exception": false,
     "start_time": "2024-11-25T00:56:46.202487",
     "status": "completed"
    },
    "tags": []
   },
   "outputs": [],
   "source": [
    "import time\n",
    "\n",
    "def execution_time(func):\n",
    "    def wrapper(*args, **kwargs):\n",
    "        start_time = time.time()\n",
    "        result = func(*args, **kwargs)\n",
    "        end_time = time.time()\n",
    "        elapsed_time = end_time - start_time\n",
    "        hours, rem = divmod(elapsed_time, 3600)\n",
    "        minutes, seconds = divmod(rem, 60)\n",
    "        print(f\"Execution time for {func.__name__}: {int(hours)}h {int(minutes)}m {seconds:.2f}s\")\n",
    "        return result\n",
    "    return wrapper"
   ]
  },
  {
   "cell_type": "markdown",
   "id": "cd0715c9",
   "metadata": {
    "papermill": {
     "duration": 0.006324,
     "end_time": "2024-11-25T00:56:46.232834",
     "exception": false,
     "start_time": "2024-11-25T00:56:46.226510",
     "status": "completed"
    },
    "tags": []
   },
   "source": [
    "## Log Transformation"
   ]
  },
  {
   "cell_type": "code",
   "execution_count": 14,
   "id": "f21fb7e4",
   "metadata": {
    "execution": {
     "iopub.execute_input": "2024-11-25T00:56:46.248312Z",
     "iopub.status.busy": "2024-11-25T00:56:46.247278Z",
     "iopub.status.idle": "2024-11-25T00:56:47.251063Z",
     "shell.execute_reply": "2024-11-25T00:56:47.249751Z"
    },
    "papermill": {
     "duration": 1.014361,
     "end_time": "2024-11-25T00:56:47.253770",
     "exception": false,
     "start_time": "2024-11-25T00:56:46.239409",
     "status": "completed"
    },
    "tags": []
   },
   "outputs": [],
   "source": [
    "from sklearn.compose import ColumnTransformer\n",
    "from sklearn.pipeline import Pipeline\n",
    "from sklearn.impute import SimpleImputer\n",
    "from sklearn.preprocessing import StandardScaler, OneHotEncoder\n",
    "from sklearn.ensemble import RandomForestRegressor\n",
    "from lightgbm import LGBMRegressor\n",
    "\n",
    "# StratifiedKFold : 분류 작업 할 때\n",
    "# KFold : 수치 작업 할 때\n",
    "from sklearn.model_selection import RandomizedSearchCV, cross_val_score, StratifiedKFold, KFold\n",
    "\n",
    "import numpy as np\n",
    "from scipy.stats import uniform, randint\n",
    "\n",
    "import time\n",
    "\n",
    "numerical_transformer = Pipeline(steps=[\n",
    "    ('imputer', SimpleImputer(strategy='median')),\n",
    "    ('scaler', StandardScaler())\n",
    "])\n",
    "\n",
    "categorical_transformer = Pipeline(steps=[\n",
    "    ('imputer', SimpleImputer(strategy='most_frequent')),\n",
    "    ('onehot', OneHotEncoder(handle_unknown='ignore'))\n",
    "])\n",
    "\n",
    "preprocessor = ColumnTransformer(\n",
    "    transformers=[\n",
    "        ('num', numerical_transformer, num_cols),\n",
    "        ('cat', categorical_transformer, cat_cols)\n",
    "    ])\n",
    "\n",
    "\"\"\"\n",
    "pipeline = Pipeline(steps=[\n",
    "    ('preprocessor', preprocessor),\n",
    "    ('classifier', RandomForestRegressor(random_state=42))\n",
    "])\n",
    "\"\"\"\n",
    "\n",
    "pipeline = Pipeline(steps=[\n",
    "    ('preprocessor', preprocessor),  # Assuming preprocessor is already defined\n",
    "    ('classifier', LGBMRegressor(random_state=42, verbose=-1))\n",
    "])\n",
    "\n",
    "# Define the parameter distributions\n",
    "param_distributions = {\n",
    "    'classifier__learning_rate': uniform(0.01, 0.2),\n",
    "    'classifier__max_depth': randint(3, 15),\n",
    "    'classifier__reg_alpha': uniform(0.0, 1.0),\n",
    "    'classifier__reg_lambda': uniform(0.0, 1.0),\n",
    "}\n",
    "\n",
    "split_number = 5\n",
    "# stratified_kfold, 분류모형 만들 때\n",
    "# stratified_kfold = StratifiedKFold(n_splits=split_number, shuffle=True, random_state=42)\n",
    "\n",
    "kfold = KFold(n_splits=split_number, shuffle=True, random_state=42)\n",
    "\n",
    "random_search = RandomizedSearchCV(\n",
    "    estimator=pipeline,\n",
    "    param_distributions=param_distributions,\n",
    "    n_iter=50,\n",
    "    cv=kfold, # stratified_kfold, 분류모형 만들 때\n",
    "    scoring='neg_mean_squared_error',\n",
    "    random_state=42,\n",
    "    n_jobs=-1\n",
    ")\n",
    "\n",
    "@execution_time\n",
    "def model_builing(model, X_train, y_train):\n",
    "    model.fit(X_train, y_train)\n",
    "    best_model = model.best_estimator_\n",
    "    return best_model"
   ]
  },
  {
   "cell_type": "code",
   "execution_count": 15,
   "id": "1531f163",
   "metadata": {
    "execution": {
     "iopub.execute_input": "2024-11-25T00:56:47.269285Z",
     "iopub.status.busy": "2024-11-25T00:56:47.268638Z",
     "iopub.status.idle": "2024-11-25T00:57:37.124902Z",
     "shell.execute_reply": "2024-11-25T00:57:37.123549Z"
    },
    "papermill": {
     "duration": 49.871949,
     "end_time": "2024-11-25T00:57:37.132626",
     "exception": false,
     "start_time": "2024-11-25T00:56:47.260677",
     "status": "completed"
    },
    "tags": []
   },
   "outputs": [
    {
     "name": "stdout",
     "output_type": "stream",
     "text": [
      "Execution time for model_builing: 0h 0m 26.03s\n"
     ]
    }
   ],
   "source": [
    "best_model = model_builing(random_search, X_tr, y_tr)"
   ]
  },
  {
   "cell_type": "markdown",
   "id": "49b71cf9",
   "metadata": {
    "papermill": {
     "duration": 0.006402,
     "end_time": "2024-11-25T00:57:37.146356",
     "exception": false,
     "start_time": "2024-11-25T00:57:37.139954",
     "status": "completed"
    },
    "tags": []
   },
   "source": [
    "## 모형 평가"
   ]
  },
  {
   "cell_type": "code",
   "execution_count": 16,
   "id": "af58df68",
   "metadata": {
    "execution": {
     "iopub.execute_input": "2024-11-25T00:57:37.161843Z",
     "iopub.status.busy": "2024-11-25T00:57:37.161382Z",
     "iopub.status.idle": "2024-11-25T00:57:37.224654Z",
     "shell.execute_reply": "2024-11-25T00:57:37.223519Z"
    },
    "papermill": {
     "duration": 0.074482,
     "end_time": "2024-11-25T00:57:37.227407",
     "exception": false,
     "start_time": "2024-11-25T00:57:37.152925",
     "status": "completed"
    },
    "tags": []
   },
   "outputs": [
    {
     "data": {
      "text/plain": [
       "'train: 0.07056553538855749, validation: 0.12953821614970773'"
      ]
     },
     "execution_count": 16,
     "metadata": {},
     "output_type": "execute_result"
    }
   ],
   "source": [
    "from sklearn.metrics import mean_squared_error\n",
    "import numpy as np\n",
    "\n",
    "def get_score(model, X_tr, X_val, y_tr, y_val):\n",
    "    tr_pred = model.predict(X_tr)\n",
    "    val_pred = model.predict(X_val)\n",
    "    tr_score = np.sqrt(mean_squared_error(y_tr, tr_pred))\n",
    "    val_score = np.sqrt(mean_squared_error(y_val, val_pred))\n",
    "    return f\"train: {tr_score}, validation: {val_score}\"\n",
    "\n",
    "get_score(best_model, X_tr, X_val, y_tr, y_val)"
   ]
  },
  {
   "cell_type": "markdown",
   "id": "0bbcb369",
   "metadata": {
    "papermill": {
     "duration": 0.006607,
     "end_time": "2024-11-25T00:57:37.241176",
     "exception": false,
     "start_time": "2024-11-25T00:57:37.234569",
     "status": "completed"
    },
    "tags": []
   },
   "source": [
    "# 평가 제출"
   ]
  },
  {
   "cell_type": "code",
   "execution_count": 17,
   "id": "b52acafd",
   "metadata": {
    "execution": {
     "iopub.execute_input": "2024-11-25T00:57:37.256585Z",
     "iopub.status.busy": "2024-11-25T00:57:37.256180Z",
     "iopub.status.idle": "2024-11-25T00:57:37.279295Z",
     "shell.execute_reply": "2024-11-25T00:57:37.278213Z"
    },
    "papermill": {
     "duration": 0.033675,
     "end_time": "2024-11-25T00:57:37.281718",
     "exception": false,
     "start_time": "2024-11-25T00:57:37.248043",
     "status": "completed"
    },
    "tags": []
   },
   "outputs": [
    {
     "data": {
      "text/html": [
       "<div>\n",
       "<style scoped>\n",
       "    .dataframe tbody tr th:only-of-type {\n",
       "        vertical-align: middle;\n",
       "    }\n",
       "\n",
       "    .dataframe tbody tr th {\n",
       "        vertical-align: top;\n",
       "    }\n",
       "\n",
       "    .dataframe thead th {\n",
       "        text-align: right;\n",
       "    }\n",
       "</style>\n",
       "<table border=\"1\" class=\"dataframe\">\n",
       "  <thead>\n",
       "    <tr style=\"text-align: right;\">\n",
       "      <th></th>\n",
       "      <th>MSSubClass</th>\n",
       "      <th>MSZoning</th>\n",
       "      <th>LotFrontage</th>\n",
       "      <th>LotArea</th>\n",
       "      <th>Street</th>\n",
       "      <th>Alley</th>\n",
       "      <th>LotShape</th>\n",
       "      <th>LandContour</th>\n",
       "      <th>Utilities</th>\n",
       "      <th>LotConfig</th>\n",
       "      <th>...</th>\n",
       "      <th>PoolArea</th>\n",
       "      <th>PoolQC</th>\n",
       "      <th>Fence</th>\n",
       "      <th>MiscFeature</th>\n",
       "      <th>MiscVal</th>\n",
       "      <th>MoSold</th>\n",
       "      <th>YrSold</th>\n",
       "      <th>SaleType</th>\n",
       "      <th>SaleCondition</th>\n",
       "      <th>SalePrice</th>\n",
       "    </tr>\n",
       "  </thead>\n",
       "  <tbody>\n",
       "    <tr>\n",
       "      <th>0</th>\n",
       "      <td>60</td>\n",
       "      <td>RL</td>\n",
       "      <td>65.0</td>\n",
       "      <td>8450</td>\n",
       "      <td>Pave</td>\n",
       "      <td>NaN</td>\n",
       "      <td>Reg</td>\n",
       "      <td>Lvl</td>\n",
       "      <td>AllPub</td>\n",
       "      <td>Inside</td>\n",
       "      <td>...</td>\n",
       "      <td>0</td>\n",
       "      <td>NaN</td>\n",
       "      <td>NaN</td>\n",
       "      <td>NaN</td>\n",
       "      <td>0</td>\n",
       "      <td>2</td>\n",
       "      <td>2008</td>\n",
       "      <td>WD</td>\n",
       "      <td>Normal</td>\n",
       "      <td>208500</td>\n",
       "    </tr>\n",
       "  </tbody>\n",
       "</table>\n",
       "<p>1 rows × 80 columns</p>\n",
       "</div>"
      ],
      "text/plain": [
       "   MSSubClass MSZoning  LotFrontage  LotArea Street Alley LotShape  \\\n",
       "0          60       RL         65.0     8450   Pave   NaN      Reg   \n",
       "\n",
       "  LandContour Utilities LotConfig  ... PoolArea PoolQC Fence MiscFeature  \\\n",
       "0         Lvl    AllPub    Inside  ...        0    NaN   NaN         NaN   \n",
       "\n",
       "  MiscVal MoSold  YrSold  SaleType  SaleCondition  SalePrice  \n",
       "0       0      2    2008        WD         Normal     208500  \n",
       "\n",
       "[1 rows x 80 columns]"
      ]
     },
     "execution_count": 17,
     "metadata": {},
     "output_type": "execute_result"
    }
   ],
   "source": [
    "train.head(1)"
   ]
  },
  {
   "cell_type": "code",
   "execution_count": 20,
   "id": "7f68b11d",
   "metadata": {
    "execution": {
     "iopub.execute_input": "2024-11-25T00:57:37.298241Z",
     "iopub.status.busy": "2024-11-25T00:57:37.297828Z",
     "iopub.status.idle": "2024-11-25T00:57:37.358351Z",
     "shell.execute_reply": "2024-11-25T00:57:37.357170Z"
    },
    "papermill": {
     "duration": 0.071873,
     "end_time": "2024-11-25T00:57:37.360629",
     "exception": false,
     "start_time": "2024-11-25T00:57:37.288756",
     "status": "completed"
    },
    "tags": []
   },
   "outputs": [
    {
     "data": {
      "text/html": [
       "<div>\n",
       "<style scoped>\n",
       "    .dataframe tbody tr th:only-of-type {\n",
       "        vertical-align: middle;\n",
       "    }\n",
       "\n",
       "    .dataframe tbody tr th {\n",
       "        vertical-align: top;\n",
       "    }\n",
       "\n",
       "    .dataframe thead th {\n",
       "        text-align: right;\n",
       "    }\n",
       "</style>\n",
       "<table border=\"1\" class=\"dataframe\">\n",
       "  <thead>\n",
       "    <tr style=\"text-align: right;\">\n",
       "      <th></th>\n",
       "      <th>Id</th>\n",
       "      <th>SalePrice</th>\n",
       "    </tr>\n",
       "  </thead>\n",
       "  <tbody>\n",
       "    <tr>\n",
       "      <th>0</th>\n",
       "      <td>1461</td>\n",
       "      <td>127549.393936</td>\n",
       "    </tr>\n",
       "  </tbody>\n",
       "</table>\n",
       "</div>"
      ],
      "text/plain": [
       "     Id      SalePrice\n",
       "0  1461  127549.393936"
      ]
     },
     "execution_count": 20,
     "metadata": {},
     "output_type": "execute_result"
    }
   ],
   "source": [
    "#submission = pd.read_csv(\"/kaggle/input/house-prices-advanced-regression-techniques/sample_submission.csv\")\n",
    "submission = pd.read_csv(\"datasets/sample_submission.csv\")\n",
    "# 로그 역변환\n",
    "final_preds = np.expm1(best_model.predict(test))\n",
    "submission['SalePrice'] = final_preds\n",
    "submission.head(1)"
   ]
  },
  {
   "cell_type": "code",
   "execution_count": 16,
   "id": "a13d3989",
   "metadata": {
    "execution": {
     "iopub.execute_input": "2024-11-25T00:57:37.376800Z",
     "iopub.status.busy": "2024-11-25T00:57:37.376389Z",
     "iopub.status.idle": "2024-11-25T00:57:37.390012Z",
     "shell.execute_reply": "2024-11-25T00:57:37.388789Z"
    },
    "papermill": {
     "duration": 0.024881,
     "end_time": "2024-11-25T00:57:37.392757",
     "exception": false,
     "start_time": "2024-11-25T00:57:37.367876",
     "status": "completed"
    },
    "tags": []
   },
   "outputs": [],
   "source": [
    "#submission.to_csv(\"submission.csv\", index=False)"
   ]
  }
 ],
 "metadata": {
  "kaggle": {
   "accelerator": "none",
   "dataSources": [
    {
     "databundleVersionId": 868283,
     "sourceId": 5407,
     "sourceType": "competition"
    }
   ],
   "dockerImageVersionId": 30786,
   "isGpuEnabled": false,
   "isInternetEnabled": true,
   "language": "python",
   "sourceType": "notebook"
  },
  "kernelspec": {
   "display_name": "Python 3",
   "language": "python",
   "name": "python3"
  },
  "language_info": {
   "codemirror_mode": {
    "name": "ipython",
    "version": 3
   },
   "file_extension": ".py",
   "mimetype": "text/x-python",
   "name": "python",
   "nbconvert_exporter": "python",
   "pygments_lexer": "ipython3",
   "version": "3.12.7"
  },
  "papermill": {
   "default_parameters": {},
   "duration": 59.748647,
   "end_time": "2024-11-25T00:57:40.065242",
   "environment_variables": {},
   "exception": null,
   "input_path": "__notebook__.ipynb",
   "output_path": "__notebook__.ipynb",
   "parameters": {},
   "start_time": "2024-11-25T00:56:40.316595",
   "version": "2.6.0"
  }
 },
 "nbformat": 4,
 "nbformat_minor": 5
}
