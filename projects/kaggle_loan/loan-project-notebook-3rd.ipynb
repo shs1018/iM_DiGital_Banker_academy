{
 "cells": [
  {
   "cell_type": "code",
   "execution_count": 1,
   "id": "aefddb5e",
   "metadata": {
    "_cell_guid": "b1076dfc-b9ad-4769-8c92-a6c4dae69d19",
    "_uuid": "8f2839f25d086af736a60e9eeb907d3b93b6e0e5",
    "execution": {
     "iopub.execute_input": "2024-10-15T06:14:48.406912Z",
     "iopub.status.busy": "2024-10-15T06:14:48.406417Z",
     "iopub.status.idle": "2024-10-15T06:14:49.466990Z",
     "shell.execute_reply": "2024-10-15T06:14:49.465533Z"
    },
    "papermill": {
     "duration": 1.081681,
     "end_time": "2024-10-15T06:14:49.470014",
     "exception": false,
     "start_time": "2024-10-15T06:14:48.388333",
     "status": "completed"
    },
    "tags": []
   },
   "outputs": [
    {
     "name": "stdout",
     "output_type": "stream",
     "text": [
      "/kaggle/input/playground-series-s4e10/sample_submission.csv\n",
      "/kaggle/input/playground-series-s4e10/train.csv\n",
      "/kaggle/input/playground-series-s4e10/test.csv\n",
      "/kaggle/input/ps4e9-original-data-loan-approval-prediction/credit_risk_dataset.csv\n"
     ]
    }
   ],
   "source": [
    "# This Python 3 environment comes with many helpful analytics libraries installed\n",
    "# It is defined by the kaggle/python Docker image: https://github.com/kaggle/docker-python\n",
    "# For example, here's several helpful packages to load\n",
    "\n",
    "import numpy as np # linear algebra\n",
    "import pandas as pd # data processing, CSV file I/O (e.g. pd.read_csv)\n",
    "\n",
    "# Input data files are available in the read-only \"../input/\" directory\n",
    "# For example, running this (by clicking run or pressing Shift+Enter) will list all files under the input directory\n",
    "\n",
    "import os\n",
    "for dirname, _, filenames in os.walk('/kaggle/input'):\n",
    "    for filename in filenames:\n",
    "        print(os.path.join(dirname, filename))\n",
    "\n",
    "# You can write up to 20GB to the current directory (/kaggle/working/) that gets preserved as output when you create a version using \"Save & Run All\" \n",
    "# You can also write temporary files to /kaggle/temp/, but they won't be saved outside of the current session"
   ]
  },
  {
   "cell_type": "code",
   "execution_count": 2,
   "id": "83e6064a",
   "metadata": {
    "execution": {
     "iopub.execute_input": "2024-10-15T06:14:49.505002Z",
     "iopub.status.busy": "2024-10-15T06:14:49.503822Z",
     "iopub.status.idle": "2024-10-15T06:15:05.364012Z",
     "shell.execute_reply": "2024-10-15T06:15:05.362301Z"
    },
    "papermill": {
     "duration": 15.881854,
     "end_time": "2024-10-15T06:15:05.367453",
     "exception": false,
     "start_time": "2024-10-15T06:14:49.485599",
     "status": "completed"
    },
    "tags": []
   },
   "outputs": [],
   "source": [
    "!pip install stargazer -q"
   ]
  },
  {
   "cell_type": "code",
   "execution_count": 3,
   "id": "447f8f81",
   "metadata": {
    "execution": {
     "iopub.execute_input": "2024-10-15T06:15:05.401338Z",
     "iopub.status.busy": "2024-10-15T06:15:05.400759Z",
     "iopub.status.idle": "2024-10-15T06:15:10.047385Z",
     "shell.execute_reply": "2024-10-15T06:15:10.045936Z"
    },
    "papermill": {
     "duration": 4.667847,
     "end_time": "2024-10-15T06:15:10.050792",
     "exception": false,
     "start_time": "2024-10-15T06:15:05.382945",
     "status": "completed"
    },
    "tags": []
   },
   "outputs": [
    {
     "name": "stderr",
     "output_type": "stream",
     "text": [
      "/opt/conda/lib/python3.10/site-packages/sklearn/experimental/enable_hist_gradient_boosting.py:16: UserWarning: Since version 1.0, it is not needed to import enable_hist_gradient_boosting anymore. HistGradientBoostingClassifier and HistGradientBoostingRegressor are now stable and can be normally imported from sklearn.ensemble.\n",
      "  warnings.warn(\n"
     ]
    }
   ],
   "source": [
    "import pandas as pd\n",
    "import numpy as np\n",
    "import matplotlib.pyplot as plt\n",
    "import seaborn as sns\n",
    "from sklearn.experimental import enable_hist_gradient_boosting  \n",
    "from sklearn.ensemble import HistGradientBoostingRegressor\n",
    "from sklearn.metrics import median_absolute_error\n",
    "from sklearn.model_selection import KFold\n",
    "from sklearn.model_selection import train_test_split\n",
    "from matplotlib.patches import ConnectionPatch\n",
    "\n",
    "from sklearn.metrics import roc_auc_score\n",
    "from sklearn.model_selection import KFold\n",
    "from xgboost import XGBClassifier\n",
    "from catboost import CatBoostClassifier\n",
    "\n",
    "import statsmodels.api as sm\n",
    "from stargazer.stargazer import Stargazer"
   ]
  },
  {
   "cell_type": "code",
   "execution_count": 4,
   "id": "3ed6f6c4",
   "metadata": {
    "execution": {
     "iopub.execute_input": "2024-10-15T06:15:10.085472Z",
     "iopub.status.busy": "2024-10-15T06:15:10.084803Z",
     "iopub.status.idle": "2024-10-15T06:15:10.400872Z",
     "shell.execute_reply": "2024-10-15T06:15:10.399630Z"
    },
    "papermill": {
     "duration": 0.337118,
     "end_time": "2024-10-15T06:15:10.403880",
     "exception": false,
     "start_time": "2024-10-15T06:15:10.066762",
     "status": "completed"
    },
    "tags": []
   },
   "outputs": [],
   "source": [
    "df_train = pd.read_csv(\"/kaggle/input/playground-series-s4e10/train.csv\")\n",
    "df_test = pd.read_csv(\"/kaggle/input/playground-series-s4e10/test.csv\") \n",
    "df_sub = pd.read_csv(\"/kaggle/input/playground-series-s4e10/sample_submission.csv\")"
   ]
  },
  {
   "cell_type": "code",
   "execution_count": 5,
   "id": "1cf9875b",
   "metadata": {
    "execution": {
     "iopub.execute_input": "2024-10-15T06:15:10.440410Z",
     "iopub.status.busy": "2024-10-15T06:15:10.439938Z",
     "iopub.status.idle": "2024-10-15T06:15:10.533132Z",
     "shell.execute_reply": "2024-10-15T06:15:10.531301Z"
    },
    "papermill": {
     "duration": 0.115054,
     "end_time": "2024-10-15T06:15:10.536981",
     "exception": false,
     "start_time": "2024-10-15T06:15:10.421927",
     "status": "completed"
    },
    "tags": []
   },
   "outputs": [],
   "source": [
    "df_origi = pd.read_csv('/kaggle/input/ps4e9-original-data-loan-approval-prediction/credit_risk_dataset.csv')"
   ]
  },
  {
   "cell_type": "code",
   "execution_count": 6,
   "id": "21849a4b",
   "metadata": {
    "execution": {
     "iopub.execute_input": "2024-10-15T06:15:10.572248Z",
     "iopub.status.busy": "2024-10-15T06:15:10.571755Z",
     "iopub.status.idle": "2024-10-15T06:15:10.716429Z",
     "shell.execute_reply": "2024-10-15T06:15:10.714982Z"
    },
    "papermill": {
     "duration": 0.165105,
     "end_time": "2024-10-15T06:15:10.719232",
     "exception": false,
     "start_time": "2024-10-15T06:15:10.554127",
     "status": "completed"
    },
    "tags": []
   },
   "outputs": [
    {
     "data": {
      "text/html": [
       "<div>\n",
       "<style scoped>\n",
       "    .dataframe tbody tr th:only-of-type {\n",
       "        vertical-align: middle;\n",
       "    }\n",
       "\n",
       "    .dataframe tbody tr th {\n",
       "        vertical-align: top;\n",
       "    }\n",
       "\n",
       "    .dataframe thead th {\n",
       "        text-align: right;\n",
       "    }\n",
       "</style>\n",
       "<table border=\"1\" class=\"dataframe\">\n",
       "  <thead>\n",
       "    <tr style=\"text-align: right;\">\n",
       "      <th></th>\n",
       "      <th>person_age</th>\n",
       "      <th>person_income</th>\n",
       "      <th>person_home_ownership</th>\n",
       "      <th>person_emp_length</th>\n",
       "      <th>loan_intent</th>\n",
       "      <th>loan_grade</th>\n",
       "      <th>loan_amnt</th>\n",
       "      <th>loan_int_rate</th>\n",
       "      <th>loan_status</th>\n",
       "      <th>loan_percent_income</th>\n",
       "      <th>cb_person_default_on_file</th>\n",
       "      <th>cb_person_cred_hist_length</th>\n",
       "    </tr>\n",
       "  </thead>\n",
       "  <tbody>\n",
       "    <tr>\n",
       "      <th>0</th>\n",
       "      <td>22</td>\n",
       "      <td>59000</td>\n",
       "      <td>RENT</td>\n",
       "      <td>123.0</td>\n",
       "      <td>PERSONAL</td>\n",
       "      <td>D</td>\n",
       "      <td>35000</td>\n",
       "      <td>16.02</td>\n",
       "      <td>1</td>\n",
       "      <td>0.59</td>\n",
       "      <td>Y</td>\n",
       "      <td>3</td>\n",
       "    </tr>\n",
       "    <tr>\n",
       "      <th>1</th>\n",
       "      <td>21</td>\n",
       "      <td>9600</td>\n",
       "      <td>OWN</td>\n",
       "      <td>5.0</td>\n",
       "      <td>EDUCATION</td>\n",
       "      <td>B</td>\n",
       "      <td>1000</td>\n",
       "      <td>11.14</td>\n",
       "      <td>0</td>\n",
       "      <td>0.10</td>\n",
       "      <td>N</td>\n",
       "      <td>2</td>\n",
       "    </tr>\n",
       "    <tr>\n",
       "      <th>2</th>\n",
       "      <td>25</td>\n",
       "      <td>9600</td>\n",
       "      <td>MORTGAGE</td>\n",
       "      <td>1.0</td>\n",
       "      <td>MEDICAL</td>\n",
       "      <td>C</td>\n",
       "      <td>5500</td>\n",
       "      <td>12.87</td>\n",
       "      <td>1</td>\n",
       "      <td>0.57</td>\n",
       "      <td>N</td>\n",
       "      <td>3</td>\n",
       "    </tr>\n",
       "    <tr>\n",
       "      <th>3</th>\n",
       "      <td>23</td>\n",
       "      <td>65500</td>\n",
       "      <td>RENT</td>\n",
       "      <td>4.0</td>\n",
       "      <td>MEDICAL</td>\n",
       "      <td>C</td>\n",
       "      <td>35000</td>\n",
       "      <td>15.23</td>\n",
       "      <td>1</td>\n",
       "      <td>0.53</td>\n",
       "      <td>N</td>\n",
       "      <td>2</td>\n",
       "    </tr>\n",
       "    <tr>\n",
       "      <th>4</th>\n",
       "      <td>24</td>\n",
       "      <td>54400</td>\n",
       "      <td>RENT</td>\n",
       "      <td>8.0</td>\n",
       "      <td>MEDICAL</td>\n",
       "      <td>C</td>\n",
       "      <td>35000</td>\n",
       "      <td>14.27</td>\n",
       "      <td>1</td>\n",
       "      <td>0.55</td>\n",
       "      <td>Y</td>\n",
       "      <td>4</td>\n",
       "    </tr>\n",
       "  </tbody>\n",
       "</table>\n",
       "</div>"
      ],
      "text/plain": [
       "   person_age  person_income person_home_ownership  person_emp_length  \\\n",
       "0          22          59000                  RENT              123.0   \n",
       "1          21           9600                   OWN                5.0   \n",
       "2          25           9600              MORTGAGE                1.0   \n",
       "3          23          65500                  RENT                4.0   \n",
       "4          24          54400                  RENT                8.0   \n",
       "\n",
       "  loan_intent loan_grade  loan_amnt  loan_int_rate  loan_status  \\\n",
       "0    PERSONAL          D      35000          16.02            1   \n",
       "1   EDUCATION          B       1000          11.14            0   \n",
       "2     MEDICAL          C       5500          12.87            1   \n",
       "3     MEDICAL          C      35000          15.23            1   \n",
       "4     MEDICAL          C      35000          14.27            1   \n",
       "\n",
       "   loan_percent_income cb_person_default_on_file  cb_person_cred_hist_length  \n",
       "0                 0.59                         Y                           3  \n",
       "1                 0.10                         N                           2  \n",
       "2                 0.57                         N                           3  \n",
       "3                 0.53                         N                           2  \n",
       "4                 0.55                         Y                           4  "
      ]
     },
     "execution_count": 6,
     "metadata": {},
     "output_type": "execute_result"
    }
   ],
   "source": [
    "df_origi.head()"
   ]
  },
  {
   "cell_type": "code",
   "execution_count": 7,
   "id": "d6c78b96",
   "metadata": {
    "execution": {
     "iopub.execute_input": "2024-10-15T06:15:10.753250Z",
     "iopub.status.busy": "2024-10-15T06:15:10.752655Z",
     "iopub.status.idle": "2024-10-15T06:15:10.932984Z",
     "shell.execute_reply": "2024-10-15T06:15:10.931599Z"
    },
    "papermill": {
     "duration": 0.201204,
     "end_time": "2024-10-15T06:15:10.936242",
     "exception": false,
     "start_time": "2024-10-15T06:15:10.735038",
     "status": "completed"
    },
    "tags": []
   },
   "outputs": [],
   "source": [
    "from sklearn import datasets\n",
    "\n",
    "diabetes = datasets.load_diabetes()\n",
    "df = pd.DataFrame(diabetes.data)\n",
    "df.columns = ['Age', \"Sex\", 'BMI','ABP', 'S1', 'S2', \"S3\", 'S4', 'S5', 'S6']\n",
    "df['target'] = diabetes.target\n",
    "\n",
    "est = sm.OLS(endog = df['target'], exog = sm.add_constant(df[df.columns[0:4]])).fit()\n",
    "est2 = sm.OLS(endog = df['target'], exog = sm.add_constant(df[df.columns[0:6]])).fit()    \n",
    "\n",
    "stargazer = Stargazer([est, est2])"
   ]
  },
  {
   "cell_type": "code",
   "execution_count": 8,
   "id": "7dd9a6eb",
   "metadata": {
    "execution": {
     "iopub.execute_input": "2024-10-15T06:15:10.974414Z",
     "iopub.status.busy": "2024-10-15T06:15:10.973896Z",
     "iopub.status.idle": "2024-10-15T06:15:10.984239Z",
     "shell.execute_reply": "2024-10-15T06:15:10.983000Z"
    },
    "papermill": {
     "duration": 0.031325,
     "end_time": "2024-10-15T06:15:10.986598",
     "exception": false,
     "start_time": "2024-10-15T06:15:10.955273",
     "status": "completed"
    },
    "tags": []
   },
   "outputs": [
    {
     "data": {
      "text/html": [
       "<table style=\"text-align:center\"><tr><td colspan=\"3\" style=\"border-bottom: 1px solid black\"></td></tr>\n",
       "<tr><td style=\"text-align:left\"></td><td colspan=\"2\"><em>Dependent variable: target</em></td></tr><tr><td style=\"text-align:left\"></td><tr><td style=\"text-align:left\"></td><td>(1)</td><td>(2)</td></tr>\n",
       "<tr><td colspan=\"3\" style=\"border-bottom: 1px solid black\"></td></tr>\n",
       "\n",
       "<tr><td style=\"text-align:left\">ABP</td><td>416.673<sup>***</sup></td><td>397.581<sup>***</sup></td></tr>\n",
       "<tr><td style=\"text-align:left\"></td><td>(69.495)</td><td>(70.870)</td></tr>\n",
       "<tr><td style=\"text-align:left\">Age</td><td>37.241<sup></sup></td><td>24.703<sup></sup></td></tr>\n",
       "<tr><td style=\"text-align:left\"></td><td>(64.117)</td><td>(65.411)</td></tr>\n",
       "<tr><td style=\"text-align:left\">BMI</td><td>787.182<sup>***</sup></td><td>789.744<sup>***</sup></td></tr>\n",
       "<tr><td style=\"text-align:left\"></td><td>(65.424)</td><td>(66.887)</td></tr>\n",
       "<tr><td style=\"text-align:left\">S1</td><td></td><td>197.848<sup></sup></td></tr>\n",
       "<tr><td style=\"text-align:left\"></td><td></td><td>(143.812)</td></tr>\n",
       "<tr><td style=\"text-align:left\">S2</td><td></td><td>-169.243<sup></sup></td></tr>\n",
       "<tr><td style=\"text-align:left\"></td><td></td><td>(142.744)</td></tr>\n",
       "<tr><td style=\"text-align:left\">Sex</td><td>-106.576<sup>*</sup></td><td>-82.862<sup></sup></td></tr>\n",
       "<tr><td style=\"text-align:left\"></td><td>(62.125)</td><td>(64.851)</td></tr>\n",
       "<tr><td style=\"text-align:left\">const</td><td>152.133<sup>***</sup></td><td>152.133<sup>***</sup></td></tr>\n",
       "<tr><td style=\"text-align:left\"></td><td>(2.853)</td><td>(2.853)</td></tr>\n",
       "\n",
       "<td colspan=\"3\" style=\"border-bottom: 1px solid black\"></td></tr>\n",
       "<tr><td style=\"text-align: left\">Observations</td><td>442</td><td>442</td></tr><tr><td style=\"text-align: left\">R<sup>2</sup></td><td>0.400</td><td>0.403</td></tr><tr><td style=\"text-align: left\">Adjusted R<sup>2</sup></td><td>0.395</td><td>0.395</td></tr><tr><td style=\"text-align: left\">Residual Std. Error</td><td>59.976 (df=437)</td><td>59.982 (df=435)</td></tr><tr><td style=\"text-align: left\">F Statistic</td><td>72.913<sup>***</sup> (df=4; 437)</td><td>48.915<sup>***</sup> (df=6; 435)</td></tr>\n",
       "<tr><td colspan=\"3\" style=\"border-bottom: 1px solid black\"></td></tr><tr><td style=\"text-align: left\">Note:</td><td colspan=\"2\" style=\"text-align: right\"><sup>*</sup>p&lt;0.1; <sup>**</sup>p&lt;0.05; <sup>***</sup>p&lt;0.01</td></tr></table>"
      ],
      "text/plain": [
       "<stargazer.stargazer.Stargazer at 0x7db5486cc400>"
      ]
     },
     "execution_count": 8,
     "metadata": {},
     "output_type": "execute_result"
    }
   ],
   "source": [
    "stargazer"
   ]
  },
  {
   "cell_type": "code",
   "execution_count": 9,
   "id": "2e56766a",
   "metadata": {
    "execution": {
     "iopub.execute_input": "2024-10-15T06:15:11.021585Z",
     "iopub.status.busy": "2024-10-15T06:15:11.020613Z",
     "iopub.status.idle": "2024-10-15T06:15:11.029692Z",
     "shell.execute_reply": "2024-10-15T06:15:11.028389Z"
    },
    "papermill": {
     "duration": 0.029637,
     "end_time": "2024-10-15T06:15:11.032450",
     "exception": false,
     "start_time": "2024-10-15T06:15:11.002813",
     "status": "completed"
    },
    "tags": []
   },
   "outputs": [
    {
     "data": {
      "text/plain": [
       "Index(['person_age', 'person_income', 'person_home_ownership',\n",
       "       'person_emp_length', 'loan_intent', 'loan_grade', 'loan_amnt',\n",
       "       'loan_int_rate', 'loan_status', 'loan_percent_income',\n",
       "       'cb_person_default_on_file', 'cb_person_cred_hist_length'],\n",
       "      dtype='object')"
      ]
     },
     "execution_count": 9,
     "metadata": {},
     "output_type": "execute_result"
    }
   ],
   "source": [
    "df_origi.columns"
   ]
  },
  {
   "cell_type": "code",
   "execution_count": 10,
   "id": "c7f6ae27",
   "metadata": {
    "execution": {
     "iopub.execute_input": "2024-10-15T06:15:11.067340Z",
     "iopub.status.busy": "2024-10-15T06:15:11.066335Z",
     "iopub.status.idle": "2024-10-15T06:15:11.074873Z",
     "shell.execute_reply": "2024-10-15T06:15:11.073493Z"
    },
    "papermill": {
     "duration": 0.028766,
     "end_time": "2024-10-15T06:15:11.077365",
     "exception": false,
     "start_time": "2024-10-15T06:15:11.048599",
     "status": "completed"
    },
    "tags": []
   },
   "outputs": [
    {
     "data": {
      "text/plain": [
       "(32581, 12)"
      ]
     },
     "execution_count": 10,
     "metadata": {},
     "output_type": "execute_result"
    }
   ],
   "source": [
    "df_origi.shape"
   ]
  },
  {
   "cell_type": "code",
   "execution_count": 11,
   "id": "e61b8213",
   "metadata": {
    "execution": {
     "iopub.execute_input": "2024-10-15T06:15:11.112442Z",
     "iopub.status.busy": "2024-10-15T06:15:11.111543Z",
     "iopub.status.idle": "2024-10-15T06:15:11.121361Z",
     "shell.execute_reply": "2024-10-15T06:15:11.119904Z"
    },
    "papermill": {
     "duration": 0.030259,
     "end_time": "2024-10-15T06:15:11.123933",
     "exception": false,
     "start_time": "2024-10-15T06:15:11.093674",
     "status": "completed"
    },
    "tags": []
   },
   "outputs": [
    {
     "data": {
      "text/plain": [
       "Index(['id', 'person_age', 'person_income', 'person_home_ownership',\n",
       "       'person_emp_length', 'loan_intent', 'loan_grade', 'loan_amnt',\n",
       "       'loan_int_rate', 'loan_percent_income', 'cb_person_default_on_file',\n",
       "       'cb_person_cred_hist_length', 'loan_status'],\n",
       "      dtype='object')"
      ]
     },
     "execution_count": 11,
     "metadata": {},
     "output_type": "execute_result"
    }
   ],
   "source": [
    "df_train.columns"
   ]
  },
  {
   "cell_type": "code",
   "execution_count": 12,
   "id": "3cc2e886",
   "metadata": {
    "execution": {
     "iopub.execute_input": "2024-10-15T06:15:11.158847Z",
     "iopub.status.busy": "2024-10-15T06:15:11.158353Z",
     "iopub.status.idle": "2024-10-15T06:15:11.166684Z",
     "shell.execute_reply": "2024-10-15T06:15:11.165493Z"
    },
    "papermill": {
     "duration": 0.028855,
     "end_time": "2024-10-15T06:15:11.169213",
     "exception": false,
     "start_time": "2024-10-15T06:15:11.140358",
     "status": "completed"
    },
    "tags": []
   },
   "outputs": [
    {
     "data": {
      "text/plain": [
       "(58645, 13)"
      ]
     },
     "execution_count": 12,
     "metadata": {},
     "output_type": "execute_result"
    }
   ],
   "source": [
    "df_train.shape"
   ]
  },
  {
   "cell_type": "code",
   "execution_count": 13,
   "id": "45614b92",
   "metadata": {
    "execution": {
     "iopub.execute_input": "2024-10-15T06:15:11.204595Z",
     "iopub.status.busy": "2024-10-15T06:15:11.204073Z",
     "iopub.status.idle": "2024-10-15T06:15:11.225230Z",
     "shell.execute_reply": "2024-10-15T06:15:11.223840Z"
    },
    "papermill": {
     "duration": 0.042118,
     "end_time": "2024-10-15T06:15:11.227899",
     "exception": false,
     "start_time": "2024-10-15T06:15:11.185781",
     "status": "completed"
    },
    "tags": []
   },
   "outputs": [
    {
     "data": {
      "text/html": [
       "<div>\n",
       "<style scoped>\n",
       "    .dataframe tbody tr th:only-of-type {\n",
       "        vertical-align: middle;\n",
       "    }\n",
       "\n",
       "    .dataframe tbody tr th {\n",
       "        vertical-align: top;\n",
       "    }\n",
       "\n",
       "    .dataframe thead th {\n",
       "        text-align: right;\n",
       "    }\n",
       "</style>\n",
       "<table border=\"1\" class=\"dataframe\">\n",
       "  <thead>\n",
       "    <tr style=\"text-align: right;\">\n",
       "      <th></th>\n",
       "      <th>id</th>\n",
       "      <th>person_age</th>\n",
       "      <th>person_income</th>\n",
       "      <th>person_home_ownership</th>\n",
       "      <th>person_emp_length</th>\n",
       "      <th>loan_intent</th>\n",
       "      <th>loan_grade</th>\n",
       "      <th>loan_amnt</th>\n",
       "      <th>loan_int_rate</th>\n",
       "      <th>loan_percent_income</th>\n",
       "      <th>cb_person_default_on_file</th>\n",
       "      <th>cb_person_cred_hist_length</th>\n",
       "      <th>loan_status</th>\n",
       "    </tr>\n",
       "  </thead>\n",
       "  <tbody>\n",
       "    <tr>\n",
       "      <th>0</th>\n",
       "      <td>0</td>\n",
       "      <td>37</td>\n",
       "      <td>35000</td>\n",
       "      <td>RENT</td>\n",
       "      <td>0.0</td>\n",
       "      <td>EDUCATION</td>\n",
       "      <td>B</td>\n",
       "      <td>6000</td>\n",
       "      <td>11.49</td>\n",
       "      <td>0.17</td>\n",
       "      <td>N</td>\n",
       "      <td>14</td>\n",
       "      <td>0</td>\n",
       "    </tr>\n",
       "    <tr>\n",
       "      <th>1</th>\n",
       "      <td>1</td>\n",
       "      <td>22</td>\n",
       "      <td>56000</td>\n",
       "      <td>OWN</td>\n",
       "      <td>6.0</td>\n",
       "      <td>MEDICAL</td>\n",
       "      <td>C</td>\n",
       "      <td>4000</td>\n",
       "      <td>13.35</td>\n",
       "      <td>0.07</td>\n",
       "      <td>N</td>\n",
       "      <td>2</td>\n",
       "      <td>0</td>\n",
       "    </tr>\n",
       "    <tr>\n",
       "      <th>2</th>\n",
       "      <td>2</td>\n",
       "      <td>29</td>\n",
       "      <td>28800</td>\n",
       "      <td>OWN</td>\n",
       "      <td>8.0</td>\n",
       "      <td>PERSONAL</td>\n",
       "      <td>A</td>\n",
       "      <td>6000</td>\n",
       "      <td>8.90</td>\n",
       "      <td>0.21</td>\n",
       "      <td>N</td>\n",
       "      <td>10</td>\n",
       "      <td>0</td>\n",
       "    </tr>\n",
       "    <tr>\n",
       "      <th>3</th>\n",
       "      <td>3</td>\n",
       "      <td>30</td>\n",
       "      <td>70000</td>\n",
       "      <td>RENT</td>\n",
       "      <td>14.0</td>\n",
       "      <td>VENTURE</td>\n",
       "      <td>B</td>\n",
       "      <td>12000</td>\n",
       "      <td>11.11</td>\n",
       "      <td>0.17</td>\n",
       "      <td>N</td>\n",
       "      <td>5</td>\n",
       "      <td>0</td>\n",
       "    </tr>\n",
       "    <tr>\n",
       "      <th>4</th>\n",
       "      <td>4</td>\n",
       "      <td>22</td>\n",
       "      <td>60000</td>\n",
       "      <td>RENT</td>\n",
       "      <td>2.0</td>\n",
       "      <td>MEDICAL</td>\n",
       "      <td>A</td>\n",
       "      <td>6000</td>\n",
       "      <td>6.92</td>\n",
       "      <td>0.10</td>\n",
       "      <td>N</td>\n",
       "      <td>3</td>\n",
       "      <td>0</td>\n",
       "    </tr>\n",
       "  </tbody>\n",
       "</table>\n",
       "</div>"
      ],
      "text/plain": [
       "   id  person_age  person_income person_home_ownership  person_emp_length  \\\n",
       "0   0          37          35000                  RENT                0.0   \n",
       "1   1          22          56000                   OWN                6.0   \n",
       "2   2          29          28800                   OWN                8.0   \n",
       "3   3          30          70000                  RENT               14.0   \n",
       "4   4          22          60000                  RENT                2.0   \n",
       "\n",
       "  loan_intent loan_grade  loan_amnt  loan_int_rate  loan_percent_income  \\\n",
       "0   EDUCATION          B       6000          11.49                 0.17   \n",
       "1     MEDICAL          C       4000          13.35                 0.07   \n",
       "2    PERSONAL          A       6000           8.90                 0.21   \n",
       "3     VENTURE          B      12000          11.11                 0.17   \n",
       "4     MEDICAL          A       6000           6.92                 0.10   \n",
       "\n",
       "  cb_person_default_on_file  cb_person_cred_hist_length  loan_status  \n",
       "0                         N                          14            0  \n",
       "1                         N                           2            0  \n",
       "2                         N                          10            0  \n",
       "3                         N                           5            0  \n",
       "4                         N                           3            0  "
      ]
     },
     "execution_count": 13,
     "metadata": {},
     "output_type": "execute_result"
    }
   ],
   "source": [
    "df_train.head()"
   ]
  },
  {
   "cell_type": "code",
   "execution_count": 14,
   "id": "bb246af3",
   "metadata": {
    "execution": {
     "iopub.execute_input": "2024-10-15T06:15:11.264753Z",
     "iopub.status.busy": "2024-10-15T06:15:11.263499Z",
     "iopub.status.idle": "2024-10-15T06:15:11.323058Z",
     "shell.execute_reply": "2024-10-15T06:15:11.321602Z"
    },
    "papermill": {
     "duration": 0.081111,
     "end_time": "2024-10-15T06:15:11.325999",
     "exception": false,
     "start_time": "2024-10-15T06:15:11.244888",
     "status": "completed"
    },
    "tags": []
   },
   "outputs": [
    {
     "data": {
      "text/html": [
       "<div>\n",
       "<style scoped>\n",
       "    .dataframe tbody tr th:only-of-type {\n",
       "        vertical-align: middle;\n",
       "    }\n",
       "\n",
       "    .dataframe tbody tr th {\n",
       "        vertical-align: top;\n",
       "    }\n",
       "\n",
       "    .dataframe thead th {\n",
       "        text-align: right;\n",
       "    }\n",
       "</style>\n",
       "<table border=\"1\" class=\"dataframe\">\n",
       "  <thead>\n",
       "    <tr style=\"text-align: right;\">\n",
       "      <th></th>\n",
       "      <th>id</th>\n",
       "      <th>person_age</th>\n",
       "      <th>person_income</th>\n",
       "      <th>person_emp_length</th>\n",
       "      <th>loan_amnt</th>\n",
       "      <th>loan_int_rate</th>\n",
       "      <th>loan_percent_income</th>\n",
       "      <th>cb_person_cred_hist_length</th>\n",
       "      <th>loan_status</th>\n",
       "    </tr>\n",
       "  </thead>\n",
       "  <tbody>\n",
       "    <tr>\n",
       "      <th>count</th>\n",
       "      <td>58645.000000</td>\n",
       "      <td>58645.000000</td>\n",
       "      <td>5.864500e+04</td>\n",
       "      <td>58645.000000</td>\n",
       "      <td>58645.000000</td>\n",
       "      <td>58645.000000</td>\n",
       "      <td>58645.000000</td>\n",
       "      <td>58645.000000</td>\n",
       "      <td>58645.000000</td>\n",
       "    </tr>\n",
       "    <tr>\n",
       "      <th>mean</th>\n",
       "      <td>29322.000000</td>\n",
       "      <td>27.550857</td>\n",
       "      <td>6.404617e+04</td>\n",
       "      <td>4.701015</td>\n",
       "      <td>9217.556518</td>\n",
       "      <td>10.677874</td>\n",
       "      <td>0.159238</td>\n",
       "      <td>5.813556</td>\n",
       "      <td>0.142382</td>\n",
       "    </tr>\n",
       "    <tr>\n",
       "      <th>std</th>\n",
       "      <td>16929.497605</td>\n",
       "      <td>6.033216</td>\n",
       "      <td>3.793111e+04</td>\n",
       "      <td>3.959784</td>\n",
       "      <td>5563.807384</td>\n",
       "      <td>3.034697</td>\n",
       "      <td>0.091692</td>\n",
       "      <td>4.029196</td>\n",
       "      <td>0.349445</td>\n",
       "    </tr>\n",
       "    <tr>\n",
       "      <th>min</th>\n",
       "      <td>0.000000</td>\n",
       "      <td>20.000000</td>\n",
       "      <td>4.200000e+03</td>\n",
       "      <td>0.000000</td>\n",
       "      <td>500.000000</td>\n",
       "      <td>5.420000</td>\n",
       "      <td>0.000000</td>\n",
       "      <td>2.000000</td>\n",
       "      <td>0.000000</td>\n",
       "    </tr>\n",
       "    <tr>\n",
       "      <th>25%</th>\n",
       "      <td>14661.000000</td>\n",
       "      <td>23.000000</td>\n",
       "      <td>4.200000e+04</td>\n",
       "      <td>2.000000</td>\n",
       "      <td>5000.000000</td>\n",
       "      <td>7.880000</td>\n",
       "      <td>0.090000</td>\n",
       "      <td>3.000000</td>\n",
       "      <td>0.000000</td>\n",
       "    </tr>\n",
       "    <tr>\n",
       "      <th>50%</th>\n",
       "      <td>29322.000000</td>\n",
       "      <td>26.000000</td>\n",
       "      <td>5.800000e+04</td>\n",
       "      <td>4.000000</td>\n",
       "      <td>8000.000000</td>\n",
       "      <td>10.750000</td>\n",
       "      <td>0.140000</td>\n",
       "      <td>4.000000</td>\n",
       "      <td>0.000000</td>\n",
       "    </tr>\n",
       "    <tr>\n",
       "      <th>75%</th>\n",
       "      <td>43983.000000</td>\n",
       "      <td>30.000000</td>\n",
       "      <td>7.560000e+04</td>\n",
       "      <td>7.000000</td>\n",
       "      <td>12000.000000</td>\n",
       "      <td>12.990000</td>\n",
       "      <td>0.210000</td>\n",
       "      <td>8.000000</td>\n",
       "      <td>0.000000</td>\n",
       "    </tr>\n",
       "    <tr>\n",
       "      <th>max</th>\n",
       "      <td>58644.000000</td>\n",
       "      <td>123.000000</td>\n",
       "      <td>1.900000e+06</td>\n",
       "      <td>123.000000</td>\n",
       "      <td>35000.000000</td>\n",
       "      <td>23.220000</td>\n",
       "      <td>0.830000</td>\n",
       "      <td>30.000000</td>\n",
       "      <td>1.000000</td>\n",
       "    </tr>\n",
       "  </tbody>\n",
       "</table>\n",
       "</div>"
      ],
      "text/plain": [
       "                 id    person_age  person_income  person_emp_length  \\\n",
       "count  58645.000000  58645.000000   5.864500e+04       58645.000000   \n",
       "mean   29322.000000     27.550857   6.404617e+04           4.701015   \n",
       "std    16929.497605      6.033216   3.793111e+04           3.959784   \n",
       "min        0.000000     20.000000   4.200000e+03           0.000000   \n",
       "25%    14661.000000     23.000000   4.200000e+04           2.000000   \n",
       "50%    29322.000000     26.000000   5.800000e+04           4.000000   \n",
       "75%    43983.000000     30.000000   7.560000e+04           7.000000   \n",
       "max    58644.000000    123.000000   1.900000e+06         123.000000   \n",
       "\n",
       "          loan_amnt  loan_int_rate  loan_percent_income  \\\n",
       "count  58645.000000   58645.000000         58645.000000   \n",
       "mean    9217.556518      10.677874             0.159238   \n",
       "std     5563.807384       3.034697             0.091692   \n",
       "min      500.000000       5.420000             0.000000   \n",
       "25%     5000.000000       7.880000             0.090000   \n",
       "50%     8000.000000      10.750000             0.140000   \n",
       "75%    12000.000000      12.990000             0.210000   \n",
       "max    35000.000000      23.220000             0.830000   \n",
       "\n",
       "       cb_person_cred_hist_length   loan_status  \n",
       "count                58645.000000  58645.000000  \n",
       "mean                     5.813556      0.142382  \n",
       "std                      4.029196      0.349445  \n",
       "min                      2.000000      0.000000  \n",
       "25%                      3.000000      0.000000  \n",
       "50%                      4.000000      0.000000  \n",
       "75%                      8.000000      0.000000  \n",
       "max                     30.000000      1.000000  "
      ]
     },
     "execution_count": 14,
     "metadata": {},
     "output_type": "execute_result"
    }
   ],
   "source": [
    "df_train.describe()"
   ]
  },
  {
   "cell_type": "code",
   "execution_count": 15,
   "id": "60551303",
   "metadata": {
    "execution": {
     "iopub.execute_input": "2024-10-15T06:15:11.362851Z",
     "iopub.status.busy": "2024-10-15T06:15:11.362099Z",
     "iopub.status.idle": "2024-10-15T06:15:11.381929Z",
     "shell.execute_reply": "2024-10-15T06:15:11.380581Z"
    },
    "papermill": {
     "duration": 0.041612,
     "end_time": "2024-10-15T06:15:11.384889",
     "exception": false,
     "start_time": "2024-10-15T06:15:11.343277",
     "status": "completed"
    },
    "tags": []
   },
   "outputs": [
    {
     "data": {
      "text/html": [
       "<div>\n",
       "<style scoped>\n",
       "    .dataframe tbody tr th:only-of-type {\n",
       "        vertical-align: middle;\n",
       "    }\n",
       "\n",
       "    .dataframe tbody tr th {\n",
       "        vertical-align: top;\n",
       "    }\n",
       "\n",
       "    .dataframe thead th {\n",
       "        text-align: right;\n",
       "    }\n",
       "</style>\n",
       "<table border=\"1\" class=\"dataframe\">\n",
       "  <thead>\n",
       "    <tr style=\"text-align: right;\">\n",
       "      <th></th>\n",
       "      <th>id</th>\n",
       "      <th>person_age</th>\n",
       "      <th>person_income</th>\n",
       "      <th>person_home_ownership</th>\n",
       "      <th>person_emp_length</th>\n",
       "      <th>loan_intent</th>\n",
       "      <th>loan_grade</th>\n",
       "      <th>loan_amnt</th>\n",
       "      <th>loan_int_rate</th>\n",
       "      <th>loan_percent_income</th>\n",
       "      <th>cb_person_default_on_file</th>\n",
       "      <th>cb_person_cred_hist_length</th>\n",
       "    </tr>\n",
       "  </thead>\n",
       "  <tbody>\n",
       "    <tr>\n",
       "      <th>0</th>\n",
       "      <td>58645</td>\n",
       "      <td>23</td>\n",
       "      <td>69000</td>\n",
       "      <td>RENT</td>\n",
       "      <td>3.0</td>\n",
       "      <td>HOMEIMPROVEMENT</td>\n",
       "      <td>F</td>\n",
       "      <td>25000</td>\n",
       "      <td>15.76</td>\n",
       "      <td>0.36</td>\n",
       "      <td>N</td>\n",
       "      <td>2</td>\n",
       "    </tr>\n",
       "    <tr>\n",
       "      <th>1</th>\n",
       "      <td>58646</td>\n",
       "      <td>26</td>\n",
       "      <td>96000</td>\n",
       "      <td>MORTGAGE</td>\n",
       "      <td>6.0</td>\n",
       "      <td>PERSONAL</td>\n",
       "      <td>C</td>\n",
       "      <td>10000</td>\n",
       "      <td>12.68</td>\n",
       "      <td>0.10</td>\n",
       "      <td>Y</td>\n",
       "      <td>4</td>\n",
       "    </tr>\n",
       "    <tr>\n",
       "      <th>2</th>\n",
       "      <td>58647</td>\n",
       "      <td>26</td>\n",
       "      <td>30000</td>\n",
       "      <td>RENT</td>\n",
       "      <td>5.0</td>\n",
       "      <td>VENTURE</td>\n",
       "      <td>E</td>\n",
       "      <td>4000</td>\n",
       "      <td>17.19</td>\n",
       "      <td>0.13</td>\n",
       "      <td>Y</td>\n",
       "      <td>2</td>\n",
       "    </tr>\n",
       "    <tr>\n",
       "      <th>3</th>\n",
       "      <td>58648</td>\n",
       "      <td>33</td>\n",
       "      <td>50000</td>\n",
       "      <td>RENT</td>\n",
       "      <td>4.0</td>\n",
       "      <td>DEBTCONSOLIDATION</td>\n",
       "      <td>A</td>\n",
       "      <td>7000</td>\n",
       "      <td>8.90</td>\n",
       "      <td>0.14</td>\n",
       "      <td>N</td>\n",
       "      <td>7</td>\n",
       "    </tr>\n",
       "    <tr>\n",
       "      <th>4</th>\n",
       "      <td>58649</td>\n",
       "      <td>26</td>\n",
       "      <td>102000</td>\n",
       "      <td>MORTGAGE</td>\n",
       "      <td>8.0</td>\n",
       "      <td>HOMEIMPROVEMENT</td>\n",
       "      <td>D</td>\n",
       "      <td>15000</td>\n",
       "      <td>16.32</td>\n",
       "      <td>0.15</td>\n",
       "      <td>Y</td>\n",
       "      <td>4</td>\n",
       "    </tr>\n",
       "  </tbody>\n",
       "</table>\n",
       "</div>"
      ],
      "text/plain": [
       "      id  person_age  person_income person_home_ownership  person_emp_length  \\\n",
       "0  58645          23          69000                  RENT                3.0   \n",
       "1  58646          26          96000              MORTGAGE                6.0   \n",
       "2  58647          26          30000                  RENT                5.0   \n",
       "3  58648          33          50000                  RENT                4.0   \n",
       "4  58649          26         102000              MORTGAGE                8.0   \n",
       "\n",
       "         loan_intent loan_grade  loan_amnt  loan_int_rate  \\\n",
       "0    HOMEIMPROVEMENT          F      25000          15.76   \n",
       "1           PERSONAL          C      10000          12.68   \n",
       "2            VENTURE          E       4000          17.19   \n",
       "3  DEBTCONSOLIDATION          A       7000           8.90   \n",
       "4    HOMEIMPROVEMENT          D      15000          16.32   \n",
       "\n",
       "   loan_percent_income cb_person_default_on_file  cb_person_cred_hist_length  \n",
       "0                 0.36                         N                           2  \n",
       "1                 0.10                         Y                           4  \n",
       "2                 0.13                         Y                           2  \n",
       "3                 0.14                         N                           7  \n",
       "4                 0.15                         Y                           4  "
      ]
     },
     "execution_count": 15,
     "metadata": {},
     "output_type": "execute_result"
    }
   ],
   "source": [
    "df_test.head()"
   ]
  },
  {
   "cell_type": "code",
   "execution_count": 16,
   "id": "d013c678",
   "metadata": {
    "execution": {
     "iopub.execute_input": "2024-10-15T06:15:11.423052Z",
     "iopub.status.busy": "2024-10-15T06:15:11.422617Z",
     "iopub.status.idle": "2024-10-15T06:15:11.436556Z",
     "shell.execute_reply": "2024-10-15T06:15:11.435327Z"
    },
    "papermill": {
     "duration": 0.036323,
     "end_time": "2024-10-15T06:15:11.439403",
     "exception": false,
     "start_time": "2024-10-15T06:15:11.403080",
     "status": "completed"
    },
    "tags": []
   },
   "outputs": [
    {
     "data": {
      "text/html": [
       "<div>\n",
       "<style scoped>\n",
       "    .dataframe tbody tr th:only-of-type {\n",
       "        vertical-align: middle;\n",
       "    }\n",
       "\n",
       "    .dataframe tbody tr th {\n",
       "        vertical-align: top;\n",
       "    }\n",
       "\n",
       "    .dataframe thead th {\n",
       "        text-align: right;\n",
       "    }\n",
       "</style>\n",
       "<table border=\"1\" class=\"dataframe\">\n",
       "  <thead>\n",
       "    <tr style=\"text-align: right;\">\n",
       "      <th></th>\n",
       "      <th>id</th>\n",
       "      <th>loan_status</th>\n",
       "    </tr>\n",
       "  </thead>\n",
       "  <tbody>\n",
       "    <tr>\n",
       "      <th>0</th>\n",
       "      <td>58645</td>\n",
       "      <td>0.5</td>\n",
       "    </tr>\n",
       "    <tr>\n",
       "      <th>1</th>\n",
       "      <td>58646</td>\n",
       "      <td>0.5</td>\n",
       "    </tr>\n",
       "    <tr>\n",
       "      <th>2</th>\n",
       "      <td>58647</td>\n",
       "      <td>0.5</td>\n",
       "    </tr>\n",
       "    <tr>\n",
       "      <th>3</th>\n",
       "      <td>58648</td>\n",
       "      <td>0.5</td>\n",
       "    </tr>\n",
       "    <tr>\n",
       "      <th>4</th>\n",
       "      <td>58649</td>\n",
       "      <td>0.5</td>\n",
       "    </tr>\n",
       "  </tbody>\n",
       "</table>\n",
       "</div>"
      ],
      "text/plain": [
       "      id  loan_status\n",
       "0  58645          0.5\n",
       "1  58646          0.5\n",
       "2  58647          0.5\n",
       "3  58648          0.5\n",
       "4  58649          0.5"
      ]
     },
     "execution_count": 16,
     "metadata": {},
     "output_type": "execute_result"
    }
   ],
   "source": [
    "df_sub.head()"
   ]
  },
  {
   "cell_type": "code",
   "execution_count": 17,
   "id": "6e70b00a",
   "metadata": {
    "execution": {
     "iopub.execute_input": "2024-10-15T06:15:11.479108Z",
     "iopub.status.busy": "2024-10-15T06:15:11.478082Z",
     "iopub.status.idle": "2024-10-15T06:15:11.492500Z",
     "shell.execute_reply": "2024-10-15T06:15:11.491249Z"
    },
    "papermill": {
     "duration": 0.036649,
     "end_time": "2024-10-15T06:15:11.495222",
     "exception": false,
     "start_time": "2024-10-15T06:15:11.458573",
     "status": "completed"
    },
    "tags": []
   },
   "outputs": [],
   "source": [
    "df_train = df_train.drop(columns = ['id'])\n",
    "df_test = df_test.drop(columns = ['id'])"
   ]
  },
  {
   "cell_type": "code",
   "execution_count": 18,
   "id": "ddb2f391",
   "metadata": {
    "execution": {
     "iopub.execute_input": "2024-10-15T06:15:11.533361Z",
     "iopub.status.busy": "2024-10-15T06:15:11.532412Z",
     "iopub.status.idle": "2024-10-15T06:15:11.543854Z",
     "shell.execute_reply": "2024-10-15T06:15:11.542712Z"
    },
    "papermill": {
     "duration": 0.033959,
     "end_time": "2024-10-15T06:15:11.546756",
     "exception": false,
     "start_time": "2024-10-15T06:15:11.512797",
     "status": "completed"
    },
    "tags": []
   },
   "outputs": [
    {
     "data": {
      "text/plain": [
       "((58645, 12), (39098, 11))"
      ]
     },
     "execution_count": 18,
     "metadata": {},
     "output_type": "execute_result"
    }
   ],
   "source": [
    "df_train.shape , df_test.shape"
   ]
  },
  {
   "cell_type": "code",
   "execution_count": 19,
   "id": "b99f4b8a",
   "metadata": {
    "execution": {
     "iopub.execute_input": "2024-10-15T06:15:11.586966Z",
     "iopub.status.busy": "2024-10-15T06:15:11.586475Z",
     "iopub.status.idle": "2024-10-15T06:15:11.607785Z",
     "shell.execute_reply": "2024-10-15T06:15:11.606387Z"
    },
    "papermill": {
     "duration": 0.044522,
     "end_time": "2024-10-15T06:15:11.610859",
     "exception": false,
     "start_time": "2024-10-15T06:15:11.566337",
     "status": "completed"
    },
    "tags": []
   },
   "outputs": [],
   "source": [
    "df_train = pd.concat([df_train, df_origi], axis = 0)"
   ]
  },
  {
   "cell_type": "code",
   "execution_count": 20,
   "id": "53f3c9fd",
   "metadata": {
    "execution": {
     "iopub.execute_input": "2024-10-15T06:15:11.650368Z",
     "iopub.status.busy": "2024-10-15T06:15:11.649760Z",
     "iopub.status.idle": "2024-10-15T06:15:11.723713Z",
     "shell.execute_reply": "2024-10-15T06:15:11.721495Z"
    },
    "papermill": {
     "duration": 0.096921,
     "end_time": "2024-10-15T06:15:11.726430",
     "exception": false,
     "start_time": "2024-10-15T06:15:11.629509",
     "status": "completed"
    },
    "tags": []
   },
   "outputs": [
    {
     "name": "stdout",
     "output_type": "stream",
     "text": [
      "<class 'pandas.core.frame.DataFrame'>\n",
      "Index: 91226 entries, 0 to 32580\n",
      "Data columns (total 12 columns):\n",
      " #   Column                      Non-Null Count  Dtype  \n",
      "---  ------                      --------------  -----  \n",
      " 0   person_age                  91226 non-null  int64  \n",
      " 1   person_income               91226 non-null  int64  \n",
      " 2   person_home_ownership       91226 non-null  object \n",
      " 3   person_emp_length           90331 non-null  float64\n",
      " 4   loan_intent                 91226 non-null  object \n",
      " 5   loan_grade                  91226 non-null  object \n",
      " 6   loan_amnt                   91226 non-null  int64  \n",
      " 7   loan_int_rate               88110 non-null  float64\n",
      " 8   loan_percent_income         91226 non-null  float64\n",
      " 9   cb_person_default_on_file   91226 non-null  object \n",
      " 10  cb_person_cred_hist_length  91226 non-null  int64  \n",
      " 11  loan_status                 91226 non-null  int64  \n",
      "dtypes: float64(3), int64(5), object(4)\n",
      "memory usage: 9.0+ MB\n"
     ]
    }
   ],
   "source": [
    "df_train.info()"
   ]
  },
  {
   "cell_type": "code",
   "execution_count": 21,
   "id": "b5f4c4e2",
   "metadata": {
    "execution": {
     "iopub.execute_input": "2024-10-15T06:15:11.765805Z",
     "iopub.status.busy": "2024-10-15T06:15:11.765335Z",
     "iopub.status.idle": "2024-10-15T06:15:11.818186Z",
     "shell.execute_reply": "2024-10-15T06:15:11.816638Z"
    },
    "papermill": {
     "duration": 0.07638,
     "end_time": "2024-10-15T06:15:11.821032",
     "exception": false,
     "start_time": "2024-10-15T06:15:11.744652",
     "status": "completed"
    },
    "tags": []
   },
   "outputs": [
    {
     "data": {
      "text/plain": [
       "person_age                       0\n",
       "person_income                    0\n",
       "person_home_ownership            0\n",
       "person_emp_length              895\n",
       "loan_intent                      0\n",
       "loan_grade                       0\n",
       "loan_amnt                        0\n",
       "loan_int_rate                 3116\n",
       "loan_percent_income              0\n",
       "cb_person_default_on_file        0\n",
       "cb_person_cred_hist_length       0\n",
       "loan_status                      0\n",
       "dtype: int64"
      ]
     },
     "execution_count": 21,
     "metadata": {},
     "output_type": "execute_result"
    }
   ],
   "source": [
    "df_train.isnull().sum()"
   ]
  },
  {
   "cell_type": "code",
   "execution_count": 22,
   "id": "7354c108",
   "metadata": {
    "execution": {
     "iopub.execute_input": "2024-10-15T06:15:11.860545Z",
     "iopub.status.busy": "2024-10-15T06:15:11.860042Z",
     "iopub.status.idle": "2024-10-15T06:15:11.888936Z",
     "shell.execute_reply": "2024-10-15T06:15:11.887500Z"
    },
    "papermill": {
     "duration": 0.051865,
     "end_time": "2024-10-15T06:15:11.891665",
     "exception": false,
     "start_time": "2024-10-15T06:15:11.839800",
     "status": "completed"
    },
    "tags": []
   },
   "outputs": [
    {
     "data": {
      "text/plain": [
       "person_age                    0\n",
       "person_income                 0\n",
       "person_home_ownership         0\n",
       "person_emp_length             0\n",
       "loan_intent                   0\n",
       "loan_grade                    0\n",
       "loan_amnt                     0\n",
       "loan_int_rate                 0\n",
       "loan_percent_income           0\n",
       "cb_person_default_on_file     0\n",
       "cb_person_cred_hist_length    0\n",
       "dtype: int64"
      ]
     },
     "execution_count": 22,
     "metadata": {},
     "output_type": "execute_result"
    }
   ],
   "source": [
    "df_test.isnull().sum()"
   ]
  },
  {
   "cell_type": "code",
   "execution_count": 23,
   "id": "59d7d27f",
   "metadata": {
    "execution": {
     "iopub.execute_input": "2024-10-15T06:15:11.930938Z",
     "iopub.status.busy": "2024-10-15T06:15:11.930405Z",
     "iopub.status.idle": "2024-10-15T06:15:11.941888Z",
     "shell.execute_reply": "2024-10-15T06:15:11.940526Z"
    },
    "papermill": {
     "duration": 0.034631,
     "end_time": "2024-10-15T06:15:11.944663",
     "exception": false,
     "start_time": "2024-10-15T06:15:11.910032",
     "status": "completed"
    },
    "tags": []
   },
   "outputs": [
    {
     "data": {
      "text/plain": [
       "\"\\ndf_train['person_emp_length'].fillna(df_train['person_emp_length'].mean(), inplace = True)\\ndf_train['loan_int_rate'].fillna(df_train['loan_int_rate'].mean(), inplace = True)\\n\""
      ]
     },
     "execution_count": 23,
     "metadata": {},
     "output_type": "execute_result"
    }
   ],
   "source": [
    "def Na_mean_change(df, features):\n",
    "    \n",
    "    for col in features:\n",
    "        df[col].fillna(df[col].mean(), inplace = True)\n",
    "    \n",
    "    pd.DataFrame(df)\n",
    "    return df\n",
    "\n",
    "'''\n",
    "df_train['person_emp_length'].fillna(df_train['person_emp_length'].mean(), inplace = True)\n",
    "df_train['loan_int_rate'].fillna(df_train['loan_int_rate'].mean(), inplace = True)\n",
    "'''"
   ]
  },
  {
   "cell_type": "code",
   "execution_count": 24,
   "id": "61ac9976",
   "metadata": {
    "execution": {
     "iopub.execute_input": "2024-10-15T06:15:11.984218Z",
     "iopub.status.busy": "2024-10-15T06:15:11.983664Z",
     "iopub.status.idle": "2024-10-15T06:15:11.994994Z",
     "shell.execute_reply": "2024-10-15T06:15:11.993611Z"
    },
    "papermill": {
     "duration": 0.035007,
     "end_time": "2024-10-15T06:15:11.998325",
     "exception": false,
     "start_time": "2024-10-15T06:15:11.963318",
     "status": "completed"
    },
    "tags": []
   },
   "outputs": [
    {
     "name": "stderr",
     "output_type": "stream",
     "text": [
      "/tmp/ipykernel_18/918174096.py:4: FutureWarning: A value is trying to be set on a copy of a DataFrame or Series through chained assignment using an inplace method.\n",
      "The behavior will change in pandas 3.0. This inplace method will never work because the intermediate object on which we are setting values always behaves as a copy.\n",
      "\n",
      "For example, when doing 'df[col].method(value, inplace=True)', try using 'df.method({col: value}, inplace=True)' or df[col] = df[col].method(value) instead, to perform the operation inplace on the original object.\n",
      "\n",
      "\n",
      "  df[col].fillna(df[col].mean(), inplace = True)\n"
     ]
    }
   ],
   "source": [
    "df_train = Na_mean_change(df_train, ['person_emp_length', 'loan_int_rate'])"
   ]
  },
  {
   "cell_type": "code",
   "execution_count": 25,
   "id": "e343fc60",
   "metadata": {
    "execution": {
     "iopub.execute_input": "2024-10-15T06:15:12.039541Z",
     "iopub.status.busy": "2024-10-15T06:15:12.038959Z",
     "iopub.status.idle": "2024-10-15T06:15:12.067480Z",
     "shell.execute_reply": "2024-10-15T06:15:12.065523Z"
    },
    "papermill": {
     "duration": 0.051989,
     "end_time": "2024-10-15T06:15:12.070327",
     "exception": false,
     "start_time": "2024-10-15T06:15:12.018338",
     "status": "completed"
    },
    "tags": []
   },
   "outputs": [
    {
     "data": {
      "text/html": [
       "<div>\n",
       "<style scoped>\n",
       "    .dataframe tbody tr th:only-of-type {\n",
       "        vertical-align: middle;\n",
       "    }\n",
       "\n",
       "    .dataframe tbody tr th {\n",
       "        vertical-align: top;\n",
       "    }\n",
       "\n",
       "    .dataframe thead th {\n",
       "        text-align: right;\n",
       "    }\n",
       "</style>\n",
       "<table border=\"1\" class=\"dataframe\">\n",
       "  <thead>\n",
       "    <tr style=\"text-align: right;\">\n",
       "      <th></th>\n",
       "      <th>person_age</th>\n",
       "      <th>person_income</th>\n",
       "      <th>person_home_ownership</th>\n",
       "      <th>person_emp_length</th>\n",
       "      <th>loan_intent</th>\n",
       "      <th>loan_grade</th>\n",
       "      <th>loan_amnt</th>\n",
       "      <th>loan_int_rate</th>\n",
       "      <th>loan_percent_income</th>\n",
       "      <th>cb_person_default_on_file</th>\n",
       "      <th>cb_person_cred_hist_length</th>\n",
       "      <th>loan_status</th>\n",
       "    </tr>\n",
       "  </thead>\n",
       "  <tbody>\n",
       "    <tr>\n",
       "      <th>0</th>\n",
       "      <td>37</td>\n",
       "      <td>35000</td>\n",
       "      <td>RENT</td>\n",
       "      <td>0.0</td>\n",
       "      <td>EDUCATION</td>\n",
       "      <td>B</td>\n",
       "      <td>6000</td>\n",
       "      <td>11.49</td>\n",
       "      <td>0.17</td>\n",
       "      <td>N</td>\n",
       "      <td>14</td>\n",
       "      <td>0</td>\n",
       "    </tr>\n",
       "    <tr>\n",
       "      <th>1</th>\n",
       "      <td>22</td>\n",
       "      <td>56000</td>\n",
       "      <td>OWN</td>\n",
       "      <td>6.0</td>\n",
       "      <td>MEDICAL</td>\n",
       "      <td>C</td>\n",
       "      <td>4000</td>\n",
       "      <td>13.35</td>\n",
       "      <td>0.07</td>\n",
       "      <td>N</td>\n",
       "      <td>2</td>\n",
       "      <td>0</td>\n",
       "    </tr>\n",
       "    <tr>\n",
       "      <th>2</th>\n",
       "      <td>29</td>\n",
       "      <td>28800</td>\n",
       "      <td>OWN</td>\n",
       "      <td>8.0</td>\n",
       "      <td>PERSONAL</td>\n",
       "      <td>A</td>\n",
       "      <td>6000</td>\n",
       "      <td>8.90</td>\n",
       "      <td>0.21</td>\n",
       "      <td>N</td>\n",
       "      <td>10</td>\n",
       "      <td>0</td>\n",
       "    </tr>\n",
       "    <tr>\n",
       "      <th>3</th>\n",
       "      <td>30</td>\n",
       "      <td>70000</td>\n",
       "      <td>RENT</td>\n",
       "      <td>14.0</td>\n",
       "      <td>VENTURE</td>\n",
       "      <td>B</td>\n",
       "      <td>12000</td>\n",
       "      <td>11.11</td>\n",
       "      <td>0.17</td>\n",
       "      <td>N</td>\n",
       "      <td>5</td>\n",
       "      <td>0</td>\n",
       "    </tr>\n",
       "    <tr>\n",
       "      <th>4</th>\n",
       "      <td>22</td>\n",
       "      <td>60000</td>\n",
       "      <td>RENT</td>\n",
       "      <td>2.0</td>\n",
       "      <td>MEDICAL</td>\n",
       "      <td>A</td>\n",
       "      <td>6000</td>\n",
       "      <td>6.92</td>\n",
       "      <td>0.10</td>\n",
       "      <td>N</td>\n",
       "      <td>3</td>\n",
       "      <td>0</td>\n",
       "    </tr>\n",
       "    <tr>\n",
       "      <th>...</th>\n",
       "      <td>...</td>\n",
       "      <td>...</td>\n",
       "      <td>...</td>\n",
       "      <td>...</td>\n",
       "      <td>...</td>\n",
       "      <td>...</td>\n",
       "      <td>...</td>\n",
       "      <td>...</td>\n",
       "      <td>...</td>\n",
       "      <td>...</td>\n",
       "      <td>...</td>\n",
       "      <td>...</td>\n",
       "    </tr>\n",
       "    <tr>\n",
       "      <th>32576</th>\n",
       "      <td>57</td>\n",
       "      <td>53000</td>\n",
       "      <td>MORTGAGE</td>\n",
       "      <td>1.0</td>\n",
       "      <td>PERSONAL</td>\n",
       "      <td>C</td>\n",
       "      <td>5800</td>\n",
       "      <td>13.16</td>\n",
       "      <td>0.11</td>\n",
       "      <td>N</td>\n",
       "      <td>30</td>\n",
       "      <td>0</td>\n",
       "    </tr>\n",
       "    <tr>\n",
       "      <th>32577</th>\n",
       "      <td>54</td>\n",
       "      <td>120000</td>\n",
       "      <td>MORTGAGE</td>\n",
       "      <td>4.0</td>\n",
       "      <td>PERSONAL</td>\n",
       "      <td>A</td>\n",
       "      <td>17625</td>\n",
       "      <td>7.49</td>\n",
       "      <td>0.15</td>\n",
       "      <td>N</td>\n",
       "      <td>19</td>\n",
       "      <td>0</td>\n",
       "    </tr>\n",
       "    <tr>\n",
       "      <th>32578</th>\n",
       "      <td>65</td>\n",
       "      <td>76000</td>\n",
       "      <td>RENT</td>\n",
       "      <td>3.0</td>\n",
       "      <td>HOMEIMPROVEMENT</td>\n",
       "      <td>B</td>\n",
       "      <td>35000</td>\n",
       "      <td>10.99</td>\n",
       "      <td>0.46</td>\n",
       "      <td>N</td>\n",
       "      <td>28</td>\n",
       "      <td>1</td>\n",
       "    </tr>\n",
       "    <tr>\n",
       "      <th>32579</th>\n",
       "      <td>56</td>\n",
       "      <td>150000</td>\n",
       "      <td>MORTGAGE</td>\n",
       "      <td>5.0</td>\n",
       "      <td>PERSONAL</td>\n",
       "      <td>B</td>\n",
       "      <td>15000</td>\n",
       "      <td>11.48</td>\n",
       "      <td>0.10</td>\n",
       "      <td>N</td>\n",
       "      <td>26</td>\n",
       "      <td>0</td>\n",
       "    </tr>\n",
       "    <tr>\n",
       "      <th>32580</th>\n",
       "      <td>66</td>\n",
       "      <td>42000</td>\n",
       "      <td>RENT</td>\n",
       "      <td>2.0</td>\n",
       "      <td>MEDICAL</td>\n",
       "      <td>B</td>\n",
       "      <td>6475</td>\n",
       "      <td>9.99</td>\n",
       "      <td>0.15</td>\n",
       "      <td>N</td>\n",
       "      <td>30</td>\n",
       "      <td>0</td>\n",
       "    </tr>\n",
       "  </tbody>\n",
       "</table>\n",
       "<p>91226 rows × 12 columns</p>\n",
       "</div>"
      ],
      "text/plain": [
       "       person_age  person_income person_home_ownership  person_emp_length  \\\n",
       "0              37          35000                  RENT                0.0   \n",
       "1              22          56000                   OWN                6.0   \n",
       "2              29          28800                   OWN                8.0   \n",
       "3              30          70000                  RENT               14.0   \n",
       "4              22          60000                  RENT                2.0   \n",
       "...           ...            ...                   ...                ...   \n",
       "32576          57          53000              MORTGAGE                1.0   \n",
       "32577          54         120000              MORTGAGE                4.0   \n",
       "32578          65          76000                  RENT                3.0   \n",
       "32579          56         150000              MORTGAGE                5.0   \n",
       "32580          66          42000                  RENT                2.0   \n",
       "\n",
       "           loan_intent loan_grade  loan_amnt  loan_int_rate  \\\n",
       "0            EDUCATION          B       6000          11.49   \n",
       "1              MEDICAL          C       4000          13.35   \n",
       "2             PERSONAL          A       6000           8.90   \n",
       "3              VENTURE          B      12000          11.11   \n",
       "4              MEDICAL          A       6000           6.92   \n",
       "...                ...        ...        ...            ...   \n",
       "32576         PERSONAL          C       5800          13.16   \n",
       "32577         PERSONAL          A      17625           7.49   \n",
       "32578  HOMEIMPROVEMENT          B      35000          10.99   \n",
       "32579         PERSONAL          B      15000          11.48   \n",
       "32580          MEDICAL          B       6475           9.99   \n",
       "\n",
       "       loan_percent_income cb_person_default_on_file  \\\n",
       "0                     0.17                         N   \n",
       "1                     0.07                         N   \n",
       "2                     0.21                         N   \n",
       "3                     0.17                         N   \n",
       "4                     0.10                         N   \n",
       "...                    ...                       ...   \n",
       "32576                 0.11                         N   \n",
       "32577                 0.15                         N   \n",
       "32578                 0.46                         N   \n",
       "32579                 0.10                         N   \n",
       "32580                 0.15                         N   \n",
       "\n",
       "       cb_person_cred_hist_length  loan_status  \n",
       "0                              14            0  \n",
       "1                               2            0  \n",
       "2                              10            0  \n",
       "3                               5            0  \n",
       "4                               3            0  \n",
       "...                           ...          ...  \n",
       "32576                          30            0  \n",
       "32577                          19            0  \n",
       "32578                          28            1  \n",
       "32579                          26            0  \n",
       "32580                          30            0  \n",
       "\n",
       "[91226 rows x 12 columns]"
      ]
     },
     "execution_count": 25,
     "metadata": {},
     "output_type": "execute_result"
    }
   ],
   "source": [
    "df_train"
   ]
  },
  {
   "cell_type": "code",
   "execution_count": 26,
   "id": "a5ec872e",
   "metadata": {
    "execution": {
     "iopub.execute_input": "2024-10-15T06:15:12.111261Z",
     "iopub.status.busy": "2024-10-15T06:15:12.110708Z",
     "iopub.status.idle": "2024-10-15T06:15:12.164153Z",
     "shell.execute_reply": "2024-10-15T06:15:12.162718Z"
    },
    "papermill": {
     "duration": 0.07761,
     "end_time": "2024-10-15T06:15:12.167316",
     "exception": false,
     "start_time": "2024-10-15T06:15:12.089706",
     "status": "completed"
    },
    "tags": []
   },
   "outputs": [
    {
     "data": {
      "text/plain": [
       "person_age                    0\n",
       "person_income                 0\n",
       "person_home_ownership         0\n",
       "person_emp_length             0\n",
       "loan_intent                   0\n",
       "loan_grade                    0\n",
       "loan_amnt                     0\n",
       "loan_int_rate                 0\n",
       "loan_percent_income           0\n",
       "cb_person_default_on_file     0\n",
       "cb_person_cred_hist_length    0\n",
       "loan_status                   0\n",
       "dtype: int64"
      ]
     },
     "execution_count": 26,
     "metadata": {},
     "output_type": "execute_result"
    }
   ],
   "source": [
    "df_train.isnull().sum()"
   ]
  },
  {
   "cell_type": "markdown",
   "id": "f4562073",
   "metadata": {
    "papermill": {
     "duration": 0.01937,
     "end_time": "2024-10-15T06:15:12.206444",
     "exception": false,
     "start_time": "2024-10-15T06:15:12.187074",
     "status": "completed"
    },
    "tags": []
   },
   "source": [
    "# EDA!!"
   ]
  },
  {
   "cell_type": "code",
   "execution_count": 27,
   "id": "4ed55095",
   "metadata": {
    "execution": {
     "iopub.execute_input": "2024-10-15T06:15:12.247095Z",
     "iopub.status.busy": "2024-10-15T06:15:12.246654Z",
     "iopub.status.idle": "2024-10-15T06:15:12.254674Z",
     "shell.execute_reply": "2024-10-15T06:15:12.253301Z"
    },
    "papermill": {
     "duration": 0.031903,
     "end_time": "2024-10-15T06:15:12.257560",
     "exception": false,
     "start_time": "2024-10-15T06:15:12.225657",
     "status": "completed"
    },
    "tags": []
   },
   "outputs": [],
   "source": [
    "def stacked_bar_cmap(df, feature, color = 'coolwarm', target = 'loan_status'):\n",
    "    \n",
    "    crosstab = pd.crosstab(df[feature], df[target], normalize = 'index')\n",
    "    \n",
    "    crosstab.plot(kind = 'bar', stacked = 'True', figsize = (12,6),\n",
    "                 cmap = color)\n",
    "    \n",
    "    plt.title(f\"Stacked Bar Plot of {feature} against {target}\")\n",
    "    plt.ylabel('Proportion')\n",
    "    plt.xticks(rotation = 45)\n",
    "    plt.show()"
   ]
  },
  {
   "cell_type": "code",
   "execution_count": 28,
   "id": "2539894d",
   "metadata": {
    "execution": {
     "iopub.execute_input": "2024-10-15T06:15:12.301506Z",
     "iopub.status.busy": "2024-10-15T06:15:12.300080Z",
     "iopub.status.idle": "2024-10-15T06:15:12.728788Z",
     "shell.execute_reply": "2024-10-15T06:15:12.727444Z"
    },
    "papermill": {
     "duration": 0.453921,
     "end_time": "2024-10-15T06:15:12.731677",
     "exception": false,
     "start_time": "2024-10-15T06:15:12.277756",
     "status": "completed"
    },
    "tags": []
   },
   "outputs": [
    {
     "data": {
      "image/png": "[encoded data removed]",
      "text/plain": [
       "<Figure size 1200x600 with 1 Axes>"
      ]
     },
     "metadata": {},
     "output_type": "display_data"
    }
   ],
   "source": [
    "stacked_bar_cmap(df_train, 'person_home_ownership', color = 'cool')"
   ]
  },
  {
   "cell_type": "code",
   "execution_count": 29,
   "id": "7b54eceb",
   "metadata": {
    "execution": {
     "iopub.execute_input": "2024-10-15T06:15:12.775279Z",
     "iopub.status.busy": "2024-10-15T06:15:12.774798Z",
     "iopub.status.idle": "2024-10-15T06:15:13.178380Z",
     "shell.execute_reply": "2024-10-15T06:15:13.177033Z"
    },
    "papermill": {
     "duration": 0.428678,
     "end_time": "2024-10-15T06:15:13.181154",
     "exception": false,
     "start_time": "2024-10-15T06:15:12.752476",
     "status": "completed"
    },
    "tags": []
   },
   "outputs": [
    {
     "data": {
      "image/png": "[encoded data removed]",
      "text/plain": [
       "<Figure size 1200x600 with 1 Axes>"
      ]
     },
     "metadata": {},
     "output_type": "display_data"
    }
   ],
   "source": [
    "stacked_bar_cmap(df_train, 'loan_grade', color = 'turbo')"
   ]
  },
  {
   "cell_type": "code",
   "execution_count": 30,
   "id": "49b5285d",
   "metadata": {
    "execution": {
     "iopub.execute_input": "2024-10-15T06:15:13.224934Z",
     "iopub.status.busy": "2024-10-15T06:15:13.224440Z",
     "iopub.status.idle": "2024-10-15T06:15:13.589967Z",
     "shell.execute_reply": "2024-10-15T06:15:13.588752Z"
    },
    "papermill": {
     "duration": 0.390481,
     "end_time": "2024-10-15T06:15:13.592669",
     "exception": false,
     "start_time": "2024-10-15T06:15:13.202188",
     "status": "completed"
    },
    "tags": []
   },
   "outputs": [
    {
     "data": {
      "image/png": "[encoded data removed]",
      "text/plain": [
       "<Figure size 640x480 with 1 Axes>"
      ]
     },
     "metadata": {},
     "output_type": "display_data"
    }
   ],
   "source": [
    "sns.countplot(data=df_train, x='person_home_ownership')\n",
    "plt.title('Distribution of Loan Applicants by Home Ownership')\n",
    "plt.show()"
   ]
  },
  {
   "cell_type": "code",
   "execution_count": 31,
   "id": "8279c915",
   "metadata": {
    "execution": {
     "iopub.execute_input": "2024-10-15T06:15:13.644669Z",
     "iopub.status.busy": "2024-10-15T06:15:13.642934Z",
     "iopub.status.idle": "2024-10-15T06:15:14.092591Z",
     "shell.execute_reply": "2024-10-15T06:15:14.091352Z"
    },
    "papermill": {
     "duration": 0.481866,
     "end_time": "2024-10-15T06:15:14.096379",
     "exception": false,
     "start_time": "2024-10-15T06:15:13.614513",
     "status": "completed"
    },
    "tags": []
   },
   "outputs": [
    {
     "data": {
      "image/png": "[encoded data removed]",
      "text/plain": [
       "<Figure size 640x480 with 1 Axes>"
      ]
     },
     "metadata": {},
     "output_type": "display_data"
    }
   ],
   "source": [
    "sns.countplot(data = df_train, x = 'loan_intent')\n",
    "plt.title('I\\'m tired writing these titles')\n",
    "plt.xticks(rotation = 45)\n",
    "plt.show()          "
   ]
  },
  {
   "cell_type": "code",
   "execution_count": 32,
   "id": "745b0460",
   "metadata": {
    "execution": {
     "iopub.execute_input": "2024-10-15T06:15:14.147606Z",
     "iopub.status.busy": "2024-10-15T06:15:14.146112Z",
     "iopub.status.idle": "2024-10-15T06:15:14.633542Z",
     "shell.execute_reply": "2024-10-15T06:15:14.632294Z"
    },
    "papermill": {
     "duration": 0.517964,
     "end_time": "2024-10-15T06:15:14.637607",
     "exception": false,
     "start_time": "2024-10-15T06:15:14.119643",
     "status": "completed"
    },
    "tags": []
   },
   "outputs": [
    {
     "data": {
      "image/png": "[encoded data removed]",
      "text/plain": [
       "<Figure size 640x480 with 1 Axes>"
      ]
     },
     "metadata": {},
     "output_type": "display_data"
    }
   ],
   "source": [
    "sns.countplot(data = df_train, x = 'loan_grade', hue = 'loan_status')\n",
    "plt.title('Loan default rate by loan grade')\n",
    "plt.show()"
   ]
  },
  {
   "cell_type": "code",
   "execution_count": 33,
   "id": "23ae7732",
   "metadata": {
    "execution": {
     "iopub.execute_input": "2024-10-15T06:15:14.693994Z",
     "iopub.status.busy": "2024-10-15T06:15:14.693464Z",
     "iopub.status.idle": "2024-10-15T06:15:15.126365Z",
     "shell.execute_reply": "2024-10-15T06:15:15.124815Z"
    },
    "papermill": {
     "duration": 0.46138,
     "end_time": "2024-10-15T06:15:15.129254",
     "exception": false,
     "start_time": "2024-10-15T06:15:14.667874",
     "status": "completed"
    },
    "tags": []
   },
   "outputs": [
    {
     "data": {
      "image/png": "[encoded data removed]",
      "text/plain": [
       "<Figure size 640x480 with 1 Axes>"
      ]
     },
     "metadata": {},
     "output_type": "display_data"
    }
   ],
   "source": [
    "sns.countplot(data=df_train, x='cb_person_default_on_file', hue='loan_status')\n",
    "plt.title('Loan Default by Prior Default Status')\n",
    "plt.show()"
   ]
  },
  {
   "cell_type": "code",
   "execution_count": 34,
   "id": "184380b6",
   "metadata": {
    "execution": {
     "iopub.execute_input": "2024-10-15T06:15:15.180426Z",
     "iopub.status.busy": "2024-10-15T06:15:15.179343Z",
     "iopub.status.idle": "2024-10-15T06:15:15.188597Z",
     "shell.execute_reply": "2024-10-15T06:15:15.187228Z"
    },
    "papermill": {
     "duration": 0.037436,
     "end_time": "2024-10-15T06:15:15.191267",
     "exception": false,
     "start_time": "2024-10-15T06:15:15.153831",
     "status": "completed"
    },
    "tags": []
   },
   "outputs": [],
   "source": [
    "def boxplots(df, columns):\n",
    "    plt.Figure(figsize = (12,6))\n",
    "    \n",
    "    for i, col in enumerate(columns, 1):\n",
    "        plt.subplot(1, len(columns), i)\n",
    "        sns.boxplot(y = df[col], color = 'blue')\n",
    "        plt.title(f'Boxplot of {col}')\n",
    "        \n",
    "    plt.tight_layout()\n",
    "    plt.show()"
   ]
  },
  {
   "cell_type": "code",
   "execution_count": 35,
   "id": "163cadca",
   "metadata": {
    "execution": {
     "iopub.execute_input": "2024-10-15T06:15:15.241456Z",
     "iopub.status.busy": "2024-10-15T06:15:15.240877Z",
     "iopub.status.idle": "2024-10-15T06:15:15.889459Z",
     "shell.execute_reply": "2024-10-15T06:15:15.887890Z"
    },
    "papermill": {
     "duration": 0.677199,
     "end_time": "2024-10-15T06:15:15.892507",
     "exception": false,
     "start_time": "2024-10-15T06:15:15.215308",
     "status": "completed"
    },
    "tags": []
   },
   "outputs": [
    {
     "data": {
      "image/png": "[encoded data removed]",
      "text/plain": [
       "<Figure size 640x480 with 2 Axes>"
      ]
     },
     "metadata": {},
     "output_type": "display_data"
    }
   ],
   "source": [
    "boxplots(df_train, ['person_income', 'loan_amnt'])"
   ]
  },
  {
   "cell_type": "code",
   "execution_count": 36,
   "id": "6581e0f4",
   "metadata": {
    "execution": {
     "iopub.execute_input": "2024-10-15T06:15:15.945730Z",
     "iopub.status.busy": "2024-10-15T06:15:15.944240Z",
     "iopub.status.idle": "2024-10-15T06:15:15.955083Z",
     "shell.execute_reply": "2024-10-15T06:15:15.953576Z"
    },
    "papermill": {
     "duration": 0.040742,
     "end_time": "2024-10-15T06:15:15.957834",
     "exception": false,
     "start_time": "2024-10-15T06:15:15.917092",
     "status": "completed"
    },
    "tags": []
   },
   "outputs": [],
   "source": [
    "from sklearn.preprocessing import LabelEncoder\n",
    "\n",
    "def preprocess_data(df_train, df_test):\n",
    "    label_enc = LabelEncoder()\n",
    "    \n",
    "    label_cols = ['person_home_ownership', 'loan_grade', 'cb_person_default_on_file']\n",
    "    \n",
    "    for col in label_cols:\n",
    "        df_train[col] = label_enc.fit_transform(df_train[col])\n",
    "        df_test[col] = label_enc.transform(df_test[col])\n",
    "        \n",
    "    df_train = pd.get_dummies(df_train, columns = ['loan_intent'], drop_first = True)\n",
    "    df_test = pd.get_dummies(df_test, columns = ['loan_intent'], drop_first = True)\n",
    "    \n",
    "    target_col = 'loan_status'\n",
    "    train_columns = df_train.drop(columns =[target_col]).columns\n",
    "    \n",
    "    df_test = df_test.reindex(columns = train_columns, fill_value = 0)\n",
    "    \n",
    "    return df_train, df_test"
   ]
  },
  {
   "cell_type": "code",
   "execution_count": 37,
   "id": "3363f8e4",
   "metadata": {
    "execution": {
     "iopub.execute_input": "2024-10-15T06:15:16.008430Z",
     "iopub.status.busy": "2024-10-15T06:15:16.007097Z",
     "iopub.status.idle": "2024-10-15T06:15:16.189275Z",
     "shell.execute_reply": "2024-10-15T06:15:16.187759Z"
    },
    "papermill": {
     "duration": 0.210659,
     "end_time": "2024-10-15T06:15:16.192450",
     "exception": false,
     "start_time": "2024-10-15T06:15:15.981791",
     "status": "completed"
    },
    "tags": []
   },
   "outputs": [],
   "source": [
    "df_train2, df_test2 = preprocess_data(df_train, df_test)"
   ]
  },
  {
   "cell_type": "code",
   "execution_count": 38,
   "id": "5e2090b3",
   "metadata": {
    "execution": {
     "iopub.execute_input": "2024-10-15T06:15:16.243181Z",
     "iopub.status.busy": "2024-10-15T06:15:16.241823Z",
     "iopub.status.idle": "2024-10-15T06:15:16.247485Z",
     "shell.execute_reply": "2024-10-15T06:15:16.246267Z"
    },
    "papermill": {
     "duration": 0.034266,
     "end_time": "2024-10-15T06:15:16.250381",
     "exception": false,
     "start_time": "2024-10-15T06:15:16.216115",
     "status": "completed"
    },
    "tags": []
   },
   "outputs": [],
   "source": [
    "# lat're..."
   ]
  },
  {
   "cell_type": "markdown",
   "id": "758f542a",
   "metadata": {
    "papermill": {
     "duration": 0.024016,
     "end_time": "2024-10-15T06:15:16.299580",
     "exception": false,
     "start_time": "2024-10-15T06:15:16.275564",
     "status": "completed"
    },
    "tags": []
   },
   "source": [
    "# Analysis Using Regression"
   ]
  },
  {
   "cell_type": "code",
   "execution_count": 39,
   "id": "e114c36b",
   "metadata": {
    "execution": {
     "iopub.execute_input": "2024-10-15T06:15:16.353237Z",
     "iopub.status.busy": "2024-10-15T06:15:16.352060Z",
     "iopub.status.idle": "2024-10-15T06:15:16.369557Z",
     "shell.execute_reply": "2024-10-15T06:15:16.368000Z"
    },
    "papermill": {
     "duration": 0.048752,
     "end_time": "2024-10-15T06:15:16.372708",
     "exception": false,
     "start_time": "2024-10-15T06:15:16.323956",
     "status": "completed"
    },
    "tags": []
   },
   "outputs": [
    {
     "name": "stdout",
     "output_type": "stream",
     "text": [
      "<class 'pandas.core.frame.DataFrame'>\n",
      "Index: 91226 entries, 0 to 32580\n",
      "Data columns (total 16 columns):\n",
      " #   Column                       Non-Null Count  Dtype  \n",
      "---  ------                       --------------  -----  \n",
      " 0   person_age                   91226 non-null  int64  \n",
      " 1   person_income                91226 non-null  int64  \n",
      " 2   person_home_ownership        91226 non-null  int64  \n",
      " 3   person_emp_length            91226 non-null  float64\n",
      " 4   loan_grade                   91226 non-null  int64  \n",
      " 5   loan_amnt                    91226 non-null  int64  \n",
      " 6   loan_int_rate                91226 non-null  float64\n",
      " 7   loan_percent_income          91226 non-null  float64\n",
      " 8   cb_person_default_on_file    91226 non-null  int64  \n",
      " 9   cb_person_cred_hist_length   91226 non-null  int64  \n",
      " 10  loan_status                  91226 non-null  int64  \n",
      " 11  loan_intent_EDUCATION        91226 non-null  bool   \n",
      " 12  loan_intent_HOMEIMPROVEMENT  91226 non-null  bool   \n",
      " 13  loan_intent_MEDICAL          91226 non-null  bool   \n",
      " 14  loan_intent_PERSONAL         91226 non-null  bool   \n",
      " 15  loan_intent_VENTURE          91226 non-null  bool   \n",
      "dtypes: bool(5), float64(3), int64(8)\n",
      "memory usage: 8.8 MB\n"
     ]
    }
   ],
   "source": [
    "df_train = df_train2\n",
    "df_train.info()"
   ]
  },
  {
   "cell_type": "code",
   "execution_count": 40,
   "id": "131821b1",
   "metadata": {
    "execution": {
     "iopub.execute_input": "2024-10-15T06:15:16.423121Z",
     "iopub.status.busy": "2024-10-15T06:15:16.422646Z",
     "iopub.status.idle": "2024-10-15T06:15:16.504492Z",
     "shell.execute_reply": "2024-10-15T06:15:16.503254Z"
    },
    "papermill": {
     "duration": 0.110224,
     "end_time": "2024-10-15T06:15:16.507206",
     "exception": false,
     "start_time": "2024-10-15T06:15:16.396982",
     "status": "completed"
    },
    "tags": []
   },
   "outputs": [
    {
     "data": {
      "text/html": [
       "<div>\n",
       "<style scoped>\n",
       "    .dataframe tbody tr th:only-of-type {\n",
       "        vertical-align: middle;\n",
       "    }\n",
       "\n",
       "    .dataframe tbody tr th {\n",
       "        vertical-align: top;\n",
       "    }\n",
       "\n",
       "    .dataframe thead th {\n",
       "        text-align: right;\n",
       "    }\n",
       "</style>\n",
       "<table border=\"1\" class=\"dataframe\">\n",
       "  <thead>\n",
       "    <tr style=\"text-align: right;\">\n",
       "      <th></th>\n",
       "      <th>person_age</th>\n",
       "      <th>person_income</th>\n",
       "      <th>person_home_ownership</th>\n",
       "      <th>person_emp_length</th>\n",
       "      <th>loan_grade</th>\n",
       "      <th>loan_amnt</th>\n",
       "      <th>loan_int_rate</th>\n",
       "      <th>loan_percent_income</th>\n",
       "      <th>cb_person_default_on_file</th>\n",
       "      <th>cb_person_cred_hist_length</th>\n",
       "      <th>loan_status</th>\n",
       "    </tr>\n",
       "  </thead>\n",
       "  <tbody>\n",
       "    <tr>\n",
       "      <th>count</th>\n",
       "      <td>91226.000000</td>\n",
       "      <td>9.122600e+04</td>\n",
       "      <td>91226.000000</td>\n",
       "      <td>91226.000000</td>\n",
       "      <td>91226.000000</td>\n",
       "      <td>91226.000000</td>\n",
       "      <td>91226.000000</td>\n",
       "      <td>91226.000000</td>\n",
       "      <td>91226.000000</td>\n",
       "      <td>91226.000000</td>\n",
       "      <td>91226.000000</td>\n",
       "    </tr>\n",
       "    <tr>\n",
       "      <th>mean</th>\n",
       "      <td>27.616480</td>\n",
       "      <td>6.477071e+04</td>\n",
       "      <td>1.674523</td>\n",
       "      <td>4.732119</td>\n",
       "      <td>1.120766</td>\n",
       "      <td>9350.348607</td>\n",
       "      <td>10.789508</td>\n",
       "      <td>0.163154</td>\n",
       "      <td>0.158365</td>\n",
       "      <td>5.810219</td>\n",
       "      <td>0.169447</td>\n",
       "    </tr>\n",
       "    <tr>\n",
       "      <th>std</th>\n",
       "      <td>6.148115</td>\n",
       "      <td>4.793696e+04</td>\n",
       "      <td>1.445621</td>\n",
       "      <td>4.005274</td>\n",
       "      <td>1.093023</td>\n",
       "      <td>5848.605423</td>\n",
       "      <td>3.055439</td>\n",
       "      <td>0.097491</td>\n",
       "      <td>0.365085</td>\n",
       "      <td>4.038412</td>\n",
       "      <td>0.375149</td>\n",
       "    </tr>\n",
       "    <tr>\n",
       "      <th>min</th>\n",
       "      <td>20.000000</td>\n",
       "      <td>4.000000e+03</td>\n",
       "      <td>0.000000</td>\n",
       "      <td>0.000000</td>\n",
       "      <td>0.000000</td>\n",
       "      <td>500.000000</td>\n",
       "      <td>5.420000</td>\n",
       "      <td>0.000000</td>\n",
       "      <td>0.000000</td>\n",
       "      <td>2.000000</td>\n",
       "      <td>0.000000</td>\n",
       "    </tr>\n",
       "    <tr>\n",
       "      <th>25%</th>\n",
       "      <td>23.000000</td>\n",
       "      <td>4.000000e+04</td>\n",
       "      <td>0.000000</td>\n",
       "      <td>2.000000</td>\n",
       "      <td>0.000000</td>\n",
       "      <td>5000.000000</td>\n",
       "      <td>7.880000</td>\n",
       "      <td>0.090000</td>\n",
       "      <td>0.000000</td>\n",
       "      <td>3.000000</td>\n",
       "      <td>0.000000</td>\n",
       "    </tr>\n",
       "    <tr>\n",
       "      <th>50%</th>\n",
       "      <td>26.000000</td>\n",
       "      <td>5.700000e+04</td>\n",
       "      <td>3.000000</td>\n",
       "      <td>4.000000</td>\n",
       "      <td>1.000000</td>\n",
       "      <td>8000.000000</td>\n",
       "      <td>10.789508</td>\n",
       "      <td>0.140000</td>\n",
       "      <td>0.000000</td>\n",
       "      <td>4.000000</td>\n",
       "      <td>0.000000</td>\n",
       "    </tr>\n",
       "    <tr>\n",
       "      <th>75%</th>\n",
       "      <td>30.000000</td>\n",
       "      <td>7.800000e+04</td>\n",
       "      <td>3.000000</td>\n",
       "      <td>7.000000</td>\n",
       "      <td>2.000000</td>\n",
       "      <td>12000.000000</td>\n",
       "      <td>12.990000</td>\n",
       "      <td>0.220000</td>\n",
       "      <td>0.000000</td>\n",
       "      <td>8.000000</td>\n",
       "      <td>0.000000</td>\n",
       "    </tr>\n",
       "    <tr>\n",
       "      <th>max</th>\n",
       "      <td>144.000000</td>\n",
       "      <td>6.000000e+06</td>\n",
       "      <td>3.000000</td>\n",
       "      <td>123.000000</td>\n",
       "      <td>6.000000</td>\n",
       "      <td>35000.000000</td>\n",
       "      <td>23.220000</td>\n",
       "      <td>0.830000</td>\n",
       "      <td>1.000000</td>\n",
       "      <td>30.000000</td>\n",
       "      <td>1.000000</td>\n",
       "    </tr>\n",
       "  </tbody>\n",
       "</table>\n",
       "</div>"
      ],
      "text/plain": [
       "         person_age  person_income  person_home_ownership  person_emp_length  \\\n",
       "count  91226.000000   9.122600e+04           91226.000000       91226.000000   \n",
       "mean      27.616480   6.477071e+04               1.674523           4.732119   \n",
       "std        6.148115   4.793696e+04               1.445621           4.005274   \n",
       "min       20.000000   4.000000e+03               0.000000           0.000000   \n",
       "25%       23.000000   4.000000e+04               0.000000           2.000000   \n",
       "50%       26.000000   5.700000e+04               3.000000           4.000000   \n",
       "75%       30.000000   7.800000e+04               3.000000           7.000000   \n",
       "max      144.000000   6.000000e+06               3.000000         123.000000   \n",
       "\n",
       "         loan_grade     loan_amnt  loan_int_rate  loan_percent_income  \\\n",
       "count  91226.000000  91226.000000   91226.000000         91226.000000   \n",
       "mean       1.120766   9350.348607      10.789508             0.163154   \n",
       "std        1.093023   5848.605423       3.055439             0.097491   \n",
       "min        0.000000    500.000000       5.420000             0.000000   \n",
       "25%        0.000000   5000.000000       7.880000             0.090000   \n",
       "50%        1.000000   8000.000000      10.789508             0.140000   \n",
       "75%        2.000000  12000.000000      12.990000             0.220000   \n",
       "max        6.000000  35000.000000      23.220000             0.830000   \n",
       "\n",
       "       cb_person_default_on_file  cb_person_cred_hist_length   loan_status  \n",
       "count               91226.000000                91226.000000  91226.000000  \n",
       "mean                    0.158365                    5.810219      0.169447  \n",
       "std                     0.365085                    4.038412      0.375149  \n",
       "min                     0.000000                    2.000000      0.000000  \n",
       "25%                     0.000000                    3.000000      0.000000  \n",
       "50%                     0.000000                    4.000000      0.000000  \n",
       "75%                     0.000000                    8.000000      0.000000  \n",
       "max                     1.000000                   30.000000      1.000000  "
      ]
     },
     "execution_count": 40,
     "metadata": {},
     "output_type": "execute_result"
    }
   ],
   "source": [
    "df_train.describe()"
   ]
  },
  {
   "cell_type": "code",
   "execution_count": 41,
   "id": "130e89df",
   "metadata": {
    "execution": {
     "iopub.execute_input": "2024-10-15T06:15:16.559949Z",
     "iopub.status.busy": "2024-10-15T06:15:16.559381Z",
     "iopub.status.idle": "2024-10-15T06:15:16.990533Z",
     "shell.execute_reply": "2024-10-15T06:15:16.989042Z"
    },
    "papermill": {
     "duration": 0.464253,
     "end_time": "2024-10-15T06:15:16.996290",
     "exception": false,
     "start_time": "2024-10-15T06:15:16.532037",
     "status": "completed"
    },
    "tags": []
   },
   "outputs": [
    {
     "data": {
      "text/html": [
       "<table class=\"simpletable\">\n",
       "<caption>OLS Regression Results</caption>\n",
       "<tr>\n",
       "  <th>Dep. Variable:</th>        <td>loan_amnt</td>    <th>  R-squared:         </th>  <td>   0.622</td>  \n",
       "</tr>\n",
       "<tr>\n",
       "  <th>Model:</th>                   <td>OLS</td>       <th>  Adj. R-squared:    </th>  <td>   0.622</td>  \n",
       "</tr>\n",
       "<tr>\n",
       "  <th>Method:</th>             <td>Least Squares</td>  <th>  F-statistic:       </th>  <td>1.501e+04</td> \n",
       "</tr>\n",
       "<tr>\n",
       "  <th>Date:</th>             <td>Tue, 15 Oct 2024</td> <th>  Prob (F-statistic):</th>   <td>  0.00</td>   \n",
       "</tr>\n",
       "<tr>\n",
       "  <th>Time:</th>                 <td>06:15:16</td>     <th>  Log-Likelihood:    </th> <td>-8.7635e+05</td>\n",
       "</tr>\n",
       "<tr>\n",
       "  <th>No. Observations:</th>      <td> 91226</td>      <th>  AIC:               </th>  <td>1.753e+06</td> \n",
       "</tr>\n",
       "<tr>\n",
       "  <th>Df Residuals:</th>          <td> 91215</td>      <th>  BIC:               </th>  <td>1.753e+06</td> \n",
       "</tr>\n",
       "<tr>\n",
       "  <th>Df Model:</th>              <td>    10</td>      <th>                     </th>      <td> </td>     \n",
       "</tr>\n",
       "<tr>\n",
       "  <th>Covariance Type:</th>      <td>nonrobust</td>    <th>                     </th>      <td> </td>     \n",
       "</tr>\n",
       "</table>\n",
       "<table class=\"simpletable\">\n",
       "<tr>\n",
       "               <td></td>                 <th>coef</th>     <th>std err</th>      <th>t</th>      <th>P>|t|</th>  <th>[0.025</th>    <th>0.975]</th>  \n",
       "</tr>\n",
       "<tr>\n",
       "  <th>Intercept</th>                  <td>-1868.2845</td> <td>  116.428</td> <td>  -16.047</td> <td> 0.000</td> <td>-2096.483</td> <td>-1640.086</td>\n",
       "</tr>\n",
       "<tr>\n",
       "  <th>person_age</th>                 <td>  -12.4759</td> <td>    3.932</td> <td>   -3.173</td> <td> 0.002</td> <td>  -20.183</td> <td>   -4.769</td>\n",
       "</tr>\n",
       "<tr>\n",
       "  <th>person_income</th>              <td>    0.0537</td> <td>    0.000</td> <td>  201.459</td> <td> 0.000</td> <td>    0.053</td> <td>    0.054</td>\n",
       "</tr>\n",
       "<tr>\n",
       "  <th>person_home_ownership</th>      <td> -462.0328</td> <td>    8.950</td> <td>  -51.622</td> <td> 0.000</td> <td> -479.575</td> <td> -444.490</td>\n",
       "</tr>\n",
       "<tr>\n",
       "  <th>person_emp_length</th>          <td>   71.0763</td> <td>    3.124</td> <td>   22.753</td> <td> 0.000</td> <td>   64.954</td> <td>   77.199</td>\n",
       "</tr>\n",
       "<tr>\n",
       "  <th>loan_grade</th>                 <td>  397.9233</td> <td>   29.098</td> <td>   13.675</td> <td> 0.000</td> <td>  340.891</td> <td>  454.955</td>\n",
       "</tr>\n",
       "<tr>\n",
       "  <th>loan_int_rate</th>              <td>   56.6852</td> <td>    9.851</td> <td>    5.755</td> <td> 0.000</td> <td>   37.378</td> <td>   75.992</td>\n",
       "</tr>\n",
       "<tr>\n",
       "  <th>loan_percent_income</th>        <td> 4.666e+04</td> <td>  135.784</td> <td>  343.667</td> <td> 0.000</td> <td> 4.64e+04</td> <td> 4.69e+04</td>\n",
       "</tr>\n",
       "<tr>\n",
       "  <th>cb_person_default_on_file</th>  <td> -306.2696</td> <td>   38.983</td> <td>   -7.857</td> <td> 0.000</td> <td> -382.676</td> <td> -229.863</td>\n",
       "</tr>\n",
       "<tr>\n",
       "  <th>cb_person_cred_hist_length</th> <td>   31.0637</td> <td>    5.949</td> <td>    5.221</td> <td> 0.000</td> <td>   19.403</td> <td>   42.724</td>\n",
       "</tr>\n",
       "<tr>\n",
       "  <th>loan_status</th>                <td>-1644.5962</td> <td>   37.265</td> <td>  -44.133</td> <td> 0.000</td> <td>-1717.634</td> <td>-1571.558</td>\n",
       "</tr>\n",
       "</table>\n",
       "<table class=\"simpletable\">\n",
       "<tr>\n",
       "  <th>Omnibus:</th>       <td>142638.652</td> <th>  Durbin-Watson:     </th>    <td>   1.777</td>   \n",
       "</tr>\n",
       "<tr>\n",
       "  <th>Prob(Omnibus):</th>   <td> 0.000</td>   <th>  Jarque-Bera (JB):  </th> <td>1872493542.890</td>\n",
       "</tr>\n",
       "<tr>\n",
       "  <th>Skew:</th>            <td>-8.824</td>   <th>  Prob(JB):          </th>    <td>    0.00</td>   \n",
       "</tr>\n",
       "<tr>\n",
       "  <th>Kurtosis:</th>        <td>704.648</td>  <th>  Cond. No.          </th>    <td>9.54e+05</td>   \n",
       "</tr>\n",
       "</table><br/><br/>Notes:<br/>[1] Standard Errors assume that the covariance matrix of the errors is correctly specified.<br/>[2] The condition number is large, 9.54e+05. This might indicate that there are<br/>strong multicollinearity or other numerical problems."
      ],
      "text/latex": [
       "\\begin{center}\n",
       "\\begin{tabular}{lclc}\n",
       "\\toprule\n",
       "\\textbf{Dep. Variable:}                 &    loan\\_amnt    & \\textbf{  R-squared:         } &       0.622     \\\\\n",
       "\\textbf{Model:}                         &       OLS        & \\textbf{  Adj. R-squared:    } &       0.622     \\\\\n",
       "\\textbf{Method:}                        &  Least Squares   & \\textbf{  F-statistic:       } &   1.501e+04     \\\\\n",
       "\\textbf{Date:}                          & Tue, 15 Oct 2024 & \\textbf{  Prob (F-statistic):} &       0.00      \\\\\n",
       "\\textbf{Time:}                          &     06:15:16     & \\textbf{  Log-Likelihood:    } &  -8.7635e+05    \\\\\n",
       "\\textbf{No. Observations:}              &       91226      & \\textbf{  AIC:               } &   1.753e+06     \\\\\n",
       "\\textbf{Df Residuals:}                  &       91215      & \\textbf{  BIC:               } &   1.753e+06     \\\\\n",
       "\\textbf{Df Model:}                      &          10      & \\textbf{                     } &                 \\\\\n",
       "\\textbf{Covariance Type:}               &    nonrobust     & \\textbf{                     } &                 \\\\\n",
       "\\bottomrule\n",
       "\\end{tabular}\n",
       "\\begin{tabular}{lcccccc}\n",
       "                                        & \\textbf{coef} & \\textbf{std err} & \\textbf{t} & \\textbf{P$> |$t$|$} & \\textbf{[0.025} & \\textbf{0.975]}  \\\\\n",
       "\\midrule\n",
       "\\textbf{Intercept}                      &   -1868.2845  &      116.428     &   -16.047  &         0.000        &    -2096.483    &    -1640.086     \\\\\n",
       "\\textbf{person\\_age}                    &     -12.4759  &        3.932     &    -3.173  &         0.002        &      -20.183    &       -4.769     \\\\\n",
       "\\textbf{person\\_income}                 &       0.0537  &        0.000     &   201.459  &         0.000        &        0.053    &        0.054     \\\\\n",
       "\\textbf{person\\_home\\_ownership}        &    -462.0328  &        8.950     &   -51.622  &         0.000        &     -479.575    &     -444.490     \\\\\n",
       "\\textbf{person\\_emp\\_length}            &      71.0763  &        3.124     &    22.753  &         0.000        &       64.954    &       77.199     \\\\\n",
       "\\textbf{loan\\_grade}                    &     397.9233  &       29.098     &    13.675  &         0.000        &      340.891    &      454.955     \\\\\n",
       "\\textbf{loan\\_int\\_rate}                &      56.6852  &        9.851     &     5.755  &         0.000        &       37.378    &       75.992     \\\\\n",
       "\\textbf{loan\\_percent\\_income}          &    4.666e+04  &      135.784     &   343.667  &         0.000        &     4.64e+04    &     4.69e+04     \\\\\n",
       "\\textbf{cb\\_person\\_default\\_on\\_file}  &    -306.2696  &       38.983     &    -7.857  &         0.000        &     -382.676    &     -229.863     \\\\\n",
       "\\textbf{cb\\_person\\_cred\\_hist\\_length} &      31.0637  &        5.949     &     5.221  &         0.000        &       19.403    &       42.724     \\\\\n",
       "\\textbf{loan\\_status}                   &   -1644.5962  &       37.265     &   -44.133  &         0.000        &    -1717.634    &    -1571.558     \\\\\n",
       "\\bottomrule\n",
       "\\end{tabular}\n",
       "\\begin{tabular}{lclc}\n",
       "\\textbf{Omnibus:}       & 142638.652 & \\textbf{  Durbin-Watson:     } &       1.777     \\\\\n",
       "\\textbf{Prob(Omnibus):} &    0.000   & \\textbf{  Jarque-Bera (JB):  } & 1872493542.890  \\\\\n",
       "\\textbf{Skew:}          &   -8.824   & \\textbf{  Prob(JB):          } &        0.00     \\\\\n",
       "\\textbf{Kurtosis:}      &  704.648   & \\textbf{  Cond. No.          } &    9.54e+05     \\\\\n",
       "\\bottomrule\n",
       "\\end{tabular}\n",
       "%\\caption{OLS Regression Results}\n",
       "\\end{center}\n",
       "\n",
       "Notes: \\newline\n",
       " [1] Standard Errors assume that the covariance matrix of the errors is correctly specified. \\newline\n",
       " [2] The condition number is large, 9.54e+05. This might indicate that there are \\newline\n",
       " strong multicollinearity or other numerical problems."
      ],
      "text/plain": [
       "<class 'statsmodels.iolib.summary.Summary'>\n",
       "\"\"\"\n",
       "                            OLS Regression Results                            \n",
       "==============================================================================\n",
       "Dep. Variable:              loan_amnt   R-squared:                       0.622\n",
       "Model:                            OLS   Adj. R-squared:                  0.622\n",
       "Method:                 Least Squares   F-statistic:                 1.501e+04\n",
       "Date:                Tue, 15 Oct 2024   Prob (F-statistic):               0.00\n",
       "Time:                        06:15:16   Log-Likelihood:            -8.7635e+05\n",
       "No. Observations:               91226   AIC:                         1.753e+06\n",
       "Df Residuals:                   91215   BIC:                         1.753e+06\n",
       "Df Model:                          10                                         \n",
       "Covariance Type:            nonrobust                                         \n",
       "==============================================================================================\n",
       "                                 coef    std err          t      P>|t|      [0.025      0.975]\n",
       "----------------------------------------------------------------------------------------------\n",
       "Intercept                  -1868.2845    116.428    -16.047      0.000   -2096.483   -1640.086\n",
       "person_age                   -12.4759      3.932     -3.173      0.002     -20.183      -4.769\n",
       "person_income                  0.0537      0.000    201.459      0.000       0.053       0.054\n",
       "person_home_ownership       -462.0328      8.950    -51.622      0.000    -479.575    -444.490\n",
       "person_emp_length             71.0763      3.124     22.753      0.000      64.954      77.199\n",
       "loan_grade                   397.9233     29.098     13.675      0.000     340.891     454.955\n",
       "loan_int_rate                 56.6852      9.851      5.755      0.000      37.378      75.992\n",
       "loan_percent_income         4.666e+04    135.784    343.667      0.000    4.64e+04    4.69e+04\n",
       "cb_person_default_on_file   -306.2696     38.983     -7.857      0.000    -382.676    -229.863\n",
       "cb_person_cred_hist_length    31.0637      5.949      5.221      0.000      19.403      42.724\n",
       "loan_status                -1644.5962     37.265    -44.133      0.000   -1717.634   -1571.558\n",
       "==============================================================================\n",
       "Omnibus:                   142638.652   Durbin-Watson:                   1.777\n",
       "Prob(Omnibus):                  0.000   Jarque-Bera (JB):       1872493542.890\n",
       "Skew:                          -8.824   Prob(JB):                         0.00\n",
       "Kurtosis:                     704.648   Cond. No.                     9.54e+05\n",
       "==============================================================================\n",
       "\n",
       "Notes:\n",
       "[1] Standard Errors assume that the covariance matrix of the errors is correctly specified.\n",
       "[2] The condition number is large, 9.54e+05. This might indicate that there are\n",
       "strong multicollinearity or other numerical problems.\n",
       "\"\"\""
      ]
     },
     "execution_count": 41,
     "metadata": {},
     "output_type": "execute_result"
    }
   ],
   "source": [
    "# using linear regression\n",
    "import statsmodels.api as sm\n",
    "from statsmodels.formula.api import ols\n",
    "\n",
    "from stargazer.stargazer import Stargazer\n",
    "\n",
    "col_names = 'person_age+person_income+person_home_ownership+person_emp_length+loan_grade+loan_amnt+loan_int_rate+loan_percent_income+cb_person_default_on_file+cb_person_cred_hist_length + loan_status'\n",
    "\n",
    "model1 = ols('loan_amnt ~ person_income + person_age + person_emp_length + person_home_ownership', data = df_train).fit()\n",
    "model2 = ols('loan_amnt ~ person_income + person_age + person_emp_length', data = df_train).fit()\n",
    "model3 = ols('loan_amnt ~ person_age+person_income+person_home_ownership+person_emp_length+loan_grade+loan_int_rate+loan_percent_income+cb_person_default_on_file+cb_person_cred_hist_length + loan_status', data = df_train).fit()\n",
    "model3.summary()"
   ]
  },
  {
   "cell_type": "code",
   "execution_count": 42,
   "id": "7f46933c",
   "metadata": {
    "execution": {
     "iopub.execute_input": "2024-10-15T06:15:17.069898Z",
     "iopub.status.busy": "2024-10-15T06:15:17.069455Z",
     "iopub.status.idle": "2024-10-15T06:15:17.201338Z",
     "shell.execute_reply": "2024-10-15T06:15:17.199833Z"
    },
    "papermill": {
     "duration": 0.162836,
     "end_time": "2024-10-15T06:15:17.205715",
     "exception": false,
     "start_time": "2024-10-15T06:15:17.042879",
     "status": "completed"
    },
    "tags": []
   },
   "outputs": [
    {
     "data": {
      "text/html": [
       "<table style=\"text-align:center\"><tr><td colspan=\"4\" style=\"border-bottom: 1px solid black\"></td></tr>\n",
       "<tr><td style=\"text-align:left\"></td><td colspan=\"3\"><em>Dependent variable: loan_amnt</em></td></tr><tr><td style=\"text-align:left\"></td><tr><td style=\"text-align:left\"></td><td>(1)</td><td>(2)</td><td>(3)</td></tr>\n",
       "<tr><td colspan=\"4\" style=\"border-bottom: 1px solid black\"></td></tr>\n",
       "\n",
       "<tr><td style=\"text-align:left\">Intercept</td><td>7032.903<sup>***</sup></td><td>6610.596<sup>***</sup></td><td>-1868.284<sup>***</sup></td></tr>\n",
       "<tr><td style=\"text-align:left\"></td><td>(92.634)</td><td>(86.871)</td><td>(116.428)</td></tr>\n",
       "<tr><td style=\"text-align:left\">cb_person_cred_hist_length</td><td></td><td></td><td>31.064<sup>***</sup></td></tr>\n",
       "<tr><td style=\"text-align:left\"></td><td></td><td></td><td>(5.949)</td></tr>\n",
       "<tr><td style=\"text-align:left\">cb_person_default_on_file</td><td></td><td></td><td>-306.270<sup>***</sup></td></tr>\n",
       "<tr><td style=\"text-align:left\"></td><td></td><td></td><td>(38.983)</td></tr>\n",
       "<tr><td style=\"text-align:left\">loan_grade</td><td></td><td></td><td>397.923<sup>***</sup></td></tr>\n",
       "<tr><td style=\"text-align:left\"></td><td></td><td></td><td>(29.098)</td></tr>\n",
       "<tr><td style=\"text-align:left\">loan_int_rate</td><td></td><td></td><td>56.685<sup>***</sup></td></tr>\n",
       "<tr><td style=\"text-align:left\"></td><td></td><td></td><td>(9.851)</td></tr>\n",
       "<tr><td style=\"text-align:left\">loan_percent_income</td><td></td><td></td><td>46664.492<sup>***</sup></td></tr>\n",
       "<tr><td style=\"text-align:left\"></td><td></td><td></td><td>(135.784)</td></tr>\n",
       "<tr><td style=\"text-align:left\">loan_status</td><td></td><td></td><td>-1644.596<sup>***</sup></td></tr>\n",
       "<tr><td style=\"text-align:left\"></td><td></td><td></td><td>(37.265)</td></tr>\n",
       "<tr><td style=\"text-align:left\">person_age</td><td>6.417<sup>**</sup></td><td>5.748<sup>*</sup></td><td>-12.476<sup>***</sup></td></tr>\n",
       "<tr><td style=\"text-align:left\"></td><td>(3.061)</td><td>(3.063)</td><td>(3.932)</td></tr>\n",
       "<tr><td style=\"text-align:left\">person_emp_length</td><td>70.985<sup>***</sup></td><td>86.450<sup>***</sup></td><td>71.076<sup>***</sup></td></tr>\n",
       "<tr><td style=\"text-align:left\"></td><td>(4.852)</td><td>(4.710)</td><td>(3.124)</td></tr>\n",
       "<tr><td style=\"text-align:left\">person_home_ownership</td><td>-177.310<sup>***</sup></td><td></td><td>-462.033<sup>***</sup></td></tr>\n",
       "<tr><td style=\"text-align:left\"></td><td>(13.595)</td><td></td><td>(8.950)</td></tr>\n",
       "<tr><td style=\"text-align:left\">person_income</td><td>0.032<sup>***</sup></td><td>0.034<sup>***</sup></td><td>0.054<sup>***</sup></td></tr>\n",
       "<tr><td style=\"text-align:left\"></td><td>(0.000)</td><td>(0.000)</td><td>(0.000)</td></tr>\n",
       "\n",
       "<td colspan=\"4\" style=\"border-bottom: 1px solid black\"></td></tr>\n",
       "<tr><td style=\"text-align: left\">Observations</td><td>91226</td><td>91226</td><td>91226</td></tr><tr><td style=\"text-align: left\">R<sup>2</sup></td><td>0.086</td><td>0.084</td><td>0.622</td></tr><tr><td style=\"text-align: left\">Adjusted R<sup>2</sup></td><td>0.086</td><td>0.084</td><td>0.622</td></tr><tr><td style=\"text-align: left\">Residual Std. Error</td><td>5591.389 (df=91221)</td><td>5596.569 (df=91222)</td><td>3595.683 (df=91215)</td></tr><tr><td style=\"text-align: left\">F Statistic</td><td>2147.542<sup>***</sup> (df=4; 91221)</td><td>2801.498<sup>***</sup> (df=3; 91222)</td><td>15013.970<sup>***</sup> (df=10; 91215)</td></tr>\n",
       "<tr><td colspan=\"4\" style=\"border-bottom: 1px solid black\"></td></tr><tr><td style=\"text-align: left\">Note:</td><td colspan=\"3\" style=\"text-align: right\"><sup>*</sup>p&lt;0.1; <sup>**</sup>p&lt;0.05; <sup>***</sup>p&lt;0.01</td></tr></table>"
      ],
      "text/plain": [
       "<stargazer.stargazer.Stargazer at 0x7db548806710>"
      ]
     },
     "execution_count": 42,
     "metadata": {},
     "output_type": "execute_result"
    }
   ],
   "source": [
    "stargazer = Stargazer([model1, model2, model3])\n",
    "stargazer"
   ]
  },
  {
   "cell_type": "code",
   "execution_count": 43,
   "id": "c027bd57",
   "metadata": {
    "execution": {
     "iopub.execute_input": "2024-10-15T06:15:17.296784Z",
     "iopub.status.busy": "2024-10-15T06:15:17.296344Z",
     "iopub.status.idle": "2024-10-15T06:15:17.316096Z",
     "shell.execute_reply": "2024-10-15T06:15:17.314916Z"
    },
    "papermill": {
     "duration": 0.060353,
     "end_time": "2024-10-15T06:15:17.319287",
     "exception": false,
     "start_time": "2024-10-15T06:15:17.258934",
     "status": "completed"
    },
    "tags": []
   },
   "outputs": [],
   "source": [
    "# test VIF\n",
    "from statsmodels.stats.outliers_influence import variance_inflation_factor\n",
    "\n",
    "X = df_train.iloc[:, :-5]\n",
    "\n",
    "def VFI_calc(X):\n",
    "    vif_data = pd.DataFrame()\n",
    "    vif_data[\"feature\"] = X.columns\n",
    "    vif_data[\"VIF\"] = [variance_inflation_factor(X.values, i) for i in range(len(X.columns))]\n",
    "    df = vif_data.sort_values(\"VIF\").reset_index(drop=True)\n",
    "    return df"
   ]
  },
  {
   "cell_type": "code",
   "execution_count": 44,
   "id": "7a92ae9e",
   "metadata": {
    "execution": {
     "iopub.execute_input": "2024-10-15T06:15:17.373349Z",
     "iopub.status.busy": "2024-10-15T06:15:17.372080Z",
     "iopub.status.idle": "2024-10-15T06:15:18.452979Z",
     "shell.execute_reply": "2024-10-15T06:15:18.451841Z"
    },
    "papermill": {
     "duration": 1.111154,
     "end_time": "2024-10-15T06:15:18.456480",
     "exception": false,
     "start_time": "2024-10-15T06:15:17.345326",
     "status": "completed"
    },
    "tags": []
   },
   "outputs": [
    {
     "data": {
      "text/html": [
       "<div>\n",
       "<style scoped>\n",
       "    .dataframe tbody tr th:only-of-type {\n",
       "        vertical-align: middle;\n",
       "    }\n",
       "\n",
       "    .dataframe tbody tr th {\n",
       "        vertical-align: top;\n",
       "    }\n",
       "\n",
       "    .dataframe thead th {\n",
       "        text-align: right;\n",
       "    }\n",
       "</style>\n",
       "<table border=\"1\" class=\"dataframe\">\n",
       "  <thead>\n",
       "    <tr style=\"text-align: right;\">\n",
       "      <th></th>\n",
       "      <th>feature</th>\n",
       "      <th>VIF</th>\n",
       "    </tr>\n",
       "  </thead>\n",
       "  <tbody>\n",
       "    <tr>\n",
       "      <th>0</th>\n",
       "      <td>loan_status</td>\n",
       "      <td>1.695093</td>\n",
       "    </tr>\n",
       "    <tr>\n",
       "      <th>1</th>\n",
       "      <td>cb_person_default_on_file</td>\n",
       "      <td>1.699070</td>\n",
       "    </tr>\n",
       "    <tr>\n",
       "      <th>2</th>\n",
       "      <td>person_emp_length</td>\n",
       "      <td>2.629123</td>\n",
       "    </tr>\n",
       "    <tr>\n",
       "      <th>3</th>\n",
       "      <td>person_home_ownership</td>\n",
       "      <td>2.826132</td>\n",
       "    </tr>\n",
       "    <tr>\n",
       "      <th>4</th>\n",
       "      <td>person_income</td>\n",
       "      <td>4.625955</td>\n",
       "    </tr>\n",
       "    <tr>\n",
       "      <th>5</th>\n",
       "      <td>cb_person_cred_hist_length</td>\n",
       "      <td>9.282739</td>\n",
       "    </tr>\n",
       "    <tr>\n",
       "      <th>6</th>\n",
       "      <td>loan_amnt</td>\n",
       "      <td>9.382602</td>\n",
       "    </tr>\n",
       "    <tr>\n",
       "      <th>7</th>\n",
       "      <td>loan_grade</td>\n",
       "      <td>10.259760</td>\n",
       "    </tr>\n",
       "    <tr>\n",
       "      <th>8</th>\n",
       "      <td>loan_percent_income</td>\n",
       "      <td>10.517703</td>\n",
       "    </tr>\n",
       "    <tr>\n",
       "      <th>9</th>\n",
       "      <td>loan_int_rate</td>\n",
       "      <td>48.372716</td>\n",
       "    </tr>\n",
       "    <tr>\n",
       "      <th>10</th>\n",
       "      <td>person_age</td>\n",
       "      <td>49.617029</td>\n",
       "    </tr>\n",
       "  </tbody>\n",
       "</table>\n",
       "</div>"
      ],
      "text/plain": [
       "                       feature        VIF\n",
       "0                  loan_status   1.695093\n",
       "1    cb_person_default_on_file   1.699070\n",
       "2            person_emp_length   2.629123\n",
       "3        person_home_ownership   2.826132\n",
       "4                person_income   4.625955\n",
       "5   cb_person_cred_hist_length   9.282739\n",
       "6                    loan_amnt   9.382602\n",
       "7                   loan_grade  10.259760\n",
       "8          loan_percent_income  10.517703\n",
       "9                loan_int_rate  48.372716\n",
       "10                  person_age  49.617029"
      ]
     },
     "execution_count": 44,
     "metadata": {},
     "output_type": "execute_result"
    }
   ],
   "source": [
    "VFI_calc(X)\n",
    "# loan_grade, loan_percent_income seems sus, \n",
    "# and loan_int_rate, person_age are defenitly SUS"
   ]
  },
  {
   "cell_type": "code",
   "execution_count": 45,
   "id": "9f21e6e8",
   "metadata": {
    "execution": {
     "iopub.execute_input": "2024-10-15T06:15:18.562059Z",
     "iopub.status.busy": "2024-10-15T06:15:18.561638Z",
     "iopub.status.idle": "2024-10-15T06:15:18.572156Z",
     "shell.execute_reply": "2024-10-15T06:15:18.569214Z"
    },
    "papermill": {
     "duration": 0.065802,
     "end_time": "2024-10-15T06:15:18.574778",
     "exception": false,
     "start_time": "2024-10-15T06:15:18.508976",
     "status": "completed"
    },
    "tags": []
   },
   "outputs": [
    {
     "data": {
      "text/plain": [
       "['person_age',\n",
       " 'person_income',\n",
       " 'person_home_ownership',\n",
       " 'person_emp_length',\n",
       " 'loan_grade',\n",
       " 'loan_amnt',\n",
       " 'loan_int_rate',\n",
       " 'loan_percent_income',\n",
       " 'cb_person_default_on_file',\n",
       " 'cb_person_cred_hist_length',\n",
       " 'loan_status',\n",
       " 'loan_intent_EDUCATION',\n",
       " 'loan_intent_HOMEIMPROVEMENT',\n",
       " 'loan_intent_MEDICAL',\n",
       " 'loan_intent_PERSONAL',\n",
       " 'loan_intent_VENTURE']"
      ]
     },
     "execution_count": 45,
     "metadata": {},
     "output_type": "execute_result"
    }
   ],
   "source": [
    "list(df_train.columns)"
   ]
  },
  {
   "cell_type": "code",
   "execution_count": 46,
   "id": "25b9d037",
   "metadata": {
    "execution": {
     "iopub.execute_input": "2024-10-15T06:15:18.626928Z",
     "iopub.status.busy": "2024-10-15T06:15:18.626498Z",
     "iopub.status.idle": "2024-10-15T06:15:19.684784Z",
     "shell.execute_reply": "2024-10-15T06:15:19.683323Z"
    },
    "papermill": {
     "duration": 1.090343,
     "end_time": "2024-10-15T06:15:19.690210",
     "exception": false,
     "start_time": "2024-10-15T06:15:18.599867",
     "status": "completed"
    },
    "tags": []
   },
   "outputs": [
    {
     "name": "stdout",
     "output_type": "stream",
     "text": [
      "Optimization terminated successfully.\n",
      "         Current function value: 0.300508\n",
      "         Iterations 8\n"
     ]
    },
    {
     "data": {
      "text/html": [
       "<table class=\"simpletable\">\n",
       "<caption>Logit Regression Results</caption>\n",
       "<tr>\n",
       "  <th>Dep. Variable:</th>      <td>loan_status</td>   <th>  No. Observations:  </th>  <td> 91226</td> \n",
       "</tr>\n",
       "<tr>\n",
       "  <th>Model:</th>                 <td>Logit</td>      <th>  Df Residuals:      </th>  <td> 91210</td> \n",
       "</tr>\n",
       "<tr>\n",
       "  <th>Method:</th>                 <td>MLE</td>       <th>  Df Model:          </th>  <td>    15</td> \n",
       "</tr>\n",
       "<tr>\n",
       "  <th>Date:</th>            <td>Tue, 15 Oct 2024</td> <th>  Pseudo R-squ.:     </th>  <td>0.3396</td> \n",
       "</tr>\n",
       "<tr>\n",
       "  <th>Time:</th>                <td>06:15:19</td>     <th>  Log-Likelihood:    </th> <td> -27414.</td>\n",
       "</tr>\n",
       "<tr>\n",
       "  <th>converged:</th>             <td>True</td>       <th>  LL-Null:           </th> <td> -41509.</td>\n",
       "</tr>\n",
       "<tr>\n",
       "  <th>Covariance Type:</th>     <td>nonrobust</td>    <th>  LLR p-value:       </th>  <td> 0.000</td> \n",
       "</tr>\n",
       "</table>\n",
       "<table class=\"simpletable\">\n",
       "<tr>\n",
       "                   <td></td>                      <th>coef</th>     <th>std err</th>      <th>z</th>      <th>P>|z|</th>  <th>[0.025</th>    <th>0.975]</th>  \n",
       "</tr>\n",
       "<tr>\n",
       "  <th>Intercept</th>                           <td>   -4.5912</td> <td>    0.120</td> <td>  -38.192</td> <td> 0.000</td> <td>   -4.827</td> <td>   -4.356</td>\n",
       "</tr>\n",
       "<tr>\n",
       "  <th>loan_intent_EDUCATION[T.True]</th>       <td>   -0.9404</td> <td>    0.036</td> <td>  -25.767</td> <td> 0.000</td> <td>   -1.012</td> <td>   -0.869</td>\n",
       "</tr>\n",
       "<tr>\n",
       "  <th>loan_intent_HOMEIMPROVEMENT[T.True]</th> <td>   -0.0531</td> <td>    0.040</td> <td>   -1.312</td> <td> 0.189</td> <td>   -0.132</td> <td>    0.026</td>\n",
       "</tr>\n",
       "<tr>\n",
       "  <th>loan_intent_MEDICAL[T.True]</th>         <td>   -0.2864</td> <td>    0.034</td> <td>   -8.346</td> <td> 0.000</td> <td>   -0.354</td> <td>   -0.219</td>\n",
       "</tr>\n",
       "<tr>\n",
       "  <th>loan_intent_PERSONAL[T.True]</th>        <td>   -0.6415</td> <td>    0.037</td> <td>  -17.274</td> <td> 0.000</td> <td>   -0.714</td> <td>   -0.569</td>\n",
       "</tr>\n",
       "<tr>\n",
       "  <th>loan_intent_VENTURE[T.True]</th>         <td>   -1.1964</td> <td>    0.040</td> <td>  -29.916</td> <td> 0.000</td> <td>   -1.275</td> <td>   -1.118</td>\n",
       "</tr>\n",
       "<tr>\n",
       "  <th>person_age</th>                          <td>    0.0050</td> <td>    0.004</td> <td>    1.386</td> <td> 0.166</td> <td>   -0.002</td> <td>    0.012</td>\n",
       "</tr>\n",
       "<tr>\n",
       "  <th>person_income</th>                       <td>-1.252e-07</td> <td>  5.7e-07</td> <td>   -0.220</td> <td> 0.826</td> <td>-1.24e-06</td> <td> 9.92e-07</td>\n",
       "</tr>\n",
       "<tr>\n",
       "  <th>person_home_ownership</th>               <td>    0.3050</td> <td>    0.009</td> <td>   33.346</td> <td> 0.000</td> <td>    0.287</td> <td>    0.323</td>\n",
       "</tr>\n",
       "<tr>\n",
       "  <th>person_emp_length</th>                   <td>   -0.0140</td> <td>    0.003</td> <td>   -4.546</td> <td> 0.000</td> <td>   -0.020</td> <td>   -0.008</td>\n",
       "</tr>\n",
       "<tr>\n",
       "  <th>loan_grade</th>                          <td>    1.0897</td> <td>    0.024</td> <td>   44.814</td> <td> 0.000</td> <td>    1.042</td> <td>    1.137</td>\n",
       "</tr>\n",
       "<tr>\n",
       "  <th>loan_int_rate</th>                       <td>   -0.0319</td> <td>    0.009</td> <td>   -3.491</td> <td> 0.000</td> <td>   -0.050</td> <td>   -0.014</td>\n",
       "</tr>\n",
       "<tr>\n",
       "  <th>loan_percent_income</th>                 <td>   13.1187</td> <td>    0.202</td> <td>   64.988</td> <td> 0.000</td> <td>   12.723</td> <td>   13.514</td>\n",
       "</tr>\n",
       "<tr>\n",
       "  <th>cb_person_default_on_file</th>           <td>   -0.1405</td> <td>    0.028</td> <td>   -4.942</td> <td> 0.000</td> <td>   -0.196</td> <td>   -0.085</td>\n",
       "</tr>\n",
       "<tr>\n",
       "  <th>cb_person_cred_hist_length</th>          <td>   -0.0078</td> <td>    0.006</td> <td>   -1.407</td> <td> 0.160</td> <td>   -0.019</td> <td>    0.003</td>\n",
       "</tr>\n",
       "<tr>\n",
       "  <th>loan_amnt</th>                           <td>-8.262e-05</td> <td> 3.59e-06</td> <td>  -23.002</td> <td> 0.000</td> <td>-8.97e-05</td> <td>-7.56e-05</td>\n",
       "</tr>\n",
       "</table>"
      ],
      "text/latex": [
       "\\begin{center}\n",
       "\\begin{tabular}{lclc}\n",
       "\\toprule\n",
       "\\textbf{Dep. Variable:}                        &   loan\\_status   & \\textbf{  No. Observations:  } &    91226    \\\\\n",
       "\\textbf{Model:}                                &      Logit       & \\textbf{  Df Residuals:      } &    91210    \\\\\n",
       "\\textbf{Method:}                               &       MLE        & \\textbf{  Df Model:          } &       15    \\\\\n",
       "\\textbf{Date:}                                 & Tue, 15 Oct 2024 & \\textbf{  Pseudo R-squ.:     } &   0.3396    \\\\\n",
       "\\textbf{Time:}                                 &     06:15:19     & \\textbf{  Log-Likelihood:    } &   -27414.   \\\\\n",
       "\\textbf{converged:}                            &       True       & \\textbf{  LL-Null:           } &   -41509.   \\\\\n",
       "\\textbf{Covariance Type:}                      &    nonrobust     & \\textbf{  LLR p-value:       } &    0.000    \\\\\n",
       "\\bottomrule\n",
       "\\end{tabular}\n",
       "\\begin{tabular}{lcccccc}\n",
       "                                               & \\textbf{coef} & \\textbf{std err} & \\textbf{z} & \\textbf{P$> |$z$|$} & \\textbf{[0.025} & \\textbf{0.975]}  \\\\\n",
       "\\midrule\n",
       "\\textbf{Intercept}                             &      -4.5912  &        0.120     &   -38.192  &         0.000        &       -4.827    &       -4.356     \\\\\n",
       "\\textbf{loan\\_intent\\_EDUCATION[T.True]}       &      -0.9404  &        0.036     &   -25.767  &         0.000        &       -1.012    &       -0.869     \\\\\n",
       "\\textbf{loan\\_intent\\_HOMEIMPROVEMENT[T.True]} &      -0.0531  &        0.040     &    -1.312  &         0.189        &       -0.132    &        0.026     \\\\\n",
       "\\textbf{loan\\_intent\\_MEDICAL[T.True]}         &      -0.2864  &        0.034     &    -8.346  &         0.000        &       -0.354    &       -0.219     \\\\\n",
       "\\textbf{loan\\_intent\\_PERSONAL[T.True]}        &      -0.6415  &        0.037     &   -17.274  &         0.000        &       -0.714    &       -0.569     \\\\\n",
       "\\textbf{loan\\_intent\\_VENTURE[T.True]}         &      -1.1964  &        0.040     &   -29.916  &         0.000        &       -1.275    &       -1.118     \\\\\n",
       "\\textbf{person\\_age}                           &       0.0050  &        0.004     &     1.386  &         0.166        &       -0.002    &        0.012     \\\\\n",
       "\\textbf{person\\_income}                        &   -1.252e-07  &      5.7e-07     &    -0.220  &         0.826        &    -1.24e-06    &     9.92e-07     \\\\\n",
       "\\textbf{person\\_home\\_ownership}               &       0.3050  &        0.009     &    33.346  &         0.000        &        0.287    &        0.323     \\\\\n",
       "\\textbf{person\\_emp\\_length}                   &      -0.0140  &        0.003     &    -4.546  &         0.000        &       -0.020    &       -0.008     \\\\\n",
       "\\textbf{loan\\_grade}                           &       1.0897  &        0.024     &    44.814  &         0.000        &        1.042    &        1.137     \\\\\n",
       "\\textbf{loan\\_int\\_rate}                       &      -0.0319  &        0.009     &    -3.491  &         0.000        &       -0.050    &       -0.014     \\\\\n",
       "\\textbf{loan\\_percent\\_income}                 &      13.1187  &        0.202     &    64.988  &         0.000        &       12.723    &       13.514     \\\\\n",
       "\\textbf{cb\\_person\\_default\\_on\\_file}         &      -0.1405  &        0.028     &    -4.942  &         0.000        &       -0.196    &       -0.085     \\\\\n",
       "\\textbf{cb\\_person\\_cred\\_hist\\_length}        &      -0.0078  &        0.006     &    -1.407  &         0.160        &       -0.019    &        0.003     \\\\\n",
       "\\textbf{loan\\_amnt}                            &   -8.262e-05  &     3.59e-06     &   -23.002  &         0.000        &    -8.97e-05    &    -7.56e-05     \\\\\n",
       "\\bottomrule\n",
       "\\end{tabular}\n",
       "%\\caption{Logit Regression Results}\n",
       "\\end{center}"
      ],
      "text/plain": [
       "<class 'statsmodels.iolib.summary.Summary'>\n",
       "\"\"\"\n",
       "                           Logit Regression Results                           \n",
       "==============================================================================\n",
       "Dep. Variable:            loan_status   No. Observations:                91226\n",
       "Model:                          Logit   Df Residuals:                    91210\n",
       "Method:                           MLE   Df Model:                           15\n",
       "Date:                Tue, 15 Oct 2024   Pseudo R-squ.:                  0.3396\n",
       "Time:                        06:15:19   Log-Likelihood:                -27414.\n",
       "converged:                       True   LL-Null:                       -41509.\n",
       "Covariance Type:            nonrobust   LLR p-value:                     0.000\n",
       "=======================================================================================================\n",
       "                                          coef    std err          z      P>|z|      [0.025      0.975]\n",
       "-------------------------------------------------------------------------------------------------------\n",
       "Intercept                              -4.5912      0.120    -38.192      0.000      -4.827      -4.356\n",
       "loan_intent_EDUCATION[T.True]          -0.9404      0.036    -25.767      0.000      -1.012      -0.869\n",
       "loan_intent_HOMEIMPROVEMENT[T.True]    -0.0531      0.040     -1.312      0.189      -0.132       0.026\n",
       "loan_intent_MEDICAL[T.True]            -0.2864      0.034     -8.346      0.000      -0.354      -0.219\n",
       "loan_intent_PERSONAL[T.True]           -0.6415      0.037    -17.274      0.000      -0.714      -0.569\n",
       "loan_intent_VENTURE[T.True]            -1.1964      0.040    -29.916      0.000      -1.275      -1.118\n",
       "person_age                              0.0050      0.004      1.386      0.166      -0.002       0.012\n",
       "person_income                       -1.252e-07    5.7e-07     -0.220      0.826   -1.24e-06    9.92e-07\n",
       "person_home_ownership                   0.3050      0.009     33.346      0.000       0.287       0.323\n",
       "person_emp_length                      -0.0140      0.003     -4.546      0.000      -0.020      -0.008\n",
       "loan_grade                              1.0897      0.024     44.814      0.000       1.042       1.137\n",
       "loan_int_rate                          -0.0319      0.009     -3.491      0.000      -0.050      -0.014\n",
       "loan_percent_income                    13.1187      0.202     64.988      0.000      12.723      13.514\n",
       "cb_person_default_on_file              -0.1405      0.028     -4.942      0.000      -0.196      -0.085\n",
       "cb_person_cred_hist_length             -0.0078      0.006     -1.407      0.160      -0.019       0.003\n",
       "loan_amnt                           -8.262e-05   3.59e-06    -23.002      0.000   -8.97e-05   -7.56e-05\n",
       "=======================================================================================================\n",
       "\"\"\""
      ]
     },
     "execution_count": 46,
     "metadata": {},
     "output_type": "execute_result"
    }
   ],
   "source": [
    "# basic logit.reg\n",
    "from statsmodels.formula.api import logit\n",
    "\n",
    "model_all = logit('loan_status ~ person_age+person_income+person_home_ownership+person_emp_length+loan_grade+loan_int_rate+loan_percent_income+cb_person_default_on_file+cb_person_cred_hist_length + loan_amnt + loan_intent_EDUCATION + loan_intent_HOMEIMPROVEMENT +loan_intent_MEDICAL +loan_intent_PERSONAL +loan_intent_VENTURE', data = df_train).fit()\n",
    "model_all.summary()"
   ]
  },
  {
   "cell_type": "code",
   "execution_count": 47,
   "id": "4b9cba1c",
   "metadata": {
    "execution": {
     "iopub.execute_input": "2024-10-15T06:15:19.767610Z",
     "iopub.status.busy": "2024-10-15T06:15:19.767180Z",
     "iopub.status.idle": "2024-10-15T06:15:20.402098Z",
     "shell.execute_reply": "2024-10-15T06:15:20.400502Z"
    },
    "papermill": {
     "duration": 0.667851,
     "end_time": "2024-10-15T06:15:20.406792",
     "exception": false,
     "start_time": "2024-10-15T06:15:19.738941",
     "status": "completed"
    },
    "tags": []
   },
   "outputs": [],
   "source": [
    "# Use PCA to handle Dimentions, and fit data\n",
    "\n",
    "from sklearn.decomposition import PCA\n",
    "\n",
    "pca = PCA(n_components = 12)\n",
    "df_train_pca = pca.fit(df_train)"
   ]
  },
  {
   "cell_type": "code",
   "execution_count": null,
   "id": "df628fe8",
   "metadata": {
    "papermill": {
     "duration": 0.02714,
     "end_time": "2024-10-15T06:15:20.490262",
     "exception": false,
     "start_time": "2024-10-15T06:15:20.463122",
     "status": "completed"
    },
    "tags": []
   },
   "outputs": [],
   "source": []
  }
 ],
 "metadata": {
  "kaggle": {
   "accelerator": "none",
   "dataSources": [
    {
     "databundleVersionId": 9709193,
     "sourceId": 84894,
     "sourceType": "competition"
    },
    {
     "datasetId": 5796052,
     "sourceId": 9519882,
     "sourceType": "datasetVersion"
    }
   ],
   "dockerImageVersionId": 30786,
   "isGpuEnabled": false,
   "isInternetEnabled": true,
   "language": "python",
   "sourceType": "notebook"
  },
  "kernelspec": {
   "display_name": "Python 3",
   "language": "python",
   "name": "python3"
  },
  "language_info": {
   "codemirror_mode": {
    "name": "ipython",
    "version": 3
   },
   "file_extension": ".py",
   "mimetype": "text/x-python",
   "name": "python",
   "nbconvert_exporter": "python",
   "pygments_lexer": "ipython3",
   "version": "3.10.14"
  },
  "papermill": {
   "default_parameters": {},
   "duration": 36.26515,
   "end_time": "2024-10-15T06:15:21.342413",
   "environment_variables": {},
   "exception": null,
   "input_path": "__notebook__.ipynb",
   "output_path": "__notebook__.ipynb",
   "parameters": {},
   "start_time": "2024-10-15T06:14:45.077263",
   "version": "2.6.0"
  }
 },
 "nbformat": 4,
 "nbformat_minor": 5
}
