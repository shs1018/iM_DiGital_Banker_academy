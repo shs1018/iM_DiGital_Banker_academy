{
 "cells": [
  {
   "cell_type": "code",
   "execution_count": 1,
   "id": "d8d75d60",
   "metadata": {
    "_cell_guid": "b1076dfc-b9ad-4769-8c92-a6c4dae69d19",
    "_uuid": "8f2839f25d086af736a60e9eeb907d3b93b6e0e5",
    "execution": {
     "iopub.execute_input": "2024-10-23T10:37:32.893874Z",
     "iopub.status.busy": "2024-10-23T10:37:32.893319Z",
     "iopub.status.idle": "2024-10-23T10:37:33.743811Z",
     "shell.execute_reply": "2024-10-23T10:37:33.742733Z"
    },
    "papermill": {
     "duration": 0.859775,
     "end_time": "2024-10-23T10:37:33.746333",
     "exception": false,
     "start_time": "2024-10-23T10:37:32.886558",
     "status": "completed"
    },
    "tags": []
   },
   "outputs": [
    {
     "name": "stdout",
     "output_type": "stream",
     "text": [
      "/kaggle/input/playground-series-s4e10/sample_submission.csv\n",
      "/kaggle/input/playground-series-s4e10/train.csv\n",
      "/kaggle/input/playground-series-s4e10/test.csv\n"
     ]
    }
   ],
   "source": [
    "# This Python 3 environment comes with many helpful analytics libraries installed\n",
    "# It is defined by the kaggle/python Docker image: https://github.com/kaggle/docker-python\n",
    "# For example, here's several helpful packages to load\n",
    "\n",
    "import numpy as np # linear algebra\n",
    "import pandas as pd # data processing, CSV file I/O (e.g. pd.read_csv)\n",
    "\n",
    "# Input data files are available in the read-only \"../input/\" directory\n",
    "# For example, running this (by clicking run or pressing Shift+Enter) will list all files under the input directory\n",
    "\n",
    "import os\n",
    "for dirname, _, filenames in os.walk('/kaggle/input'):\n",
    "    for filename in filenames:\n",
    "        print(os.path.join(dirname, filename))\n",
    "\n",
    "# You can write up to 20GB to the current directory (/kaggle/working/) that gets preserved as output when you create a version using \"Save & Run All\" \n",
    "# You can also write temporary files to /kaggle/temp/, but they won't be saved outside of the current session"
   ]
  },
  {
   "cell_type": "code",
   "execution_count": 2,
   "id": "40b64cef",
   "metadata": {
    "execution": {
     "iopub.execute_input": "2024-10-23T10:37:33.757174Z",
     "iopub.status.busy": "2024-10-23T10:37:33.756631Z",
     "iopub.status.idle": "2024-10-23T10:37:35.362728Z",
     "shell.execute_reply": "2024-10-23T10:37:35.361605Z"
    },
    "papermill": {
     "duration": 1.614667,
     "end_time": "2024-10-23T10:37:35.365581",
     "exception": false,
     "start_time": "2024-10-23T10:37:33.750914",
     "status": "completed"
    },
    "tags": []
   },
   "outputs": [],
   "source": [
    "import numpy as np\n",
    "import pandas as pd\n",
    "\n",
    "import matplotlib.pyplot as plt\n",
    "from sklearn.metrics import roc_auc_score, roc_curve, confusion_matrix\n",
    "from sklearn.metrics import ConfusionMatrixDisplay\n",
    "\n",
    "from sklearn.preprocessing import OrdinalEncoder, StandardScaler, OneHotEncoder\n",
    "from sklearn.pipeline import make_pipeline\n",
    "from sklearn.compose import ColumnTransformer\n",
    "from sklearn.linear_model import LogisticRegression\n",
    "from sklearn.model_selection import RandomizedSearchCV, train_test_split\n",
    "from scipy.stats import uniform\n",
    "from datetime import datetime\n",
    "from mpl_toolkits.axes_grid1.inset_locator import inset_axes\n",
    "\n",
    "from sklearn.preprocessing import LabelEncoder"
   ]
  },
  {
   "cell_type": "code",
   "execution_count": 3,
   "id": "99cd2170",
   "metadata": {
    "execution": {
     "iopub.execute_input": "2024-10-23T10:37:35.376759Z",
     "iopub.status.busy": "2024-10-23T10:37:35.375936Z",
     "iopub.status.idle": "2024-10-23T10:37:37.156790Z",
     "shell.execute_reply": "2024-10-23T10:37:37.155449Z"
    },
    "papermill": {
     "duration": 1.789248,
     "end_time": "2024-10-23T10:37:37.159457",
     "exception": false,
     "start_time": "2024-10-23T10:37:35.370209",
     "status": "completed"
    },
    "tags": []
   },
   "outputs": [
    {
     "data": {
      "text/plain": [
       "\"\\ndef categorize_emp(emp):\\n    if emp < 3:\\n        return 0\\n    elif 3 <= emp < 6:\\n        return 1\\n    elif 6 <= emp < 10:\\n        return 2\\n    elif 10 <= emp < 20:\\n        return 3\\n    else:\\n        return 4\\n\\ntrain['emp_to_categorial'] = train['person_emp_length'].apply(categorize_emp)\\ntest['emp_to_categorial'] = test['person_emp_length'].apply(categorize_emp)\\n\""
      ]
     },
     "execution_count": 3,
     "metadata": {},
     "output_type": "execute_result"
    }
   ],
   "source": [
    "train = pd.read_csv('/kaggle/input/playground-series-s4e10/train.csv')\n",
    "test  = pd.read_csv('/kaggle/input/playground-series-s4e10/test.csv')\n",
    "submission = pd.read_csv('/kaggle/input/playground-series-s4e10/sample_submission.csv')\n",
    "\n",
    "# 삭제 전 ID 저장\n",
    "train_idx = train['id']\n",
    "test_idx = test['id']\n",
    "\n",
    "train = train.drop(columns=['id'])\n",
    "test = test.drop(columns=['id'])\n",
    "\n",
    "# 데이터에 파생변수1 추가\n",
    "def cal_loan_mean_ratio(df):\n",
    "    \n",
    "    mean_lst = df.groupby('loan_grade')['loan_amnt'].mean()\n",
    "    df['loan_amnt_mean_ratio'] = df.apply(lambda x: x['loan_amnt'] / mean_lst[x['loan_grade']], axis = 1)\n",
    "    \n",
    "    return df\n",
    "\n",
    "train = cal_loan_mean_ratio(train)\n",
    "test = cal_loan_mean_ratio(test)\n",
    "\n",
    "'''\n",
    "# 데이터에 파생변수 2 추가\n",
    "# 가중치 검사 및 검증 결과 유의미하지 않음\n",
    "def int_rate_by_Credlength(df):\n",
    "    df['int_rate_by_Credlength'] = df['loan_int_rate'] / df['cb_person_cred_hist_length']\n",
    "    return df\n",
    "\n",
    "train = int_rate_by_Credlength(train)\n",
    "test = int_rate_by_Credlength(test)\n",
    "'''\n",
    "\n",
    "# 데이터에 파생변수 3 추가\n",
    "# 유효하지 않은 열을 유효하게 -> 나이/재직기간을 범주화 하자.\n",
    "\n",
    "def categorize_age(age):\n",
    "    if age < 20:\n",
    "        return 0\n",
    "    elif 20 <= age < 30:\n",
    "        return 1\n",
    "    elif 30 <= age < 40:\n",
    "        return 2\n",
    "    elif 40 <= age < 50:\n",
    "        return 3\n",
    "    else:\n",
    "        return 4\n",
    "\n",
    "train['age_to_categorial'] = train['person_age'].apply(categorize_age)\n",
    "test['age_to_categorial'] = test['person_age'].apply(categorize_age)\n",
    "\n",
    "\n",
    "# 데이터에 파생변수 4 추가\n",
    "# 재직기간의 범주화\n",
    "'''\n",
    "def categorize_emp(emp):\n",
    "    if emp < 3:\n",
    "        return 0\n",
    "    elif 3 <= emp < 6:\n",
    "        return 1\n",
    "    elif 6 <= emp < 10:\n",
    "        return 2\n",
    "    elif 10 <= emp < 20:\n",
    "        return 3\n",
    "    else:\n",
    "        return 4\n",
    "\n",
    "train['emp_to_categorial'] = train['person_emp_length'].apply(categorize_emp)\n",
    "test['emp_to_categorial'] = test['person_emp_length'].apply(categorize_emp)\n",
    "'''"
   ]
  },
  {
   "cell_type": "code",
   "execution_count": 4,
   "id": "53c7edbb",
   "metadata": {
    "execution": {
     "iopub.execute_input": "2024-10-23T10:37:37.170112Z",
     "iopub.status.busy": "2024-10-23T10:37:37.169701Z",
     "iopub.status.idle": "2024-10-23T10:37:37.175311Z",
     "shell.execute_reply": "2024-10-23T10:37:37.174134Z"
    },
    "papermill": {
     "duration": 0.013575,
     "end_time": "2024-10-23T10:37:37.177586",
     "exception": false,
     "start_time": "2024-10-23T10:37:37.164011",
     "status": "completed"
    },
    "tags": []
   },
   "outputs": [],
   "source": [
    "def Na_mean_change(df, features):\n",
    "    \n",
    "    for col in features:\n",
    "        df[col].fillna(df[col].mean(), inplace = True)\n",
    "    \n",
    "    pd.DataFrame(df)\n",
    "    return df"
   ]
  },
  {
   "cell_type": "code",
   "execution_count": 5,
   "id": "f297db36",
   "metadata": {
    "execution": {
     "iopub.execute_input": "2024-10-23T10:37:37.188360Z",
     "iopub.status.busy": "2024-10-23T10:37:37.187945Z",
     "iopub.status.idle": "2024-10-23T10:37:37.195013Z",
     "shell.execute_reply": "2024-10-23T10:37:37.193955Z"
    },
    "papermill": {
     "duration": 0.015126,
     "end_time": "2024-10-23T10:37:37.197302",
     "exception": false,
     "start_time": "2024-10-23T10:37:37.182176",
     "status": "completed"
    },
    "tags": []
   },
   "outputs": [],
   "source": [
    "def preprocess_data(df_train, df_test):\n",
    "    label_enc = LabelEncoder()\n",
    "    \n",
    "    label_cols = ['person_home_ownership', 'loan_grade', 'cb_person_default_on_file']\n",
    "    \n",
    "    for col in label_cols:\n",
    "        df_train[col] = label_enc.fit_transform(df_train[col])\n",
    "        df_test[col] = label_enc.transform(df_test[col])\n",
    "        \n",
    "    df_train = pd.get_dummies(df_train, columns = ['loan_intent'], drop_first = True)\n",
    "    df_test = pd.get_dummies(df_test, columns = ['loan_intent'], drop_first = True)\n",
    "    \n",
    "    target_col = 'loan_status'\n",
    "    train_columns = df_train.drop(columns =[target_col]).columns\n",
    "    \n",
    "    df_test = df_test.reindex(columns = train_columns, fill_value = 0)\n",
    "    \n",
    "    return df_train, df_test"
   ]
  },
  {
   "cell_type": "code",
   "execution_count": 6,
   "id": "bf666708",
   "metadata": {
    "execution": {
     "iopub.execute_input": "2024-10-23T10:37:37.207934Z",
     "iopub.status.busy": "2024-10-23T10:37:37.207504Z",
     "iopub.status.idle": "2024-10-23T10:37:37.212176Z",
     "shell.execute_reply": "2024-10-23T10:37:37.211073Z"
    },
    "papermill": {
     "duration": 0.012661,
     "end_time": "2024-10-23T10:37:37.214457",
     "exception": false,
     "start_time": "2024-10-23T10:37:37.201796",
     "status": "completed"
    },
    "tags": []
   },
   "outputs": [],
   "source": [
    "train2 = train\n",
    "test2 = test"
   ]
  },
  {
   "cell_type": "code",
   "execution_count": 7,
   "id": "7dbdd3d4",
   "metadata": {
    "execution": {
     "iopub.execute_input": "2024-10-23T10:37:37.225481Z",
     "iopub.status.busy": "2024-10-23T10:37:37.224815Z",
     "iopub.status.idle": "2024-10-23T10:37:37.234643Z",
     "shell.execute_reply": "2024-10-23T10:37:37.233548Z"
    },
    "papermill": {
     "duration": 0.018374,
     "end_time": "2024-10-23T10:37:37.237454",
     "exception": false,
     "start_time": "2024-10-23T10:37:37.219080",
     "status": "completed"
    },
    "tags": []
   },
   "outputs": [
    {
     "name": "stderr",
     "output_type": "stream",
     "text": [
      "/tmp/ipykernel_17/1428734830.py:4: FutureWarning: A value is trying to be set on a copy of a DataFrame or Series through chained assignment using an inplace method.\n",
      "The behavior will change in pandas 3.0. This inplace method will never work because the intermediate object on which we are setting values always behaves as a copy.\n",
      "\n",
      "For example, when doing 'df[col].method(value, inplace=True)', try using 'df.method({col: value}, inplace=True)' or df[col] = df[col].method(value) instead, to perform the operation inplace on the original object.\n",
      "\n",
      "\n",
      "  df[col].fillna(df[col].mean(), inplace = True)\n"
     ]
    }
   ],
   "source": [
    "Na_mean_change(train2, ['person_emp_length', 'loan_int_rate'])\n",
    "df_test = Na_mean_change(test2, ['person_emp_length', 'loan_int_rate'])"
   ]
  },
  {
   "cell_type": "code",
   "execution_count": 8,
   "id": "ec61c8b3",
   "metadata": {
    "execution": {
     "iopub.execute_input": "2024-10-23T10:37:37.248799Z",
     "iopub.status.busy": "2024-10-23T10:37:37.248379Z",
     "iopub.status.idle": "2024-10-23T10:37:37.356503Z",
     "shell.execute_reply": "2024-10-23T10:37:37.355327Z"
    },
    "papermill": {
     "duration": 0.116921,
     "end_time": "2024-10-23T10:37:37.359272",
     "exception": false,
     "start_time": "2024-10-23T10:37:37.242351",
     "status": "completed"
    },
    "tags": []
   },
   "outputs": [],
   "source": [
    "train2, test2 = preprocess_data(train2, test2)"
   ]
  },
  {
   "cell_type": "code",
   "execution_count": 9,
   "id": "c5230931",
   "metadata": {
    "execution": {
     "iopub.execute_input": "2024-10-23T10:37:37.370644Z",
     "iopub.status.busy": "2024-10-23T10:37:37.369879Z",
     "iopub.status.idle": "2024-10-23T10:37:37.379055Z",
     "shell.execute_reply": "2024-10-23T10:37:37.378126Z"
    },
    "papermill": {
     "duration": 0.017604,
     "end_time": "2024-10-23T10:37:37.381569",
     "exception": false,
     "start_time": "2024-10-23T10:37:37.363965",
     "status": "completed"
    },
    "tags": []
   },
   "outputs": [],
   "source": [
    "X = train2.drop(columns = 'loan_status', axis = 1).iloc[:,:-5]\n",
    "y = train2['loan_status']"
   ]
  },
  {
   "cell_type": "code",
   "execution_count": 10,
   "id": "d53c149a",
   "metadata": {
    "execution": {
     "iopub.execute_input": "2024-10-23T10:37:37.394107Z",
     "iopub.status.busy": "2024-10-23T10:37:37.393579Z",
     "iopub.status.idle": "2024-10-23T10:37:37.965941Z",
     "shell.execute_reply": "2024-10-23T10:37:37.964741Z"
    },
    "papermill": {
     "duration": 0.585824,
     "end_time": "2024-10-23T10:37:37.972444",
     "exception": false,
     "start_time": "2024-10-23T10:37:37.386620",
     "status": "completed"
    },
    "tags": []
   },
   "outputs": [
    {
     "name": "stdout",
     "output_type": "stream",
     "text": [
      "cb_person_cred_hist_length: 1.3057299177407082\n",
      "loan_int_rate: 1.2141916999205415\n",
      "loan_grade: 1.1372685649108478\n",
      "person_home_ownership: 0.12762597418627591\n",
      "cb_person_default_on_file: 0.09026649599935584\n",
      "age_to_categorial: 0.08383581023082662\n",
      "loan_amnt: 0.0010466343273732208\n",
      "person_income: -0.002793665626863401\n",
      "loan_percent_income: -0.013853335616839966\n",
      "loan_amnt_mean_ratio: -0.1167690565887569\n",
      "person_emp_length: -2.4799810252962002\n",
      "person_age: -2.481890820384232\n"
     ]
    },
    {
     "name": "stderr",
     "output_type": "stream",
     "text": [
      "/tmp/ipykernel_17/483765551.py:12: FutureWarning: Series.__getitem__ treating keys as positions is deprecated. In a future version, integer keys will always be treated as labels (consistent with DataFrame behavior). To access a value by position, use `ser.iloc[pos]`\n",
      "  print(f\"{X.columns[i]}: {weights[i]}\")\n"
     ]
    }
   ],
   "source": [
    "# 변수 가중치 계산\n",
    "\n",
    "model = LogisticRegression(random_state = 42)\n",
    "model.fit(X,y)\n",
    "\n",
    "# 가중치 계산식에 맞게 계산하기\n",
    "weights = model.coef_[0] * (X.max(axis=0) - X.min(axis=0)) / X.std(axis=0)\n",
    "\n",
    "# 가중치 출력\n",
    "sorted_idx = weights.argsort()[::-1]\n",
    "for i in sorted_idx:\n",
    "    print(f\"{X.columns[i]}: {weights[i]}\")"
   ]
  },
  {
   "cell_type": "code",
   "execution_count": 11,
   "id": "8329114a",
   "metadata": {
    "execution": {
     "iopub.execute_input": "2024-10-23T10:37:37.991778Z",
     "iopub.status.busy": "2024-10-23T10:37:37.991192Z",
     "iopub.status.idle": "2024-10-23T10:37:37.999632Z",
     "shell.execute_reply": "2024-10-23T10:37:37.998387Z"
    },
    "papermill": {
     "duration": 0.022146,
     "end_time": "2024-10-23T10:37:38.003246",
     "exception": false,
     "start_time": "2024-10-23T10:37:37.981100",
     "status": "completed"
    },
    "tags": []
   },
   "outputs": [],
   "source": [
    "# 가중치가 음수인 것 중 절댓값이 큰 칼럼들 제거\n",
    "#['person_age', 'person_emp_length']"
   ]
  },
  {
   "cell_type": "markdown",
   "id": "444a179c",
   "metadata": {
    "papermill": {
     "duration": 0.007142,
     "end_time": "2024-10-23T10:37:38.018071",
     "exception": false,
     "start_time": "2024-10-23T10:37:38.010929",
     "status": "completed"
    },
    "tags": []
   },
   "source": [
    "## 이하는 머신러닝 파트라 일단 무시"
   ]
  },
  {
   "cell_type": "code",
   "execution_count": 12,
   "id": "a60538cd",
   "metadata": {
    "execution": {
     "iopub.execute_input": "2024-10-23T10:37:38.035639Z",
     "iopub.status.busy": "2024-10-23T10:37:38.035088Z",
     "iopub.status.idle": "2024-10-23T10:38:29.972942Z",
     "shell.execute_reply": "2024-10-23T10:38:29.971446Z"
    },
    "papermill": {
     "duration": 51.950622,
     "end_time": "2024-10-23T10:38:29.976389",
     "exception": false,
     "start_time": "2024-10-23T10:37:38.025767",
     "status": "completed"
    },
    "tags": []
   },
   "outputs": [
    {
     "name": "stdout",
     "output_type": "stream",
     "text": [
      "ROC-AUC 점수: 0.9057\n"
     ]
    },
    {
     "data": {
      "image/png": "[encoded data removed]",
      "text/plain": [
       "<Figure size 640x480 with 2 Axes>"
      ]
     },
     "metadata": {},
     "output_type": "display_data"
    }
   ],
   "source": [
    "\n",
    "# 데이터 준비 - 여기까지만 손댈것!\n",
    "y = train['loan_status']  # 타겟 변수\n",
    "X = train.drop(['loan_status','person_age', 'person_emp_length'], axis=1)  # 특징 변수\n",
    "\n",
    "# 학습 및 검증 데이터셋 나누기\n",
    "X_train, X_val, y_train, y_val = train_test_split(X, y, test_size=0.2, random_state=42, stratify=y)\n",
    "\n",
    "# 범주형 및 수치형 변수 정의\n",
    "categorical_cols = ['person_home_ownership', 'loan_intent', 'loan_grade', 'cb_person_default_on_file']\n",
    "numerical_cols = [col for col in X.columns if col not in categorical_cols]\n",
    "\n",
    "# 전처리 및 모델 파이프라인 설정\n",
    "preprocessor = ColumnTransformer(\n",
    "    transformers=[\n",
    "        ('num', StandardScaler(), numerical_cols),  # 수치형 컬럼에 대해 StandardScaler 적용\n",
    "        # ('cat', OrdinalEncoder(), categorical_cols)  # 범주형 컬럼에 대해 OrdinalEncoder 적용 0.88\n",
    "         ('cat', OneHotEncoder(drop='first'), categorical_cols)  # 범주형 컬럼에 대해 OneHotEncoder 적용\n",
    "        \n",
    "    ]\n",
    ")\n",
    "\n",
    "logistic_pipeline = make_pipeline(\n",
    "    preprocessor,\n",
    "    LogisticRegression(solver='liblinear')  # 로지스틱 회귀 모델\n",
    ")\n",
    "\n",
    "# 하이퍼파라미터 튜닝 (ROC-AUC 스코어 기준)\n",
    "param_distributions = {\n",
    "    'logisticregression__C': uniform(0.01, 10),  # 정규화 강도\n",
    "    'logisticregression__penalty': ['l1', 'l2']  # 정규화 방식\n",
    "}\n",
    "\n",
    "random_search = RandomizedSearchCV(\n",
    "    logistic_pipeline, \n",
    "    param_distributions, \n",
    "    n_iter=100, \n",
    "    cv=2, \n",
    "    random_state=42, \n",
    "    n_jobs=-1, \n",
    "    scoring='roc_auc'  # ROC-AUC를 기준으로 스코어링\n",
    ")\n",
    "\n",
    "# 모델 학습\n",
    "random_search.fit(X_train, y_train)\n",
    "\n",
    "# 검증 세트에 대한 예측 확률 계산\n",
    "y_val_probs = random_search.predict_proba(X_val)[:, 1]  # 클래스 1(양성 클래스)에 대한 확률 추출\n",
    "\n",
    "# ROC-AUC 점수 계산 및 출력\n",
    "roc_auc = roc_auc_score(y_val, y_val_probs)\n",
    "print(f'ROC-AUC 점수: {roc_auc:.4f}')\n",
    "\n",
    "# ROC 곡선 계산\n",
    "fpr, tpr, thresholds = roc_curve(y_val, y_val_probs)\n",
    "\n",
    "# ROC 곡선 그리기\n",
    "fig, ax = plt.subplots()\n",
    "ax.plot(fpr, tpr, color='blue', label=f'ROC Curve (AUC = {roc_auc:.4f})')\n",
    "ax.plot([0, 1], [0, 1], color='red', linestyle='--')  # 랜덤 추측선\n",
    "ax.set_xlabel('False Positive Rate (FPR)')  # 위양성 비율\n",
    "ax.set_ylabel('True Positive Rate (TPR)')  # 진양성 비율\n",
    "ax.set_title('ROC Curve')\n",
    "ax.legend(loc='lower right')\n",
    "\n",
    "# 그리드 제거\n",
    "ax.grid(False)\n",
    "\n",
    "# 검증 데이터에 대한 예측 값 생성\n",
    "y_val_preds = random_search.best_estimator_.predict(X_val)\n",
    "\n",
    "# 혼동 행렬 계산\n",
    "cm = confusion_matrix(y_val, y_val_preds)\n",
    "\n",
    "# ROC 곡선 안에 혼동 행렬 삽입\n",
    "ax_inset = inset_axes(ax, width=\"30%\", height=\"30%\", loc=\"center right\")  # 위치 조정 가능\n",
    "ConfusionMatrixDisplay(cm).plot(ax=ax_inset, colorbar=False)\n",
    "ax_inset.grid(False)  # 혼동 행렬에 그리드 제거\n",
    "ax_inset.set_title('Confusion Matrix')  # 작은 창에 제목 추가\n",
    "\n",
    "# 그래프 보여주기\n",
    "plt.show()\n",
    "\n",
    "# 테스트 데이터 예측 및 제출 파일 저장\n",
    "test = test.loc[:, categorical_cols + numerical_cols]\n",
    "now = datetime.now()\n",
    "\n",
    "# 테스트 데이터에 대한 예측 수행\n",
    "submission['loan_status'] = np.round(random_search.best_estimator_.predict_proba(test)[:, 1], 2)\n",
    "submission.to_csv(f'result_{now.strftime(\"%Y-%m-%d_%H-%M-%S\")}.csv', index=False)"
   ]
  },
  {
   "cell_type": "markdown",
   "id": "80e6fed0",
   "metadata": {
    "papermill": {
     "duration": 0.006185,
     "end_time": "2024-10-23T10:38:29.992147",
     "exception": false,
     "start_time": "2024-10-23T10:38:29.985962",
     "status": "completed"
    },
    "tags": []
   },
   "source": [
    "## 1. 나이, 재직기간만 삭제 시\n",
    "    - ROC-AUC 점수: 0.9056 (+0.0003)\n",
    "## 2. 가중치 음수인 변수 모두 제거 시\n",
    "    - ROC-AUC 점수: 0.8533 (-0.0517)\n",
    "## 3. 가중치 음수인 변수 하위 3개 제거 시\n",
    "    - ROC-AUC 점수: 0.9050 (-0.0003)\n",
    "## 4. 파생변수 대출금리/신용기간 추가 시\n",
    "    - ROC-AUC 점수: 0.9053 (+-0)\n",
    "## 5. 나이 범주화 변수 추가 시\n",
    "    - ROC-AUC 점수: 0.9057 (+0.0001)\n",
    "## 6. 나이 범주화 추가 및 재직기간 범주화 추가, 파생변수 1 제거\n",
    "    - ROC-AUC 점수: 0.9047 (-0.0010)\n",
    "\n",
    "\n",
    "             \n",
    "\n",
    "\n",
    "### 결론: \n",
    "나이, 재직기간은 실제로 통계학적으로 유의하지 않은 독립변수이다.   \n",
    "새로 만든 파생변수는 꽤 모델 설명에 도움이 되는 듯 하다.   \n",
    "**결론적으로, 파생변수를 더 만들어야한다!**   \n",
    "\n",
    "### 논리:\n",
    "나이와 재직기간은 유의하지 못하다.   \n",
    "차라리 범주화를 시켜서 세대별로, 사회초년생~베테랑 등으로 나눌 수 있다면 더 의미있는 결과가 나올 수 있을 것 같다.\n"
   ]
  }
 ],
 "metadata": {
  "kaggle": {
   "accelerator": "none",
   "dataSources": [
    {
     "databundleVersionId": 9709193,
     "sourceId": 84894,
     "sourceType": "competition"
    }
   ],
   "dockerImageVersionId": 30786,
   "isGpuEnabled": false,
   "isInternetEnabled": true,
   "language": "python",
   "sourceType": "notebook"
  },
  "kernelspec": {
   "display_name": "Python 3",
   "language": "python",
   "name": "python3"
  },
  "language_info": {
   "codemirror_mode": {
    "name": "ipython",
    "version": 3
   },
   "file_extension": ".py",
   "mimetype": "text/x-python",
   "name": "python",
   "nbconvert_exporter": "python",
   "pygments_lexer": "ipython3",
   "version": "3.10.14"
  },
  "papermill": {
   "default_parameters": {},
   "duration": 62.509739,
   "end_time": "2024-10-23T10:38:32.618463",
   "environment_variables": {},
   "exception": null,
   "input_path": "__notebook__.ipynb",
   "output_path": "__notebook__.ipynb",
   "parameters": {},
   "start_time": "2024-10-23T10:37:30.108724",
   "version": "2.6.0"
  }
 },
 "nbformat": 4,
 "nbformat_minor": 5
}
