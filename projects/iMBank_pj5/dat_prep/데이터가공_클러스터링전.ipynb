{
 "cells": [
  {
   "cell_type": "code",
   "execution_count": 4,
   "id": "a7acb397-594f-4a10-a9a5-213f9b43d32e",
   "metadata": {},
   "outputs": [],
   "source": [
    "# 경고 메시지 무시\n",
    "import warnings\n",
    "warnings.filterwarnings(\"ignore\")\n",
    "\n",
    "# 한글 폰트 설정 (Matplotlib에서 한글 깨짐 방지)\n",
    "import matplotlib.pyplot as plt\n",
    "\n",
    "plt.rc(\"font\", family=\"NanumGothic\")  # Windows 사용자의 경우\n",
    "\n",
    "# 마이너스 기호 깨짐 방지\n",
    "plt.rcParams[\"axes.unicode_minus\"] = False\n",
    "\n",
    "# 기본 라이브러리\n",
    "import polars as pl\n",
    "import pandas as pd\n",
    "import seaborn as sns\n",
    "import numpy as np\n",
    "\n",
    "# 시각화용 색상 팔레트\n",
    "color_palette = sns.color_palette(\"Set2\", as_cmap=False)"
   ]
  },
  {
   "cell_type": "markdown",
   "id": "034baf9f-793a-4592-b19c-e2570e45c013",
   "metadata": {},
   "source": [
    "# 상품집계_고객집계_클러스터링전 데이터 "
   ]
  },
  {
   "cell_type": "code",
   "execution_count": null,
   "id": "f6c2b15d-1b27-402f-8927-0dff8d20f46b",
   "metadata": {},
   "outputs": [],
   "source": [
    "CUSTOMER_SCORE = pl.read_csv(\"C:/Users/campus3S031/Desktop/iMBank/iM_DiGital_Banker_academy/projects/iMBank_pj5/data/CUSTOMER_SCORE_금리.csv\")"
   ]
  },
  {
   "cell_type": "code",
   "execution_count": 6,
   "id": "5fa7c617-d001-46ff-bdd5-5fe56882252b",
   "metadata": {},
   "outputs": [],
   "source": [
    "def aggregate_customer_data(df: pl.DataFrame) -> pl.DataFrame:\n",
    "    \"\"\"\n",
    "    고객 단위로 주요 금융 항목을 집계하여 요약 데이터를 생성합니다.\n",
    "\n",
    "    처리 내용:\n",
    "    1. '기준금리', '성별' 컬럼 제거\n",
    "    2. 고객ID 기준 그룹화 후 다음과 같이 집계:\n",
    "        - 입출금예금, 기타예금, 비이자상품, 카드, 대출, 총점수: 평균값\n",
    "        - 거래기간(개월), 연령대: 최대값\n",
    "        - 보유상품수:\n",
    "            - 최대_보유상품종류: 최대값\n",
    "            - 평균_보유상품종류: 평균값을 반올림 후 Int8 형으로 변환\n",
    "\n",
    "    Parameters:\n",
    "        df (pl.DataFrame): 원본 고객 월별 데이터\n",
    "\n",
    "    Returns:\n",
    "        pl.DataFrame: 고객ID 기준으로 집계된 요약 데이터프레임\n",
    "    \"\"\"\n",
    "    df_dropped = df.drop([\"기준금리\", \"성별\"])\n",
    "\n",
    "    df_agg = (\n",
    "        df_dropped\n",
    "        .group_by(\"고객ID\")\n",
    "        .agg([\n",
    "            pl.col(\"입출금예금\").mean().alias(\"평균_입출금예금\"),\n",
    "            pl.col(\"기타예금\").mean().alias(\"평균_기타예금\"),\n",
    "            pl.col(\"비이자상품\").mean().alias(\"평균_비이자상품\"),\n",
    "            pl.col(\"카드\").mean().alias(\"평균_카드\"),\n",
    "            pl.col(\"대출\").mean().alias(\"평균_대출\"),\n",
    "            pl.col(\"총점수\").mean().alias(\"평균_총점수\"),\n",
    "            pl.col(\"거래기간(개월)\").max().alias(\"거래기간(개월)\"),\n",
    "            pl.col(\"연령대\").max().alias(\"연령대\"),\n",
    "            pl.col(\"보유상품수\").max().alias(\"최대_보유상품종류\"),\n",
    "            pl.col(\"보유상품수\").mean().round(0).cast(pl.Int8).alias(\"평균_보유상품종류\"),\n",
    "            pl.col(\"고객등급\").max().alias(\"최대_고객등급\")\n",
    "        ])\n",
    "    )\n",
    "    return df_agg"
   ]
  },
  {
   "cell_type": "code",
   "execution_count": 7,
   "id": "8a35c90c-282e-42f1-a8be-fb45122cb065",
   "metadata": {},
   "outputs": [],
   "source": [
    "상품집계_고객집계_클러스터링전 = aggregate_customer_data(CUSTOMER_SCORE)"
   ]
  },
  {
   "cell_type": "code",
   "execution_count": 8,
   "id": "2dcffe38-eaf7-4876-9ffd-afccaf062919",
   "metadata": {},
   "outputs": [
    {
     "data": {
      "text/html": [
       "<div><style>\n",
       ".dataframe > thead > tr,\n",
       ".dataframe > tbody > tr {\n",
       "  text-align: right;\n",
       "  white-space: pre-wrap;\n",
       "}\n",
       "</style>\n",
       "<small>shape: (5, 12)</small><table border=\"1\" class=\"dataframe\"><thead><tr><th>고객ID</th><th>평균_입출금예금</th><th>평균_기타예금</th><th>평균_비이자상품</th><th>평균_카드</th><th>평균_대출</th><th>평균_총점수</th><th>거래기간(개월)</th><th>연령대</th><th>최대_보유상품종류</th><th>평균_보유상품종류</th><th>최대_고객등급</th></tr><tr><td>i64</td><td>f64</td><td>f64</td><td>f64</td><td>f64</td><td>f64</td><td>f64</td><td>i64</td><td>i64</td><td>i64</td><td>i8</td><td>str</td></tr></thead><tbody><tr><td>7152620614</td><td>7.0129e6</td><td>0.0</td><td>0.0</td><td>100000.0</td><td>0.0</td><td>608.0</td><td>31</td><td>50</td><td>2</td><td>1</td><td>&quot;일반등급&quot;</td></tr><tr><td>7413041802</td><td>3.6484e6</td><td>0.0</td><td>0.0</td><td>216451.612903</td><td>0.0</td><td>358.486022</td><td>31</td><td>50</td><td>2</td><td>2</td><td>&quot;일반등급&quot;</td></tr><tr><td>2864040708</td><td>325000.0</td><td>0.0</td><td>0.0</td><td>0.0</td><td>3.0929e7</td><td>12439.619048</td><td>28</td><td>50</td><td>2</td><td>2</td><td>&quot;일반등급&quot;</td></tr><tr><td>4862016971</td><td>2.0419e6</td><td>1.6894e7</td><td>0.0</td><td>0.0</td><td>0.0</td><td>813.075269</td><td>31</td><td>30</td><td>2</td><td>1</td><td>&quot;일반등급&quot;</td></tr><tr><td>6273376621</td><td>312903.225806</td><td>0.0</td><td>0.0</td><td>0.0</td><td>0.0</td><td>43.806452</td><td>31</td><td>60</td><td>1</td><td>1</td><td>&quot;일반등급&quot;</td></tr></tbody></table></div>"
      ],
      "text/plain": [
       "shape: (5, 12)\n",
       "┌────────────┬────────────┬───────────┬───────────┬───┬────────┬───────────┬───────────┬───────────┐\n",
       "│ 고객ID     ┆ 평균_입출  ┆ 평균_기타 ┆ 평균_비이 ┆ … ┆ 연령대 ┆ 최대_보유 ┆ 평균_보유 ┆ 최대_고객 │\n",
       "│ ---        ┆ 금예금     ┆ 예금      ┆ 자상품    ┆   ┆ ---    ┆ 상품종류  ┆ 상품종류  ┆ 등급      │\n",
       "│ i64        ┆ ---        ┆ ---       ┆ ---       ┆   ┆ i64    ┆ ---       ┆ ---       ┆ ---       │\n",
       "│            ┆ f64        ┆ f64       ┆ f64       ┆   ┆        ┆ i64       ┆ i8        ┆ str       │\n",
       "╞════════════╪════════════╪═══════════╪═══════════╪═══╪════════╪═══════════╪═══════════╪═══════════╡\n",
       "│ 7152620614 ┆ 7.0129e6   ┆ 0.0       ┆ 0.0       ┆ … ┆ 50     ┆ 2         ┆ 1         ┆ 일반등급  │\n",
       "│ 7413041802 ┆ 3.6484e6   ┆ 0.0       ┆ 0.0       ┆ … ┆ 50     ┆ 2         ┆ 2         ┆ 일반등급  │\n",
       "│ 2864040708 ┆ 325000.0   ┆ 0.0       ┆ 0.0       ┆ … ┆ 50     ┆ 2         ┆ 2         ┆ 일반등급  │\n",
       "│ 4862016971 ┆ 2.0419e6   ┆ 1.6894e7  ┆ 0.0       ┆ … ┆ 30     ┆ 2         ┆ 1         ┆ 일반등급  │\n",
       "│ 6273376621 ┆ 312903.225 ┆ 0.0       ┆ 0.0       ┆ … ┆ 60     ┆ 1         ┆ 1         ┆ 일반등급  │\n",
       "│            ┆ 806        ┆           ┆           ┆   ┆        ┆           ┆           ┆           │\n",
       "└────────────┴────────────┴───────────┴───────────┴───┴────────┴───────────┴───────────┴───────────┘"
      ]
     },
     "execution_count": 8,
     "metadata": {},
     "output_type": "execute_result"
    }
   ],
   "source": [
    "상품집계_고객집계_클러스터링전.head()"
   ]
  },
  {
   "cell_type": "code",
   "execution_count": 9,
   "id": "0550b087-e401-4f65-9c5e-6ed9315e12bc",
   "metadata": {},
   "outputs": [],
   "source": [
    "#상품집계_고객집계_클러스터링전.write_csv('./dataset/상품집계_고객집계_클러스터링전.csv')"
   ]
  },
  {
   "cell_type": "markdown",
   "id": "66f7e5bf-9781-406c-99ae-fdcee94e75d0",
   "metadata": {},
   "source": [
    "# 상품전체_고객집계_클러스터링전\n",
    "- 코드 상 21년도만 실행, 22, 23년도는 같은 방식으로 진행\n",
    "- 3개년도 전처리 후, concat하여 상품전체_고객집계_클러스터링전.csv 생성"
   ]
  },
  {
   "cell_type": "code",
   "execution_count": 10,
   "id": "532d7524-d55b-44dd-8b73-e7f3917d2f5f",
   "metadata": {},
   "outputs": [
    {
     "ename": "FileNotFoundError",
     "evalue": "지정된 경로를 찾을 수 없습니다. (os error 3): ./dataset/CUSTOMER_21_N.csv",
     "output_type": "error",
     "traceback": [
      "\u001b[1;31m---------------------------------------------------------------------------\u001b[0m",
      "\u001b[1;31mFileNotFoundError\u001b[0m                         Traceback (most recent call last)",
      "Cell \u001b[1;32mIn[10], line 1\u001b[0m\n\u001b[1;32m----> 1\u001b[0m CUSTOMER_21_N \u001b[38;5;241m=\u001b[39m \u001b[43mpl\u001b[49m\u001b[38;5;241;43m.\u001b[39;49m\u001b[43mread_csv\u001b[49m\u001b[43m(\u001b[49m\u001b[38;5;124;43m'\u001b[39;49m\u001b[38;5;124;43m./dataset/CUSTOMER_21_N.csv\u001b[39;49m\u001b[38;5;124;43m'\u001b[39;49m\u001b[43m)\u001b[49m\n\u001b[0;32m      2\u001b[0m \u001b[38;5;66;03m# CUSTOMER_22_N = pl.read_csv('./dataset/CUSTOMER_22_N.csv')\u001b[39;00m\n\u001b[0;32m      3\u001b[0m \u001b[38;5;66;03m# CUSTOMER_23_N = pl.read_csv('./dataset/CUSTOMER_23_N.csv')\u001b[39;00m\n",
      "File \u001b[1;32mc:\\Users\\campus3S031\\Desktop\\iMBank\\iM_DiGital_Banker_academy\\venv\\Lib\\site-packages\\polars\\_utils\\deprecation.py:92\u001b[0m, in \u001b[0;36mdeprecate_renamed_parameter.<locals>.decorate.<locals>.wrapper\u001b[1;34m(*args, **kwargs)\u001b[0m\n\u001b[0;32m     87\u001b[0m \u001b[38;5;129m@wraps\u001b[39m(function)\n\u001b[0;32m     88\u001b[0m \u001b[38;5;28;01mdef\u001b[39;00m \u001b[38;5;21mwrapper\u001b[39m(\u001b[38;5;241m*\u001b[39margs: P\u001b[38;5;241m.\u001b[39margs, \u001b[38;5;241m*\u001b[39m\u001b[38;5;241m*\u001b[39mkwargs: P\u001b[38;5;241m.\u001b[39mkwargs) \u001b[38;5;241m-\u001b[39m\u001b[38;5;241m>\u001b[39m T:\n\u001b[0;32m     89\u001b[0m     _rename_keyword_argument(\n\u001b[0;32m     90\u001b[0m         old_name, new_name, kwargs, function\u001b[38;5;241m.\u001b[39m\u001b[38;5;18m__qualname__\u001b[39m, version\n\u001b[0;32m     91\u001b[0m     )\n\u001b[1;32m---> 92\u001b[0m     \u001b[38;5;28;01mreturn\u001b[39;00m \u001b[43mfunction\u001b[49m\u001b[43m(\u001b[49m\u001b[38;5;241;43m*\u001b[39;49m\u001b[43margs\u001b[49m\u001b[43m,\u001b[49m\u001b[43m \u001b[49m\u001b[38;5;241;43m*\u001b[39;49m\u001b[38;5;241;43m*\u001b[39;49m\u001b[43mkwargs\u001b[49m\u001b[43m)\u001b[49m\n",
      "File \u001b[1;32mc:\\Users\\campus3S031\\Desktop\\iMBank\\iM_DiGital_Banker_academy\\venv\\Lib\\site-packages\\polars\\_utils\\deprecation.py:92\u001b[0m, in \u001b[0;36mdeprecate_renamed_parameter.<locals>.decorate.<locals>.wrapper\u001b[1;34m(*args, **kwargs)\u001b[0m\n\u001b[0;32m     87\u001b[0m \u001b[38;5;129m@wraps\u001b[39m(function)\n\u001b[0;32m     88\u001b[0m \u001b[38;5;28;01mdef\u001b[39;00m \u001b[38;5;21mwrapper\u001b[39m(\u001b[38;5;241m*\u001b[39margs: P\u001b[38;5;241m.\u001b[39margs, \u001b[38;5;241m*\u001b[39m\u001b[38;5;241m*\u001b[39mkwargs: P\u001b[38;5;241m.\u001b[39mkwargs) \u001b[38;5;241m-\u001b[39m\u001b[38;5;241m>\u001b[39m T:\n\u001b[0;32m     89\u001b[0m     _rename_keyword_argument(\n\u001b[0;32m     90\u001b[0m         old_name, new_name, kwargs, function\u001b[38;5;241m.\u001b[39m\u001b[38;5;18m__qualname__\u001b[39m, version\n\u001b[0;32m     91\u001b[0m     )\n\u001b[1;32m---> 92\u001b[0m     \u001b[38;5;28;01mreturn\u001b[39;00m \u001b[43mfunction\u001b[49m\u001b[43m(\u001b[49m\u001b[38;5;241;43m*\u001b[39;49m\u001b[43margs\u001b[49m\u001b[43m,\u001b[49m\u001b[43m \u001b[49m\u001b[38;5;241;43m*\u001b[39;49m\u001b[38;5;241;43m*\u001b[39;49m\u001b[43mkwargs\u001b[49m\u001b[43m)\u001b[49m\n",
      "File \u001b[1;32mc:\\Users\\campus3S031\\Desktop\\iMBank\\iM_DiGital_Banker_academy\\venv\\Lib\\site-packages\\polars\\_utils\\deprecation.py:92\u001b[0m, in \u001b[0;36mdeprecate_renamed_parameter.<locals>.decorate.<locals>.wrapper\u001b[1;34m(*args, **kwargs)\u001b[0m\n\u001b[0;32m     87\u001b[0m \u001b[38;5;129m@wraps\u001b[39m(function)\n\u001b[0;32m     88\u001b[0m \u001b[38;5;28;01mdef\u001b[39;00m \u001b[38;5;21mwrapper\u001b[39m(\u001b[38;5;241m*\u001b[39margs: P\u001b[38;5;241m.\u001b[39margs, \u001b[38;5;241m*\u001b[39m\u001b[38;5;241m*\u001b[39mkwargs: P\u001b[38;5;241m.\u001b[39mkwargs) \u001b[38;5;241m-\u001b[39m\u001b[38;5;241m>\u001b[39m T:\n\u001b[0;32m     89\u001b[0m     _rename_keyword_argument(\n\u001b[0;32m     90\u001b[0m         old_name, new_name, kwargs, function\u001b[38;5;241m.\u001b[39m\u001b[38;5;18m__qualname__\u001b[39m, version\n\u001b[0;32m     91\u001b[0m     )\n\u001b[1;32m---> 92\u001b[0m     \u001b[38;5;28;01mreturn\u001b[39;00m \u001b[43mfunction\u001b[49m\u001b[43m(\u001b[49m\u001b[38;5;241;43m*\u001b[39;49m\u001b[43margs\u001b[49m\u001b[43m,\u001b[49m\u001b[43m \u001b[49m\u001b[38;5;241;43m*\u001b[39;49m\u001b[38;5;241;43m*\u001b[39;49m\u001b[43mkwargs\u001b[49m\u001b[43m)\u001b[49m\n",
      "File \u001b[1;32mc:\\Users\\campus3S031\\Desktop\\iMBank\\iM_DiGital_Banker_academy\\venv\\Lib\\site-packages\\polars\\io\\csv\\functions.py:527\u001b[0m, in \u001b[0;36mread_csv\u001b[1;34m(source, has_header, columns, new_columns, separator, comment_prefix, quote_char, skip_rows, schema, schema_overrides, null_values, missing_utf8_is_empty_string, ignore_errors, try_parse_dates, n_threads, infer_schema, infer_schema_length, batch_size, n_rows, encoding, low_memory, rechunk, use_pyarrow, storage_options, skip_rows_after_header, row_index_name, row_index_offset, sample_size, eol_char, raise_if_empty, truncate_ragged_lines, decimal_comma, glob)\u001b[0m\n\u001b[0;32m    519\u001b[0m \u001b[38;5;28;01melse\u001b[39;00m:\n\u001b[0;32m    520\u001b[0m     \u001b[38;5;28;01mwith\u001b[39;00m prepare_file_arg(\n\u001b[0;32m    521\u001b[0m         source,\n\u001b[0;32m    522\u001b[0m         encoding\u001b[38;5;241m=\u001b[39mencoding,\n\u001b[1;32m   (...)\u001b[0m\n\u001b[0;32m    525\u001b[0m         storage_options\u001b[38;5;241m=\u001b[39mstorage_options,\n\u001b[0;32m    526\u001b[0m     ) \u001b[38;5;28;01mas\u001b[39;00m data:\n\u001b[1;32m--> 527\u001b[0m         df \u001b[38;5;241m=\u001b[39m \u001b[43m_read_csv_impl\u001b[49m\u001b[43m(\u001b[49m\n\u001b[0;32m    528\u001b[0m \u001b[43m            \u001b[49m\u001b[43mdata\u001b[49m\u001b[43m,\u001b[49m\n\u001b[0;32m    529\u001b[0m \u001b[43m            \u001b[49m\u001b[43mhas_header\u001b[49m\u001b[38;5;241;43m=\u001b[39;49m\u001b[43mhas_header\u001b[49m\u001b[43m,\u001b[49m\n\u001b[0;32m    530\u001b[0m \u001b[43m            \u001b[49m\u001b[43mcolumns\u001b[49m\u001b[38;5;241;43m=\u001b[39;49m\u001b[43mcolumns\u001b[49m\u001b[43m \u001b[49m\u001b[38;5;28;43;01mif\u001b[39;49;00m\u001b[43m \u001b[49m\u001b[43mcolumns\u001b[49m\u001b[43m \u001b[49m\u001b[38;5;28;43;01melse\u001b[39;49;00m\u001b[43m \u001b[49m\u001b[43mprojection\u001b[49m\u001b[43m,\u001b[49m\n\u001b[0;32m    531\u001b[0m \u001b[43m            \u001b[49m\u001b[43mseparator\u001b[49m\u001b[38;5;241;43m=\u001b[39;49m\u001b[43mseparator\u001b[49m\u001b[43m,\u001b[49m\n\u001b[0;32m    532\u001b[0m \u001b[43m            \u001b[49m\u001b[43mcomment_prefix\u001b[49m\u001b[38;5;241;43m=\u001b[39;49m\u001b[43mcomment_prefix\u001b[49m\u001b[43m,\u001b[49m\n\u001b[0;32m    533\u001b[0m \u001b[43m            \u001b[49m\u001b[43mquote_char\u001b[49m\u001b[38;5;241;43m=\u001b[39;49m\u001b[43mquote_char\u001b[49m\u001b[43m,\u001b[49m\n\u001b[0;32m    534\u001b[0m \u001b[43m            \u001b[49m\u001b[43mskip_rows\u001b[49m\u001b[38;5;241;43m=\u001b[39;49m\u001b[43mskip_rows\u001b[49m\u001b[43m,\u001b[49m\n\u001b[0;32m    535\u001b[0m \u001b[43m            \u001b[49m\u001b[43mschema_overrides\u001b[49m\u001b[38;5;241;43m=\u001b[39;49m\u001b[43mschema_overrides\u001b[49m\u001b[43m,\u001b[49m\n\u001b[0;32m    536\u001b[0m \u001b[43m            \u001b[49m\u001b[43mschema\u001b[49m\u001b[38;5;241;43m=\u001b[39;49m\u001b[43mschema\u001b[49m\u001b[43m,\u001b[49m\n\u001b[0;32m    537\u001b[0m \u001b[43m            \u001b[49m\u001b[43mnull_values\u001b[49m\u001b[38;5;241;43m=\u001b[39;49m\u001b[43mnull_values\u001b[49m\u001b[43m,\u001b[49m\n\u001b[0;32m    538\u001b[0m \u001b[43m            \u001b[49m\u001b[43mmissing_utf8_is_empty_string\u001b[49m\u001b[38;5;241;43m=\u001b[39;49m\u001b[43mmissing_utf8_is_empty_string\u001b[49m\u001b[43m,\u001b[49m\n\u001b[0;32m    539\u001b[0m \u001b[43m            \u001b[49m\u001b[43mignore_errors\u001b[49m\u001b[38;5;241;43m=\u001b[39;49m\u001b[43mignore_errors\u001b[49m\u001b[43m,\u001b[49m\n\u001b[0;32m    540\u001b[0m \u001b[43m            \u001b[49m\u001b[43mtry_parse_dates\u001b[49m\u001b[38;5;241;43m=\u001b[39;49m\u001b[43mtry_parse_dates\u001b[49m\u001b[43m,\u001b[49m\n\u001b[0;32m    541\u001b[0m \u001b[43m            \u001b[49m\u001b[43mn_threads\u001b[49m\u001b[38;5;241;43m=\u001b[39;49m\u001b[43mn_threads\u001b[49m\u001b[43m,\u001b[49m\n\u001b[0;32m    542\u001b[0m \u001b[43m            \u001b[49m\u001b[43minfer_schema_length\u001b[49m\u001b[38;5;241;43m=\u001b[39;49m\u001b[43minfer_schema_length\u001b[49m\u001b[43m,\u001b[49m\n\u001b[0;32m    543\u001b[0m \u001b[43m            \u001b[49m\u001b[43mbatch_size\u001b[49m\u001b[38;5;241;43m=\u001b[39;49m\u001b[43mbatch_size\u001b[49m\u001b[43m,\u001b[49m\n\u001b[0;32m    544\u001b[0m \u001b[43m            \u001b[49m\u001b[43mn_rows\u001b[49m\u001b[38;5;241;43m=\u001b[39;49m\u001b[43mn_rows\u001b[49m\u001b[43m,\u001b[49m\n\u001b[0;32m    545\u001b[0m \u001b[43m            \u001b[49m\u001b[43mencoding\u001b[49m\u001b[38;5;241;43m=\u001b[39;49m\u001b[43mencoding\u001b[49m\u001b[43m \u001b[49m\u001b[38;5;28;43;01mif\u001b[39;49;00m\u001b[43m \u001b[49m\u001b[43mencoding\u001b[49m\u001b[43m \u001b[49m\u001b[38;5;241;43m==\u001b[39;49m\u001b[43m \u001b[49m\u001b[38;5;124;43m\"\u001b[39;49m\u001b[38;5;124;43mutf8-lossy\u001b[39;49m\u001b[38;5;124;43m\"\u001b[39;49m\u001b[43m \u001b[49m\u001b[38;5;28;43;01melse\u001b[39;49;00m\u001b[43m \u001b[49m\u001b[38;5;124;43m\"\u001b[39;49m\u001b[38;5;124;43mutf8\u001b[39;49m\u001b[38;5;124;43m\"\u001b[39;49m\u001b[43m,\u001b[49m\n\u001b[0;32m    546\u001b[0m \u001b[43m            \u001b[49m\u001b[43mlow_memory\u001b[49m\u001b[38;5;241;43m=\u001b[39;49m\u001b[43mlow_memory\u001b[49m\u001b[43m,\u001b[49m\n\u001b[0;32m    547\u001b[0m \u001b[43m            \u001b[49m\u001b[43mrechunk\u001b[49m\u001b[38;5;241;43m=\u001b[39;49m\u001b[43mrechunk\u001b[49m\u001b[43m,\u001b[49m\n\u001b[0;32m    548\u001b[0m \u001b[43m            \u001b[49m\u001b[43mskip_rows_after_header\u001b[49m\u001b[38;5;241;43m=\u001b[39;49m\u001b[43mskip_rows_after_header\u001b[49m\u001b[43m,\u001b[49m\n\u001b[0;32m    549\u001b[0m \u001b[43m            \u001b[49m\u001b[43mrow_index_name\u001b[49m\u001b[38;5;241;43m=\u001b[39;49m\u001b[43mrow_index_name\u001b[49m\u001b[43m,\u001b[49m\n\u001b[0;32m    550\u001b[0m \u001b[43m            \u001b[49m\u001b[43mrow_index_offset\u001b[49m\u001b[38;5;241;43m=\u001b[39;49m\u001b[43mrow_index_offset\u001b[49m\u001b[43m,\u001b[49m\n\u001b[0;32m    551\u001b[0m \u001b[43m            \u001b[49m\u001b[43meol_char\u001b[49m\u001b[38;5;241;43m=\u001b[39;49m\u001b[43meol_char\u001b[49m\u001b[43m,\u001b[49m\n\u001b[0;32m    552\u001b[0m \u001b[43m            \u001b[49m\u001b[43mraise_if_empty\u001b[49m\u001b[38;5;241;43m=\u001b[39;49m\u001b[43mraise_if_empty\u001b[49m\u001b[43m,\u001b[49m\n\u001b[0;32m    553\u001b[0m \u001b[43m            \u001b[49m\u001b[43mtruncate_ragged_lines\u001b[49m\u001b[38;5;241;43m=\u001b[39;49m\u001b[43mtruncate_ragged_lines\u001b[49m\u001b[43m,\u001b[49m\n\u001b[0;32m    554\u001b[0m \u001b[43m            \u001b[49m\u001b[43mdecimal_comma\u001b[49m\u001b[38;5;241;43m=\u001b[39;49m\u001b[43mdecimal_comma\u001b[49m\u001b[43m,\u001b[49m\n\u001b[0;32m    555\u001b[0m \u001b[43m            \u001b[49m\u001b[43mglob\u001b[49m\u001b[38;5;241;43m=\u001b[39;49m\u001b[43mglob\u001b[49m\u001b[43m,\u001b[49m\n\u001b[0;32m    556\u001b[0m \u001b[43m        \u001b[49m\u001b[43m)\u001b[49m\n\u001b[0;32m    558\u001b[0m \u001b[38;5;28;01mif\u001b[39;00m new_columns:\n\u001b[0;32m    559\u001b[0m     \u001b[38;5;28;01mreturn\u001b[39;00m _update_columns(df, new_columns)\n",
      "File \u001b[1;32mc:\\Users\\campus3S031\\Desktop\\iMBank\\iM_DiGital_Banker_academy\\venv\\Lib\\site-packages\\polars\\io\\csv\\functions.py:672\u001b[0m, in \u001b[0;36m_read_csv_impl\u001b[1;34m(source, has_header, columns, separator, comment_prefix, quote_char, skip_rows, schema, schema_overrides, null_values, missing_utf8_is_empty_string, ignore_errors, try_parse_dates, n_threads, infer_schema_length, batch_size, n_rows, encoding, low_memory, rechunk, skip_rows_after_header, row_index_name, row_index_offset, sample_size, eol_char, raise_if_empty, truncate_ragged_lines, decimal_comma, glob)\u001b[0m\n\u001b[0;32m    668\u001b[0m         \u001b[38;5;28;01mraise\u001b[39;00m \u001b[38;5;167;01mValueError\u001b[39;00m(msg)\n\u001b[0;32m    670\u001b[0m projection, columns \u001b[38;5;241m=\u001b[39m parse_columns_arg(columns)\n\u001b[1;32m--> 672\u001b[0m pydf \u001b[38;5;241m=\u001b[39m \u001b[43mPyDataFrame\u001b[49m\u001b[38;5;241;43m.\u001b[39;49m\u001b[43mread_csv\u001b[49m\u001b[43m(\u001b[49m\n\u001b[0;32m    673\u001b[0m \u001b[43m    \u001b[49m\u001b[43msource\u001b[49m\u001b[43m,\u001b[49m\n\u001b[0;32m    674\u001b[0m \u001b[43m    \u001b[49m\u001b[43minfer_schema_length\u001b[49m\u001b[43m,\u001b[49m\n\u001b[0;32m    675\u001b[0m \u001b[43m    \u001b[49m\u001b[43mbatch_size\u001b[49m\u001b[43m,\u001b[49m\n\u001b[0;32m    676\u001b[0m \u001b[43m    \u001b[49m\u001b[43mhas_header\u001b[49m\u001b[43m,\u001b[49m\n\u001b[0;32m    677\u001b[0m \u001b[43m    \u001b[49m\u001b[43mignore_errors\u001b[49m\u001b[43m,\u001b[49m\n\u001b[0;32m    678\u001b[0m \u001b[43m    \u001b[49m\u001b[43mn_rows\u001b[49m\u001b[43m,\u001b[49m\n\u001b[0;32m    679\u001b[0m \u001b[43m    \u001b[49m\u001b[43mskip_rows\u001b[49m\u001b[43m,\u001b[49m\n\u001b[0;32m    680\u001b[0m \u001b[43m    \u001b[49m\u001b[43mprojection\u001b[49m\u001b[43m,\u001b[49m\n\u001b[0;32m    681\u001b[0m \u001b[43m    \u001b[49m\u001b[43mseparator\u001b[49m\u001b[43m,\u001b[49m\n\u001b[0;32m    682\u001b[0m \u001b[43m    \u001b[49m\u001b[43mrechunk\u001b[49m\u001b[43m,\u001b[49m\n\u001b[0;32m    683\u001b[0m \u001b[43m    \u001b[49m\u001b[43mcolumns\u001b[49m\u001b[43m,\u001b[49m\n\u001b[0;32m    684\u001b[0m \u001b[43m    \u001b[49m\u001b[43mencoding\u001b[49m\u001b[43m,\u001b[49m\n\u001b[0;32m    685\u001b[0m \u001b[43m    \u001b[49m\u001b[43mn_threads\u001b[49m\u001b[43m,\u001b[49m\n\u001b[0;32m    686\u001b[0m \u001b[43m    \u001b[49m\u001b[43mpath\u001b[49m\u001b[43m,\u001b[49m\n\u001b[0;32m    687\u001b[0m \u001b[43m    \u001b[49m\u001b[43mdtype_list\u001b[49m\u001b[43m,\u001b[49m\n\u001b[0;32m    688\u001b[0m \u001b[43m    \u001b[49m\u001b[43mdtype_slice\u001b[49m\u001b[43m,\u001b[49m\n\u001b[0;32m    689\u001b[0m \u001b[43m    \u001b[49m\u001b[43mlow_memory\u001b[49m\u001b[43m,\u001b[49m\n\u001b[0;32m    690\u001b[0m \u001b[43m    \u001b[49m\u001b[43mcomment_prefix\u001b[49m\u001b[43m,\u001b[49m\n\u001b[0;32m    691\u001b[0m \u001b[43m    \u001b[49m\u001b[43mquote_char\u001b[49m\u001b[43m,\u001b[49m\n\u001b[0;32m    692\u001b[0m \u001b[43m    \u001b[49m\u001b[43mprocessed_null_values\u001b[49m\u001b[43m,\u001b[49m\n\u001b[0;32m    693\u001b[0m \u001b[43m    \u001b[49m\u001b[43mmissing_utf8_is_empty_string\u001b[49m\u001b[43m,\u001b[49m\n\u001b[0;32m    694\u001b[0m \u001b[43m    \u001b[49m\u001b[43mtry_parse_dates\u001b[49m\u001b[43m,\u001b[49m\n\u001b[0;32m    695\u001b[0m \u001b[43m    \u001b[49m\u001b[43mskip_rows_after_header\u001b[49m\u001b[43m,\u001b[49m\n\u001b[0;32m    696\u001b[0m \u001b[43m    \u001b[49m\u001b[43mparse_row_index_args\u001b[49m\u001b[43m(\u001b[49m\u001b[43mrow_index_name\u001b[49m\u001b[43m,\u001b[49m\u001b[43m \u001b[49m\u001b[43mrow_index_offset\u001b[49m\u001b[43m)\u001b[49m\u001b[43m,\u001b[49m\n\u001b[0;32m    697\u001b[0m \u001b[43m    \u001b[49m\u001b[43meol_char\u001b[49m\u001b[38;5;241;43m=\u001b[39;49m\u001b[43meol_char\u001b[49m\u001b[43m,\u001b[49m\n\u001b[0;32m    698\u001b[0m \u001b[43m    \u001b[49m\u001b[43mraise_if_empty\u001b[49m\u001b[38;5;241;43m=\u001b[39;49m\u001b[43mraise_if_empty\u001b[49m\u001b[43m,\u001b[49m\n\u001b[0;32m    699\u001b[0m \u001b[43m    \u001b[49m\u001b[43mtruncate_ragged_lines\u001b[49m\u001b[38;5;241;43m=\u001b[39;49m\u001b[43mtruncate_ragged_lines\u001b[49m\u001b[43m,\u001b[49m\n\u001b[0;32m    700\u001b[0m \u001b[43m    \u001b[49m\u001b[43mdecimal_comma\u001b[49m\u001b[38;5;241;43m=\u001b[39;49m\u001b[43mdecimal_comma\u001b[49m\u001b[43m,\u001b[49m\n\u001b[0;32m    701\u001b[0m \u001b[43m    \u001b[49m\u001b[43mschema\u001b[49m\u001b[38;5;241;43m=\u001b[39;49m\u001b[43mschema\u001b[49m\u001b[43m,\u001b[49m\n\u001b[0;32m    702\u001b[0m \u001b[43m\u001b[49m\u001b[43m)\u001b[49m\n\u001b[0;32m    703\u001b[0m \u001b[38;5;28;01mreturn\u001b[39;00m wrap_df(pydf)\n",
      "\u001b[1;31mFileNotFoundError\u001b[0m: 지정된 경로를 찾을 수 없습니다. (os error 3): ./dataset/CUSTOMER_21_N.csv"
     ]
    }
   ],
   "source": [
    "#CUSTOMER_21_N = pl.read_csv('./dataset/CUSTOMER_21_N.csv')\n",
    "# CUSTOMER_22_N = pl.read_csv('./dataset/CUSTOMER_22_N.csv')\n",
    "# CUSTOMER_23_N = pl.read_csv('./dataset/CUSTOMER_23_N.csv')"
   ]
  },
  {
   "cell_type": "code",
   "execution_count": 23,
   "id": "5fed32cb-405b-4332-ac23-9ce91ddc117d",
   "metadata": {},
   "outputs": [],
   "source": [
    "def aggregate_customer_data_all(df: pl.DataFrame) -> pl.DataFrame:\n",
    "    \"\"\"\n",
    "    고객 단위로 주요 금융 항목을 집계하여 요약 데이터를 생성합니다.\n",
    "\n",
    "    처리 내용:\n",
    "    1. '기준금리', '성별' 컬럼 제거\n",
    "    2. 고객ID 기준 그룹화 후 다음과 같이 집계:\n",
    "        - 입출금예금, 기타예금, 비이자상품, 카드, 대출, 총점수: 평균값\n",
    "        - 거래기간(개월), 연령대: 최대값\n",
    "        - 보유상품수:\n",
    "            - 최대_보유상품종류: 최대값\n",
    "            - 평균_보유상품종류: 평균값을 반올림 후 Int8 형으로 변환\n",
    "\n",
    "    Parameters:\n",
    "        df (pl.DataFrame): 원본 고객 월별 데이터\n",
    "\n",
    "    Returns:\n",
    "        pl.DataFrame: 고객ID 기준으로 집계된 요약 데이터프레임\n",
    "    \"\"\"\n",
    "\n",
    "    df_agg = (\n",
    "        df\n",
    "        .group_by(\"고객ID\")\n",
    "        .agg([\n",
    "            pl.col(\"수신_요구불예금\").mean().alias(\"평균_수신_요구불금예금\"),\n",
    "            pl.col(\"수신_거치식예금\").mean().alias(\"평균_수신_거치식예금\"),\n",
    "            pl.col(\"수신_적립식예금\").mean().alias(\"평균_수신_적립식예금\"),\n",
    "            pl.col(\"수신_펀드\").mean().alias(\"평균_수신_펀드\"),\n",
    "            pl.col(\"수신_외화예금\").mean().alias(\"평균_수신_외화예금\"),\n",
    "            pl.col(\"대출금액\").mean().alias(\"평균_대출금액\"),\n",
    "            pl.col(\"카드_사용횟수\").mean().alias(\"평균_카드_사용횟수\"),\n",
    "            pl.col(\"카드_승인금액\").mean().alias(\"평균_카드_승인금액\"),\n",
    "            pl.col(\"카드_사용여부\").mean().alias(\"평균_카드_사용여부\"),\n",
    "            pl.col(\"연령대\").max().alias(\"연령대\"),\n",
    "            pl.col(\"고객등급\").max().alias(\"최대_고객등급\"),\n",
    "            # 클러스터 관련 컬럼 (대표값으로 유지)\n",
    "            #pl.col(\"KMeans_DB_KneeLocato_2030\").first().alias(\"KMeans_DB_KneeLocato_2030\"),\n",
    "            #pl.col(\"중분류\").first().alias(\"중분류\")\n",
    "        ])\n",
    "    )\n",
    "    return df_agg"
   ]
  },
  {
   "cell_type": "code",
   "execution_count": 24,
   "id": "12690a19-26e3-4643-a472-56d73a73784b",
   "metadata": {},
   "outputs": [],
   "source": [
    "# CUSTOMER_21_N_고객집계 = aggregate_customer_data_all(CUSTOMER_21_N)\n",
    "# CUSTOMER_22_N_고객집계 = aggregate_customer_data_all(CUSTOMER_22_N)\n",
    "# CUSTOMER_23_N_고객집계 = aggregate_customer_data_all(CUSTOMER_23_N)"
   ]
  },
  {
   "cell_type": "code",
   "execution_count": null,
   "id": "f6d65aa5-4e57-4c38-b07e-6ac4e7ac9053",
   "metadata": {},
   "outputs": [],
   "source": [
    "# 상품전체_고객집계_클러스터링전 = pl.concat([CUSTOMER_21_N_고객집계, CUSTOMER_22_N_고객집계, CUSTOMER_23_N_고객집계], how=\"vertical\")"
   ]
  },
  {
   "cell_type": "code",
   "execution_count": null,
   "id": "c9c1bcfd-e6d1-42cf-92b6-b2268d625de9",
   "metadata": {},
   "outputs": [],
   "source": [
    "# 상품전체_고객집계_클러스터링전.write_csv('./dataset/상품전체_고객집계_클러스터링전.csv')"
   ]
  }
 ],
 "metadata": {
  "kernelspec": {
   "display_name": "venv",
   "language": "python",
   "name": "python3"
  },
  "language_info": {
   "codemirror_mode": {
    "name": "ipython",
    "version": 3
   },
   "file_extension": ".py",
   "mimetype": "text/x-python",
   "name": "python",
   "nbconvert_exporter": "python",
   "pygments_lexer": "ipython3",
   "version": "3.12.7"
  }
 },
 "nbformat": 4,
 "nbformat_minor": 5
}
