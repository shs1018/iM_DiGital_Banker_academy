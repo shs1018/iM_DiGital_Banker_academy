{
 "cells": [
  {
   "cell_type": "code",
   "execution_count": 1,
   "id": "a7acb397-594f-4a10-a9a5-213f9b43d32e",
   "metadata": {},
   "outputs": [],
   "source": [
    "# 경고 메시지 무시\n",
    "import warnings\n",
    "warnings.filterwarnings(\"ignore\")\n",
    "\n",
    "# 한글 폰트 설정 (Matplotlib에서 한글 깨짐 방지)\n",
    "import matplotlib.pyplot as plt\n",
    "\n",
    "plt.rc(\"font\", family=\"NanumGothic\")  # Windows 사용자의 경우\n",
    "\n",
    "# 마이너스 기호 깨짐 방지\n",
    "plt.rcParams[\"axes.unicode_minus\"] = False\n",
    "\n",
    "# 기본 라이브러리\n",
    "import polars as pl\n",
    "import pandas as pd\n",
    "import seaborn as sns\n",
    "import numpy as np\n",
    "\n",
    "# 시각화용 색상 팔레트\n",
    "color_palette = sns.color_palette(\"Set2\", as_cmap=False)"
   ]
  },
  {
   "cell_type": "code",
   "execution_count": 2,
   "id": "f6c2b15d-1b27-402f-8927-0dff8d20f46b",
   "metadata": {},
   "outputs": [],
   "source": [
    "CUSTOMER_N_2030_9 = pl.read_csv('./dataset/CUSTOMER_N_2030_9_중분류.csv')"
   ]
  },
  {
   "cell_type": "code",
   "execution_count": 3,
   "id": "b6750376-10c9-45a0-9945-d79dfbfb8c79",
   "metadata": {},
   "outputs": [],
   "source": [
    "CUSTOMER_SCORE_금리_9_2030_중분류 = pl.read_csv('./dataset/CUSTOMER_SCORE_금리_9_2030_중분류.csv')"
   ]
  },
  {
   "cell_type": "code",
   "execution_count": 4,
   "id": "5da1cdc8-edf2-4ba6-9ee7-969b8d290ec0",
   "metadata": {},
   "outputs": [],
   "source": [
    "분류_4 = pl.read_csv('./dataset/20250317.csv')"
   ]
  },
  {
   "cell_type": "code",
   "execution_count": 5,
   "id": "bf993c37-ac57-4260-9b1c-f766e1161c77",
   "metadata": {},
   "outputs": [],
   "source": [
    "중분류_id = 분류_4[['고객ID', '중분류']]"
   ]
  },
  {
   "cell_type": "code",
   "execution_count": 6,
   "id": "0c3dcd3c-9852-47d4-8cdf-a80a3e2e959e",
   "metadata": {},
   "outputs": [],
   "source": [
    "# print(CUSTOMER_SCORE_금리_9_2030_중분류_agg.shape[0])\n",
    "# print(len(CUSTOMER_SCORE_금리_9_2030_중분류_agg['고객ID']))\n",
    "# print(분류_4.shape[0])\n",
    "# print(len(분류_4['고객ID']))\n",
    "# print(중분류_id.shape[0])\n",
    "# print(len(중분류_id['고객ID']))"
   ]
  },
  {
   "cell_type": "code",
   "execution_count": 7,
   "id": "22db11c7-4f32-4fc6-94de-a90411d70870",
   "metadata": {},
   "outputs": [],
   "source": [
    "# df_joined_inner = (\n",
    "#     CUSTOMER_SCORE_금리_9_2030_중분류_agg\n",
    "#     .join(\n",
    "#         중분류_id.select([\"고객ID\", \"중분류\"]).unique(),\n",
    "#         on=\"고객ID\",\n",
    "#         how=\"inner\"\n",
    "#     )\n",
    "# )"
   ]
  },
  {
   "cell_type": "code",
   "execution_count": 8,
   "id": "137b91c7-b365-41d7-829e-831b6548bc2a",
   "metadata": {},
   "outputs": [],
   "source": [
    "def aggregate_customer_data(df: pl.DataFrame) -> pl.DataFrame:\n",
    "    \"\"\"\n",
    "    고객 단위로 주요 금융 항목을 집계하여 요약 데이터를 생성합니다.\n",
    "\n",
    "    처리 내용:\n",
    "    1. '기준금리', '성별' 컬럼 제거\n",
    "    2. 고객ID 기준 그룹화 후 다음과 같이 집계:\n",
    "        - 입출금예금, 기타예금, 비이자상품, 카드, 대출, 총점수: 평균값\n",
    "        - 거래기간(개월), 연령대: 최대값\n",
    "        - 보유상품수:\n",
    "            - 최대_보유상품종류: 최대값\n",
    "            - 평균_보유상품종류: 평균값을 반올림 후 Int8 형으로 변환\n",
    "\n",
    "    Parameters:\n",
    "        df (pl.DataFrame): 원본 고객 월별 데이터\n",
    "\n",
    "    Returns:\n",
    "        pl.DataFrame: 고객ID 기준으로 집계된 요약 데이터프레임\n",
    "    \"\"\"\n",
    "    df_dropped = df.drop([\"기준금리\", \"성별\"])\n",
    "\n",
    "    df_agg = (\n",
    "        df_dropped\n",
    "        .group_by(\"고객ID\")\n",
    "        .agg([\n",
    "            pl.col(\"입출금예금\").mean().alias(\"평균_입출금예금\"),\n",
    "            pl.col(\"기타예금\").mean().alias(\"평균_기타예금\"),\n",
    "            pl.col(\"비이자상품\").mean().alias(\"평균_비이자상품\"),\n",
    "            pl.col(\"카드\").mean().alias(\"평균_카드\"),\n",
    "            pl.col(\"대출\").mean().alias(\"평균_대출\"),\n",
    "            pl.col(\"총점수\").mean().alias(\"평균_총점수\"),\n",
    "            pl.col(\"거래기간(개월)\").max().alias(\"거래기간(개월)\"),\n",
    "            pl.col(\"연령대\").max().alias(\"연령대\"),\n",
    "            pl.col(\"보유상품수\").max().alias(\"최대_보유상품종류\"),\n",
    "            pl.col(\"보유상품수\").mean().round(0).cast(pl.Int8).alias(\"평균_보유상품종류\"),\n",
    "            pl.col(\"고객등급\").max().alias(\"최대_고객등급\")\n",
    "        ])\n",
    "    )\n",
    "    return df_agg"
   ]
  },
  {
   "cell_type": "markdown",
   "id": "b9b836ef-b471-446c-8c7e-56f9b1e0c982",
   "metadata": {},
   "source": [
    "## 중분류 id 이름수정"
   ]
  },
  {
   "cell_type": "code",
   "execution_count": 9,
   "id": "27dd9731-4583-44ea-aca9-bf5e4e544dee",
   "metadata": {},
   "outputs": [
    {
     "data": {
      "text/html": [
       "<div><style>\n",
       ".dataframe > thead > tr,\n",
       ".dataframe > tbody > tr {\n",
       "  text-align: right;\n",
       "  white-space: pre-wrap;\n",
       "}\n",
       "</style>\n",
       "<small>shape: (599_499, 2)</small><table border=\"1\" class=\"dataframe\"><thead><tr><th>고객ID</th><th>중분류</th></tr><tr><td>i64</td><td>str</td></tr></thead><tbody><tr><td>3527493725</td><td>&quot;B: 저활동 그룹(클러스터 0)&quot;</td></tr><tr><td>5825588873</td><td>&quot;B: 저활동 그룹(클러스터 0)&quot;</td></tr><tr><td>2065295110</td><td>&quot;B: 저활동 그룹(클러스터 0)&quot;</td></tr><tr><td>2768466022</td><td>&quot;B: 저활동 그룹(클러스터 0)&quot;</td></tr><tr><td>3994251513</td><td>&quot;B: 저활동 그룹(클러스터 0)&quot;</td></tr><tr><td>&hellip;</td><td>&hellip;</td></tr><tr><td>6817842604</td><td>&quot;B: 저활동 그룹(클러스터 0)&quot;</td></tr><tr><td>3689179977</td><td>&quot;B: 저활동 그룹(클러스터 0)&quot;</td></tr><tr><td>5466604053</td><td>&quot;B: 저활동 그룹(클러스터 0)&quot;</td></tr><tr><td>6148316247</td><td>&quot;B: 저활동 그룹(클러스터 0)&quot;</td></tr><tr><td>3541722942</td><td>&quot;B: 저활동 그룹(클러스터 0)&quot;</td></tr></tbody></table></div>"
      ],
      "text/plain": [
       "shape: (599_499, 2)\n",
       "┌────────────┬────────────────────────────┐\n",
       "│ 고객ID     ┆ 중분류                     │\n",
       "│ ---        ┆ ---                        │\n",
       "│ i64        ┆ str                        │\n",
       "╞════════════╪════════════════════════════╡\n",
       "│ 3527493725 ┆ B: 저활동 그룹(클러스터 0) │\n",
       "│ 5825588873 ┆ B: 저활동 그룹(클러스터 0) │\n",
       "│ 2065295110 ┆ B: 저활동 그룹(클러스터 0) │\n",
       "│ 2768466022 ┆ B: 저활동 그룹(클러스터 0) │\n",
       "│ 3994251513 ┆ B: 저활동 그룹(클러스터 0) │\n",
       "│ …          ┆ …                          │\n",
       "│ 6817842604 ┆ B: 저활동 그룹(클러스터 0) │\n",
       "│ 3689179977 ┆ B: 저활동 그룹(클러스터 0) │\n",
       "│ 5466604053 ┆ B: 저활동 그룹(클러스터 0) │\n",
       "│ 6148316247 ┆ B: 저활동 그룹(클러스터 0) │\n",
       "│ 3541722942 ┆ B: 저활동 그룹(클러스터 0) │\n",
       "└────────────┴────────────────────────────┘"
      ]
     },
     "execution_count": 9,
     "metadata": {},
     "output_type": "execute_result"
    }
   ],
   "source": [
    "중분류_id"
   ]
  },
  {
   "cell_type": "code",
   "execution_count": 10,
   "id": "68e0a2c1-55ca-47f5-870e-48b0f43202d5",
   "metadata": {},
   "outputs": [
    {
     "data": {
      "text/html": [
       "<div><style>\n",
       ".dataframe > thead > tr,\n",
       ".dataframe > tbody > tr {\n",
       "  text-align: right;\n",
       "  white-space: pre-wrap;\n",
       "}\n",
       "</style>\n",
       "<small>shape: (4, 2)</small><table border=\"1\" class=\"dataframe\"><thead><tr><th>중분류</th><th>count</th></tr><tr><td>str</td><td>u32</td></tr></thead><tbody><tr><td>&quot;A: 저활동 그룹(클러스터 1,5)&quot;</td><td>35471</td></tr><tr><td>&quot;C: 중간활동 그룹(클러스터 4,6,7)&quot;</td><td>70620</td></tr><tr><td>&quot;B: 저활동 그룹(클러스터 0)&quot;</td><td>484649</td></tr><tr><td>&quot;D: 고활동 그룹(클러스터 2,3,8)&quot;</td><td>8759</td></tr></tbody></table></div>"
      ],
      "text/plain": [
       "shape: (4, 2)\n",
       "┌─────────────────────────────────┬────────┐\n",
       "│ 중분류                          ┆ count  │\n",
       "│ ---                             ┆ ---    │\n",
       "│ str                             ┆ u32    │\n",
       "╞═════════════════════════════════╪════════╡\n",
       "│ A: 저활동 그룹(클러스터 1,5)    ┆ 35471  │\n",
       "│ C: 중간활동 그룹(클러스터       ┆ 70620  │\n",
       "│ 4,6,7)                          ┆        │\n",
       "│ B: 저활동 그룹(클러스터 0)      ┆ 484649 │\n",
       "│ D: 고활동 그룹(클러스터 2,3,8)  ┆ 8759   │\n",
       "└─────────────────────────────────┴────────┘"
      ]
     },
     "execution_count": 10,
     "metadata": {},
     "output_type": "execute_result"
    }
   ],
   "source": [
    "중분류_id['중분류'].value_counts()"
   ]
  },
  {
   "cell_type": "code",
   "execution_count": 11,
   "id": "e392c100-c306-4a4e-8dc1-c6cce29955c6",
   "metadata": {},
   "outputs": [
    {
     "data": {
      "text/plain": [
       "(599499, 2)"
      ]
     },
     "execution_count": 11,
     "metadata": {},
     "output_type": "execute_result"
    }
   ],
   "source": [
    "중분류_id.shape"
   ]
  },
  {
   "cell_type": "code",
   "execution_count": 12,
   "id": "6dc57870-effc-4c9a-95af-1f4dad047ba5",
   "metadata": {},
   "outputs": [],
   "source": [
    "중분류_id_이름수정 = 중분류_id.with_columns([\n",
    "    pl.col(\"중분류\")\n",
    "    .str.replace_all(\"A: 저활동 그룹\\\\(클러스터 1,5\\\\)\", \"B\")\n",
    "    .str.replace_all(\"B: 저활동 그룹\\\\(클러스터 0\\\\)\", \"A\")\n",
    "    .str.replace_all(\"C: 중간활동 그룹\\\\(클러스터 4,6,7\\\\)\", \"C\")\n",
    "    .str.replace_all(\"D: 고활동 그룹\\\\(클러스터 2,3,8\\\\)\", \"D\")\n",
    "    .alias(\"중분류\")\n",
    "])"
   ]
  },
  {
   "cell_type": "code",
   "execution_count": 13,
   "id": "d63f1f27-f870-470a-b248-1277382dddef",
   "metadata": {},
   "outputs": [
    {
     "data": {
      "text/html": [
       "<div><style>\n",
       ".dataframe > thead > tr,\n",
       ".dataframe > tbody > tr {\n",
       "  text-align: right;\n",
       "  white-space: pre-wrap;\n",
       "}\n",
       "</style>\n",
       "<small>shape: (599_499, 2)</small><table border=\"1\" class=\"dataframe\"><thead><tr><th>고객ID</th><th>중분류</th></tr><tr><td>i64</td><td>str</td></tr></thead><tbody><tr><td>3527493725</td><td>&quot;A&quot;</td></tr><tr><td>5825588873</td><td>&quot;A&quot;</td></tr><tr><td>2065295110</td><td>&quot;A&quot;</td></tr><tr><td>2768466022</td><td>&quot;A&quot;</td></tr><tr><td>3994251513</td><td>&quot;A&quot;</td></tr><tr><td>&hellip;</td><td>&hellip;</td></tr><tr><td>6817842604</td><td>&quot;A&quot;</td></tr><tr><td>3689179977</td><td>&quot;A&quot;</td></tr><tr><td>5466604053</td><td>&quot;A&quot;</td></tr><tr><td>6148316247</td><td>&quot;A&quot;</td></tr><tr><td>3541722942</td><td>&quot;A&quot;</td></tr></tbody></table></div>"
      ],
      "text/plain": [
       "shape: (599_499, 2)\n",
       "┌────────────┬────────┐\n",
       "│ 고객ID     ┆ 중분류 │\n",
       "│ ---        ┆ ---    │\n",
       "│ i64        ┆ str    │\n",
       "╞════════════╪════════╡\n",
       "│ 3527493725 ┆ A      │\n",
       "│ 5825588873 ┆ A      │\n",
       "│ 2065295110 ┆ A      │\n",
       "│ 2768466022 ┆ A      │\n",
       "│ 3994251513 ┆ A      │\n",
       "│ …          ┆ …      │\n",
       "│ 6817842604 ┆ A      │\n",
       "│ 3689179977 ┆ A      │\n",
       "│ 5466604053 ┆ A      │\n",
       "│ 6148316247 ┆ A      │\n",
       "│ 3541722942 ┆ A      │\n",
       "└────────────┴────────┘"
      ]
     },
     "execution_count": 13,
     "metadata": {},
     "output_type": "execute_result"
    }
   ],
   "source": [
    "중분류_id_이름수정"
   ]
  },
  {
   "cell_type": "code",
   "execution_count": 14,
   "id": "11a5b3d9-678e-4f1d-8686-d136cdd6cd5e",
   "metadata": {},
   "outputs": [
    {
     "data": {
      "text/html": [
       "<div><style>\n",
       ".dataframe > thead > tr,\n",
       ".dataframe > tbody > tr {\n",
       "  text-align: right;\n",
       "  white-space: pre-wrap;\n",
       "}\n",
       "</style>\n",
       "<small>shape: (4, 2)</small><table border=\"1\" class=\"dataframe\"><thead><tr><th>중분류</th><th>count</th></tr><tr><td>str</td><td>u32</td></tr></thead><tbody><tr><td>&quot;B&quot;</td><td>35471</td></tr><tr><td>&quot;A&quot;</td><td>484649</td></tr><tr><td>&quot;C&quot;</td><td>70620</td></tr><tr><td>&quot;D&quot;</td><td>8759</td></tr></tbody></table></div>"
      ],
      "text/plain": [
       "shape: (4, 2)\n",
       "┌────────┬────────┐\n",
       "│ 중분류 ┆ count  │\n",
       "│ ---    ┆ ---    │\n",
       "│ str    ┆ u32    │\n",
       "╞════════╪════════╡\n",
       "│ B      ┆ 35471  │\n",
       "│ A      ┆ 484649 │\n",
       "│ C      ┆ 70620  │\n",
       "│ D      ┆ 8759   │\n",
       "└────────┴────────┘"
      ]
     },
     "execution_count": 14,
     "metadata": {},
     "output_type": "execute_result"
    }
   ],
   "source": [
    "중분류_id_이름수정['중분류'].value_counts()"
   ]
  },
  {
   "attachments": {
    "2226cb02-9cab-4d30-ae35-86fdfb14ad08.png": {
     "image/png": "[encoded data removed]"
    }
   },
   "cell_type": "markdown",
   "id": "5b00ace0-0177-412e-8fe3-d6c704a5f300",
   "metadata": {},
   "source": [
    "![image.png](attachment:2226cb02-9cab-4d30-ae35-86fdfb14ad08.png)"
   ]
  },
  {
   "cell_type": "code",
   "execution_count": 15,
   "id": "81856011-6663-4ced-8e68-3d9f71f96c0e",
   "metadata": {},
   "outputs": [
    {
     "data": {
      "text/plain": [
       "(599499, 2)"
      ]
     },
     "execution_count": 15,
     "metadata": {},
     "output_type": "execute_result"
    }
   ],
   "source": [
    "중분류_id_이름수정.shape"
   ]
  },
  {
   "cell_type": "code",
   "execution_count": 16,
   "id": "a807539e-7bc2-4e5a-99d7-0245a55e8da0",
   "metadata": {},
   "outputs": [],
   "source": [
    "중분류_id_이름수정.write_csv('./dataset/중분류_id_이름수정.csv')"
   ]
  },
  {
   "cell_type": "markdown",
   "id": "c828ed75-0201-4576-b9bc-d43873e3d5f5",
   "metadata": {},
   "source": [
    "## CUSTOMER_N_2030_9 수정 -> 상품전체"
   ]
  },
  {
   "cell_type": "markdown",
   "id": "7cce2deb-6327-4dc5-a236-81d6e895b760",
   "metadata": {},
   "source": [
    "### 상품전체_고객전체"
   ]
  },
  {
   "cell_type": "code",
   "execution_count": 17,
   "id": "a75ea21d-b21b-49c2-baaa-be6b9b21d949",
   "metadata": {},
   "outputs": [
    {
     "data": {
      "text/html": [
       "<div><style>\n",
       ".dataframe > thead > tr,\n",
       ".dataframe > tbody > tr {\n",
       "  text-align: right;\n",
       "  white-space: pre-wrap;\n",
       "}\n",
       "</style>\n",
       "<small>shape: (18_373_952, 18)</small><table border=\"1\" class=\"dataframe\"><thead><tr><th>기준년월</th><th>고객ID</th><th>연령대</th><th>성별</th><th>고객등급</th><th>자택_시도</th><th>자택_시군구</th><th>수신_요구불예금</th><th>수신_거치식예금</th><th>수신_적립식예금</th><th>수신_펀드</th><th>수신_외화예금</th><th>대출금액</th><th>카드_사용횟수</th><th>카드_승인금액</th><th>카드_사용여부</th><th>KMeans_DB_KneeLocato_2030</th><th>중분류</th></tr><tr><td>i64</td><td>i64</td><td>str</td><td>str</td><td>str</td><td>str</td><td>str</td><td>i64</td><td>i64</td><td>i64</td><td>i64</td><td>i64</td><td>i64</td><td>i64</td><td>i64</td><td>i64</td><td>i64</td><td>str</td></tr></thead><tbody><tr><td>202101</td><td>9996691351</td><td>&quot;30대&quot;</td><td>&quot;남&quot;</td><td>&quot;일반등급&quot;</td><td>&quot;경상북도&quot;</td><td>&quot;성주군&quot;</td><td>200000</td><td>0</td><td>0</td><td>0</td><td>0</td><td>0</td><td>0</td><td>0</td><td>0</td><td>0</td><td>&quot;B: 저활동 그룹(클러스터 0)&quot;</td></tr><tr><td>202101</td><td>9996689486</td><td>&quot;30대&quot;</td><td>&quot;여&quot;</td><td>&quot;일반등급&quot;</td><td>&quot;대구광역시&quot;</td><td>&quot;달서구&quot;</td><td>34000000</td><td>0</td><td>0</td><td>0</td><td>0</td><td>0</td><td>0</td><td>0</td><td>0</td><td>3</td><td>&quot;D: 고활동 그룹(클러스터 2,3,8)&quot;</td></tr><tr><td>202101</td><td>9996680650</td><td>&quot;30대&quot;</td><td>&quot;여&quot;</td><td>&quot;일반등급&quot;</td><td>&quot;경상북도&quot;</td><td>&quot;구미시&quot;</td><td>100000</td><td>0</td><td>0</td><td>0</td><td>0</td><td>0</td><td>0</td><td>0</td><td>0</td><td>0</td><td>&quot;B: 저활동 그룹(클러스터 0)&quot;</td></tr><tr><td>202101</td><td>9996676637</td><td>&quot;30대&quot;</td><td>&quot;여&quot;</td><td>&quot;일반등급&quot;</td><td>&quot;경상북도&quot;</td><td>&quot;구미시&quot;</td><td>4300000</td><td>0</td><td>0</td><td>0</td><td>0</td><td>0</td><td>0</td><td>0</td><td>0</td><td>0</td><td>&quot;B: 저활동 그룹(클러스터 0)&quot;</td></tr><tr><td>202101</td><td>9996666899</td><td>&quot;30대&quot;</td><td>&quot;남&quot;</td><td>&quot;일반등급&quot;</td><td>&quot;경상북도&quot;</td><td>&quot;구미시&quot;</td><td>3500000</td><td>0</td><td>400000</td><td>12000000</td><td>0</td><td>0</td><td>2</td><td>70000</td><td>1</td><td>0</td><td>&quot;B: 저활동 그룹(클러스터 0)&quot;</td></tr><tr><td>&hellip;</td><td>&hellip;</td><td>&hellip;</td><td>&hellip;</td><td>&hellip;</td><td>&hellip;</td><td>&hellip;</td><td>&hellip;</td><td>&hellip;</td><td>&hellip;</td><td>&hellip;</td><td>&hellip;</td><td>&hellip;</td><td>&hellip;</td><td>&hellip;</td><td>&hellip;</td><td>&hellip;</td><td>&hellip;</td></tr><tr><td>202312</td><td>2000399321</td><td>&quot;30대&quot;</td><td>&quot;남&quot;</td><td>&quot;일반등급&quot;</td><td>&quot;경상남도&quot;</td><td>&quot;고성군&quot;</td><td>0</td><td>0</td><td>0</td><td>0</td><td>0</td><td>100000</td><td>0</td><td>0</td><td>0</td><td>0</td><td>&quot;B: 저활동 그룹(클러스터 0)&quot;</td></tr><tr><td>202312</td><td>2000393761</td><td>&quot;30대&quot;</td><td>&quot;남&quot;</td><td>&quot;일반등급&quot;</td><td>&quot;서울특별시&quot;</td><td>&quot;구로구&quot;</td><td>0</td><td>0</td><td>0</td><td>0</td><td>0</td><td>100000</td><td>0</td><td>0</td><td>0</td><td>0</td><td>&quot;B: 저활동 그룹(클러스터 0)&quot;</td></tr><tr><td>202312</td><td>2000380811</td><td>&quot;30대&quot;</td><td>&quot;남&quot;</td><td>&quot;일반등급&quot;</td><td>&quot;경상북도&quot;</td><td>&quot;포항시 남구&quot;</td><td>0</td><td>0</td><td>0</td><td>0</td><td>0</td><td>100000</td><td>0</td><td>0</td><td>0</td><td>0</td><td>&quot;B: 저활동 그룹(클러스터 0)&quot;</td></tr><tr><td>202312</td><td>2000379801</td><td>&quot;20대&quot;</td><td>&quot;여&quot;</td><td>&quot;일반등급&quot;</td><td>&quot;서울특별시&quot;</td><td>&quot;강북구&quot;</td><td>0</td><td>0</td><td>0</td><td>0</td><td>0</td><td>100000</td><td>0</td><td>0</td><td>0</td><td>0</td><td>&quot;B: 저활동 그룹(클러스터 0)&quot;</td></tr><tr><td>202312</td><td>2000369205</td><td>&quot;20대&quot;</td><td>&quot;여&quot;</td><td>&quot;일반등급&quot;</td><td>&quot;경기도&quot;</td><td>&quot;광주시&quot;</td><td>0</td><td>0</td><td>0</td><td>0</td><td>0</td><td>100000</td><td>0</td><td>0</td><td>0</td><td>0</td><td>&quot;B: 저활동 그룹(클러스터 0)&quot;</td></tr></tbody></table></div>"
      ],
      "text/plain": [
       "shape: (18_373_952, 18)\n",
       "┌─────────┬─────────┬────────┬──────┬───┬─────────┬─────────┬─────────┬────────┐\n",
       "│ 기준년  ┆ 고객ID  ┆ 연령대 ┆ 성별 ┆ … ┆ 카드_승 ┆ 카드_사 ┆ KMeans_ ┆ 중분류 │\n",
       "│ 월      ┆ ---     ┆ ---    ┆ ---  ┆   ┆ 인금액  ┆ 용여부  ┆ DB_Knee ┆ ---    │\n",
       "│ ---     ┆ i64     ┆ str    ┆ str  ┆   ┆ ---     ┆ ---     ┆ Locato_ ┆ str    │\n",
       "│ i64     ┆         ┆        ┆      ┆   ┆ i64     ┆ i64     ┆ 2030    ┆        │\n",
       "│         ┆         ┆        ┆      ┆   ┆         ┆         ┆ ---     ┆        │\n",
       "│         ┆         ┆        ┆      ┆   ┆         ┆         ┆ i64     ┆        │\n",
       "╞═════════╪═════════╪════════╪══════╪═══╪═════════╪═════════╪═════════╪════════╡\n",
       "│ 202101  ┆ 9996691 ┆ 30대   ┆ 남   ┆ … ┆ 0       ┆ 0       ┆ 0       ┆ B:     │\n",
       "│         ┆ 351     ┆        ┆      ┆   ┆         ┆         ┆         ┆ 저활동 │\n",
       "│         ┆         ┆        ┆      ┆   ┆         ┆         ┆         ┆ 그룹(  │\n",
       "│         ┆         ┆        ┆      ┆   ┆         ┆         ┆         ┆ 클러스 │\n",
       "│         ┆         ┆        ┆      ┆   ┆         ┆         ┆         ┆ 터 0)  │\n",
       "│ 202101  ┆ 9996689 ┆ 30대   ┆ 여   ┆ … ┆ 0       ┆ 0       ┆ 3       ┆ D:     │\n",
       "│         ┆ 486     ┆        ┆      ┆   ┆         ┆         ┆         ┆ 고활동 │\n",
       "│         ┆         ┆        ┆      ┆   ┆         ┆         ┆         ┆ 그룹(  │\n",
       "│         ┆         ┆        ┆      ┆   ┆         ┆         ┆         ┆ 클러스 │\n",
       "│         ┆         ┆        ┆      ┆   ┆         ┆         ┆         ┆ 터     │\n",
       "│         ┆         ┆        ┆      ┆   ┆         ┆         ┆         ┆ 2,3,8) │\n",
       "│ 202101  ┆ 9996680 ┆ 30대   ┆ 여   ┆ … ┆ 0       ┆ 0       ┆ 0       ┆ B:     │\n",
       "│         ┆ 650     ┆        ┆      ┆   ┆         ┆         ┆         ┆ 저활동 │\n",
       "│         ┆         ┆        ┆      ┆   ┆         ┆         ┆         ┆ 그룹(  │\n",
       "│         ┆         ┆        ┆      ┆   ┆         ┆         ┆         ┆ 클러스 │\n",
       "│         ┆         ┆        ┆      ┆   ┆         ┆         ┆         ┆ 터 0)  │\n",
       "│ 202101  ┆ 9996676 ┆ 30대   ┆ 여   ┆ … ┆ 0       ┆ 0       ┆ 0       ┆ B:     │\n",
       "│         ┆ 637     ┆        ┆      ┆   ┆         ┆         ┆         ┆ 저활동 │\n",
       "│         ┆         ┆        ┆      ┆   ┆         ┆         ┆         ┆ 그룹(  │\n",
       "│         ┆         ┆        ┆      ┆   ┆         ┆         ┆         ┆ 클러스 │\n",
       "│         ┆         ┆        ┆      ┆   ┆         ┆         ┆         ┆ 터 0)  │\n",
       "│ 202101  ┆ 9996666 ┆ 30대   ┆ 남   ┆ … ┆ 70000   ┆ 1       ┆ 0       ┆ B:     │\n",
       "│         ┆ 899     ┆        ┆      ┆   ┆         ┆         ┆         ┆ 저활동 │\n",
       "│         ┆         ┆        ┆      ┆   ┆         ┆         ┆         ┆ 그룹(  │\n",
       "│         ┆         ┆        ┆      ┆   ┆         ┆         ┆         ┆ 클러스 │\n",
       "│         ┆         ┆        ┆      ┆   ┆         ┆         ┆         ┆ 터 0)  │\n",
       "│ …       ┆ …       ┆ …      ┆ …    ┆ … ┆ …       ┆ …       ┆ …       ┆ …      │\n",
       "│ 202312  ┆ 2000399 ┆ 30대   ┆ 남   ┆ … ┆ 0       ┆ 0       ┆ 0       ┆ B:     │\n",
       "│         ┆ 321     ┆        ┆      ┆   ┆         ┆         ┆         ┆ 저활동 │\n",
       "│         ┆         ┆        ┆      ┆   ┆         ┆         ┆         ┆ 그룹(  │\n",
       "│         ┆         ┆        ┆      ┆   ┆         ┆         ┆         ┆ 클러스 │\n",
       "│         ┆         ┆        ┆      ┆   ┆         ┆         ┆         ┆ 터 0)  │\n",
       "│ 202312  ┆ 2000393 ┆ 30대   ┆ 남   ┆ … ┆ 0       ┆ 0       ┆ 0       ┆ B:     │\n",
       "│         ┆ 761     ┆        ┆      ┆   ┆         ┆         ┆         ┆ 저활동 │\n",
       "│         ┆         ┆        ┆      ┆   ┆         ┆         ┆         ┆ 그룹(  │\n",
       "│         ┆         ┆        ┆      ┆   ┆         ┆         ┆         ┆ 클러스 │\n",
       "│         ┆         ┆        ┆      ┆   ┆         ┆         ┆         ┆ 터 0)  │\n",
       "│ 202312  ┆ 2000380 ┆ 30대   ┆ 남   ┆ … ┆ 0       ┆ 0       ┆ 0       ┆ B:     │\n",
       "│         ┆ 811     ┆        ┆      ┆   ┆         ┆         ┆         ┆ 저활동 │\n",
       "│         ┆         ┆        ┆      ┆   ┆         ┆         ┆         ┆ 그룹(  │\n",
       "│         ┆         ┆        ┆      ┆   ┆         ┆         ┆         ┆ 클러스 │\n",
       "│         ┆         ┆        ┆      ┆   ┆         ┆         ┆         ┆ 터 0)  │\n",
       "│ 202312  ┆ 2000379 ┆ 20대   ┆ 여   ┆ … ┆ 0       ┆ 0       ┆ 0       ┆ B:     │\n",
       "│         ┆ 801     ┆        ┆      ┆   ┆         ┆         ┆         ┆ 저활동 │\n",
       "│         ┆         ┆        ┆      ┆   ┆         ┆         ┆         ┆ 그룹(  │\n",
       "│         ┆         ┆        ┆      ┆   ┆         ┆         ┆         ┆ 클러스 │\n",
       "│         ┆         ┆        ┆      ┆   ┆         ┆         ┆         ┆ 터 0)  │\n",
       "│ 202312  ┆ 2000369 ┆ 20대   ┆ 여   ┆ … ┆ 0       ┆ 0       ┆ 0       ┆ B:     │\n",
       "│         ┆ 205     ┆        ┆      ┆   ┆         ┆         ┆         ┆ 저활동 │\n",
       "│         ┆         ┆        ┆      ┆   ┆         ┆         ┆         ┆ 그룹(  │\n",
       "│         ┆         ┆        ┆      ┆   ┆         ┆         ┆         ┆ 클러스 │\n",
       "│         ┆         ┆        ┆      ┆   ┆         ┆         ┆         ┆ 터 0)  │\n",
       "└─────────┴─────────┴────────┴──────┴───┴─────────┴─────────┴─────────┴────────┘"
      ]
     },
     "execution_count": 17,
     "metadata": {},
     "output_type": "execute_result"
    }
   ],
   "source": [
    "CUSTOMER_N_2030_9"
   ]
  },
  {
   "cell_type": "code",
   "execution_count": 18,
   "id": "eb63d7ac-bcab-417f-99f6-4263b709eb51",
   "metadata": {},
   "outputs": [],
   "source": [
    "CUSTOMER_N_2030_9_중분류제거 = CUSTOMER_N_2030_9.drop(\"중분류\")"
   ]
  },
  {
   "cell_type": "code",
   "execution_count": 19,
   "id": "4d6b9739-936b-42d0-b03a-e0a1c2d68559",
   "metadata": {},
   "outputs": [
    {
     "data": {
      "text/html": [
       "<div><style>\n",
       ".dataframe > thead > tr,\n",
       ".dataframe > tbody > tr {\n",
       "  text-align: right;\n",
       "  white-space: pre-wrap;\n",
       "}\n",
       "</style>\n",
       "<small>shape: (18_373_952, 17)</small><table border=\"1\" class=\"dataframe\"><thead><tr><th>기준년월</th><th>고객ID</th><th>연령대</th><th>성별</th><th>고객등급</th><th>자택_시도</th><th>자택_시군구</th><th>수신_요구불예금</th><th>수신_거치식예금</th><th>수신_적립식예금</th><th>수신_펀드</th><th>수신_외화예금</th><th>대출금액</th><th>카드_사용횟수</th><th>카드_승인금액</th><th>카드_사용여부</th><th>KMeans_DB_KneeLocato_2030</th></tr><tr><td>i64</td><td>i64</td><td>str</td><td>str</td><td>str</td><td>str</td><td>str</td><td>i64</td><td>i64</td><td>i64</td><td>i64</td><td>i64</td><td>i64</td><td>i64</td><td>i64</td><td>i64</td><td>i64</td></tr></thead><tbody><tr><td>202101</td><td>9996691351</td><td>&quot;30대&quot;</td><td>&quot;남&quot;</td><td>&quot;일반등급&quot;</td><td>&quot;경상북도&quot;</td><td>&quot;성주군&quot;</td><td>200000</td><td>0</td><td>0</td><td>0</td><td>0</td><td>0</td><td>0</td><td>0</td><td>0</td><td>0</td></tr><tr><td>202101</td><td>9996689486</td><td>&quot;30대&quot;</td><td>&quot;여&quot;</td><td>&quot;일반등급&quot;</td><td>&quot;대구광역시&quot;</td><td>&quot;달서구&quot;</td><td>34000000</td><td>0</td><td>0</td><td>0</td><td>0</td><td>0</td><td>0</td><td>0</td><td>0</td><td>3</td></tr><tr><td>202101</td><td>9996680650</td><td>&quot;30대&quot;</td><td>&quot;여&quot;</td><td>&quot;일반등급&quot;</td><td>&quot;경상북도&quot;</td><td>&quot;구미시&quot;</td><td>100000</td><td>0</td><td>0</td><td>0</td><td>0</td><td>0</td><td>0</td><td>0</td><td>0</td><td>0</td></tr><tr><td>202101</td><td>9996676637</td><td>&quot;30대&quot;</td><td>&quot;여&quot;</td><td>&quot;일반등급&quot;</td><td>&quot;경상북도&quot;</td><td>&quot;구미시&quot;</td><td>4300000</td><td>0</td><td>0</td><td>0</td><td>0</td><td>0</td><td>0</td><td>0</td><td>0</td><td>0</td></tr><tr><td>202101</td><td>9996666899</td><td>&quot;30대&quot;</td><td>&quot;남&quot;</td><td>&quot;일반등급&quot;</td><td>&quot;경상북도&quot;</td><td>&quot;구미시&quot;</td><td>3500000</td><td>0</td><td>400000</td><td>12000000</td><td>0</td><td>0</td><td>2</td><td>70000</td><td>1</td><td>0</td></tr><tr><td>&hellip;</td><td>&hellip;</td><td>&hellip;</td><td>&hellip;</td><td>&hellip;</td><td>&hellip;</td><td>&hellip;</td><td>&hellip;</td><td>&hellip;</td><td>&hellip;</td><td>&hellip;</td><td>&hellip;</td><td>&hellip;</td><td>&hellip;</td><td>&hellip;</td><td>&hellip;</td><td>&hellip;</td></tr><tr><td>202312</td><td>2000399321</td><td>&quot;30대&quot;</td><td>&quot;남&quot;</td><td>&quot;일반등급&quot;</td><td>&quot;경상남도&quot;</td><td>&quot;고성군&quot;</td><td>0</td><td>0</td><td>0</td><td>0</td><td>0</td><td>100000</td><td>0</td><td>0</td><td>0</td><td>0</td></tr><tr><td>202312</td><td>2000393761</td><td>&quot;30대&quot;</td><td>&quot;남&quot;</td><td>&quot;일반등급&quot;</td><td>&quot;서울특별시&quot;</td><td>&quot;구로구&quot;</td><td>0</td><td>0</td><td>0</td><td>0</td><td>0</td><td>100000</td><td>0</td><td>0</td><td>0</td><td>0</td></tr><tr><td>202312</td><td>2000380811</td><td>&quot;30대&quot;</td><td>&quot;남&quot;</td><td>&quot;일반등급&quot;</td><td>&quot;경상북도&quot;</td><td>&quot;포항시 남구&quot;</td><td>0</td><td>0</td><td>0</td><td>0</td><td>0</td><td>100000</td><td>0</td><td>0</td><td>0</td><td>0</td></tr><tr><td>202312</td><td>2000379801</td><td>&quot;20대&quot;</td><td>&quot;여&quot;</td><td>&quot;일반등급&quot;</td><td>&quot;서울특별시&quot;</td><td>&quot;강북구&quot;</td><td>0</td><td>0</td><td>0</td><td>0</td><td>0</td><td>100000</td><td>0</td><td>0</td><td>0</td><td>0</td></tr><tr><td>202312</td><td>2000369205</td><td>&quot;20대&quot;</td><td>&quot;여&quot;</td><td>&quot;일반등급&quot;</td><td>&quot;경기도&quot;</td><td>&quot;광주시&quot;</td><td>0</td><td>0</td><td>0</td><td>0</td><td>0</td><td>100000</td><td>0</td><td>0</td><td>0</td><td>0</td></tr></tbody></table></div>"
      ],
      "text/plain": [
       "shape: (18_373_952, 17)\n",
       "┌─────────┬─────────┬────────┬──────┬───┬─────────┬─────────┬─────────┬────────┐\n",
       "│ 기준년  ┆ 고객ID  ┆ 연령대 ┆ 성별 ┆ … ┆ 카드_사 ┆ 카드_승 ┆ 카드_사 ┆ KMeans │\n",
       "│ 월      ┆ ---     ┆ ---    ┆ ---  ┆   ┆ 용횟수  ┆ 인금액  ┆ 용여부  ┆ _DB_Kn │\n",
       "│ ---     ┆ i64     ┆ str    ┆ str  ┆   ┆ ---     ┆ ---     ┆ ---     ┆ eeLoca │\n",
       "│ i64     ┆         ┆        ┆      ┆   ┆ i64     ┆ i64     ┆ i64     ┆ to_203 │\n",
       "│         ┆         ┆        ┆      ┆   ┆         ┆         ┆         ┆ 0      │\n",
       "│         ┆         ┆        ┆      ┆   ┆         ┆         ┆         ┆ ---    │\n",
       "│         ┆         ┆        ┆      ┆   ┆         ┆         ┆         ┆ i64    │\n",
       "╞═════════╪═════════╪════════╪══════╪═══╪═════════╪═════════╪═════════╪════════╡\n",
       "│ 202101  ┆ 9996691 ┆ 30대   ┆ 남   ┆ … ┆ 0       ┆ 0       ┆ 0       ┆ 0      │\n",
       "│         ┆ 351     ┆        ┆      ┆   ┆         ┆         ┆         ┆        │\n",
       "│ 202101  ┆ 9996689 ┆ 30대   ┆ 여   ┆ … ┆ 0       ┆ 0       ┆ 0       ┆ 3      │\n",
       "│         ┆ 486     ┆        ┆      ┆   ┆         ┆         ┆         ┆        │\n",
       "│ 202101  ┆ 9996680 ┆ 30대   ┆ 여   ┆ … ┆ 0       ┆ 0       ┆ 0       ┆ 0      │\n",
       "│         ┆ 650     ┆        ┆      ┆   ┆         ┆         ┆         ┆        │\n",
       "│ 202101  ┆ 9996676 ┆ 30대   ┆ 여   ┆ … ┆ 0       ┆ 0       ┆ 0       ┆ 0      │\n",
       "│         ┆ 637     ┆        ┆      ┆   ┆         ┆         ┆         ┆        │\n",
       "│ 202101  ┆ 9996666 ┆ 30대   ┆ 남   ┆ … ┆ 2       ┆ 70000   ┆ 1       ┆ 0      │\n",
       "│         ┆ 899     ┆        ┆      ┆   ┆         ┆         ┆         ┆        │\n",
       "│ …       ┆ …       ┆ …      ┆ …    ┆ … ┆ …       ┆ …       ┆ …       ┆ …      │\n",
       "│ 202312  ┆ 2000399 ┆ 30대   ┆ 남   ┆ … ┆ 0       ┆ 0       ┆ 0       ┆ 0      │\n",
       "│         ┆ 321     ┆        ┆      ┆   ┆         ┆         ┆         ┆        │\n",
       "│ 202312  ┆ 2000393 ┆ 30대   ┆ 남   ┆ … ┆ 0       ┆ 0       ┆ 0       ┆ 0      │\n",
       "│         ┆ 761     ┆        ┆      ┆   ┆         ┆         ┆         ┆        │\n",
       "│ 202312  ┆ 2000380 ┆ 30대   ┆ 남   ┆ … ┆ 0       ┆ 0       ┆ 0       ┆ 0      │\n",
       "│         ┆ 811     ┆        ┆      ┆   ┆         ┆         ┆         ┆        │\n",
       "│ 202312  ┆ 2000379 ┆ 20대   ┆ 여   ┆ … ┆ 0       ┆ 0       ┆ 0       ┆ 0      │\n",
       "│         ┆ 801     ┆        ┆      ┆   ┆         ┆         ┆         ┆        │\n",
       "│ 202312  ┆ 2000369 ┆ 20대   ┆ 여   ┆ … ┆ 0       ┆ 0       ┆ 0       ┆ 0      │\n",
       "│         ┆ 205     ┆        ┆      ┆   ┆         ┆         ┆         ┆        │\n",
       "└─────────┴─────────┴────────┴──────┴───┴─────────┴─────────┴─────────┴────────┘"
      ]
     },
     "execution_count": 19,
     "metadata": {},
     "output_type": "execute_result"
    }
   ],
   "source": [
    "CUSTOMER_N_2030_9_중분류제거"
   ]
  },
  {
   "cell_type": "code",
   "execution_count": 20,
   "id": "99bc9f39-6155-430f-9944-217a618de31b",
   "metadata": {},
   "outputs": [],
   "source": [
    "df_joined_inner_상품전체_고객전체 = (\n",
    "    CUSTOMER_N_2030_9_중분류제거\n",
    "    .join(\n",
    "        중분류_id_이름수정.select([\"고객ID\", \"중분류\"]).unique(),\n",
    "        on=\"고객ID\",\n",
    "        how=\"inner\"\n",
    "    )\n",
    ")"
   ]
  },
  {
   "cell_type": "code",
   "execution_count": 21,
   "id": "7c07dfc7-6752-4497-b93e-4599146364e7",
   "metadata": {},
   "outputs": [
    {
     "data": {
      "text/html": [
       "<div><style>\n",
       ".dataframe > thead > tr,\n",
       ".dataframe > tbody > tr {\n",
       "  text-align: right;\n",
       "  white-space: pre-wrap;\n",
       "}\n",
       "</style>\n",
       "<small>shape: (18_373_952, 18)</small><table border=\"1\" class=\"dataframe\"><thead><tr><th>기준년월</th><th>고객ID</th><th>연령대</th><th>성별</th><th>고객등급</th><th>자택_시도</th><th>자택_시군구</th><th>수신_요구불예금</th><th>수신_거치식예금</th><th>수신_적립식예금</th><th>수신_펀드</th><th>수신_외화예금</th><th>대출금액</th><th>카드_사용횟수</th><th>카드_승인금액</th><th>카드_사용여부</th><th>KMeans_DB_KneeLocato_2030</th><th>중분류</th></tr><tr><td>i64</td><td>i64</td><td>str</td><td>str</td><td>str</td><td>str</td><td>str</td><td>i64</td><td>i64</td><td>i64</td><td>i64</td><td>i64</td><td>i64</td><td>i64</td><td>i64</td><td>i64</td><td>i64</td><td>str</td></tr></thead><tbody><tr><td>202101</td><td>9996691351</td><td>&quot;30대&quot;</td><td>&quot;남&quot;</td><td>&quot;일반등급&quot;</td><td>&quot;경상북도&quot;</td><td>&quot;성주군&quot;</td><td>200000</td><td>0</td><td>0</td><td>0</td><td>0</td><td>0</td><td>0</td><td>0</td><td>0</td><td>0</td><td>&quot;A&quot;</td></tr><tr><td>202101</td><td>9996689486</td><td>&quot;30대&quot;</td><td>&quot;여&quot;</td><td>&quot;일반등급&quot;</td><td>&quot;대구광역시&quot;</td><td>&quot;달서구&quot;</td><td>34000000</td><td>0</td><td>0</td><td>0</td><td>0</td><td>0</td><td>0</td><td>0</td><td>0</td><td>3</td><td>&quot;D&quot;</td></tr><tr><td>202101</td><td>9996680650</td><td>&quot;30대&quot;</td><td>&quot;여&quot;</td><td>&quot;일반등급&quot;</td><td>&quot;경상북도&quot;</td><td>&quot;구미시&quot;</td><td>100000</td><td>0</td><td>0</td><td>0</td><td>0</td><td>0</td><td>0</td><td>0</td><td>0</td><td>0</td><td>&quot;A&quot;</td></tr><tr><td>202101</td><td>9996676637</td><td>&quot;30대&quot;</td><td>&quot;여&quot;</td><td>&quot;일반등급&quot;</td><td>&quot;경상북도&quot;</td><td>&quot;구미시&quot;</td><td>4300000</td><td>0</td><td>0</td><td>0</td><td>0</td><td>0</td><td>0</td><td>0</td><td>0</td><td>0</td><td>&quot;A&quot;</td></tr><tr><td>202101</td><td>9996666899</td><td>&quot;30대&quot;</td><td>&quot;남&quot;</td><td>&quot;일반등급&quot;</td><td>&quot;경상북도&quot;</td><td>&quot;구미시&quot;</td><td>3500000</td><td>0</td><td>400000</td><td>12000000</td><td>0</td><td>0</td><td>2</td><td>70000</td><td>1</td><td>0</td><td>&quot;A&quot;</td></tr><tr><td>&hellip;</td><td>&hellip;</td><td>&hellip;</td><td>&hellip;</td><td>&hellip;</td><td>&hellip;</td><td>&hellip;</td><td>&hellip;</td><td>&hellip;</td><td>&hellip;</td><td>&hellip;</td><td>&hellip;</td><td>&hellip;</td><td>&hellip;</td><td>&hellip;</td><td>&hellip;</td><td>&hellip;</td><td>&hellip;</td></tr><tr><td>202312</td><td>2000399321</td><td>&quot;30대&quot;</td><td>&quot;남&quot;</td><td>&quot;일반등급&quot;</td><td>&quot;경상남도&quot;</td><td>&quot;고성군&quot;</td><td>0</td><td>0</td><td>0</td><td>0</td><td>0</td><td>100000</td><td>0</td><td>0</td><td>0</td><td>0</td><td>&quot;A&quot;</td></tr><tr><td>202312</td><td>2000393761</td><td>&quot;30대&quot;</td><td>&quot;남&quot;</td><td>&quot;일반등급&quot;</td><td>&quot;서울특별시&quot;</td><td>&quot;구로구&quot;</td><td>0</td><td>0</td><td>0</td><td>0</td><td>0</td><td>100000</td><td>0</td><td>0</td><td>0</td><td>0</td><td>&quot;A&quot;</td></tr><tr><td>202312</td><td>2000380811</td><td>&quot;30대&quot;</td><td>&quot;남&quot;</td><td>&quot;일반등급&quot;</td><td>&quot;경상북도&quot;</td><td>&quot;포항시 남구&quot;</td><td>0</td><td>0</td><td>0</td><td>0</td><td>0</td><td>100000</td><td>0</td><td>0</td><td>0</td><td>0</td><td>&quot;A&quot;</td></tr><tr><td>202312</td><td>2000379801</td><td>&quot;20대&quot;</td><td>&quot;여&quot;</td><td>&quot;일반등급&quot;</td><td>&quot;서울특별시&quot;</td><td>&quot;강북구&quot;</td><td>0</td><td>0</td><td>0</td><td>0</td><td>0</td><td>100000</td><td>0</td><td>0</td><td>0</td><td>0</td><td>&quot;A&quot;</td></tr><tr><td>202312</td><td>2000369205</td><td>&quot;20대&quot;</td><td>&quot;여&quot;</td><td>&quot;일반등급&quot;</td><td>&quot;경기도&quot;</td><td>&quot;광주시&quot;</td><td>0</td><td>0</td><td>0</td><td>0</td><td>0</td><td>100000</td><td>0</td><td>0</td><td>0</td><td>0</td><td>&quot;A&quot;</td></tr></tbody></table></div>"
      ],
      "text/plain": [
       "shape: (18_373_952, 18)\n",
       "┌─────────┬─────────┬────────┬──────┬───┬─────────┬─────────┬─────────┬────────┐\n",
       "│ 기준년  ┆ 고객ID  ┆ 연령대 ┆ 성별 ┆ … ┆ 카드_승 ┆ 카드_사 ┆ KMeans_ ┆ 중분류 │\n",
       "│ 월      ┆ ---     ┆ ---    ┆ ---  ┆   ┆ 인금액  ┆ 용여부  ┆ DB_Knee ┆ ---    │\n",
       "│ ---     ┆ i64     ┆ str    ┆ str  ┆   ┆ ---     ┆ ---     ┆ Locato_ ┆ str    │\n",
       "│ i64     ┆         ┆        ┆      ┆   ┆ i64     ┆ i64     ┆ 2030    ┆        │\n",
       "│         ┆         ┆        ┆      ┆   ┆         ┆         ┆ ---     ┆        │\n",
       "│         ┆         ┆        ┆      ┆   ┆         ┆         ┆ i64     ┆        │\n",
       "╞═════════╪═════════╪════════╪══════╪═══╪═════════╪═════════╪═════════╪════════╡\n",
       "│ 202101  ┆ 9996691 ┆ 30대   ┆ 남   ┆ … ┆ 0       ┆ 0       ┆ 0       ┆ A      │\n",
       "│         ┆ 351     ┆        ┆      ┆   ┆         ┆         ┆         ┆        │\n",
       "│ 202101  ┆ 9996689 ┆ 30대   ┆ 여   ┆ … ┆ 0       ┆ 0       ┆ 3       ┆ D      │\n",
       "│         ┆ 486     ┆        ┆      ┆   ┆         ┆         ┆         ┆        │\n",
       "│ 202101  ┆ 9996680 ┆ 30대   ┆ 여   ┆ … ┆ 0       ┆ 0       ┆ 0       ┆ A      │\n",
       "│         ┆ 650     ┆        ┆      ┆   ┆         ┆         ┆         ┆        │\n",
       "│ 202101  ┆ 9996676 ┆ 30대   ┆ 여   ┆ … ┆ 0       ┆ 0       ┆ 0       ┆ A      │\n",
       "│         ┆ 637     ┆        ┆      ┆   ┆         ┆         ┆         ┆        │\n",
       "│ 202101  ┆ 9996666 ┆ 30대   ┆ 남   ┆ … ┆ 70000   ┆ 1       ┆ 0       ┆ A      │\n",
       "│         ┆ 899     ┆        ┆      ┆   ┆         ┆         ┆         ┆        │\n",
       "│ …       ┆ …       ┆ …      ┆ …    ┆ … ┆ …       ┆ …       ┆ …       ┆ …      │\n",
       "│ 202312  ┆ 2000399 ┆ 30대   ┆ 남   ┆ … ┆ 0       ┆ 0       ┆ 0       ┆ A      │\n",
       "│         ┆ 321     ┆        ┆      ┆   ┆         ┆         ┆         ┆        │\n",
       "│ 202312  ┆ 2000393 ┆ 30대   ┆ 남   ┆ … ┆ 0       ┆ 0       ┆ 0       ┆ A      │\n",
       "│         ┆ 761     ┆        ┆      ┆   ┆         ┆         ┆         ┆        │\n",
       "│ 202312  ┆ 2000380 ┆ 30대   ┆ 남   ┆ … ┆ 0       ┆ 0       ┆ 0       ┆ A      │\n",
       "│         ┆ 811     ┆        ┆      ┆   ┆         ┆         ┆         ┆        │\n",
       "│ 202312  ┆ 2000379 ┆ 20대   ┆ 여   ┆ … ┆ 0       ┆ 0       ┆ 0       ┆ A      │\n",
       "│         ┆ 801     ┆        ┆      ┆   ┆         ┆         ┆         ┆        │\n",
       "│ 202312  ┆ 2000369 ┆ 20대   ┆ 여   ┆ … ┆ 0       ┆ 0       ┆ 0       ┆ A      │\n",
       "│         ┆ 205     ┆        ┆      ┆   ┆         ┆         ┆         ┆        │\n",
       "└─────────┴─────────┴────────┴──────┴───┴─────────┴─────────┴─────────┴────────┘"
      ]
     },
     "execution_count": 21,
     "metadata": {},
     "output_type": "execute_result"
    }
   ],
   "source": [
    "df_joined_inner_상품전체_고객전체"
   ]
  },
  {
   "cell_type": "code",
   "execution_count": 22,
   "id": "f3aa6e58-ef37-4365-8e24-942211562f65",
   "metadata": {},
   "outputs": [
    {
     "name": "stdout",
     "output_type": "stream",
     "text": [
      "(18373952, 18)\n",
      "18373952\n",
      "599499\n",
      "599499\n",
      "599499\n",
      "(18373952, 18)\n",
      "18373952\n",
      "18373952\n",
      "599499\n"
     ]
    }
   ],
   "source": [
    "print(CUSTOMER_N_2030_9.shape)\n",
    "print(CUSTOMER_N_2030_9.shape[0])\n",
    "print(len(CUSTOMER_N_2030_9['고객ID'].unique()))\n",
    "print(중분류_id_이름수정.shape[0])\n",
    "print(len(중분류_id_이름수정['고객ID']))\n",
    "print(df_joined_inner_상품전체_고객전체.shape)\n",
    "print(df_joined_inner_상품전체_고객전체.shape[0])\n",
    "print(len(df_joined_inner_상품전체_고객전체['고객ID']))\n",
    "print(len(df_joined_inner_상품전체_고객전체['고객ID'].unique()))"
   ]
  },
  {
   "cell_type": "code",
   "execution_count": 23,
   "id": "ae4baa2a-1cd7-4947-a60c-a54199695e2e",
   "metadata": {},
   "outputs": [
    {
     "data": {
      "text/html": [
       "<div><style>\n",
       ".dataframe > thead > tr,\n",
       ".dataframe > tbody > tr {\n",
       "  text-align: right;\n",
       "  white-space: pre-wrap;\n",
       "}\n",
       "</style>\n",
       "<small>shape: (4, 2)</small><table border=\"1\" class=\"dataframe\"><thead><tr><th>중분류</th><th>count</th></tr><tr><td>str</td><td>u32</td></tr></thead><tbody><tr><td>&quot;A: 저활동 그룹(클러스터 1,5)&quot;</td><td>817124</td></tr><tr><td>&quot;C: 중간활동 그룹(클러스터 4,6,7)&quot;</td><td>2482677</td></tr><tr><td>&quot;D: 고활동 그룹(클러스터 2,3,8)&quot;</td><td>284027</td></tr><tr><td>&quot;B: 저활동 그룹(클러스터 0)&quot;</td><td>14790124</td></tr></tbody></table></div>"
      ],
      "text/plain": [
       "shape: (4, 2)\n",
       "┌─────────────────────────────────┬──────────┐\n",
       "│ 중분류                          ┆ count    │\n",
       "│ ---                             ┆ ---      │\n",
       "│ str                             ┆ u32      │\n",
       "╞═════════════════════════════════╪══════════╡\n",
       "│ A: 저활동 그룹(클러스터 1,5)    ┆ 817124   │\n",
       "│ C: 중간활동 그룹(클러스터       ┆ 2482677  │\n",
       "│ 4,6,7)                          ┆          │\n",
       "│ D: 고활동 그룹(클러스터 2,3,8)  ┆ 284027   │\n",
       "│ B: 저활동 그룹(클러스터 0)      ┆ 14790124 │\n",
       "└─────────────────────────────────┴──────────┘"
      ]
     },
     "execution_count": 23,
     "metadata": {},
     "output_type": "execute_result"
    }
   ],
   "source": [
    "CUSTOMER_N_2030_9['중분류'].value_counts()"
   ]
  },
  {
   "cell_type": "code",
   "execution_count": 24,
   "id": "9783ca27-f5d5-4f83-bbef-88641c41292a",
   "metadata": {},
   "outputs": [
    {
     "data": {
      "text/html": [
       "<div><style>\n",
       ".dataframe > thead > tr,\n",
       ".dataframe > tbody > tr {\n",
       "  text-align: right;\n",
       "  white-space: pre-wrap;\n",
       "}\n",
       "</style>\n",
       "<small>shape: (4, 2)</small><table border=\"1\" class=\"dataframe\"><thead><tr><th>중분류</th><th>count</th></tr><tr><td>str</td><td>u32</td></tr></thead><tbody><tr><td>&quot;B&quot;</td><td>817124</td></tr><tr><td>&quot;D&quot;</td><td>284027</td></tr><tr><td>&quot;C&quot;</td><td>2482677</td></tr><tr><td>&quot;A&quot;</td><td>14790124</td></tr></tbody></table></div>"
      ],
      "text/plain": [
       "shape: (4, 2)\n",
       "┌────────┬──────────┐\n",
       "│ 중분류 ┆ count    │\n",
       "│ ---    ┆ ---      │\n",
       "│ str    ┆ u32      │\n",
       "╞════════╪══════════╡\n",
       "│ B      ┆ 817124   │\n",
       "│ D      ┆ 284027   │\n",
       "│ C      ┆ 2482677  │\n",
       "│ A      ┆ 14790124 │\n",
       "└────────┴──────────┘"
      ]
     },
     "execution_count": 24,
     "metadata": {},
     "output_type": "execute_result"
    }
   ],
   "source": [
    "df_joined_inner_상품전체_고객전체['중분류'].value_counts()"
   ]
  },
  {
   "cell_type": "code",
   "execution_count": 25,
   "id": "afef0cba-3ea2-42c8-9a64-db3527273120",
   "metadata": {},
   "outputs": [],
   "source": [
    "df_joined_inner_상품전체_고객전체.write_csv('./dataset/상품전체_고객전체.csv')"
   ]
  },
  {
   "cell_type": "code",
   "execution_count": 26,
   "id": "2f1fac97-a209-4f8f-8313-855e32f1782c",
   "metadata": {},
   "outputs": [],
   "source": [
    "상품전체_고객전체 = pl.read_csv('./dataset/상품전체_고객전체.csv')"
   ]
  },
  {
   "cell_type": "code",
   "execution_count": 27,
   "id": "52f2ed02-4f68-4861-938c-8988e5d3c911",
   "metadata": {},
   "outputs": [
    {
     "data": {
      "text/html": [
       "<div><style>\n",
       ".dataframe > thead > tr,\n",
       ".dataframe > tbody > tr {\n",
       "  text-align: right;\n",
       "  white-space: pre-wrap;\n",
       "}\n",
       "</style>\n",
       "<small>shape: (18_373_952, 18)</small><table border=\"1\" class=\"dataframe\"><thead><tr><th>기준년월</th><th>고객ID</th><th>연령대</th><th>성별</th><th>고객등급</th><th>자택_시도</th><th>자택_시군구</th><th>수신_요구불예금</th><th>수신_거치식예금</th><th>수신_적립식예금</th><th>수신_펀드</th><th>수신_외화예금</th><th>대출금액</th><th>카드_사용횟수</th><th>카드_승인금액</th><th>카드_사용여부</th><th>KMeans_DB_KneeLocato_2030</th><th>중분류</th></tr><tr><td>i64</td><td>i64</td><td>str</td><td>str</td><td>str</td><td>str</td><td>str</td><td>i64</td><td>i64</td><td>i64</td><td>i64</td><td>i64</td><td>i64</td><td>i64</td><td>i64</td><td>i64</td><td>i64</td><td>str</td></tr></thead><tbody><tr><td>202101</td><td>9996691351</td><td>&quot;30대&quot;</td><td>&quot;남&quot;</td><td>&quot;일반등급&quot;</td><td>&quot;경상북도&quot;</td><td>&quot;성주군&quot;</td><td>200000</td><td>0</td><td>0</td><td>0</td><td>0</td><td>0</td><td>0</td><td>0</td><td>0</td><td>0</td><td>&quot;A&quot;</td></tr><tr><td>202101</td><td>9996689486</td><td>&quot;30대&quot;</td><td>&quot;여&quot;</td><td>&quot;일반등급&quot;</td><td>&quot;대구광역시&quot;</td><td>&quot;달서구&quot;</td><td>34000000</td><td>0</td><td>0</td><td>0</td><td>0</td><td>0</td><td>0</td><td>0</td><td>0</td><td>3</td><td>&quot;D&quot;</td></tr><tr><td>202101</td><td>9996680650</td><td>&quot;30대&quot;</td><td>&quot;여&quot;</td><td>&quot;일반등급&quot;</td><td>&quot;경상북도&quot;</td><td>&quot;구미시&quot;</td><td>100000</td><td>0</td><td>0</td><td>0</td><td>0</td><td>0</td><td>0</td><td>0</td><td>0</td><td>0</td><td>&quot;A&quot;</td></tr><tr><td>202101</td><td>9996676637</td><td>&quot;30대&quot;</td><td>&quot;여&quot;</td><td>&quot;일반등급&quot;</td><td>&quot;경상북도&quot;</td><td>&quot;구미시&quot;</td><td>4300000</td><td>0</td><td>0</td><td>0</td><td>0</td><td>0</td><td>0</td><td>0</td><td>0</td><td>0</td><td>&quot;A&quot;</td></tr><tr><td>202101</td><td>9996666899</td><td>&quot;30대&quot;</td><td>&quot;남&quot;</td><td>&quot;일반등급&quot;</td><td>&quot;경상북도&quot;</td><td>&quot;구미시&quot;</td><td>3500000</td><td>0</td><td>400000</td><td>12000000</td><td>0</td><td>0</td><td>2</td><td>70000</td><td>1</td><td>0</td><td>&quot;A&quot;</td></tr><tr><td>&hellip;</td><td>&hellip;</td><td>&hellip;</td><td>&hellip;</td><td>&hellip;</td><td>&hellip;</td><td>&hellip;</td><td>&hellip;</td><td>&hellip;</td><td>&hellip;</td><td>&hellip;</td><td>&hellip;</td><td>&hellip;</td><td>&hellip;</td><td>&hellip;</td><td>&hellip;</td><td>&hellip;</td><td>&hellip;</td></tr><tr><td>202312</td><td>2000399321</td><td>&quot;30대&quot;</td><td>&quot;남&quot;</td><td>&quot;일반등급&quot;</td><td>&quot;경상남도&quot;</td><td>&quot;고성군&quot;</td><td>0</td><td>0</td><td>0</td><td>0</td><td>0</td><td>100000</td><td>0</td><td>0</td><td>0</td><td>0</td><td>&quot;A&quot;</td></tr><tr><td>202312</td><td>2000393761</td><td>&quot;30대&quot;</td><td>&quot;남&quot;</td><td>&quot;일반등급&quot;</td><td>&quot;서울특별시&quot;</td><td>&quot;구로구&quot;</td><td>0</td><td>0</td><td>0</td><td>0</td><td>0</td><td>100000</td><td>0</td><td>0</td><td>0</td><td>0</td><td>&quot;A&quot;</td></tr><tr><td>202312</td><td>2000380811</td><td>&quot;30대&quot;</td><td>&quot;남&quot;</td><td>&quot;일반등급&quot;</td><td>&quot;경상북도&quot;</td><td>&quot;포항시 남구&quot;</td><td>0</td><td>0</td><td>0</td><td>0</td><td>0</td><td>100000</td><td>0</td><td>0</td><td>0</td><td>0</td><td>&quot;A&quot;</td></tr><tr><td>202312</td><td>2000379801</td><td>&quot;20대&quot;</td><td>&quot;여&quot;</td><td>&quot;일반등급&quot;</td><td>&quot;서울특별시&quot;</td><td>&quot;강북구&quot;</td><td>0</td><td>0</td><td>0</td><td>0</td><td>0</td><td>100000</td><td>0</td><td>0</td><td>0</td><td>0</td><td>&quot;A&quot;</td></tr><tr><td>202312</td><td>2000369205</td><td>&quot;20대&quot;</td><td>&quot;여&quot;</td><td>&quot;일반등급&quot;</td><td>&quot;경기도&quot;</td><td>&quot;광주시&quot;</td><td>0</td><td>0</td><td>0</td><td>0</td><td>0</td><td>100000</td><td>0</td><td>0</td><td>0</td><td>0</td><td>&quot;A&quot;</td></tr></tbody></table></div>"
      ],
      "text/plain": [
       "shape: (18_373_952, 18)\n",
       "┌─────────┬─────────┬────────┬──────┬───┬─────────┬─────────┬─────────┬────────┐\n",
       "│ 기준년  ┆ 고객ID  ┆ 연령대 ┆ 성별 ┆ … ┆ 카드_승 ┆ 카드_사 ┆ KMeans_ ┆ 중분류 │\n",
       "│ 월      ┆ ---     ┆ ---    ┆ ---  ┆   ┆ 인금액  ┆ 용여부  ┆ DB_Knee ┆ ---    │\n",
       "│ ---     ┆ i64     ┆ str    ┆ str  ┆   ┆ ---     ┆ ---     ┆ Locato_ ┆ str    │\n",
       "│ i64     ┆         ┆        ┆      ┆   ┆ i64     ┆ i64     ┆ 2030    ┆        │\n",
       "│         ┆         ┆        ┆      ┆   ┆         ┆         ┆ ---     ┆        │\n",
       "│         ┆         ┆        ┆      ┆   ┆         ┆         ┆ i64     ┆        │\n",
       "╞═════════╪═════════╪════════╪══════╪═══╪═════════╪═════════╪═════════╪════════╡\n",
       "│ 202101  ┆ 9996691 ┆ 30대   ┆ 남   ┆ … ┆ 0       ┆ 0       ┆ 0       ┆ A      │\n",
       "│         ┆ 351     ┆        ┆      ┆   ┆         ┆         ┆         ┆        │\n",
       "│ 202101  ┆ 9996689 ┆ 30대   ┆ 여   ┆ … ┆ 0       ┆ 0       ┆ 3       ┆ D      │\n",
       "│         ┆ 486     ┆        ┆      ┆   ┆         ┆         ┆         ┆        │\n",
       "│ 202101  ┆ 9996680 ┆ 30대   ┆ 여   ┆ … ┆ 0       ┆ 0       ┆ 0       ┆ A      │\n",
       "│         ┆ 650     ┆        ┆      ┆   ┆         ┆         ┆         ┆        │\n",
       "│ 202101  ┆ 9996676 ┆ 30대   ┆ 여   ┆ … ┆ 0       ┆ 0       ┆ 0       ┆ A      │\n",
       "│         ┆ 637     ┆        ┆      ┆   ┆         ┆         ┆         ┆        │\n",
       "│ 202101  ┆ 9996666 ┆ 30대   ┆ 남   ┆ … ┆ 70000   ┆ 1       ┆ 0       ┆ A      │\n",
       "│         ┆ 899     ┆        ┆      ┆   ┆         ┆         ┆         ┆        │\n",
       "│ …       ┆ …       ┆ …      ┆ …    ┆ … ┆ …       ┆ …       ┆ …       ┆ …      │\n",
       "│ 202312  ┆ 2000399 ┆ 30대   ┆ 남   ┆ … ┆ 0       ┆ 0       ┆ 0       ┆ A      │\n",
       "│         ┆ 321     ┆        ┆      ┆   ┆         ┆         ┆         ┆        │\n",
       "│ 202312  ┆ 2000393 ┆ 30대   ┆ 남   ┆ … ┆ 0       ┆ 0       ┆ 0       ┆ A      │\n",
       "│         ┆ 761     ┆        ┆      ┆   ┆         ┆         ┆         ┆        │\n",
       "│ 202312  ┆ 2000380 ┆ 30대   ┆ 남   ┆ … ┆ 0       ┆ 0       ┆ 0       ┆ A      │\n",
       "│         ┆ 811     ┆        ┆      ┆   ┆         ┆         ┆         ┆        │\n",
       "│ 202312  ┆ 2000379 ┆ 20대   ┆ 여   ┆ … ┆ 0       ┆ 0       ┆ 0       ┆ A      │\n",
       "│         ┆ 801     ┆        ┆      ┆   ┆         ┆         ┆         ┆        │\n",
       "│ 202312  ┆ 2000369 ┆ 20대   ┆ 여   ┆ … ┆ 0       ┆ 0       ┆ 0       ┆ A      │\n",
       "│         ┆ 205     ┆        ┆      ┆   ┆         ┆         ┆         ┆        │\n",
       "└─────────┴─────────┴────────┴──────┴───┴─────────┴─────────┴─────────┴────────┘"
      ]
     },
     "execution_count": 27,
     "metadata": {},
     "output_type": "execute_result"
    }
   ],
   "source": [
    "상품전체_고객전체"
   ]
  },
  {
   "cell_type": "code",
   "execution_count": 28,
   "id": "b2a70751-4201-48e7-be5d-1bfa8d0d44f1",
   "metadata": {},
   "outputs": [
    {
     "data": {
      "text/html": [
       "<div><style>\n",
       ".dataframe > thead > tr,\n",
       ".dataframe > tbody > tr {\n",
       "  text-align: right;\n",
       "  white-space: pre-wrap;\n",
       "}\n",
       "</style>\n",
       "<small>shape: (4, 2)</small><table border=\"1\" class=\"dataframe\"><thead><tr><th>중분류</th><th>count</th></tr><tr><td>str</td><td>u32</td></tr></thead><tbody><tr><td>&quot;D&quot;</td><td>284027</td></tr><tr><td>&quot;B&quot;</td><td>817124</td></tr><tr><td>&quot;C&quot;</td><td>2482677</td></tr><tr><td>&quot;A&quot;</td><td>14790124</td></tr></tbody></table></div>"
      ],
      "text/plain": [
       "shape: (4, 2)\n",
       "┌────────┬──────────┐\n",
       "│ 중분류 ┆ count    │\n",
       "│ ---    ┆ ---      │\n",
       "│ str    ┆ u32      │\n",
       "╞════════╪══════════╡\n",
       "│ D      ┆ 284027   │\n",
       "│ B      ┆ 817124   │\n",
       "│ C      ┆ 2482677  │\n",
       "│ A      ┆ 14790124 │\n",
       "└────────┴──────────┘"
      ]
     },
     "execution_count": 28,
     "metadata": {},
     "output_type": "execute_result"
    }
   ],
   "source": [
    "상품전체_고객전체['중분류'].value_counts()"
   ]
  },
  {
   "cell_type": "code",
   "execution_count": 29,
   "id": "1838a903-8cb1-4652-bd61-51908d7062f9",
   "metadata": {},
   "outputs": [
    {
     "name": "stdout",
     "output_type": "stream",
     "text": [
      "(18373952, 18)\n",
      "18373952\n",
      "18373952\n",
      "599499\n"
     ]
    }
   ],
   "source": [
    "print(상품전체_고객전체.shape)\n",
    "print(상품전체_고객전체.shape[0])\n",
    "print(len(상품전체_고객전체['고객ID']))\n",
    "print(len(상품전체_고객전체['고객ID'].unique()))"
   ]
  },
  {
   "cell_type": "markdown",
   "id": "fff2b443-8fb6-4566-b918-623518905af7",
   "metadata": {},
   "source": [
    "### 상품전체_고객집계"
   ]
  },
  {
   "cell_type": "code",
   "execution_count": 32,
   "id": "fe83377e-dbfe-4905-bb83-f2a445eadc8f",
   "metadata": {},
   "outputs": [
    {
     "name": "stdout",
     "output_type": "stream",
     "text": [
      "['기준년월', '고객ID', '연령대', '성별', '고객등급', '자택_시도', '자택_시군구', '수신_요구불예금', '수신_거치식예금', '수신_적립식예금', '수신_펀드', '수신_외화예금', '대출금액', '카드_사용횟수', '카드_승인금액', '카드_사용여부', 'KMeans_DB_KneeLocato_2030', '중분류']\n"
     ]
    }
   ],
   "source": [
    "print(list(상품전체_고객전체.columns))"
   ]
  },
  {
   "cell_type": "code",
   "execution_count": 40,
   "id": "9e38fe6a-7dfd-41ab-8a2b-2bbb54c51198",
   "metadata": {},
   "outputs": [],
   "source": [
    "def aggregate_customer_data_all(df: pl.DataFrame) -> pl.DataFrame:\n",
    "    \"\"\"\n",
    "    고객 단위로 주요 금융 항목을 집계하여 요약 데이터를 생성합니다.\n",
    "\n",
    "    처리 내용:\n",
    "    1. '기준금리', '성별' 컬럼 제거\n",
    "    2. 고객ID 기준 그룹화 후 다음과 같이 집계:\n",
    "        - 입출금예금, 기타예금, 비이자상품, 카드, 대출, 총점수: 평균값\n",
    "        - 거래기간(개월), 연령대: 최대값\n",
    "        - 보유상품수:\n",
    "            - 최대_보유상품종류: 최대값\n",
    "            - 평균_보유상품종류: 평균값을 반올림 후 Int8 형으로 변환\n",
    "\n",
    "    Parameters:\n",
    "        df (pl.DataFrame): 원본 고객 월별 데이터\n",
    "\n",
    "    Returns:\n",
    "        pl.DataFrame: 고객ID 기준으로 집계된 요약 데이터프레임\n",
    "    \"\"\"\n",
    "\n",
    "    df_agg = (\n",
    "        df\n",
    "        .group_by(\"고객ID\")\n",
    "        .agg([\n",
    "            pl.col(\"수신_요구불예금\").mean().alias(\"평균_수신_요구불금예금\"),\n",
    "            pl.col(\"수신_거치식예금\").mean().alias(\"평균_수신_거치식예금\"),\n",
    "            pl.col(\"수신_적립식예금\").mean().alias(\"평균_수신_적립식예금\"),\n",
    "            pl.col(\"수신_펀드\").mean().alias(\"평균_수신_펀드\"),\n",
    "            pl.col(\"수신_외화예금\").mean().alias(\"평균_수신_외화예금\"),\n",
    "            pl.col(\"대출금액\").mean().alias(\"평균_대출금액\"),\n",
    "            pl.col(\"카드_사용횟수\").mean().alias(\"평균_카드_사용횟수\"),\n",
    "            pl.col(\"카드_승인금액\").mean().alias(\"평균_카드_승인금액\"),\n",
    "            pl.col(\"카드_사용여부\").mean().alias(\"평균_카드_사용여부\"),\n",
    "            pl.col(\"연령대\").max().alias(\"연령대\"),\n",
    "            pl.col(\"고객등급\").max().alias(\"최대_고객등급\"),\n",
    "            # 클러스터 관련 컬럼 (대표값으로 유지)\n",
    "            pl.col(\"KMeans_DB_KneeLocato_2030\").first().alias(\"KMeans_DB_KneeLocato_2030\"),\n",
    "            pl.col(\"중분류\").first().alias(\"중분류\")\n",
    "        ])\n",
    "    )\n",
    "    return df_agg"
   ]
  },
  {
   "cell_type": "code",
   "execution_count": 41,
   "id": "c1595696-88fb-45fd-ad9d-fa30052ce2a8",
   "metadata": {},
   "outputs": [],
   "source": [
    "상품전체_고객전체_집계 = aggregate_customer_data_all(상품전체_고객전체)"
   ]
  },
  {
   "cell_type": "code",
   "execution_count": 42,
   "id": "b456b9d4-0a4a-4a8d-986a-6bc8ded4dabb",
   "metadata": {},
   "outputs": [
    {
     "data": {
      "text/html": [
       "<div><style>\n",
       ".dataframe > thead > tr,\n",
       ".dataframe > tbody > tr {\n",
       "  text-align: right;\n",
       "  white-space: pre-wrap;\n",
       "}\n",
       "</style>\n",
       "<small>shape: (599_499, 14)</small><table border=\"1\" class=\"dataframe\"><thead><tr><th>고객ID</th><th>평균_수신_요구불금예금</th><th>평균_수신_거치식예금</th><th>평균_수신_적립식예금</th><th>평균_수신_펀드</th><th>평균_수신_외화예금</th><th>평균_대출금액</th><th>평균_카드_사용횟수</th><th>평균_카드_승인금액</th><th>평균_카드_사용여부</th><th>연령대</th><th>최대_고객등급</th><th>KMeans_DB_KneeLocato_2030</th><th>중분류</th></tr><tr><td>i64</td><td>f64</td><td>f64</td><td>f64</td><td>f64</td><td>f64</td><td>f64</td><td>f64</td><td>f64</td><td>f64</td><td>str</td><td>str</td><td>i64</td><td>str</td></tr></thead><tbody><tr><td>4634799869</td><td>0.0</td><td>0.0</td><td>5555.555556</td><td>0.0</td><td>0.0</td><td>0.0</td><td>18.555556</td><td>426944.444444</td><td>0.916667</td><td>&quot;20대&quot;</td><td>&quot;일반등급&quot;</td><td>0</td><td>&quot;A&quot;</td></tr><tr><td>3857596621</td><td>361111.111111</td><td>0.0</td><td>0.0</td><td>0.0</td><td>0.0</td><td>0.0</td><td>3.75</td><td>76111.111111</td><td>0.805556</td><td>&quot;20대&quot;</td><td>&quot;일반등급&quot;</td><td>0</td><td>&quot;A&quot;</td></tr><tr><td>2745893391</td><td>690909.090909</td><td>0.0</td><td>0.0</td><td>0.0</td><td>0.0</td><td>0.0</td><td>11.863636</td><td>531818.181818</td><td>0.818182</td><td>&quot;20대&quot;</td><td>&quot;일반등급&quot;</td><td>0</td><td>&quot;A&quot;</td></tr><tr><td>2034216836</td><td>200000.0</td><td>0.0</td><td>0.0</td><td>0.0</td><td>0.0</td><td>2e6</td><td>0.0</td><td>0.0</td><td>0.0</td><td>&quot;30대&quot;</td><td>&quot;일반등급&quot;</td><td>0</td><td>&quot;A&quot;</td></tr><tr><td>6164128312</td><td>83333.333333</td><td>0.0</td><td>0.0</td><td>0.0</td><td>0.0</td><td>0.0</td><td>0.0</td><td>0.0</td><td>0.0</td><td>&quot;30대&quot;</td><td>&quot;일반등급&quot;</td><td>0</td><td>&quot;A&quot;</td></tr><tr><td>&hellip;</td><td>&hellip;</td><td>&hellip;</td><td>&hellip;</td><td>&hellip;</td><td>&hellip;</td><td>&hellip;</td><td>&hellip;</td><td>&hellip;</td><td>&hellip;</td><td>&hellip;</td><td>&hellip;</td><td>&hellip;</td><td>&hellip;</td></tr><tr><td>6588397292</td><td>7.5379e6</td><td>0.0</td><td>0.0</td><td>0.0</td><td>0.0</td><td>0.0</td><td>13.793103</td><td>814482.758621</td><td>1.0</td><td>&quot;30대&quot;</td><td>&quot;일반등급&quot;</td><td>6</td><td>&quot;C&quot;</td></tr><tr><td>4107061582</td><td>297222.222222</td><td>0.0</td><td>2.5917e6</td><td>0.0</td><td>0.0</td><td>0.0</td><td>0.0</td><td>0.0</td><td>0.0</td><td>&quot;20대&quot;</td><td>&quot;일반등급&quot;</td><td>0</td><td>&quot;A&quot;</td></tr><tr><td>3686251256</td><td>680555.555556</td><td>0.0</td><td>0.0</td><td>0.0</td><td>0.0</td><td>4.3083e6</td><td>2.277778</td><td>191666.666667</td><td>0.472222</td><td>&quot;30대&quot;</td><td>&quot;일반등급&quot;</td><td>0</td><td>&quot;A&quot;</td></tr><tr><td>2455539276</td><td>0.0</td><td>0.0</td><td>0.0</td><td>0.0</td><td>0.0</td><td>816666.666667</td><td>0.0</td><td>0.0</td><td>0.0</td><td>&quot;20대&quot;</td><td>&quot;일반등급&quot;</td><td>0</td><td>&quot;A&quot;</td></tr><tr><td>4642674589</td><td>4.0361e6</td><td>0.0</td><td>1.5917e6</td><td>0.0</td><td>0.0</td><td>0.0</td><td>1.222222</td><td>38333.333333</td><td>0.166667</td><td>&quot;20대&quot;</td><td>&quot;일반등급&quot;</td><td>0</td><td>&quot;A&quot;</td></tr></tbody></table></div>"
      ],
      "text/plain": [
       "shape: (599_499, 14)\n",
       "┌─────────┬─────────┬─────────┬────────┬───┬────────┬────────┬────────┬────────┐\n",
       "│ 고객ID  ┆ 평균_수 ┆ 평균_수 ┆ 평균_  ┆ … ┆ 연령대 ┆ 최대_  ┆ KMeans ┆ 중분류 │\n",
       "│ ---     ┆ 신_요구 ┆ 신_거치 ┆ 수신_  ┆   ┆ ---    ┆ 고객등 ┆ _DB_Kn ┆ ---    │\n",
       "│ i64     ┆ 불금예  ┆ 식예금  ┆ 적립식 ┆   ┆ str    ┆ 급     ┆ eeLoca ┆ str    │\n",
       "│         ┆ 금      ┆ ---     ┆ 예금   ┆   ┆        ┆ ---    ┆ to_203 ┆        │\n",
       "│         ┆ ---     ┆ f64     ┆ ---    ┆   ┆        ┆ str    ┆ 0      ┆        │\n",
       "│         ┆ f64     ┆         ┆ f64    ┆   ┆        ┆        ┆ ---    ┆        │\n",
       "│         ┆         ┆         ┆        ┆   ┆        ┆        ┆ i64    ┆        │\n",
       "╞═════════╪═════════╪═════════╪════════╪═══╪════════╪════════╪════════╪════════╡\n",
       "│ 4634799 ┆ 0.0     ┆ 0.0     ┆ 5555.5 ┆ … ┆ 20대   ┆ 일반등 ┆ 0      ┆ A      │\n",
       "│ 869     ┆         ┆         ┆ 55556  ┆   ┆        ┆ 급     ┆        ┆        │\n",
       "│ 3857596 ┆ 361111. ┆ 0.0     ┆ 0.0    ┆ … ┆ 20대   ┆ 일반등 ┆ 0      ┆ A      │\n",
       "│ 621     ┆ 111111  ┆         ┆        ┆   ┆        ┆ 급     ┆        ┆        │\n",
       "│ 2745893 ┆ 690909. ┆ 0.0     ┆ 0.0    ┆ … ┆ 20대   ┆ 일반등 ┆ 0      ┆ A      │\n",
       "│ 391     ┆ 090909  ┆         ┆        ┆   ┆        ┆ 급     ┆        ┆        │\n",
       "│ 2034216 ┆ 200000. ┆ 0.0     ┆ 0.0    ┆ … ┆ 30대   ┆ 일반등 ┆ 0      ┆ A      │\n",
       "│ 836     ┆ 0       ┆         ┆        ┆   ┆        ┆ 급     ┆        ┆        │\n",
       "│ 6164128 ┆ 83333.3 ┆ 0.0     ┆ 0.0    ┆ … ┆ 30대   ┆ 일반등 ┆ 0      ┆ A      │\n",
       "│ 312     ┆ 33333   ┆         ┆        ┆   ┆        ┆ 급     ┆        ┆        │\n",
       "│ …       ┆ …       ┆ …       ┆ …      ┆ … ┆ …      ┆ …      ┆ …      ┆ …      │\n",
       "│ 6588397 ┆ 7.5379e ┆ 0.0     ┆ 0.0    ┆ … ┆ 30대   ┆ 일반등 ┆ 6      ┆ C      │\n",
       "│ 292     ┆ 6       ┆         ┆        ┆   ┆        ┆ 급     ┆        ┆        │\n",
       "│ 4107061 ┆ 297222. ┆ 0.0     ┆ 2.5917 ┆ … ┆ 20대   ┆ 일반등 ┆ 0      ┆ A      │\n",
       "│ 582     ┆ 222222  ┆         ┆ e6     ┆   ┆        ┆ 급     ┆        ┆        │\n",
       "│ 3686251 ┆ 680555. ┆ 0.0     ┆ 0.0    ┆ … ┆ 30대   ┆ 일반등 ┆ 0      ┆ A      │\n",
       "│ 256     ┆ 555556  ┆         ┆        ┆   ┆        ┆ 급     ┆        ┆        │\n",
       "│ 2455539 ┆ 0.0     ┆ 0.0     ┆ 0.0    ┆ … ┆ 20대   ┆ 일반등 ┆ 0      ┆ A      │\n",
       "│ 276     ┆         ┆         ┆        ┆   ┆        ┆ 급     ┆        ┆        │\n",
       "│ 4642674 ┆ 4.0361e ┆ 0.0     ┆ 1.5917 ┆ … ┆ 20대   ┆ 일반등 ┆ 0      ┆ A      │\n",
       "│ 589     ┆ 6       ┆         ┆ e6     ┆   ┆        ┆ 급     ┆        ┆        │\n",
       "└─────────┴─────────┴─────────┴────────┴───┴────────┴────────┴────────┴────────┘"
      ]
     },
     "execution_count": 42,
     "metadata": {},
     "output_type": "execute_result"
    }
   ],
   "source": [
    "상품전체_고객전체_집계"
   ]
  },
  {
   "cell_type": "code",
   "execution_count": 43,
   "id": "11aae372-2b4e-4c52-a365-be115eea7ef6",
   "metadata": {},
   "outputs": [
    {
     "data": {
      "text/html": [
       "<div><style>\n",
       ".dataframe > thead > tr,\n",
       ".dataframe > tbody > tr {\n",
       "  text-align: right;\n",
       "  white-space: pre-wrap;\n",
       "}\n",
       "</style>\n",
       "<small>shape: (4, 2)</small><table border=\"1\" class=\"dataframe\"><thead><tr><th>중분류</th><th>count</th></tr><tr><td>str</td><td>u32</td></tr></thead><tbody><tr><td>&quot;A&quot;</td><td>484649</td></tr><tr><td>&quot;C&quot;</td><td>70620</td></tr><tr><td>&quot;D&quot;</td><td>8759</td></tr><tr><td>&quot;B&quot;</td><td>35471</td></tr></tbody></table></div>"
      ],
      "text/plain": [
       "shape: (4, 2)\n",
       "┌────────┬────────┐\n",
       "│ 중분류 ┆ count  │\n",
       "│ ---    ┆ ---    │\n",
       "│ str    ┆ u32    │\n",
       "╞════════╪════════╡\n",
       "│ A      ┆ 484649 │\n",
       "│ C      ┆ 70620  │\n",
       "│ D      ┆ 8759   │\n",
       "│ B      ┆ 35471  │\n",
       "└────────┴────────┘"
      ]
     },
     "execution_count": 43,
     "metadata": {},
     "output_type": "execute_result"
    }
   ],
   "source": [
    "상품전체_고객전체_집계['중분류'].value_counts()"
   ]
  },
  {
   "cell_type": "code",
   "execution_count": 44,
   "id": "4a47684a-6ed1-4a24-9864-bbe2c8b24804",
   "metadata": {},
   "outputs": [
    {
     "data": {
      "text/plain": [
       "(599499, 14)"
      ]
     },
     "execution_count": 44,
     "metadata": {},
     "output_type": "execute_result"
    }
   ],
   "source": [
    "상품전체_고객전체_집계.shape"
   ]
  },
  {
   "cell_type": "code",
   "execution_count": 45,
   "id": "0a6514aa-d949-43f4-a4f7-14ecfcf9670f",
   "metadata": {},
   "outputs": [],
   "source": [
    "상품전체_고객전체_집계.write_csv('./dataset/상품전체_고객집계.csv')"
   ]
  },
  {
   "cell_type": "markdown",
   "id": "cca69434-2b33-4eb4-8f4e-f46b3f8f2af8",
   "metadata": {},
   "source": [
    "## CUSTOMER_SCORE_금리_9_2030_중분류 수정 -> 상품집계"
   ]
  },
  {
   "cell_type": "markdown",
   "id": "0241769b-14d1-48ed-8323-9582b0474305",
   "metadata": {},
   "source": [
    "### 상품집계_고객전체"
   ]
  },
  {
   "cell_type": "code",
   "execution_count": 46,
   "id": "bdd2f1b1-1d47-4aaf-b520-4c810fde4dfb",
   "metadata": {},
   "outputs": [
    {
     "data": {
      "text/html": [
       "<div><style>\n",
       ".dataframe > thead > tr,\n",
       ".dataframe > tbody > tr {\n",
       "  text-align: right;\n",
       "  white-space: pre-wrap;\n",
       "}\n",
       "</style>\n",
       "<small>shape: (16_063_094, 16)</small><table border=\"1\" class=\"dataframe\"><thead><tr><th>고객ID</th><th>기준년월</th><th>연령대</th><th>성별</th><th>고객등급</th><th>입출금예금</th><th>기타예금</th><th>비이자상품</th><th>카드</th><th>대출</th><th>기준금리</th><th>보유상품수</th><th>거래기간(개월)</th><th>총점수</th><th>KMeans_DB_KneeLocato_2030</th><th>중분류</th></tr><tr><td>i64</td><td>i64</td><td>i64</td><td>str</td><td>str</td><td>i64</td><td>i64</td><td>i64</td><td>i64</td><td>i64</td><td>f64</td><td>i64</td><td>i64</td><td>f64</td><td>i64</td><td>str</td></tr></thead><tbody><tr><td>9996691351</td><td>202106</td><td>30</td><td>&quot;남&quot;</td><td>&quot;일반등급&quot;</td><td>2500000</td><td>0</td><td>0</td><td>0</td><td>0</td><td>4.55</td><td>1</td><td>6</td><td>231.333333</td><td>0</td><td>&quot;B: 저활동 그룹(클러스터 0)&quot;</td></tr><tr><td>9996689486</td><td>202106</td><td>30</td><td>&quot;여&quot;</td><td>&quot;일반등급&quot;</td><td>17000000</td><td>0</td><td>0</td><td>340000</td><td>0</td><td>4.55</td><td>2</td><td>6</td><td>2029.666667</td><td>3</td><td>&quot;D: 고활동 그룹(클러스터 2,3,8)&quot;</td></tr><tr><td>9996680650</td><td>202106</td><td>30</td><td>&quot;여&quot;</td><td>&quot;일반등급&quot;</td><td>100000</td><td>0</td><td>0</td><td>0</td><td>0</td><td>4.55</td><td>1</td><td>6</td><td>20.666667</td><td>0</td><td>&quot;B: 저활동 그룹(클러스터 0)&quot;</td></tr><tr><td>9996676637</td><td>202106</td><td>30</td><td>&quot;여&quot;</td><td>&quot;일반등급&quot;</td><td>4900000</td><td>0</td><td>0</td><td>0</td><td>0</td><td>4.55</td><td>1</td><td>6</td><td>391.333333</td><td>0</td><td>&quot;B: 저활동 그룹(클러스터 0)&quot;</td></tr><tr><td>9996666899</td><td>202106</td><td>30</td><td>&quot;남&quot;</td><td>&quot;일반등급&quot;</td><td>700000</td><td>4100000</td><td>9800000</td><td>0</td><td>0</td><td>4.55</td><td>3</td><td>6</td><td>815.333333</td><td>0</td><td>&quot;B: 저활동 그룹(클러스터 0)&quot;</td></tr><tr><td>&hellip;</td><td>&hellip;</td><td>&hellip;</td><td>&hellip;</td><td>&hellip;</td><td>&hellip;</td><td>&hellip;</td><td>&hellip;</td><td>&hellip;</td><td>&hellip;</td><td>&hellip;</td><td>&hellip;</td><td>&hellip;</td><td>&hellip;</td><td>&hellip;</td><td>&hellip;</td></tr><tr><td>2000399321</td><td>202312</td><td>30</td><td>&quot;남&quot;</td><td>&quot;일반등급&quot;</td><td>0</td><td>0</td><td>0</td><td>0</td><td>100000</td><td>9.18</td><td>1</td><td>1</td><td>17.991667</td><td>0</td><td>&quot;B: 저활동 그룹(클러스터 0)&quot;</td></tr><tr><td>2000393761</td><td>202312</td><td>30</td><td>&quot;남&quot;</td><td>&quot;일반등급&quot;</td><td>0</td><td>0</td><td>0</td><td>0</td><td>100000</td><td>9.18</td><td>1</td><td>1</td><td>17.991667</td><td>0</td><td>&quot;B: 저활동 그룹(클러스터 0)&quot;</td></tr><tr><td>2000380811</td><td>202312</td><td>30</td><td>&quot;남&quot;</td><td>&quot;일반등급&quot;</td><td>0</td><td>0</td><td>0</td><td>0</td><td>100000</td><td>9.18</td><td>1</td><td>1</td><td>17.991667</td><td>0</td><td>&quot;B: 저활동 그룹(클러스터 0)&quot;</td></tr><tr><td>2000379801</td><td>202312</td><td>20</td><td>&quot;여&quot;</td><td>&quot;일반등급&quot;</td><td>0</td><td>0</td><td>0</td><td>0</td><td>100000</td><td>9.18</td><td>1</td><td>1</td><td>17.991667</td><td>0</td><td>&quot;B: 저활동 그룹(클러스터 0)&quot;</td></tr><tr><td>2000369205</td><td>202312</td><td>20</td><td>&quot;여&quot;</td><td>&quot;일반등급&quot;</td><td>0</td><td>0</td><td>0</td><td>0</td><td>100000</td><td>9.18</td><td>1</td><td>1</td><td>17.991667</td><td>0</td><td>&quot;B: 저활동 그룹(클러스터 0)&quot;</td></tr></tbody></table></div>"
      ],
      "text/plain": [
       "shape: (16_063_094, 16)\n",
       "┌─────────┬─────────┬────────┬──────┬───┬─────────┬─────────┬─────────┬────────┐\n",
       "│ 고객ID  ┆ 기준년  ┆ 연령대 ┆ 성별 ┆ … ┆ 거래기  ┆ 총점수  ┆ KMeans_ ┆ 중분류 │\n",
       "│ ---     ┆ 월      ┆ ---    ┆ ---  ┆   ┆ 간(개월 ┆ ---     ┆ DB_Knee ┆ ---    │\n",
       "│ i64     ┆ ---     ┆ i64    ┆ str  ┆   ┆ )       ┆ f64     ┆ Locato_ ┆ str    │\n",
       "│         ┆ i64     ┆        ┆      ┆   ┆ ---     ┆         ┆ 2030    ┆        │\n",
       "│         ┆         ┆        ┆      ┆   ┆ i64     ┆         ┆ ---     ┆        │\n",
       "│         ┆         ┆        ┆      ┆   ┆         ┆         ┆ i64     ┆        │\n",
       "╞═════════╪═════════╪════════╪══════╪═══╪═════════╪═════════╪═════════╪════════╡\n",
       "│ 9996691 ┆ 202106  ┆ 30     ┆ 남   ┆ … ┆ 6       ┆ 231.333 ┆ 0       ┆ B:     │\n",
       "│ 351     ┆         ┆        ┆      ┆   ┆         ┆ 333     ┆         ┆ 저활동 │\n",
       "│         ┆         ┆        ┆      ┆   ┆         ┆         ┆         ┆ 그룹(  │\n",
       "│         ┆         ┆        ┆      ┆   ┆         ┆         ┆         ┆ 클러스 │\n",
       "│         ┆         ┆        ┆      ┆   ┆         ┆         ┆         ┆ 터 0)  │\n",
       "│ 9996689 ┆ 202106  ┆ 30     ┆ 여   ┆ … ┆ 6       ┆ 2029.66 ┆ 3       ┆ D:     │\n",
       "│ 486     ┆         ┆        ┆      ┆   ┆         ┆ 6667    ┆         ┆ 고활동 │\n",
       "│         ┆         ┆        ┆      ┆   ┆         ┆         ┆         ┆ 그룹(  │\n",
       "│         ┆         ┆        ┆      ┆   ┆         ┆         ┆         ┆ 클러스 │\n",
       "│         ┆         ┆        ┆      ┆   ┆         ┆         ┆         ┆ 터     │\n",
       "│         ┆         ┆        ┆      ┆   ┆         ┆         ┆         ┆ 2,3,8) │\n",
       "│ 9996680 ┆ 202106  ┆ 30     ┆ 여   ┆ … ┆ 6       ┆ 20.6666 ┆ 0       ┆ B:     │\n",
       "│ 650     ┆         ┆        ┆      ┆   ┆         ┆ 67      ┆         ┆ 저활동 │\n",
       "│         ┆         ┆        ┆      ┆   ┆         ┆         ┆         ┆ 그룹(  │\n",
       "│         ┆         ┆        ┆      ┆   ┆         ┆         ┆         ┆ 클러스 │\n",
       "│         ┆         ┆        ┆      ┆   ┆         ┆         ┆         ┆ 터 0)  │\n",
       "│ 9996676 ┆ 202106  ┆ 30     ┆ 여   ┆ … ┆ 6       ┆ 391.333 ┆ 0       ┆ B:     │\n",
       "│ 637     ┆         ┆        ┆      ┆   ┆         ┆ 333     ┆         ┆ 저활동 │\n",
       "│         ┆         ┆        ┆      ┆   ┆         ┆         ┆         ┆ 그룹(  │\n",
       "│         ┆         ┆        ┆      ┆   ┆         ┆         ┆         ┆ 클러스 │\n",
       "│         ┆         ┆        ┆      ┆   ┆         ┆         ┆         ┆ 터 0)  │\n",
       "│ 9996666 ┆ 202106  ┆ 30     ┆ 남   ┆ … ┆ 6       ┆ 815.333 ┆ 0       ┆ B:     │\n",
       "│ 899     ┆         ┆        ┆      ┆   ┆         ┆ 333     ┆         ┆ 저활동 │\n",
       "│         ┆         ┆        ┆      ┆   ┆         ┆         ┆         ┆ 그룹(  │\n",
       "│         ┆         ┆        ┆      ┆   ┆         ┆         ┆         ┆ 클러스 │\n",
       "│         ┆         ┆        ┆      ┆   ┆         ┆         ┆         ┆ 터 0)  │\n",
       "│ …       ┆ …       ┆ …      ┆ …    ┆ … ┆ …       ┆ …       ┆ …       ┆ …      │\n",
       "│ 2000399 ┆ 202312  ┆ 30     ┆ 남   ┆ … ┆ 1       ┆ 17.9916 ┆ 0       ┆ B:     │\n",
       "│ 321     ┆         ┆        ┆      ┆   ┆         ┆ 67      ┆         ┆ 저활동 │\n",
       "│         ┆         ┆        ┆      ┆   ┆         ┆         ┆         ┆ 그룹(  │\n",
       "│         ┆         ┆        ┆      ┆   ┆         ┆         ┆         ┆ 클러스 │\n",
       "│         ┆         ┆        ┆      ┆   ┆         ┆         ┆         ┆ 터 0)  │\n",
       "│ 2000393 ┆ 202312  ┆ 30     ┆ 남   ┆ … ┆ 1       ┆ 17.9916 ┆ 0       ┆ B:     │\n",
       "│ 761     ┆         ┆        ┆      ┆   ┆         ┆ 67      ┆         ┆ 저활동 │\n",
       "│         ┆         ┆        ┆      ┆   ┆         ┆         ┆         ┆ 그룹(  │\n",
       "│         ┆         ┆        ┆      ┆   ┆         ┆         ┆         ┆ 클러스 │\n",
       "│         ┆         ┆        ┆      ┆   ┆         ┆         ┆         ┆ 터 0)  │\n",
       "│ 2000380 ┆ 202312  ┆ 30     ┆ 남   ┆ … ┆ 1       ┆ 17.9916 ┆ 0       ┆ B:     │\n",
       "│ 811     ┆         ┆        ┆      ┆   ┆         ┆ 67      ┆         ┆ 저활동 │\n",
       "│         ┆         ┆        ┆      ┆   ┆         ┆         ┆         ┆ 그룹(  │\n",
       "│         ┆         ┆        ┆      ┆   ┆         ┆         ┆         ┆ 클러스 │\n",
       "│         ┆         ┆        ┆      ┆   ┆         ┆         ┆         ┆ 터 0)  │\n",
       "│ 2000379 ┆ 202312  ┆ 20     ┆ 여   ┆ … ┆ 1       ┆ 17.9916 ┆ 0       ┆ B:     │\n",
       "│ 801     ┆         ┆        ┆      ┆   ┆         ┆ 67      ┆         ┆ 저활동 │\n",
       "│         ┆         ┆        ┆      ┆   ┆         ┆         ┆         ┆ 그룹(  │\n",
       "│         ┆         ┆        ┆      ┆   ┆         ┆         ┆         ┆ 클러스 │\n",
       "│         ┆         ┆        ┆      ┆   ┆         ┆         ┆         ┆ 터 0)  │\n",
       "│ 2000369 ┆ 202312  ┆ 20     ┆ 여   ┆ … ┆ 1       ┆ 17.9916 ┆ 0       ┆ B:     │\n",
       "│ 205     ┆         ┆        ┆      ┆   ┆         ┆ 67      ┆         ┆ 저활동 │\n",
       "│         ┆         ┆        ┆      ┆   ┆         ┆         ┆         ┆ 그룹(  │\n",
       "│         ┆         ┆        ┆      ┆   ┆         ┆         ┆         ┆ 클러스 │\n",
       "│         ┆         ┆        ┆      ┆   ┆         ┆         ┆         ┆ 터 0)  │\n",
       "└─────────┴─────────┴────────┴──────┴───┴─────────┴─────────┴─────────┴────────┘"
      ]
     },
     "execution_count": 46,
     "metadata": {},
     "output_type": "execute_result"
    }
   ],
   "source": [
    "CUSTOMER_SCORE_금리_9_2030_중분류"
   ]
  },
  {
   "cell_type": "code",
   "execution_count": 47,
   "id": "d50338f4-25b6-4b73-8a31-fbd17572b0e6",
   "metadata": {},
   "outputs": [],
   "source": [
    "CUSTOMER_SCORE_금리_9_2030_중분류제거 = CUSTOMER_SCORE_금리_9_2030_중분류.drop(\"중분류\")"
   ]
  },
  {
   "cell_type": "code",
   "execution_count": 48,
   "id": "b33b163b-4fb2-4d5b-81ff-d79ee43a98e6",
   "metadata": {},
   "outputs": [
    {
     "data": {
      "text/html": [
       "<div><style>\n",
       ".dataframe > thead > tr,\n",
       ".dataframe > tbody > tr {\n",
       "  text-align: right;\n",
       "  white-space: pre-wrap;\n",
       "}\n",
       "</style>\n",
       "<small>shape: (16_063_094, 15)</small><table border=\"1\" class=\"dataframe\"><thead><tr><th>고객ID</th><th>기준년월</th><th>연령대</th><th>성별</th><th>고객등급</th><th>입출금예금</th><th>기타예금</th><th>비이자상품</th><th>카드</th><th>대출</th><th>기준금리</th><th>보유상품수</th><th>거래기간(개월)</th><th>총점수</th><th>KMeans_DB_KneeLocato_2030</th></tr><tr><td>i64</td><td>i64</td><td>i64</td><td>str</td><td>str</td><td>i64</td><td>i64</td><td>i64</td><td>i64</td><td>i64</td><td>f64</td><td>i64</td><td>i64</td><td>f64</td><td>i64</td></tr></thead><tbody><tr><td>9996691351</td><td>202106</td><td>30</td><td>&quot;남&quot;</td><td>&quot;일반등급&quot;</td><td>2500000</td><td>0</td><td>0</td><td>0</td><td>0</td><td>4.55</td><td>1</td><td>6</td><td>231.333333</td><td>0</td></tr><tr><td>9996689486</td><td>202106</td><td>30</td><td>&quot;여&quot;</td><td>&quot;일반등급&quot;</td><td>17000000</td><td>0</td><td>0</td><td>340000</td><td>0</td><td>4.55</td><td>2</td><td>6</td><td>2029.666667</td><td>3</td></tr><tr><td>9996680650</td><td>202106</td><td>30</td><td>&quot;여&quot;</td><td>&quot;일반등급&quot;</td><td>100000</td><td>0</td><td>0</td><td>0</td><td>0</td><td>4.55</td><td>1</td><td>6</td><td>20.666667</td><td>0</td></tr><tr><td>9996676637</td><td>202106</td><td>30</td><td>&quot;여&quot;</td><td>&quot;일반등급&quot;</td><td>4900000</td><td>0</td><td>0</td><td>0</td><td>0</td><td>4.55</td><td>1</td><td>6</td><td>391.333333</td><td>0</td></tr><tr><td>9996666899</td><td>202106</td><td>30</td><td>&quot;남&quot;</td><td>&quot;일반등급&quot;</td><td>700000</td><td>4100000</td><td>9800000</td><td>0</td><td>0</td><td>4.55</td><td>3</td><td>6</td><td>815.333333</td><td>0</td></tr><tr><td>&hellip;</td><td>&hellip;</td><td>&hellip;</td><td>&hellip;</td><td>&hellip;</td><td>&hellip;</td><td>&hellip;</td><td>&hellip;</td><td>&hellip;</td><td>&hellip;</td><td>&hellip;</td><td>&hellip;</td><td>&hellip;</td><td>&hellip;</td><td>&hellip;</td></tr><tr><td>2000399321</td><td>202312</td><td>30</td><td>&quot;남&quot;</td><td>&quot;일반등급&quot;</td><td>0</td><td>0</td><td>0</td><td>0</td><td>100000</td><td>9.18</td><td>1</td><td>1</td><td>17.991667</td><td>0</td></tr><tr><td>2000393761</td><td>202312</td><td>30</td><td>&quot;남&quot;</td><td>&quot;일반등급&quot;</td><td>0</td><td>0</td><td>0</td><td>0</td><td>100000</td><td>9.18</td><td>1</td><td>1</td><td>17.991667</td><td>0</td></tr><tr><td>2000380811</td><td>202312</td><td>30</td><td>&quot;남&quot;</td><td>&quot;일반등급&quot;</td><td>0</td><td>0</td><td>0</td><td>0</td><td>100000</td><td>9.18</td><td>1</td><td>1</td><td>17.991667</td><td>0</td></tr><tr><td>2000379801</td><td>202312</td><td>20</td><td>&quot;여&quot;</td><td>&quot;일반등급&quot;</td><td>0</td><td>0</td><td>0</td><td>0</td><td>100000</td><td>9.18</td><td>1</td><td>1</td><td>17.991667</td><td>0</td></tr><tr><td>2000369205</td><td>202312</td><td>20</td><td>&quot;여&quot;</td><td>&quot;일반등급&quot;</td><td>0</td><td>0</td><td>0</td><td>0</td><td>100000</td><td>9.18</td><td>1</td><td>1</td><td>17.991667</td><td>0</td></tr></tbody></table></div>"
      ],
      "text/plain": [
       "shape: (16_063_094, 15)\n",
       "┌─────────┬─────────┬────────┬──────┬───┬─────────┬─────────┬─────────┬────────┐\n",
       "│ 고객ID  ┆ 기준년  ┆ 연령대 ┆ 성별 ┆ … ┆ 보유상  ┆ 거래기  ┆ 총점수  ┆ KMeans │\n",
       "│ ---     ┆ 월      ┆ ---    ┆ ---  ┆   ┆ 품수    ┆ 간(개월 ┆ ---     ┆ _DB_Kn │\n",
       "│ i64     ┆ ---     ┆ i64    ┆ str  ┆   ┆ ---     ┆ )       ┆ f64     ┆ eeLoca │\n",
       "│         ┆ i64     ┆        ┆      ┆   ┆ i64     ┆ ---     ┆         ┆ to_203 │\n",
       "│         ┆         ┆        ┆      ┆   ┆         ┆ i64     ┆         ┆ 0      │\n",
       "│         ┆         ┆        ┆      ┆   ┆         ┆         ┆         ┆ ---    │\n",
       "│         ┆         ┆        ┆      ┆   ┆         ┆         ┆         ┆ i64    │\n",
       "╞═════════╪═════════╪════════╪══════╪═══╪═════════╪═════════╪═════════╪════════╡\n",
       "│ 9996691 ┆ 202106  ┆ 30     ┆ 남   ┆ … ┆ 1       ┆ 6       ┆ 231.333 ┆ 0      │\n",
       "│ 351     ┆         ┆        ┆      ┆   ┆         ┆         ┆ 333     ┆        │\n",
       "│ 9996689 ┆ 202106  ┆ 30     ┆ 여   ┆ … ┆ 2       ┆ 6       ┆ 2029.66 ┆ 3      │\n",
       "│ 486     ┆         ┆        ┆      ┆   ┆         ┆         ┆ 6667    ┆        │\n",
       "│ 9996680 ┆ 202106  ┆ 30     ┆ 여   ┆ … ┆ 1       ┆ 6       ┆ 20.6666 ┆ 0      │\n",
       "│ 650     ┆         ┆        ┆      ┆   ┆         ┆         ┆ 67      ┆        │\n",
       "│ 9996676 ┆ 202106  ┆ 30     ┆ 여   ┆ … ┆ 1       ┆ 6       ┆ 391.333 ┆ 0      │\n",
       "│ 637     ┆         ┆        ┆      ┆   ┆         ┆         ┆ 333     ┆        │\n",
       "│ 9996666 ┆ 202106  ┆ 30     ┆ 남   ┆ … ┆ 3       ┆ 6       ┆ 815.333 ┆ 0      │\n",
       "│ 899     ┆         ┆        ┆      ┆   ┆         ┆         ┆ 333     ┆        │\n",
       "│ …       ┆ …       ┆ …      ┆ …    ┆ … ┆ …       ┆ …       ┆ …       ┆ …      │\n",
       "│ 2000399 ┆ 202312  ┆ 30     ┆ 남   ┆ … ┆ 1       ┆ 1       ┆ 17.9916 ┆ 0      │\n",
       "│ 321     ┆         ┆        ┆      ┆   ┆         ┆         ┆ 67      ┆        │\n",
       "│ 2000393 ┆ 202312  ┆ 30     ┆ 남   ┆ … ┆ 1       ┆ 1       ┆ 17.9916 ┆ 0      │\n",
       "│ 761     ┆         ┆        ┆      ┆   ┆         ┆         ┆ 67      ┆        │\n",
       "│ 2000380 ┆ 202312  ┆ 30     ┆ 남   ┆ … ┆ 1       ┆ 1       ┆ 17.9916 ┆ 0      │\n",
       "│ 811     ┆         ┆        ┆      ┆   ┆         ┆         ┆ 67      ┆        │\n",
       "│ 2000379 ┆ 202312  ┆ 20     ┆ 여   ┆ … ┆ 1       ┆ 1       ┆ 17.9916 ┆ 0      │\n",
       "│ 801     ┆         ┆        ┆      ┆   ┆         ┆         ┆ 67      ┆        │\n",
       "│ 2000369 ┆ 202312  ┆ 20     ┆ 여   ┆ … ┆ 1       ┆ 1       ┆ 17.9916 ┆ 0      │\n",
       "│ 205     ┆         ┆        ┆      ┆   ┆         ┆         ┆ 67      ┆        │\n",
       "└─────────┴─────────┴────────┴──────┴───┴─────────┴─────────┴─────────┴────────┘"
      ]
     },
     "execution_count": 48,
     "metadata": {},
     "output_type": "execute_result"
    }
   ],
   "source": [
    "CUSTOMER_SCORE_금리_9_2030_중분류제거"
   ]
  },
  {
   "cell_type": "code",
   "execution_count": 49,
   "id": "45bc6cd4-9d86-4a4f-89b4-014f9cc742f0",
   "metadata": {},
   "outputs": [],
   "source": [
    "df_joined_inner_상품집계_고객전체 = (\n",
    "    CUSTOMER_SCORE_금리_9_2030_중분류제거\n",
    "    .join(\n",
    "        중분류_id_이름수정.select([\"고객ID\", \"중분류\"]).unique(),\n",
    "        on=\"고객ID\",\n",
    "        how=\"inner\"\n",
    "    )\n",
    ")"
   ]
  },
  {
   "cell_type": "code",
   "execution_count": 50,
   "id": "13e4ae9a-afae-4751-a4f9-ce2846aa7aec",
   "metadata": {},
   "outputs": [
    {
     "data": {
      "text/html": [
       "<div><style>\n",
       ".dataframe > thead > tr,\n",
       ".dataframe > tbody > tr {\n",
       "  text-align: right;\n",
       "  white-space: pre-wrap;\n",
       "}\n",
       "</style>\n",
       "<small>shape: (16_063_094, 16)</small><table border=\"1\" class=\"dataframe\"><thead><tr><th>고객ID</th><th>기준년월</th><th>연령대</th><th>성별</th><th>고객등급</th><th>입출금예금</th><th>기타예금</th><th>비이자상품</th><th>카드</th><th>대출</th><th>기준금리</th><th>보유상품수</th><th>거래기간(개월)</th><th>총점수</th><th>KMeans_DB_KneeLocato_2030</th><th>중분류</th></tr><tr><td>i64</td><td>i64</td><td>i64</td><td>str</td><td>str</td><td>i64</td><td>i64</td><td>i64</td><td>i64</td><td>i64</td><td>f64</td><td>i64</td><td>i64</td><td>f64</td><td>i64</td><td>str</td></tr></thead><tbody><tr><td>9996691351</td><td>202106</td><td>30</td><td>&quot;남&quot;</td><td>&quot;일반등급&quot;</td><td>2500000</td><td>0</td><td>0</td><td>0</td><td>0</td><td>4.55</td><td>1</td><td>6</td><td>231.333333</td><td>0</td><td>&quot;A&quot;</td></tr><tr><td>9996689486</td><td>202106</td><td>30</td><td>&quot;여&quot;</td><td>&quot;일반등급&quot;</td><td>17000000</td><td>0</td><td>0</td><td>340000</td><td>0</td><td>4.55</td><td>2</td><td>6</td><td>2029.666667</td><td>3</td><td>&quot;D&quot;</td></tr><tr><td>9996680650</td><td>202106</td><td>30</td><td>&quot;여&quot;</td><td>&quot;일반등급&quot;</td><td>100000</td><td>0</td><td>0</td><td>0</td><td>0</td><td>4.55</td><td>1</td><td>6</td><td>20.666667</td><td>0</td><td>&quot;A&quot;</td></tr><tr><td>9996676637</td><td>202106</td><td>30</td><td>&quot;여&quot;</td><td>&quot;일반등급&quot;</td><td>4900000</td><td>0</td><td>0</td><td>0</td><td>0</td><td>4.55</td><td>1</td><td>6</td><td>391.333333</td><td>0</td><td>&quot;A&quot;</td></tr><tr><td>9996666899</td><td>202106</td><td>30</td><td>&quot;남&quot;</td><td>&quot;일반등급&quot;</td><td>700000</td><td>4100000</td><td>9800000</td><td>0</td><td>0</td><td>4.55</td><td>3</td><td>6</td><td>815.333333</td><td>0</td><td>&quot;A&quot;</td></tr><tr><td>&hellip;</td><td>&hellip;</td><td>&hellip;</td><td>&hellip;</td><td>&hellip;</td><td>&hellip;</td><td>&hellip;</td><td>&hellip;</td><td>&hellip;</td><td>&hellip;</td><td>&hellip;</td><td>&hellip;</td><td>&hellip;</td><td>&hellip;</td><td>&hellip;</td><td>&hellip;</td></tr><tr><td>2000399321</td><td>202312</td><td>30</td><td>&quot;남&quot;</td><td>&quot;일반등급&quot;</td><td>0</td><td>0</td><td>0</td><td>0</td><td>100000</td><td>9.18</td><td>1</td><td>1</td><td>17.991667</td><td>0</td><td>&quot;A&quot;</td></tr><tr><td>2000393761</td><td>202312</td><td>30</td><td>&quot;남&quot;</td><td>&quot;일반등급&quot;</td><td>0</td><td>0</td><td>0</td><td>0</td><td>100000</td><td>9.18</td><td>1</td><td>1</td><td>17.991667</td><td>0</td><td>&quot;A&quot;</td></tr><tr><td>2000380811</td><td>202312</td><td>30</td><td>&quot;남&quot;</td><td>&quot;일반등급&quot;</td><td>0</td><td>0</td><td>0</td><td>0</td><td>100000</td><td>9.18</td><td>1</td><td>1</td><td>17.991667</td><td>0</td><td>&quot;A&quot;</td></tr><tr><td>2000379801</td><td>202312</td><td>20</td><td>&quot;여&quot;</td><td>&quot;일반등급&quot;</td><td>0</td><td>0</td><td>0</td><td>0</td><td>100000</td><td>9.18</td><td>1</td><td>1</td><td>17.991667</td><td>0</td><td>&quot;A&quot;</td></tr><tr><td>2000369205</td><td>202312</td><td>20</td><td>&quot;여&quot;</td><td>&quot;일반등급&quot;</td><td>0</td><td>0</td><td>0</td><td>0</td><td>100000</td><td>9.18</td><td>1</td><td>1</td><td>17.991667</td><td>0</td><td>&quot;A&quot;</td></tr></tbody></table></div>"
      ],
      "text/plain": [
       "shape: (16_063_094, 16)\n",
       "┌─────────┬─────────┬────────┬──────┬───┬─────────┬─────────┬─────────┬────────┐\n",
       "│ 고객ID  ┆ 기준년  ┆ 연령대 ┆ 성별 ┆ … ┆ 거래기  ┆ 총점수  ┆ KMeans_ ┆ 중분류 │\n",
       "│ ---     ┆ 월      ┆ ---    ┆ ---  ┆   ┆ 간(개월 ┆ ---     ┆ DB_Knee ┆ ---    │\n",
       "│ i64     ┆ ---     ┆ i64    ┆ str  ┆   ┆ )       ┆ f64     ┆ Locato_ ┆ str    │\n",
       "│         ┆ i64     ┆        ┆      ┆   ┆ ---     ┆         ┆ 2030    ┆        │\n",
       "│         ┆         ┆        ┆      ┆   ┆ i64     ┆         ┆ ---     ┆        │\n",
       "│         ┆         ┆        ┆      ┆   ┆         ┆         ┆ i64     ┆        │\n",
       "╞═════════╪═════════╪════════╪══════╪═══╪═════════╪═════════╪═════════╪════════╡\n",
       "│ 9996691 ┆ 202106  ┆ 30     ┆ 남   ┆ … ┆ 6       ┆ 231.333 ┆ 0       ┆ A      │\n",
       "│ 351     ┆         ┆        ┆      ┆   ┆         ┆ 333     ┆         ┆        │\n",
       "│ 9996689 ┆ 202106  ┆ 30     ┆ 여   ┆ … ┆ 6       ┆ 2029.66 ┆ 3       ┆ D      │\n",
       "│ 486     ┆         ┆        ┆      ┆   ┆         ┆ 6667    ┆         ┆        │\n",
       "│ 9996680 ┆ 202106  ┆ 30     ┆ 여   ┆ … ┆ 6       ┆ 20.6666 ┆ 0       ┆ A      │\n",
       "│ 650     ┆         ┆        ┆      ┆   ┆         ┆ 67      ┆         ┆        │\n",
       "│ 9996676 ┆ 202106  ┆ 30     ┆ 여   ┆ … ┆ 6       ┆ 391.333 ┆ 0       ┆ A      │\n",
       "│ 637     ┆         ┆        ┆      ┆   ┆         ┆ 333     ┆         ┆        │\n",
       "│ 9996666 ┆ 202106  ┆ 30     ┆ 남   ┆ … ┆ 6       ┆ 815.333 ┆ 0       ┆ A      │\n",
       "│ 899     ┆         ┆        ┆      ┆   ┆         ┆ 333     ┆         ┆        │\n",
       "│ …       ┆ …       ┆ …      ┆ …    ┆ … ┆ …       ┆ …       ┆ …       ┆ …      │\n",
       "│ 2000399 ┆ 202312  ┆ 30     ┆ 남   ┆ … ┆ 1       ┆ 17.9916 ┆ 0       ┆ A      │\n",
       "│ 321     ┆         ┆        ┆      ┆   ┆         ┆ 67      ┆         ┆        │\n",
       "│ 2000393 ┆ 202312  ┆ 30     ┆ 남   ┆ … ┆ 1       ┆ 17.9916 ┆ 0       ┆ A      │\n",
       "│ 761     ┆         ┆        ┆      ┆   ┆         ┆ 67      ┆         ┆        │\n",
       "│ 2000380 ┆ 202312  ┆ 30     ┆ 남   ┆ … ┆ 1       ┆ 17.9916 ┆ 0       ┆ A      │\n",
       "│ 811     ┆         ┆        ┆      ┆   ┆         ┆ 67      ┆         ┆        │\n",
       "│ 2000379 ┆ 202312  ┆ 20     ┆ 여   ┆ … ┆ 1       ┆ 17.9916 ┆ 0       ┆ A      │\n",
       "│ 801     ┆         ┆        ┆      ┆   ┆         ┆ 67      ┆         ┆        │\n",
       "│ 2000369 ┆ 202312  ┆ 20     ┆ 여   ┆ … ┆ 1       ┆ 17.9916 ┆ 0       ┆ A      │\n",
       "│ 205     ┆         ┆        ┆      ┆   ┆         ┆ 67      ┆         ┆        │\n",
       "└─────────┴─────────┴────────┴──────┴───┴─────────┴─────────┴─────────┴────────┘"
      ]
     },
     "execution_count": 50,
     "metadata": {},
     "output_type": "execute_result"
    }
   ],
   "source": [
    "df_joined_inner_상품집계_고객전체"
   ]
  },
  {
   "cell_type": "code",
   "execution_count": 51,
   "id": "59b58c57-5c04-441e-b288-f7892fa17f03",
   "metadata": {},
   "outputs": [
    {
     "name": "stdout",
     "output_type": "stream",
     "text": [
      "16063094\n",
      "599499\n",
      "599499\n",
      "599499\n",
      "16063094\n",
      "16063094\n",
      "599499\n"
     ]
    }
   ],
   "source": [
    "print(CUSTOMER_SCORE_금리_9_2030_중분류.shape[0])\n",
    "print(len(CUSTOMER_SCORE_금리_9_2030_중분류['고객ID'].unique()))\n",
    "print(중분류_id_이름수정.shape[0])\n",
    "print(len(중분류_id_이름수정['고객ID']))\n",
    "print(df_joined_inner_상품집계_고객전체.shape[0])\n",
    "print(len(df_joined_inner_상품집계_고객전체['고객ID']))\n",
    "print(len(df_joined_inner_상품집계_고객전체['고객ID'].unique()))"
   ]
  },
  {
   "cell_type": "code",
   "execution_count": 52,
   "id": "cafea649-edc3-4679-ae06-2175c247c1e8",
   "metadata": {},
   "outputs": [],
   "source": [
    "df_joined_inner_상품집계_고객전체.write_csv('./dataset/상품집계_고객전체.csv')"
   ]
  },
  {
   "cell_type": "markdown",
   "id": "13c2226b-72f5-42db-9f20-447d512d4e96",
   "metadata": {},
   "source": [
    "### 상품집계_고객집계"
   ]
  },
  {
   "cell_type": "code",
   "execution_count": 53,
   "id": "b358d98a-308c-4ea6-9de3-f0be6c8146a2",
   "metadata": {},
   "outputs": [],
   "source": [
    "상품집계_고객전체 = pl.read_csv('./dataset/상품집계_고객전체.csv')"
   ]
  },
  {
   "cell_type": "code",
   "execution_count": 54,
   "id": "e1dddc82-58a0-4ee8-ae24-281f84718ae4",
   "metadata": {},
   "outputs": [
    {
     "data": {
      "text/html": [
       "<div><style>\n",
       ".dataframe > thead > tr,\n",
       ".dataframe > tbody > tr {\n",
       "  text-align: right;\n",
       "  white-space: pre-wrap;\n",
       "}\n",
       "</style>\n",
       "<small>shape: (16_063_094, 16)</small><table border=\"1\" class=\"dataframe\"><thead><tr><th>고객ID</th><th>기준년월</th><th>연령대</th><th>성별</th><th>고객등급</th><th>입출금예금</th><th>기타예금</th><th>비이자상품</th><th>카드</th><th>대출</th><th>기준금리</th><th>보유상품수</th><th>거래기간(개월)</th><th>총점수</th><th>KMeans_DB_KneeLocato_2030</th><th>중분류</th></tr><tr><td>i64</td><td>i64</td><td>i64</td><td>str</td><td>str</td><td>i64</td><td>i64</td><td>i64</td><td>i64</td><td>i64</td><td>f64</td><td>i64</td><td>i64</td><td>f64</td><td>i64</td><td>str</td></tr></thead><tbody><tr><td>9996691351</td><td>202106</td><td>30</td><td>&quot;남&quot;</td><td>&quot;일반등급&quot;</td><td>2500000</td><td>0</td><td>0</td><td>0</td><td>0</td><td>4.55</td><td>1</td><td>6</td><td>231.333333</td><td>0</td><td>&quot;A&quot;</td></tr><tr><td>9996689486</td><td>202106</td><td>30</td><td>&quot;여&quot;</td><td>&quot;일반등급&quot;</td><td>17000000</td><td>0</td><td>0</td><td>340000</td><td>0</td><td>4.55</td><td>2</td><td>6</td><td>2029.666667</td><td>3</td><td>&quot;D&quot;</td></tr><tr><td>9996680650</td><td>202106</td><td>30</td><td>&quot;여&quot;</td><td>&quot;일반등급&quot;</td><td>100000</td><td>0</td><td>0</td><td>0</td><td>0</td><td>4.55</td><td>1</td><td>6</td><td>20.666667</td><td>0</td><td>&quot;A&quot;</td></tr><tr><td>9996676637</td><td>202106</td><td>30</td><td>&quot;여&quot;</td><td>&quot;일반등급&quot;</td><td>4900000</td><td>0</td><td>0</td><td>0</td><td>0</td><td>4.55</td><td>1</td><td>6</td><td>391.333333</td><td>0</td><td>&quot;A&quot;</td></tr><tr><td>9996666899</td><td>202106</td><td>30</td><td>&quot;남&quot;</td><td>&quot;일반등급&quot;</td><td>700000</td><td>4100000</td><td>9800000</td><td>0</td><td>0</td><td>4.55</td><td>3</td><td>6</td><td>815.333333</td><td>0</td><td>&quot;A&quot;</td></tr><tr><td>&hellip;</td><td>&hellip;</td><td>&hellip;</td><td>&hellip;</td><td>&hellip;</td><td>&hellip;</td><td>&hellip;</td><td>&hellip;</td><td>&hellip;</td><td>&hellip;</td><td>&hellip;</td><td>&hellip;</td><td>&hellip;</td><td>&hellip;</td><td>&hellip;</td><td>&hellip;</td></tr><tr><td>2000399321</td><td>202312</td><td>30</td><td>&quot;남&quot;</td><td>&quot;일반등급&quot;</td><td>0</td><td>0</td><td>0</td><td>0</td><td>100000</td><td>9.18</td><td>1</td><td>1</td><td>17.991667</td><td>0</td><td>&quot;A&quot;</td></tr><tr><td>2000393761</td><td>202312</td><td>30</td><td>&quot;남&quot;</td><td>&quot;일반등급&quot;</td><td>0</td><td>0</td><td>0</td><td>0</td><td>100000</td><td>9.18</td><td>1</td><td>1</td><td>17.991667</td><td>0</td><td>&quot;A&quot;</td></tr><tr><td>2000380811</td><td>202312</td><td>30</td><td>&quot;남&quot;</td><td>&quot;일반등급&quot;</td><td>0</td><td>0</td><td>0</td><td>0</td><td>100000</td><td>9.18</td><td>1</td><td>1</td><td>17.991667</td><td>0</td><td>&quot;A&quot;</td></tr><tr><td>2000379801</td><td>202312</td><td>20</td><td>&quot;여&quot;</td><td>&quot;일반등급&quot;</td><td>0</td><td>0</td><td>0</td><td>0</td><td>100000</td><td>9.18</td><td>1</td><td>1</td><td>17.991667</td><td>0</td><td>&quot;A&quot;</td></tr><tr><td>2000369205</td><td>202312</td><td>20</td><td>&quot;여&quot;</td><td>&quot;일반등급&quot;</td><td>0</td><td>0</td><td>0</td><td>0</td><td>100000</td><td>9.18</td><td>1</td><td>1</td><td>17.991667</td><td>0</td><td>&quot;A&quot;</td></tr></tbody></table></div>"
      ],
      "text/plain": [
       "shape: (16_063_094, 16)\n",
       "┌─────────┬─────────┬────────┬──────┬───┬─────────┬─────────┬─────────┬────────┐\n",
       "│ 고객ID  ┆ 기준년  ┆ 연령대 ┆ 성별 ┆ … ┆ 거래기  ┆ 총점수  ┆ KMeans_ ┆ 중분류 │\n",
       "│ ---     ┆ 월      ┆ ---    ┆ ---  ┆   ┆ 간(개월 ┆ ---     ┆ DB_Knee ┆ ---    │\n",
       "│ i64     ┆ ---     ┆ i64    ┆ str  ┆   ┆ )       ┆ f64     ┆ Locato_ ┆ str    │\n",
       "│         ┆ i64     ┆        ┆      ┆   ┆ ---     ┆         ┆ 2030    ┆        │\n",
       "│         ┆         ┆        ┆      ┆   ┆ i64     ┆         ┆ ---     ┆        │\n",
       "│         ┆         ┆        ┆      ┆   ┆         ┆         ┆ i64     ┆        │\n",
       "╞═════════╪═════════╪════════╪══════╪═══╪═════════╪═════════╪═════════╪════════╡\n",
       "│ 9996691 ┆ 202106  ┆ 30     ┆ 남   ┆ … ┆ 6       ┆ 231.333 ┆ 0       ┆ A      │\n",
       "│ 351     ┆         ┆        ┆      ┆   ┆         ┆ 333     ┆         ┆        │\n",
       "│ 9996689 ┆ 202106  ┆ 30     ┆ 여   ┆ … ┆ 6       ┆ 2029.66 ┆ 3       ┆ D      │\n",
       "│ 486     ┆         ┆        ┆      ┆   ┆         ┆ 6667    ┆         ┆        │\n",
       "│ 9996680 ┆ 202106  ┆ 30     ┆ 여   ┆ … ┆ 6       ┆ 20.6666 ┆ 0       ┆ A      │\n",
       "│ 650     ┆         ┆        ┆      ┆   ┆         ┆ 67      ┆         ┆        │\n",
       "│ 9996676 ┆ 202106  ┆ 30     ┆ 여   ┆ … ┆ 6       ┆ 391.333 ┆ 0       ┆ A      │\n",
       "│ 637     ┆         ┆        ┆      ┆   ┆         ┆ 333     ┆         ┆        │\n",
       "│ 9996666 ┆ 202106  ┆ 30     ┆ 남   ┆ … ┆ 6       ┆ 815.333 ┆ 0       ┆ A      │\n",
       "│ 899     ┆         ┆        ┆      ┆   ┆         ┆ 333     ┆         ┆        │\n",
       "│ …       ┆ …       ┆ …      ┆ …    ┆ … ┆ …       ┆ …       ┆ …       ┆ …      │\n",
       "│ 2000399 ┆ 202312  ┆ 30     ┆ 남   ┆ … ┆ 1       ┆ 17.9916 ┆ 0       ┆ A      │\n",
       "│ 321     ┆         ┆        ┆      ┆   ┆         ┆ 67      ┆         ┆        │\n",
       "│ 2000393 ┆ 202312  ┆ 30     ┆ 남   ┆ … ┆ 1       ┆ 17.9916 ┆ 0       ┆ A      │\n",
       "│ 761     ┆         ┆        ┆      ┆   ┆         ┆ 67      ┆         ┆        │\n",
       "│ 2000380 ┆ 202312  ┆ 30     ┆ 남   ┆ … ┆ 1       ┆ 17.9916 ┆ 0       ┆ A      │\n",
       "│ 811     ┆         ┆        ┆      ┆   ┆         ┆ 67      ┆         ┆        │\n",
       "│ 2000379 ┆ 202312  ┆ 20     ┆ 여   ┆ … ┆ 1       ┆ 17.9916 ┆ 0       ┆ A      │\n",
       "│ 801     ┆         ┆        ┆      ┆   ┆         ┆ 67      ┆         ┆        │\n",
       "│ 2000369 ┆ 202312  ┆ 20     ┆ 여   ┆ … ┆ 1       ┆ 17.9916 ┆ 0       ┆ A      │\n",
       "│ 205     ┆         ┆        ┆      ┆   ┆         ┆ 67      ┆         ┆        │\n",
       "└─────────┴─────────┴────────┴──────┴───┴─────────┴─────────┴─────────┴────────┘"
      ]
     },
     "execution_count": 54,
     "metadata": {},
     "output_type": "execute_result"
    }
   ],
   "source": [
    "상품집계_고객전체"
   ]
  },
  {
   "cell_type": "code",
   "execution_count": 55,
   "id": "a7dfca20-7b9f-4b70-95c3-003a2fb5e663",
   "metadata": {},
   "outputs": [],
   "source": [
    "def aggregate_customer_data(df: pl.DataFrame) -> pl.DataFrame:\n",
    "    \"\"\"\n",
    "    고객 단위로 주요 금융 항목을 집계하여 요약 데이터를 생성합니다.\n",
    "\n",
    "    처리 내용:\n",
    "    1. '기준금리', '성별' 컬럼 제거\n",
    "    2. 고객ID 기준 그룹화 후 다음과 같이 집계:\n",
    "        - 입출금예금, 기타예금, 비이자상품, 카드, 대출, 총점수: 평균값\n",
    "        - 거래기간(개월), 연령대: 최대값\n",
    "        - 보유상품수:\n",
    "            - 최대_보유상품종류: 최대값\n",
    "            - 평균_보유상품종류: 평균값을 반올림 후 Int8 형으로 변환\n",
    "\n",
    "    Parameters:\n",
    "        df (pl.DataFrame): 원본 고객 월별 데이터\n",
    "\n",
    "    Returns:\n",
    "        pl.DataFrame: 고객ID 기준으로 집계된 요약 데이터프레임\n",
    "    \"\"\"\n",
    "    df_dropped = df.drop([\"기준금리\", \"성별\"])\n",
    "\n",
    "    df_agg = (\n",
    "        df_dropped\n",
    "        .group_by(\"고객ID\")\n",
    "        .agg([\n",
    "            pl.col(\"입출금예금\").mean().alias(\"평균_입출금예금\"),\n",
    "            pl.col(\"기타예금\").mean().alias(\"평균_기타예금\"),\n",
    "            pl.col(\"비이자상품\").mean().alias(\"평균_비이자상품\"),\n",
    "            pl.col(\"카드\").mean().alias(\"평균_카드\"),\n",
    "            pl.col(\"대출\").mean().alias(\"평균_대출금액\"),\n",
    "            pl.col(\"거래기간(개월)\").max().alias(\"거래기간(개월)\"),\n",
    "            pl.col(\"총점수\").mean().alias(\"평균_총점수\"),\n",
    "            pl.col(\"보유상품수\").max().alias(\"최대_보유상품종류\"),\n",
    "            pl.col(\"보유상품수\").mean().round(0).cast(pl.Int8).alias(\"평균_보유상품종류\"),            \n",
    "            pl.col(\"연령대\").max().alias(\"연령대\"),\n",
    "            pl.col(\"고객등급\").max().alias(\"최대_고객등급\"),\n",
    "            # 클러스터 관련 컬럼 (대표값으로 유지)\n",
    "            pl.col(\"KMeans_DB_KneeLocato_2030\").first().alias(\"KMeans_DB_KneeLocato_2030\"),\n",
    "            pl.col(\"중분류\").first().alias(\"중분류\")\n",
    "        ])\n",
    "    )\n",
    "    return df_agg"
   ]
  },
  {
   "cell_type": "code",
   "execution_count": 56,
   "id": "200d4b2b-736a-4f46-bc9e-93a305ced46a",
   "metadata": {},
   "outputs": [],
   "source": [
    "상품집계_고객집계 = aggregate_customer_data(상품집계_고객전체)"
   ]
  },
  {
   "cell_type": "code",
   "execution_count": 57,
   "id": "0b747f90-e474-4dbc-a42b-c1cac3ca41f5",
   "metadata": {},
   "outputs": [
    {
     "data": {
      "text/html": [
       "<div><style>\n",
       ".dataframe > thead > tr,\n",
       ".dataframe > tbody > tr {\n",
       "  text-align: right;\n",
       "  white-space: pre-wrap;\n",
       "}\n",
       "</style>\n",
       "<small>shape: (599_499, 14)</small><table border=\"1\" class=\"dataframe\"><thead><tr><th>고객ID</th><th>평균_입출금예금</th><th>평균_기타예금</th><th>평균_비이자상품</th><th>평균_카드</th><th>평균_대출금액</th><th>거래기간(개월)</th><th>평균_총점수</th><th>최대_보유상품종류</th><th>평균_보유상품종류</th><th>연령대</th><th>최대_고객등급</th><th>KMeans_DB_KneeLocato_2030</th><th>중분류</th></tr><tr><td>i64</td><td>f64</td><td>f64</td><td>f64</td><td>f64</td><td>f64</td><td>i64</td><td>f64</td><td>i64</td><td>i8</td><td>i64</td><td>str</td><td>i64</td><td>str</td></tr></thead><tbody><tr><td>2065204669</td><td>0.0</td><td>0.0</td><td>0.0</td><td>0.0</td><td>1.85e6</td><td>2</td><td>210.116667</td><td>1</td><td>1</td><td>30</td><td>&quot;일반등급&quot;</td><td>0</td><td>&quot;A&quot;</td></tr><tr><td>4070774528</td><td>722580.645161</td><td>1.3355e6</td><td>0.0</td><td>1.0152e6</td><td>0.0</td><td>36</td><td>330.565591</td><td>3</td><td>2</td><td>20</td><td>&quot;일반등급&quot;</td><td>0</td><td>&quot;A&quot;</td></tr><tr><td>4720215619</td><td>190322.580645</td><td>6451.612903</td><td>0.0</td><td>0.0</td><td>0.0</td><td>36</td><td>41.44086</td><td>2</td><td>1</td><td>30</td><td>&quot;일반등급&quot;</td><td>0</td><td>&quot;A&quot;</td></tr><tr><td>4139190886</td><td>7.8290e6</td><td>0.0</td><td>0.0</td><td>6129.032258</td><td>0.0</td><td>36</td><td>655.55914</td><td>2</td><td>1</td><td>20</td><td>&quot;일반등급&quot;</td><td>6</td><td>&quot;C&quot;</td></tr><tr><td>2243610603</td><td>200000.0</td><td>0.0</td><td>0.0</td><td>10000.0</td><td>5.65e6</td><td>6</td><td>1487.988889</td><td>3</td><td>2</td><td>20</td><td>&quot;일반등급&quot;</td><td>0</td><td>&quot;A&quot;</td></tr><tr><td>&hellip;</td><td>&hellip;</td><td>&hellip;</td><td>&hellip;</td><td>&hellip;</td><td>&hellip;</td><td>&hellip;</td><td>&hellip;</td><td>&hellip;</td><td>&hellip;</td><td>&hellip;</td><td>&hellip;</td><td>&hellip;</td><td>&hellip;</td></tr><tr><td>4412204367</td><td>122580.645161</td><td>0.0</td><td>0.0</td><td>510322.580645</td><td>0.0</td><td>36</td><td>132.941935</td><td>2</td><td>2</td><td>20</td><td>&quot;일반등급&quot;</td><td>0</td><td>&quot;A&quot;</td></tr><tr><td>3925855257</td><td>54838.709677</td><td>0.0</td><td>0.0</td><td>0.0</td><td>0.0</td><td>36</td><td>19.333333</td><td>1</td><td>0</td><td>30</td><td>&quot;일반등급&quot;</td><td>0</td><td>&quot;A&quot;</td></tr><tr><td>6829335805</td><td>1.8e6</td><td>0.0</td><td>0.0</td><td>0.0</td><td>0.0</td><td>36</td><td>166.580645</td><td>1</td><td>1</td><td>30</td><td>&quot;일반등급&quot;</td><td>0</td><td>&quot;A&quot;</td></tr><tr><td>3401997771</td><td>212903.225806</td><td>0.0</td><td>0.0</td><td>82258.064516</td><td>0.0</td><td>36</td><td>47.322581</td><td>2</td><td>0</td><td>20</td><td>&quot;일반등급&quot;</td><td>0</td><td>&quot;A&quot;</td></tr><tr><td>4145679986</td><td>1.5129e6</td><td>0.0</td><td>0.0</td><td>646129.032258</td><td>0.0</td><td>36</td><td>265.795699</td><td>2</td><td>1</td><td>20</td><td>&quot;일반등급&quot;</td><td>0</td><td>&quot;A&quot;</td></tr></tbody></table></div>"
      ],
      "text/plain": [
       "shape: (599_499, 14)\n",
       "┌─────────┬─────────┬─────────┬────────┬───┬────────┬────────┬────────┬────────┐\n",
       "│ 고객ID  ┆ 평균_입 ┆ 평균_기 ┆ 평균_  ┆ … ┆ 연령대 ┆ 최대_  ┆ KMeans ┆ 중분류 │\n",
       "│ ---     ┆ 출금예  ┆ 타예금  ┆ 비이자 ┆   ┆ ---    ┆ 고객등 ┆ _DB_Kn ┆ ---    │\n",
       "│ i64     ┆ 금      ┆ ---     ┆ 상품   ┆   ┆ i64    ┆ 급     ┆ eeLoca ┆ str    │\n",
       "│         ┆ ---     ┆ f64     ┆ ---    ┆   ┆        ┆ ---    ┆ to_203 ┆        │\n",
       "│         ┆ f64     ┆         ┆ f64    ┆   ┆        ┆ str    ┆ 0      ┆        │\n",
       "│         ┆         ┆         ┆        ┆   ┆        ┆        ┆ ---    ┆        │\n",
       "│         ┆         ┆         ┆        ┆   ┆        ┆        ┆ i64    ┆        │\n",
       "╞═════════╪═════════╪═════════╪════════╪═══╪════════╪════════╪════════╪════════╡\n",
       "│ 2065204 ┆ 0.0     ┆ 0.0     ┆ 0.0    ┆ … ┆ 30     ┆ 일반등 ┆ 0      ┆ A      │\n",
       "│ 669     ┆         ┆         ┆        ┆   ┆        ┆ 급     ┆        ┆        │\n",
       "│ 4070774 ┆ 722580. ┆ 1.3355e ┆ 0.0    ┆ … ┆ 20     ┆ 일반등 ┆ 0      ┆ A      │\n",
       "│ 528     ┆ 645161  ┆ 6       ┆        ┆   ┆        ┆ 급     ┆        ┆        │\n",
       "│ 4720215 ┆ 190322. ┆ 6451.61 ┆ 0.0    ┆ … ┆ 30     ┆ 일반등 ┆ 0      ┆ A      │\n",
       "│ 619     ┆ 580645  ┆ 2903    ┆        ┆   ┆        ┆ 급     ┆        ┆        │\n",
       "│ 4139190 ┆ 7.8290e ┆ 0.0     ┆ 0.0    ┆ … ┆ 20     ┆ 일반등 ┆ 6      ┆ C      │\n",
       "│ 886     ┆ 6       ┆         ┆        ┆   ┆        ┆ 급     ┆        ┆        │\n",
       "│ 2243610 ┆ 200000. ┆ 0.0     ┆ 0.0    ┆ … ┆ 20     ┆ 일반등 ┆ 0      ┆ A      │\n",
       "│ 603     ┆ 0       ┆         ┆        ┆   ┆        ┆ 급     ┆        ┆        │\n",
       "│ …       ┆ …       ┆ …       ┆ …      ┆ … ┆ …      ┆ …      ┆ …      ┆ …      │\n",
       "│ 4412204 ┆ 122580. ┆ 0.0     ┆ 0.0    ┆ … ┆ 20     ┆ 일반등 ┆ 0      ┆ A      │\n",
       "│ 367     ┆ 645161  ┆         ┆        ┆   ┆        ┆ 급     ┆        ┆        │\n",
       "│ 3925855 ┆ 54838.7 ┆ 0.0     ┆ 0.0    ┆ … ┆ 30     ┆ 일반등 ┆ 0      ┆ A      │\n",
       "│ 257     ┆ 09677   ┆         ┆        ┆   ┆        ┆ 급     ┆        ┆        │\n",
       "│ 6829335 ┆ 1.8e6   ┆ 0.0     ┆ 0.0    ┆ … ┆ 30     ┆ 일반등 ┆ 0      ┆ A      │\n",
       "│ 805     ┆         ┆         ┆        ┆   ┆        ┆ 급     ┆        ┆        │\n",
       "│ 3401997 ┆ 212903. ┆ 0.0     ┆ 0.0    ┆ … ┆ 20     ┆ 일반등 ┆ 0      ┆ A      │\n",
       "│ 771     ┆ 225806  ┆         ┆        ┆   ┆        ┆ 급     ┆        ┆        │\n",
       "│ 4145679 ┆ 1.5129e ┆ 0.0     ┆ 0.0    ┆ … ┆ 20     ┆ 일반등 ┆ 0      ┆ A      │\n",
       "│ 986     ┆ 6       ┆         ┆        ┆   ┆        ┆ 급     ┆        ┆        │\n",
       "└─────────┴─────────┴─────────┴────────┴───┴────────┴────────┴────────┴────────┘"
      ]
     },
     "execution_count": 57,
     "metadata": {},
     "output_type": "execute_result"
    }
   ],
   "source": [
    "상품집계_고객집계"
   ]
  },
  {
   "cell_type": "code",
   "execution_count": 58,
   "id": "cf23ce21-779e-40fd-921d-10ed10e47982",
   "metadata": {},
   "outputs": [],
   "source": [
    "상품집계_고객집계.write_csv('./dataset/상품집계_고객집계.csv')"
   ]
  },
  {
   "cell_type": "markdown",
   "id": "c01da8d9-e7f3-4286-9f71-c3bda1d416bc",
   "metadata": {},
   "source": [
    "## cluster 파일"
   ]
  },
  {
   "cell_type": "markdown",
   "id": "ee75bb5d-3a37-41fc-8eb3-dddb86749909",
   "metadata": {},
   "source": [
    "### cluster a -> cluster b"
   ]
  },
  {
   "cell_type": "code",
   "execution_count": 59,
   "id": "df83b371-3a45-4ac4-a203-2b304c7867fc",
   "metadata": {},
   "outputs": [],
   "source": [
    "cluster_a_pl= pl.read_csv('dataset/cluster_a_pd.csv')"
   ]
  },
  {
   "cell_type": "code",
   "execution_count": 60,
   "id": "69c81da4-bcaf-401d-b123-ab3a23d6c5ad",
   "metadata": {},
   "outputs": [
    {
     "data": {
      "text/html": [
       "<div><style>\n",
       ".dataframe > thead > tr,\n",
       ".dataframe > tbody > tr {\n",
       "  text-align: right;\n",
       "  white-space: pre-wrap;\n",
       "}\n",
       "</style>\n",
       "<small>shape: (817_124, 17)</small><table border=\"1\" class=\"dataframe\"><thead><tr><th></th><th>고객ID</th><th>수신_요구불예금</th><th>수신_거치식예금</th><th>수신_적립식예금</th><th>수신_펀드</th><th>수신_외화예금</th><th>대출금액</th><th>카드_사용여부</th><th>중분류</th><th>수신_요구불예금_상태</th><th>수신_거치식예금_상태</th><th>수신_적립식예금_상태</th><th>수신_펀드_상태</th><th>수신_외화예금_상태</th><th>대출금액_상태</th><th>카드_사용여부_상태</th></tr><tr><td>i64</td><td>i64</td><td>i64</td><td>i64</td><td>i64</td><td>i64</td><td>i64</td><td>i64</td><td>i64</td><td>str</td><td>str</td><td>str</td><td>str</td><td>str</td><td>str</td><td>str</td><td>str</td></tr></thead><tbody><tr><td>0</td><td>6051244903</td><td>1</td><td>0</td><td>0</td><td>0</td><td>0</td><td>1</td><td>1</td><td>&quot;A: 저활동 그룹(클러스터 1,5)&quot;</td><td>&quot;수신_요구불예금-O&quot;</td><td>&quot;수신_거치식예금-X&quot;</td><td>&quot;수신_적립식예금-X&quot;</td><td>&quot;수신_펀드-X&quot;</td><td>&quot;수신_외화예금-X&quot;</td><td>&quot;대출금액-O&quot;</td><td>&quot;카드_사용여부-O&quot;</td></tr><tr><td>1</td><td>6051244903</td><td>1</td><td>0</td><td>0</td><td>0</td><td>0</td><td>1</td><td>1</td><td>&quot;A: 저활동 그룹(클러스터 1,5)&quot;</td><td>&quot;수신_요구불예금-O&quot;</td><td>&quot;수신_거치식예금-X&quot;</td><td>&quot;수신_적립식예금-X&quot;</td><td>&quot;수신_펀드-X&quot;</td><td>&quot;수신_외화예금-X&quot;</td><td>&quot;대출금액-O&quot;</td><td>&quot;카드_사용여부-O&quot;</td></tr><tr><td>2</td><td>6051244903</td><td>1</td><td>0</td><td>0</td><td>0</td><td>0</td><td>1</td><td>1</td><td>&quot;A: 저활동 그룹(클러스터 1,5)&quot;</td><td>&quot;수신_요구불예금-O&quot;</td><td>&quot;수신_거치식예금-X&quot;</td><td>&quot;수신_적립식예금-X&quot;</td><td>&quot;수신_펀드-X&quot;</td><td>&quot;수신_외화예금-X&quot;</td><td>&quot;대출금액-O&quot;</td><td>&quot;카드_사용여부-O&quot;</td></tr><tr><td>3</td><td>6051244903</td><td>1</td><td>0</td><td>0</td><td>0</td><td>0</td><td>1</td><td>1</td><td>&quot;A: 저활동 그룹(클러스터 1,5)&quot;</td><td>&quot;수신_요구불예금-O&quot;</td><td>&quot;수신_거치식예금-X&quot;</td><td>&quot;수신_적립식예금-X&quot;</td><td>&quot;수신_펀드-X&quot;</td><td>&quot;수신_외화예금-X&quot;</td><td>&quot;대출금액-O&quot;</td><td>&quot;카드_사용여부-O&quot;</td></tr><tr><td>4</td><td>6051244903</td><td>1</td><td>0</td><td>0</td><td>0</td><td>0</td><td>1</td><td>1</td><td>&quot;A: 저활동 그룹(클러스터 1,5)&quot;</td><td>&quot;수신_요구불예금-O&quot;</td><td>&quot;수신_거치식예금-X&quot;</td><td>&quot;수신_적립식예금-X&quot;</td><td>&quot;수신_펀드-X&quot;</td><td>&quot;수신_외화예금-X&quot;</td><td>&quot;대출금액-O&quot;</td><td>&quot;카드_사용여부-O&quot;</td></tr><tr><td>&hellip;</td><td>&hellip;</td><td>&hellip;</td><td>&hellip;</td><td>&hellip;</td><td>&hellip;</td><td>&hellip;</td><td>&hellip;</td><td>&hellip;</td><td>&hellip;</td><td>&hellip;</td><td>&hellip;</td><td>&hellip;</td><td>&hellip;</td><td>&hellip;</td><td>&hellip;</td><td>&hellip;</td></tr><tr><td>817119</td><td>4475044342</td><td>1</td><td>0</td><td>0</td><td>0</td><td>0</td><td>1</td><td>0</td><td>&quot;A: 저활동 그룹(클러스터 1,5)&quot;</td><td>&quot;수신_요구불예금-O&quot;</td><td>&quot;수신_거치식예금-X&quot;</td><td>&quot;수신_적립식예금-X&quot;</td><td>&quot;수신_펀드-X&quot;</td><td>&quot;수신_외화예금-X&quot;</td><td>&quot;대출금액-O&quot;</td><td>&quot;카드_사용여부-X&quot;</td></tr><tr><td>817120</td><td>4475044342</td><td>1</td><td>0</td><td>0</td><td>0</td><td>0</td><td>1</td><td>0</td><td>&quot;A: 저활동 그룹(클러스터 1,5)&quot;</td><td>&quot;수신_요구불예금-O&quot;</td><td>&quot;수신_거치식예금-X&quot;</td><td>&quot;수신_적립식예금-X&quot;</td><td>&quot;수신_펀드-X&quot;</td><td>&quot;수신_외화예금-X&quot;</td><td>&quot;대출금액-O&quot;</td><td>&quot;카드_사용여부-X&quot;</td></tr><tr><td>817121</td><td>4475044342</td><td>1</td><td>0</td><td>0</td><td>0</td><td>0</td><td>1</td><td>0</td><td>&quot;A: 저활동 그룹(클러스터 1,5)&quot;</td><td>&quot;수신_요구불예금-O&quot;</td><td>&quot;수신_거치식예금-X&quot;</td><td>&quot;수신_적립식예금-X&quot;</td><td>&quot;수신_펀드-X&quot;</td><td>&quot;수신_외화예금-X&quot;</td><td>&quot;대출금액-O&quot;</td><td>&quot;카드_사용여부-X&quot;</td></tr><tr><td>817122</td><td>4475044342</td><td>1</td><td>0</td><td>0</td><td>0</td><td>0</td><td>1</td><td>0</td><td>&quot;A: 저활동 그룹(클러스터 1,5)&quot;</td><td>&quot;수신_요구불예금-O&quot;</td><td>&quot;수신_거치식예금-X&quot;</td><td>&quot;수신_적립식예금-X&quot;</td><td>&quot;수신_펀드-X&quot;</td><td>&quot;수신_외화예금-X&quot;</td><td>&quot;대출금액-O&quot;</td><td>&quot;카드_사용여부-X&quot;</td></tr><tr><td>817123</td><td>4475044342</td><td>1</td><td>0</td><td>0</td><td>0</td><td>0</td><td>1</td><td>0</td><td>&quot;A: 저활동 그룹(클러스터 1,5)&quot;</td><td>&quot;수신_요구불예금-O&quot;</td><td>&quot;수신_거치식예금-X&quot;</td><td>&quot;수신_적립식예금-X&quot;</td><td>&quot;수신_펀드-X&quot;</td><td>&quot;수신_외화예금-X&quot;</td><td>&quot;대출금액-O&quot;</td><td>&quot;카드_사용여부-X&quot;</td></tr></tbody></table></div>"
      ],
      "text/plain": [
       "shape: (817_124, 17)\n",
       "┌────────┬─────────┬─────────┬─────────┬───┬────────┬────────┬────────┬────────┐\n",
       "│        ┆ 고객ID  ┆ 수신_요 ┆ 수신_거 ┆ … ┆ 수신_  ┆ 수신_  ┆ 대출금 ┆ 카드_  │\n",
       "│ ---    ┆ ---     ┆ 구불예  ┆ 치식예  ┆   ┆ 펀드_  ┆ 외화예 ┆ 액_상  ┆ 사용여 │\n",
       "│ i64    ┆ i64     ┆ 금      ┆ 금      ┆   ┆ 상태   ┆ 금_상  ┆ 태     ┆ 부_상  │\n",
       "│        ┆         ┆ ---     ┆ ---     ┆   ┆ ---    ┆ 태     ┆ ---    ┆ 태     │\n",
       "│        ┆         ┆ i64     ┆ i64     ┆   ┆ str    ┆ ---    ┆ str    ┆ ---    │\n",
       "│        ┆         ┆         ┆         ┆   ┆        ┆ str    ┆        ┆ str    │\n",
       "╞════════╪═════════╪═════════╪═════════╪═══╪════════╪════════╪════════╪════════╡\n",
       "│ 0      ┆ 6051244 ┆ 1       ┆ 0       ┆ … ┆ 수신_  ┆ 수신_  ┆ 대출금 ┆ 카드_  │\n",
       "│        ┆ 903     ┆         ┆         ┆   ┆ 펀드-X ┆ 외화예 ┆ 액-O   ┆ 사용여 │\n",
       "│        ┆         ┆         ┆         ┆   ┆        ┆ 금-X   ┆        ┆ 부-O   │\n",
       "│ 1      ┆ 6051244 ┆ 1       ┆ 0       ┆ … ┆ 수신_  ┆ 수신_  ┆ 대출금 ┆ 카드_  │\n",
       "│        ┆ 903     ┆         ┆         ┆   ┆ 펀드-X ┆ 외화예 ┆ 액-O   ┆ 사용여 │\n",
       "│        ┆         ┆         ┆         ┆   ┆        ┆ 금-X   ┆        ┆ 부-O   │\n",
       "│ 2      ┆ 6051244 ┆ 1       ┆ 0       ┆ … ┆ 수신_  ┆ 수신_  ┆ 대출금 ┆ 카드_  │\n",
       "│        ┆ 903     ┆         ┆         ┆   ┆ 펀드-X ┆ 외화예 ┆ 액-O   ┆ 사용여 │\n",
       "│        ┆         ┆         ┆         ┆   ┆        ┆ 금-X   ┆        ┆ 부-O   │\n",
       "│ 3      ┆ 6051244 ┆ 1       ┆ 0       ┆ … ┆ 수신_  ┆ 수신_  ┆ 대출금 ┆ 카드_  │\n",
       "│        ┆ 903     ┆         ┆         ┆   ┆ 펀드-X ┆ 외화예 ┆ 액-O   ┆ 사용여 │\n",
       "│        ┆         ┆         ┆         ┆   ┆        ┆ 금-X   ┆        ┆ 부-O   │\n",
       "│ 4      ┆ 6051244 ┆ 1       ┆ 0       ┆ … ┆ 수신_  ┆ 수신_  ┆ 대출금 ┆ 카드_  │\n",
       "│        ┆ 903     ┆         ┆         ┆   ┆ 펀드-X ┆ 외화예 ┆ 액-O   ┆ 사용여 │\n",
       "│        ┆         ┆         ┆         ┆   ┆        ┆ 금-X   ┆        ┆ 부-O   │\n",
       "│ …      ┆ …       ┆ …       ┆ …       ┆ … ┆ …      ┆ …      ┆ …      ┆ …      │\n",
       "│ 817119 ┆ 4475044 ┆ 1       ┆ 0       ┆ … ┆ 수신_  ┆ 수신_  ┆ 대출금 ┆ 카드_  │\n",
       "│        ┆ 342     ┆         ┆         ┆   ┆ 펀드-X ┆ 외화예 ┆ 액-O   ┆ 사용여 │\n",
       "│        ┆         ┆         ┆         ┆   ┆        ┆ 금-X   ┆        ┆ 부-X   │\n",
       "│ 817120 ┆ 4475044 ┆ 1       ┆ 0       ┆ … ┆ 수신_  ┆ 수신_  ┆ 대출금 ┆ 카드_  │\n",
       "│        ┆ 342     ┆         ┆         ┆   ┆ 펀드-X ┆ 외화예 ┆ 액-O   ┆ 사용여 │\n",
       "│        ┆         ┆         ┆         ┆   ┆        ┆ 금-X   ┆        ┆ 부-X   │\n",
       "│ 817121 ┆ 4475044 ┆ 1       ┆ 0       ┆ … ┆ 수신_  ┆ 수신_  ┆ 대출금 ┆ 카드_  │\n",
       "│        ┆ 342     ┆         ┆         ┆   ┆ 펀드-X ┆ 외화예 ┆ 액-O   ┆ 사용여 │\n",
       "│        ┆         ┆         ┆         ┆   ┆        ┆ 금-X   ┆        ┆ 부-X   │\n",
       "│ 817122 ┆ 4475044 ┆ 1       ┆ 0       ┆ … ┆ 수신_  ┆ 수신_  ┆ 대출금 ┆ 카드_  │\n",
       "│        ┆ 342     ┆         ┆         ┆   ┆ 펀드-X ┆ 외화예 ┆ 액-O   ┆ 사용여 │\n",
       "│        ┆         ┆         ┆         ┆   ┆        ┆ 금-X   ┆        ┆ 부-X   │\n",
       "│ 817123 ┆ 4475044 ┆ 1       ┆ 0       ┆ … ┆ 수신_  ┆ 수신_  ┆ 대출금 ┆ 카드_  │\n",
       "│        ┆ 342     ┆         ┆         ┆   ┆ 펀드-X ┆ 외화예 ┆ 액-O   ┆ 사용여 │\n",
       "│        ┆         ┆         ┆         ┆   ┆        ┆ 금-X   ┆        ┆ 부-X   │\n",
       "└────────┴─────────┴─────────┴─────────┴───┴────────┴────────┴────────┴────────┘"
      ]
     },
     "execution_count": 60,
     "metadata": {},
     "output_type": "execute_result"
    }
   ],
   "source": [
    "cluster_a_pl"
   ]
  },
  {
   "cell_type": "code",
   "execution_count": 61,
   "id": "684ceb9e-4286-4e5d-ac82-0b6d2bbee7de",
   "metadata": {},
   "outputs": [],
   "source": [
    "cluster_a_pl_이름수정 = cluster_a_pl.with_columns([\n",
    "    pl.col(\"중분류\")\n",
    "    .str.replace_all(\"A: 저활동 그룹\\\\(클러스터 1,5\\\\)\", \"B\")\n",
    "    .str.replace_all(\"B: 저활동 그룹\\\\(클러스터 0\\\\)\", \"A\")\n",
    "    .str.replace_all(\"C: 중간활동 그룹\\\\(클러스터 4,6,7\\\\)\", \"C\")\n",
    "    .str.replace_all(\"D: 고활동 그룹\\\\(클러스터 2,3,8\\\\)\", \"D\")\n",
    "    .alias(\"중분류\")\n",
    "])"
   ]
  },
  {
   "cell_type": "code",
   "execution_count": 62,
   "id": "7f6b32fd-a832-449d-9b43-685d03dc0b19",
   "metadata": {},
   "outputs": [
    {
     "data": {
      "text/html": [
       "<div><style>\n",
       ".dataframe > thead > tr,\n",
       ".dataframe > tbody > tr {\n",
       "  text-align: right;\n",
       "  white-space: pre-wrap;\n",
       "}\n",
       "</style>\n",
       "<small>shape: (5, 17)</small><table border=\"1\" class=\"dataframe\"><thead><tr><th></th><th>고객ID</th><th>수신_요구불예금</th><th>수신_거치식예금</th><th>수신_적립식예금</th><th>수신_펀드</th><th>수신_외화예금</th><th>대출금액</th><th>카드_사용여부</th><th>중분류</th><th>수신_요구불예금_상태</th><th>수신_거치식예금_상태</th><th>수신_적립식예금_상태</th><th>수신_펀드_상태</th><th>수신_외화예금_상태</th><th>대출금액_상태</th><th>카드_사용여부_상태</th></tr><tr><td>i64</td><td>i64</td><td>i64</td><td>i64</td><td>i64</td><td>i64</td><td>i64</td><td>i64</td><td>i64</td><td>str</td><td>str</td><td>str</td><td>str</td><td>str</td><td>str</td><td>str</td><td>str</td></tr></thead><tbody><tr><td>0</td><td>6051244903</td><td>1</td><td>0</td><td>0</td><td>0</td><td>0</td><td>1</td><td>1</td><td>&quot;B&quot;</td><td>&quot;수신_요구불예금-O&quot;</td><td>&quot;수신_거치식예금-X&quot;</td><td>&quot;수신_적립식예금-X&quot;</td><td>&quot;수신_펀드-X&quot;</td><td>&quot;수신_외화예금-X&quot;</td><td>&quot;대출금액-O&quot;</td><td>&quot;카드_사용여부-O&quot;</td></tr><tr><td>1</td><td>6051244903</td><td>1</td><td>0</td><td>0</td><td>0</td><td>0</td><td>1</td><td>1</td><td>&quot;B&quot;</td><td>&quot;수신_요구불예금-O&quot;</td><td>&quot;수신_거치식예금-X&quot;</td><td>&quot;수신_적립식예금-X&quot;</td><td>&quot;수신_펀드-X&quot;</td><td>&quot;수신_외화예금-X&quot;</td><td>&quot;대출금액-O&quot;</td><td>&quot;카드_사용여부-O&quot;</td></tr><tr><td>2</td><td>6051244903</td><td>1</td><td>0</td><td>0</td><td>0</td><td>0</td><td>1</td><td>1</td><td>&quot;B&quot;</td><td>&quot;수신_요구불예금-O&quot;</td><td>&quot;수신_거치식예금-X&quot;</td><td>&quot;수신_적립식예금-X&quot;</td><td>&quot;수신_펀드-X&quot;</td><td>&quot;수신_외화예금-X&quot;</td><td>&quot;대출금액-O&quot;</td><td>&quot;카드_사용여부-O&quot;</td></tr><tr><td>3</td><td>6051244903</td><td>1</td><td>0</td><td>0</td><td>0</td><td>0</td><td>1</td><td>1</td><td>&quot;B&quot;</td><td>&quot;수신_요구불예금-O&quot;</td><td>&quot;수신_거치식예금-X&quot;</td><td>&quot;수신_적립식예금-X&quot;</td><td>&quot;수신_펀드-X&quot;</td><td>&quot;수신_외화예금-X&quot;</td><td>&quot;대출금액-O&quot;</td><td>&quot;카드_사용여부-O&quot;</td></tr><tr><td>4</td><td>6051244903</td><td>1</td><td>0</td><td>0</td><td>0</td><td>0</td><td>1</td><td>1</td><td>&quot;B&quot;</td><td>&quot;수신_요구불예금-O&quot;</td><td>&quot;수신_거치식예금-X&quot;</td><td>&quot;수신_적립식예금-X&quot;</td><td>&quot;수신_펀드-X&quot;</td><td>&quot;수신_외화예금-X&quot;</td><td>&quot;대출금액-O&quot;</td><td>&quot;카드_사용여부-O&quot;</td></tr></tbody></table></div>"
      ],
      "text/plain": [
       "shape: (5, 17)\n",
       "┌─────┬─────────┬─────────┬─────────┬───┬─────────┬─────────┬─────────┬────────┐\n",
       "│     ┆ 고객ID  ┆ 수신_요 ┆ 수신_거 ┆ … ┆ 수신_펀 ┆ 수신_외 ┆ 대출금  ┆ 카드_  │\n",
       "│ --- ┆ ---     ┆ 구불예  ┆ 치식예  ┆   ┆ 드_상태 ┆ 화예금_ ┆ 액_상태 ┆ 사용여 │\n",
       "│ i64 ┆ i64     ┆ 금      ┆ 금      ┆   ┆ ---     ┆ 상태    ┆ ---     ┆ 부_상  │\n",
       "│     ┆         ┆ ---     ┆ ---     ┆   ┆ str     ┆ ---     ┆ str     ┆ 태     │\n",
       "│     ┆         ┆ i64     ┆ i64     ┆   ┆         ┆ str     ┆         ┆ ---    │\n",
       "│     ┆         ┆         ┆         ┆   ┆         ┆         ┆         ┆ str    │\n",
       "╞═════╪═════════╪═════════╪═════════╪═══╪═════════╪═════════╪═════════╪════════╡\n",
       "│ 0   ┆ 6051244 ┆ 1       ┆ 0       ┆ … ┆ 수신_펀 ┆ 수신_외 ┆ 대출금  ┆ 카드_  │\n",
       "│     ┆ 903     ┆         ┆         ┆   ┆ 드-X    ┆ 화예금- ┆ 액-O    ┆ 사용여 │\n",
       "│     ┆         ┆         ┆         ┆   ┆         ┆ X       ┆         ┆ 부-O   │\n",
       "│ 1   ┆ 6051244 ┆ 1       ┆ 0       ┆ … ┆ 수신_펀 ┆ 수신_외 ┆ 대출금  ┆ 카드_  │\n",
       "│     ┆ 903     ┆         ┆         ┆   ┆ 드-X    ┆ 화예금- ┆ 액-O    ┆ 사용여 │\n",
       "│     ┆         ┆         ┆         ┆   ┆         ┆ X       ┆         ┆ 부-O   │\n",
       "│ 2   ┆ 6051244 ┆ 1       ┆ 0       ┆ … ┆ 수신_펀 ┆ 수신_외 ┆ 대출금  ┆ 카드_  │\n",
       "│     ┆ 903     ┆         ┆         ┆   ┆ 드-X    ┆ 화예금- ┆ 액-O    ┆ 사용여 │\n",
       "│     ┆         ┆         ┆         ┆   ┆         ┆ X       ┆         ┆ 부-O   │\n",
       "│ 3   ┆ 6051244 ┆ 1       ┆ 0       ┆ … ┆ 수신_펀 ┆ 수신_외 ┆ 대출금  ┆ 카드_  │\n",
       "│     ┆ 903     ┆         ┆         ┆   ┆ 드-X    ┆ 화예금- ┆ 액-O    ┆ 사용여 │\n",
       "│     ┆         ┆         ┆         ┆   ┆         ┆ X       ┆         ┆ 부-O   │\n",
       "│ 4   ┆ 6051244 ┆ 1       ┆ 0       ┆ … ┆ 수신_펀 ┆ 수신_외 ┆ 대출금  ┆ 카드_  │\n",
       "│     ┆ 903     ┆         ┆         ┆   ┆ 드-X    ┆ 화예금- ┆ 액-O    ┆ 사용여 │\n",
       "│     ┆         ┆         ┆         ┆   ┆         ┆ X       ┆         ┆ 부-O   │\n",
       "└─────┴─────────┴─────────┴─────────┴───┴─────────┴─────────┴─────────┴────────┘"
      ]
     },
     "execution_count": 62,
     "metadata": {},
     "output_type": "execute_result"
    }
   ],
   "source": [
    "cluster_a_pl_이름수정.head()"
   ]
  },
  {
   "cell_type": "code",
   "execution_count": 64,
   "id": "7fee35ef-d716-4c3a-97a7-bf86ad05477f",
   "metadata": {},
   "outputs": [],
   "source": [
    "cluster_a_pl_이름수정.write_csv('./dataset/cluster_b_상품조합.csv')"
   ]
  },
  {
   "cell_type": "markdown",
   "id": "8496bd47-3963-4e5f-a94d-7f2f10bacdbd",
   "metadata": {},
   "source": [
    "### cluster b -> cluster a"
   ]
  },
  {
   "cell_type": "code",
   "execution_count": 63,
   "id": "7a86fbe9-de72-4bfa-aea9-f0733c72e938",
   "metadata": {},
   "outputs": [],
   "source": [
    "cluster_b_pl= pl.read_csv('dataset/cluster_b_pd.csv')"
   ]
  },
  {
   "cell_type": "code",
   "execution_count": 65,
   "id": "58799274-aa45-441a-92e7-18da6bcfbe43",
   "metadata": {},
   "outputs": [],
   "source": [
    "cluster_b_pl_이름수정 = cluster_b_pl.with_columns([\n",
    "    pl.col(\"중분류\")\n",
    "    .str.replace_all(\"A: 저활동 그룹\\\\(클러스터 1,5\\\\)\", \"B\")\n",
    "    .str.replace_all(\"B: 저활동 그룹\\\\(클러스터 0\\\\)\", \"A\")\n",
    "    .str.replace_all(\"C: 중간활동 그룹\\\\(클러스터 4,6,7\\\\)\", \"C\")\n",
    "    .str.replace_all(\"D: 고활동 그룹\\\\(클러스터 2,3,8\\\\)\", \"D\")\n",
    "    .alias(\"중분류\")\n",
    "])"
   ]
  },
  {
   "cell_type": "code",
   "execution_count": 66,
   "id": "f446f6b3-1540-4c28-a058-7d1e6c71db8a",
   "metadata": {},
   "outputs": [],
   "source": [
    "cluster_b_pl_이름수정.write_csv('./dataset/cluster_a_상품조합.csv')"
   ]
  },
  {
   "cell_type": "markdown",
   "id": "c758e8ba-a934-4959-9d89-3a24cd740ae2",
   "metadata": {},
   "source": [
    "### cluster c "
   ]
  },
  {
   "cell_type": "code",
   "execution_count": 1,
   "id": "e0b43b04-34e4-47b1-a049-6166d6a6e2bb",
   "metadata": {},
   "outputs": [],
   "source": [
    "# 경고 메시지 무시\n",
    "import warnings\n",
    "warnings.filterwarnings(\"ignore\")\n",
    "\n",
    "# 한글 폰트 설정 (Matplotlib에서 한글 깨짐 방지)\n",
    "import matplotlib.pyplot as plt\n",
    "\n",
    "plt.rc(\"font\", family=\"NanumGothic\")  # Windows 사용자의 경우\n",
    "\n",
    "# 마이너스 기호 깨짐 방지\n",
    "plt.rcParams[\"axes.unicode_minus\"] = False\n",
    "\n",
    "# 기본 라이브러리\n",
    "import polars as pl\n",
    "import pandas as pd\n",
    "import seaborn as sns\n",
    "import numpy as np\n",
    "\n",
    "# 시각화용 색상 팔레트\n",
    "color_palette = sns.color_palette(\"Set2\", as_cmap=False)"
   ]
  },
  {
   "cell_type": "code",
   "execution_count": 2,
   "id": "e1ad1a83-d8e5-4134-ad98-d7c2bcb08d8e",
   "metadata": {},
   "outputs": [],
   "source": [
    "cluster_c_pl= pl.read_csv('dataset/cluster_c_pd.csv')"
   ]
  },
  {
   "cell_type": "code",
   "execution_count": 3,
   "id": "80f6a698-905e-4960-ac47-f66bc97f446b",
   "metadata": {},
   "outputs": [],
   "source": [
    "cluster_c_pl_이름수정 = cluster_c_pl.with_columns([\n",
    "    pl.col(\"중분류\")\n",
    "    .str.replace_all(\"A: 저활동 그룹\\\\(클러스터 1,5\\\\)\", \"B\")\n",
    "    .str.replace_all(\"B: 저활동 그룹\\\\(클러스터 0\\\\)\", \"A\")\n",
    "    .str.replace_all(\"C: 중간활동 그룹\\\\(클러스터 4,6,7\\\\)\", \"C\")\n",
    "    .str.replace_all(\"D: 고활동 그룹\\\\(클러스터 2,3,8\\\\)\", \"D\")\n",
    "    .alias(\"중분류\")\n",
    "])"
   ]
  },
  {
   "cell_type": "code",
   "execution_count": 4,
   "id": "3740a9c5-0b70-4e41-8986-9075a12e9fec",
   "metadata": {},
   "outputs": [],
   "source": [
    "cluster_c_pl_이름수정.write_csv('./dataset/cluster_c_상품조합.csv')"
   ]
  },
  {
   "cell_type": "markdown",
   "id": "60d3f248-3cfe-472f-9fea-d0c2ff3a69cf",
   "metadata": {},
   "source": [
    "cluster d"
   ]
  },
  {
   "cell_type": "code",
   "execution_count": 5,
   "id": "b8bd3207-81d4-4e3b-9678-eca4e52153b3",
   "metadata": {},
   "outputs": [],
   "source": [
    "cluster_d_pl= pl.read_csv('dataset/cluster_d_pd.csv')"
   ]
  },
  {
   "cell_type": "code",
   "execution_count": 6,
   "id": "7941d31c-1529-424b-a02c-78d9910ef6bc",
   "metadata": {},
   "outputs": [],
   "source": [
    "cluster_d_pl_이름수정 = cluster_d_pl.with_columns([\n",
    "    pl.col(\"중분류\")\n",
    "    .str.replace_all(\"A: 저활동 그룹\\\\(클러스터 1,5\\\\)\", \"B\")\n",
    "    .str.replace_all(\"B: 저활동 그룹\\\\(클러스터 0\\\\)\", \"A\")\n",
    "    .str.replace_all(\"C: 중간활동 그룹\\\\(클러스터 4,6,7\\\\)\", \"C\")\n",
    "    .str.replace_all(\"D: 고활동 그룹\\\\(클러스터 2,3,8\\\\)\", \"D\")\n",
    "    .alias(\"중분류\")\n",
    "])"
   ]
  },
  {
   "cell_type": "code",
   "execution_count": 7,
   "id": "14da592d-2a24-41c6-8b82-41f50c5b8f60",
   "metadata": {},
   "outputs": [],
   "source": [
    "cluster_d_pl_이름수정.write_csv('./dataset/cluster_d_상품조합.csv')"
   ]
  },
  {
   "cell_type": "markdown",
   "id": "03909f7e-8923-463b-a0cc-881e1c895cd3",
   "metadata": {},
   "source": [
    "## CUSTOMER_SCORE_금리_고객집계 만들기"
   ]
  },
  {
   "cell_type": "code",
   "execution_count": 1,
   "id": "0a0d0898-8044-462f-b463-22ea7a254890",
   "metadata": {},
   "outputs": [],
   "source": [
    "# 경고 메시지 무시\n",
    "import warnings\n",
    "warnings.filterwarnings(\"ignore\")\n",
    "\n",
    "# 한글 폰트 설정 (Matplotlib에서 한글 깨짐 방지)\n",
    "import matplotlib.pyplot as plt\n",
    "\n",
    "plt.rc(\"font\", family=\"NanumGothic\")  # Windows 사용자의 경우\n",
    "\n",
    "# 마이너스 기호 깨짐 방지\n",
    "plt.rcParams[\"axes.unicode_minus\"] = False\n",
    "\n",
    "# 기본 라이브러리\n",
    "import polars as pl\n",
    "import pandas as pd\n",
    "import seaborn as sns\n",
    "\n",
    "# 시각화용 색상 팔레트\n",
    "color_palette = sns.color_palette(\"Set2\", as_cmap=False)"
   ]
  },
  {
   "cell_type": "code",
   "execution_count": 7,
   "id": "62438b9f-396e-4575-ab2a-c20f1ea8be89",
   "metadata": {},
   "outputs": [],
   "source": [
    "def aggregate_customer_data_no_cluster(df: pl.DataFrame) -> pl.DataFrame:\n",
    "    \"\"\"\n",
    "    고객 단위로 주요 금융 항목을 집계하여 요약 데이터를 생성합니다.\n",
    "\n",
    "    처리 내용:\n",
    "    1. '기준금리', '성별' 컬럼 제거\n",
    "    2. 고객ID 기준 그룹화 후 다음과 같이 집계:\n",
    "        - 입출금예금, 기타예금, 비이자상품, 카드, 대출, 총점수: 평균값\n",
    "        - 거래기간(개월), 연령대: 최대값\n",
    "        - 보유상품수:\n",
    "            - 최대_보유상품종류: 최대값\n",
    "            - 평균_보유상품종류: 평균값을 반올림 후 Int8 형으로 변환\n",
    "\n",
    "    Parameters:\n",
    "        df (pl.DataFrame): 원본 고객 월별 데이터\n",
    "\n",
    "    Returns:\n",
    "        pl.DataFrame: 고객ID 기준으로 집계된 요약 데이터프레임\n",
    "    \"\"\"\n",
    "    df_dropped = df.drop([\"기준금리\", \"성별\"])\n",
    "\n",
    "    df_agg = (\n",
    "        df_dropped\n",
    "        .group_by(\"고객ID\")\n",
    "        .agg([\n",
    "            pl.col(\"입출금예금\").mean().alias(\"평균_입출금예금\"),\n",
    "            pl.col(\"기타예금\").mean().alias(\"평균_기타예금\"),\n",
    "            pl.col(\"비이자상품\").mean().alias(\"평균_비이자상품\"),\n",
    "            pl.col(\"카드\").mean().alias(\"평균_카드\"),\n",
    "            pl.col(\"대출\").mean().alias(\"평균_대출금액\"),\n",
    "            pl.col(\"거래기간(개월)\").max().alias(\"거래기간(개월)\"),\n",
    "            pl.col(\"총점수\").mean().alias(\"평균_총점수\"),\n",
    "            pl.col(\"보유상품수\").max().alias(\"최대_보유상품종류\"),\n",
    "            pl.col(\"보유상품수\").mean().round(0).cast(pl.Int8).alias(\"평균_보유상품종류\"),            \n",
    "            pl.col(\"연령대\").max().alias(\"연령대\"),\n",
    "            pl.col(\"고객등급\").max().alias(\"최대_고객등급\"),\n",
    "            # # 클러스터 관련 컬럼 (대표값으로 유지)\n",
    "            # pl.col(\"KMeans_DB_KneeLocato_2030\").first().alias(\"KMeans_DB_KneeLocato_2030\"),\n",
    "            # pl.col(\"중분류\").first().alias(\"중분류\")\n",
    "        ])\n",
    "    )\n",
    "    return df_agg"
   ]
  },
  {
   "cell_type": "code",
   "execution_count": 2,
   "id": "7eb5448b-bd98-48db-be10-750b6d8d8133",
   "metadata": {},
   "outputs": [],
   "source": [
    "df = pl.read_csv('./dataset/CUSTOMER_SCORE_금리.csv')"
   ]
  },
  {
   "cell_type": "code",
   "execution_count": 3,
   "id": "bd26ce96-61f4-402d-b548-6aa943def51a",
   "metadata": {},
   "outputs": [
    {
     "data": {
      "text/html": [
       "<div><style>\n",
       ".dataframe > thead > tr,\n",
       ".dataframe > tbody > tr {\n",
       "  text-align: right;\n",
       "  white-space: pre-wrap;\n",
       "}\n",
       "</style>\n",
       "<small>shape: (5, 14)</small><table border=\"1\" class=\"dataframe\"><thead><tr><th>고객ID</th><th>기준년월</th><th>연령대</th><th>성별</th><th>고객등급</th><th>입출금예금</th><th>기타예금</th><th>비이자상품</th><th>카드</th><th>대출</th><th>기준금리</th><th>보유상품수</th><th>거래기간(개월)</th><th>총점수</th></tr><tr><td>i64</td><td>i64</td><td>i64</td><td>str</td><td>str</td><td>i64</td><td>i64</td><td>i64</td><td>i64</td><td>i64</td><td>f64</td><td>i64</td><td>i64</td><td>f64</td></tr></thead><tbody><tr><td>9999998161</td><td>202106</td><td>60</td><td>&quot;여&quot;</td><td>&quot;일반등급&quot;</td><td>11000000</td><td>0</td><td>0</td><td>60000</td><td>0</td><td>4.55</td><td>2</td><td>6</td><td>1040.533333</td></tr><tr><td>9999997589</td><td>202106</td><td>60</td><td>&quot;남&quot;</td><td>&quot;일반등급&quot;</td><td>0</td><td>10400000</td><td>0</td><td>0</td><td>0</td><td>4.55</td><td>2</td><td>6</td><td>436.0</td></tr><tr><td>9999991579</td><td>202106</td><td>60</td><td>&quot;여&quot;</td><td>&quot;일반등급&quot;</td><td>0</td><td>30000000</td><td>0</td><td>0</td><td>0</td><td>4.55</td><td>1</td><td>6</td><td>1210.0</td></tr><tr><td>9999989448</td><td>202106</td><td>60</td><td>&quot;남&quot;</td><td>&quot;일반등급&quot;</td><td>400000</td><td>0</td><td>0</td><td>0</td><td>0</td><td>4.55</td><td>1</td><td>6</td><td>42.0</td></tr><tr><td>9999988325</td><td>202106</td><td>60</td><td>&quot;남&quot;</td><td>&quot;일반등급&quot;</td><td>2700000</td><td>0</td><td>0</td><td>0</td><td>0</td><td>4.55</td><td>1</td><td>6</td><td>178.0</td></tr></tbody></table></div>"
      ],
      "text/plain": [
       "shape: (5, 14)\n",
       "┌─────────┬─────────┬────────┬──────┬───┬─────────┬─────────┬─────────┬────────┐\n",
       "│ 고객ID  ┆ 기준년  ┆ 연령대 ┆ 성별 ┆ … ┆ 기준금  ┆ 보유상  ┆ 거래기  ┆ 총점수 │\n",
       "│ ---     ┆ 월      ┆ ---    ┆ ---  ┆   ┆ 리      ┆ 품수    ┆ 간(개월 ┆ ---    │\n",
       "│ i64     ┆ ---     ┆ i64    ┆ str  ┆   ┆ ---     ┆ ---     ┆ )       ┆ f64    │\n",
       "│         ┆ i64     ┆        ┆      ┆   ┆ f64     ┆ i64     ┆ ---     ┆        │\n",
       "│         ┆         ┆        ┆      ┆   ┆         ┆         ┆ i64     ┆        │\n",
       "╞═════════╪═════════╪════════╪══════╪═══╪═════════╪═════════╪═════════╪════════╡\n",
       "│ 9999998 ┆ 202106  ┆ 60     ┆ 여   ┆ … ┆ 4.55    ┆ 2       ┆ 6       ┆ 1040.5 │\n",
       "│ 161     ┆         ┆        ┆      ┆   ┆         ┆         ┆         ┆ 33333  │\n",
       "│ 9999997 ┆ 202106  ┆ 60     ┆ 남   ┆ … ┆ 4.55    ┆ 2       ┆ 6       ┆ 436.0  │\n",
       "│ 589     ┆         ┆        ┆      ┆   ┆         ┆         ┆         ┆        │\n",
       "│ 9999991 ┆ 202106  ┆ 60     ┆ 여   ┆ … ┆ 4.55    ┆ 1       ┆ 6       ┆ 1210.0 │\n",
       "│ 579     ┆         ┆        ┆      ┆   ┆         ┆         ┆         ┆        │\n",
       "│ 9999989 ┆ 202106  ┆ 60     ┆ 남   ┆ … ┆ 4.55    ┆ 1       ┆ 6       ┆ 42.0   │\n",
       "│ 448     ┆         ┆        ┆      ┆   ┆         ┆         ┆         ┆        │\n",
       "│ 9999988 ┆ 202106  ┆ 60     ┆ 남   ┆ … ┆ 4.55    ┆ 1       ┆ 6       ┆ 178.0  │\n",
       "│ 325     ┆         ┆        ┆      ┆   ┆         ┆         ┆         ┆        │\n",
       "└─────────┴─────────┴────────┴──────┴───┴─────────┴─────────┴─────────┴────────┘"
      ]
     },
     "execution_count": 3,
     "metadata": {},
     "output_type": "execute_result"
    }
   ],
   "source": [
    "df.head()"
   ]
  },
  {
   "cell_type": "code",
   "execution_count": 8,
   "id": "8d03520a-4637-45bd-91cb-878fc32c8f84",
   "metadata": {},
   "outputs": [],
   "source": [
    "CUSTOMER_SCORE_금리_고객집계 = aggregate_customer_data_no_cluster(df)"
   ]
  },
  {
   "cell_type": "code",
   "execution_count": 9,
   "id": "0d145994-ed08-446a-bf23-1cae5aafe627",
   "metadata": {},
   "outputs": [
    {
     "data": {
      "text/html": [
       "<div><style>\n",
       ".dataframe > thead > tr,\n",
       ".dataframe > tbody > tr {\n",
       "  text-align: right;\n",
       "  white-space: pre-wrap;\n",
       "}\n",
       "</style>\n",
       "<small>shape: (1_978_693, 12)</small><table border=\"1\" class=\"dataframe\"><thead><tr><th>고객ID</th><th>평균_입출금예금</th><th>평균_기타예금</th><th>평균_비이자상품</th><th>평균_카드</th><th>평균_대출금액</th><th>거래기간(개월)</th><th>평균_총점수</th><th>최대_보유상품종류</th><th>평균_보유상품종류</th><th>연령대</th><th>최대_고객등급</th></tr><tr><td>i64</td><td>f64</td><td>f64</td><td>f64</td><td>f64</td><td>f64</td><td>i64</td><td>f64</td><td>i64</td><td>i8</td><td>i64</td><td>str</td></tr></thead><tbody><tr><td>8029049273</td><td>277419.354839</td><td>0.0</td><td>0.0</td><td>0.0</td><td>0.0</td><td>36</td><td>45.204301</td><td>1</td><td>1</td><td>60</td><td>&quot;일반등급&quot;</td></tr><tr><td>7217905638</td><td>516129.032258</td><td>0.0</td><td>0.0</td><td>1.2819e6</td><td>0.0</td><td>36</td><td>298.589247</td><td>2</td><td>2</td><td>40</td><td>&quot;일반등급&quot;</td></tr><tr><td>6357187164</td><td>683870.967742</td><td>0.0</td><td>0.0</td><td>18709.677419</td><td>5.5581e6</td><td>36</td><td>2071.695161</td><td>3</td><td>1</td><td>30</td><td>&quot;일반등급&quot;</td></tr><tr><td>5830406301</td><td>706451.612903</td><td>2.8065e6</td><td>0.0</td><td>645.16129</td><td>0.0</td><td>36</td><td>194.67957</td><td>3</td><td>2</td><td>30</td><td>&quot;일반등급&quot;</td></tr><tr><td>7438371436</td><td>5.3548e6</td><td>6.1065e7</td><td>0.0</td><td>0.0</td><td>0.0</td><td>36</td><td>2925.870968</td><td>3</td><td>3</td><td>50</td><td>&quot;일반등급&quot;</td></tr><tr><td>&hellip;</td><td>&hellip;</td><td>&hellip;</td><td>&hellip;</td><td>&hellip;</td><td>&hellip;</td><td>&hellip;</td><td>&hellip;</td><td>&hellip;</td><td>&hellip;</td><td>&hellip;</td><td>&hellip;</td></tr><tr><td>2420614211</td><td>36363.636364</td><td>0.0</td><td>0.0</td><td>0.0</td><td>2.2455e6</td><td>11</td><td>841.6</td><td>2</td><td>1</td><td>50</td><td>&quot;일반등급&quot;</td></tr><tr><td>2335333204</td><td>2.3125e6</td><td>0.0</td><td>0.0</td><td>828750.0</td><td>0.0</td><td>8</td><td>306.841667</td><td>2</td><td>2</td><td>30</td><td>&quot;일반등급&quot;</td></tr><tr><td>5226342813</td><td>0.0</td><td>5.7194e6</td><td>0.0</td><td>0.0</td><td>0.0</td><td>36</td><td>247.913978</td><td>2</td><td>2</td><td>20</td><td>&quot;일반등급&quot;</td></tr><tr><td>9798456317</td><td>6.6806e6</td><td>3.8258e6</td><td>0.0</td><td>16451.612903</td><td>0.0</td><td>36</td><td>713.154839</td><td>3</td><td>2</td><td>60</td><td>&quot;일반등급&quot;</td></tr><tr><td>8600918171</td><td>906451.612903</td><td>0.0</td><td>0.0</td><td>0.0</td><td>0.0</td><td>36</td><td>98.709677</td><td>1</td><td>1</td><td>50</td><td>&quot;일반등급&quot;</td></tr></tbody></table></div>"
      ],
      "text/plain": [
       "shape: (1_978_693, 12)\n",
       "┌─────────┬─────────┬─────────┬────────┬───┬────────┬────────┬────────┬────────┐\n",
       "│ 고객ID  ┆ 평균_입 ┆ 평균_기 ┆ 평균_  ┆ … ┆ 최대_  ┆ 평균_  ┆ 연령대 ┆ 최대_  │\n",
       "│ ---     ┆ 출금예  ┆ 타예금  ┆ 비이자 ┆   ┆ 보유상 ┆ 보유상 ┆ ---    ┆ 고객등 │\n",
       "│ i64     ┆ 금      ┆ ---     ┆ 상품   ┆   ┆ 품종류 ┆ 품종류 ┆ i64    ┆ 급     │\n",
       "│         ┆ ---     ┆ f64     ┆ ---    ┆   ┆ ---    ┆ ---    ┆        ┆ ---    │\n",
       "│         ┆ f64     ┆         ┆ f64    ┆   ┆ i64    ┆ i8     ┆        ┆ str    │\n",
       "╞═════════╪═════════╪═════════╪════════╪═══╪════════╪════════╪════════╪════════╡\n",
       "│ 8029049 ┆ 277419. ┆ 0.0     ┆ 0.0    ┆ … ┆ 1      ┆ 1      ┆ 60     ┆ 일반등 │\n",
       "│ 273     ┆ 354839  ┆         ┆        ┆   ┆        ┆        ┆        ┆ 급     │\n",
       "│ 7217905 ┆ 516129. ┆ 0.0     ┆ 0.0    ┆ … ┆ 2      ┆ 2      ┆ 40     ┆ 일반등 │\n",
       "│ 638     ┆ 032258  ┆         ┆        ┆   ┆        ┆        ┆        ┆ 급     │\n",
       "│ 6357187 ┆ 683870. ┆ 0.0     ┆ 0.0    ┆ … ┆ 3      ┆ 1      ┆ 30     ┆ 일반등 │\n",
       "│ 164     ┆ 967742  ┆         ┆        ┆   ┆        ┆        ┆        ┆ 급     │\n",
       "│ 5830406 ┆ 706451. ┆ 2.8065e ┆ 0.0    ┆ … ┆ 3      ┆ 2      ┆ 30     ┆ 일반등 │\n",
       "│ 301     ┆ 612903  ┆ 6       ┆        ┆   ┆        ┆        ┆        ┆ 급     │\n",
       "│ 7438371 ┆ 5.3548e ┆ 6.1065e ┆ 0.0    ┆ … ┆ 3      ┆ 3      ┆ 50     ┆ 일반등 │\n",
       "│ 436     ┆ 6       ┆ 7       ┆        ┆   ┆        ┆        ┆        ┆ 급     │\n",
       "│ …       ┆ …       ┆ …       ┆ …      ┆ … ┆ …      ┆ …      ┆ …      ┆ …      │\n",
       "│ 2420614 ┆ 36363.6 ┆ 0.0     ┆ 0.0    ┆ … ┆ 2      ┆ 1      ┆ 50     ┆ 일반등 │\n",
       "│ 211     ┆ 36364   ┆         ┆        ┆   ┆        ┆        ┆        ┆ 급     │\n",
       "│ 2335333 ┆ 2.3125e ┆ 0.0     ┆ 0.0    ┆ … ┆ 2      ┆ 2      ┆ 30     ┆ 일반등 │\n",
       "│ 204     ┆ 6       ┆         ┆        ┆   ┆        ┆        ┆        ┆ 급     │\n",
       "│ 5226342 ┆ 0.0     ┆ 5.7194e ┆ 0.0    ┆ … ┆ 2      ┆ 2      ┆ 20     ┆ 일반등 │\n",
       "│ 813     ┆         ┆ 6       ┆        ┆   ┆        ┆        ┆        ┆ 급     │\n",
       "│ 9798456 ┆ 6.6806e ┆ 3.8258e ┆ 0.0    ┆ … ┆ 3      ┆ 2      ┆ 60     ┆ 일반등 │\n",
       "│ 317     ┆ 6       ┆ 6       ┆        ┆   ┆        ┆        ┆        ┆ 급     │\n",
       "│ 8600918 ┆ 906451. ┆ 0.0     ┆ 0.0    ┆ … ┆ 1      ┆ 1      ┆ 50     ┆ 일반등 │\n",
       "│ 171     ┆ 612903  ┆         ┆        ┆   ┆        ┆        ┆        ┆ 급     │\n",
       "└─────────┴─────────┴─────────┴────────┴───┴────────┴────────┴────────┴────────┘"
      ]
     },
     "execution_count": 9,
     "metadata": {},
     "output_type": "execute_result"
    }
   ],
   "source": [
    "CUSTOMER_SCORE_금리_고객집계"
   ]
  },
  {
   "cell_type": "code",
   "execution_count": 10,
   "id": "383daa12-bd56-4a23-bba0-ad468db7e184",
   "metadata": {},
   "outputs": [
    {
     "name": "stdout",
     "output_type": "stream",
     "text": [
      "1978693\n",
      "1978693\n"
     ]
    }
   ],
   "source": [
    "print(len(df['고객ID'].unique()))\n",
    "print(CUSTOMER_SCORE_금리_고객집계.shape[0])"
   ]
  },
  {
   "cell_type": "code",
   "execution_count": 11,
   "id": "08d2d471-ef4e-4889-9afe-42caede520b3",
   "metadata": {},
   "outputs": [],
   "source": [
    "CUSTOMER_SCORE_금리_고객집계.write_csv('./dataset/CUSTOMER_SCORE_금리_고객집계.csv')"
   ]
  }
 ],
 "metadata": {
  "kernelspec": {
   "display_name": "Python 3 (ipykernel)",
   "language": "python",
   "name": "python3"
  },
  "language_info": {
   "codemirror_mode": {
    "name": "ipython",
    "version": 3
   },
   "file_extension": ".py",
   "mimetype": "text/x-python",
   "name": "python",
   "nbconvert_exporter": "python",
   "pygments_lexer": "ipython3",
   "version": "3.12.8"
  }
 },
 "nbformat": 4,
 "nbformat_minor": 5
}
