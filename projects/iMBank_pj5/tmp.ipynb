{
 "cells": [
  {
   "cell_type": "code",
   "execution_count": 1,
   "metadata": {},
   "outputs": [],
   "source": [
    "import polars as pl\n",
    "import pandas as pd\n",
    "import matplotlib.pyplot as plt\n",
    "\n",
    "import codecs\n",
    "import os\n",
    "\n",
    "import matplotlib.font_manager as fm\n",
    "\n",
    "# 한글 글꼴 경로 설정 (예: Malgun Gothic)\n",
    "font_path = \"C:/Windows/Fonts/malgun.ttf\"  # Windows의 경우\n",
    "font_prop = fm.FontProperties(fname=font_path, size=12)\n",
    "\n",
    "# Matplotlib의 기본 글꼴 설정\n",
    "plt.rc('font', family=font_prop.get_name())"
   ]
  },
  {
   "cell_type": "code",
   "execution_count": 7,
   "metadata": {},
   "outputs": [],
   "source": [
    "\n",
    "# CSV 파일 경로\n",
    "main_path = 'C:/Users/campus3S031/Desktop/iM뱅크 프로젝트용 데이터/raw_data/'\n",
    "\n",
    "# 위에꺼 사실상 무시 가능\n",
    "ori_path = [\n",
    "    f\"{main_path}iMBANK_CUSTOMER_DATA_2021(K-DigitalTraining).csv\",\n",
    "    f\"{main_path}iMBANK_CUSTOMER_DATA_2022(K-DigitalTraining).csv\",\n",
    "    f\"{main_path}iMBANK_CUSTOMER_DATA_2023(K-DigitalTraining).csv\",\n",
    "    f\"{main_path}iMBANK_CARD_DATA_2021(K-DigitalTraining).csv\",\n",
    "    f\"{main_path}iMBANK_CARD_DATA_2022(K-DigitalTraining).csv\",\n",
    "    f\"{main_path}iMBANK_CARD_DATA_2023(K-DigitalTraining).csv\"\n",
    "]\n",
    "\n",
    "tmp_path = [\n",
    "    \"data/cus_utf8_file_2021.csv\",\n",
    "    \"data/cus_utf8_file_2022.csv\",\n",
    "    \"data/cus_utf8_file_2023.csv\",\n",
    "    \"data/card_utf8_file_2021.csv\",\n",
    "    \"data/card_utf8_file_2022.csv\",\n",
    "    \"data/card_utf8_file_2023.csv\"\n",
    "]\n"
   ]
  },
  {
   "cell_type": "code",
   "execution_count": 3,
   "metadata": {},
   "outputs": [
    {
     "data": {
      "text/plain": [
       "\"\\nfor i in range(6):\\n    with codecs.open(ori_path[i], 'r', encoding='cp949') as f_in:\\n        content = f_in.read()\\n    with codecs.open(tmp_path[i], 'w', encoding='utf8') as f_out:\\n        f_out.write(content)\\n\""
      ]
     },
     "execution_count": 3,
     "metadata": {},
     "output_type": "execute_result"
    }
   ],
   "source": [
    "# 원본 파일을 읽어서 UTF-8로 변환하여 임시 파일에 저장 -> 한 번만 실행해도 충분\n",
    "# 메모리 에러 발생\n",
    "'''\n",
    "for i in range(6):\n",
    "    with codecs.open(ori_path[i], 'r', encoding='cp949') as f_in:\n",
    "        content = f_in.read()\n",
    "    with codecs.open(tmp_path[i], 'w', encoding='utf8') as f_out:\n",
    "        f_out.write(content)\n",
    "'''"
   ]
  },
  {
   "cell_type": "markdown",
   "metadata": {},
   "source": [
    "# 손님 데이터 수정\n"
   ]
  },
  {
   "cell_type": "code",
   "execution_count": 4,
   "metadata": {},
   "outputs": [],
   "source": [
    "# LazyFrame 생성\n",
    "new_path = \"C:/Users/campus3S031/Desktop/iMBank/iM_DiGital_Banker_academy/projects/iMBank_pj5/data/\"\n",
    "\n",
    "cus_path = [\n",
    "    \"cus_utf8_file_2021.csv\",\n",
    "    \"cus_utf8_file_2022.csv\",\n",
    "    \"cus_utf8_file_2023.csv\"\n",
    "]\n",
    "\n",
    "card_path = [\n",
    "    \"card_utf8_file_2021.csv\",\n",
    "    \"card_utf8_file_2022.csv\",\n",
    "    \"card_utf8_file_2023.csv\"\n",
    "]\n"
   ]
  },
  {
   "cell_type": "code",
   "execution_count": 5,
   "metadata": {},
   "outputs": [],
   "source": [
    "\n",
    "def join_customer_and_card_data(file_list_1, file_list_2):\n",
    "    \n",
    "    processed_data = []\n",
    "\n",
    "    for i in range(len(file_list_1)):\n",
    "        lazy_df = pl.scan_csv(f'{new_path}{file_list_1[i]}', encoding='utf8')\n",
    "        lazy_df_2 = pl.scan_csv(f'{new_path}{file_list_2[i]}', encoding='utf8')\n",
    "\n",
    "        # 특정 열만 선택\n",
    "        cus_df = lazy_df # 기존 고객 데이터\n",
    "\n",
    "        card_df = lazy_df_2.group_by('고객ID').agg([\n",
    "            pl.col('승인금액').sum().alias(\"카드이용 금액\"),\n",
    "            pl.col('고객ID').count().alias(\"카드이용 횟수\"),\n",
    "        ])\n",
    "\n",
    "        # left join 수행\n",
    "        joined_df = cus_df.join(\n",
    "            card_df,\n",
    "            left_on='고객ID',  \n",
    "            right_on='고객ID',      \n",
    "            how='left'\n",
    "        )\n",
    "        processed_data.append(joined_df)\n",
    "    \n",
    "    return processed_data\n",
    "\n",
    "processed_data = join_customer_and_card_data(cus_path, card_path)"
   ]
  },
  {
   "cell_type": "code",
   "execution_count": 6,
   "metadata": {},
   "outputs": [
    {
     "name": "stdout",
     "output_type": "stream",
     "text": [
      "\n",
      "한글 인코딩 데이터 미리보기:\n",
      "shape: (5, 15)\n",
      "┌──────────┬────────────┬──────────┬──────┬───┬───────────────┬──────────┬──────────┬──────────┐\n",
      "│ 기준년월 ┆ 고객ID     ┆ 연령대   ┆ 성별 ┆ … ┆ 수신_외화예금 ┆ 대출금액 ┆ 카드이용 ┆ 카드이용 │\n",
      "│ ---      ┆ ---        ┆ ---      ┆ ---  ┆   ┆ ---           ┆ ---      ┆ 금액     ┆ 횟수     │\n",
      "│ i64      ┆ i64        ┆ str      ┆ str  ┆   ┆ i64           ┆ i64      ┆ ---      ┆ ---      │\n",
      "│          ┆            ┆          ┆      ┆   ┆               ┆          ┆ i64      ┆ u32      │\n",
      "╞══════════╪════════════╪══════════╪══════╪═══╪═══════════════╪══════════╪══════════╪══════════╡\n",
      "│ 202112   ┆ 9999998161 ┆ 60대이상 ┆ 여   ┆ … ┆ 0             ┆ 0        ┆ 1060000  ┆ 40       │\n",
      "│ 202112   ┆ 9999981183 ┆ 60대이상 ┆ 여   ┆ … ┆ 0             ┆ 0        ┆ 5430000  ┆ 120      │\n",
      "│ 202112   ┆ 9999972286 ┆ 60대이상 ┆ 여   ┆ … ┆ 0             ┆ 0        ┆ 10000    ┆ 1        │\n",
      "│ 202112   ┆ 9999933174 ┆ 60대이상 ┆ 여   ┆ … ┆ 0             ┆ 0        ┆ 520000   ┆ 14       │\n",
      "│ 202112   ┆ 9999918728 ┆ 60대이상 ┆ 여   ┆ … ┆ 0             ┆ 0        ┆ 3690000  ┆ 12       │\n",
      "└──────────┴────────────┴──────────┴──────┴───┴───────────────┴──────────┴──────────┴──────────┘\n",
      "\n",
      "데이터 정보:\n",
      "행 수: 20835992\n",
      "열 수: 15\n",
      "컬럼명: ['기준년월', '고객ID', '연령대', '성별', '고객등급', '자택_시도', '자택_시군구', '수신_요구불예금', '수신_거치식예금', '수신_적립식예금', '수신_펀드', '수신_외화예금', '대출금액', '카드이용 금액', '카드이용 횟수']\n"
     ]
    }
   ],
   "source": [
    "# 실제 데이터 불러오기 (lazy 실행)\n",
    "joined_df_collected_1 = processed_data[0].collect()\n",
    "joined_df_collected_2 = processed_data[1].collect()\n",
    "joined_df_collected_3 = processed_data[2].collect()\n",
    "\n",
    "# 데이터 미리보기\n",
    "print(\"\\n한글 인코딩 데이터 미리보기:\")\n",
    "print(joined_df_collected_1.filter(\n",
    "    pl.col('카드이용 횟수').is_not_null()\n",
    ").head())\n",
    "\n",
    "# 데이터 정보 확인\n",
    "print(\"\\n데이터 정보:\")\n",
    "print(f\"행 수: {joined_df_collected_1.height}\")\n",
    "print(f\"열 수: {joined_df_collected_1.width}\")\n",
    "print(f\"컬럼명: {joined_df_collected_1.columns}\")"
   ]
  },
  {
   "cell_type": "markdown",
   "metadata": {},
   "source": [
    "# 비지도 기법\n",
    "- 신용점수 도출 \n",
    "- 메모리 부족족"
   ]
  },
  {
   "cell_type": "code",
   "execution_count": 15,
   "metadata": {},
   "outputs": [
    {
     "ename": "MemoryError",
     "evalue": "Unable to allocate 1.40 GiB for an array with shape (20835992, 9) and data type float64",
     "output_type": "error",
     "traceback": [
      "\u001b[1;31m---------------------------------------------------------------------------\u001b[0m",
      "\u001b[1;31mMemoryError\u001b[0m                               Traceback (most recent call last)",
      "Cell \u001b[1;32mIn[15], line 14\u001b[0m\n\u001b[0;32m     10\u001b[0m     \u001b[38;5;66;03m# 결과를 원본 데이터프레임에 추가\u001b[39;00m\n\u001b[0;32m     11\u001b[0m     \u001b[38;5;28;01mreturn\u001b[39;00m df\u001b[38;5;241m.\u001b[39mwith_columns(pl\u001b[38;5;241m.\u001b[39mSeries(\u001b[38;5;124m\"\u001b[39m\u001b[38;5;124mcredit_score\u001b[39m\u001b[38;5;124m\"\u001b[39m, pca_score\u001b[38;5;241m.\u001b[39mflatten()))\n\u001b[1;32m---> 14\u001b[0m df_res \u001b[38;5;241m=\u001b[39m \u001b[43mpca_credit_score\u001b[49m\u001b[43m(\u001b[49m\u001b[43mjoined_df_collected_1\u001b[49m\u001b[43m)\u001b[49m\n\u001b[0;32m     15\u001b[0m \u001b[38;5;28mprint\u001b[39m(df_res)\n",
      "Cell \u001b[1;32mIn[15], line 8\u001b[0m, in \u001b[0;36mpca_credit_score\u001b[1;34m(df)\u001b[0m\n\u001b[0;32m      6\u001b[0m \u001b[38;5;66;03m# PCA 모델 생성 및 적용\u001b[39;00m\n\u001b[0;32m      7\u001b[0m model \u001b[38;5;241m=\u001b[39m PCA(n_components\u001b[38;5;241m=\u001b[39m\u001b[38;5;241m9\u001b[39m)\n\u001b[1;32m----> 8\u001b[0m pca_score \u001b[38;5;241m=\u001b[39m \u001b[43mmodel\u001b[49m\u001b[38;5;241;43m.\u001b[39;49m\u001b[43mfit_transform\u001b[49m\u001b[43m(\u001b[49m\u001b[43mfeatures\u001b[49m\u001b[38;5;241;43m.\u001b[39;49m\u001b[43mto_pandas\u001b[49m\u001b[43m(\u001b[49m\u001b[43m)\u001b[49m\u001b[43m)\u001b[49m\n\u001b[0;32m     10\u001b[0m \u001b[38;5;66;03m# 결과를 원본 데이터프레임에 추가\u001b[39;00m\n\u001b[0;32m     11\u001b[0m \u001b[38;5;28;01mreturn\u001b[39;00m df\u001b[38;5;241m.\u001b[39mwith_columns(pl\u001b[38;5;241m.\u001b[39mSeries(\u001b[38;5;124m\"\u001b[39m\u001b[38;5;124mcredit_score\u001b[39m\u001b[38;5;124m\"\u001b[39m, pca_score\u001b[38;5;241m.\u001b[39mflatten()))\n",
      "File \u001b[1;32mc:\\Users\\campus3S031\\Desktop\\iMBank\\iM_DiGital_Banker_academy\\venv\\Lib\\site-packages\\sklearn\\utils\\_set_output.py:316\u001b[0m, in \u001b[0;36m_wrap_method_output.<locals>.wrapped\u001b[1;34m(self, X, *args, **kwargs)\u001b[0m\n\u001b[0;32m    314\u001b[0m \u001b[38;5;129m@wraps\u001b[39m(f)\n\u001b[0;32m    315\u001b[0m \u001b[38;5;28;01mdef\u001b[39;00m \u001b[38;5;21mwrapped\u001b[39m(\u001b[38;5;28mself\u001b[39m, X, \u001b[38;5;241m*\u001b[39margs, \u001b[38;5;241m*\u001b[39m\u001b[38;5;241m*\u001b[39mkwargs):\n\u001b[1;32m--> 316\u001b[0m     data_to_wrap \u001b[38;5;241m=\u001b[39m \u001b[43mf\u001b[49m\u001b[43m(\u001b[49m\u001b[38;5;28;43mself\u001b[39;49m\u001b[43m,\u001b[49m\u001b[43m \u001b[49m\u001b[43mX\u001b[49m\u001b[43m,\u001b[49m\u001b[43m \u001b[49m\u001b[38;5;241;43m*\u001b[39;49m\u001b[43margs\u001b[49m\u001b[43m,\u001b[49m\u001b[43m \u001b[49m\u001b[38;5;241;43m*\u001b[39;49m\u001b[38;5;241;43m*\u001b[39;49m\u001b[43mkwargs\u001b[49m\u001b[43m)\u001b[49m\n\u001b[0;32m    317\u001b[0m     \u001b[38;5;28;01mif\u001b[39;00m \u001b[38;5;28misinstance\u001b[39m(data_to_wrap, \u001b[38;5;28mtuple\u001b[39m):\n\u001b[0;32m    318\u001b[0m         \u001b[38;5;66;03m# only wrap the first output for cross decomposition\u001b[39;00m\n\u001b[0;32m    319\u001b[0m         return_tuple \u001b[38;5;241m=\u001b[39m (\n\u001b[0;32m    320\u001b[0m             _wrap_data_with_container(method, data_to_wrap[\u001b[38;5;241m0\u001b[39m], X, \u001b[38;5;28mself\u001b[39m),\n\u001b[0;32m    321\u001b[0m             \u001b[38;5;241m*\u001b[39mdata_to_wrap[\u001b[38;5;241m1\u001b[39m:],\n\u001b[0;32m    322\u001b[0m         )\n",
      "File \u001b[1;32mc:\\Users\\campus3S031\\Desktop\\iMBank\\iM_DiGital_Banker_academy\\venv\\Lib\\site-packages\\sklearn\\base.py:1473\u001b[0m, in \u001b[0;36m_fit_context.<locals>.decorator.<locals>.wrapper\u001b[1;34m(estimator, *args, **kwargs)\u001b[0m\n\u001b[0;32m   1466\u001b[0m     estimator\u001b[38;5;241m.\u001b[39m_validate_params()\n\u001b[0;32m   1468\u001b[0m \u001b[38;5;28;01mwith\u001b[39;00m config_context(\n\u001b[0;32m   1469\u001b[0m     skip_parameter_validation\u001b[38;5;241m=\u001b[39m(\n\u001b[0;32m   1470\u001b[0m         prefer_skip_nested_validation \u001b[38;5;129;01mor\u001b[39;00m global_skip_validation\n\u001b[0;32m   1471\u001b[0m     )\n\u001b[0;32m   1472\u001b[0m ):\n\u001b[1;32m-> 1473\u001b[0m     \u001b[38;5;28;01mreturn\u001b[39;00m \u001b[43mfit_method\u001b[49m\u001b[43m(\u001b[49m\u001b[43mestimator\u001b[49m\u001b[43m,\u001b[49m\u001b[43m \u001b[49m\u001b[38;5;241;43m*\u001b[39;49m\u001b[43margs\u001b[49m\u001b[43m,\u001b[49m\u001b[43m \u001b[49m\u001b[38;5;241;43m*\u001b[39;49m\u001b[38;5;241;43m*\u001b[39;49m\u001b[43mkwargs\u001b[49m\u001b[43m)\u001b[49m\n",
      "File \u001b[1;32mc:\\Users\\campus3S031\\Desktop\\iMBank\\iM_DiGital_Banker_academy\\venv\\Lib\\site-packages\\sklearn\\decomposition\\_pca.py:487\u001b[0m, in \u001b[0;36mPCA.fit_transform\u001b[1;34m(self, X, y)\u001b[0m\n\u001b[0;32m    485\u001b[0m     \u001b[38;5;28;01mreturn\u001b[39;00m U\n\u001b[0;32m    486\u001b[0m \u001b[38;5;28;01melse\u001b[39;00m:  \u001b[38;5;66;03m# solver=\"covariance_eigh\" does not compute U at fit time.\u001b[39;00m\n\u001b[1;32m--> 487\u001b[0m     \u001b[38;5;28;01mreturn\u001b[39;00m \u001b[38;5;28;43mself\u001b[39;49m\u001b[38;5;241;43m.\u001b[39;49m\u001b[43m_transform\u001b[49m\u001b[43m(\u001b[49m\u001b[43mX\u001b[49m\u001b[43m,\u001b[49m\u001b[43m \u001b[49m\u001b[43mxp\u001b[49m\u001b[43m,\u001b[49m\u001b[43m \u001b[49m\u001b[43mx_is_centered\u001b[49m\u001b[38;5;241;43m=\u001b[39;49m\u001b[43mx_is_centered\u001b[49m\u001b[43m)\u001b[49m\n",
      "File \u001b[1;32mc:\\Users\\campus3S031\\Desktop\\iMBank\\iM_DiGital_Banker_academy\\venv\\Lib\\site-packages\\sklearn\\decomposition\\_base.py:149\u001b[0m, in \u001b[0;36m_BasePCA._transform\u001b[1;34m(self, X, xp, x_is_centered)\u001b[0m\n\u001b[0;32m    148\u001b[0m \u001b[38;5;28;01mdef\u001b[39;00m \u001b[38;5;21m_transform\u001b[39m(\u001b[38;5;28mself\u001b[39m, X, xp, x_is_centered\u001b[38;5;241m=\u001b[39m\u001b[38;5;28;01mFalse\u001b[39;00m):\n\u001b[1;32m--> 149\u001b[0m     X_transformed \u001b[38;5;241m=\u001b[39m \u001b[43mX\u001b[49m\u001b[43m \u001b[49m\u001b[38;5;241;43m@\u001b[39;49m\u001b[43m \u001b[49m\u001b[38;5;28;43mself\u001b[39;49m\u001b[38;5;241;43m.\u001b[39;49m\u001b[43mcomponents_\u001b[49m\u001b[38;5;241;43m.\u001b[39;49m\u001b[43mT\u001b[49m\n\u001b[0;32m    150\u001b[0m     \u001b[38;5;28;01mif\u001b[39;00m \u001b[38;5;129;01mnot\u001b[39;00m x_is_centered:\n\u001b[0;32m    151\u001b[0m         \u001b[38;5;66;03m# Apply the centering after the projection.\u001b[39;00m\n\u001b[0;32m    152\u001b[0m         \u001b[38;5;66;03m# For dense X this avoids copying or mutating the data passed by\u001b[39;00m\n\u001b[0;32m    153\u001b[0m         \u001b[38;5;66;03m# the caller.\u001b[39;00m\n\u001b[0;32m    154\u001b[0m         \u001b[38;5;66;03m# For sparse X it keeps sparsity and avoids having to wrap X into\u001b[39;00m\n\u001b[0;32m    155\u001b[0m         \u001b[38;5;66;03m# a linear operator.\u001b[39;00m\n\u001b[0;32m    156\u001b[0m         X_transformed \u001b[38;5;241m-\u001b[39m\u001b[38;5;241m=\u001b[39m xp\u001b[38;5;241m.\u001b[39mreshape(\u001b[38;5;28mself\u001b[39m\u001b[38;5;241m.\u001b[39mmean_, (\u001b[38;5;241m1\u001b[39m, \u001b[38;5;241m-\u001b[39m\u001b[38;5;241m1\u001b[39m)) \u001b[38;5;241m@\u001b[39m \u001b[38;5;28mself\u001b[39m\u001b[38;5;241m.\u001b[39mcomponents_\u001b[38;5;241m.\u001b[39mT\n",
      "\u001b[1;31mMemoryError\u001b[0m: Unable to allocate 1.40 GiB for an array with shape (20835992, 9) and data type float64"
     ]
    }
   ],
   "source": [
    "import pandas as pd\n",
    "import torch\n",
    "import torch.nn as nn\n",
    "import torch.optim as optim\n",
    "from sklearn.preprocessing import StandardScaler\n",
    "from sklearn.cluster import KMeans\n",
    "\n",
    "\n",
    "# LazyFrame을 DataFrame으로 변환\n",
    "df = processed_data[0].collect().to_pandas()\n",
    "\n",
    "# 클러스터링을 위한 특성 선택 및 전처리\n",
    "features = ['수신_요구불예금', '수신_거치식예금', '수신_적립식예금', '수신_펀드', '수신_외화예금', '대출금액', \"대출금액\", \"카드이용 금액\", \"카드이용 횟수\"]\n",
    "scaler = StandardScaler()\n",
    "scaled_features = scaler.fit_transform(df[features])\n",
    "\n",
    "# AutoEncoder 모델 정의\n",
    "class AutoEncoder(nn.Module):\n",
    "    def __init__(self, input_dim, encoding_dim=2):\n",
    "        super(AutoEncoder, self).__init__()\n",
    "        self.encoder = nn.Sequential(\n",
    "            nn.Linear(input_dim, 8),\n",
    "            nn.ReLU(),\n",
    "            nn.Linear(8, encoding_dim)\n",
    "        )\n",
    "        self.decoder = nn.Sequential(\n",
    "            nn.Linear(encoding_dim, 8),\n",
    "            nn.ReLU(),\n",
    "            nn.Linear(8, input_dim)\n",
    "        )\n",
    "    \n",
    "    def forward(self, x):\n",
    "        encoded = self.encoder(x)\n",
    "        decoded = self.decoder(encoded)\n",
    "        return encoded, decoded\n",
    "\n",
    "# 모델 초기화\n",
    "torch.manual_seed(42)\n",
    "input_dim = scaled_features.shape[1]\n",
    "autoencoder = AutoEncoder(input_dim)\n",
    "criterion = nn.MSELoss()\n",
    "optimizer = optim.Adam(autoencoder.parameters(), lr=0.01)\n",
    "\n",
    "# Tensor 변환\n",
    "data_tensor = torch.FloatTensor(scaled_features)\n",
    "\n",
    "# 학습 과정\n",
    "epochs = 100\n",
    "for epoch in range(epochs):\n",
    "    optimizer.zero_grad()\n",
    "    encoded, decoded = autoencoder(data_tensor)\n",
    "    loss = criterion(decoded, data_tensor)\n",
    "    loss.backward()\n",
    "    optimizer.step()\n",
    "\n",
    "# 인코딩된 차원 축소 데이터 추출\n",
    "encoded_data, _ = autoencoder(data_tensor)\n",
    "encoded_data = encoded_data.detach().numpy()\n",
    "\n",
    "# K-Means 클러스터링 수행\n",
    "kmeans = KMeans(n_clusters=3, random_state=42, n_init=10)\n",
    "df[\"신용점수\"] = kmeans.fit_predict(encoded_data)\n",
    "\n",
    "# 클러스터를 점수로 변환 (가중치 적용 가능)\n",
    "df[\"신용점수\"] = df[\"신용점수\"].map({\n",
    "    0: 600,\n",
    "    1: 750,\n",
    "    2: 850\n",
    "})\n",
    "\n",
    "# Polars DataFrame으로 변환\n",
    "result_df = pl.from_pandas(df)\n",
    "print(result_df)\n",
    "\n"
   ]
  },
  {
   "cell_type": "code",
   "execution_count": null,
   "metadata": {},
   "outputs": [],
   "source": []
  }
 ],
 "metadata": {
  "kernelspec": {
   "display_name": "venv",
   "language": "python",
   "name": "python3"
  },
  "language_info": {
   "codemirror_mode": {
    "name": "ipython",
    "version": 3
   },
   "file_extension": ".py",
   "mimetype": "text/x-python",
   "name": "python",
   "nbconvert_exporter": "python",
   "pygments_lexer": "ipython3",
   "version": "3.12.7"
  }
 },
 "nbformat": 4,
 "nbformat_minor": 2
}
