{
 "cells": [
  {
   "cell_type": "code",
   "execution_count": 1,
   "metadata": {},
   "outputs": [],
   "source": [
    "import polars as pl\n",
    "import pandas as pd"
   ]
  },
  {
   "cell_type": "code",
   "execution_count": 2,
   "metadata": {},
   "outputs": [],
   "source": [
    "tmp = pl.scan_csv('data/CUSTOMER_SCORE.csv')\n",
    "#tmp_2 = pl.scan_csv('data/CUSTOMER_누락제외.csv') "
   ]
  },
  {
   "cell_type": "code",
   "execution_count": 4,
   "metadata": {},
   "outputs": [
    {
     "data": {
      "text/plain": [
       "['기준년월', '고객ID', '연령대', '성별', '고객등급', '입출금예금', '기타예금', '비이자상품', '카드', '대출']"
      ]
     },
     "execution_count": 4,
     "metadata": {},
     "output_type": "execute_result"
    }
   ],
   "source": [
    "tmp.collect_schema().names()"
   ]
  },
  {
   "cell_type": "code",
   "execution_count": 5,
   "metadata": {},
   "outputs": [],
   "source": [
    "def calculate_financial_scores_v2(lazy_df):\n",
    "    \"\"\"\n",
    "    금융 데이터에 대해 3개월 평균, 3개월 누적, 6개월 평균을 기반으로 점수를 계산하는 함수.\n",
    "    LazyFrame을 입력받아 모든 연산을 지연 평가로 처리합니다.\n",
    "    \"\"\"\n",
    "    # 단위 점수 기준\n",
    "    unit_scores = {\n",
    "        \"입출금예금\": 8 / 100000,\n",
    "        \"기타예금\": 4 / 100000,\n",
    "        \"비이자상품\": 6 /100000,\n",
    "        \"카드\": 6 / 100000,\n",
    "        \"대출\": 25 / 1000\n",
    "    }\n",
    "    \n",
    "    # 모든 연산을 LazyFrame 체인으로 구성\n",
    "    return (lazy_df\n",
    "            # 3개월 평균/누적, 6개월 평균 계산\n",
    "            .with_columns([\n",
    "                pl.col(\"입출금예금\").rolling_mean(window_size=3).alias(\"입출금예금_3개월평균\"),\n",
    "                pl.col(\"기타예금\").rolling_mean(window_size=3).alias(\"기타예금_3개월평균\"),\n",
    "                pl.col(\"비이자상품\").rolling_mean(window_size=3).alias(\"비이자상품_3개월평균\"),\n",
    "                pl.col(\"카드\").rolling_sum(window_size=3).alias(\"카드_3개월누적\"),\n",
    "                pl.col(\"대출\").rolling_mean(window_size=6).alias(\"대출_6개월평균\")\n",
    "            ])\n",
    "            # 점수 계산\n",
    "            .with_columns([\n",
    "                (pl.col(\"입출금예금_3개월평균\") * unit_scores[\"입출금예금\"]).alias(\"입출금예금_점수\"),\n",
    "                (pl.col(\"기타예금_3개월평균\") * unit_scores[\"기타예금\"]).alias(\"기타예금_점수\"),\n",
    "                (pl.col(\"비이자상품_3개월평균\") * unit_scores[\"비이자상품\"]).alias(\"비이자상품_점수\"),\n",
    "                (pl.col(\"카드_3개월누적\") * unit_scores[\"카드\"]).alias(\"카드_점수\"),\n",
    "                (pl.col(\"대출_6개월평균\") * 0.1 * unit_scores[\"대출\"]).alias(\"대출_점수\")\n",
    "            ])\n",
    "            # 총점수 계산\n",
    "            .with_columns([\n",
    "                (pl.col(\"입출금예금_점수\") + \n",
    "                 pl.col(\"기타예금_점수\") + \n",
    "                 pl.col(\"비이자상품_점수\") + \n",
    "                 pl.col(\"카드_점수\") + \n",
    "                 pl.col(\"대출_점수\")).alias(\"총점수\")\n",
    "            ]))\n",
    "\n",
    "# 2. 함수 적용 (여전히 LazyFrame 상태 유지)\n",
    "result_lazy = calculate_financial_scores_v2(tmp_2)\n",
    "\n",
    "# 3. 필요한 시점에 collect 호출\n",
    "#final_df = result_lazy.collect()"
   ]
  },
  {
   "cell_type": "code",
   "execution_count": 6,
   "metadata": {},
   "outputs": [
    {
     "data": {
      "text/html": [
       "<div><style>\n",
       ".dataframe > thead > tr,\n",
       ".dataframe > tbody > tr {\n",
       "  text-align: right;\n",
       "  white-space: pre-wrap;\n",
       "}\n",
       "</style>\n",
       "<small>shape: (10, 3)</small><table border=\"1\" class=\"dataframe\"><thead><tr><th>breakpoint</th><th>category</th><th>count</th></tr><tr><td>f64</td><td>cat</td><td>u32</td></tr></thead><tbody><tr><td>24208.333333</td><td>&quot;(-242.083333, 24208.333333]&quot;</td><td>60325738</td></tr><tr><td>48416.666667</td><td>&quot;(24208.333333, 48416.666667]&quot;</td><td>4054879</td></tr><tr><td>72625.0</td><td>&quot;(48416.666667, 72625.0]&quot;</td><td>382243</td></tr><tr><td>96833.333333</td><td>&quot;(72625.0, 96833.333333]&quot;</td><td>61702</td></tr><tr><td>121041.666667</td><td>&quot;(96833.333333, 121041.666667]&quot;</td><td>17964</td></tr><tr><td>145250.0</td><td>&quot;(121041.666667, 145250.0]&quot;</td><td>8268</td></tr><tr><td>169458.333333</td><td>&quot;(145250.0, 169458.333333]&quot;</td><td>3943</td></tr><tr><td>193666.666667</td><td>&quot;(169458.333333, 193666.666667]&quot;</td><td>1777</td></tr><tr><td>217875.0</td><td>&quot;(193666.666667, 217875.0]&quot;</td><td>718</td></tr><tr><td>242083.333333</td><td>&quot;(217875.0, 242083.333333]&quot;</td><td>87</td></tr></tbody></table></div>"
      ],
      "text/plain": [
       "shape: (10, 3)\n",
       "┌───────────────┬────────────────────────────────┬──────────┐\n",
       "│ breakpoint    ┆ category                       ┆ count    │\n",
       "│ ---           ┆ ---                            ┆ ---      │\n",
       "│ f64           ┆ cat                            ┆ u32      │\n",
       "╞═══════════════╪════════════════════════════════╪══════════╡\n",
       "│ 24208.333333  ┆ (-242.083333, 24208.333333]    ┆ 60325738 │\n",
       "│ 48416.666667  ┆ (24208.333333, 48416.666667]   ┆ 4054879  │\n",
       "│ 72625.0       ┆ (48416.666667, 72625.0]        ┆ 382243   │\n",
       "│ 96833.333333  ┆ (72625.0, 96833.333333]        ┆ 61702    │\n",
       "│ 121041.666667 ┆ (96833.333333, 121041.666667]  ┆ 17964    │\n",
       "│ 145250.0      ┆ (121041.666667, 145250.0]      ┆ 8268     │\n",
       "│ 169458.333333 ┆ (145250.0, 169458.333333]      ┆ 3943     │\n",
       "│ 193666.666667 ┆ (169458.333333, 193666.666667] ┆ 1777     │\n",
       "│ 217875.0      ┆ (193666.666667, 217875.0]      ┆ 718      │\n",
       "│ 242083.333333 ┆ (217875.0, 242083.333333]      ┆ 87       │\n",
       "└───────────────┴────────────────────────────────┴──────────┘"
      ]
     },
     "execution_count": 6,
     "metadata": {},
     "output_type": "execute_result"
    }
   ],
   "source": [
    "#final_df.get_column('총점수').hist()"
   ]
  },
  {
   "cell_type": "code",
   "execution_count": 7,
   "metadata": {},
   "outputs": [
    {
     "name": "stdout",
     "output_type": "stream",
     "text": [
      "=== 스케일링 결과 확인 ===\n",
      "새로운 최대값: 30000.0\n",
      "\n",
      "=== 스케일링된 총점수 기본 통계량 ===\n",
      "shape: (9, 2)\n",
      "┌────────────┬─────────────┐\n",
      "│ statistic  ┆ value       │\n",
      "│ ---        ┆ ---         │\n",
      "│ str        ┆ f64         │\n",
      "╞════════════╪═════════════╡\n",
      "│ count      ┆ 6.4857319e7 │\n",
      "│ null_count ┆ 5.0         │\n",
      "│ mean       ┆ 684.67085   │\n",
      "│ std        ┆ 1306.88045  │\n",
      "│ min        ┆ 0.0         │\n",
      "│ 25%        ┆ 19.034768   │\n",
      "│ 50%        ┆ 86.251291   │\n",
      "│ 75%        ┆ 732.309811  │\n",
      "│ max        ┆ 30000.0     │\n",
      "└────────────┴─────────────┘\n"
     ]
    }
   ],
   "source": [
    "'''\n",
    "\n",
    "# 현재 최대값 확인\n",
    "current_max = final_df.get_column('총점수').max()\n",
    "\n",
    "# 스케일링 적용\n",
    "scaled_df = final_df.with_columns([\n",
    "    (pl.col('총점수') * (30000 / current_max)).alias('총점수_scaled')\n",
    "])\n",
    "\n",
    "# 결과 확인\n",
    "print(\"=== 스케일링 결과 확인 ===\")\n",
    "print(\"새로운 최대값:\", scaled_df.get_column('총점수_scaled').max())\n",
    "print(\"\\n=== 스케일링된 총점수 기본 통계량 ===\")\n",
    "print(scaled_df.get_column('총점수_scaled').describe())\n",
    "\n",
    "'''"
   ]
  },
  {
   "cell_type": "markdown",
   "metadata": {},
   "source": [
    "# Data analyzing\n"
   ]
  },
  {
   "cell_type": "code",
   "execution_count": 3,
   "metadata": {},
   "outputs": [],
   "source": [
    "tmp_collected = tmp.filter([\n",
    "    (pl.col('연령대') == 20) |\n",
    "    (pl.col('연령대') == 30)\n",
    "]).collect()\n",
    "\n",
    "# lazy로 처리?"
   ]
  },
  {
   "cell_type": "code",
   "execution_count": 4,
   "metadata": {},
   "outputs": [],
   "source": [
    "pandas_df = tmp_collected.to_pandas()"
   ]
  },
  {
   "cell_type": "code",
   "execution_count": 5,
   "metadata": {},
   "outputs": [],
   "source": [
    "pandas_df.to_csv('data/output_2030.csv', index=False)"
   ]
  },
  {
   "cell_type": "code",
   "execution_count": null,
   "metadata": {},
   "outputs": [],
   "source": []
  }
 ],
 "metadata": {
  "kernelspec": {
   "display_name": "venv",
   "language": "python",
   "name": "python3"
  },
  "language_info": {
   "codemirror_mode": {
    "name": "ipython",
    "version": 3
   },
   "file_extension": ".py",
   "mimetype": "text/x-python",
   "name": "python",
   "nbconvert_exporter": "python",
   "pygments_lexer": "ipython3",
   "version": "3.12.7"
  }
 },
 "nbformat": 4,
 "nbformat_minor": 2
}
