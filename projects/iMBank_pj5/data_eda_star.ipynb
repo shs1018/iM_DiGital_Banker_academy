{
 "cells": [
  {
   "cell_type": "code",
   "execution_count": 2,
   "metadata": {},
   "outputs": [],
   "source": [
    "import pandas as pd"
   ]
  },
  {
   "cell_type": "code",
   "execution_count": 3,
   "metadata": {},
   "outputs": [],
   "source": [
    "df_21 = pd.read_csv('C:/Users/campus3S031/Desktop/iM뱅크 프로젝트용 데이터/raw_data/iMBANK_CUSTOMER_DATA_2021(K-DigitalTraining).csv', encoding='cp949')\n",
    "df_22 = pd.read_csv('C:/Users/campus3S031/Desktop/iM뱅크 프로젝트용 데이터/raw_data/iMBANK_CUSTOMER_DATA_2022(K-DigitalTraining).csv', encoding='cp949')\n",
    "df = pd.read_csv('C:/Users/campus3S031/Desktop/iM뱅크 프로젝트용 데이터/raw_data/iMBANK_CUSTOMER_DATA_2023(K-DigitalTraining).csv', encoding='cp949')"
   ]
  },
  {
   "cell_type": "code",
   "execution_count": 4,
   "metadata": {},
   "outputs": [],
   "source": [
    "df_all_periods = pd.concat([df_21, df_22, df], axis=0)"
   ]
  },
  {
   "cell_type": "code",
   "execution_count": 5,
   "metadata": {},
   "outputs": [],
   "source": [
    "credit_var = ['수신_요구불예금','수신_거치식예금', '수신_적립식예금', '수신_펀드', '수신_외화예금', '대출금액']"
   ]
  },
  {
   "cell_type": "code",
   "execution_count": 6,
   "metadata": {},
   "outputs": [],
   "source": [
    "df_id = df[['기준년월', '고객ID', '연령대', '고객등급']].copy()\n",
    "df_22_id = df_22[['기준년월', '고객ID', '연령대', '고객등급']].copy()\n",
    "df_21_id = df_21[['기준년월', '고객ID', '연령대', '고객등급']].copy()\n",
    "\n",
    "df_concat = pd.concat([df_21_id, df_22_id, df_id])\n",
    "df_concat.head()\n",
    "\n",
    "# 연월별 고객ID를 저장할 딕셔너리 생성\n",
    "month_groups = df_concat.groupby('기준년월')['고객ID'].apply(set).to_dict()\n",
    "\n",
    "# 연월 정렬\n",
    "months = sorted(month_groups.keys())\n",
    "\n",
    "# 결과 저장할 리스트\n",
    "new_customers = []  # 신규 고객\n",
    "churned_customers = []  # 이탈 고객\n",
    "\n",
    "# 첫 번째 연월은 비교 대상이 없으므로 두 번째 연월부터 비교\n",
    "for i in range(1, len(months)):\n",
    "    prev_month = months[i - 1]  # 이전 연월\n",
    "    curr_month = months[i]  # 현재 연월\n",
    "    \n",
    "    prev_ids = month_groups[prev_month]  # 이전 달 고객ID 집합\n",
    "    curr_ids = month_groups[curr_month]  # 현재 달 고객ID 집합\n",
    "    \n",
    "    # 신규 고객 (이전 달에는 없었는데 이번 달에 등장한 고객)\n",
    "    new = curr_ids - prev_ids\n",
    "    new_customers.extend([(curr_month, cid) for cid in new])\n",
    "    \n",
    "    # 이탈 고객 (이전 달에는 있었는데 이번 달에는 사라진 고객)\n",
    "    churned = prev_ids - curr_ids\n",
    "    churned_customers.extend([(curr_month, cid) for cid in churned])\n",
    "\n",
    "# 데이터프레임 변환 후 출력\n",
    "df_new = pd.DataFrame(new_customers, columns=['기준년월', '신규고객ID'])\n",
    "df_churn = pd.DataFrame(churned_customers, columns=['기준년월', '이탈고객ID'])"
   ]
  },
  {
   "cell_type": "code",
   "execution_count": 7,
   "metadata": {},
   "outputs": [
    {
     "data": {
      "text/plain": [
       "신규고객ID\n",
       "9439988338    9\n",
       "7069433326    9\n",
       "6833747974    9\n",
       "9731584427    8\n",
       "7579316624    8\n",
       "             ..\n",
       "2729573712    1\n",
       "2728688971    1\n",
       "8067382592    1\n",
       "2735701309    1\n",
       "2015199230    1\n",
       "Name: count, Length: 330163, dtype: int64"
      ]
     },
     "execution_count": 7,
     "metadata": {},
     "output_type": "execute_result"
    }
   ],
   "source": [
    "df_new['신규고객ID'].value_counts()"
   ]
  },
  {
   "cell_type": "code",
   "execution_count": 8,
   "metadata": {},
   "outputs": [
    {
     "data": {
      "text/html": [
       "<div>\n",
       "<style scoped>\n",
       "    .dataframe tbody tr th:only-of-type {\n",
       "        vertical-align: middle;\n",
       "    }\n",
       "\n",
       "    .dataframe tbody tr th {\n",
       "        vertical-align: top;\n",
       "    }\n",
       "\n",
       "    .dataframe thead th {\n",
       "        text-align: right;\n",
       "    }\n",
       "</style>\n",
       "<table border=\"1\" class=\"dataframe\">\n",
       "  <thead>\n",
       "    <tr style=\"text-align: right;\">\n",
       "      <th></th>\n",
       "      <th>기준년월</th>\n",
       "      <th>신규고객ID</th>\n",
       "    </tr>\n",
       "  </thead>\n",
       "  <tbody>\n",
       "    <tr>\n",
       "      <th>26150</th>\n",
       "      <td>202104</td>\n",
       "      <td>9439988338</td>\n",
       "    </tr>\n",
       "    <tr>\n",
       "      <th>74437</th>\n",
       "      <td>202110</td>\n",
       "      <td>9439988338</td>\n",
       "    </tr>\n",
       "    <tr>\n",
       "      <th>94782</th>\n",
       "      <td>202201</td>\n",
       "      <td>9439988338</td>\n",
       "    </tr>\n",
       "    <tr>\n",
       "      <th>118688</th>\n",
       "      <td>202204</td>\n",
       "      <td>9439988338</td>\n",
       "    </tr>\n",
       "    <tr>\n",
       "      <th>159874</th>\n",
       "      <td>202209</td>\n",
       "      <td>9439988338</td>\n",
       "    </tr>\n",
       "    <tr>\n",
       "      <th>192186</th>\n",
       "      <td>202212</td>\n",
       "      <td>9439988338</td>\n",
       "    </tr>\n",
       "    <tr>\n",
       "      <th>215278</th>\n",
       "      <td>202302</td>\n",
       "      <td>9439988338</td>\n",
       "    </tr>\n",
       "    <tr>\n",
       "      <th>239830</th>\n",
       "      <td>202304</td>\n",
       "      <td>9439988338</td>\n",
       "    </tr>\n",
       "    <tr>\n",
       "      <th>289347</th>\n",
       "      <td>202308</td>\n",
       "      <td>9439988338</td>\n",
       "    </tr>\n",
       "  </tbody>\n",
       "</table>\n",
       "</div>"
      ],
      "text/plain": [
       "          기준년월      신규고객ID\n",
       "26150   202104  9439988338\n",
       "74437   202110  9439988338\n",
       "94782   202201  9439988338\n",
       "118688  202204  9439988338\n",
       "159874  202209  9439988338\n",
       "192186  202212  9439988338\n",
       "215278  202302  9439988338\n",
       "239830  202304  9439988338\n",
       "289347  202308  9439988338"
      ]
     },
     "execution_count": 8,
     "metadata": {},
     "output_type": "execute_result"
    }
   ],
   "source": [
    "df_new[df_new['신규고객ID'] == 9439988338]"
   ]
  },
  {
   "cell_type": "code",
   "execution_count": 9,
   "metadata": {},
   "outputs": [
    {
     "data": {
      "text/plain": [
       "이탈고객ID\n",
       "6833747974    10\n",
       "7069433326     9\n",
       "9439988338     9\n",
       "7810215920     9\n",
       "5906587992     8\n",
       "              ..\n",
       "2921625557     1\n",
       "2931120084     1\n",
       "2930390993     1\n",
       "6797260751     1\n",
       "6003916799     1\n",
       "Name: count, Length: 86078, dtype: int64"
      ]
     },
     "execution_count": 9,
     "metadata": {},
     "output_type": "execute_result"
    }
   ],
   "source": [
    "df_churn['이탈고객ID'].value_counts()"
   ]
  },
  {
   "cell_type": "code",
   "execution_count": 10,
   "metadata": {},
   "outputs": [
    {
     "data": {
      "text/html": [
       "<div>\n",
       "<style scoped>\n",
       "    .dataframe tbody tr th:only-of-type {\n",
       "        vertical-align: middle;\n",
       "    }\n",
       "\n",
       "    .dataframe tbody tr th {\n",
       "        vertical-align: top;\n",
       "    }\n",
       "\n",
       "    .dataframe thead th {\n",
       "        text-align: right;\n",
       "    }\n",
       "</style>\n",
       "<table border=\"1\" class=\"dataframe\">\n",
       "  <thead>\n",
       "    <tr style=\"text-align: right;\">\n",
       "      <th></th>\n",
       "      <th>기준년월</th>\n",
       "      <th>이탈고객ID</th>\n",
       "    </tr>\n",
       "  </thead>\n",
       "  <tbody>\n",
       "    <tr>\n",
       "      <th>4299</th>\n",
       "      <td>202103</td>\n",
       "      <td>9439988338</td>\n",
       "    </tr>\n",
       "    <tr>\n",
       "      <th>18987</th>\n",
       "      <td>202108</td>\n",
       "      <td>9439988338</td>\n",
       "    </tr>\n",
       "    <tr>\n",
       "      <th>27226</th>\n",
       "      <td>202111</td>\n",
       "      <td>9439988338</td>\n",
       "    </tr>\n",
       "    <tr>\n",
       "      <th>37869</th>\n",
       "      <td>202203</td>\n",
       "      <td>9439988338</td>\n",
       "    </tr>\n",
       "    <tr>\n",
       "      <th>46297</th>\n",
       "      <td>202206</td>\n",
       "      <td>9439988338</td>\n",
       "    </tr>\n",
       "    <tr>\n",
       "      <th>61430</th>\n",
       "      <td>202211</td>\n",
       "      <td>9439988338</td>\n",
       "    </tr>\n",
       "    <tr>\n",
       "      <th>69067</th>\n",
       "      <td>202301</td>\n",
       "      <td>9439988338</td>\n",
       "    </tr>\n",
       "    <tr>\n",
       "      <th>75321</th>\n",
       "      <td>202303</td>\n",
       "      <td>9439988338</td>\n",
       "    </tr>\n",
       "    <tr>\n",
       "      <th>83019</th>\n",
       "      <td>202306</td>\n",
       "      <td>9439988338</td>\n",
       "    </tr>\n",
       "  </tbody>\n",
       "</table>\n",
       "</div>"
      ],
      "text/plain": [
       "         기준년월      이탈고객ID\n",
       "4299   202103  9439988338\n",
       "18987  202108  9439988338\n",
       "27226  202111  9439988338\n",
       "37869  202203  9439988338\n",
       "46297  202206  9439988338\n",
       "61430  202211  9439988338\n",
       "69067  202301  9439988338\n",
       "75321  202303  9439988338\n",
       "83019  202306  9439988338"
      ]
     },
     "execution_count": 10,
     "metadata": {},
     "output_type": "execute_result"
    }
   ],
   "source": [
    "df_churn[df_churn['이탈고객ID'] == 9439988338]"
   ]
  },
  {
   "cell_type": "markdown",
   "metadata": {},
   "source": [
    "# 두 집단 비교"
   ]
  },
  {
   "cell_type": "code",
   "execution_count": 11,
   "metadata": {},
   "outputs": [
    {
     "data": {
      "text/plain": [
       "\"\\ndf_new.to_csv('data/df_new.csv')\\ndf_churn.to_csv('data/df_churn.csv')\\n\""
      ]
     },
     "execution_count": 11,
     "metadata": {},
     "output_type": "execute_result"
    }
   ],
   "source": [
    "# 한번만 실행 -> 저장용\n",
    "'''\n",
    "df_new.to_csv('data/df_new.csv')\n",
    "df_churn.to_csv('data/df_churn.csv')\n",
    "'''"
   ]
  },
  {
   "cell_type": "code",
   "execution_count": 12,
   "metadata": {},
   "outputs": [
    {
     "name": "stdout",
     "output_type": "stream",
     "text": [
      "86078 330163\n"
     ]
    }
   ],
   "source": [
    "# 이탈/신규 횟수\n",
    "churn_unq = df_churn['이탈고객ID'].unique()\n",
    "new_unq = df_new['신규고객ID'].unique()\n",
    "\n",
    "print(len(churn_unq), len(new_unq))"
   ]
  },
  {
   "cell_type": "code",
   "execution_count": 13,
   "metadata": {},
   "outputs": [],
   "source": [
    "# 이탈 / 신규 고객 평균 금융자산\n",
    "churn_cus = df_all_periods[df_all_periods['고객ID'].isin(churn_unq)][credit_var]\n",
    "new_cus = df_all_periods[df_all_periods['고객ID'].isin(new_unq)][credit_var]"
   ]
  },
  {
   "cell_type": "code",
   "execution_count": 14,
   "metadata": {},
   "outputs": [],
   "source": [
    "def stat_view(df):\n",
    "    distribution = df.describe()\n",
    "    print(\"=== 각 열의 분포 ===\")\n",
    "    print(distribution)\n",
    "\n",
    "    print(\"\\n=== 각 열의 평균 ===\")\n",
    "    means = df.mean()\n",
    "    for column, mean in means.items():\n",
    "        print(f\"{column}: {mean:,.2f}\")"
   ]
  },
  {
   "cell_type": "code",
   "execution_count": 15,
   "metadata": {},
   "outputs": [
    {
     "name": "stdout",
     "output_type": "stream",
     "text": [
      "=== 각 열의 분포 ===\n",
      "           수신_요구불예금      수신_거치식예금      수신_적립식예금         수신_펀드       수신_외화예금  \\\n",
      "count  1.789733e+06  1.789733e+06  1.789733e+06  1.789733e+06  1.789733e+06   \n",
      "mean   1.456823e+07  8.936374e+06  2.392579e+06  1.101526e+06  3.622536e+05   \n",
      "std    2.254597e+07  2.191310e+07  9.108148e+06  7.425425e+06  4.071012e+06   \n",
      "min    0.000000e+00  0.000000e+00  0.000000e+00  0.000000e+00  0.000000e+00   \n",
      "25%    2.000000e+05  0.000000e+00  0.000000e+00  0.000000e+00  0.000000e+00   \n",
      "50%    3.900000e+06  0.000000e+00  0.000000e+00  0.000000e+00  0.000000e+00   \n",
      "75%    1.800000e+07  0.000000e+00  5.000000e+05  0.000000e+00  0.000000e+00   \n",
      "max    9.900000e+07  9.900000e+07  9.900000e+07  9.900000e+07  9.900000e+07   \n",
      "\n",
      "               대출금액  \n",
      "count  1.789733e+06  \n",
      "mean   1.296371e+07  \n",
      "std    2.694869e+07  \n",
      "min    0.000000e+00  \n",
      "25%    0.000000e+00  \n",
      "50%    0.000000e+00  \n",
      "75%    4.000000e+05  \n",
      "max    9.900000e+07  \n",
      "\n",
      "=== 각 열의 평균 ===\n",
      "수신_요구불예금: 14,568,232.86\n",
      "수신_거치식예금: 8,936,374.25\n",
      "수신_적립식예금: 2,392,579.17\n",
      "수신_펀드: 1,101,526.37\n",
      "수신_외화예금: 362,253.64\n",
      "대출금액: 12,963,708.66\n"
     ]
    }
   ],
   "source": [
    "stat_view(churn_cus)"
   ]
  },
  {
   "cell_type": "code",
   "execution_count": 16,
   "metadata": {},
   "outputs": [
    {
     "name": "stdout",
     "output_type": "stream",
     "text": [
      "=== 각 열의 분포 ===\n",
      "           수신_요구불예금      수신_거치식예금      수신_적립식예금         수신_펀드       수신_외화예금  \\\n",
      "count  5.415873e+06  5.415873e+06  5.415873e+06  5.415873e+06  5.415873e+06   \n",
      "mean   4.992514e+06  2.938510e+06  7.093994e+05  3.809082e+05  1.193085e+05   \n",
      "std    1.449588e+07  1.263745e+07  4.641069e+06  4.458570e+06  2.313174e+06   \n",
      "min    0.000000e+00  0.000000e+00  0.000000e+00  0.000000e+00  0.000000e+00   \n",
      "25%    0.000000e+00  0.000000e+00  0.000000e+00  0.000000e+00  0.000000e+00   \n",
      "50%    0.000000e+00  0.000000e+00  0.000000e+00  0.000000e+00  0.000000e+00   \n",
      "75%    1.300000e+06  0.000000e+00  0.000000e+00  0.000000e+00  0.000000e+00   \n",
      "max    9.900000e+07  9.900000e+07  9.900000e+07  9.900000e+07  9.900000e+07   \n",
      "\n",
      "               대출금액  \n",
      "count  5.415873e+06  \n",
      "mean   6.581200e+06  \n",
      "std    1.823245e+07  \n",
      "min    0.000000e+00  \n",
      "25%    0.000000e+00  \n",
      "50%    0.000000e+00  \n",
      "75%    1.800000e+06  \n",
      "max    9.900000e+07  \n",
      "\n",
      "=== 각 열의 평균 ===\n",
      "수신_요구불예금: 4,992,514.13\n",
      "수신_거치식예금: 2,938,510.15\n",
      "수신_적립식예금: 709,399.35\n",
      "수신_펀드: 380,908.23\n",
      "수신_외화예금: 119,308.50\n",
      "대출금액: 6,581,200.43\n"
     ]
    }
   ],
   "source": [
    "stat_view(new_cus)"
   ]
  },
  {
   "cell_type": "code",
   "execution_count": 17,
   "metadata": {},
   "outputs": [
    {
     "data": {
      "image/png": "[encoded data removed]",
      "text/plain": [
       "<Figure size 1200x600 with 1 Axes>"
      ]
     },
     "metadata": {},
     "output_type": "display_data"
    }
   ],
   "source": [
    "import matplotlib.pyplot as plt\n",
    "import seaborn as sns\n",
    "plt.figure(figsize=(12, 6))\n",
    "\n",
    "# 한글 폰트 설정\n",
    "plt.rc('font', family='Malgun Gothic')\n",
    "\n",
    "# 평균값 계산\n",
    "means_churn = churn_cus.mean()\n",
    "means_new = new_cus.mean()\n",
    "\n",
    "# 막대 그래프 생성\n",
    "bars_churn = plt.bar(range(len(means_churn)), means_churn, color='blue', label='이탈 고객')\n",
    "bars_new = plt.bar(range(len(means_new)), means_new, color='red', label='신규 고객')\n",
    "\n",
    "# x축 레이블 설정\n",
    "plt.xticks(range(len(means_churn)), means_churn.index, rotation=45, ha='right')\n",
    "\n",
    "# y축 단위를 백만 원 단위로 표시\n",
    "plt.ylabel('금액')\n",
    "plt.title('iM뱅크 고객의 금융 상품별 평균 금액')\n",
    "\n",
    "# 막대 위에 값 표시 (단위: 백만원)\n",
    "for bar in bars_churn:\n",
    "    height = bar.get_height()\n",
    "    plt.text(bar.get_x() + bar.get_width()/2., height,\n",
    "             f'{height/10000:.1f}만원',\n",
    "             ha='center', va='bottom')\n",
    "    \n",
    "for bar in bars_new:\n",
    "    height = bar.get_height()\n",
    "    plt.text(bar.get_x() + bar.get_width()/2., height,\n",
    "             f'{height/10000:.1f}만원',\n",
    "             ha='center', va='bottom')\n",
    "plt.legend()\n",
    "\n",
    "# 그래프 레이아웃 조정\n",
    "plt.tight_layout()\n",
    "\n",
    "plt.show()"
   ]
  },
  {
   "cell_type": "markdown",
   "metadata": {},
   "source": [
    "# 고객 4분류\n",
    "- 3개년 카드이용 / 금융 데이터에 기록된 요소 -> 변동이 있을떄만 기록?\n",
    "- 평균을 기준으로 많음 / 적음을 이분법적으로 적용, 추후 구체화 필요"
   ]
  },
  {
   "cell_type": "code",
   "execution_count": 18,
   "metadata": {},
   "outputs": [],
   "source": [
    "# 카드 데이터는 용량이 크기 때문에 Polars 사용\n",
    "import polars as pl"
   ]
  },
  {
   "cell_type": "markdown",
   "metadata": {},
   "source": [
    "### N 데이터 기반"
   ]
  },
  {
   "cell_type": "code",
   "execution_count": 19,
   "metadata": {},
   "outputs": [
    {
     "name": "stderr",
     "output_type": "stream",
     "text": [
      "<>:3: SyntaxWarning: invalid escape sequence '\\C'\n",
      "<>:4: SyntaxWarning: invalid escape sequence '\\C'\n",
      "<>:5: SyntaxWarning: invalid escape sequence '\\C'\n",
      "<>:3: SyntaxWarning: invalid escape sequence '\\C'\n",
      "<>:4: SyntaxWarning: invalid escape sequence '\\C'\n",
      "<>:5: SyntaxWarning: invalid escape sequence '\\C'\n",
      "C:\\Users\\campus3S031\\AppData\\Local\\Temp\\ipykernel_41400\\871433437.py:3: SyntaxWarning: invalid escape sequence '\\C'\n",
      "  \"data\\CUSTOMER_21_N.csv\",\n",
      "C:\\Users\\campus3S031\\AppData\\Local\\Temp\\ipykernel_41400\\871433437.py:4: SyntaxWarning: invalid escape sequence '\\C'\n",
      "  \"data\\CUSTOMER_22_N.csv\",\n",
      "C:\\Users\\campus3S031\\AppData\\Local\\Temp\\ipykernel_41400\\871433437.py:5: SyntaxWarning: invalid escape sequence '\\C'\n",
      "  \"data\\CUSTOMER_23_N.csv\"\n"
     ]
    }
   ],
   "source": [
    "# 데이터\n",
    "card_path = [\n",
    "    \"data\\CUSTOMER_21_N.csv\",\n",
    "    \"data\\CUSTOMER_22_N.csv\",\n",
    "    \"data\\CUSTOMER_23_N.csv\"\n",
    "]"
   ]
  },
  {
   "cell_type": "code",
   "execution_count": 20,
   "metadata": {},
   "outputs": [],
   "source": [
    "def cus_active(df_path, unq):\n",
    "    lazy_df_21 = pl.scan_csv(df_path[0])\n",
    "    lazy_df_22 = pl.scan_csv(df_path[1])\n",
    "    lazy_df_23 = pl.scan_csv(df_path[2]) \n",
    "\n",
    "    # 3개년간 데이터를 합침\n",
    "    combined_df = pl.concat([lazy_df_21, lazy_df_22, lazy_df_23], how=\"vertical\")\n",
    "\n",
    "    # 3개년간 자본상황 변동, 카드 사용횟수 합 도출\n",
    "    df_churn = combined_df.group_by(['고객ID']).agg([\n",
    "        pl.col('고객ID').count().alias(\"금융 활성화\"),\n",
    "        pl.col('카드_사용횟수').sum().alias(\"카드 활성화\")\n",
    "    ])\n",
    "\n",
    "    ''' 기존 이탈 여부대로 보고싶다면면\n",
    "    .filter([\n",
    "        (pl.col('고객ID').is_in(unq)),\n",
    "    ])\n",
    "    '''\n",
    "\n",
    "    return df_churn.collect()"
   ]
  },
  {
   "cell_type": "code",
   "execution_count": 21,
   "metadata": {},
   "outputs": [],
   "source": [
    "# 3개년 데이터 합침 + 필요한 데이터 위주 전처리리\n",
    "\n",
    "tmp = cus_active(card_path, churn_unq)"
   ]
  },
  {
   "cell_type": "code",
   "execution_count": null,
   "metadata": {},
   "outputs": [
    {
     "data": {
      "text/html": [
       "<div><style>\n",
       ".dataframe > thead > tr,\n",
       ".dataframe > tbody > tr {\n",
       "  text-align: right;\n",
       "  white-space: pre-wrap;\n",
       "}\n",
       "</style>\n",
       "<small>shape: (2_000_000, 2)</small><table border=\"1\" class=\"dataframe\"><thead><tr><th>고객ID</th><th>count</th></tr><tr><td>i64</td><td>u32</td></tr></thead><tbody><tr><td>8287182376</td><td>1</td></tr><tr><td>3813829417</td><td>1</td></tr><tr><td>8325473353</td><td>1</td></tr><tr><td>4767598126</td><td>1</td></tr><tr><td>8937804790</td><td>1</td></tr><tr><td>&hellip;</td><td>&hellip;</td></tr><tr><td>5083741983</td><td>1</td></tr><tr><td>3502400851</td><td>1</td></tr><tr><td>6585006534</td><td>1</td></tr><tr><td>6416483295</td><td>1</td></tr><tr><td>2407701875</td><td>1</td></tr></tbody></table></div>"
      ],
      "text/plain": [
       "shape: (2_000_000, 2)\n",
       "┌────────────┬───────┐\n",
       "│ 고객ID     ┆ count │\n",
       "│ ---        ┆ ---   │\n",
       "│ i64        ┆ u32   │\n",
       "╞════════════╪═══════╡\n",
       "│ 8287182376 ┆ 1     │\n",
       "│ 3813829417 ┆ 1     │\n",
       "│ 8325473353 ┆ 1     │\n",
       "│ 4767598126 ┆ 1     │\n",
       "│ 8937804790 ┆ 1     │\n",
       "│ …          ┆ …     │\n",
       "│ 5083741983 ┆ 1     │\n",
       "│ 3502400851 ┆ 1     │\n",
       "│ 6585006534 ┆ 1     │\n",
       "│ 6416483295 ┆ 1     │\n",
       "│ 2407701875 ┆ 1     │\n",
       "└────────────┴───────┘"
      ]
     },
     "execution_count": 51,
     "metadata": {},
     "output_type": "execute_result"
    }
   ],
   "source": [
    "# 3개년 전체 유니크한 고객 수는 딱 2백만명\n",
    "\n",
    "tmp['고객ID'].value_counts().sort('count', descending=False)"
   ]
  },
  {
   "cell_type": "code",
   "execution_count": 22,
   "metadata": {},
   "outputs": [],
   "source": [
    "# 금융 - 카드 활성화 평균 도출\n",
    "\n",
    "credit_mean = tmp['금융 활성화'].mean()\n",
    "card_mean = tmp['카드 활성화'].mean()"
   ]
  },
  {
   "cell_type": "code",
   "execution_count": 23,
   "metadata": {},
   "outputs": [],
   "source": [
    "# 해당 평균 수치들을 기준으로 각 고객 ID에 라벨링\n",
    "tmp = tmp.with_columns([\n",
    "    pl.when((pl.col('카드 활성화') > card_mean) & \n",
    "            (pl.col('금융 활성화') > credit_mean))\n",
    "    .then(0)\n",
    "    .when(pl.col('카드 활성화') > card_mean)\n",
    "    .then(1)\n",
    "    .when(pl.col('금융 활성화') > credit_mean)\n",
    "    .then(2)\n",
    "    .otherwise(3)\n",
    "    .alias('고객 활성화')\n",
    "])"
   ]
  },
  {
   "cell_type": "code",
   "execution_count": 41,
   "metadata": {},
   "outputs": [
    {
     "data": {
      "image/png": "[encoded data removed]",
      "text/plain": [
       "<Figure size 1000x600 with 1 Axes>"
      ]
     },
     "metadata": {},
     "output_type": "display_data"
    }
   ],
   "source": [
    "# 고객 활성화 분포 계산\n",
    "counts = tmp.get_column('고객 활성화').value_counts().sort('고객 활성화')\n",
    "\n",
    "plt.figure(figsize=(10, 6))\n",
    "\n",
    "# 막대 그래프 생성\n",
    "bars = plt.bar(range(len(counts)), counts['count'], color='springgreen')\n",
    "\n",
    "# x축 레이블 설정\n",
    "labels = ['우수 활성화(0)', '카드 활성화(1)', '금융 활성화(2)', '비활성화(3)']\n",
    "plt.xticks(range(len(counts)), labels, rotation=45, ha='right')\n",
    "\n",
    "# 막대 위에 값 표시\n",
    "for bar in bars:\n",
    "    height = bar.get_height()\n",
    "    plt.text(bar.get_x() + bar.get_width()/2., height,\n",
    "             f'{int(height):,}',\n",
    "             ha='center', va='bottom')\n",
    "\n",
    "# 그래프 꾸미기\n",
    "plt.ylabel('고객 수')\n",
    "plt.title('iM뱅크 고객의 활성화 유형별 분포')\n",
    "\n",
    "# 레이아웃 조정\n",
    "plt.tight_layout()\n",
    "\n",
    "plt.show()"
   ]
  },
  {
   "cell_type": "code",
   "execution_count": null,
   "metadata": {},
   "outputs": [],
   "source": [
    "# 해당 데이터 저장 \n",
    "tmp.write_csv('data/banking_point.csv')"
   ]
  }
 ],
 "metadata": {
  "kernelspec": {
   "display_name": "venv",
   "language": "python",
   "name": "python3"
  },
  "language_info": {
   "codemirror_mode": {
    "name": "ipython",
    "version": 3
   },
   "file_extension": ".py",
   "mimetype": "text/x-python",
   "name": "python",
   "nbconvert_exporter": "python",
   "pygments_lexer": "ipython3",
   "version": "3.12.7"
  }
 },
 "nbformat": 4,
 "nbformat_minor": 2
}
