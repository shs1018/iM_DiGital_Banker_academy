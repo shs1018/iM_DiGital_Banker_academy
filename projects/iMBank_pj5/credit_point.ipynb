{
 "cells": [
  {
   "cell_type": "code",
   "execution_count": 3,
   "metadata": {},
   "outputs": [],
   "source": [
    "import polars as pl\n",
    "import pandas as pd\n",
    "import matplotlib.pyplot as plt\n",
    "\n",
    "import matplotlib.font_manager as fm\n",
    "\n",
    "# 한글 글꼴 경로 설정 (예: Malgun Gothic)\n",
    "font_path = \"C:/Windows/Fonts/malgun.ttf\"  # Windows의 경우\n",
    "font_prop = fm.FontProperties(fname=font_path, size=12)\n",
    "\n",
    "# Matplotlib의 기본 글꼴 설정\n",
    "plt.rc('font', family=font_prop.get_name())"
   ]
  },
  {
   "cell_type": "code",
   "execution_count": 5,
   "metadata": {},
   "outputs": [
    {
     "name": "stderr",
     "output_type": "stream",
     "text": [
      "<>:1: SyntaxWarning: invalid escape sequence '\\C'\n",
      "<>:2: SyntaxWarning: invalid escape sequence '\\C'\n",
      "<>:3: SyntaxWarning: invalid escape sequence '\\C'\n",
      "<>:1: SyntaxWarning: invalid escape sequence '\\C'\n",
      "<>:2: SyntaxWarning: invalid escape sequence '\\C'\n",
      "<>:3: SyntaxWarning: invalid escape sequence '\\C'\n",
      "C:\\Users\\campus3S031\\AppData\\Local\\Temp\\ipykernel_33592\\863057293.py:1: SyntaxWarning: invalid escape sequence '\\C'\n",
      "  lazy_df_1 = pl.scan_csv(f'data\\CUSTOMER_21_N.csv', encoding='utf8')\n",
      "C:\\Users\\campus3S031\\AppData\\Local\\Temp\\ipykernel_33592\\863057293.py:2: SyntaxWarning: invalid escape sequence '\\C'\n",
      "  lazy_df_2 = pl.scan_csv(f'data\\CUSTOMER_22_N.csv', encoding='utf8')\n",
      "C:\\Users\\campus3S031\\AppData\\Local\\Temp\\ipykernel_33592\\863057293.py:3: SyntaxWarning: invalid escape sequence '\\C'\n",
      "  lazy_df_3 = pl.scan_csv(f'data\\CUSTOMER_23_N.csv', encoding='utf8')\n"
     ]
    }
   ],
   "source": [
    "lazy_df_1 = pl.scan_csv(f'data\\CUSTOMER_21_N.csv', encoding='utf8')\n",
    "lazy_df_2 = pl.scan_csv(f'data\\CUSTOMER_22_N.csv', encoding='utf8')\n",
    "lazy_df_3 = pl.scan_csv(f'data\\CUSTOMER_23_N.csv', encoding='utf8')"
   ]
  },
  {
   "cell_type": "code",
   "execution_count": 6,
   "metadata": {},
   "outputs": [
    {
     "data": {
      "text/plain": [
       "['기준년월',\n",
       " '고객ID',\n",
       " '연령대',\n",
       " '성별',\n",
       " '고객등급',\n",
       " '자택_시도',\n",
       " '자택_시군구',\n",
       " '수신_요구불예금',\n",
       " '수신_거치식예금',\n",
       " '수신_적립식예금',\n",
       " '수신_펀드',\n",
       " '수신_외화예금',\n",
       " '대출금액',\n",
       " '카드_사용횟수',\n",
       " '카드_승인금액',\n",
       " '카드_사용여부']"
      ]
     },
     "execution_count": 6,
     "metadata": {},
     "output_type": "execute_result"
    }
   ],
   "source": [
    "lazy_df_1.collect_schema().names()"
   ]
  },
  {
   "cell_type": "code",
   "execution_count": 22,
   "metadata": {},
   "outputs": [
    {
     "name": "stderr",
     "output_type": "stream",
     "text": [
      "C:\\Users\\campus3S031\\AppData\\Local\\Temp\\ipykernel_33592\\2192361959.py:2: PerformanceWarning: Determining the column names of a LazyFrame requires resolving its schema, which is a potentially expensive operation. Use `LazyFrame.collect_schema().names()` to get the column names without this warning.\n",
      "  dat_best_1 = lazy_df_1.filter(pl.col('고객등급') == '최우수등급').select(pl.exclude(lazy_df_1.columns[:7])).collect()\n",
      "C:\\Users\\campus3S031\\AppData\\Local\\Temp\\ipykernel_33592\\2192361959.py:3: PerformanceWarning: Determining the column names of a LazyFrame requires resolving its schema, which is a potentially expensive operation. Use `LazyFrame.collect_schema().names()` to get the column names without this warning.\n",
      "  dat_best_2 = lazy_df_2.filter(pl.col('고객등급') == '최우수등급').select(pl.exclude(lazy_df_1.columns[:7])).collect()\n",
      "C:\\Users\\campus3S031\\AppData\\Local\\Temp\\ipykernel_33592\\2192361959.py:4: PerformanceWarning: Determining the column names of a LazyFrame requires resolving its schema, which is a potentially expensive operation. Use `LazyFrame.collect_schema().names()` to get the column names without this warning.\n",
      "  dat_best_3 = lazy_df_3.filter(pl.col('고객등급') == '최우수등급').select(pl.exclude(lazy_df_1.columns[:7])).collect()\n"
     ]
    }
   ],
   "source": [
    "# 최우수 계층 조회회\n",
    "dat_best_1 = lazy_df_1.filter(pl.col('고객등급') == '최우수등급').select(pl.exclude(lazy_df_1.columns[:7])).collect()\n",
    "dat_best_2 = lazy_df_2.filter(pl.col('고객등급') == '최우수등급').select(pl.exclude(lazy_df_1.columns[:7])).collect()\n",
    "dat_best_3 = lazy_df_3.filter(pl.col('고객등급') == '최우수등급').select(pl.exclude(lazy_df_1.columns[:7])).collect()"
   ]
  },
  {
   "cell_type": "code",
   "execution_count": 16,
   "metadata": {},
   "outputs": [
    {
     "data": {
      "text/plain": [
       "['수신_요구불예금',\n",
       " '수신_거치식예금',\n",
       " '수신_적립식예금',\n",
       " '수신_펀드',\n",
       " '수신_외화예금',\n",
       " '대출금액',\n",
       " '카드_사용횟수',\n",
       " '카드_승인금액',\n",
       " '카드_사용여부']"
      ]
     },
     "execution_count": 16,
     "metadata": {},
     "output_type": "execute_result"
    }
   ],
   "source": [
    "dat_best_1.collect_schema().names()"
   ]
  },
  {
   "cell_type": "code",
   "execution_count": 19,
   "metadata": {},
   "outputs": [
    {
     "name": "stderr",
     "output_type": "stream",
     "text": [
      "C:\\Users\\campus3S031\\AppData\\Local\\Temp\\ipykernel_33592\\3756042574.py:1: DeprecationWarning: `GroupBy.count` is deprecated. It has been renamed to `len`.\n",
      "  dat_best_1.group_by('대출금액').count().sort('count', descending= True).head(5)\n"
     ]
    },
    {
     "data": {
      "text/html": [
       "<div><style>\n",
       ".dataframe > thead > tr,\n",
       ".dataframe > tbody > tr {\n",
       "  text-align: right;\n",
       "  white-space: pre-wrap;\n",
       "}\n",
       "</style>\n",
       "<small>shape: (5, 2)</small><table border=\"1\" class=\"dataframe\"><thead><tr><th>대출금액</th><th>count</th></tr><tr><td>i64</td><td>u32</td></tr></thead><tbody><tr><td>0</td><td>12338</td></tr><tr><td>20000000</td><td>81</td></tr><tr><td>50000000</td><td>72</td></tr><tr><td>30000000</td><td>55</td></tr><tr><td>19000000</td><td>55</td></tr></tbody></table></div>"
      ],
      "text/plain": [
       "shape: (5, 2)\n",
       "┌──────────┬───────┐\n",
       "│ 대출금액 ┆ count │\n",
       "│ ---      ┆ ---   │\n",
       "│ i64      ┆ u32   │\n",
       "╞══════════╪═══════╡\n",
       "│ 0        ┆ 12338 │\n",
       "│ 20000000 ┆ 81    │\n",
       "│ 50000000 ┆ 72    │\n",
       "│ 30000000 ┆ 55    │\n",
       "│ 19000000 ┆ 55    │\n",
       "└──────────┴───────┘"
      ]
     },
     "execution_count": 19,
     "metadata": {},
     "output_type": "execute_result"
    }
   ],
   "source": [
    "dat_best_1.group_by('대출금액').count().sort('count', descending= True).head(5)"
   ]
  },
  {
   "cell_type": "code",
   "execution_count": 20,
   "metadata": {},
   "outputs": [
    {
     "name": "stderr",
     "output_type": "stream",
     "text": [
      "C:\\Users\\campus3S031\\AppData\\Local\\Temp\\ipykernel_33592\\2067340603.py:1: DeprecationWarning: `GroupBy.count` is deprecated. It has been renamed to `len`.\n",
      "  dat_best_1.group_by('수신_요구불예금').count().sort('count', descending= True).head(5)\n"
     ]
    },
    {
     "data": {
      "text/html": [
       "<div><style>\n",
       ".dataframe > thead > tr,\n",
       ".dataframe > tbody > tr {\n",
       "  text-align: right;\n",
       "  white-space: pre-wrap;\n",
       "}\n",
       "</style>\n",
       "<small>shape: (5, 2)</small><table border=\"1\" class=\"dataframe\"><thead><tr><th>수신_요구불예금</th><th>count</th></tr><tr><td>i64</td><td>u32</td></tr></thead><tbody><tr><td>0</td><td>345</td></tr><tr><td>11000000</td><td>274</td></tr><tr><td>13000000</td><td>269</td></tr><tr><td>14000000</td><td>257</td></tr><tr><td>12000000</td><td>250</td></tr></tbody></table></div>"
      ],
      "text/plain": [
       "shape: (5, 2)\n",
       "┌─────────────────┬───────┐\n",
       "│ 수신_요구불예금 ┆ count │\n",
       "│ ---             ┆ ---   │\n",
       "│ i64             ┆ u32   │\n",
       "╞═════════════════╪═══════╡\n",
       "│ 0               ┆ 345   │\n",
       "│ 11000000        ┆ 274   │\n",
       "│ 13000000        ┆ 269   │\n",
       "│ 14000000        ┆ 257   │\n",
       "│ 12000000        ┆ 250   │\n",
       "└─────────────────┴───────┘"
      ]
     },
     "execution_count": 20,
     "metadata": {},
     "output_type": "execute_result"
    }
   ],
   "source": [
    "dat_best_1.group_by('수신_요구불예금').count().sort('count', descending= True).head(5)"
   ]
  },
  {
   "cell_type": "markdown",
   "metadata": {},
   "source": [
    "## 결론\n",
    "- 기간은 중요하지 않고 이용 금액이 가장 중요하다. \n",
    "- 따라서, 해당 데이터의 고객등급보다는 장기적으로 판단할 때 자체적인 신용점수 평가 모형을 만드는 것이 맞다."
   ]
  },
  {
   "cell_type": "markdown",
   "metadata": {},
   "source": [
    "# 신용점수 모형 만들기\n",
    "- ML/DL이 가능할지?"
   ]
  },
  {
   "cell_type": "code",
   "execution_count": 23,
   "metadata": {},
   "outputs": [],
   "source": [
    "# 가중치 설정\n",
    "weights = {\n",
    "    \"수신_요구불예금\": 0.1,\n",
    "    \"수신_거치식예금\": 0.1,\n",
    "    \"수신_적립식예금\": 0.1,\n",
    "    \"수신_펀드\": 0.1,\n",
    "    \"수신_외화예금\": 0.05,\n",
    "    \"대출금액\": 0.35,\n",
    "    \"카드사용 횟수\": 0.1,\n",
    "    \"카드사용 액수\": 0.1\n",
    "}"
   ]
  },
  {
   "cell_type": "code",
   "execution_count": 29,
   "metadata": {},
   "outputs": [
    {
     "name": "stderr",
     "output_type": "stream",
     "text": [
      "C:\\Users\\campus3S031\\AppData\\Local\\Temp\\ipykernel_33592\\2703165962.py:7: PerformanceWarning: Determining the column names of a LazyFrame requires resolving its schema, which is a potentially expensive operation. Use `LazyFrame.collect_schema().names()` to get the column names without this warning.\n",
      "  if col in lazy_df_1.columns\n"
     ]
    }
   ],
   "source": [
    "from sklearn.preprocessing import MinMaxScaler\n",
    "\n",
    "# 점수 계산\n",
    "df = lazy_df_1.with_columns([\n",
    "    (pl.col(col) * weight).alias(f\"{col}_score\")\n",
    "    for col, weight in weights.items()\n",
    "    if col in lazy_df_1.columns\n",
    "])"
   ]
  },
  {
   "cell_type": "code",
   "execution_count": 33,
   "metadata": {},
   "outputs": [
    {
     "name": "stderr",
     "output_type": "stream",
     "text": [
      "C:\\Users\\campus3S031\\AppData\\Local\\Temp\\ipykernel_33592\\3822135949.py:3: PerformanceWarning: Determining the column names of a LazyFrame requires resolving its schema, which is a potentially expensive operation. Use `LazyFrame.collect_schema().names()` to get the column names without this warning.\n",
      "  if col in lazy_df_1.columns]  # 존재하는 컬럼만 포함\n"
     ]
    }
   ],
   "source": [
    "# 최종 점수 합산\n",
    "score_columns = [f\"{col}_score\" for col in weights.keys() \n",
    "                if col in lazy_df_1.columns]  # 존재하는 컬럼만 포함\n",
    "df = df.with_columns(\n",
    "    pl.sum_horizontal(score_columns).alias(\"raw_loyalty_score\")\n",
    ")\n"
   ]
  },
  {
   "cell_type": "code",
   "execution_count": 34,
   "metadata": {},
   "outputs": [
    {
     "data": {
      "text/html": [
       "<div><style>\n",
       ".dataframe > thead > tr,\n",
       ".dataframe > tbody > tr {\n",
       "  text-align: right;\n",
       "  white-space: pre-wrap;\n",
       "}\n",
       "</style>\n",
       "<small>shape: (3, 23)</small><table border=\"1\" class=\"dataframe\"><thead><tr><th>기준년월</th><th>고객ID</th><th>연령대</th><th>성별</th><th>고객등급</th><th>자택_시도</th><th>자택_시군구</th><th>수신_요구불예금</th><th>수신_거치식예금</th><th>수신_적립식예금</th><th>수신_펀드</th><th>수신_외화예금</th><th>대출금액</th><th>카드_사용횟수</th><th>카드_승인금액</th><th>카드_사용여부</th><th>수신_요구불예금_score</th><th>수신_거치식예금_score</th><th>수신_적립식예금_score</th><th>수신_펀드_score</th><th>수신_외화예금_score</th><th>대출금액_score</th><th>raw_loyalty_score</th></tr><tr><td>i64</td><td>i64</td><td>str</td><td>str</td><td>str</td><td>str</td><td>str</td><td>i64</td><td>i64</td><td>i64</td><td>i64</td><td>i64</td><td>i64</td><td>i64</td><td>i64</td><td>i64</td><td>f64</td><td>f64</td><td>f64</td><td>f64</td><td>f64</td><td>f64</td><td>f64</td></tr></thead><tbody><tr><td>202112</td><td>9999998161</td><td>&quot;60대이상&quot;</td><td>&quot;여&quot;</td><td>&quot;일반등급&quot;</td><td>&quot;대구광역시&quot;</td><td>&quot;달서구&quot;</td><td>1400000</td><td>0</td><td>0</td><td>0</td><td>0</td><td>0</td><td>4</td><td>40000</td><td>1</td><td>140000.0</td><td>0.0</td><td>0.0</td><td>0.0</td><td>0.0</td><td>0.0</td><td>140000.0</td></tr><tr><td>202112</td><td>9999997589</td><td>&quot;60대이상&quot;</td><td>&quot;남&quot;</td><td>&quot;일반등급&quot;</td><td>&quot;경상북도&quot;</td><td>&quot;경주시&quot;</td><td>0</td><td>10000000</td><td>500000</td><td>0</td><td>0</td><td>0</td><td>0</td><td>0</td><td>0</td><td>0.0</td><td>1e6</td><td>50000.0</td><td>0.0</td><td>0.0</td><td>0.0</td><td>1.05e6</td></tr><tr><td>202112</td><td>9999991579</td><td>&quot;60대이상&quot;</td><td>&quot;여&quot;</td><td>&quot;일반등급&quot;</td><td>&quot;경상북도&quot;</td><td>&quot;성주군&quot;</td><td>0</td><td>30000000</td><td>0</td><td>0</td><td>0</td><td>0</td><td>0</td><td>0</td><td>0</td><td>0.0</td><td>3e6</td><td>0.0</td><td>0.0</td><td>0.0</td><td>0.0</td><td>3e6</td></tr></tbody></table></div>"
      ],
      "text/plain": [
       "shape: (3, 23)\n",
       "┌──────────┬────────────┬──────────┬──────┬───┬─────────────┬────────────┬────────────┬────────────┐\n",
       "│ 기준년월 ┆ 고객ID     ┆ 연령대   ┆ 성별 ┆ … ┆ 수신_펀드_s ┆ 수신_외화  ┆ 대출금액_s ┆ raw_loyalt │\n",
       "│ ---      ┆ ---        ┆ ---      ┆ ---  ┆   ┆ core        ┆ 예금_score ┆ core       ┆ y_score    │\n",
       "│ i64      ┆ i64        ┆ str      ┆ str  ┆   ┆ ---         ┆ ---        ┆ ---        ┆ ---        │\n",
       "│          ┆            ┆          ┆      ┆   ┆ f64         ┆ f64        ┆ f64        ┆ f64        │\n",
       "╞══════════╪════════════╪══════════╪══════╪═══╪═════════════╪════════════╪════════════╪════════════╡\n",
       "│ 202112   ┆ 9999998161 ┆ 60대이상 ┆ 여   ┆ … ┆ 0.0         ┆ 0.0        ┆ 0.0        ┆ 140000.0   │\n",
       "│ 202112   ┆ 9999997589 ┆ 60대이상 ┆ 남   ┆ … ┆ 0.0         ┆ 0.0        ┆ 0.0        ┆ 1.05e6     │\n",
       "│ 202112   ┆ 9999991579 ┆ 60대이상 ┆ 여   ┆ … ┆ 0.0         ┆ 0.0        ┆ 0.0        ┆ 3e6        │\n",
       "└──────────┴────────────┴──────────┴──────┴───┴─────────────┴────────────┴────────────┴────────────┘"
      ]
     },
     "execution_count": 34,
     "metadata": {},
     "output_type": "execute_result"
    }
   ],
   "source": [
    "df.limit(3).collect()"
   ]
  },
  {
   "cell_type": "code",
   "execution_count": null,
   "metadata": {},
   "outputs": [],
   "source": [
    "\n",
    "# 점수를 500~1000 범위로 정규화\n",
    "# collect()를 호출하여 numpy 배열로 변환\n",
    "raw_scores = df.select(\"raw_loyalty_score\").collect().to_numpy()\n",
    "scaler = MinMaxScaler(feature_range=(500, 1000))\n",
    "normalized_scores = scaler.fit_transform(raw_scores).flatten()\n",
    "\n",
    "# 정규화된 점수를 다시 데이터프레임에 추가\n",
    "df = df.with_columns(\n",
    "    pl.Series(\"충성도점수\", normalized_scores)\n",
    ")\n",
    "\n",
    "# 결과 출력\n",
    "result = df.select([\"고객ID\", \"충성도점수\"]).collect()\n",
    "print(result)"
   ]
  },
  {
   "cell_type": "code",
   "execution_count": null,
   "metadata": {},
   "outputs": [],
   "source": []
  }
 ],
 "metadata": {
  "kernelspec": {
   "display_name": "venv",
   "language": "python",
   "name": "python3"
  },
  "language_info": {
   "codemirror_mode": {
    "name": "ipython",
    "version": 3
   },
   "file_extension": ".py",
   "mimetype": "text/x-python",
   "name": "python",
   "nbconvert_exporter": "python",
   "pygments_lexer": "ipython3",
   "version": "3.12.7"
  }
 },
 "nbformat": 4,
 "nbformat_minor": 2
}
