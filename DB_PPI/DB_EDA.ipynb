{
 "cells": [
  {
   "cell_type": "code",
   "execution_count": 1,
   "metadata": {},
   "outputs": [],
   "source": [
    "import pandas as pd"
   ]
  },
  {
   "cell_type": "code",
   "execution_count": 3,
   "metadata": {},
   "outputs": [
    {
     "name": "stderr",
     "output_type": "stream",
     "text": [
      "C:\\Users\\campus3S031\\AppData\\Local\\Temp\\ipykernel_3408\\1360900125.py:6: DtypeWarning: Columns (2,4,27,47,50) have mixed types. Specify dtype option on import or set low_memory=False.\n",
      "  df_list = [pd.read_csv(file) for file in all_files]\n",
      "C:\\Users\\campus3S031\\AppData\\Local\\Temp\\ipykernel_3408\\1360900125.py:6: DtypeWarning: Columns (2,4,27,41,42,44,45,46,47,50) have mixed types. Specify dtype option on import or set low_memory=False.\n",
      "  df_list = [pd.read_csv(file) for file in all_files]\n",
      "C:\\Users\\campus3S031\\AppData\\Local\\Temp\\ipykernel_3408\\1360900125.py:6: DtypeWarning: Columns (2,4,27,47,50) have mixed types. Specify dtype option on import or set low_memory=False.\n",
      "  df_list = [pd.read_csv(file) for file in all_files]\n",
      "C:\\Users\\campus3S031\\AppData\\Local\\Temp\\ipykernel_3408\\1360900125.py:6: DtypeWarning: Columns (2,4,27,47,50) have mixed types. Specify dtype option on import or set low_memory=False.\n",
      "  df_list = [pd.read_csv(file) for file in all_files]\n",
      "C:\\Users\\campus3S031\\AppData\\Local\\Temp\\ipykernel_3408\\1360900125.py:6: DtypeWarning: Columns (2,4,8,11,26,27,47,50) have mixed types. Specify dtype option on import or set low_memory=False.\n",
      "  df_list = [pd.read_csv(file) for file in all_files]\n",
      "C:\\Users\\campus3S031\\AppData\\Local\\Temp\\ipykernel_3408\\1360900125.py:6: DtypeWarning: Columns (2,4,27,47,50) have mixed types. Specify dtype option on import or set low_memory=False.\n",
      "  df_list = [pd.read_csv(file) for file in all_files]\n",
      "C:\\Users\\campus3S031\\AppData\\Local\\Temp\\ipykernel_3408\\1360900125.py:6: DtypeWarning: Columns (2,4,8,16,26,27,41,42,43,47,50) have mixed types. Specify dtype option on import or set low_memory=False.\n",
      "  df_list = [pd.read_csv(file) for file in all_files]\n",
      "C:\\Users\\campus3S031\\AppData\\Local\\Temp\\ipykernel_3408\\1360900125.py:6: DtypeWarning: Columns (2,4,27,33,42,47,50) have mixed types. Specify dtype option on import or set low_memory=False.\n",
      "  df_list = [pd.read_csv(file) for file in all_files]\n",
      "C:\\Users\\campus3S031\\AppData\\Local\\Temp\\ipykernel_3408\\1360900125.py:6: DtypeWarning: Columns (2,4,47,50) have mixed types. Specify dtype option on import or set low_memory=False.\n",
      "  df_list = [pd.read_csv(file) for file in all_files]\n",
      "C:\\Users\\campus3S031\\AppData\\Local\\Temp\\ipykernel_3408\\1360900125.py:6: DtypeWarning: Columns (2,4,47,50) have mixed types. Specify dtype option on import or set low_memory=False.\n",
      "  df_list = [pd.read_csv(file) for file in all_files]\n"
     ]
    }
   ],
   "source": [
    "import pandas as pd\n",
    "import glob\n",
    "\n",
    "def concat_csv_files(path):\n",
    "    all_files = glob.glob(path + \"/*.csv\")\n",
    "    df_list = [pd.read_csv(file) for file in all_files]\n",
    "    return pd.concat(df_list, ignore_index=True)\n",
    "\n",
    "df = concat_csv_files('data')"
   ]
  },
  {
   "cell_type": "code",
   "execution_count": 5,
   "metadata": {},
   "outputs": [
    {
     "data": {
      "text/html": [
       "<div>\n",
       "<style scoped>\n",
       "    .dataframe tbody tr th:only-of-type {\n",
       "        vertical-align: middle;\n",
       "    }\n",
       "\n",
       "    .dataframe tbody tr th {\n",
       "        vertical-align: top;\n",
       "    }\n",
       "\n",
       "    .dataframe thead th {\n",
       "        text-align: right;\n",
       "    }\n",
       "</style>\n",
       "<table border=\"1\" class=\"dataframe\">\n",
       "  <thead>\n",
       "    <tr style=\"text-align: right;\">\n",
       "      <th></th>\n",
       "      <th>등록유형</th>\n",
       "      <th>조달구분</th>\n",
       "      <th>공고시스템명</th>\n",
       "      <th>공고게시일자</th>\n",
       "      <th>입찰공고번호</th>\n",
       "      <th>입찰공고차수</th>\n",
       "      <th>입찰분류번호</th>\n",
       "      <th>공고기관명</th>\n",
       "      <th>공고기관코드</th>\n",
       "      <th>실수요기관명</th>\n",
       "      <th>...</th>\n",
       "      <th>업종제한내용</th>\n",
       "      <th>지역제한내용</th>\n",
       "      <th>공동도급구성방식명</th>\n",
       "      <th>조항호코드</th>\n",
       "      <th>조항호명</th>\n",
       "      <th>정보화사업여부</th>\n",
       "      <th>기술평가대행여부</th>\n",
       "      <th>낙찰하한율</th>\n",
       "      <th>참조번호</th>\n",
       "      <th>조달요청번호</th>\n",
       "    </tr>\n",
       "  </thead>\n",
       "  <tbody>\n",
       "    <tr>\n",
       "      <th>0</th>\n",
       "      <td>나라장터(G2B)</td>\n",
       "      <td>자체조달</td>\n",
       "      <td>NaN</td>\n",
       "      <td>20220101</td>\n",
       "      <td>20220100009</td>\n",
       "      <td>0</td>\n",
       "      <td>1</td>\n",
       "      <td>경기도 광명시</td>\n",
       "      <td>3900000</td>\n",
       "      <td>경기도 광명시</td>\n",
       "      <td>...</td>\n",
       "      <td>NaN</td>\n",
       "      <td>경기도 광명시[41210]</td>\n",
       "      <td>공동수급불허</td>\n",
       "      <td>NaN</td>\n",
       "      <td>NaN</td>\n",
       "      <td>NaN</td>\n",
       "      <td>NaN</td>\n",
       "      <td>88.0</td>\n",
       "      <td>광명시공고 제 2022-5호</td>\n",
       "      <td>NaN</td>\n",
       "    </tr>\n",
       "    <tr>\n",
       "      <th>1</th>\n",
       "      <td>나라장터(G2B)</td>\n",
       "      <td>자체조달</td>\n",
       "      <td>NaN</td>\n",
       "      <td>20220101</td>\n",
       "      <td>20220100009</td>\n",
       "      <td>0</td>\n",
       "      <td>1</td>\n",
       "      <td>경기도 광명시</td>\n",
       "      <td>3900000</td>\n",
       "      <td>경기도 광명시</td>\n",
       "      <td>...</td>\n",
       "      <td>NaN</td>\n",
       "      <td>경기도 광명시[41210]</td>\n",
       "      <td>공동수급불허</td>\n",
       "      <td>NaN</td>\n",
       "      <td>NaN</td>\n",
       "      <td>NaN</td>\n",
       "      <td>NaN</td>\n",
       "      <td>88.0</td>\n",
       "      <td>광명시공고 제 2022-5호</td>\n",
       "      <td>NaN</td>\n",
       "    </tr>\n",
       "    <tr>\n",
       "      <th>2</th>\n",
       "      <td>나라장터(G2B)</td>\n",
       "      <td>자체조달</td>\n",
       "      <td>NaN</td>\n",
       "      <td>20220101</td>\n",
       "      <td>20220100009</td>\n",
       "      <td>0</td>\n",
       "      <td>1</td>\n",
       "      <td>경기도 광명시</td>\n",
       "      <td>3900000</td>\n",
       "      <td>경기도 광명시</td>\n",
       "      <td>...</td>\n",
       "      <td>NaN</td>\n",
       "      <td>경기도 광명시[41210]</td>\n",
       "      <td>공동수급불허</td>\n",
       "      <td>NaN</td>\n",
       "      <td>NaN</td>\n",
       "      <td>NaN</td>\n",
       "      <td>NaN</td>\n",
       "      <td>88.0</td>\n",
       "      <td>광명시공고 제 2022-5호</td>\n",
       "      <td>NaN</td>\n",
       "    </tr>\n",
       "    <tr>\n",
       "      <th>3</th>\n",
       "      <td>나라장터(G2B)</td>\n",
       "      <td>자체조달</td>\n",
       "      <td>NaN</td>\n",
       "      <td>20220101</td>\n",
       "      <td>20220100009</td>\n",
       "      <td>0</td>\n",
       "      <td>1</td>\n",
       "      <td>경기도 광명시</td>\n",
       "      <td>3900000</td>\n",
       "      <td>경기도 광명시</td>\n",
       "      <td>...</td>\n",
       "      <td>NaN</td>\n",
       "      <td>경기도 광명시[41210]</td>\n",
       "      <td>공동수급불허</td>\n",
       "      <td>NaN</td>\n",
       "      <td>NaN</td>\n",
       "      <td>NaN</td>\n",
       "      <td>NaN</td>\n",
       "      <td>88.0</td>\n",
       "      <td>광명시공고 제 2022-5호</td>\n",
       "      <td>NaN</td>\n",
       "    </tr>\n",
       "    <tr>\n",
       "      <th>4</th>\n",
       "      <td>나라장터(G2B)</td>\n",
       "      <td>자체조달</td>\n",
       "      <td>NaN</td>\n",
       "      <td>20220101</td>\n",
       "      <td>20220100009</td>\n",
       "      <td>0</td>\n",
       "      <td>1</td>\n",
       "      <td>경기도 광명시</td>\n",
       "      <td>3900000</td>\n",
       "      <td>경기도 광명시</td>\n",
       "      <td>...</td>\n",
       "      <td>NaN</td>\n",
       "      <td>경기도 광명시[41210]</td>\n",
       "      <td>공동수급불허</td>\n",
       "      <td>NaN</td>\n",
       "      <td>NaN</td>\n",
       "      <td>NaN</td>\n",
       "      <td>NaN</td>\n",
       "      <td>88.0</td>\n",
       "      <td>광명시공고 제 2022-5호</td>\n",
       "      <td>NaN</td>\n",
       "    </tr>\n",
       "  </tbody>\n",
       "</table>\n",
       "<p>5 rows × 51 columns</p>\n",
       "</div>"
      ],
      "text/plain": [
       "        등록유형  조달구분 공고시스템명    공고게시일자       입찰공고번호  입찰공고차수  입찰분류번호    공고기관명  \\\n",
       "0  나라장터(G2B)  자체조달    NaN  20220101  20220100009       0       1  경기도 광명시   \n",
       "1  나라장터(G2B)  자체조달    NaN  20220101  20220100009       0       1  경기도 광명시   \n",
       "2  나라장터(G2B)  자체조달    NaN  20220101  20220100009       0       1  경기도 광명시   \n",
       "3  나라장터(G2B)  자체조달    NaN  20220101  20220100009       0       1  경기도 광명시   \n",
       "4  나라장터(G2B)  자체조달    NaN  20220101  20220100009       0       1  경기도 광명시   \n",
       "\n",
       "    공고기관코드   실수요기관명  ... 업종제한내용          지역제한내용 공동도급구성방식명 조항호코드 조항호명 정보화사업여부  \\\n",
       "0  3900000  경기도 광명시  ...    NaN  경기도 광명시[41210]    공동수급불허   NaN  NaN     NaN   \n",
       "1  3900000  경기도 광명시  ...    NaN  경기도 광명시[41210]    공동수급불허   NaN  NaN     NaN   \n",
       "2  3900000  경기도 광명시  ...    NaN  경기도 광명시[41210]    공동수급불허   NaN  NaN     NaN   \n",
       "3  3900000  경기도 광명시  ...    NaN  경기도 광명시[41210]    공동수급불허   NaN  NaN     NaN   \n",
       "4  3900000  경기도 광명시  ...    NaN  경기도 광명시[41210]    공동수급불허   NaN  NaN     NaN   \n",
       "\n",
       "  기술평가대행여부 낙찰하한율             참조번호 조달요청번호  \n",
       "0      NaN  88.0  광명시공고 제 2022-5호    NaN  \n",
       "1      NaN  88.0  광명시공고 제 2022-5호    NaN  \n",
       "2      NaN  88.0  광명시공고 제 2022-5호    NaN  \n",
       "3      NaN  88.0  광명시공고 제 2022-5호    NaN  \n",
       "4      NaN  88.0  광명시공고 제 2022-5호    NaN  \n",
       "\n",
       "[5 rows x 51 columns]"
      ]
     },
     "execution_count": 5,
     "metadata": {},
     "output_type": "execute_result"
    }
   ],
   "source": [
    "df.head()"
   ]
  },
  {
   "cell_type": "code",
   "execution_count": 6,
   "metadata": {},
   "outputs": [
    {
     "data": {
      "text/plain": [
       "Index(['등록유형', '조달구분', '공고시스템명', '공고게시일자', '입찰공고번호', '입찰공고차수', '입찰분류번호',\n",
       "       '공고기관명', '공고기관코드', '실수요기관명', '수요기관명', '수요기관코드', '수요기관구분', '수요기관지역명',\n",
       "       '품명내용', '세부품명내용', '긴급공고여부', '공고명', '추정가격', '배정예산', '입찰서개시일자', '입찰서마감일자',\n",
       "       '개찰일자', '입찰방식', '기초금액', '예정가격', '참가수', '개찰순위', '입찰업체명', '입찰업체사업자등록번호',\n",
       "       '입찰업체기업구분명', '입찰일자', '입찰시간', '입찰률', '입찰금액', '부적격여부', '부적격사유', '낙찰여부',\n",
       "       '낙찰자결정방법', '입찰계약방법', '업종제한여부', '업종제한내용', '지역제한내용', '공동도급구성방식명', '조항호코드',\n",
       "       '조항호명', '정보화사업여부', '기술평가대행여부', '낙찰하한율', '참조번호', '조달요청번호'],\n",
       "      dtype='object')"
      ]
     },
     "execution_count": 6,
     "metadata": {},
     "output_type": "execute_result"
    }
   ],
   "source": [
    "df.columns"
   ]
  },
  {
   "cell_type": "code",
   "execution_count": 18,
   "metadata": {},
   "outputs": [
    {
     "data": {
      "text/plain": [
       "수요기관명\n",
       "해군군수사령부          0.039281\n",
       "한국공항공사 서울지역본부    0.035243\n",
       "서울교통공사           0.030298\n",
       "육군군수사령부          0.029684\n",
       "경기도 경기도농업기술원     0.017116\n",
       "Name: proportion, dtype: float64"
      ]
     },
     "execution_count": 18,
     "metadata": {},
     "output_type": "execute_result"
    }
   ],
   "source": [
    "want_list = df['수요기관명'].value_counts(normalize=True)\n",
    "want_list.head()"
   ]
  },
  {
   "cell_type": "code",
   "execution_count": 20,
   "metadata": {},
   "outputs": [
    {
     "data": {
      "text/plain": [
       "(4077972, 51)"
      ]
     },
     "execution_count": 20,
     "metadata": {},
     "output_type": "execute_result"
    }
   ],
   "source": [
    "df.shape"
   ]
  },
  {
   "cell_type": "code",
   "execution_count": null,
   "metadata": {},
   "outputs": [],
   "source": []
  }
 ],
 "metadata": {
  "kernelspec": {
   "display_name": "venv",
   "language": "python",
   "name": "python3"
  },
  "language_info": {
   "codemirror_mode": {
    "name": "ipython",
    "version": 3
   },
   "file_extension": ".py",
   "mimetype": "text/x-python",
   "name": "python",
   "nbconvert_exporter": "python",
   "pygments_lexer": "ipython3",
   "version": "3.12.7"
  }
 },
 "nbformat": 4,
 "nbformat_minor": 2
}
