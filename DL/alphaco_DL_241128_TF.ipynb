{
  "nbformat": 4,
  "nbformat_minor": 0,
  "metadata": {
    "colab": {
      "provenance": [],
      "gpuType": "T4"
    },
    "kernelspec": {
      "name": "python3",
      "display_name": "Python 3"
    },
    "language_info": {
      "name": "python"
    },
    "accelerator": "GPU"
  },
  "cells": [
    {
      "cell_type": "code",
      "execution_count": 2,
      "metadata": {
        "colab": {
          "base_uri": "https://localhost:8080/"
        },
        "id": "cGzO2SAAH3de",
        "outputId": "6293ff5c-7abb-4f35-c524-3c3062abd95e"
      },
      "outputs": [
        {
          "output_type": "stream",
          "name": "stdout",
          "text": [
            "/bin/bash: line 1: nvidia-smi: command not found\n"
          ]
        }
      ],
      "source": [
        "!nvidia-smi"
      ]
    },
    {
      "cell_type": "markdown",
      "source": [
        "## 경사 하강법 설명\n",
        "1. 함수 정의\n",
        "  - `gradient_descent`라는 이름의 함수를 정의합니다. 이 함수는 입력 데이터(X), 출력 데이터(y), 학습률(learning_rate), 반복 횟수(n_iterations)를 인자로 받습니다.\n",
        "\n",
        "2. 샘플 수 확인\n",
        "  - `m = len(X)`는 입력 데이터의 샘플 수를 변수 m에 저장합니다. 이는 데이터의 총 개수를 의미합니다.\n",
        "\n",
        "3. 바이어스 항 추가\n",
        "  - $X_b$ = `np.c_[np.ones((X.shape[0], 1)), X]`는 입력 데이터에 바이어스 항(즉, 항상 1인 추가 열)을 추가합니다. 바이어스 항은 모델이 더 유연하게 동작하도록 돕습니다.\n",
        "\n",
        "4. 가중치 초기화\n",
        "  - `theta = np.random.randn(X_b.shape[1], 1)`는 가중치 `theta`를 임의의 값으로 초기화합니다. 이는 모델이 학습할 때 조정할 값들입니다.\n",
        "\n",
        "5. loss_history 초기화\n",
        "  - `loss_history = []`는 손실 값을 저장할 빈 리스트를 초기화합니다. 이 리스트는 모델이 학습하면서 손실이 어떻게 변하는지 기록하는 데 사용됩니다.\n",
        "\n",
        "6. 경사 하강법 반복 : `주어진 반복 횟수(`n_iterations`)만큼 다음 과정을 반복\n",
        "  - `z = X_b.dot(theta)`는 현재 가중치를 사용하여 예측 값을 계산\n",
        "  - `y_pred = sigmoid(z)`는 예측 값을 시그모이드 함수에 통과시켜 최종 예측 값을 얻습니다. 시그모이드 함수는 예측 값을 0과 1 사이의 값으로 변환\n",
        "  - `gradients = X_b.T.dot(y_pred - y) / len(y)`는 예측 값과 실제 값의 차이를 사용하여 그래디언트를 계산합니다. 그래디언트는 손실 함수의 기울기이며, 가중치를 어떻게 조정할지 알려줍니다.\n",
        "  - `theta = theta - learning_rate * gradients`는 학습률(`learning_rate`)을 사용하여 가중치를 업데이트 합니다.\n",
        "  - `loss = compute_loss(y, y_pred)`  현재 예측 값과 실제 값 사이의 손실을 계산\n",
        "  - `loss_history.append(loss)`는 계산된 손실 값을 손실 히스토리에 추가"
      ],
      "metadata": {
        "id": "zEBHkf5dIriS"
      }
    },
    {
      "cell_type": "markdown",
      "source": [
        "## 비유를 통해 이해하기\n",
        "- 이 과정을 산을 내려가는 것에 비유할 수 있습니다. 산 꼭대기에서 시작하여 가장 낮은 지점을 찾기 위해 아래로 내려가는 과정입니다.\n",
        "\n",
        "  + `가중치 초기화`는 산 꼭대기에서 출발점을 정하는 것과 같습니다.\n",
        "\n",
        "  + `손실 함수`는 우리가 얼마나 높은 지점에 있는지 알려주는 도구입니다.\n",
        "\n",
        "  + `그래디언트`는 현재 위치에서 가장 가파르게 내려갈 방향을 가리킵니다.\n",
        "\n",
        "  + `학습률`은 한 걸음에 얼마나 많이 내려갈지 결정합니다.\n",
        "\n",
        "  + `반복`은 여러 번 걸음을 옮기면서 계속해서 산을 내려가는 과정입니다.\n",
        "\n",
        "  + `결과 반환`은 우리가 최종적으로 도달한 위치와 그동안의 여정을 기록한 것입니다.\n",
        "\n"
      ],
      "metadata": {
        "id": "ct0rCVvIIy0T"
      }
    },
    {
      "cell_type": "markdown",
      "source": [
        "## 결과 비교\n",
        "- AND 네트워크는 학습을 진행할수록 손실함수의 값이 줄어듬\n",
        "- XOR 네트워크는 학습을 진행해도 손실함수의 값은 줄어들지 않음"
      ],
      "metadata": {
        "id": "BwaRdBOyI0Tx"
      }
    },
    {
      "cell_type": "code",
      "source": [
        "import numpy as np\n",
        "import matplotlib.pyplot as plt\n",
        "\n",
        "# AND 데이터셋 정의\n",
        "X_and = np.array([[0, 0], [0, 1], [1, 0], [1, 1]])\n",
        "y_and = np.array([[0], [0], [0], [1]])\n",
        "\n",
        "# XOR 데이터셋 정의\n",
        "X_xor = np.array([[0, 0], [0, 1], [1, 0], [1, 1]])\n",
        "y_xor = np.array([[0], [1], [1], [0]])\n",
        "\n",
        "# 경사 하강법을 수행하고 손실을 계산하는 함수 정의\n",
        "def gradient_descent(X, y, learning_rate=0.1, n_iterations=10000):\n",
        "    m = len(X)  # 샘플 수\n",
        "    X_b = np.c_[np.ones((X.shape[0], 1)), X]  # 바이어스 항 추가\n",
        "    theta = np.random.randn(X_b.shape[1], 1)  # 가중치를 임의의 값으로 초기화\n",
        "    loss_history = []  # 손실 히스토리 초기화\n",
        "\n",
        "    for iteration in range(n_iterations):\n",
        "        z = X_b.dot(theta)  # 선형 모델의 출력 계산\n",
        "        y_pred = sigmoid(z)  # 예측 값 계산\n",
        "        gradients = X_b.T.dot(y_pred - y) / len(y)  # 그래디언트 계산\n",
        "        theta = theta - learning_rate * gradients  # 가중치 업데이트\n",
        "        loss = compute_loss(y, y_pred)  # 손실 계산\n",
        "        loss_history.append(loss)  # 손실 히스토리에 추가\n",
        "\n",
        "    return theta, loss_history  # 가중치와 손실 히스토리 반환\n",
        "\n",
        "# 시그모이드 함수 정의\n",
        "def sigmoid(z):\n",
        "    return 1 / (1 + np.exp(-z))\n",
        "\n",
        "# 이진 교차 엔트로피 손실 함수 정의\n",
        "def compute_loss(y_true, y_pred):\n",
        "    m = len(y_true)\n",
        "    return -1/m * np.sum(y_true * np.log(y_pred) + (1 - y_true) * np.log(1 - y_pred))\n",
        "\n",
        "# AND와 XOR 데이터셋에 대해 경사 하강법 수행\n",
        "theta_and, loss_history_and = gradient_descent(X_and, y_and)\n",
        "theta_xor, loss_history_xor = gradient_descent(X_xor, y_xor)\n",
        "\n",
        "# 손실 및 데이터셋 플롯\n",
        "fig, ax = plt.subplots(2, 2, figsize=(12, 10))\n",
        "\n",
        "# AND 네트워크의 손실 변화를 플롯\n",
        "ax[0, 0].plot(range(len(loss_history_and)), loss_history_and, color='blue')\n",
        "ax[0, 0].set_xlabel('Iteration')\n",
        "ax[0, 0].set_ylabel('Loss')\n",
        "ax[0, 0].set_title('AND Network Loss over Iterations')\n",
        "\n",
        "# AND 데이터셋 플롯\n",
        "ax[0, 1].scatter(X_and[:, 0], X_and[:, 1], c=y_and.ravel(), edgecolors='k', marker='o', cmap='coolwarm')\n",
        "for i, txt in enumerate(y_and.ravel()):\n",
        "    ax[0, 1].annotate(txt, (X_and[i, 0], X_and[i, 1]), textcoords=\"offset points\", xytext=(0,10), ha='center')\n",
        "ax[0, 1].set_xlabel('$x_1$')\n",
        "ax[0, 1].set_ylabel('$x_2$')\n",
        "ax[0, 1].set_title('AND Data')\n",
        "\n",
        "# XOR 네트워크의 손실 변화를 플롯\n",
        "ax[1, 0].plot(range(len(loss_history_xor)), loss_history_xor, color='blue')\n",
        "ax[1, 0].set_xlabel('Iteration')\n",
        "ax[1, 0].set_ylabel('Loss')\n",
        "ax[1, 0].set_title('XOR Network Loss over Iterations')\n",
        "\n",
        "# XOR 데이터셋 플롯\n",
        "ax[1, 1].scatter(X_xor[:, 0], X_xor[:, 1], c=y_xor.ravel(), edgecolors='k', marker='o', cmap='coolwarm')\n",
        "for i, txt in enumerate(y_xor.ravel()):\n",
        "    ax[1, 1].annotate(txt, (X_xor[i, 0], X_xor[i, 1]), textcoords=\"offset points\", xytext=(0,10), ha='center')\n",
        "ax[1, 1].set_xlabel('$x_1$')\n",
        "ax[1, 1].set_ylabel('$x_2$')\n",
        "ax[1, 1].set_title('XOR Data')\n",
        "\n",
        "plt.tight_layout()  # 플롯 레이아웃 조정\n",
        "plt.show()  # 플롯 표시"
      ],
      "metadata": {
        "colab": {
          "base_uri": "https://localhost:8080/",
          "height": 625
        },
        "id": "pXHHIomvIJa7",
        "outputId": "8062b5fb-127e-4f8f-b805-55bdc74039d0"
      },
      "execution_count": 3,
      "outputs": [
        {
          "output_type": "display_data",
          "data": {
            "text/plain": [
              "<Figure size 1200x1000 with 4 Axes>"
            ],
            "image/png": "[encoded data removed]"
          },
          "metadata": {}
        }
      ]
    },
    {
      "cell_type": "markdown",
      "source": [
        "# MLP without backpropagation"
      ],
      "metadata": {
        "id": "TghZhrQwLBj5"
      }
    },
    {
      "cell_type": "code",
      "source": [
        "import numpy as np\n",
        "\n",
        "# 간단한 데이터셋 생성\n",
        "X = np.array([[0, 0],\n",
        "              [0, 1],\n",
        "              [1, 0],\n",
        "              [1, 1]])\n",
        "y = np.array([[0],\n",
        "              [1],\n",
        "              [1],\n",
        "              [0]])\n",
        "\n",
        "# MLP 파라미터\n",
        "input_size = 2\n",
        "hidden_size = 2\n",
        "output_size = 1\n",
        "\n",
        "# 가중치와 바이어스 초기화\n",
        "np.random.seed(42)  # 재현성을 위해 시드 설정\n",
        "\n",
        "# W1과 b1는 입력층과 은닉층 사이의 가중치와 바이어스입니다.\n",
        "# W2와 b2는 은닉층과 출력층 사이의 가중치와 바이어스입니다.\n",
        "W1 = np.random.randn(input_size, hidden_size)\n",
        "b1 = np.random.randn(hidden_size)\n",
        "W2 = np.random.randn(hidden_size, output_size)\n",
        "b2 = np.random.randn(output_size)\n",
        "\n",
        "# 활성화 함수 (히든 레이어에 ReLU, 출력 레이어에 sigmoid 사용)\n",
        "def relu(x):\n",
        "    return np.maximum(0, x)\n",
        "\n",
        "def sigmoid(x):\n",
        "    return 1 / (1 + np.exp(-x))\n",
        "\n",
        "def forward_pass(X, W1, b1, W2, b2):\n",
        "  \"\"\"\n",
        "  하나의 은닉층을 가진 단순 다층 퍼셉트론(MLP)을 통해 순전파를 수행합니다.\n",
        "\n",
        "  매개변수:\n",
        "  X (numpy.ndarray): 입력 데이터로, 형태는 (샘플 수, 특징 수)입니다.\n",
        "  W1 (numpy.ndarray): 입력층에서 은닉층으로의 가중치 행렬로, 형태는 (특징 수, 은닉층 뉴런 수)입니다.\n",
        "  b1 (numpy.ndarray): 은닉층의 바이어스 벡터로, 형태는 (은닉층 뉴런 수,)입니다.\n",
        "  W2 (numpy.ndarray): 은닉층에서 출력층으로의 가중치 행렬로, 형태는 (은닉층 뉴런 수, 출력층 뉴런 수)입니다.\n",
        "  b2 (numpy.ndarray): 출력층의 바이어스 벡터로, 형태는 (출력층 뉴런 수,)입니다.\n",
        "\n",
        "  반환값:\n",
        "  numpy.ndarray: 순전파 후 MLP의 출력으로, 형태는 (샘플 수, 출력층 뉴런 수)입니다.\n",
        "  \"\"\"\n",
        "  z1 = np.dot(X, W1) + b1  # 입력층에서 은닉층으로의 선형 변환\n",
        "  a1 = relu(z1)  # 은닉층 활성화 함수 적용\n",
        "\n",
        "  z2 = np.dot(a1, W2) + b2  # 은닉층에서 출력층으로의 선형 변환\n",
        "  a2 = sigmoid(z2)  # 출력층 활성화 함수 적용\n",
        "\n",
        "  return a2\n",
        "\n",
        "\n",
        "# 순전파 수행\n",
        "output = forward_pass(X, W1, b1, W2, b2)\n",
        "\n",
        "# 결과 출력\n",
        "print(\"Output of MLP forward pass:\")\n",
        "print(output)"
      ],
      "metadata": {
        "colab": {
          "base_uri": "https://localhost:8080/"
        },
        "id": "2f4sMw5PIGuL",
        "outputId": "6596b057-a454-4df5-f5ce-c0dde3c0e62f"
      },
      "execution_count": 4,
      "outputs": [
        {
          "output_type": "stream",
          "name": "stdout",
          "text": [
            "Output of MLP forward pass:\n",
            "[[0.38474066]\n",
            " [0.76363755]\n",
            " [0.48629467]\n",
            " [0.86424862]]\n"
          ]
        }
      ]
    },
    {
      "cell_type": "markdown",
      "source": [
        "# 후진 모드 자동 미분\n",
        "- 이 코드에서는 `Variable` 클래스를 통해 값과 로컬 그래디언트를 저장하고, 덧셈과 곱셈 연산을 정의하여 자동 미분을 수행합니다. 주요 함수와 클래스는 다음과 같습니다.\n",
        "\n",
        "1. **Variable 클래스**\n",
        "   - 변수의 값과 로컬 그래디언트를 저장합니다.\n",
        "   - 덧셈 (`__add__`)과 곱셈 (`__mul__`) 연산을 지원합니다.\n",
        "\n",
        "2. **add 함수**\n",
        "   - 두 변수의 덧셈을 수행하고 로컬 그래디언트를 계산합니다.\n",
        "\n",
        "3. **mul 함수**\n",
        "   - 두 변수의 곱셈을 수행하고 로컬 그래디언트를 계산합니다.\n",
        "\n",
        "4. **get_gradients 함수**\n",
        "   - 주어진 변수에 대한 그래디언트를 계산합니다.\n",
        "   - 내부적으로 `compute_gradients` 함수를 사용하여 그래디언트를 재귀적으로 계산합니다."
      ],
      "metadata": {
        "id": "K5akYMxVLScv"
      }
    },
    {
      "cell_type": "code",
      "source": [
        "from collections import defaultdict\n",
        "\n",
        "class Variable:\n",
        "  def __init__(self, value, local_gradients=()):\n",
        "      \"\"\"\n",
        "      Variable 클래스는 값과 로컬 그래디언트를 저장합니다.\n",
        "\n",
        "      매개변수:\n",
        "      value (float): 변수의 값.\n",
        "      local_gradients (tuple): 로컬 그래디언트의 튜플.\n",
        "      \"\"\"\n",
        "      self.value = value\n",
        "      self.local_gradients = local_gradients\n",
        "\n",
        "  def __add__(self, other):\n",
        "      \"\"\"\n",
        "      변수의 덧셈 연산을 정의합니다.\n",
        "\n",
        "      매개변수:\n",
        "      other (Variable): 더할 다른 변수.\n",
        "\n",
        "      반환값:\n",
        "      Variable: 결과 변수.\n",
        "      \"\"\"\n",
        "      return add(self, other)\n",
        "\n",
        "  def __mul__(self, other):\n",
        "      \"\"\"\n",
        "      변수의 곱셈 연산을 정의합니다.\n",
        "\n",
        "      매개변수:\n",
        "      other (Variable): 곱할 다른 변수.\n",
        "\n",
        "      반환값:\n",
        "      Variable: 결과 변수.\n",
        "      \"\"\"\n",
        "      return mul(self, other)\n",
        "\n",
        "def add(a, b):\n",
        "  \"\"\"\n",
        "  두 변수의 덧셈을 수행하고 로컬 그래디언트를 계산합니다.\n",
        "\n",
        "  매개변수:\n",
        "  a (Variable): 첫 번째 변수.\n",
        "  b (Variable): 두 번째 변수.\n",
        "\n",
        "  반환값:\n",
        "  Variable: 결과 변수.\n",
        "  \"\"\"\n",
        "  value = a.value + b.value\n",
        "  local_gradients = (\n",
        "      (a, 1),\n",
        "      (b, 1)\n",
        "  )\n",
        "  return Variable(value, local_gradients)\n",
        "\n",
        "def mul(a, b):\n",
        "  \"\"\"\n",
        "  두 변수의 곱셈을 수행하고 로컬 그래디언트를 계산합니다.\n",
        "\n",
        "  매개변수:\n",
        "  a (Variable): 첫 번째 변수.\n",
        "  b (Variable): 두 번째 변수.\n",
        "\n",
        "  반환값:\n",
        "  Variable: 결과 변수.\n",
        "  \"\"\"\n",
        "  value = a.value * b.value\n",
        "  local_gradients = (\n",
        "      (a, b.value),\n",
        "      (b, a.value)\n",
        "  )\n",
        "  return Variable(value, local_gradients)\n",
        "\n",
        "def get_gradients(variable):\n",
        "  \"\"\"\n",
        "  변수의 그래디언트를 계산합니다.\n",
        "\n",
        "  매개변수:\n",
        "  variable (Variable): 그래디언트를 계산할 변수.\n",
        "\n",
        "  반환값:\n",
        "  dict: 변수에 대한 그래디언트 딕셔너리.\n",
        "  \"\"\"\n",
        "  gradients = defaultdict(lambda: 0)\n",
        "\n",
        "  def compute_gradients(variable, path_value):\n",
        "      \"\"\"\n",
        "      변수에 대한 그래디언트를 재귀적으로 계산합니다.\n",
        "\n",
        "      매개변수:\n",
        "      variable (Variable): 그래디언트를 계산할 현재 변수.\n",
        "      path_value (float): 현재 변수까지의 경로 값.\n",
        "\n",
        "      설명:\n",
        "      이 함수는 변수의 로컬 그래디언트를 사용하여 모든 자식 변수에 대한 그래디언트를 재귀적으로 계산합니다.\n",
        "      로컬 그래디언트를 통해 자식 변수에 대한 경로 값을 업데이트하고,\n",
        "      이를 다시 자식 변수의 그래디언트 계산에 사용합니다.\n",
        "      \"\"\"\n",
        "      for child_variable, local_gradient in variable.local_gradients:\n",
        "          value_of_path_to_child = path_value * local_gradient  # 자식 변수에 대한 경로 값 계산\n",
        "          gradients[child_variable] += value_of_path_to_child  # 자식 변수의 그래디언트 업데이트\n",
        "          compute_gradients(child_variable, value_of_path_to_child)  # 자식 변수에 대해 재귀적으로 그래디언트 계산\n",
        "\n",
        "  compute_gradients(variable, path_value=1)  # 초기 경로 값 1로 시작\n",
        "  return gradients"
      ],
      "metadata": {
        "id": "zuqBnQM0IC1b"
      },
      "execution_count": 5,
      "outputs": []
    },
    {
      "cell_type": "markdown",
      "source": [
        "# 역전파"
      ],
      "metadata": {
        "id": "8jMcecSiLtO2"
      }
    },
    {
      "cell_type": "code",
      "source": [
        "import numpy as np\n",
        "import matplotlib.pyplot as plt\n",
        "\n",
        "# AND 데이터셋 정의\n",
        "X_and = np.array([[0, 0], [0, 1], [1, 0], [1, 1]])\n",
        "y_and = np.array([[0], [0], [0], [1]])\n",
        "\n",
        "# XOR 데이터셋 정의\n",
        "X_xor = np.array([[0, 0], [0, 1], [1, 0], [1, 1]])\n",
        "y_xor = np.array([[0], [1], [1], [0]])\n",
        "\n",
        "# 경사 하강법을 수행하고 손실을 계산하는 함수 정의\n",
        "def gradient_descent(X, y, learning_rate=0.1, n_iterations=10000):\n",
        "    \"\"\"\n",
        "    주어진 데이터셋에 대해 경사 하강법을 수행하여 가중치를 업데이트하고 손실을 계산합니다.\n",
        "\n",
        "    매개변수:\n",
        "    X (numpy.ndarray): 입력 데이터.\n",
        "    y (numpy.ndarray): 출력 데이터.\n",
        "    learning_rate (float): 학습률.\n",
        "    n_iterations (int): 반복 횟수.\n",
        "\n",
        "    반환값:\n",
        "    tuple: 최종 가중치 (theta)와 손실 히스토리 (loss_history).\n",
        "    \"\"\"\n",
        "    m = len(X)\n",
        "    X_b = np.c_[np.ones((X.shape[0], 1)), X]  # 바이어스 항 추가\n",
        "    theta = np.random.randn(X_b.shape[1], 1)  # 가중치를 임의의 값으로 초기화\n",
        "    loss_history = []\n",
        "\n",
        "    for iteration in range(n_iterations):\n",
        "        z = X_b.dot(theta)  # 예측 값 계산\n",
        "        y_pred = sigmoid(z)  # 시그모이드 함수 적용\n",
        "        gradients = X_b.T.dot(y_pred - y) / len(y)  # 그래디언트 계산\n",
        "        theta = theta - learning_rate * gradients  # 가중치 업데이트\n",
        "        loss = compute_loss(y, y_pred)  # 손실 계산\n",
        "        loss_history.append(loss)  # 손실 히스토리 기록\n",
        "\n",
        "    return theta, loss_history\n",
        "\n",
        "# 시그모이드 함수 정의\n",
        "def sigmoid(z):\n",
        "    \"\"\"\n",
        "    시그모이드 활성화 함수를 적용합니다.\n",
        "\n",
        "    매개변수:\n",
        "    z (numpy.ndarray): 입력 값.\n",
        "\n",
        "    반환값:\n",
        "    numpy.ndarray: 시그모이드 함수가 적용된 값.\n",
        "    \"\"\"\n",
        "    return 1 / (1 + np.exp(-z))\n",
        "\n",
        "# 이진 교차 엔트로피 손실 함수 정의\n",
        "def compute_loss(y_true, y_pred):\n",
        "    \"\"\"\n",
        "    이진 교차 엔트로피 손실을 계산합니다.\n",
        "\n",
        "    매개변수:\n",
        "    y_true (numpy.ndarray): 실제 값.\n",
        "    y_pred (numpy.ndarray): 예측 값.\n",
        "\n",
        "    반환값:\n",
        "    float: 이진 교차 엔트로피 손실 값.\n",
        "    \"\"\"\n",
        "    m = len(y_true)\n",
        "    return -1/m * np.sum(y_true * np.log(y_pred) + (1 - y_true) * np.log(1 - y_pred))\n",
        "\n",
        "# 단순 신경망 클래스 정의\n",
        "class SimpleNeuralNetwork:\n",
        "    def __init__(self, input_size, hidden_size, output_size):\n",
        "        \"\"\"\n",
        "        단순 신경망을 초기화합니다.\n",
        "\n",
        "        매개변수:\n",
        "        input_size (int): 입력층의 뉴런 수.\n",
        "        hidden_size (int): 은닉층의 뉴런 수.\n",
        "        output_size (int): 출력층의 뉴런 수.\n",
        "        \"\"\"\n",
        "        self.W1 = np.random.randn(input_size, hidden_size)  # 입력층에서 은닉층으로의 가중치 초기화\n",
        "        self.b1 = np.random.randn(hidden_size)  # 은닉층의 바이어스 초기화\n",
        "        self.W2 = np.random.randn(hidden_size, output_size)  # 은닉층에서 출력층으로의 가중치 초기화\n",
        "        self.b2 = np.random.randn(output_size)  # 출력층의 바이어스 초기화\n",
        "\n",
        "    def forward(self, X):\n",
        "        \"\"\"\n",
        "        순전파를 수행합니다.\n",
        "\n",
        "        매개변수:\n",
        "        X (numpy.ndarray): 입력 데이터.\n",
        "\n",
        "        반환값:\n",
        "        numpy.ndarray: 출력 데이터.\n",
        "        \"\"\"\n",
        "        self.Z1 = np.dot(X, self.W1) + self.b1  # 입력층에서 은닉층으로의 선형 변환\n",
        "        self.A1 = sigmoid(self.Z1)  # 은닉층 활성화 함수 적용\n",
        "        self.Z2 = np.dot(self.A1, self.W2) + self.b2  # 은닉층에서 출력층으로의 선형 변환\n",
        "        self.A2 = sigmoid(self.Z2)  # 출력층 활성화 함수 적용\n",
        "        return self.A2\n",
        "\n",
        "    def backward(self, X, y, y_pred, learning_rate):\n",
        "        \"\"\"\n",
        "        역전파를 수행하여 가중치와 바이어스를 업데이트합니다.\n",
        "\n",
        "        매개변수:\n",
        "        X (numpy.ndarray): 입력 데이터.\n",
        "        y (numpy.ndarray): 실제 값.\n",
        "        y_pred (numpy.ndarray): 예측 값.\n",
        "        learning_rate (float): 학습률.\n",
        "        \"\"\"\n",
        "        m = len(y)\n",
        "        dZ2 = y_pred - y  # 출력층의 그래디언트 계산\n",
        "        dW2 = np.dot(self.A1.T, dZ2) / m  # 은닉층에서 출력층으로의 가중치 그래디언트 계산\n",
        "        db2 = np.sum(dZ2, axis=0) / m  # 출력층의 바이어스 그래디언트 계산\n",
        "        dZ1 = np.dot(dZ2, self.W2.T) * self.A1 * (1 - self.A1)  # 은닉층의 그래디언트 계산\n",
        "        dW1 = np.dot(X.T, dZ1) / m  # 입력층에서 은닉층으로의 가중치 그래디언트 계산\n",
        "        db1 = np.sum(dZ1, axis=0) / m  # 은닉층의 바이어스 그래디언트 계산\n",
        "\n",
        "        self.W1 -= learning_rate * dW1  # 가중치 업데이트\n",
        "        self.b1 -= learning_rate * db1  # 바이어스 업데이트\n",
        "        self.W2 -= learning_rate * dW2  # 가중치 업데이트\n",
        "        self.b2 -= learning_rate * db2  # 바이어스 업데이트\n",
        "\n",
        "    def train(self, X, y, learning_rate=0.1, n_iterations=10000):\n",
        "        \"\"\"\n",
        "        주어진 데이터셋에 대해 신경망을 학습합니다.\n",
        "\n",
        "        매개변수:\n",
        "        X (numpy.ndarray): 입력 데이터.\n",
        "        y (numpy.ndarray): 실제 값.\n",
        "        learning_rate (float): 학습률.\n",
        "        n_iterations (int): 반복 횟수.\n",
        "\n",
        "        반환값:\n",
        "        list: 손실 히스토리.\n",
        "        \"\"\"\n",
        "        loss_history = []\n",
        "        for iteration in range(n_iterations):\n",
        "            y_pred = self.forward(X)  # 순전파 수행\n",
        "            loss = compute_loss(y, y_pred)  # 손실 계산\n",
        "            loss_history.append(loss)  # 손실 히스토리 기록\n",
        "            self.backward(X, y, y_pred, learning_rate)  # 역전파 수행\n",
        "        return loss_history\n",
        "\n",
        "# XOR 데이터셋에 대해 로지스틱 회귀 경사 하강법 수행\n",
        "theta_xor, loss_history_xor = gradient_descent(X_xor, y_xor)\n",
        "\n",
        "# XOR 데이터셋에 대해 신경망 초기화 및 학습\n",
        "nn_xor = SimpleNeuralNetwork(input_size=2, hidden_size=2, output_size=1)\n",
        "loss_history_xor_nn = nn_xor.train(X_xor, y_xor)\n",
        "\n",
        "# AND 데이터셋에 대해 경사 하강법 수행\n",
        "theta_and, loss_history_and = gradient_descent(X_and, y_and)\n"
      ],
      "metadata": {
        "id": "dNSsgaIGLXXN"
      },
      "execution_count": 6,
      "outputs": []
    },
    {
      "cell_type": "markdown",
      "source": [
        "- 역전파 적용"
      ],
      "metadata": {
        "id": "ziXGS2KGMdxm"
      }
    },
    {
      "cell_type": "code",
      "source": [
        "# 손실 및 데이터셋 플롯\n",
        "fig, ax = plt.subplots(3, 2, figsize=(18, 15))\n",
        "\n",
        "# AND 네트워크의 손실 변화를 플롯\n",
        "ax[0, 0].plot(range(len(loss_history_and)), loss_history_and, color='blue')\n",
        "ax[0, 0].set_xlabel('Iteration')\n",
        "ax[0, 0].set_ylabel('Loss')\n",
        "ax[0, 0].set_title('AND Network Loss over Iterations')\n",
        "\n",
        "# AND 데이터셋 플롯\n",
        "ax[0, 1].scatter(X_and[:, 0], X_and[:, 1], c=y_and.ravel(), edgecolors='k', marker='o', cmap='coolwarm')\n",
        "for i, txt in enumerate(y_and.ravel()):\n",
        "    ax[0, 1].annotate(txt, (X_and[i, 0], X_and[i, 1]), textcoords=\"offset points\", xytext=(0,10), ha='center')\n",
        "ax[0, 1].set_xlabel('$x_1$')\n",
        "ax[0, 1].set_ylabel('$x_2$')\n",
        "ax[0, 1].set_title('AND Data')\n",
        "\n",
        "# 로지스틱 회귀로 XOR 네트워크의 손실 변화를 플롯\n",
        "ax[1, 0].plot(range(len(loss_history_xor)), loss_history_xor, color='blue')\n",
        "ax[1, 0].set_xlabel('Iteration')\n",
        "ax[1, 0].set_ylabel('Loss')\n",
        "ax[1, 0].set_title('XOR Network (Logistic Regression) Loss over Iterations')\n",
        "\n",
        "# XOR 데이터셋 플롯\n",
        "ax[1, 1].scatter(X_xor[:, 0], X_xor[:, 1], c=y_xor.ravel(), edgecolors='k', marker='o', cmap='coolwarm')\n",
        "for i, txt in enumerate(y_xor.ravel()):\n",
        "    ax[1, 1].annotate(txt, (X_xor[i, 0], X_xor[i, 1]), textcoords=\"offset points\", xytext=(0,10), ha='center')\n",
        "ax[1, 1].set_xlabel('$x_1$')\n",
        "ax[1, 1].set_ylabel('$x_2$')\n",
        "ax[1, 1].set_title('XOR Data')\n",
        "\n",
        "# 신경망으로 XOR 네트워크의 손실 변화를 플롯\n",
        "ax[2, 0].plot(range(len(loss_history_xor_nn)), loss_history_xor_nn, color='blue')\n",
        "ax[2, 0].set_xlabel('Iteration')\n",
        "ax[2, 0].set_ylabel('Loss')\n",
        "ax[2, 0].set_title('XOR Network (Neural Network) Loss over Iterations')\n",
        "\n",
        "# 신경망 결정 경계 플롯\n",
        "xx, yy = np.meshgrid(np.arange(0, 1.01, 0.01), np.arange(0, 1.01, 0.01))\n",
        "grid = np.c_[xx.ravel(), yy.ravel()]\n",
        "preds = nn_xor.forward(grid)\n",
        "preds = preds.reshape(xx.shape)\n",
        "ax[2, 1].contourf(xx, yy, preds, levels=[0, 0.5, 1], alpha=0.2, colors=['blue', 'red'])\n",
        "ax[2, 1].scatter(X_xor[:, 0], X_xor[:, 1], c=y_xor.ravel(), edgecolors='k', marker='o', cmap='coolwarm')\n",
        "for i, txt in enumerate(y_xor.ravel()):\n",
        "    ax[2, 1].annotate(txt, (X_xor[i, 0], X_xor[i, 1]), textcoords=\"offset points\", xytext=(0,10), ha='center')\n",
        "ax[2, 1].set_xlabel('$x_1$')\n",
        "ax[2, 1].set_ylabel('$x_2$')\n",
        "ax[2, 1].set_title('XOR Neural Network Decision Boundary')\n",
        "\n",
        "plt.tight_layout()\n",
        "plt.show()"
      ],
      "metadata": {
        "colab": {
          "base_uri": "https://localhost:8080/",
          "height": 624
        },
        "id": "xCQ3VM5TLx-Y",
        "outputId": "8744e3e8-80be-48c2-9377-449d04a7536d"
      },
      "execution_count": 7,
      "outputs": [
        {
          "output_type": "display_data",
          "data": {
            "text/plain": [
              "<Figure size 1800x1500 with 6 Axes>"
            ],
            "image/png": "[encoded data removed]"
          },
          "metadata": {}
        }
      ]
    },
    {
      "cell_type": "markdown",
      "source": [
        "# MLP Comparison (NumPy vs Tensorflow)\n",
        "- Tensorflow를 쓰는 이유 : GPU 연산!\n",
        "- 모델의 성능 속도 비교"
      ],
      "metadata": {
        "id": "qpRA37KwM0fW"
      }
    },
    {
      "cell_type": "markdown",
      "source": [
        "## Step 1. Create an MLP with numpy"
      ],
      "metadata": {
        "id": "U-F2-RBRM1Kt"
      }
    },
    {
      "cell_type": "code",
      "source": [
        "import numpy as np\n",
        "import matplotlib.pyplot as plt\n",
        "from sklearn.model_selection import train_test_split\n",
        "from sklearn.datasets import make_moons\n",
        "import time\n",
        "\n",
        "# 데이터셋 생성\n",
        "X, y = make_moons(n_samples=1000, noise=0.2, random_state=42)\n",
        "y = y.reshape(-1, 1)  # y를 열 벡터로 변환\n",
        "X_train, X_val, y_train, y_val = train_test_split(X, y, test_size=0.2, random_state=42)  # 데이터셋을 학습용과 검증용으로 분할\n",
        "\n",
        "import numpy as np\n",
        "import matplotlib.pyplot as plt\n",
        "from sklearn.model_selection import train_test_split\n",
        "from sklearn.datasets import make_moons\n",
        "import time\n",
        "import tensorflow as tf\n",
        "\n",
        "# 데이터셋 생성\n",
        "X, y = make_moons(n_samples=1000, noise=0.2, random_state=42)\n",
        "y = y.reshape(-1, 1)  # y를 열 벡터로 변환\n",
        "X_train, X_val, y_train, y_val = train_test_split(X, y, test_size=0.2, random_state=42)  # 데이터셋을 학습용과 검증용으로 분할\n",
        "\n",
        "# 단순 다층 퍼셉트론(MLP) 클래스 정의\n",
        "class SimpleMLP:\n",
        "    \"\"\"\n",
        "    단순 다층 퍼셉트론(MLP) 클래스\n",
        "\n",
        "    매개변수:\n",
        "    input_size (int): 입력층의 뉴런 수\n",
        "    hidden_size (int): 은닉층의 뉴런 수\n",
        "    output_size (int): 출력층의 뉴런 수\n",
        "\n",
        "    메서드:\n",
        "    forward(X): 순전파를 수행하여 출력값을 계산합니다.\n",
        "    sigmoid(z): 시그모이드 활성화 함수를 적용합니다.\n",
        "    compute_loss(y_true, y_pred): 이진 교차 엔트로피 손실을 계산합니다.\n",
        "    backward(X, y, y_pred, learning_rate): 역전파를 수행하여 가중치와 바이어스를 업데이트합니다.\n",
        "    train(X, y, X_val, y_val, learning_rate, n_iterations): 모델을 학습시키고 손실 히스토리를 반환합니다.\n",
        "    \"\"\"\n",
        "    def __init__(self, input_size, hidden_size, output_size):\n",
        "        self.W1 = np.random.randn(input_size, hidden_size)  # 입력층에서 은닉층으로의 가중치 초기화\n",
        "        self.b1 = np.zeros(hidden_size)  # 은닉층의 바이어스 초기화\n",
        "        self.W2 = np.random.randn(hidden_size, output_size)  # 은닉층에서 출력층으로의 가중치 초기화\n",
        "        self.b2 = np.zeros(output_size)  # 출력층의 바이어스 초기화\n",
        "\n",
        "        # Adam 옵티마이저를 위한 매개변수 초기화\n",
        "        self.mW1, self.vW1 = np.zeros_like(self.W1), np.zeros_like(self.W1)\n",
        "        self.mb1, self.vb1 = np.zeros_like(self.b1), np.zeros_like(self.b1)\n",
        "        self.mW2, self.vW2 = np.zeros_like(self.W2), np.zeros_like(self.W2)\n",
        "        self.mb2, self.vb2 = np.zeros_like(self.b2), np.zeros_like(self.b2)\n",
        "        self.beta1, self.beta2 = 0.9, 0.999\n",
        "        self.epsilon = 1e-8\n",
        "        self.t = 0\n",
        "\n",
        "    def forward(self, X):\n",
        "        self.Z1 = np.dot(X, self.W1) + self.b1  # 입력층에서 은닉층으로의 선형 변환\n",
        "        self.A1 = self.sigmoid(self.Z1)  # 은닉층 활성화 함수 적용\n",
        "        self.Z2 = np.dot(self.A1, self.W2) + self.b2  # 은닉층에서 출력층으로의 선형 변환\n",
        "        self.A2 = self.sigmoid(self.Z2)  # 출력층 활성화 함수 적용\n",
        "        return self.A2\n",
        "\n",
        "    def sigmoid(self, z):\n",
        "        return 1 / (1 + np.exp(-z))\n",
        "\n",
        "    def compute_loss(self, y_true, y_pred):\n",
        "        m = len(y_true)\n",
        "        return -1/m * np.sum(y_true * np.log(y_pred) + (1 - y_true) * np.log(1 - y_pred))\n",
        "\n",
        "    def backward(self, X, y, y_pred, learning_rate):\n",
        "        m = len(y)\n",
        "        dZ2 = y_pred - y  # 출력층의 그래디언트 계산\n",
        "        dW2 = np.dot(self.A1.T, dZ2) / m  # 은닉층에서 출력층으로의 가중치 그래디언트 계산\n",
        "        db2 = np.sum(dZ2, axis=0) / m  # 출력층의 바이어스 그래디언트 계산\n",
        "        dZ1 = np.dot(dZ2, self.W2.T) * self.A1 * (1 - self.A1)  # 은닉층의 그래디언트 계산\n",
        "        dW1 = np.dot(X.T, dZ1) / m  # 입력층에서 은닉층으로의 가중치 그래디언트 계산\n",
        "        db1 = np.sum(dZ1, axis=0) / m  # 은닉층의 바이어스 그래디언트 계산\n",
        "\n",
        "        # Adam 옵티마이저를 사용한 가중치와 바이어스 업데이트\n",
        "        self.t += 1  # 시간 스텝 증가\n",
        "        self.mW1 = self.beta1 * self.mW1 + (1 - self.beta1) * dW1\n",
        "        self.vW1 = self.beta2 * self.vW1 + (1 - self.beta2) * (dW1 ** 2)\n",
        "        mW1_hat = self.mW1 / (1 - self.beta1 ** self.t)\n",
        "        vW1_hat = self.vW1 / (1 - self.beta2 ** self.t)\n",
        "        self.W1 -= learning_rate * mW1_hat / (np.sqrt(vW1_hat) + self.epsilon)\n",
        "\n",
        "        self.mb1 = self.beta1 * self.mb1 + (1 - self.beta1) * db1\n",
        "        self.vb1 = self.beta2 * self.vb1 + (1 - self.beta2) * (db1 ** 2)\n",
        "        mb1_hat = self.mb1 / (1 - self.beta1 ** self.t)\n",
        "        vb1_hat = self.vb1 / (1 - self.beta2 ** self.t)\n",
        "        self.b1 -= learning_rate * mb1_hat / (np.sqrt(vb1_hat) + self.epsilon)\n",
        "\n",
        "        self.mW2 = self.beta1 * self.mW2 + (1 - self.beta1) * dW2\n",
        "        self.vW2 = self.beta2 * self.vW2 + (1 - self.beta2) * (dW2 ** 2)\n",
        "        mW2_hat = self.mW2 / (1 - self.beta1 ** self.t)\n",
        "        vW2_hat = self.vW2 / (1 - self.beta2 ** self.t)\n",
        "        self.W2 -= learning_rate * mW2_hat / (np.sqrt(vW2_hat) + self.epsilon)\n",
        "\n",
        "        self.mb2 = self.beta1 * self.mb2 + (1 - self.beta1) * db2\n",
        "        self.vb2 = self.beta2 * self.vb2 + (1 - self.beta2) * (db2 ** 2)\n",
        "        mb2_hat = self.mb2 / (1 - self.beta1 ** self.t)\n",
        "        vb2_hat = self.vb2 / (1 - self.beta2 ** self.t)\n",
        "        self.b2 -= learning_rate * mb2_hat / (np.sqrt(vb2_hat) + self.epsilon)\n",
        "\n",
        "    def train(self, X, y, X_val, y_val, learning_rate=0.001, n_iterations=10000):\n",
        "        train_loss_history = []  # 학습 손실 히스토리\n",
        "        val_loss_history = []  # 검증 손실 히스토리\n",
        "        for iteration in range(n_iterations):\n",
        "            y_pred = self.forward(X)  # 순전파 수행\n",
        "            train_loss = self.compute_loss(y, y_pred)  # 학습 손실 계산\n",
        "            train_loss_history.append(train_loss)  # 학습 손실 히스토리 기록\n",
        "            self.backward(X, y, y_pred, learning_rate)  # 역전파 수행\n",
        "\n",
        "            y_val_pred = self.forward(X_val)  # 검증 데이터에 대한 예측 수행\n",
        "            val_loss = self.compute_loss(y_val, y_val_pred)  # 검증 손실 계산\n",
        "            val_loss_history.append(val_loss)  # 검증 손실 히스토리 기록\n",
        "        return train_loss_history, val_loss_history\n",
        "\n",
        "# Numpy MLP 학습 및 시간 측정\n",
        "mlp_numpy = SimpleMLP(input_size=2, hidden_size=5, output_size=1)\n",
        "\n",
        "start_time_numpy = time.time()\n",
        "train_loss_history_numpy, val_loss_history_numpy = mlp_numpy.train(X_train, y_train, X_val, y_val, learning_rate=0.001, n_iterations=1000)\n",
        "\n",
        "time_numpy = time.time() - start_time_numpy  # 학습 시간 계산"
      ],
      "metadata": {
        "id": "5ZSBFqwtM201"
      },
      "execution_count": 8,
      "outputs": []
    },
    {
      "cell_type": "markdown",
      "source": [
        "## Step 2. Tensorflow"
      ],
      "metadata": {
        "id": "nVfxg_SUM5ap"
      }
    },
    {
      "cell_type": "code",
      "source": [
        "import tensorflow as tf\n",
        "\n",
        "# TensorFlow 모델 생성 및 컴파일\n",
        "model_tf = tf.keras.Sequential([\n",
        "    tf.keras.layers.Dense(10, activation='relu', input_shape=(2,)),  # 첫 번째 은닉층, 뉴런 수를 증가하고 ReLU 활성화 함수 사용\n",
        "    tf.keras.layers.Dense(10, activation='relu'),  # 두 번째 은닉층 추가\n",
        "    tf.keras.layers.Dense(5, activation='relu'),  # 세 번째 은닉층 추가\n",
        "    tf.keras.layers.Dense(1, activation='sigmoid')  # 출력층\n",
        "])\n",
        "model_tf.compile(optimizer='adam', loss='binary_crossentropy', metrics=['accuracy'])  # 모델 컴파일\n",
        "\n",
        "# TensorFlow 모델 학습 시간 측정\n",
        "start_time_tf = time.time()\n",
        "history_tf = model_tf.fit(X_train, y_train, epochs=10000, validation_data=(X_val, y_val), verbose=0)  # 모델 학습\n",
        "time_tf = time.time() - start_time_tf  # 학습 시간 계산\n",
        "\n",
        "# 학습 시간 출력\n",
        "print(f\"Training time (Numpy MLP): {time_numpy:.2f} seconds\")\n",
        "print(f\"Training time (TensorFlow MLP): {time_tf:.2f} seconds\")"
      ],
      "metadata": {
        "colab": {
          "base_uri": "https://localhost:8080/",
          "height": 407
        },
        "id": "VnKZkgbRM6_m",
        "outputId": "a297cb51-b2e2-44b5-9836-883f2983c333"
      },
      "execution_count": 9,
      "outputs": [
        {
          "output_type": "error",
          "ename": "KeyboardInterrupt",
          "evalue": "",
          "traceback": [
            "\u001b[0;31m---------------------------------------------------------------------------\u001b[0m",
            "\u001b[0;31mKeyboardInterrupt\u001b[0m                         Traceback (most recent call last)",
            "\u001b[0;32m<ipython-input-9-94e1de19e62c>\u001b[0m in \u001b[0;36m<cell line: 14>\u001b[0;34m()\u001b[0m\n\u001b[1;32m     12\u001b[0m \u001b[0;31m# TensorFlow 모델 학습 시간 측정\u001b[0m\u001b[0;34m\u001b[0m\u001b[0;34m\u001b[0m\u001b[0m\n\u001b[1;32m     13\u001b[0m \u001b[0mstart_time_tf\u001b[0m \u001b[0;34m=\u001b[0m \u001b[0mtime\u001b[0m\u001b[0;34m.\u001b[0m\u001b[0mtime\u001b[0m\u001b[0;34m(\u001b[0m\u001b[0;34m)\u001b[0m\u001b[0;34m\u001b[0m\u001b[0;34m\u001b[0m\u001b[0m\n\u001b[0;32m---> 14\u001b[0;31m \u001b[0mhistory_tf\u001b[0m \u001b[0;34m=\u001b[0m \u001b[0mmodel_tf\u001b[0m\u001b[0;34m.\u001b[0m\u001b[0mfit\u001b[0m\u001b[0;34m(\u001b[0m\u001b[0mX_train\u001b[0m\u001b[0;34m,\u001b[0m \u001b[0my_train\u001b[0m\u001b[0;34m,\u001b[0m \u001b[0mepochs\u001b[0m\u001b[0;34m=\u001b[0m\u001b[0;36m10000\u001b[0m\u001b[0;34m,\u001b[0m \u001b[0mvalidation_data\u001b[0m\u001b[0;34m=\u001b[0m\u001b[0;34m(\u001b[0m\u001b[0mX_val\u001b[0m\u001b[0;34m,\u001b[0m \u001b[0my_val\u001b[0m\u001b[0;34m)\u001b[0m\u001b[0;34m,\u001b[0m \u001b[0mverbose\u001b[0m\u001b[0;34m=\u001b[0m\u001b[0;36m0\u001b[0m\u001b[0;34m)\u001b[0m  \u001b[0;31m# 모델 학습\u001b[0m\u001b[0;34m\u001b[0m\u001b[0;34m\u001b[0m\u001b[0m\n\u001b[0m\u001b[1;32m     15\u001b[0m \u001b[0mtime_tf\u001b[0m \u001b[0;34m=\u001b[0m \u001b[0mtime\u001b[0m\u001b[0;34m.\u001b[0m\u001b[0mtime\u001b[0m\u001b[0;34m(\u001b[0m\u001b[0;34m)\u001b[0m \u001b[0;34m-\u001b[0m \u001b[0mstart_time_tf\u001b[0m  \u001b[0;31m# 학습 시간 계산\u001b[0m\u001b[0;34m\u001b[0m\u001b[0;34m\u001b[0m\u001b[0m\n\u001b[1;32m     16\u001b[0m \u001b[0;34m\u001b[0m\u001b[0m\n",
            "\u001b[0;32m/usr/local/lib/python3.10/dist-packages/keras/src/utils/traceback_utils.py\u001b[0m in \u001b[0;36merror_handler\u001b[0;34m(*args, **kwargs)\u001b[0m\n\u001b[1;32m     63\u001b[0m         \u001b[0mfiltered_tb\u001b[0m \u001b[0;34m=\u001b[0m \u001b[0;32mNone\u001b[0m\u001b[0;34m\u001b[0m\u001b[0;34m\u001b[0m\u001b[0m\n\u001b[1;32m     64\u001b[0m         \u001b[0;32mtry\u001b[0m\u001b[0;34m:\u001b[0m\u001b[0;34m\u001b[0m\u001b[0;34m\u001b[0m\u001b[0m\n\u001b[0;32m---> 65\u001b[0;31m             \u001b[0;32mreturn\u001b[0m \u001b[0mfn\u001b[0m\u001b[0;34m(\u001b[0m\u001b[0;34m*\u001b[0m\u001b[0margs\u001b[0m\u001b[0;34m,\u001b[0m \u001b[0;34m**\u001b[0m\u001b[0mkwargs\u001b[0m\u001b[0;34m)\u001b[0m\u001b[0;34m\u001b[0m\u001b[0;34m\u001b[0m\u001b[0m\n\u001b[0m\u001b[1;32m     66\u001b[0m         \u001b[0;32mexcept\u001b[0m \u001b[0mException\u001b[0m \u001b[0;32mas\u001b[0m \u001b[0me\u001b[0m\u001b[0;34m:\u001b[0m\u001b[0;34m\u001b[0m\u001b[0;34m\u001b[0m\u001b[0m\n\u001b[1;32m     67\u001b[0m             \u001b[0mfiltered_tb\u001b[0m \u001b[0;34m=\u001b[0m \u001b[0m_process_traceback_frames\u001b[0m\u001b[0;34m(\u001b[0m\u001b[0me\u001b[0m\u001b[0;34m.\u001b[0m\u001b[0m__traceback__\u001b[0m\u001b[0;34m)\u001b[0m\u001b[0;34m\u001b[0m\u001b[0;34m\u001b[0m\u001b[0m\n",
            "\u001b[0;32m/usr/local/lib/python3.10/dist-packages/keras/src/engine/training.py\u001b[0m in \u001b[0;36mfit\u001b[0;34m(self, x, y, batch_size, epochs, verbose, callbacks, validation_split, validation_data, shuffle, class_weight, sample_weight, initial_epoch, steps_per_epoch, validation_steps, validation_batch_size, validation_freq, max_queue_size, workers, use_multiprocessing)\u001b[0m\n\u001b[1;32m   1796\u001b[0m                 \u001b[0mcallbacks\u001b[0m\u001b[0;34m.\u001b[0m\u001b[0mon_epoch_begin\u001b[0m\u001b[0;34m(\u001b[0m\u001b[0mepoch\u001b[0m\u001b[0;34m)\u001b[0m\u001b[0;34m\u001b[0m\u001b[0;34m\u001b[0m\u001b[0m\n\u001b[1;32m   1797\u001b[0m                 \u001b[0;32mwith\u001b[0m \u001b[0mdata_handler\u001b[0m\u001b[0;34m.\u001b[0m\u001b[0mcatch_stop_iteration\u001b[0m\u001b[0;34m(\u001b[0m\u001b[0;34m)\u001b[0m\u001b[0;34m:\u001b[0m\u001b[0;34m\u001b[0m\u001b[0;34m\u001b[0m\u001b[0m\n\u001b[0;32m-> 1798\u001b[0;31m                     \u001b[0;32mfor\u001b[0m \u001b[0mstep\u001b[0m \u001b[0;32min\u001b[0m \u001b[0mdata_handler\u001b[0m\u001b[0;34m.\u001b[0m\u001b[0msteps\u001b[0m\u001b[0;34m(\u001b[0m\u001b[0;34m)\u001b[0m\u001b[0;34m:\u001b[0m\u001b[0;34m\u001b[0m\u001b[0;34m\u001b[0m\u001b[0m\n\u001b[0m\u001b[1;32m   1799\u001b[0m                         with tf.profiler.experimental.Trace(\n\u001b[1;32m   1800\u001b[0m                             \u001b[0;34m\"train\"\u001b[0m\u001b[0;34m,\u001b[0m\u001b[0;34m\u001b[0m\u001b[0;34m\u001b[0m\u001b[0m\n",
            "\u001b[0;32m/usr/local/lib/python3.10/dist-packages/keras/src/engine/data_adapter.py\u001b[0m in \u001b[0;36msteps\u001b[0;34m(self)\u001b[0m\n\u001b[1;32m   1409\u001b[0m             \u001b[0;32mif\u001b[0m \u001b[0mself\u001b[0m\u001b[0;34m.\u001b[0m\u001b[0m_insufficient_data\u001b[0m\u001b[0;34m:\u001b[0m  \u001b[0;31m# Set by `catch_stop_iteration`.\u001b[0m\u001b[0;34m\u001b[0m\u001b[0;34m\u001b[0m\u001b[0m\n\u001b[1;32m   1410\u001b[0m                 \u001b[0;32mbreak\u001b[0m\u001b[0;34m\u001b[0m\u001b[0;34m\u001b[0m\u001b[0m\n\u001b[0;32m-> 1411\u001b[0;31m             \u001b[0moriginal_spe\u001b[0m \u001b[0;34m=\u001b[0m \u001b[0mself\u001b[0m\u001b[0;34m.\u001b[0m\u001b[0m_steps_per_execution\u001b[0m\u001b[0;34m.\u001b[0m\u001b[0mnumpy\u001b[0m\u001b[0;34m(\u001b[0m\u001b[0;34m)\u001b[0m\u001b[0;34m.\u001b[0m\u001b[0mitem\u001b[0m\u001b[0;34m(\u001b[0m\u001b[0;34m)\u001b[0m\u001b[0;34m\u001b[0m\u001b[0;34m\u001b[0m\u001b[0m\n\u001b[0m\u001b[1;32m   1412\u001b[0m             can_run_full_execution = (\n\u001b[1;32m   1413\u001b[0m                 \u001b[0moriginal_spe\u001b[0m \u001b[0;34m==\u001b[0m \u001b[0;36m1\u001b[0m\u001b[0;34m\u001b[0m\u001b[0;34m\u001b[0m\u001b[0m\n",
            "\u001b[0;32m/usr/local/lib/python3.10/dist-packages/tensorflow/python/ops/resource_variable_ops.py\u001b[0m in \u001b[0;36mnumpy\u001b[0;34m(self)\u001b[0m\n\u001b[1;32m    687\u001b[0m   \u001b[0;32mdef\u001b[0m \u001b[0mnumpy\u001b[0m\u001b[0;34m(\u001b[0m\u001b[0mself\u001b[0m\u001b[0;34m)\u001b[0m\u001b[0;34m:\u001b[0m\u001b[0;34m\u001b[0m\u001b[0;34m\u001b[0m\u001b[0m\n\u001b[1;32m    688\u001b[0m     \u001b[0;32mif\u001b[0m \u001b[0mcontext\u001b[0m\u001b[0;34m.\u001b[0m\u001b[0mexecuting_eagerly\u001b[0m\u001b[0;34m(\u001b[0m\u001b[0;34m)\u001b[0m\u001b[0;34m:\u001b[0m\u001b[0;34m\u001b[0m\u001b[0;34m\u001b[0m\u001b[0m\n\u001b[0;32m--> 689\u001b[0;31m       \u001b[0;32mreturn\u001b[0m \u001b[0mself\u001b[0m\u001b[0;34m.\u001b[0m\u001b[0mread_value\u001b[0m\u001b[0;34m(\u001b[0m\u001b[0;34m)\u001b[0m\u001b[0;34m.\u001b[0m\u001b[0mnumpy\u001b[0m\u001b[0;34m(\u001b[0m\u001b[0;34m)\u001b[0m\u001b[0;34m\u001b[0m\u001b[0;34m\u001b[0m\u001b[0m\n\u001b[0m\u001b[1;32m    690\u001b[0m     raise NotImplementedError(\n\u001b[1;32m    691\u001b[0m         \"numpy() is only available when eager execution is enabled.\")\n",
            "\u001b[0;32m/usr/local/lib/python3.10/dist-packages/tensorflow/python/ops/resource_variable_ops.py\u001b[0m in \u001b[0;36mread_value\u001b[0;34m(self)\u001b[0m\n\u001b[1;32m    840\u001b[0m     \u001b[0;31m# Return an identity so it can get placed on whatever device the context\u001b[0m\u001b[0;34m\u001b[0m\u001b[0;34m\u001b[0m\u001b[0m\n\u001b[1;32m    841\u001b[0m     \u001b[0;31m# specifies instead of the device where the variable is.\u001b[0m\u001b[0;34m\u001b[0m\u001b[0;34m\u001b[0m\u001b[0m\n\u001b[0;32m--> 842\u001b[0;31m     \u001b[0;32mreturn\u001b[0m \u001b[0marray_ops\u001b[0m\u001b[0;34m.\u001b[0m\u001b[0midentity\u001b[0m\u001b[0;34m(\u001b[0m\u001b[0mvalue\u001b[0m\u001b[0;34m)\u001b[0m\u001b[0;34m\u001b[0m\u001b[0;34m\u001b[0m\u001b[0m\n\u001b[0m\u001b[1;32m    843\u001b[0m \u001b[0;34m\u001b[0m\u001b[0m\n\u001b[1;32m    844\u001b[0m   \u001b[0;32mdef\u001b[0m \u001b[0mread_value_no_copy\u001b[0m\u001b[0;34m(\u001b[0m\u001b[0mself\u001b[0m\u001b[0;34m)\u001b[0m\u001b[0;34m:\u001b[0m\u001b[0;34m\u001b[0m\u001b[0;34m\u001b[0m\u001b[0m\n",
            "\u001b[0;32m/usr/local/lib/python3.10/dist-packages/tensorflow/python/ops/weak_tensor_ops.py\u001b[0m in \u001b[0;36mwrapper\u001b[0;34m(*args, **kwargs)\u001b[0m\n\u001b[1;32m     86\u001b[0m   \u001b[0;32mdef\u001b[0m \u001b[0mwrapper\u001b[0m\u001b[0;34m(\u001b[0m\u001b[0;34m*\u001b[0m\u001b[0margs\u001b[0m\u001b[0;34m,\u001b[0m \u001b[0;34m**\u001b[0m\u001b[0mkwargs\u001b[0m\u001b[0;34m)\u001b[0m\u001b[0;34m:\u001b[0m\u001b[0;34m\u001b[0m\u001b[0;34m\u001b[0m\u001b[0m\n\u001b[1;32m     87\u001b[0m     \u001b[0;32mif\u001b[0m \u001b[0;32mnot\u001b[0m \u001b[0mops\u001b[0m\u001b[0;34m.\u001b[0m\u001b[0mis_auto_dtype_conversion_enabled\u001b[0m\u001b[0;34m(\u001b[0m\u001b[0;34m)\u001b[0m\u001b[0;34m:\u001b[0m\u001b[0;34m\u001b[0m\u001b[0;34m\u001b[0m\u001b[0m\n\u001b[0;32m---> 88\u001b[0;31m       \u001b[0;32mreturn\u001b[0m \u001b[0mop\u001b[0m\u001b[0;34m(\u001b[0m\u001b[0;34m*\u001b[0m\u001b[0margs\u001b[0m\u001b[0;34m,\u001b[0m \u001b[0;34m**\u001b[0m\u001b[0mkwargs\u001b[0m\u001b[0;34m)\u001b[0m\u001b[0;34m\u001b[0m\u001b[0;34m\u001b[0m\u001b[0m\n\u001b[0m\u001b[1;32m     89\u001b[0m     \u001b[0mbound_arguments\u001b[0m \u001b[0;34m=\u001b[0m \u001b[0msignature\u001b[0m\u001b[0;34m.\u001b[0m\u001b[0mbind\u001b[0m\u001b[0;34m(\u001b[0m\u001b[0;34m*\u001b[0m\u001b[0margs\u001b[0m\u001b[0;34m,\u001b[0m \u001b[0;34m**\u001b[0m\u001b[0mkwargs\u001b[0m\u001b[0;34m)\u001b[0m\u001b[0;34m\u001b[0m\u001b[0;34m\u001b[0m\u001b[0m\n\u001b[1;32m     90\u001b[0m     \u001b[0mbound_arguments\u001b[0m\u001b[0;34m.\u001b[0m\u001b[0mapply_defaults\u001b[0m\u001b[0;34m(\u001b[0m\u001b[0;34m)\u001b[0m\u001b[0;34m\u001b[0m\u001b[0;34m\u001b[0m\u001b[0m\n",
            "\u001b[0;32m/usr/local/lib/python3.10/dist-packages/tensorflow/python/util/traceback_utils.py\u001b[0m in \u001b[0;36merror_handler\u001b[0;34m(*args, **kwargs)\u001b[0m\n\u001b[1;32m    148\u001b[0m     \u001b[0mfiltered_tb\u001b[0m \u001b[0;34m=\u001b[0m \u001b[0;32mNone\u001b[0m\u001b[0;34m\u001b[0m\u001b[0;34m\u001b[0m\u001b[0m\n\u001b[1;32m    149\u001b[0m     \u001b[0;32mtry\u001b[0m\u001b[0;34m:\u001b[0m\u001b[0;34m\u001b[0m\u001b[0;34m\u001b[0m\u001b[0m\n\u001b[0;32m--> 150\u001b[0;31m       \u001b[0;32mreturn\u001b[0m \u001b[0mfn\u001b[0m\u001b[0;34m(\u001b[0m\u001b[0;34m*\u001b[0m\u001b[0margs\u001b[0m\u001b[0;34m,\u001b[0m \u001b[0;34m**\u001b[0m\u001b[0mkwargs\u001b[0m\u001b[0;34m)\u001b[0m\u001b[0;34m\u001b[0m\u001b[0;34m\u001b[0m\u001b[0m\n\u001b[0m\u001b[1;32m    151\u001b[0m     \u001b[0;32mexcept\u001b[0m \u001b[0mException\u001b[0m \u001b[0;32mas\u001b[0m \u001b[0me\u001b[0m\u001b[0;34m:\u001b[0m\u001b[0;34m\u001b[0m\u001b[0;34m\u001b[0m\u001b[0m\n\u001b[1;32m    152\u001b[0m       \u001b[0mfiltered_tb\u001b[0m \u001b[0;34m=\u001b[0m \u001b[0m_process_traceback_frames\u001b[0m\u001b[0;34m(\u001b[0m\u001b[0me\u001b[0m\u001b[0;34m.\u001b[0m\u001b[0m__traceback__\u001b[0m\u001b[0;34m)\u001b[0m\u001b[0;34m\u001b[0m\u001b[0;34m\u001b[0m\u001b[0m\n",
            "\u001b[0;32m/usr/local/lib/python3.10/dist-packages/tensorflow/python/util/dispatch.py\u001b[0m in \u001b[0;36mop_dispatch_handler\u001b[0;34m(*args, **kwargs)\u001b[0m\n\u001b[1;32m   1258\u001b[0m       \u001b[0;31m# Fallback dispatch system (dispatch v1):\u001b[0m\u001b[0;34m\u001b[0m\u001b[0;34m\u001b[0m\u001b[0m\n\u001b[1;32m   1259\u001b[0m       \u001b[0;32mtry\u001b[0m\u001b[0;34m:\u001b[0m\u001b[0;34m\u001b[0m\u001b[0;34m\u001b[0m\u001b[0m\n\u001b[0;32m-> 1260\u001b[0;31m         \u001b[0;32mreturn\u001b[0m \u001b[0mdispatch_target\u001b[0m\u001b[0;34m(\u001b[0m\u001b[0;34m*\u001b[0m\u001b[0margs\u001b[0m\u001b[0;34m,\u001b[0m \u001b[0;34m**\u001b[0m\u001b[0mkwargs\u001b[0m\u001b[0;34m)\u001b[0m\u001b[0;34m\u001b[0m\u001b[0;34m\u001b[0m\u001b[0m\n\u001b[0m\u001b[1;32m   1261\u001b[0m       \u001b[0;32mexcept\u001b[0m \u001b[0;34m(\u001b[0m\u001b[0mTypeError\u001b[0m\u001b[0;34m,\u001b[0m \u001b[0mValueError\u001b[0m\u001b[0;34m)\u001b[0m\u001b[0;34m:\u001b[0m\u001b[0;34m\u001b[0m\u001b[0;34m\u001b[0m\u001b[0m\n\u001b[1;32m   1262\u001b[0m         \u001b[0;31m# Note: convert_to_eager_tensor currently raises a ValueError, not a\u001b[0m\u001b[0;34m\u001b[0m\u001b[0;34m\u001b[0m\u001b[0m\n",
            "\u001b[0;32m/usr/local/lib/python3.10/dist-packages/tensorflow/python/ops/array_ops.py\u001b[0m in \u001b[0;36midentity\u001b[0;34m(input, name)\u001b[0m\n\u001b[1;32m    310\u001b[0m     \u001b[0;31m# variables. Variables have correct handle data when graph building.\u001b[0m\u001b[0;34m\u001b[0m\u001b[0;34m\u001b[0m\u001b[0m\n\u001b[1;32m    311\u001b[0m     \u001b[0minput\u001b[0m \u001b[0;34m=\u001b[0m \u001b[0mops\u001b[0m\u001b[0;34m.\u001b[0m\u001b[0mconvert_to_tensor\u001b[0m\u001b[0;34m(\u001b[0m\u001b[0minput\u001b[0m\u001b[0;34m)\u001b[0m\u001b[0;34m\u001b[0m\u001b[0;34m\u001b[0m\u001b[0m\n\u001b[0;32m--> 312\u001b[0;31m   \u001b[0mret\u001b[0m \u001b[0;34m=\u001b[0m \u001b[0mgen_array_ops\u001b[0m\u001b[0;34m.\u001b[0m\u001b[0midentity\u001b[0m\u001b[0;34m(\u001b[0m\u001b[0minput\u001b[0m\u001b[0;34m,\u001b[0m \u001b[0mname\u001b[0m\u001b[0;34m=\u001b[0m\u001b[0mname\u001b[0m\u001b[0;34m)\u001b[0m\u001b[0;34m\u001b[0m\u001b[0;34m\u001b[0m\u001b[0m\n\u001b[0m\u001b[1;32m    313\u001b[0m   \u001b[0;31m# Propagate handle data for happier shape inference for resource variables.\u001b[0m\u001b[0;34m\u001b[0m\u001b[0;34m\u001b[0m\u001b[0m\n\u001b[1;32m    314\u001b[0m   \u001b[0;32mif\u001b[0m \u001b[0mhasattr\u001b[0m\u001b[0;34m(\u001b[0m\u001b[0minput\u001b[0m\u001b[0;34m,\u001b[0m \u001b[0;34m\"_handle_data\"\u001b[0m\u001b[0;34m)\u001b[0m\u001b[0;34m:\u001b[0m\u001b[0;34m\u001b[0m\u001b[0;34m\u001b[0m\u001b[0m\n",
            "\u001b[0;32m/usr/local/lib/python3.10/dist-packages/tensorflow/python/ops/gen_array_ops.py\u001b[0m in \u001b[0;36midentity\u001b[0;34m(input, name)\u001b[0m\n\u001b[1;32m   4182\u001b[0m   \u001b[0;32mif\u001b[0m \u001b[0mtld\u001b[0m\u001b[0;34m.\u001b[0m\u001b[0mis_eager\u001b[0m\u001b[0;34m:\u001b[0m\u001b[0;34m\u001b[0m\u001b[0;34m\u001b[0m\u001b[0m\n\u001b[1;32m   4183\u001b[0m     \u001b[0;32mtry\u001b[0m\u001b[0;34m:\u001b[0m\u001b[0;34m\u001b[0m\u001b[0;34m\u001b[0m\u001b[0m\n\u001b[0;32m-> 4184\u001b[0;31m       _result = pywrap_tfe.TFE_Py_FastPathExecute(\n\u001b[0m\u001b[1;32m   4185\u001b[0m         _ctx, \"Identity\", name, input)\n\u001b[1;32m   4186\u001b[0m       \u001b[0;32mreturn\u001b[0m \u001b[0m_result\u001b[0m\u001b[0;34m\u001b[0m\u001b[0;34m\u001b[0m\u001b[0m\n",
            "\u001b[0;31mKeyboardInterrupt\u001b[0m: "
          ]
        }
      ]
    },
    {
      "cell_type": "markdown",
      "source": [
        "# Step 3. Plot the training and validation loss"
      ],
      "metadata": {
        "id": "QGeLVx6lN_I7"
      }
    },
    {
      "cell_type": "code",
      "source": [
        "# 두 모델의 반복에 따른 손실을 플롯팅\n",
        "fig, ax = plt.subplots(3, 2, figsize=(18, 15))\n",
        "\n",
        "# Numpy MLP의 학습 손실 플롯\n",
        "ax[0, 0].plot(range(len(train_loss_history_numpy)), train_loss_history_numpy, color='blue')\n",
        "ax[0, 0].set_xlabel('Iteration')  # x축 레이블 설정\n",
        "ax[0, 0].set_ylabel('Loss')  # y축 레이블 설정\n",
        "ax[0, 0].set_title('Numpy MLP Training Loss over Iterations')  # 플롯 제목 설정\n",
        "\n",
        "# Numpy MLP의 검증 손실 플롯\n",
        "ax[0, 1].plot(range(len(val_loss_history_numpy)), val_loss_history_numpy, color='blue')\n",
        "ax[0, 1].set_xlabel('Iteration')  # x축 레이블 설정\n",
        "ax[0, 1].set_ylabel('Loss')  # y축 레이블 설정\n",
        "ax[0, 1].set_title('Numpy MLP Validation Loss over Iterations')  # 플롯 제목 설정\n",
        "\n",
        "# TensorFlow MLP의 학습 손실 플롯\n",
        "ax[1, 0].plot(history_tf.history['loss'], color='red')\n",
        "ax[1, 0].set_xlabel('Epoch')  # x축 레이블 설정\n",
        "ax[1, 0].set_ylabel('Loss')  # y축 레이블 설정\n",
        "ax[1, 0].set_title('TensorFlow MLP Training Loss over Epochs')  # 플롯 제목 설정\n",
        "\n",
        "# TensorFlow MLP의 검증 손실 플롯\n",
        "ax[1, 1].plot(history_tf.history['val_loss'], color='red')\n",
        "ax[1, 1].set_xlabel('Epoch')  # x축 레이블 설정\n",
        "ax[1, 1].set_ylabel('Loss')  # y축 레이블 설정\n",
        "ax[1, 1].set_title('TensorFlow MLP Validation Loss over Epochs')  # 플롯 제목 설정\n",
        "\n",
        "# Numpy MLP의 결정 경계 플롯\n",
        "xx, yy = np.meshgrid(np.arange(-1.5, 2.5, 0.01), np.arange(-1, 1.5, 0.01))\n",
        "grid = np.c_[xx.ravel(), yy.ravel()]\n",
        "preds_numpy = mlp_numpy.forward(grid)  # Numpy MLP로 예측 수행\n",
        "preds_numpy = preds_numpy.reshape(xx.shape)\n",
        "ax[2, 0].contourf(xx, yy, preds_numpy, levels=[0, 0.5, 1], alpha=0.2, colors=['blue', 'red'])  # 결정 경계 플롯\n",
        "ax[2, 0].scatter(X[:, 0], X[:, 1], c=y.ravel(), edgecolors='k', marker='o', cmap='coolwarm')  # 데이터 포인트 플롯\n",
        "ax[2, 0].set_xlabel('$x_1$')  # x축 레이블 설정\n",
        "ax[2, 0].set_ylabel('$x_2$')  # y축 레이블 설정\n",
        "ax[2, 0].set_title('Numpy MLP Decision Boundary')  # 플롯 제목 설정\n",
        "\n",
        "# TensorFlow MLP의 결정 경계 플롯\n",
        "preds_tf = model_tf.predict(grid).reshape(xx.shape)  # TensorFlow MLP로 예측 수행\n",
        "ax[2, 1].contourf(xx, yy, preds_tf, levels=[0, 0.5, 1], alpha=0.2, colors=['blue', 'red'])  # 결정 경계 플롯\n",
        "ax[2, 1].scatter(X[:, 0], X[:, 1], c=y.ravel(), edgecolors='k', marker='o', cmap='coolwarm')  # 데이터 포인트 플롯\n",
        "ax[2, 1].set_xlabel('$x_1$')  # x축 레이블 설정\n",
        "ax[2, 1].set_ylabel('$x_2$')  # y축 레이블 설정\n",
        "ax[2, 1].set_title('TensorFlow MLP Decision Boundary')  # 플롯 제목 설정\n",
        "\n",
        "plt.tight_layout()  # 레이아웃 조정\n",
        "plt.show()  # 플롯 표시"
      ],
      "metadata": {
        "id": "alyxuffDNTwI"
      },
      "execution_count": null,
      "outputs": []
    },
    {
      "cell_type": "markdown",
      "source": [
        "# 이미지 처리\n",
        "\n",
        "- 화소 처리"
      ],
      "metadata": {
        "id": "-r-mkZw8VTYr"
      }
    },
    {
      "cell_type": "code",
      "source": [
        "#!pip install opencv-python\n",
        "\n",
        "import cv2\n",
        "print(cv2.__version__)"
      ],
      "metadata": {
        "id": "ukrCwspsODLx"
      },
      "execution_count": null,
      "outputs": []
    },
    {
      "cell_type": "code",
      "source": [
        "from google.colab import drive\n",
        "drive.mount(\"/content/drive\")"
      ],
      "metadata": {
        "id": "rJFkj6SvVpi7"
      },
      "execution_count": null,
      "outputs": []
    },
    {
      "cell_type": "code",
      "source": [
        "import cv2\n",
        "\n",
        "img_url = \"/content/drive/MyDrive/Colab Notebooks/2024/한국표준협회/인공지능 신경망과 컴퓨터 비전 이해하기 (9월)/images/fruits-2.jpg\"\n",
        "\n",
        "image = cv2.imread(img_url)\n",
        "\n",
        "# Displaying an image in a window\n",
        "cv2.imshow('Image', image)\n",
        "cv2.waitKey(0)\n",
        "cv2.destroyAllWindows()"
      ],
      "metadata": {
        "id": "XSxpaRZkVrI6"
      },
      "execution_count": null,
      "outputs": []
    },
    {
      "cell_type": "code",
      "source": [
        "from google.colab.patches import cv2_imshow\n",
        "import cv2\n",
        "import matplotlib.pyplot as plt\n",
        "\n",
        "img_url = \"/content/drive/MyDrive/Colab Notebooks/iM_alphaco/딥러닝/images/fruits-2.jpg\"\n",
        "\n",
        "image = cv2.imread(img_url)\n",
        "cv2_imshow(image)"
      ],
      "metadata": {
        "id": "bmwoYUcnVt9V"
      },
      "execution_count": null,
      "outputs": []
    },
    {
      "cell_type": "markdown",
      "source": [
        "- 아래 코드는 Github에 있는 소스코드를 가져와서 사용자 정의 함수로 만든 코드\n",
        "- 주요 코드 요약\n",
        "  + 값을 0과 255 사이로 클리핑:\n",
        "    - 이미지 데이터의 값이 유효한 범위(0-255) 내에 있는지 확인하며, 유효 범위를 벗어난 값을 클리핑하고, 데이터 타입을 uint8로 변환합니다.\n",
        "  + 컬러 변환 처리\n",
        "    - `a.ndim == 3` : 이미지가 3차원 배열(컬러 이미지)인지 확인\n",
        "      - BGRA를 RGBA로 변환 : 이미지가 4채널(BGRA 형식)이면 OpenCV의 cv2.cvtColor를 사용하여 RGBA 형식으로 변환합니다.\n",
        "      - BGR을 RGB로 변환 : 이미지가 3채널(BGR 형식)이면 BGR(OpenCV의 기본 컬러 형식)에서 RGB(Matplotlib에서 사용하는 표준 형식)로 변환합니다.\n",
        "    - 이미지가 2차원 배열(`a.ndim == 2`)이면 흑백 이미지로 간주하여 별도의 컬러 변환을 하지 않습니다.\n",
        "  - Matplotlib의 imshow를 사용하여 이미지를 표시합니다. 이미지가 흑백이면 'gray' 컬러맵을 적용하고, 그렇지 않으면 RGB 이미지를 표시합니다."
      ],
      "metadata": {
        "id": "uZjV4-NFWhND"
      }
    },
    {
      "cell_type": "code",
      "source": [
        "import matplotlib.pyplot as plt\n",
        "\n",
        "def cv2_imshow(title, a):\n",
        "    \"\"\"A replacement for cv2.imshow() for use in Jupyter notebooks using Matplotlib.\n",
        "\n",
        "    Args:\n",
        "        title: str, optional. The title of the image to be displayed.\n",
        "        a : np.ndarray. shape (N, M) or (N, M, 1) is an NxM grayscale image.\n",
        "            shape (N, M, 3) is an NxM BGR color image. shape (N, M, 4) is an NxM BGRA color image.\n",
        "    \"\"\"\n",
        "    a = a.clip(0, 255).astype('uint8')\n",
        "    # cv2 stores colors as BGR; convert to RGB\n",
        "    if a.ndim == 3:\n",
        "        if a.shape[2] == 4:\n",
        "            a = cv2.cvtColor(a, cv2.COLOR_BGRA2RGBA)\n",
        "        else:\n",
        "            a = cv2.cvtColor(a, cv2.COLOR_BGR2RGB)\n",
        "    elif a.ndim == 2:\n",
        "        # If it's grayscale, don't convert to RGB\n",
        "        pass\n",
        "\n",
        "    plt.imshow(a, cmap='gray' if a.ndim == 2 else None)\n",
        "    if title is not None:\n",
        "        plt.title(title)\n",
        "    plt.axis('off')  # Hide axes for better display\n",
        "    plt.show()"
      ],
      "metadata": {
        "id": "v2_NalLkV86b"
      },
      "execution_count": null,
      "outputs": []
    },
    {
      "cell_type": "code",
      "source": [
        "image = cv2.imread(img_url)\n",
        "cv2_imshow(\"hello\", image)"
      ],
      "metadata": {
        "id": "FjdP4LsqV_HK"
      },
      "execution_count": null,
      "outputs": []
    },
    {
      "cell_type": "markdown",
      "source": [
        "- 화소 처리"
      ],
      "metadata": {
        "id": "JEl7PgufW9R6"
      }
    },
    {
      "cell_type": "code",
      "source": [
        "# from google.colab.patches import cv2_imshow\n",
        "import cv2\n",
        "import numpy as np\n",
        "\n",
        "def mat_access1(mat):\n",
        "    for i in range(mat.shape[0]):\n",
        "        for j in range(mat.shape[1]):\n",
        "            k = mat[i, j]  # 원소 접근 - mat1[i][j] 방식도 가능\n",
        "            mat[i, j] = k * 2  # 원소 할당\n",
        "\n",
        "def mat_access2(mat):\n",
        "    for i in range(mat.shape[0]):\n",
        "        for j in range(mat.shape[1]):\n",
        "            k = mat.item(i, j)  # 원소 접근\n",
        "            mat.itemset((i, j), k * 2)  # 원소 할당\n",
        "\n",
        "mat1 = np.arange(10).reshape(2, 5)\n",
        "mat2 = np.arange(10).reshape(2, 5)\n",
        "\n",
        "print(\"원소 처리 전: \\n%s\\n\" % mat1)\n",
        "mat_access1(mat1)\n",
        "print(\"원소 처리 후: \\n%s\\n\" % mat1)\n",
        "\n",
        "print(\"원소 처리 전: \\n%s\\n\" % mat2)\n",
        "mat_access2(mat2)\n",
        "print(\"원소 처리 후: \\n%s\" % mat2)"
      ],
      "metadata": {
        "id": "cEUFAjiFW--D"
      },
      "execution_count": null,
      "outputs": []
    },
    {
      "cell_type": "markdown",
      "source": [],
      "metadata": {
        "id": "ApsX4LRiXQ27"
      }
    },
    {
      "cell_type": "code",
      "source": [
        "import numpy as np, cv2, time\n",
        "\n",
        "def pixel_access1(image):\n",
        "    image1 = np.zeros(image.shape[:2], image.dtype)\n",
        "    for i in range(image.shape[0]):\n",
        "        for j in range(image.shape[1]):\n",
        "            pixel = image[i,j]                  # 화소 접근\n",
        "            image1[i, j] =  255 - pixel            # 화소 할당\n",
        "    return image1\n",
        "\n",
        "def pixel_access2(image):\n",
        "    image2 = np.zeros(image.shape[:2], image.dtype)\n",
        "    for i in range(image.shape[0]):\n",
        "        for j in range(image.shape[1]):\n",
        "            pixel = image.item(i, j)  # 화소 접근\n",
        "            image2.itemset((i, j),  255 - pixel)  # 화소 할당\n",
        "    return image2\n",
        "\n",
        "def pixel_access3(image):\n",
        "    lut = [255 - i for i in range(256)]  # 룩업테이블 생성\n",
        "    lut = np.array(lut, np.uint8)\n",
        "    image3 = lut[image]\n",
        "    return image3\n",
        "\n",
        "def pixel_access4(image):\n",
        "    image4 = cv2.subtract(255, image)\n",
        "    return image4\n",
        "\n",
        "def pixel_access5(image):\n",
        "    image5 = 255 - image\n",
        "    return image5\n",
        "\n",
        "url = \"/content/drive/MyDrive/Colab Notebooks/iM_alphaco/딥러닝/\"\n",
        "\n",
        "image = cv2.imread(url + \"images/bright.jpg\", cv2.IMREAD_GRAYSCALE)\n",
        "if image is None: raise Exception(\"영상 파일 읽기 오류 발생\")\n",
        "\n",
        "# 수행시간 체크\n",
        "def time_check(func, msg):\n",
        "    start_time = time.perf_counter()\n",
        "    ret_img = func(image)\n",
        "    elapsed = (time.perf_counter() - start_time) * 1000\n",
        "    print(msg, \"수행시간 : %.2f ms\" % elapsed)\n",
        "    return ret_img\n",
        "\n",
        "image1 = time_check(pixel_access1, \"[방법 1] 직접 접근 방식\")\n",
        "image2 = time_check(pixel_access2, \"[방법 2] item() 함수 방식\")\n",
        "image3 = time_check(pixel_access3, \"[방법 3] 룩업 테이블 방식\")\n",
        "image4 = time_check(pixel_access4, \"[방법 4] OpenCV 함수 방식\")\n",
        "image5 = time_check(pixel_access5, \"[방법 5] ndarray 연산 방식\")\n",
        "\n",
        "# 결과 영상 보기\n",
        "cv2_imshow(\"image  - original\", image)\n",
        "cv2_imshow(\"image1 - directly access to pixel\", image1)\n",
        "cv2_imshow(\"image2 - item()/itemset()\", image2)\n",
        "cv2_imshow(\"image3 - LUT\", image3)\n",
        "cv2_imshow(\"image4 - OpenCV\", image4)\n",
        "cv2_imshow(\"image5 - ndarray 방식\", image5)"
      ],
      "metadata": {
        "id": "UNBeSX9TXExv"
      },
      "execution_count": null,
      "outputs": []
    },
    {
      "cell_type": "markdown",
      "source": [
        "### 그레이 스케일(명암도) 영상\n",
        "- 하나의 화소값은 0~255의 값을 가짐\n",
        "- 0은 검은색을, 255는 흰색을 의미"
      ],
      "metadata": {
        "id": "wSxi4NmPZNEJ"
      }
    },
    {
      "cell_type": "code",
      "source": [
        "image1 = np.zeros((50, 512), np.uint8)         # 50 x 512 영상 생성\n",
        "image2 = np.zeros((50, 512), np.uint8)\n",
        "\n",
        "rows, cols = image1.shape[:2]\n",
        "\n",
        "for i in range(rows):                           # 행렬 전체 조회\n",
        "    for j in range(cols):\n",
        "        image1[i, j]= j // 2                # 화소값 점진적 증가\n",
        "        image2[i, j]= j // 20 * 10          # 계단 현상 증가\n",
        "\n",
        "cv2_imshow(\"image1\", image1)"
      ],
      "metadata": {
        "id": "ejDU0lvnYg67"
      },
      "execution_count": null,
      "outputs": []
    },
    {
      "cell_type": "code",
      "source": [
        "cv2_imshow(\"image2\", image2)"
      ],
      "metadata": {
        "id": "tkPNdYUrZPdO"
      },
      "execution_count": null,
      "outputs": []
    },
    {
      "cell_type": "markdown",
      "source": [
        "### 영상의 화소 표현\n",
        "- 파일을 읽어 들여서 영상의 특정 부분의 화소 확인"
      ],
      "metadata": {
        "id": "xnh0lrSIZl6G"
      }
    },
    {
      "cell_type": "code",
      "source": [
        "image = cv2.imread(url + \"images/pixel.jpg\", cv2.IMREAD_GRAYSCALE) # 영상 읽기\n",
        "if image is None: raise Exception(\"영상 파일 읽기 오류 발생\")\n",
        "\n",
        "(x,y),(w,h) = (180, 37), (15, 10)                   # 좌표는 x, y\n",
        "roi_img = image[y:y+h, x:x+w]                   # 행렬 접근은 y, x\n",
        "\n",
        "# print(“[roi_img] =\\n”, roi_img) # 행렬 원소 바로 출력 가능\n",
        "print(\"[roi_img] =\")\n",
        "for row in roi_img:\n",
        "    for p in row:\n",
        "        print(\"%4d\" % p, end=\"\")       # 행렬 원 하나 출력\n",
        "    print()\n",
        "\n",
        "cv2.rectangle(image, (x,y, w,h), 255, 1)\n",
        "cv2_imshow(\"image\", image)"
      ],
      "metadata": {
        "id": "lSJh0CZoZRRY"
      },
      "execution_count": null,
      "outputs": []
    },
    {
      "cell_type": "markdown",
      "source": [
        "## **영상 밝기의 가감 연산**\n",
        "\n",
        "- OpenCV의 Saturation 방식\n",
        "- NumPy의 Module 방식의 차이 이해"
      ],
      "metadata": {
        "id": "blRepsHkZ7P2"
      }
    },
    {
      "cell_type": "code",
      "source": [
        "import cv2\n",
        "\n",
        "image = cv2.imread(url + \"images/bright.jpg\", cv2.IMREAD_GRAYSCALE)    # 영상 읽기\n",
        "if image is None: raise Exception(\"영상 파일 읽기 오류\")\n",
        "\n",
        "# OpenCV 함수 이용\n",
        "dst1 = cv2.add(image, 200)                  # 영상 밝게 saturation 방식\n",
        "dst2 = cv2.subtract(image, 200)             # 영상 어둡게\n",
        "\n",
        "# numpy array 이용\n",
        "dst3 = image + 100                          # 영상 밝게 modulo 방식\n",
        "dst4 = image - 100                          # 영상 어둡게\n",
        "\n",
        "cv2_imshow(\"original image\", image)\n",
        "cv2_imshow(\"dst1- bright: OpenCV\", dst1)\n",
        "cv2_imshow(\"dst2- dark: OpenCV\", dst2)\n",
        "cv2_imshow(\"dst3- bright: numpy\", dst3)\n",
        "cv2_imshow(\"dst4- dark: numpy\", dst4);"
      ],
      "metadata": {
        "id": "wn0Rjc8iZ7kW"
      },
      "execution_count": null,
      "outputs": []
    },
    {
      "cell_type": "markdown",
      "source": [
        "## 행렬 덧셈 및 곱셈을 이용한 영상 합성"
      ],
      "metadata": {
        "id": "UdFPpwUQaV81"
      }
    },
    {
      "cell_type": "code",
      "source": [
        "import numpy as np, cv2\n",
        "\n",
        "image1 = cv2.imread(url + \"images/add1.jpg\", cv2.IMREAD_GRAYSCALE)   # 영상 읽기\n",
        "image2 = cv2.imread(url + \"images/add2.jpg\", cv2.IMREAD_GRAYSCALE)\n",
        "if image1 is None or image2 is None: raise Exception(\"영상 파일 읽기 오류 발생\")\n",
        "\n",
        "# 영상 합성\n",
        "alpha, beta = 0.6, 0.7                                        # 곱샘 비율\n",
        "add_img1 = cv2.add(image1 , image2)                            # 두 영상 단순 더하기\n",
        "add_img2 = cv2.add(image1 * alpha , image2 * beta)             # 두영상 비율에 따른 더하기\n",
        "add_img2 = np.clip(add_img2, 0, 255).astype(\"uint8\")           # saturation 처리\n",
        "add_img3 = cv2.addWeighted(image1, alpha, image2, beta, 0)     # 두영상 비율에 따른 더하기\n",
        "\n",
        "titles = ['image1','image2','add_img1','add_img2','add_img3']\n",
        "for t in titles:\n",
        "  cv2_imshow(t, eval(t))"
      ],
      "metadata": {
        "id": "t1UR2GO4aW31"
      },
      "execution_count": null,
      "outputs": []
    },
    {
      "cell_type": "markdown",
      "source": [
        "## 히스토그램\n",
        "\n",
        "- 관측값의 개수를 겹치지 않는 다양한 계급으로 표시하는 것"
      ],
      "metadata": {
        "id": "xgunN3aubAut"
      }
    },
    {
      "cell_type": "code",
      "source": [
        "# -*- coding: utf-8 -*-\n",
        "import numpy as np\n",
        "import cv2, time\n",
        "\n",
        "def draw_histo(hist, shape=(200, 256)):\n",
        "    hist_img = np.full( shape, 255, np.uint8)\n",
        "    cv2.normalize(hist, hist, 0, shape[0], cv2.NORM_MINMAX)\n",
        "    gap = hist_img.shape[1]/hist.shape[0]             # 한 계급 너비\n",
        "\n",
        "    for i, h in enumerate(hist):\n",
        "        x = int(round(i * gap))                         # 막대 사각형 시작 x 좌표\n",
        "        w = int(round(gap))\n",
        "        roi = (x, 0, w, int(h))\n",
        "        cv2.rectangle(hist_img, roi, 0, cv2.FILLED)\n",
        "    return cv2.flip(hist_img, 0)                        # 영상 상하 뒤집기 후 반환\n",
        "\n",
        "\n",
        "def make_palate(rows):\n",
        "    hue = [round(i * 180 / rows) for i in range(rows)]  # hue 값 리스트 계산\n",
        "    hsv = [[(h, 255, 255)] for h in hue]                # (hue, 255,255) 화소값 계산\n",
        "    hsv = np.array(hsv, np.uint8)                       # numpy 행렬의 uint8형 변환\n",
        "    return cv2.cvtColor(hsv, cv2.COLOR_HSV2BGR)         # HSV 컬러 -> BGR 컬러\n",
        "\n",
        "# 색상으로 히스토그램 그리기\n",
        "def draw_histo_hue(hist, shape=(200, 256,3)):\n",
        "    hsv_palate = make_palate(hist.shape[0])                      # 색상 팔레트 생성\n",
        "    hist_img = np.full(shape, 255, np.uint8)\n",
        "    cv2.normalize(hist, hist, 0, shape[0], cv2.NORM_MINMAX)    # 정규화\n",
        "    gap = hist_img.shape[1] / hist.shape[0]  # 한 계급 크기\n",
        "\n",
        "    for i, h in enumerate(hist):\n",
        "        x, w = int(round(i * gap)), int(round(gap))\n",
        "        if h > 0:\n",
        "            color = tuple(map(int, hsv_palate[i][0]))                    # 정수형 튜플로 변환\n",
        "            cv2.rectangle(hist_img, (x,0, w,int(h) ), color , cv2.FILLED) # 팔레트 색으로 그리기\n",
        "\n",
        "    return cv2.flip(hist_img, 0)"
      ],
      "metadata": {
        "id": "TOnnxjCYarTF"
      },
      "execution_count": null,
      "outputs": []
    },
    {
      "cell_type": "markdown",
      "source": [
        "## 영상 히스토그램 계산\n",
        "- 0~255까지의 모든 화소값에 대해 출현 빈도수를 누적하여 배열에 저장"
      ],
      "metadata": {
        "id": "i2ztT3tGbNgv"
      }
    },
    {
      "cell_type": "code",
      "source": [
        "import numpy as np, cv2\n",
        "\n",
        "def calc_histo(image, hsize, ranges=[0, 256]):  # 행렬 원소의 1차원 히스토그램 계산\n",
        "    hist = np.zeros((hsize, 1), np.float32)  # 히스토그램 누적 행렬\n",
        "    gap = ranges[1]/hsize  # 계급 간격\n",
        "\n",
        "    for i in (image/gap).flat:\n",
        "        hist[int(i)] += 1\n",
        "    return hist\n",
        "\n",
        "image = cv2.imread(url + \"images/pixel.jpg\", cv2.IMREAD_GRAYSCALE)  # 영상 읽기\n",
        "if image is None: raise Exception(\"영상 파일 읽기 오류 발생\")\n",
        "\n",
        "hsize, ranges = [32], [0, 256]  # 히스토그램 간격수, 값 범위\n",
        "hist = calc_histo(image, hsize[0], ranges)  # 사용자 정의 히스토그램 계산\n",
        "\n",
        "print(\"사용자 정의 함수: \\n\", hist.flatten())  # 행렬을 벡터로 변환하여 출력\n",
        "cv2_imshow(\"image\", image)"
      ],
      "metadata": {
        "id": "cjYXkaJ1bMyM"
      },
      "execution_count": null,
      "outputs": []
    },
    {
      "cell_type": "markdown",
      "source": [
        "## OpenCV 함수 활용 히스토그램 그래프 그리기"
      ],
      "metadata": {
        "id": "qsOl9YNnbdfb"
      }
    },
    {
      "cell_type": "code",
      "source": [
        "import numpy as np, cv2\n",
        "\n",
        "def draw_histo(hist, shape=(200, 256)):\n",
        "    hist_img = np.full( shape, 255, np.uint8)\n",
        "    cv2.normalize(hist, hist, 0, shape[0], cv2.NORM_MINMAX)\n",
        "    gap = hist_img.shape[1]/hist.shape[0]             # 한 계급 너비\n",
        "\n",
        "    for i, h in enumerate(hist.flat):\n",
        "        x = int(round(i * gap))                         # 막대 사각형 시작 x 좌표\n",
        "        w = int(round(gap))\n",
        "        cv2.rectangle(hist_img, (x, 0, w, int(h)), 0, cv2.FILLED)\n",
        "    return   cv2.flip(hist_img, 0)                        # 영상 상하 뒤집기 후 반환\n",
        "\n",
        "image = cv2.imread(url + \"images/draw_hist.jpg\", cv2.IMREAD_GRAYSCALE)  # 영상 읽기\n",
        "if image is None: raise Exception(\"영상 파일 읽기 오류\")\n",
        "\n",
        "hist = cv2.calcHist([image], [0], None, [32], [0, 256])\n",
        "hist_img = draw_histo(hist)\n",
        "\n",
        "cv2_imshow(\"image\", image)\n",
        "cv2_imshow(\"hist_img\", hist_img)"
      ],
      "metadata": {
        "id": "Cz9GM9MDbckg"
      },
      "execution_count": null,
      "outputs": []
    },
    {
      "cell_type": "markdown",
      "source": [
        "## 색상 히스토그램 그리기"
      ],
      "metadata": {
        "id": "JzD1zvY7brJF"
      }
    },
    {
      "cell_type": "code",
      "source": [
        "import numpy as np, cv2\n",
        "\n",
        "def make_palette(rows):\n",
        "    # 리스트 생성 방식\n",
        "    hue = np.arange(0, rows ) / rows * 180\n",
        "    hsv = [[(h, 255, 255)] for h in hue]                # (hue, 255,255) 화소값 계산\n",
        "    hsv = np.array(hsv, np.uint8)                       # numpy 행렬의 uint8형 변환\n",
        "\n",
        "    # ndarray 생성 방식\n",
        "    # hsv = np.full((rows, 1, 3), 255, np.uint8)\n",
        "    # hsv[:, 0, 0] = np.arange(0, rows ) / rows * 180\n",
        "    # 반복문 방식\n",
        "    # hsv = np.full((rows, 1, 3), 255, np.uint8)\n",
        "    # for i in range(0, rows):                           # 행수만큼 반복\n",
        "    #     hsv[i, 0, 0] = round(i / rows * 180 )         # HSV 컬러 지정\n",
        "    return cv2.cvtColor(hsv, cv2.COLOR_HSV2BGR)         # HSV 컬러 -> BGR 컬러\n",
        "\n",
        "def draw_histo_hue(hist, shape=(200, 256,3)):\n",
        "    hsv_palate = make_palette(hist.shape[0])                      # 색상 팔레트 생성\n",
        "    hist_img = np.full(shape, 255, np.uint8)\n",
        "    cv2.normalize(hist, hist, 0, shape[0], cv2.NORM_MINMAX)    # 정규화\n",
        "\n",
        "    gap = hist_img.shape[1] / hist.shape[0]  # 한 계급 크기\n",
        "    for i, h in enumerate(hist.flat):\n",
        "        x, w = int(round(i * gap)), int(round(gap))\n",
        "        color = tuple(map(int, hsv_palate[i][0]))                    # 정수형 튜플로 변환\n",
        "        cv2.rectangle(hist_img, (x,0,w,int(h)), color , cv2.FILLED) # 팔레트 색으로 그리기\n",
        "    return cv2.flip(hist_img, 0)\n",
        "\n",
        "image = cv2.imread(url + \"images/hue_hist.jpg\", cv2.IMREAD_COLOR)  # 영상 읽기\n",
        "if image is None: raise Exception(\"영상 파일 읽기 오류\")\n",
        "\n",
        "hsv_img = cv2.cvtColor(image, cv2.COLOR_BGR2HSV)   # BGR 컬러 -> HSV 컬러\n",
        "hue_hist = cv2.calcHist( [hsv_img], [0], None, [18], [0,180])       # Hue 채널 히스토그램 계산\n",
        "hue_hist_img = draw_histo_hue(hue_hist, (200, 360, 3)) # 히스토그램 그래프\n",
        "\n",
        "cv2_imshow(\"image\", image)\n",
        "cv2_imshow(\"hue_hist_img\", hue_hist_img)"
      ],
      "metadata": {
        "id": "pyFnSpQHbsfk"
      },
      "execution_count": null,
      "outputs": []
    },
    {
      "cell_type": "markdown",
      "source": [
        "## **히스토그램 스트레칭**\n",
        "\n",
        "- 영상이 보기에 선명하고 깨끗해 보이려면 어두운 부분에서 밝은 부분까지 고루 분되어야 함\n",
        "- 히스토그램의 분포가 바뀐다는 것은 영상 내의 화소값의 분포가 바뀐다는 것을 의미함"
      ],
      "metadata": {
        "id": "eeNonp_feMEA"
      }
    },
    {
      "cell_type": "code",
      "source": [
        "import numpy as np, cv2\n",
        "\n",
        "def search_value_idx(hist, bias = 0):\n",
        "    for i in range(hist.shape[0]):\n",
        "        idx = np.abs(bias - i)                     # 검색 위치 (처음 또는 마지막)\n",
        "        if hist[idx] > 0:  return idx                             # 위치 반환\n",
        "    return -1                                      # 대상 없으면 반환\n",
        "\n",
        "image = cv2.imread(url + \"images/hist_stretch.jpg\", cv2.IMREAD_GRAYSCALE)   # 영상읽기\n",
        "if image is None: raise Exception(\"영상 파일 읽기 오류\")\n",
        "\n",
        "bsize, ranges = [64], [0,256]                        # 계급 개수 및 화소 범위\n",
        "hist = cv2.calcHist([image], [0], None, bsize, ranges)\n",
        "\n",
        "bin_width  = ranges[1]/bsize[0]                      # 계급 너비\n",
        "high = search_value_idx(hist, bsize[0] - 1) * bin_width\n",
        "low  = search_value_idx(hist, 0) * bin_width\n",
        "\n",
        "idx = np.arange(0, 256)\n",
        "idx = (idx - low) * 255/(high-low)\t# 수식 적용하여 인덱스 생성\n",
        "idx[0:int(low)] = 0\n",
        "idx[int(high+1):] = 255\n",
        "\n",
        "dst = cv2.LUT(image, idx.astype('uint8'))\n",
        "# dst = idx.astype('uint8')[image]                #\n",
        "\n",
        "## 룩업 테이블 사용하지 않고 직접 구현\n",
        "# dst = np.zeros(image.shape, dtype=image.dtype)\n",
        "# for i in range(dst.shape[0]):\n",
        "#     for j in range(dst.shape[1]):\n",
        "#         dst[i,j] = idx[image[i,j]]\n",
        "\n",
        "hist_dst = cv2.calcHist([dst], [0], None, bsize, ranges)  # 결과 영상 히스토그램 재계산\n",
        "hist_img = draw_histo(hist, (200,360))          # 원본 영상 히스토그램 그리기\n",
        "hist_dst_img = draw_histo(hist_dst,(200,360))  # 결과 영상 히스토그램 그리기\n",
        "\n",
        "print(\"high_value = \", high)\n",
        "print(\"low_value = \" , low)\n",
        "cv2_imshow(\"image\", image);         cv2_imshow(\"hist_img\", hist_img)\n",
        "cv2_imshow(\"dst\", dst);             cv2_imshow(\"hist_dst_img\", hist_dst_img)\n",
        "cv2.waitKey(0)"
      ],
      "metadata": {
        "id": "ZpZyyg5AeKvS"
      },
      "execution_count": null,
      "outputs": []
    },
    {
      "cell_type": "markdown",
      "source": [
        "## 히스토그램 평활화\n",
        "- 평활화(Equalization)\n",
        "- 인간의 눈은 영상의 밝기의 크기보다 대비가 증가할 때 인지도가 향상됨"
      ],
      "metadata": {
        "id": "aWWvGSAAe175"
      }
    },
    {
      "cell_type": "code",
      "source": [
        "import numpy as np, cv2\n",
        "\n",
        "image = cv2.imread(url + \"images/equalize.jpg\", cv2.IMREAD_GRAYSCALE) # 영상 읽기\n",
        "if image is None: raise Exception(\"영상 파일 읽기 오류\")\n",
        "\n",
        "bins, ranges = [256], [0, 256]\n",
        "hist = cv2.calcHist([image], [0], None, bins, ranges)    # 히스토그램 계산\n",
        "\n",
        "# 히스토그램 누적합 계산\n",
        "accum_hist = np.zeros(hist.shape[:2], np.float32)\n",
        "accum_hist[0] = hist[0]\n",
        "for i in range(1, hist.shape[0]):\n",
        "    accum_hist[i] = accum_hist[i - 1] + hist[i]\n",
        "\n",
        "accum_hist = (accum_hist / sum(hist)) * 255                 # 누적합의 정규화\n",
        "dst1 = [[accum_hist[val] for val in row] for row in image] # 화소값 할당\n",
        "dst1 = np.array(dst1, np.uint8)\n",
        "\n",
        "# numpy 함수 사용\n",
        "#accum_hist = np.cumsum(hist)                      # 누적합 계산\n",
        "#cv2.normalize(accum_hist, accum_hist, 0, 255, cv2.NORM_MINMAX)  # 정규화\n",
        "\n",
        "dst1 = cv2.LUT(image, accum_hist.astype(\"uint8\"))  #룩업 테이블로 화소값할당\n",
        "# dit1 = image[accum_hist.astype('uint8')]         # 파이썬 방식 록업테이블\n",
        "dst2 = cv2.equalizeHist(image)                # OpenCV 히스토그램 평활화\n",
        "\n",
        "hist1 = cv2.calcHist([dst1], [0], None, bins, ranges)   # 히스토그램 계산\n",
        "hist2 = cv2.calcHist([dst2], [0], None, bins, ranges)   # 히스토그램 계산\n",
        "hist_img = draw_histo(hist)\n",
        "hist_img1 = draw_histo(hist1)\n",
        "hist_img2 = draw_histo(hist2)\n",
        "\n",
        "cv2_imshow(\"image\", image);             cv2_imshow(\"hist_img\", hist_img)\n",
        "cv2_imshow(\"dst1_User\", dst1);          cv2_imshow(\"User_hist\", hist_img1)\n",
        "cv2_imshow(\"dst2_OpenCV\", dst2);        cv2_imshow(\"OpenCV_hist\", hist_img2)"
      ],
      "metadata": {
        "id": "g8-_Lg9Te2TH"
      },
      "execution_count": null,
      "outputs": []
    },
    {
      "cell_type": "markdown",
      "source": [
        "## 컬러 공간 변환"
      ],
      "metadata": {
        "id": "1VZgLxZIcLQD"
      }
    },
    {
      "cell_type": "code",
      "source": [
        "import numpy as np, cv2\n",
        "\n",
        "BGR_img = cv2.imread(url + \"images/color_model.jpg\", cv2.IMREAD_COLOR) # 컬러 영상 읽기\n",
        "if BGR_img is None: raise Exception(\"영상 파일 읽기 오류\")\n",
        "\n",
        "white = np.array([255, 255, 255], np.uint8)\n",
        "CMY_img = white - BGR_img\n",
        "Cyan, Magenta, Yellow = cv2.split(CMY_img) # 채널 분리\n",
        "\n",
        "titles = ['BGR_img','CMY_img','Cyan','Magenta','Yellow']\n",
        "[cv2_imshow(t, eval(t)) for t in titles]"
      ],
      "metadata": {
        "id": "S0fg3uVWbu1l"
      },
      "execution_count": null,
      "outputs": []
    },
    {
      "cell_type": "markdown",
      "source": [
        "## BGR ⇒ CMYK 변환"
      ],
      "metadata": {
        "id": "TXEyNUypdzVJ"
      }
    },
    {
      "cell_type": "code",
      "source": [
        "import numpy as np, cv2\n",
        "\n",
        "BGR_img = cv2.imread(url + \"images/color_model.jpg\", cv2.IMREAD_COLOR) # 컬러 영상 읽기\n",
        "if BGR_img is None: raise Exception(\"영상 파일 읽기 오류\")\n",
        "\n",
        "white = np.array([255, 255, 255], np.uint8)\n",
        "CMY_img = white - BGR_img\n",
        "CMY = cv2.split(CMY_img) # 채널 분리\n",
        "\n",
        "black = cv2.min(CMY[0], cv2.min(CMY[1], CMY[2])) # 원소 간의 최솟값 저장\n",
        "Yellow, Magenta, Cyan = CMY - black\n",
        "\n",
        "titles = ['black','Yellow','Magenta','Cyan']\n",
        "[cv2_imshow(t, eval(t)) for t in titles]"
      ],
      "metadata": {
        "id": "Kp-1ctzudzmJ"
      },
      "execution_count": null,
      "outputs": []
    },
    {
      "cell_type": "markdown",
      "source": [
        "# 여기서부터 오후 코드 작성\n",
        "- 직접 타이핑한 코드들\n",
        "- 이전까진 복붙이 주요."
      ],
      "metadata": {
        "id": "qgEXyZkQL8s3"
      }
    },
    {
      "cell_type": "code",
      "source": [
        "import sys\n",
        "\n",
        "# Google Colab 환경에서 실행 중인지 확인\n",
        "if 'google.colab' in sys.modules:\n",
        "    # debconf를 Noninteractive 모드로 설정\n",
        "    !echo 'debconf debconf/frontend select Noninteractive' | \\\n",
        "    debconf-set-selections\n",
        "\n",
        "    # fonts-nanum 패키지를 설치\n",
        "    !sudo apt-get -qq -y install fonts-nanum\n",
        "\n",
        "    # Matplotlib의 폰트 매니저 가져오기\n",
        "    import matplotlib.font_manager as fm\n",
        "\n",
        "    # 나눔 폰트의 시스템 경로 찾기\n",
        "    font_files = fm.findSystemFonts(fontpaths=['/usr/share/fonts/truetype/nanum'])\n",
        "\n",
        "    # 찾은 각 나눔 폰트를 Matplotlib 폰트 매니저에 추가\n",
        "    for fpath in font_files:\n",
        "        fm.fontManager.addfont(fpath)"
      ],
      "metadata": {
        "id": "O7QV5h5yevzw"
      },
      "execution_count": null,
      "outputs": []
    },
    {
      "cell_type": "markdown",
      "source": [
        "## 주요 라이브러리"
      ],
      "metadata": {
        "id": "F0t3XrEINSNX"
      }
    },
    {
      "cell_type": "code",
      "source": [
        "import pandas as pd\n",
        "import numpy as np\n",
        "import seaborn as sns\n",
        "from sklearn.model_selection import train_test_split\n",
        "from sklearn.preprocessing import StandardScaler\n",
        "from sklearn.compose import ColumnTransformer\n",
        "from sklearn.pipeline import Pipeline\n",
        "from sklearn.preprocessing import OneHotEncoder\n",
        "import tensorflow as tf\n",
        "from tensorflow.keras.models import Sequential\n",
        "from tensorflow.keras.layers import Dense\n",
        "from tensorflow.keras.callbacks import EarlyStopping\n",
        "import matplotlib.pyplot as plt"
      ],
      "metadata": {
        "id": "MXHnTq98MdB5"
      },
      "execution_count": null,
      "outputs": []
    },
    {
      "cell_type": "markdown",
      "source": [
        "# MLP 코드 만들기\n",
        "- 다층 퍼셉트론을 의미한다."
      ],
      "metadata": {
        "id": "wqnc1IMPNtIo"
      }
    },
    {
      "cell_type": "markdown",
      "source": [
        "## 데이터 가져오기\n",
        "- 또 Tips 데이터"
      ],
      "metadata": {
        "id": "Y5ZL_QTkN5Y2"
      }
    },
    {
      "cell_type": "code",
      "source": [
        "tips = sns.load_dataset('tips')\n",
        "tips.head(2)"
      ],
      "metadata": {
        "id": "fp3tB8qVNn-u"
      },
      "execution_count": null,
      "outputs": []
    },
    {
      "cell_type": "markdown",
      "source": [
        "## 특성과 타겟 분리"
      ],
      "metadata": {
        "id": "Pk_TbQh6OJ6d"
      }
    },
    {
      "cell_type": "code",
      "source": [
        "y = tips['tip']\n",
        "X = tips.drop('tip', axis = 1)\n",
        "X.shape, y.shape"
      ],
      "metadata": {
        "id": "UbR3-ngfNUI-"
      },
      "execution_count": null,
      "outputs": []
    },
    {
      "cell_type": "markdown",
      "source": [
        "## 수치형 - 범주형 칼럼 구분\n",
        "- 파이프라인 구축 시 전처리 위함"
      ],
      "metadata": {
        "id": "jmGUqhYSOgLM"
      }
    },
    {
      "cell_type": "code",
      "source": [
        "num_features = X.select_dtypes(include = np.number).columns.tolist()\n",
        "cat_features = X.select_dtypes(exclude = np.number).columns.tolist()\n",
        "\n",
        "num_features"
      ],
      "metadata": {
        "id": "6SLGb6GcOeuu"
      },
      "execution_count": null,
      "outputs": []
    },
    {
      "cell_type": "markdown",
      "source": [
        "## 파이프라인 - 전처리까지만\n",
        "- preprocessor, cloumntransfomer"
      ],
      "metadata": {
        "id": "OKm7ji2kPCLD"
      }
    },
    {
      "cell_type": "code",
      "source": [
        "preprocessor = ColumnTransformer(\n",
        "    transformers = [\n",
        "        ('num', StandardScaler(), num_features),\n",
        "        ('cat', OneHotEncoder(sparse_output=False), cat_features)\n",
        "    ])"
      ],
      "metadata": {
        "id": "EDZCJx0vPKEL"
      },
      "execution_count": null,
      "outputs": []
    },
    {
      "cell_type": "markdown",
      "source": [
        "- 데이터 전처리 실행"
      ],
      "metadata": {
        "id": "ZHg_kAmiPuII"
      }
    },
    {
      "cell_type": "code",
      "source": [
        "X_transformed = preprocessor.fit_transform(X)\n",
        "X_transformed"
      ],
      "metadata": {
        "id": "1INwFihbOzys"
      },
      "execution_count": null,
      "outputs": []
    },
    {
      "cell_type": "markdown",
      "source": [
        "## 학습 데이터와 테스트 데이터 분리"
      ],
      "metadata": {
        "id": "BgVWBQvCQDOw"
      }
    },
    {
      "cell_type": "code",
      "source": [
        "X_train, X_test, y_train, y_test = train_test_split(\n",
        "    X_transformed, y, test_size = 0.2, random_state = 42\n",
        ")"
      ],
      "metadata": {
        "id": "BG_jXyBxQIEC"
      },
      "execution_count": null,
      "outputs": []
    },
    {
      "cell_type": "markdown",
      "source": [
        "## 모델 만들기\n",
        "- MLP"
      ],
      "metadata": {
        "id": "o1pMmgEzQemB"
      }
    },
    {
      "cell_type": "code",
      "source": [
        "# Step 1. 모델 아키텍쳐 생성\n",
        "model = Sequential([\n",
        "    #입력층\n",
        "    Dense(64, activation = 'relu', input_shape=(X_train.shape[1],)),\n",
        "    #은닉층\n",
        "    Dense(32, activation = 'relu'),\n",
        "    Dense(16, activation = 'relu'),\n",
        "    Dense(8, activation = 'relu'),\n",
        "    #출력층\n",
        "    Dense(1)\n",
        "])\n",
        "\n",
        "# Step 2. 모델 컴파일\n",
        "model.compile(\n",
        "    optimizer = 'adam', # ADAM 옵티마이저 사용\n",
        "    loss = 'mse',       # 평균제곱오차 손실 함수\n",
        "    metrics = ['mae']   # 평균 절대 오차로 성능 평가\n",
        ")\n",
        "\n",
        "# Step 3. 과적합 방지용 장치 설정 : EarlyStopping\n",
        "# XGBoost, LGBM, CatBoost에도 존재함.\n",
        "# 이론적으로 경사하강법이 존재\n",
        "\n",
        "early_stopping = EarlyStopping(\n",
        "    monitor = 'val_loss', # 검증 손실을 모니터링\n",
        "    patience = 10,        # 10 에포크동안 개선이 없으면 학습 중단\n",
        "    restore_best_weights = True, # 가장 좋은 가중치 복원\n",
        "    verbose = 1           # 조기종료 메시지 출력\n",
        ")\n",
        "\n",
        "# Step 4. 모델 학습\n",
        "\n",
        "history = model.fit(\n",
        "    X_train, y_train, epochs = 100, batch_size = 32,\n",
        "    validation_split = 0.2, #검증데이터 비율\n",
        "    callbacks = [early_stopping],\n",
        "    verbose = 1 # 학습과정 출력\n",
        ")"
      ],
      "metadata": {
        "id": "8Usyc_6jQRr5"
      },
      "execution_count": null,
      "outputs": []
    },
    {
      "cell_type": "markdown",
      "source": [
        "## 모델 예측 및 결과 확인"
      ],
      "metadata": {
        "id": "OTdN3j-YUm6n"
      }
    },
    {
      "cell_type": "code",
      "source": [
        "y_pred = model.predict(X_test)\n",
        "y_pred[0]"
      ],
      "metadata": {
        "id": "3CKk4EIUQvkQ"
      },
      "execution_count": null,
      "outputs": []
    },
    {
      "cell_type": "code",
      "source": [
        "mae = np.mean(y_pred.flatten() - y_test)\n",
        "mae"
      ],
      "metadata": {
        "id": "7okMyORvVDuu"
      },
      "execution_count": null,
      "outputs": []
    },
    {
      "cell_type": "code",
      "source": [
        "# 학습 과정 시각화\n",
        "plt.figure(figsize=(10, 6))\n",
        "plt.plot(history.history['loss'], label='학습 손실')\n",
        "plt.plot(history.history['val_loss'], label='검증 손실')\n",
        "plt.title('시간에 따른 모델 손실')\n",
        "plt.xlabel('에포크')\n",
        "plt.ylabel('손실')\n",
        "plt.legend()\n",
        "plt.show()"
      ],
      "metadata": {
        "id": "iw6oDQr2SpQ3"
      },
      "execution_count": null,
      "outputs": []
    },
    {
      "cell_type": "markdown",
      "source": [
        "- 샘플 예시"
      ],
      "metadata": {
        "id": "z8yBshlPVXGN"
      }
    },
    {
      "cell_type": "code",
      "source": [
        "sample = X_test[0:1]\n",
        "sample"
      ],
      "metadata": {
        "id": "W-Wlg3awVWJF"
      },
      "execution_count": null,
      "outputs": []
    },
    {
      "cell_type": "code",
      "source": [
        "prediction = model.predict(sample)[0][0]\n",
        "actual = y_test.iloc[0]\n",
        "print(f\"예측값: {prediction}, 실제값: {actual}\")"
      ],
      "metadata": {
        "id": "trzwVQ1ZVdy7"
      },
      "execution_count": null,
      "outputs": []
    },
    {
      "cell_type": "markdown",
      "source": [
        "## 텐서플로 다운그레이드"
      ],
      "metadata": {
        "id": "YL1YYVAhaFJH"
      }
    },
    {
      "cell_type": "code",
      "source": [
        "!pip install tensorflow==2.15.0"
      ],
      "metadata": {
        "id": "CjFhsghrWCOA"
      },
      "execution_count": null,
      "outputs": []
    },
    {
      "cell_type": "code",
      "source": [],
      "metadata": {
        "id": "0b5KDY3faLEM"
      },
      "execution_count": null,
      "outputs": []
    }
  ]
}