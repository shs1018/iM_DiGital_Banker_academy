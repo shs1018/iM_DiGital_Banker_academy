{
 "cells": [
  {
   "cell_type": "markdown",
   "metadata": {},
   "source": [
    "# TRY - CATCH EXCEPT"
   ]
  },
  {
   "cell_type": "code",
   "execution_count": 3,
   "metadata": {},
   "outputs": [
    {
     "name": "stdout",
     "output_type": "stream",
     "text": [
      "3\n"
     ]
    }
   ],
   "source": [
    "numerator = 10\n",
    "denominator = 2 # 0\n",
    "result  = numerator / denominator\n",
    "a = 1\n",
    "b = 2\n",
    "print( a + b)"
   ]
  },
  {
   "cell_type": "markdown",
   "metadata": {},
   "source": [
    "- 기존 코드의 문제:\n",
    "    - 순차적으로 진행되던 코드에 오류가 발생하면 그 오류 아래의 코드들은 모두 작동하지 않는다!"
   ]
  },
  {
   "cell_type": "code",
   "execution_count": 11,
   "metadata": {},
   "outputs": [
    {
     "name": "stdout",
     "output_type": "stream",
     "text": [
      "result is : 5.0\n",
      "this always pop up!\n",
      "3\n",
      "[1, 2, 3]\n"
     ]
    }
   ],
   "source": [
    "try:\n",
    "    numerator = 10\n",
    "    denominator = 0\n",
    "    result  = numerator / denominator\n",
    "\n",
    "except ZeroDivisionError:\n",
    "    print(\"Error! cannot divide by zero!\")\n",
    "\n",
    "else:\n",
    "    print(f\"result is : {result}\")\n",
    "\n",
    "finally:\n",
    "    print(f\"this always pop up!\")\n",
    "    result  = numerator / denominator\n",
    "    a = 1\n",
    "    b = 2\n",
    "    print( a + b)\n",
    "\n",
    "tmp_list = [1,2,3]\n",
    "print(tmp_list)"
   ]
  },
  {
   "cell_type": "code",
   "execution_count": 19,
   "metadata": {},
   "outputs": [
    {
     "name": "stdout",
     "output_type": "stream",
     "text": [
      "Error! cannot divide by zero!\n",
      "this always pop up!\n",
      "3\n",
      "[1, 2, 3]\n"
     ]
    }
   ],
   "source": [
    "try:\n",
    "    numerator = 10\n",
    "    denominator = int(input(\"숫자를 입력하시오\"))\n",
    "    result  = numerator / denominator\n",
    "\n",
    "except ZeroDivisionError:\n",
    "    print(\"Error! cannot divide by zero!\")\n",
    "\n",
    "else:\n",
    "    print(f\"result is : {result}\")\n",
    "\n",
    "finally:\n",
    "    print(f\"this always pop up!\")\n",
    "    a = 1\n",
    "    b = 2\n",
    "    print(a + b)\n",
    "\n",
    "tmp_list = [1,2,3]\n",
    "print(tmp_list)"
   ]
  },
  {
   "cell_type": "markdown",
   "metadata": {},
   "source": [
    "# DB PYTHON 연동하기\n",
    "### STEP 1. CONNECT TO SERVER"
   ]
  },
  {
   "cell_type": "code",
   "execution_count": 26,
   "metadata": {},
   "outputs": [
    {
     "name": "stdout",
     "output_type": "stream",
     "text": [
      "1045 (28000): Access denied for user 'root'@'localhost' (using password: YES)\n",
      "무조건 실행해야 함\n"
     ]
    }
   ],
   "source": [
    "from mysql import connector\n",
    "PASSWORD = '12345678'\n",
    "PASSWORD = input(\"DB password goes here:\")\n",
    "\n",
    "try: \n",
    "    #DATABASE 연동하는 코드 작성\n",
    "    with connector.connect(\n",
    "        host = 'localhost', # 회사 ip주소 부여\n",
    "        user = 'root',   # 회사 아이디 부여\n",
    "        password = PASSWORD\n",
    "    ) as database:\n",
    "        print(f\"데이터베이스 객체(object): {database}\")\n",
    "\n",
    "except connector.Error as e:\n",
    "    print(e)\n",
    "\n",
    "finally:\n",
    "    print(\"무조건 실행해야 함\")"
   ]
  },
  {
   "cell_type": "markdown",
   "metadata": {},
   "source": [
    "### STEP 2. CREATE DATABASE"
   ]
  },
  {
   "cell_type": "code",
   "execution_count": 30,
   "metadata": {},
   "outputs": [
    {
     "name": "stdout",
     "output_type": "stream",
     "text": [
      "DATABSE Object : <mysql.connector.connection_cext.CMySQLConnection object at 0x00000191EBE69700>\n",
      "DATABASE Create:--------------------\n",
      "('book_ratings',)\n",
      "('classicmodels',)\n",
      "('dataset_2',)\n",
      "('imbank_data',)\n",
      "('information_schema',)\n",
      "('mysql',)\n",
      "('performance_schema',)\n",
      "('sakila',)\n",
      "('sys',)\n",
      "('world',)\n",
      "여기 코드는 진짜 무조건 실행해야 함\n"
     ]
    }
   ],
   "source": [
    "PASSWORD = '12345678'\n",
    "PASSWORD = input(\"DB password goes here:\")\n",
    "\n",
    "try: \n",
    "    #DATABASE 연동하는 코드 작성\n",
    "    with connector.connect(\n",
    "        host = 'localhost', # 회사 ip주소 부여\n",
    "        user = 'root',   # 회사 아이디 부여\n",
    "        password = PASSWORD\n",
    "    ) as database:\n",
    "        print(f\"DATABSE Object : {database}\")\n",
    "        print(\"DATABASE Create:--------------------\")\n",
    "        # 파이썬에서 SQL코드를 일종의 문자열로 적용이 가능하다.\n",
    "        delete_db = \"DROP DATABASE book_ratings;\" # 존재한다면 이 db를 지운다.\n",
    "        create_db = \"CREATE DATABASE book_ratings;\" # 새로 만들어주기\n",
    "\n",
    "        with database.cursor() as cursor: # 만든 코드를 커서를 통해 SQL에 입력시켜서 실행시킨다!\n",
    "            cursor.execute(create_db)\n",
    "\n",
    "            # 현재 접속중인 db를 확인\n",
    "            show_existing_db = \"SHOW DATABASES;\"\n",
    "            cursor.execute(show_existing_db)\n",
    "\n",
    "            # 중요!! - 반목문을 활용해서 모두 출력해 주어야 한다.\n",
    "            for db in cursor:\n",
    "                print(db)\n",
    "\n",
    "except connector.Error as e:\n",
    "    print(e)\n",
    "\n",
    "finally:\n",
    "    print(\"여기 코드는 진짜 무조건 실행해야 함\")"
   ]
  },
  {
   "cell_type": "markdown",
   "metadata": {},
   "source": [
    "## SQL서버 + DB에 직접 접속하는 방법"
   ]
  },
  {
   "cell_type": "code",
   "execution_count": 32,
   "metadata": {},
   "outputs": [
    {
     "name": "stdout",
     "output_type": "stream",
     "text": [
      "DATABSE Object : <mysql.connector.connection_cext.CMySQLConnection object at 0x00000191EC050BF0>\n",
      "DATABASE Create:--------------------\n",
      "('book_ratings',)\n",
      "('classicmodels',)\n",
      "('dataset_2',)\n",
      "('imbank_data',)\n",
      "('information_schema',)\n",
      "('mysql',)\n",
      "('performance_schema',)\n",
      "('sakila',)\n",
      "('sys',)\n",
      "('world',)\n",
      "여기 코드는 진짜 무조건 실행해야 함\n"
     ]
    }
   ],
   "source": [
    "PASSWORD = '12345678'\n",
    "PASSWORD = input(\"DB password goes here:\")\n",
    "DATABASE_NAME = \"book_ratings\"\n",
    "\n",
    "try: \n",
    "    #DATABASE 연동하는 코드 작성\n",
    "    with connector.connect(\n",
    "        host = 'localhost', # 회사 ip주소 부여\n",
    "        user = 'root',   # 회사 아이디 부여\n",
    "        password = PASSWORD,\n",
    "        database = DATABASE_NAME # 기존 접속하는 방법과 가장 큰 차이점! USE DB를 더이상 쓰지 않는다.\n",
    "    ) as database:\n",
    "        print(f\"DATABSE Object : {database}\")\n",
    "        print(\"DATABASE Create:--------------------\")\n",
    "        # 파이썬에서 SQL코드를 일종의 문자열로 적용이 가능하다.\n",
    "        delete_db = \"DROP DATABASE book_ratings;\" # 존재한다면 이 db를 지운다.\n",
    "        create_db = \"CREATE DATABASE book_ratings;\" # 새로 만들어주기\n",
    "\n",
    "        with database.cursor() as cursor: # 만든 코드를 커서를 통해 SQL에 입력시켜서 실행시킨다!\n",
    "            #cursor.execute(create_db)\n",
    "\n",
    "            # 현재 접속중인 db를 확인\n",
    "            show_existing_db = \"SHOW DATABASES;\"\n",
    "            cursor.execute(show_existing_db)\n",
    "\n",
    "            # 중요!! - 반목문을 활용해서 모두 출력해 주어야 한다.\n",
    "            for db in cursor:\n",
    "                print(db)\n",
    "\n",
    "except connector.Error as e:\n",
    "    print(e)\n",
    "\n",
    "finally:\n",
    "    print(\"여기 코드는 진짜 무조건 실행해야 함\")"
   ]
  },
  {
   "cell_type": "markdown",
   "metadata": {},
   "source": [
    "### STEP 3. CREATE TABLE"
   ]
  },
  {
   "cell_type": "code",
   "execution_count": 33,
   "metadata": {},
   "outputs": [],
   "source": [
    "create_book_table = \"\"\"\n",
    "CREATE TABLE books(\n",
    "    id INT NOT NULL AUTO_INCREMENT PRIMARY KEY,\n",
    "    title VARCHAR(100),\n",
    "    author VARCHAR(100),\n",
    "    genre VARCHAR(100),\n",
    "    release_year YEAR(4)\n",
    ")\n",
    ";\n",
    "\"\"\""
   ]
  },
  {
   "cell_type": "code",
   "execution_count": 37,
   "metadata": {},
   "outputs": [
    {
     "name": "stdout",
     "output_type": "stream",
     "text": [
      "DATABSE Object : <mysql.connector.connection_cext.CMySQLConnection object at 0x00000191EC0F73B0>\n",
      "DATABASE Create:--------------------\n",
      "('id', 'int', 'NO', 'PRI', None, 'auto_increment')\n",
      "('title', 'varchar(100)', 'YES', '', None, '')\n",
      "('author', 'varchar(100)', 'YES', '', None, '')\n",
      "('genre', 'varchar(100)', 'YES', '', None, '')\n",
      "('release_year', 'year', 'YES', '', None, '')\n",
      "여기 코드는 진짜 무조건 실행해야 함\n"
     ]
    }
   ],
   "source": [
    "PASSWORD = '12345678'\n",
    "DATABASE_NAME = \"book_ratings\"\n",
    "\n",
    "try: \n",
    "    #DATABASE 연동하는 코드 작성\n",
    "    with connector.connect(\n",
    "        host = 'localhost', # 회사 ip주소 부여\n",
    "        user = 'root',   # 회사 아이디 부여\n",
    "        password = PASSWORD,\n",
    "        database = DATABASE_NAME # 기존 접속하는 방법과 가장 큰 차이점! USE DB를 더이상 쓰지 않는다.\n",
    "    ) as database:\n",
    "        print(f\"DATABSE Object : {database}\")\n",
    "        print(\"DATABASE Create:--------------------\")\n",
    "        # 파이썬에서 SQL코드를 일종의 문자열로 적용이 가능하다.\n",
    "        # delete_db = \"DROP DATABASE book_ratings;\" # 존재한다면 이 db를 지운다.\n",
    "        # create_db = \"CREATE DATABASE book_ratings;\" # 새로 만들어주기\n",
    "\n",
    "        with database.cursor() as cursor: # 만든 코드를 커서를 통해 SQL에 입력시켜서 실행시킨다!\n",
    "            cursor.execute(create_book_table)\n",
    "            # 커밋\n",
    "            # 로컬에서 작업한 코드를 서버에 반영시키는 과정\n",
    "            database.commit()\n",
    "\n",
    "            # 쿼리, DESCRIBE books\n",
    "            query1 = \"DESCRIBE books;\"\n",
    "            cursor.execute(query1)\n",
    "            books_schema = cursor.fetchall()\n",
    "            for column in books_schema:\n",
    "                print(column)\n",
    "\n",
    "            '''\n",
    "            # 현재 접속중인 db를 확인\n",
    "            show_existing_db = \"SHOW DATABASES;\"\n",
    "            cursor.execute(show_existing_db)\n",
    "\n",
    "            # 중요!! - 반목문을 활용해서 모두 출력해 주어야 한다.\n",
    "            for db in cursor:\n",
    "                print(db)\n",
    "            '''\n",
    "except connector.Error as e:\n",
    "    print(e)\n",
    "\n",
    "finally:\n",
    "    print(\"여기 코드는 진짜 무조건 실행해야 함\")"
   ]
  },
  {
   "cell_type": "code",
   "execution_count": 42,
   "metadata": {},
   "outputs": [
    {
     "name": "stdout",
     "output_type": "stream",
     "text": [
      "DATABSE Object : <mysql.connector.connection_cext.CMySQLConnection object at 0x00000191EC0FCFB0>\n",
      "('Classic Cars', 38)\n",
      "('Motorcycles', 13)\n",
      "('Planes', 12)\n",
      "('Ships', 9)\n",
      "('Trains', 3)\n",
      "('Trucks and Buses', 11)\n",
      "('Vintage Cars', 24)\n",
      "여기 코드는 진짜 무조건 실행해야 함\n"
     ]
    }
   ],
   "source": [
    "PASSWORD = '12345678'\n",
    "DATABASE_NAME = \"classicmodels\"\n",
    "\n",
    "try: \n",
    "    #DATABASE 연동하는 코드 작성\n",
    "    with connector.connect(\n",
    "        host = 'localhost', # 회사 ip주소 부여\n",
    "        user = 'root',   # 회사 아이디 부여\n",
    "        password = PASSWORD,\n",
    "        database = DATABASE_NAME # 기존 접속하는 방법과 가장 큰 차이점! USE DB를 더이상 쓰지 않는다.\n",
    "    ) as database:\n",
    "        print(f\"DATABSE Object : {database}\")\n",
    "        # 파이썬에서 SQL코드를 일종의 문자열로 적용이 가능하다.\n",
    "        # delete_db = \"DROP DATABASE book_ratings;\" # 존재한다면 이 db를 지운다.\n",
    "        # create_db = \"CREATE DATABASE book_ratings;\" # 새로 만들어주기\n",
    "\n",
    "        with database.cursor() as cursor: # 만든 코드를 커서를 통해 SQL에 입력시켜서 실행시킨다!\n",
    "            query2 = \"\"\"\n",
    "                    SELECT\n",
    "\t                    productline,\n",
    "\t                    count(*)\n",
    "                    from products\n",
    "                    group by productline\n",
    "                    ;\n",
    "                    \"\"\"\n",
    "            cursor.execute(query2)\n",
    "            books_schema = cursor.fetchall()\n",
    "            for column in books_schema:\n",
    "                print(column)\n",
    "            \n",
    "except connector.Error as e:\n",
    "    print(e)\n",
    "\n",
    "finally:\n",
    "    print(\"여기 코드는 진짜 무조건 실행해야 함\")"
   ]
  },
  {
   "cell_type": "markdown",
   "metadata": {},
   "source": [
    "### STEP 4. ADD DATA"
   ]
  },
  {
   "cell_type": "code",
   "execution_count": null,
   "metadata": {},
   "outputs": [],
   "source": [
    "# INSERT SINGLE RECORD\n",
    "insert_single_record = \"INSERT INTO books (id, title, author, genre, release_year)\\\n",
    "    VALUES (%s, %s, %s, %s, %s)\"\n",
    "single_record = (\n",
    "    \"1\", \"Choose Yourself! Be Happy, Make Millions, Live the Dream\", \"James Altucher\", \"self-help\", \"2013\"\n",
    "    )\n",
    "\n",
    "try: \n",
    "    # Connect to existing database\n",
    "    with connector.connect(\n",
    "        host = \"localhost\",\n",
    "        user = \"root\",\n",
    "        password = PASSWORD,\n",
    "        database = \"book_ratings\"\n",
    "    ) as existing_database:\n",
    "        \n",
    "        # Create cursor object\n",
    "        with existing_database.cursor() as cursor:\n",
    "            cursor.execute(insert_single_record, single_record)\n",
    "            existing_database.commit()\n",
    "        \n",
    "except connector.Error as e: \n",
    "    print(e)\n",
    "\n",
    "# INSERT MULTIPLE RECORDS\n",
    "insert_multiple_records = \"INSERT INTO books (id, title, author, genre, release_year)\\\n",
    "    VALUES (%s, %s, %s, %s, %s)\"\n",
    "multiple_records = [\n",
    "    (\n",
    "        \"2\", \n",
    "        \"Skip the Line: The 10,000 Experiments Rule and Other Surprising Advice for Reaching Your Goals\",\n",
    "        \"James Altucher\",\n",
    "        \"self-help\",\n",
    "        \"2021\"        \n",
    "    ),\n",
    "    (\n",
    "        \"3\",\n",
    "        \"The Power of No: Because One Little Word Can Bring Health, Abundance, and Happiness\",\n",
    "        \"James Altucher\",\n",
    "        \"self-help\",\n",
    "        \"2014\"\n",
    "    ),\n",
    "    (\n",
    "        \"4\",\n",
    "        \"The 48 Laws of Power\",\n",
    "        \"Robert Greene\",\n",
    "        \"self-help\",\n",
    "        \"1998\"\n",
    "    ),\n",
    "    (\n",
    "        \"5\",\n",
    "        \"Mastery\",\n",
    "        \"Robert Greene\",\n",
    "        \"self-help\",\n",
    "        \"2012\"\n",
    "    ),\n",
    "    (\n",
    "        \"6\",\n",
    "        \"The Art of Seduction\",\n",
    "        \"Robert Greene\",\n",
    "        \"self-help\",\n",
    "        \"2001\"\n",
    "    ),\n",
    "]\n",
    "\n",
    "try: \n",
    "    # Connect to existing database\n",
    "    with connector.connect(\n",
    "        host = \"localhost\",\n",
    "        user = \"root\",\n",
    "        password = PASSWORD,\n",
    "        database = \"book_ratings\"\n",
    "    ) as existing_database:\n",
    "        \n",
    "        # Create cursor object\n",
    "        with existing_database.cursor() as cursor:\n",
    "            cursor.executemany(insert_multiple_records, multiple_records)\n",
    "            existing_database.commit()\n",
    "        \n",
    "except connector.Error as e: \n",
    "    print(e)"
   ]
  },
  {
   "cell_type": "markdown",
   "metadata": {},
   "source": [
    "### STEP 5. Select DATA"
   ]
  },
  {
   "cell_type": "code",
   "execution_count": 50,
   "metadata": {},
   "outputs": [
    {
     "name": "stdout",
     "output_type": "stream",
     "text": [
      "DATABSE Object : <mysql.connector.connection_cext.CMySQLConnection object at 0x00000191EC0F8F50>\n",
      "DATABASE Create:--------------------\n",
      "(1, 'Choose Yourself! Be Happy, Make Millions, Live the Dream', 'James Altucher', 'self-help', 2013)\n",
      "(2, 'Skip the Line: The 10,000 Experiments Rule and Other Surprising Advice for Reaching Your Goals', 'James Altucher', 'self-help', 2021)\n",
      "(3, 'The Power of No: Because One Little Word Can Bring Health, Abundance, and Happiness', 'James Altucher', 'self-help', 2014)\n",
      "(4, 'The 48 Laws of Power', 'Robert Greene', 'self-help', 1998)\n",
      "(5, 'Mastery', 'Robert Greene', 'self-help', 2012)\n",
      "(6, 'The Art of Seduction', 'Robert Greene', 'self-help', 2001)\n",
      "여기 코드는 진짜 무조건 실행해야 함\n"
     ]
    }
   ],
   "source": [
    "PASSWORD = '12345678'\n",
    "DATABASE_NAME = \"book_ratings\"\n",
    "\n",
    "try: \n",
    "    #DATABASE 연동하는 코드 작성\n",
    "    with connector.connect(\n",
    "        host = 'localhost', # 회사 ip주소 부여\n",
    "        user = 'root',   # 회사 아이디 부여\n",
    "        password = PASSWORD,\n",
    "        database = DATABASE_NAME # 기존 접속하는 방법과 가장 큰 차이점! USE DB를 더이상 쓰지 않는다.\n",
    "    ) as database:\n",
    "        print(f\"DATABSE Object : {database}\")\n",
    "        print(\"DATABASE Create:--------------------\")\n",
    "        # 파이썬에서 SQL코드를 일종의 문자열로 적용이 가능하다.\n",
    "        # delete_db = \"DROP DATABASE book_ratings;\" # 존재한다면 이 db를 지운다.\n",
    "        # create_db = \"CREATE DATABASE book_ratings;\" # 새로 만들어주기\n",
    "\n",
    "        with database.cursor() as cursor: # 만든 코드를 커서를 통해 SQL에 입력시켜서 실행시킨다!\n",
    "            query2 = \"\"\"\n",
    "                    SELECT\n",
    "\t                    productline,\n",
    "\t                    count(*)\n",
    "                    from products\n",
    "                    group by productline\n",
    "                    ;\n",
    "                    \"\"\"\n",
    "            cursor.execute(\"select * from books\")\n",
    "            cursor_result = cursor.fetchall()\n",
    "            for column in cursor_result:\n",
    "                print(column)\n",
    "                \n",
    "except connector.Error as e:\n",
    "    print(e)\n",
    "\n",
    "finally:\n",
    "    print(\"여기 코드는 진짜 무조건 실행해야 함\")"
   ]
  },
  {
   "cell_type": "markdown",
   "metadata": {},
   "source": [
    "### STEP 6. MAKE AS DATAFRAME"
   ]
  },
  {
   "cell_type": "code",
   "execution_count": 57,
   "metadata": {},
   "outputs": [
    {
     "name": "stdout",
     "output_type": "stream",
     "text": [
      "DataFrame with specific columns:\n",
      "           author  release_year\n",
      "0  James Altucher          2013\n",
      "1  James Altucher          2021\n",
      "2  James Altucher          2014\n",
      "3   Robert Greene          1998\n",
      "4   Robert Greene          2012\n",
      "5   Robert Greene          2001\n",
      "DataFrame with all columns:\n",
      "   id                                              title          author  \\\n",
      "0   1  Choose Yourself! Be Happy, Make Millions, Live...  James Altucher   \n",
      "1   2  Skip the Line: The 10,000 Experiments Rule and...  James Altucher   \n",
      "2   3  The Power of No: Because One Little Word Can B...  James Altucher   \n",
      "3   4                               The 48 Laws of Power   Robert Greene   \n",
      "4   5                                            Mastery   Robert Greene   \n",
      "5   6                               The Art of Seduction   Robert Greene   \n",
      "\n",
      "       genre  release_year  \n",
      "0  self-help          2013  \n",
      "1  self-help          2021  \n",
      "2  self-help          2014  \n",
      "3  self-help          1998  \n",
      "4  self-help          2012  \n",
      "5  self-help          2001  \n"
     ]
    }
   ],
   "source": [
    "PASSWORD = '12345678'  \n",
    "def fetch_data_to_dataframe(query, database=None):\n",
    "    try: \n",
    "\n",
    "        with connector.connect(\n",
    "            host=\"localhost\",\n",
    "            user=\"root\",\n",
    "            password=PASSWORD,\n",
    "            database=database\n",
    "        ) as existing_database:\n",
    "            \n",
    "            with existing_database.cursor() as cursor:\n",
    "                cursor.execute(query)\n",
    "                \n",
    "                # 테이블의 칼럼명을 추출하는 함수 -> List 형태로 변경\n",
    "                column_names = [i[0] for i in cursor.description]\n",
    "                \n",
    "                # Values, 데이터 값\n",
    "                returned_data = cursor.fetchall()\n",
    "                \n",
    "                # pandas 데이터프레임으로 변경\n",
    "                df = pd.DataFrame(returned_data, columns=column_names)\n",
    "                return df\n",
    "    \n",
    "    except connector.Error as e: \n",
    "        print(e)\n",
    "        return None\n",
    "\n",
    "# --------------------------------------------- 여기까지가 SQL 제어문\n",
    "\n",
    "query_specific_cols = \"SELECT author, release_year FROM books\"\n",
    "df_specific_cols = fetch_data_to_dataframe(query_specific_cols, \"book_ratings\")\n",
    "if df_specific_cols is not None:\n",
    "    print(\"DataFrame with specific columns:\")\n",
    "    print(df_specific_cols)\n",
    "\n",
    "query_all_cols = \"SELECT * FROM books\"\n",
    "df_all_cols = fetch_data_to_dataframe(query_all_cols, \"book_ratings\")\n",
    "if df_all_cols is not None:\n",
    "    print(\"DataFrame with all columns:\")\n",
    "    print(df_all_cols)"
   ]
  },
  {
   "cell_type": "code",
   "execution_count": 52,
   "metadata": {},
   "outputs": [
    {
     "data": {
      "text/html": [
       "<div>\n",
       "<style scoped>\n",
       "    .dataframe tbody tr th:only-of-type {\n",
       "        vertical-align: middle;\n",
       "    }\n",
       "\n",
       "    .dataframe tbody tr th {\n",
       "        vertical-align: top;\n",
       "    }\n",
       "\n",
       "    .dataframe thead th {\n",
       "        text-align: right;\n",
       "    }\n",
       "</style>\n",
       "<table border=\"1\" class=\"dataframe\">\n",
       "  <thead>\n",
       "    <tr style=\"text-align: right;\">\n",
       "      <th></th>\n",
       "      <th>author</th>\n",
       "      <th>release_year</th>\n",
       "    </tr>\n",
       "  </thead>\n",
       "  <tbody>\n",
       "    <tr>\n",
       "      <th>0</th>\n",
       "      <td>James Altucher</td>\n",
       "      <td>2013</td>\n",
       "    </tr>\n",
       "    <tr>\n",
       "      <th>1</th>\n",
       "      <td>James Altucher</td>\n",
       "      <td>2021</td>\n",
       "    </tr>\n",
       "    <tr>\n",
       "      <th>2</th>\n",
       "      <td>James Altucher</td>\n",
       "      <td>2014</td>\n",
       "    </tr>\n",
       "    <tr>\n",
       "      <th>3</th>\n",
       "      <td>Robert Greene</td>\n",
       "      <td>1998</td>\n",
       "    </tr>\n",
       "    <tr>\n",
       "      <th>4</th>\n",
       "      <td>Robert Greene</td>\n",
       "      <td>2012</td>\n",
       "    </tr>\n",
       "    <tr>\n",
       "      <th>5</th>\n",
       "      <td>Robert Greene</td>\n",
       "      <td>2001</td>\n",
       "    </tr>\n",
       "  </tbody>\n",
       "</table>\n",
       "</div>"
      ],
      "text/plain": [
       "           author  release_year\n",
       "0  James Altucher          2013\n",
       "1  James Altucher          2021\n",
       "2  James Altucher          2014\n",
       "3   Robert Greene          1998\n",
       "4   Robert Greene          2012\n",
       "5   Robert Greene          2001"
      ]
     },
     "execution_count": 52,
     "metadata": {},
     "output_type": "execute_result"
    }
   ],
   "source": [
    "df_specific_cols"
   ]
  },
  {
   "cell_type": "code",
   "execution_count": 58,
   "metadata": {},
   "outputs": [
    {
     "name": "stdout",
     "output_type": "stream",
     "text": [
      "DataFrame with all columns:\n",
      "        productline  count(*)\n",
      "0      Classic Cars        38\n",
      "1       Motorcycles        13\n",
      "2            Planes        12\n",
      "3             Ships         9\n",
      "4            Trains         3\n",
      "5  Trucks and Buses        11\n",
      "6      Vintage Cars        24\n"
     ]
    }
   ],
   "source": [
    "query_all_cols = \"SELECT productline, count(*) FROM products GROUP BY 1;\"\n",
    "df_all_cols = fetch_data_to_dataframe(query_all_cols, \"classicmodels\")\n",
    "if df_all_cols is not None:\n",
    "    print(\"DataFrame with all columns:\")\n",
    "    print(df_all_cols)"
   ]
  },
  {
   "cell_type": "code",
   "execution_count": 67,
   "metadata": {},
   "outputs": [
    {
     "name": "stdout",
     "output_type": "stream",
     "text": [
      "DataFrame with all columns:\n",
      "   ordernumber sum(quantityordered)\n",
      "0        10189                   28\n",
      "1        10277                   28\n",
      "2        10116                   27\n",
      "3        10158                   22\n",
      "4        10144                   20\n",
      "5        10408                   15\n"
     ]
    }
   ],
   "source": [
    "temp_query = '''\n",
    "select \n",
    "    ordernumber,\n",
    "    sum(quantityordered)\n",
    "from orderdetails\n",
    "group by 1\n",
    "Having sum(quantityordered) < 30\n",
    "order by 2 DESC\n",
    "'''\n",
    "\n",
    "query_all_cols = temp_query\n",
    "df_all_cols = fetch_data_to_dataframe(query_all_cols, \"classicmodels\")\n",
    "if df_all_cols is not None:\n",
    "    print(\"DataFrame with all columns:\")\n",
    "    print(df_all_cols)"
   ]
  },
  {
   "cell_type": "code",
   "execution_count": null,
   "metadata": {},
   "outputs": [],
   "source": []
  }
 ],
 "metadata": {
  "kernelspec": {
   "display_name": "venv",
   "language": "python",
   "name": "python3"
  },
  "language_info": {
   "codemirror_mode": {
    "name": "ipython",
    "version": 3
   },
   "file_extension": ".py",
   "mimetype": "text/x-python",
   "name": "python",
   "nbconvert_exporter": "python",
   "pygments_lexer": "ipython3",
   "version": "3.12.7"
  }
 },
 "nbformat": 4,
 "nbformat_minor": 2
}
