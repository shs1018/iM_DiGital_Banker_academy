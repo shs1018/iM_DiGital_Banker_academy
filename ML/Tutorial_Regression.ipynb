{
  "cells": [
    {
      "cell_type": "markdown",
      "id": "81e0620e",
      "metadata": {
        "id": "81e0620e"
      },
      "source": [
        "Last updated: 15 Feb 2023\n",
        "\n",
        "# 👋 PyCaret Regression Tutorial\n",
        "\n",
        "PyCaret is an open-source, low-code machine learning library in Python that automates machine learning workflows. It is an end-to-end machine learning and model management tool that exponentially speeds up the experiment cycle and makes you more productive.\n",
        "\n",
        "Compared with the other open-source machine learning libraries, PyCaret is an alternate low-code library that can be used to replace hundreds of lines of code with a few lines only. This makes experiments exponentially fast and efficient. PyCaret is essentially a Python wrapper around several machine learning libraries and frameworks, such as scikit-learn, XGBoost, LightGBM, CatBoost, spaCy, Optuna, Hyperopt, Ray, and a few more.\n",
        "\n",
        "The design and simplicity of PyCaret are inspired by the emerging role of citizen data scientists, a term first used by Gartner. Citizen Data Scientists are power users who can perform both simple and moderately sophisticated analytical tasks that would previously have required more technical expertise.\n"
      ]
    },
    {
      "cell_type": "markdown",
      "id": "8116e19d",
      "metadata": {
        "id": "8116e19d"
      },
      "source": [
        "# 💻 Installation\n",
        "\n",
        "PyCaret is tested and supported on the following 64-bit systems:\n",
        "- Python 3.7 – 3.10\n",
        "- Python 3.9 for Ubuntu only\n",
        "- Ubuntu 16.04 or later\n",
        "- Windows 7 or later\n",
        "\n",
        "You can install PyCaret with Python's pip package manager:\n",
        "\n",
        "`pip install pycaret`\n",
        "\n",
        "PyCaret's default installation will not install all the extra dependencies automatically. For that you will have to install the full version:\n",
        "\n",
        "`pip install pycaret[full]`\n",
        "\n",
        "or depending on your use-case you may install one of the following variant:\n",
        "\n",
        "- `pip install pycaret[analysis]`\n",
        "- `pip install pycaret[models]`\n",
        "- `pip install pycaret[tuner]`\n",
        "- `pip install pycaret[mlops]`\n",
        "- `pip install pycaret[parallel]`\n",
        "- `pip install pycaret[test]`"
      ]
    },
    {
      "cell_type": "code",
      "source": [
        "!pip install pycaret"
      ],
      "metadata": {
        "id": "gewCLpZabE-s",
        "outputId": "01cd85f6-32a9-401c-e9d5-3d57bb38f093",
        "colab": {
          "base_uri": "https://localhost:8080/",
          "height": 1000
        }
      },
      "id": "gewCLpZabE-s",
      "execution_count": 16,
      "outputs": [
        {
          "output_type": "stream",
          "name": "stdout",
          "text": [
            "Collecting pycaret\n",
            "  Downloading pycaret-3.3.2-py3-none-any.whl.metadata (17 kB)\n",
            "Requirement already satisfied: ipython>=5.5.0 in /usr/local/lib/python3.10/dist-packages (from pycaret) (7.34.0)\n",
            "Requirement already satisfied: ipywidgets>=7.6.5 in /usr/local/lib/python3.10/dist-packages (from pycaret) (7.7.1)\n",
            "Requirement already satisfied: tqdm>=4.62.0 in /usr/local/lib/python3.10/dist-packages (from pycaret) (4.66.6)\n",
            "Requirement already satisfied: numpy<1.27,>=1.21 in /usr/local/lib/python3.10/dist-packages (from pycaret) (1.26.4)\n",
            "Collecting pandas<2.2.0 (from pycaret)\n",
            "  Downloading pandas-2.1.4-cp310-cp310-manylinux_2_17_x86_64.manylinux2014_x86_64.whl.metadata (18 kB)\n",
            "Requirement already satisfied: jinja2>=3 in /usr/local/lib/python3.10/dist-packages (from pycaret) (3.1.4)\n",
            "Collecting scipy<=1.11.4,>=1.6.1 (from pycaret)\n",
            "  Downloading scipy-1.11.4-cp310-cp310-manylinux_2_17_x86_64.manylinux2014_x86_64.whl.metadata (60 kB)\n",
            "\u001b[2K     \u001b[90m━━━━━━━━━━━━━━━━━━━━━━━━━━━━━━━━━━━━━━━━\u001b[0m \u001b[32m60.4/60.4 kB\u001b[0m \u001b[31m4.2 MB/s\u001b[0m eta \u001b[36m0:00:00\u001b[0m\n",
            "\u001b[?25hCollecting joblib<1.4,>=1.2.0 (from pycaret)\n",
            "  Downloading joblib-1.3.2-py3-none-any.whl.metadata (5.4 kB)\n",
            "Requirement already satisfied: scikit-learn>1.4.0 in /usr/local/lib/python3.10/dist-packages (from pycaret) (1.5.2)\n",
            "Collecting pyod>=1.1.3 (from pycaret)\n",
            "  Downloading pyod-2.0.2.tar.gz (165 kB)\n",
            "\u001b[2K     \u001b[90m━━━━━━━━━━━━━━━━━━━━━━━━━━━━━━━━━━━━━━━━\u001b[0m \u001b[32m165.8/165.8 kB\u001b[0m \u001b[31m8.9 MB/s\u001b[0m eta \u001b[36m0:00:00\u001b[0m\n",
            "\u001b[?25h  Preparing metadata (setup.py) ... \u001b[?25l\u001b[?25hdone\n",
            "Requirement already satisfied: imbalanced-learn>=0.12.0 in /usr/local/lib/python3.10/dist-packages (from pycaret) (0.12.4)\n",
            "Collecting category-encoders>=2.4.0 (from pycaret)\n",
            "  Downloading category_encoders-2.6.4-py2.py3-none-any.whl.metadata (8.0 kB)\n",
            "Requirement already satisfied: lightgbm>=3.0.0 in /usr/local/lib/python3.10/dist-packages (from pycaret) (4.5.0)\n",
            "Requirement already satisfied: numba>=0.55.0 in /usr/local/lib/python3.10/dist-packages (from pycaret) (0.60.0)\n",
            "Requirement already satisfied: requests>=2.27.1 in /usr/local/lib/python3.10/dist-packages (from pycaret) (2.32.3)\n",
            "Requirement already satisfied: psutil>=5.9.0 in /usr/local/lib/python3.10/dist-packages (from pycaret) (5.9.5)\n",
            "Requirement already satisfied: markupsafe>=2.0.1 in /usr/local/lib/python3.10/dist-packages (from pycaret) (3.0.2)\n",
            "Requirement already satisfied: importlib-metadata>=4.12.0 in /usr/local/lib/python3.10/dist-packages (from pycaret) (8.5.0)\n",
            "Requirement already satisfied: nbformat>=4.2.0 in /usr/local/lib/python3.10/dist-packages (from pycaret) (5.10.4)\n",
            "Requirement already satisfied: cloudpickle in /usr/local/lib/python3.10/dist-packages (from pycaret) (3.1.0)\n",
            "Collecting deprecation>=2.1.0 (from pycaret)\n",
            "  Downloading deprecation-2.1.0-py2.py3-none-any.whl.metadata (4.6 kB)\n",
            "Collecting xxhash (from pycaret)\n",
            "  Downloading xxhash-3.5.0-cp310-cp310-manylinux_2_17_x86_64.manylinux2014_x86_64.whl.metadata (12 kB)\n",
            "Collecting matplotlib<3.8.0 (from pycaret)\n",
            "  Downloading matplotlib-3.7.5-cp310-cp310-manylinux_2_17_x86_64.manylinux2014_x86_64.whl.metadata (5.7 kB)\n",
            "Collecting scikit-plot>=0.3.7 (from pycaret)\n",
            "  Downloading scikit_plot-0.3.7-py3-none-any.whl.metadata (7.1 kB)\n",
            "Requirement already satisfied: yellowbrick>=1.4 in /usr/local/lib/python3.10/dist-packages (from pycaret) (1.5)\n",
            "Requirement already satisfied: plotly>=5.14.0 in /usr/local/lib/python3.10/dist-packages (from pycaret) (5.24.1)\n",
            "Collecting kaleido>=0.2.1 (from pycaret)\n",
            "  Downloading kaleido-0.2.1-py2.py3-none-manylinux1_x86_64.whl.metadata (15 kB)\n",
            "Collecting schemdraw==0.15 (from pycaret)\n",
            "  Downloading schemdraw-0.15-py3-none-any.whl.metadata (2.2 kB)\n",
            "Collecting plotly-resampler>=0.8.3.1 (from pycaret)\n",
            "  Downloading plotly_resampler-0.10.0-py3-none-any.whl.metadata (13 kB)\n",
            "Requirement already satisfied: statsmodels>=0.12.1 in /usr/local/lib/python3.10/dist-packages (from pycaret) (0.14.4)\n",
            "Collecting sktime==0.26.0 (from pycaret)\n",
            "  Downloading sktime-0.26.0-py3-none-any.whl.metadata (29 kB)\n",
            "Collecting tbats>=1.1.3 (from pycaret)\n",
            "  Downloading tbats-1.1.3-py3-none-any.whl.metadata (3.8 kB)\n",
            "Collecting pmdarima>=2.0.4 (from pycaret)\n",
            "  Downloading pmdarima-2.0.4-cp310-cp310-manylinux_2_17_x86_64.manylinux2014_x86_64.manylinux_2_28_x86_64.whl.metadata (7.8 kB)\n",
            "Collecting wurlitzer (from pycaret)\n",
            "  Downloading wurlitzer-3.1.1-py3-none-any.whl.metadata (2.5 kB)\n",
            "Requirement already satisfied: packaging in /usr/local/lib/python3.10/dist-packages (from sktime==0.26.0->pycaret) (24.2)\n",
            "Collecting scikit-base<0.8.0 (from sktime==0.26.0->pycaret)\n",
            "  Downloading scikit_base-0.7.8-py3-none-any.whl.metadata (8.8 kB)\n",
            "Collecting scikit-learn>1.4.0 (from pycaret)\n",
            "  Downloading scikit_learn-1.4.2-cp310-cp310-manylinux_2_17_x86_64.manylinux2014_x86_64.whl.metadata (11 kB)\n",
            "Requirement already satisfied: patsy>=0.5.1 in /usr/local/lib/python3.10/dist-packages (from category-encoders>=2.4.0->pycaret) (1.0.1)\n",
            "Requirement already satisfied: threadpoolctl>=2.0.0 in /usr/local/lib/python3.10/dist-packages (from imbalanced-learn>=0.12.0->pycaret) (3.5.0)\n",
            "Requirement already satisfied: zipp>=3.20 in /usr/local/lib/python3.10/dist-packages (from importlib-metadata>=4.12.0->pycaret) (3.21.0)\n",
            "Requirement already satisfied: setuptools>=18.5 in /usr/local/lib/python3.10/dist-packages (from ipython>=5.5.0->pycaret) (75.1.0)\n",
            "Collecting jedi>=0.16 (from ipython>=5.5.0->pycaret)\n",
            "  Downloading jedi-0.19.2-py2.py3-none-any.whl.metadata (22 kB)\n",
            "Requirement already satisfied: decorator in /usr/local/lib/python3.10/dist-packages (from ipython>=5.5.0->pycaret) (4.4.2)\n",
            "Requirement already satisfied: pickleshare in /usr/local/lib/python3.10/dist-packages (from ipython>=5.5.0->pycaret) (0.7.5)\n",
            "Requirement already satisfied: traitlets>=4.2 in /usr/local/lib/python3.10/dist-packages (from ipython>=5.5.0->pycaret) (5.7.1)\n",
            "Requirement already satisfied: prompt-toolkit!=3.0.0,!=3.0.1,<3.1.0,>=2.0.0 in /usr/local/lib/python3.10/dist-packages (from ipython>=5.5.0->pycaret) (3.0.48)\n",
            "Requirement already satisfied: pygments in /usr/local/lib/python3.10/dist-packages (from ipython>=5.5.0->pycaret) (2.18.0)\n",
            "Requirement already satisfied: backcall in /usr/local/lib/python3.10/dist-packages (from ipython>=5.5.0->pycaret) (0.2.0)\n",
            "Requirement already satisfied: matplotlib-inline in /usr/local/lib/python3.10/dist-packages (from ipython>=5.5.0->pycaret) (0.1.7)\n",
            "Requirement already satisfied: pexpect>4.3 in /usr/local/lib/python3.10/dist-packages (from ipython>=5.5.0->pycaret) (4.9.0)\n",
            "Requirement already satisfied: ipykernel>=4.5.1 in /usr/local/lib/python3.10/dist-packages (from ipywidgets>=7.6.5->pycaret) (5.5.6)\n",
            "Requirement already satisfied: ipython-genutils~=0.2.0 in /usr/local/lib/python3.10/dist-packages (from ipywidgets>=7.6.5->pycaret) (0.2.0)\n",
            "Requirement already satisfied: widgetsnbextension~=3.6.0 in /usr/local/lib/python3.10/dist-packages (from ipywidgets>=7.6.5->pycaret) (3.6.10)\n",
            "Requirement already satisfied: jupyterlab-widgets>=1.0.0 in /usr/local/lib/python3.10/dist-packages (from ipywidgets>=7.6.5->pycaret) (3.0.13)\n",
            "Requirement already satisfied: contourpy>=1.0.1 in /usr/local/lib/python3.10/dist-packages (from matplotlib<3.8.0->pycaret) (1.3.1)\n",
            "Requirement already satisfied: cycler>=0.10 in /usr/local/lib/python3.10/dist-packages (from matplotlib<3.8.0->pycaret) (0.12.1)\n",
            "Requirement already satisfied: fonttools>=4.22.0 in /usr/local/lib/python3.10/dist-packages (from matplotlib<3.8.0->pycaret) (4.55.0)\n",
            "Requirement already satisfied: kiwisolver>=1.0.1 in /usr/local/lib/python3.10/dist-packages (from matplotlib<3.8.0->pycaret) (1.4.7)\n",
            "Requirement already satisfied: pillow>=6.2.0 in /usr/local/lib/python3.10/dist-packages (from matplotlib<3.8.0->pycaret) (11.0.0)\n",
            "Requirement already satisfied: pyparsing>=2.3.1 in /usr/local/lib/python3.10/dist-packages (from matplotlib<3.8.0->pycaret) (3.2.0)\n",
            "Requirement already satisfied: python-dateutil>=2.7 in /usr/local/lib/python3.10/dist-packages (from matplotlib<3.8.0->pycaret) (2.8.2)\n",
            "Requirement already satisfied: fastjsonschema>=2.15 in /usr/local/lib/python3.10/dist-packages (from nbformat>=4.2.0->pycaret) (2.20.0)\n",
            "Requirement already satisfied: jsonschema>=2.6 in /usr/local/lib/python3.10/dist-packages (from nbformat>=4.2.0->pycaret) (4.23.0)\n",
            "Requirement already satisfied: jupyter-core!=5.0.*,>=4.12 in /usr/local/lib/python3.10/dist-packages (from nbformat>=4.2.0->pycaret) (5.7.2)\n",
            "Requirement already satisfied: llvmlite<0.44,>=0.43.0dev0 in /usr/local/lib/python3.10/dist-packages (from numba>=0.55.0->pycaret) (0.43.0)\n",
            "Requirement already satisfied: pytz>=2020.1 in /usr/local/lib/python3.10/dist-packages (from pandas<2.2.0->pycaret) (2024.2)\n",
            "Requirement already satisfied: tzdata>=2022.1 in /usr/local/lib/python3.10/dist-packages (from pandas<2.2.0->pycaret) (2024.2)\n",
            "Requirement already satisfied: tenacity>=6.2.0 in /usr/local/lib/python3.10/dist-packages (from plotly>=5.14.0->pycaret) (9.0.0)\n",
            "Collecting dash>=2.9.0 (from plotly-resampler>=0.8.3.1->pycaret)\n",
            "  Downloading dash-2.18.2-py3-none-any.whl.metadata (10 kB)\n",
            "Requirement already satisfied: orjson<4.0.0,>=3.8.0 in /usr/local/lib/python3.10/dist-packages (from plotly-resampler>=0.8.3.1->pycaret) (3.10.11)\n",
            "Collecting tsdownsample>=0.1.3 (from plotly-resampler>=0.8.3.1->pycaret)\n",
            "  Downloading tsdownsample-0.1.3-cp310-cp310-manylinux_2_17_x86_64.manylinux2014_x86_64.whl.metadata (7.9 kB)\n",
            "Requirement already satisfied: Cython!=0.29.18,!=0.29.31,>=0.29 in /usr/local/lib/python3.10/dist-packages (from pmdarima>=2.0.4->pycaret) (3.0.11)\n",
            "Requirement already satisfied: urllib3 in /usr/local/lib/python3.10/dist-packages (from pmdarima>=2.0.4->pycaret) (2.2.3)\n",
            "Requirement already satisfied: charset-normalizer<4,>=2 in /usr/local/lib/python3.10/dist-packages (from requests>=2.27.1->pycaret) (3.4.0)\n",
            "Requirement already satisfied: idna<4,>=2.5 in /usr/local/lib/python3.10/dist-packages (from requests>=2.27.1->pycaret) (3.10)\n",
            "Requirement already satisfied: certifi>=2017.4.17 in /usr/local/lib/python3.10/dist-packages (from requests>=2.27.1->pycaret) (2024.8.30)\n",
            "Requirement already satisfied: Flask<3.1,>=1.0.4 in /usr/local/lib/python3.10/dist-packages (from dash>=2.9.0->plotly-resampler>=0.8.3.1->pycaret) (3.0.3)\n",
            "Collecting Werkzeug<3.1 (from dash>=2.9.0->plotly-resampler>=0.8.3.1->pycaret)\n",
            "  Downloading werkzeug-3.0.6-py3-none-any.whl.metadata (3.7 kB)\n",
            "Collecting dash-html-components==2.0.0 (from dash>=2.9.0->plotly-resampler>=0.8.3.1->pycaret)\n",
            "  Downloading dash_html_components-2.0.0-py3-none-any.whl.metadata (3.8 kB)\n",
            "Collecting dash-core-components==2.0.0 (from dash>=2.9.0->plotly-resampler>=0.8.3.1->pycaret)\n",
            "  Downloading dash_core_components-2.0.0-py3-none-any.whl.metadata (2.9 kB)\n",
            "Collecting dash-table==5.0.0 (from dash>=2.9.0->plotly-resampler>=0.8.3.1->pycaret)\n",
            "  Downloading dash_table-5.0.0-py3-none-any.whl.metadata (2.4 kB)\n",
            "Requirement already satisfied: typing-extensions>=4.1.1 in /usr/local/lib/python3.10/dist-packages (from dash>=2.9.0->plotly-resampler>=0.8.3.1->pycaret) (4.12.2)\n",
            "Collecting retrying (from dash>=2.9.0->plotly-resampler>=0.8.3.1->pycaret)\n",
            "  Downloading retrying-1.3.4-py3-none-any.whl.metadata (6.9 kB)\n",
            "Requirement already satisfied: nest-asyncio in /usr/local/lib/python3.10/dist-packages (from dash>=2.9.0->plotly-resampler>=0.8.3.1->pycaret) (1.6.0)\n",
            "Requirement already satisfied: jupyter-client in /usr/local/lib/python3.10/dist-packages (from ipykernel>=4.5.1->ipywidgets>=7.6.5->pycaret) (6.1.12)\n",
            "Requirement already satisfied: tornado>=4.2 in /usr/local/lib/python3.10/dist-packages (from ipykernel>=4.5.1->ipywidgets>=7.6.5->pycaret) (6.3.3)\n",
            "Requirement already satisfied: parso<0.9.0,>=0.8.4 in /usr/local/lib/python3.10/dist-packages (from jedi>=0.16->ipython>=5.5.0->pycaret) (0.8.4)\n",
            "Requirement already satisfied: attrs>=22.2.0 in /usr/local/lib/python3.10/dist-packages (from jsonschema>=2.6->nbformat>=4.2.0->pycaret) (24.2.0)\n",
            "Requirement already satisfied: jsonschema-specifications>=2023.03.6 in /usr/local/lib/python3.10/dist-packages (from jsonschema>=2.6->nbformat>=4.2.0->pycaret) (2024.10.1)\n",
            "Requirement already satisfied: referencing>=0.28.4 in /usr/local/lib/python3.10/dist-packages (from jsonschema>=2.6->nbformat>=4.2.0->pycaret) (0.35.1)\n",
            "Requirement already satisfied: rpds-py>=0.7.1 in /usr/local/lib/python3.10/dist-packages (from jsonschema>=2.6->nbformat>=4.2.0->pycaret) (0.21.0)\n",
            "Requirement already satisfied: platformdirs>=2.5 in /usr/local/lib/python3.10/dist-packages (from jupyter-core!=5.0.*,>=4.12->nbformat>=4.2.0->pycaret) (4.3.6)\n",
            "Requirement already satisfied: ptyprocess>=0.5 in /usr/local/lib/python3.10/dist-packages (from pexpect>4.3->ipython>=5.5.0->pycaret) (0.7.0)\n",
            "Requirement already satisfied: wcwidth in /usr/local/lib/python3.10/dist-packages (from prompt-toolkit!=3.0.0,!=3.0.1,<3.1.0,>=2.0.0->ipython>=5.5.0->pycaret) (0.2.13)\n",
            "Requirement already satisfied: six>=1.5 in /usr/local/lib/python3.10/dist-packages (from python-dateutil>=2.7->matplotlib<3.8.0->pycaret) (1.16.0)\n",
            "Requirement already satisfied: notebook>=4.4.1 in /usr/local/lib/python3.10/dist-packages (from widgetsnbextension~=3.6.0->ipywidgets>=7.6.5->pycaret) (6.5.5)\n",
            "Requirement already satisfied: itsdangerous>=2.1.2 in /usr/local/lib/python3.10/dist-packages (from Flask<3.1,>=1.0.4->dash>=2.9.0->plotly-resampler>=0.8.3.1->pycaret) (2.2.0)\n",
            "Requirement already satisfied: click>=8.1.3 in /usr/local/lib/python3.10/dist-packages (from Flask<3.1,>=1.0.4->dash>=2.9.0->plotly-resampler>=0.8.3.1->pycaret) (8.1.7)\n",
            "Requirement already satisfied: blinker>=1.6.2 in /usr/local/lib/python3.10/dist-packages (from Flask<3.1,>=1.0.4->dash>=2.9.0->plotly-resampler>=0.8.3.1->pycaret) (1.9.0)\n",
            "Requirement already satisfied: pyzmq<25,>=17 in /usr/local/lib/python3.10/dist-packages (from notebook>=4.4.1->widgetsnbextension~=3.6.0->ipywidgets>=7.6.5->pycaret) (24.0.1)\n",
            "Requirement already satisfied: argon2-cffi in /usr/local/lib/python3.10/dist-packages (from notebook>=4.4.1->widgetsnbextension~=3.6.0->ipywidgets>=7.6.5->pycaret) (23.1.0)\n",
            "Requirement already satisfied: nbconvert>=5 in /usr/local/lib/python3.10/dist-packages (from notebook>=4.4.1->widgetsnbextension~=3.6.0->ipywidgets>=7.6.5->pycaret) (7.16.4)\n",
            "Requirement already satisfied: Send2Trash>=1.8.0 in /usr/local/lib/python3.10/dist-packages (from notebook>=4.4.1->widgetsnbextension~=3.6.0->ipywidgets>=7.6.5->pycaret) (1.8.3)\n",
            "Requirement already satisfied: terminado>=0.8.3 in /usr/local/lib/python3.10/dist-packages (from notebook>=4.4.1->widgetsnbextension~=3.6.0->ipywidgets>=7.6.5->pycaret) (0.18.1)\n",
            "Requirement already satisfied: prometheus-client in /usr/local/lib/python3.10/dist-packages (from notebook>=4.4.1->widgetsnbextension~=3.6.0->ipywidgets>=7.6.5->pycaret) (0.21.0)\n",
            "Requirement already satisfied: nbclassic>=0.4.7 in /usr/local/lib/python3.10/dist-packages (from notebook>=4.4.1->widgetsnbextension~=3.6.0->ipywidgets>=7.6.5->pycaret) (1.1.0)\n",
            "Requirement already satisfied: notebook-shim>=0.2.3 in /usr/local/lib/python3.10/dist-packages (from nbclassic>=0.4.7->notebook>=4.4.1->widgetsnbextension~=3.6.0->ipywidgets>=7.6.5->pycaret) (0.2.4)\n",
            "Requirement already satisfied: beautifulsoup4 in /usr/local/lib/python3.10/dist-packages (from nbconvert>=5->notebook>=4.4.1->widgetsnbextension~=3.6.0->ipywidgets>=7.6.5->pycaret) (4.12.3)\n",
            "Requirement already satisfied: bleach!=5.0.0 in /usr/local/lib/python3.10/dist-packages (from nbconvert>=5->notebook>=4.4.1->widgetsnbextension~=3.6.0->ipywidgets>=7.6.5->pycaret) (6.2.0)\n",
            "Requirement already satisfied: defusedxml in /usr/local/lib/python3.10/dist-packages (from nbconvert>=5->notebook>=4.4.1->widgetsnbextension~=3.6.0->ipywidgets>=7.6.5->pycaret) (0.7.1)\n",
            "Requirement already satisfied: jupyterlab-pygments in /usr/local/lib/python3.10/dist-packages (from nbconvert>=5->notebook>=4.4.1->widgetsnbextension~=3.6.0->ipywidgets>=7.6.5->pycaret) (0.3.0)\n",
            "Requirement already satisfied: mistune<4,>=2.0.3 in /usr/local/lib/python3.10/dist-packages (from nbconvert>=5->notebook>=4.4.1->widgetsnbextension~=3.6.0->ipywidgets>=7.6.5->pycaret) (3.0.2)\n",
            "Requirement already satisfied: nbclient>=0.5.0 in /usr/local/lib/python3.10/dist-packages (from nbconvert>=5->notebook>=4.4.1->widgetsnbextension~=3.6.0->ipywidgets>=7.6.5->pycaret) (0.10.0)\n",
            "Requirement already satisfied: pandocfilters>=1.4.1 in /usr/local/lib/python3.10/dist-packages (from nbconvert>=5->notebook>=4.4.1->widgetsnbextension~=3.6.0->ipywidgets>=7.6.5->pycaret) (1.5.1)\n",
            "Requirement already satisfied: tinycss2 in /usr/local/lib/python3.10/dist-packages (from nbconvert>=5->notebook>=4.4.1->widgetsnbextension~=3.6.0->ipywidgets>=7.6.5->pycaret) (1.4.0)\n",
            "Requirement already satisfied: argon2-cffi-bindings in /usr/local/lib/python3.10/dist-packages (from argon2-cffi->notebook>=4.4.1->widgetsnbextension~=3.6.0->ipywidgets>=7.6.5->pycaret) (21.2.0)\n",
            "Requirement already satisfied: webencodings in /usr/local/lib/python3.10/dist-packages (from bleach!=5.0.0->nbconvert>=5->notebook>=4.4.1->widgetsnbextension~=3.6.0->ipywidgets>=7.6.5->pycaret) (0.5.1)\n",
            "Requirement already satisfied: jupyter-server<3,>=1.8 in /usr/local/lib/python3.10/dist-packages (from notebook-shim>=0.2.3->nbclassic>=0.4.7->notebook>=4.4.1->widgetsnbextension~=3.6.0->ipywidgets>=7.6.5->pycaret) (1.24.0)\n",
            "Requirement already satisfied: cffi>=1.0.1 in /usr/local/lib/python3.10/dist-packages (from argon2-cffi-bindings->argon2-cffi->notebook>=4.4.1->widgetsnbextension~=3.6.0->ipywidgets>=7.6.5->pycaret) (1.17.1)\n",
            "Requirement already satisfied: soupsieve>1.2 in /usr/local/lib/python3.10/dist-packages (from beautifulsoup4->nbconvert>=5->notebook>=4.4.1->widgetsnbextension~=3.6.0->ipywidgets>=7.6.5->pycaret) (2.6)\n",
            "Requirement already satisfied: pycparser in /usr/local/lib/python3.10/dist-packages (from cffi>=1.0.1->argon2-cffi-bindings->argon2-cffi->notebook>=4.4.1->widgetsnbextension~=3.6.0->ipywidgets>=7.6.5->pycaret) (2.22)\n",
            "Requirement already satisfied: anyio<4,>=3.1.0 in /usr/local/lib/python3.10/dist-packages (from jupyter-server<3,>=1.8->notebook-shim>=0.2.3->nbclassic>=0.4.7->notebook>=4.4.1->widgetsnbextension~=3.6.0->ipywidgets>=7.6.5->pycaret) (3.7.1)\n",
            "Requirement already satisfied: websocket-client in /usr/local/lib/python3.10/dist-packages (from jupyter-server<3,>=1.8->notebook-shim>=0.2.3->nbclassic>=0.4.7->notebook>=4.4.1->widgetsnbextension~=3.6.0->ipywidgets>=7.6.5->pycaret) (1.8.0)\n",
            "Requirement already satisfied: sniffio>=1.1 in /usr/local/lib/python3.10/dist-packages (from anyio<4,>=3.1.0->jupyter-server<3,>=1.8->notebook-shim>=0.2.3->nbclassic>=0.4.7->notebook>=4.4.1->widgetsnbextension~=3.6.0->ipywidgets>=7.6.5->pycaret) (1.3.1)\n",
            "Requirement already satisfied: exceptiongroup in /usr/local/lib/python3.10/dist-packages (from anyio<4,>=3.1.0->jupyter-server<3,>=1.8->notebook-shim>=0.2.3->nbclassic>=0.4.7->notebook>=4.4.1->widgetsnbextension~=3.6.0->ipywidgets>=7.6.5->pycaret) (1.2.2)\n",
            "Downloading pycaret-3.3.2-py3-none-any.whl (486 kB)\n",
            "\u001b[2K   \u001b[90m━━━━━━━━━━━━━━━━━━━━━━━━━━━━━━━━━━━━━━━━\u001b[0m \u001b[32m486.1/486.1 kB\u001b[0m \u001b[31m26.8 MB/s\u001b[0m eta \u001b[36m0:00:00\u001b[0m\n",
            "\u001b[?25hDownloading schemdraw-0.15-py3-none-any.whl (106 kB)\n",
            "\u001b[2K   \u001b[90m━━━━━━━━━━━━━━━━━━━━━━━━━━━━━━━━━━━━━━━━\u001b[0m \u001b[32m106.8/106.8 kB\u001b[0m \u001b[31m6.6 MB/s\u001b[0m eta \u001b[36m0:00:00\u001b[0m\n",
            "\u001b[?25hDownloading sktime-0.26.0-py3-none-any.whl (21.8 MB)\n",
            "\u001b[2K   \u001b[90m━━━━━━━━━━━━━━━━━━━━━━━━━━━━━━━━━━━━━━━━\u001b[0m \u001b[32m21.8/21.8 MB\u001b[0m \u001b[31m42.3 MB/s\u001b[0m eta \u001b[36m0:00:00\u001b[0m\n",
            "\u001b[?25hDownloading category_encoders-2.6.4-py2.py3-none-any.whl (82 kB)\n",
            "\u001b[2K   \u001b[90m━━━━━━━━━━━━━━━━━━━━━━━━━━━━━━━━━━━━━━━━\u001b[0m \u001b[32m82.0/82.0 kB\u001b[0m \u001b[31m5.6 MB/s\u001b[0m eta \u001b[36m0:00:00\u001b[0m\n",
            "\u001b[?25hDownloading deprecation-2.1.0-py2.py3-none-any.whl (11 kB)\n",
            "Downloading joblib-1.3.2-py3-none-any.whl (302 kB)\n",
            "\u001b[2K   \u001b[90m━━━━━━━━━━━━━━━━━━━━━━━━━━━━━━━━━━━━━━━━\u001b[0m \u001b[32m302.2/302.2 kB\u001b[0m \u001b[31m16.6 MB/s\u001b[0m eta \u001b[36m0:00:00\u001b[0m\n",
            "\u001b[?25hDownloading kaleido-0.2.1-py2.py3-none-manylinux1_x86_64.whl (79.9 MB)\n",
            "\u001b[2K   \u001b[90m━━━━━━━━━━━━━━━━━━━━━━━━━━━━━━━━━━━━━━━━\u001b[0m \u001b[32m79.9/79.9 MB\u001b[0m \u001b[31m7.8 MB/s\u001b[0m eta \u001b[36m0:00:00\u001b[0m\n",
            "\u001b[?25hDownloading matplotlib-3.7.5-cp310-cp310-manylinux_2_17_x86_64.manylinux2014_x86_64.whl (11.6 MB)\n",
            "\u001b[2K   \u001b[90m━━━━━━━━━━━━━━━━━━━━━━━━━━━━━━━━━━━━━━━━\u001b[0m \u001b[32m11.6/11.6 MB\u001b[0m \u001b[31m35.0 MB/s\u001b[0m eta \u001b[36m0:00:00\u001b[0m\n",
            "\u001b[?25hDownloading pandas-2.1.4-cp310-cp310-manylinux_2_17_x86_64.manylinux2014_x86_64.whl (12.3 MB)\n",
            "\u001b[2K   \u001b[90m━━━━━━━━━━━━━━━━━━━━━━━━━━━━━━━━━━━━━━━━\u001b[0m \u001b[32m12.3/12.3 MB\u001b[0m \u001b[31m58.0 MB/s\u001b[0m eta \u001b[36m0:00:00\u001b[0m\n",
            "\u001b[?25hDownloading plotly_resampler-0.10.0-py3-none-any.whl (80 kB)\n",
            "\u001b[2K   \u001b[90m━━━━━━━━━━━━━━━━━━━━━━━━━━━━━━━━━━━━━━━━\u001b[0m \u001b[32m80.7/80.7 kB\u001b[0m \u001b[31m4.7 MB/s\u001b[0m eta \u001b[36m0:00:00\u001b[0m\n",
            "\u001b[?25hDownloading pmdarima-2.0.4-cp310-cp310-manylinux_2_17_x86_64.manylinux2014_x86_64.manylinux_2_28_x86_64.whl (2.1 MB)\n",
            "\u001b[2K   \u001b[90m━━━━━━━━━━━━━━━━━━━━━━━━━━━━━━━━━━━━━━━━\u001b[0m \u001b[32m2.1/2.1 MB\u001b[0m \u001b[31m55.2 MB/s\u001b[0m eta \u001b[36m0:00:00\u001b[0m\n",
            "\u001b[?25hDownloading scikit_learn-1.4.2-cp310-cp310-manylinux_2_17_x86_64.manylinux2014_x86_64.whl (12.1 MB)\n",
            "\u001b[2K   \u001b[90m━━━━━━━━━━━━━━━━━━━━━━━━━━━━━━━━━━━━━━━━\u001b[0m \u001b[32m12.1/12.1 MB\u001b[0m \u001b[31m26.4 MB/s\u001b[0m eta \u001b[36m0:00:00\u001b[0m\n",
            "\u001b[?25hDownloading scikit_plot-0.3.7-py3-none-any.whl (33 kB)\n",
            "Downloading scipy-1.11.4-cp310-cp310-manylinux_2_17_x86_64.manylinux2014_x86_64.whl (36.4 MB)\n",
            "\u001b[2K   \u001b[90m━━━━━━━━━━━━━━━━━━━━━━━━━━━━━━━━━━━━━━━━\u001b[0m \u001b[32m36.4/36.4 MB\u001b[0m \u001b[31m10.5 MB/s\u001b[0m eta \u001b[36m0:00:00\u001b[0m\n",
            "\u001b[?25hDownloading tbats-1.1.3-py3-none-any.whl (44 kB)\n",
            "\u001b[2K   \u001b[90m━━━━━━━━━━━━━━━━━━━━━━━━━━━━━━━━━━━━━━━━\u001b[0m \u001b[32m44.0/44.0 kB\u001b[0m \u001b[31m3.0 MB/s\u001b[0m eta \u001b[36m0:00:00\u001b[0m\n",
            "\u001b[?25hDownloading wurlitzer-3.1.1-py3-none-any.whl (8.6 kB)\n",
            "Downloading xxhash-3.5.0-cp310-cp310-manylinux_2_17_x86_64.manylinux2014_x86_64.whl (194 kB)\n",
            "\u001b[2K   \u001b[90m━━━━━━━━━━━━━━━━━━━━━━━━━━━━━━━━━━━━━━━━\u001b[0m \u001b[32m194.1/194.1 kB\u001b[0m \u001b[31m14.5 MB/s\u001b[0m eta \u001b[36m0:00:00\u001b[0m\n",
            "\u001b[?25hDownloading dash-2.18.2-py3-none-any.whl (7.8 MB)\n",
            "\u001b[2K   \u001b[90m━━━━━━━━━━━━━━━━━━━━━━━━━━━━━━━━━━━━━━━━\u001b[0m \u001b[32m7.8/7.8 MB\u001b[0m \u001b[31m61.6 MB/s\u001b[0m eta \u001b[36m0:00:00\u001b[0m\n",
            "\u001b[?25hDownloading dash_core_components-2.0.0-py3-none-any.whl (3.8 kB)\n",
            "Downloading dash_html_components-2.0.0-py3-none-any.whl (4.1 kB)\n",
            "Downloading dash_table-5.0.0-py3-none-any.whl (3.9 kB)\n",
            "Downloading jedi-0.19.2-py2.py3-none-any.whl (1.6 MB)\n",
            "\u001b[2K   \u001b[90m━━━━━━━━━━━━━━━━━━━━━━━━━━━━━━━━━━━━━━━━\u001b[0m \u001b[32m1.6/1.6 MB\u001b[0m \u001b[31m46.7 MB/s\u001b[0m eta \u001b[36m0:00:00\u001b[0m\n",
            "\u001b[?25hDownloading scikit_base-0.7.8-py3-none-any.whl (130 kB)\n",
            "\u001b[2K   \u001b[90m━━━━━━━━━━━━━━━━━━━━━━━━━━━━━━━━━━━━━━━━\u001b[0m \u001b[32m130.1/130.1 kB\u001b[0m \u001b[31m10.2 MB/s\u001b[0m eta \u001b[36m0:00:00\u001b[0m\n",
            "\u001b[?25hDownloading tsdownsample-0.1.3-cp310-cp310-manylinux_2_17_x86_64.manylinux2014_x86_64.whl (2.1 MB)\n",
            "\u001b[2K   \u001b[90m━━━━━━━━━━━━━━━━━━━━━━━━━━━━━━━━━━━━━━━━\u001b[0m \u001b[32m2.1/2.1 MB\u001b[0m \u001b[31m52.6 MB/s\u001b[0m eta \u001b[36m0:00:00\u001b[0m\n",
            "\u001b[?25hDownloading werkzeug-3.0.6-py3-none-any.whl (227 kB)\n",
            "\u001b[2K   \u001b[90m━━━━━━━━━━━━━━━━━━━━━━━━━━━━━━━━━━━━━━━━\u001b[0m \u001b[32m228.0/228.0 kB\u001b[0m \u001b[31m17.6 MB/s\u001b[0m eta \u001b[36m0:00:00\u001b[0m\n",
            "\u001b[?25hDownloading retrying-1.3.4-py3-none-any.whl (11 kB)\n",
            "Building wheels for collected packages: pyod\n",
            "  Building wheel for pyod (setup.py) ... \u001b[?25l\u001b[?25hdone\n",
            "  Created wheel for pyod: filename=pyod-2.0.2-py3-none-any.whl size=198469 sha256=ffac12ea052e854ca45fa2c3effcedfa9ba7ce1eee971d3d4e90fc3fb5bde6b2\n",
            "  Stored in directory: /root/.cache/pip/wheels/77/c2/20/34d1f15b41b701ba69f42a32304825810d680754d509f91391\n",
            "Successfully built pyod\n",
            "Installing collected packages: kaleido, dash-table, dash-html-components, dash-core-components, xxhash, wurlitzer, Werkzeug, tsdownsample, scipy, scikit-base, schemdraw, retrying, joblib, jedi, deprecation, scikit-learn, pandas, matplotlib, sktime, scikit-plot, pyod, dash, pmdarima, plotly-resampler, category-encoders, tbats, pycaret\n",
            "  Attempting uninstall: Werkzeug\n",
            "    Found existing installation: Werkzeug 3.1.3\n",
            "    Uninstalling Werkzeug-3.1.3:\n",
            "      Successfully uninstalled Werkzeug-3.1.3\n",
            "  Attempting uninstall: scipy\n",
            "    Found existing installation: scipy 1.13.1\n",
            "    Uninstalling scipy-1.13.1:\n",
            "      Successfully uninstalled scipy-1.13.1\n",
            "  Attempting uninstall: joblib\n",
            "    Found existing installation: joblib 1.4.2\n",
            "    Uninstalling joblib-1.4.2:\n",
            "      Successfully uninstalled joblib-1.4.2\n",
            "  Attempting uninstall: scikit-learn\n",
            "    Found existing installation: scikit-learn 1.5.2\n",
            "    Uninstalling scikit-learn-1.5.2:\n",
            "      Successfully uninstalled scikit-learn-1.5.2\n",
            "  Attempting uninstall: pandas\n",
            "    Found existing installation: pandas 2.2.2\n",
            "    Uninstalling pandas-2.2.2:\n",
            "      Successfully uninstalled pandas-2.2.2\n",
            "  Attempting uninstall: matplotlib\n",
            "    Found existing installation: matplotlib 3.8.0\n",
            "    Uninstalling matplotlib-3.8.0:\n",
            "      Successfully uninstalled matplotlib-3.8.0\n",
            "\u001b[31mERROR: pip's dependency resolver does not currently take into account all the packages that are installed. This behaviour is the source of the following dependency conflicts.\n",
            "google-colab 1.0.0 requires pandas==2.2.2, but you have pandas 2.1.4 which is incompatible.\n",
            "mizani 0.13.0 requires pandas>=2.2.0, but you have pandas 2.1.4 which is incompatible.\n",
            "plotnine 0.14.1 requires matplotlib>=3.8.0, but you have matplotlib 3.7.5 which is incompatible.\n",
            "plotnine 0.14.1 requires pandas>=2.2.0, but you have pandas 2.1.4 which is incompatible.\u001b[0m\u001b[31m\n",
            "\u001b[0mSuccessfully installed Werkzeug-3.0.6 category-encoders-2.6.4 dash-2.18.2 dash-core-components-2.0.0 dash-html-components-2.0.0 dash-table-5.0.0 deprecation-2.1.0 jedi-0.19.2 joblib-1.3.2 kaleido-0.2.1 matplotlib-3.7.5 pandas-2.1.4 plotly-resampler-0.10.0 pmdarima-2.0.4 pycaret-3.3.2 pyod-2.0.2 retrying-1.3.4 schemdraw-0.15 scikit-base-0.7.8 scikit-learn-1.4.2 scikit-plot-0.3.7 scipy-1.11.4 sktime-0.26.0 tbats-1.1.3 tsdownsample-0.1.3 wurlitzer-3.1.1 xxhash-3.5.0\n"
          ]
        },
        {
          "output_type": "display_data",
          "data": {
            "application/vnd.colab-display-data+json": {
              "pip_warning": {
                "packages": [
                  "matplotlib",
                  "mpl_toolkits"
                ]
              },
              "id": "77d65ee18429418399b78619f3320a65"
            }
          },
          "metadata": {}
        }
      ]
    },
    {
      "cell_type": "code",
      "execution_count": 1,
      "id": "d7142a33",
      "metadata": {
        "id": "d7142a33",
        "outputId": "19e59c36-5843-480d-f637-8839e4e25c4d",
        "colab": {
          "base_uri": "https://localhost:8080/",
          "height": 35
        }
      },
      "outputs": [
        {
          "output_type": "execute_result",
          "data": {
            "text/plain": [
              "'3.3.2'"
            ],
            "application/vnd.google.colaboratory.intrinsic+json": {
              "type": "string"
            }
          },
          "metadata": {},
          "execution_count": 1
        }
      ],
      "source": [
        "# check installed version (must be >3.0)\n",
        "import pycaret\n",
        "pycaret.__version__"
      ]
    },
    {
      "cell_type": "markdown",
      "id": "fb66e98d",
      "metadata": {
        "id": "fb66e98d"
      },
      "source": [
        "# 🚀 Quick start"
      ]
    },
    {
      "cell_type": "markdown",
      "id": "00347d44",
      "metadata": {
        "id": "00347d44"
      },
      "source": [
        "PyCaret's Regression Module is a supervised machine learning module that is used for estimating the relationships between a dependent variable (often called the outcome variable, or target) and one or more independent variables (often called features, predictors, or covariates).\n",
        "\n",
        "The objective of regression is to predict continuous values such as predicting sales amount, predicting quantity, predicting temperature, etc. Regression module provides several pre-processing features to preprocess the data for modeling through the setup function.\n",
        "\n",
        "PyCaret's regression module has many preprocessing capabilities and it coems with over 25 ready-to-use algorithms and several plots to analyze the performance of trained models.\n",
        "\n",
        "A typical workflow in PyCaret Regression module consist of the following 5 steps in this order:\n",
        "\n",
        "### **Setup** ➡️ **Compare Models** ➡️ **Analyze Model** ➡️ **Prediction** ➡️ **Save Model**\n",
        "<br/>"
      ]
    },
    {
      "cell_type": "code",
      "execution_count": 2,
      "id": "1b09f8df",
      "metadata": {
        "id": "1b09f8df",
        "outputId": "de92203e-41c1-41fd-9948-634160edccba",
        "colab": {
          "base_uri": "https://localhost:8080/",
          "height": 206
        }
      },
      "outputs": [
        {
          "output_type": "display_data",
          "data": {
            "text/plain": [
              "   age     sex     bmi  children smoker     region      charges\n",
              "0   19  female  27.900         0    yes  southwest  16884.92400\n",
              "1   18    male  33.770         1     no  southeast   1725.55230\n",
              "2   28    male  33.000         3     no  southeast   4449.46200\n",
              "3   33    male  22.705         0     no  northwest  21984.47061\n",
              "4   32    male  28.880         0     no  northwest   3866.85520"
            ],
            "text/html": [
              "\n",
              "  <div id=\"df-cbce86d8-786e-4138-93c5-fbeda1123c30\" class=\"colab-df-container\">\n",
              "    <div>\n",
              "<style scoped>\n",
              "    .dataframe tbody tr th:only-of-type {\n",
              "        vertical-align: middle;\n",
              "    }\n",
              "\n",
              "    .dataframe tbody tr th {\n",
              "        vertical-align: top;\n",
              "    }\n",
              "\n",
              "    .dataframe thead th {\n",
              "        text-align: right;\n",
              "    }\n",
              "</style>\n",
              "<table border=\"1\" class=\"dataframe\">\n",
              "  <thead>\n",
              "    <tr style=\"text-align: right;\">\n",
              "      <th></th>\n",
              "      <th>age</th>\n",
              "      <th>sex</th>\n",
              "      <th>bmi</th>\n",
              "      <th>children</th>\n",
              "      <th>smoker</th>\n",
              "      <th>region</th>\n",
              "      <th>charges</th>\n",
              "    </tr>\n",
              "  </thead>\n",
              "  <tbody>\n",
              "    <tr>\n",
              "      <th>0</th>\n",
              "      <td>19</td>\n",
              "      <td>female</td>\n",
              "      <td>27.900</td>\n",
              "      <td>0</td>\n",
              "      <td>yes</td>\n",
              "      <td>southwest</td>\n",
              "      <td>16884.92400</td>\n",
              "    </tr>\n",
              "    <tr>\n",
              "      <th>1</th>\n",
              "      <td>18</td>\n",
              "      <td>male</td>\n",
              "      <td>33.770</td>\n",
              "      <td>1</td>\n",
              "      <td>no</td>\n",
              "      <td>southeast</td>\n",
              "      <td>1725.55230</td>\n",
              "    </tr>\n",
              "    <tr>\n",
              "      <th>2</th>\n",
              "      <td>28</td>\n",
              "      <td>male</td>\n",
              "      <td>33.000</td>\n",
              "      <td>3</td>\n",
              "      <td>no</td>\n",
              "      <td>southeast</td>\n",
              "      <td>4449.46200</td>\n",
              "    </tr>\n",
              "    <tr>\n",
              "      <th>3</th>\n",
              "      <td>33</td>\n",
              "      <td>male</td>\n",
              "      <td>22.705</td>\n",
              "      <td>0</td>\n",
              "      <td>no</td>\n",
              "      <td>northwest</td>\n",
              "      <td>21984.47061</td>\n",
              "    </tr>\n",
              "    <tr>\n",
              "      <th>4</th>\n",
              "      <td>32</td>\n",
              "      <td>male</td>\n",
              "      <td>28.880</td>\n",
              "      <td>0</td>\n",
              "      <td>no</td>\n",
              "      <td>northwest</td>\n",
              "      <td>3866.85520</td>\n",
              "    </tr>\n",
              "  </tbody>\n",
              "</table>\n",
              "</div>\n",
              "    <div class=\"colab-df-buttons\">\n",
              "\n",
              "  <div class=\"colab-df-container\">\n",
              "    <button class=\"colab-df-convert\" onclick=\"convertToInteractive('df-cbce86d8-786e-4138-93c5-fbeda1123c30')\"\n",
              "            title=\"Convert this dataframe to an interactive table.\"\n",
              "            style=\"display:none;\">\n",
              "\n",
              "  <svg xmlns=\"http://www.w3.org/2000/svg\" height=\"24px\" viewBox=\"0 -960 960 960\">\n",
              "    <path d=\"M120-120v-720h720v720H120Zm60-500h600v-160H180v160Zm220 220h160v-160H400v160Zm0 220h160v-160H400v160ZM180-400h160v-160H180v160Zm440 0h160v-160H620v160ZM180-180h160v-160H180v160Zm440 0h160v-160H620v160Z\"/>\n",
              "  </svg>\n",
              "    </button>\n",
              "\n",
              "  <style>\n",
              "    .colab-df-container {\n",
              "      display:flex;\n",
              "      gap: 12px;\n",
              "    }\n",
              "\n",
              "    .colab-df-convert {\n",
              "      background-color: #E8F0FE;\n",
              "      border: none;\n",
              "      border-radius: 50%;\n",
              "      cursor: pointer;\n",
              "      display: none;\n",
              "      fill: #1967D2;\n",
              "      height: 32px;\n",
              "      padding: 0 0 0 0;\n",
              "      width: 32px;\n",
              "    }\n",
              "\n",
              "    .colab-df-convert:hover {\n",
              "      background-color: #E2EBFA;\n",
              "      box-shadow: 0px 1px 2px rgba(60, 64, 67, 0.3), 0px 1px 3px 1px rgba(60, 64, 67, 0.15);\n",
              "      fill: #174EA6;\n",
              "    }\n",
              "\n",
              "    .colab-df-buttons div {\n",
              "      margin-bottom: 4px;\n",
              "    }\n",
              "\n",
              "    [theme=dark] .colab-df-convert {\n",
              "      background-color: #3B4455;\n",
              "      fill: #D2E3FC;\n",
              "    }\n",
              "\n",
              "    [theme=dark] .colab-df-convert:hover {\n",
              "      background-color: #434B5C;\n",
              "      box-shadow: 0px 1px 3px 1px rgba(0, 0, 0, 0.15);\n",
              "      filter: drop-shadow(0px 1px 2px rgba(0, 0, 0, 0.3));\n",
              "      fill: #FFFFFF;\n",
              "    }\n",
              "  </style>\n",
              "\n",
              "    <script>\n",
              "      const buttonEl =\n",
              "        document.querySelector('#df-cbce86d8-786e-4138-93c5-fbeda1123c30 button.colab-df-convert');\n",
              "      buttonEl.style.display =\n",
              "        google.colab.kernel.accessAllowed ? 'block' : 'none';\n",
              "\n",
              "      async function convertToInteractive(key) {\n",
              "        const element = document.querySelector('#df-cbce86d8-786e-4138-93c5-fbeda1123c30');\n",
              "        const dataTable =\n",
              "          await google.colab.kernel.invokeFunction('convertToInteractive',\n",
              "                                                    [key], {});\n",
              "        if (!dataTable) return;\n",
              "\n",
              "        const docLinkHtml = 'Like what you see? Visit the ' +\n",
              "          '<a target=\"_blank\" href=https://colab.research.google.com/notebooks/data_table.ipynb>data table notebook</a>'\n",
              "          + ' to learn more about interactive tables.';\n",
              "        element.innerHTML = '';\n",
              "        dataTable['output_type'] = 'display_data';\n",
              "        await google.colab.output.renderOutput(dataTable, element);\n",
              "        const docLink = document.createElement('div');\n",
              "        docLink.innerHTML = docLinkHtml;\n",
              "        element.appendChild(docLink);\n",
              "      }\n",
              "    </script>\n",
              "  </div>\n",
              "\n",
              "\n",
              "<div id=\"df-e5af0eb5-7fcf-4a9b-bc65-97690fed95eb\">\n",
              "  <button class=\"colab-df-quickchart\" onclick=\"quickchart('df-e5af0eb5-7fcf-4a9b-bc65-97690fed95eb')\"\n",
              "            title=\"Suggest charts\"\n",
              "            style=\"display:none;\">\n",
              "\n",
              "<svg xmlns=\"http://www.w3.org/2000/svg\" height=\"24px\"viewBox=\"0 0 24 24\"\n",
              "     width=\"24px\">\n",
              "    <g>\n",
              "        <path d=\"M19 3H5c-1.1 0-2 .9-2 2v14c0 1.1.9 2 2 2h14c1.1 0 2-.9 2-2V5c0-1.1-.9-2-2-2zM9 17H7v-7h2v7zm4 0h-2V7h2v10zm4 0h-2v-4h2v4z\"/>\n",
              "    </g>\n",
              "</svg>\n",
              "  </button>\n",
              "\n",
              "<style>\n",
              "  .colab-df-quickchart {\n",
              "      --bg-color: #E8F0FE;\n",
              "      --fill-color: #1967D2;\n",
              "      --hover-bg-color: #E2EBFA;\n",
              "      --hover-fill-color: #174EA6;\n",
              "      --disabled-fill-color: #AAA;\n",
              "      --disabled-bg-color: #DDD;\n",
              "  }\n",
              "\n",
              "  [theme=dark] .colab-df-quickchart {\n",
              "      --bg-color: #3B4455;\n",
              "      --fill-color: #D2E3FC;\n",
              "      --hover-bg-color: #434B5C;\n",
              "      --hover-fill-color: #FFFFFF;\n",
              "      --disabled-bg-color: #3B4455;\n",
              "      --disabled-fill-color: #666;\n",
              "  }\n",
              "\n",
              "  .colab-df-quickchart {\n",
              "    background-color: var(--bg-color);\n",
              "    border: none;\n",
              "    border-radius: 50%;\n",
              "    cursor: pointer;\n",
              "    display: none;\n",
              "    fill: var(--fill-color);\n",
              "    height: 32px;\n",
              "    padding: 0;\n",
              "    width: 32px;\n",
              "  }\n",
              "\n",
              "  .colab-df-quickchart:hover {\n",
              "    background-color: var(--hover-bg-color);\n",
              "    box-shadow: 0 1px 2px rgba(60, 64, 67, 0.3), 0 1px 3px 1px rgba(60, 64, 67, 0.15);\n",
              "    fill: var(--button-hover-fill-color);\n",
              "  }\n",
              "\n",
              "  .colab-df-quickchart-complete:disabled,\n",
              "  .colab-df-quickchart-complete:disabled:hover {\n",
              "    background-color: var(--disabled-bg-color);\n",
              "    fill: var(--disabled-fill-color);\n",
              "    box-shadow: none;\n",
              "  }\n",
              "\n",
              "  .colab-df-spinner {\n",
              "    border: 2px solid var(--fill-color);\n",
              "    border-color: transparent;\n",
              "    border-bottom-color: var(--fill-color);\n",
              "    animation:\n",
              "      spin 1s steps(1) infinite;\n",
              "  }\n",
              "\n",
              "  @keyframes spin {\n",
              "    0% {\n",
              "      border-color: transparent;\n",
              "      border-bottom-color: var(--fill-color);\n",
              "      border-left-color: var(--fill-color);\n",
              "    }\n",
              "    20% {\n",
              "      border-color: transparent;\n",
              "      border-left-color: var(--fill-color);\n",
              "      border-top-color: var(--fill-color);\n",
              "    }\n",
              "    30% {\n",
              "      border-color: transparent;\n",
              "      border-left-color: var(--fill-color);\n",
              "      border-top-color: var(--fill-color);\n",
              "      border-right-color: var(--fill-color);\n",
              "    }\n",
              "    40% {\n",
              "      border-color: transparent;\n",
              "      border-right-color: var(--fill-color);\n",
              "      border-top-color: var(--fill-color);\n",
              "    }\n",
              "    60% {\n",
              "      border-color: transparent;\n",
              "      border-right-color: var(--fill-color);\n",
              "    }\n",
              "    80% {\n",
              "      border-color: transparent;\n",
              "      border-right-color: var(--fill-color);\n",
              "      border-bottom-color: var(--fill-color);\n",
              "    }\n",
              "    90% {\n",
              "      border-color: transparent;\n",
              "      border-bottom-color: var(--fill-color);\n",
              "    }\n",
              "  }\n",
              "</style>\n",
              "\n",
              "  <script>\n",
              "    async function quickchart(key) {\n",
              "      const quickchartButtonEl =\n",
              "        document.querySelector('#' + key + ' button');\n",
              "      quickchartButtonEl.disabled = true;  // To prevent multiple clicks.\n",
              "      quickchartButtonEl.classList.add('colab-df-spinner');\n",
              "      try {\n",
              "        const charts = await google.colab.kernel.invokeFunction(\n",
              "            'suggestCharts', [key], {});\n",
              "      } catch (error) {\n",
              "        console.error('Error during call to suggestCharts:', error);\n",
              "      }\n",
              "      quickchartButtonEl.classList.remove('colab-df-spinner');\n",
              "      quickchartButtonEl.classList.add('colab-df-quickchart-complete');\n",
              "    }\n",
              "    (() => {\n",
              "      let quickchartButtonEl =\n",
              "        document.querySelector('#df-e5af0eb5-7fcf-4a9b-bc65-97690fed95eb button');\n",
              "      quickchartButtonEl.style.display =\n",
              "        google.colab.kernel.accessAllowed ? 'block' : 'none';\n",
              "    })();\n",
              "  </script>\n",
              "</div>\n",
              "\n",
              "    </div>\n",
              "  </div>\n"
            ],
            "application/vnd.google.colaboratory.intrinsic+json": {
              "type": "dataframe",
              "summary": "{\n  \"name\": \"data = get_data('insurance')\",\n  \"rows\": 5,\n  \"fields\": [\n    {\n      \"column\": \"age\",\n      \"properties\": {\n        \"dtype\": \"number\",\n        \"std\": 7,\n        \"min\": 18,\n        \"max\": 33,\n        \"num_unique_values\": 5,\n        \"samples\": [\n          18,\n          32,\n          28\n        ],\n        \"semantic_type\": \"\",\n        \"description\": \"\"\n      }\n    },\n    {\n      \"column\": \"sex\",\n      \"properties\": {\n        \"dtype\": \"category\",\n        \"num_unique_values\": 2,\n        \"samples\": [\n          \"male\",\n          \"female\"\n        ],\n        \"semantic_type\": \"\",\n        \"description\": \"\"\n      }\n    },\n    {\n      \"column\": \"bmi\",\n      \"properties\": {\n        \"dtype\": \"number\",\n        \"std\": 4.4522275323707365,\n        \"min\": 22.705,\n        \"max\": 33.77,\n        \"num_unique_values\": 5,\n        \"samples\": [\n          33.77,\n          28.88\n        ],\n        \"semantic_type\": \"\",\n        \"description\": \"\"\n      }\n    },\n    {\n      \"column\": \"children\",\n      \"properties\": {\n        \"dtype\": \"number\",\n        \"std\": 1,\n        \"min\": 0,\n        \"max\": 3,\n        \"num_unique_values\": 3,\n        \"samples\": [\n          0,\n          1\n        ],\n        \"semantic_type\": \"\",\n        \"description\": \"\"\n      }\n    },\n    {\n      \"column\": \"smoker\",\n      \"properties\": {\n        \"dtype\": \"category\",\n        \"num_unique_values\": 2,\n        \"samples\": [\n          \"no\",\n          \"yes\"\n        ],\n        \"semantic_type\": \"\",\n        \"description\": \"\"\n      }\n    },\n    {\n      \"column\": \"region\",\n      \"properties\": {\n        \"dtype\": \"string\",\n        \"num_unique_values\": 3,\n        \"samples\": [\n          \"southwest\",\n          \"southeast\"\n        ],\n        \"semantic_type\": \"\",\n        \"description\": \"\"\n      }\n    },\n    {\n      \"column\": \"charges\",\n      \"properties\": {\n        \"dtype\": \"number\",\n        \"std\": 9051.009157648406,\n        \"min\": 1725.5523,\n        \"max\": 21984.47061,\n        \"num_unique_values\": 5,\n        \"samples\": [\n          1725.5523,\n          3866.8552\n        ],\n        \"semantic_type\": \"\",\n        \"description\": \"\"\n      }\n    }\n  ]\n}"
            }
          },
          "metadata": {}
        }
      ],
      "source": [
        "### load sample dataset from pycaret dataset module\n",
        "from pycaret.datasets import get_data\n",
        "data = get_data('insurance')"
      ]
    },
    {
      "cell_type": "markdown",
      "id": "c00f6a4a",
      "metadata": {
        "id": "c00f6a4a"
      },
      "source": [
        "## Setup\n",
        "The `setup` function initializes the training environment and creates the transformation pipeline. Setup function must be called before executing any other function in PyCaret. It only has two required parameters i.e. `data` and `target`. All the other parameters are optional."
      ]
    },
    {
      "cell_type": "code",
      "execution_count": 3,
      "id": "97f2c6c6",
      "metadata": {
        "id": "97f2c6c6",
        "outputId": "bc69be0a-4be9-4916-cb7c-23bce2121206",
        "colab": {
          "base_uri": "https://localhost:8080/",
          "height": 739
        }
      },
      "outputs": [
        {
          "output_type": "display_data",
          "data": {
            "text/plain": [
              "<pandas.io.formats.style.Styler at 0x7b2df973bbb0>"
            ],
            "text/html": [
              "<style type=\"text/css\">\n",
              "#T_f3594_row9_col1 {\n",
              "  background-color: lightgreen;\n",
              "}\n",
              "</style>\n",
              "<table id=\"T_f3594\" class=\"dataframe\">\n",
              "  <thead>\n",
              "    <tr>\n",
              "      <th class=\"blank level0\" >&nbsp;</th>\n",
              "      <th id=\"T_f3594_level0_col0\" class=\"col_heading level0 col0\" >Description</th>\n",
              "      <th id=\"T_f3594_level0_col1\" class=\"col_heading level0 col1\" >Value</th>\n",
              "    </tr>\n",
              "  </thead>\n",
              "  <tbody>\n",
              "    <tr>\n",
              "      <th id=\"T_f3594_level0_row0\" class=\"row_heading level0 row0\" >0</th>\n",
              "      <td id=\"T_f3594_row0_col0\" class=\"data row0 col0\" >Session id</td>\n",
              "      <td id=\"T_f3594_row0_col1\" class=\"data row0 col1\" >123</td>\n",
              "    </tr>\n",
              "    <tr>\n",
              "      <th id=\"T_f3594_level0_row1\" class=\"row_heading level0 row1\" >1</th>\n",
              "      <td id=\"T_f3594_row1_col0\" class=\"data row1 col0\" >Target</td>\n",
              "      <td id=\"T_f3594_row1_col1\" class=\"data row1 col1\" >charges</td>\n",
              "    </tr>\n",
              "    <tr>\n",
              "      <th id=\"T_f3594_level0_row2\" class=\"row_heading level0 row2\" >2</th>\n",
              "      <td id=\"T_f3594_row2_col0\" class=\"data row2 col0\" >Target type</td>\n",
              "      <td id=\"T_f3594_row2_col1\" class=\"data row2 col1\" >Regression</td>\n",
              "    </tr>\n",
              "    <tr>\n",
              "      <th id=\"T_f3594_level0_row3\" class=\"row_heading level0 row3\" >3</th>\n",
              "      <td id=\"T_f3594_row3_col0\" class=\"data row3 col0\" >Original data shape</td>\n",
              "      <td id=\"T_f3594_row3_col1\" class=\"data row3 col1\" >(1338, 7)</td>\n",
              "    </tr>\n",
              "    <tr>\n",
              "      <th id=\"T_f3594_level0_row4\" class=\"row_heading level0 row4\" >4</th>\n",
              "      <td id=\"T_f3594_row4_col0\" class=\"data row4 col0\" >Transformed data shape</td>\n",
              "      <td id=\"T_f3594_row4_col1\" class=\"data row4 col1\" >(1338, 10)</td>\n",
              "    </tr>\n",
              "    <tr>\n",
              "      <th id=\"T_f3594_level0_row5\" class=\"row_heading level0 row5\" >5</th>\n",
              "      <td id=\"T_f3594_row5_col0\" class=\"data row5 col0\" >Transformed train set shape</td>\n",
              "      <td id=\"T_f3594_row5_col1\" class=\"data row5 col1\" >(936, 10)</td>\n",
              "    </tr>\n",
              "    <tr>\n",
              "      <th id=\"T_f3594_level0_row6\" class=\"row_heading level0 row6\" >6</th>\n",
              "      <td id=\"T_f3594_row6_col0\" class=\"data row6 col0\" >Transformed test set shape</td>\n",
              "      <td id=\"T_f3594_row6_col1\" class=\"data row6 col1\" >(402, 10)</td>\n",
              "    </tr>\n",
              "    <tr>\n",
              "      <th id=\"T_f3594_level0_row7\" class=\"row_heading level0 row7\" >7</th>\n",
              "      <td id=\"T_f3594_row7_col0\" class=\"data row7 col0\" >Numeric features</td>\n",
              "      <td id=\"T_f3594_row7_col1\" class=\"data row7 col1\" >3</td>\n",
              "    </tr>\n",
              "    <tr>\n",
              "      <th id=\"T_f3594_level0_row8\" class=\"row_heading level0 row8\" >8</th>\n",
              "      <td id=\"T_f3594_row8_col0\" class=\"data row8 col0\" >Categorical features</td>\n",
              "      <td id=\"T_f3594_row8_col1\" class=\"data row8 col1\" >3</td>\n",
              "    </tr>\n",
              "    <tr>\n",
              "      <th id=\"T_f3594_level0_row9\" class=\"row_heading level0 row9\" >9</th>\n",
              "      <td id=\"T_f3594_row9_col0\" class=\"data row9 col0\" >Preprocess</td>\n",
              "      <td id=\"T_f3594_row9_col1\" class=\"data row9 col1\" >True</td>\n",
              "    </tr>\n",
              "    <tr>\n",
              "      <th id=\"T_f3594_level0_row10\" class=\"row_heading level0 row10\" >10</th>\n",
              "      <td id=\"T_f3594_row10_col0\" class=\"data row10 col0\" >Imputation type</td>\n",
              "      <td id=\"T_f3594_row10_col1\" class=\"data row10 col1\" >simple</td>\n",
              "    </tr>\n",
              "    <tr>\n",
              "      <th id=\"T_f3594_level0_row11\" class=\"row_heading level0 row11\" >11</th>\n",
              "      <td id=\"T_f3594_row11_col0\" class=\"data row11 col0\" >Numeric imputation</td>\n",
              "      <td id=\"T_f3594_row11_col1\" class=\"data row11 col1\" >mean</td>\n",
              "    </tr>\n",
              "    <tr>\n",
              "      <th id=\"T_f3594_level0_row12\" class=\"row_heading level0 row12\" >12</th>\n",
              "      <td id=\"T_f3594_row12_col0\" class=\"data row12 col0\" >Categorical imputation</td>\n",
              "      <td id=\"T_f3594_row12_col1\" class=\"data row12 col1\" >mode</td>\n",
              "    </tr>\n",
              "    <tr>\n",
              "      <th id=\"T_f3594_level0_row13\" class=\"row_heading level0 row13\" >13</th>\n",
              "      <td id=\"T_f3594_row13_col0\" class=\"data row13 col0\" >Maximum one-hot encoding</td>\n",
              "      <td id=\"T_f3594_row13_col1\" class=\"data row13 col1\" >25</td>\n",
              "    </tr>\n",
              "    <tr>\n",
              "      <th id=\"T_f3594_level0_row14\" class=\"row_heading level0 row14\" >14</th>\n",
              "      <td id=\"T_f3594_row14_col0\" class=\"data row14 col0\" >Encoding method</td>\n",
              "      <td id=\"T_f3594_row14_col1\" class=\"data row14 col1\" >None</td>\n",
              "    </tr>\n",
              "    <tr>\n",
              "      <th id=\"T_f3594_level0_row15\" class=\"row_heading level0 row15\" >15</th>\n",
              "      <td id=\"T_f3594_row15_col0\" class=\"data row15 col0\" >Fold Generator</td>\n",
              "      <td id=\"T_f3594_row15_col1\" class=\"data row15 col1\" >KFold</td>\n",
              "    </tr>\n",
              "    <tr>\n",
              "      <th id=\"T_f3594_level0_row16\" class=\"row_heading level0 row16\" >16</th>\n",
              "      <td id=\"T_f3594_row16_col0\" class=\"data row16 col0\" >Fold Number</td>\n",
              "      <td id=\"T_f3594_row16_col1\" class=\"data row16 col1\" >10</td>\n",
              "    </tr>\n",
              "    <tr>\n",
              "      <th id=\"T_f3594_level0_row17\" class=\"row_heading level0 row17\" >17</th>\n",
              "      <td id=\"T_f3594_row17_col0\" class=\"data row17 col0\" >CPU Jobs</td>\n",
              "      <td id=\"T_f3594_row17_col1\" class=\"data row17 col1\" >-1</td>\n",
              "    </tr>\n",
              "    <tr>\n",
              "      <th id=\"T_f3594_level0_row18\" class=\"row_heading level0 row18\" >18</th>\n",
              "      <td id=\"T_f3594_row18_col0\" class=\"data row18 col0\" >Use GPU</td>\n",
              "      <td id=\"T_f3594_row18_col1\" class=\"data row18 col1\" >False</td>\n",
              "    </tr>\n",
              "    <tr>\n",
              "      <th id=\"T_f3594_level0_row19\" class=\"row_heading level0 row19\" >19</th>\n",
              "      <td id=\"T_f3594_row19_col0\" class=\"data row19 col0\" >Log Experiment</td>\n",
              "      <td id=\"T_f3594_row19_col1\" class=\"data row19 col1\" >False</td>\n",
              "    </tr>\n",
              "    <tr>\n",
              "      <th id=\"T_f3594_level0_row20\" class=\"row_heading level0 row20\" >20</th>\n",
              "      <td id=\"T_f3594_row20_col0\" class=\"data row20 col0\" >Experiment Name</td>\n",
              "      <td id=\"T_f3594_row20_col1\" class=\"data row20 col1\" >reg-default-name</td>\n",
              "    </tr>\n",
              "    <tr>\n",
              "      <th id=\"T_f3594_level0_row21\" class=\"row_heading level0 row21\" >21</th>\n",
              "      <td id=\"T_f3594_row21_col0\" class=\"data row21 col0\" >USI</td>\n",
              "      <td id=\"T_f3594_row21_col1\" class=\"data row21 col1\" >0289</td>\n",
              "    </tr>\n",
              "  </tbody>\n",
              "</table>\n"
            ]
          },
          "metadata": {}
        }
      ],
      "source": [
        "# import pycaret regression and init setup\n",
        "from pycaret.regression import *\n",
        "s = setup(data, target = 'charges', session_id = 123)"
      ]
    },
    {
      "cell_type": "markdown",
      "id": "3c583864",
      "metadata": {
        "id": "3c583864"
      },
      "source": [
        "Once the setup has been successfully executed it shows the information grid containing experiment level information.\n",
        "\n",
        "- **Session id:**  A pseudo-random number distributed as a seed in all functions for later reproducibility. If no `session_id` is passed, a random number is automatically generated that is distributed to all functions.<br/>\n",
        "<br/>\n",
        "- **Target type:**  Binary, Multiclass, or Regression. The Target type is automatically detected. <br/>\n",
        "<br/>\n",
        "- **Original data shape:**  Shape of the original data prior to any transformations. <br/>\n",
        "<br/>\n",
        "- **Transformed train set shape :**  Shape of transformed train set <br/>\n",
        "<br/>\n",
        "- **Transformed test set shape :**  Shape of transformed test set <br/>\n",
        "<br/>\n",
        "- **Numeric features :**  The number of features considered as numerical. <br/>\n",
        "<br/>\n",
        "- **Categorical features :**  The number of features considered as categorical. <br/>"
      ]
    },
    {
      "cell_type": "markdown",
      "id": "ada19398",
      "metadata": {
        "id": "ada19398"
      },
      "source": [
        "PyCaret has two set of API's that you can work with. (1) Functional (as seen above) and (2) Object Oriented API.\n",
        "\n",
        "With Object Oriented API instead of executing functions directly you will import a class and execute methods of class."
      ]
    },
    {
      "cell_type": "code",
      "execution_count": 4,
      "id": "32ee91c9",
      "metadata": {
        "id": "32ee91c9"
      },
      "outputs": [],
      "source": [
        "# import RegressionExperiment and init the class\n",
        "from pycaret.regression import RegressionExperiment\n",
        "exp = RegressionExperiment()"
      ]
    },
    {
      "cell_type": "code",
      "execution_count": 5,
      "id": "3ead9fb5",
      "metadata": {
        "id": "3ead9fb5",
        "outputId": "ab1f983d-e18d-4765-a451-1f9f9f286df3",
        "colab": {
          "base_uri": "https://localhost:8080/",
          "height": 121
        }
      },
      "outputs": [
        {
          "output_type": "execute_result",
          "data": {
            "text/plain": [
              "pycaret.regression.oop.RegressionExperiment"
            ],
            "text/html": [
              "<div style=\"max-width:800px; border: 1px solid var(--colab-border-color);\"><style>\n",
              "      pre.function-repr-contents {\n",
              "        overflow-x: auto;\n",
              "        padding: 8px 12px;\n",
              "        max-height: 500px;\n",
              "      }\n",
              "\n",
              "      pre.function-repr-contents.function-repr-contents-collapsed {\n",
              "        cursor: pointer;\n",
              "        max-height: 100px;\n",
              "      }\n",
              "    </style>\n",
              "    <pre style=\"white-space: initial; background:\n",
              "         var(--colab-secondary-surface-color); padding: 8px 12px;\n",
              "         border-bottom: 1px solid var(--colab-border-color);\"><b>pycaret.regression.oop.RegressionExperiment</b><br/>def __init__() -&gt; None</pre><pre class=\"function-repr-contents function-repr-contents-collapsed\" style=\"\"><a class=\"filepath\" style=\"display:none\" href=\"#\">/usr/local/lib/python3.10/dist-packages/pycaret/regression/oop.py</a>Class for all standard transformation steps.</pre>\n",
              "      <script>\n",
              "      if (google.colab.kernel.accessAllowed && google.colab.files && google.colab.files.view) {\n",
              "        for (const element of document.querySelectorAll('.filepath')) {\n",
              "          element.style.display = 'block'\n",
              "          element.onclick = (event) => {\n",
              "            event.preventDefault();\n",
              "            event.stopPropagation();\n",
              "            google.colab.files.view(element.textContent, 33);\n",
              "          };\n",
              "        }\n",
              "      }\n",
              "      for (const element of document.querySelectorAll('.function-repr-contents')) {\n",
              "        element.onclick = (event) => {\n",
              "          event.preventDefault();\n",
              "          event.stopPropagation();\n",
              "          element.classList.toggle('function-repr-contents-collapsed');\n",
              "        };\n",
              "      }\n",
              "      </script>\n",
              "      </div>"
            ]
          },
          "metadata": {},
          "execution_count": 5
        }
      ],
      "source": [
        "# check the type of exp\n",
        "type(exp)"
      ]
    },
    {
      "cell_type": "code",
      "execution_count": 6,
      "id": "f05b8590",
      "metadata": {
        "id": "f05b8590",
        "outputId": "1828e96b-9233-4635-806b-a6d3920f9ce8",
        "colab": {
          "base_uri": "https://localhost:8080/",
          "height": 756
        }
      },
      "outputs": [
        {
          "output_type": "display_data",
          "data": {
            "text/plain": [
              "<pandas.io.formats.style.Styler at 0x7b2e01a32740>"
            ],
            "text/html": [
              "<style type=\"text/css\">\n",
              "#T_69af6_row9_col1 {\n",
              "  background-color: lightgreen;\n",
              "}\n",
              "</style>\n",
              "<table id=\"T_69af6\" class=\"dataframe\">\n",
              "  <thead>\n",
              "    <tr>\n",
              "      <th class=\"blank level0\" >&nbsp;</th>\n",
              "      <th id=\"T_69af6_level0_col0\" class=\"col_heading level0 col0\" >Description</th>\n",
              "      <th id=\"T_69af6_level0_col1\" class=\"col_heading level0 col1\" >Value</th>\n",
              "    </tr>\n",
              "  </thead>\n",
              "  <tbody>\n",
              "    <tr>\n",
              "      <th id=\"T_69af6_level0_row0\" class=\"row_heading level0 row0\" >0</th>\n",
              "      <td id=\"T_69af6_row0_col0\" class=\"data row0 col0\" >Session id</td>\n",
              "      <td id=\"T_69af6_row0_col1\" class=\"data row0 col1\" >123</td>\n",
              "    </tr>\n",
              "    <tr>\n",
              "      <th id=\"T_69af6_level0_row1\" class=\"row_heading level0 row1\" >1</th>\n",
              "      <td id=\"T_69af6_row1_col0\" class=\"data row1 col0\" >Target</td>\n",
              "      <td id=\"T_69af6_row1_col1\" class=\"data row1 col1\" >charges</td>\n",
              "    </tr>\n",
              "    <tr>\n",
              "      <th id=\"T_69af6_level0_row2\" class=\"row_heading level0 row2\" >2</th>\n",
              "      <td id=\"T_69af6_row2_col0\" class=\"data row2 col0\" >Target type</td>\n",
              "      <td id=\"T_69af6_row2_col1\" class=\"data row2 col1\" >Regression</td>\n",
              "    </tr>\n",
              "    <tr>\n",
              "      <th id=\"T_69af6_level0_row3\" class=\"row_heading level0 row3\" >3</th>\n",
              "      <td id=\"T_69af6_row3_col0\" class=\"data row3 col0\" >Original data shape</td>\n",
              "      <td id=\"T_69af6_row3_col1\" class=\"data row3 col1\" >(1338, 7)</td>\n",
              "    </tr>\n",
              "    <tr>\n",
              "      <th id=\"T_69af6_level0_row4\" class=\"row_heading level0 row4\" >4</th>\n",
              "      <td id=\"T_69af6_row4_col0\" class=\"data row4 col0\" >Transformed data shape</td>\n",
              "      <td id=\"T_69af6_row4_col1\" class=\"data row4 col1\" >(1338, 10)</td>\n",
              "    </tr>\n",
              "    <tr>\n",
              "      <th id=\"T_69af6_level0_row5\" class=\"row_heading level0 row5\" >5</th>\n",
              "      <td id=\"T_69af6_row5_col0\" class=\"data row5 col0\" >Transformed train set shape</td>\n",
              "      <td id=\"T_69af6_row5_col1\" class=\"data row5 col1\" >(936, 10)</td>\n",
              "    </tr>\n",
              "    <tr>\n",
              "      <th id=\"T_69af6_level0_row6\" class=\"row_heading level0 row6\" >6</th>\n",
              "      <td id=\"T_69af6_row6_col0\" class=\"data row6 col0\" >Transformed test set shape</td>\n",
              "      <td id=\"T_69af6_row6_col1\" class=\"data row6 col1\" >(402, 10)</td>\n",
              "    </tr>\n",
              "    <tr>\n",
              "      <th id=\"T_69af6_level0_row7\" class=\"row_heading level0 row7\" >7</th>\n",
              "      <td id=\"T_69af6_row7_col0\" class=\"data row7 col0\" >Numeric features</td>\n",
              "      <td id=\"T_69af6_row7_col1\" class=\"data row7 col1\" >3</td>\n",
              "    </tr>\n",
              "    <tr>\n",
              "      <th id=\"T_69af6_level0_row8\" class=\"row_heading level0 row8\" >8</th>\n",
              "      <td id=\"T_69af6_row8_col0\" class=\"data row8 col0\" >Categorical features</td>\n",
              "      <td id=\"T_69af6_row8_col1\" class=\"data row8 col1\" >3</td>\n",
              "    </tr>\n",
              "    <tr>\n",
              "      <th id=\"T_69af6_level0_row9\" class=\"row_heading level0 row9\" >9</th>\n",
              "      <td id=\"T_69af6_row9_col0\" class=\"data row9 col0\" >Preprocess</td>\n",
              "      <td id=\"T_69af6_row9_col1\" class=\"data row9 col1\" >True</td>\n",
              "    </tr>\n",
              "    <tr>\n",
              "      <th id=\"T_69af6_level0_row10\" class=\"row_heading level0 row10\" >10</th>\n",
              "      <td id=\"T_69af6_row10_col0\" class=\"data row10 col0\" >Imputation type</td>\n",
              "      <td id=\"T_69af6_row10_col1\" class=\"data row10 col1\" >simple</td>\n",
              "    </tr>\n",
              "    <tr>\n",
              "      <th id=\"T_69af6_level0_row11\" class=\"row_heading level0 row11\" >11</th>\n",
              "      <td id=\"T_69af6_row11_col0\" class=\"data row11 col0\" >Numeric imputation</td>\n",
              "      <td id=\"T_69af6_row11_col1\" class=\"data row11 col1\" >mean</td>\n",
              "    </tr>\n",
              "    <tr>\n",
              "      <th id=\"T_69af6_level0_row12\" class=\"row_heading level0 row12\" >12</th>\n",
              "      <td id=\"T_69af6_row12_col0\" class=\"data row12 col0\" >Categorical imputation</td>\n",
              "      <td id=\"T_69af6_row12_col1\" class=\"data row12 col1\" >mode</td>\n",
              "    </tr>\n",
              "    <tr>\n",
              "      <th id=\"T_69af6_level0_row13\" class=\"row_heading level0 row13\" >13</th>\n",
              "      <td id=\"T_69af6_row13_col0\" class=\"data row13 col0\" >Maximum one-hot encoding</td>\n",
              "      <td id=\"T_69af6_row13_col1\" class=\"data row13 col1\" >25</td>\n",
              "    </tr>\n",
              "    <tr>\n",
              "      <th id=\"T_69af6_level0_row14\" class=\"row_heading level0 row14\" >14</th>\n",
              "      <td id=\"T_69af6_row14_col0\" class=\"data row14 col0\" >Encoding method</td>\n",
              "      <td id=\"T_69af6_row14_col1\" class=\"data row14 col1\" >None</td>\n",
              "    </tr>\n",
              "    <tr>\n",
              "      <th id=\"T_69af6_level0_row15\" class=\"row_heading level0 row15\" >15</th>\n",
              "      <td id=\"T_69af6_row15_col0\" class=\"data row15 col0\" >Fold Generator</td>\n",
              "      <td id=\"T_69af6_row15_col1\" class=\"data row15 col1\" >KFold</td>\n",
              "    </tr>\n",
              "    <tr>\n",
              "      <th id=\"T_69af6_level0_row16\" class=\"row_heading level0 row16\" >16</th>\n",
              "      <td id=\"T_69af6_row16_col0\" class=\"data row16 col0\" >Fold Number</td>\n",
              "      <td id=\"T_69af6_row16_col1\" class=\"data row16 col1\" >10</td>\n",
              "    </tr>\n",
              "    <tr>\n",
              "      <th id=\"T_69af6_level0_row17\" class=\"row_heading level0 row17\" >17</th>\n",
              "      <td id=\"T_69af6_row17_col0\" class=\"data row17 col0\" >CPU Jobs</td>\n",
              "      <td id=\"T_69af6_row17_col1\" class=\"data row17 col1\" >-1</td>\n",
              "    </tr>\n",
              "    <tr>\n",
              "      <th id=\"T_69af6_level0_row18\" class=\"row_heading level0 row18\" >18</th>\n",
              "      <td id=\"T_69af6_row18_col0\" class=\"data row18 col0\" >Use GPU</td>\n",
              "      <td id=\"T_69af6_row18_col1\" class=\"data row18 col1\" >False</td>\n",
              "    </tr>\n",
              "    <tr>\n",
              "      <th id=\"T_69af6_level0_row19\" class=\"row_heading level0 row19\" >19</th>\n",
              "      <td id=\"T_69af6_row19_col0\" class=\"data row19 col0\" >Log Experiment</td>\n",
              "      <td id=\"T_69af6_row19_col1\" class=\"data row19 col1\" >False</td>\n",
              "    </tr>\n",
              "    <tr>\n",
              "      <th id=\"T_69af6_level0_row20\" class=\"row_heading level0 row20\" >20</th>\n",
              "      <td id=\"T_69af6_row20_col0\" class=\"data row20 col0\" >Experiment Name</td>\n",
              "      <td id=\"T_69af6_row20_col1\" class=\"data row20 col1\" >reg-default-name</td>\n",
              "    </tr>\n",
              "    <tr>\n",
              "      <th id=\"T_69af6_level0_row21\" class=\"row_heading level0 row21\" >21</th>\n",
              "      <td id=\"T_69af6_row21_col0\" class=\"data row21 col0\" >USI</td>\n",
              "      <td id=\"T_69af6_row21_col1\" class=\"data row21 col1\" >fd24</td>\n",
              "    </tr>\n",
              "  </tbody>\n",
              "</table>\n"
            ]
          },
          "metadata": {}
        },
        {
          "output_type": "execute_result",
          "data": {
            "text/plain": [
              "<pycaret.regression.oop.RegressionExperiment at 0x7b2e31d237c0>"
            ]
          },
          "metadata": {},
          "execution_count": 6
        }
      ],
      "source": [
        "# init setup on exp\n",
        "exp.setup(data, target = 'charges', session_id = 123)"
      ]
    },
    {
      "cell_type": "markdown",
      "id": "77213120",
      "metadata": {
        "id": "77213120"
      },
      "source": [
        "You can use any of the two method i.e. Functional or OOP and even switch back and forth between two set of API's. The choice of method will not impact the results and has been tested for consistency.\n",
        "___"
      ]
    },
    {
      "cell_type": "markdown",
      "id": "f98dd435",
      "metadata": {
        "id": "f98dd435"
      },
      "source": [
        "## Compare Models\n",
        "\n",
        "The `compare_models` function trains and evaluates the performance of all the estimators available in the model library using cross-validation. The output of this function is a scoring grid with average cross-validated scores. Metrics evaluated during CV can be accessed using the `get_metrics` function. Custom metrics can be added or removed using `add_metric` and `remove_metric` function."
      ]
    },
    {
      "cell_type": "code",
      "execution_count": 7,
      "id": "65a19df4",
      "metadata": {
        "id": "65a19df4",
        "outputId": "571f1374-eb6c-45b4-b597-2d4d4010567c",
        "colab": {
          "base_uri": "https://localhost:8080/",
          "height": 645,
          "referenced_widgets": [
            "96e5772889f9433ab3d0c5520988902a",
            "6183d9c82bdc4057a72bc43f3acfa298",
            "a80b3b0ad14e4fc784336a4f7ede346f",
            "db2a136da7cd4b609959ee043f7a1b88",
            "65e226dfbfd84483b6ee5d6cc7b9dbab",
            "d6762ec9a74049daa086d39affc0416a",
            "381f72b01f0e4e3eb770b09517338593",
            "079138eabea34496945b8eb23fe3af4b",
            "aa5f5f3ecd1f40ecbf3c7a02ac1c81c8",
            "7fbc46befdce4ff0ab2119e6584afbf3",
            "cf37d749508041a79e1eec2d5425b923"
          ]
        }
      },
      "outputs": [
        {
          "output_type": "display_data",
          "data": {
            "text/plain": [
              "<IPython.core.display.HTML object>"
            ],
            "text/html": []
          },
          "metadata": {}
        },
        {
          "output_type": "display_data",
          "data": {
            "text/plain": [
              "<pandas.io.formats.style.Styler at 0x7b2df0ef1750>"
            ],
            "text/html": [
              "<style type=\"text/css\">\n",
              "#T_40af6 th {\n",
              "  text-align: left;\n",
              "}\n",
              "#T_40af6_row0_col0, #T_40af6_row0_col6, #T_40af6_row1_col0, #T_40af6_row1_col1, #T_40af6_row1_col2, #T_40af6_row1_col3, #T_40af6_row1_col4, #T_40af6_row1_col5, #T_40af6_row1_col6, #T_40af6_row2_col0, #T_40af6_row2_col1, #T_40af6_row2_col2, #T_40af6_row2_col3, #T_40af6_row2_col4, #T_40af6_row2_col5, #T_40af6_row2_col6, #T_40af6_row3_col0, #T_40af6_row3_col1, #T_40af6_row3_col2, #T_40af6_row3_col3, #T_40af6_row3_col4, #T_40af6_row3_col5, #T_40af6_row3_col6, #T_40af6_row4_col0, #T_40af6_row4_col1, #T_40af6_row4_col2, #T_40af6_row4_col3, #T_40af6_row4_col4, #T_40af6_row4_col5, #T_40af6_row4_col6, #T_40af6_row5_col0, #T_40af6_row5_col1, #T_40af6_row5_col2, #T_40af6_row5_col3, #T_40af6_row5_col4, #T_40af6_row5_col5, #T_40af6_row5_col6, #T_40af6_row6_col0, #T_40af6_row6_col1, #T_40af6_row6_col2, #T_40af6_row6_col3, #T_40af6_row6_col4, #T_40af6_row6_col5, #T_40af6_row6_col6, #T_40af6_row7_col0, #T_40af6_row7_col1, #T_40af6_row7_col2, #T_40af6_row7_col3, #T_40af6_row7_col4, #T_40af6_row7_col5, #T_40af6_row7_col6, #T_40af6_row8_col0, #T_40af6_row8_col1, #T_40af6_row8_col2, #T_40af6_row8_col3, #T_40af6_row8_col4, #T_40af6_row8_col5, #T_40af6_row8_col6, #T_40af6_row9_col0, #T_40af6_row9_col1, #T_40af6_row9_col2, #T_40af6_row9_col3, #T_40af6_row9_col4, #T_40af6_row9_col5, #T_40af6_row9_col6, #T_40af6_row10_col0, #T_40af6_row10_col1, #T_40af6_row10_col2, #T_40af6_row10_col3, #T_40af6_row10_col4, #T_40af6_row10_col5, #T_40af6_row10_col6, #T_40af6_row11_col0, #T_40af6_row11_col1, #T_40af6_row11_col2, #T_40af6_row11_col3, #T_40af6_row11_col4, #T_40af6_row11_col5, #T_40af6_row11_col6, #T_40af6_row12_col0, #T_40af6_row12_col1, #T_40af6_row12_col2, #T_40af6_row12_col3, #T_40af6_row12_col4, #T_40af6_row12_col5, #T_40af6_row13_col0, #T_40af6_row13_col1, #T_40af6_row13_col2, #T_40af6_row13_col3, #T_40af6_row13_col4, #T_40af6_row13_col5, #T_40af6_row13_col6, #T_40af6_row14_col0, #T_40af6_row14_col1, #T_40af6_row14_col2, #T_40af6_row14_col3, #T_40af6_row14_col4, #T_40af6_row14_col5, #T_40af6_row14_col6, #T_40af6_row15_col0, #T_40af6_row15_col1, #T_40af6_row15_col2, #T_40af6_row15_col3, #T_40af6_row15_col4, #T_40af6_row15_col5, #T_40af6_row15_col6, #T_40af6_row16_col0, #T_40af6_row16_col1, #T_40af6_row16_col2, #T_40af6_row16_col3, #T_40af6_row16_col4, #T_40af6_row16_col5, #T_40af6_row16_col6, #T_40af6_row17_col0, #T_40af6_row17_col1, #T_40af6_row17_col2, #T_40af6_row17_col3, #T_40af6_row17_col4, #T_40af6_row17_col5, #T_40af6_row17_col6, #T_40af6_row18_col0, #T_40af6_row18_col1, #T_40af6_row18_col2, #T_40af6_row18_col3, #T_40af6_row18_col4, #T_40af6_row18_col5, #T_40af6_row18_col6 {\n",
              "  text-align: left;\n",
              "}\n",
              "#T_40af6_row0_col1, #T_40af6_row0_col2, #T_40af6_row0_col3, #T_40af6_row0_col4, #T_40af6_row0_col5, #T_40af6_row12_col6 {\n",
              "  text-align: left;\n",
              "  background-color: yellow;\n",
              "}\n",
              "#T_40af6_row0_col7, #T_40af6_row1_col7, #T_40af6_row2_col7, #T_40af6_row3_col7, #T_40af6_row4_col7, #T_40af6_row5_col7, #T_40af6_row6_col7, #T_40af6_row7_col7, #T_40af6_row8_col7, #T_40af6_row9_col7, #T_40af6_row10_col7, #T_40af6_row11_col7, #T_40af6_row12_col7, #T_40af6_row13_col7, #T_40af6_row14_col7, #T_40af6_row15_col7, #T_40af6_row16_col7, #T_40af6_row17_col7 {\n",
              "  text-align: left;\n",
              "  background-color: lightgrey;\n",
              "}\n",
              "#T_40af6_row18_col7 {\n",
              "  text-align: left;\n",
              "  background-color: yellow;\n",
              "  background-color: lightgrey;\n",
              "}\n",
              "</style>\n",
              "<table id=\"T_40af6\" class=\"dataframe\">\n",
              "  <thead>\n",
              "    <tr>\n",
              "      <th class=\"blank level0\" >&nbsp;</th>\n",
              "      <th id=\"T_40af6_level0_col0\" class=\"col_heading level0 col0\" >Model</th>\n",
              "      <th id=\"T_40af6_level0_col1\" class=\"col_heading level0 col1\" >MAE</th>\n",
              "      <th id=\"T_40af6_level0_col2\" class=\"col_heading level0 col2\" >MSE</th>\n",
              "      <th id=\"T_40af6_level0_col3\" class=\"col_heading level0 col3\" >RMSE</th>\n",
              "      <th id=\"T_40af6_level0_col4\" class=\"col_heading level0 col4\" >R2</th>\n",
              "      <th id=\"T_40af6_level0_col5\" class=\"col_heading level0 col5\" >RMSLE</th>\n",
              "      <th id=\"T_40af6_level0_col6\" class=\"col_heading level0 col6\" >MAPE</th>\n",
              "      <th id=\"T_40af6_level0_col7\" class=\"col_heading level0 col7\" >TT (Sec)</th>\n",
              "    </tr>\n",
              "  </thead>\n",
              "  <tbody>\n",
              "    <tr>\n",
              "      <th id=\"T_40af6_level0_row0\" class=\"row_heading level0 row0\" >gbr</th>\n",
              "      <td id=\"T_40af6_row0_col0\" class=\"data row0 col0\" >Gradient Boosting Regressor</td>\n",
              "      <td id=\"T_40af6_row0_col1\" class=\"data row0 col1\" >2701.9927</td>\n",
              "      <td id=\"T_40af6_row0_col2\" class=\"data row0 col2\" >23548981.3626</td>\n",
              "      <td id=\"T_40af6_row0_col3\" class=\"data row0 col3\" >4832.9682</td>\n",
              "      <td id=\"T_40af6_row0_col4\" class=\"data row0 col4\" >0.8320</td>\n",
              "      <td id=\"T_40af6_row0_col5\" class=\"data row0 col5\" >0.4447</td>\n",
              "      <td id=\"T_40af6_row0_col6\" class=\"data row0 col6\" >0.3137</td>\n",
              "      <td id=\"T_40af6_row0_col7\" class=\"data row0 col7\" >0.2240</td>\n",
              "    </tr>\n",
              "    <tr>\n",
              "      <th id=\"T_40af6_level0_row1\" class=\"row_heading level0 row1\" >rf</th>\n",
              "      <td id=\"T_40af6_row1_col0\" class=\"data row1 col0\" >Random Forest Regressor</td>\n",
              "      <td id=\"T_40af6_row1_col1\" class=\"data row1 col1\" >2771.4583</td>\n",
              "      <td id=\"T_40af6_row1_col2\" class=\"data row1 col2\" >25416502.3827</td>\n",
              "      <td id=\"T_40af6_row1_col3\" class=\"data row1 col3\" >5028.6343</td>\n",
              "      <td id=\"T_40af6_row1_col4\" class=\"data row1 col4\" >0.8172</td>\n",
              "      <td id=\"T_40af6_row1_col5\" class=\"data row1 col5\" >0.4690</td>\n",
              "      <td id=\"T_40af6_row1_col6\" class=\"data row1 col6\" >0.3303</td>\n",
              "      <td id=\"T_40af6_row1_col7\" class=\"data row1 col7\" >0.3630</td>\n",
              "    </tr>\n",
              "    <tr>\n",
              "      <th id=\"T_40af6_level0_row2\" class=\"row_heading level0 row2\" >lightgbm</th>\n",
              "      <td id=\"T_40af6_row2_col0\" class=\"data row2 col0\" >Light Gradient Boosting Machine</td>\n",
              "      <td id=\"T_40af6_row2_col1\" class=\"data row2 col1\" >2992.1828</td>\n",
              "      <td id=\"T_40af6_row2_col2\" class=\"data row2 col2\" >25521038.3331</td>\n",
              "      <td id=\"T_40af6_row2_col3\" class=\"data row2 col3\" >5042.0978</td>\n",
              "      <td id=\"T_40af6_row2_col4\" class=\"data row2 col4\" >0.8149</td>\n",
              "      <td id=\"T_40af6_row2_col5\" class=\"data row2 col5\" >0.5378</td>\n",
              "      <td id=\"T_40af6_row2_col6\" class=\"data row2 col6\" >0.3751</td>\n",
              "      <td id=\"T_40af6_row2_col7\" class=\"data row2 col7\" >1.1880</td>\n",
              "    </tr>\n",
              "    <tr>\n",
              "      <th id=\"T_40af6_level0_row3\" class=\"row_heading level0 row3\" >et</th>\n",
              "      <td id=\"T_40af6_row3_col0\" class=\"data row3 col0\" >Extra Trees Regressor</td>\n",
              "      <td id=\"T_40af6_row3_col1\" class=\"data row3 col1\" >2833.3624</td>\n",
              "      <td id=\"T_40af6_row3_col2\" class=\"data row3 col2\" >28427844.2412</td>\n",
              "      <td id=\"T_40af6_row3_col3\" class=\"data row3 col3\" >5305.6516</td>\n",
              "      <td id=\"T_40af6_row3_col4\" class=\"data row3 col4\" >0.7991</td>\n",
              "      <td id=\"T_40af6_row3_col5\" class=\"data row3 col5\" >0.4877</td>\n",
              "      <td id=\"T_40af6_row3_col6\" class=\"data row3 col6\" >0.3363</td>\n",
              "      <td id=\"T_40af6_row3_col7\" class=\"data row3 col7\" >0.3920</td>\n",
              "    </tr>\n",
              "    <tr>\n",
              "      <th id=\"T_40af6_level0_row4\" class=\"row_heading level0 row4\" >ada</th>\n",
              "      <td id=\"T_40af6_row4_col0\" class=\"data row4 col0\" >AdaBoost Regressor</td>\n",
              "      <td id=\"T_40af6_row4_col1\" class=\"data row4 col1\" >4316.0568</td>\n",
              "      <td id=\"T_40af6_row4_col2\" class=\"data row4 col2\" >29220505.6498</td>\n",
              "      <td id=\"T_40af6_row4_col3\" class=\"data row4 col3\" >5398.4561</td>\n",
              "      <td id=\"T_40af6_row4_col4\" class=\"data row4 col4\" >0.7903</td>\n",
              "      <td id=\"T_40af6_row4_col5\" class=\"data row4 col5\" >0.6368</td>\n",
              "      <td id=\"T_40af6_row4_col6\" class=\"data row4 col6\" >0.7394</td>\n",
              "      <td id=\"T_40af6_row4_col7\" class=\"data row4 col7\" >0.1600</td>\n",
              "    </tr>\n",
              "    <tr>\n",
              "      <th id=\"T_40af6_level0_row5\" class=\"row_heading level0 row5\" >xgboost</th>\n",
              "      <td id=\"T_40af6_row5_col0\" class=\"data row5 col0\" >Extreme Gradient Boosting</td>\n",
              "      <td id=\"T_40af6_row5_col1\" class=\"data row5 col1\" >3278.3216</td>\n",
              "      <td id=\"T_40af6_row5_col2\" class=\"data row5 col2\" >31628234.0000</td>\n",
              "      <td id=\"T_40af6_row5_col3\" class=\"data row5 col3\" >5599.0988</td>\n",
              "      <td id=\"T_40af6_row5_col4\" class=\"data row5 col4\" >0.7709</td>\n",
              "      <td id=\"T_40af6_row5_col5\" class=\"data row5 col5\" >0.5733</td>\n",
              "      <td id=\"T_40af6_row5_col6\" class=\"data row5 col6\" >0.4208</td>\n",
              "      <td id=\"T_40af6_row5_col7\" class=\"data row5 col7\" >0.1370</td>\n",
              "    </tr>\n",
              "    <tr>\n",
              "      <th id=\"T_40af6_level0_row6\" class=\"row_heading level0 row6\" >br</th>\n",
              "      <td id=\"T_40af6_row6_col0\" class=\"data row6 col0\" >Bayesian Ridge</td>\n",
              "      <td id=\"T_40af6_row6_col1\" class=\"data row6 col1\" >4311.2349</td>\n",
              "      <td id=\"T_40af6_row6_col2\" class=\"data row6 col2\" >38391950.0874</td>\n",
              "      <td id=\"T_40af6_row6_col3\" class=\"data row6 col3\" >6176.8896</td>\n",
              "      <td id=\"T_40af6_row6_col4\" class=\"data row6 col4\" >0.7306</td>\n",
              "      <td id=\"T_40af6_row6_col5\" class=\"data row6 col5\" >0.5910</td>\n",
              "      <td id=\"T_40af6_row6_col6\" class=\"data row6 col6\" >0.4447</td>\n",
              "      <td id=\"T_40af6_row6_col7\" class=\"data row6 col7\" >0.1280</td>\n",
              "    </tr>\n",
              "    <tr>\n",
              "      <th id=\"T_40af6_level0_row7\" class=\"row_heading level0 row7\" >llar</th>\n",
              "      <td id=\"T_40af6_row7_col0\" class=\"data row7 col0\" >Lasso Least Angle Regression</td>\n",
              "      <td id=\"T_40af6_row7_col1\" class=\"data row7 col1\" >4303.7694</td>\n",
              "      <td id=\"T_40af6_row7_col2\" class=\"data row7 col2\" >38386824.2786</td>\n",
              "      <td id=\"T_40af6_row7_col3\" class=\"data row7 col3\" >6176.4846</td>\n",
              "      <td id=\"T_40af6_row7_col4\" class=\"data row7 col4\" >0.7306</td>\n",
              "      <td id=\"T_40af6_row7_col5\" class=\"data row7 col5\" >0.5952</td>\n",
              "      <td id=\"T_40af6_row7_col6\" class=\"data row7 col6\" >0.4434</td>\n",
              "      <td id=\"T_40af6_row7_col7\" class=\"data row7 col7\" >0.1210</td>\n",
              "    </tr>\n",
              "    <tr>\n",
              "      <th id=\"T_40af6_level0_row8\" class=\"row_heading level0 row8\" >lr</th>\n",
              "      <td id=\"T_40af6_row8_col0\" class=\"data row8 col0\" >Linear Regression</td>\n",
              "      <td id=\"T_40af6_row8_col1\" class=\"data row8 col1\" >4303.5559</td>\n",
              "      <td id=\"T_40af6_row8_col2\" class=\"data row8 col2\" >38388058.4578</td>\n",
              "      <td id=\"T_40af6_row8_col3\" class=\"data row8 col3\" >6176.5920</td>\n",
              "      <td id=\"T_40af6_row8_col4\" class=\"data row8 col4\" >0.7306</td>\n",
              "      <td id=\"T_40af6_row8_col5\" class=\"data row8 col5\" >0.5949</td>\n",
              "      <td id=\"T_40af6_row8_col6\" class=\"data row8 col6\" >0.4433</td>\n",
              "      <td id=\"T_40af6_row8_col7\" class=\"data row8 col7\" >0.5040</td>\n",
              "    </tr>\n",
              "    <tr>\n",
              "      <th id=\"T_40af6_level0_row9\" class=\"row_heading level0 row9\" >lar</th>\n",
              "      <td id=\"T_40af6_row9_col0\" class=\"data row9 col0\" >Least Angle Regression</td>\n",
              "      <td id=\"T_40af6_row9_col1\" class=\"data row9 col1\" >4303.5559</td>\n",
              "      <td id=\"T_40af6_row9_col2\" class=\"data row9 col2\" >38388058.4578</td>\n",
              "      <td id=\"T_40af6_row9_col3\" class=\"data row9 col3\" >6176.5920</td>\n",
              "      <td id=\"T_40af6_row9_col4\" class=\"data row9 col4\" >0.7306</td>\n",
              "      <td id=\"T_40af6_row9_col5\" class=\"data row9 col5\" >0.5949</td>\n",
              "      <td id=\"T_40af6_row9_col6\" class=\"data row9 col6\" >0.4433</td>\n",
              "      <td id=\"T_40af6_row9_col7\" class=\"data row9 col7\" >0.1120</td>\n",
              "    </tr>\n",
              "    <tr>\n",
              "      <th id=\"T_40af6_level0_row10\" class=\"row_heading level0 row10\" >ridge</th>\n",
              "      <td id=\"T_40af6_row10_col0\" class=\"data row10 col0\" >Ridge Regression</td>\n",
              "      <td id=\"T_40af6_row10_col1\" class=\"data row10 col1\" >4317.6984</td>\n",
              "      <td id=\"T_40af6_row10_col2\" class=\"data row10 col2\" >38396435.9578</td>\n",
              "      <td id=\"T_40af6_row10_col3\" class=\"data row10 col3\" >6177.2329</td>\n",
              "      <td id=\"T_40af6_row10_col4\" class=\"data row10 col4\" >0.7306</td>\n",
              "      <td id=\"T_40af6_row10_col5\" class=\"data row10 col5\" >0.5891</td>\n",
              "      <td id=\"T_40af6_row10_col6\" class=\"data row10 col6\" >0.4459</td>\n",
              "      <td id=\"T_40af6_row10_col7\" class=\"data row10 col7\" >0.0740</td>\n",
              "    </tr>\n",
              "    <tr>\n",
              "      <th id=\"T_40af6_level0_row11\" class=\"row_heading level0 row11\" >lasso</th>\n",
              "      <td id=\"T_40af6_row11_col0\" class=\"data row11 col0\" >Lasso Regression</td>\n",
              "      <td id=\"T_40af6_row11_col1\" class=\"data row11 col1\" >4303.7697</td>\n",
              "      <td id=\"T_40af6_row11_col2\" class=\"data row11 col2\" >38386797.6709</td>\n",
              "      <td id=\"T_40af6_row11_col3\" class=\"data row11 col3\" >6176.4824</td>\n",
              "      <td id=\"T_40af6_row11_col4\" class=\"data row11 col4\" >0.7306</td>\n",
              "      <td id=\"T_40af6_row11_col5\" class=\"data row11 col5\" >0.5952</td>\n",
              "      <td id=\"T_40af6_row11_col6\" class=\"data row11 col6\" >0.4434</td>\n",
              "      <td id=\"T_40af6_row11_col7\" class=\"data row11 col7\" >0.0750</td>\n",
              "    </tr>\n",
              "    <tr>\n",
              "      <th id=\"T_40af6_level0_row12\" class=\"row_heading level0 row12\" >huber</th>\n",
              "      <td id=\"T_40af6_row12_col0\" class=\"data row12 col0\" >Huber Regressor</td>\n",
              "      <td id=\"T_40af6_row12_col1\" class=\"data row12 col1\" >3463.2216</td>\n",
              "      <td id=\"T_40af6_row12_col2\" class=\"data row12 col2\" >48801106.4612</td>\n",
              "      <td id=\"T_40af6_row12_col3\" class=\"data row12 col3\" >6963.9984</td>\n",
              "      <td id=\"T_40af6_row12_col4\" class=\"data row12 col4\" >0.6544</td>\n",
              "      <td id=\"T_40af6_row12_col5\" class=\"data row12 col5\" >0.4927</td>\n",
              "      <td id=\"T_40af6_row12_col6\" class=\"data row12 col6\" >0.2212</td>\n",
              "      <td id=\"T_40af6_row12_col7\" class=\"data row12 col7\" >0.1050</td>\n",
              "    </tr>\n",
              "    <tr>\n",
              "      <th id=\"T_40af6_level0_row13\" class=\"row_heading level0 row13\" >dt</th>\n",
              "      <td id=\"T_40af6_row13_col0\" class=\"data row13 col0\" >Decision Tree Regressor</td>\n",
              "      <td id=\"T_40af6_row13_col1\" class=\"data row13 col1\" >3383.4916</td>\n",
              "      <td id=\"T_40af6_row13_col2\" class=\"data row13 col2\" >47823199.0729</td>\n",
              "      <td id=\"T_40af6_row13_col3\" class=\"data row13 col3\" >6895.7016</td>\n",
              "      <td id=\"T_40af6_row13_col4\" class=\"data row13 col4\" >0.6497</td>\n",
              "      <td id=\"T_40af6_row13_col5\" class=\"data row13 col5\" >0.5602</td>\n",
              "      <td id=\"T_40af6_row13_col6\" class=\"data row13 col6\" >0.4013</td>\n",
              "      <td id=\"T_40af6_row13_col7\" class=\"data row13 col7\" >0.0760</td>\n",
              "    </tr>\n",
              "    <tr>\n",
              "      <th id=\"T_40af6_level0_row14\" class=\"row_heading level0 row14\" >par</th>\n",
              "      <td id=\"T_40af6_row14_col0\" class=\"data row14 col0\" >Passive Aggressive Regressor</td>\n",
              "      <td id=\"T_40af6_row14_col1\" class=\"data row14 col1\" >4537.0122</td>\n",
              "      <td id=\"T_40af6_row14_col2\" class=\"data row14 col2\" >67346309.9218</td>\n",
              "      <td id=\"T_40af6_row14_col3\" class=\"data row14 col3\" >8142.7826</td>\n",
              "      <td id=\"T_40af6_row14_col4\" class=\"data row14 col4\" >0.5422</td>\n",
              "      <td id=\"T_40af6_row14_col5\" class=\"data row14 col5\" >0.5276</td>\n",
              "      <td id=\"T_40af6_row14_col6\" class=\"data row14 col6\" >0.3207</td>\n",
              "      <td id=\"T_40af6_row14_col7\" class=\"data row14 col7\" >0.0770</td>\n",
              "    </tr>\n",
              "    <tr>\n",
              "      <th id=\"T_40af6_level0_row15\" class=\"row_heading level0 row15\" >en</th>\n",
              "      <td id=\"T_40af6_row15_col0\" class=\"data row15 col0\" >Elastic Net</td>\n",
              "      <td id=\"T_40af6_row15_col1\" class=\"data row15 col1\" >7372.5238</td>\n",
              "      <td id=\"T_40af6_row15_col2\" class=\"data row15 col2\" >90450782.5713</td>\n",
              "      <td id=\"T_40af6_row15_col3\" class=\"data row15 col3\" >9468.3193</td>\n",
              "      <td id=\"T_40af6_row15_col4\" class=\"data row15 col4\" >0.3792</td>\n",
              "      <td id=\"T_40af6_row15_col5\" class=\"data row15 col5\" >0.7342</td>\n",
              "      <td id=\"T_40af6_row15_col6\" class=\"data row15 col6\" >0.9184</td>\n",
              "      <td id=\"T_40af6_row15_col7\" class=\"data row15 col7\" >0.0740</td>\n",
              "    </tr>\n",
              "    <tr>\n",
              "      <th id=\"T_40af6_level0_row16\" class=\"row_heading level0 row16\" >omp</th>\n",
              "      <td id=\"T_40af6_row16_col0\" class=\"data row16 col0\" >Orthogonal Matching Pursuit</td>\n",
              "      <td id=\"T_40af6_row16_col1\" class=\"data row16 col1\" >9089.9268</td>\n",
              "      <td id=\"T_40af6_row16_col2\" class=\"data row16 col2\" >133439413.5272</td>\n",
              "      <td id=\"T_40af6_row16_col3\" class=\"data row16 col3\" >11488.4238</td>\n",
              "      <td id=\"T_40af6_row16_col4\" class=\"data row16 col4\" >0.0884</td>\n",
              "      <td id=\"T_40af6_row16_col5\" class=\"data row16 col5\" >0.8790</td>\n",
              "      <td id=\"T_40af6_row16_col6\" class=\"data row16 col6\" >1.1514</td>\n",
              "      <td id=\"T_40af6_row16_col7\" class=\"data row16 col7\" >0.1270</td>\n",
              "    </tr>\n",
              "    <tr>\n",
              "      <th id=\"T_40af6_level0_row17\" class=\"row_heading level0 row17\" >knn</th>\n",
              "      <td id=\"T_40af6_row17_col0\" class=\"data row17 col0\" >K Neighbors Regressor</td>\n",
              "      <td id=\"T_40af6_row17_col1\" class=\"data row17 col1\" >8007.1197</td>\n",
              "      <td id=\"T_40af6_row17_col2\" class=\"data row17 col2\" >131380022.4000</td>\n",
              "      <td id=\"T_40af6_row17_col3\" class=\"data row17 col3\" >11424.9843</td>\n",
              "      <td id=\"T_40af6_row17_col4\" class=\"data row17 col4\" >0.0860</td>\n",
              "      <td id=\"T_40af6_row17_col5\" class=\"data row17 col5\" >0.8535</td>\n",
              "      <td id=\"T_40af6_row17_col6\" class=\"data row17 col6\" >0.9231</td>\n",
              "      <td id=\"T_40af6_row17_col7\" class=\"data row17 col7\" >0.0790</td>\n",
              "    </tr>\n",
              "    <tr>\n",
              "      <th id=\"T_40af6_level0_row18\" class=\"row_heading level0 row18\" >dummy</th>\n",
              "      <td id=\"T_40af6_row18_col0\" class=\"data row18 col0\" >Dummy Regressor</td>\n",
              "      <td id=\"T_40af6_row18_col1\" class=\"data row18 col1\" >9192.5418</td>\n",
              "      <td id=\"T_40af6_row18_col2\" class=\"data row18 col2\" >148516792.8000</td>\n",
              "      <td id=\"T_40af6_row18_col3\" class=\"data row18 col3\" >12132.4733</td>\n",
              "      <td id=\"T_40af6_row18_col4\" class=\"data row18 col4\" >-0.0175</td>\n",
              "      <td id=\"T_40af6_row18_col5\" class=\"data row18 col5\" >1.0154</td>\n",
              "      <td id=\"T_40af6_row18_col6\" class=\"data row18 col6\" >1.5637</td>\n",
              "      <td id=\"T_40af6_row18_col7\" class=\"data row18 col7\" >0.0720</td>\n",
              "    </tr>\n",
              "  </tbody>\n",
              "</table>\n"
            ]
          },
          "metadata": {}
        },
        {
          "output_type": "display_data",
          "data": {
            "text/plain": [
              "Processing:   0%|          | 0/81 [00:00<?, ?it/s]"
            ],
            "application/vnd.jupyter.widget-view+json": {
              "version_major": 2,
              "version_minor": 0,
              "model_id": "96e5772889f9433ab3d0c5520988902a"
            }
          },
          "metadata": {
            "application/vnd.jupyter.widget-view+json": {
              "colab": {
                "custom_widget_manager": {
                  "url": "https://ssl.gstatic.com/colaboratory-static/widgets/colab-cdn-widget-manager/2b70e893a8ba7c0f/manager.min.js"
                }
              }
            }
          }
        },
        {
          "output_type": "display_data",
          "data": {
            "text/plain": [
              "<IPython.core.display.HTML object>"
            ],
            "text/html": []
          },
          "metadata": {}
        }
      ],
      "source": [
        "# compare baseline models\n",
        "best = compare_models()"
      ]
    },
    {
      "cell_type": "code",
      "execution_count": 8,
      "id": "87477aa4",
      "metadata": {
        "id": "87477aa4"
      },
      "outputs": [],
      "source": [
        "# compare models using OOP\n",
        "# exp.compare_models()"
      ]
    },
    {
      "cell_type": "code",
      "execution_count": 9,
      "id": "ab899495",
      "metadata": {
        "id": "ab899495",
        "outputId": "5995db75-cb1b-4e49-84f2-4ca5c04f5e11",
        "colab": {
          "base_uri": "https://localhost:8080/",
          "height": 304
        }
      },
      "outputs": [
        {
          "output_type": "error",
          "ename": "ValueError",
          "evalue": "Estimator catboost not available. Please see docstring for list of available estimators.",
          "traceback": [
            "\u001b[0;31m---------------------------------------------------------------------------\u001b[0m",
            "\u001b[0;31mValueError\u001b[0m                                Traceback (most recent call last)",
            "\u001b[0;32m<ipython-input-9-4416f24ec67d>\u001b[0m in \u001b[0;36m<cell line: 1>\u001b[0;34m()\u001b[0m\n\u001b[0;32m----> 1\u001b[0;31m \u001b[0mbest\u001b[0m \u001b[0;34m=\u001b[0m \u001b[0mcreate_model\u001b[0m\u001b[0;34m(\u001b[0m\u001b[0;34m'catboost'\u001b[0m\u001b[0;34m)\u001b[0m \u001b[0;31m#choose catboost to avoid plot errors with some models\u001b[0m\u001b[0;34m\u001b[0m\u001b[0;34m\u001b[0m\u001b[0m\n\u001b[0m",
            "\u001b[0;32m/usr/local/lib/python3.10/dist-packages/pycaret/utils/generic.py\u001b[0m in \u001b[0;36mwrapper\u001b[0;34m(*args, **kwargs)\u001b[0m\n\u001b[1;32m    962\u001b[0m                 \u001b[0;32mif\u001b[0m \u001b[0mglobals_d\u001b[0m\u001b[0;34m[\u001b[0m\u001b[0mname\u001b[0m\u001b[0;34m]\u001b[0m \u001b[0;32mis\u001b[0m \u001b[0;32mNone\u001b[0m\u001b[0;34m:\u001b[0m\u001b[0;34m\u001b[0m\u001b[0;34m\u001b[0m\u001b[0m\n\u001b[1;32m    963\u001b[0m                     \u001b[0;32mraise\u001b[0m \u001b[0mValueError\u001b[0m\u001b[0;34m(\u001b[0m\u001b[0mmessage\u001b[0m\u001b[0;34m)\u001b[0m\u001b[0;34m\u001b[0m\u001b[0;34m\u001b[0m\u001b[0m\n\u001b[0;32m--> 964\u001b[0;31m             \u001b[0;32mreturn\u001b[0m \u001b[0mfunc\u001b[0m\u001b[0;34m(\u001b[0m\u001b[0;34m*\u001b[0m\u001b[0margs\u001b[0m\u001b[0;34m,\u001b[0m \u001b[0;34m**\u001b[0m\u001b[0mkwargs\u001b[0m\u001b[0;34m)\u001b[0m\u001b[0;34m\u001b[0m\u001b[0;34m\u001b[0m\u001b[0m\n\u001b[0m\u001b[1;32m    965\u001b[0m \u001b[0;34m\u001b[0m\u001b[0m\n\u001b[1;32m    966\u001b[0m         \u001b[0;32mreturn\u001b[0m \u001b[0mwrapper\u001b[0m\u001b[0;34m\u001b[0m\u001b[0;34m\u001b[0m\u001b[0m\n",
            "\u001b[0;32m/usr/local/lib/python3.10/dist-packages/pycaret/regression/functional.py\u001b[0m in \u001b[0;36mcreate_model\u001b[0;34m(estimator, fold, round, cross_validation, fit_kwargs, groups, experiment_custom_tags, engine, verbose, return_train_score, **kwargs)\u001b[0m\n\u001b[1;32m    988\u001b[0m     \"\"\"\n\u001b[1;32m    989\u001b[0m \u001b[0;34m\u001b[0m\u001b[0m\n\u001b[0;32m--> 990\u001b[0;31m     return _CURRENT_EXPERIMENT.create_model(\n\u001b[0m\u001b[1;32m    991\u001b[0m         \u001b[0mestimator\u001b[0m\u001b[0;34m=\u001b[0m\u001b[0mestimator\u001b[0m\u001b[0;34m,\u001b[0m\u001b[0;34m\u001b[0m\u001b[0;34m\u001b[0m\u001b[0m\n\u001b[1;32m    992\u001b[0m         \u001b[0mfold\u001b[0m\u001b[0;34m=\u001b[0m\u001b[0mfold\u001b[0m\u001b[0;34m,\u001b[0m\u001b[0;34m\u001b[0m\u001b[0;34m\u001b[0m\u001b[0m\n",
            "\u001b[0;32m/usr/local/lib/python3.10/dist-packages/pycaret/regression/oop.py\u001b[0m in \u001b[0;36mcreate_model\u001b[0;34m(self, estimator, fold, round, cross_validation, fit_kwargs, groups, experiment_custom_tags, engine, verbose, return_train_score, **kwargs)\u001b[0m\n\u001b[1;32m   1283\u001b[0m \u001b[0;34m\u001b[0m\u001b[0m\n\u001b[1;32m   1284\u001b[0m         \u001b[0;32mtry\u001b[0m\u001b[0;34m:\u001b[0m\u001b[0;34m\u001b[0m\u001b[0;34m\u001b[0m\u001b[0m\n\u001b[0;32m-> 1285\u001b[0;31m             return_values = super().create_model(\n\u001b[0m\u001b[1;32m   1286\u001b[0m                 \u001b[0mestimator\u001b[0m\u001b[0;34m=\u001b[0m\u001b[0mestimator\u001b[0m\u001b[0;34m,\u001b[0m\u001b[0;34m\u001b[0m\u001b[0;34m\u001b[0m\u001b[0m\n\u001b[1;32m   1287\u001b[0m                 \u001b[0mfold\u001b[0m\u001b[0;34m=\u001b[0m\u001b[0mfold\u001b[0m\u001b[0;34m,\u001b[0m\u001b[0;34m\u001b[0m\u001b[0;34m\u001b[0m\u001b[0m\n",
            "\u001b[0;32m/usr/local/lib/python3.10/dist-packages/pycaret/internal/pycaret_experiment/supervised_experiment.py\u001b[0m in \u001b[0;36mcreate_model\u001b[0;34m(self, estimator, fold, round, cross_validation, predict, fit_kwargs, groups, refit, probability_threshold, experiment_custom_tags, verbose, return_train_score, **kwargs)\u001b[0m\n\u001b[1;32m   1764\u001b[0m             \u001b[0;32mfor\u001b[0m \u001b[0mx\u001b[0m \u001b[0;32min\u001b[0m \u001b[0mkwargs\u001b[0m\u001b[0;34m\u001b[0m\u001b[0;34m\u001b[0m\u001b[0m\n\u001b[1;32m   1765\u001b[0m         )\n\u001b[0;32m-> 1766\u001b[0;31m         return self._create_model(\n\u001b[0m\u001b[1;32m   1767\u001b[0m             \u001b[0mestimator\u001b[0m\u001b[0;34m=\u001b[0m\u001b[0mestimator\u001b[0m\u001b[0;34m,\u001b[0m\u001b[0;34m\u001b[0m\u001b[0;34m\u001b[0m\u001b[0m\n\u001b[1;32m   1768\u001b[0m             \u001b[0mfold\u001b[0m\u001b[0;34m=\u001b[0m\u001b[0mfold\u001b[0m\u001b[0;34m,\u001b[0m\u001b[0;34m\u001b[0m\u001b[0;34m\u001b[0m\u001b[0m\n",
            "\u001b[0;32m/usr/local/lib/python3.10/dist-packages/pycaret/internal/pycaret_experiment/supervised_experiment.py\u001b[0m in \u001b[0;36m_create_model\u001b[0;34m(self, estimator, fold, round, cross_validation, predict, fit_kwargs, groups, refit, probability_threshold, experiment_custom_tags, verbose, system, add_to_model_list, X_train_data, y_train_data, metrics, display, model_only, return_train_score, error_score, **kwargs)\u001b[0m\n\u001b[1;32m   1339\u001b[0m         \u001b[0;32mif\u001b[0m \u001b[0misinstance\u001b[0m\u001b[0;34m(\u001b[0m\u001b[0mestimator\u001b[0m\u001b[0;34m,\u001b[0m \u001b[0mstr\u001b[0m\u001b[0;34m)\u001b[0m\u001b[0;34m:\u001b[0m\u001b[0;34m\u001b[0m\u001b[0;34m\u001b[0m\u001b[0m\n\u001b[1;32m   1340\u001b[0m             \u001b[0;32mif\u001b[0m \u001b[0mestimator\u001b[0m \u001b[0;32mnot\u001b[0m \u001b[0;32min\u001b[0m \u001b[0mavailable_estimators\u001b[0m\u001b[0;34m:\u001b[0m\u001b[0;34m\u001b[0m\u001b[0;34m\u001b[0m\u001b[0m\n\u001b[0;32m-> 1341\u001b[0;31m                 raise ValueError(\n\u001b[0m\u001b[1;32m   1342\u001b[0m                     \u001b[0;34mf\"Estimator {estimator} not available. Please see docstring for list of available estimators.\"\u001b[0m\u001b[0;34m\u001b[0m\u001b[0;34m\u001b[0m\u001b[0m\n\u001b[1;32m   1343\u001b[0m                 )\n",
            "\u001b[0;31mValueError\u001b[0m: Estimator catboost not available. Please see docstring for list of available estimators."
          ]
        }
      ],
      "source": [
        "best = create_model('catboost') #choose catboost to avoid plot errors with some models"
      ]
    },
    {
      "cell_type": "markdown",
      "id": "340de1e2",
      "metadata": {
        "id": "340de1e2"
      },
      "source": [
        "Notice that the output between functional and OOP API is consistent. Rest of the functions in this notebook will only be shown using functional API only.\n",
        "\n",
        "___"
      ]
    },
    {
      "cell_type": "markdown",
      "id": "6a77ec0c",
      "metadata": {
        "id": "6a77ec0c"
      },
      "source": [
        "## Analyze Model"
      ]
    },
    {
      "cell_type": "markdown",
      "id": "595ea108",
      "metadata": {
        "id": "595ea108"
      },
      "source": [
        "The `plot_model` function is used to analyze the performance of a trained model on the test set. It may require re-training the model in certain cases."
      ]
    },
    {
      "cell_type": "code",
      "execution_count": null,
      "id": "0ec7fad6",
      "metadata": {
        "id": "0ec7fad6"
      },
      "outputs": [],
      "source": [
        "# plot residuals\n",
        "plot_model(best, plot = 'residuals')"
      ]
    },
    {
      "cell_type": "code",
      "execution_count": null,
      "id": "9fc4b9b1",
      "metadata": {
        "id": "9fc4b9b1"
      },
      "outputs": [],
      "source": [
        "# plot error\n",
        "plot_model(best, plot = 'error')"
      ]
    },
    {
      "cell_type": "code",
      "execution_count": null,
      "id": "bbc790e4",
      "metadata": {
        "id": "bbc790e4"
      },
      "outputs": [],
      "source": [
        "# plot feature importance\n",
        "plot_model(best, plot = 'feature')"
      ]
    },
    {
      "cell_type": "code",
      "execution_count": null,
      "id": "da718984",
      "metadata": {
        "id": "da718984"
      },
      "outputs": [],
      "source": [
        "# check docstring to see available plots\n",
        "# help(plot_model)"
      ]
    },
    {
      "cell_type": "markdown",
      "id": "6bd66179",
      "metadata": {
        "id": "6bd66179"
      },
      "source": [
        "An alternate to `plot_model` function is `evaluate_model`. It can only be used in Notebook since it uses `ipywidget`."
      ]
    },
    {
      "cell_type": "code",
      "execution_count": null,
      "id": "c75f07a8",
      "metadata": {
        "id": "c75f07a8"
      },
      "outputs": [],
      "source": [
        "evaluate_model(best)"
      ]
    },
    {
      "cell_type": "markdown",
      "id": "ab3d2f1e",
      "metadata": {
        "id": "ab3d2f1e"
      },
      "source": [
        "___"
      ]
    },
    {
      "cell_type": "markdown",
      "id": "954cbeff",
      "metadata": {
        "id": "954cbeff"
      },
      "source": [
        "## Prediction\n",
        "The `predict_model` function returns `prediction_label` as new column to the input dataframe. When data is `None` (default), it uses the test set (created during the setup function) for scoring."
      ]
    },
    {
      "cell_type": "code",
      "execution_count": null,
      "id": "87c1a007",
      "metadata": {
        "id": "87c1a007"
      },
      "outputs": [],
      "source": [
        "# predict on test set\n",
        "holdout_pred = predict_model(best)"
      ]
    },
    {
      "cell_type": "code",
      "execution_count": null,
      "id": "5c01ac77",
      "metadata": {
        "id": "5c01ac77"
      },
      "outputs": [],
      "source": [
        "# show predictions df\n",
        "holdout_pred.head()"
      ]
    },
    {
      "cell_type": "markdown",
      "id": "d4baf825",
      "metadata": {
        "id": "d4baf825"
      },
      "source": [
        "The same function works for predicting the labels on unseen dataset. Let's create a copy of original data and drop the `charges`. We can then use the new data frame without labels for scoring."
      ]
    },
    {
      "cell_type": "code",
      "execution_count": null,
      "id": "fb1cb86d",
      "metadata": {
        "id": "fb1cb86d"
      },
      "outputs": [],
      "source": [
        "# copy data and drop charges\n",
        "\n",
        "new_data = data.copy()\n",
        "new_data.drop('charges', axis=1, inplace=True)\n",
        "new_data.head()"
      ]
    },
    {
      "cell_type": "code",
      "execution_count": null,
      "id": "c5803df9",
      "metadata": {
        "id": "c5803df9"
      },
      "outputs": [],
      "source": [
        "# predict model on new_data\n",
        "predictions = predict_model(best, data = new_data)\n",
        "predictions.head()"
      ]
    },
    {
      "cell_type": "markdown",
      "id": "3950252d",
      "metadata": {
        "id": "3950252d"
      },
      "source": [
        "___"
      ]
    },
    {
      "cell_type": "markdown",
      "id": "e4384735",
      "metadata": {
        "id": "e4384735"
      },
      "source": [
        "## Save Model"
      ]
    },
    {
      "cell_type": "markdown",
      "id": "cd63f053",
      "metadata": {
        "id": "cd63f053"
      },
      "source": [
        "Finally, you can save the entire pipeline on disk for later use, using pycaret's `save_model` function."
      ]
    },
    {
      "cell_type": "code",
      "execution_count": null,
      "id": "4181de41",
      "metadata": {
        "id": "4181de41"
      },
      "outputs": [],
      "source": [
        "# save pipeline\n",
        "save_model(best, 'my_first_pipeline')"
      ]
    },
    {
      "cell_type": "code",
      "execution_count": null,
      "id": "40ed5152",
      "metadata": {
        "id": "40ed5152"
      },
      "outputs": [],
      "source": [
        "# load pipeline\n",
        "loaded_best_pipeline = load_model('my_first_pipeline')\n",
        "loaded_best_pipeline"
      ]
    },
    {
      "cell_type": "markdown",
      "id": "b2c7d62e",
      "metadata": {
        "id": "b2c7d62e"
      },
      "source": [
        "# 👇 Detailed function-by-function overview"
      ]
    },
    {
      "cell_type": "markdown",
      "id": "e05937f5",
      "metadata": {
        "id": "e05937f5"
      },
      "source": [
        "## ✅ Setup\n",
        "The `setup` function initializes the experiment in PyCaret and creates the transformation pipeline based on all the parameters passed in the function. Setup function must be called before executing any other function. It takes two required parameters: `data` and `target`. All the other parameters are optional and are used for configuring data preprocessing pipeline."
      ]
    },
    {
      "cell_type": "code",
      "execution_count": null,
      "id": "24e503be",
      "metadata": {
        "id": "24e503be"
      },
      "outputs": [],
      "source": [
        "s = setup(data, target = 'charges', session_id = 123)"
      ]
    },
    {
      "cell_type": "markdown",
      "id": "924d198b",
      "metadata": {
        "id": "924d198b"
      },
      "source": [
        "To access all the variables created by the setup function such as transformed dataset, random_state, etc. you can use `get_config` method."
      ]
    },
    {
      "cell_type": "code",
      "execution_count": null,
      "id": "76128b08",
      "metadata": {
        "id": "76128b08"
      },
      "outputs": [],
      "source": [
        "# check all available config\n",
        "get_config()"
      ]
    },
    {
      "cell_type": "code",
      "execution_count": null,
      "id": "dbc43292",
      "metadata": {
        "id": "dbc43292"
      },
      "outputs": [],
      "source": [
        "# lets access X_train_transformed\n",
        "get_config('X_train_transformed')"
      ]
    },
    {
      "cell_type": "code",
      "execution_count": null,
      "id": "ef9cd061",
      "metadata": {
        "id": "ef9cd061"
      },
      "outputs": [],
      "source": [
        "# another example: let's access seed\n",
        "print(\"The current seed is: {}\".format(get_config('seed')))\n",
        "\n",
        "# now lets change it using set_config\n",
        "set_config('seed', 786)\n",
        "print(\"The new seed is: {}\".format(get_config('seed')))"
      ]
    },
    {
      "cell_type": "markdown",
      "id": "7afbe41d",
      "metadata": {
        "id": "7afbe41d"
      },
      "source": [
        "All the preprocessing configurations and experiment settings/parameters are passed into the `setup` function. To see all available parameters, check the docstring:"
      ]
    },
    {
      "cell_type": "code",
      "execution_count": null,
      "id": "2885a14f",
      "metadata": {
        "id": "2885a14f"
      },
      "outputs": [],
      "source": [
        "# help(setup)"
      ]
    },
    {
      "cell_type": "code",
      "execution_count": null,
      "id": "34ae0fce",
      "metadata": {
        "id": "34ae0fce"
      },
      "outputs": [],
      "source": [
        "# init setup with normalize = True\n",
        "s = setup(data, target = 'charges', session_id = 123,\n",
        "          normalize = True, normalize_method = 'minmax')"
      ]
    },
    {
      "cell_type": "code",
      "execution_count": null,
      "id": "04204ae7",
      "metadata": {
        "id": "04204ae7"
      },
      "outputs": [],
      "source": [
        "# lets check the X_train_transformed to see effect of params passed\n",
        "get_config('X_train_transformed')['age'].hist()"
      ]
    },
    {
      "cell_type": "markdown",
      "id": "d28a3e4e",
      "metadata": {
        "id": "d28a3e4e"
      },
      "source": [
        "Notice that all the values are between 0 and 1 - that is because we passed `normalize=True` in the `setup` function. If you don't remember how it compares to actual data, no problem - we can also access non-transformed values using `get_config` and then compare. See below and notice the range of values on x-axis and compare it with histogram above."
      ]
    },
    {
      "cell_type": "code",
      "execution_count": null,
      "id": "68cc1c63",
      "metadata": {
        "id": "68cc1c63"
      },
      "outputs": [],
      "source": [
        "get_config('X_train')['age'].hist()"
      ]
    },
    {
      "cell_type": "markdown",
      "id": "b3776fbf",
      "metadata": {
        "id": "b3776fbf"
      },
      "source": [
        "___"
      ]
    },
    {
      "cell_type": "markdown",
      "id": "36b8b803",
      "metadata": {
        "id": "36b8b803"
      },
      "source": [
        "## ✅ Compare Models\n",
        "The `compare_models` function trains and evaluates the performance of all estimators available in the model library using cross-validation. The output of this function is a scoring grid with average cross-validated scores. Metrics evaluated during CV can be accessed using the `get_metrics` function. Custom metrics can be added or removed using `add_metric` and `remove_metric` function."
      ]
    },
    {
      "cell_type": "code",
      "execution_count": null,
      "id": "a3350418",
      "metadata": {
        "id": "a3350418"
      },
      "outputs": [],
      "source": [
        "best = compare_models()"
      ]
    },
    {
      "cell_type": "markdown",
      "id": "cd18dcf6",
      "metadata": {
        "id": "cd18dcf6"
      },
      "source": [
        "`compare_models` by default uses all the estimators in model library (all except models with `Turbo=False`) . To see all available models you can use the function `models()`"
      ]
    },
    {
      "cell_type": "code",
      "execution_count": null,
      "id": "432e93d7",
      "metadata": {
        "id": "432e93d7"
      },
      "outputs": [],
      "source": [
        "# check available models\n",
        "models()"
      ]
    },
    {
      "cell_type": "markdown",
      "id": "f588f54b",
      "metadata": {
        "id": "f588f54b"
      },
      "source": [
        "You can use the `include` and `exclude` parameter in the `compare_models` to train only select model or exclude specific models from training by passing the model id's in `exclude` parameter."
      ]
    },
    {
      "cell_type": "code",
      "execution_count": null,
      "id": "f2a7e578",
      "metadata": {
        "id": "f2a7e578"
      },
      "outputs": [],
      "source": [
        "compare_tree_models = compare_models(include = ['dt', 'rf', 'et', 'gbr', 'xgboost', 'lightgbm', 'catboost'])"
      ]
    },
    {
      "cell_type": "code",
      "execution_count": null,
      "id": "c15a467e",
      "metadata": {
        "id": "c15a467e"
      },
      "outputs": [],
      "source": [
        "compare_tree_models"
      ]
    },
    {
      "cell_type": "markdown",
      "id": "af9ae6cd",
      "metadata": {
        "id": "af9ae6cd"
      },
      "source": [
        "The function above has return trained model object as an output. The scoring grid is only displayed and not returned. If you need access to the scoring grid you can use `pull` function to access the dataframe."
      ]
    },
    {
      "cell_type": "code",
      "execution_count": null,
      "id": "fc529e25",
      "metadata": {
        "id": "fc529e25"
      },
      "outputs": [],
      "source": [
        "compare_tree_models_results = pull()\n",
        "compare_tree_models_results"
      ]
    },
    {
      "cell_type": "markdown",
      "id": "05a72fc2",
      "metadata": {
        "id": "05a72fc2"
      },
      "source": [
        "By default `compare_models` return the single best performing model based on the metric defined in the `sort` parameter. Let's change our code to return 3 top models based on `MAE`."
      ]
    },
    {
      "cell_type": "code",
      "execution_count": null,
      "id": "1066dd07",
      "metadata": {
        "id": "1066dd07"
      },
      "outputs": [],
      "source": [
        "best_mae_models_top3 = compare_models(sort = 'MAE', n_select = 3)"
      ]
    },
    {
      "cell_type": "code",
      "execution_count": null,
      "id": "aa259708",
      "metadata": {
        "id": "aa259708"
      },
      "outputs": [],
      "source": [
        "# list of top 3 models by MAE\n",
        "best_mae_models_top3"
      ]
    },
    {
      "cell_type": "markdown",
      "id": "1d91d27e",
      "metadata": {
        "id": "1d91d27e"
      },
      "source": [
        "Some other parameters that you might find very useful in `compare_models` are:\n",
        "\n",
        "- fold\n",
        "- cross_validation\n",
        "- budget_time\n",
        "- errors\n",
        "- probability_threshold\n",
        "- parallel\n",
        "\n",
        "You can check the docstring of the function for more info."
      ]
    },
    {
      "cell_type": "code",
      "execution_count": null,
      "id": "f0c49e0b",
      "metadata": {
        "id": "f0c49e0b"
      },
      "outputs": [],
      "source": [
        "# help(compare_models)"
      ]
    },
    {
      "cell_type": "markdown",
      "id": "9e6c47cb",
      "metadata": {
        "id": "9e6c47cb"
      },
      "source": [
        "## ✅ Experiment Logging\n",
        "PyCaret integrates with many different type of experiment loggers (default = 'mlflow'). To turn on experiment tracking in PyCaret you can set `log_experiment` and `experiment_name` parameter. It will automatically track all the metrics, hyperparameters, and artifacts based on the defined logger."
      ]
    },
    {
      "cell_type": "code",
      "execution_count": null,
      "id": "1af63fd0",
      "metadata": {
        "id": "1af63fd0"
      },
      "outputs": [],
      "source": [
        "# from pycaret.regression import *\n",
        "# s = setup(data, target = 'charges', log_experiment='mlflow', experiment_name='insurance_experiment')"
      ]
    },
    {
      "cell_type": "code",
      "execution_count": null,
      "id": "42cd6120",
      "metadata": {
        "id": "42cd6120"
      },
      "outputs": [],
      "source": [
        "# compare models\n",
        "# best = compare_models()"
      ]
    },
    {
      "cell_type": "code",
      "execution_count": null,
      "id": "adc82ce5",
      "metadata": {
        "id": "adc82ce5"
      },
      "outputs": [],
      "source": [
        "# start mlflow server on localhost:5000\n",
        "# !mlflow ui"
      ]
    },
    {
      "cell_type": "markdown",
      "id": "a06f9df7",
      "metadata": {
        "id": "a06f9df7"
      },
      "source": [
        "By default PyCaret uses `MLFlow` logger that can be changed using `log_experiment` parameter. Following loggers are available:\n",
        "    \n",
        "    - mlflow\n",
        "    - wandb\n",
        "    - comet_ml\n",
        "    - dagshub\n",
        "    \n",
        "Other logging related parameters that you may find useful are:\n",
        "\n",
        "- experiment_custom_tags\n",
        "- log_plots\n",
        "- log_data\n",
        "- log_profile\n",
        "\n",
        "For more information check out the docstring of the `setup` function."
      ]
    },
    {
      "cell_type": "code",
      "execution_count": null,
      "id": "2f8b6aa1",
      "metadata": {
        "id": "2f8b6aa1"
      },
      "outputs": [],
      "source": [
        "# help(setup)"
      ]
    },
    {
      "cell_type": "markdown",
      "id": "6ce0b555",
      "metadata": {
        "id": "6ce0b555"
      },
      "source": [
        "## ✅ Create Model\n",
        "The `create_model` function trains and evaluates the performance of a given estimator using cross-validation. The output of this function is a scoring grid with CV scores by fold. Metrics evaluated during CV can be accessed using the `get_metrics` function. Custom metrics can be added or removed using `add_metric` and `remove_metric` function. All the available models can be accessed using the `models` function."
      ]
    },
    {
      "cell_type": "code",
      "execution_count": null,
      "id": "837cebfa",
      "metadata": {
        "id": "837cebfa"
      },
      "outputs": [],
      "source": [
        "# check all the available models\n",
        "models()"
      ]
    },
    {
      "cell_type": "code",
      "execution_count": null,
      "id": "16641cab",
      "metadata": {
        "id": "16641cab"
      },
      "outputs": [],
      "source": [
        "# train linear regression with default fold=10\n",
        "lr = create_model('lr')"
      ]
    },
    {
      "cell_type": "markdown",
      "id": "074b4572",
      "metadata": {
        "id": "074b4572"
      },
      "source": [
        "The function above has return trained model object as an output. The scoring grid is only displayed and not returned. If you need access to the scoring grid you can use `pull` function to access the dataframe."
      ]
    },
    {
      "cell_type": "code",
      "execution_count": null,
      "id": "fe277e1b",
      "metadata": {
        "id": "fe277e1b"
      },
      "outputs": [],
      "source": [
        "lr_results = pull()\n",
        "print(type(lr_results))\n",
        "lr_results"
      ]
    },
    {
      "cell_type": "code",
      "execution_count": null,
      "id": "148a74c4",
      "metadata": {
        "id": "148a74c4"
      },
      "outputs": [],
      "source": [
        "# train linear regression with fold=3\n",
        "lr = create_model('lr', fold=3)"
      ]
    },
    {
      "cell_type": "code",
      "execution_count": null,
      "id": "5a8906a8",
      "metadata": {
        "id": "5a8906a8"
      },
      "outputs": [],
      "source": [
        "# train linear regression with specific model parameters\n",
        "create_model('lr', fit_intercept = False)"
      ]
    },
    {
      "cell_type": "code",
      "execution_count": null,
      "id": "b85af29b",
      "metadata": {
        "id": "b85af29b"
      },
      "outputs": [],
      "source": [
        "# train lr and return train score as well alongwith CV\n",
        "create_model('lr', return_train_score=True)"
      ]
    },
    {
      "cell_type": "markdown",
      "id": "08634e9e",
      "metadata": {
        "id": "08634e9e"
      },
      "source": [
        "Some other parameters that you might find very useful in `create_model` are:\n",
        "\n",
        "- cross_validation\n",
        "- engine\n",
        "- fit_kwargs\n",
        "- groups\n",
        "\n",
        "You can check the docstring of the function for more info."
      ]
    },
    {
      "cell_type": "code",
      "execution_count": null,
      "id": "3fb32c74",
      "metadata": {
        "id": "3fb32c74"
      },
      "outputs": [],
      "source": [
        "# help(create_model)"
      ]
    },
    {
      "cell_type": "markdown",
      "id": "d5378836",
      "metadata": {
        "id": "d5378836"
      },
      "source": [
        "## ✅ Tune Model\n",
        "\n",
        "The `tune_model` function tunes the hyperparameters of the model. The output of this function is a scoring grid with cross-validated scores by fold. The best model is selected based on the metric defined in optimize parameter. Metrics evaluated during cross-validation can be accessed using the `get_metrics` function. Custom metrics can be added or removed using `add_metric` and `remove_metric` function."
      ]
    },
    {
      "cell_type": "code",
      "execution_count": null,
      "id": "402597f2",
      "metadata": {
        "id": "402597f2"
      },
      "outputs": [],
      "source": [
        "# train a dt model with default params\n",
        "dt = create_model('dt')"
      ]
    },
    {
      "cell_type": "code",
      "execution_count": null,
      "id": "90dc451d",
      "metadata": {
        "id": "90dc451d"
      },
      "outputs": [],
      "source": [
        "# tune hyperparameters of dt\n",
        "tuned_dt = tune_model(dt)"
      ]
    },
    {
      "cell_type": "markdown",
      "id": "805b66b9",
      "metadata": {
        "id": "805b66b9"
      },
      "source": [
        "Metric to optimize can be defined in `optimize` parameter (default = 'Accuracy'). Also, a custom tuned grid can be passed with `custom_grid` parameter."
      ]
    },
    {
      "cell_type": "code",
      "execution_count": null,
      "id": "cca8e640",
      "metadata": {
        "id": "cca8e640"
      },
      "outputs": [],
      "source": [
        "dt"
      ]
    },
    {
      "cell_type": "code",
      "execution_count": null,
      "id": "31e050ff",
      "metadata": {
        "id": "31e050ff"
      },
      "outputs": [],
      "source": [
        "# define tuning grid\n",
        "dt_grid = {'max_depth' : [None, 2, 4, 6, 8, 10, 12]}\n",
        "\n",
        "# tune model with custom grid and metric = MAE\n",
        "tuned_dt = tune_model(dt, custom_grid = dt_grid, optimize = 'MAE')"
      ]
    },
    {
      "cell_type": "code",
      "execution_count": null,
      "id": "6cca514b",
      "metadata": {
        "id": "6cca514b"
      },
      "outputs": [],
      "source": [
        "# to access the tuner object you can set return_tuner = True\n",
        "tuned_dt, tuner = tune_model(dt, return_tuner=True)"
      ]
    },
    {
      "cell_type": "code",
      "execution_count": null,
      "id": "80cbb4a6",
      "metadata": {
        "id": "80cbb4a6"
      },
      "outputs": [],
      "source": [
        "# model object\n",
        "tuned_dt"
      ]
    },
    {
      "cell_type": "code",
      "execution_count": null,
      "id": "7d5e49ca",
      "metadata": {
        "id": "7d5e49ca"
      },
      "outputs": [],
      "source": [
        "# tuner object\n",
        "tuner"
      ]
    },
    {
      "cell_type": "markdown",
      "id": "0a33c70b",
      "metadata": {
        "id": "0a33c70b"
      },
      "source": [
        "The default search algorithm is `RandomizedSearchCV` from `sklearn`. This can be changed by using `search_library` and `search_algorithm` parameter."
      ]
    },
    {
      "cell_type": "code",
      "execution_count": null,
      "id": "31e33547",
      "metadata": {
        "id": "31e33547"
      },
      "outputs": [],
      "source": [
        "# tune dt using optuna\n",
        "tuned_dt = tune_model(dt, search_library = 'optuna')"
      ]
    },
    {
      "cell_type": "markdown",
      "id": "a1e2875b",
      "metadata": {
        "id": "a1e2875b"
      },
      "source": [
        "For more details on all available `search_library` and `search_algorithm` please check the docstring. Some other parameters that you might find very useful in `tune_model` are:\n",
        "\n",
        "- choose_better\n",
        "- n_iter\n",
        "- early_stopping\n",
        "- groups\n",
        "\n",
        "You can check the docstring of the function for more info."
      ]
    },
    {
      "cell_type": "code",
      "execution_count": null,
      "id": "94f9c86e",
      "metadata": {
        "id": "94f9c86e"
      },
      "outputs": [],
      "source": [
        "# help(tune_model)"
      ]
    },
    {
      "cell_type": "markdown",
      "id": "2ca8ee07",
      "metadata": {
        "id": "2ca8ee07"
      },
      "source": [
        "## ✅ Ensemble Model"
      ]
    },
    {
      "cell_type": "markdown",
      "id": "ce321d4c",
      "metadata": {
        "id": "ce321d4c"
      },
      "source": [
        "The `ensemble_model` function ensembles a given estimator. The output of this function is a scoring grid with CV scores by fold. Metrics evaluated during CV can be accessed using the `get_metrics` function. Custom metrics can be added or removed using `add_metric` and `remove_metric` function."
      ]
    },
    {
      "cell_type": "code",
      "execution_count": null,
      "id": "c8ee936d",
      "metadata": {
        "id": "c8ee936d"
      },
      "outputs": [],
      "source": [
        "# ensemble with bagging\n",
        "ensemble_model(dt, method = 'Bagging')"
      ]
    },
    {
      "cell_type": "code",
      "execution_count": null,
      "id": "79279394",
      "metadata": {
        "id": "79279394"
      },
      "outputs": [],
      "source": [
        "# ensemble with boosting\n",
        "ensemble_model(dt, method = 'Boosting')"
      ]
    },
    {
      "cell_type": "markdown",
      "id": "d0fa1ce2",
      "metadata": {
        "id": "d0fa1ce2"
      },
      "source": [
        "Some other parameters that you might find very useful in `ensemble_model` are:\n",
        "\n",
        "- choose_better\n",
        "- n_estimators\n",
        "- groups\n",
        "- fit_kwargs\n",
        "- return_train_score\n",
        "\n",
        "You can check the docstring of the function for more info."
      ]
    },
    {
      "cell_type": "code",
      "execution_count": null,
      "id": "78130ed1",
      "metadata": {
        "id": "78130ed1"
      },
      "outputs": [],
      "source": [
        "# help(ensemble_model)"
      ]
    },
    {
      "cell_type": "markdown",
      "id": "ea8a9a4e",
      "metadata": {
        "id": "ea8a9a4e"
      },
      "source": [
        "## ✅ Blend Models"
      ]
    },
    {
      "cell_type": "markdown",
      "id": "2ede29c4",
      "metadata": {
        "id": "2ede29c4"
      },
      "source": [
        "The `blend_models` function trains a `VotingRegressor` for select models passed in the `estimator_list` parameter. The output of this function is a scoring grid with CV scores by fold. Metrics evaluated during CV can be accessed using the `get_metrics` function. Custom metrics can be added or removed using `add_metric` and `remove_metric` function."
      ]
    },
    {
      "cell_type": "code",
      "execution_count": null,
      "id": "61a7a1c5",
      "metadata": {
        "id": "61a7a1c5"
      },
      "outputs": [],
      "source": [
        "# top 3 models based on mae\n",
        "best_mae_models_top3"
      ]
    },
    {
      "cell_type": "code",
      "execution_count": null,
      "id": "04f65f2f",
      "metadata": {
        "id": "04f65f2f"
      },
      "outputs": [],
      "source": [
        "# blend top 3 models\n",
        "blend_models(best_mae_models_top3)"
      ]
    },
    {
      "cell_type": "markdown",
      "id": "9e788c9c",
      "metadata": {
        "id": "9e788c9c"
      },
      "source": [
        "Some other parameters that you might find very useful in `blend_models` are:\n",
        "\n",
        "- choose_better\n",
        "- weights\n",
        "- optimize\n",
        "- fit_kwargs\n",
        "- return_train_score\n",
        "\n",
        "You can check the docstring of the function for more info."
      ]
    },
    {
      "cell_type": "code",
      "execution_count": null,
      "id": "99b549a6",
      "metadata": {
        "id": "99b549a6"
      },
      "outputs": [],
      "source": [
        "# help(blend_models)"
      ]
    },
    {
      "cell_type": "markdown",
      "id": "e76969b0",
      "metadata": {
        "id": "e76969b0"
      },
      "source": [
        "## ✅ Stack Models"
      ]
    },
    {
      "cell_type": "markdown",
      "id": "55909804",
      "metadata": {
        "id": "55909804"
      },
      "source": [
        "The `stack_models` function trains a meta-model over select estimators passed in the estimator_list parameter. The output of this function is a scoring grid with CV scores by fold. Metrics evaluated during CV can be accessed using the `get_metrics` function. Custom metrics can be added or removed using `add_metric` and `remove_metric` function."
      ]
    },
    {
      "cell_type": "code",
      "execution_count": null,
      "id": "201c681e",
      "metadata": {
        "id": "201c681e"
      },
      "outputs": [],
      "source": [
        "# stack models\n",
        "stack_models(best_mae_models_top3)"
      ]
    },
    {
      "cell_type": "markdown",
      "id": "af78cda8",
      "metadata": {
        "id": "af78cda8"
      },
      "source": [
        "Some other parameters that you might find very useful in `stack_models` are:\n",
        "\n",
        "- choose_better\n",
        "- meta_model\n",
        "- restack\n",
        "- optimize\n",
        "- return_train_score\n",
        "\n",
        "You can check the docstring of the function for more info."
      ]
    },
    {
      "cell_type": "code",
      "execution_count": null,
      "id": "3305e597",
      "metadata": {
        "id": "3305e597"
      },
      "outputs": [],
      "source": [
        "# help(stack_models)"
      ]
    },
    {
      "cell_type": "markdown",
      "id": "279a3127",
      "metadata": {
        "id": "279a3127"
      },
      "source": [
        "## ✅ Plot Model"
      ]
    },
    {
      "cell_type": "markdown",
      "id": "862bd3e9",
      "metadata": {
        "id": "862bd3e9"
      },
      "source": [
        "The `plot_model` function analyzes the performance of a trained model on the hold-out set. It may require re-training the model in certain cases."
      ]
    },
    {
      "cell_type": "code",
      "execution_count": null,
      "id": "9c8da9b4",
      "metadata": {
        "id": "9c8da9b4"
      },
      "outputs": [],
      "source": [
        "# plot residuals\n",
        "plot_model(best, plot = 'residuals')"
      ]
    },
    {
      "cell_type": "code",
      "execution_count": null,
      "id": "952b6f24",
      "metadata": {
        "id": "952b6f24"
      },
      "outputs": [],
      "source": [
        "# to control the scale of plot\n",
        "plot_model(best, plot = 'residuals', scale = 2)"
      ]
    },
    {
      "cell_type": "code",
      "execution_count": null,
      "id": "293e4d15",
      "metadata": {
        "id": "293e4d15"
      },
      "outputs": [],
      "source": [
        "# to save the plot\n",
        "plot_model(best, plot = 'residuals', save=True)"
      ]
    },
    {
      "cell_type": "markdown",
      "id": "2fef279d",
      "metadata": {
        "id": "2fef279d"
      },
      "source": [
        "Some other parameters that you might find very useful in `plot_model` are:\n",
        "\n",
        "- fit_kwargs\n",
        "- plot_kwargs\n",
        "- groups\n",
        "- display_format\n",
        "\n",
        "You can check the docstring of the function for more info."
      ]
    },
    {
      "cell_type": "code",
      "execution_count": null,
      "id": "54b09b8e",
      "metadata": {
        "id": "54b09b8e"
      },
      "outputs": [],
      "source": [
        "# help(plot_model)"
      ]
    },
    {
      "cell_type": "markdown",
      "id": "b724ca46",
      "metadata": {
        "id": "b724ca46"
      },
      "source": [
        "## ✅ Interpret Model"
      ]
    },
    {
      "cell_type": "markdown",
      "id": "52f8fb33",
      "metadata": {
        "id": "52f8fb33"
      },
      "source": [
        "The `interpret_model` function analyzes the predictions generated from a trained model. Most plots in this function are implemented based on the SHAP (Shapley Additive exPlanations). For more info on this, please see https://shap.readthedocs.io/en/latest/"
      ]
    },
    {
      "cell_type": "code",
      "execution_count": null,
      "id": "6b6891b7",
      "metadata": {
        "id": "6b6891b7"
      },
      "outputs": [],
      "source": [
        "# train lightgbm model\n",
        "lightgbm = create_model('lightgbm')"
      ]
    },
    {
      "cell_type": "code",
      "execution_count": null,
      "id": "3198b571",
      "metadata": {
        "id": "3198b571"
      },
      "outputs": [],
      "source": [
        "# interpret summary model\n",
        "interpret_model(lightgbm, plot = 'summary')"
      ]
    },
    {
      "cell_type": "code",
      "execution_count": null,
      "id": "824bafdc",
      "metadata": {
        "id": "824bafdc"
      },
      "outputs": [],
      "source": [
        "# reason plot for test set observation 1\n",
        "interpret_model(lightgbm, plot = 'reason', observation = 1)"
      ]
    },
    {
      "cell_type": "markdown",
      "id": "ca7ce2b4",
      "metadata": {
        "id": "ca7ce2b4"
      },
      "source": [
        "Some other parameters that you might find very useful in `interpret_model` are:\n",
        "\n",
        "- plot\n",
        "- feature\n",
        "- use_train_data\n",
        "- X_new_sample\n",
        "- y_new_sample\n",
        "- save\n",
        "\n",
        "You can check the docstring of the function for more info."
      ]
    },
    {
      "cell_type": "code",
      "execution_count": null,
      "id": "42595030",
      "metadata": {
        "id": "42595030"
      },
      "outputs": [],
      "source": [
        "# help(interpret_model)"
      ]
    },
    {
      "cell_type": "markdown",
      "id": "9f57d0c8",
      "metadata": {
        "id": "9f57d0c8"
      },
      "source": [
        "## ✅ Get Leaderboard"
      ]
    },
    {
      "cell_type": "markdown",
      "id": "ec63b67a",
      "metadata": {
        "id": "ec63b67a"
      },
      "source": [
        "This function returns the leaderboard of all models trained in the current setup."
      ]
    },
    {
      "cell_type": "code",
      "execution_count": null,
      "id": "307a6e3c",
      "metadata": {
        "id": "307a6e3c"
      },
      "outputs": [],
      "source": [
        "# get leaderboard\n",
        "lb = get_leaderboard()\n",
        "lb"
      ]
    },
    {
      "cell_type": "code",
      "execution_count": null,
      "id": "f8a8b060",
      "metadata": {
        "id": "f8a8b060"
      },
      "outputs": [],
      "source": [
        "# select the best model based on MAE\n",
        "lb.sort_values(by='MAE', ascending=True)['Model'].iloc[0]"
      ]
    },
    {
      "cell_type": "markdown",
      "id": "9ecf0bfa",
      "metadata": {
        "id": "9ecf0bfa"
      },
      "source": [
        "Some other parameters that you might find very useful in `get_leaderboard` are:\n",
        "\n",
        "- finalize_models\n",
        "- fit_kwargs\n",
        "- model_only\n",
        "- groups\n",
        "\n",
        "You can check the docstring of the function for more info."
      ]
    },
    {
      "cell_type": "code",
      "execution_count": null,
      "id": "dc76f0a5",
      "metadata": {
        "id": "dc76f0a5"
      },
      "outputs": [],
      "source": [
        "# help(get_leaderboard)"
      ]
    },
    {
      "cell_type": "markdown",
      "id": "94669c72",
      "metadata": {
        "id": "94669c72"
      },
      "source": [
        "## ✅ AutoML\n",
        "This function returns the best model out of all trained models in the current setup based on the optimize parameter. Metrics evaluated can be accessed using the `get_metrics` function."
      ]
    },
    {
      "cell_type": "code",
      "execution_count": null,
      "id": "01532054",
      "metadata": {
        "id": "01532054"
      },
      "outputs": [],
      "source": [
        "# find best model based on CV metrics\n",
        "automl()"
      ]
    },
    {
      "cell_type": "markdown",
      "id": "726b2986",
      "metadata": {
        "id": "726b2986"
      },
      "source": [
        "## ✅ Dashboard\n",
        "The dashboard function generates the interactive dashboard for a trained model. The dashboard is implemented using `ExplainerDashboard`. For more information check out [Explainer Dashboard.](explainerdashboard.readthedocs.io)"
      ]
    },
    {
      "cell_type": "code",
      "execution_count": null,
      "id": "ca75507d",
      "metadata": {
        "id": "ca75507d"
      },
      "outputs": [],
      "source": [
        "# dashboard function\n",
        "dashboard(dt, display_format ='inline')"
      ]
    },
    {
      "cell_type": "markdown",
      "id": "58fd3e5a",
      "metadata": {
        "id": "58fd3e5a"
      },
      "source": [
        "## ✅Create App\n",
        "This function creates a basic gradio app for inference."
      ]
    },
    {
      "cell_type": "code",
      "execution_count": null,
      "id": "5cf989d3",
      "metadata": {
        "id": "5cf989d3"
      },
      "outputs": [],
      "source": [
        "# create gradio app\n",
        "create_app(best)"
      ]
    },
    {
      "cell_type": "markdown",
      "id": "a2d8e21d",
      "metadata": {
        "id": "a2d8e21d"
      },
      "source": [
        "## ✅ Create API\n",
        "This function takes an input model and creates a POST API for inference."
      ]
    },
    {
      "cell_type": "code",
      "execution_count": null,
      "id": "978413c9",
      "metadata": {
        "id": "978413c9"
      },
      "outputs": [],
      "source": [
        "# create api\n",
        "create_api(best, api_name = 'my_first_api')"
      ]
    },
    {
      "cell_type": "code",
      "execution_count": null,
      "id": "68e539aa",
      "metadata": {
        "id": "68e539aa"
      },
      "outputs": [],
      "source": [
        "# !python my_first_api.py"
      ]
    },
    {
      "cell_type": "code",
      "execution_count": null,
      "id": "a3de3327",
      "metadata": {
        "id": "a3de3327"
      },
      "outputs": [],
      "source": [
        "# check out the .py file created with this magic command\n",
        "# %load my_first_api.py"
      ]
    },
    {
      "cell_type": "markdown",
      "id": "1023f7df",
      "metadata": {
        "id": "1023f7df"
      },
      "source": [
        "## ✅ Create Docker\n",
        "This function creates a `Dockerfile` and `requirements.txt` for productionalizing API end-point."
      ]
    },
    {
      "cell_type": "code",
      "execution_count": null,
      "id": "452ced14",
      "metadata": {
        "id": "452ced14"
      },
      "outputs": [],
      "source": [
        "create_docker('my_first_api')"
      ]
    },
    {
      "cell_type": "code",
      "execution_count": null,
      "id": "301e1fa5",
      "metadata": {
        "id": "301e1fa5"
      },
      "outputs": [],
      "source": [
        "# check out the DockerFile file created with this magic command\n",
        "# %load DockerFile"
      ]
    },
    {
      "cell_type": "code",
      "execution_count": null,
      "id": "ca1e9ef7",
      "metadata": {
        "id": "ca1e9ef7"
      },
      "outputs": [],
      "source": [
        "# check out the requirements file created with this magic command\n",
        "# %load requirements.txt"
      ]
    },
    {
      "cell_type": "markdown",
      "id": "e27c212b",
      "metadata": {
        "id": "e27c212b"
      },
      "source": [
        "## ✅ Finalize Model\n",
        "This function trains a given model on the entire dataset including the hold-out set."
      ]
    },
    {
      "cell_type": "code",
      "execution_count": null,
      "id": "65225684",
      "metadata": {
        "id": "65225684"
      },
      "outputs": [],
      "source": [
        "final_best = finalize_model(best)"
      ]
    },
    {
      "cell_type": "code",
      "execution_count": null,
      "id": "80d17fec",
      "metadata": {
        "id": "80d17fec"
      },
      "outputs": [],
      "source": [
        "final_best"
      ]
    },
    {
      "cell_type": "markdown",
      "id": "b4693f88",
      "metadata": {
        "id": "b4693f88"
      },
      "source": [
        "## ✅ Convert Model\n",
        "This function transpiles the trained machine learning model's decision function in different programming languages such as Python, C, Java, Go, C#, etc. It is very useful if you want to deploy models into environments where you can't install your normal Python stack to support model inference."
      ]
    },
    {
      "cell_type": "code",
      "execution_count": null,
      "id": "dbe0e9fe",
      "metadata": {
        "id": "dbe0e9fe"
      },
      "outputs": [],
      "source": [
        "# transpiles learned function to java\n",
        "print(convert_model(dt, language = 'java'))"
      ]
    },
    {
      "cell_type": "markdown",
      "id": "ed00202c",
      "metadata": {
        "id": "ed00202c"
      },
      "source": [
        "## ✅ Deploy Model\n",
        "This function deploys the entire ML pipeline on the cloud.\n",
        "\n",
        "**AWS:**  When deploying model on AWS S3, environment variables must be configured using the command-line interface. To configure AWS environment variables, type `aws configure` in terminal. The following information is required which can be generated using the Identity and Access Management (IAM) portal of your amazon console account:\n",
        "\n",
        "- AWS Access Key ID\n",
        "- AWS Secret Key Access\n",
        "- Default Region Name (can be seen under Global settings on your AWS console)\n",
        "- Default output format (must be left blank)\n",
        "\n",
        "**GCP:** To deploy a model on Google Cloud Platform ('gcp'), the project must be created using the command-line or GCP console. Once the project is created, you must create a service account and download the service account key as a JSON file to set environment variables in your local environment. Learn more about it: https://cloud.google.com/docs/authentication/production\n",
        "\n",
        "**Azure:** To deploy a model on Microsoft Azure ('azure'), environment variables for the connection string must be set in your local environment. Go to settings of storage account on Azure portal to access the connection string required.\n",
        "AZURE_STORAGE_CONNECTION_STRING (required as environment variable)\n",
        "Learn more about it: https://docs.microsoft.com/en-us/azure/storage/blobs/storage-quickstart-blobs-python?toc=%2Fpython%2Fazure%2FTOC.json"
      ]
    },
    {
      "cell_type": "code",
      "execution_count": null,
      "id": "40b20a18",
      "metadata": {
        "id": "40b20a18"
      },
      "outputs": [],
      "source": [
        "# deploy model on aws s3\n",
        "# deploy_model(best, model_name = 'my_first_platform_on_aws',\n",
        "#             platform = 'aws', authentication = {'bucket' : 'pycaret-test'})"
      ]
    },
    {
      "cell_type": "code",
      "execution_count": null,
      "id": "9e236516",
      "metadata": {
        "id": "9e236516"
      },
      "outputs": [],
      "source": [
        "# load model from aws s3\n",
        "# loaded_from_aws = load_model(model_name = 'my_first_platform_on_aws', platform = 'aws',\n",
        "#                              authentication = {'bucket' : 'pycaret-test'})\n",
        "\n",
        "# loaded_from_aws"
      ]
    },
    {
      "cell_type": "markdown",
      "id": "e169ae86",
      "metadata": {
        "id": "e169ae86"
      },
      "source": [
        "## ✅ Save / Load Model\n",
        "This function saves the transformation pipeline and a trained model object into the current working directory as a pickle file for later use."
      ]
    },
    {
      "cell_type": "code",
      "execution_count": null,
      "id": "bc5cf24a",
      "metadata": {
        "id": "bc5cf24a"
      },
      "outputs": [],
      "source": [
        "# save model\n",
        "save_model(best, 'my_first_model')"
      ]
    },
    {
      "cell_type": "code",
      "execution_count": null,
      "id": "e8478d34",
      "metadata": {
        "id": "e8478d34"
      },
      "outputs": [],
      "source": [
        "# load model\n",
        "loaded_from_disk = load_model('my_first_model')\n",
        "loaded_from_disk"
      ]
    },
    {
      "cell_type": "markdown",
      "id": "de5eee8c",
      "metadata": {
        "id": "de5eee8c"
      },
      "source": [
        "## ✅ Save / Load Experiment\n",
        "This function saves all the experiment variables on disk, allowing to later resume without rerunning the setup function."
      ]
    },
    {
      "cell_type": "code",
      "execution_count": null,
      "id": "6a3c61b6",
      "metadata": {
        "id": "6a3c61b6"
      },
      "outputs": [],
      "source": [
        "# save experiment\n",
        "save_experiment('my_experiment')"
      ]
    },
    {
      "cell_type": "code",
      "execution_count": null,
      "id": "83252c09",
      "metadata": {
        "id": "83252c09"
      },
      "outputs": [],
      "source": [
        "# load experiment from disk\n",
        "exp_from_disk = load_experiment('my_experiment', data=data)"
      ]
    },
    {
      "cell_type": "code",
      "execution_count": null,
      "id": "154571c1",
      "metadata": {
        "id": "154571c1"
      },
      "outputs": [],
      "source": []
    }
  ],
  "metadata": {
    "kernelspec": {
      "display_name": ".venv",
      "language": "python",
      "name": "python3"
    },
    "language_info": {
      "codemirror_mode": {
        "name": "ipython",
        "version": 3
      },
      "file_extension": ".py",
      "mimetype": "text/x-python",
      "name": "python",
      "nbconvert_exporter": "python",
      "pygments_lexer": "ipython3",
      "version": "3.11.9"
    },
    "colab": {
      "provenance": []
    },
    "widgets": {
      "application/vnd.jupyter.widget-state+json": {
        "96e5772889f9433ab3d0c5520988902a": {
          "model_module": "@jupyter-widgets/controls",
          "model_name": "HBoxModel",
          "model_module_version": "1.5.0",
          "state": {
            "_dom_classes": [],
            "_model_module": "@jupyter-widgets/controls",
            "_model_module_version": "1.5.0",
            "_model_name": "HBoxModel",
            "_view_count": null,
            "_view_module": "@jupyter-widgets/controls",
            "_view_module_version": "1.5.0",
            "_view_name": "HBoxView",
            "box_style": "",
            "children": [
              "IPY_MODEL_6183d9c82bdc4057a72bc43f3acfa298",
              "IPY_MODEL_a80b3b0ad14e4fc784336a4f7ede346f",
              "IPY_MODEL_db2a136da7cd4b609959ee043f7a1b88"
            ],
            "layout": "IPY_MODEL_65e226dfbfd84483b6ee5d6cc7b9dbab"
          }
        },
        "6183d9c82bdc4057a72bc43f3acfa298": {
          "model_module": "@jupyter-widgets/controls",
          "model_name": "HTMLModel",
          "model_module_version": "1.5.0",
          "state": {
            "_dom_classes": [],
            "_model_module": "@jupyter-widgets/controls",
            "_model_module_version": "1.5.0",
            "_model_name": "HTMLModel",
            "_view_count": null,
            "_view_module": "@jupyter-widgets/controls",
            "_view_module_version": "1.5.0",
            "_view_name": "HTMLView",
            "description": "",
            "description_tooltip": null,
            "layout": "IPY_MODEL_d6762ec9a74049daa086d39affc0416a",
            "placeholder": "​",
            "style": "IPY_MODEL_381f72b01f0e4e3eb770b09517338593",
            "value": "Processing: 100%"
          }
        },
        "a80b3b0ad14e4fc784336a4f7ede346f": {
          "model_module": "@jupyter-widgets/controls",
          "model_name": "FloatProgressModel",
          "model_module_version": "1.5.0",
          "state": {
            "_dom_classes": [],
            "_model_module": "@jupyter-widgets/controls",
            "_model_module_version": "1.5.0",
            "_model_name": "FloatProgressModel",
            "_view_count": null,
            "_view_module": "@jupyter-widgets/controls",
            "_view_module_version": "1.5.0",
            "_view_name": "ProgressView",
            "bar_style": "",
            "description": "",
            "description_tooltip": null,
            "layout": "IPY_MODEL_079138eabea34496945b8eb23fe3af4b",
            "max": 81,
            "min": 0,
            "orientation": "horizontal",
            "style": "IPY_MODEL_aa5f5f3ecd1f40ecbf3c7a02ac1c81c8",
            "value": 81
          }
        },
        "db2a136da7cd4b609959ee043f7a1b88": {
          "model_module": "@jupyter-widgets/controls",
          "model_name": "HTMLModel",
          "model_module_version": "1.5.0",
          "state": {
            "_dom_classes": [],
            "_model_module": "@jupyter-widgets/controls",
            "_model_module_version": "1.5.0",
            "_model_name": "HTMLModel",
            "_view_count": null,
            "_view_module": "@jupyter-widgets/controls",
            "_view_module_version": "1.5.0",
            "_view_name": "HTMLView",
            "description": "",
            "description_tooltip": null,
            "layout": "IPY_MODEL_7fbc46befdce4ff0ab2119e6584afbf3",
            "placeholder": "​",
            "style": "IPY_MODEL_cf37d749508041a79e1eec2d5425b923",
            "value": " 81/81 [00:46&lt;00:00,  1.54it/s]"
          }
        },
        "65e226dfbfd84483b6ee5d6cc7b9dbab": {
          "model_module": "@jupyter-widgets/base",
          "model_name": "LayoutModel",
          "model_module_version": "1.2.0",
          "state": {
            "_model_module": "@jupyter-widgets/base",
            "_model_module_version": "1.2.0",
            "_model_name": "LayoutModel",
            "_view_count": null,
            "_view_module": "@jupyter-widgets/base",
            "_view_module_version": "1.2.0",
            "_view_name": "LayoutView",
            "align_content": null,
            "align_items": null,
            "align_self": null,
            "border": null,
            "bottom": null,
            "display": null,
            "flex": null,
            "flex_flow": null,
            "grid_area": null,
            "grid_auto_columns": null,
            "grid_auto_flow": null,
            "grid_auto_rows": null,
            "grid_column": null,
            "grid_gap": null,
            "grid_row": null,
            "grid_template_areas": null,
            "grid_template_columns": null,
            "grid_template_rows": null,
            "height": null,
            "justify_content": null,
            "justify_items": null,
            "left": null,
            "margin": null,
            "max_height": null,
            "max_width": null,
            "min_height": null,
            "min_width": null,
            "object_fit": null,
            "object_position": null,
            "order": null,
            "overflow": null,
            "overflow_x": null,
            "overflow_y": null,
            "padding": null,
            "right": null,
            "top": null,
            "visibility": "hidden",
            "width": null
          }
        },
        "d6762ec9a74049daa086d39affc0416a": {
          "model_module": "@jupyter-widgets/base",
          "model_name": "LayoutModel",
          "model_module_version": "1.2.0",
          "state": {
            "_model_module": "@jupyter-widgets/base",
            "_model_module_version": "1.2.0",
            "_model_name": "LayoutModel",
            "_view_count": null,
            "_view_module": "@jupyter-widgets/base",
            "_view_module_version": "1.2.0",
            "_view_name": "LayoutView",
            "align_content": null,
            "align_items": null,
            "align_self": null,
            "border": null,
            "bottom": null,
            "display": null,
            "flex": null,
            "flex_flow": null,
            "grid_area": null,
            "grid_auto_columns": null,
            "grid_auto_flow": null,
            "grid_auto_rows": null,
            "grid_column": null,
            "grid_gap": null,
            "grid_row": null,
            "grid_template_areas": null,
            "grid_template_columns": null,
            "grid_template_rows": null,
            "height": null,
            "justify_content": null,
            "justify_items": null,
            "left": null,
            "margin": null,
            "max_height": null,
            "max_width": null,
            "min_height": null,
            "min_width": null,
            "object_fit": null,
            "object_position": null,
            "order": null,
            "overflow": null,
            "overflow_x": null,
            "overflow_y": null,
            "padding": null,
            "right": null,
            "top": null,
            "visibility": null,
            "width": null
          }
        },
        "381f72b01f0e4e3eb770b09517338593": {
          "model_module": "@jupyter-widgets/controls",
          "model_name": "DescriptionStyleModel",
          "model_module_version": "1.5.0",
          "state": {
            "_model_module": "@jupyter-widgets/controls",
            "_model_module_version": "1.5.0",
            "_model_name": "DescriptionStyleModel",
            "_view_count": null,
            "_view_module": "@jupyter-widgets/base",
            "_view_module_version": "1.2.0",
            "_view_name": "StyleView",
            "description_width": ""
          }
        },
        "079138eabea34496945b8eb23fe3af4b": {
          "model_module": "@jupyter-widgets/base",
          "model_name": "LayoutModel",
          "model_module_version": "1.2.0",
          "state": {
            "_model_module": "@jupyter-widgets/base",
            "_model_module_version": "1.2.0",
            "_model_name": "LayoutModel",
            "_view_count": null,
            "_view_module": "@jupyter-widgets/base",
            "_view_module_version": "1.2.0",
            "_view_name": "LayoutView",
            "align_content": null,
            "align_items": null,
            "align_self": null,
            "border": null,
            "bottom": null,
            "display": null,
            "flex": null,
            "flex_flow": null,
            "grid_area": null,
            "grid_auto_columns": null,
            "grid_auto_flow": null,
            "grid_auto_rows": null,
            "grid_column": null,
            "grid_gap": null,
            "grid_row": null,
            "grid_template_areas": null,
            "grid_template_columns": null,
            "grid_template_rows": null,
            "height": null,
            "justify_content": null,
            "justify_items": null,
            "left": null,
            "margin": null,
            "max_height": null,
            "max_width": null,
            "min_height": null,
            "min_width": null,
            "object_fit": null,
            "object_position": null,
            "order": null,
            "overflow": null,
            "overflow_x": null,
            "overflow_y": null,
            "padding": null,
            "right": null,
            "top": null,
            "visibility": null,
            "width": null
          }
        },
        "aa5f5f3ecd1f40ecbf3c7a02ac1c81c8": {
          "model_module": "@jupyter-widgets/controls",
          "model_name": "ProgressStyleModel",
          "model_module_version": "1.5.0",
          "state": {
            "_model_module": "@jupyter-widgets/controls",
            "_model_module_version": "1.5.0",
            "_model_name": "ProgressStyleModel",
            "_view_count": null,
            "_view_module": "@jupyter-widgets/base",
            "_view_module_version": "1.2.0",
            "_view_name": "StyleView",
            "bar_color": null,
            "description_width": ""
          }
        },
        "7fbc46befdce4ff0ab2119e6584afbf3": {
          "model_module": "@jupyter-widgets/base",
          "model_name": "LayoutModel",
          "model_module_version": "1.2.0",
          "state": {
            "_model_module": "@jupyter-widgets/base",
            "_model_module_version": "1.2.0",
            "_model_name": "LayoutModel",
            "_view_count": null,
            "_view_module": "@jupyter-widgets/base",
            "_view_module_version": "1.2.0",
            "_view_name": "LayoutView",
            "align_content": null,
            "align_items": null,
            "align_self": null,
            "border": null,
            "bottom": null,
            "display": null,
            "flex": null,
            "flex_flow": null,
            "grid_area": null,
            "grid_auto_columns": null,
            "grid_auto_flow": null,
            "grid_auto_rows": null,
            "grid_column": null,
            "grid_gap": null,
            "grid_row": null,
            "grid_template_areas": null,
            "grid_template_columns": null,
            "grid_template_rows": null,
            "height": null,
            "justify_content": null,
            "justify_items": null,
            "left": null,
            "margin": null,
            "max_height": null,
            "max_width": null,
            "min_height": null,
            "min_width": null,
            "object_fit": null,
            "object_position": null,
            "order": null,
            "overflow": null,
            "overflow_x": null,
            "overflow_y": null,
            "padding": null,
            "right": null,
            "top": null,
            "visibility": null,
            "width": null
          }
        },
        "cf37d749508041a79e1eec2d5425b923": {
          "model_module": "@jupyter-widgets/controls",
          "model_name": "DescriptionStyleModel",
          "model_module_version": "1.5.0",
          "state": {
            "_model_module": "@jupyter-widgets/controls",
            "_model_module_version": "1.5.0",
            "_model_name": "DescriptionStyleModel",
            "_view_count": null,
            "_view_module": "@jupyter-widgets/base",
            "_view_module_version": "1.2.0",
            "_view_name": "StyleView",
            "description_width": ""
          }
        }
      }
    }
  },
  "nbformat": 4,
  "nbformat_minor": 5
}