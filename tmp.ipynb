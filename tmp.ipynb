{
 "cells": [
  {
   "cell_type": "code",
   "execution_count": 1,
   "metadata": {},
   "outputs": [],
   "source": [
    "import pandas as pd\n",
    "import numpy as np"
   ]
  },
  {
   "cell_type": "markdown",
   "metadata": {},
   "source": [
    "# 데이터 만들기"
   ]
  },
  {
   "cell_type": "code",
   "execution_count": 37,
   "metadata": {},
   "outputs": [],
   "source": [
    "convini_A = pd.Series([1,4,3,3,3,3,3])\n",
    "convini_B = pd.Series([4,4,3,4,4,5,4,4])\n",
    "convini_C = pd.Series([4,3,4,3,4,4,3,3,3])"
   ]
  },
  {
   "cell_type": "code",
   "execution_count": 44,
   "metadata": {},
   "outputs": [],
   "source": [
    "# 열 기준으로 붙이면 생기는 nan때문에 계산이 어려울 때가 있다.\n",
    "\n",
    "convini_total = pd.concat([convini_A, convini_B, convini_C], axis = 0)\n"
   ]
  },
  {
   "cell_type": "markdown",
   "metadata": {},
   "source": [
    "# 통계량 계산하기"
   ]
  },
  {
   "cell_type": "code",
   "execution_count": 69,
   "metadata": {},
   "outputs": [
    {
     "name": "stdout",
     "output_type": "stream",
     "text": [
      "3.4583333333333335 13.958333333333334\n"
     ]
    }
   ],
   "source": [
    "# SST - 총제곱합\n",
    "\n",
    "mean_total = convini_total.mean()\n",
    "SST = np.sum((convini_total - mean_total)**2)\n",
    "\n",
    "print(mean_total, SST)"
   ]
  },
  {
   "cell_type": "code",
   "execution_count": 52,
   "metadata": {},
   "outputs": [
    {
     "name": "stdout",
     "output_type": "stream",
     "text": [
      "2.857142857142857 4.0 3.4444444444444446 4.878968253968253\n"
     ]
    }
   ],
   "source": [
    "# SSB - 집단 간 편차\n",
    "\n",
    "mean_A = convini_A.mean()\n",
    "mean_B = convini_B.mean()\n",
    "mean_C = convini_C.mean()\n",
    "\n",
    "mean_lst = [mean_A, mean_B, mean_C]\n",
    "convi_len = [len(convini_A), len(convini_B), len(convini_C)]\n",
    "\n",
    "SSB = sum(convi_len * (mean_lst - mean_total)**2)\n",
    "\n",
    "print(mean_A, mean_B, mean_C, SSB)"
   ]
  },
  {
   "cell_type": "code",
   "execution_count": 54,
   "metadata": {},
   "outputs": [
    {
     "name": "stdout",
     "output_type": "stream",
     "text": [
      "9.079365079365079\n"
     ]
    }
   ],
   "source": [
    "# SSW - 집단 내 편차\n",
    "\n",
    "samples_within = [\n",
    "    sum((convini_A - mean_A) ** 2),\n",
    "    sum((convini_B - mean_B) ** 2),\n",
    "    sum((convini_C - mean_C) ** 2)  \n",
    "]\n",
    "\n",
    "SSW = sum(samples_within)\n",
    "\n",
    "print(SSW)"
   ]
  },
  {
   "cell_type": "code",
   "execution_count": 55,
   "metadata": {},
   "outputs": [
    {
     "name": "stdout",
     "output_type": "stream",
     "text": [
      "13.958333333333334 13.958333333333332\n"
     ]
    }
   ],
   "source": [
    "# SST 검증\n",
    "\n",
    "print(SST, SSB + SSW)"
   ]
  },
  {
   "cell_type": "markdown",
   "metadata": {},
   "source": [
    "# 일원분산분석의 결과 해석"
   ]
  },
  {
   "cell_type": "code",
   "execution_count": 58,
   "metadata": {},
   "outputs": [
    {
     "name": "stdout",
     "output_type": "stream",
     "text": [
      "2.4394841269841265 0.43235071806500375 5.642373251748251\n"
     ]
    }
   ],
   "source": [
    "# 집단의 갯수는 3개, 따라서 자유도는 2, 21\n",
    "\n",
    "MSB = SSB / (3 - 1)\n",
    "MSW = SSW / (len(convini_total) - 3)\n",
    "F_value = MSB / MSW\n",
    "\n",
    "print(MSB, MSW, F_value)"
   ]
  },
  {
   "cell_type": "markdown",
   "metadata": {},
   "source": [
    "# 통계 검증"
   ]
  },
  {
   "cell_type": "code",
   "execution_count": 68,
   "metadata": {},
   "outputs": [
    {
     "name": "stdout",
     "output_type": "stream",
     "text": [
      "5.6424 2 21\n",
      "P값: 0.010935284769920764, 귀무가설을 기각할 충분한 통계적 근거가 있다.\n"
     ]
    }
   ],
   "source": [
    "from scipy import stats\n",
    "\n",
    "# F-value와 자유도 설정\n",
    "df_between = 3 - 1  # 집단 간 자유도 (k-1, k는 집단의 수)\n",
    "df_within = len(convini_total) - 3  # 집단 내 자유도 (N-k, N은 총 샘플 수)\n",
    "\n",
    "print(round(F_value, 4), df_between, df_within)\n",
    "\n",
    "# p-값 계산\n",
    "p_value = stats.f.sf(F_value, df_between, df_within)\n",
    "\n",
    "if p_value < 0.05:\n",
    "    print(f'P값: {p_value}, 귀무가설을 기각할 충분한 통계적 근거가 있다.')\n",
    "else:\n",
    "    print(f'P값: {p_value}, 귀무가설을 기각할 충분한 통계적 근거가 부족하다.')"
   ]
  },
  {
   "cell_type": "markdown",
   "metadata": {},
   "source": [
    "# 이원분산분석"
   ]
  },
  {
   "cell_type": "code",
   "execution_count": 72,
   "metadata": {},
   "outputs": [
    {
     "data": {
      "text/html": [
       "<div>\n",
       "<style scoped>\n",
       "    .dataframe tbody tr th:only-of-type {\n",
       "        vertical-align: middle;\n",
       "    }\n",
       "\n",
       "    .dataframe tbody tr th {\n",
       "        vertical-align: top;\n",
       "    }\n",
       "\n",
       "    .dataframe thead th {\n",
       "        text-align: right;\n",
       "    }\n",
       "</style>\n",
       "<table border=\"1\" class=\"dataframe\">\n",
       "  <thead>\n",
       "    <tr style=\"text-align: right;\">\n",
       "      <th></th>\n",
       "      <th>region</th>\n",
       "      <th>convini_A</th>\n",
       "      <th>convini_B</th>\n",
       "      <th>convini_C</th>\n",
       "    </tr>\n",
       "  </thead>\n",
       "  <tbody>\n",
       "    <tr>\n",
       "      <th>0</th>\n",
       "      <td>A</td>\n",
       "      <td>1</td>\n",
       "      <td>4</td>\n",
       "      <td>4</td>\n",
       "    </tr>\n",
       "    <tr>\n",
       "      <th>1</th>\n",
       "      <td>A</td>\n",
       "      <td>4</td>\n",
       "      <td>4</td>\n",
       "      <td>3</td>\n",
       "    </tr>\n",
       "    <tr>\n",
       "      <th>2</th>\n",
       "      <td>A</td>\n",
       "      <td>1</td>\n",
       "      <td>3</td>\n",
       "      <td>4</td>\n",
       "    </tr>\n",
       "    <tr>\n",
       "      <th>3</th>\n",
       "      <td>B</td>\n",
       "      <td>2</td>\n",
       "      <td>3</td>\n",
       "      <td>4</td>\n",
       "    </tr>\n",
       "    <tr>\n",
       "      <th>4</th>\n",
       "      <td>B</td>\n",
       "      <td>2</td>\n",
       "      <td>2</td>\n",
       "      <td>3</td>\n",
       "    </tr>\n",
       "    <tr>\n",
       "      <th>5</th>\n",
       "      <td>B</td>\n",
       "      <td>3</td>\n",
       "      <td>3</td>\n",
       "      <td>3</td>\n",
       "    </tr>\n",
       "    <tr>\n",
       "      <th>6</th>\n",
       "      <td>C</td>\n",
       "      <td>2</td>\n",
       "      <td>4</td>\n",
       "      <td>2</td>\n",
       "    </tr>\n",
       "    <tr>\n",
       "      <th>7</th>\n",
       "      <td>C</td>\n",
       "      <td>3</td>\n",
       "      <td>2</td>\n",
       "      <td>4</td>\n",
       "    </tr>\n",
       "    <tr>\n",
       "      <th>8</th>\n",
       "      <td>C</td>\n",
       "      <td>2</td>\n",
       "      <td>3</td>\n",
       "      <td>4</td>\n",
       "    </tr>\n",
       "  </tbody>\n",
       "</table>\n",
       "</div>"
      ],
      "text/plain": [
       "  region  convini_A  convini_B  convini_C\n",
       "0      A          1          4          4\n",
       "1      A          4          4          3\n",
       "2      A          1          3          4\n",
       "3      B          2          3          4\n",
       "4      B          2          2          3\n",
       "5      B          3          3          3\n",
       "6      C          2          4          2\n",
       "7      C          3          2          4\n",
       "8      C          2          3          4"
      ]
     },
     "execution_count": 72,
     "metadata": {},
     "output_type": "execute_result"
    }
   ],
   "source": [
    "convini_data = pd.DataFrame({\n",
    "    'region': ('A', 'A','A', 'B', 'B', 'B', 'C', 'C', 'C'),\n",
    "    'convini_A': (1,4,1,2,2,3,2,3,2),\n",
    "    'convini_B': (4,4,3,3,2,3,4,2,3),\n",
    "    'convini_C': (4,3,4,4,3,3,2,4,4)\n",
    "})\n",
    "\n",
    "convini_data"
   ]
  },
  {
   "cell_type": "code",
   "execution_count": 116,
   "metadata": {},
   "outputs": [
    {
     "name": "stdout",
     "output_type": "stream",
     "text": [
      "2.925925925925926 23.851851851851862\n"
     ]
    }
   ],
   "source": [
    "# SST 구하기\n",
    "\n",
    "total_mean = convini_data[['convini_A', 'convini_B', 'convini_C']].mean().mean()\n",
    "SST = sum((convini_data[['convini_A', 'convini_B', 'convini_C']].values.flatten() - total_mean)**2)\n",
    "\n",
    "print(total_mean, SST)"
   ]
  },
  {
   "cell_type": "code",
   "execution_count": 117,
   "metadata": {},
   "outputs": [
    {
     "name": "stdout",
     "output_type": "stream",
     "text": [
      "[9, 9, 9]\n",
      "[np.float64(2.2222222222222223), np.float64(3.111111111111111), np.float64(3.4444444444444446)]\n",
      "7.185185185185185\n"
     ]
    }
   ],
   "source": [
    "# SSA - 편의점별 제곱합 구하기\n",
    "\n",
    "len_convi = [len(convini_data['convini_A']), len(convini_data['convini_B']), len(convini_data['convini_C'])]\n",
    "mean_convi = [convini_data['convini_A'].mean(), convini_data['convini_B'].mean(), convini_data['convini_C'].mean()]\n",
    "\n",
    "SSA = sum(len_convi * (mean_convi - total_mean)**2)\n",
    "\n",
    "print(len_convi)\n",
    "print(mean_convi)\n",
    "print(SSA)\n"
   ]
  },
  {
   "cell_type": "code",
   "execution_count": 118,
   "metadata": {},
   "outputs": [
    {
     "name": "stdout",
     "output_type": "stream",
     "text": [
      "region\n",
      "A    9\n",
      "B    9\n",
      "C    9\n",
      "dtype: int64\n",
      "region\n",
      "A    3.111111\n",
      "B    2.777778\n",
      "C    2.888889\n",
      "dtype: float64\n",
      "0.518518518518516\n"
     ]
    }
   ],
   "source": [
    "# SSB - 지역별 제곱합 구하기\n",
    "\n",
    "len_region = convini_data.groupby('region').size()*3\n",
    "mean_region = convini_data.groupby('region').mean().mean(axis=1)\n",
    "\n",
    "SSB = sum(len_region * (mean_region - total_mean)**2)\n",
    "\n",
    "print(len_region)\n",
    "print(mean_region)\n",
    "print(SSB)"
   ]
  },
  {
   "cell_type": "code",
   "execution_count": 151,
   "metadata": {},
   "outputs": [
    {
     "name": "stdout",
     "output_type": "stream",
     "text": [
      "1.4809652962962967\n"
     ]
    },
    {
     "name": "stderr",
     "output_type": "stream",
     "text": [
      "C:\\Users\\campus3S031\\AppData\\Local\\Temp\\ipykernel_67572\\1298032322.py:8: FutureWarning: Series.__getitem__ treating keys as positions is deprecated. In a future version, integer keys will always be treated as labels (consistent with DataFrame behavior). To access a value by position, use `ser.iloc[pos]`\n",
      "  ssab_1 = sum(3 * ((mean_1[i] - mean_convi[i] - mean_region[0] + total_mean) ** 2) for i in range(len(mean_1)))\n",
      "C:\\Users\\campus3S031\\AppData\\Local\\Temp\\ipykernel_67572\\1298032322.py:9: FutureWarning: Series.__getitem__ treating keys as positions is deprecated. In a future version, integer keys will always be treated as labels (consistent with DataFrame behavior). To access a value by position, use `ser.iloc[pos]`\n",
      "  ssab_2 = sum(3 * ((mean_2[i] - mean_convi[i] - mean_region[1] + total_mean) ** 2) for i in range(len(mean_2)))\n",
      "C:\\Users\\campus3S031\\AppData\\Local\\Temp\\ipykernel_67572\\1298032322.py:10: FutureWarning: Series.__getitem__ treating keys as positions is deprecated. In a future version, integer keys will always be treated as labels (consistent with DataFrame behavior). To access a value by position, use `ser.iloc[pos]`\n",
      "  ssab_3 = sum(3 * ((mean_3[i] - mean_convi[i] - mean_region[2] + total_mean) ** 2) for i in range(len(mean_3)))\n"
     ]
    }
   ],
   "source": [
    "#SSAB - 상호작용의 잔차제곱합\n",
    "\n",
    "mean_1 = [2,3.667,3.667]\n",
    "mean_2 = [2.333, 2.667, 3.333]\n",
    "mean_3 = [2.333, 3, 3.333]\n",
    "\n",
    "# SSAB - 상호작용의 잔차제곱합 계산 수정\n",
    "# 각 위치의 값들끼리 계산\n",
    "ssab_1 = sum(3 * ((mean_1[i] - mean_convi[i] - mean_region[0] + total_mean) ** 2) for i in range(len(mean_1)))\n",
    "ssab_2 = sum(3 * ((mean_2[i] - mean_convi[i] - mean_region[1] + total_mean) ** 2) for i in range(len(mean_2)))\n",
    "ssab_3 = sum(3 * ((mean_3[i] - mean_convi[i] - mean_region[2] + total_mean) ** 2) for i in range(len(mean_3))) \n",
    "\n",
    "SSAB = sum([ssab_1, ssab_2, ssab_3])\n",
    "print(SSAB)"
   ]
  },
  {
   "cell_type": "code",
   "execution_count": 152,
   "metadata": {},
   "outputs": [
    {
     "name": "stdout",
     "output_type": "stream",
     "text": [
      "14.667182851851866\n"
     ]
    }
   ],
   "source": [
    "# SSW\n",
    "\n",
    "SSW = SST - SSA - SSB - SSAB\n",
    "print(SSW)"
   ]
  },
  {
   "cell_type": "markdown",
   "metadata": {},
   "source": [
    "# 이원분산분석의 결과 해석"
   ]
  },
  {
   "cell_type": "code",
   "execution_count": 155,
   "metadata": {},
   "outputs": [
    {
     "name": "stdout",
     "output_type": "stream",
     "text": [
      "MSA: 3.5925925925925926\n",
      "MSB: 0.259259259259258\n",
      "MSAB: 0.3702413240740742\n",
      "MSW: 0.8148434917695481\n"
     ]
    }
   ],
   "source": [
    "# 평균잔차제곱합들 구하기\n",
    "\n",
    "MSA = SSA / (3 - 1)\n",
    "MSB = SSB / (3 - 1)\n",
    "MSAB = SSAB / (2 * 2)\n",
    "MSW = SSW / (3*3*(3-1))\n",
    "\n",
    "print('MSA:', MSA)\n",
    "print('MSB:', MSB)\n",
    "print('MSAB:', MSAB)\n",
    "print('MSW:', MSW)"
   ]
  },
  {
   "cell_type": "code",
   "execution_count": 164,
   "metadata": {},
   "outputs": [
    {
     "name": "stdout",
     "output_type": "stream",
     "text": [
      "------각각 지역, 편의점, 상호작용에 대한 F통계량------ \n",
      "\n",
      "0.31817062034359483 4.408935739046978 0.45437108820743316 \n",
      "\n",
      "------각각 지역, 편의점, 상호작용에 대한 검증------ \n",
      "\n",
      "P값: 0.7302710982994091, 귀무가설을 기각할 충분한 통계적 근거가 부족하다.\n",
      "P값: 0.022450431442032626, 귀무가설을 기각할 충분한 통계적 근거가 있다.\n",
      "P값: 0.7683249065985003, 귀무가설을 기각할 충분한 통계적 근거가 부족하다.\n"
     ]
    }
   ],
   "source": [
    "from scipy import stats\n",
    "\n",
    "F_region = MSB / MSW  # 지역 F-통계량\n",
    "F_store = MSA / MSW  # 편의점 F-통계량\n",
    "F_interaction = MSAB / MSW  # 상호작용 F-통계량\n",
    "\n",
    "print('------각각 지역, 편의점, 상호작용에 대한 F통계량------', '\\n')\n",
    "print(F_region, F_store, F_interaction, '\\n')\n",
    "\n",
    "p_value_region = 1 - stats.f.cdf(F_region, 2, 26)  # 지역에 대한 p값\n",
    "p_value_store = 1 - stats.f.cdf(F_store, 2, 26)  # 편의점에 대한 p값\n",
    "p_value_interaction = 1 - stats.f.cdf(F_interaction, 4, 26)  # 상호작용에 대한 p값\n",
    "\n",
    "print('------각각 지역, 편의점, 상호작용에 대한 검증------', '\\n')\n",
    "for p_value in [p_value_region, p_value_store, p_value_interaction]:\n",
    "    if p_value < 0.05:\n",
    "        print(f'P값: {p_value}, 귀무가설을 기각할 충분한 통계적 근거가 있다.')\n",
    "    else:\n",
    "        print(f'P값: {p_value}, 귀무가설을 기각할 충분한 통계적 근거가 부족하다.')"
   ]
  }
 ],
 "metadata": {
  "kernelspec": {
   "display_name": "Python 3",
   "language": "python",
   "name": "python3"
  },
  "language_info": {
   "codemirror_mode": {
    "name": "ipython",
    "version": 3
   },
   "file_extension": ".py",
   "mimetype": "text/x-python",
   "name": "python",
   "nbconvert_exporter": "python",
   "pygments_lexer": "ipython3",
   "version": "3.12.7"
  }
 },
 "nbformat": 4,
 "nbformat_minor": 2
}
