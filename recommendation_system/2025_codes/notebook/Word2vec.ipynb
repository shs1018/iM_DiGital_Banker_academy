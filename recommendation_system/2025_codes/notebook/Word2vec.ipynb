{
 "cells": [
  {
   "cell_type": "markdown",
   "id": "caaaa856",
   "metadata": {},
   "source": [
    "# Word2vec"
   ]
  },
  {
   "cell_type": "code",
   "execution_count": 1,
   "id": "20b107d9",
   "metadata": {},
   "outputs": [],
   "source": [
    "# 부모 폴더의 경로를 추가\n",
    "import sys; sys.path.insert(0, '..')\n",
    "\n",
    "from util.data_loader import DataLoader\n",
    "from util.metric_calculator import MetricCalculator"
   ]
  },
  {
   "cell_type": "code",
   "execution_count": 2,
   "id": "9f40fb34",
   "metadata": {},
   "outputs": [],
   "source": [
    "# Movielens 데이터 로딩\n",
    "data_loader = DataLoader(num_users=1000, num_test_items=5, data_path='../data/ml-10M100K/')\n",
    "movielens = data_loader.load()"
   ]
  },
  {
   "cell_type": "code",
   "execution_count": 3,
   "id": "07907088",
   "metadata": {},
   "outputs": [],
   "source": [
    "import gensim\n",
    "import logging\n",
    "\n",
    "movie_content = movielens.item_content.copy()\n",
    "\n",
    "# tag가 부여되어 있지 않은 영화가 있지만. genre는 모든 영화에 부여되어 있다\n",
    "# tag와 genre를 결합한 것을 영화의 콘텐츠 정보로 해서 비슷한 영화를 찾아서 추천한다\n",
    "# tag가 없는 영화에서는 NaN으로 되어 있으므로, 빈 리스트로 초기화한다\n",
    "movie_content['tag_genre'] = movie_content['tag'].fillna(\"\").apply(list) + movie_content['genre'].apply(list)\n",
    "movie_content['tag_genre'] = movie_content['tag_genre'].apply(lambda x:set(map(str, x)))\n",
    "\n",
    "# 태그와 장르 데이터를 사용해서, word2vec를 학습한다\n",
    "tag_genre_data = movie_content.tag_genre.tolist()\n",
    "model = gensim.models.word2vec.Word2Vec(tag_genre_data, vector_size=100, window=100, sg=1, hs=0, epochs=50, min_count=5)\n"
   ]
  },
  {
   "cell_type": "code",
   "execution_count": 4,
   "id": "cad9e002",
   "metadata": {},
   "outputs": [
    {
     "data": {
      "text/plain": [
       "[('studio ghibli', 0.8056841492652893),\n",
       " ('zibri studio', 0.8047590851783752),\n",
       " ('pelicula anime', 0.7545369863510132),\n",
       " ('hayao miyazaki', 0.7496048212051392),\n",
       " ('miyazaki', 0.7415587306022644),\n",
       " ('japan', 0.6943755149841309),\n",
       " ('Animation', 0.5248773694038391),\n",
       " ('curse', 0.48674505949020386),\n",
       " ('girl', 0.48163750767707825),\n",
       " ('steampunk', 0.4724525511264801)]"
      ]
     },
     "execution_count": 4,
     "metadata": {},
     "output_type": "execute_result"
    }
   ],
   "source": [
    "# anime 태그와 비슷한 태그를 확인한다\n",
    "model.wv.most_similar('anime')"
   ]
  },
  {
   "cell_type": "code",
   "execution_count": 5,
   "id": "a157be67",
   "metadata": {},
   "outputs": [],
   "source": [
    "# Word2vecContent 추천\n",
    "from src.word2vec import Word2vecRecommender\n",
    "recommender = Word2vecRecommender()\n",
    "recommend_result = recommender.recommend(movielens)"
   ]
  },
  {
   "cell_type": "code",
   "execution_count": 6,
   "id": "f1e57317",
   "metadata": {},
   "outputs": [
    {
     "name": "stdout",
     "output_type": "stream",
     "text": [
      "rmse=0.000, Precision@K=0.011, Recall@K=0.035\n"
     ]
    }
   ],
   "source": [
    "# 평가\n",
    "metric_calculator = MetricCalculator()\n",
    "metrics = metric_calculator.calc(\n",
    "    movielens.test.rating.tolist(), recommend_result.rating.tolist(),\n",
    "    movielens.test_user2items, recommend_result.user2items, k=10)\n",
    "print(metrics)"
   ]
  },
  {
   "cell_type": "code",
   "execution_count": null,
   "id": "36426496",
   "metadata": {},
   "outputs": [],
   "source": []
  },
  {
   "cell_type": "code",
   "execution_count": null,
   "id": "e0ef174b",
   "metadata": {},
   "outputs": [],
   "source": []
  }
 ],
 "metadata": {
  "kernelspec": {
   "display_name": "Python 3 (ipykernel)",
   "language": "python",
   "name": "python3"
  },
  "language_info": {
   "codemirror_mode": {
    "name": "ipython",
    "version": 3
   },
   "file_extension": ".py",
   "mimetype": "text/x-python",
   "name": "python",
   "nbconvert_exporter": "python",
   "pygments_lexer": "ipython3",
   "version": "3.12.6"
  }
 },
 "nbformat": 4,
 "nbformat_minor": 5
}
