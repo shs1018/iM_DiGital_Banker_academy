{
 "cells": [
  {
   "cell_type": "markdown",
   "id": "57145fb4-02e5-4662-ac38-3b90d6dae0e5",
   "metadata": {},
   "source": [
    "# 문제 1. \n",
    "- 변수 a에 정수 10을, 변수 b에 실수 5.5를 할당하고, 두 변수를 더한 결과의 데이터 타입을 출력하세요."
   ]
  },
  {
   "cell_type": "markdown",
   "id": "e0f50968-ef17-4c64-ac01-9faf13bf9dc0",
   "metadata": {},
   "source": [
    "# 문제 2\n",
    "- 문자열 \"100\"과 정수 50을 더하려고 할 때 발생하는 오류를 설명하고, 이를 해결하는 방법을 보여주세요."
   ]
  },
  {
   "cell_type": "markdown",
   "id": "35147345-b3fb-4f2c-a54a-4c33390683f2",
   "metadata": {},
   "source": [
    "# 문제 3. \n",
    "- 리스트 [1, 2, 3]와 튜플 (4, 5, 6)을 더할 수 있는지 확인하고, 가능하다면 결과를 출력하세요."
   ]
  },
  {
   "cell_type": "markdown",
   "id": "b32e71e7-cc86-4f53-a05b-6cc34e0e73ba",
   "metadata": {},
   "source": [
    "# 문제 4. \n",
    "- 변수 x에 None을 할당하고, 이를 다른 데이터 타입으로 변환할 수 있는지 확인하세요."
   ]
  },
  {
   "cell_type": "markdown",
   "id": "8ded1f62-75d6-4e24-a9f3-a90e092957ba",
   "metadata": {},
   "source": [
    "# 문제 5. \n",
    "- 변수 a에 정수 3을 할당하고, 이를 부동 소수점 숫자 3.0으로 자동 변환하도록 하세요."
   ]
  },
  {
   "cell_type": "markdown",
   "id": "6d40d1f0-063c-4bc3-bcf8-7d2bd55cf7eb",
   "metadata": {},
   "source": [
    "# 문제 6. \n",
    "- 변수 s에 문자열 \"Hello\"를 할당하고, 이를 3번 반복한 결과의 데이터 타입을 확인하세요."
   ]
  },
  {
   "cell_type": "markdown",
   "id": "19023327-8560-4aa4-bf63-0de4391f4c17",
   "metadata": {},
   "source": [
    "# 문제 7. \n",
    "- 변수 x에 정수 7을 할당하고, 이를 문자열로 변환한 후 문자열 \"3\"과 더해보세요."
   ]
  },
  {
   "cell_type": "markdown",
   "id": "ac1815d1-8d21-4144-8696-41a5029ab6d6",
   "metadata": {},
   "source": [
    "# 문제 8. \n",
    "- 변수 a에 True, 변수 b에 False를 할당하고, 두 값을 더한 결과와 그 데이터 타입을 확인하세요."
   ]
  },
  {
   "cell_type": "markdown",
   "id": "5a1a36ab-b6c6-4db8-a866-f0616650fc07",
   "metadata": {},
   "source": [
    "# 문제 9. \n",
    "- 변수 a에 25를 할당하고, 이 값을 0.5로 나눈 결과와 그 데이터 타입을 확인하세요."
   ]
  },
  {
   "cell_type": "markdown",
   "id": "0d1febb9-486e-4e2b-837e-df8a6483aa29",
   "metadata": {},
   "source": [
    "# 문제 10. \n",
    "- 변수 text에 문자열 \"12345\"를 할당하고, 이를 정수형으로 변환한 후, 10을 더한 결과를 출력하세요."
   ]
  },
  {
   "cell_type": "markdown",
   "id": "ceaecb19-8b71-419e-810e-0585b7e82065",
   "metadata": {},
   "source": [
    "# 문제 11. \n",
    "- 리스트 [10, 20, 30, 40, 50]에서 가장 큰 값을 찾아서 출력하세요."
   ]
  },
  {
   "cell_type": "markdown",
   "id": "fb5ce4e5-3851-4a94-9e79-8ac74d4b3ace",
   "metadata": {},
   "source": [
    "# 문제 12. \n",
    "- 리스트 [1, 2, 3, 4, 5]에서 모든 요소를 더한 결과를 출력하세요."
   ]
  },
  {
   "cell_type": "markdown",
   "id": "63e0e25c-abee-46f6-9e3a-2fcbb787f955",
   "metadata": {},
   "source": [
    "# 문제 13. \n",
    "- 튜플 (5, 10, 15, 20)에서 두 번째 요소를 출력하세요."
   ]
  },
  {
   "cell_type": "markdown",
   "id": "c3ff833f-3b33-4020-8f9f-6d24fe5c3107",
   "metadata": {},
   "source": [
    "# 문제 14. \n",
    "- 튜플 (1, 2, 3)와 (4, 5, 6)을 합쳐서 새로운 튜플을 만들고 출력하세요."
   ]
  },
  {
   "cell_type": "markdown",
   "id": "b3ec17a7-724e-4d39-af1e-44a243dbdaa9",
   "metadata": {},
   "source": [
    "# 문제 15. \n",
    "- 딕셔너리 {'a': 1, 'b': 2, 'c': 3}에서 키 'b'의 값을 10으로 변경하고 출력하세요."
   ]
  },
  {
   "cell_type": "markdown",
   "id": "17490123-2062-4463-a1e2-9700dd2ac32f",
   "metadata": {},
   "source": [
    "# 문제 16.\n",
    "- 딕셔너리 {'name': 'Alice', 'age': 25, 'city': 'New York'}에서 모든 키를 출력하세요."
   ]
  },
  {
   "cell_type": "markdown",
   "id": "4709442c-50a2-46dd-bf93-f894514f1c4c",
   "metadata": {},
   "source": [
    "# 문제 17. \n",
    "- while 루프를 사용하여 1부터 5까지의 숫자를 출력하세요."
   ]
  },
  {
   "cell_type": "markdown",
   "id": "56dddd10-7ac5-475e-9508-b21e4e12c0f9",
   "metadata": {},
   "source": [
    "# 문제 18. \n",
    "- while 루프를 사용하여 10부터 1까지 거꾸로 숫자를 출력하세요."
   ]
  },
  {
   "cell_type": "markdown",
   "id": "3e9cbe53-91b2-45b5-a51d-0c44cc097aa5",
   "metadata": {},
   "source": [
    "# 문제 19. \n",
    "- for 루프를 사용하여 리스트 [2, 4, 6, 8, 10]의 각 요소에 2를 곱한 값을 출력하세요."
   ]
  },
  {
   "cell_type": "markdown",
   "id": "0a2c30f3-d80c-4137-ac8d-488feb20668d",
   "metadata": {},
   "source": [
    "# 문제 20. \n",
    "- for 루프를 사용하여 문자열 \"Python\"의 각 문자를 출력하세요."
   ]
  }
 ],
 "metadata": {
  "kernelspec": {
   "display_name": "Python 3 (ipykernel)",
   "language": "python",
   "name": "python3"
  },
  "language_info": {
   "codemirror_mode": {
    "name": "ipython",
    "version": 3
   },
   "file_extension": ".py",
   "mimetype": "text/x-python",
   "name": "python",
   "nbconvert_exporter": "python",
   "pygments_lexer": "ipython3",
   "version": "3.12.6"
  }
 },
 "nbformat": 4,
 "nbformat_minor": 5
}
