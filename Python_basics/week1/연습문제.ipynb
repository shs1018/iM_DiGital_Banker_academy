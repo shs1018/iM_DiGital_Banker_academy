{
 "cells": [
  {
   "cell_type": "markdown",
   "id": "fe989901-bf6c-42ec-9f32-c5fede85c26c",
   "metadata": {},
   "source": [
    "## 제어문 연습문제\n",
    "- 정수를 입력받아 해당 숫자가 짝수인지 홀수인지 판별하는 프로그램을 작성하세요.\n",
    "    + 조건 : 정수 n이 주어졌을 때, n이 짝수면 \"짝수\"를, 홀수면 \"홀수\"를 출력하세요."
   ]
  },
  {
   "cell_type": "code",
   "execution_count": 1,
   "id": "aa87d12a-69bf-479a-9df7-bd56ba837f72",
   "metadata": {},
   "outputs": [
    {
     "name": "stdin",
     "output_type": "stream",
     "text": [
      "숫자를 입력하세요:  10\n"
     ]
    },
    {
     "name": "stdout",
     "output_type": "stream",
     "text": [
      "짝수\n"
     ]
    }
   ],
   "source": [
    "n = int(input(\"숫자를 입력하세요: \"))\n",
    "\n",
    "if n % 2 == 0:\n",
    "    print(\"짝수\")\n",
    "else:\n",
    "    print(\"홀수\")"
   ]
  },
  {
   "cell_type": "markdown",
   "id": "c0416839-3237-4e2b-aee6-4d3ec2781ab5",
   "metadata": {},
   "source": [
    "## 윤년 판별\n",
    "- 윤년 판별 : 연도를 입력받아 해당 연도가 윤년인지 아닌지 판별하는 프로그램을 작성하세요.\n",
    "- 윤년의 조건:\n",
    "    + 연도가 4로 나누어 떨어지면 윤년.\n",
    "    + 하지만 100으로 나누어 떨어지면 윤년이 아님.\n",
    "    + 그러나 400으로 나누어 떨어지면 윤년.\n",
    "- 힌트\n",
    "  + 예: 2000년은 윤년, 1900년은 윤년 아님."
   ]
  },
  {
   "cell_type": "code",
   "execution_count": null,
   "id": "163912c9-f279-48bc-9981-881747bccc08",
   "metadata": {},
   "outputs": [],
   "source": [
    "year = int(input(\"연도를 입력하세요: \"))\n",
    "\n",
    "if (year % 4 == 0 and year % 100 != 0) or year % 400 == 0:\n",
    "    print(\"윤년\")\n",
    "else:\n",
    "    print(\"윤년이 아님\")"
   ]
  },
  {
   "cell_type": "markdown",
   "id": "cbe46db3-d93d-4b2f-a8fe-da1a25c9b790",
   "metadata": {},
   "source": [
    "## 숫자 맞추기 게임\n",
    "- 문제 : 컴퓨터가 1부터 10 사이의 숫자를 무작위로 선택합니다. 사용자는 그 숫자를 맞출 때까지 숫자를 입력합니다. 사용자가 숫자를 맞추면 \"정답입니다!\"를 출력하고 프로그램을 종료합니다."
   ]
  },
  {
   "cell_type": "code",
   "execution_count": null,
   "id": "b1898665-492a-4c09-b606-aec2943f7986",
   "metadata": {},
   "outputs": [],
   "source": [
    "import random\n",
    "\n",
    "# 1부터 5 사이의 숫자를 무작위로 선택\n",
    "correct_number = random.randint(1, 5)\n",
    "\n",
    "while True:\n",
    "    # 사용자로부터 숫자 입력받기\n",
    "    guess = int(input(\"1부터 5 사이의 숫자를 맞춰보세요: \"))\n",
    "\n",
    "    # 숫자가 맞는지 확인\n",
    "    if guess == correct_number:\n",
    "        print(\"정답입니다!\")\n",
    "        break\n",
    "    else:\n",
    "        print(\"틀렸습니다. 다시 시도하세요.\")"
   ]
  },
  {
   "cell_type": "markdown",
   "id": "5dafeab2-4589-403f-8474-95fb6a25b1bb",
   "metadata": {},
   "source": [
    "## 사용자가 올바른 비밀번호를 입력할 때까지 반복\n",
    "- 사용자로부터 이름과 비밀번호를 입력받아 올바른 비밀번호가 입력될 때까지 계속 요청하는 프로그램을 작성하세요. 비밀번호가 정확하면 환영 메시지를 출력합니다.\n",
    "- 조건\n",
    "    + 사용자 이름을 먼저 입력받습니다.\n",
    "    + 비밀번호가 '1234'와 일치할 때까지 계속해서 비밀번호를 입력받습니다.\n",
    "    + 비밀번호가 정확하면 환영 메시지를 출력합니다.\n",
    "- 입력\n",
    "    + 사용자 이름 (문자열)\n",
    "    + 비밀번호 (문자열, '1234'가 되어야 함)\n",
    "- 출력\n",
    "    + 비밀번호가 틀리면 \"정확한 비밀번호가 필요합니다.\"를 출력하고 비밀번호를 다시 입력받습니다.\n",
    "    + 비밀번호가 맞으면 \"{username}님 환영합니다\"를 출력합니다. "
   ]
  },
  {
   "cell_type": "code",
   "execution_count": null,
   "id": "3b8b4fe4-1e66-4813-9a4b-c9ce4e197c07",
   "metadata": {},
   "outputs": [],
   "source": [
    "username = input(\"사용자 이름을 입력해주세요..!\")\n",
    "password = ''\n",
    "\n",
    "while password != '1234':\n",
    "    print('정확한 비밀번호가 필요합니다.')\n",
    "    password = input(\"비밀번호를 입력해주세요..!\")\n",
    "\n",
    "print(f'{username}님 환영합니다')"
   ]
  },
  {
   "cell_type": "markdown",
   "id": "a7e3f9b6-633f-423f-b45d-1f030cf7bc9e",
   "metadata": {},
   "source": [
    "## 알고리즘 기본 문제 Fizz Buzz\n",
    "- 숫자 1부터 N까지 출력하는 프로그램을 작성하시오. 단, 숫자가 3의 배수일 때는 \"Fizz\", 5의 배수일 때는 \"Buzz\", 3과 5의 공배수일 때는 \"FizzBuzz\"를 출력합니다.\n",
    "- 이 문제를 해결하기 위해 다음과 같은 단계로 접근합니다.\n",
    "  + 1부터 N까지의 숫자를 순회하기 위해 `for` 루프를 사용합니다.\n",
    "  + 각 숫자에 대해 조건을 확인하기 위해 `if-else` 문을 사용합니다.\n",
    "    * 숫자가 3과 5의 공배수인지 (num % 3 == 0 and num % 5 == 0)\n",
    "    * 숫자가 3의 배수인지 (num % 3 == 0)\n",
    "    * 숫자가 5의 배수인지 (num % 5 == 0)"
   ]
  },
  {
   "cell_type": "code",
   "execution_count": 2,
   "id": "2630e73e-68e0-42fc-ae42-a3c97a00e746",
   "metadata": {},
   "outputs": [
    {
     "data": {
      "text/plain": [
       "['1',\n",
       " '2',\n",
       " 'Fizz',\n",
       " '4',\n",
       " 'Buzz',\n",
       " 'Fizz',\n",
       " '7',\n",
       " '8',\n",
       " 'Fizz',\n",
       " 'Buzz',\n",
       " '11',\n",
       " 'Fizz',\n",
       " '13',\n",
       " '14',\n",
       " 'FizzBuzz']"
      ]
     },
     "execution_count": 2,
     "metadata": {},
     "output_type": "execute_result"
    }
   ],
   "source": [
    "result = []\n",
    "n = 15\n",
    "for num in range(1, n + 1):\n",
    "    if num % 3 == 0 and num % 5 == 0:\n",
    "        result.append(\"FizzBuzz\")\n",
    "    elif num % 3 == 0:\n",
    "        result.append(\"Fizz\")\n",
    "    elif num % 5 == 0:\n",
    "        result.append(\"Buzz\")\n",
    "    else:\n",
    "        result.append(str(num))\n",
    "result"
   ]
  }
 ],
 "metadata": {
  "kernelspec": {
   "display_name": "Python 3 (ipykernel)",
   "language": "python",
   "name": "python3"
  },
  "language_info": {
   "codemirror_mode": {
    "name": "ipython",
    "version": 3
   },
   "file_extension": ".py",
   "mimetype": "text/x-python",
   "name": "python",
   "nbconvert_exporter": "python",
   "pygments_lexer": "ipython3",
   "version": "3.12.6"
  }
 },
 "nbformat": 4,
 "nbformat_minor": 5
}
