{
  "nbformat": 4,
  "nbformat_minor": 0,
  "metadata": {
    "colab": {
      "provenance": [],
      "toc_visible": true
    },
    "kernelspec": {
      "name": "python3",
      "display_name": "Python 3"
    },
    "language_info": {
      "name": "python"
    }
  },
  "cells": [
    {
      "cell_type": "code",
      "execution_count": null,
      "metadata": {
        "id": "g_yk7V4QhyuM"
      },
      "outputs": [],
      "source": []
    },
    {
      "cell_type": "markdown",
      "source": [
        "# Python 기초문법 (이어서)\n"
      ],
      "metadata": {
        "id": "cFTrau39k0GC"
      }
    },
    {
      "cell_type": "markdown",
      "source": [
        "## 제어문 & 반복문\n",
        "\n"
      ],
      "metadata": {
        "id": "K1y_4D-EmkLD"
      }
    },
    {
      "cell_type": "code",
      "source": [
        "x = 95\n",
        "if x > 90 :\n",
        "  print('wow! incredible!')"
      ],
      "metadata": {
        "colab": {
          "base_uri": "https://localhost:8080/"
        },
        "id": "tJm4NcI6lN9A",
        "outputId": "3ad8ff9c-6e04-400b-b372-e7ddb100e1ec"
      },
      "execution_count": null,
      "outputs": [
        {
          "output_type": "stream",
          "name": "stdout",
          "text": [
            "wow! incredible!\n"
          ]
        }
      ]
    },
    {
      "cell_type": "code",
      "source": [
        "num = float(input('How tall are you? :'))\n",
        "\n",
        "if num >= 180 :\n",
        "  print('You are very tall!')\n",
        "elif num >= 170 and num < 180 :\n",
        "  print('You are pretty tall!')\n",
        "else :\n",
        "  print('You are short!')"
      ],
      "metadata": {
        "colab": {
          "base_uri": "https://localhost:8080/"
        },
        "id": "00NCUo4Tmt_O",
        "outputId": "d07fecb0-bf0a-422c-dacf-3e66969b8857"
      },
      "execution_count": null,
      "outputs": [
        {
          "output_type": "stream",
          "name": "stdout",
          "text": [
            "How tall are you? :178.5\n",
            "You are pretty tall!\n"
          ]
        }
      ]
    },
    {
      "cell_type": "markdown",
      "source": [
        "### 단일 조건 및 그 외 조건에 따른 분기\n"
      ],
      "metadata": {
        "id": "aQDHzJkJnc-C"
      }
    },
    {
      "cell_type": "code",
      "source": [
        "x = 77\n",
        "\n",
        "x = str(x)\n",
        "\n",
        "if x[0] == x[1]:\n",
        "  print(\"two same nubers!\")\n",
        "else:\n",
        "  print(\"no same numbers!\")"
      ],
      "metadata": {
        "colab": {
          "base_uri": "https://localhost:8080/"
        },
        "id": "ukaq3yA5oHCS",
        "outputId": "c7bcc674-2eb2-451a-9974-51f8a6863733"
      },
      "execution_count": null,
      "outputs": [
        {
          "output_type": "stream",
          "name": "stdout",
          "text": [
            "two same nubers!\n"
          ]
        }
      ]
    },
    {
      "cell_type": "code",
      "source": [
        "x = int(input('insert your test score! ...'))\n",
        "\n",
        "if x >= 90:\n",
        "  print('pass')\n",
        "elif x >= 80:\n",
        "  print('sub-pass')\n",
        "else:\n",
        "  print('Fail')\n",
        "\n",
        "\n"
      ],
      "metadata": {
        "colab": {
          "base_uri": "https://localhost:8080/"
        },
        "id": "dDBnXid6pTbo",
        "outputId": "9b89e384-54db-4c2c-f90c-0bee45b2fe56"
      },
      "execution_count": null,
      "outputs": [
        {
          "output_type": "stream",
          "name": "stdout",
          "text": [
            "insert your test score! ...88\n",
            "sub-pass\n"
          ]
        }
      ]
    },
    {
      "cell_type": "markdown",
      "source": [
        "### 중첩 조건에 따른 분기"
      ],
      "metadata": {
        "id": "3vsLsMMxpnHk"
      }
    },
    {
      "cell_type": "code",
      "source": [
        "num = float(input('How tall are you? :'))\n",
        "\n",
        "if num >= 180 :\n",
        "  if num >= 200:\n",
        "    print('are you even a human being?')\n",
        "  print('You are very tall!')\n",
        "elif num >= 170 and num < 180 :\n",
        "  print('You are pretty tall!')\n",
        "else :\n",
        "  print('You are short!')"
      ],
      "metadata": {
        "colab": {
          "base_uri": "https://localhost:8080/"
        },
        "id": "I3x3z8E-qW6B",
        "outputId": "fed363eb-5937-4c45-9213-a85ae91e23e1"
      },
      "execution_count": null,
      "outputs": [
        {
          "output_type": "stream",
          "name": "stdout",
          "text": [
            "How tall are you? :220\n",
            "are you even a human being?\n",
            "You are very tall!\n"
          ]
        }
      ]
    },
    {
      "cell_type": "markdown",
      "source": [
        "### 반복문"
      ],
      "metadata": {
        "id": "M6Z1CuwvqlfT"
      }
    },
    {
      "cell_type": "code",
      "source": [
        "for i in range(3):\n",
        "  print('hello, world!', '\\n')"
      ],
      "metadata": {
        "colab": {
          "base_uri": "https://localhost:8080/"
        },
        "id": "Bi_DPGH5wqvR",
        "outputId": "b2dfc18e-8e40-47fa-f49a-c8cb09e698be"
      },
      "execution_count": null,
      "outputs": [
        {
          "output_type": "stream",
          "name": "stdout",
          "text": [
            "hello, world! \n",
            "\n",
            "hello, world! \n",
            "\n",
            "hello, world! \n",
            "\n"
          ]
        }
      ]
    },
    {
      "cell_type": "code",
      "source": [
        "for i in [1,2,3]:\n",
        "  print('num goes...',i,'\\n' )"
      ],
      "metadata": {
        "colab": {
          "base_uri": "https://localhost:8080/"
        },
        "id": "5lhZkAZ1xPRJ",
        "outputId": "6de73b3c-8b39-4eac-93e3-415e220ec88b"
      },
      "execution_count": null,
      "outputs": [
        {
          "output_type": "stream",
          "name": "stdout",
          "text": [
            "num goes... 1 \n",
            "\n",
            "num goes... 2 \n",
            "\n",
            "num goes... 3 \n",
            "\n"
          ]
        }
      ]
    },
    {
      "cell_type": "markdown",
      "source": [
        "### 중첩 for문"
      ],
      "metadata": {
        "id": "2rXUVILY0LEO"
      }
    },
    {
      "cell_type": "code",
      "source": [
        "for i in range(2,10):\n",
        "  for v in range(1,10):\n",
        "    print(f'{i} * {v} = {v * i} \\t')"
      ],
      "metadata": {
        "colab": {
          "base_uri": "https://localhost:8080/"
        },
        "id": "TbTe9AMg08Ef",
        "outputId": "d3345cbf-c84e-405c-8af8-4425a2b78401"
      },
      "execution_count": null,
      "outputs": [
        {
          "output_type": "stream",
          "name": "stdout",
          "text": [
            "2 * 1 = 2 \t\n",
            "2 * 2 = 4 \t\n",
            "2 * 3 = 6 \t\n",
            "2 * 4 = 8 \t\n",
            "2 * 5 = 10 \t\n",
            "2 * 6 = 12 \t\n",
            "2 * 7 = 14 \t\n",
            "2 * 8 = 16 \t\n",
            "2 * 9 = 18 \t\n",
            "3 * 1 = 3 \t\n",
            "3 * 2 = 6 \t\n",
            "3 * 3 = 9 \t\n",
            "3 * 4 = 12 \t\n",
            "3 * 5 = 15 \t\n",
            "3 * 6 = 18 \t\n",
            "3 * 7 = 21 \t\n",
            "3 * 8 = 24 \t\n",
            "3 * 9 = 27 \t\n",
            "4 * 1 = 4 \t\n",
            "4 * 2 = 8 \t\n",
            "4 * 3 = 12 \t\n",
            "4 * 4 = 16 \t\n",
            "4 * 5 = 20 \t\n",
            "4 * 6 = 24 \t\n",
            "4 * 7 = 28 \t\n",
            "4 * 8 = 32 \t\n",
            "4 * 9 = 36 \t\n",
            "5 * 1 = 5 \t\n",
            "5 * 2 = 10 \t\n",
            "5 * 3 = 15 \t\n",
            "5 * 4 = 20 \t\n",
            "5 * 5 = 25 \t\n",
            "5 * 6 = 30 \t\n",
            "5 * 7 = 35 \t\n",
            "5 * 8 = 40 \t\n",
            "5 * 9 = 45 \t\n",
            "6 * 1 = 6 \t\n",
            "6 * 2 = 12 \t\n",
            "6 * 3 = 18 \t\n",
            "6 * 4 = 24 \t\n",
            "6 * 5 = 30 \t\n",
            "6 * 6 = 36 \t\n",
            "6 * 7 = 42 \t\n",
            "6 * 8 = 48 \t\n",
            "6 * 9 = 54 \t\n",
            "7 * 1 = 7 \t\n",
            "7 * 2 = 14 \t\n",
            "7 * 3 = 21 \t\n",
            "7 * 4 = 28 \t\n",
            "7 * 5 = 35 \t\n",
            "7 * 6 = 42 \t\n",
            "7 * 7 = 49 \t\n",
            "7 * 8 = 56 \t\n",
            "7 * 9 = 63 \t\n",
            "8 * 1 = 8 \t\n",
            "8 * 2 = 16 \t\n",
            "8 * 3 = 24 \t\n",
            "8 * 4 = 32 \t\n",
            "8 * 5 = 40 \t\n",
            "8 * 6 = 48 \t\n",
            "8 * 7 = 56 \t\n",
            "8 * 8 = 64 \t\n",
            "8 * 9 = 72 \t\n",
            "9 * 1 = 9 \t\n",
            "9 * 2 = 18 \t\n",
            "9 * 3 = 27 \t\n",
            "9 * 4 = 36 \t\n",
            "9 * 5 = 45 \t\n",
            "9 * 6 = 54 \t\n",
            "9 * 7 = 63 \t\n",
            "9 * 8 = 72 \t\n",
            "9 * 9 = 81 \t\n"
          ]
        }
      ]
    },
    {
      "cell_type": "code",
      "source": [
        "x_list = [\"x1\", \"x2\"]\n",
        "y_list = [\"y1\", \"y2\"]\n",
        "\n",
        "print(\"x y\")\n",
        "for x in x_list:\n",
        "  print(x)\n",
        "  for y in y_list:\n",
        "    print(x,y)\n",
        "  print(\"I wonder why, I wonder how.\")\n",
        "\n",
        "print('yesterday i saw a really blue blue sky')"
      ],
      "metadata": {
        "colab": {
          "base_uri": "https://localhost:8080/"
        },
        "id": "07_sQ0RI1bqq",
        "outputId": "7f79f737-7775-4be4-cee5-d13a9d17ab67"
      },
      "execution_count": null,
      "outputs": [
        {
          "output_type": "stream",
          "name": "stdout",
          "text": [
            "x y\n",
            "x1\n",
            "x1 y1\n",
            "x1 y2\n",
            "I wonder why, I wonder how.\n",
            "x2\n",
            "x2 y1\n",
            "x2 y2\n",
            "I wonder why, I wonder how.\n",
            "yesterday i saw a really blue blue sky\n"
          ]
        }
      ]
    },
    {
      "cell_type": "code",
      "source": [
        "names = ['J', \"R\", \"L\", \"M\"]\n",
        "scores = [95, 96, 97, 94]\n",
        "\n",
        "for idx in range(len(names)):\n",
        "  print(names[idx],':', scores[idx])"
      ],
      "metadata": {
        "colab": {
          "base_uri": "https://localhost:8080/"
        },
        "id": "_YSfL4Hk07BY",
        "outputId": "1c5cac90-d1b1-4289-88a1-e523e7c48abc"
      },
      "execution_count": null,
      "outputs": [
        {
          "output_type": "stream",
          "name": "stdout",
          "text": [
            "J : 95\n",
            "R : 96\n",
            "L : 97\n",
            "M : 94\n"
          ]
        }
      ]
    },
    {
      "cell_type": "markdown",
      "source": [
        "### while 반복문"
      ],
      "metadata": {
        "id": "1JMn2__V_1zq"
      }
    },
    {
      "cell_type": "code",
      "source": [
        "a = 1\n",
        "while a < 3:\n",
        "  print('hey! wait! i got a new complain!')\n",
        "  a += 1"
      ],
      "metadata": {
        "colab": {
          "base_uri": "https://localhost:8080/"
        },
        "id": "5C4Yn7bm_4LI",
        "outputId": "4ea68d52-1438-4b95-f3bd-db433f0fa703"
      },
      "execution_count": null,
      "outputs": [
        {
          "output_type": "stream",
          "name": "stdout",
          "text": [
            "hey! wait! i got a new complain!\n",
            "hey! wait! i got a new complain!\n"
          ]
        }
      ]
    },
    {
      "cell_type": "code",
      "source": [
        "k = 0\n",
        "\n",
        "while True:\n",
        "  k += 1\n",
        "  print('hello')\n",
        "  if k == 5:\n",
        "    break"
      ],
      "metadata": {
        "colab": {
          "base_uri": "https://localhost:8080/"
        },
        "id": "Feesh2LL_8pY",
        "outputId": "6818f267-6429-4c43-90a5-93ef03e5c922"
      },
      "execution_count": null,
      "outputs": [
        {
          "output_type": "stream",
          "name": "stdout",
          "text": [
            "hello\n",
            "hello\n",
            "hello\n",
            "hello\n",
            "hello\n"
          ]
        }
      ]
    },
    {
      "cell_type": "markdown",
      "source": [
        "## 리스트 컴프리헨션"
      ],
      "metadata": {
        "id": "M0M_6M664WNN"
      }
    },
    {
      "cell_type": "code",
      "source": [
        "nums = [1,2,3,4,5]\n",
        "res = []\n",
        "\n",
        "for i in nums:\n",
        "  z = i * 2\n",
        "  res.append(z)\n",
        "\n",
        "print(res)"
      ],
      "metadata": {
        "colab": {
          "base_uri": "https://localhost:8080/"
        },
        "id": "-t9GFTAy4dF6",
        "outputId": "56c87536-cebf-48a6-c453-f2230536a07d"
      },
      "execution_count": null,
      "outputs": [
        {
          "output_type": "stream",
          "name": "stdout",
          "text": [
            "[2, 4, 6, 8, 10]\n"
          ]
        }
      ]
    },
    {
      "cell_type": "code",
      "source": [
        "res2 = [i * 2 for i in nums]\n",
        "print(res2)"
      ],
      "metadata": {
        "colab": {
          "base_uri": "https://localhost:8080/"
        },
        "id": "OnKfKqs65Qfu",
        "outputId": "77697aa5-09b5-4961-cd88-f6591b44c4fa"
      },
      "execution_count": null,
      "outputs": [
        {
          "output_type": "stream",
          "name": "stdout",
          "text": [
            "[2, 4, 6, 8, 10]\n"
          ]
        }
      ]
    },
    {
      "cell_type": "code",
      "source": [
        "nums2 = [1,2,3,4,5,6,7]\n",
        "\n",
        "res = []\n",
        "\n",
        "for i in nums2:\n",
        "  if i % 2 == 0:\n",
        "    res.append(i)\n",
        "\n",
        "print(res)"
      ],
      "metadata": {
        "colab": {
          "base_uri": "https://localhost:8080/"
        },
        "id": "CvMPiYn_90Tw",
        "outputId": "9104f60b-5c5f-41c8-bb86-189d71a5ddf4"
      },
      "execution_count": null,
      "outputs": [
        {
          "output_type": "stream",
          "name": "stdout",
          "text": [
            "[2, 4, 6]\n"
          ]
        }
      ]
    },
    {
      "cell_type": "code",
      "source": [
        "nums2 = [1,2,3,4,5,6,7]\n",
        "res3 = [i for i in nums2 if i % 2 == 0]\n",
        "print(res3)"
      ],
      "metadata": {
        "colab": {
          "base_uri": "https://localhost:8080/"
        },
        "id": "XbE-R11c9cUr",
        "outputId": "d4383b28-28be-4a1a-8866-133c564a688e"
      },
      "execution_count": null,
      "outputs": [
        {
          "output_type": "stream",
          "name": "stdout",
          "text": [
            "[2, 4, 6]\n"
          ]
        }
      ]
    },
    {
      "cell_type": "markdown",
      "source": [
        "# 사용자 정의 함수"
      ],
      "metadata": {
        "id": "r699bJ3d9nOU"
      }
    },
    {
      "cell_type": "code",
      "source": [
        "import numpy as np"
      ],
      "metadata": {
        "id": "ROpoM5QVDNMW"
      },
      "execution_count": null,
      "outputs": []
    },
    {
      "cell_type": "code",
      "source": [
        "def random_nums(first, second, third):\n",
        "  res_list = []\n",
        "  for i in range(third):\n",
        "    res_list.append(np.random.randint(first, second))\n",
        "\n",
        "  if max(res_list) - min(res_list) < 9:\n",
        "    print(f'{third} numbers are family')\n",
        "\n",
        "  res_list.sort()\n",
        "  print(res_list)"
      ],
      "metadata": {
        "id": "_BcdlQLhCmNI"
      },
      "execution_count": null,
      "outputs": []
    },
    {
      "cell_type": "code",
      "source": [
        "random_nums(1,20,5)"
      ],
      "metadata": {
        "colab": {
          "base_uri": "https://localhost:8080/"
        },
        "id": "9phZ-e2rDaQy",
        "outputId": "011620c2-9c68-4ddd-839e-d57367b528c9"
      },
      "execution_count": null,
      "outputs": [
        {
          "output_type": "stream",
          "name": "stdout",
          "text": [
            "5 numbers are family\n",
            "[11, 11, 17, 17, 18]\n"
          ]
        }
      ]
    },
    {
      "cell_type": "markdown",
      "source": [
        "## 인자(인수)는 있으나 반환 값이 없는 함수"
      ],
      "metadata": {
        "id": "-Yo5zMDKeLBJ"
      }
    },
    {
      "cell_type": "code",
      "source": [
        "def my_friend(name):\n",
        "  print(f'{name} is my freind!')\n",
        "\n",
        "my_friend('heyho')"
      ],
      "metadata": {
        "colab": {
          "base_uri": "https://localhost:8080/"
        },
        "id": "pmn6unWqeO1U",
        "outputId": "032dbe51-e3e3-4feb-e336-19bc9d2f030c"
      },
      "execution_count": 135,
      "outputs": [
        {
          "output_type": "stream",
          "name": "stdout",
          "text": [
            "heyho is my freind!\n"
          ]
        }
      ]
    },
    {
      "cell_type": "code",
      "source": [
        "my_friend('superman')"
      ],
      "metadata": {
        "colab": {
          "base_uri": "https://localhost:8080/"
        },
        "id": "0bzRxnN1e76N",
        "outputId": "8e66574d-9098-45d4-d73a-749061bde403"
      },
      "execution_count": 141,
      "outputs": [
        {
          "output_type": "stream",
          "name": "stdout",
          "text": [
            "sumperman is my freind!\n"
          ]
        }
      ]
    },
    {
      "cell_type": "markdown",
      "source": [
        "## 인자(인수)는 있으나 반환 값이 같이 있는 함수"
      ],
      "metadata": {
        "id": "4aN7jbiEf2wK"
      }
    },
    {
      "cell_type": "code",
      "source": [
        "def my_calc(x,y):\n",
        "  z = x * y\n",
        "  return z"
      ],
      "metadata": {
        "id": "QfPtirTvf8cG"
      },
      "execution_count": 142,
      "outputs": []
    },
    {
      "cell_type": "code",
      "source": [
        "my_calc(3,4)"
      ],
      "metadata": {
        "colab": {
          "base_uri": "https://localhost:8080/"
        },
        "id": "p71WcSD5gJdV",
        "outputId": "9efa58ff-b833-406d-859b-d20baf1c29d6"
      },
      "execution_count": 146,
      "outputs": [
        {
          "output_type": "execute_result",
          "data": {
            "text/plain": [
              "21"
            ]
          },
          "metadata": {},
          "execution_count": 146
        }
      ]
    },
    {
      "cell_type": "markdown",
      "source": [
        "## 변수의 유효 범위"
      ],
      "metadata": {
        "id": "f9fdxBPLo_sp"
      }
    },
    {
      "cell_type": "code",
      "source": [
        "a = 5 #전역 변수\n",
        "\n",
        "def func1():\n",
        "  a = 1     #func1의 지역 변수\n",
        "  print(\"[func1] 지역 변수 a = \",a)\n",
        "\n",
        "\n",
        "def func2():\n",
        "  a = 2     #func2의 지역 변수\n",
        "  print(\"[func2] 지역 변수 a = \",a)\n",
        "\n",
        "def func3():\n",
        "  print(\"[func3] 지역 변수 a = \",a)\n",
        "\n",
        "def func4():\n",
        "  global a\n",
        "  a = 4\n",
        "  print(\"[func4] 전역 변수 a = \",a)"
      ],
      "metadata": {
        "id": "t7EVyi6qpCJK"
      },
      "execution_count": 160,
      "outputs": []
    },
    {
      "cell_type": "code",
      "source": [
        "func1()\n",
        "func2()\n",
        "func3()"
      ],
      "metadata": {
        "colab": {
          "base_uri": "https://localhost:8080/"
        },
        "id": "m35a7R8xpRPw",
        "outputId": "9a062aa1-f945-46c9-ed34-a9d147c70c26"
      },
      "execution_count": 158,
      "outputs": [
        {
          "output_type": "stream",
          "name": "stdout",
          "text": [
            "[func1] 지역 변수 a =  1\n",
            "[func2] 지역 변수 a =  2\n",
            "[func3] 지역 변수 a =  5\n"
          ]
        }
      ]
    },
    {
      "cell_type": "code",
      "source": [
        "func1()\n",
        "func2()\n",
        "print(\"지역 변수 a = \",a)"
      ],
      "metadata": {
        "colab": {
          "base_uri": "https://localhost:8080/"
        },
        "id": "R1WyIvI8pT4Q",
        "outputId": "dfe305f0-b6ed-4f46-c232-8159674bc67d"
      },
      "execution_count": 161,
      "outputs": [
        {
          "output_type": "stream",
          "name": "stdout",
          "text": [
            "[func1] 지역 변수 a =  1\n",
            "[func2] 지역 변수 a =  2\n",
            "지역 변수 a =  5\n"
          ]
        }
      ]
    },
    {
      "cell_type": "code",
      "source": [
        "func3()"
      ],
      "metadata": {
        "colab": {
          "base_uri": "https://localhost:8080/"
        },
        "id": "2xejhQMNqS4T",
        "outputId": "0cf2a1d7-691c-4241-a95c-dbc8e7e0aa73"
      },
      "execution_count": 165,
      "outputs": [
        {
          "output_type": "stream",
          "name": "stdout",
          "text": [
            "[func3] 지역 변수 a =  4\n"
          ]
        }
      ]
    },
    {
      "cell_type": "code",
      "source": [
        "func4()"
      ],
      "metadata": {
        "colab": {
          "base_uri": "https://localhost:8080/"
        },
        "id": "gqgkXxafqgUU",
        "outputId": "04fae75c-6f3b-4996-8dfb-ed94fee3f13f"
      },
      "execution_count": 164,
      "outputs": [
        {
          "output_type": "stream",
          "name": "stdout",
          "text": [
            "[func4] 전역 변수 a =  4\n"
          ]
        }
      ]
    },
    {
      "cell_type": "code",
      "source": [
        "c = 1\n",
        "\n",
        "def add():\n",
        "  global c\n",
        "  c += 2\n",
        "  print(c)\n",
        "\n",
        "add()"
      ],
      "metadata": {
        "colab": {
          "base_uri": "https://localhost:8080/"
        },
        "id": "j8bkYqNUqhuw",
        "outputId": "bfc7fbb6-a8b3-41b6-d4e2-2d464a171ab3"
      },
      "execution_count": 168,
      "outputs": [
        {
          "output_type": "stream",
          "name": "stdout",
          "text": [
            "3\n"
          ]
        }
      ]
    },
    {
      "cell_type": "markdown",
      "source": [
        "## 가변인수"
      ],
      "metadata": {
        "id": "9AvQheb5r7NE"
      }
    },
    {
      "cell_type": "markdown",
      "source": [
        "- 학생의 점수를 입력받아 평균 점수를 계산하는 함수\n",
        "- 문제점: 각 학생들마다 시험 본 과목수가 가 다르다면? 즉, 평균의 분모값이 모두 다르다면?\n",
        "  - A: 3과목\n",
        "  - B: 2과목\n",
        "  - C: 5과목\n",
        "\n"
      ],
      "metadata": {
        "id": "xT6haEejsAMK"
      }
    },
    {
      "cell_type": "code",
      "source": [
        "def calculate_average(name, *scores): # *scores가 가변인수이다.\n",
        "    if scores:  # 가변 인수가 비어있지 않은지 확인\n",
        "        average_score = sum(scores) / len(scores)\n",
        "        print(f\"{name}의 평균 점수는 {average_score:.2f}점입니다.\") #:.2f는 소수점 둘째자리까지만 표시한다는 뜻.\n",
        "    else:\n",
        "        print(f\"{name}의 점수를 입력하지 않았습니다.\")"
      ],
      "metadata": {
        "id": "xEiqppEIscJM"
      },
      "execution_count": 169,
      "outputs": []
    },
    {
      "cell_type": "code",
      "source": [
        "calculate_average(\"evan\", 99, 100, 28, 93, 12, 48); print('\\n')\n",
        "calculate_average(\"paul\", 94, 70, 22); print('\\n')\n"
      ],
      "metadata": {
        "colab": {
          "base_uri": "https://localhost:8080/"
        },
        "id": "U5wP0G0Nswb4",
        "outputId": "7b408e50-d98c-454d-deb8-ee33f9da5575"
      },
      "execution_count": 172,
      "outputs": [
        {
          "output_type": "stream",
          "name": "stdout",
          "text": [
            "evan의 평균 점수는 63.33점입니다.\n",
            "\n",
            "\n",
            "paul의 평균 점수는 62.00점입니다.\n",
            "\n",
            "\n"
          ]
        }
      ]
    },
    {
      "cell_type": "markdown",
      "source": [
        "## 키워드 인수 확인 예제"
      ],
      "metadata": {
        "id": "569Azx4buJeF"
      }
    },
    {
      "cell_type": "markdown",
      "source": [
        "- 학생의 이름, 과목, 점수, 학년을 받아 성적을 출력하려면?\n",
        "  - 고정 인수: 학생의 이름\n",
        "  - 가변 인수: 여러 개의 과목 점수\n",
        "  - 키워드 인수: 학년 정보\n",
        "  "
      ],
      "metadata": {
        "id": "n6lct164uUn3"
      }
    },
    {
      "cell_type": "code",
      "source": [
        "def student_report(name, *scores, **details):\n",
        "    print(f\"학생 이름: {name}\")\n",
        "\n",
        "     # 점수가 입력된 경우에만 평균을 계산\n",
        "    if scores:\n",
        "        average_score = sum(scores) / len(scores)\n",
        "        print(f\"평균 점수: {average_score:.2f}\")\n",
        "    else:\n",
        "        print(\"점수를 입력하지 않았습니다.\")\n",
        "\n",
        "    # 키워드 인수로 전달된 추가 정보를 출력\n",
        "    for key, value in details.items():\n",
        "        print(f\"{key}: {value}\")"
      ],
      "metadata": {
        "id": "ejD7NosvukyO"
      },
      "execution_count": 174,
      "outputs": []
    },
    {
      "cell_type": "code",
      "source": [
        "# 함수 호출 예제\n",
        "student_report(\"Alice\", 88, 92, 85, grade=\"2학년\", school=\"Seoul High School\")\n",
        "print(\"\\n\")\n",
        "student_report(\"Bob\", 75, 80, 78, 90, grade=\"3학년\", school=\"Busan High School\", hobby=\"축구\")\n",
        "print(\"\\n\")\n",
        "student_report(\"Charlie\", grade=\"1학년\")"
      ],
      "metadata": {
        "colab": {
          "base_uri": "https://localhost:8080/"
        },
        "id": "KEoO-Ieau024",
        "outputId": "49c4438d-1a3e-4dea-e157-776c4b2275fd"
      },
      "execution_count": 175,
      "outputs": [
        {
          "output_type": "stream",
          "name": "stdout",
          "text": [
            "학생 이름: Alice\n",
            "평균 점수: 88.33\n",
            "grade: 2학년\n",
            "school: Seoul High School\n",
            "\n",
            "\n",
            "학생 이름: Bob\n",
            "평균 점수: 80.75\n",
            "grade: 3학년\n",
            "school: Busan High School\n",
            "hobby: 축구\n",
            "\n",
            "\n",
            "학생 이름: Charlie\n",
            "점수를 입력하지 않았습니다.\n",
            "grade: 1학년\n"
          ]
        }
      ]
    },
    {
      "cell_type": "code",
      "source": [
        "'''\n",
        "가변인수를 활용한 함수\n",
        "\n",
        "'''"
      ],
      "metadata": {
        "id": "ojcDlC63wWU4"
      },
      "execution_count": null,
      "outputs": []
    },
    {
      "cell_type": "markdown",
      "source": [
        "## 람다 함수"
      ],
      "metadata": {
        "id": "WeMiX5KZvDDD"
      }
    },
    {
      "cell_type": "code",
      "source": [
        "(lambda x : x ** 2)(5)"
      ],
      "metadata": {
        "colab": {
          "base_uri": "https://localhost:8080/"
        },
        "id": "c1cog8_00qL0",
        "outputId": "f471d67e-4317-4da3-8a3e-064c866ac3df"
      },
      "execution_count": 176,
      "outputs": [
        {
          "output_type": "execute_result",
          "data": {
            "text/plain": [
              "25"
            ]
          },
          "metadata": {},
          "execution_count": 176
        }
      ]
    },
    {
      "cell_type": "code",
      "source": [
        "mySquare = lambda x: x ** 2\n",
        "mySquare(5)"
      ],
      "metadata": {
        "colab": {
          "base_uri": "https://localhost:8080/"
        },
        "id": "ioeT2ril0vJA",
        "outputId": "52431f74-5ac3-438e-af2f-6e3ec22e1a71"
      },
      "execution_count": 177,
      "outputs": [
        {
          "output_type": "execute_result",
          "data": {
            "text/plain": [
              "25"
            ]
          },
          "metadata": {},
          "execution_count": 177
        }
      ]
    },
    {
      "cell_type": "code",
      "source": [
        "smpF = (lambda x, y, z : x ** 2 + 3 * y + z % 2)\n",
        "smpF(1,2,3)"
      ],
      "metadata": {
        "colab": {
          "base_uri": "https://localhost:8080/"
        },
        "id": "gX65kvkG05tR",
        "outputId": "82a94525-a785-4ec8-92e1-a4ffa84b6e99"
      },
      "execution_count": 178,
      "outputs": [
        {
          "output_type": "execute_result",
          "data": {
            "text/plain": [
              "8"
            ]
          },
          "metadata": {},
          "execution_count": 178
        }
      ]
    },
    {
      "cell_type": "markdown",
      "source": [
        "## context manager, decorator\n"
      ],
      "metadata": {
        "id": "uYIbhw8Y1tlG"
      }
    },
    {
      "cell_type": "markdown",
      "source": [
        "- 클로저 Closure\n",
        "  - 함수 안에 또 다른 함수를 생성함\n",
        "\n",
        "- 성능 측정을 할 때 도움받을 수 있다."
      ],
      "metadata": {
        "id": "qwyM0dsH1xZ6"
      }
    },
    {
      "cell_type": "code",
      "source": [
        "import time\n",
        "\n",
        "'''\n",
        "코드가 돌아가는 시간을 체크하는 함수이다.\n",
        "즉, 특정 사용자 정의 함수의 성능측정에 사용된다.\n",
        "사용자 정의 함수 위에 @를 써서 호출한다.\n",
        "'''\n",
        "def time_decorator(func):\n",
        "    def wrapper(*args, **kwargs):\n",
        "        start_time = time.time()\n",
        "        result = func(*args, **kwargs)\n",
        "        end_time = time.time()\n",
        "        print(f\"Function '{func.__name__}' executed in {end_time - start_time:.4f} seconds\")\n",
        "        return result\n",
        "    return wrapper\n",
        "\n",
        "@time_decorator\n",
        "def slow_function():\n",
        "    time.sleep(2)\n",
        "    return \"Finished\"\n",
        "\n",
        "# 사용 예시\n",
        "slow_function()"
      ],
      "metadata": {
        "id": "_-C1thXO2AUv"
      },
      "execution_count": null,
      "outputs": []
    },
    {
      "cell_type": "markdown",
      "source": [
        "# 클래스 기초"
      ],
      "metadata": {
        "id": "3EGTPh3hBA6e"
      }
    },
    {
      "cell_type": "code",
      "source": [
        "class book:\n",
        "  title = \"bible\"     #속성\n",
        "  author = \"jesus\"    #속성\n",
        "  pages = 312         #속성\n",
        "  price = 0           #속성\n",
        "  discount = 0.2      #속성\n",
        "  #여기까지가 클래스\n",
        "\n",
        "#인스턴스 생성\n",
        "book1 = book()\n",
        "book1\n",
        "#왜 결과가 'book1'이 아니라 'book'인지?"
      ],
      "metadata": {
        "colab": {
          "base_uri": "https://localhost:8080/"
        },
        "id": "aLyGS6CeBCd4",
        "outputId": "cfd65944-3fa3-4cd6-c350-7f6765432afc"
      },
      "execution_count": 180,
      "outputs": [
        {
          "output_type": "execute_result",
          "data": {
            "text/plain": [
              "<__main__.book at 0x7e7799c3c2e0>"
            ]
          },
          "metadata": {},
          "execution_count": 180
        }
      ]
    },
    {
      "cell_type": "code",
      "source": [
        "book2  = book()\n",
        "book2"
      ],
      "metadata": {
        "colab": {
          "base_uri": "https://localhost:8080/"
        },
        "id": "aBjaYqBgBiwE",
        "outputId": "12ee161c-6db8-4a2f-9772-8c7cf85fcdf5"
      },
      "execution_count": 182,
      "outputs": [
        {
          "output_type": "execute_result",
          "data": {
            "text/plain": [
              "<__main__.book at 0x7e7799e3dff0>"
            ]
          },
          "metadata": {},
          "execution_count": 182
        }
      ]
    },
    {
      "cell_type": "code",
      "source": [
        "# 인스턴스 지정\n",
        "book1.title = \"Streamit\"\n",
        "book2.TITLE = \"Rstudio\""
      ],
      "metadata": {
        "id": "IRHxnldcB0yb"
      },
      "execution_count": 187,
      "outputs": []
    },
    {
      "cell_type": "code",
      "source": [
        "# 인스턴스 호출\n",
        "print(book1.title)\n",
        "print(book2.TITLE)\n",
        "\n",
        "#대소문자 구분이 안된다 -> 좋은 코딩이 아님!!"
      ],
      "metadata": {
        "colab": {
          "base_uri": "https://localhost:8080/"
        },
        "id": "DIFiWOCACBtC",
        "outputId": "d081c7a0-bb86-465e-de15-cc096c38d38f"
      },
      "execution_count": 188,
      "outputs": [
        {
          "output_type": "stream",
          "name": "stdout",
          "text": [
            "Streamit\n",
            "Rstudio\n"
          ]
        }
      ]
    },
    {
      "cell_type": "markdown",
      "source": [
        "- 다시 처음부터 해보자."
      ],
      "metadata": {
        "id": "ixR-SkfAEFr9"
      }
    },
    {
      "cell_type": "code",
      "source": [
        "class book:\n",
        "  title = \"bible\"     #속성\n",
        "  author = \"jesus\"    #속성\n",
        "  pages = 312         #속성\n",
        "  price = 0           #속성\n",
        "  discount = 0.2      #속성\n",
        "\n",
        "  #\n",
        "  def read_time(self, reading_speed = 30):\n",
        "    return round(self.pages / reading_speed, 1) #함수 만들기"
      ],
      "metadata": {
        "id": "EHf5JzMvCQKA"
      },
      "execution_count": 194,
      "outputs": []
    },
    {
      "cell_type": "code",
      "source": [
        "book1 = book()\n",
        "book1.title = 'mobidick'\n",
        "book1.author = \"hemingway\"\n",
        "book1.pages = 560\n",
        "book1.price = 60000\n",
        "book1.discount = 10\n",
        "\n",
        "print(book1.title, book1.author)\n",
        "outputs = book1.read_time() #함수 호출\n",
        "print(outputs)"
      ],
      "metadata": {
        "colab": {
          "base_uri": "https://localhost:8080/"
        },
        "id": "lx2HBW7oDwFs",
        "outputId": "ca1ae786-726c-4035-e132-58301c6b8a39"
      },
      "execution_count": 196,
      "outputs": [
        {
          "output_type": "stream",
          "name": "stdout",
          "text": [
            "mobidick hemingway\n",
            "18.7\n"
          ]
        }
      ]
    },
    {
      "cell_type": "code",
      "source": [
        "outputs = book1.read_time(reading_speed = 5) #함수 호출\n",
        "print(outputs)"
      ],
      "metadata": {
        "colab": {
          "base_uri": "https://localhost:8080/"
        },
        "id": "_GFduvI-EQIT",
        "outputId": "39dc5728-1e20-4928-d4c8-f84557c27db5"
      },
      "execution_count": 198,
      "outputs": [
        {
          "output_type": "stream",
          "name": "stdout",
          "text": [
            "112.0\n"
          ]
        }
      ]
    },
    {
      "cell_type": "markdown",
      "source": [
        "## 코드 업데이트"
      ],
      "metadata": {
        "id": "g_QOliKrEy1I"
      }
    },
    {
      "cell_type": "code",
      "source": [
        "class book():\n",
        "  def __init__(self, title, author, pages, price, discount_rate = 0): #초기화를 의미한다!\n",
        "    self.title = title\n",
        "    self.author = author\n",
        "    self.pages = pages\n",
        "    self.price = price\n",
        "    self.discount_rate = discount_rate\n",
        "\n",
        "  def read_time(self, reading_speed = 30):\n",
        "    return round(self.pages / reading_speed, 1)\n",
        "\n",
        "  def apply_discount(self, discount_rate = 0):\n",
        "    return self.price - (self.price * self.discount_rate)"
      ],
      "metadata": {
        "id": "_PagDl3CD9nM"
      },
      "execution_count": 214,
      "outputs": []
    },
    {
      "cell_type": "code",
      "source": [
        "book1 = book('bible', 'jesus', 2000, 20000, 0.1)\n",
        "book2 = book('coran', 'alah', 1000, 13000, 0.5)\n",
        "book3 = book('yingyang', 'buddah', 4500, 70000, 0.2)\n",
        "\n",
        "book1.title, book2.title"
      ],
      "metadata": {
        "colab": {
          "base_uri": "https://localhost:8080/"
        },
        "id": "d_FuDU9wFZ_l",
        "outputId": "380a2d97-08e0-4223-d3af-009aa3ac03be"
      },
      "execution_count": 215,
      "outputs": [
        {
          "output_type": "execute_result",
          "data": {
            "text/plain": [
              "('bible', 'coran')"
            ]
          },
          "metadata": {},
          "execution_count": 215
        }
      ]
    },
    {
      "cell_type": "code",
      "source": [
        "print(book1.apply_discount(0.3), '\\n',\n",
        "      book2.apply_discount(0.7))"
      ],
      "metadata": {
        "colab": {
          "base_uri": "https://localhost:8080/"
        },
        "id": "2eWWppp0HIOf",
        "outputId": "4faf782a-a704-4ed3-99dc-8d99422b11d3"
      },
      "execution_count": 220,
      "outputs": [
        {
          "output_type": "stream",
          "name": "stdout",
          "text": [
            "18000.0 \n",
            " 6500.0\n"
          ]
        }
      ]
    },
    {
      "cell_type": "code",
      "source": [
        "class book():\n",
        "  def __init__(self, title, author = None, pages = 100, price = 15000, discount_rate = 0): #초기화를 의미한다!\n",
        "    self.title = title\n",
        "    self.author = author\n",
        "    self.pages = pages\n",
        "    self.price = price\n",
        "    self.discount_rate = discount_rate\n",
        "\n",
        "  def read_time(self, reading_speed = 30):\n",
        "    return round(self.pages / reading_speed, 1)\n",
        "\n",
        "  def apply_discount(self, discount_rate = 0):\n",
        "    return self.price - (self.price * self.discount_rate)"
      ],
      "metadata": {
        "id": "G2BlY5E4HcOi"
      },
      "execution_count": 233,
      "outputs": []
    },
    {
      "cell_type": "code",
      "source": [
        "book1 = book('arknova')\n",
        "print(book1.read_time(),'\\t',book1.apply_discount(0.7))"
      ],
      "metadata": {
        "colab": {
          "base_uri": "https://localhost:8080/"
        },
        "id": "LJHB6Pw7K9QA",
        "outputId": "b329de9a-332a-4ddf-ccc7-aa31cc3d70e4"
      },
      "execution_count": 236,
      "outputs": [
        {
          "output_type": "stream",
          "name": "stdout",
          "text": [
            "3.3 \t 15000\n"
          ]
        }
      ]
    },
    {
      "cell_type": "code",
      "source": [],
      "metadata": {
        "id": "oMFic-pYLC57"
      },
      "execution_count": null,
      "outputs": []
    }
  ]
}