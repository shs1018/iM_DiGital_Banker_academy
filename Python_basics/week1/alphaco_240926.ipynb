{
  "nbformat": 4,
  "nbformat_minor": 0,
  "metadata": {
    "colab": {
      "provenance": [],
      "toc_visible": true
    },
    "kernelspec": {
      "name": "python3",
      "display_name": "Python 3"
    },
    "language_info": {
      "name": "python"
    }
  },
  "cells": [
    {
      "cell_type": "markdown",
      "source": [
        "# 240926"
      ],
      "metadata": {
        "id": "AO6Aobq1ufhB"
      }
    },
    {
      "cell_type": "markdown",
      "source": [
        "## 복습 - Class"
      ],
      "metadata": {
        "id": "xGPMK_wxujlP"
      }
    },
    {
      "cell_type": "code",
      "source": [
        "class BGG():\n",
        "  def __init__(self, title, author = 'unknown', rulebookpg = 50, price = 50000, discount = 0.03):\n",
        "    self.title = title\n",
        "    self.author = author\n",
        "    self.rulebookpg = rulebookpg\n",
        "    self.price = price\n",
        "    self.discount = discount\n",
        "\n",
        "  def shopping(self, title, price, discount):\n",
        "    print(f'{title}의 가격은 {int(price - price * discount)}원 입니다.')"
      ],
      "metadata": {
        "id": "R1p9hhttzs2p"
      },
      "execution_count": 38,
      "outputs": []
    },
    {
      "cell_type": "code",
      "source": [
        "my_bgg = BGG(\"sekigahara\")\n",
        "print(my_bgg.title,my_bgg.price - my_bgg.price * my_bgg.discount)"
      ],
      "metadata": {
        "colab": {
          "base_uri": "https://localhost:8080/"
        },
        "id": "7XnaqHdLz5sj",
        "outputId": "0ab6060d-e1c6-4bd2-94e1-51d8882fa4d0"
      },
      "execution_count": 39,
      "outputs": [
        {
          "output_type": "stream",
          "name": "stdout",
          "text": [
            "sekigahara 48500.0\n"
          ]
        }
      ]
    },
    {
      "cell_type": "code",
      "source": [
        "my_bgg.shopping('brass', 65000, 0.2)"
      ],
      "metadata": {
        "colab": {
          "base_uri": "https://localhost:8080/"
        },
        "id": "V01fcV20z8cg",
        "outputId": "3873384f-003b-4666-9256-4cb3d0f780af"
      },
      "execution_count": 52,
      "outputs": [
        {
          "output_type": "stream",
          "name": "stdout",
          "text": [
            "brass의 가격은 52000원 입니다.\n"
          ]
        }
      ]
    },
    {
      "cell_type": "markdown",
      "source": [
        "## 과제"
      ],
      "metadata": {
        "id": "4cV1qO0f5mt-"
      }
    },
    {
      "cell_type": "code",
      "source": [
        "class person():\n",
        "  def __init__(self, name, age):\n",
        "    self.name = name\n",
        "    self.age = age\n",
        "\n",
        "  def greet(self):\n",
        "    print(f'안녕하세요, {self.name}입니다. 저는 {self.age}살 입니다')"
      ],
      "metadata": {
        "id": "spuGtPDT5fLS"
      },
      "execution_count": 46,
      "outputs": []
    },
    {
      "cell_type": "code",
      "source": [
        "me = person('superman', 25)\n",
        "me.greet()"
      ],
      "metadata": {
        "colab": {
          "base_uri": "https://localhost:8080/"
        },
        "id": "BiN8hGBl6AVv",
        "outputId": "1bcd1a1f-b995-4241-a0ad-58ee39dcd37c"
      },
      "execution_count": 53,
      "outputs": [
        {
          "output_type": "stream",
          "name": "stdout",
          "text": [
            "안녕하세요, superman입니다. 저는 25살 입니다\n"
          ]
        }
      ]
    },
    {
      "cell_type": "code",
      "source": [
        "who = person('jack', 37)\n",
        "who.greet()"
      ],
      "metadata": {
        "colab": {
          "base_uri": "https://localhost:8080/"
        },
        "id": "YPaJhwlp7lFs",
        "outputId": "b683f59b-df25-44e2-a506-654270d5932d"
      },
      "execution_count": 55,
      "outputs": [
        {
          "output_type": "stream",
          "name": "stdout",
          "text": [
            "안녕하세요, jack입니다. 저는 37살 입니다\n"
          ]
        }
      ]
    },
    {
      "cell_type": "markdown",
      "source": [
        "### 변형"
      ],
      "metadata": {
        "id": "_uM4CGcJ8_EZ"
      }
    },
    {
      "cell_type": "code",
      "source": [
        "class person2():\n",
        "  def __init__(self, name, *age):\n",
        "    self.name = name\n",
        "    self.age = age\n",
        "\n",
        "  def greet(self, other_name = '아무개'):\n",
        "    print(f'안녕하세요, {other_name}님, 저는 {self.name}입니다. 저는 {self.age}살 입니다')"
      ],
      "metadata": {
        "id": "zUqw7Qg17why"
      },
      "execution_count": 63,
      "outputs": []
    },
    {
      "cell_type": "code",
      "source": [
        "notme = person2('freddie', 25, 30, 33)\n",
        "notme.greet()"
      ],
      "metadata": {
        "colab": {
          "base_uri": "https://localhost:8080/"
        },
        "id": "r8-HX9ES7x_t",
        "outputId": "601a2d5d-d43b-4f38-a48f-310c1639d476"
      },
      "execution_count": 64,
      "outputs": [
        {
          "output_type": "stream",
          "name": "stdout",
          "text": [
            "안녕하세요, 아무개님, 저는 freddie입니다. 저는 (25, 30, 33)살 입니다\n"
          ]
        }
      ]
    },
    {
      "cell_type": "markdown",
      "source": [
        "### 다양한 메서드 추가\n",
        "\n"
      ],
      "metadata": {
        "id": "68vrFyAT6M1B"
      }
    },
    {
      "cell_type": "code",
      "source": [
        "class BGG2():\n",
        "  def __init__(self, title, author = 'unknown', rulebookpg = 50, price = 50000, discount = 0.03):\n",
        "    self.title = title\n",
        "    self.author = author\n",
        "    self.rulebookpg = rulebookpg\n",
        "    self.price = price\n",
        "    self.discount = discount\n",
        "\n",
        "  def shopping(self, title, price, discount):\n",
        "    print(f'{title}의 가격은 {int(price - price * discount)}원 입니다.')\n",
        "\n",
        "  def desc(self):\n",
        "    print(f'이 게임의 이름은 {self.title}이며, 룰북 페이지는 {self.rulebookpg}페이지 입니다.')\n",
        "    if self.rulebookpg > 16:\n",
        "      print('이 게임은 어려운 게임입니다.')\n",
        "    else:\n",
        "      print('이 게임은 쉬운 게임입니다..')"
      ],
      "metadata": {
        "id": "JbMWsDKo9Hlo"
      },
      "execution_count": 77,
      "outputs": []
    },
    {
      "cell_type": "code",
      "source": [
        "aos = BGG2('Age of Steam', rulebookpg = 72)\n",
        "aos.desc()"
      ],
      "metadata": {
        "colab": {
          "base_uri": "https://localhost:8080/"
        },
        "id": "-Roo3-7U9r6d",
        "outputId": "72ae1cc7-6506-41a4-fc4d-437298af6175"
      },
      "execution_count": 78,
      "outputs": [
        {
          "output_type": "stream",
          "name": "stdout",
          "text": [
            "이 게임의 이름은 Age of Steam이며, 룰북 페이지는 72페이지 입니다.\n",
            "이 게임은 어려운 게임입니다.\n"
          ]
        }
      ]
    },
    {
      "cell_type": "markdown",
      "source": [
        "## 클래스에서 사용하는 변수"
      ],
      "metadata": {
        "id": "Dus8YlPN_w27"
      }
    },
    {
      "cell_type": "code",
      "source": [
        "class Car():\n",
        "\n",
        "  #클래스 변수\n",
        "  instance_count = 0 #클래스 변수 생성 및 초기화\n",
        "\n",
        "  def __init__(self, size, color = 'green umber'):\n",
        "    self.size = size #인스턴스 변수 생성 및 초기화\n",
        "    self.color = color #인스턴스 변수 생성 및 초기화\n",
        "    Car.instance_count += 1 #클래스 변수 이용\n",
        "    print(f'자동차 객체의 수: {Car.instance_count}')\n",
        "\n",
        "  #메서드\n",
        "  def move(self):\n",
        "    print(f'자동차 {self.size}, {self.color}가 움직입니다.')"
      ],
      "metadata": {
        "id": "GtDM3JgU_9Ut"
      },
      "execution_count": 71,
      "outputs": []
    },
    {
      "cell_type": "code",
      "source": [
        "car1 = Car('small')\n",
        "car2 = Car('medium', 'blue')\n",
        "car3 = Car('large', 'red')"
      ],
      "metadata": {
        "colab": {
          "base_uri": "https://localhost:8080/"
        },
        "id": "BGa9DsWYAvNC",
        "outputId": "0195d02b-ece8-406f-946d-7d5dcc625de9"
      },
      "execution_count": 75,
      "outputs": [
        {
          "output_type": "stream",
          "name": "stdout",
          "text": [
            "자동차 객체의 수: 6\n",
            "자동차 객체의 수: 7\n",
            "자동차 객체의 수: 8\n"
          ]
        }
      ]
    },
    {
      "cell_type": "markdown",
      "source": [
        "# 상속\n"
      ],
      "metadata": {
        "id": "0c5Vcb1eB_oO"
      }
    },
    {
      "cell_type": "markdown",
      "source": [
        "## 상속의 기본형태\n"
      ],
      "metadata": {
        "id": "3kvhaFdtHZSx"
      }
    },
    {
      "cell_type": "code",
      "source": [
        "class upper():\n",
        "  pass\n",
        "\n",
        "class lower(upper):\n",
        "  pass"
      ],
      "metadata": {
        "id": "tFtVYXn2Hesp"
      },
      "execution_count": null,
      "outputs": []
    },
    {
      "cell_type": "code",
      "source": [
        "class animal():\n",
        "\n",
        "  name = \"\"\n",
        "\n",
        "  def feed(self):\n",
        "    print(\"feeding animals...\")"
      ],
      "metadata": {
        "id": "2NSEcBpmIqz-"
      },
      "execution_count": 79,
      "outputs": []
    },
    {
      "cell_type": "code",
      "source": [
        "ani1 = animal()\n",
        "ani1.feed()"
      ],
      "metadata": {
        "colab": {
          "base_uri": "https://localhost:8080/"
        },
        "id": "MBmeJH67I4V3",
        "outputId": "8813efff-9a91-4825-abfa-b2a42fc60dee"
      },
      "execution_count": 83,
      "outputs": [
        {
          "output_type": "stream",
          "name": "stdout",
          "text": [
            "feeding animals...\n"
          ]
        }
      ]
    },
    {
      "cell_type": "code",
      "source": [
        "class dog(animal):\n",
        "\n",
        "  def bark(self):\n",
        "    print(\"barking...\")\n",
        "\n",
        "  def intro(self):\n",
        "    print(f'my name is {self.name}')"
      ],
      "metadata": {
        "id": "jcCtV9F_I7fa"
      },
      "execution_count": 84,
      "outputs": []
    },
    {
      "cell_type": "code",
      "source": [
        "coggy = dog()\n",
        "coggy.name = 'coggy'\n",
        "coggy.feed()\n",
        "coggy.bark()\n",
        "coggy.intro()"
      ],
      "metadata": {
        "colab": {
          "base_uri": "https://localhost:8080/"
        },
        "id": "0HPTYBCVJVSF",
        "outputId": "3886e4eb-cc14-4a2d-8067-afa57db5cab2"
      },
      "execution_count": 87,
      "outputs": [
        {
          "output_type": "stream",
          "name": "stdout",
          "text": [
            "feeding animals...\n",
            "barking...\n",
            "my name is coggy\n"
          ]
        }
      ]
    },
    {
      "cell_type": "markdown",
      "source": [
        "상속은 is -a 관계이다.\n",
        "\n",
        "dog is a animal -> 상위: animal, 하위: dog"
      ],
      "metadata": {
        "id": "mT0Hg5xoLNj9"
      }
    },
    {
      "cell_type": "markdown",
      "source": [
        "## 다중상속\n"
      ],
      "metadata": {
        "id": "zrnM0vmtJbD_"
      }
    },
    {
      "cell_type": "code",
      "source": [
        "class upper1():\n",
        "  pass\n",
        "\n",
        "class upper2():\n",
        "  pass\n",
        "\n",
        "class lower(upper1, upper2):\n",
        "  pass"
      ],
      "metadata": {
        "id": "qk4gSsJELZNR"
      },
      "execution_count": null,
      "outputs": []
    },
    {
      "cell_type": "code",
      "source": [
        "class bird():\n",
        "  def bird_info(self):\n",
        "    print('has wing, lay eggs.')\n",
        "\n",
        "class marine():\n",
        "  def marine_info(self):\n",
        "    print('live shore or ocean, can swim.')\n",
        "\n",
        "class seagull(bird, marine):\n",
        "  pass"
      ],
      "metadata": {
        "id": "odm9e6_9Lpmm"
      },
      "execution_count": 89,
      "outputs": []
    },
    {
      "cell_type": "code",
      "source": [
        "b1 = seagull()  #객체 생성\n",
        "b1.bird_info()\n",
        "b1.marine_info()"
      ],
      "metadata": {
        "colab": {
          "base_uri": "https://localhost:8080/"
        },
        "id": "wZ_qhVAkMYsl",
        "outputId": "b72eab22-db15-4805-8a70-0c8da3ad317d"
      },
      "execution_count": 90,
      "outputs": [
        {
          "output_type": "stream",
          "name": "stdout",
          "text": [
            "has wing, lay eggs.\n",
            "live shore or ocean, can swim.\n"
          ]
        }
      ]
    },
    {
      "cell_type": "markdown",
      "source": [
        "## 연습\n"
      ],
      "metadata": {
        "id": "uDi6IZk0Mdib"
      }
    },
    {
      "cell_type": "code",
      "source": [
        "\"\"\"\n",
        "- Car 클래스를 만들어보겠습니다.\n",
        "- Car 클래스는 `__init__`, `get_description`, `read_kilometer`, `update_kilometer`, `increment_kilometer`라는 메서드를 갖습니다.\n",
        "    + `__init__` 메서드는 클래스의 생성자로, 객체가 생성될 때 호출됩니다.\n",
        "- 속성 사용하기\n",
        "    + `self.make`, `self.model`, `self.year`, `self.kilometer_reading` 클래스의 속성입니다.\n",
        "    + 객체가 생성될 때 속성값이 초기화됩니다.\n",
        "\n",
        "- self의 의미\n",
        "    + self는 클래스의 인스턴스를 참조합니다. 클래스 내의 메서드가 객체의 속성에 접근하거나 다른 메서드를 호출할 때 사용합니다.\n",
        "    + self를 통해 클래스 내의 속성 및 메서드를 정의하고 접근할 수 있습니다.\n",
        "\n",
        "- 클래스의 위치 인수, 키워드 인수\n",
        "    + `__init__` 메서드의 make, model, year는 위치 인수로 전달됩니다.\n",
        "    + 메서드를 호출할 때 my_car.update_kilometer(kilometers=500)처럼 키워드 인수로 사용할 수도 있습니다.\n",
        "\"\"\""
      ],
      "metadata": {
        "id": "Dk3kgqL7ON3o"
      },
      "execution_count": 95,
      "outputs": []
    },
    {
      "cell_type": "code",
      "source": [
        "class Car():\n",
        "  \"\"\"\n",
        "    자동차 객체를 나타내는 클래스. 자동차의 제조사, 모델, 연도 및 주행 거리를 추적합니다.\n",
        "  \"\"\"\n",
        "  def __init__(self, make, model = 'unknown', year = 2000, kilometer_reading = 0):\n",
        "    self.make = make\n",
        "    self.model = model\n",
        "    self.year = year\n",
        "    self.kilometer_reading = kilometer_reading\n",
        "\n",
        "  def get_description(self):\n",
        "    return(f\"This car is {self.make}'s {self.model}, it's made in {self.year}, ridin {self.kilometer_reading}km.\")\n",
        "\n",
        "  def read_kilometer(self):\n",
        "    return(f'This car has driven {self.kilometer_reading}km till this day.')\n",
        "\n",
        "  def update_kilometer(self, kilo):\n",
        "    '''\n",
        "    if kilo < self.kilometer_reading:\n",
        "      print('you can\\'t drive through the past!')\n",
        "      return\n",
        "\n",
        "    elif kilo == self.kilometer_reading:\n",
        "      print('seems like you don\\'t need to update your kilometers!')\n",
        "      return\n",
        "\n",
        "    else:\n",
        "      self.kilometer_reading = kilo\n",
        "      return(f'Your updated driving kilometers are: {self.kilometer_reading}km')\n",
        "    '''\n",
        "    if kilo > self.kilometer_reading:\n",
        "      self.kilometer_reading = kilo\n",
        "      return(f'Your updated driving kilometers are: {self.kilometer_reading}km')\n",
        "    else:\n",
        "      return(f'error! now {self.kilometer_reading}km, please check ')\n",
        "\n",
        "\n",
        "  def increment_kilometer(self, kilo):\n",
        "    if kilo == 0:\n",
        "      print('seems like you don\\'t need to update your kilometers!')\n",
        "      return\n",
        "    elif kilo < 0:\n",
        "      print('you can\\'t undo your driving!')\n",
        "      return\n",
        "\n",
        "    self.kilometer_reading += kilo\n",
        "    return(f\"Your updated driving kilometers: {self.kilometer_reading}km\")"
      ],
      "metadata": {
        "id": "4vS-2eW9PKSg"
      },
      "execution_count": 202,
      "outputs": []
    },
    {
      "cell_type": "code",
      "source": [
        "myCar = Car('Tesla', 'Model 5', 2022)\n",
        "myCar"
      ],
      "metadata": {
        "colab": {
          "base_uri": "https://localhost:8080/"
        },
        "id": "piOk7kK2Phru",
        "outputId": "382a69bf-0c78-4251-b002-8180c51f1fdd"
      },
      "execution_count": 203,
      "outputs": [
        {
          "output_type": "execute_result",
          "data": {
            "text/plain": [
              "<__main__.Car at 0x7a0f0eab8be0>"
            ]
          },
          "metadata": {},
          "execution_count": 203
        }
      ]
    },
    {
      "cell_type": "code",
      "source": [
        "mc_desc = myCar.get_description()\n",
        "print(mc_desc)"
      ],
      "metadata": {
        "colab": {
          "base_uri": "https://localhost:8080/"
        },
        "id": "vu42bZXBPkFp",
        "outputId": "0ca1434b-bea4-4e9b-a5f6-ea18b8a45132"
      },
      "execution_count": 204,
      "outputs": [
        {
          "output_type": "stream",
          "name": "stdout",
          "text": [
            "This car is Tesla's Model 5, it's made in 2022, ridin 0km.\n"
          ]
        }
      ]
    },
    {
      "cell_type": "code",
      "source": [
        "mc_rk = myCar.read_kilometer()\n",
        "print(mc_rk)"
      ],
      "metadata": {
        "colab": {
          "base_uri": "https://localhost:8080/"
        },
        "id": "SqAfZaSOiQZ9",
        "outputId": "736d9a70-ae84-4843-8eca-b5154042f56d"
      },
      "execution_count": 205,
      "outputs": [
        {
          "output_type": "stream",
          "name": "stdout",
          "text": [
            "This car has driven 0km till this day.\n"
          ]
        }
      ]
    },
    {
      "cell_type": "code",
      "source": [
        "mc_uk = myCar.update_kilometer(83)\n",
        "print(mc_uk)"
      ],
      "metadata": {
        "colab": {
          "base_uri": "https://localhost:8080/"
        },
        "id": "YlepbptFitY1",
        "outputId": "63d7ca9b-0fed-4d3d-b8a1-434fb0b07d86"
      },
      "execution_count": 206,
      "outputs": [
        {
          "output_type": "stream",
          "name": "stdout",
          "text": [
            "Your updated driving kilometers are: 83km\n"
          ]
        }
      ]
    },
    {
      "cell_type": "code",
      "source": [
        "myCar.increment_kilometer(50)"
      ],
      "metadata": {
        "colab": {
          "base_uri": "https://localhost:8080/",
          "height": 35
        },
        "id": "DLPOR9icjCBj",
        "outputId": "2dedaa73-a2b0-40f4-8796-fe6d470ba9a9"
      },
      "execution_count": 207,
      "outputs": [
        {
          "output_type": "execute_result",
          "data": {
            "text/plain": [
              "'Your updated driving kilometers: 133km'"
            ],
            "application/vnd.google.colaboratory.intrinsic+json": {
              "type": "string"
            }
          },
          "metadata": {},
          "execution_count": 207
        }
      ]
    },
    {
      "cell_type": "code",
      "source": [
        "my_car = Car('BMW',\"E5\",2022,35)\n",
        "print(my_car.__doc__)"
      ],
      "metadata": {
        "colab": {
          "base_uri": "https://localhost:8080/"
        },
        "id": "JhOIUxZqrijM",
        "outputId": "d29e9f13-f52a-47b3-c5ab-24938cbe0c17"
      },
      "execution_count": 208,
      "outputs": [
        {
          "output_type": "stream",
          "name": "stdout",
          "text": [
            "\n",
            "    자동차 객체를 나타내는 클래스. 자동차의 제조사, 모델, 연도 및 주행 거리를 추적합니다.\n",
            "  \n"
          ]
        }
      ]
    },
    {
      "cell_type": "code",
      "source": [
        "class Used_car(Car):\n",
        "  def __init__(self, make, model = 'unknown', year = 2000, kilometer_reading = 0, owner = 'unknown'):\n",
        "    super().__init__(make, model, year, kilometer_reading)\n",
        "    self.owner = owner\n",
        "\n",
        "  def get_description(self):\n",
        "    print(f\"This car is {self.make}'s {self.model}, it's made in {self.year}, ridin {self.kilometer_reading}km. it's owned by {self.owner}\")\n"
      ],
      "metadata": {
        "id": "CmZ2SVzRjFu0"
      },
      "execution_count": 198,
      "outputs": []
    },
    {
      "cell_type": "code",
      "source": [
        "myoldCar = Used_car('benz')\n",
        "myoldCar.get_description()"
      ],
      "metadata": {
        "colab": {
          "base_uri": "https://localhost:8080/"
        },
        "id": "RFLtDbSojkZb",
        "outputId": "d005cbcb-42a5-4764-8b5b-f2e1ccfd1b2b"
      },
      "execution_count": 200,
      "outputs": [
        {
          "output_type": "stream",
          "name": "stdout",
          "text": [
            "This car is benz's unknown, it's made in 2000, ridin 0km. it's owned by unknown\n"
          ]
        }
      ]
    },
    {
      "cell_type": "markdown",
      "source": [
        "# 다형성(polymorphism)"
      ],
      "metadata": {
        "id": "wBbtm2NNvjYf"
      }
    },
    {
      "cell_type": "code",
      "source": [
        "# 부모 클래스\n",
        "class animal:\n",
        "  def hawl(self):\n",
        "    return \"owwwww\"\n",
        "\n",
        "# 자식 클래스\n",
        "class dog(animal):\n",
        "  def hawl(self):\n",
        "    return('grrrr')\n",
        "\n",
        "class cat(animal):\n",
        "  def hawl(self):\n",
        "    return('meow')"
      ],
      "metadata": {
        "id": "hxQCjIorvon4"
      },
      "execution_count": 210,
      "outputs": []
    },
    {
      "cell_type": "code",
      "source": [
        "# 객체 생성\n",
        "jully = dog()\n",
        "kitty = cat()\n",
        "\n",
        "jully.hawl()"
      ],
      "metadata": {
        "colab": {
          "base_uri": "https://localhost:8080/",
          "height": 35
        },
        "id": "XsLgsSwtyHx8",
        "outputId": "110e8e9a-c96f-48af-e8cd-5f88bf48c206"
      },
      "execution_count": 211,
      "outputs": [
        {
          "output_type": "execute_result",
          "data": {
            "text/plain": [
              "'grrrr'"
            ],
            "application/vnd.google.colaboratory.intrinsic+json": {
              "type": "string"
            }
          },
          "metadata": {},
          "execution_count": 211
        }
      ]
    },
    {
      "cell_type": "markdown",
      "source": [
        "다형성 함수 만들기\n"
      ],
      "metadata": {
        "id": "tWYOc9xlyR7-"
      }
    },
    {
      "cell_type": "code",
      "source": [
        "def make_sound(animal):\n",
        "  print(animal.hawl())"
      ],
      "metadata": {
        "id": "R7rZGwMWyaax"
      },
      "execution_count": 212,
      "outputs": []
    },
    {
      "cell_type": "code",
      "source": [
        "make_sound(kitty)\n",
        "make_sound(jully)"
      ],
      "metadata": {
        "colab": {
          "base_uri": "https://localhost:8080/"
        },
        "id": "XoCGUQDxygCl",
        "outputId": "4edc9324-7298-4eb6-c062-5f56cc9342ff"
      },
      "execution_count": 215,
      "outputs": [
        {
          "output_type": "stream",
          "name": "stdout",
          "text": [
            "meow\n",
            "grrrr\n"
          ]
        }
      ]
    },
    {
      "cell_type": "markdown",
      "source": [
        "## 메서드 오버라이딩"
      ],
      "metadata": {
        "id": "gnrNy4awyk3M"
      }
    },
    {
      "cell_type": "code",
      "source": [
        "from math import pi"
      ],
      "metadata": {
        "id": "GdWBToiF0bmZ"
      },
      "execution_count": 216,
      "outputs": []
    },
    {
      "cell_type": "code",
      "source": [
        "class shape:\n",
        "  def __init__(self, name):\n",
        "    self.name = name\n",
        "\n",
        "  def area(self):\n",
        "    pass\n",
        "\n",
        "  def fact(self):\n",
        "    return 'I am a two-dimensional shape.'"
      ],
      "metadata": {
        "id": "LjswaZaM0eLM"
      },
      "execution_count": 227,
      "outputs": []
    },
    {
      "cell_type": "code",
      "source": [
        "class Square(shape):\n",
        "  def __init__(self, length):\n",
        "    self.length = length\n",
        "    super().__init__('Sqaure')\n",
        "\n",
        "  def area(self):\n",
        "    return self.length ** 2\n",
        "\n",
        "  def fact(self):\n",
        "    return 'Squares have each angle equal to 90 degrees.'"
      ],
      "metadata": {
        "id": "eCFZK3Q-0s3l"
      },
      "execution_count": 233,
      "outputs": []
    },
    {
      "cell_type": "code",
      "source": [
        "class Circle(shape):\n",
        "  def __init__(self, radius):\n",
        "    super().__init__(\"Circle\")\n",
        "    self.radius = radius\n",
        "\n",
        "  def area(self):\n",
        "    return pi * self.radius ** 2"
      ],
      "metadata": {
        "id": "HPU-TluK1fgM"
      },
      "execution_count": 234,
      "outputs": []
    },
    {
      "cell_type": "code",
      "source": [
        "a = Square(4)\n",
        "print(a.area())\n",
        "b = Circle(3)\n",
        "print(b.area())"
      ],
      "metadata": {
        "colab": {
          "base_uri": "https://localhost:8080/"
        },
        "id": "GwV2cvnG1v9h",
        "outputId": "20727c0f-3542-4470-9e68-6d9787093ff0"
      },
      "execution_count": 235,
      "outputs": [
        {
          "output_type": "stream",
          "name": "stdout",
          "text": [
            "16\n",
            "28.274333882308138\n"
          ]
        }
      ]
    },
    {
      "cell_type": "markdown",
      "source": [
        "## 연산자 오버로딩"
      ],
      "metadata": {
        "id": "W8_7is0_9XmE"
      }
    },
    {
      "cell_type": "code",
      "source": [
        "a = 2\n",
        "b = 3\n",
        "\n",
        "c = a + b\n",
        "print(c)"
      ],
      "metadata": {
        "colab": {
          "base_uri": "https://localhost:8080/"
        },
        "id": "pF5K72kh48ZY",
        "outputId": "0cc69fcf-da50-4ea5-d40e-ce343a83c6bb"
      },
      "execution_count": 239,
      "outputs": [
        {
          "output_type": "stream",
          "name": "stdout",
          "text": [
            "5\n"
          ]
        }
      ]
    },
    {
      "cell_type": "code",
      "source": [
        "print(type(a))"
      ],
      "metadata": {
        "colab": {
          "base_uri": "https://localhost:8080/"
        },
        "id": "jzmOho9h5Kav",
        "outputId": "eb0632dc-7fc5-4dc6-aae4-f19008e88642"
      },
      "execution_count": 240,
      "outputs": [
        {
          "output_type": "stream",
          "name": "stdout",
          "text": [
            "<class 'int'>\n"
          ]
        }
      ]
    },
    {
      "cell_type": "code",
      "source": [
        "d = a.__add__(b)\n",
        "print(d)"
      ],
      "metadata": {
        "colab": {
          "base_uri": "https://localhost:8080/"
        },
        "id": "1eMAg2hv1zyS",
        "outputId": "0d7b705e-0feb-4d34-f040-2ec13a75f3c1"
      },
      "execution_count": 241,
      "outputs": [
        {
          "output_type": "stream",
          "name": "stdout",
          "text": [
            "5\n"
          ]
        }
      ]
    },
    {
      "cell_type": "code",
      "source": [
        "class A:\n",
        "  def __init__(self, val):\n",
        "    self.val = val\n",
        "\n",
        "  #객체끼리 더할 수 있도록 연산자 오버로딩을 추가한다.\n",
        "  def __add__(self, other):\n",
        "    res = self.val + other.val\n",
        "    return A(res)"
      ],
      "metadata": {
        "id": "ajqro4wP40yX"
      },
      "execution_count": 243,
      "outputs": []
    },
    {
      "cell_type": "code",
      "source": [
        "a1 = A(2)\n",
        "a2 = A(7)\n",
        "\n",
        "a3 = a1 + a2\n",
        "print(a3.val)\n",
        "\n",
        "#객체끼리 더할땐 연산자가 아닌 연산자의 개념이 필요하다!"
      ],
      "metadata": {
        "colab": {
          "base_uri": "https://localhost:8080/"
        },
        "id": "NmVhHpaB9ycX",
        "outputId": "9636be0e-9898-423e-f727-306da5fc7c80"
      },
      "execution_count": 247,
      "outputs": [
        {
          "output_type": "stream",
          "name": "stdout",
          "text": [
            "9\n"
          ]
        }
      ]
    },
    {
      "cell_type": "markdown",
      "source": [
        "### 연습\n"
      ],
      "metadata": {
        "id": "y1E2GEbl-pP7"
      }
    },
    {
      "cell_type": "code",
      "source": [
        "'''\n",
        "# 예제 2. 책 관리 시스템\n",
        "- 여러분은 간단한 책 관리 시스템을 만들어야 합니다. Book 클래스를 사용하여 책의 정보를 저장하고, 책을 읽고, 현재 페이지를 업데이트하는 프로그램을 작성하세요.\n",
        "- 여러 Book 객체를 생성하고, 각 책에 대해 다음 작업을 수행하세요.\n",
        "    + 책의 설명을 출력하세요.\n",
        "    + 책을 읽고, 현재 페이지를 업데이트하고, 책 읽기 진행 상황을 출력하세요.\n",
        "    + 읽을 페이지 수가 전체 페이지 수를 초과할 경우, 오류 메시지를 출력하세요.\n",
        "'''\n",
        "\n",
        "class Book():\n",
        "  '''\n",
        "    a class to help you maintain your reading history.\n",
        "  -----\n",
        "  title = str\n",
        "  author = str\n",
        "  pages = int\n",
        "  desc = str\n",
        "\n",
        "  '''\n",
        "  def __init__(self, title, author = \"unknown\", pages = 100, desc = \"unknown\"):\n",
        "    self.title = title\n",
        "    self.author = author\n",
        "    self.pages = pages\n",
        "    self.desc = desc\n",
        "\n",
        "  def book_desc(self):\n",
        "    book_desc = f\"this book is {self.title}. it's written by {self.author}, it has {self.pages} pages, and it's about {self.desc}\"\n",
        "    return book_desc\n",
        "\n",
        "  def read_book(self):\n",
        "    pass # 책 읽음을 어떻게 구현해야하는가?\n",
        "\n",
        "  def page_update(self, current_page):\n",
        "    if current_page > self.pages:\n",
        "      return(f\"error: your book's maximum page is {self.pages}\")\n",
        "    else:\n",
        "      self.current_page = current_page\n",
        "      return(f\"your current page is {self.current_page}\")\n",
        "\n",
        "  def read_progress(self, current_page):\n",
        "    if current_page > self.pages:\n",
        "      return(f\"error: your book's maximum page is {self.pages}\")\n",
        "    elif current_page < 0:\n",
        "      return(f\"error: your book's minimum page is 0\")\n",
        "    else:\n",
        "      self.current_page = current_page\n",
        "    return(f\"your reading progress is {self.current_page / self.pages * 100}%\")\n"
      ],
      "metadata": {
        "id": "7BLWadAm_We_"
      },
      "execution_count": 261,
      "outputs": []
    },
    {
      "cell_type": "code",
      "source": [
        "book1 = Book(\"demian\",\"hesse\",500,\"a philosophic story of two boys\")\n",
        "book2 = Book(\"1984\",\"george Owell\",375,\"distophia\" )\n",
        "book3 = Book(\"bible\",\"jesus\",2000,\"holy story\")"
      ],
      "metadata": {
        "id": "aonwFtI9_nm6"
      },
      "execution_count": 265,
      "outputs": []
    },
    {
      "cell_type": "markdown",
      "source": [
        "### 답안"
      ],
      "metadata": {
        "id": "o1qV3rEzDhiV"
      }
    },
    {
      "cell_type": "code",
      "source": [
        "class Book:\n",
        "    def __init__(self, title, author, pages):\n",
        "        self.title = title\n",
        "        self.author = author\n",
        "        self.pages = pages\n",
        "        self.current_page = 0\n",
        "\n",
        "    def get_description(self):\n",
        "        return f\"'{self.title}' (저자: {self.author}, 총 {self.pages}페이지)\"\n",
        "\n",
        "    def read(self, pages):\n",
        "        if self.current_page + pages <= self.pages:\n",
        "            self.current_page += pages\n",
        "            print(f\"{pages}페이지를 읽었습니다. 현재 {self.current_page}페이지에 있습니다.\")\n",
        "        else:\n",
        "            print(f\"책의 총 페이지 수를 초과할 수 없습니다!\")\n",
        "\n",
        "    def book_progress(self):\n",
        "        print(f\"이 책은 총 {self.pages}페이지이며, 현재 {self.current_page}페이지를 읽었습니다.\")"
      ],
      "metadata": {
        "id": "rqOvELAZDjKJ"
      },
      "execution_count": null,
      "outputs": []
    },
    {
      "cell_type": "markdown",
      "source": [
        "## 연습문제\n"
      ],
      "metadata": {
        "id": "ztPmR4OeHdz7"
      }
    },
    {
      "cell_type": "code",
      "source": [
        "# 클래스를 나눌 때인지 아니면 클래스 하나로 다 처리할 일인지 어떻게 구분해야 하는가?"
      ],
      "metadata": {
        "id": "zQ9RN8jdHkOj"
      },
      "execution_count": null,
      "outputs": []
    },
    {
      "cell_type": "markdown",
      "source": [
        "## 요구사항\n",
        "- `Spaceship` 클래스를 정의하세요.\n",
        "- 속성\n",
        "    + `color (str):` 우주선의 색상\n",
        "    + `speed (int):` 우주선의 속도\n",
        "    + `passengers (int):` 우주선의 탑승 인원 수\n",
        "- 메서드\n",
        "    + `__init__(self, color: str, speed: int, passengers: int):` 색상, 속도, 탑승 인원 수를 초기화합니다.\n",
        "    + `get_color(self) -> str:` 색상을 반환합니다.\n",
        "    + `set_color(self, color: str):` 색상을 설정합니다.\n",
        "    + `get_speed(self) -> int:` 속도를 반환합니다.\n",
        "    + `set_speed(self, speed: int):` 속도를 설정합니다.\n",
        "    + `get_passengers(self) -> int:` 탑승 인원 수를 반환합니다.\n",
        "    + `set_passengers(self, passengers: int):` 탑승 인원 수를 설정합니다.\n",
        "    + `add_passenger(self):` 탑승 인원 수를 N명 추가합니다.\n",
        "    + `remove_passenger(self):` 탑승 인원 수를 N명 감소시킵니다. 탑승 인원 수가 0명 이하로 내려갈 수 없습니다.\n",
        "    + `increase_speed(self, amount: int):` 속도를 amount만큼 증가시킵니다.\n",
        "    + `decrease_speed(self, amount: int):` 속도를 amount만큼 감소시킵니다. 속도가 0 이하로 내려갈 수 없습니다.\n",
        "    + `get_info(self) -> str:` 현재 우주선의 상태 정보를 반환합니다.\n",
        "\n",
        "## 시뮬레이션 테스트\n",
        "- 시뮬레이션 프로그램을 작성하세요.\n",
        "    + 사용자는 다음 작업을 선택할 수 있습니다:\n",
        "    + 우주선의 색상을 설정합니다.\n",
        "    + 속도를 증가시킵니다.\n",
        "    + 속도를 감소시킵니다.\n",
        "    + 탑승 인원 수를 N명 추가합니다.\n",
        "    + 탑승 인원 수를 N명 감소합니다.\n",
        "    + 시뮬레이션을 종료합니다.\n",
        "    \n",
        "\"\"\""
      ],
      "metadata": {
        "id": "pmeP8ha6YoNb"
      }
    },
    {
      "cell_type": "code",
      "source": [
        "class Spaceship():\n",
        "  def __init__(self, color = 'white', speed = 0, passengers = 0):\n",
        "    self.color = color\n",
        "    self.speed = speed\n",
        "    self.passengers = passengers\n",
        "\n",
        "  def get_color(self):\n",
        "      return f\"current spacsship color is : {self.color}\"\n",
        "\n",
        "  def set_color(self, color):\n",
        "      self.color = color\n",
        "      return(f\"changed spacsship color is : {self.color}\")\n",
        "\n",
        "  def get_speed(self):\n",
        "      return f\"current spacsship speed is : {self.speed}\"\n",
        "\n",
        "  def set_speed(self, speed): #?\n",
        "      pass\n",
        "\n",
        "  def get_passenger(self):\n",
        "      return f\"current spacsship passengers is : {self.passengers}\"\n",
        "\n",
        "  def set_passenger(self): #?\n",
        "      pass\n",
        "\n",
        "  def add_passenger(self, passengers): #고쳐야 함\n",
        "      self.passenger += passengers\n",
        "      return(f\"changed spacsship passengers are : {self.passengers}\")\n",
        "\n",
        "  def remove_passenger(self, passengers): #고쳐야 함\n",
        "      self.passenger -= passengers\n",
        "      if self.passenger < 0:\n",
        "        self.passenger = 0\n",
        "        return(f\"spaceship passengers set to 0\")\n",
        "\n",
        "      else:\n",
        "        return(f\"changed spacsship speed is : {self.speed}\")\n",
        "\n",
        "  def increase_speed(self, amount):\n",
        "      self.speed += amount\n",
        "      return f\"changed spacsship speed is : {self.speed}\"\n",
        "\n",
        "  def decrease_speed(self, amount):\n",
        "      self.speed -= amount\n",
        "      if self.speed < 0:\n",
        "        self.speed = 0\n",
        "        return f\"spaceship speed set to 0\"\n",
        "\n",
        "      else:\n",
        "        return(f\"changed spacsship speed is : {self.speed}\")\n",
        "\n",
        "  def get_info(self):\n",
        "      return(f\"spaceship color: {self.color}, spaceship speed: {self.speed}, spaceship passengers: {self.passengers}\")\n",
        "\n",
        "  def os(self):\n",
        "      while True:\n",
        "\n",
        "        print(f'current status: color: {self.color}, speed: {self.speed}, passengers: {self.passengers}')\n",
        "        print('what do you want to do?')\n",
        "        print('1. set color')\n",
        "        print('2. increase speed')\n",
        "        print('3. decrease speed')\n",
        "        print('4. add passengers')\n",
        "        print('5. remove passengers')\n",
        "        print('6. exit', '\\n')\n",
        "        call = input(\"your call : \")\n",
        "\n",
        "        if call == '1':\n",
        "          self.get_color()\n",
        "          color = input(\"color : \")\n",
        "          self.set_color(color)\n",
        "\n",
        "        elif call == '2':\n",
        "          self.get_speed()\n",
        "          speed = int(input(\"speed : \"))\n",
        "          self.increase_speed(speed)\n",
        "\n",
        "        elif call == '3':\n",
        "          self.get_speed()\n",
        "          speed = int(input(\"speed : \"))\n",
        "          self.decrease_speed(speed)\n",
        "\n",
        "        elif call == '4':\n",
        "          passengers = int(input(\"passengers : \"))\n",
        "          self.add_passenger(passengers)\n",
        "\n",
        "        elif call == '5':\n",
        "          passengers = int(input(\"passengers : \"))\n",
        "          self.remove_passenger(passengers)\n",
        "\n",
        "        elif call == '6':\n",
        "          break\n",
        "\n",
        "        else:\n",
        "          print('error! please check your input')\n",
        "          return\n",
        ""
      ],
      "metadata": {
        "id": "GCSld3U5YqO5"
      },
      "execution_count": null,
      "outputs": []
    },
    {
      "cell_type": "code",
      "source": [
        "test = Spaceship(\"red\", 30, 30)\n",
        "test.os()"
      ],
      "metadata": {
        "colab": {
          "base_uri": "https://localhost:8080/",
          "height": 1000
        },
        "id": "bH2ZBQwYhg3t",
        "outputId": "4b530f6a-c7d1-40ca-d49c-37bc514d63ec"
      },
      "execution_count": 287,
      "outputs": [
        {
          "name": "stdout",
          "output_type": "stream",
          "text": [
            "current status: color: red, speed: 30, passengers: 30\n",
            "what do you want to do?\n",
            "1. set color\n",
            "2. increase speed\n",
            "3. decrease speed\n",
            "4. add passengers\n",
            "5. remove passengers\n",
            "6. exit\n",
            "your call : 1\n",
            "color : rrrrrrrrrrrred\n",
            "current status: color: rrrrrrrrrrrred, speed: 30, passengers: 30\n",
            "what do you want to do?\n",
            "1. set color\n",
            "2. increase speed\n",
            "3. decrease speed\n",
            "4. add passengers\n",
            "5. remove passengers\n",
            "6. exit\n",
            "your call : 2\n",
            "speed : 231\n",
            "current status: color: rrrrrrrrrrrred, speed: 261, passengers: 30\n",
            "what do you want to do?\n",
            "1. set color\n",
            "2. increase speed\n",
            "3. decrease speed\n",
            "4. add passengers\n",
            "5. remove passengers\n",
            "6. exit\n",
            "your call : 3\n",
            "speed : 123123\n",
            "current status: color: rrrrrrrrrrrred, speed: 0, passengers: 30\n",
            "what do you want to do?\n",
            "1. set color\n",
            "2. increase speed\n",
            "3. decrease speed\n",
            "4. add passengers\n",
            "5. remove passengers\n",
            "6. exit\n",
            "your call : 4\n",
            "passengers : 123123\n"
          ]
        },
        {
          "output_type": "error",
          "ename": "AttributeError",
          "evalue": "'Spaceship' object has no attribute 'passenger'",
          "traceback": [
            "\u001b[0;31m---------------------------------------------------------------------------\u001b[0m",
            "\u001b[0;31mAttributeError\u001b[0m                            Traceback (most recent call last)",
            "\u001b[0;32m<ipython-input-287-313f9e65ffc8>\u001b[0m in \u001b[0;36m<cell line: 2>\u001b[0;34m()\u001b[0m\n\u001b[1;32m      1\u001b[0m \u001b[0mtest\u001b[0m \u001b[0;34m=\u001b[0m \u001b[0mSpaceship\u001b[0m\u001b[0;34m(\u001b[0m\u001b[0;34m\"red\"\u001b[0m\u001b[0;34m,\u001b[0m \u001b[0;36m30\u001b[0m\u001b[0;34m,\u001b[0m \u001b[0;36m30\u001b[0m\u001b[0;34m)\u001b[0m\u001b[0;34m\u001b[0m\u001b[0;34m\u001b[0m\u001b[0m\n\u001b[0;32m----> 2\u001b[0;31m \u001b[0mtest\u001b[0m\u001b[0;34m.\u001b[0m\u001b[0mos\u001b[0m\u001b[0;34m(\u001b[0m\u001b[0;34m)\u001b[0m\u001b[0;34m\u001b[0m\u001b[0;34m\u001b[0m\u001b[0m\n\u001b[0m",
            "\u001b[0;32m<ipython-input-285-56949bc6334b>\u001b[0m in \u001b[0;36mos\u001b[0;34m(self)\u001b[0m\n\u001b[1;32m     83\u001b[0m         \u001b[0;32melif\u001b[0m \u001b[0mcall\u001b[0m \u001b[0;34m==\u001b[0m \u001b[0;34m'4'\u001b[0m\u001b[0;34m:\u001b[0m\u001b[0;34m\u001b[0m\u001b[0;34m\u001b[0m\u001b[0m\n\u001b[1;32m     84\u001b[0m           \u001b[0mpassengers\u001b[0m \u001b[0;34m=\u001b[0m \u001b[0mint\u001b[0m\u001b[0;34m(\u001b[0m\u001b[0minput\u001b[0m\u001b[0;34m(\u001b[0m\u001b[0;34m\"passengers : \"\u001b[0m\u001b[0;34m)\u001b[0m\u001b[0;34m)\u001b[0m\u001b[0;34m\u001b[0m\u001b[0;34m\u001b[0m\u001b[0m\n\u001b[0;32m---> 85\u001b[0;31m           \u001b[0mself\u001b[0m\u001b[0;34m.\u001b[0m\u001b[0madd_passenger\u001b[0m\u001b[0;34m(\u001b[0m\u001b[0mpassengers\u001b[0m\u001b[0;34m)\u001b[0m\u001b[0;34m\u001b[0m\u001b[0;34m\u001b[0m\u001b[0m\n\u001b[0m\u001b[1;32m     86\u001b[0m \u001b[0;34m\u001b[0m\u001b[0m\n\u001b[1;32m     87\u001b[0m         \u001b[0;32melif\u001b[0m \u001b[0mcall\u001b[0m \u001b[0;34m==\u001b[0m \u001b[0;34m'5'\u001b[0m\u001b[0;34m:\u001b[0m\u001b[0;34m\u001b[0m\u001b[0;34m\u001b[0m\u001b[0m\n",
            "\u001b[0;32m<ipython-input-285-56949bc6334b>\u001b[0m in \u001b[0;36madd_passenger\u001b[0;34m(self, passengers)\u001b[0m\n\u001b[1;32m     25\u001b[0m \u001b[0;34m\u001b[0m\u001b[0m\n\u001b[1;32m     26\u001b[0m   \u001b[0;32mdef\u001b[0m \u001b[0madd_passenger\u001b[0m\u001b[0;34m(\u001b[0m\u001b[0mself\u001b[0m\u001b[0;34m,\u001b[0m \u001b[0mpassengers\u001b[0m\u001b[0;34m)\u001b[0m\u001b[0;34m:\u001b[0m\u001b[0;34m\u001b[0m\u001b[0;34m\u001b[0m\u001b[0m\n\u001b[0;32m---> 27\u001b[0;31m       \u001b[0mself\u001b[0m\u001b[0;34m.\u001b[0m\u001b[0mpassenger\u001b[0m \u001b[0;34m+=\u001b[0m \u001b[0mpassengers\u001b[0m\u001b[0;34m\u001b[0m\u001b[0;34m\u001b[0m\u001b[0m\n\u001b[0m\u001b[1;32m     28\u001b[0m       \u001b[0;32mreturn\u001b[0m\u001b[0;34m(\u001b[0m\u001b[0;34mf\"changed spacsship passengers are : {self.passengers}\"\u001b[0m\u001b[0;34m)\u001b[0m\u001b[0;34m\u001b[0m\u001b[0;34m\u001b[0m\u001b[0m\n\u001b[1;32m     29\u001b[0m \u001b[0;34m\u001b[0m\u001b[0m\n",
            "\u001b[0;31mAttributeError\u001b[0m: 'Spaceship' object has no attribute 'passenger'"
          ]
        }
      ]
    },
    {
      "cell_type": "code",
      "source": [],
      "metadata": {
        "id": "0cYRUbqohjqP"
      },
      "execution_count": null,
      "outputs": []
    }
  ]
}