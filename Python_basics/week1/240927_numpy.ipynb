{
  "nbformat": 4,
  "nbformat_minor": 0,
  "metadata": {
    "colab": {
      "provenance": [],
      "toc_visible": true
    },
    "kernelspec": {
      "name": "python3",
      "display_name": "Python 3"
    },
    "language_info": {
      "name": "python"
    }
  },
  "cells": [
    {
      "cell_type": "markdown",
      "source": [
        "# 넘파이"
      ],
      "metadata": {
        "id": "-jVKJgzR3Lu0"
      }
    },
    {
      "cell_type": "markdown",
      "source": [
        "## 라이브러리\n"
      ],
      "metadata": {
        "id": "XXNFUTgW3RtL"
      }
    },
    {
      "cell_type": "code",
      "source": [
        "# 라이브러리 다운로드\n",
        "# 라이브러리가 설치되는 경로도 잘 살펴보기\n",
        "# !pip install numpy"
      ],
      "metadata": {
        "id": "-AiUmUkS9Cci"
      },
      "execution_count": null,
      "outputs": []
    },
    {
      "cell_type": "code",
      "source": [
        "import numpy as np\n",
        "import pandas as pd\n",
        "import matplotlib as plt\n",
        "import seaborn as sns\n",
        "\n",
        "print(np.__version__)\n",
        "#help(np)"
      ],
      "metadata": {
        "colab": {
          "base_uri": "https://localhost:8080/"
        },
        "id": "fB-KYmDb8tcq",
        "outputId": "2dca77ba-ce60-4d63-cfec-faa68dc80462"
      },
      "execution_count": null,
      "outputs": [
        {
          "output_type": "stream",
          "name": "stdout",
          "text": [
            "1.26.4\n"
          ]
        }
      ]
    },
    {
      "cell_type": "code",
      "source": [
        "num1 = [1,2,3]\n",
        "num2 = [4,5,6]\n",
        "\n",
        "res = []\n",
        "\n",
        "for i in range(3):\n",
        "\ta = num1[i] + num2[i]\n",
        "\tres.append(a)\n",
        "\n",
        "print(res)"
      ],
      "metadata": {
        "colab": {
          "base_uri": "https://localhost:8080/"
        },
        "id": "TDT567nd_r6e",
        "outputId": "f696daa2-b247-4817-cd6e-d01d53f887fe"
      },
      "execution_count": null,
      "outputs": [
        {
          "output_type": "stream",
          "name": "stdout",
          "text": [
            "[5, 7, 9]\n"
          ]
        }
      ]
    },
    {
      "cell_type": "code",
      "source": [
        "num1 = [1,2,3]\n",
        "num2 = [4,5,6]\n",
        "\n",
        "ls1 = np.array(num1)\n",
        "ls2 = np.array(num2)\n",
        "\n",
        "print(ls1 + ls2)"
      ],
      "metadata": {
        "colab": {
          "base_uri": "https://localhost:8080/"
        },
        "id": "O6jAkDBA-K0A",
        "outputId": "5174157d-8067-459a-fccb-7d7ed50a5c8e"
      },
      "execution_count": null,
      "outputs": [
        {
          "output_type": "stream",
          "name": "stdout",
          "text": [
            "[5 7 9]\n"
          ]
        }
      ]
    },
    {
      "cell_type": "code",
      "source": [
        "# 회사에서 다루는 데이터가 0원~100만원 미만이라면\n",
        "arr = np.array(num1, dtype = \"int8\")\n",
        "arr.dtype"
      ],
      "metadata": {
        "colab": {
          "base_uri": "https://localhost:8080/"
        },
        "id": "Tqlueo4yCwdQ",
        "outputId": "13c8ce91-e9ef-4449-cce3-5fbc44fd2416"
      },
      "execution_count": null,
      "outputs": [
        {
          "output_type": "execute_result",
          "data": {
            "text/plain": [
              "dtype('int8')"
            ]
          },
          "metadata": {},
          "execution_count": 28
        }
      ]
    },
    {
      "cell_type": "markdown",
      "source": [
        "## 행렬을 만드는 다양한 방법"
      ],
      "metadata": {
        "id": "lPdINeNUCkOF"
      }
    },
    {
      "cell_type": "code",
      "source": [
        "# 기본적으로 다른 데이터 자료형을 nupy의 array형태로 변화를 해 준다.\n",
        "\n",
        "z_arr = np.zeros([3,3])\n",
        "print(z_arr)\n",
        "\n",
        "a_arr = np.ndarray(shape = (2,2), dtype = 'float')\n",
        "print(a_arr)"
      ],
      "metadata": {
        "colab": {
          "base_uri": "https://localhost:8080/"
        },
        "id": "V_N0n45SG42Z",
        "outputId": "0d8aead1-b43c-4e49-c4bd-27ece3012548"
      },
      "execution_count": null,
      "outputs": [
        {
          "output_type": "stream",
          "name": "stdout",
          "text": [
            "[[0. 0. 0.]\n",
            " [0. 0. 0.]\n",
            " [0. 0. 0.]]\n",
            "[[-117.125   -4.   ]\n",
            " [ 117.125   14.   ]]\n"
          ]
        }
      ]
    },
    {
      "cell_type": "code",
      "source": [
        "tmp_l = np.arange(16) # 0부터 n-1까지 생성하는 메서드\n",
        "tmp = tmp_l.reshape(4,4) # 하나의 행을 행렬로 만드는 메서드\n",
        "tmp2 = np.reshape(tmp_l,(4,4),order = 'F') # 수평이 아닌 수직으로 값을 넣을 때\n",
        "tmp\n",
        "#tmp2"
      ],
      "metadata": {
        "id": "31kalaBwHR4t",
        "colab": {
          "base_uri": "https://localhost:8080/"
        },
        "outputId": "7d0c7dae-575b-486b-876c-fc0ead9b0089"
      },
      "execution_count": 53,
      "outputs": [
        {
          "output_type": "execute_result",
          "data": {
            "text/plain": [
              "array([[ 0,  1,  2,  3],\n",
              "       [ 4,  5,  6,  7],\n",
              "       [ 8,  9, 10, 11],\n",
              "       [12, 13, 14, 15]])"
            ]
          },
          "metadata": {},
          "execution_count": 53
        }
      ]
    },
    {
      "cell_type": "code",
      "source": [
        "a16 = np.array((1.333333), dtype = np.float16)\n",
        "a32 = np.array((1.333333), dtype = np.float32)\n",
        "\n",
        "print(a16, a32, '\\n', a16/3, a32/3)"
      ],
      "metadata": {
        "colab": {
          "base_uri": "https://localhost:8080/"
        },
        "id": "S7UfC6E7IWXZ",
        "outputId": "7b7fd32b-f247-4c02-e361-3af7fe16981c"
      },
      "execution_count": 54,
      "outputs": [
        {
          "output_type": "stream",
          "name": "stdout",
          "text": [
            "1.333 1.333333 \n",
            " 0.4443359375 0.44444433848063153\n"
          ]
        }
      ]
    },
    {
      "cell_type": "code",
      "source": [
        "z = np.identity(8); z"
      ],
      "metadata": {
        "colab": {
          "base_uri": "https://localhost:8080/"
        },
        "id": "Jsn31RPnNWmG",
        "outputId": "d43dde99-d217-4f63-8e56-5afbd98d18a5"
      },
      "execution_count": 59,
      "outputs": [
        {
          "output_type": "execute_result",
          "data": {
            "text/plain": [
              "array([[1., 0., 0., 0., 0., 0., 0., 0.],\n",
              "       [0., 1., 0., 0., 0., 0., 0., 0.],\n",
              "       [0., 0., 1., 0., 0., 0., 0., 0.],\n",
              "       [0., 0., 0., 1., 0., 0., 0., 0.],\n",
              "       [0., 0., 0., 0., 1., 0., 0., 0.],\n",
              "       [0., 0., 0., 0., 0., 1., 0., 0.],\n",
              "       [0., 0., 0., 0., 0., 0., 1., 0.],\n",
              "       [0., 0., 0., 0., 0., 0., 0., 1.]])"
            ]
          },
          "metadata": {},
          "execution_count": 59
        }
      ]
    },
    {
      "cell_type": "markdown",
      "source": [
        "## 결측치 처리"
      ],
      "metadata": {
        "id": "ecnX7CJ6Jn08"
      }
    },
    {
      "cell_type": "code",
      "source": [
        "print(type(np.NaN), type(np.inf))"
      ],
      "metadata": {
        "colab": {
          "base_uri": "https://localhost:8080/"
        },
        "id": "-W4Wv5rvLE-i",
        "outputId": "621e3fe7-b9fa-43e5-a412-896f2746b565"
      },
      "execution_count": 55,
      "outputs": [
        {
          "output_type": "stream",
          "name": "stdout",
          "text": [
            "<class 'float'> <class 'float'>\n"
          ]
        }
      ]
    },
    {
      "cell_type": "code",
      "source": [
        "arr = np.array([2,55,64])\n",
        "\n",
        "print(arr * np.NaN)\n",
        "print(arr * np.inf)"
      ],
      "metadata": {
        "colab": {
          "base_uri": "https://localhost:8080/"
        },
        "id": "yOMiE7m1Lz-V",
        "outputId": "5843f6be-d555-4282-ed0f-72059a0fd100"
      },
      "execution_count": 56,
      "outputs": [
        {
          "output_type": "stream",
          "name": "stdout",
          "text": [
            "[nan nan nan]\n",
            "[inf inf inf]\n"
          ]
        }
      ]
    },
    {
      "cell_type": "code",
      "source": [],
      "metadata": {
        "id": "RnvvG5SjL88O"
      },
      "execution_count": null,
      "outputs": []
    },
    {
      "cell_type": "markdown",
      "source": [
        "## 인덱싱 & 슬라이싱"
      ],
      "metadata": {
        "id": "Aj9rM1-XSqsC"
      }
    },
    {
      "cell_type": "code",
      "source": [
        "arr = np.arange(10)\n",
        "arr[1:5]"
      ],
      "metadata": {
        "colab": {
          "base_uri": "https://localhost:8080/"
        },
        "id": "UG-kgVssStZv",
        "outputId": "a9b0b52c-a372-4cba-e68d-4f97fe8af018"
      },
      "execution_count": 62,
      "outputs": [
        {
          "output_type": "execute_result",
          "data": {
            "text/plain": [
              "array([1, 2, 3, 4])"
            ]
          },
          "metadata": {},
          "execution_count": 62
        }
      ]
    },
    {
      "cell_type": "code",
      "source": [
        "arr = np.arange(10000).reshape([200,50],order=\"F\")\n",
        "arr[0:4][3:6]"
      ],
      "metadata": {
        "colab": {
          "base_uri": "https://localhost:8080/"
        },
        "id": "rB5uOYANSv6M",
        "outputId": "b225153f-1145-43da-ecb3-e36f51981bd9"
      },
      "execution_count": 71,
      "outputs": [
        {
          "output_type": "execute_result",
          "data": {
            "text/plain": [
              "array([[   3,  203,  403,  603,  803, 1003, 1203, 1403, 1603, 1803, 2003,\n",
              "        2203, 2403, 2603, 2803, 3003, 3203, 3403, 3603, 3803, 4003, 4203,\n",
              "        4403, 4603, 4803, 5003, 5203, 5403, 5603, 5803, 6003, 6203, 6403,\n",
              "        6603, 6803, 7003, 7203, 7403, 7603, 7803, 8003, 8203, 8403, 8603,\n",
              "        8803, 9003, 9203, 9403, 9603, 9803]])"
            ]
          },
          "metadata": {},
          "execution_count": 71
        }
      ]
    },
    {
      "cell_type": "code",
      "source": [
        "arr = np.arange(20).reshape([4,5])\n",
        "arr[1:4, 2:5]"
      ],
      "metadata": {
        "colab": {
          "base_uri": "https://localhost:8080/"
        },
        "id": "3qjZHrupS6Jx",
        "outputId": "d7f0aa83-8a18-4b69-ec1c-44ff12c1be01"
      },
      "execution_count": 79,
      "outputs": [
        {
          "output_type": "execute_result",
          "data": {
            "text/plain": [
              "array([[ 7,  8,  9],\n",
              "       [12, 13, 14],\n",
              "       [17, 18, 19]])"
            ]
          },
          "metadata": {},
          "execution_count": 79
        }
      ]
    },
    {
      "cell_type": "markdown",
      "source": [
        "## 브로드캐스팅 연산"
      ],
      "metadata": {
        "id": "TSkOObgLVP_A"
      }
    },
    {
      "cell_type": "code",
      "source": [
        "a = np.array([1,2,3])\n",
        "b = np.array([4,5,6])\n",
        "\n",
        "a + b"
      ],
      "metadata": {
        "colab": {
          "base_uri": "https://localhost:8080/"
        },
        "id": "H-ibUhIFXTyV",
        "outputId": "88036c2a-75e1-45ad-ab33-68432e91958a"
      },
      "execution_count": 80,
      "outputs": [
        {
          "output_type": "execute_result",
          "data": {
            "text/plain": [
              "array([5, 7, 9])"
            ]
          },
          "metadata": {},
          "execution_count": 80
        }
      ]
    },
    {
      "cell_type": "code",
      "source": [
        "a = np.array([1,2,3])\n",
        "bb = 3\n",
        "\n",
        "# bb를 자동으로 늘려 1*3의 array로 만들어 준 다음 계산한다!\n",
        "a + bb"
      ],
      "metadata": {
        "colab": {
          "base_uri": "https://localhost:8080/"
        },
        "id": "Tob3ftRCXcdJ",
        "outputId": "fa67ffc6-8d6e-46d1-fb24-88202c3d5f6d"
      },
      "execution_count": 82,
      "outputs": [
        {
          "output_type": "execute_result",
          "data": {
            "text/plain": [
              "array([4, 5, 6])"
            ]
          },
          "metadata": {},
          "execution_count": 82
        }
      ]
    },
    {
      "cell_type": "markdown",
      "source": [
        "## 조건 연산\n",
        "\n",
        "- 원하는 결괏값은 T/F\n",
        "- 조회되는 값은 True뿐만이다!"
      ],
      "metadata": {
        "id": "Xqj1tHieXjwe"
      }
    },
    {
      "cell_type": "code",
      "source": [
        "arr = np.array([10,20,30,40,50])\n",
        "\n",
        "arr > 10"
      ],
      "metadata": {
        "colab": {
          "base_uri": "https://localhost:8080/"
        },
        "id": "m5JWf5tMpF0D",
        "outputId": "34cc799e-4c81-4288-a38c-c9c75ae2071f"
      },
      "execution_count": 83,
      "outputs": [
        {
          "output_type": "execute_result",
          "data": {
            "text/plain": [
              "array([False,  True,  True,  True,  True])"
            ]
          },
          "metadata": {},
          "execution_count": 83
        }
      ]
    },
    {
      "cell_type": "code",
      "source": [
        "arr = np.array([10,20,30,40,50,60])\n",
        "cond = [False, True, True, False, False, True]\n",
        "\n",
        "arr[cond]"
      ],
      "metadata": {
        "colab": {
          "base_uri": "https://localhost:8080/"
        },
        "id": "2R8HUbx5smGK",
        "outputId": "5ee261db-af4b-420d-97f6-4e24d9df058c"
      },
      "execution_count": 84,
      "outputs": [
        {
          "output_type": "execute_result",
          "data": {
            "text/plain": [
              "array([20, 30, 60])"
            ]
          },
          "metadata": {},
          "execution_count": 84
        }
      ]
    },
    {
      "cell_type": "code",
      "source": [
        "customers = np.array([18,20,17,73,13,33,27])\n",
        "cond1 = customers >= 18\n",
        "cond2 = customers <= 30\n",
        "\n",
        "#customers[cond1]\n",
        "#customers[customers >= 18]\n",
        "#customers[cond1 & cond2]\n",
        "#customers[cond1 | cond2]"
      ],
      "metadata": {
        "colab": {
          "base_uri": "https://localhost:8080/"
        },
        "id": "ii_9SLiWtTs5",
        "outputId": "39969ddd-5d20-4810-8b70-9fc927c2d91b"
      },
      "execution_count": 89,
      "outputs": [
        {
          "output_type": "execute_result",
          "data": {
            "text/plain": [
              "array([18, 20, 17, 73, 13, 33, 27])"
            ]
          },
          "metadata": {},
          "execution_count": 89
        }
      ]
    },
    {
      "cell_type": "code",
      "source": [
        "# 권장사항 - pandas 다중조건 필터링 할때 소괄호를 활용한 방법만 가능함.\n",
        "customers[(cond1 & cond2)]"
      ],
      "metadata": {
        "colab": {
          "base_uri": "https://localhost:8080/"
        },
        "id": "3LWHQu0ru5pY",
        "outputId": "9a287bab-4fc5-485e-e179-3088c920bf25"
      },
      "execution_count": 92,
      "outputs": [
        {
          "output_type": "execute_result",
          "data": {
            "text/plain": [
              "array([18, 20, 27])"
            ]
          },
          "metadata": {},
          "execution_count": 92
        }
      ]
    },
    {
      "cell_type": "markdown",
      "source": [
        "## where 문"
      ],
      "metadata": {
        "id": "xUqB7aVSzNFe"
      }
    },
    {
      "cell_type": "code",
      "source": [
        "# where 문\n",
        "\n",
        "a = np.arange(10)\n",
        "np.where(a<5, a, 10*a)\n"
      ],
      "metadata": {
        "colab": {
          "base_uri": "https://localhost:8080/"
        },
        "id": "rGoG2kNPwh82",
        "outputId": "100c17db-ad28-46c3-d22d-104bd8600227"
      },
      "execution_count": 96,
      "outputs": [
        {
          "output_type": "execute_result",
          "data": {
            "text/plain": [
              "array([ 0,  1,  2,  3,  4, 50, 60, 70, 80, 90])"
            ]
          },
          "metadata": {},
          "execution_count": 96
        }
      ]
    },
    {
      "cell_type": "markdown",
      "source": [
        "## 함수와 메서드"
      ],
      "metadata": {
        "id": "9VAAi4EqzPnT"
      }
    },
    {
      "cell_type": "code",
      "source": [
        "arr = np.arange(8).reshape(2,4)\n",
        "\n",
        "a = arr.sum(axis = None) # 전체의 값을 구한다 (기본값)\n",
        "b = arr.sum(axis = 0) # 행 단위로의 합을 구한다\n",
        "c = arr.sum(axis = 1) # 열 단위로의 합을 구한다\n",
        "\n",
        "print(a,b,c)"
      ],
      "metadata": {
        "colab": {
          "base_uri": "https://localhost:8080/"
        },
        "id": "teXM32bayc9d",
        "outputId": "ebdc9ddf-c3de-4033-aa9b-ab8aeb9b4a3d"
      },
      "execution_count": 103,
      "outputs": [
        {
          "output_type": "stream",
          "name": "stdout",
          "text": [
            "28 [ 4  6  8 10] [ 6 22]\n"
          ]
        }
      ]
    },
    {
      "cell_type": "code",
      "source": [
        "# 랜덤변수 생성\n",
        "\n",
        "#np.random.seed(66) # 머신러닝할때 환경을 통제할 때 쓰임(출력 값 고정)\n",
        "np.random.randint(64, size = 10)\n",
        "np.random.normal(loc=0, scale=1, size=[3,5])"
      ],
      "metadata": {
        "colab": {
          "base_uri": "https://localhost:8080/"
        },
        "id": "jreya2TlzX9y",
        "outputId": "9339a33f-b573-4ad1-c7f4-ec7e6478d1ce"
      },
      "execution_count": 117,
      "outputs": [
        {
          "output_type": "execute_result",
          "data": {
            "text/plain": [
              "array([[-0.63015898, -0.38777669, -0.73541329, -0.91158815, -0.59036246],\n",
              "       [ 0.35179999,  0.49205953, -0.81832052,  0.22927694,  0.46892752],\n",
              "       [ 0.24406963,  0.26840837,  0.60147824,  1.07249845, -0.93241001]])"
            ]
          },
          "metadata": {},
          "execution_count": 117
        }
      ]
    },
    {
      "cell_type": "code",
      "source": [
        "# 등차행렬 생성\n",
        "\n",
        "a = np.linspace(0,273,10)\n",
        "print(a)"
      ],
      "metadata": {
        "colab": {
          "base_uri": "https://localhost:8080/"
        },
        "id": "xe1J7Ynp0k4A",
        "outputId": "092ff239-d48c-4a14-c222-e36786731d92"
      },
      "execution_count": 122,
      "outputs": [
        {
          "output_type": "stream",
          "name": "stdout",
          "text": [
            "[  0.          30.33333333  60.66666667  91.         121.33333333\n",
            " 151.66666667 182.         212.33333333 242.66666667 273.        ]\n"
          ]
        }
      ]
    },
    {
      "cell_type": "markdown",
      "source": [
        "# 판다스\n"
      ],
      "metadata": {
        "id": "uzxWIVIf6_PW"
      }
    },
    {
      "cell_type": "markdown",
      "source": [
        "## Series"
      ],
      "metadata": {
        "id": "OehccEss6_MJ"
      }
    },
    {
      "cell_type": "code",
      "source": [
        "import pandas as pd\n",
        "pd.__version__"
      ],
      "metadata": {
        "colab": {
          "base_uri": "https://localhost:8080/",
          "height": 35
        },
        "id": "4dRRCMz57D66",
        "outputId": "74002062-cd97-40e6-e259-e913b0937d9a"
      },
      "execution_count": 129,
      "outputs": [
        {
          "output_type": "execute_result",
          "data": {
            "text/plain": [
              "'2.1.4'"
            ],
            "application/vnd.google.colaboratory.intrinsic+json": {
              "type": "string"
            }
          },
          "metadata": {},
          "execution_count": 129
        }
      ]
    },
    {
      "cell_type": "code",
      "source": [
        "data = [10, 20, 30]\n",
        "Series = pd.Series(data)\n",
        "Series"
      ],
      "metadata": {
        "colab": {
          "base_uri": "https://localhost:8080/",
          "height": 178
        },
        "id": "pj_I_nG_7IJH",
        "outputId": "95013846-2598-4ea3-b503-3fe68e6e61f1"
      },
      "execution_count": 130,
      "outputs": [
        {
          "output_type": "execute_result",
          "data": {
            "text/plain": [
              "0    10\n",
              "1    20\n",
              "2    30\n",
              "dtype: int64"
            ],
            "text/html": [
              "<div>\n",
              "<style scoped>\n",
              "    .dataframe tbody tr th:only-of-type {\n",
              "        vertical-align: middle;\n",
              "    }\n",
              "\n",
              "    .dataframe tbody tr th {\n",
              "        vertical-align: top;\n",
              "    }\n",
              "\n",
              "    .dataframe thead th {\n",
              "        text-align: right;\n",
              "    }\n",
              "</style>\n",
              "<table border=\"1\" class=\"dataframe\">\n",
              "  <thead>\n",
              "    <tr style=\"text-align: right;\">\n",
              "      <th></th>\n",
              "      <th>0</th>\n",
              "    </tr>\n",
              "  </thead>\n",
              "  <tbody>\n",
              "    <tr>\n",
              "      <th>0</th>\n",
              "      <td>10</td>\n",
              "    </tr>\n",
              "    <tr>\n",
              "      <th>1</th>\n",
              "      <td>20</td>\n",
              "    </tr>\n",
              "    <tr>\n",
              "      <th>2</th>\n",
              "      <td>30</td>\n",
              "    </tr>\n",
              "  </tbody>\n",
              "</table>\n",
              "</div><br><label><b>dtype:</b> int64</label>"
            ]
          },
          "metadata": {},
          "execution_count": 130
        }
      ]
    },
    {
      "cell_type": "code",
      "source": [
        "print(type(Series))"
      ],
      "metadata": {
        "colab": {
          "base_uri": "https://localhost:8080/"
        },
        "id": "tF1cYjEl7cJA",
        "outputId": "273c4c25-99c2-45d7-f52c-68abf084a5d8"
      },
      "execution_count": 131,
      "outputs": [
        {
          "output_type": "stream",
          "name": "stdout",
          "text": [
            "<class 'pandas.core.series.Series'>\n"
          ]
        }
      ]
    },
    {
      "cell_type": "code",
      "source": [
        "data = [\"시가\", \"고가\"]\n",
        "s = pd.Series(data)\n",
        "s = pd.DataFrame(s); s.columns = [\"비싼가?\"]; s"
      ],
      "metadata": {
        "colab": {
          "base_uri": "https://localhost:8080/",
          "height": 125
        },
        "id": "EQmrrRiH_TDz",
        "outputId": "85982e96-27d6-4414-aeef-40276e91da38"
      },
      "execution_count": 141,
      "outputs": [
        {
          "output_type": "execute_result",
          "data": {
            "text/plain": [
              "  비싼가?\n",
              "0   시가\n",
              "1   고가"
            ],
            "text/html": [
              "\n",
              "  <div id=\"df-e037286d-238e-4906-a4c2-2bfe6c618a14\" class=\"colab-df-container\">\n",
              "    <div>\n",
              "<style scoped>\n",
              "    .dataframe tbody tr th:only-of-type {\n",
              "        vertical-align: middle;\n",
              "    }\n",
              "\n",
              "    .dataframe tbody tr th {\n",
              "        vertical-align: top;\n",
              "    }\n",
              "\n",
              "    .dataframe thead th {\n",
              "        text-align: right;\n",
              "    }\n",
              "</style>\n",
              "<table border=\"1\" class=\"dataframe\">\n",
              "  <thead>\n",
              "    <tr style=\"text-align: right;\">\n",
              "      <th></th>\n",
              "      <th>비싼가?</th>\n",
              "    </tr>\n",
              "  </thead>\n",
              "  <tbody>\n",
              "    <tr>\n",
              "      <th>0</th>\n",
              "      <td>시가</td>\n",
              "    </tr>\n",
              "    <tr>\n",
              "      <th>1</th>\n",
              "      <td>고가</td>\n",
              "    </tr>\n",
              "  </tbody>\n",
              "</table>\n",
              "</div>\n",
              "    <div class=\"colab-df-buttons\">\n",
              "\n",
              "  <div class=\"colab-df-container\">\n",
              "    <button class=\"colab-df-convert\" onclick=\"convertToInteractive('df-e037286d-238e-4906-a4c2-2bfe6c618a14')\"\n",
              "            title=\"Convert this dataframe to an interactive table.\"\n",
              "            style=\"display:none;\">\n",
              "\n",
              "  <svg xmlns=\"http://www.w3.org/2000/svg\" height=\"24px\" viewBox=\"0 -960 960 960\">\n",
              "    <path d=\"M120-120v-720h720v720H120Zm60-500h600v-160H180v160Zm220 220h160v-160H400v160Zm0 220h160v-160H400v160ZM180-400h160v-160H180v160Zm440 0h160v-160H620v160ZM180-180h160v-160H180v160Zm440 0h160v-160H620v160Z\"/>\n",
              "  </svg>\n",
              "    </button>\n",
              "\n",
              "  <style>\n",
              "    .colab-df-container {\n",
              "      display:flex;\n",
              "      gap: 12px;\n",
              "    }\n",
              "\n",
              "    .colab-df-convert {\n",
              "      background-color: #E8F0FE;\n",
              "      border: none;\n",
              "      border-radius: 50%;\n",
              "      cursor: pointer;\n",
              "      display: none;\n",
              "      fill: #1967D2;\n",
              "      height: 32px;\n",
              "      padding: 0 0 0 0;\n",
              "      width: 32px;\n",
              "    }\n",
              "\n",
              "    .colab-df-convert:hover {\n",
              "      background-color: #E2EBFA;\n",
              "      box-shadow: 0px 1px 2px rgba(60, 64, 67, 0.3), 0px 1px 3px 1px rgba(60, 64, 67, 0.15);\n",
              "      fill: #174EA6;\n",
              "    }\n",
              "\n",
              "    .colab-df-buttons div {\n",
              "      margin-bottom: 4px;\n",
              "    }\n",
              "\n",
              "    [theme=dark] .colab-df-convert {\n",
              "      background-color: #3B4455;\n",
              "      fill: #D2E3FC;\n",
              "    }\n",
              "\n",
              "    [theme=dark] .colab-df-convert:hover {\n",
              "      background-color: #434B5C;\n",
              "      box-shadow: 0px 1px 3px 1px rgba(0, 0, 0, 0.15);\n",
              "      filter: drop-shadow(0px 1px 2px rgba(0, 0, 0, 0.3));\n",
              "      fill: #FFFFFF;\n",
              "    }\n",
              "  </style>\n",
              "\n",
              "    <script>\n",
              "      const buttonEl =\n",
              "        document.querySelector('#df-e037286d-238e-4906-a4c2-2bfe6c618a14 button.colab-df-convert');\n",
              "      buttonEl.style.display =\n",
              "        google.colab.kernel.accessAllowed ? 'block' : 'none';\n",
              "\n",
              "      async function convertToInteractive(key) {\n",
              "        const element = document.querySelector('#df-e037286d-238e-4906-a4c2-2bfe6c618a14');\n",
              "        const dataTable =\n",
              "          await google.colab.kernel.invokeFunction('convertToInteractive',\n",
              "                                                    [key], {});\n",
              "        if (!dataTable) return;\n",
              "\n",
              "        const docLinkHtml = 'Like what you see? Visit the ' +\n",
              "          '<a target=\"_blank\" href=https://colab.research.google.com/notebooks/data_table.ipynb>data table notebook</a>'\n",
              "          + ' to learn more about interactive tables.';\n",
              "        element.innerHTML = '';\n",
              "        dataTable['output_type'] = 'display_data';\n",
              "        await google.colab.output.renderOutput(dataTable, element);\n",
              "        const docLink = document.createElement('div');\n",
              "        docLink.innerHTML = docLinkHtml;\n",
              "        element.appendChild(docLink);\n",
              "      }\n",
              "    </script>\n",
              "  </div>\n",
              "\n",
              "\n",
              "<div id=\"df-9f662c94-15d8-4ee4-8804-6d951209846c\">\n",
              "  <button class=\"colab-df-quickchart\" onclick=\"quickchart('df-9f662c94-15d8-4ee4-8804-6d951209846c')\"\n",
              "            title=\"Suggest charts\"\n",
              "            style=\"display:none;\">\n",
              "\n",
              "<svg xmlns=\"http://www.w3.org/2000/svg\" height=\"24px\"viewBox=\"0 0 24 24\"\n",
              "     width=\"24px\">\n",
              "    <g>\n",
              "        <path d=\"M19 3H5c-1.1 0-2 .9-2 2v14c0 1.1.9 2 2 2h14c1.1 0 2-.9 2-2V5c0-1.1-.9-2-2-2zM9 17H7v-7h2v7zm4 0h-2V7h2v10zm4 0h-2v-4h2v4z\"/>\n",
              "    </g>\n",
              "</svg>\n",
              "  </button>\n",
              "\n",
              "<style>\n",
              "  .colab-df-quickchart {\n",
              "      --bg-color: #E8F0FE;\n",
              "      --fill-color: #1967D2;\n",
              "      --hover-bg-color: #E2EBFA;\n",
              "      --hover-fill-color: #174EA6;\n",
              "      --disabled-fill-color: #AAA;\n",
              "      --disabled-bg-color: #DDD;\n",
              "  }\n",
              "\n",
              "  [theme=dark] .colab-df-quickchart {\n",
              "      --bg-color: #3B4455;\n",
              "      --fill-color: #D2E3FC;\n",
              "      --hover-bg-color: #434B5C;\n",
              "      --hover-fill-color: #FFFFFF;\n",
              "      --disabled-bg-color: #3B4455;\n",
              "      --disabled-fill-color: #666;\n",
              "  }\n",
              "\n",
              "  .colab-df-quickchart {\n",
              "    background-color: var(--bg-color);\n",
              "    border: none;\n",
              "    border-radius: 50%;\n",
              "    cursor: pointer;\n",
              "    display: none;\n",
              "    fill: var(--fill-color);\n",
              "    height: 32px;\n",
              "    padding: 0;\n",
              "    width: 32px;\n",
              "  }\n",
              "\n",
              "  .colab-df-quickchart:hover {\n",
              "    background-color: var(--hover-bg-color);\n",
              "    box-shadow: 0 1px 2px rgba(60, 64, 67, 0.3), 0 1px 3px 1px rgba(60, 64, 67, 0.15);\n",
              "    fill: var(--button-hover-fill-color);\n",
              "  }\n",
              "\n",
              "  .colab-df-quickchart-complete:disabled,\n",
              "  .colab-df-quickchart-complete:disabled:hover {\n",
              "    background-color: var(--disabled-bg-color);\n",
              "    fill: var(--disabled-fill-color);\n",
              "    box-shadow: none;\n",
              "  }\n",
              "\n",
              "  .colab-df-spinner {\n",
              "    border: 2px solid var(--fill-color);\n",
              "    border-color: transparent;\n",
              "    border-bottom-color: var(--fill-color);\n",
              "    animation:\n",
              "      spin 1s steps(1) infinite;\n",
              "  }\n",
              "\n",
              "  @keyframes spin {\n",
              "    0% {\n",
              "      border-color: transparent;\n",
              "      border-bottom-color: var(--fill-color);\n",
              "      border-left-color: var(--fill-color);\n",
              "    }\n",
              "    20% {\n",
              "      border-color: transparent;\n",
              "      border-left-color: var(--fill-color);\n",
              "      border-top-color: var(--fill-color);\n",
              "    }\n",
              "    30% {\n",
              "      border-color: transparent;\n",
              "      border-left-color: var(--fill-color);\n",
              "      border-top-color: var(--fill-color);\n",
              "      border-right-color: var(--fill-color);\n",
              "    }\n",
              "    40% {\n",
              "      border-color: transparent;\n",
              "      border-right-color: var(--fill-color);\n",
              "      border-top-color: var(--fill-color);\n",
              "    }\n",
              "    60% {\n",
              "      border-color: transparent;\n",
              "      border-right-color: var(--fill-color);\n",
              "    }\n",
              "    80% {\n",
              "      border-color: transparent;\n",
              "      border-right-color: var(--fill-color);\n",
              "      border-bottom-color: var(--fill-color);\n",
              "    }\n",
              "    90% {\n",
              "      border-color: transparent;\n",
              "      border-bottom-color: var(--fill-color);\n",
              "    }\n",
              "  }\n",
              "</style>\n",
              "\n",
              "  <script>\n",
              "    async function quickchart(key) {\n",
              "      const quickchartButtonEl =\n",
              "        document.querySelector('#' + key + ' button');\n",
              "      quickchartButtonEl.disabled = true;  // To prevent multiple clicks.\n",
              "      quickchartButtonEl.classList.add('colab-df-spinner');\n",
              "      try {\n",
              "        const charts = await google.colab.kernel.invokeFunction(\n",
              "            'suggestCharts', [key], {});\n",
              "      } catch (error) {\n",
              "        console.error('Error during call to suggestCharts:', error);\n",
              "      }\n",
              "      quickchartButtonEl.classList.remove('colab-df-spinner');\n",
              "      quickchartButtonEl.classList.add('colab-df-quickchart-complete');\n",
              "    }\n",
              "    (() => {\n",
              "      let quickchartButtonEl =\n",
              "        document.querySelector('#df-9f662c94-15d8-4ee4-8804-6d951209846c button');\n",
              "      quickchartButtonEl.style.display =\n",
              "        google.colab.kernel.accessAllowed ? 'block' : 'none';\n",
              "    })();\n",
              "  </script>\n",
              "</div>\n",
              "\n",
              "  <div id=\"id_53ff7b21-81a1-4b02-8338-29823e6e70ad\">\n",
              "    <style>\n",
              "      .colab-df-generate {\n",
              "        background-color: #E8F0FE;\n",
              "        border: none;\n",
              "        border-radius: 50%;\n",
              "        cursor: pointer;\n",
              "        display: none;\n",
              "        fill: #1967D2;\n",
              "        height: 32px;\n",
              "        padding: 0 0 0 0;\n",
              "        width: 32px;\n",
              "      }\n",
              "\n",
              "      .colab-df-generate:hover {\n",
              "        background-color: #E2EBFA;\n",
              "        box-shadow: 0px 1px 2px rgba(60, 64, 67, 0.3), 0px 1px 3px 1px rgba(60, 64, 67, 0.15);\n",
              "        fill: #174EA6;\n",
              "      }\n",
              "\n",
              "      [theme=dark] .colab-df-generate {\n",
              "        background-color: #3B4455;\n",
              "        fill: #D2E3FC;\n",
              "      }\n",
              "\n",
              "      [theme=dark] .colab-df-generate:hover {\n",
              "        background-color: #434B5C;\n",
              "        box-shadow: 0px 1px 3px 1px rgba(0, 0, 0, 0.15);\n",
              "        filter: drop-shadow(0px 1px 2px rgba(0, 0, 0, 0.3));\n",
              "        fill: #FFFFFF;\n",
              "      }\n",
              "    </style>\n",
              "    <button class=\"colab-df-generate\" onclick=\"generateWithVariable('s')\"\n",
              "            title=\"Generate code using this dataframe.\"\n",
              "            style=\"display:none;\">\n",
              "\n",
              "  <svg xmlns=\"http://www.w3.org/2000/svg\" height=\"24px\"viewBox=\"0 0 24 24\"\n",
              "       width=\"24px\">\n",
              "    <path d=\"M7,19H8.4L18.45,9,17,7.55,7,17.6ZM5,21V16.75L18.45,3.32a2,2,0,0,1,2.83,0l1.4,1.43a1.91,1.91,0,0,1,.58,1.4,1.91,1.91,0,0,1-.58,1.4L9.25,21ZM18.45,9,17,7.55Zm-12,3A5.31,5.31,0,0,0,4.9,8.1,5.31,5.31,0,0,0,1,6.5,5.31,5.31,0,0,0,4.9,4.9,5.31,5.31,0,0,0,6.5,1,5.31,5.31,0,0,0,8.1,4.9,5.31,5.31,0,0,0,12,6.5,5.46,5.46,0,0,0,6.5,12Z\"/>\n",
              "  </svg>\n",
              "    </button>\n",
              "    <script>\n",
              "      (() => {\n",
              "      const buttonEl =\n",
              "        document.querySelector('#id_53ff7b21-81a1-4b02-8338-29823e6e70ad button.colab-df-generate');\n",
              "      buttonEl.style.display =\n",
              "        google.colab.kernel.accessAllowed ? 'block' : 'none';\n",
              "\n",
              "      buttonEl.onclick = () => {\n",
              "        google.colab.notebook.generateWithVariable('s');\n",
              "      }\n",
              "      })();\n",
              "    </script>\n",
              "  </div>\n",
              "\n",
              "    </div>\n",
              "  </div>\n"
            ],
            "application/vnd.google.colaboratory.intrinsic+json": {
              "type": "dataframe",
              "variable_name": "s",
              "summary": "{\n  \"name\": \"s\",\n  \"rows\": 2,\n  \"fields\": [\n    {\n      \"column\": \"\\ube44\\uc2fc\\uac00?\",\n      \"properties\": {\n        \"dtype\": \"string\",\n        \"num_unique_values\": 2,\n        \"samples\": [\n          \"\\uace0\\uac00\",\n          \"\\uc2dc\\uac00\"\n        ],\n        \"semantic_type\": \"\",\n        \"description\": \"\"\n      }\n    }\n  ]\n}"
            }
          },
          "metadata": {},
          "execution_count": 141
        }
      ]
    },
    {
      "cell_type": "code",
      "source": [
        "data = [1000,2000,3000,23,1,312,3,123,21]\n",
        "s = pd.Series(data)\n",
        "print(type(s.index))"
      ],
      "metadata": {
        "colab": {
          "base_uri": "https://localhost:8080/"
        },
        "id": "uxj6rCQWAqTw",
        "outputId": "4c8d3233-f7dd-4752-da51-d214e664f000"
      },
      "execution_count": 146,
      "outputs": [
        {
          "output_type": "stream",
          "name": "stdout",
          "text": [
            "<class 'pandas.core.indexes.range.RangeIndex'>\n"
          ]
        }
      ]
    },
    {
      "cell_type": "code",
      "source": [
        "print(list(s.index), '\\n',\n",
        "s.index.to_list())"
      ],
      "metadata": {
        "colab": {
          "base_uri": "https://localhost:8080/"
        },
        "id": "onWuiUxWBL_G",
        "outputId": "0f00f8ed-d602-496a-a800-93fd75bc2dbf"
      },
      "execution_count": 150,
      "outputs": [
        {
          "output_type": "stream",
          "name": "stdout",
          "text": [
            "[0, 1, 2, 3, 4, 5, 6, 7, 8] \n",
            " [0, 1, 2, 3, 4, 5, 6, 7, 8]\n"
          ]
        }
      ]
    },
    {
      "cell_type": "code",
      "source": [
        "# 시리즈를 생성하면서 인덱스로 같이 생성하고 싶을때\n",
        "\n",
        "data = [1500,200,300]\n",
        "index = {\"메로나\", \"미션\", \"리워드\"}\n",
        "s1 = pd.Series(data, index); s1\n"
      ],
      "metadata": {
        "colab": {
          "base_uri": "https://localhost:8080/",
          "height": 178
        },
        "id": "mWS-jiIsCTsM",
        "outputId": "e88f97cb-3486-425d-ff1d-9238bd11be39"
      },
      "execution_count": 166,
      "outputs": [
        {
          "output_type": "execute_result",
          "data": {
            "text/plain": [
              "미션     1500\n",
              "메로나     200\n",
              "리워드     300\n",
              "dtype: int64"
            ],
            "text/html": [
              "<div>\n",
              "<style scoped>\n",
              "    .dataframe tbody tr th:only-of-type {\n",
              "        vertical-align: middle;\n",
              "    }\n",
              "\n",
              "    .dataframe tbody tr th {\n",
              "        vertical-align: top;\n",
              "    }\n",
              "\n",
              "    .dataframe thead th {\n",
              "        text-align: right;\n",
              "    }\n",
              "</style>\n",
              "<table border=\"1\" class=\"dataframe\">\n",
              "  <thead>\n",
              "    <tr style=\"text-align: right;\">\n",
              "      <th></th>\n",
              "      <th>0</th>\n",
              "    </tr>\n",
              "  </thead>\n",
              "  <tbody>\n",
              "    <tr>\n",
              "      <th>미션</th>\n",
              "      <td>1500</td>\n",
              "    </tr>\n",
              "    <tr>\n",
              "      <th>메로나</th>\n",
              "      <td>200</td>\n",
              "    </tr>\n",
              "    <tr>\n",
              "      <th>리워드</th>\n",
              "      <td>300</td>\n",
              "    </tr>\n",
              "  </tbody>\n",
              "</table>\n",
              "</div><br><label><b>dtype:</b> int64</label>"
            ]
          },
          "metadata": {},
          "execution_count": 166
        }
      ]
    },
    {
      "cell_type": "code",
      "source": [
        "s1.values, type(s1.values)"
      ],
      "metadata": {
        "colab": {
          "base_uri": "https://localhost:8080/"
        },
        "id": "QkWEVRuuC_sE",
        "outputId": "67bd977f-15b6-4946-f0c1-602108ae1a9c"
      },
      "execution_count": 168,
      "outputs": [
        {
          "output_type": "execute_result",
          "data": {
            "text/plain": [
              "(array([1500,  200,  300]), numpy.ndarray)"
            ]
          },
          "metadata": {},
          "execution_count": 168
        }
      ]
    },
    {
      "cell_type": "markdown",
      "source": [
        "### Series Index"
      ],
      "metadata": {
        "id": "BRsTRHrZI7lz"
      }
    },
    {
      "cell_type": "markdown",
      "source": [
        "- iloc & loc 각각 위치 기반/ 명칭 기반으로 사용법이 다르다"
      ],
      "metadata": {
        "id": "puvOZx-AJK9A"
      }
    },
    {
      "cell_type": "code",
      "source": [
        "data = [100,200,300]\n",
        "index = {\"a\", \"b\", \"c\"}\n",
        "s = pd.Series(data, index); s\n",
        "\n",
        "print(s.iloc[2]) #위치 기반\n",
        "print(s.loc[\"a\"]) #인덱스 기반 - 인덱스가 없으면 실행되지 않는다!"
      ],
      "metadata": {
        "colab": {
          "base_uri": "https://localhost:8080/"
        },
        "id": "RhAd0g8TD2OB",
        "outputId": "86a94446-db17-4c0b-a79a-4dc27bbc9ae6"
      },
      "execution_count": 170,
      "outputs": [
        {
          "output_type": "stream",
          "name": "stdout",
          "text": [
            "300\n",
            "300\n"
          ]
        }
      ]
    },
    {
      "cell_type": "markdown",
      "source": [
        "### Series Slicing"
      ],
      "metadata": {
        "id": "8q8IA72bMErN"
      }
    },
    {
      "cell_type": "code",
      "source": [
        "print(s1,s)"
      ],
      "metadata": {
        "colab": {
          "base_uri": "https://localhost:8080/"
        },
        "id": "zDGIfPlJKKma",
        "outputId": "48278be7-0647-4b04-87d2-019c9500e45b"
      },
      "execution_count": 176,
      "outputs": [
        {
          "output_type": "stream",
          "name": "stdout",
          "text": [
            "미션     1500\n",
            "메로나     200\n",
            "리워드     300\n",
            "dtype: int64 c    100\n",
            "b    200\n",
            "a    300\n",
            "dtype: int64\n"
          ]
        }
      ]
    },
    {
      "cell_type": "code",
      "source": [
        "print(s1.iloc[0:2], '\\n',\n",
        "s1.loc[\"메로나\":\"리워드\"])"
      ],
      "metadata": {
        "colab": {
          "base_uri": "https://localhost:8080/"
        },
        "id": "YAzRfeK2MDR-",
        "outputId": "8425ba7d-ac72-404b-8448-2a2efd860fde"
      },
      "execution_count": 179,
      "outputs": [
        {
          "output_type": "stream",
          "name": "stdout",
          "text": [
            "미션     1500\n",
            "메로나     200\n",
            "dtype: int64 \n",
            " 메로나    200\n",
            "리워드    300\n",
            "dtype: int64\n"
          ]
        }
      ]
    },
    {
      "cell_type": "markdown",
      "source": [
        "### Series modifi/add/delete"
      ],
      "metadata": {
        "id": "7ZE7zvurNJvy"
      }
    },
    {
      "cell_type": "code",
      "source": [
        "#수정\n",
        "\n",
        "data = [100,200,300]\n",
        "index = [\"a\", \"b\", \"c\"]\n",
        "s = pd.Series(data, index); s\n",
        "\n",
        "s.iloc[2] = 500\n",
        "s.loc[\"a\"] = 1000\n",
        "s['b'] = 40000    #가장 추천하는 방법!!!!\n",
        "s"
      ],
      "metadata": {
        "colab": {
          "base_uri": "https://localhost:8080/",
          "height": 178
        },
        "id": "7OLzbi6vNJcU",
        "outputId": "e8333c95-962d-4b6a-f6ab-f7bf2f724e5a"
      },
      "execution_count": 189,
      "outputs": [
        {
          "output_type": "execute_result",
          "data": {
            "text/plain": [
              "a     1000\n",
              "b    40000\n",
              "c      500\n",
              "dtype: int64"
            ],
            "text/html": [
              "<div>\n",
              "<style scoped>\n",
              "    .dataframe tbody tr th:only-of-type {\n",
              "        vertical-align: middle;\n",
              "    }\n",
              "\n",
              "    .dataframe tbody tr th {\n",
              "        vertical-align: top;\n",
              "    }\n",
              "\n",
              "    .dataframe thead th {\n",
              "        text-align: right;\n",
              "    }\n",
              "</style>\n",
              "<table border=\"1\" class=\"dataframe\">\n",
              "  <thead>\n",
              "    <tr style=\"text-align: right;\">\n",
              "      <th></th>\n",
              "      <th>0</th>\n",
              "    </tr>\n",
              "  </thead>\n",
              "  <tbody>\n",
              "    <tr>\n",
              "      <th>a</th>\n",
              "      <td>1000</td>\n",
              "    </tr>\n",
              "    <tr>\n",
              "      <th>b</th>\n",
              "      <td>40000</td>\n",
              "    </tr>\n",
              "    <tr>\n",
              "      <th>c</th>\n",
              "      <td>500</td>\n",
              "    </tr>\n",
              "  </tbody>\n",
              "</table>\n",
              "</div><br><label><b>dtype:</b> int64</label>"
            ]
          },
          "metadata": {},
          "execution_count": 189
        }
      ]
    },
    {
      "cell_type": "markdown",
      "source": [
        "### 시리즈 연산\n",
        "\n",
        "- 내부적으로 index가 같으면 같은 index끼리 매칭되어서 자동으로 연산이 진행된다!"
      ],
      "metadata": {
        "id": "EtquAMaCOXBc"
      }
    },
    {
      "cell_type": "code",
      "source": [
        "nerr = pd.Series([10,20,30], index = ['Naver', 'APPLE', \"DGB\"])\n",
        "erphin = pd.Series([10,30,20], index = ['APPLE', 'DGB', \"Naver\"])\n",
        "\n",
        "nerr + erphin"
      ],
      "metadata": {
        "colab": {
          "base_uri": "https://localhost:8080/",
          "height": 178
        },
        "id": "VrK6_pGGNun7",
        "outputId": "5f661c6c-5d57-449a-bd54-0d3e28cd9a06"
      },
      "execution_count": 187,
      "outputs": [
        {
          "output_type": "execute_result",
          "data": {
            "text/plain": [
              "APPLE    30\n",
              "DGB      60\n",
              "Naver    30\n",
              "dtype: int64"
            ],
            "text/html": [
              "<div>\n",
              "<style scoped>\n",
              "    .dataframe tbody tr th:only-of-type {\n",
              "        vertical-align: middle;\n",
              "    }\n",
              "\n",
              "    .dataframe tbody tr th {\n",
              "        vertical-align: top;\n",
              "    }\n",
              "\n",
              "    .dataframe thead th {\n",
              "        text-align: right;\n",
              "    }\n",
              "</style>\n",
              "<table border=\"1\" class=\"dataframe\">\n",
              "  <thead>\n",
              "    <tr style=\"text-align: right;\">\n",
              "      <th></th>\n",
              "      <th>0</th>\n",
              "    </tr>\n",
              "  </thead>\n",
              "  <tbody>\n",
              "    <tr>\n",
              "      <th>APPLE</th>\n",
              "      <td>30</td>\n",
              "    </tr>\n",
              "    <tr>\n",
              "      <th>DGB</th>\n",
              "      <td>60</td>\n",
              "    </tr>\n",
              "    <tr>\n",
              "      <th>Naver</th>\n",
              "      <td>30</td>\n",
              "    </tr>\n",
              "  </tbody>\n",
              "</table>\n",
              "</div><br><label><b>dtype:</b> int64</label>"
            ]
          },
          "metadata": {},
          "execution_count": 187
        }
      ]
    },
    {
      "cell_type": "code",
      "source": [
        "# 결측치 존재 시 NaN으로 처리된다.\n",
        "\n",
        "nerr = pd.Series([10,20,30], index = ['Naver', 'APPLE', \"DGB\"])\n",
        "erphin = pd.Series([10,30,20], index = ['APPLE', 'DGB', \"Cake\"])\n",
        "\n",
        "nerr + erphin"
      ],
      "metadata": {
        "colab": {
          "base_uri": "https://localhost:8080/",
          "height": 209
        },
        "id": "dRRYsOtrP-Py",
        "outputId": "451d50c7-f987-4622-a362-3a90e2842972"
      },
      "execution_count": 191,
      "outputs": [
        {
          "output_type": "execute_result",
          "data": {
            "text/plain": [
              "APPLE    30.0\n",
              "Cake      NaN\n",
              "DGB      60.0\n",
              "Naver     NaN\n",
              "dtype: float64"
            ],
            "text/html": [
              "<div>\n",
              "<style scoped>\n",
              "    .dataframe tbody tr th:only-of-type {\n",
              "        vertical-align: middle;\n",
              "    }\n",
              "\n",
              "    .dataframe tbody tr th {\n",
              "        vertical-align: top;\n",
              "    }\n",
              "\n",
              "    .dataframe thead th {\n",
              "        text-align: right;\n",
              "    }\n",
              "</style>\n",
              "<table border=\"1\" class=\"dataframe\">\n",
              "  <thead>\n",
              "    <tr style=\"text-align: right;\">\n",
              "      <th></th>\n",
              "      <th>0</th>\n",
              "    </tr>\n",
              "  </thead>\n",
              "  <tbody>\n",
              "    <tr>\n",
              "      <th>APPLE</th>\n",
              "      <td>30.0</td>\n",
              "    </tr>\n",
              "    <tr>\n",
              "      <th>Cake</th>\n",
              "      <td>NaN</td>\n",
              "    </tr>\n",
              "    <tr>\n",
              "      <th>DGB</th>\n",
              "      <td>60.0</td>\n",
              "    </tr>\n",
              "    <tr>\n",
              "      <th>Naver</th>\n",
              "      <td>NaN</td>\n",
              "    </tr>\n",
              "  </tbody>\n",
              "</table>\n",
              "</div><br><label><b>dtype:</b> float64</label>"
            ]
          },
          "metadata": {},
          "execution_count": 191
        }
      ]
    },
    {
      "cell_type": "code",
      "source": [
        "# tide graph\n",
        "\n",
        "date = [\"6/1\", \"6/2\", \"6/3\", \"6/4\", \"6/5\"]\n",
        "high = pd.Series([42800, 42700, 42050, 42950, 43000], index=date)\n",
        "low = pd.Series([42150, 42150, 41300, 42150, 42350] , index=date)\n",
        "\n",
        "diff = high - low\n",
        "print(diff.idxmax(), diff.max())"
      ],
      "metadata": {
        "colab": {
          "base_uri": "https://localhost:8080/"
        },
        "id": "h1f6dIF9QxzQ",
        "outputId": "df742376-9979-4866-ea04-2d28f341c2b1"
      },
      "execution_count": 200,
      "outputs": [
        {
          "output_type": "stream",
          "name": "stdout",
          "text": [
            "6/4 800\n"
          ]
        }
      ]
    },
    {
      "cell_type": "code",
      "source": [
        "profit = high / low\n",
        "profit"
      ],
      "metadata": {
        "colab": {
          "base_uri": "https://localhost:8080/",
          "height": 241
        },
        "id": "Evd3BAtQQQJB",
        "outputId": "50977253-7fd1-4d33-ebfa-2678640059ca"
      },
      "execution_count": 201,
      "outputs": [
        {
          "output_type": "execute_result",
          "data": {
            "text/plain": [
              "6/1    1.015421\n",
              "6/2    1.013049\n",
              "6/3    1.018160\n",
              "6/4    1.018980\n",
              "6/5    1.015348\n",
              "dtype: float64"
            ],
            "text/html": [
              "<div>\n",
              "<style scoped>\n",
              "    .dataframe tbody tr th:only-of-type {\n",
              "        vertical-align: middle;\n",
              "    }\n",
              "\n",
              "    .dataframe tbody tr th {\n",
              "        vertical-align: top;\n",
              "    }\n",
              "\n",
              "    .dataframe thead th {\n",
              "        text-align: right;\n",
              "    }\n",
              "</style>\n",
              "<table border=\"1\" class=\"dataframe\">\n",
              "  <thead>\n",
              "    <tr style=\"text-align: right;\">\n",
              "      <th></th>\n",
              "      <th>0</th>\n",
              "    </tr>\n",
              "  </thead>\n",
              "  <tbody>\n",
              "    <tr>\n",
              "      <th>6/1</th>\n",
              "      <td>1.015421</td>\n",
              "    </tr>\n",
              "    <tr>\n",
              "      <th>6/2</th>\n",
              "      <td>1.013049</td>\n",
              "    </tr>\n",
              "    <tr>\n",
              "      <th>6/3</th>\n",
              "      <td>1.018160</td>\n",
              "    </tr>\n",
              "    <tr>\n",
              "      <th>6/4</th>\n",
              "      <td>1.018980</td>\n",
              "    </tr>\n",
              "    <tr>\n",
              "      <th>6/5</th>\n",
              "      <td>1.015348</td>\n",
              "    </tr>\n",
              "  </tbody>\n",
              "</table>\n",
              "</div><br><label><b>dtype:</b> float64</label>"
            ]
          },
          "metadata": {},
          "execution_count": 201
        }
      ]
    },
    {
      "cell_type": "code",
      "source": [
        "profit.cumprod() #누적곱(복리)"
      ],
      "metadata": {
        "colab": {
          "base_uri": "https://localhost:8080/",
          "height": 241
        },
        "id": "H1iUC0-0VJXE",
        "outputId": "f3a1a05d-0187-4511-bfc5-3f6a3f1cc8ba"
      },
      "execution_count": 202,
      "outputs": [
        {
          "output_type": "execute_result",
          "data": {
            "text/plain": [
              "6/1    1.015421\n",
              "6/2    1.028671\n",
              "6/3    1.047351\n",
              "6/4    1.067230\n",
              "6/5    1.083610\n",
              "dtype: float64"
            ],
            "text/html": [
              "<div>\n",
              "<style scoped>\n",
              "    .dataframe tbody tr th:only-of-type {\n",
              "        vertical-align: middle;\n",
              "    }\n",
              "\n",
              "    .dataframe tbody tr th {\n",
              "        vertical-align: top;\n",
              "    }\n",
              "\n",
              "    .dataframe thead th {\n",
              "        text-align: right;\n",
              "    }\n",
              "</style>\n",
              "<table border=\"1\" class=\"dataframe\">\n",
              "  <thead>\n",
              "    <tr style=\"text-align: right;\">\n",
              "      <th></th>\n",
              "      <th>0</th>\n",
              "    </tr>\n",
              "  </thead>\n",
              "  <tbody>\n",
              "    <tr>\n",
              "      <th>6/1</th>\n",
              "      <td>1.015421</td>\n",
              "    </tr>\n",
              "    <tr>\n",
              "      <th>6/2</th>\n",
              "      <td>1.028671</td>\n",
              "    </tr>\n",
              "    <tr>\n",
              "      <th>6/3</th>\n",
              "      <td>1.047351</td>\n",
              "    </tr>\n",
              "    <tr>\n",
              "      <th>6/4</th>\n",
              "      <td>1.067230</td>\n",
              "    </tr>\n",
              "    <tr>\n",
              "      <th>6/5</th>\n",
              "      <td>1.083610</td>\n",
              "    </tr>\n",
              "  </tbody>\n",
              "</table>\n",
              "</div><br><label><b>dtype:</b> float64</label>"
            ]
          },
          "metadata": {},
          "execution_count": 202
        }
      ]
    },
    {
      "cell_type": "markdown",
      "source": [
        "### 시리즈와 Map"
      ],
      "metadata": {
        "id": "GVej5F8TVoka"
      }
    },
    {
      "cell_type": "code",
      "source": [
        "# 기존에 쉼표가 붙은 문자열 형태의 숫자를 정수형으로 바꾸는 방법, 심히면 반복문까지 써야 한다.\n",
        "\n",
        "txt = '1,234'\n",
        "txt = txt.replace(',', '')\n",
        "txt = int(txt); type(txt)\n",
        "\n",
        "num_str = ['1,234', '5,678', '12,345']\n",
        "results = []\n",
        "for num in num_str:\n",
        "    temp = int(num.replace(',',''))\n",
        "    print(temp, type(temp))"
      ],
      "metadata": {
        "colab": {
          "base_uri": "https://localhost:8080/"
        },
        "id": "WPyDp--0WKjQ",
        "outputId": "3d625d88-e6b0-452b-c5b4-b258dfba285f"
      },
      "execution_count": 214,
      "outputs": [
        {
          "output_type": "execute_result",
          "data": {
            "text/plain": [
              "int"
            ]
          },
          "metadata": {},
          "execution_count": 214
        }
      ]
    },
    {
      "cell_type": "code",
      "source": [
        "def rm_comma(x):\n",
        "  return int(x.replace(',', ''))"
      ],
      "metadata": {
        "id": "Oy-FDiGHXN76"
      },
      "execution_count": 216,
      "outputs": []
    },
    {
      "cell_type": "code",
      "source": [
        "# pandas의 특징을 통해 더 간단하게 만드는 방법\n",
        "# map을 사용해서 시리즈 내부 요소 하나하나에 다 적용한다.\n",
        "\n",
        "s = pd.Series(['1,234', '2,123','34,123'])\n",
        "res = s.map(rm_comma)\n",
        "res"
      ],
      "metadata": {
        "colab": {
          "base_uri": "https://localhost:8080/",
          "height": 178
        },
        "id": "kjfiMvy9V8-a",
        "outputId": "094a7b4c-592d-4944-9f0c-5b7fcae48a19"
      },
      "execution_count": 218,
      "outputs": [
        {
          "output_type": "execute_result",
          "data": {
            "text/plain": [
              "0     1234\n",
              "1     2123\n",
              "2    34123\n",
              "dtype: int64"
            ],
            "text/html": [
              "<div>\n",
              "<style scoped>\n",
              "    .dataframe tbody tr th:only-of-type {\n",
              "        vertical-align: middle;\n",
              "    }\n",
              "\n",
              "    .dataframe tbody tr th {\n",
              "        vertical-align: top;\n",
              "    }\n",
              "\n",
              "    .dataframe thead th {\n",
              "        text-align: right;\n",
              "    }\n",
              "</style>\n",
              "<table border=\"1\" class=\"dataframe\">\n",
              "  <thead>\n",
              "    <tr style=\"text-align: right;\">\n",
              "      <th></th>\n",
              "      <th>0</th>\n",
              "    </tr>\n",
              "  </thead>\n",
              "  <tbody>\n",
              "    <tr>\n",
              "      <th>0</th>\n",
              "      <td>1234</td>\n",
              "    </tr>\n",
              "    <tr>\n",
              "      <th>1</th>\n",
              "      <td>2123</td>\n",
              "    </tr>\n",
              "    <tr>\n",
              "      <th>2</th>\n",
              "      <td>34123</td>\n",
              "    </tr>\n",
              "  </tbody>\n",
              "</table>\n",
              "</div><br><label><b>dtype:</b> int64</label>"
            ]
          },
          "metadata": {},
          "execution_count": 218
        }
      ]
    },
    {
      "cell_type": "markdown",
      "source": [
        "### lambda & apply 함수\n"
      ],
      "metadata": {
        "id": "z6pEBzcoWx3g"
      }
    },
    {
      "cell_type": "code",
      "source": [
        "def remove_dollar_sign(x):\n",
        "    return float(x.replace('$', '').replace(',', ''))\n",
        "s = pd.Series(['$1,234.56', '$5,678.90', '$12,345.67'])\n",
        "result = s.map(remove_dollar_sign)"
      ],
      "metadata": {
        "id": "NPnT9aMGaEnL"
      },
      "execution_count": 219,
      "outputs": []
    },
    {
      "cell_type": "code",
      "source": [
        "s = pd.Series([12,45,11,6,23,77,3,52])\n",
        "res = s.map(lambda x: 'larger' if x > 20 else 'smaller')\n",
        "res"
      ],
      "metadata": {
        "colab": {
          "base_uri": "https://localhost:8080/",
          "height": 335
        },
        "id": "ZIErd0jIaFUj",
        "outputId": "f38d498d-3bfa-42e5-8de5-27138e0d1ada"
      },
      "execution_count": 221,
      "outputs": [
        {
          "output_type": "execute_result",
          "data": {
            "text/plain": [
              "0    smaller\n",
              "1     larger\n",
              "2    smaller\n",
              "3    smaller\n",
              "4     larger\n",
              "5     larger\n",
              "6    smaller\n",
              "7     larger\n",
              "dtype: object"
            ],
            "text/html": [
              "<div>\n",
              "<style scoped>\n",
              "    .dataframe tbody tr th:only-of-type {\n",
              "        vertical-align: middle;\n",
              "    }\n",
              "\n",
              "    .dataframe tbody tr th {\n",
              "        vertical-align: top;\n",
              "    }\n",
              "\n",
              "    .dataframe thead th {\n",
              "        text-align: right;\n",
              "    }\n",
              "</style>\n",
              "<table border=\"1\" class=\"dataframe\">\n",
              "  <thead>\n",
              "    <tr style=\"text-align: right;\">\n",
              "      <th></th>\n",
              "      <th>0</th>\n",
              "    </tr>\n",
              "  </thead>\n",
              "  <tbody>\n",
              "    <tr>\n",
              "      <th>0</th>\n",
              "      <td>smaller</td>\n",
              "    </tr>\n",
              "    <tr>\n",
              "      <th>1</th>\n",
              "      <td>larger</td>\n",
              "    </tr>\n",
              "    <tr>\n",
              "      <th>2</th>\n",
              "      <td>smaller</td>\n",
              "    </tr>\n",
              "    <tr>\n",
              "      <th>3</th>\n",
              "      <td>smaller</td>\n",
              "    </tr>\n",
              "    <tr>\n",
              "      <th>4</th>\n",
              "      <td>larger</td>\n",
              "    </tr>\n",
              "    <tr>\n",
              "      <th>5</th>\n",
              "      <td>larger</td>\n",
              "    </tr>\n",
              "    <tr>\n",
              "      <th>6</th>\n",
              "      <td>smaller</td>\n",
              "    </tr>\n",
              "    <tr>\n",
              "      <th>7</th>\n",
              "      <td>larger</td>\n",
              "    </tr>\n",
              "  </tbody>\n",
              "</table>\n",
              "</div><br><label><b>dtype:</b> object</label>"
            ]
          },
          "metadata": {},
          "execution_count": 221
        }
      ]
    },
    {
      "cell_type": "code",
      "source": [
        "res2 = s.apply(lambda x: 'larger' if x>20 else 'smaller')\n",
        "res2"
      ],
      "metadata": {
        "colab": {
          "base_uri": "https://localhost:8080/",
          "height": 335
        },
        "id": "6PXx-QRxa-bd",
        "outputId": "00ed58b1-c3ef-4dce-8773-4a3d0d3c2d1a"
      },
      "execution_count": 223,
      "outputs": [
        {
          "output_type": "execute_result",
          "data": {
            "text/plain": [
              "0    smaller\n",
              "1     larger\n",
              "2    smaller\n",
              "3    smaller\n",
              "4     larger\n",
              "5     larger\n",
              "6    smaller\n",
              "7     larger\n",
              "dtype: object"
            ],
            "text/html": [
              "<div>\n",
              "<style scoped>\n",
              "    .dataframe tbody tr th:only-of-type {\n",
              "        vertical-align: middle;\n",
              "    }\n",
              "\n",
              "    .dataframe tbody tr th {\n",
              "        vertical-align: top;\n",
              "    }\n",
              "\n",
              "    .dataframe thead th {\n",
              "        text-align: right;\n",
              "    }\n",
              "</style>\n",
              "<table border=\"1\" class=\"dataframe\">\n",
              "  <thead>\n",
              "    <tr style=\"text-align: right;\">\n",
              "      <th></th>\n",
              "      <th>0</th>\n",
              "    </tr>\n",
              "  </thead>\n",
              "  <tbody>\n",
              "    <tr>\n",
              "      <th>0</th>\n",
              "      <td>smaller</td>\n",
              "    </tr>\n",
              "    <tr>\n",
              "      <th>1</th>\n",
              "      <td>larger</td>\n",
              "    </tr>\n",
              "    <tr>\n",
              "      <th>2</th>\n",
              "      <td>smaller</td>\n",
              "    </tr>\n",
              "    <tr>\n",
              "      <th>3</th>\n",
              "      <td>smaller</td>\n",
              "    </tr>\n",
              "    <tr>\n",
              "      <th>4</th>\n",
              "      <td>larger</td>\n",
              "    </tr>\n",
              "    <tr>\n",
              "      <th>5</th>\n",
              "      <td>larger</td>\n",
              "    </tr>\n",
              "    <tr>\n",
              "      <th>6</th>\n",
              "      <td>smaller</td>\n",
              "    </tr>\n",
              "    <tr>\n",
              "      <th>7</th>\n",
              "      <td>larger</td>\n",
              "    </tr>\n",
              "  </tbody>\n",
              "</table>\n",
              "</div><br><label><b>dtype:</b> object</label>"
            ]
          },
          "metadata": {},
          "execution_count": 223
        }
      ]
    },
    {
      "cell_type": "markdown",
      "source": [
        "### 필터링"
      ],
      "metadata": {
        "id": "_fxuRvH4bZYo"
      }
    },
    {
      "cell_type": "code",
      "source": [
        "data = [42500, 42550, 41800, 42550, 42650]\n",
        "index = ['2019-05-31', '2019-05-30', '2019-05-29', '2019-05-28', '2019-05-27']\n",
        "s = pd.Series(data=data, index=index); s"
      ],
      "metadata": {
        "colab": {
          "base_uri": "https://localhost:8080/",
          "height": 241
        },
        "id": "0uZrA0SrbhZI",
        "outputId": "eb6a4afe-7e4a-45cf-9947-b491f3d6e927"
      },
      "execution_count": 226,
      "outputs": [
        {
          "output_type": "execute_result",
          "data": {
            "text/plain": [
              "2019-05-31    42500\n",
              "2019-05-30    42550\n",
              "2019-05-29    41800\n",
              "2019-05-28    42550\n",
              "2019-05-27    42650\n",
              "dtype: int64"
            ],
            "text/html": [
              "<div>\n",
              "<style scoped>\n",
              "    .dataframe tbody tr th:only-of-type {\n",
              "        vertical-align: middle;\n",
              "    }\n",
              "\n",
              "    .dataframe tbody tr th {\n",
              "        vertical-align: top;\n",
              "    }\n",
              "\n",
              "    .dataframe thead th {\n",
              "        text-align: right;\n",
              "    }\n",
              "</style>\n",
              "<table border=\"1\" class=\"dataframe\">\n",
              "  <thead>\n",
              "    <tr style=\"text-align: right;\">\n",
              "      <th></th>\n",
              "      <th>0</th>\n",
              "    </tr>\n",
              "  </thead>\n",
              "  <tbody>\n",
              "    <tr>\n",
              "      <th>2019-05-31</th>\n",
              "      <td>42500</td>\n",
              "    </tr>\n",
              "    <tr>\n",
              "      <th>2019-05-30</th>\n",
              "      <td>42550</td>\n",
              "    </tr>\n",
              "    <tr>\n",
              "      <th>2019-05-29</th>\n",
              "      <td>41800</td>\n",
              "    </tr>\n",
              "    <tr>\n",
              "      <th>2019-05-28</th>\n",
              "      <td>42550</td>\n",
              "    </tr>\n",
              "    <tr>\n",
              "      <th>2019-05-27</th>\n",
              "      <td>42650</td>\n",
              "    </tr>\n",
              "  </tbody>\n",
              "</table>\n",
              "</div><br><label><b>dtype:</b> int64</label>"
            ]
          },
          "metadata": {},
          "execution_count": 226
        }
      ]
    },
    {
      "cell_type": "code",
      "source": [
        "cond = s > 42500\n",
        "s[s>42500]"
      ],
      "metadata": {
        "colab": {
          "base_uri": "https://localhost:8080/",
          "height": 178
        },
        "id": "MyJ5aJ_gbkgU",
        "outputId": "59cd551e-f65a-4d10-91f5-cfbf4c55188d"
      },
      "execution_count": 230,
      "outputs": [
        {
          "output_type": "execute_result",
          "data": {
            "text/plain": [
              "2019-05-30    42550\n",
              "2019-05-28    42550\n",
              "2019-05-27    42650\n",
              "dtype: int64"
            ],
            "text/html": [
              "<div>\n",
              "<style scoped>\n",
              "    .dataframe tbody tr th:only-of-type {\n",
              "        vertical-align: middle;\n",
              "    }\n",
              "\n",
              "    .dataframe tbody tr th {\n",
              "        vertical-align: top;\n",
              "    }\n",
              "\n",
              "    .dataframe thead th {\n",
              "        text-align: right;\n",
              "    }\n",
              "</style>\n",
              "<table border=\"1\" class=\"dataframe\">\n",
              "  <thead>\n",
              "    <tr style=\"text-align: right;\">\n",
              "      <th></th>\n",
              "      <th>0</th>\n",
              "    </tr>\n",
              "  </thead>\n",
              "  <tbody>\n",
              "    <tr>\n",
              "      <th>2019-05-30</th>\n",
              "      <td>42550</td>\n",
              "    </tr>\n",
              "    <tr>\n",
              "      <th>2019-05-28</th>\n",
              "      <td>42550</td>\n",
              "    </tr>\n",
              "    <tr>\n",
              "      <th>2019-05-27</th>\n",
              "      <td>42650</td>\n",
              "    </tr>\n",
              "  </tbody>\n",
              "</table>\n",
              "</div><br><label><b>dtype:</b> int64</label>"
            ]
          },
          "metadata": {},
          "execution_count": 230
        }
      ]
    },
    {
      "cell_type": "code",
      "source": [
        "import pandas as pd\n",
        "\n",
        "close = [42500, 42550, 41800, 42550, 42650]\n",
        "open = [42600, 42200, 41850, 42550, 42500]\n",
        "index = ['2019-05-31', '2019-05-30', '2019-05-29', '2019-05-28', '2019-05-27']\n",
        "\n",
        "open = pd.Series(data=open, index=index)\n",
        "close = pd.Series(data=close, index=index)"
      ],
      "metadata": {
        "id": "gWnVDQzZccm-"
      },
      "execution_count": 233,
      "outputs": []
    },
    {
      "cell_type": "code",
      "source": [
        "res = close - open\n",
        "res = res[res > 0]; res.name = 'Profit'\n",
        "res"
      ],
      "metadata": {
        "colab": {
          "base_uri": "https://localhost:8080/",
          "height": 146
        },
        "id": "PLGwlIQlczP9",
        "outputId": "2a4af58e-5a2d-4589-b3be-4d2b3533fb95"
      },
      "execution_count": 237,
      "outputs": [
        {
          "output_type": "execute_result",
          "data": {
            "text/plain": [
              "2019-05-30    350\n",
              "2019-05-27    150\n",
              "Name: Profit, dtype: int64"
            ],
            "text/html": [
              "<div>\n",
              "<style scoped>\n",
              "    .dataframe tbody tr th:only-of-type {\n",
              "        vertical-align: middle;\n",
              "    }\n",
              "\n",
              "    .dataframe tbody tr th {\n",
              "        vertical-align: top;\n",
              "    }\n",
              "\n",
              "    .dataframe thead th {\n",
              "        text-align: right;\n",
              "    }\n",
              "</style>\n",
              "<table border=\"1\" class=\"dataframe\">\n",
              "  <thead>\n",
              "    <tr style=\"text-align: right;\">\n",
              "      <th></th>\n",
              "      <th>Profit</th>\n",
              "    </tr>\n",
              "  </thead>\n",
              "  <tbody>\n",
              "    <tr>\n",
              "      <th>2019-05-30</th>\n",
              "      <td>350</td>\n",
              "    </tr>\n",
              "    <tr>\n",
              "      <th>2019-05-27</th>\n",
              "      <td>150</td>\n",
              "    </tr>\n",
              "  </tbody>\n",
              "</table>\n",
              "</div><br><label><b>dtype:</b> int64</label>"
            ]
          },
          "metadata": {},
          "execution_count": 237
        }
      ]
    },
    {
      "cell_type": "markdown",
      "source": [
        "# Others\n"
      ],
      "metadata": {
        "id": "KnFDgxQGJApI"
      }
    },
    {
      "cell_type": "code",
      "source": [
        "# prompt: use any pre-providen data set, explain ARIMA model and give examples\n",
        "\n",
        "import pandas as pd\n",
        "from statsmodels.tsa.arima.model import ARIMA\n",
        "from sklearn.metrics import mean_squared_error\n",
        "import matplotlib.pyplot as plt\n",
        "\n",
        "# Load a sample time series dataset (replace with your own data)\n",
        "# For demonstration, we'll use the AirPassengers dataset\n",
        "data = pd.read_csv('https://raw.githubusercontent.com/jbrownlee/Datasets/master/airline-passengers.csv', index_col='Month')\n",
        "data.index = pd.to_datetime(data.index)\n",
        "\n",
        "# Split data into training and testing sets\n",
        "train_data = data[:-12]\n",
        "test_data = data[-12:]\n",
        "\n",
        "# Fit the ARIMA model\n",
        "# (p, d, q) are the order of the model:\n",
        "# p: Autoregressive (AR) order\n",
        "# d: Integrated (I) order\n",
        "# q: Moving Average (MA) order\n",
        "model = ARIMA(train_data['Passengers'], order=(5, 1, 0))  # Example order\n",
        "model_fit = model.fit()\n",
        "\n",
        "# Make predictions on the test set\n",
        "predictions = model_fit.predict(start=len(train_data), end=len(data)-1)\n",
        "\n",
        "# Evaluate the model\n",
        "rmse = mean_squared_error(test_data['Passengers'], predictions, squared=False)\n",
        "print('RMSE:', rmse)\n",
        "\n",
        "# Plot the results\n",
        "plt.plot(train_data['Passengers'], label='Training Data')\n",
        "plt.plot(test_data['Passengers'], label='Actual')\n",
        "plt.plot(predictions, label='Predictions')\n",
        "plt.legend()\n",
        "plt.show()\n",
        "\n",
        "# Explanation of ARIMA Model\n",
        "#\n",
        "# The ARIMA model is a statistical method for analyzing and forecasting time series data.\n",
        "# It stands for Autoregressive Integrated Moving Average.\n",
        "#\n",
        "# 1. Autoregressive (AR): This component models the relationship between an observation and a certain number of lagged observations (previous values).\n",
        "# 2. Integrated (I): This component represents the differencing needed to make the time series stationary. A stationary time series has constant mean and variance over time.\n",
        "# 3. Moving Average (MA): This component models the relationship between an observation and residual errors from a moving average model applied to lagged observations.\n",
        "#\n",
        "# The (p, d, q) order specifies the number of AR, I, and MA terms to include in the model.\n",
        "#\n",
        "# Example:\n",
        "#\n",
        "# - AR(1): Uses the previous value to predict the current value.\n",
        "# - MA(1): Uses the previous error to predict the current value.\n",
        "# - ARIMA(1, 1, 1): Combines AR(1), I(1), and MA(1) components.\n",
        "#\n",
        "# How to use ARIMA:\n",
        "#\n",
        "# 1. Prepare your data: Ensure it's a time series with a datetime index.\n",
        "# 2. Check stationarity: Use techniques like ADF test to see if your data is stationary. If not, apply differencing.\n",
        "# 3. Choose model order: Use ACF and PACF plots to determine the appropriate (p, d, q) values.\n",
        "# 4. Fit the model: Use the ARIMA function from a library like statsmodels to fit the model to your training data.\n",
        "# 5. Make predictions: Predict future values based on the fitted model.\n",
        "# 6. Evaluate the model: Use metrics like RMSE to assess the model's accuracy.\n",
        "#\n",
        "# Note: ARIMA models assume that the time series data is linear and has a constant variance.\n",
        "# If your data violates these assumptions, other models (e.g., SARIMA for seasonality or Exponential Smoothing) might be more appropriate.\n"
      ],
      "metadata": {
        "colab": {
          "base_uri": "https://localhost:8080/",
          "height": 613
        },
        "id": "KJMGVn1LtwwF",
        "outputId": "1bb86db8-5660-44b1-cf1e-6b92727e285a"
      },
      "execution_count": 90,
      "outputs": [
        {
          "output_type": "stream",
          "name": "stderr",
          "text": [
            "/usr/local/lib/python3.10/dist-packages/statsmodels/tsa/base/tsa_model.py:473: ValueWarning: No frequency information was provided, so inferred frequency MS will be used.\n",
            "  self._init_dates(dates, freq)\n",
            "/usr/local/lib/python3.10/dist-packages/statsmodels/tsa/base/tsa_model.py:473: ValueWarning: No frequency information was provided, so inferred frequency MS will be used.\n",
            "  self._init_dates(dates, freq)\n",
            "/usr/local/lib/python3.10/dist-packages/statsmodels/tsa/base/tsa_model.py:473: ValueWarning: No frequency information was provided, so inferred frequency MS will be used.\n",
            "  self._init_dates(dates, freq)\n",
            "/usr/local/lib/python3.10/dist-packages/sklearn/metrics/_regression.py:492: FutureWarning: 'squared' is deprecated in version 1.4 and will be removed in 1.6. To calculate the root mean squared error, use the function'root_mean_squared_error'.\n",
            "  warnings.warn(\n"
          ]
        },
        {
          "output_type": "stream",
          "name": "stdout",
          "text": [
            "RMSE: 86.8101303293613\n"
          ]
        },
        {
          "output_type": "display_data",
          "data": {
            "text/plain": [
              "<Figure size 640x480 with 1 Axes>"
            ],
            "image/png": "[encoded data removed]"
          },
          "metadata": {}
        }
      ]
    },
    {
      "cell_type": "code",
      "source": [
        "# prompt: give me code that most suitable for the word \"Good Time)\n",
        "\n",
        "import pandas as pd\n",
        "import matplotlib.pyplot as plt\n",
        "\n",
        "# Assuming you have a DataFrame named 'data' with a 'Passengers' column and a datetime index\n",
        "# Replace 'data' with your actual DataFrame if different\n",
        "\n",
        "# Example data (replace with your actual data)\n",
        "data = pd.DataFrame({'Passengers': [100, 120, 130, 150, 140, 160, 170, 180, 190, 200]}, index=pd.date_range('2023-10-26', periods=10))\n",
        "\n",
        "\n",
        "# Find the period with the highest passenger count (indicating a \"good time\")\n",
        "max_passengers_date = data['Passengers'].idxmax()\n",
        "max_passengers = data['Passengers'].max()\n",
        "\n",
        "\n",
        "# Plot the data and highlight the \"good time\" period\n",
        "plt.plot(data['Passengers'], label='Passenger Count')\n",
        "plt.scatter(max_passengers_date, max_passengers, color='red', label='Good Time (Highest Passengers)')\n",
        "plt.xlabel('Date')\n",
        "plt.ylabel('Number of Passengers')\n",
        "plt.title('Passenger Count Over Time with \"Good Time\" Highlight')\n",
        "plt.legend()\n",
        "plt.show()\n",
        "\n",
        "print(f'The \"Good Time\" (highest passenger count) was on {max_passengers_date} with {max_passengers} passengers.')\n",
        "\n"
      ],
      "metadata": {
        "id": "0q5uqITEvl0J"
      },
      "execution_count": null,
      "outputs": []
    }
  ]
}