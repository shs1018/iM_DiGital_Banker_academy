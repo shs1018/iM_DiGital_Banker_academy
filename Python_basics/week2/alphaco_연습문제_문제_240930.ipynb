{
  "cells": [
    {
      "cell_type": "markdown",
      "id": "294ecd95-5716-409d-bc14-7fbb85c06fe2",
      "metadata": {
        "id": "294ecd95-5716-409d-bc14-7fbb85c06fe2"
      },
      "source": [
        "# NumPy & Series 문제\n"
      ]
    },
    {
      "cell_type": "markdown",
      "id": "2ff68c61-f01b-4535-a1b1-aa86d1112799",
      "metadata": {
        "id": "2ff68c61-f01b-4535-a1b1-aa86d1112799"
      },
      "source": [
        "# 문제 1.\n",
        "- 답지를 확인하고 알맞게 슬라이싱을 진행하세요."
      ]
    },
    {
      "cell_type": "code",
      "execution_count": null,
      "id": "7ae6f217-73ae-4f30-a9d7-47d5d3a34ac6",
      "metadata": {
        "id": "7ae6f217-73ae-4f30-a9d7-47d5d3a34ac6"
      },
      "outputs": [
        {
          "ename": "",
          "evalue": "",
          "output_type": "error",
          "traceback": [
            "\u001b[1;31mFailed to start the Kernel 'base (Python 3.9.7)'. \n",
            "\u001b[1;31mView Jupyter <a href='command:jupyter.viewOutput'>log</a> for further details. listen EFAULT: bad address in system call argument 0.0.0.0:9000"
          ]
        }
      ],
      "source": [
        "import numpy as np\n",
        "arr = np.array([1, 2, 3, 4, 5, 6])"
      ]
    },
    {
      "cell_type": "code",
      "execution_count": null,
      "id": "BY2lL_T6SvIR",
      "metadata": {
        "colab": {
          "base_uri": "https://localhost:8080/"
        },
        "id": "BY2lL_T6SvIR",
        "outputId": "bd4d728d-ef7c-45b5-ff5b-246bb4d338d1"
      },
      "outputs": [
        {
          "data": {
            "text/plain": [
              "array([2, 4])"
            ]
          },
          "execution_count": 5,
          "metadata": {},
          "output_type": "execute_result"
        }
      ],
      "source": [
        "arr[1:4:2]\n",
        "\n",
        "#인덱스 1부터 3까지, 간격 2"
      ]
    },
    {
      "cell_type": "code",
      "execution_count": null,
      "id": "40e5798c-a2f5-4f18-9130-0e6bf4a34cc9",
      "metadata": {
        "id": "40e5798c-a2f5-4f18-9130-0e6bf4a34cc9",
        "outputId": "5b06817d-14a0-41c5-fdf3-13294a11c49e"
      },
      "outputs": [
        {
          "data": {
            "text/plain": [
              "[2, 4]"
            ]
          },
          "execution_count": 1,
          "metadata": {},
          "output_type": "execute_result"
        }
      ],
      "source": [
        "# 답지\n",
        "[2, 4]"
      ]
    },
    {
      "cell_type": "markdown",
      "id": "dab83b11-69bf-41f3-bb90-3e85822cfe7d",
      "metadata": {
        "id": "dab83b11-69bf-41f3-bb90-3e85822cfe7d"
      },
      "source": [
        "# 문제 2. 다차원 배열에서 슬라이싱"
      ]
    },
    {
      "cell_type": "code",
      "execution_count": null,
      "id": "330bff95-1a72-4fbd-a92c-df8c2e437f31",
      "metadata": {
        "id": "330bff95-1a72-4fbd-a92c-df8c2e437f31"
      },
      "outputs": [],
      "source": [
        "arr = np.array([[1, 2, 3], [4, 5, 6], [7, 8, 9]])"
      ]
    },
    {
      "cell_type": "code",
      "execution_count": null,
      "id": "xedIHN0ESBnC",
      "metadata": {
        "colab": {
          "base_uri": "https://localhost:8080/"
        },
        "id": "xedIHN0ESBnC",
        "outputId": "260857eb-16df-40fb-90bb-5b8fd9887476"
      },
      "outputs": [
        {
          "data": {
            "text/plain": [
              "array([[2, 3],\n",
              "       [5, 6]])"
            ]
          },
          "execution_count": 9,
          "metadata": {},
          "output_type": "execute_result"
        }
      ],
      "source": [
        "arr[:2,1:3]\n",
        "\n",
        "# 0부터 2까지, 각각 1부터 끝까지 출력"
      ]
    },
    {
      "cell_type": "code",
      "execution_count": null,
      "id": "4b8c5543-03ec-4c73-9e54-fc721716c535",
      "metadata": {
        "id": "4b8c5543-03ec-4c73-9e54-fc721716c535"
      },
      "outputs": [],
      "source": [
        "# 답지\n",
        "# [[2, 3], [5, 6]]"
      ]
    },
    {
      "cell_type": "markdown",
      "id": "20fca97c-c55b-47dc-83c6-e67cb673ec23",
      "metadata": {
        "id": "20fca97c-c55b-47dc-83c6-e67cb673ec23"
      },
      "source": [
        "# 문제 3. 배열에서 슬라이싱과 조건 사용"
      ]
    },
    {
      "cell_type": "code",
      "execution_count": null,
      "id": "b13750ab-60bb-44f1-8477-ba13456a2c6d",
      "metadata": {
        "id": "b13750ab-60bb-44f1-8477-ba13456a2c6d"
      },
      "outputs": [],
      "source": [
        "arr = np.array([1, 2, 3, 4, 5, 6])"
      ]
    },
    {
      "cell_type": "code",
      "execution_count": null,
      "id": "3sWTTfCUS9m2",
      "metadata": {
        "colab": {
          "base_uri": "https://localhost:8080/"
        },
        "id": "3sWTTfCUS9m2",
        "outputId": "072b9b56-6dd6-4375-dd4e-cf001aa08f52"
      },
      "outputs": [
        {
          "data": {
            "text/plain": [
              "array([4, 5, 6])"
            ]
          },
          "execution_count": 11,
          "metadata": {},
          "output_type": "execute_result"
        }
      ],
      "source": [
        "arr[arr > 3]"
      ]
    },
    {
      "cell_type": "code",
      "execution_count": null,
      "id": "9601f81a-5b72-4dfb-ba76-0af657c5e0a5",
      "metadata": {
        "id": "9601f81a-5b72-4dfb-ba76-0af657c5e0a5"
      },
      "outputs": [],
      "source": [
        "# 답지\n",
        "# [4, 5, 6]"
      ]
    },
    {
      "cell_type": "markdown",
      "id": "9b195735-ef24-4fe3-9d49-df193c5c7c36",
      "metadata": {
        "id": "9b195735-ef24-4fe3-9d49-df193c5c7c36"
      },
      "source": [
        "# 문제 4. 배열의 일부 값 변경\n",
        "- 두 번째와 세 번째 값을 10과 20으로 변경: [1, 10, 20, 4, 5]"
      ]
    },
    {
      "cell_type": "code",
      "execution_count": null,
      "id": "4cd88502-bf35-4988-a368-9ec5fb6f8fa6",
      "metadata": {
        "id": "4cd88502-bf35-4988-a368-9ec5fb6f8fa6"
      },
      "outputs": [],
      "source": [
        "arr = np.array([1, 2, 3, 4, 5])"
      ]
    },
    {
      "cell_type": "code",
      "execution_count": 14,
      "id": "iLugfxTBTKnv",
      "metadata": {
        "colab": {
          "base_uri": "https://localhost:8080/"
        },
        "id": "iLugfxTBTKnv",
        "outputId": "0460828a-3f10-43db-8647-b034fc27a927"
      },
      "outputs": [
        {
          "data": {
            "text/plain": [
              "array([ 1, 10, 20,  4,  5,  6])"
            ]
          },
          "execution_count": 14,
          "metadata": {},
          "output_type": "execute_result"
        }
      ],
      "source": [
        "'''\n",
        "arr[1] = 10\n",
        "arr[2] = 20\n",
        "arr\n",
        "'''\n",
        "\n",
        "arr[1:3] = [10,20]; arr"
      ]
    },
    {
      "cell_type": "code",
      "execution_count": null,
      "id": "0236b558-728c-4921-9104-a1e3b256c03f",
      "metadata": {
        "id": "0236b558-728c-4921-9104-a1e3b256c03f"
      },
      "outputs": [],
      "source": [
        "# 답지"
      ]
    },
    {
      "cell_type": "markdown",
      "id": "84aef9d2-1888-4309-8144-cbbd734a47c3",
      "metadata": {
        "id": "84aef9d2-1888-4309-8144-cbbd734a47c3"
      },
      "source": [
        "# 문제 5. 다차원 배열의 축 기준으로 슬라이싱\n",
        "- 모든 행의 두번째 열 선택"
      ]
    },
    {
      "cell_type": "code",
      "execution_count": 15,
      "id": "8f29654a-ba0a-4836-ac18-e946313012e7",
      "metadata": {
        "id": "8f29654a-ba0a-4836-ac18-e946313012e7"
      },
      "outputs": [],
      "source": [
        "arr = np.array([[1, 2, 3], [4, 5, 6], [7, 8, 9]])"
      ]
    },
    {
      "cell_type": "code",
      "execution_count": 16,
      "id": "OTEruAy0TT7B",
      "metadata": {
        "colab": {
          "base_uri": "https://localhost:8080/"
        },
        "id": "OTEruAy0TT7B",
        "outputId": "31696cd2-49a0-41d8-d9dd-cb1e118e2b08"
      },
      "outputs": [
        {
          "data": {
            "text/plain": [
              "array([2, 5, 8])"
            ]
          },
          "execution_count": 16,
          "metadata": {},
          "output_type": "execute_result"
        }
      ],
      "source": [
        "arr[:,1]\n",
        "# 전체 기준, 1인덱싱 위치 출력"
      ]
    },
    {
      "cell_type": "code",
      "execution_count": null,
      "id": "2c87490b-2c76-4834-97fe-a9c1e10608fd",
      "metadata": {
        "id": "2c87490b-2c76-4834-97fe-a9c1e10608fd"
      },
      "outputs": [],
      "source": [
        "# 답지\n",
        "# [2, 5, 8]"
      ]
    },
    {
      "cell_type": "markdown",
      "id": "d7bc395b-4eec-43a8-96d1-d23af0eba67d",
      "metadata": {
        "id": "d7bc395b-4eec-43a8-96d1-d23af0eba67d"
      },
      "source": [
        "# 문제 6. 복합 조건(여러 조건)을 사용\n",
        "- 2보다 크고 5보다 작은 값 조회"
      ]
    },
    {
      "cell_type": "code",
      "execution_count": 17,
      "id": "e373e8f4-a439-4951-af12-31b4a673f120",
      "metadata": {
        "id": "e373e8f4-a439-4951-af12-31b4a673f120"
      },
      "outputs": [],
      "source": [
        "arr = np.array([1, 2, 3, 4, 5])\n",
        "filtered_arr = arr[(arr > 2) & (arr < 5)]"
      ]
    },
    {
      "cell_type": "code",
      "execution_count": 20,
      "id": "VesC8O2kTgHG",
      "metadata": {
        "colab": {
          "base_uri": "https://localhost:8080/"
        },
        "id": "VesC8O2kTgHG",
        "outputId": "66db8ad4-009d-476a-f90c-c765794e7a0e"
      },
      "outputs": [
        {
          "data": {
            "text/plain": [
              "array([3, 4])"
            ]
          },
          "execution_count": 20,
          "metadata": {},
          "output_type": "execute_result"
        }
      ],
      "source": [
        "arr[(arr > 2) & (arr < 5)]"
      ]
    },
    {
      "cell_type": "code",
      "execution_count": null,
      "id": "a4a4c3f4-1ef8-4ae5-9fe1-e9f1a0037407",
      "metadata": {
        "id": "a4a4c3f4-1ef8-4ae5-9fe1-e9f1a0037407",
        "outputId": "75fe6428-7324-44a5-b48c-b6b6e2e92312"
      },
      "outputs": [
        {
          "data": {
            "text/plain": [
              "[3, 4]"
            ]
          },
          "execution_count": 8,
          "metadata": {},
          "output_type": "execute_result"
        }
      ],
      "source": [
        "# 2보다 크고 5보다 작은 값\n",
        "\n",
        "# 답지\n",
        "[3, 4]"
      ]
    },
    {
      "cell_type": "markdown",
      "id": "7e132a59-7983-487d-810d-b9dadc5c7a9d",
      "metadata": {
        "id": "7e132a59-7983-487d-810d-b9dadc5c7a9d"
      },
      "source": [
        "# 문제 7. 다차원 배열에 조건 적용\n",
        "- 4보다 큰 값은 그대로, 나머지는 0으로 대체"
      ]
    },
    {
      "cell_type": "code",
      "execution_count": 23,
      "id": "883e9d58-5ed0-4ed0-84a1-4df2724b2235",
      "metadata": {
        "id": "883e9d58-5ed0-4ed0-84a1-4df2724b2235"
      },
      "outputs": [],
      "source": [
        "arr = np.array([[1, 2, 3], [4, 5, 6], [7, 8, 9]])\n",
        "result = np.where(arr > 4, arr, 0)"
      ]
    },
    {
      "cell_type": "code",
      "execution_count": 24,
      "id": "NxpsYxJvTuiW",
      "metadata": {
        "colab": {
          "base_uri": "https://localhost:8080/"
        },
        "id": "NxpsYxJvTuiW",
        "outputId": "f3dda725-8bcb-4f98-8298-ee95f6b2b795"
      },
      "outputs": [
        {
          "data": {
            "text/plain": [
              "array([[0, 0, 0],\n",
              "       [0, 5, 6],\n",
              "       [7, 8, 9]])"
            ]
          },
          "execution_count": 24,
          "metadata": {},
          "output_type": "execute_result"
        }
      ],
      "source": [
        "res = np.where(arr > 4 , arr, 0); res\n",
        "#"
      ]
    },
    {
      "cell_type": "code",
      "execution_count": null,
      "id": "a067dddf-ae23-4f67-9f38-593e145c6aee",
      "metadata": {
        "id": "a067dddf-ae23-4f67-9f38-593e145c6aee",
        "outputId": "73e9daeb-7f0a-438d-cc41-10a6e1df4a90"
      },
      "outputs": [
        {
          "data": {
            "text/plain": [
              "[[0, 0, 0], [0, 5, 6], [7, 8, 9]]"
            ]
          },
          "execution_count": 15,
          "metadata": {},
          "output_type": "execute_result"
        }
      ],
      "source": [
        "# 답지\n",
        "[[0, 0, 0], [0, 5, 6], [7, 8, 9]]"
      ]
    },
    {
      "cell_type": "markdown",
      "id": "b7aa639c-9f18-495f-b304-2ae145f5782e",
      "metadata": {
        "id": "b7aa639c-9f18-495f-b304-2ae145f5782e"
      },
      "source": [
        "# 문제 8. series에 numpy 적용1\n",
        "- 주어진 Series에서 값이 50보다 큰 경우에는 1로, 그렇지 않은 경우에는 0으로 변경하시오.\n",
        "- numpy 메서드 이용 (numpy.where)"
      ]
    },
    {
      "cell_type": "code",
      "execution_count": 25,
      "id": "04120d63-279f-42c1-bde8-a3e37bb8ba0d",
      "metadata": {
        "id": "04120d63-279f-42c1-bde8-a3e37bb8ba0d"
      },
      "outputs": [],
      "source": [
        "import pandas as pd\n",
        "import numpy as np\n",
        "\n",
        "# Pandas Series 생성\n",
        "series = pd.Series([10, 55, 30, 70, 45])"
      ]
    },
    {
      "cell_type": "code",
      "execution_count": 26,
      "id": "qj1QYYbxUAvV",
      "metadata": {
        "colab": {
          "base_uri": "https://localhost:8080/"
        },
        "id": "qj1QYYbxUAvV",
        "outputId": "0b598b6e-cfc8-4917-961d-e7770a31c7ab"
      },
      "outputs": [
        {
          "data": {
            "text/plain": [
              "array([0, 1, 0, 1, 0])"
            ]
          },
          "execution_count": 26,
          "metadata": {},
          "output_type": "execute_result"
        }
      ],
      "source": [
        "new_series = np.where(series > 50, 1, 0 )\n",
        "new_series\n",
        "\n",
        "# pandas에 numpy 함수가 적용 가능하다."
      ]
    },
    {
      "cell_type": "code",
      "execution_count": null,
      "id": "4cc8b933-f4ac-4cc6-b794-1996c4ceb21c",
      "metadata": {
        "id": "4cc8b933-f4ac-4cc6-b794-1996c4ceb21c"
      },
      "outputs": [],
      "source": [
        " # 답지\n",
        "# 결과 출력\n",
        "# [0 1 0 1 0] <class 'numpy.ndarray'>"
      ]
    },
    {
      "cell_type": "markdown",
      "id": "fc4d757f-159f-4b2a-b60f-7bdba0852a95",
      "metadata": {
        "id": "fc4d757f-159f-4b2a-b60f-7bdba0852a95"
      },
      "source": [
        "# 문제 9. series에 numpy 적용2\n",
        "- 주어진 Series에서 값이 30보다 크고 60보다 작은 경우에는 해당 값에 10을 더하고, 그 외의 값은 그대로 두시오.\n",
        "- numpy 메서드 이용 (numpy.where)"
      ]
    },
    {
      "cell_type": "code",
      "execution_count": 29,
      "id": "1c24c950-3ae6-46b6-b286-6cff7d9280c1",
      "metadata": {
        "id": "1c24c950-3ae6-46b6-b286-6cff7d9280c1"
      },
      "outputs": [],
      "source": [
        "# Pandas Series 생성\n",
        "series = pd.Series([25, 35, 45, 60, 75])"
      ]
    },
    {
      "cell_type": "code",
      "execution_count": 31,
      "id": "CPQrnIlsVCx-",
      "metadata": {
        "colab": {
          "base_uri": "https://localhost:8080/",
          "height": 241
        },
        "id": "CPQrnIlsVCx-",
        "outputId": "1e19c059-da33-4ef6-b001-b526a2248385"
      },
      "outputs": [
        {
          "data": {
            "text/html": [
              "<div>\n",
              "<style scoped>\n",
              "    .dataframe tbody tr th:only-of-type {\n",
              "        vertical-align: middle;\n",
              "    }\n",
              "\n",
              "    .dataframe tbody tr th {\n",
              "        vertical-align: top;\n",
              "    }\n",
              "\n",
              "    .dataframe thead th {\n",
              "        text-align: right;\n",
              "    }\n",
              "</style>\n",
              "<table border=\"1\" class=\"dataframe\">\n",
              "  <thead>\n",
              "    <tr style=\"text-align: right;\">\n",
              "      <th></th>\n",
              "      <th>0</th>\n",
              "    </tr>\n",
              "  </thead>\n",
              "  <tbody>\n",
              "    <tr>\n",
              "      <th>0</th>\n",
              "      <td>25</td>\n",
              "    </tr>\n",
              "    <tr>\n",
              "      <th>1</th>\n",
              "      <td>45</td>\n",
              "    </tr>\n",
              "    <tr>\n",
              "      <th>2</th>\n",
              "      <td>55</td>\n",
              "    </tr>\n",
              "    <tr>\n",
              "      <th>3</th>\n",
              "      <td>60</td>\n",
              "    </tr>\n",
              "    <tr>\n",
              "      <th>4</th>\n",
              "      <td>75</td>\n",
              "    </tr>\n",
              "  </tbody>\n",
              "</table>\n",
              "</div><br><label><b>dtype:</b> int64</label>"
            ],
            "text/plain": [
              "0    25\n",
              "1    45\n",
              "2    55\n",
              "3    60\n",
              "4    75\n",
              "dtype: int64"
            ]
          },
          "execution_count": 31,
          "metadata": {},
          "output_type": "execute_result"
        }
      ],
      "source": [
        "new_series = pd.Series(np.where((series > 30) & (series < 60), series + 10, series))\n",
        "new_series\n",
        "\n",
        "# 조건문에는 괄호를 꼭 쳐서 구분하기"
      ]
    },
    {
      "cell_type": "code",
      "execution_count": 32,
      "id": "6de4a0a2-47df-4b0c-a806-0dc3b4f0ef8d",
      "metadata": {
        "colab": {
          "base_uri": "https://localhost:8080/"
        },
        "id": "6de4a0a2-47df-4b0c-a806-0dc3b4f0ef8d",
        "outputId": "51db7f20-8526-4070-a6da-b884f927940e"
      },
      "outputs": [
        {
          "name": "stdout",
          "output_type": "stream",
          "text": [
            "0    25\n",
            "1    45\n",
            "2    55\n",
            "3    60\n",
            "4    75\n",
            "dtype: int64\n"
          ]
        }
      ],
      "source": [
        "# Series 결과 답안\n",
        "result_series = pd.Series([25, 45, 55, 60, 75])\n",
        "\n",
        "# 결과 출력\n",
        "print(result_series)"
      ]
    },
    {
      "cell_type": "markdown",
      "id": "fcf184e2-52b8-40da-807b-76f739e7dafd",
      "metadata": {
        "id": "fcf184e2-52b8-40da-807b-76f739e7dafd"
      },
      "source": [
        "# 문제 10. 다중 조건\n",
        "- 주어진 Series에서 cond 리스트에 조건을 정의하고, 각 조건을 만족하는 값에 대해 다른 연산을 수행하여 새로운 Series를 생성하시오.\n",
        "    + cond[0]: 값이 50보다 크면 해당 값을 2배로 증가시킴.\n",
        "    + cond[1]: 값이 30보다 작으면 해당 값을 10으로 변경.\n",
        "    + 그 외의 값은 그대로 유지."
      ]
    },
    {
      "cell_type": "code",
      "execution_count": 33,
      "id": "d253ae00-1a88-4a73-91f1-e0722989c4f0",
      "metadata": {
        "id": "d253ae00-1a88-4a73-91f1-e0722989c4f0"
      },
      "outputs": [],
      "source": [
        "series = pd.Series([25, 45, 55, 60, 75])"
      ]
    },
    {
      "cell_type": "code",
      "execution_count": 34,
      "id": "qVPWEwBYWz0A",
      "metadata": {
        "colab": {
          "base_uri": "https://localhost:8080/"
        },
        "id": "qVPWEwBYWz0A",
        "outputId": "5c733cd2-010b-48d1-c0e4-7ccc0c640acd"
      },
      "outputs": [
        {
          "name": "stdout",
          "output_type": "stream",
          "text": [
            "0     10\n",
            "1     45\n",
            "2    110\n",
            "3    120\n",
            "4    150\n",
            "dtype: int64\n"
          ]
        }
      ],
      "source": [
        "# prompt: 주어진 Series에서 cond 리스트에 조건을 정의하고, 각 조건을 만족하는 값에 대해 다른 연산을 수행하여 새로운 Series를 생성하시오.\n",
        "# cond[0]: 값이 50보다 크면 해당 값을 2배로 증가시킴.\n",
        "# cond[1]: 값이 30보다 작으면 해당 값을 10으로 변경.\n",
        "# 그 외의 값은 그대로 유지.\n",
        "\n",
        "series = pd.Series([25, 45, 55, 60, 75])\n",
        "cond = [series > 50, series < 30]\n",
        "choice = [series * 2, 10]\n",
        "new_series = pd.Series(np.select(cond, choice, default=series))\n",
        "print(new_series)\n"
      ]
    },
    {
      "cell_type": "code",
      "execution_count": 36,
      "id": "drmvjkv9VkoP",
      "metadata": {
        "colab": {
          "base_uri": "https://localhost:8080/",
          "height": 241
        },
        "id": "drmvjkv9VkoP",
        "outputId": "53b47816-c19b-4a6a-b772-41996895fba6"
      },
      "outputs": [
        {
          "data": {
            "text/html": [
              "<div>\n",
              "<style scoped>\n",
              "    .dataframe tbody tr th:only-of-type {\n",
              "        vertical-align: middle;\n",
              "    }\n",
              "\n",
              "    .dataframe tbody tr th {\n",
              "        vertical-align: top;\n",
              "    }\n",
              "\n",
              "    .dataframe thead th {\n",
              "        text-align: right;\n",
              "    }\n",
              "</style>\n",
              "<table border=\"1\" class=\"dataframe\">\n",
              "  <thead>\n",
              "    <tr style=\"text-align: right;\">\n",
              "      <th></th>\n",
              "      <th>0</th>\n",
              "    </tr>\n",
              "  </thead>\n",
              "  <tbody>\n",
              "    <tr>\n",
              "      <th>0</th>\n",
              "      <td>10</td>\n",
              "    </tr>\n",
              "    <tr>\n",
              "      <th>1</th>\n",
              "      <td>10</td>\n",
              "    </tr>\n",
              "    <tr>\n",
              "      <th>2</th>\n",
              "      <td>110</td>\n",
              "    </tr>\n",
              "    <tr>\n",
              "      <th>3</th>\n",
              "      <td>120</td>\n",
              "    </tr>\n",
              "    <tr>\n",
              "      <th>4</th>\n",
              "      <td>150</td>\n",
              "    </tr>\n",
              "  </tbody>\n",
              "</table>\n",
              "</div><br><label><b>dtype:</b> int64</label>"
            ],
            "text/plain": [
              "0     10\n",
              "1     10\n",
              "2    110\n",
              "3    120\n",
              "4    150\n",
              "dtype: int64"
            ]
          },
          "execution_count": 36,
          "metadata": {},
          "output_type": "execute_result"
        }
      ],
      "source": [
        "\n",
        "cond = [series > 50,\n",
        "        series < 50] #조건을 넣는 절\n",
        "\n",
        "choice  = [series *2,\n",
        "           10] #처리를 넣는 절\n",
        "\n",
        "res = pd.Series(np.select(cond, choice, series)) #각 위치의 조건에 맞는 처리가 적용된다.\n",
        "res"
      ]
    },
    {
      "cell_type": "code",
      "execution_count": null,
      "id": "b8673339-38e1-4982-ab2f-23b6b36e49a8",
      "metadata": {
        "id": "b8673339-38e1-4982-ab2f-23b6b36e49a8",
        "outputId": "73ae53bf-c649-415a-8d23-401e511b00c7"
      },
      "outputs": [
        {
          "data": {
            "text/plain": [
              "0     10\n",
              "1     45\n",
              "2    110\n",
              "3    120\n",
              "4    150\n",
              "dtype: int64"
            ]
          },
          "execution_count": 20,
          "metadata": {},
          "output_type": "execute_result"
        }
      ],
      "source": [
        "# 결과 답안\n",
        "pd.Series([10, 45, 110, 120, 150])"
      ]
    }
  ],
  "metadata": {
    "colab": {
      "provenance": []
    },
    "kernelspec": {
      "display_name": "Python 3 (ipykernel)",
      "language": "python",
      "name": "python3"
    },
    "language_info": {
      "codemirror_mode": {
        "name": "ipython",
        "version": 3
      },
      "file_extension": ".py",
      "mimetype": "text/x-python",
      "name": "python",
      "nbconvert_exporter": "python",
      "pygments_lexer": "ipython3",
      "version": "3.9.7"
    }
  },
  "nbformat": 4,
  "nbformat_minor": 5
}
