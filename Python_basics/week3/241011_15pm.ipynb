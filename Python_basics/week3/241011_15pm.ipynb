{
  "nbformat": 4,
  "nbformat_minor": 0,
  "metadata": {
    "colab": {
      "provenance": []
    },
    "kernelspec": {
      "name": "python3",
      "display_name": "Python 3"
    },
    "language_info": {
      "name": "python"
    }
  },
  "cells": [
    {
      "cell_type": "markdown",
      "source": [
        "# Google Colab 한글 폰트 설치"
      ],
      "metadata": {
        "id": "VFwQs6Jpi8_A"
      }
    },
    {
      "cell_type": "code",
      "execution_count": 133,
      "metadata": {
        "id": "Yvj4_gyhi6VJ"
      },
      "outputs": [],
      "source": [
        "import sys\n",
        "\n",
        "# Google Colab 환경에서 실행 중인지 확인\n",
        "if 'google.colab' in sys.modules:\n",
        "    # debconf를 Noninteractive 모드로 설정\n",
        "    !echo 'debconf debconf/frontend select Noninteractive' | \\\n",
        "    debconf-set-selections\n",
        "\n",
        "    # fonts-nanum 패키지를 설치\n",
        "    !sudo apt-get -qq -y install fonts-nanum\n",
        "\n",
        "    # Matplotlib의 폰트 매니저 가져오기\n",
        "    import matplotlib.font_manager as fm\n",
        "\n",
        "    # 나눔 폰트의 시스템 경로 찾기\n",
        "    font_files = fm.findSystemFonts(fontpaths=['/usr/share/fonts/truetype/nanum'])\n",
        "\n",
        "    # 찾은 각 나눔 폰트를 Matplotlib 폰트 매니저에 추가\n",
        "    for fpath in font_files:\n",
        "        fm.fontManager.addfont(fpath)"
      ]
    },
    {
      "cell_type": "code",
      "source": [
        "import matplotlib.pyplot as plt\n",
        "\n",
        "plt.rcParams['font.family'] = 'NanumGothic'    #사용 방법1\n",
        "plt.rc('font', family='NanumBarunGothic', size=11) #사용 방법2\n",
        "print(plt.rcParams['font.family'], plt.rcParams['font.size'])   # 폰트확인"
      ],
      "metadata": {
        "colab": {
          "base_uri": "https://localhost:8080/"
        },
        "id": "JTopSdDDpro9",
        "outputId": "1fe06f09-5fb5-47dc-e3dd-16cc7f16bcad"
      },
      "execution_count": 134,
      "outputs": [
        {
          "output_type": "stream",
          "name": "stdout",
          "text": [
            "['NanumBarunGothic'] 11.0\n"
          ]
        }
      ]
    },
    {
      "cell_type": "markdown",
      "source": [
        "- 테스트"
      ],
      "metadata": {
        "id": "aNHYHG2Vptrd"
      }
    },
    {
      "cell_type": "code",
      "source": [
        "plt.plot([1, 2, 3])\n",
        "plt.title(\"한글 잘 나옵니까?\")\n",
        "plt.show()"
      ],
      "metadata": {
        "colab": {
          "base_uri": "https://localhost:8080/",
          "height": 455
        },
        "id": "Q25lV0i1ps0e",
        "outputId": "543d6b5c-e629-485a-8599-7fcb34e0f2db"
      },
      "execution_count": 135,
      "outputs": [
        {
          "output_type": "display_data",
          "data": {
            "text/plain": [
              "<Figure size 640x480 with 1 Axes>"
            ],
            "image/png": "[encoded data removed]"
          },
          "metadata": {}
        }
      ]
    },
    {
      "cell_type": "markdown",
      "source": [
        "# Google Colab과 드라이브 연동"
      ],
      "metadata": {
        "id": "mxS6ciZ4pyB9"
      }
    },
    {
      "cell_type": "code",
      "source": [
        "from google.colab import drive\n",
        "drive.mount(\"/content/drive\")"
      ],
      "metadata": {
        "id": "LvSC43A0p0Gg",
        "colab": {
          "base_uri": "https://localhost:8080/"
        },
        "outputId": "190c7928-83b2-4eac-bec5-f5d893cc4923"
      },
      "execution_count": 136,
      "outputs": [
        {
          "output_type": "stream",
          "name": "stdout",
          "text": [
            "Drive already mounted at /content/drive; to attempt to forcibly remount, call drive.mount(\"/content/drive\", force_remount=True).\n"
          ]
        }
      ]
    },
    {
      "cell_type": "markdown",
      "source": [
        "# 시계열 데이터\n",
        "- 일정 시간 간격으로 배치된 데이터셋"
      ],
      "metadata": {
        "id": "B85xdDHg-B8c"
      }
    },
    {
      "cell_type": "markdown",
      "source": [
        "## pandas 시간을 클래스, Timestamp"
      ],
      "metadata": {
        "id": "t8gtJ2bx-b_1"
      }
    },
    {
      "cell_type": "code",
      "source": [
        "import pandas as pd\n",
        "ts = pd.to_datetime(\"2024-10-11\")\n",
        "print(type(ts), ts)"
      ],
      "metadata": {
        "colab": {
          "base_uri": "https://localhost:8080/"
        },
        "id": "SpHSSUSY-pOz",
        "outputId": "09c3d809-2c3c-4348-ce0e-12850bd10e84"
      },
      "execution_count": 137,
      "outputs": [
        {
          "output_type": "stream",
          "name": "stdout",
          "text": [
            "<class 'pandas._libs.tslibs.timestamps.Timestamp'> 2024-10-11 00:00:00\n"
          ]
        }
      ]
    },
    {
      "cell_type": "code",
      "source": [
        "import pandas as pd\n",
        "ts = pd.to_datetime(\"2024-10-11 09:33:00\")\n",
        "print(type(ts), ts)"
      ],
      "metadata": {
        "colab": {
          "base_uri": "https://localhost:8080/"
        },
        "id": "qbv-cG-0_h8t",
        "outputId": "991a1898-a507-435f-c647-e84661a5cb09"
      },
      "execution_count": 138,
      "outputs": [
        {
          "output_type": "stream",
          "name": "stdout",
          "text": [
            "<class 'pandas._libs.tslibs.timestamps.Timestamp'> 2024-10-11 09:33:00\n"
          ]
        }
      ]
    },
    {
      "cell_type": "code",
      "source": [
        "import pandas as pd\n",
        "ts = pd.to_datetime(\"2024-10-11 090000\")\n",
        "print(type(ts), ts)"
      ],
      "metadata": {
        "colab": {
          "base_uri": "https://localhost:8080/"
        },
        "id": "D0x3EF3i_pKV",
        "outputId": "aa353543-8a9a-465c-b08c-d1c6e7e2b007"
      },
      "execution_count": 139,
      "outputs": [
        {
          "output_type": "stream",
          "name": "stdout",
          "text": [
            "<class 'pandas._libs.tslibs.timestamps.Timestamp'> 2024-10-11 09:00:00\n"
          ]
        }
      ]
    },
    {
      "cell_type": "markdown",
      "source": [
        "## 나라마다 다른 날짜 표기법\n",
        "- 우리나라 : 연도/월/일\n",
        "- 미국 : 월/일/연도\n",
        "- 영국 : 일/월/연도"
      ],
      "metadata": {
        "id": "pAMAwn7o_6iw"
      }
    },
    {
      "cell_type": "code",
      "source": [
        "import pandas as pd\n",
        "\n",
        "# 미국식 표기법, 잘 나옴\n",
        "ts = pd.to_datetime(\"06/07/20\") # 2020년 6월 7일\n",
        "print(type(ts), ts)"
      ],
      "metadata": {
        "colab": {
          "base_uri": "https://localhost:8080/"
        },
        "id": "Ny0_Hw-uAK7b",
        "outputId": "691bb595-8c5b-430b-dad4-cff526d0caa2"
      },
      "execution_count": 140,
      "outputs": [
        {
          "output_type": "stream",
          "name": "stdout",
          "text": [
            "<class 'pandas._libs.tslibs.timestamps.Timestamp'> 2020-06-07 00:00:00\n"
          ]
        }
      ]
    },
    {
      "cell_type": "code",
      "source": [
        "import pandas as pd\n",
        "\n",
        "# 영국식으로 시도하다가 실패함\n",
        "ts = pd.to_datetime(\"07/06/20\") # 2020년 6월 7일\n",
        "print(type(ts), ts)"
      ],
      "metadata": {
        "colab": {
          "base_uri": "https://localhost:8080/"
        },
        "id": "KDehPFyOAW__",
        "outputId": "2f414ea9-49f3-4eed-cffc-ee8246737fd6"
      },
      "execution_count": 141,
      "outputs": [
        {
          "output_type": "stream",
          "name": "stdout",
          "text": [
            "<class 'pandas._libs.tslibs.timestamps.Timestamp'> 2020-07-06 00:00:00\n"
          ]
        }
      ]
    },
    {
      "cell_type": "code",
      "source": [
        "import pandas as pd\n",
        "\n",
        "# 영국식 일/월/연도\n",
        "ts = pd.to_datetime(\"07/06/20\", format='%d/%m/%y') # 2020년 6월 7일\n",
        "print(type(ts), ts)"
      ],
      "metadata": {
        "colab": {
          "base_uri": "https://localhost:8080/"
        },
        "id": "uL-W7B3yBB-h",
        "outputId": "902234a0-d1b8-47d4-ce66-53c4a881cdfd"
      },
      "execution_count": 142,
      "outputs": [
        {
          "output_type": "stream",
          "name": "stdout",
          "text": [
            "<class 'pandas._libs.tslibs.timestamps.Timestamp'> 2020-06-07 00:00:00\n"
          ]
        }
      ]
    },
    {
      "cell_type": "markdown",
      "source": [
        "## Timestamp 클래스 속성 활용"
      ],
      "metadata": {
        "id": "fBJCo5PeCOtX"
      }
    },
    {
      "cell_type": "code",
      "source": [
        "# Timestamp 클래스 안의 속성을 활용해서 연도, 월, 요일, 시분초\n",
        "ts = pd.to_datetime(\"2024-10-11 09:45:10\")\n",
        "print(ts)\n",
        "print(ts.second)\n",
        "print(ts.dayofyear)"
      ],
      "metadata": {
        "colab": {
          "base_uri": "https://localhost:8080/"
        },
        "id": "LkTghepVCFYv",
        "outputId": "5776c89b-d148-4a37-8f9c-2403d719fbbf"
      },
      "execution_count": 143,
      "outputs": [
        {
          "output_type": "stream",
          "name": "stdout",
          "text": [
            "2024-10-11 09:45:10\n",
            "10\n",
            "285\n"
          ]
        }
      ]
    },
    {
      "cell_type": "code",
      "source": [
        "# 날짜를 다시 원래 문자로 변환\n",
        "ts.strftime(\"%Y-%m-%d\")"
      ],
      "metadata": {
        "colab": {
          "base_uri": "https://localhost:8080/",
          "height": 35
        },
        "id": "sRcR5MjWDId_",
        "outputId": "7933270c-9f63-4d5b-9147-df2b6e885846"
      },
      "execution_count": 144,
      "outputs": [
        {
          "output_type": "execute_result",
          "data": {
            "text/plain": [
              "'2024-10-11'"
            ],
            "application/vnd.google.colaboratory.intrinsic+json": {
              "type": "string"
            }
          },
          "metadata": {},
          "execution_count": 144
        }
      ]
    },
    {
      "cell_type": "code",
      "source": [
        "ts.strftime(\"%m-%d-%Y\")"
      ],
      "metadata": {
        "colab": {
          "base_uri": "https://localhost:8080/",
          "height": 35
        },
        "id": "CbzDYpWnDceZ",
        "outputId": "e86b177b-20d3-410f-db30-9c0e7f1db881"
      },
      "execution_count": 145,
      "outputs": [
        {
          "output_type": "execute_result",
          "data": {
            "text/plain": [
              "'10-11-2024'"
            ],
            "application/vnd.google.colaboratory.intrinsic+json": {
              "type": "string"
            }
          },
          "metadata": {},
          "execution_count": 145
        }
      ]
    },
    {
      "cell_type": "markdown",
      "source": [
        "## Timedelta\n",
        "- 시간 연산"
      ],
      "metadata": {
        "id": "wG0oE4flEAMA"
      }
    },
    {
      "cell_type": "code",
      "source": [
        "ts1 = pd.to_datetime(\"2024-10-10 09:45:10\")"
      ],
      "metadata": {
        "id": "VNWyMcZqEziS"
      },
      "execution_count": 146,
      "outputs": []
    },
    {
      "cell_type": "code",
      "source": [
        "# ts + ts1 # Timestamp 클래스끼리는 연산 안됨"
      ],
      "metadata": {
        "id": "TBKhnH_rEksn"
      },
      "execution_count": 147,
      "outputs": []
    },
    {
      "cell_type": "code",
      "source": [
        "temp = pd.Timedelta(days = 100, hours = 2, minutes = 30, seconds = 30)\n",
        "type(temp), temp"
      ],
      "metadata": {
        "colab": {
          "base_uri": "https://localhost:8080/"
        },
        "id": "0NC9PPbMERFc",
        "outputId": "27bf1ca0-304b-4fd9-c4a3-89587234b24f"
      },
      "execution_count": 148,
      "outputs": [
        {
          "output_type": "execute_result",
          "data": {
            "text/plain": [
              "(pandas._libs.tslibs.timedeltas.Timedelta, Timedelta('100 days 02:30:30'))"
            ]
          },
          "metadata": {},
          "execution_count": 148
        }
      ]
    },
    {
      "cell_type": "code",
      "source": [
        "ts - temp"
      ],
      "metadata": {
        "colab": {
          "base_uri": "https://localhost:8080/"
        },
        "id": "MS1-J9HyEmr5",
        "outputId": "2e775229-11a0-41d2-9c30-b29e628f8a63"
      },
      "execution_count": 149,
      "outputs": [
        {
          "output_type": "execute_result",
          "data": {
            "text/plain": [
              "Timestamp('2024-07-03 07:14:40')"
            ]
          },
          "metadata": {},
          "execution_count": 149
        }
      ]
    },
    {
      "cell_type": "code",
      "source": [
        "dates = ['2024-10-09', '2023-10-10', '2024-10-11']\n",
        "idx = pd.to_datetime(dates)\n",
        "idx # 인덱싱, 슬라이싱 가능"
      ],
      "metadata": {
        "colab": {
          "base_uri": "https://localhost:8080/"
        },
        "id": "hJUHbUfaJ_CD",
        "outputId": "e755b068-ad3b-4bd8-8ccc-06eb9af28eeb"
      },
      "execution_count": 150,
      "outputs": [
        {
          "output_type": "execute_result",
          "data": {
            "text/plain": [
              "DatetimeIndex(['2024-10-09', '2023-10-10', '2024-10-11'], dtype='datetime64[ns]', freq=None)"
            ]
          },
          "metadata": {},
          "execution_count": 150
        }
      ]
    },
    {
      "cell_type": "code",
      "source": [
        "idx[0:2]"
      ],
      "metadata": {
        "colab": {
          "base_uri": "https://localhost:8080/"
        },
        "id": "RMVYmbirKRyu",
        "outputId": "bcc033a9-4476-4be6-fb9b-e2db85bb47a0"
      },
      "execution_count": 151,
      "outputs": [
        {
          "output_type": "execute_result",
          "data": {
            "text/plain": [
              "DatetimeIndex(['2024-10-09', '2023-10-10'], dtype='datetime64[ns]', freq=None)"
            ]
          },
          "metadata": {},
          "execution_count": 151
        }
      ]
    },
    {
      "cell_type": "code",
      "source": [
        "idx.year, idx.month, idx.day"
      ],
      "metadata": {
        "colab": {
          "base_uri": "https://localhost:8080/"
        },
        "id": "am3GWEg9Kt9p",
        "outputId": "313715b5-5186-47b9-c3c6-fe4cc88eba79"
      },
      "execution_count": 152,
      "outputs": [
        {
          "output_type": "execute_result",
          "data": {
            "text/plain": [
              "(Index([2024, 2023, 2024], dtype='int32'),\n",
              " Index([10, 10, 10], dtype='int32'),\n",
              " Index([9, 10, 11], dtype='int32'))"
            ]
          },
          "metadata": {},
          "execution_count": 152
        }
      ]
    },
    {
      "cell_type": "markdown",
      "source": [
        "## Unix Time (유닉스 시간)\n",
        "- 1970년 1월 1일, 표준시간 하나 정함"
      ],
      "metadata": {
        "id": "kSU9xjBQLEDs"
      }
    },
    {
      "cell_type": "code",
      "source": [
        "# 1628899200 ==> 1970년 1월 1일부터 경과한 시간을 초로 환산하야 정수로 나타냄\n",
        "day = 1628899200 / 60 / 60 / 24\n",
        "year = day / 365\n",
        "year # 1970년부터 51년이 지남, 0.65"
      ],
      "metadata": {
        "colab": {
          "base_uri": "https://localhost:8080/"
        },
        "id": "pgVOu3z5L3yu",
        "outputId": "67c5e23e-5abe-4697-d17a-ee6dafc6b4ac"
      },
      "execution_count": 153,
      "outputs": [
        {
          "output_type": "execute_result",
          "data": {
            "text/plain": [
              "51.652054794520545"
            ]
          },
          "metadata": {},
          "execution_count": 153
        }
      ]
    },
    {
      "cell_type": "code",
      "source": [
        "dt = pd.to_datetime(1628899200, unit = 's')\n",
        "print(dt)"
      ],
      "metadata": {
        "colab": {
          "base_uri": "https://localhost:8080/"
        },
        "id": "kJAIqlJrMvZ9",
        "outputId": "eacfe9c5-17c5-40c5-ba6e-65af7db84117"
      },
      "execution_count": 154,
      "outputs": [
        {
          "output_type": "stream",
          "name": "stdout",
          "text": [
            "2021-08-14 00:00:00\n"
          ]
        }
      ]
    },
    {
      "cell_type": "markdown",
      "source": [
        "## 데이터프레임 연습"
      ],
      "metadata": {
        "id": "25GYFt4yNK4G"
      }
    },
    {
      "cell_type": "code",
      "source": [
        "data = [\n",
        "    {'시가': 100, '고가': 110, '저가': 90, '종가': 105},\n",
        "    {'시가': 100, '고가': 112, '저가': 80, '종가':  95},\n",
        "    {'시가':  99, '고가': 115, '저가': 70, '종가':  85},\n",
        "    {'시가':  70, '고가':  80, '저가': 60, '종가':  75},\n",
        "]\n",
        "\n",
        "df = pd.DataFrame(data, index=['20200615', '20200616', '20200717', '20200718'])\n",
        "df"
      ],
      "metadata": {
        "colab": {
          "base_uri": "https://localhost:8080/",
          "height": 175
        },
        "id": "yo5ifzqaNM_U",
        "outputId": "5486d6d8-11fa-44e7-8981-31024afe3391"
      },
      "execution_count": 155,
      "outputs": [
        {
          "output_type": "execute_result",
          "data": {
            "text/plain": [
              "           시가   고가  저가   종가\n",
              "20200615  100  110  90  105\n",
              "20200616  100  112  80   95\n",
              "20200717   99  115  70   85\n",
              "20200718   70   80  60   75"
            ],
            "text/html": [
              "\n",
              "  <div id=\"df-33946ede-c98b-4177-98a5-965467f2f0f3\" class=\"colab-df-container\">\n",
              "    <div>\n",
              "<style scoped>\n",
              "    .dataframe tbody tr th:only-of-type {\n",
              "        vertical-align: middle;\n",
              "    }\n",
              "\n",
              "    .dataframe tbody tr th {\n",
              "        vertical-align: top;\n",
              "    }\n",
              "\n",
              "    .dataframe thead th {\n",
              "        text-align: right;\n",
              "    }\n",
              "</style>\n",
              "<table border=\"1\" class=\"dataframe\">\n",
              "  <thead>\n",
              "    <tr style=\"text-align: right;\">\n",
              "      <th></th>\n",
              "      <th>시가</th>\n",
              "      <th>고가</th>\n",
              "      <th>저가</th>\n",
              "      <th>종가</th>\n",
              "    </tr>\n",
              "  </thead>\n",
              "  <tbody>\n",
              "    <tr>\n",
              "      <th>20200615</th>\n",
              "      <td>100</td>\n",
              "      <td>110</td>\n",
              "      <td>90</td>\n",
              "      <td>105</td>\n",
              "    </tr>\n",
              "    <tr>\n",
              "      <th>20200616</th>\n",
              "      <td>100</td>\n",
              "      <td>112</td>\n",
              "      <td>80</td>\n",
              "      <td>95</td>\n",
              "    </tr>\n",
              "    <tr>\n",
              "      <th>20200717</th>\n",
              "      <td>99</td>\n",
              "      <td>115</td>\n",
              "      <td>70</td>\n",
              "      <td>85</td>\n",
              "    </tr>\n",
              "    <tr>\n",
              "      <th>20200718</th>\n",
              "      <td>70</td>\n",
              "      <td>80</td>\n",
              "      <td>60</td>\n",
              "      <td>75</td>\n",
              "    </tr>\n",
              "  </tbody>\n",
              "</table>\n",
              "</div>\n",
              "    <div class=\"colab-df-buttons\">\n",
              "\n",
              "  <div class=\"colab-df-container\">\n",
              "    <button class=\"colab-df-convert\" onclick=\"convertToInteractive('df-33946ede-c98b-4177-98a5-965467f2f0f3')\"\n",
              "            title=\"Convert this dataframe to an interactive table.\"\n",
              "            style=\"display:none;\">\n",
              "\n",
              "  <svg xmlns=\"http://www.w3.org/2000/svg\" height=\"24px\" viewBox=\"0 -960 960 960\">\n",
              "    <path d=\"M120-120v-720h720v720H120Zm60-500h600v-160H180v160Zm220 220h160v-160H400v160Zm0 220h160v-160H400v160ZM180-400h160v-160H180v160Zm440 0h160v-160H620v160ZM180-180h160v-160H180v160Zm440 0h160v-160H620v160Z\"/>\n",
              "  </svg>\n",
              "    </button>\n",
              "\n",
              "  <style>\n",
              "    .colab-df-container {\n",
              "      display:flex;\n",
              "      gap: 12px;\n",
              "    }\n",
              "\n",
              "    .colab-df-convert {\n",
              "      background-color: #E8F0FE;\n",
              "      border: none;\n",
              "      border-radius: 50%;\n",
              "      cursor: pointer;\n",
              "      display: none;\n",
              "      fill: #1967D2;\n",
              "      height: 32px;\n",
              "      padding: 0 0 0 0;\n",
              "      width: 32px;\n",
              "    }\n",
              "\n",
              "    .colab-df-convert:hover {\n",
              "      background-color: #E2EBFA;\n",
              "      box-shadow: 0px 1px 2px rgba(60, 64, 67, 0.3), 0px 1px 3px 1px rgba(60, 64, 67, 0.15);\n",
              "      fill: #174EA6;\n",
              "    }\n",
              "\n",
              "    .colab-df-buttons div {\n",
              "      margin-bottom: 4px;\n",
              "    }\n",
              "\n",
              "    [theme=dark] .colab-df-convert {\n",
              "      background-color: #3B4455;\n",
              "      fill: #D2E3FC;\n",
              "    }\n",
              "\n",
              "    [theme=dark] .colab-df-convert:hover {\n",
              "      background-color: #434B5C;\n",
              "      box-shadow: 0px 1px 3px 1px rgba(0, 0, 0, 0.15);\n",
              "      filter: drop-shadow(0px 1px 2px rgba(0, 0, 0, 0.3));\n",
              "      fill: #FFFFFF;\n",
              "    }\n",
              "  </style>\n",
              "\n",
              "    <script>\n",
              "      const buttonEl =\n",
              "        document.querySelector('#df-33946ede-c98b-4177-98a5-965467f2f0f3 button.colab-df-convert');\n",
              "      buttonEl.style.display =\n",
              "        google.colab.kernel.accessAllowed ? 'block' : 'none';\n",
              "\n",
              "      async function convertToInteractive(key) {\n",
              "        const element = document.querySelector('#df-33946ede-c98b-4177-98a5-965467f2f0f3');\n",
              "        const dataTable =\n",
              "          await google.colab.kernel.invokeFunction('convertToInteractive',\n",
              "                                                    [key], {});\n",
              "        if (!dataTable) return;\n",
              "\n",
              "        const docLinkHtml = 'Like what you see? Visit the ' +\n",
              "          '<a target=\"_blank\" href=https://colab.research.google.com/notebooks/data_table.ipynb>data table notebook</a>'\n",
              "          + ' to learn more about interactive tables.';\n",
              "        element.innerHTML = '';\n",
              "        dataTable['output_type'] = 'display_data';\n",
              "        await google.colab.output.renderOutput(dataTable, element);\n",
              "        const docLink = document.createElement('div');\n",
              "        docLink.innerHTML = docLinkHtml;\n",
              "        element.appendChild(docLink);\n",
              "      }\n",
              "    </script>\n",
              "  </div>\n",
              "\n",
              "\n",
              "<div id=\"df-c71bc0a7-4175-448f-9ec7-3d94b5201813\">\n",
              "  <button class=\"colab-df-quickchart\" onclick=\"quickchart('df-c71bc0a7-4175-448f-9ec7-3d94b5201813')\"\n",
              "            title=\"Suggest charts\"\n",
              "            style=\"display:none;\">\n",
              "\n",
              "<svg xmlns=\"http://www.w3.org/2000/svg\" height=\"24px\"viewBox=\"0 0 24 24\"\n",
              "     width=\"24px\">\n",
              "    <g>\n",
              "        <path d=\"M19 3H5c-1.1 0-2 .9-2 2v14c0 1.1.9 2 2 2h14c1.1 0 2-.9 2-2V5c0-1.1-.9-2-2-2zM9 17H7v-7h2v7zm4 0h-2V7h2v10zm4 0h-2v-4h2v4z\"/>\n",
              "    </g>\n",
              "</svg>\n",
              "  </button>\n",
              "\n",
              "<style>\n",
              "  .colab-df-quickchart {\n",
              "      --bg-color: #E8F0FE;\n",
              "      --fill-color: #1967D2;\n",
              "      --hover-bg-color: #E2EBFA;\n",
              "      --hover-fill-color: #174EA6;\n",
              "      --disabled-fill-color: #AAA;\n",
              "      --disabled-bg-color: #DDD;\n",
              "  }\n",
              "\n",
              "  [theme=dark] .colab-df-quickchart {\n",
              "      --bg-color: #3B4455;\n",
              "      --fill-color: #D2E3FC;\n",
              "      --hover-bg-color: #434B5C;\n",
              "      --hover-fill-color: #FFFFFF;\n",
              "      --disabled-bg-color: #3B4455;\n",
              "      --disabled-fill-color: #666;\n",
              "  }\n",
              "\n",
              "  .colab-df-quickchart {\n",
              "    background-color: var(--bg-color);\n",
              "    border: none;\n",
              "    border-radius: 50%;\n",
              "    cursor: pointer;\n",
              "    display: none;\n",
              "    fill: var(--fill-color);\n",
              "    height: 32px;\n",
              "    padding: 0;\n",
              "    width: 32px;\n",
              "  }\n",
              "\n",
              "  .colab-df-quickchart:hover {\n",
              "    background-color: var(--hover-bg-color);\n",
              "    box-shadow: 0 1px 2px rgba(60, 64, 67, 0.3), 0 1px 3px 1px rgba(60, 64, 67, 0.15);\n",
              "    fill: var(--button-hover-fill-color);\n",
              "  }\n",
              "\n",
              "  .colab-df-quickchart-complete:disabled,\n",
              "  .colab-df-quickchart-complete:disabled:hover {\n",
              "    background-color: var(--disabled-bg-color);\n",
              "    fill: var(--disabled-fill-color);\n",
              "    box-shadow: none;\n",
              "  }\n",
              "\n",
              "  .colab-df-spinner {\n",
              "    border: 2px solid var(--fill-color);\n",
              "    border-color: transparent;\n",
              "    border-bottom-color: var(--fill-color);\n",
              "    animation:\n",
              "      spin 1s steps(1) infinite;\n",
              "  }\n",
              "\n",
              "  @keyframes spin {\n",
              "    0% {\n",
              "      border-color: transparent;\n",
              "      border-bottom-color: var(--fill-color);\n",
              "      border-left-color: var(--fill-color);\n",
              "    }\n",
              "    20% {\n",
              "      border-color: transparent;\n",
              "      border-left-color: var(--fill-color);\n",
              "      border-top-color: var(--fill-color);\n",
              "    }\n",
              "    30% {\n",
              "      border-color: transparent;\n",
              "      border-left-color: var(--fill-color);\n",
              "      border-top-color: var(--fill-color);\n",
              "      border-right-color: var(--fill-color);\n",
              "    }\n",
              "    40% {\n",
              "      border-color: transparent;\n",
              "      border-right-color: var(--fill-color);\n",
              "      border-top-color: var(--fill-color);\n",
              "    }\n",
              "    60% {\n",
              "      border-color: transparent;\n",
              "      border-right-color: var(--fill-color);\n",
              "    }\n",
              "    80% {\n",
              "      border-color: transparent;\n",
              "      border-right-color: var(--fill-color);\n",
              "      border-bottom-color: var(--fill-color);\n",
              "    }\n",
              "    90% {\n",
              "      border-color: transparent;\n",
              "      border-bottom-color: var(--fill-color);\n",
              "    }\n",
              "  }\n",
              "</style>\n",
              "\n",
              "  <script>\n",
              "    async function quickchart(key) {\n",
              "      const quickchartButtonEl =\n",
              "        document.querySelector('#' + key + ' button');\n",
              "      quickchartButtonEl.disabled = true;  // To prevent multiple clicks.\n",
              "      quickchartButtonEl.classList.add('colab-df-spinner');\n",
              "      try {\n",
              "        const charts = await google.colab.kernel.invokeFunction(\n",
              "            'suggestCharts', [key], {});\n",
              "      } catch (error) {\n",
              "        console.error('Error during call to suggestCharts:', error);\n",
              "      }\n",
              "      quickchartButtonEl.classList.remove('colab-df-spinner');\n",
              "      quickchartButtonEl.classList.add('colab-df-quickchart-complete');\n",
              "    }\n",
              "    (() => {\n",
              "      let quickchartButtonEl =\n",
              "        document.querySelector('#df-c71bc0a7-4175-448f-9ec7-3d94b5201813 button');\n",
              "      quickchartButtonEl.style.display =\n",
              "        google.colab.kernel.accessAllowed ? 'block' : 'none';\n",
              "    })();\n",
              "  </script>\n",
              "</div>\n",
              "\n",
              "  <div id=\"id_20461abf-fc2a-4d36-91ea-cef422b432b9\">\n",
              "    <style>\n",
              "      .colab-df-generate {\n",
              "        background-color: #E8F0FE;\n",
              "        border: none;\n",
              "        border-radius: 50%;\n",
              "        cursor: pointer;\n",
              "        display: none;\n",
              "        fill: #1967D2;\n",
              "        height: 32px;\n",
              "        padding: 0 0 0 0;\n",
              "        width: 32px;\n",
              "      }\n",
              "\n",
              "      .colab-df-generate:hover {\n",
              "        background-color: #E2EBFA;\n",
              "        box-shadow: 0px 1px 2px rgba(60, 64, 67, 0.3), 0px 1px 3px 1px rgba(60, 64, 67, 0.15);\n",
              "        fill: #174EA6;\n",
              "      }\n",
              "\n",
              "      [theme=dark] .colab-df-generate {\n",
              "        background-color: #3B4455;\n",
              "        fill: #D2E3FC;\n",
              "      }\n",
              "\n",
              "      [theme=dark] .colab-df-generate:hover {\n",
              "        background-color: #434B5C;\n",
              "        box-shadow: 0px 1px 3px 1px rgba(0, 0, 0, 0.15);\n",
              "        filter: drop-shadow(0px 1px 2px rgba(0, 0, 0, 0.3));\n",
              "        fill: #FFFFFF;\n",
              "      }\n",
              "    </style>\n",
              "    <button class=\"colab-df-generate\" onclick=\"generateWithVariable('df')\"\n",
              "            title=\"Generate code using this dataframe.\"\n",
              "            style=\"display:none;\">\n",
              "\n",
              "  <svg xmlns=\"http://www.w3.org/2000/svg\" height=\"24px\"viewBox=\"0 0 24 24\"\n",
              "       width=\"24px\">\n",
              "    <path d=\"M7,19H8.4L18.45,9,17,7.55,7,17.6ZM5,21V16.75L18.45,3.32a2,2,0,0,1,2.83,0l1.4,1.43a1.91,1.91,0,0,1,.58,1.4,1.91,1.91,0,0,1-.58,1.4L9.25,21ZM18.45,9,17,7.55Zm-12,3A5.31,5.31,0,0,0,4.9,8.1,5.31,5.31,0,0,0,1,6.5,5.31,5.31,0,0,0,4.9,4.9,5.31,5.31,0,0,0,6.5,1,5.31,5.31,0,0,0,8.1,4.9,5.31,5.31,0,0,0,12,6.5,5.46,5.46,0,0,0,6.5,12Z\"/>\n",
              "  </svg>\n",
              "    </button>\n",
              "    <script>\n",
              "      (() => {\n",
              "      const buttonEl =\n",
              "        document.querySelector('#id_20461abf-fc2a-4d36-91ea-cef422b432b9 button.colab-df-generate');\n",
              "      buttonEl.style.display =\n",
              "        google.colab.kernel.accessAllowed ? 'block' : 'none';\n",
              "\n",
              "      buttonEl.onclick = () => {\n",
              "        google.colab.notebook.generateWithVariable('df');\n",
              "      }\n",
              "      })();\n",
              "    </script>\n",
              "  </div>\n",
              "\n",
              "    </div>\n",
              "  </div>\n"
            ],
            "application/vnd.google.colaboratory.intrinsic+json": {
              "type": "dataframe",
              "variable_name": "df",
              "summary": "{\n  \"name\": \"df\",\n  \"rows\": 4,\n  \"fields\": [\n    {\n      \"column\": \"\\uc2dc\\uac00\",\n      \"properties\": {\n        \"dtype\": \"number\",\n        \"std\": 14,\n        \"min\": 70,\n        \"max\": 100,\n        \"num_unique_values\": 3,\n        \"samples\": [\n          100,\n          99,\n          70\n        ],\n        \"semantic_type\": \"\",\n        \"description\": \"\"\n      }\n    },\n    {\n      \"column\": \"\\uace0\\uac00\",\n      \"properties\": {\n        \"dtype\": \"number\",\n        \"std\": 16,\n        \"min\": 80,\n        \"max\": 115,\n        \"num_unique_values\": 4,\n        \"samples\": [\n          112,\n          80,\n          110\n        ],\n        \"semantic_type\": \"\",\n        \"description\": \"\"\n      }\n    },\n    {\n      \"column\": \"\\uc800\\uac00\",\n      \"properties\": {\n        \"dtype\": \"number\",\n        \"std\": 12,\n        \"min\": 60,\n        \"max\": 90,\n        \"num_unique_values\": 4,\n        \"samples\": [\n          80,\n          60,\n          90\n        ],\n        \"semantic_type\": \"\",\n        \"description\": \"\"\n      }\n    },\n    {\n      \"column\": \"\\uc885\\uac00\",\n      \"properties\": {\n        \"dtype\": \"number\",\n        \"std\": 12,\n        \"min\": 75,\n        \"max\": 105,\n        \"num_unique_values\": 4,\n        \"samples\": [\n          95,\n          75,\n          105\n        ],\n        \"semantic_type\": \"\",\n        \"description\": \"\"\n      }\n    }\n  ]\n}"
            }
          },
          "metadata": {},
          "execution_count": 155
        }
      ]
    },
    {
      "cell_type": "code",
      "source": [
        "# 조건식\n",
        "cond = df.index.str[:6] == \"202006\"\n",
        "df.loc[cond]"
      ],
      "metadata": {
        "colab": {
          "base_uri": "https://localhost:8080/",
          "height": 112
        },
        "id": "OVE1PabsNuws",
        "outputId": "44ae9350-5d60-4c41-8f65-6da4afe21d56"
      },
      "execution_count": 156,
      "outputs": [
        {
          "output_type": "execute_result",
          "data": {
            "text/plain": [
              "           시가   고가  저가   종가\n",
              "20200615  100  110  90  105\n",
              "20200616  100  112  80   95"
            ],
            "text/html": [
              "\n",
              "  <div id=\"df-72b3280c-e626-49f4-95e4-f10e110ab935\" class=\"colab-df-container\">\n",
              "    <div>\n",
              "<style scoped>\n",
              "    .dataframe tbody tr th:only-of-type {\n",
              "        vertical-align: middle;\n",
              "    }\n",
              "\n",
              "    .dataframe tbody tr th {\n",
              "        vertical-align: top;\n",
              "    }\n",
              "\n",
              "    .dataframe thead th {\n",
              "        text-align: right;\n",
              "    }\n",
              "</style>\n",
              "<table border=\"1\" class=\"dataframe\">\n",
              "  <thead>\n",
              "    <tr style=\"text-align: right;\">\n",
              "      <th></th>\n",
              "      <th>시가</th>\n",
              "      <th>고가</th>\n",
              "      <th>저가</th>\n",
              "      <th>종가</th>\n",
              "    </tr>\n",
              "  </thead>\n",
              "  <tbody>\n",
              "    <tr>\n",
              "      <th>20200615</th>\n",
              "      <td>100</td>\n",
              "      <td>110</td>\n",
              "      <td>90</td>\n",
              "      <td>105</td>\n",
              "    </tr>\n",
              "    <tr>\n",
              "      <th>20200616</th>\n",
              "      <td>100</td>\n",
              "      <td>112</td>\n",
              "      <td>80</td>\n",
              "      <td>95</td>\n",
              "    </tr>\n",
              "  </tbody>\n",
              "</table>\n",
              "</div>\n",
              "    <div class=\"colab-df-buttons\">\n",
              "\n",
              "  <div class=\"colab-df-container\">\n",
              "    <button class=\"colab-df-convert\" onclick=\"convertToInteractive('df-72b3280c-e626-49f4-95e4-f10e110ab935')\"\n",
              "            title=\"Convert this dataframe to an interactive table.\"\n",
              "            style=\"display:none;\">\n",
              "\n",
              "  <svg xmlns=\"http://www.w3.org/2000/svg\" height=\"24px\" viewBox=\"0 -960 960 960\">\n",
              "    <path d=\"M120-120v-720h720v720H120Zm60-500h600v-160H180v160Zm220 220h160v-160H400v160Zm0 220h160v-160H400v160ZM180-400h160v-160H180v160Zm440 0h160v-160H620v160ZM180-180h160v-160H180v160Zm440 0h160v-160H620v160Z\"/>\n",
              "  </svg>\n",
              "    </button>\n",
              "\n",
              "  <style>\n",
              "    .colab-df-container {\n",
              "      display:flex;\n",
              "      gap: 12px;\n",
              "    }\n",
              "\n",
              "    .colab-df-convert {\n",
              "      background-color: #E8F0FE;\n",
              "      border: none;\n",
              "      border-radius: 50%;\n",
              "      cursor: pointer;\n",
              "      display: none;\n",
              "      fill: #1967D2;\n",
              "      height: 32px;\n",
              "      padding: 0 0 0 0;\n",
              "      width: 32px;\n",
              "    }\n",
              "\n",
              "    .colab-df-convert:hover {\n",
              "      background-color: #E2EBFA;\n",
              "      box-shadow: 0px 1px 2px rgba(60, 64, 67, 0.3), 0px 1px 3px 1px rgba(60, 64, 67, 0.15);\n",
              "      fill: #174EA6;\n",
              "    }\n",
              "\n",
              "    .colab-df-buttons div {\n",
              "      margin-bottom: 4px;\n",
              "    }\n",
              "\n",
              "    [theme=dark] .colab-df-convert {\n",
              "      background-color: #3B4455;\n",
              "      fill: #D2E3FC;\n",
              "    }\n",
              "\n",
              "    [theme=dark] .colab-df-convert:hover {\n",
              "      background-color: #434B5C;\n",
              "      box-shadow: 0px 1px 3px 1px rgba(0, 0, 0, 0.15);\n",
              "      filter: drop-shadow(0px 1px 2px rgba(0, 0, 0, 0.3));\n",
              "      fill: #FFFFFF;\n",
              "    }\n",
              "  </style>\n",
              "\n",
              "    <script>\n",
              "      const buttonEl =\n",
              "        document.querySelector('#df-72b3280c-e626-49f4-95e4-f10e110ab935 button.colab-df-convert');\n",
              "      buttonEl.style.display =\n",
              "        google.colab.kernel.accessAllowed ? 'block' : 'none';\n",
              "\n",
              "      async function convertToInteractive(key) {\n",
              "        const element = document.querySelector('#df-72b3280c-e626-49f4-95e4-f10e110ab935');\n",
              "        const dataTable =\n",
              "          await google.colab.kernel.invokeFunction('convertToInteractive',\n",
              "                                                    [key], {});\n",
              "        if (!dataTable) return;\n",
              "\n",
              "        const docLinkHtml = 'Like what you see? Visit the ' +\n",
              "          '<a target=\"_blank\" href=https://colab.research.google.com/notebooks/data_table.ipynb>data table notebook</a>'\n",
              "          + ' to learn more about interactive tables.';\n",
              "        element.innerHTML = '';\n",
              "        dataTable['output_type'] = 'display_data';\n",
              "        await google.colab.output.renderOutput(dataTable, element);\n",
              "        const docLink = document.createElement('div');\n",
              "        docLink.innerHTML = docLinkHtml;\n",
              "        element.appendChild(docLink);\n",
              "      }\n",
              "    </script>\n",
              "  </div>\n",
              "\n",
              "\n",
              "<div id=\"df-641b4f8f-495b-4025-90e0-5b5d01f2ff36\">\n",
              "  <button class=\"colab-df-quickchart\" onclick=\"quickchart('df-641b4f8f-495b-4025-90e0-5b5d01f2ff36')\"\n",
              "            title=\"Suggest charts\"\n",
              "            style=\"display:none;\">\n",
              "\n",
              "<svg xmlns=\"http://www.w3.org/2000/svg\" height=\"24px\"viewBox=\"0 0 24 24\"\n",
              "     width=\"24px\">\n",
              "    <g>\n",
              "        <path d=\"M19 3H5c-1.1 0-2 .9-2 2v14c0 1.1.9 2 2 2h14c1.1 0 2-.9 2-2V5c0-1.1-.9-2-2-2zM9 17H7v-7h2v7zm4 0h-2V7h2v10zm4 0h-2v-4h2v4z\"/>\n",
              "    </g>\n",
              "</svg>\n",
              "  </button>\n",
              "\n",
              "<style>\n",
              "  .colab-df-quickchart {\n",
              "      --bg-color: #E8F0FE;\n",
              "      --fill-color: #1967D2;\n",
              "      --hover-bg-color: #E2EBFA;\n",
              "      --hover-fill-color: #174EA6;\n",
              "      --disabled-fill-color: #AAA;\n",
              "      --disabled-bg-color: #DDD;\n",
              "  }\n",
              "\n",
              "  [theme=dark] .colab-df-quickchart {\n",
              "      --bg-color: #3B4455;\n",
              "      --fill-color: #D2E3FC;\n",
              "      --hover-bg-color: #434B5C;\n",
              "      --hover-fill-color: #FFFFFF;\n",
              "      --disabled-bg-color: #3B4455;\n",
              "      --disabled-fill-color: #666;\n",
              "  }\n",
              "\n",
              "  .colab-df-quickchart {\n",
              "    background-color: var(--bg-color);\n",
              "    border: none;\n",
              "    border-radius: 50%;\n",
              "    cursor: pointer;\n",
              "    display: none;\n",
              "    fill: var(--fill-color);\n",
              "    height: 32px;\n",
              "    padding: 0;\n",
              "    width: 32px;\n",
              "  }\n",
              "\n",
              "  .colab-df-quickchart:hover {\n",
              "    background-color: var(--hover-bg-color);\n",
              "    box-shadow: 0 1px 2px rgba(60, 64, 67, 0.3), 0 1px 3px 1px rgba(60, 64, 67, 0.15);\n",
              "    fill: var(--button-hover-fill-color);\n",
              "  }\n",
              "\n",
              "  .colab-df-quickchart-complete:disabled,\n",
              "  .colab-df-quickchart-complete:disabled:hover {\n",
              "    background-color: var(--disabled-bg-color);\n",
              "    fill: var(--disabled-fill-color);\n",
              "    box-shadow: none;\n",
              "  }\n",
              "\n",
              "  .colab-df-spinner {\n",
              "    border: 2px solid var(--fill-color);\n",
              "    border-color: transparent;\n",
              "    border-bottom-color: var(--fill-color);\n",
              "    animation:\n",
              "      spin 1s steps(1) infinite;\n",
              "  }\n",
              "\n",
              "  @keyframes spin {\n",
              "    0% {\n",
              "      border-color: transparent;\n",
              "      border-bottom-color: var(--fill-color);\n",
              "      border-left-color: var(--fill-color);\n",
              "    }\n",
              "    20% {\n",
              "      border-color: transparent;\n",
              "      border-left-color: var(--fill-color);\n",
              "      border-top-color: var(--fill-color);\n",
              "    }\n",
              "    30% {\n",
              "      border-color: transparent;\n",
              "      border-left-color: var(--fill-color);\n",
              "      border-top-color: var(--fill-color);\n",
              "      border-right-color: var(--fill-color);\n",
              "    }\n",
              "    40% {\n",
              "      border-color: transparent;\n",
              "      border-right-color: var(--fill-color);\n",
              "      border-top-color: var(--fill-color);\n",
              "    }\n",
              "    60% {\n",
              "      border-color: transparent;\n",
              "      border-right-color: var(--fill-color);\n",
              "    }\n",
              "    80% {\n",
              "      border-color: transparent;\n",
              "      border-right-color: var(--fill-color);\n",
              "      border-bottom-color: var(--fill-color);\n",
              "    }\n",
              "    90% {\n",
              "      border-color: transparent;\n",
              "      border-bottom-color: var(--fill-color);\n",
              "    }\n",
              "  }\n",
              "</style>\n",
              "\n",
              "  <script>\n",
              "    async function quickchart(key) {\n",
              "      const quickchartButtonEl =\n",
              "        document.querySelector('#' + key + ' button');\n",
              "      quickchartButtonEl.disabled = true;  // To prevent multiple clicks.\n",
              "      quickchartButtonEl.classList.add('colab-df-spinner');\n",
              "      try {\n",
              "        const charts = await google.colab.kernel.invokeFunction(\n",
              "            'suggestCharts', [key], {});\n",
              "      } catch (error) {\n",
              "        console.error('Error during call to suggestCharts:', error);\n",
              "      }\n",
              "      quickchartButtonEl.classList.remove('colab-df-spinner');\n",
              "      quickchartButtonEl.classList.add('colab-df-quickchart-complete');\n",
              "    }\n",
              "    (() => {\n",
              "      let quickchartButtonEl =\n",
              "        document.querySelector('#df-641b4f8f-495b-4025-90e0-5b5d01f2ff36 button');\n",
              "      quickchartButtonEl.style.display =\n",
              "        google.colab.kernel.accessAllowed ? 'block' : 'none';\n",
              "    })();\n",
              "  </script>\n",
              "</div>\n",
              "\n",
              "    </div>\n",
              "  </div>\n"
            ],
            "application/vnd.google.colaboratory.intrinsic+json": {
              "type": "dataframe",
              "summary": "{\n  \"name\": \"df\",\n  \"rows\": 2,\n  \"fields\": [\n    {\n      \"column\": \"\\uc2dc\\uac00\",\n      \"properties\": {\n        \"dtype\": \"number\",\n        \"std\": 0,\n        \"min\": 100,\n        \"max\": 100,\n        \"num_unique_values\": 1,\n        \"samples\": [\n          100\n        ],\n        \"semantic_type\": \"\",\n        \"description\": \"\"\n      }\n    },\n    {\n      \"column\": \"\\uace0\\uac00\",\n      \"properties\": {\n        \"dtype\": \"number\",\n        \"std\": 1,\n        \"min\": 110,\n        \"max\": 112,\n        \"num_unique_values\": 2,\n        \"samples\": [\n          112\n        ],\n        \"semantic_type\": \"\",\n        \"description\": \"\"\n      }\n    },\n    {\n      \"column\": \"\\uc800\\uac00\",\n      \"properties\": {\n        \"dtype\": \"number\",\n        \"std\": 7,\n        \"min\": 80,\n        \"max\": 90,\n        \"num_unique_values\": 2,\n        \"samples\": [\n          80\n        ],\n        \"semantic_type\": \"\",\n        \"description\": \"\"\n      }\n    },\n    {\n      \"column\": \"\\uc885\\uac00\",\n      \"properties\": {\n        \"dtype\": \"number\",\n        \"std\": 7,\n        \"min\": 95,\n        \"max\": 105,\n        \"num_unique_values\": 2,\n        \"samples\": [\n          95\n        ],\n        \"semantic_type\": \"\",\n        \"description\": \"\"\n      }\n    }\n  ]\n}"
            }
          },
          "metadata": {},
          "execution_count": 156
        }
      ]
    },
    {
      "cell_type": "markdown",
      "source": [
        "## 날짜 변환"
      ],
      "metadata": {
        "id": "LEQX_gWAOJZr"
      }
    },
    {
      "cell_type": "code",
      "source": [
        "df.index = pd.to_datetime(df.index)\n",
        "df.loc['2020-06']"
      ],
      "metadata": {
        "colab": {
          "base_uri": "https://localhost:8080/",
          "height": 112
        },
        "id": "sufuxBzBOKYK",
        "outputId": "2b287f77-e873-4c95-e317-32022e573e26"
      },
      "execution_count": 157,
      "outputs": [
        {
          "output_type": "execute_result",
          "data": {
            "text/plain": [
              "             시가   고가  저가   종가\n",
              "2020-06-15  100  110  90  105\n",
              "2020-06-16  100  112  80   95"
            ],
            "text/html": [
              "\n",
              "  <div id=\"df-cc654976-1c0d-4ad5-b749-90ff12809bcf\" class=\"colab-df-container\">\n",
              "    <div>\n",
              "<style scoped>\n",
              "    .dataframe tbody tr th:only-of-type {\n",
              "        vertical-align: middle;\n",
              "    }\n",
              "\n",
              "    .dataframe tbody tr th {\n",
              "        vertical-align: top;\n",
              "    }\n",
              "\n",
              "    .dataframe thead th {\n",
              "        text-align: right;\n",
              "    }\n",
              "</style>\n",
              "<table border=\"1\" class=\"dataframe\">\n",
              "  <thead>\n",
              "    <tr style=\"text-align: right;\">\n",
              "      <th></th>\n",
              "      <th>시가</th>\n",
              "      <th>고가</th>\n",
              "      <th>저가</th>\n",
              "      <th>종가</th>\n",
              "    </tr>\n",
              "  </thead>\n",
              "  <tbody>\n",
              "    <tr>\n",
              "      <th>2020-06-15</th>\n",
              "      <td>100</td>\n",
              "      <td>110</td>\n",
              "      <td>90</td>\n",
              "      <td>105</td>\n",
              "    </tr>\n",
              "    <tr>\n",
              "      <th>2020-06-16</th>\n",
              "      <td>100</td>\n",
              "      <td>112</td>\n",
              "      <td>80</td>\n",
              "      <td>95</td>\n",
              "    </tr>\n",
              "  </tbody>\n",
              "</table>\n",
              "</div>\n",
              "    <div class=\"colab-df-buttons\">\n",
              "\n",
              "  <div class=\"colab-df-container\">\n",
              "    <button class=\"colab-df-convert\" onclick=\"convertToInteractive('df-cc654976-1c0d-4ad5-b749-90ff12809bcf')\"\n",
              "            title=\"Convert this dataframe to an interactive table.\"\n",
              "            style=\"display:none;\">\n",
              "\n",
              "  <svg xmlns=\"http://www.w3.org/2000/svg\" height=\"24px\" viewBox=\"0 -960 960 960\">\n",
              "    <path d=\"M120-120v-720h720v720H120Zm60-500h600v-160H180v160Zm220 220h160v-160H400v160Zm0 220h160v-160H400v160ZM180-400h160v-160H180v160Zm440 0h160v-160H620v160ZM180-180h160v-160H180v160Zm440 0h160v-160H620v160Z\"/>\n",
              "  </svg>\n",
              "    </button>\n",
              "\n",
              "  <style>\n",
              "    .colab-df-container {\n",
              "      display:flex;\n",
              "      gap: 12px;\n",
              "    }\n",
              "\n",
              "    .colab-df-convert {\n",
              "      background-color: #E8F0FE;\n",
              "      border: none;\n",
              "      border-radius: 50%;\n",
              "      cursor: pointer;\n",
              "      display: none;\n",
              "      fill: #1967D2;\n",
              "      height: 32px;\n",
              "      padding: 0 0 0 0;\n",
              "      width: 32px;\n",
              "    }\n",
              "\n",
              "    .colab-df-convert:hover {\n",
              "      background-color: #E2EBFA;\n",
              "      box-shadow: 0px 1px 2px rgba(60, 64, 67, 0.3), 0px 1px 3px 1px rgba(60, 64, 67, 0.15);\n",
              "      fill: #174EA6;\n",
              "    }\n",
              "\n",
              "    .colab-df-buttons div {\n",
              "      margin-bottom: 4px;\n",
              "    }\n",
              "\n",
              "    [theme=dark] .colab-df-convert {\n",
              "      background-color: #3B4455;\n",
              "      fill: #D2E3FC;\n",
              "    }\n",
              "\n",
              "    [theme=dark] .colab-df-convert:hover {\n",
              "      background-color: #434B5C;\n",
              "      box-shadow: 0px 1px 3px 1px rgba(0, 0, 0, 0.15);\n",
              "      filter: drop-shadow(0px 1px 2px rgba(0, 0, 0, 0.3));\n",
              "      fill: #FFFFFF;\n",
              "    }\n",
              "  </style>\n",
              "\n",
              "    <script>\n",
              "      const buttonEl =\n",
              "        document.querySelector('#df-cc654976-1c0d-4ad5-b749-90ff12809bcf button.colab-df-convert');\n",
              "      buttonEl.style.display =\n",
              "        google.colab.kernel.accessAllowed ? 'block' : 'none';\n",
              "\n",
              "      async function convertToInteractive(key) {\n",
              "        const element = document.querySelector('#df-cc654976-1c0d-4ad5-b749-90ff12809bcf');\n",
              "        const dataTable =\n",
              "          await google.colab.kernel.invokeFunction('convertToInteractive',\n",
              "                                                    [key], {});\n",
              "        if (!dataTable) return;\n",
              "\n",
              "        const docLinkHtml = 'Like what you see? Visit the ' +\n",
              "          '<a target=\"_blank\" href=https://colab.research.google.com/notebooks/data_table.ipynb>data table notebook</a>'\n",
              "          + ' to learn more about interactive tables.';\n",
              "        element.innerHTML = '';\n",
              "        dataTable['output_type'] = 'display_data';\n",
              "        await google.colab.output.renderOutput(dataTable, element);\n",
              "        const docLink = document.createElement('div');\n",
              "        docLink.innerHTML = docLinkHtml;\n",
              "        element.appendChild(docLink);\n",
              "      }\n",
              "    </script>\n",
              "  </div>\n",
              "\n",
              "\n",
              "<div id=\"df-7d4eccc6-087e-458f-b05e-a47601bf70ea\">\n",
              "  <button class=\"colab-df-quickchart\" onclick=\"quickchart('df-7d4eccc6-087e-458f-b05e-a47601bf70ea')\"\n",
              "            title=\"Suggest charts\"\n",
              "            style=\"display:none;\">\n",
              "\n",
              "<svg xmlns=\"http://www.w3.org/2000/svg\" height=\"24px\"viewBox=\"0 0 24 24\"\n",
              "     width=\"24px\">\n",
              "    <g>\n",
              "        <path d=\"M19 3H5c-1.1 0-2 .9-2 2v14c0 1.1.9 2 2 2h14c1.1 0 2-.9 2-2V5c0-1.1-.9-2-2-2zM9 17H7v-7h2v7zm4 0h-2V7h2v10zm4 0h-2v-4h2v4z\"/>\n",
              "    </g>\n",
              "</svg>\n",
              "  </button>\n",
              "\n",
              "<style>\n",
              "  .colab-df-quickchart {\n",
              "      --bg-color: #E8F0FE;\n",
              "      --fill-color: #1967D2;\n",
              "      --hover-bg-color: #E2EBFA;\n",
              "      --hover-fill-color: #174EA6;\n",
              "      --disabled-fill-color: #AAA;\n",
              "      --disabled-bg-color: #DDD;\n",
              "  }\n",
              "\n",
              "  [theme=dark] .colab-df-quickchart {\n",
              "      --bg-color: #3B4455;\n",
              "      --fill-color: #D2E3FC;\n",
              "      --hover-bg-color: #434B5C;\n",
              "      --hover-fill-color: #FFFFFF;\n",
              "      --disabled-bg-color: #3B4455;\n",
              "      --disabled-fill-color: #666;\n",
              "  }\n",
              "\n",
              "  .colab-df-quickchart {\n",
              "    background-color: var(--bg-color);\n",
              "    border: none;\n",
              "    border-radius: 50%;\n",
              "    cursor: pointer;\n",
              "    display: none;\n",
              "    fill: var(--fill-color);\n",
              "    height: 32px;\n",
              "    padding: 0;\n",
              "    width: 32px;\n",
              "  }\n",
              "\n",
              "  .colab-df-quickchart:hover {\n",
              "    background-color: var(--hover-bg-color);\n",
              "    box-shadow: 0 1px 2px rgba(60, 64, 67, 0.3), 0 1px 3px 1px rgba(60, 64, 67, 0.15);\n",
              "    fill: var(--button-hover-fill-color);\n",
              "  }\n",
              "\n",
              "  .colab-df-quickchart-complete:disabled,\n",
              "  .colab-df-quickchart-complete:disabled:hover {\n",
              "    background-color: var(--disabled-bg-color);\n",
              "    fill: var(--disabled-fill-color);\n",
              "    box-shadow: none;\n",
              "  }\n",
              "\n",
              "  .colab-df-spinner {\n",
              "    border: 2px solid var(--fill-color);\n",
              "    border-color: transparent;\n",
              "    border-bottom-color: var(--fill-color);\n",
              "    animation:\n",
              "      spin 1s steps(1) infinite;\n",
              "  }\n",
              "\n",
              "  @keyframes spin {\n",
              "    0% {\n",
              "      border-color: transparent;\n",
              "      border-bottom-color: var(--fill-color);\n",
              "      border-left-color: var(--fill-color);\n",
              "    }\n",
              "    20% {\n",
              "      border-color: transparent;\n",
              "      border-left-color: var(--fill-color);\n",
              "      border-top-color: var(--fill-color);\n",
              "    }\n",
              "    30% {\n",
              "      border-color: transparent;\n",
              "      border-left-color: var(--fill-color);\n",
              "      border-top-color: var(--fill-color);\n",
              "      border-right-color: var(--fill-color);\n",
              "    }\n",
              "    40% {\n",
              "      border-color: transparent;\n",
              "      border-right-color: var(--fill-color);\n",
              "      border-top-color: var(--fill-color);\n",
              "    }\n",
              "    60% {\n",
              "      border-color: transparent;\n",
              "      border-right-color: var(--fill-color);\n",
              "    }\n",
              "    80% {\n",
              "      border-color: transparent;\n",
              "      border-right-color: var(--fill-color);\n",
              "      border-bottom-color: var(--fill-color);\n",
              "    }\n",
              "    90% {\n",
              "      border-color: transparent;\n",
              "      border-bottom-color: var(--fill-color);\n",
              "    }\n",
              "  }\n",
              "</style>\n",
              "\n",
              "  <script>\n",
              "    async function quickchart(key) {\n",
              "      const quickchartButtonEl =\n",
              "        document.querySelector('#' + key + ' button');\n",
              "      quickchartButtonEl.disabled = true;  // To prevent multiple clicks.\n",
              "      quickchartButtonEl.classList.add('colab-df-spinner');\n",
              "      try {\n",
              "        const charts = await google.colab.kernel.invokeFunction(\n",
              "            'suggestCharts', [key], {});\n",
              "      } catch (error) {\n",
              "        console.error('Error during call to suggestCharts:', error);\n",
              "      }\n",
              "      quickchartButtonEl.classList.remove('colab-df-spinner');\n",
              "      quickchartButtonEl.classList.add('colab-df-quickchart-complete');\n",
              "    }\n",
              "    (() => {\n",
              "      let quickchartButtonEl =\n",
              "        document.querySelector('#df-7d4eccc6-087e-458f-b05e-a47601bf70ea button');\n",
              "      quickchartButtonEl.style.display =\n",
              "        google.colab.kernel.accessAllowed ? 'block' : 'none';\n",
              "    })();\n",
              "  </script>\n",
              "</div>\n",
              "\n",
              "    </div>\n",
              "  </div>\n"
            ],
            "application/vnd.google.colaboratory.intrinsic+json": {
              "type": "dataframe",
              "summary": "{\n  \"name\": \"df\",\n  \"rows\": 2,\n  \"fields\": [\n    {\n      \"column\": \"\\uc2dc\\uac00\",\n      \"properties\": {\n        \"dtype\": \"number\",\n        \"std\": 0,\n        \"min\": 100,\n        \"max\": 100,\n        \"num_unique_values\": 1,\n        \"samples\": [\n          100\n        ],\n        \"semantic_type\": \"\",\n        \"description\": \"\"\n      }\n    },\n    {\n      \"column\": \"\\uace0\\uac00\",\n      \"properties\": {\n        \"dtype\": \"number\",\n        \"std\": 1,\n        \"min\": 110,\n        \"max\": 112,\n        \"num_unique_values\": 2,\n        \"samples\": [\n          112\n        ],\n        \"semantic_type\": \"\",\n        \"description\": \"\"\n      }\n    },\n    {\n      \"column\": \"\\uc800\\uac00\",\n      \"properties\": {\n        \"dtype\": \"number\",\n        \"std\": 7,\n        \"min\": 80,\n        \"max\": 90,\n        \"num_unique_values\": 2,\n        \"samples\": [\n          80\n        ],\n        \"semantic_type\": \"\",\n        \"description\": \"\"\n      }\n    },\n    {\n      \"column\": \"\\uc885\\uac00\",\n      \"properties\": {\n        \"dtype\": \"number\",\n        \"std\": 7,\n        \"min\": 95,\n        \"max\": 105,\n        \"num_unique_values\": 2,\n        \"samples\": [\n          95\n        ],\n        \"semantic_type\": \"\",\n        \"description\": \"\"\n      }\n    }\n  ]\n}"
            }
          },
          "metadata": {},
          "execution_count": 157
        }
      ]
    },
    {
      "cell_type": "code",
      "source": [
        "# 조건식 vs pd.to_datetime 비교\n",
        "\"\"\"\n",
        "cond = df.index.str[:6] == \"202006\"\n",
        "df.loc[cond]\n",
        "\n",
        "df.index = pd.to_datetime(df.index)\n",
        "df.loc['2020-06']\n",
        "\"\"\""
      ],
      "metadata": {
        "colab": {
          "base_uri": "https://localhost:8080/",
          "height": 35
        },
        "id": "J0KWFqLyOcv7",
        "outputId": "d7417d36-99ba-4d1a-c132-7ce362386613"
      },
      "execution_count": 158,
      "outputs": [
        {
          "output_type": "execute_result",
          "data": {
            "text/plain": [
              "'\\ncond = df.index.str[:6] == \"202006\"\\ndf.loc[cond]\\n\\ndf.index = pd.to_datetime(df.index)\\ndf.loc[\\'2020-06\\']\\n'"
            ],
            "application/vnd.google.colaboratory.intrinsic+json": {
              "type": "string"
            }
          },
          "metadata": {},
          "execution_count": 158
        }
      ]
    },
    {
      "cell_type": "markdown",
      "source": [
        "# KRX API 크롤링\n",
        "- 쉬운 방법"
      ],
      "metadata": {
        "id": "eFpPNtDgSR-o"
      }
    },
    {
      "cell_type": "code",
      "source": [
        "!pip install pykrx -q"
      ],
      "metadata": {
        "id": "40T7aeffOhbI"
      },
      "execution_count": 159,
      "outputs": []
    },
    {
      "cell_type": "code",
      "source": [
        "import pykrx\n",
        "print(pykrx.__version__)"
      ],
      "metadata": {
        "colab": {
          "base_uri": "https://localhost:8080/"
        },
        "id": "Zm1dxEZSSdKA",
        "outputId": "f87e4213-63ce-46e5-dbf4-b13bc38fdfa3"
      },
      "execution_count": 160,
      "outputs": [
        {
          "output_type": "stream",
          "name": "stdout",
          "text": [
            "1.0.48\n"
          ]
        }
      ]
    },
    {
      "cell_type": "markdown",
      "source": [
        "## 티커"
      ],
      "metadata": {
        "id": "JO9cRr1lXp8I"
      }
    },
    {
      "cell_type": "code",
      "source": [
        "from pykrx import stock\n",
        "\n",
        "tickers = stock.get_market_ticker_list(\"20241010\")\n",
        "print(len(tickers), tickers)"
      ],
      "metadata": {
        "colab": {
          "base_uri": "https://localhost:8080/"
        },
        "id": "KZCSxgJhXsTo",
        "outputId": "e520288b-a420-414d-e087-cbf406c81dd6"
      },
      "execution_count": 161,
      "outputs": [
        {
          "output_type": "stream",
          "name": "stdout",
          "text": [
            "958 ['095570', '006840', '027410', '282330', '138930', '001460', '001465', '001040', '079160', '00104K', '000120', '011150', '011155', '001045', '097950', '097955', '000480', '000590', '012030', '016610', '005830', '000990', '139130', '001530', '000210', '000215', '375500', '37550L', '37550K', '007340', '004840', '155660', '069730', '017860', '017940', '365550', '383220', '007700', '114090', '078930', '006360', '001250', '007070', '078935', '012630', '039570', '089470', '294870', '009540', '267250', '267270', '443060', '071970', '010620', '322000', '042670', '267260', '329180', '097230', '014790', '003580', '204320', '060980', '011200', '035000', '002460', '487570', '298050', '003560', '175330', '234080', '001060', '001067', '001065', '096760', '105560', '432320', '002380', '344820', '009070', '009440', '119650', '092220', '003620', '016380', '001390', '033180', '015590', '001940', '025000', '092230', '000040', '044450', '030200', '033780', '058850', '058860', '093050', '003550', '034220', '051900', '051905', '373220', '003555', '032640', '011070', '066570', '066575', '037560', '051910', '051915', '079550', '006260', '010120', '000680', '229640', '108320', '001120', '108670', '108675', '383800', '38380K', '023150', '035420', '181710', '400760', '005940', '005945', '338100', '034310', '030190', '008260', '004250', '004255', '456040', '010060', '178920', '005490', '010950', '010955', '034120', '005090', '001380', '004060', '001770', '002360', '009160', '033530', '123700', '025530', '034730', '011790', '018670', '001740', '006120', '006125', '210980', '395400', '302440', '326030', '402340', '361610', '100090', '03473K', '096770', '096775', '475150', '001510', '001515', '285130', '28513K', '017670', '000660', '003570', '064960', '100840', '036530', '005610', '011810', '465770', '077970', '002820', '084870', '002710', '069260', '007980', '002900', '024070', '037270', '000500', '000860', '035250', '011420', '002100', '009450', '267290', '012320', '000050', '214390', '012610', '009140', '013580', '012200', '012205', '002140', '010130', '002240', '009290', '017040', '017900', '037710', '030610', '339770', '007690', '005320', '001140', '002720', '083420', '014530', '014280', '014285', '008870', '001570', '002990', '002995', '011780', '011785', '214330', '001210', '073240', '092440', '000270', '024110', '013700', '004540', '004545', '001260', '008350', '008355', '004270', '003920', '003925', '025860', '005720', '005725', '002350', '002355', '092790', '251270', '090350', '090355', '000320', '000325', '006280', '005250', '005257', '004370', '072710', '058730', '030210', '023590', '145210', '019680', '019685', '006370', '008060', '00806K', '353200', '35320K', '000490', '008110', '005750', '006570', '001680', '001685', '084690', '084695', '128820', '117580', '016710', '003540', '003547', '003545', '009190', '014160', '047040', '009320', '003090', '069620', '000430', '006340', '006345', '003220', '024890', '002880', '000300', '012800', '015230', '001070', '006650', '001440', '084010', '001790', '001795', '001130', '003490', '003495', '005880', '003830', '016090', '069460', '192080', '012510', '004830', '004835', '024900', '145720', '002150', '460850', '460860', '001230', '023450', '004140', '007590', '005960', '005965', '026960', '002210', '102260', '000640', '170900', '028100', '001520', '001527', '084670', '082640', '001525', '008970', '092780', '049770', '018500', '006040', '030720', '014820', '014825', '111380', '163560', '004890', '002690', '000020', '000150', '000157', '454910', '241560', '034020', '000155', '336260', '33626K', '33626L', '016740', '192650', '024090', '003160', '092200', '377190', '013570', '210540', '115390', '032350', '089860', '330590', '000400', '023530', '020150', '280360', '286940', '004000', '004990', '00499K', '005300', '005305', '011170', '071840', '027740', '357430', '001080', '088980', '094800', '138040', '090370', '118000', '017180', '009900', '012690', '005360', '070960', '009680', '009580', '009200', '033920', '008420', '025560', '007120', '396690', '357250', '085620', '006800', '00680K', '006805', '002840', '268280', '107590', '134380', '003650', '377740', '003610', '001340', '035150', '002410', '007210', '002760', '003850', '000890', '003000', '001270', '001275', '026940', '011390', '005030', '002070', '100220', '090460', '005180', '003960', '008040', '007160', '014710', '006090', '062040', '001470', '028050', '448730', '006400', '006405', '006660', '028260', '02826K', '207940', '032830', '018260', '009150', '009155', '005930', '005935', '001360', '010140', '016360', '068290', '029780', '000810', '000815', '006110', '145990', '145995', '003230', '002170', '272550', '000070', '000075', '003720', '002810', '005680', '023000', '004380', '002450', '004440', '000520', '009770', '005500', '004690', '010960', '004450', '009470', '011230', '001820', '000390', '001290', '041650', '075180', '007540', '248170', '007860', '200880', '017390', '004410', '004415', '021050', '008490', '007610', '136490', '014910', '014915', '003080', '004980', '004985', '011300', '000180', '002420', '004360', '004365', '004490', '001430', '306200', '003030', '019440', '058650', '013000', '091090', '021820', '067830', '075580', '068270', '336370', '33637K', '33637L', '248070', '004430', '126720', '017550', '053210', '204210', '026890', '134790', '462870', '016590', '029530', '004970', '011930', '005390', '004170', '035510', '034300', '031430', '031440', '006880', '005800', '001720', '009270', '002700', '002870', '019170', '019175', '481850', '404990', '293940', '055550', '004080', '102280', '004770', '403550', '004920', '112610', '308170', '008700', '002790', '00279K', '002795', '090430', '090435', '002030', '183190', '002310', '012170', '267850', '020560', '122900', '010780', '139990', '001780', '018250', '161000', '011090', '137310', '005850', '010580', '012750', '023960', '298690', '140910', '078520', '015260', '007460', '003060', '244920', '278470', '450080', '036570', '085310', '900140', '066970', '097520', '014440', '111770', '009970', '003520', '000670', '006740', '012280', '012160', '015360', '007310', '002630', '271560', '001800', '011690', '316140', '006980', '017370', '105840', '010400', '049800', '016880', '095720', '005820', '010600', '008600', '033270', '014830', '446070', '000910', '047400', '011330', '077500', '002920', '000700', '003470', '003475', '072130', '000220', '000225', '000227', '001200', '000100', '000105', '003460', '003465', '008730', '008250', '025820', '214320', '088260', '139480', '457190', '007660', '005950', '015020', '093230', '074610', '102460', '084680', '350520', '334890', '000760', '014990', '101140', '006490', '023800', '034590', '129260', '023810', '249420', '000230', '013360', '003120', '003200', '007110', '007570', '007575', '008500', '081000', '020760', '103590', '271940', '015860', '226320', '317400', '033240', '000950', '079900', '348950', '194370', '025620', '030000', '271980', '001560', '002620', '006220', '089590', '004910', '004700', '001550', '462520', '120030', '018470', '002600', '185750', '063160', '001630', '109070', '044380', '013890', '013870', '071320', '088790', '003780', '010640', '100250', '051630', '272450', '011000', '002780', '002787', '002785', '009310', '000650', '012600', '033250', '035720', '323410', '377300', '006380', '001620', '029460', '281820', '381970', '145270', '417310', '357120', '007815', '007810', '00781K', '003690', '192820', '044820', '005070', '005420', '071950', '002020', '138490', '003070', '003075', '450140', '45014K', '002025', '120110', '120115', '021240', '036420', '024720', '031820', '192400', '284740', '264900', '26490K', '005740', '005745', '259960', '020120', '039490', '014580', '015890', '006890', '003240', '011280', '004100', '004105', '009410', '009415', '001420', '055490', '078000', '214420', '019180', '363280', '36328K', '091810', '004870', '034230', '005690', '036580', '004720', '028670', '010820', '016800', '001020', '090080', '010770', '022100', '058430', '047050', '003670', '017810', '103140', '005810', '950210', '009810', '086790', '293480', '039130', '352820', '071090', '019490', '000080', '000087', '000140', '000145', '152550', '036460', '005430', '071050', '071055', '010040', '025540', '010100', '004090', '002200', '002960', '000240', '123890', '015760', '006200', '027970', '023350', '025890', '000970', '104700', '017960', '161890', '161390', '034830', '007280', '168490', '047810', '123690', '003350', '011500', '002390', '053690', '042700', '008930', '128940', '009240', '020000', '003680', '105630', '069640', '016450', '010420', '009180', '213500', '014680', '004710', '004150', '025750', '004960', '011700', '001750', '001755', '018880', '009420', '014130', '300720', '002220', '006390', '003300', '051600', '052690', '130660', '002320', '003480', '180640', '18064K', '005110', '009460', '372910', '000880', '00088K', '452260', '45226K', '451800', '088350', '000370', '009830', '009835', '272210', '012450', '082740', '042660', '000885', '489790', '003530', '003535', '195870', '101530', '143210', '000720', '000725', '453340', '086280', '064350', '079430', '012330', '069960', '004560', '004310', '017800', '307950', '011210', '004020', '005440', '005380', '005387', '005389', '005385', '001500', '011760', '227840', '126560', '001450', '057050', '093240', '003010', '111110', '008770', '008775', '378850', '241590', '006060', '013520', '010690', '133820', '010660', '000850', '016580', '032560', '004800', '094280', '298040', '298020', '298000', '093370', '081660', '005870', '079980', '005010', '000540', '000545', '003280']\n"
          ]
        }
      ]
    },
    {
      "cell_type": "code",
      "source": [
        "tickers = stock.get_market_ticker_list(market='KOSDAQ')\n",
        "print(len(tickers), tickers)"
      ],
      "metadata": {
        "colab": {
          "base_uri": "https://localhost:8080/"
        },
        "id": "LJx8O9m7YCkb",
        "outputId": "0c1c3a52-8d25-4df2-94fb-3c36a393c73b"
      },
      "execution_count": 162,
      "outputs": [
        {
          "output_type": "stream",
          "name": "stdout",
          "text": [
            "1754 ['060310', '054620', '265520', '211270', '109960', '139050', '126600', '013720', '083790', '035760', '311690', '051500', '058820', '023460', '056730', '065770', '083660', '456440', '477760', '099520', '060900', '290120', '025440', '068790', '241520', '180400', '245620', '037370', '050120', '214270', '130500', '900290', '083450', '297890', '440290', '078150', '195940', '028300', '278650', '067630', '024850', '047920', '115450', '046210', '403870', '036640', '439730', '442770', '448760', '467930', '469480', '095340', '950170', '067290', '035900', '318000', '024840', '024120', '455250', '458320', '464680', '476470', '478390', '486630', '021320', '036670', '044180', '046440', '151860', '035600', '226360', '111870', '060720', '058400', '101000', '122450', '052900', '376190', '061970', '309960', '225190', '060370', '417200', '078020', '476080', '086960', '038340', '160550', '053290', '060250', '104200', '222160', '024940', '218410', '327260', '091340', '419530', '019550', '950110', '036120', '246960', '099220', '036540', '255220', '040610', '049470', '184230', '016250', '048550', '063440', '067160', '289080', '089230', '032540', '022220', '048770', '246690', '317240', '057030', '040300', '051390', '052220', '079940', '078890', '399720', '036620', '198440', '217730', '114190', '094480', '039240', '053950', '011040', '024910', '049720', '014570', '348150', '950190', '098460', '035290', '900280', '215000', '121440', '366030', '014200', '029480', '026910', '421800', '440790', '456490', '465320', '482520', '053270', '066620', '043650', '006050', '060480', '078130', '307750', '035080', '453450', '204020', '402490', '114450', '186230', '900070', '204620', '019660', '053260', '282720', '036190', '049080', '420770', '035460', '308100', '407400', '187790', '286750', '121600', '247660', '039860', '091970', '417010', '405920', '051490', '137080', '190510', '242040', '089600', '293580', '138610', '130580', '036800', '267320', '111710', '091590', '168330', '094860', '253590', '212560', '095660', '042420', '950220', '311390', '085910', '092730', '290660', '306620', '153460', '007390', '033640', '330860', '089140', '389650', '137940', '396270', '348210', '225570', '217270', '104620', '194700', '285490', '145170', '106520', '376930', '142280', '234690', '054050', '069140', '040160', '332290', '348340', '060260', '123840', '012340', '214870', '270870', '144960', '085670', '064260', '340360', '039560', '154040', '032190', '323350', '068240', '020400', '008830', '048470', '004780', '017650', '007720', '389260', '317850', '290670', '078140', '065150', '036480', '027830', '104040', '129920', '438220', '442310', '457390', '457630', '471050', '478780', '020180', '045390', '108380', '007680', '048910', '005710', '290380', '120240', '003310', '078600', '096350', '140520', '131220', '010170', '054670', '023910', '021040', '021045', '067080', '298540', '032860', '393890', '299170', '224060', '043090', '213420', '317330', '077360', '090410', '263600', '194480', '263800', '206560', '261200', '067990', '006620', '100130', '005160', '075970', '086450', '099410', '033500', '025950', '088130', '041930', '060380', '079960', '228340', '088910', '094170', '013120', '109860', '032960', '023790', '005290', '025900', '131970', '073190', '030350', '203650', '223250', '060570', '362990', '217620', '016670', '187870', '110990', '263690', '214680', '347850', '263720', '376300', '109740', '196490', '066900', '127120', '092070', '039840', '219550', '310870', '104460', '079810', '113810', '043360', '197140', '068930', '033130', '105740', '263020', '290550', '066670', '187220', '383930', '131180', '315640', '223310', '317120', '462510', '042510', '232680', '418420', '300120', '171120', '388790', '347700', '214260', '200350', '171010', '084650', '217500', '038390', '294140', '443250', '228670', '228850', '412350', '199550', '281740', '277810', '215100', '090360', '108490', '900260', '067730', '071280', '328130', '038060', '141080', '058470', '016100', '012700', '302550', '073570', '377450', '277070', '042500', '193250', '219420', '439090', '195500', '377480', '305090', '098120', '424980', '038290', '267980', '005990', '093520', '377030', '100590', '067280', '072870', '215200', '133750', '446540', '235980', '041920', '014100', '054180', '086900', '078160', '408920', '021880', '140410', '241770', '059210', '058110', '434480', '080420', '417970', '080160', '087260', '101330', '012860', '363260', '348030', '250060', '288980', '142760', '033200', '333050', '118990', '006920', '001810', '279600', '095500', '254490', '218150', '442900', '100790', '412930', '446190', '448830', '477380', '477470', '478440', '482680', '049950', '207760', '059090', '214610', '201490', '452200', '418470', '206640', '018700', '035620', '053030', '301300', '064550', '314930', '208710', '086820', '038460', '251120', '199730', '086040', '099430', '032980', '308080', '043150', '323990', '267790', '046310', '331520', '199480', '438700', '066410', '382900', '206400', '019010', '177350', '424760', '225530', '250000', '310210', '006910', '226340', '014470', '008470', '338220', '100120', '406820', '337930', '099390', '064480', '288330', '365900', '089970', '251630', '018290', '439580', '033560', '369370', '126340', '121800', '082800', '318410', '419540', '146320', '200780', '413640', '141000', '083650', '445360', '473370', '065170', '086670', '335890', '230980', '138580', '082920', '054220', '042370', '050090', '148780', '307870', '357880', '032850', '238200', '093190', '065450', '210120', '044480', '069540', '072950', '451250', '143240', '452430', '419120', '122350', '419050', '014970', '018310', '053700', '009620', '023600', '425290', '439250', '448740', '468510', '009300', '361670', '054540', '065570', '032280', '002290', '037460', '032750', '054090', '000250', '024950', '038500', '437730', '017480', '046390', '027580', '038540', '415580', '452670', '091580', '263810', '089980', '042940', '042600', '107600', '411080', '252990', '378800', '294630', '038070', '006730', '079650', '100660', '019770', '043710', '092190', '046890', '063170', '027040', '018680', '093920', '189860', '178320', '122690', '140070', '011370', '065710', '035890', '357550', '003100', '067370', '171090', '086710', '014620', '037350', '081580', '045300', '015750', '365340', '080470', '043260', '148150', '188260', '053060', '340440', '017510', '011560', '396300', '100700', '024830', '258830', '036630', '039310', '067770', '053450', '222810', '252500', '321370', '347000', '331920', '049180', '299660', '268600', '108860', '208370', '318160', '068760', '068940', '060230', '290690', '950200', '032680', '032685', '258790', '066910', '035610', '357780', '036830', '304100', '328380', '086980', '050960', '084180', '253840', '298830', '236200', '094840', '192440', '424960', '099440', '276040', '159910', '060240', '115570', '330730', '352090', '253450', '408900', '204630', '415380', '013810', '203690', '049830', '020710', '033170', '048870', '025320', '269620', '429270', '418250', '131090', '232830', '290520', '001000', '025870', '215600', '065350', '416180', '162300', '290560', '002800', '472220', '430220', '445970', '017000', '012790', '138070', '226330', '418210', '452980', '474660', '474930', '056700', '187270', '243840', '257720', '222800', '036710', '160980', '356890', '217330', '010280', '208640', '222420', '037760', '099320', '049960', '088280', '050890', '109670', '066790', '222080', '352480', '264660', '352700', '458870', '297090', '900120', '359090', '115530', '115480', '340810', '376290', '189330', '096530', '101240', '060590', '260930', '052300', '413630', '013990', '123860', '025980', '125210', '357580', '052710', '074430', '092040', '083930', '149950', '036010', '050860', '136410', '246720', '067390', '159010', '127710', '154030', '227610', '143160', '054800', '332370', '339950', '469750', '460470', '099190', '461300', '289010', '214430', '040910', '368600', '456010', '052860', '464500', '038880', '307180', '101390', '461030', '451220', '090150', '123010', '031310', '185490', '059100', '262840', '175250', '052460', '119830', '052770', '124500', '372800', '084850', '114840', '027360', '032080', '013310', '059120', '158430', '321820', '001540', '053800', '065660', '297570', '260660', '354320', '361570', '131370', '140670', '096610', '061040', '148250', '347860', '196170', '123750', '085810', '043100', '117670', '314140', '291650', '293780', '196300', '310200', '299910', '179530', '900100', '205500', '052790', '290740', '238090', '092600', '129890', '174900', '255440', '030960', '102120', '263540', '238120', '019990', '270660', '038680', '217480', '121890', '304360', '389500', '042110', '298060', '065420', '103230', '260970', '101490', '095910', '275630', '031330', '060540', '351320', '056190', '080000', '214310', '246250', '041510', '007820', '464080', '109610', '365330', '031860', '306040', '457940', '472230', '473000', '473950', '435870', '455910', '096630', '069510', '234300', '039440', '098660', '052020', '237690', '050760', '288620', '443670', '317830', '058610', '043340', '054630', '200710', '096690', '298380', '203400', '195990', '003800', '088800', '241840', '453860', '312610', '172670', '445090', '295310', '072990', '239610', '462020', '477340', '148930', '044780', '357230', '355690', '071670', '045660', '224110', '021080', '200470', '262260', '397030', '230240', '230360', '038870', '097780', '448280', '101360', '128540', '086520', '247540', '383310', '038110', '073540', '064850', '036810', '173940', '083500', '054940', '950130', '373110', '205100', '356680', '070300', '317770', '373200', '069920', '092870', '317870', '067570', '236810', '333620', '101400', '078860', '422040', '437780', '438580', '439410', '440820', '451700', '466910', '481890', '265740', '354200', '455900', '419080', '208860', '183490', '182400', '348370', '069410', '227950', '291230', '198080', '048830', '096870', '290650', '156100', '073110', '083310', '037950', '170920', '058630', '058970', '019590', '169330', '373170', '179290', '009780', '123040', '323230', '032790', '033160', '347890', '033310', '259630', '105550', '060850', '143540', '036560', '265560', '036000', '250930', '053280', '122640', '900300', '045060', '080520', '039830', '322310', '046120', '014940', '065500', '010470', '417860', '352910', '053980', '036220', '052420', '039200', '226400', '031510', '368970', '138080', '080580', '067170', '353590', '173130', '440320', '049480', '394280', '309930', '244460', '226950', '057540', '131030', '082210', '109080', '380540', '153710', '432430', '338840', '122990', '232140', '112290', '065530', '067900', '007530', '155650', '273640', '251370', '066430', '273060', '019210', '122870', '332570', '079000', '403490', '032820', '041190', '115440', '046970', '082850', '215360', '072470', '073560', '037400', '153490', '101170', '066590', '103840', '046940', '215380', '065680', '018620', '457550', '396470', '307280', '032940', '240810', '074600', '104830', '014190', '217820', '030530', '012620', '382840', '336570', '376980', '008370', '008290', '101160', '336060', '095270', '065950', '076080', '043590', '196700', '069080', '053580', '071460', '377460', '044340', '330350', '348350', '112040', '101730', '123420', '065370', '038620', '299900', '036090', '136540', '097800', '192390', '335870', '900340', '036200', '018000', '203450', '011320', '086390', '241690', '142210', '088340', '048430', '206650', '089850', '084440', '032620', '264450', '078070', '024800', '054930', '069330', '049520', '435380', '444920', '446150', '449020', '450940', '473050', '474490', '430700', '263770', '388720', '340930', '023410', '056080', '468760', '442130', '084370', '240600', '221800', '179900', '263050', '191410', '372170', '146060', '072770', '039020', '067920', '044960', '303530', '296640', '302430', '462350', '274400', '056090', '073490', '215790', '344860', '088390', '272290', '053350', '452400', '264850', '054210', '009730', '164060', '065440', '115610', '478110', '131400', '351330', '080010', '086890', '047560', '900110', '239340', '067010', '418620', '456070', '102710', '041520', '063760', '123570', '083470', '095190', '091120', '039030', '294090', '088290', '353810', '099750', '377330', '035810', '160600', '092130', '096040', '134060', '001840', '024810', '041830', '352940', '079950', '389470', '277410', '060150', '033230', '450520', '037330', '100030', '211050', '083640', '064090', '216050', '049070', '119610', '017250', '051370', '064290', '189300', '150840', '048530', '115310', '039290', '071200', '101930', '333430', '068330', '178780', '019540', '094820', '950140', '049550', '389020', '254120', '043910', '234920', '289220', '174880', '049630', '417840', '110020', '208140', '040420', '045510', '217190', '095700', '072520', '122310', '361390', '187420', '225220', '123330', '381620', '159580', '147830', '033100', '079370', '054950', '023440', '090470', '287410', '137950', '033320', '417500', '204270', '026040', '452160', '126880', '322510', '033050', '094970', '418550', '420570', '089790', '052670', '412540', '199820', '038010', '276730', '080220', '216080', '229000', '082270', '044060', '034940', '067000', '033340', '036930', '072020', '000440', '051980', '228760', '314130', '389030', '043610', '263860', '303030', '036180', '208350', '144510', '358570', '382480', '382800', '051160', '053050', '119850', '065060', '204840', '270520', '311320', '388050', '018120', '109820', '086060', '036890', '363250', '007370', '285800', '085660', '261780', '351870', '094850', '004650', '278280', '362320', '066360', '047820', '094360', '016920', '284620', '293490', '140430', '042000', '313760', '317530', '071850', '050110', '452300', '451760', '900310', '078340', '063080', '307930', '079190', '263700', '214370', '221980', '038530', '424140', '192250', '431190', '115500', '089150', '025880', '093320', '093640', '073010', '105330', '053080', '199430', '432470', '272110', '039420', '083550', '032500', '225430', '102370', '068100', '036030', '064820', '256940', '024880', '042040', '054410', '258610', '274090', '089010', '220260', '052400', '402030', '391710', '046070', '047770', '080530', '104540', '027050', '190650', '123410', '036690', '049430', '183300', '041960', '089890', '360350', '082660', '222040', '241710', '355150', '166480', '045970', '196450', '384470', '029960', '102940', '950160', '033290', '056360', '282880', '121850', '448710', '126730', '015710', '052330', '322780', '200130', '294570', '317690', '078940', '227100', '432720', '365270', '348080', '060280', '372320', '051780', '115180', '445680', '182360', '405100', '066310', '016600', '355390', '096240', '040350', '110790', '900250', '045520', '036170', '214150', '352770', '237880', '139670', '413600', '433530', '446840', '054780', '219130', '360070', '065130', '134580', '023160', '323280', '053620', '044490', '124560', '191420', '073640', '066700', '095610', '064520', '089030', '054450', '200230', '393210', '215480', '051360', '045340', '108230', '079970', '199800', '417790', '290090', '026150', '464280', '322180', '117730', '033830', '057680', '204610', '064760', '246710', '340570', '043220', '277880', '131290', '425420', '131100', '356860', '062860', '321550', '425040', '241790', '104480', '081150', '130740', '084730', '440110', '033540', '388870', '043200', '214450', '208340', '177830', '037070', '150900', '037030', '047310', '368770', '170790', '049120', '038950', '441270', '106240', '131760', '065690', '140860', '091700', '032800', '318010', '027710', '225590', '054300', '068050', '222110', '271830', '263750', '251970', '168360', '087010', '064800', '119500', '389140', '105760', '009520', '189690', '318020', '256630', '331380', '472850', '039980', '041910', '234100', '041020', '114630', '290720', '005670', '094940', '057880', '007330', '093380', '023900', '371950', '370090', '445180', '151910', '220100', '035200', '334970', '321260', '053610', '303360', '377220', '335810', '053160', '405000', '041590', '367000', '075130', '237820', '023770', '019570', '300080', '033790', '032580', '051380', '241820', '237750', '460940', '319660', '031980', '002230', '043370', '239890', '347740', '137400', '257370', '147760', '128660', '006140', '376180', '304840', '062970', '087600', '291810', '378340', '161580', '347770', '163730', '417180', '446750', '448370', '454750', '454640', '469880', '469900', '475240', '475250', '406760', '418170', '435620', '299030', '067310', '166090', '136480', '003380', '450330', '101670', '365590', '149980', '013030', '126700', '106080', '450050', '160190', '221840', '106190', '065650', '066130', '004590', '039340', '034950', '222980', '256840', '219750', '025550', '017890', '080720', '063570', '041460', '101680', '039740', '053300', '025770', '458610', '464440', '477530', '479880', '023760', '054040', '021650', '032300', '037230', '030520', '052600', '256150', '092460', '452190', '047080', '452280', '066980', '114810', '070590', '226440', '042520', '430690', '078350', '045100', '320000', '091440', '024740', '005860', '007770', '198940', '058450', '107640', '079170', '054920', '002680', '430460', '455310', '034810', '03481K', '059270', '076610', '220180', '900270', '214180', '234340', '084990', '187660', '170030', '319400', '048410', '052260', '016790', '041440', '039010', '090850', '460930', '092300', '138360', '011080', '060560', '064240', '039610', '126640', '127980', '061250', '097870', '290270', '353190', '192410', '090710', '078590', '205470', '115160', '028080', '175140', '200670', '065510', '215090', '263920', '243070', '084110', '145020', '024060', '010240', '189980', '037440', '238490']\n"
          ]
        }
      ]
    },
    {
      "cell_type": "code",
      "source": [
        "tickers = stock.get_index_ticker_list(\"20241010\")\n",
        "print(tickers)"
      ],
      "metadata": {
        "colab": {
          "base_uri": "https://localhost:8080/"
        },
        "id": "xsnGuUkzYWfu",
        "outputId": "22e48184-c66e-4d84-c809-c3992d3fc120"
      },
      "execution_count": 163,
      "outputs": [
        {
          "output_type": "stream",
          "name": "stdout",
          "text": [
            "['1001', '1002', '1003', '1004', '1005', '1006', '1007', '1008', '1009', '1010', '1011', '1012', '1013', '1014', '1015', '1016', '1017', '1018', '1019', '1020', '1021', '1024', '1025', '1026', '1027', '1028', '1034', '1035', '1150', '1151', '1152', '1153', '1154', '1155', '1156', '1157', '1158', '1159', '1160', '1167', '1182', '1224', '1227', '1232', '1244', '1894']\n"
          ]
        }
      ]
    },
    {
      "cell_type": "code",
      "source": [
        "tickers = stock.get_index_ticker_list(\"20241010\")\n",
        "print(tickers)\n",
        "\n",
        "for t in tickers:\n",
        "  name = stock.get_index_ticker_name(t)\n",
        "  print(t, name)"
      ],
      "metadata": {
        "colab": {
          "base_uri": "https://localhost:8080/"
        },
        "id": "Zn-f8tEaYgJP",
        "outputId": "c9b42642-84f1-4d48-96db-59652c0c4fe2"
      },
      "execution_count": 164,
      "outputs": [
        {
          "output_type": "stream",
          "name": "stdout",
          "text": [
            "['1001', '1002', '1003', '1004', '1005', '1006', '1007', '1008', '1009', '1010', '1011', '1012', '1013', '1014', '1015', '1016', '1017', '1018', '1019', '1020', '1021', '1024', '1025', '1026', '1027', '1028', '1034', '1035', '1150', '1151', '1152', '1153', '1154', '1155', '1156', '1157', '1158', '1159', '1160', '1167', '1182', '1224', '1227', '1232', '1244', '1894']\n",
            "1001 코스피\n",
            "1002 코스피 대형주\n",
            "1003 코스피 중형주\n",
            "1004 코스피 소형주\n",
            "1005 음식료품\n",
            "1006 섬유의복\n",
            "1007 종이목재\n",
            "1008 화학\n",
            "1009 의약품\n",
            "1010 비금속광물\n",
            "1011 철강금속\n",
            "1012 기계\n",
            "1013 전기전자\n",
            "1014 의료정밀\n",
            "1015 운수장비\n",
            "1016 유통업\n",
            "1017 전기가스업\n",
            "1018 건설업\n",
            "1019 운수창고업\n",
            "1020 통신업\n",
            "1021 금융업\n",
            "1024 증권\n",
            "1025 보험\n",
            "1026 서비스업\n",
            "1027 제조업\n",
            "1028 코스피 200\n",
            "1034 코스피 100\n",
            "1035 코스피 50\n",
            "1150 코스피 200 커뮤니케이션서비스\n",
            "1151 코스피 200 건설\n",
            "1152 코스피 200 중공업\n",
            "1153 코스피 200 철강/소재\n",
            "1154 코스피 200 에너지/화학\n",
            "1155 코스피 200 정보기술\n",
            "1156 코스피 200 금융\n",
            "1157 코스피 200 생활소비재\n",
            "1158 코스피 200 경기소비재\n",
            "1159 코스피 200 산업재\n",
            "1160 코스피 200 헬스케어\n",
            "1167 코스피 200 중소형주\n",
            "1182 코스피 200 초대형제외 지수\n",
            "1224 코스피 200 비중상한 30%\n",
            "1227 코스피 200 비중상한 25%\n",
            "1232 코스피 200 비중상한 20%\n",
            "1244 코스피200제외 코스피지수\n",
            "1894 코스피 200 TOP 10\n"
          ]
        }
      ]
    },
    {
      "cell_type": "code",
      "source": [
        "df = stock.get_market_ohlcv(\"20240401\", \"20241010\", \"005930\")\n",
        "print(df.head(3))"
      ],
      "metadata": {
        "colab": {
          "base_uri": "https://localhost:8080/"
        },
        "id": "9WmrQQ3wadKE",
        "outputId": "13e8fe8a-f29f-4a1d-d941-182929cf2aef"
      },
      "execution_count": 165,
      "outputs": [
        {
          "output_type": "stream",
          "name": "stdout",
          "text": [
            "               시가     고가     저가     종가       거래량       등락률\n",
            "날짜                                                        \n",
            "2024-04-01  83200  83300  82000  82000  20116513 -0.485437\n",
            "2024-04-02  82900  85000  82900  85000  37077944  3.658537\n",
            "2024-04-03  84300  85000  83500  84100  30493347 -1.058824\n"
          ]
        }
      ]
    },
    {
      "cell_type": "code",
      "source": [
        "print(df.tail(3))"
      ],
      "metadata": {
        "colab": {
          "base_uri": "https://localhost:8080/"
        },
        "id": "_h4lHHUtak0e",
        "outputId": "891c5218-ec97-42f1-def7-ff15c58c966e"
      },
      "execution_count": 166,
      "outputs": [
        {
          "output_type": "stream",
          "name": "stdout",
          "text": [
            "               시가     고가     저가     종가       거래량       등락률\n",
            "날짜                                                        \n",
            "2024-10-07  60200  61900  59500  61000  35066533  0.660066\n",
            "2024-10-08  60000  61000  59900  60300  27411786 -1.147541\n",
            "2024-10-10  60100  60200  58900  58900  45262214 -2.321725\n"
          ]
        }
      ]
    },
    {
      "cell_type": "code",
      "source": [],
      "metadata": {
        "id": "fRpHLIVFbzEk"
      },
      "execution_count": 166,
      "outputs": []
    },
    {
      "cell_type": "code",
      "source": [
        "stock.get_market_ticker_list(\"20190225\")[:5]"
      ],
      "metadata": {
        "colab": {
          "base_uri": "https://localhost:8080/"
        },
        "id": "pHoY4iVfcDHL",
        "outputId": "43bcf304-b24e-4a02-a1e8-3515d27a1fed"
      },
      "execution_count": 167,
      "outputs": [
        {
          "output_type": "execute_result",
          "data": {
            "text/plain": [
              "['095570', '068400', '006840', '027410', '282330']"
            ]
          },
          "metadata": {},
          "execution_count": 167
        }
      ]
    },
    {
      "cell_type": "markdown",
      "source": [
        "- 첫번째 미션, 난수 생성\n",
        "- 두번째 미션, ticker에 매칭되는 종목명도 같이 출력(진행 ㄱㄱ)"
      ],
      "metadata": {
        "id": "PILGJHYpcW5b"
      }
    },
    {
      "cell_type": "code",
      "source": [
        "# 이 코드 활용\n",
        "for ticker in stock.get_market_ticker_list():\n",
        "        종목 = stock.get_market_ticker_name(ticker)\n",
        "        print(종목)"
      ],
      "metadata": {
        "colab": {
          "base_uri": "https://localhost:8080/"
        },
        "id": "b-wBVijrdR2o",
        "outputId": "74d2258a-e0ba-4087-f898-34bceb4160bf"
      },
      "execution_count": 168,
      "outputs": [
        {
          "output_type": "stream",
          "name": "stdout",
          "text": [
            "AJ네트웍스\n",
            "AK홀딩스\n",
            "BGF\n",
            "BGF리테일\n",
            "BNK금융지주\n",
            "BYC\n",
            "BYC우\n",
            "CJ\n",
            "CJ CGV\n",
            "CJ4우(전환)\n",
            "CJ대한통운\n",
            "CJ씨푸드\n",
            "CJ씨푸드1우\n",
            "CJ우\n",
            "CJ제일제당\n",
            "CJ제일제당 우\n",
            "CR홀딩스\n",
            "CS홀딩스\n",
            "DB\n",
            "DB금융투자\n",
            "DB손해보험\n",
            "DB하이텍\n",
            "DGB금융지주\n",
            "DI동일\n",
            "DL\n",
            "DL우\n",
            "DL이앤씨\n",
            "DL이앤씨2우(전환)\n",
            "DL이앤씨우\n",
            "DN오토모티브\n",
            "DRB동일\n",
            "DSR\n",
            "DSR제강\n",
            "DS단석\n",
            "E1\n",
            "ESR켄달스퀘어리츠\n",
            "F&F\n",
            "F&F홀딩스\n",
            "GKL\n",
            "GS\n",
            "GS건설\n",
            "GS글로벌\n",
            "GS리테일\n",
            "GS우\n",
            "HDC\n",
            "HDC랩스\n",
            "HDC현대EP\n",
            "HDC현대산업개발\n",
            "HD한국조선해양\n",
            "HD현대\n",
            "HD현대건설기계\n",
            "HD현대마린솔루션\n",
            "HD현대마린엔진\n",
            "HD현대미포\n",
            "HD현대에너지솔루션\n",
            "HD현대인프라코어\n",
            "HD현대일렉트릭\n",
            "HD현대중공업\n",
            "HJ중공업\n",
            "HL D&I\n",
            "HLB글로벌\n",
            "HL만도\n",
            "HL홀딩스\n",
            "HMM\n",
            "HS애드\n",
            "HS화성\n",
            "HS효성\n",
            "HS효성첨단소재\n",
            "IHQ\n",
            "JB금융지주\n",
            "JW생명과학\n",
            "JW중외제약\n",
            "JW중외제약2우B\n",
            "JW중외제약우\n",
            "JW홀딩스\n",
            "KB금융\n",
            "KB스타리츠\n",
            "KCC\n",
            "KCC글라스\n",
            "KCTC\n",
            "KC그린홀딩스\n",
            "KC코트렐\n",
            "KEC\n",
            "KG모빌리티\n",
            "KG스틸\n",
            "KG케미칼\n",
            "KH 필룩스\n",
            "KIB플러그에너지\n",
            "KISCO홀딩스\n",
            "KPX케미칼\n",
            "KPX홀딩스\n",
            "KR모터스\n",
            "KSS해운\n",
            "KT\n",
            "KT&G\n",
            "KTcs\n",
            "KTis\n",
            "LF\n",
            "LG\n",
            "LG디스플레이\n",
            "LG생활건강\n",
            "LG생활건강우\n",
            "LG에너지솔루션\n",
            "LG우\n",
            "LG유플러스\n",
            "LG이노텍\n",
            "LG전자\n",
            "LG전자우\n",
            "LG헬로비전\n",
            "LG화학\n",
            "LG화학우\n",
            "LIG넥스원\n",
            "LS\n",
            "LS ELECTRIC\n",
            "LS네트웍스\n",
            "LS에코에너지\n",
            "LX세미콘\n",
            "LX인터내셔널\n",
            "LX하우시스\n",
            "LX하우시스우\n",
            "LX홀딩스\n",
            "LX홀딩스1우\n",
            "MH에탄올\n",
            "NAVER\n",
            "NHN\n",
            "NH올원리츠\n",
            "NH투자증권\n",
            "NH투자증권우\n",
            "NH프라임리츠\n",
            "NICE\n",
            "NICE평가정보\n",
            "NI스틸\n",
            "NPC\n",
            "NPC우\n",
            "OCI\n",
            "OCI홀딩스\n",
            "PI첨단소재\n",
            "POSCO홀딩스\n",
            "S-Oil\n",
            "S-Oil우\n",
            "SBS\n",
            "SGC에너지\n",
            "SG글로벌\n",
            "SG세계물산\n",
            "SHD\n",
            "SH에너지화학\n",
            "SIMPAC\n",
            "SJG세종\n",
            "SJM\n",
            "SJM홀딩스\n",
            "SK\n",
            "SKC\n",
            "SK가스\n",
            "SK네트웍스\n",
            "SK디스커버리\n",
            "SK디스커버리우\n",
            "SK디앤디\n",
            "SK리츠\n",
            "SK바이오사이언스\n",
            "SK바이오팜\n",
            "SK스퀘어\n",
            "SK아이이테크놀로지\n",
            "SK오션플랜트\n",
            "SK우\n",
            "SK이노베이션\n",
            "SK이노베이션우\n",
            "SK이터닉스\n",
            "SK증권\n",
            "SK증권우\n",
            "SK케미칼\n",
            "SK케미칼우\n",
            "SK텔레콤\n",
            "SK하이닉스\n",
            "SNT다이내믹스\n",
            "SNT모티브\n",
            "SNT에너지\n",
            "SNT홀딩스\n",
            "SPC삼립\n",
            "STX\n",
            "STX그린로지스\n",
            "STX엔진\n",
            "SUN&L\n",
            "TBH글로벌\n",
            "TCC스틸\n",
            "TKG휴켐스\n",
            "TP\n",
            "TYM\n",
            "WISCOM\n",
            "YG PLUS\n",
            "가온전선\n",
            "강남제비스코\n",
            "강원랜드\n",
            "갤럭시아에스엠\n",
            "경농\n",
            "경동나비엔\n",
            "경동도시가스\n",
            "경동인베스트\n",
            "경방\n",
            "경보제약\n",
            "경인양행\n",
            "경인전자\n",
            "계룡건설\n",
            "계양전기\n",
            "계양전기우\n",
            "고려산업\n",
            "고려아연\n",
            "고려제강\n",
            "광동제약\n",
            "광명전기\n",
            "광전자\n",
            "광주신세계\n",
            "교보증권\n",
            "교촌에프앤비\n",
            "국도화학\n",
            "국동\n",
            "국보\n",
            "국제약품\n",
            "그린케미칼\n",
            "극동유화\n",
            "금강공업\n",
            "금강공업우\n",
            "금비\n",
            "금양\n",
            "금호건설\n",
            "금호건설우\n",
            "금호석유\n",
            "금호석유우\n",
            "금호에이치티\n",
            "금호전기\n",
            "금호타이어\n",
            "기신정기\n",
            "기아\n",
            "기업은행\n",
            "까뮤이앤씨\n",
            "깨끗한나라\n",
            "깨끗한나라우\n",
            "남광토건\n",
            "남선알미늄\n",
            "남선알미우\n",
            "남성\n",
            "남양유업\n",
            "남양유업우\n",
            "남해화학\n",
            "넥센\n",
            "넥센우\n",
            "넥센타이어\n",
            "넥센타이어1우B\n",
            "넥스틸\n",
            "넷마블\n",
            "노루페인트\n",
            "노루페인트우\n",
            "노루홀딩스\n",
            "노루홀딩스우\n",
            "녹십자\n",
            "녹십자홀딩스\n",
            "녹십자홀딩스2우\n",
            "농심\n",
            "농심홀딩스\n",
            "다스코\n",
            "다올투자증권\n",
            "다우기술\n",
            "다이나믹디자인\n",
            "대교\n",
            "대교우B\n",
            "대구백화점\n",
            "대덕\n",
            "대덕1우\n",
            "대덕전자\n",
            "대덕전자1우\n",
            "대동\n",
            "대동전자\n",
            "대림B&Co\n",
            "대림통상\n",
            "대상\n",
            "대상우\n",
            "대상홀딩스\n",
            "대상홀딩스우\n",
            "대성산업\n",
            "대성에너지\n",
            "대성홀딩스\n",
            "대신증권\n",
            "대신증권2우B\n",
            "대신증권우\n",
            "대양금속\n",
            "대영포장\n",
            "대우건설\n",
            "대우부품\n",
            "대웅\n",
            "대웅제약\n",
            "대원강업\n",
            "대원전선\n",
            "대원전선우\n",
            "대원제약\n",
            "대원화성\n",
            "대유에이텍\n",
            "대유플러스\n",
            "대창\n",
            "대창단조\n",
            "대한방직\n",
            "대한유화\n",
            "대한전선\n",
            "대한제강\n",
            "대한제당\n",
            "대한제당우\n",
            "대한제분\n",
            "대한항공\n",
            "대한항공우\n",
            "대한해운\n",
            "대한화섬\n",
            "대현\n",
            "대호에이엘\n",
            "더블유게임즈\n",
            "더존비즈온\n",
            "덕성\n",
            "덕성우\n",
            "덕양산업\n",
            "덴티움\n",
            "도화엔지니어링\n",
            "동국씨엠\n",
            "동국제강\n",
            "동국홀딩스\n",
            "동남합성\n",
            "동방\n",
            "동방아그로\n",
            "동부건설\n",
            "동부건설우\n",
            "동서\n",
            "동성제약\n",
            "동성케미컬\n",
            "동아쏘시오홀딩스\n",
            "동아에스티\n",
            "동아지질\n",
            "동양\n",
            "동양2우B\n",
            "동양고속\n",
            "동양생명\n",
            "동양우\n",
            "동양철관\n",
            "동양피스톤\n",
            "동원F&B\n",
            "동원금속\n",
            "동원산업\n",
            "동원수산\n",
            "동원시스템즈\n",
            "동원시스템즈우\n",
            "동인기연\n",
            "동일고무벨트\n",
            "동일산업\n",
            "동일제강\n",
            "동화약품\n",
            "두산\n",
            "두산2우B\n",
            "두산로보틱스\n",
            "두산밥캣\n",
            "두산에너빌리티\n",
            "두산우\n",
            "두산퓨얼셀\n",
            "두산퓨얼셀1우\n",
            "두산퓨얼셀2우B\n",
            "두올\n",
            "드림텍\n",
            "디씨엠\n",
            "디아이\n",
            "디아이씨\n",
            "디앤디플랫폼리츠\n",
            "디와이\n",
            "디와이파워\n",
            "락앤락\n",
            "롯데관광개발\n",
            "롯데렌탈\n",
            "롯데리츠\n",
            "롯데손해보험\n",
            "롯데쇼핑\n",
            "롯데에너지머티리얼즈\n",
            "롯데웰푸드\n",
            "롯데이노베이트\n",
            "롯데정밀화학\n",
            "롯데지주\n",
            "롯데지주우\n",
            "롯데칠성\n",
            "롯데칠성우\n",
            "롯데케미칼\n",
            "롯데하이마트\n",
            "마니커\n",
            "마스턴프리미어리츠\n",
            "만호제강\n",
            "맥쿼리인프라\n",
            "맵스리얼티1\n",
            "메리츠금융지주\n",
            "메타랩스\n",
            "메타케어\n",
            "명문제약\n",
            "명신산업\n",
            "모나리자\n",
            "모나미\n",
            "모나용평\n",
            "모토닉\n",
            "무림P&P\n",
            "무림페이퍼\n",
            "무학\n",
            "문배철강\n",
            "미래산업\n",
            "미래아이앤지\n",
            "미래에셋글로벌리츠\n",
            "미래에셋맵스리츠\n",
            "미래에셋생명\n",
            "미래에셋증권\n",
            "미래에셋증권2우B\n",
            "미래에셋증권우\n",
            "미원상사\n",
            "미원에스씨\n",
            "미원홀딩스\n",
            "미원화학\n",
            "미창석유\n",
            "바이오노트\n",
            "방림\n",
            "백광산업\n",
            "백산\n",
            "범양건영\n",
            "벽산\n",
            "보락\n",
            "보령\n",
            "보해양조\n",
            "부광약품\n",
            "부국증권\n",
            "부국증권우\n",
            "부국철강\n",
            "부산산업\n",
            "부산주공\n",
            "비비안\n",
            "비상교육\n",
            "비에이치\n",
            "빙그레\n",
            "사조대림\n",
            "사조동아원\n",
            "사조산업\n",
            "사조씨푸드\n",
            "사조오양\n",
            "산일전기\n",
            "삼부토건\n",
            "삼성E&A\n",
            "삼성FN리츠\n",
            "삼성SDI\n",
            "삼성SDI우\n",
            "삼성공조\n",
            "삼성물산\n",
            "삼성물산우B\n",
            "삼성바이오로직스\n",
            "삼성생명\n",
            "삼성에스디에스\n",
            "삼성전기\n",
            "삼성전기우\n",
            "삼성전자\n",
            "삼성전자우\n",
            "삼성제약\n",
            "삼성중공업\n",
            "삼성증권\n",
            "삼성출판사\n",
            "삼성카드\n",
            "삼성화재\n",
            "삼성화재우\n",
            "삼아알미늄\n",
            "삼양사\n",
            "삼양사우\n",
            "삼양식품\n",
            "삼양통상\n",
            "삼양패키징\n",
            "삼양홀딩스\n",
            "삼양홀딩스우\n",
            "삼영\n",
            "삼영무역\n",
            "삼영전자\n",
            "삼원강재\n",
            "삼익THK\n",
            "삼익악기\n",
            "삼일씨엔에스\n",
            "삼일제약\n",
            "삼정펄프\n",
            "삼진제약\n",
            "삼천리\n",
            "삼호개발\n",
            "삼화왕관\n",
            "삼화전기\n",
            "삼화전자\n",
            "삼화콘덴서\n",
            "삼화페인트\n",
            "상상인증권\n",
            "상신브레이크\n",
            "새론오토모티브\n",
            "샘표\n",
            "샘표식품\n",
            "서연\n",
            "서연이화\n",
            "서울가스\n",
            "서울식품\n",
            "서울식품우\n",
            "서원\n",
            "서흥\n",
            "선도전기\n",
            "선진\n",
            "성문전자\n",
            "성문전자우\n",
            "성보화학\n",
            "성신양회\n",
            "성신양회우\n",
            "성안머티리얼스\n",
            "성창기업지주\n",
            "세기상사\n",
            "세방\n",
            "세방우\n",
            "세방전지\n",
            "세아베스틸지주\n",
            "세아제강\n",
            "세아제강지주\n",
            "세아특수강\n",
            "세아홀딩스\n",
            "세우글로벌\n",
            "세원이앤씨\n",
            "세원정공\n",
            "세이브존I&C\n",
            "세진중공업\n",
            "셀트리온\n",
            "솔루스첨단소재\n",
            "솔루스첨단소재1우\n",
            "솔루스첨단소재2우B\n",
            "솔루엠\n",
            "송원산업\n",
            "수산인더스트리\n",
            "수산중공업\n",
            "스카이라이프\n",
            "스타에스엠리츠\n",
            "스틱인베스트먼트\n",
            "시디즈\n",
            "시프트업\n",
            "신대양제지\n",
            "신도리코\n",
            "신라교역\n",
            "신성이엔지\n",
            "신성통상\n",
            "신세계\n",
            "신세계 I&C\n",
            "신세계건설\n",
            "신세계인터내셔날\n",
            "신세계푸드\n",
            "신송홀딩스\n",
            "신영와코루\n",
            "신영증권\n",
            "신원\n",
            "신일전자\n",
            "신풍\n",
            "신풍제약\n",
            "신풍제약우\n",
            "신한글로벌액티브리츠\n",
            "신한서부티엔디리츠\n",
            "신한알파리츠\n",
            "신한지주\n",
            "신흥\n",
            "쌍방울\n",
            "써니전자\n",
            "쏘카\n",
            "씨아이테크\n",
            "씨에스윈드\n",
            "씨티알모빌리티\n",
            "아남전자\n",
            "아모레G\n",
            "아모레G3우(전환)\n",
            "아모레G우\n",
            "아모레퍼시픽\n",
            "아모레퍼시픽우\n",
            "아세아\n",
            "아세아시멘트\n",
            "아세아제지\n",
            "아센디오\n",
            "아시아나IDT\n",
            "아시아나항공\n",
            "아이마켓코리아\n",
            "아이에스동서\n",
            "아주스틸\n",
            "알루코\n",
            "애경산업\n",
            "애경케미칼\n",
            "에넥스\n",
            "에스디바이오센서\n",
            "에스엘\n",
            "에스엠벡셀\n",
            "에스원\n",
            "에쓰씨엔지니어링\n",
            "에어부산\n",
            "에이리츠\n",
            "에이블씨엔씨\n",
            "에이엔피\n",
            "에이프로젠\n",
            "에이프로젠바이오로직스\n",
            "에이플러스에셋\n",
            "에이피알\n",
            "에코프로머티\n",
            "엔씨소프트\n",
            "엔케이\n",
            "엘브이엠씨홀딩스\n",
            "엘앤에프\n",
            "엠씨넥스\n",
            "영보화학\n",
            "영원무역\n",
            "영원무역홀딩스\n",
            "영진약품\n",
            "영풍\n",
            "영풍제지\n",
            "영화금속\n",
            "영흥\n",
            "예스코홀딩스\n",
            "오뚜기\n",
            "오리엔트바이오\n",
            "오리온\n",
            "오리온홀딩스\n",
            "와이투솔루션\n",
            "우리금융지주\n",
            "우성\n",
            "우신시스템\n",
            "우진\n",
            "우진아이엔에스\n",
            "우진플라임\n",
            "웅진\n",
            "웅진씽크빅\n",
            "원림\n",
            "웰바이오텍\n",
            "윌비스\n",
            "유나이티드제약\n",
            "유니드\n",
            "유니드비티플러스\n",
            "유니온\n",
            "유니온머티리얼\n",
            "유니켐\n",
            "유니퀘스트\n",
            "유성기업\n",
            "유수홀딩스\n",
            "유안타증권\n",
            "유안타증권우\n",
            "유엔젤\n",
            "유유제약\n",
            "유유제약1우\n",
            "유유제약2우B\n",
            "유진투자증권\n",
            "유한양행\n",
            "유한양행우\n",
            "유화증권\n",
            "유화증권우\n",
            "율촌화학\n",
            "이건산업\n",
            "이구산업\n",
            "이노션\n",
            "이리츠코크렙\n",
            "이마트\n",
            "이수스페셜티케미컬\n",
            "이수페타시스\n",
            "이수화학\n",
            "이스타코\n",
            "이아이디\n",
            "이엔플러스\n",
            "이연제약\n",
            "이월드\n",
            "이지스레지던스리츠\n",
            "이지스밸류리츠\n",
            "이화산업\n",
            "인디에프\n",
            "인바이오젠\n",
            "인스코비\n",
            "인지컨트롤스\n",
            "인천도시가스\n",
            "인터지스\n",
            "인팩\n",
            "일동제약\n",
            "일동홀딩스\n",
            "일성건설\n",
            "일성아이에스\n",
            "일신방직\n",
            "일신석재\n",
            "일양약품\n",
            "일양약품우\n",
            "일정실업\n",
            "일진다이아\n",
            "일진디스플\n",
            "일진전기\n",
            "일진하이솔루스\n",
            "일진홀딩스\n",
            "잇츠한불\n",
            "자이에스앤디\n",
            "자화전자\n",
            "전방\n",
            "전진건설로봇\n",
            "제이알글로벌리츠\n",
            "제이에스코퍼레이션\n",
            "제이준코스메틱\n",
            "제일기획\n",
            "제일약품\n",
            "제일연마\n",
            "제일파마홀딩스\n",
            "제주은행\n",
            "제주항공\n",
            "조광페인트\n",
            "조광피혁\n",
            "조비\n",
            "조선내화\n",
            "조선선재\n",
            "조일알미늄\n",
            "조흥\n",
            "종근당\n",
            "종근당바이오\n",
            "종근당홀딩스\n",
            "주성코퍼레이션\n",
            "주연테크\n",
            "지누스\n",
            "지엠비코리아\n",
            "지역난방공사\n",
            "진도\n",
            "진양산업\n",
            "진양폴리\n",
            "진양홀딩스\n",
            "진양화학\n",
            "진에어\n",
            "진원생명과학\n",
            "진흥기업\n",
            "진흥기업2우B\n",
            "진흥기업우B\n",
            "참엔지니어링\n",
            "천일고속\n",
            "청호ICT\n",
            "체시스\n",
            "카카오\n",
            "카카오뱅크\n",
            "카카오페이\n",
            "카프로\n",
            "케이비아이동국실업\n",
            "케이씨\n",
            "케이씨텍\n",
            "케이카\n",
            "케이탑리츠\n",
            "코람코더원리츠\n",
            "코람코라이프인프라리츠\n",
            "코리아써우\n",
            "코리아써키트\n",
            "코리아써키트2우B\n",
            "코리안리\n",
            "코스맥스\n",
            "코스맥스비티아이\n",
            "코스모신소재\n",
            "코스모화학\n",
            "코아스\n",
            "코오롱\n",
            "코오롱ENP\n",
            "코오롱글로벌\n",
            "코오롱글로벌우\n",
            "코오롱모빌리티그룹\n",
            "코오롱모빌리티그룹우\n",
            "코오롱우\n",
            "코오롱인더\n",
            "코오롱인더우\n",
            "코웨이\n",
            "콘텐트리중앙\n",
            "콜마홀딩스\n",
            "콤텍시스템\n",
            "쿠쿠홀딩스\n",
            "쿠쿠홈시스\n",
            "크라운제과\n",
            "크라운제과우\n",
            "크라운해태홀딩스\n",
            "크라운해태홀딩스우\n",
            "크래프톤\n",
            "키다리스튜디오\n",
            "키움증권\n",
            "태경비케이\n",
            "태경산업\n",
            "태경케미컬\n",
            "태광산업\n",
            "태림포장\n",
            "태양금속\n",
            "태양금속우\n",
            "태영건설\n",
            "태영건설우\n",
            "태원물산\n",
            "테이팩스\n",
            "텔코웨어\n",
            "토니모리\n",
            "티에이치엔\n",
            "티와이홀딩스\n",
            "티와이홀딩스우\n",
            "티웨이항공\n",
            "티웨이홀딩스\n",
            "파라다이스\n",
            "파미셀\n",
            "팜스코\n",
            "팜젠사이언스\n",
            "팬오션\n",
            "퍼스텍\n",
            "퍼시스\n",
            "페이퍼코리아\n",
            "평화산업\n",
            "평화홀딩스\n",
            "포스코DX\n",
            "포스코스틸리온\n",
            "포스코인터내셔널\n",
            "포스코퓨처엠\n",
            "풀무원\n",
            "풍산\n",
            "풍산홀딩스\n",
            "프레스티지바이오파마\n",
            "플레이그램\n",
            "하나금융지주\n",
            "하나제약\n",
            "하나투어\n",
            "하이브\n",
            "하이스틸\n",
            "하이트론\n",
            "하이트진로\n",
            "하이트진로2우B\n",
            "하이트진로홀딩스\n",
            "하이트진로홀딩스우\n",
            "한국ANKOR유전\n",
            "한국가스공사\n",
            "한국공항\n",
            "한국금융지주\n",
            "한국금융지주우\n",
            "한국내화\n",
            "한국단자\n",
            "한국무브넥스\n",
            "한국석유\n",
            "한국수출포장\n",
            "한국쉘석유\n",
            "한국앤컴퍼니\n",
            "한국자산신탁\n",
            "한국전력\n",
            "한국전자홀딩스\n",
            "한국제지\n",
            "한국종합기술\n",
            "한국주강\n",
            "한국주철관\n",
            "한국철강\n",
            "한국카본\n",
            "한국콜마\n",
            "한국타이어앤테크놀로지\n",
            "한국토지신탁\n",
            "한국특강\n",
            "한국패러랠\n",
            "한국항공우주\n",
            "한국화장품\n",
            "한국화장품제조\n",
            "한농화성\n",
            "한독\n",
            "한미글로벌\n",
            "한미반도체\n",
            "한미사이언스\n",
            "한미약품\n",
            "한샘\n",
            "한섬\n",
            "한성기업\n",
            "한세실업\n",
            "한세엠케이\n",
            "한세예스24홀딩스\n",
            "한솔PNS\n",
            "한솔로지스틱스\n",
            "한솔제지\n",
            "한솔케미칼\n",
            "한솔테크닉스\n",
            "한솔홀딩스\n",
            "한솔홈데코\n",
            "한신공영\n",
            "한신기계\n",
            "한양증권\n",
            "한양증권우\n",
            "한온시스템\n",
            "한올바이오파마\n",
            "한익스프레스\n",
            "한일시멘트\n",
            "한일철강\n",
            "한일현대시멘트\n",
            "한일홀딩스\n",
            "한전KPS\n",
            "한전기술\n",
            "한전산업\n",
            "한진\n",
            "한진중공업홀딩스\n",
            "한진칼\n",
            "한진칼우\n",
            "한창\n",
            "한창제지\n",
            "한컴라이프케어\n",
            "한화\n",
            "한화3우B\n",
            "한화갤러리아\n",
            "한화갤러리아우\n",
            "한화리츠\n",
            "한화생명\n",
            "한화손해보험\n",
            "한화솔루션\n",
            "한화솔루션우\n",
            "한화시스템\n",
            "한화에어로스페이스\n",
            "한화엔진\n",
            "한화오션\n",
            "한화우\n",
            "한화인더스트리얼솔루션즈\n",
            "한화투자증권\n",
            "한화투자증권우\n",
            "해성디에스\n",
            "해태제과식품\n",
            "핸즈코퍼레이션\n",
            "현대건설\n",
            "현대건설우\n",
            "현대그린푸드\n",
            "현대글로비스\n",
            "현대로템\n",
            "현대리바트\n",
            "현대모비스\n",
            "현대백화점\n",
            "현대비앤지스틸\n",
            "현대약품\n",
            "현대엘리베이\n",
            "현대오토에버\n",
            "현대위아\n",
            "현대제철\n",
            "현대지에프홀딩스\n",
            "현대차\n",
            "현대차2우B\n",
            "현대차3우B\n",
            "현대차우\n",
            "현대차증권\n",
            "현대코퍼레이션\n",
            "현대코퍼레이션홀딩스\n",
            "현대퓨처넷\n",
            "현대해상\n",
            "현대홈쇼핑\n",
            "형지엘리트\n",
            "혜인\n",
            "호전실업\n",
            "호텔신라\n",
            "호텔신라우\n",
            "화승알앤에이\n",
            "화승엔터프라이즈\n",
            "화승인더\n",
            "화승코퍼레이션\n",
            "화신\n",
            "화인베스틸\n",
            "화천기계\n",
            "화천기공\n",
            "환인제약\n",
            "황금에스티\n",
            "효성\n",
            "효성ITX\n",
            "효성중공업\n",
            "효성티앤씨\n",
            "효성화학\n",
            "후성\n",
            "휠라홀딩스\n",
            "휴니드\n",
            "휴비스\n",
            "휴스틸\n",
            "흥국화재\n",
            "흥국화재우\n",
            "흥아해운\n"
          ]
        }
      ]
    },
    {
      "cell_type": "code",
      "source": [
        "\"\"\"\n",
        "import time\n",
        "import random\n",
        "for ticker in stock.get_market_ticker_list(\"20190225\")[:5]:\n",
        "    df = stock.get_market_ohlcv(\"20181210\", \"20181212\", ticker)\n",
        "    종목 = stock.get_market_ticker_name(ticker)\n",
        "    df['종목명'] = 종목\n",
        "    print(df.head())\n",
        "    time.sleep(random.randint(10, 20))\n",
        "\"\"\""
      ],
      "metadata": {
        "colab": {
          "base_uri": "https://localhost:8080/"
        },
        "id": "n8KF6D4fbgPU",
        "outputId": "a981d24e-de13-40d2-cab7-2051c928bf81"
      },
      "execution_count": 169,
      "outputs": [
        {
          "output_type": "stream",
          "name": "stdout",
          "text": [
            "              시가    고가    저가    종가     거래량       등락률     종목명\n",
            "날짜                                                          \n",
            "2018-12-10  4840  4840  4670  4750   32310 -2.061856  AJ네트웍스\n",
            "2018-12-11  4685  4750  4585  4585   37975 -3.473684  AJ네트웍스\n",
            "2018-12-12  4605  4605  4520  4540  102752 -0.981461  AJ네트웍스\n",
            "               시가     고가     저가     종가     거래량       등락률    종목명\n",
            "날짜                                                             \n",
            "2018-12-10  12900  13200  12750  13000  206925 -0.763359  SK렌터카\n",
            "2018-12-11  13100  13100  12500  12550  206669 -3.461538  SK렌터카\n",
            "2018-12-12  12650  13150  12450  13150  213365  4.780876  SK렌터카\n",
            "               시가     고가     저가     종가    거래량       등락률    종목명\n",
            "날짜                                                            \n",
            "2018-12-10  55400  56200  54900  55800  28618  0.722022  AK홀딩스\n",
            "2018-12-11  55800  56200  54900  55100  24302 -1.254480  AK홀딩스\n",
            "2018-12-12  55400  55900  54900  55900  13179  1.451906  AK홀딩스\n",
            "              시가    고가    저가    종가     거래량       등락률  종목명\n",
            "날짜                                                       \n",
            "2018-12-10  7900  8000  7830  7900  103028 -1.250000  BGF\n",
            "2018-12-11  7900  8010  7860  7900  122166  0.000000  BGF\n",
            "2018-12-12  7900  8230  7900  8200  160608  3.797468  BGF\n",
            "                시가      고가      저가      종가    거래량       등락률     종목명\n",
            "날짜                                                                 \n",
            "2018-12-10  189500  199000  187000  195000  21513  0.515464  BGF리테일\n",
            "2018-12-11  191000  201500  191000  201000  29246  3.076923  BGF리테일\n",
            "2018-12-12  202500  203000  197500  201000  32089  0.000000  BGF리테일\n"
          ]
        }
      ]
    },
    {
      "cell_type": "markdown",
      "source": [
        "# 열린데이터광장 API"
      ],
      "metadata": {
        "id": "HQYenjK9FNJ_"
      }
    },
    {
      "cell_type": "code",
      "source": [
        "SERVICE_KEY = '78577a466b6a686a3539434662496e'\n",
        "url = f'http://openapi.seoul.go.kr:8088/{SERVICE_KEY}/json/tbLnOpendataRtmsV/1/5/'\n",
        "print(url)"
      ],
      "metadata": {
        "colab": {
          "base_uri": "https://localhost:8080/"
        },
        "id": "y5vTsRrpFcK6",
        "outputId": "90b33dc8-0820-44cf-f9da-3634fac819f0"
      },
      "execution_count": 195,
      "outputs": [
        {
          "output_type": "stream",
          "name": "stdout",
          "text": [
            "http://openapi.seoul.go.kr:8088/78577a466b6a686a3539434662496e/json/tbLnOpendataRtmsV/1/5/\n"
          ]
        }
      ]
    },
    {
      "cell_type": "code",
      "source": [
        "import requests\n",
        "import pandas as pd # 크롤링의 종착지 ==> pandas 데이터프레임\n",
        "\n",
        "req = requests.get(url)\n",
        "req"
      ],
      "metadata": {
        "colab": {
          "base_uri": "https://localhost:8080/"
        },
        "id": "_rrH9KP9HOoQ",
        "outputId": "1d6cc636-b5b3-4746-8b32-52491a21699d"
      },
      "execution_count": 196,
      "outputs": [
        {
          "output_type": "execute_result",
          "data": {
            "text/plain": [
              "<Response [200]>"
            ]
          },
          "metadata": {},
          "execution_count": 196
        }
      ]
    },
    {
      "cell_type": "code",
      "source": [
        "type(req)"
      ],
      "metadata": {
        "colab": {
          "base_uri": "https://localhost:8080/",
          "height": 138
        },
        "id": "Am11ZdbkHdk3",
        "outputId": "a8667c38-f57b-42d1-9c92-6b7399535790"
      },
      "execution_count": 197,
      "outputs": [
        {
          "output_type": "execute_result",
          "data": {
            "text/plain": [
              "requests.models.Response"
            ],
            "text/html": [
              "<div style=\"max-width:800px; border: 1px solid var(--colab-border-color);\"><style>\n",
              "      pre.function-repr-contents {\n",
              "        overflow-x: auto;\n",
              "        padding: 8px 12px;\n",
              "        max-height: 500px;\n",
              "      }\n",
              "\n",
              "      pre.function-repr-contents.function-repr-contents-collapsed {\n",
              "        cursor: pointer;\n",
              "        max-height: 100px;\n",
              "      }\n",
              "    </style>\n",
              "    <pre style=\"white-space: initial; background:\n",
              "         var(--colab-secondary-surface-color); padding: 8px 12px;\n",
              "         border-bottom: 1px solid var(--colab-border-color);\"><b>requests.models.Response</b><br/>def __init__()</pre><pre class=\"function-repr-contents function-repr-contents-collapsed\" style=\"\"><a class=\"filepath\" style=\"display:none\" href=\"#\">/usr/local/lib/python3.10/dist-packages/requests/models.py</a>The :class:`Response &lt;Response&gt;` object, which contains a\n",
              "server&#x27;s response to an HTTP request.</pre>\n",
              "      <script>\n",
              "      if (google.colab.kernel.accessAllowed && google.colab.files && google.colab.files.view) {\n",
              "        for (const element of document.querySelectorAll('.filepath')) {\n",
              "          element.style.display = 'block'\n",
              "          element.onclick = (event) => {\n",
              "            event.preventDefault();\n",
              "            event.stopPropagation();\n",
              "            google.colab.files.view(element.textContent, 640);\n",
              "          };\n",
              "        }\n",
              "      }\n",
              "      for (const element of document.querySelectorAll('.function-repr-contents')) {\n",
              "        element.onclick = (event) => {\n",
              "          event.preventDefault();\n",
              "          event.stopPropagation();\n",
              "          element.classList.toggle('function-repr-contents-collapsed');\n",
              "        };\n",
              "      }\n",
              "      </script>\n",
              "      </div>"
            ]
          },
          "metadata": {},
          "execution_count": 197
        }
      ]
    },
    {
      "cell_type": "code",
      "source": [
        "content = req.json()\n",
        "type(content)"
      ],
      "metadata": {
        "colab": {
          "base_uri": "https://localhost:8080/"
        },
        "id": "vkQ4dRm2HusX",
        "outputId": "c756d626-5199-4173-88ee-5c33101e41c4"
      },
      "execution_count": 198,
      "outputs": [
        {
          "output_type": "execute_result",
          "data": {
            "text/plain": [
              "dict"
            ]
          },
          "metadata": {},
          "execution_count": 198
        }
      ]
    },
    {
      "cell_type": "code",
      "source": [
        "result = content['tbLnOpendataRtmsV']['row']\n",
        "len(result)"
      ],
      "metadata": {
        "colab": {
          "base_uri": "https://localhost:8080/"
        },
        "id": "j0CT0DWbIC74",
        "outputId": "5c51157e-52a8-4b81-bc5e-3cd0b6bccf39"
      },
      "execution_count": 199,
      "outputs": [
        {
          "output_type": "execute_result",
          "data": {
            "text/plain": [
              "5"
            ]
          },
          "metadata": {},
          "execution_count": 199
        }
      ]
    },
    {
      "cell_type": "code",
      "source": [
        "pd.DataFrame(result)"
      ],
      "metadata": {
        "colab": {
          "base_uri": "https://localhost:8080/",
          "height": 325
        },
        "id": "roU3lNzuJ8VM",
        "outputId": "81ecc9eb-9852-49f1-9bd5-ee358b8eda8c"
      },
      "execution_count": 200,
      "outputs": [
        {
          "output_type": "execute_result",
          "data": {
            "text/plain": [
              "  RCPT_YR CGG_CD CGG_NM STDG_CD STDG_NM LOTNO_SE LOTNO_SE_NM   MNO   SNO  \\\n",
              "0    2024  11350    노원구   10600     중계동        1          대지  0505  0000   \n",
              "1    2024  11230   동대문구   10600     장안동        1          대지  0385  0002   \n",
              "2    2024  11620    관악구   10100     봉천동        1          대지  0869  0006   \n",
              "3    2024  11740    강동구   10200     고덕동        1          대지  0486  0000   \n",
              "4    2024  11530    구로구   10200     구로동        1          대지  1256  0000   \n",
              "\n",
              "      BLDG_NM  ... THING_AMT ARCH_AREA  LAND_AREA   FLR  RGHT_SE RTRCN_DAY  \\\n",
              "0     롯데(505)  ...     72000     72.49       0.00  14.0           20241009   \n",
              "1          리치  ...     28100     75.48       0.00   3.0                      \n",
              "2  서울대역 마에스트로  ...     15000     20.50      31.64  10.0                      \n",
              "3         아남1  ...    114000     84.91       0.00  10.0                      \n",
              "4        구로현대  ...     48000     56.49       0.00   5.0                      \n",
              "\n",
              "  ARCH_YR BLDG_USG DCLR_SE OPBIZ_RESTAGNT_SGG_NM  \n",
              "0    1989      아파트    중개거래                서울 노원구  \n",
              "1    2008      아파트     직거래                        \n",
              "2    2012     오피스텔    중개거래                서울 관악구  \n",
              "3    1996      아파트    중개거래                서울 강동구  \n",
              "4    1992      아파트    중개거래                서울 양천구  \n",
              "\n",
              "[5 rows x 21 columns]"
            ],
            "text/html": [
              "\n",
              "  <div id=\"df-83ffee35-17a3-4b78-84cb-11d5a4ea7429\" class=\"colab-df-container\">\n",
              "    <div>\n",
              "<style scoped>\n",
              "    .dataframe tbody tr th:only-of-type {\n",
              "        vertical-align: middle;\n",
              "    }\n",
              "\n",
              "    .dataframe tbody tr th {\n",
              "        vertical-align: top;\n",
              "    }\n",
              "\n",
              "    .dataframe thead th {\n",
              "        text-align: right;\n",
              "    }\n",
              "</style>\n",
              "<table border=\"1\" class=\"dataframe\">\n",
              "  <thead>\n",
              "    <tr style=\"text-align: right;\">\n",
              "      <th></th>\n",
              "      <th>RCPT_YR</th>\n",
              "      <th>CGG_CD</th>\n",
              "      <th>CGG_NM</th>\n",
              "      <th>STDG_CD</th>\n",
              "      <th>STDG_NM</th>\n",
              "      <th>LOTNO_SE</th>\n",
              "      <th>LOTNO_SE_NM</th>\n",
              "      <th>MNO</th>\n",
              "      <th>SNO</th>\n",
              "      <th>BLDG_NM</th>\n",
              "      <th>...</th>\n",
              "      <th>THING_AMT</th>\n",
              "      <th>ARCH_AREA</th>\n",
              "      <th>LAND_AREA</th>\n",
              "      <th>FLR</th>\n",
              "      <th>RGHT_SE</th>\n",
              "      <th>RTRCN_DAY</th>\n",
              "      <th>ARCH_YR</th>\n",
              "      <th>BLDG_USG</th>\n",
              "      <th>DCLR_SE</th>\n",
              "      <th>OPBIZ_RESTAGNT_SGG_NM</th>\n",
              "    </tr>\n",
              "  </thead>\n",
              "  <tbody>\n",
              "    <tr>\n",
              "      <th>0</th>\n",
              "      <td>2024</td>\n",
              "      <td>11350</td>\n",
              "      <td>노원구</td>\n",
              "      <td>10600</td>\n",
              "      <td>중계동</td>\n",
              "      <td>1</td>\n",
              "      <td>대지</td>\n",
              "      <td>0505</td>\n",
              "      <td>0000</td>\n",
              "      <td>롯데(505)</td>\n",
              "      <td>...</td>\n",
              "      <td>72000</td>\n",
              "      <td>72.49</td>\n",
              "      <td>0.00</td>\n",
              "      <td>14.0</td>\n",
              "      <td></td>\n",
              "      <td>20241009</td>\n",
              "      <td>1989</td>\n",
              "      <td>아파트</td>\n",
              "      <td>중개거래</td>\n",
              "      <td>서울 노원구</td>\n",
              "    </tr>\n",
              "    <tr>\n",
              "      <th>1</th>\n",
              "      <td>2024</td>\n",
              "      <td>11230</td>\n",
              "      <td>동대문구</td>\n",
              "      <td>10600</td>\n",
              "      <td>장안동</td>\n",
              "      <td>1</td>\n",
              "      <td>대지</td>\n",
              "      <td>0385</td>\n",
              "      <td>0002</td>\n",
              "      <td>리치</td>\n",
              "      <td>...</td>\n",
              "      <td>28100</td>\n",
              "      <td>75.48</td>\n",
              "      <td>0.00</td>\n",
              "      <td>3.0</td>\n",
              "      <td></td>\n",
              "      <td></td>\n",
              "      <td>2008</td>\n",
              "      <td>아파트</td>\n",
              "      <td>직거래</td>\n",
              "      <td></td>\n",
              "    </tr>\n",
              "    <tr>\n",
              "      <th>2</th>\n",
              "      <td>2024</td>\n",
              "      <td>11620</td>\n",
              "      <td>관악구</td>\n",
              "      <td>10100</td>\n",
              "      <td>봉천동</td>\n",
              "      <td>1</td>\n",
              "      <td>대지</td>\n",
              "      <td>0869</td>\n",
              "      <td>0006</td>\n",
              "      <td>서울대역 마에스트로</td>\n",
              "      <td>...</td>\n",
              "      <td>15000</td>\n",
              "      <td>20.50</td>\n",
              "      <td>31.64</td>\n",
              "      <td>10.0</td>\n",
              "      <td></td>\n",
              "      <td></td>\n",
              "      <td>2012</td>\n",
              "      <td>오피스텔</td>\n",
              "      <td>중개거래</td>\n",
              "      <td>서울 관악구</td>\n",
              "    </tr>\n",
              "    <tr>\n",
              "      <th>3</th>\n",
              "      <td>2024</td>\n",
              "      <td>11740</td>\n",
              "      <td>강동구</td>\n",
              "      <td>10200</td>\n",
              "      <td>고덕동</td>\n",
              "      <td>1</td>\n",
              "      <td>대지</td>\n",
              "      <td>0486</td>\n",
              "      <td>0000</td>\n",
              "      <td>아남1</td>\n",
              "      <td>...</td>\n",
              "      <td>114000</td>\n",
              "      <td>84.91</td>\n",
              "      <td>0.00</td>\n",
              "      <td>10.0</td>\n",
              "      <td></td>\n",
              "      <td></td>\n",
              "      <td>1996</td>\n",
              "      <td>아파트</td>\n",
              "      <td>중개거래</td>\n",
              "      <td>서울 강동구</td>\n",
              "    </tr>\n",
              "    <tr>\n",
              "      <th>4</th>\n",
              "      <td>2024</td>\n",
              "      <td>11530</td>\n",
              "      <td>구로구</td>\n",
              "      <td>10200</td>\n",
              "      <td>구로동</td>\n",
              "      <td>1</td>\n",
              "      <td>대지</td>\n",
              "      <td>1256</td>\n",
              "      <td>0000</td>\n",
              "      <td>구로현대</td>\n",
              "      <td>...</td>\n",
              "      <td>48000</td>\n",
              "      <td>56.49</td>\n",
              "      <td>0.00</td>\n",
              "      <td>5.0</td>\n",
              "      <td></td>\n",
              "      <td></td>\n",
              "      <td>1992</td>\n",
              "      <td>아파트</td>\n",
              "      <td>중개거래</td>\n",
              "      <td>서울 양천구</td>\n",
              "    </tr>\n",
              "  </tbody>\n",
              "</table>\n",
              "<p>5 rows × 21 columns</p>\n",
              "</div>\n",
              "    <div class=\"colab-df-buttons\">\n",
              "\n",
              "  <div class=\"colab-df-container\">\n",
              "    <button class=\"colab-df-convert\" onclick=\"convertToInteractive('df-83ffee35-17a3-4b78-84cb-11d5a4ea7429')\"\n",
              "            title=\"Convert this dataframe to an interactive table.\"\n",
              "            style=\"display:none;\">\n",
              "\n",
              "  <svg xmlns=\"http://www.w3.org/2000/svg\" height=\"24px\" viewBox=\"0 -960 960 960\">\n",
              "    <path d=\"M120-120v-720h720v720H120Zm60-500h600v-160H180v160Zm220 220h160v-160H400v160Zm0 220h160v-160H400v160ZM180-400h160v-160H180v160Zm440 0h160v-160H620v160ZM180-180h160v-160H180v160Zm440 0h160v-160H620v160Z\"/>\n",
              "  </svg>\n",
              "    </button>\n",
              "\n",
              "  <style>\n",
              "    .colab-df-container {\n",
              "      display:flex;\n",
              "      gap: 12px;\n",
              "    }\n",
              "\n",
              "    .colab-df-convert {\n",
              "      background-color: #E8F0FE;\n",
              "      border: none;\n",
              "      border-radius: 50%;\n",
              "      cursor: pointer;\n",
              "      display: none;\n",
              "      fill: #1967D2;\n",
              "      height: 32px;\n",
              "      padding: 0 0 0 0;\n",
              "      width: 32px;\n",
              "    }\n",
              "\n",
              "    .colab-df-convert:hover {\n",
              "      background-color: #E2EBFA;\n",
              "      box-shadow: 0px 1px 2px rgba(60, 64, 67, 0.3), 0px 1px 3px 1px rgba(60, 64, 67, 0.15);\n",
              "      fill: #174EA6;\n",
              "    }\n",
              "\n",
              "    .colab-df-buttons div {\n",
              "      margin-bottom: 4px;\n",
              "    }\n",
              "\n",
              "    [theme=dark] .colab-df-convert {\n",
              "      background-color: #3B4455;\n",
              "      fill: #D2E3FC;\n",
              "    }\n",
              "\n",
              "    [theme=dark] .colab-df-convert:hover {\n",
              "      background-color: #434B5C;\n",
              "      box-shadow: 0px 1px 3px 1px rgba(0, 0, 0, 0.15);\n",
              "      filter: drop-shadow(0px 1px 2px rgba(0, 0, 0, 0.3));\n",
              "      fill: #FFFFFF;\n",
              "    }\n",
              "  </style>\n",
              "\n",
              "    <script>\n",
              "      const buttonEl =\n",
              "        document.querySelector('#df-83ffee35-17a3-4b78-84cb-11d5a4ea7429 button.colab-df-convert');\n",
              "      buttonEl.style.display =\n",
              "        google.colab.kernel.accessAllowed ? 'block' : 'none';\n",
              "\n",
              "      async function convertToInteractive(key) {\n",
              "        const element = document.querySelector('#df-83ffee35-17a3-4b78-84cb-11d5a4ea7429');\n",
              "        const dataTable =\n",
              "          await google.colab.kernel.invokeFunction('convertToInteractive',\n",
              "                                                    [key], {});\n",
              "        if (!dataTable) return;\n",
              "\n",
              "        const docLinkHtml = 'Like what you see? Visit the ' +\n",
              "          '<a target=\"_blank\" href=https://colab.research.google.com/notebooks/data_table.ipynb>data table notebook</a>'\n",
              "          + ' to learn more about interactive tables.';\n",
              "        element.innerHTML = '';\n",
              "        dataTable['output_type'] = 'display_data';\n",
              "        await google.colab.output.renderOutput(dataTable, element);\n",
              "        const docLink = document.createElement('div');\n",
              "        docLink.innerHTML = docLinkHtml;\n",
              "        element.appendChild(docLink);\n",
              "      }\n",
              "    </script>\n",
              "  </div>\n",
              "\n",
              "\n",
              "<div id=\"df-3f8032e8-55ce-4921-a828-a9f8cdfea5e6\">\n",
              "  <button class=\"colab-df-quickchart\" onclick=\"quickchart('df-3f8032e8-55ce-4921-a828-a9f8cdfea5e6')\"\n",
              "            title=\"Suggest charts\"\n",
              "            style=\"display:none;\">\n",
              "\n",
              "<svg xmlns=\"http://www.w3.org/2000/svg\" height=\"24px\"viewBox=\"0 0 24 24\"\n",
              "     width=\"24px\">\n",
              "    <g>\n",
              "        <path d=\"M19 3H5c-1.1 0-2 .9-2 2v14c0 1.1.9 2 2 2h14c1.1 0 2-.9 2-2V5c0-1.1-.9-2-2-2zM9 17H7v-7h2v7zm4 0h-2V7h2v10zm4 0h-2v-4h2v4z\"/>\n",
              "    </g>\n",
              "</svg>\n",
              "  </button>\n",
              "\n",
              "<style>\n",
              "  .colab-df-quickchart {\n",
              "      --bg-color: #E8F0FE;\n",
              "      --fill-color: #1967D2;\n",
              "      --hover-bg-color: #E2EBFA;\n",
              "      --hover-fill-color: #174EA6;\n",
              "      --disabled-fill-color: #AAA;\n",
              "      --disabled-bg-color: #DDD;\n",
              "  }\n",
              "\n",
              "  [theme=dark] .colab-df-quickchart {\n",
              "      --bg-color: #3B4455;\n",
              "      --fill-color: #D2E3FC;\n",
              "      --hover-bg-color: #434B5C;\n",
              "      --hover-fill-color: #FFFFFF;\n",
              "      --disabled-bg-color: #3B4455;\n",
              "      --disabled-fill-color: #666;\n",
              "  }\n",
              "\n",
              "  .colab-df-quickchart {\n",
              "    background-color: var(--bg-color);\n",
              "    border: none;\n",
              "    border-radius: 50%;\n",
              "    cursor: pointer;\n",
              "    display: none;\n",
              "    fill: var(--fill-color);\n",
              "    height: 32px;\n",
              "    padding: 0;\n",
              "    width: 32px;\n",
              "  }\n",
              "\n",
              "  .colab-df-quickchart:hover {\n",
              "    background-color: var(--hover-bg-color);\n",
              "    box-shadow: 0 1px 2px rgba(60, 64, 67, 0.3), 0 1px 3px 1px rgba(60, 64, 67, 0.15);\n",
              "    fill: var(--button-hover-fill-color);\n",
              "  }\n",
              "\n",
              "  .colab-df-quickchart-complete:disabled,\n",
              "  .colab-df-quickchart-complete:disabled:hover {\n",
              "    background-color: var(--disabled-bg-color);\n",
              "    fill: var(--disabled-fill-color);\n",
              "    box-shadow: none;\n",
              "  }\n",
              "\n",
              "  .colab-df-spinner {\n",
              "    border: 2px solid var(--fill-color);\n",
              "    border-color: transparent;\n",
              "    border-bottom-color: var(--fill-color);\n",
              "    animation:\n",
              "      spin 1s steps(1) infinite;\n",
              "  }\n",
              "\n",
              "  @keyframes spin {\n",
              "    0% {\n",
              "      border-color: transparent;\n",
              "      border-bottom-color: var(--fill-color);\n",
              "      border-left-color: var(--fill-color);\n",
              "    }\n",
              "    20% {\n",
              "      border-color: transparent;\n",
              "      border-left-color: var(--fill-color);\n",
              "      border-top-color: var(--fill-color);\n",
              "    }\n",
              "    30% {\n",
              "      border-color: transparent;\n",
              "      border-left-color: var(--fill-color);\n",
              "      border-top-color: var(--fill-color);\n",
              "      border-right-color: var(--fill-color);\n",
              "    }\n",
              "    40% {\n",
              "      border-color: transparent;\n",
              "      border-right-color: var(--fill-color);\n",
              "      border-top-color: var(--fill-color);\n",
              "    }\n",
              "    60% {\n",
              "      border-color: transparent;\n",
              "      border-right-color: var(--fill-color);\n",
              "    }\n",
              "    80% {\n",
              "      border-color: transparent;\n",
              "      border-right-color: var(--fill-color);\n",
              "      border-bottom-color: var(--fill-color);\n",
              "    }\n",
              "    90% {\n",
              "      border-color: transparent;\n",
              "      border-bottom-color: var(--fill-color);\n",
              "    }\n",
              "  }\n",
              "</style>\n",
              "\n",
              "  <script>\n",
              "    async function quickchart(key) {\n",
              "      const quickchartButtonEl =\n",
              "        document.querySelector('#' + key + ' button');\n",
              "      quickchartButtonEl.disabled = true;  // To prevent multiple clicks.\n",
              "      quickchartButtonEl.classList.add('colab-df-spinner');\n",
              "      try {\n",
              "        const charts = await google.colab.kernel.invokeFunction(\n",
              "            'suggestCharts', [key], {});\n",
              "      } catch (error) {\n",
              "        console.error('Error during call to suggestCharts:', error);\n",
              "      }\n",
              "      quickchartButtonEl.classList.remove('colab-df-spinner');\n",
              "      quickchartButtonEl.classList.add('colab-df-quickchart-complete');\n",
              "    }\n",
              "    (() => {\n",
              "      let quickchartButtonEl =\n",
              "        document.querySelector('#df-3f8032e8-55ce-4921-a828-a9f8cdfea5e6 button');\n",
              "      quickchartButtonEl.style.display =\n",
              "        google.colab.kernel.accessAllowed ? 'block' : 'none';\n",
              "    })();\n",
              "  </script>\n",
              "</div>\n",
              "\n",
              "    </div>\n",
              "  </div>\n"
            ],
            "application/vnd.google.colaboratory.intrinsic+json": {
              "type": "dataframe"
            }
          },
          "metadata": {},
          "execution_count": 200
        }
      ]
    }
  ]
}