{
  "nbformat": 4,
  "nbformat_minor": 0,
  "metadata": {
    "colab": {
      "provenance": []
    },
    "kernelspec": {
      "name": "python3",
      "display_name": "Python 3"
    },
    "language_info": {
      "name": "python"
    }
  },
  "cells": [
    {
      "cell_type": "code",
      "source": [
        "from google.colab import drive\n",
        "drive.mount('/content/drive')"
      ],
      "metadata": {
        "colab": {
          "base_uri": "https://localhost:8080/"
        },
        "id": "ERTuEZSxRNLC",
        "outputId": "2d043be7-2533-4de5-8f94-cd114b15cb5c"
      },
      "execution_count": 1,
      "outputs": [
        {
          "output_type": "stream",
          "name": "stdout",
          "text": [
            "Mounted at /content/drive\n"
          ]
        }
      ]
    },
    {
      "cell_type": "code",
      "source": [
        "import pandas as pd\n",
        "import numpy as np\n",
        "import requests\n",
        "from bs4 import BeautifulSoup\n",
        "\n",
        "import warnings\n",
        "warnings.filterwarnings('ignore')\n",
        "\n",
        "print(requests.__version__)"
      ],
      "metadata": {
        "colab": {
          "base_uri": "https://localhost:8080/"
        },
        "id": "mNisG4sNRjhy",
        "outputId": "cfe29a07-3261-4b10-d3b5-693006ab18f6"
      },
      "execution_count": 9,
      "outputs": [
        {
          "output_type": "stream",
          "name": "stdout",
          "text": [
            "2.32.3\n"
          ]
        }
      ]
    },
    {
      "cell_type": "code",
      "execution_count": 4,
      "metadata": {
        "id": "6CwdHFDnuqkR",
        "colab": {
          "base_uri": "https://localhost:8080/"
        },
        "outputId": "0291d4ef-62cd-4e18-f24c-ed7ed68e6f19"
      },
      "outputs": [
        {
          "output_type": "stream",
          "name": "stdout",
          "text": [
            "<h2>모바일 컴퍼니</h2>\n",
            "<ul id=\"mylist\" style=\"width:150px\">\n",
            "<li>애플</li>\n",
            "<li>삼성</li>\n",
            "<li>노키아</li>\n",
            "<li>LG</li>\n",
            "</ul>\n",
            "<li>애플</li>\n",
            "LG\n"
          ]
        }
      ],
      "source": [
        "DATA_PATH = '/content/drive/MyDrive/Colab Notebooks/iM_alphaco/data_set/'\n",
        "with open(DATA_PATH + 'index.html', 'r', encoding='UTF8') as f:\n",
        "    contents = f.read()                       # 이때까지만 해도 그냥 str 형식의 데이터이다!\n",
        "    soup = BeautifulSoup(contents, 'lxml')    # 형변환 코드\n",
        "    # print(soup)\n",
        "    print(soup.h2)                            # 이 아래부터는 해당 태그를 가져오는 함수\n",
        "    print(soup.ul)\n",
        "    print(soup.ul.li)\n",
        "\n",
        "    companies = []\n",
        "    for tag in soup.find_all('li'):\n",
        "        companies.append(tag.text)\n",
        "    print(companies[-1])"
      ]
    },
    {
      "cell_type": "code",
      "source": [
        "company_code = '139130' # DGB 금융지주\n",
        "url =\"https://finance.naver.com/item/sise_day.nhn?code=\" + company_code\n",
        "\n",
        "headers = {\n",
        "         'referer' : 'https://finance.naver.com/item/sise.naver?code=139130',\n",
        "         'user-agent': 'Mozilla/5.0 (Windows NT 10.0; Win64; x64) AppleWebKit/537.36 (KHTML, like Gecko) Chrome/120.0.0.0 Safari/537.36'\n",
        "        }\n",
        "\n",
        "def crawling(soup):\n",
        "    last_page = int(soup.select_one('td.pgRR').a['href'].split('=')[-1])\n",
        "    # print(last_page)\n",
        "    df = None\n",
        "    count = 0\n",
        "    for page in range(1, last_page + 1):\n",
        "      req = requests.get(f'{url}&page={page}', headers=headers)\n",
        "      df = pd.concat([df, pd.read_html(req.text, encoding = \"euc-kr\")[0]], ignore_index=True)\n",
        "      if count > 10:\n",
        "        break\n",
        "      count += 1\n",
        "\n",
        "    df.dropna(inplace=True)\n",
        "    df.reset_index(drop=True, inplace=True)\n",
        "\n",
        "    return df\n",
        "\n",
        "def main():\n",
        "    company_code = '139130' # 삼성전자\n",
        "    url =\"https://finance.naver.com/item/sise_day.nhn?code=\" + company_code\n",
        "\n",
        "    headers = {\n",
        "             'referer' : 'https://finance.naver.com/item/sise.naver?code=139130',\n",
        "             'user-agent': 'Mozilla/5.0 (Windows NT 10.0; Win64; x64) AppleWebKit/537.36 (KHTML, like Gecko) Chrome/120.0.0.0 Safari/537.36'\n",
        "            }\n",
        "    response = requests.get(url, headers=headers)\n",
        "    soup = BeautifulSoup(response.content, \"html.parser\")\n",
        "    result = crawling(soup)\n",
        "    print(result)\n",
        "\n",
        "if __name__ == \"__main__\":\n",
        "    main()"
      ],
      "metadata": {
        "colab": {
          "base_uri": "https://localhost:8080/"
        },
        "id": "epzgjILyRiHr",
        "outputId": "30406553-634b-4d21-af61-93b033a30bad"
      },
      "execution_count": 11,
      "outputs": [
        {
          "output_type": "stream",
          "name": "stdout",
          "text": [
            "             날짜      종가      전일비      시가      고가      저가       거래량\n",
            "0    2024.10.10  8140.0   상승  80  8130.0  8220.0  8080.0  476689.0\n",
            "1    2024.10.08  8060.0  하락  130  8180.0  8180.0  8060.0  448627.0\n",
            "2    2024.10.07  8190.0  상승  120  8080.0  8250.0  8010.0  449215.0\n",
            "3    2024.10.04  8070.0   하락  20  8130.0  8130.0  8010.0  230492.0\n",
            "4    2024.10.02  8090.0      보합0  8090.0  8150.0  8000.0  456282.0\n",
            "..          ...     ...      ...     ...     ...     ...       ...\n",
            "115  2024.04.17  8140.0      보합0  8170.0  8210.0  8070.0  315207.0\n",
            "116  2024.04.16  8140.0   하락  10  8150.0  8220.0  8060.0  387470.0\n",
            "117  2024.04.15  8150.0  상승  100  8030.0  8150.0  8010.0  362279.0\n",
            "118  2024.04.12  8050.0   하락  90  8070.0  8130.0  8000.0  574946.0\n",
            "119  2024.04.11  8140.0  하락  170  8160.0  8230.0  8060.0  628447.0\n",
            "\n",
            "[120 rows x 7 columns]\n"
          ]
        }
      ]
    },
    {
      "cell_type": "code",
      "source": [],
      "metadata": {
        "id": "zf4ec2pxXA4X"
      },
      "execution_count": null,
      "outputs": []
    }
  ]
}