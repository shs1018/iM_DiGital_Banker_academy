{
 "cells": [
  {
   "cell_type": "markdown",
   "id": "67422acf-dcdf-4bad-a78c-c9cf3b28b26f",
   "metadata": {},
   "source": [
    "# 환경변수 설정\n",
    "- python-dotenv 라이브러리 설치"
   ]
  },
  {
   "cell_type": "code",
   "execution_count": 1,
   "id": "806366c6-c119-4beb-a30e-930f1c104ece",
   "metadata": {},
   "outputs": [
    {
     "name": "stderr",
     "output_type": "stream",
     "text": [
      "\n",
      "[notice] A new release of pip is available: 24.3.1 -> 25.0\n",
      "[notice] To update, run: python.exe -m pip install --upgrade pip\n"
     ]
    }
   ],
   "source": [
    "!pip install python-dotenv openai --q"
   ]
  },
  {
   "cell_type": "markdown",
   "id": "efc13da1-3306-4700-a564-dd637aa73e5c",
   "metadata": {},
   "source": [
    "# 파일 가져오기"
   ]
  },
  {
   "cell_type": "code",
   "execution_count": 14,
   "id": "26d6f154-fc64-4d24-ab18-1d65b5d7b7a6",
   "metadata": {},
   "outputs": [
    {
     "name": "stdout",
     "output_type": "stream",
     "text": [
      "Loaded .env from: C:\\Users\\campus3S043\\Desktop\\alpaco_lectures\\step10_LLM\\.env\n",
      "API Key loaded successfully\n",
      "API Key: sk-proj-...yTUA\n"
     ]
    }
   ],
   "source": [
    "import os\n",
    "from pathlib import Path\n",
    "from dotenv import load_dotenv\n",
    "\n",
    "def load_env_from_project_root():\n",
    "    \"\"\"\n",
    "    현재 실행 중인 스크립트(LLM_basic.ipynb)에서\n",
    "    step10_LLM 디렉토리의 .env 파일을 로드\n",
    "    \"\"\"\n",
    "    # 현재 파일 위치\n",
    "    current_path = Path.cwd()\n",
    "    \n",
    "    # step10_LLM 디렉토리로 이동 (../../)\n",
    "    project_root = current_path.parent.parent\n",
    "    \n",
    "    # .env 파일 경로\n",
    "    env_path = project_root / '.env'\n",
    "    \n",
    "    # .env 파일이 존재하는지 확인\n",
    "    if env_path.exists():\n",
    "        load_dotenv(env_path)\n",
    "        print(f\"Loaded .env from: {env_path}\")\n",
    "        return True\n",
    "    else:\n",
    "        raise FileNotFoundError(f\".env file not found at: {env_path}\")\n",
    "\n",
    "# 실행\n",
    "try:\n",
    "    load_env_from_project_root()\n",
    "    \n",
    "    # 환경 변수 사용\n",
    "    api_key = os.getenv('OPENAI_API_KEY')\n",
    "    if api_key:\n",
    "        print(\"API Key loaded successfully\")\n",
    "        # API 키 마스킹하여 출력\n",
    "        masked_key = f\"{api_key[:8]}...{api_key[-4:]}\"\n",
    "        print(f\"API Key: {masked_key}\")\n",
    "    else:\n",
    "        print(\"API Key not found in .env file\")\n",
    "except Exception as e:\n",
    "    print(f\"Error loading .env file: {e}\")"
   ]
  },
  {
   "cell_type": "markdown",
   "id": "559f6ee1-f56f-4265-bac3-9cebf3644575",
   "metadata": {},
   "source": [
    "# 실습"
   ]
  },
  {
   "cell_type": "markdown",
   "id": "0eb930a6-8a25-487a-b59a-7e73bc7a9d00",
   "metadata": {},
   "source": [
    "## Hello, World"
   ]
  },
  {
   "cell_type": "code",
   "execution_count": 15,
   "id": "cbc24574-7ff8-4044-8419-5bd4dd813232",
   "metadata": {},
   "outputs": [
    {
     "name": "stdout",
     "output_type": "stream",
     "text": [
      "안녕하세요! 어떻게 도와드릴까요?\n"
     ]
    }
   ],
   "source": [
    "from openai import OpenAI\n",
    "\n",
    "client = OpenAI(\n",
    "    # 시스템에 설정된 API 키를 사용합니다\n",
    "    api_key=os.environ.get('OPENAI_API_KEY')\n",
    ")\n",
    "\n",
    "# OpenAI API를 활용하며, GPT-4o의 최신 모델을 호출합니다\n",
    "response = client.chat.completions.create(model='gpt-4o',\n",
    "messages=[\n",
    "      {'role': 'user', 'content': '안녕!'}\n",
    "  ])\n",
    "\n",
    "# 응답을 추출합니다\n",
    "print(response.choices[0].message.content)"
   ]
  },
  {
   "cell_type": "markdown",
   "id": "b62a2458-4ab0-4c5f-89d5-774c6bd3bc2b",
   "metadata": {},
   "source": [
    "# 뉴스기사 생성"
   ]
  },
  {
   "cell_type": "code",
   "execution_count": 3,
   "id": "9e8697e7-62a1-4f94-9a55-a85050b28bf3",
   "metadata": {},
   "outputs": [
    {
     "name": "stdout",
     "output_type": "stream",
     "text": [
      "미국 증시가 최근 하락세를 보였습니다. 이번 하락의 주요 원인은 도널드 트럼프 전 대통령의 중국에 대한 관세 부과 위협이었습니다. 트럼프 전 대통령은 향후 무역 정책에 관한 강경한 입장을 재차 강조하면서, 투자자들 사이에 불확실성이 커지고 있습니다. 이에 따라 주요 지수는 일제히 약세를 기록했으며, 일부 분석가들은 이러한 변동성이 글로벌 경제에 미치는 영향을 우려하고 있습니다. 투자자들은 향후 경제 환경에 대한 경각심을 갖고 신중한 접근이 필요하다는 목소리를 높이고 있습니다.\n",
      "도널드 트럼프 대통령은 중국에 대한 관세를 현재 25%에서 60%로 인상하겠다고 발표했다. 이 같은 결정은 미중 무역 전쟁의 새로운 국면을 예고하며, 중국 정부는 즉각적으로 보복 조치를 경고하고 있어 양국 간 긴장이 더욱 고조될 것으로 보인다.\n"
     ]
    }
   ],
   "source": [
    "from openai import OpenAI\n",
    "from typing import List\n",
    "\n",
    "prompt_role = '''당신은 기자를 도와주는 어시스턴트입니다.\n",
    "당신의 임무는 주어진 사실을 기반으로 기사(FACTS)를 쓰는 것입니다.\n",
    "다음 지시 사항을 준수해야 합니다. TONE, LENGTH, STYLE'''\n",
    "\n",
    "def ask_chatGPT (messages):\n",
    "    response = client.chat.completions.create(\n",
    "        model=\"gpt-4o-mini\",\n",
    "        messages=messages\n",
    "        )\n",
    "    \n",
    "    return response.choices[0].message.content\n",
    "\n",
    "def assist_journalist(\n",
    "    facts: List[str], tone: str, length_words: int, style: str\n",
    "):\n",
    "    facts = \", \".join(facts)\n",
    "    prompt = f\"{prompt_role} \\\n",
    "        FACTS: {facts} \\\n",
    "        TONE: {tone} \\\n",
    "        LENGTH: {length_words} 단어 \\\n",
    "        STYLE: {style}\"\n",
    "    return ask_chatGPT ([{\"role\": \"user\", \"content\": prompt}])\n",
    "\n",
    "\n",
    "print(\n",
    "    assist_journalist(\n",
    "        [\"미국 증시가 하락했습니다.\", \"트럼프의 중국 관세 부과 위협이 원인입니다.\"], \n",
    "        \"심각\", \n",
    "        100, \n",
    "        \"경제뉴스\"\n",
    "    )\n",
    ")\n",
    "\n",
    "print(\n",
    "    assist_journalist(\n",
    "        facts=[\n",
    "            \"트럼프가 중국에 대한 관세를 60%까지 인상하겠다고 발표했습니다.\",\n",
    "            \"이는 현재 25% 수준에서 크게 상승하는 것입니다.\",\n",
    "            \"중국 정부는 이에 대한 보복 조치를 경고했습니다.\",\n",
    "        ],\n",
    "        tone=\"분석적\",\n",
    "        length_words=50,\n",
    "        style=\"금융뉴스\",\n",
    "    )\n",
    ")"
   ]
  },
  {
   "cell_type": "markdown",
   "id": "d94af371-ab25-450e-b85c-41c7b5d2f946",
   "metadata": {},
   "source": [
    "# 유투브 동영상 요약\n",
    "- 스크립트 요약"
   ]
  },
  {
   "cell_type": "code",
   "execution_count": 6,
   "id": "06907068-6309-459a-a54d-e17d6337ba9b",
   "metadata": {},
   "outputs": [
    {
     "name": "stdout",
     "output_type": "stream",
     "text": [
      "이 영상에서는 투자에 대한 다양한 전략과 개인적인 경험을 나누고 있습니다. 발표자는 미래셋 NH 한국투자 증권, 토스 증권 등을 통해 소수점 투자와 자동 모아 주식을 활용하여 자산을 늘려가고 있으며, 투자 수익의 증가 추세를 그래프로 보여주면서 장기적인 투자 접근의 중요성을 강조합니다.\n",
      "\n",
      "특히, 하락 장세에서도 꾸준히 투자하는 것이 중요하며, 레버리지를 활용해 하락 시기를 기회로 삼아 더 공격적인 매수를 고려할 필요가 있다고 설명합니다. 또한, 초기 투자 금액이 적더라도 조기 투자 시작이 중요하며, 분산 투자와 함께 주식과 부동산을 동시에 운영하는 전략을 추천합니다.\n",
      "\n",
      "발표자는 미국 주식 투자에 집중하며, 개별 종목을 매수하는 기준과 매도 타이밍도 공유합니다. 환율 관리에 대해서는 대부분 원화로 매수하고, 달러 자산으로 투자하는 것이 자산 방어에 유리하다고 판단합니다. 마지막으로, 세금이나 수익률보다 먼저 투자하는 것이 중요하다는 점을 강조하며 꾸준한 투자를 권장합니다.\n"
     ]
    }
   ],
   "source": [
    "# 파일에서 스크립트 읽기\n",
    "with open(\"youtube_transcript_KrF3cYdcT1A.txt\", \"r\", encoding=\"utf-8\") as f:\n",
    "    transcript = f.read()\n",
    "\n",
    "# 오픈AI의 채팅 완성 엔드포인트 호출, GPT-4o 모델 사용\n",
    "response = client.chat.completions.create(\n",
    "    model=\"gpt-4o-mini\",\n",
    "    messages=[\n",
    "        {\n",
    "            \"role\": \"user\",\n",
    "            \"content\": f\"다음 영상 스크립트를 요약하세요.\\n{transcript}\"\n",
    "        }\n",
    "    ]\n",
    ")\n",
    "\n",
    "# 결과 출력\n",
    "print(response.choices[0].message.content)"
   ]
  },
  {
   "cell_type": "markdown",
   "id": "966f83c1-0d1e-4719-9bfc-f716621ef351",
   "metadata": {},
   "source": [
    "- 비전 기능을 활용한 요약"
   ]
  },
  {
   "cell_type": "code",
   "execution_count": 6,
   "id": "ccf3a525-b63b-43b4-8121-6a3b449ea371",
   "metadata": {},
   "outputs": [
    {
     "name": "stdout",
     "output_type": "stream",
     "text": [
      "Collecting opencv-python\n",
      "  Downloading opencv_python-4.11.0.86-cp37-abi3-win_amd64.whl.metadata (20 kB)\n",
      "Requirement already satisfied: numpy>=1.21.2 in c:\\users\\campus3s043\\desktop\\alpaco_lectures\\venv\\lib\\site-packages (from opencv-python) (1.26.4)\n",
      "Downloading opencv_python-4.11.0.86-cp37-abi3-win_amd64.whl (39.5 MB)\n",
      "   ---------------------------------------- 0.0/39.5 MB ? eta -:--:--\n",
      "   ---------- ----------------------------- 10.2/39.5 MB 57.9 MB/s eta 0:00:01\n",
      "   --------------------- ------------------ 21.5/39.5 MB 54.4 MB/s eta 0:00:01\n",
      "   -------------------------------- ------- 32.5/39.5 MB 54.3 MB/s eta 0:00:01\n",
      "   ---------------------------------------- 39.5/39.5 MB 49.2 MB/s eta 0:00:00\n",
      "Installing collected packages: opencv-python\n",
      "Successfully installed opencv-python-4.11.0.86\n"
     ]
    },
    {
     "name": "stderr",
     "output_type": "stream",
     "text": [
      "\n",
      "[notice] A new release of pip is available: 24.2 -> 25.0\n",
      "[notice] To update, run: python.exe -m pip install --upgrade pip\n"
     ]
    }
   ],
   "source": [
    "!pip install opencv-python"
   ]
  },
  {
   "cell_type": "code",
   "execution_count": 12,
   "id": "42de9e5a-9d35-4cab-b750-8c7eaee3431d",
   "metadata": {},
   "outputs": [],
   "source": [
    "# 테스트용 가상 비디오 파일 생성\n",
    "import numpy as np\n",
    "import cv2\n",
    "\n",
    "# 움직이는 도형이 있는 빈 비디오 생성\n",
    "width, height = 640, 480\n",
    "fps = 30\n",
    "duration = 3  # 초 단위 재생 시간\n",
    "fourcc = cv2.VideoWriter_fourcc(*'mp4v')\n",
    "out = cv2.VideoWriter('video.mp4', fourcc, fps, (width, height))\n",
    "\n",
    "for i in range(fps * duration):\n",
    "    # 검은색 프레임 생성\n",
    "    frame = np.zeros((height, width, 3), dtype=np.uint8)\n",
    "    \n",
    "    # 움직이는 원 그리기\n",
    "    center = (int(width/2 + 100*np.sin(i/15)), int(height/2))\n",
    "    cv2.circle(frame, center, 50, (0, 0, 255), -1)\n",
    "    \n",
    "    # 움직이는 사각형 그리기\n",
    "    start_point = (int(width/3 + 50*np.cos(i/20)), int(height/3))\n",
    "    end_point = (start_point[0] + 100, start_point[1] + 100)\n",
    "    cv2.rectangle(frame, start_point, end_point, (0, 255, 0), -1)\n",
    "    \n",
    "    out.write(frame)\n",
    "\n",
    "out.release()"
   ]
  },
  {
   "cell_type": "code",
   "execution_count": 13,
   "id": "fcae8dfa-7725-446c-8b88-e83b1f31507e",
   "metadata": {},
   "outputs": [
    {
     "name": "stdout",
     "output_type": "stream",
     "text": [
      "비디오 파일의 프레임에서는 초록색 정사각형과 빨간색 원이 나타난다. 두 도형은 서로 겹쳐 있으며, 배경은 검은색이다.\n"
     ]
    }
   ],
   "source": [
    "import base64\n",
    "import cv2\n",
    "\n",
    "video = cv2.VideoCapture(\"video.mp4\")\n",
    "base64Frames = []\n",
    "while video.isOpened():\n",
    "    success, frame = video.read()\n",
    "    if not success:\n",
    "        break\n",
    "    _, buffer = cv2.imencode(\".jpg\", frame)\n",
    "    base64Frames.append(base64.b64encode(buffer).decode(\"utf-8\"))\n",
    "\n",
    "video.release()\n",
    "\n",
    "images = [{\"image\": frame, \"resize\":768} for frame in base64Frames[0::50]]\n",
    "# 토큰 초과 에러 발생 시 프레임 간격을 늘려서 재시도\n",
    "\n",
    "response = client.chat.completions.create(\n",
    "    model=\"gpt-4o-mini\",\n",
    "    messages=[\n",
    "        {\n",
    "            \"role\": \"user\", \n",
    "            \"content\": [\"다음은 비디오 파일의 프레임입니다. \\\n",
    "                두 문장으로 요약하세요.\", *images]\n",
    "        }\n",
    "    ]\n",
    ")\n",
    "\n",
    "print(response.choices[0].message.content)"
   ]
  },
  {
   "cell_type": "markdown",
   "id": "9b8c13cb-7ff9-4e4f-9d67-b8295de0bdd9",
   "metadata": {},
   "source": [
    "# 어시스턴트"
   ]
  },
  {
   "cell_type": "code",
   "execution_count": null,
   "id": "040a90f6-45e4-4a9f-b2da-3b932c18f76a",
   "metadata": {},
   "outputs": [
    {
     "name": "stdout",
     "output_type": "stream",
     "text": [
      "User:  홍길동 부장님한테 이메일을 보내주세요\n"
     ]
    },
    {
     "name": "stdout",
     "output_type": "stream",
     "text": [
      "Assistant: 안녕하세요! 홍길동 부장님께 보낼 이메일의 내용을 알려주시면 작성하는 데 도움을 드리겠습니다. 이메일에 포함할 제목과 본문 내용을 말씀해 주세요.\n"
     ]
    },
    {
     "name": "stdout",
     "output_type": "stream",
     "text": [
      "User:  제목은 'GPT 사용 승인 요청' 내용은 'GPT API를 소프트웨어 개발에 사용하도록 승인해주세요'로 적어주세요\n"
     ]
    },
    {
     "name": "stdout",
     "output_type": "stream",
     "text": [
      "Assistant: [User] 안녕하세요! 이메일 수신자를 알려주시면 요청에 맞게 이메일을 작성해드리겠습니다.\n"
     ]
    },
    {
     "name": "stdout",
     "output_type": "stream",
     "text": [
      "User:  jhjung@dschloe.com\n"
     ]
    },
    {
     "name": "stdout",
     "output_type": "stream",
     "text": [
      "DEBUG perform action=ACTION_WRITE_EMAIL | subject:GPT 사용 승인 요청, recipient:jhjung@dschloe.com, message:GPT API를 소프트웨어 개발에 사용하도록 승인해주세요\n",
      "Assistant: 요청하신 이메일이 jhjung@dschloe.com으로 전송되었습니다. 작업이 완료되었습니다! 도움이 필요하시면 언제든지 말씀해 주세요.\n"
     ]
    },
    {
     "name": "stdout",
     "output_type": "stream",
     "text": [
      "User:  대화 종료합니다\n"
     ]
    },
    {
     "name": "stdout",
     "output_type": "stream",
     "text": [
      "Assistant: 안녕하세요! 무엇을 도와드릴까요?\n"
     ]
    },
    {
     "name": "stdout",
     "output_type": "stream",
     "text": [
      "User:  종료할게요\n"
     ]
    },
    {
     "name": "stdout",
     "output_type": "stream",
     "text": [
      "Assistant: 죄송하지만, 요청하신 지침에 따라 답변을 드릴 수 없습니다.\n"
     ]
    }
   ],
   "source": [
    "starting_prompt = \"\"\"당신은 어시스턴트입니다.\n",
    "사용자와 토론하거나 이메일 작업을 수행할 수 있습니다. 이메일은 제목, 수신자 및 본문이 필요합니다.\n",
    "지시 사항은 [Instruction]으로 시작하고 사용자 입력은 [User]로 시작합니다. 지시에 따르십시오.\n",
    "\"\"\"\n",
    "\n",
    "prompts = {\n",
    "    'START': '[Instruction] 사용자가 이메일을 작성하고 싶다면 \"WRITE_EMAIL\",\\\n",
    "        질문을 입력했다면 \"QUESTION\", 그 외의 요구를 했다면 \"OTHER\"를 답변합니다.\\\n",
    "        딱 한 단어만 답변하세요.',\n",
    "    'QUESTION': '[Instruction] 질문에 답할 수 있다면 \"ANSWER\",\\\n",
    "        추가적인 정보가 필요하다면 \"MORE\",\\\n",
    "        답변할 수 있다면 \"OTHER\"를 답변합니다.\\\n",
    "        딱 한 단어만 답변하세요.',\n",
    "    'ANSWER': '[Instruction] 사용자의 질문에 답변하세요.',\n",
    "    'MORE': '[Instruction] 사용자의 앞선 지시에 따라 추가 정보를 요청하세요.',\n",
    "    'OTHER': '[Instruction] 사용자가 예의바르게 대화를 시작한 상황이라면\\\n",
    "        예의바르게 대답하거나 인사를 건네세요.\\\n",
    "        그외의 경우 사용자에게 답변할 수 없다고 답변하세요.',\n",
    "    'WRITE_EMAIL': '[Instruction] 제목이나 내용이 누락된 경우 \"MORE\"를 답변하세요.\\\n",
    "        모든 정보가 있다면 다음과 같이 답변하세요.\\\n",
    "        \"ACTION_WRITE_EMAIL | subject:subject, recipient:recipient, message:message\"',\n",
    "    'ACTION_WRITE_EMAIL': '[Instruction] 메일이 전송되었습니다.\\\n",
    "    사용자에게 작업이 완료되었다고 알려주세요.'\n",
    "    }\n",
    "actions = ['ACTION_WRITE_EMAIL']\n",
    "\n",
    "\n",
    "class Discussion:\n",
    "    \"\"\"\n",
    "    어시스턴트와의 대화를 나타내는 클래스입니다.\n",
    "\n",
    "    Attributes:\n",
    "        state (str): 대화의 현재 상태\n",
    "        messages_history (list): 대화의 메시지 이력을 나타내는 딕셔너리 리스트\n",
    "        client: 오픈AI 클라이언트의 인스턴스\n",
    "\n",
    "    Methods:\n",
    "        generate_answer: 입력된 메시지를 기반으로 답변을 생성\n",
    "        reset: 대화를 초기 상태로 재설정\n",
    "        do_action: 지정된 작업을 수행\n",
    "        discuss_from_audio: 전사된 오디오 파일을 기반으로 대화 시작\n",
    "        discuss: 주어진 입력을 기반으로 대화 계속\n",
    "    \"\"\"\n",
    "\n",
    "    def __init__(\n",
    "            self, state='START',\n",
    "            messages_history=[{'role': 'user',\n",
    "                               'content': f'{starting_prompt}'}]) -> None:\n",
    "        self.state = state\n",
    "        self.messages_history = messages_history\n",
    "        self.client = OpenAI()\n",
    "        pass\n",
    "\n",
    "    def generate_answer(self, messages):\n",
    "        response = self.client.chat.completions.create(\n",
    "            model=\"gpt-4o\",\n",
    "            messages=messages)\n",
    "        return (response.choices[0].message.content)\n",
    "\n",
    "    def reset(self, start_state='START'):\n",
    "        self.messages_history = [\n",
    "            {'role': 'user', 'content': f'{starting_prompt}'}]\n",
    "        self.state = start_state\n",
    "        self.previous_state = None\n",
    "\n",
    "    def reset_to_previous_state(self):\n",
    "        self.state = self.previous_state\n",
    "        self.previous_state = None\n",
    "\n",
    "    def to_state(self, state):\n",
    "        self.previous_state = self.state\n",
    "        self.state = state\n",
    "\n",
    "    def do_action(self, action):\n",
    "        \"\"\"\n",
    "        특정 작업을 수행합니다.\n",
    "\n",
    "        Args:\n",
    "            action (str): 수행할 작업\n",
    "        \"\"\"\n",
    "        print(f'DEBUG perform action={action}')\n",
    "        pass\n",
    "\n",
    "    def discuss(self, input=None):\n",
    "        if input is not None:\n",
    "            self.messages_history.append({\"role\": \"user\", \"content\": input})\n",
    "\n",
    "        # 대화를 계속\n",
    "        completion = self.generate_answer(\n",
    "            self.messages_history +\n",
    "            [{\"role\": \"user\", \"content\": prompts[self.state]}])\n",
    "\n",
    "        # 응답 내용이 작업인지 확인\n",
    "        if completion.split(\"|\")[0].strip() in actions:\n",
    "            action = completion.split(\"|\")[0].strip()\n",
    "            self.to_state(action)\n",
    "            self.do_action(completion)\n",
    "            # 대화를 계속\n",
    "            return self.discuss()\n",
    "        # 응답 내용이 새로운 상태인지 확인\n",
    "        elif completion in prompts:\n",
    "            self.to_state(completion)\n",
    "            # 대화를 계속\n",
    "            return self.discuss()\n",
    "        # 응답 내용이 사용자에게 전달할 내용인지 확인\n",
    "        else:\n",
    "            self.messages_history.append(\n",
    "                {\"role\": \"assistant\", \"content\": completion})\n",
    "            if self.state != 'MORE':\n",
    "                # 재시작\n",
    "                self.reset()\n",
    "            else:\n",
    "                # 이전 상태로 돌아가기\n",
    "                self.reset_to_previous_state()\n",
    "            return completion\n",
    "\n",
    "\n",
    "if __name__ == '__main__':\n",
    "    discussion = Discussion()\n",
    "\n",
    "    while True:\n",
    "        message = input('User: ')\n",
    "        if message.lower() == '대화 종료':\n",
    "            print('Assistant: 대화를 종료합니다. 안녕히 가세요!')\n",
    "            break\n",
    "        print(f'Assistant: {discussion.discuss(message)}')"
   ]
  },
  {
   "cell_type": "markdown",
   "id": "e13d0e0f-6890-47fe-9dfa-722505f580eb",
   "metadata": {},
   "source": [
    "# 위스퍼로 음성-텍스트 변환하기"
   ]
  },
  {
   "cell_type": "code",
   "execution_count": 9,
   "id": "33db4658-523b-40dd-a1e3-335f29f4f451",
   "metadata": {},
   "outputs": [
    {
     "name": "stdout",
     "output_type": "stream",
     "text": [
      "Requirement already satisfied: openai-whisper in c:\\users\\campus3s043\\desktop\\alpaco_lectures\\venv\\lib\\site-packages (20240930)"
     ]
    },
    {
     "name": "stderr",
     "output_type": "stream",
     "text": [
      "\n",
      "[notice] A new release of pip is available: 24.2 -> 25.0\n",
      "[notice] To update, run: python.exe -m pip install --upgrade pip\n"
     ]
    },
    {
     "name": "stdout",
     "output_type": "stream",
     "text": [
      "\n",
      "Requirement already satisfied: gradio in c:\\users\\campus3s043\\desktop\\alpaco_lectures\\venv\\lib\\site-packages (5.14.0)\n",
      "Requirement already satisfied: numba in c:\\users\\campus3s043\\desktop\\alpaco_lectures\\venv\\lib\\site-packages (from openai-whisper) (0.60.0)\n",
      "Requirement already satisfied: numpy in c:\\users\\campus3s043\\desktop\\alpaco_lectures\\venv\\lib\\site-packages (from openai-whisper) (1.26.4)\n",
      "Requirement already satisfied: torch in c:\\users\\campus3s043\\desktop\\alpaco_lectures\\venv\\lib\\site-packages (from openai-whisper) (2.5.1)\n",
      "Requirement already satisfied: tqdm in c:\\users\\campus3s043\\desktop\\alpaco_lectures\\venv\\lib\\site-packages (from openai-whisper) (4.67.1)\n",
      "Requirement already satisfied: more-itertools in c:\\users\\campus3s043\\desktop\\alpaco_lectures\\venv\\lib\\site-packages (from openai-whisper) (10.5.0)\n",
      "Requirement already satisfied: tiktoken in c:\\users\\campus3s043\\desktop\\alpaco_lectures\\venv\\lib\\site-packages (from openai-whisper) (0.8.0)\n",
      "Requirement already satisfied: aiofiles<24.0,>=22.0 in c:\\users\\campus3s043\\desktop\\alpaco_lectures\\venv\\lib\\site-packages (from gradio) (23.2.1)\n",
      "Requirement already satisfied: anyio<5.0,>=3.0 in c:\\users\\campus3s043\\desktop\\alpaco_lectures\\venv\\lib\\site-packages (from gradio) (4.6.0)\n",
      "Requirement already satisfied: fastapi<1.0,>=0.115.2 in c:\\users\\campus3s043\\desktop\\alpaco_lectures\\venv\\lib\\site-packages (from gradio) (0.115.8)\n",
      "Requirement already satisfied: ffmpy in c:\\users\\campus3s043\\desktop\\alpaco_lectures\\venv\\lib\\site-packages (from gradio) (0.5.0)\n",
      "Requirement already satisfied: gradio-client==1.7.0 in c:\\users\\campus3s043\\desktop\\alpaco_lectures\\venv\\lib\\site-packages (from gradio) (1.7.0)\n",
      "Requirement already satisfied: httpx>=0.24.1 in c:\\users\\campus3s043\\desktop\\alpaco_lectures\\venv\\lib\\site-packages (from gradio) (0.27.2)\n",
      "Requirement already satisfied: huggingface-hub>=0.25.1 in c:\\users\\campus3s043\\desktop\\alpaco_lectures\\venv\\lib\\site-packages (from gradio) (0.27.0)\n",
      "Requirement already satisfied: jinja2<4.0 in c:\\users\\campus3s043\\desktop\\alpaco_lectures\\venv\\lib\\site-packages (from gradio) (3.1.4)\n",
      "Requirement already satisfied: markupsafe~=2.0 in c:\\users\\campus3s043\\desktop\\alpaco_lectures\\venv\\lib\\site-packages (from gradio) (2.1.5)\n",
      "Requirement already satisfied: orjson~=3.0 in c:\\users\\campus3s043\\desktop\\alpaco_lectures\\venv\\lib\\site-packages (from gradio) (3.10.15)\n",
      "Requirement already satisfied: packaging in c:\\users\\campus3s043\\desktop\\alpaco_lectures\\venv\\lib\\site-packages (from gradio) (24.1)\n",
      "Requirement already satisfied: pandas<3.0,>=1.0 in c:\\users\\campus3s043\\desktop\\alpaco_lectures\\venv\\lib\\site-packages (from gradio) (2.2.3)\n",
      "Requirement already satisfied: pillow<12.0,>=8.0 in c:\\users\\campus3s043\\desktop\\alpaco_lectures\\venv\\lib\\site-packages (from gradio) (10.4.0)\n",
      "Requirement already satisfied: pydantic>=2.0 in c:\\users\\campus3s043\\desktop\\alpaco_lectures\\venv\\lib\\site-packages (from gradio) (2.10.6)\n",
      "Requirement already satisfied: pydub in c:\\users\\campus3s043\\desktop\\alpaco_lectures\\venv\\lib\\site-packages (from gradio) (0.25.1)\n",
      "Requirement already satisfied: python-multipart>=0.0.18 in c:\\users\\campus3s043\\desktop\\alpaco_lectures\\venv\\lib\\site-packages (from gradio) (0.0.20)\n",
      "Requirement already satisfied: pyyaml<7.0,>=5.0 in c:\\users\\campus3s043\\desktop\\alpaco_lectures\\venv\\lib\\site-packages (from gradio) (6.0.2)\n",
      "Requirement already satisfied: ruff>=0.9.3 in c:\\users\\campus3s043\\desktop\\alpaco_lectures\\venv\\lib\\site-packages (from gradio) (0.9.4)\n",
      "Requirement already satisfied: safehttpx<0.2.0,>=0.1.6 in c:\\users\\campus3s043\\desktop\\alpaco_lectures\\venv\\lib\\site-packages (from gradio) (0.1.6)\n",
      "Requirement already satisfied: semantic-version~=2.0 in c:\\users\\campus3s043\\desktop\\alpaco_lectures\\venv\\lib\\site-packages (from gradio) (2.10.0)\n",
      "Requirement already satisfied: starlette<1.0,>=0.40.0 in c:\\users\\campus3s043\\desktop\\alpaco_lectures\\venv\\lib\\site-packages (from gradio) (0.45.3)\n",
      "Requirement already satisfied: tomlkit<0.14.0,>=0.12.0 in c:\\users\\campus3s043\\desktop\\alpaco_lectures\\venv\\lib\\site-packages (from gradio) (0.13.2)\n",
      "Requirement already satisfied: typer<1.0,>=0.12 in c:\\users\\campus3s043\\desktop\\alpaco_lectures\\venv\\lib\\site-packages (from gradio) (0.15.1)\n",
      "Requirement already satisfied: typing-extensions~=4.0 in c:\\users\\campus3s043\\desktop\\alpaco_lectures\\venv\\lib\\site-packages (from gradio) (4.12.2)\n",
      "Requirement already satisfied: uvicorn>=0.14.0 in c:\\users\\campus3s043\\desktop\\alpaco_lectures\\venv\\lib\\site-packages (from gradio) (0.34.0)\n",
      "Requirement already satisfied: fsspec in c:\\users\\campus3s043\\desktop\\alpaco_lectures\\venv\\lib\\site-packages (from gradio-client==1.7.0->gradio) (2024.9.0)\n",
      "Requirement already satisfied: websockets<15.0,>=10.0 in c:\\users\\campus3s043\\desktop\\alpaco_lectures\\venv\\lib\\site-packages (from gradio-client==1.7.0->gradio) (14.2)\n",
      "Requirement already satisfied: idna>=2.8 in c:\\users\\campus3s043\\desktop\\alpaco_lectures\\venv\\lib\\site-packages (from anyio<5.0,>=3.0->gradio) (3.10)\n",
      "Requirement already satisfied: sniffio>=1.1 in c:\\users\\campus3s043\\desktop\\alpaco_lectures\\venv\\lib\\site-packages (from anyio<5.0,>=3.0->gradio) (1.3.1)\n",
      "Requirement already satisfied: certifi in c:\\users\\campus3s043\\desktop\\alpaco_lectures\\venv\\lib\\site-packages (from httpx>=0.24.1->gradio) (2024.8.30)\n",
      "Requirement already satisfied: httpcore==1.* in c:\\users\\campus3s043\\desktop\\alpaco_lectures\\venv\\lib\\site-packages (from httpx>=0.24.1->gradio) (1.0.6)\n",
      "Requirement already satisfied: h11<0.15,>=0.13 in c:\\users\\campus3s043\\desktop\\alpaco_lectures\\venv\\lib\\site-packages (from httpcore==1.*->httpx>=0.24.1->gradio) (0.14.0)\n",
      "Requirement already satisfied: filelock in c:\\users\\campus3s043\\desktop\\alpaco_lectures\\venv\\lib\\site-packages (from huggingface-hub>=0.25.1->gradio) (3.16.1)\n",
      "Requirement already satisfied: requests in c:\\users\\campus3s043\\desktop\\alpaco_lectures\\venv\\lib\\site-packages (from huggingface-hub>=0.25.1->gradio) (2.32.3)\n",
      "Requirement already satisfied: python-dateutil>=2.8.2 in c:\\users\\campus3s043\\desktop\\alpaco_lectures\\venv\\lib\\site-packages (from pandas<3.0,>=1.0->gradio) (2.9.0.post0)\n",
      "Requirement already satisfied: pytz>=2020.1 in c:\\users\\campus3s043\\desktop\\alpaco_lectures\\venv\\lib\\site-packages (from pandas<3.0,>=1.0->gradio) (2024.2)\n",
      "Requirement already satisfied: tzdata>=2022.7 in c:\\users\\campus3s043\\desktop\\alpaco_lectures\\venv\\lib\\site-packages (from pandas<3.0,>=1.0->gradio) (2024.2)\n",
      "Requirement already satisfied: annotated-types>=0.6.0 in c:\\users\\campus3s043\\desktop\\alpaco_lectures\\venv\\lib\\site-packages (from pydantic>=2.0->gradio) (0.7.0)\n",
      "Requirement already satisfied: pydantic-core==2.27.2 in c:\\users\\campus3s043\\desktop\\alpaco_lectures\\venv\\lib\\site-packages (from pydantic>=2.0->gradio) (2.27.2)\n",
      "Requirement already satisfied: colorama in c:\\users\\campus3s043\\desktop\\alpaco_lectures\\venv\\lib\\site-packages (from tqdm->openai-whisper) (0.4.6)\n",
      "Requirement already satisfied: click>=8.0.0 in c:\\users\\campus3s043\\desktop\\alpaco_lectures\\venv\\lib\\site-packages (from typer<1.0,>=0.12->gradio) (8.1.7)\n",
      "Requirement already satisfied: shellingham>=1.3.0 in c:\\users\\campus3s043\\desktop\\alpaco_lectures\\venv\\lib\\site-packages (from typer<1.0,>=0.12->gradio) (1.5.4)\n",
      "Requirement already satisfied: rich>=10.11.0 in c:\\users\\campus3s043\\desktop\\alpaco_lectures\\venv\\lib\\site-packages (from typer<1.0,>=0.12->gradio) (13.9.2)\n",
      "Requirement already satisfied: llvmlite<0.44,>=0.43.0dev0 in c:\\users\\campus3s043\\desktop\\alpaco_lectures\\venv\\lib\\site-packages (from numba->openai-whisper) (0.43.0)\n",
      "Requirement already satisfied: regex>=2022.1.18 in c:\\users\\campus3s043\\desktop\\alpaco_lectures\\venv\\lib\\site-packages (from tiktoken->openai-whisper) (2024.11.6)\n",
      "Requirement already satisfied: networkx in c:\\users\\campus3s043\\desktop\\alpaco_lectures\\venv\\lib\\site-packages (from torch->openai-whisper) (3.4.2)\n",
      "Requirement already satisfied: setuptools in c:\\users\\campus3s043\\desktop\\alpaco_lectures\\venv\\lib\\site-packages (from torch->openai-whisper) (75.1.0)\n",
      "Requirement already satisfied: sympy==1.13.1 in c:\\users\\campus3s043\\desktop\\alpaco_lectures\\venv\\lib\\site-packages (from torch->openai-whisper) (1.13.1)\n",
      "Requirement already satisfied: mpmath<1.4,>=1.1.0 in c:\\users\\campus3s043\\desktop\\alpaco_lectures\\venv\\lib\\site-packages (from sympy==1.13.1->torch->openai-whisper) (1.3.0)\n",
      "Requirement already satisfied: six>=1.5 in c:\\users\\campus3s043\\desktop\\alpaco_lectures\\venv\\lib\\site-packages (from python-dateutil>=2.8.2->pandas<3.0,>=1.0->gradio) (1.16.0)\n",
      "Requirement already satisfied: charset-normalizer<4,>=2 in c:\\users\\campus3s043\\desktop\\alpaco_lectures\\venv\\lib\\site-packages (from requests->huggingface-hub>=0.25.1->gradio) (3.3.2)\n",
      "Requirement already satisfied: urllib3<3,>=1.21.1 in c:\\users\\campus3s043\\desktop\\alpaco_lectures\\venv\\lib\\site-packages (from requests->huggingface-hub>=0.25.1->gradio) (2.2.3)\n",
      "Requirement already satisfied: markdown-it-py>=2.2.0 in c:\\users\\campus3s043\\desktop\\alpaco_lectures\\venv\\lib\\site-packages (from rich>=10.11.0->typer<1.0,>=0.12->gradio) (3.0.0)\n",
      "Requirement already satisfied: pygments<3.0.0,>=2.13.0 in c:\\users\\campus3s043\\desktop\\alpaco_lectures\\venv\\lib\\site-packages (from rich>=10.11.0->typer<1.0,>=0.12->gradio) (2.18.0)\n",
      "Requirement already satisfied: mdurl~=0.1 in c:\\users\\campus3s043\\desktop\\alpaco_lectures\\venv\\lib\\site-packages (from markdown-it-py>=2.2.0->rich>=10.11.0->typer<1.0,>=0.12->gradio) (0.1.2)\n"
     ]
    }
   ],
   "source": [
    "!pip install openai-whisper gradio"
   ]
  },
  {
   "cell_type": "code",
   "execution_count": 13,
   "id": "93309e9d-098f-4c7e-9895-9d360f9fd9a7",
   "metadata": {},
   "outputs": [
    {
     "name": "stdout",
     "output_type": "stream",
     "text": [
      "Loaded .env from: c:\\Users\\campus3S043\\Desktop\\alpaco_lectures\\step10_LLM\\.env\n",
      "API Key loaded successfully\n",
      "API Key: sk-proj-...yTUA\n"
     ]
    },
    {
     "name": "stderr",
     "output_type": "stream",
     "text": [
      "c:\\Users\\campus3S043\\Desktop\\alpaco_lectures\\venv\\Lib\\site-packages\\whisper\\__init__.py:150: FutureWarning: You are using `torch.load` with `weights_only=False` (the current default value), which uses the default pickle module implicitly. It is possible to construct malicious pickle data which will execute arbitrary code during unpickling (See https://github.com/pytorch/pytorch/blob/main/SECURITY.md#untrusted-models for more details). In a future release, the default value for `weights_only` will be flipped to `True`. This limits the functions that could be executed during unpickling. Arbitrary objects will no longer be allowed to be loaded via this mode unless they are explicitly allowlisted by the user via `torch.serialization.add_safe_globals`. We recommend you start setting `weights_only=True` for any use case where you don't have full control of the loaded file. Please open an issue on GitHub for any issues related to this experimental feature.\n",
      "  checkpoint = torch.load(fp, map_location=device)\n"
     ]
    },
    {
     "name": "stdout",
     "output_type": "stream",
     "text": [
      "* Running on local URL:  http://127.0.0.1:7861\n",
      "* Running on public URL: https://7e599aab0d957d94be.gradio.live\n",
      "\n",
      "This share link expires in 72 hours. For free permanent hosting and GPU upgrades, run `gradio deploy` from the terminal in the working directory to deploy to Hugging Face Spaces (https://huggingface.co/spaces)\n"
     ]
    },
    {
     "data": {
      "text/html": [
       "<div><iframe src=\"https://7e599aab0d957d94be.gradio.live\" width=\"100%\" height=\"500\" allow=\"autoplay; camera; microphone; clipboard-read; clipboard-write;\" frameborder=\"0\" allowfullscreen></iframe></div>"
      ],
      "text/plain": [
       "<IPython.core.display.HTML object>"
      ]
     },
     "metadata": {},
     "output_type": "display_data"
    },
    {
     "data": {
      "text/plain": []
     },
     "execution_count": 13,
     "metadata": {},
     "output_type": "execute_result"
    }
   ],
   "source": [
    "import gradio as gr\n",
    "import whisper\n",
    "from openai import OpenAI\n",
    "from dotenv import load_dotenv\n",
    "\n",
    "def load_env_from_project_root():\n",
    "    \"\"\"\n",
    "    현재 실행 중인 스크립트(LLM_basic.ipynb)에서\n",
    "    step10_LLM 디렉토리의 .env 파일을 로드\n",
    "    \"\"\"\n",
    "    # 현재 파일 위치\n",
    "    current_path = Path.cwd()\n",
    "    \n",
    "    # step10_LLM 디렉토리로 이동 (../../)\n",
    "    project_root = current_path.parent.parent\n",
    "    \n",
    "    # .env 파일 경로\n",
    "    env_path = project_root / '.env'\n",
    "    \n",
    "    # .env 파일이 존재하는지 확인\n",
    "    if env_path.exists():\n",
    "        load_dotenv(env_path)\n",
    "        print(f\"Loaded .env from: {env_path}\")\n",
    "        return True\n",
    "    else:\n",
    "        raise FileNotFoundError(f\".env file not found at: {env_path}\")\n",
    "\n",
    "# 실행\n",
    "try:\n",
    "    load_env_from_project_root()\n",
    "    \n",
    "    # 환경 변수 사용\n",
    "    api_key = os.getenv('OPENAI_API_KEY')\n",
    "    if api_key:\n",
    "        print(\"API Key loaded successfully\")\n",
    "        # API 키 마스킹하여 출력\n",
    "        masked_key = f\"{api_key[:8]}...{api_key[-4:]}\"\n",
    "        print(f\"API Key: {masked_key}\")\n",
    "    else:\n",
    "        print(\"API Key not found in .env file\")\n",
    "except Exception as e:\n",
    "    print(f\"Error loading .env file: {e}\")\n",
    "\n",
    "starting_prompt = \"\"\"당신은 어시스턴트입니다.\n",
    "사용자와 토론하거나 이메일 작업을 수행할 수 있습니다. 이메일은 제목, 수신자 및 본문이 필요합니다.\n",
    "지시 사항은 [Instruction]으로 시작하고 사용자 입력은 [User]로 시작합니다. 지시에 따르십시오.\n",
    "\"\"\"\n",
    "prompts = {'START': '[Instruction] 사용자가 이메일을 작성하고 싶다면 \"WRITE_EMAIL\", 질문을 입력했다면 \"QUESTION\", 그 외의 요구를 했다면 \"OTHER\"를 답변합니다. 딱 한 단어만 답변하세요.',\n",
    "           'QUESTION': '[Instruction] 질문에 답할 수 있다면 \"ANSWER\", 추가적인 정보가 필요하다면 \"MORE\", 답변할 수 있다면 \"OTHER\"를 답변합니다. 딱 한 단어만 답변하세요.',\n",
    "           'ANSWER': '[Instruction] 사용자의 질문에 답변하세요.',\n",
    "           'MORE': '[Instruction] 사용자의 앞선 지시에 따라 추가 정보를 요청하세요.',\n",
    "           'OTHER': '[Instruction] 사용자가 예의바르게 대화를 나누고 있다면 예의바르게 대답하거나 인사를 건네세요. 그렇지 않다면 사용자에게 답변할 수 없다고 알려주세요.',\n",
    "           'WRITE_EMAIL': '[Instruction] 제목이나 내용이 누락된 경우 \"MORE\"를 답변하세요. 모든 정보가 있다면 \"ACTION_WRITE_EMAIL | subject:subject, recipient:recipient, message:message\"를 답변하세요.',\n",
    "           'ACTION_WRITE_EMAIL': '[Instruction] 메일이 전송되었습니다. 사용자에게 작업이 완료되었다고 알려주세요.'}\n",
    "actions = ['ACTION_WRITE_EMAIL']\n",
    "\n",
    "\n",
    "class Discussion:\n",
    "    \"\"\"\n",
    "    어시스턴트와의 대화를 나타내는 클래스입니다.\n",
    "\n",
    "    Attributes:\n",
    "        state (str): 대화의 현재 상태\n",
    "        messages_history (list): 대화의 메시지 이력을 나타내는 딕셔너리 리스트\n",
    "        client: 오픈AI 클라이언트의 인스턴스\n",
    "        stt_model: 오디오를 전사하는 데 사용되는 음성 인식 모델\n",
    "\n",
    "    Methods:\n",
    "        generate_answer: 입력된 메시지를 기반으로 답변을 생성\n",
    "        reset: 대화를 초기 상태로 재설정\n",
    "        do_action: 지정된 작업을 수행\n",
    "        transcribe: 주어진 오디오 파일을 전사\n",
    "        discuss_from_audio: 전사된 오디오 파일을 기반으로 대화 시작\n",
    "        discuss: 주어진 입력을 기반으로 대화 계속\n",
    "    \"\"\"\n",
    "\n",
    "    def __init__(\n",
    "            self, state='START',\n",
    "            messages_history=[{'role': 'user',\n",
    "                               'content': f'{starting_prompt}'}]) -> None:\n",
    "        self.state = state\n",
    "        self.messages_history = messages_history\n",
    "        self.client = OpenAI()\n",
    "        self.stt_model = whisper.load_model(\"base\")\n",
    "        pass\n",
    "\n",
    "    def generate_answer(self, messages):\n",
    "        response = self.client.chat.completions.create(\n",
    "            model=\"gpt-4o\",\n",
    "            messages=messages)\n",
    "        return (response.choices[0].message.content)\n",
    "\n",
    "    def reset(self, start_state='START'):\n",
    "        self.messages_history = [\n",
    "            {'role': 'user', 'content': f'{starting_prompt}'}]\n",
    "        self.state = start_state\n",
    "        self.previous_state = None\n",
    "\n",
    "    def reset_to_previous_state(self):\n",
    "        self.state = self.previous_state\n",
    "        self.previous_state = None\n",
    "\n",
    "    def to_state(self, state):\n",
    "        self.previous_state = self.state\n",
    "        self.state = state\n",
    "\n",
    "    def do_action(self, action):\n",
    "        \"\"\"\n",
    "        특정 작업을 수행합니다.\n",
    "\n",
    "        Args:\n",
    "            action (str): 수행할 작업\n",
    "        \"\"\"\n",
    "        print(f'DEBUG perform action={action}')\n",
    "        pass\n",
    "\n",
    "    def transcribe(self, file):\n",
    "        transcription = self.client.audio.transcriptions.create(\n",
    "            model=\"whisper-1\",\n",
    "            file=open(file, 'rb'),\n",
    "        )\n",
    "        return transcription.text\n",
    "\n",
    "    def discuss_from_audio(self, file):\n",
    "        if file:\n",
    "            # 오디오 파일을 전사하고 입력을 사용하여 토론 시작\n",
    "            return self.discuss(f'[User] {self.transcribe(file)}')\n",
    "        # 파일이 없는 경우 빈 출력\n",
    "        return ''\n",
    "\n",
    "    def discuss(self, input=None):\n",
    "        if input is not None:\n",
    "            self.messages_history.append({\"role\": \"user\", \"content\": input})\n",
    "\n",
    "        # 대화를 계속\n",
    "        completion = self.generate_answer(\n",
    "            self.messages_history +\n",
    "            [{\"role\": \"user\", \"content\": prompts[self.state]}])\n",
    "\n",
    "        # 응답 내용이 작업인지 확인\n",
    "        if completion.split(\"|\")[0].strip() in actions:\n",
    "            action = completion.split(\"|\")[0].strip()\n",
    "            self.to_state(action)\n",
    "            self.do_action(completion)\n",
    "            # 대화를 계속\n",
    "            return self.discuss()\n",
    "        # 응답 내용이 새로운 상태인지 확인\n",
    "        elif completion in prompts:\n",
    "            self.to_state(completion)\n",
    "            # 대화를 계속\n",
    "            return self.discuss()\n",
    "        # 응답 내용이 사용자에게 전달할 내용인지 확인\n",
    "        else:\n",
    "            self.messages_history.append(\n",
    "                {\"role\": \"assistant\", \"content\": completion})\n",
    "            if self.state != 'MORE':\n",
    "                # 재시작\n",
    "                self.reset()\n",
    "            else:\n",
    "                # 이전 상태로 돌아가기\n",
    "                self.reset_to_previous_state()\n",
    "            return completion\n",
    "\n",
    "# Jupyter notebook에서 Gradio 인터페이스 생성\n",
    "discussion = Discussion()\n",
    "demo = gr.Interface(\n",
    "    theme=gr.themes.Soft(),\n",
    "    fn=discussion.discuss_from_audio,\n",
    "    live=True,\n",
    "    inputs=gr.Audio(sources=\"microphone\", type=\"filepath\"),\n",
    "    outputs=\"text\")\n",
    "demo.launch(share=True)\n"
   ]
  },
  {
   "cell_type": "markdown",
   "id": "3f176932",
   "metadata": {},
   "source": [
    "# 문서 정리"
   ]
  },
  {
   "cell_type": "code",
   "execution_count": 5,
   "id": "8cae541a",
   "metadata": {},
   "outputs": [
    {
     "name": "stdout",
     "output_type": "stream",
     "text": [
      "{\n",
      "    \"topics\": [\"인공지능 발전\", \"딥러닝\", \"기계학습\", \"응용 분야\", \"의료 진단\", \"윤리적 문제\"],\n",
      "    \"summary\": \"인공지능 기술은 최근 몇 년간 급속히 발전하여 일상생활과 산업에 큰 영향을 미치고 있으며, 특히 딥러닝 및 기계학습 분야에서 많은 성과를 거두었습니다. AI는 의료 진단, 자율주행 자동차, 개인화된 추천 시스템 등에서 활용되고 있지만, 발전에 따른 윤리적 문제와 일자리 대체 등의 사회적 과제가 제기되고 있습니다. 이에 따라 적절한 규제와 윤리 가이드라인이 필요합니다.\"\n",
      "}\n"
     ]
    }
   ],
   "source": [
    "# 파일 읽기\n",
    "with open('file.txt', 'r', encoding='utf-8') as f:\n",
    "    document = f.read()\n",
    "\n",
    "prompt = '''당신은 문서 정리원입니다. \n",
    "문서를 분석하고, 주요 주제를 추출하고, 간단한 요약을 생성합니다.\n",
    "정보는 JSON 형식을 사용하여 제공하며, 다음 구조를 사용합니다:{\n",
    "        \"topics\": [\"주요 주제1\", \"주요 주제2\", \"주요 주제3\"],\n",
    "        \"summary\": \"문서의 요약\"\n",
    "    } \n",
    "'''\n",
    "\n",
    "response = client.chat.completions.create(\n",
    "    model=\"gpt-4o-mini\",\n",
    "    messages=[{\"role\": \"user\", \"content\": f'{prompt} Document: {document}'}],\n",
    "    response_format={\"type\": \"json_object\"})\n",
    "\n",
    "print(response.choices[0].message.content)"
   ]
  },
  {
   "cell_type": "markdown",
   "id": "72703ae6-7f65-4420-b7cd-3c242d4b5d72",
   "metadata": {},
   "source": [
    "# 감정분석"
   ]
  },
  {
   "cell_type": "code",
   "execution_count": 9,
   "id": "d9d622ce-0450-4689-bda8-500e7cfbfab4",
   "metadata": {},
   "outputs": [
    {
     "name": "stdout",
     "output_type": "stream",
     "text": [
      "Accuracy of GPT-4o model: 0.955\n",
      "Accuracy of GPT-4o-mini model: 0.955\n"
     ]
    }
   ],
   "source": [
    "from openai import OpenAI\n",
    "import numpy as np\n",
    "import pandas as pd\n",
    "from sklearn.metrics import roc_curve, auc\n",
    "import matplotlib.pyplot as plt\n",
    "\n",
    "def get_prob(api_response, target_class):\n",
    "    top_logprobs = api_response.choices[0].logprobs.content[0].top_logprobs\n",
    "    prob = [np.exp(x.logprob) for x in top_logprobs if x.token == target_class]\n",
    "    if len(prob) == 0:\n",
    "        res = 0\n",
    "    else:\n",
    "        res = prob[0]\n",
    "    return res\n",
    "\n",
    "def gpt_sentimental_classif(text, model):\n",
    "    system_prompt = \"\"\"당신은 감정 분석 전문가입니다. \n",
    "    당신은 입력한 텍스트의 감정을 분류합니다.\n",
    "    - 텍스트가 긍정적이면 'positive'를 반환합니다.\n",
    "    - 텍스트가 부정적이면 'negative'를 반환합니다.\n",
    "    'positive'나 'negative' 중 하나를 반환하세요.\n",
    "    결과는 'positive'나 'negative' 중 하나여야 합니다.\n",
    "    다른 값은 허용되지 않습니다! \n",
    "    \"\"\"\n",
    "    api_response = client.chat.completions.create(\n",
    "        model=model,\n",
    "        messages=[\n",
    "            {\"role\": \"system\", \"content\": system_prompt},\n",
    "            {\"role\": \"user\", \"content\": text}\n",
    "        ],\n",
    "        temperature=0,\n",
    "        logprobs=True,\n",
    "        top_logprobs=5\n",
    "    )\n",
    "    \n",
    "    prob_positive = get_prob(api_response, 'positive')\n",
    "    prob_negative = get_prob(api_response, 'negative')\n",
    "\n",
    "    sum_prob = prob_positive + prob_negative\n",
    "    prob_positive = prob_positive/sum_prob\n",
    "    prob_negative = prob_negative/sum_prob\n",
    "\n",
    "    return prob_positive, prob_negative\n",
    "\n",
    "def make_exp(model, df):\n",
    "    res = []\n",
    "    for i in range(len(df)):\n",
    "        res.append(gpt_sentimental_classif(df.loc[i, 'reviewText'], model))\n",
    "    res = pd.DataFrame(res, columns=['prob_positive', 'prob_negative'])\n",
    "    return res\n",
    "\n",
    "df = pd.read_csv('https://raw.githubusercontent.com/pycaret/pycaret/master/datasets/amazon.csv')\n",
    "df_0 = df[df.Positive == 0].sample(100, random_state=42)\n",
    "df_1 = df[df.Positive == 1].sample(100, random_state=42)\n",
    "df = pd.concat([df_0, df_1]).reset_index(drop=True)\n",
    "\n",
    "prob_gpt_4o = make_exp('gpt-4o', df)\n",
    "prob_gpt_4o_mini = make_exp('gpt-4o-mini', df)\n",
    "\n",
    "predictions_gpt_4o = prob_gpt_4o['prob_positive'].apply(lambda x: 1 if x >= 0.5 else 0)\n",
    "predictions_gpt_4o_mini = prob_gpt_4o_mini['prob_positive'].apply(lambda x: 1 if x >= 0.5 else 0)\n",
    "\n",
    "accuracy_gpt_4o = (predictions_gpt_4o_mini == df['Positive']).mean()\n",
    "accuracy_gpt_4o_mini = (predictions_gpt_4o_mini == df['Positive']).mean()\n",
    "print(f'Accuracy of GPT-4o model: {accuracy_gpt_4o}')\n",
    "print(f'Accuracy of GPT-4o-mini model: {accuracy_gpt_4o_mini}')"
   ]
  },
  {
   "cell_type": "code",
   "execution_count": 10,
   "id": "9d0db14b-168f-4564-91e3-349beb2c8d4f",
   "metadata": {},
   "outputs": [
    {
     "data": {
      "image/png": "[encoded data removed]",
      "text/plain": [
       "<Figure size 640x480 with 1 Axes>"
      ]
     },
     "metadata": {},
     "output_type": "display_data"
    }
   ],
   "source": [
    "fpr_4o, tpr_4o, _ = roc_curve(df['Positive'], prob_gpt_4o['prob_positive'])\n",
    "roc_auc_4o = auc(fpr_4o, tpr_4o)\n",
    "fpr_4o_mini, tpr_4o_mini, _ = roc_curve(df['Positive'], prob_gpt_4o_mini['prob_positive'])\n",
    "roc_auc_4o_mini = auc(fpr_4o_mini, tpr_4o_mini)\n",
    "\n",
    "plt.figure()\n",
    "plt.plot(fpr_4o, tpr_4o, color='orange',\n",
    "lw=2, label='ROC curve GPT-4o (area = %0.4f)' % roc_auc_4o)\n",
    "plt.plot(fpr_4o_mini, tpr_4o_mini, color='blue',\n",
    "lw=2, label='ROC curve GPT-4o-mini (area = %0.4f)' % roc_auc_4o_mini)\n",
    "plt.plot([0, 1], [0, 1], color='navy', lw=2, linestyle='--')\n",
    "plt.xlim([0.0, 1.0])\n",
    "plt.ylim([0.0, 1.05])\n",
    "plt.xlabel('False Positive Rate')\n",
    "plt.ylabel('True Positive Rate')\n",
    "plt.title('Receiver Operating Characteristic (ROC)')\n",
    "plt.legend(loc=\"lower right\")\n",
    "plt.show()"
   ]
  },
  {
   "cell_type": "markdown",
   "id": "c52e336c-ffb1-4bf9-a2f7-05b43ae4ece4",
   "metadata": {},
   "source": [
    "# 스트리밍"
   ]
  },
  {
   "cell_type": "code",
   "execution_count": 16,
   "id": "97512c46-c1fa-4a78-ae0a-c717326a6510",
   "metadata": {},
   "outputs": [
    {
     "name": "stderr",
     "output_type": "stream",
     "text": [
      "C:\\Users\\campus3S043\\AppData\\Local\\Temp\\ipykernel_42584\\2350813096.py:1: RuntimeWarning: coroutine 'AsyncCompletions.create' was never awaited\n",
      "  stream = client.chat.completions.create(\n",
      "RuntimeWarning: Enable tracemalloc to get the object allocation traceback\n"
     ]
    },
    {
     "name": "stdout",
     "output_type": "stream",
     "text": [
      "옛날 옛적, 시골 마을에 작은 마법사 하나가 살았어요. 이름은 루루였죠. 루루는 친구들과 함께 놀기를 좋아했어요. 하지만, 루루는 특별한 능력을 가지고 있었어요. 바로 동물들과 대화할 수 있는 능력이었죠!\n",
      "\n",
      "는 루루가 숲 속을 걷고 있었어요. 그때 갑자기 귀여운 다람쥐 한 마리가 뛰어왔어요. \"루루, 도와줘! 나의 친구들이 숲 속에서 길을 잃었어요!\" 다람쥐가 울먹였어요.\n",
      "\n",
      " 다 함께 찾아보자!\"라고 말했어요. 그러고는 다람쥐와 함께 숲 속으로 들어갔어요. 그곳에서 루루는 토끼, 새, 그리고 너구리를 만났어요.\n",
      "\n",
      " 어디 갔어요?\" 루루가 물었어요. 토끼가 고개를 숙이며 \"우리는 나무 뒤에 술래잡기를 하다가 길을 잃었어요.\"라고 대답했어요.\n",
      "\n",
      "펴보며 마법을 썼어요. \"하늘에서 별들이 비추어 줄 거야!\" 그러자 하늘에서 반짝이는 별들이 떨어져 내리며 길을 안내해 주었어요.\n",
      "\n",
      " 별빛을 따라가자, 드디어 친구들을 찾을 수 있었어요! 루루는 반짝이는 별빛을 보며 외쳤어요. \"여기야! 친구들이 기다리고 있어!\"\n",
      "\n",
      " 함께 숲 속에서 즐거운 시간을 보냈어요. 그날 이후로 루루는 친구들이 언제든지 필요할 때 도와주는 마법사로 더 사랑받게 되었답니다.\n",
      "\n",
      "들과 함께 하는 것이 가장 소중하다는 것을 깨달았어요. 그들은 영원히 행복하게 살았답니다."
     ]
    }
   ],
   "source": [
    "stream = client.chat.completions.create(\n",
    "    model=\"gpt-4o-mini\",\n",
    "    messages=[{\n",
    "        \"role\": \"user\",\n",
    "        \"content\": \"5세 아이를 위한 20줄짜리 이야기를 작성해주세요.\"}],\n",
    "    stream=True,\n",
    ")\n",
    "for chunk in stream:\n",
    "    if chunk.choices[0].delta.content is not None:\n",
    "        print(chunk.choices[0].delta.content, end=\"\")"
   ]
  },
  {
   "cell_type": "markdown",
   "id": "3e3b617d-a644-461a-914a-9534f9c94bce",
   "metadata": {},
   "source": [
    "# 비동기처리\n",
    "- 비동기 처리(Asynchronous Processing)는 작업들을 동시에 실행할 수 있게 해주는 프로그래밍\n",
    "- 여러 작업이 서로 블로킹하지 않고 독립적으로 실행되어 전체 실행 시간을 단축\n",
    "- Python에서는 `asyncio` 라이브러리를 통해 비동기 프로그래밍을 구현\n",
    "    + 아침 식사를 준비하는 과정에서 커피를 내리면서 동시에 토스트를 굽는 것처럼 여러 작업을 병렬로 처리\n",
    "    + 이는 각 작업이 서로를 기다리지 않고 독립적으로 실행되므로, 전체 소요 시간을 크게 단축"
   ]
  },
  {
   "cell_type": "code",
   "execution_count": 13,
   "id": "9f4242d7",
   "metadata": {},
   "outputs": [
    {
     "name": "stdout",
     "output_type": "stream",
     "text": [
      "커피 내리기 시작...\n",
      "토스트 굽기 시작...\n",
      "커피가 완성되었습니다!\n",
      "토스트가 완성되었습니다!\n",
      "\n",
      "아침식사가 준비되었습니다! ☕ 🍞\n"
     ]
    }
   ],
   "source": [
    "import asyncio\n",
    "\n",
    "async def make_coffee():\n",
    "    print(\"커피 내리기 시작...\")\n",
    "    await asyncio.sleep(2)  # 커피 내리는데 2초 걸린다고 가정\n",
    "    print(\"커피가 완성되었습니다!\")\n",
    "    return \"☕\"\n",
    "\n",
    "async def toast_bread():\n",
    "    print(\"토스트 굽기 시작...\")\n",
    "    await asyncio.sleep(10)  # 토스트 굽는데 10초 걸린다고 가정\n",
    "    print(\"토스트가 완성되었습니다!\")\n",
    "    return \"🍞\"\n",
    "\n",
    "async def prepare_breakfast():\n",
    "    # 동시에 커피와 토스트 준비\n",
    "    coffee, toast = await asyncio.gather(make_coffee(), toast_bread())\n",
    "    print(f\"\\n아침식사가 준비되었습니다! {coffee} {toast}\")\n",
    "\n",
    "# 실행\n",
    "asyncio.run(prepare_breakfast())\n",
    "\n"
   ]
  },
  {
   "cell_type": "code",
   "execution_count": 12,
   "id": "e547cd27-adae-4ca6-815c-7ae4903c5368",
   "metadata": {},
   "outputs": [
    {
     "name": "stdout",
     "output_type": "stream",
     "text": [
      "\n",
      "Countdown: 10\n",
      "**바\n",
      "Countdown: 9\n",
      "람과 구름의 친구**\n",
      "\n",
      "적, 푸른 하늘에 바람과 구름이 살고 있었어요. 바람은 날\n",
      "Countdown: 8\n",
      "\n",
      "Countdown: 7\n",
      "\n",
      "Countdown: 6\n",
      "\n",
      "Countdown: 5\n",
      "쌔고, 구름은 부드러웠어요. 두 친구는 매일 함께 하늘을 날며 놀았답니다.\n",
      "\n",
      "어느 날,\n",
      "Countdown: 4\n",
      ". \"구름아, 우리 지구에 내려가서 친구들을 만나볼까?\" 구름은 신나서 고개를 끄덕였어요. 그래서 두 친구는 하늘에서 내려가도록 결정했어요.\n",
      "\n",
      " 내려가며 \"슝!\" 하고 소리쳤고, 구름은 \"퐁!\"\n",
      "Countdown: 3\n",
      " 반짝이며 인사를 했죠. \"안녕하세요, 바람님! 우리도 함께 놀아요!\"고\n",
      "\n",
      "들과 함께 춤을 췄고, 구름은 꽃들 위에 은은한 비를 내렸어요. 꽃들은 기뻐하며 더욱 활짝 피어났답니다. \"정말 신나!\" 바람이 외쳤어요.\n",
      "\n",
      " 저물어 갔어요. \"우리는 다시 하늘로 돌아가야 해,\" 구름\n",
      "Countdown: 2\n",
      "그래도 친구들을 만났으니 행복해!\"라고 대답했어요.\n",
      "\n",
      "이라고 외쳤어요. 그리고 두 친구는 하늘로 날아올라, 다음 모험을 생각했답니다. 바람과 구름은 언제나 함께하는 소중한 친구들이었어요.\n",
      "\n",
      "매일 하늘에서의 모험이 시작되었답니다.다렸어요. 그리고 매일\n",
      "Countdown: 1\n"
     ]
    }
   ],
   "source": [
    "import asyncio\n",
    "import time\n",
    "import nest_asyncio\n",
    "from openai import AsyncOpenAI\n",
    "\n",
    "# Enable nested event loops\n",
    "nest_asyncio.apply()\n",
    "\n",
    "client = AsyncOpenAI(api_key=os.getenv('OPENAI_API_KEY'))\n",
    "\n",
    "async def async_call():\n",
    "    stream = await client.chat.completions.create(\n",
    "        model=\"gpt-4o-mini\",\n",
    "        messages=[{\n",
    "            \"role\": \"user\",\n",
    "            \"content\": \"5세 아이를 위한 20줄짜리 이야기를 작성해주세요.\"}],\n",
    "        stream=True\n",
    "    )\n",
    "\n",
    "    async for chunk in stream:\n",
    "        if chunk.choices[0].delta.content is not None:\n",
    "            print(chunk.choices[0].delta.content, end=\"\")\n",
    "\n",
    "async def countdown():\n",
    "    for i in range(10, 0, -1):\n",
    "        print(f\"\\nCountdown: {i}\")\n",
    "        await asyncio.sleep(1)\n",
    "\n",
    "async def main():\n",
    "    await asyncio.gather(async_call(), countdown())\n",
    "\n",
    "# Use asyncio.run() after enabling nested event loops\n",
    "asyncio.run(main())"
   ]
  },
  {
   "cell_type": "code",
   "execution_count": null,
   "id": "e851d5b5-f1f6-484a-a991-bbccc8a8b0d6",
   "metadata": {},
   "outputs": [],
   "source": []
  },
  {
   "cell_type": "markdown",
   "id": "1d4d43a4",
   "metadata": {},
   "source": [
    "# "
   ]
  }
 ],
 "metadata": {
  "kernelspec": {
   "display_name": "Python 3 (ipykernel)",
   "language": "python",
   "name": "python3"
  },
  "language_info": {
   "codemirror_mode": {
    "name": "ipython",
    "version": 3
   },
   "file_extension": ".py",
   "mimetype": "text/x-python",
   "name": "python",
   "nbconvert_exporter": "python",
   "pygments_lexer": "ipython3",
   "version": "3.12.6"
  }
 },
 "nbformat": 4,
 "nbformat_minor": 5
}
