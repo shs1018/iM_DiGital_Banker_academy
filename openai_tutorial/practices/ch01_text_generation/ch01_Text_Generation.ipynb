{
 "cells": [
  {
   "cell_type": "markdown",
   "metadata": {},
   "source": [
    "# 기본 정보 입력\n",
    "- pip install openai"
   ]
  },
  {
   "cell_type": "code",
   "execution_count": 1,
   "metadata": {},
   "outputs": [],
   "source": [
    "# 패키지 불러오기\n",
    "import openai"
   ]
  },
  {
   "cell_type": "code",
   "execution_count": 2,
   "metadata": {},
   "outputs": [
    {
     "name": "stdout",
     "output_type": "stream",
     "text": [
      "Loaded .env from: c:\\Users\\campus3S043\\Desktop\\openai_langchain_tutorial\\.env\n",
      "API Key loaded successfully\n",
      "API Key: sk-proj-...yTUA\n"
     ]
    }
   ],
   "source": [
    "import os\n",
    "from pathlib import Path\n",
    "from dotenv import load_dotenv\n",
    "\n",
    "def load_env_from_project_root():\n",
    "    \"\"\"\n",
    "    현재 실행 중인 스크립트(LLM_basic.ipynb)에서\n",
    "    step10_LLM 디렉토리의 .env 파일을 로드\n",
    "    \"\"\"\n",
    "    # 현재 파일 위치\n",
    "    current_path = Path.cwd()\n",
    "    \n",
    "    # step10_LLM 디렉토리로 이동 (../../)\n",
    "    project_root = current_path.parent.parent\n",
    "    \n",
    "    # .env 파일 경로\n",
    "    env_path = project_root / '.env'\n",
    "    \n",
    "    # .env 파일이 존재하는지 확인\n",
    "    if env_path.exists():\n",
    "        load_dotenv(env_path)\n",
    "        print(f\"Loaded .env from: {env_path}\")\n",
    "        return True\n",
    "    else:\n",
    "        raise FileNotFoundError(f\".env file not found at: {env_path}\")\n",
    "\n",
    "# 실행\n",
    "try:\n",
    "    load_env_from_project_root()\n",
    "    \n",
    "    # 환경 변수 사용\n",
    "    api_key = os.getenv('OPENAI_API_KEY')\n",
    "    if api_key:\n",
    "        print(\"API Key loaded successfully\")\n",
    "        # API 키 마스킹하여 출력\n",
    "        masked_key = f\"{api_key[:8]}...{api_key[-4:]}\"\n",
    "        print(f\"API Key: {masked_key}\")\n",
    "    else:\n",
    "        print(\"API Key not found in .env file\")\n",
    "except Exception as e:\n",
    "    print(f\"Error loading .env file: {e}\")"
   ]
  },
  {
   "cell_type": "code",
   "execution_count": 3,
   "metadata": {},
   "outputs": [],
   "source": [
    "# API 키 지정하여 클라이언트 선언하기\n",
    "OPENAI_API_KEY=os.environ.get('OPENAI_API_KEY')\n",
    "client = openai.OpenAI(api_key = OPENAI_API_KEY)\n",
    "\n",
    "# client = openai.OpenAI(api_key = \"여기에 API 키를 넣어주세요\")"
   ]
  },
  {
   "cell_type": "markdown",
   "metadata": {},
   "source": [
    "# Text generation\n"
   ]
  },
  {
   "cell_type": "markdown",
   "metadata": {},
   "source": [
    "- id (string): 채팅 완성에 대한 고유 식별자입니다. 모델에 의해 생성된 각 완성은 구별되는 ID를 가지며, 특정 응답을 추적하거나 참조하는 데 유용할 수 있습니다.\n",
    "\n",
    "- choices (array): 모델이 제공하는 다양한 응답들을 포함하는 채팅 완성 선택 목록입니다. 요청의 'n' 매개변수가 1보다 크면 이 배열에는 모델이 생성한 여러 가지 가능한 완성이 포함될 수 있습니다.이 배열 내의 각 선택에는 완성의 텍스트와 기타 관련 데이터와 같은 추가 속성들이 포함됩니다.\n",
    "\n",
    "- created (integer): 채팅 완성이 생성된 시점의 유닉스 타임스탬프(초 단위)를 나타냅니다. 이는 응답이 생성된 정확한 시간을 결정하는 데 도움이 됩니다.\n",
    "\n",
    "- model (string): 채팅 완성을 생성하는 데 사용된 특정 모델을 지정합니다. 다른 모델들은 다양한 능력이나 스타일을 가지고 있을 수 있으며, 이 필드는 응답을 위해 사용된 모델을 나타냅니다.\n",
    "\n",
    "- system_fingerprint (string): 이 지문은 모델이 실행되는 백엔드 구성을 나타냅니다. 반응의 결정론에 영향을 줄 수 있는 백엔드 변경 사항을 이해하기 위해 'seed' 요청 매개변수와 함께 사용될 수 있습니다.\n",
    "\n",
    "- object (string): API에서 반환하는 객체의 유형을 나타내는 필드입니다. 채팅 완성의 경우에는 항상 'chat.completion'이 될 것이며, 응답 객체의 성격을 확인합니다.\n",
    "\n",
    "- usage (object): 완성 요청에 대한 사용 통계를 포함하는 객체입니다. 응답 생성에 사용된 토큰 수와 같은 정보를 포함할 수 있습니다. 이는 API 사용을 추적하고 요청과 관련된 비용을 이해하는 데 특히 유용합니다."
   ]
  },
  {
   "cell_type": "markdown",
   "metadata": {},
   "source": [
    "## 기본 질문하기"
   ]
  },
  {
   "cell_type": "code",
   "execution_count": 4,
   "metadata": {},
   "outputs": [
    {
     "name": "stdout",
     "output_type": "stream",
     "text": [
      "ChatCompletion(id='chatcmpl-AzIZjG9nZxSrmhYhYInq30lMtxflF', choices=[Choice(finish_reason='stop', index=0, logprobs=None, message=ChatCompletionMessage(content=\"To make a homemade pizza, you will need the following ingredients:\\n\\n- 1 package of pizza dough\\n- 1/2 cup of pizza sauce\\n- 1-2 cups of shredded mozzarella cheese\\n- Various toppings such as pepperoni, vegetables, meats, etc.\\n- Olive oil\\n- Cornmeal or flour (for dusting)\\n\\nHere's how to make it:\\n\\n1. Preheat your oven to 450 degrees F (230 degrees C).\\n\\n2. Roll out the pizza dough on a floured surface to your desired thickness and shape. Place the dough on a pizza pan or baking sheet.\\n\\n3. Brush the dough with olive oil to prevent it from getting soggy.\\n\\n4. Spread the pizza sauce evenly over the dough, leaving a small border around the edges for the crust.\\n\\n5. Sprinkle the shredded mozzarella cheese evenly over the sauce.\\n\\n6. Add your desired toppings, such as pepperoni, vegetables, meats, etc.\\n\\n7. Bake the pizza in the preheated oven for about 12-15 minutes, or until the crust is golden brown and the toppings are cooked.\\n\\n8. Remove the pizza from the oven and let it cool for a few minutes before slicing and serving.\\n\\nEnjoy your homemade pizza!\", refusal=None, role='assistant', audio=None, function_call=None, tool_calls=None))], created=1739172775, model='gpt-3.5-turbo-0125', object='chat.completion', service_tier='default', system_fingerprint=None, usage=CompletionUsage(completion_tokens=253, prompt_tokens=14, total_tokens=267, completion_tokens_details=CompletionTokensDetails(accepted_prediction_tokens=0, audio_tokens=0, reasoning_tokens=0, rejected_prediction_tokens=0), prompt_tokens_details=PromptTokensDetails(audio_tokens=0, cached_tokens=0)))\n"
     ]
    }
   ],
   "source": [
    "response = client.chat.completions.create(\n",
    "  model=\"gpt-3.5-turbo\",\n",
    "  messages=[{\"role\": \"user\", \"content\": \"Tell me how to make a pizza\"}])\n",
    "\n",
    "print(response) "
   ]
  },
  {
   "cell_type": "code",
   "execution_count": 5,
   "metadata": {},
   "outputs": [
    {
     "name": "stdout",
     "output_type": "stream",
     "text": [
      "To make a homemade pizza, you will need the following ingredients:\n",
      "\n",
      "- 1 package of pizza dough\n",
      "- 1/2 cup of pizza sauce\n",
      "- 1-2 cups of shredded mozzarella cheese\n",
      "- Various toppings such as pepperoni, vegetables, meats, etc.\n",
      "- Olive oil\n",
      "- Cornmeal or flour (for dusting)\n",
      "\n",
      "Here's how to make it:\n",
      "\n",
      "1. Preheat your oven to 450 degrees F (230 degrees C).\n",
      "\n",
      "2. Roll out the pizza dough on a floured surface to your desired thickness and shape. Place the dough on a pizza pan or baking sheet.\n",
      "\n",
      "3. Brush the dough with olive oil to prevent it from getting soggy.\n",
      "\n",
      "4. Spread the pizza sauce evenly over the dough, leaving a small border around the edges for the crust.\n",
      "\n",
      "5. Sprinkle the shredded mozzarella cheese evenly over the sauce.\n",
      "\n",
      "6. Add your desired toppings, such as pepperoni, vegetables, meats, etc.\n",
      "\n",
      "7. Bake the pizza in the preheated oven for about 12-15 minutes, or until the crust is golden brown and the toppings are cooked.\n",
      "\n",
      "8. Remove the pizza from the oven and let it cool for a few minutes before slicing and serving.\n",
      "\n",
      "Enjoy your homemade pizza!\n"
     ]
    }
   ],
   "source": [
    "print(response.choices[0].message.content)"
   ]
  },
  {
   "cell_type": "markdown",
   "metadata": {},
   "source": [
    "## 사용 요금 계산하기"
   ]
  },
  {
   "cell_type": "markdown",
   "metadata": {},
   "source": [
    "- 1k 토큰 당 비용\n",
    "\n",
    "|Model|Input|Output|\n",
    "|---|---|---|\n",
    "|gpt-4|$0.03|$0.06|\n",
    "|gpt-4-32k|$0.06|$0.12|\n",
    "|gpt-4-turbo|$0.01|$0.03|\n",
    "|gpt-3.5-turbo|$0.001|$0.002|\n",
    "|gpt-3.5-turbo-instruct|$0.0015|$0.002|"
   ]
  },
  {
   "cell_type": "code",
   "execution_count": 6,
   "metadata": {},
   "outputs": [
    {
     "name": "stdout",
     "output_type": "stream",
     "text": [
      "CompletionUsage(completion_tokens=253, prompt_tokens=14, total_tokens=267, completion_tokens_details=CompletionTokensDetails(accepted_prediction_tokens=0, audio_tokens=0, reasoning_tokens=0, rejected_prediction_tokens=0), prompt_tokens_details=PromptTokensDetails(audio_tokens=0, cached_tokens=0))\n"
     ]
    }
   ],
   "source": [
    "print(response.usage)"
   ]
  },
  {
   "cell_type": "code",
   "execution_count": 7,
   "metadata": {},
   "outputs": [
    {
     "data": {
      "text/plain": [
       "14"
      ]
     },
     "execution_count": 7,
     "metadata": {},
     "output_type": "execute_result"
    }
   ],
   "source": [
    "response.usage.prompt_tokens"
   ]
  },
  {
   "cell_type": "code",
   "execution_count": 8,
   "metadata": {},
   "outputs": [
    {
     "name": "stdout",
     "output_type": "stream",
     "text": [
      "총 소모 비용 : 0.6785168 원\n"
     ]
    }
   ],
   "source": [
    "total_bill_USD = (response.usage.completion_tokens*0.002 +response.usage.prompt_tokens*0.001)/1000\n",
    "# 23.11.27 기준 환율 1USD = 1304.84 KRW\n",
    "total_bill_KRW = total_bill_USD*1304.84\n",
    "print(\"총 소모 비용 : {} 원\".format(total_bill_KRW))"
   ]
  },
  {
   "cell_type": "markdown",
   "metadata": {},
   "source": [
    "## 역할 부여하기"
   ]
  },
  {
   "cell_type": "code",
   "execution_count": 19,
   "metadata": {},
   "outputs": [
    {
     "name": "stdout",
     "output_type": "stream",
     "text": [
      "The Los Angeles Dodgers won the 2020 World Series.\n"
     ]
    }
   ],
   "source": [
    "response = client.chat.completions.create(\n",
    " model=\"gpt-3.5-turbo\",\n",
    " messages=[\n",
    " {\"role\": \"system\", \"content\": \"You must only answer users' questions in English. This must be honored. You must only answer in English.\"},\n",
    " {\"role\": \"user\", \"content\": \"2020년 월드시리즈에서는 누가 우승했어?\"}\n",
    " ]\n",
    ")\n",
    "print(response.choices[0].message.content)"
   ]
  },
  {
   "cell_type": "code",
   "execution_count": 18,
   "metadata": {},
   "outputs": [
    {
     "name": "stdout",
     "output_type": "stream",
     "text": [
      "Who won the World Series in 2020?\n"
     ]
    }
   ],
   "source": [
    "response = client.chat.completions.create(\n",
    "model=\"gpt-3.5-turbo\",\n",
    "messages=[\n",
    "{\"role\": \"system\", \"content\": \"You are a translator that translates users' inputs. If the input is in Korean, it must be translated into English. This must be strictly adhered to.\"},\n",
    "{\"role\": \"user\", \"content\": \"2020년 월드시리즈에서는 누가 우승했어?\"}]\n",
    " )\n",
    "print(response.choices[0].message.content)\n"
   ]
  },
  {
   "cell_type": "markdown",
   "metadata": {},
   "source": [
    "## 이어서 질문하기"
   ]
  },
  {
   "cell_type": "code",
   "execution_count": 17,
   "metadata": {},
   "outputs": [
    {
     "name": "stdout",
     "output_type": "stream",
     "text": [
      "The 2020 World Series was played at Globe Life Field in Arlington, Texas.\n"
     ]
    }
   ],
   "source": [
    "response = client.chat.completions.create(\n",
    "  model=\"gpt-3.5-turbo\",\n",
    "  messages=[\n",
    "    {\"role\": \"system\", \"content\": \"You are a helpful assistant.\"},\n",
    "    {\"role\": \"user\", \"content\": \"Who won the world series in 2020?\"},\n",
    "    {\"role\": \"assistant\", \"content\": \"The Los Angeles Dodgers won the World Series in 2020.\"},\n",
    "    {\"role\": \"user\", \"content\": \"Where was it played?\"}\n",
    "  ]\n",
    ")\n",
    "print(response.choices[0].message.content)"
   ]
  }
 ],
 "metadata": {
  "kernelspec": {
   "display_name": "venv",
   "language": "python",
   "name": "python3"
  },
  "language_info": {
   "codemirror_mode": {
    "name": "ipython",
    "version": 3
   },
   "file_extension": ".py",
   "mimetype": "text/x-python",
   "name": "python",
   "nbconvert_exporter": "python",
   "pygments_lexer": "ipython3",
   "version": "3.12.6"
  }
 },
 "nbformat": 4,
 "nbformat_minor": 2
}
