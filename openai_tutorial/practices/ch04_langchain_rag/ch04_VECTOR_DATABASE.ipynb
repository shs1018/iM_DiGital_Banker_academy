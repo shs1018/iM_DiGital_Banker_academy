{
  "nbformat": 4,
  "nbformat_minor": 0,
  "metadata": {
    "colab": {
      "provenance": []
    },
    "kernelspec": {
      "name": "python3",
      "display_name": "Python 3"
    },
    "language_info": {
      "name": "python"
    }
  },
  "cells": [
    {
      "cell_type": "code",
      "source": [
        "pip install langchain chromadb faiss-cpu langchain-community pypdf openai tiktoken"
      ],
      "metadata": {
        "colab": {
          "base_uri": "https://localhost:8080/"
        },
        "id": "9v3zXnVbkbCT",
        "outputId": "ff244a5f-ad56-446d-fbbf-6e80f26bec74"
      },
      "execution_count": 33,
      "outputs": [
        {
          "output_type": "stream",
          "name": "stdout",
          "text": [
            "Requirement already satisfied: langchain in /usr/local/lib/python3.10/dist-packages (0.3.0)\n",
            "Requirement already satisfied: chromadb in /usr/local/lib/python3.10/dist-packages (0.5.5)\n",
            "Requirement already satisfied: faiss-cpu in /usr/local/lib/python3.10/dist-packages (1.8.0.post1)\n",
            "Requirement already satisfied: langchain-community in /usr/local/lib/python3.10/dist-packages (0.3.0)\n",
            "Requirement already satisfied: pypdf in /usr/local/lib/python3.10/dist-packages (4.3.1)\n",
            "Requirement already satisfied: openai in /usr/local/lib/python3.10/dist-packages (1.45.0)\n",
            "Collecting tiktoken\n",
            "  Downloading tiktoken-0.7.0-cp310-cp310-manylinux_2_17_x86_64.manylinux2014_x86_64.whl.metadata (6.6 kB)\n",
            "Requirement already satisfied: PyYAML>=5.3 in /usr/local/lib/python3.10/dist-packages (from langchain) (6.0.2)\n",
            "Requirement already satisfied: SQLAlchemy<3,>=1.4 in /usr/local/lib/python3.10/dist-packages (from langchain) (2.0.34)\n",
            "Requirement already satisfied: aiohttp<4.0.0,>=3.8.3 in /usr/local/lib/python3.10/dist-packages (from langchain) (3.10.5)\n",
            "Requirement already satisfied: async-timeout<5.0.0,>=4.0.0 in /usr/local/lib/python3.10/dist-packages (from langchain) (4.0.3)\n",
            "Requirement already satisfied: langchain-core<0.4.0,>=0.3.0 in /usr/local/lib/python3.10/dist-packages (from langchain) (0.3.0)\n",
            "Requirement already satisfied: langchain-text-splitters<0.4.0,>=0.3.0 in /usr/local/lib/python3.10/dist-packages (from langchain) (0.3.0)\n",
            "Requirement already satisfied: langsmith<0.2.0,>=0.1.17 in /usr/local/lib/python3.10/dist-packages (from langchain) (0.1.120)\n",
            "Requirement already satisfied: numpy<2,>=1 in /usr/local/lib/python3.10/dist-packages (from langchain) (1.26.4)\n",
            "Requirement already satisfied: pydantic<3.0.0,>=2.7.4 in /usr/local/lib/python3.10/dist-packages (from langchain) (2.9.1)\n",
            "Requirement already satisfied: requests<3,>=2 in /usr/local/lib/python3.10/dist-packages (from langchain) (2.32.3)\n",
            "Requirement already satisfied: tenacity!=8.4.0,<9.0.0,>=8.1.0 in /usr/local/lib/python3.10/dist-packages (from langchain) (8.5.0)\n",
            "Requirement already satisfied: build>=1.0.3 in /usr/local/lib/python3.10/dist-packages (from chromadb) (1.2.2)\n",
            "Requirement already satisfied: chroma-hnswlib==0.7.6 in /usr/local/lib/python3.10/dist-packages (from chromadb) (0.7.6)\n",
            "Requirement already satisfied: fastapi>=0.95.2 in /usr/local/lib/python3.10/dist-packages (from chromadb) (0.114.2)\n",
            "Requirement already satisfied: uvicorn>=0.18.3 in /usr/local/lib/python3.10/dist-packages (from uvicorn[standard]>=0.18.3->chromadb) (0.30.6)\n",
            "Requirement already satisfied: posthog>=2.4.0 in /usr/local/lib/python3.10/dist-packages (from chromadb) (3.6.5)\n",
            "Requirement already satisfied: typing-extensions>=4.5.0 in /usr/local/lib/python3.10/dist-packages (from chromadb) (4.12.2)\n",
            "Requirement already satisfied: onnxruntime>=1.14.1 in /usr/local/lib/python3.10/dist-packages (from chromadb) (1.19.2)\n",
            "Requirement already satisfied: opentelemetry-api>=1.2.0 in /usr/local/lib/python3.10/dist-packages (from chromadb) (1.27.0)\n",
            "Requirement already satisfied: opentelemetry-exporter-otlp-proto-grpc>=1.2.0 in /usr/local/lib/python3.10/dist-packages (from chromadb) (1.27.0)\n",
            "Requirement already satisfied: opentelemetry-instrumentation-fastapi>=0.41b0 in /usr/local/lib/python3.10/dist-packages (from chromadb) (0.48b0)\n",
            "Requirement already satisfied: opentelemetry-sdk>=1.2.0 in /usr/local/lib/python3.10/dist-packages (from chromadb) (1.27.0)\n",
            "Requirement already satisfied: tokenizers>=0.13.2 in /usr/local/lib/python3.10/dist-packages (from chromadb) (0.19.1)\n",
            "Requirement already satisfied: pypika>=0.48.9 in /usr/local/lib/python3.10/dist-packages (from chromadb) (0.48.9)\n",
            "Requirement already satisfied: tqdm>=4.65.0 in /usr/local/lib/python3.10/dist-packages (from chromadb) (4.66.5)\n",
            "Requirement already satisfied: overrides>=7.3.1 in /usr/local/lib/python3.10/dist-packages (from chromadb) (7.7.0)\n",
            "Requirement already satisfied: importlib-resources in /usr/local/lib/python3.10/dist-packages (from chromadb) (6.4.5)\n",
            "Requirement already satisfied: grpcio>=1.58.0 in /usr/local/lib/python3.10/dist-packages (from chromadb) (1.64.1)\n",
            "Requirement already satisfied: bcrypt>=4.0.1 in /usr/local/lib/python3.10/dist-packages (from chromadb) (4.2.0)\n",
            "Requirement already satisfied: typer>=0.9.0 in /usr/local/lib/python3.10/dist-packages (from chromadb) (0.12.5)\n",
            "Requirement already satisfied: kubernetes>=28.1.0 in /usr/local/lib/python3.10/dist-packages (from chromadb) (30.1.0)\n",
            "Requirement already satisfied: mmh3>=4.0.1 in /usr/local/lib/python3.10/dist-packages (from chromadb) (4.1.0)\n",
            "Requirement already satisfied: orjson>=3.9.12 in /usr/local/lib/python3.10/dist-packages (from chromadb) (3.10.7)\n",
            "Requirement already satisfied: httpx>=0.27.0 in /usr/local/lib/python3.10/dist-packages (from chromadb) (0.27.2)\n",
            "Requirement already satisfied: packaging in /usr/local/lib/python3.10/dist-packages (from faiss-cpu) (24.1)\n",
            "Requirement already satisfied: dataclasses-json<0.7,>=0.5.7 in /usr/local/lib/python3.10/dist-packages (from langchain-community) (0.6.7)\n",
            "Requirement already satisfied: pydantic-settings<3.0.0,>=2.4.0 in /usr/local/lib/python3.10/dist-packages (from langchain-community) (2.5.2)\n",
            "Requirement already satisfied: anyio<5,>=3.5.0 in /usr/local/lib/python3.10/dist-packages (from openai) (3.7.1)\n",
            "Requirement already satisfied: distro<2,>=1.7.0 in /usr/lib/python3/dist-packages (from openai) (1.7.0)\n",
            "Requirement already satisfied: jiter<1,>=0.4.0 in /usr/local/lib/python3.10/dist-packages (from openai) (0.5.0)\n",
            "Requirement already satisfied: sniffio in /usr/local/lib/python3.10/dist-packages (from openai) (1.3.1)\n",
            "Requirement already satisfied: regex>=2022.1.18 in /usr/local/lib/python3.10/dist-packages (from tiktoken) (2024.5.15)\n",
            "Requirement already satisfied: aiohappyeyeballs>=2.3.0 in /usr/local/lib/python3.10/dist-packages (from aiohttp<4.0.0,>=3.8.3->langchain) (2.4.0)\n",
            "Requirement already satisfied: aiosignal>=1.1.2 in /usr/local/lib/python3.10/dist-packages (from aiohttp<4.0.0,>=3.8.3->langchain) (1.3.1)\n",
            "Requirement already satisfied: attrs>=17.3.0 in /usr/local/lib/python3.10/dist-packages (from aiohttp<4.0.0,>=3.8.3->langchain) (24.2.0)\n",
            "Requirement already satisfied: frozenlist>=1.1.1 in /usr/local/lib/python3.10/dist-packages (from aiohttp<4.0.0,>=3.8.3->langchain) (1.4.1)\n",
            "Requirement already satisfied: multidict<7.0,>=4.5 in /usr/local/lib/python3.10/dist-packages (from aiohttp<4.0.0,>=3.8.3->langchain) (6.1.0)\n",
            "Requirement already satisfied: yarl<2.0,>=1.0 in /usr/local/lib/python3.10/dist-packages (from aiohttp<4.0.0,>=3.8.3->langchain) (1.11.1)\n",
            "Requirement already satisfied: idna>=2.8 in /usr/local/lib/python3.10/dist-packages (from anyio<5,>=3.5.0->openai) (3.8)\n",
            "Requirement already satisfied: exceptiongroup in /usr/local/lib/python3.10/dist-packages (from anyio<5,>=3.5.0->openai) (1.2.2)\n",
            "Requirement already satisfied: pyproject_hooks in /usr/local/lib/python3.10/dist-packages (from build>=1.0.3->chromadb) (1.1.0)\n",
            "Requirement already satisfied: tomli>=1.1.0 in /usr/local/lib/python3.10/dist-packages (from build>=1.0.3->chromadb) (2.0.1)\n",
            "Requirement already satisfied: marshmallow<4.0.0,>=3.18.0 in /usr/local/lib/python3.10/dist-packages (from dataclasses-json<0.7,>=0.5.7->langchain-community) (3.22.0)\n",
            "Requirement already satisfied: typing-inspect<1,>=0.4.0 in /usr/local/lib/python3.10/dist-packages (from dataclasses-json<0.7,>=0.5.7->langchain-community) (0.9.0)\n",
            "Requirement already satisfied: starlette<0.39.0,>=0.37.2 in /usr/local/lib/python3.10/dist-packages (from fastapi>=0.95.2->chromadb) (0.38.5)\n",
            "Requirement already satisfied: certifi in /usr/local/lib/python3.10/dist-packages (from httpx>=0.27.0->chromadb) (2024.8.30)\n",
            "Requirement already satisfied: httpcore==1.* in /usr/local/lib/python3.10/dist-packages (from httpx>=0.27.0->chromadb) (1.0.5)\n",
            "Requirement already satisfied: h11<0.15,>=0.13 in /usr/local/lib/python3.10/dist-packages (from httpcore==1.*->httpx>=0.27.0->chromadb) (0.14.0)\n",
            "Requirement already satisfied: six>=1.9.0 in /usr/local/lib/python3.10/dist-packages (from kubernetes>=28.1.0->chromadb) (1.16.0)\n",
            "Requirement already satisfied: python-dateutil>=2.5.3 in /usr/local/lib/python3.10/dist-packages (from kubernetes>=28.1.0->chromadb) (2.8.2)\n",
            "Requirement already satisfied: google-auth>=1.0.1 in /usr/local/lib/python3.10/dist-packages (from kubernetes>=28.1.0->chromadb) (2.27.0)\n",
            "Requirement already satisfied: websocket-client!=0.40.0,!=0.41.*,!=0.42.*,>=0.32.0 in /usr/local/lib/python3.10/dist-packages (from kubernetes>=28.1.0->chromadb) (1.8.0)\n",
            "Requirement already satisfied: requests-oauthlib in /usr/local/lib/python3.10/dist-packages (from kubernetes>=28.1.0->chromadb) (1.3.1)\n",
            "Requirement already satisfied: oauthlib>=3.2.2 in /usr/local/lib/python3.10/dist-packages (from kubernetes>=28.1.0->chromadb) (3.2.2)\n",
            "Requirement already satisfied: urllib3>=1.24.2 in /usr/local/lib/python3.10/dist-packages (from kubernetes>=28.1.0->chromadb) (2.0.7)\n",
            "Requirement already satisfied: jsonpatch<2.0,>=1.33 in /usr/local/lib/python3.10/dist-packages (from langchain-core<0.4.0,>=0.3.0->langchain) (1.33)\n",
            "Requirement already satisfied: coloredlogs in /usr/local/lib/python3.10/dist-packages (from onnxruntime>=1.14.1->chromadb) (15.0.1)\n",
            "Requirement already satisfied: flatbuffers in /usr/local/lib/python3.10/dist-packages (from onnxruntime>=1.14.1->chromadb) (24.3.25)\n",
            "Requirement already satisfied: protobuf in /usr/local/lib/python3.10/dist-packages (from onnxruntime>=1.14.1->chromadb) (3.20.3)\n",
            "Requirement already satisfied: sympy in /usr/local/lib/python3.10/dist-packages (from onnxruntime>=1.14.1->chromadb) (1.13.2)\n",
            "Requirement already satisfied: deprecated>=1.2.6 in /usr/local/lib/python3.10/dist-packages (from opentelemetry-api>=1.2.0->chromadb) (1.2.14)\n",
            "Requirement already satisfied: importlib-metadata<=8.4.0,>=6.0 in /usr/local/lib/python3.10/dist-packages (from opentelemetry-api>=1.2.0->chromadb) (8.4.0)\n",
            "Requirement already satisfied: googleapis-common-protos~=1.52 in /usr/local/lib/python3.10/dist-packages (from opentelemetry-exporter-otlp-proto-grpc>=1.2.0->chromadb) (1.65.0)\n",
            "Requirement already satisfied: opentelemetry-exporter-otlp-proto-common==1.27.0 in /usr/local/lib/python3.10/dist-packages (from opentelemetry-exporter-otlp-proto-grpc>=1.2.0->chromadb) (1.27.0)\n",
            "Requirement already satisfied: opentelemetry-proto==1.27.0 in /usr/local/lib/python3.10/dist-packages (from opentelemetry-exporter-otlp-proto-grpc>=1.2.0->chromadb) (1.27.0)\n",
            "Requirement already satisfied: opentelemetry-instrumentation-asgi==0.48b0 in /usr/local/lib/python3.10/dist-packages (from opentelemetry-instrumentation-fastapi>=0.41b0->chromadb) (0.48b0)\n",
            "Requirement already satisfied: opentelemetry-instrumentation==0.48b0 in /usr/local/lib/python3.10/dist-packages (from opentelemetry-instrumentation-fastapi>=0.41b0->chromadb) (0.48b0)\n",
            "Requirement already satisfied: opentelemetry-semantic-conventions==0.48b0 in /usr/local/lib/python3.10/dist-packages (from opentelemetry-instrumentation-fastapi>=0.41b0->chromadb) (0.48b0)\n",
            "Requirement already satisfied: opentelemetry-util-http==0.48b0 in /usr/local/lib/python3.10/dist-packages (from opentelemetry-instrumentation-fastapi>=0.41b0->chromadb) (0.48b0)\n",
            "Requirement already satisfied: setuptools>=16.0 in /usr/local/lib/python3.10/dist-packages (from opentelemetry-instrumentation==0.48b0->opentelemetry-instrumentation-fastapi>=0.41b0->chromadb) (71.0.4)\n",
            "Requirement already satisfied: wrapt<2.0.0,>=1.0.0 in /usr/local/lib/python3.10/dist-packages (from opentelemetry-instrumentation==0.48b0->opentelemetry-instrumentation-fastapi>=0.41b0->chromadb) (1.16.0)\n",
            "Requirement already satisfied: asgiref~=3.0 in /usr/local/lib/python3.10/dist-packages (from opentelemetry-instrumentation-asgi==0.48b0->opentelemetry-instrumentation-fastapi>=0.41b0->chromadb) (3.8.1)\n",
            "Requirement already satisfied: monotonic>=1.5 in /usr/local/lib/python3.10/dist-packages (from posthog>=2.4.0->chromadb) (1.6)\n",
            "Requirement already satisfied: backoff>=1.10.0 in /usr/local/lib/python3.10/dist-packages (from posthog>=2.4.0->chromadb) (2.2.1)\n",
            "Requirement already satisfied: annotated-types>=0.6.0 in /usr/local/lib/python3.10/dist-packages (from pydantic<3.0.0,>=2.7.4->langchain) (0.7.0)\n",
            "Requirement already satisfied: pydantic-core==2.23.3 in /usr/local/lib/python3.10/dist-packages (from pydantic<3.0.0,>=2.7.4->langchain) (2.23.3)\n",
            "Requirement already satisfied: python-dotenv>=0.21.0 in /usr/local/lib/python3.10/dist-packages (from pydantic-settings<3.0.0,>=2.4.0->langchain-community) (1.0.1)\n",
            "Requirement already satisfied: charset-normalizer<4,>=2 in /usr/local/lib/python3.10/dist-packages (from requests<3,>=2->langchain) (3.3.2)\n",
            "Requirement already satisfied: greenlet!=0.4.17 in /usr/local/lib/python3.10/dist-packages (from SQLAlchemy<3,>=1.4->langchain) (3.1.0)\n",
            "Requirement already satisfied: huggingface-hub<1.0,>=0.16.4 in /usr/local/lib/python3.10/dist-packages (from tokenizers>=0.13.2->chromadb) (0.24.6)\n",
            "Requirement already satisfied: click>=8.0.0 in /usr/local/lib/python3.10/dist-packages (from typer>=0.9.0->chromadb) (8.1.7)\n",
            "Requirement already satisfied: shellingham>=1.3.0 in /usr/local/lib/python3.10/dist-packages (from typer>=0.9.0->chromadb) (1.5.4)\n",
            "Requirement already satisfied: rich>=10.11.0 in /usr/local/lib/python3.10/dist-packages (from typer>=0.9.0->chromadb) (13.8.1)\n",
            "Requirement already satisfied: httptools>=0.5.0 in /usr/local/lib/python3.10/dist-packages (from uvicorn[standard]>=0.18.3->chromadb) (0.6.1)\n",
            "Requirement already satisfied: uvloop!=0.15.0,!=0.15.1,>=0.14.0 in /usr/local/lib/python3.10/dist-packages (from uvicorn[standard]>=0.18.3->chromadb) (0.20.0)\n",
            "Requirement already satisfied: watchfiles>=0.13 in /usr/local/lib/python3.10/dist-packages (from uvicorn[standard]>=0.18.3->chromadb) (0.24.0)\n",
            "Requirement already satisfied: websockets>=10.4 in /usr/local/lib/python3.10/dist-packages (from uvicorn[standard]>=0.18.3->chromadb) (13.0.1)\n",
            "Requirement already satisfied: cachetools<6.0,>=2.0.0 in /usr/local/lib/python3.10/dist-packages (from google-auth>=1.0.1->kubernetes>=28.1.0->chromadb) (5.5.0)\n",
            "Requirement already satisfied: pyasn1-modules>=0.2.1 in /usr/local/lib/python3.10/dist-packages (from google-auth>=1.0.1->kubernetes>=28.1.0->chromadb) (0.4.1)\n",
            "Requirement already satisfied: rsa<5,>=3.1.4 in /usr/local/lib/python3.10/dist-packages (from google-auth>=1.0.1->kubernetes>=28.1.0->chromadb) (4.9)\n",
            "Requirement already satisfied: filelock in /usr/local/lib/python3.10/dist-packages (from huggingface-hub<1.0,>=0.16.4->tokenizers>=0.13.2->chromadb) (3.16.0)\n",
            "Requirement already satisfied: fsspec>=2023.5.0 in /usr/local/lib/python3.10/dist-packages (from huggingface-hub<1.0,>=0.16.4->tokenizers>=0.13.2->chromadb) (2024.6.1)\n",
            "Requirement already satisfied: zipp>=0.5 in /usr/local/lib/python3.10/dist-packages (from importlib-metadata<=8.4.0,>=6.0->opentelemetry-api>=1.2.0->chromadb) (3.20.1)\n",
            "Requirement already satisfied: jsonpointer>=1.9 in /usr/local/lib/python3.10/dist-packages (from jsonpatch<2.0,>=1.33->langchain-core<0.4.0,>=0.3.0->langchain) (3.0.0)\n",
            "Requirement already satisfied: markdown-it-py>=2.2.0 in /usr/local/lib/python3.10/dist-packages (from rich>=10.11.0->typer>=0.9.0->chromadb) (3.0.0)\n",
            "Requirement already satisfied: pygments<3.0.0,>=2.13.0 in /usr/local/lib/python3.10/dist-packages (from rich>=10.11.0->typer>=0.9.0->chromadb) (2.16.1)\n",
            "Requirement already satisfied: mypy-extensions>=0.3.0 in /usr/local/lib/python3.10/dist-packages (from typing-inspect<1,>=0.4.0->dataclasses-json<0.7,>=0.5.7->langchain-community) (1.0.0)\n",
            "Requirement already satisfied: humanfriendly>=9.1 in /usr/local/lib/python3.10/dist-packages (from coloredlogs->onnxruntime>=1.14.1->chromadb) (10.0)\n",
            "Requirement already satisfied: mpmath<1.4,>=1.1.0 in /usr/local/lib/python3.10/dist-packages (from sympy->onnxruntime>=1.14.1->chromadb) (1.3.0)\n",
            "Requirement already satisfied: mdurl~=0.1 in /usr/local/lib/python3.10/dist-packages (from markdown-it-py>=2.2.0->rich>=10.11.0->typer>=0.9.0->chromadb) (0.1.2)\n",
            "Requirement already satisfied: pyasn1<0.7.0,>=0.4.6 in /usr/local/lib/python3.10/dist-packages (from pyasn1-modules>=0.2.1->google-auth>=1.0.1->kubernetes>=28.1.0->chromadb) (0.6.1)\n",
            "Downloading tiktoken-0.7.0-cp310-cp310-manylinux_2_17_x86_64.manylinux2014_x86_64.whl (1.1 MB)\n",
            "\u001b[2K   \u001b[90m━━━━━━━━━━━━━━━━━━━━━━━━━━━━━━━━━━━━━━━━\u001b[0m \u001b[32m1.1/1.1 MB\u001b[0m \u001b[31m15.9 MB/s\u001b[0m eta \u001b[36m0:00:00\u001b[0m\n",
            "\u001b[?25hInstalling collected packages: tiktoken\n",
            "Successfully installed tiktoken-0.7.0\n"
          ]
        }
      ]
    },
    {
      "cell_type": "code",
      "source": [
        "import os\n",
        "import urllib.request\n",
        "from langchain.document_loaders import PyPDFLoader\n",
        "from langchain.text_splitter import RecursiveCharacterTextSplitter\n",
        "from langchain.embeddings import OpenAIEmbeddings\n",
        "from langchain.vectorstores import Chroma\n",
        "from langchain.vectorstores import FAISS\n",
        "\n",
        "os.environ['OPENAI_API_KEY'] = \"여러분들의 Key 값\""
      ],
      "metadata": {
        "id": "Uyz_djYXkdq0"
      },
      "execution_count": 12,
      "outputs": []
    },
    {
      "cell_type": "code",
      "source": [
        "urllib.request.urlretrieve(\"https://github.com/chatgpt-kr/openai-api-tutorial/raw/main/ch06/2023_%EB%B6%81%ED%95%9C%EC%9D%B8%EA%B6%8C%EB%B3%B4%EA%B3%A0%EC%84%9C.pdf\", filename=\"2023_북한인권보고서.pdf\")"
      ],
      "metadata": {
        "colab": {
          "base_uri": "https://localhost:8080/"
        },
        "id": "YEjVPwLzkxcl",
        "outputId": "db78a494-0d2f-417b-82dd-fd19e9d0121b"
      },
      "execution_count": 25,
      "outputs": [
        {
          "output_type": "execute_result",
          "data": {
            "text/plain": [
              "('2023_북한인권보고서.pdf', <http.client.HTTPMessage at 0x7b4be594ab60>)"
            ]
          },
          "metadata": {},
          "execution_count": 25
        }
      ]
    },
    {
      "cell_type": "code",
      "source": [
        "loader = PyPDFLoader('2023_북한인권보고서.pdf')\n",
        "pages = loader.load_and_split()\n",
        "print('청크의 수:', len(pages))"
      ],
      "metadata": {
        "colab": {
          "base_uri": "https://localhost:8080/"
        },
        "id": "Qj1Q8h9TlNhb",
        "outputId": "2da2b25b-d2e3-4ad6-ad29-38c7ffe57ba9"
      },
      "execution_count": 26,
      "outputs": [
        {
          "output_type": "stream",
          "name": "stdout",
          "text": [
            "청크의 수: 445\n"
          ]
        }
      ]
    },
    {
      "cell_type": "code",
      "source": [
        "text_splitter = RecursiveCharacterTextSplitter(chunk_size=1000, chunk_overlap=0)"
      ],
      "metadata": {
        "id": "SSFa2tpnk1fM"
      },
      "execution_count": 27,
      "outputs": []
    },
    {
      "cell_type": "code",
      "source": [
        "splited_docs = text_splitter.split_documents(pages)\n",
        "print('분할된 청크의 수:', len(splited_docs))"
      ],
      "metadata": {
        "colab": {
          "base_uri": "https://localhost:8080/"
        },
        "id": "YNOM5oEMlGcM",
        "outputId": "9ed7cf49-998c-4f8d-bfc1-f6637d8762c7"
      },
      "execution_count": 28,
      "outputs": [
        {
          "output_type": "stream",
          "name": "stdout",
          "text": [
            "분할된 청크의 수: 502\n"
          ]
        }
      ]
    },
    {
      "cell_type": "code",
      "source": [
        "chunks = [splited_doc.page_content for splited_doc in splited_docs]\n",
        "print('청크의 최대 길이 :',max(len(chunk) for chunk in chunks))"
      ],
      "metadata": {
        "colab": {
          "base_uri": "https://localhost:8080/"
        },
        "id": "XOI5jEnRlIl8",
        "outputId": "30584ef8-f361-4db5-b721-122071820779"
      },
      "execution_count": 29,
      "outputs": [
        {
          "output_type": "stream",
          "name": "stdout",
          "text": [
            "청크의 최대 길이 : 1000\n"
          ]
        }
      ]
    },
    {
      "cell_type": "code",
      "source": [
        "db = Chroma.from_documents(splited_docs, OpenAIEmbeddings())\n",
        "print('문서의 수:', db._collection.count())"
      ],
      "metadata": {
        "colab": {
          "base_uri": "https://localhost:8080/"
        },
        "id": "dkI3iAYxlQml",
        "outputId": "9e57e738-1911-451f-d28e-14f3af69e28f"
      },
      "execution_count": 34,
      "outputs": [
        {
          "output_type": "stream",
          "name": "stdout",
          "text": [
            "문서의 수: 502\n"
          ]
        }
      ]
    },
    {
      "cell_type": "code",
      "source": [
        "question = '북한의 교육과정'\n",
        "docs = db.similarity_search(question)\n",
        "print('문서의 수:', len(docs))"
      ],
      "metadata": {
        "colab": {
          "base_uri": "https://localhost:8080/"
        },
        "id": "OjMqKxjZlUle",
        "outputId": "8ef35168-3f61-472b-b9df-bcd894b4c77c"
      },
      "execution_count": 35,
      "outputs": [
        {
          "output_type": "stream",
          "name": "stdout",
          "text": [
            "문서의 수: 4\n"
          ]
        }
      ]
    },
    {
      "cell_type": "code",
      "source": [
        "for doc in docs:\n",
        "  print(doc)\n",
        "  print('--' * 10)"
      ],
      "metadata": {
        "colab": {
          "base_uri": "https://localhost:8080/"
        },
        "id": "61tPEEM1lUxM",
        "outputId": "b18b3438-002e-453c-9a78-6ed97a66b45c"
      },
      "execution_count": 36,
      "outputs": [
        {
          "output_type": "stream",
          "name": "stdout",
          "text": [
            "page_content='를\t받아\t들이는\t것으로\t보인다. \t\n",
            "309\t\t북한의\t학제는\t2012년\t전반적\t의무교육(유치원 \t1년,\t소학교\t5년,\t초급중학교 \t3년,\t고급중학교 \t3년)으로 \t\n",
            "개편되었는데,\t 학제개편 \t이전에는 \t초급중학교와 \t고급중학교를 \t통합하여 \t중학교\t6년\t과정(1972년~2011\n",
            "년)으로\t운영하였고,\t 중학교\t또는\t고등중학교라고 \t칭하였다.(통일부 \t국립통일교육원,\t 『북한의\t이해』,\t\n",
            "2022)' metadata={'page': 283, 'source': '2023_북한인권보고서.pdf'}\n",
            "--------------------\n",
            "page_content='2023 북한인권보고서40명목의 교육비용이 전가되고 있는 것으로 나타났다. 교과서는 ‘교과\n",
            "서 요금’이라는 명목으로 일정 금액을 내야하는 경우가 많으며, 교\n",
            "과서가 모든 학생에게 충분히 제공되지 않고 학년을 마치면 다음 학\n",
            "년에 교과서를 물려주어야 했다는 사례가 다수 수집되었다. 소학교\n",
            "부터 학교운영비, 꼬마계획 등의 비용을 내야했다는 진술이 꾸준히 \n",
            "수집되고 있는데, 학교시설 현대화 작업이 진행되면서 학교꾸리기 \n",
            "비용이 증가했다고 한다. 학교에서 요구하는 돈이나 물품은 교원에 \n",
            "의해 사실상 강제되고 있었는데, 비용을 내지 못하는 경우 동급생들 \n",
            "앞에서 망신을 주거나 비판하여 형편이 어려운 학생들은 학교를 그\n",
            "만두는 선택을 하는 경우가 많다고 한다. 또한 도시와 농촌 간 교육\n",
            "환경의 차이가 크며 대학입학에서 출신성분에 의한 차별이 있고, 교\n",
            "육기회의 제공에도 경제력이 영향을 미치고 있어 성분·지역·경제\n",
            "력에 따른 차별이 존재하는 것으로 나타났다. 교육환경도 열악한데, \n",
            "학교시설의 현대화 작업에도 불구하고 양호실, 도서관, 위생시설이 \n",
            "없는 학교도 많은 것으로 보인다. 교원에 대한 경제적 보상도 적절\n",
            "히 이루어지지 않아, 교원들은 생계를 유지하기 위해 잘사는 학부모\n",
            "의 원조를 받거나 자신의 텃밭에 학생을 동원시키고 있어 학생들은 \n",
            "제대로 된 교육여건을 보장받지 못하고 있는 것으로 나타났다. 또\n",
            "한, 일반교육보다 정치사상교육을 앞세우고 있으며 교과과정에 실\n",
            "탄사격을 하는 군사훈련을 편성하여 학생들을 의무적으로 참석하게 \n",
            "하고 있다.\n",
            "북한의 사회보장 제도로는 연로연금, 노동능력상실 연금, 유가족 \n",
            "연금 등 생계가 결핍된 경우 기초적인 생계를 보장하기 위한 연금제\n",
            "도가 있으며, 사회보험금의 성격을 지닌 보조금 제도가 있다. 연로' metadata={'page': 41, 'source': '2023_북한인권보고서.pdf'}\n",
            "--------------------\n",
            "page_content='2023 북한인권보고서344이 되려면 별도로 돈을 더 내야 합니다. 그 돈을 받아 교사들이 생\n",
            "활하기 때문에 학교생활 자체가 그 아이들을 중심으로 돌아갑니다. \n",
            "공부도 열성자들만 대상으로 특별과외 등 형식으로 추가로 더 가르\n",
            "쳐 주기 때문에 학습진도가 일반 학생들 보다 빠릅니다. 수업도 이\n",
            "들을 중심으로 하다 보니 일반 학생들은 진도를 따라가지 못하고 \n",
            "그저 자리만 채울 뿐입니다. 그리고 담임이 툭하면 ‘못사는 것들은 \n",
            "배울 필요도 없다고 하면서 개가 되어 똥이나 치우고 살아라’는 식\n",
            "으로 말했습니다. 저희 담임뿐만 아니라 학교 자체에서 그런 식의 \n",
            "차별을 당연시 했습니다.”\n",
            "(3) 지역 간 교육 불평등 \n",
            "북한은 2019년에 제출한 제3차 UPR 보고서에서 중등교육에 있\n",
            "어 도시와 시골 지역의 구분을 없애기 위해 특별한 주의를 기울이고 \n",
            "있다고 언급하며, 훌륭한 교육 여건과 환경을 갖춘 시범학교로 변모\n",
            "한 사례를 다른 시골 학교에 일반화하고자 노력하고 있다고 보고하\n",
            "였다.343 동보고서에서 북한은 유능한 교사와 교원연구원 강사들이 \n",
            "시골 학교 교사의 교수 능력을 향상시키는 임무도 담당하고 있다고 \n",
            "하였다.344 \n",
            "북한에서는 시내 지역과 시골 지역 간에 교육 불평등이 존재하는 \n",
            "것으로 나타났다. 시내에 있는 학교에서 시골에 있는 학교로 전학을 \n",
            "간 적이 있다는 증언자의 진술에 따르면 교육시설이나 교원의 수준\n",
            "에서 차이가 컸다고 한다. 시내 학교에 비해 시골학교는 규모도 작\n",
            "고 현대화 작업이 되어 있지 않아 낙후되어 있었으며, 교원들도 정\n",
            "343\t\tUN\tDoc.\tA/HRC/WG.6/33/PRK/1 \t(2019),\tpara.\t46.\t\n",
            "344\t Ibid.,\tpara.\t46.' metadata={'page': 345, 'source': '2023_북한인권보고서.pdf'}\n",
            "--------------------\n",
            "page_content='2023 북한인권보고서3422018년에 학교에서 추천하여 소년궁전 스키부에 선발되었으나, 체\n",
            "육종합지도원이 자신의 출신성분이 좋지 않다는 이유로 선발명단에\n",
            "서 자신을 제외했다고 진술하였다. 정치범수용소에서는 이주민 자\n",
            "녀의 경우 정규교육과정을 받지 못한다는 증언도 있었다. 정치범수\n",
            "용소에도 소학교와 중학교가 있지만 일반 학교와는 달리 학생들이 \n",
            "책가방 대신 지게를 지고 출석하고 학교에서 농사짓는 법에 대해 배\n",
            "운다고 한다. \n",
            "북한에서는 대학 진학 시에도 출신성분에 따른 차별이 존재하는 \n",
            "것으로 나타났다. 한 증언자는 2019년에 고급중학교를 졸업하고 대\n",
            "학에 진학하려고 했는데, 본인 문건에 어머니가 행방불명으로 되어 \n",
            "있어 출신성분이 나쁘다는 이유로 대학에 진학할 수 없었다고 한다. \n",
            "이러한 차별행위는 교육부의 정책에 따른 것이라고 한다. 다른 증\n",
            "언자는 2018년에 의학대학에 진학하고 싶었는데, 교육과장과 면담\n",
            "하는 과정에서 ‘어머니가 행방불명이라 너 같은 아이는 대학에 가기 \n",
            "어렵다.’는 이야기를 듣고 대학 진학을 포기했다고 한다. 중학교 졸\n",
            "업 후 농민의 자식이라는 이유로 일반 대학뿐만 아니라 공업전문학\n",
            "교도 진학할 수 없었다는 증언도 있었다. \n",
            " \n",
            "(2) 경제력에 따른 차별 \n",
            "북한에서는 교육기회에 있어 경제력에 따른 차별이 존재하는 것\n",
            "으로 보인다. 수집된 증언에 따르면 무상교육제가 유명무실해진 상\n",
            "황에서 교육비 부담으로 경제적 취약계층의 아동들이 장기간 결석하\n",
            "거나 중도에 학교를 그만두는 것으로 나타났다. 한 증언자는 2018년\n",
            "에 아들이 소학교 학생이었는데, 당시 학급 정원의 25% 정도가 경제' metadata={'page': 343, 'source': '2023_북한인권보고서.pdf'}\n",
            "--------------------\n"
          ]
        }
      ]
    },
    {
      "cell_type": "code",
      "source": [
        "db_to_file = Chroma.from_documents(splited_docs, OpenAIEmbeddings(), persist_directory = './chroma_test.db')\n",
        "print('문서의 수:', db_to_file._collection.count())"
      ],
      "metadata": {
        "colab": {
          "base_uri": "https://localhost:8080/"
        },
        "id": "48W_R1RQlV8U",
        "outputId": "a6a0f2e6-3b9d-4559-8181-a1b88f2adf8b"
      },
      "execution_count": 37,
      "outputs": [
        {
          "output_type": "stream",
          "name": "stdout",
          "text": [
            "문서의 수: 502\n"
          ]
        }
      ]
    },
    {
      "cell_type": "code",
      "source": [
        "db_from_file = Chroma(persist_directory='./chroma_test.db',\n",
        "\t\t      embedding_function=OpenAIEmbeddings())"
      ],
      "metadata": {
        "colab": {
          "base_uri": "https://localhost:8080/"
        },
        "id": "QaYpDdn2lXeM",
        "outputId": "63c8dffa-c882-48d9-fbd8-371bd7725210"
      },
      "execution_count": 38,
      "outputs": [
        {
          "output_type": "stream",
          "name": "stderr",
          "text": [
            "<ipython-input-38-6812bed11d3a>:1: LangChainDeprecationWarning: The class `Chroma` was deprecated in LangChain 0.2.9 and will be removed in 1.0. An updated version of the class exists in the langchain-chroma package and should be used instead. To use it run `pip install -U langchain-chroma` and import as `from langchain_chroma import Chroma`.\n",
            "  db_from_file = Chroma(persist_directory='./chroma_test.db',\n"
          ]
        }
      ]
    },
    {
      "cell_type": "code",
      "source": [
        "print('문서의 수:', db_from_file._collection.count())"
      ],
      "metadata": {
        "colab": {
          "base_uri": "https://localhost:8080/"
        },
        "id": "kFo1aLiUlYuT",
        "outputId": "4ea13b9c-2e50-4474-f714-6676d24b5985"
      },
      "execution_count": 39,
      "outputs": [
        {
          "output_type": "stream",
          "name": "stdout",
          "text": [
            "문서의 수: 502\n"
          ]
        }
      ]
    },
    {
      "cell_type": "code",
      "source": [
        "faiss_db = FAISS.from_documents(splited_docs, OpenAIEmbeddings())\n",
        "print('문서의 수:', faiss_db.index.ntotal)"
      ],
      "metadata": {
        "colab": {
          "base_uri": "https://localhost:8080/"
        },
        "id": "l7-MKqpJlZ9c",
        "outputId": "12072d57-8669-4a70-b6e9-baae83fc8c21"
      },
      "execution_count": 41,
      "outputs": [
        {
          "output_type": "stream",
          "name": "stdout",
          "text": [
            "문서의 수: 502\n"
          ]
        }
      ]
    },
    {
      "cell_type": "code",
      "source": [
        "faiss_db.save_local('faiss_index')\n",
        "\n",
        "new_db_faiss = FAISS.load_local('faiss_index',\n",
        "\t\t\t\tOpenAIEmbeddings(),\n",
        "\t\t\t\tallow_dangerous_deserialization=True)"
      ],
      "metadata": {
        "id": "sqaSKMiEmEAJ"
      },
      "execution_count": 42,
      "outputs": []
    },
    {
      "cell_type": "code",
      "source": [
        "question = '북한의 교육 과정'\n",
        "docs = new_db_faiss.similarity_search(question)\n",
        "\n",
        "for doc in docs:\n",
        "  print(doc)\n",
        "  print('--' * 10)"
      ],
      "metadata": {
        "colab": {
          "base_uri": "https://localhost:8080/"
        },
        "id": "i6WZjLY7mVc0",
        "outputId": "b6569d3e-1ea3-4591-a2a6-ba302334b41e"
      },
      "execution_count": 43,
      "outputs": [
        {
          "output_type": "stream",
          "name": "stdout",
          "text": [
            "page_content='를\t받아\t들이는\t것으로\t보인다. \t\n",
            "309\t\t북한의\t학제는\t2012년\t전반적\t의무교육(유치원 \t1년,\t소학교\t5년,\t초급중학교 \t3년,\t고급중학교 \t3년)으로 \t\n",
            "개편되었는데,\t 학제개편 \t이전에는 \t초급중학교와 \t고급중학교를 \t통합하여 \t중학교\t6년\t과정(1972년~2011\n",
            "년)으로\t운영하였고,\t 중학교\t또는\t고등중학교라고 \t칭하였다.(통일부 \t국립통일교육원,\t 『북한의\t이해』,\t\n",
            "2022)' metadata={'source': '2023_북한인권보고서.pdf', 'page': 283}\n",
            "--------------------\n",
            "page_content='2023 북한인권보고서40명목의 교육비용이 전가되고 있는 것으로 나타났다. 교과서는 ‘교과\n",
            "서 요금’이라는 명목으로 일정 금액을 내야하는 경우가 많으며, 교\n",
            "과서가 모든 학생에게 충분히 제공되지 않고 학년을 마치면 다음 학\n",
            "년에 교과서를 물려주어야 했다는 사례가 다수 수집되었다. 소학교\n",
            "부터 학교운영비, 꼬마계획 등의 비용을 내야했다는 진술이 꾸준히 \n",
            "수집되고 있는데, 학교시설 현대화 작업이 진행되면서 학교꾸리기 \n",
            "비용이 증가했다고 한다. 학교에서 요구하는 돈이나 물품은 교원에 \n",
            "의해 사실상 강제되고 있었는데, 비용을 내지 못하는 경우 동급생들 \n",
            "앞에서 망신을 주거나 비판하여 형편이 어려운 학생들은 학교를 그\n",
            "만두는 선택을 하는 경우가 많다고 한다. 또한 도시와 농촌 간 교육\n",
            "환경의 차이가 크며 대학입학에서 출신성분에 의한 차별이 있고, 교\n",
            "육기회의 제공에도 경제력이 영향을 미치고 있어 성분·지역·경제\n",
            "력에 따른 차별이 존재하는 것으로 나타났다. 교육환경도 열악한데, \n",
            "학교시설의 현대화 작업에도 불구하고 양호실, 도서관, 위생시설이 \n",
            "없는 학교도 많은 것으로 보인다. 교원에 대한 경제적 보상도 적절\n",
            "히 이루어지지 않아, 교원들은 생계를 유지하기 위해 잘사는 학부모\n",
            "의 원조를 받거나 자신의 텃밭에 학생을 동원시키고 있어 학생들은 \n",
            "제대로 된 교육여건을 보장받지 못하고 있는 것으로 나타났다. 또\n",
            "한, 일반교육보다 정치사상교육을 앞세우고 있으며 교과과정에 실\n",
            "탄사격을 하는 군사훈련을 편성하여 학생들을 의무적으로 참석하게 \n",
            "하고 있다.\n",
            "북한의 사회보장 제도로는 연로연금, 노동능력상실 연금, 유가족 \n",
            "연금 등 생계가 결핍된 경우 기초적인 생계를 보장하기 위한 연금제\n",
            "도가 있으며, 사회보험금의 성격을 지닌 보조금 제도가 있다. 연로' metadata={'source': '2023_북한인권보고서.pdf', 'page': 41}\n",
            "--------------------\n",
            "page_content='2023 북한인권보고서344이 되려면 별도로 돈을 더 내야 합니다. 그 돈을 받아 교사들이 생\n",
            "활하기 때문에 학교생활 자체가 그 아이들을 중심으로 돌아갑니다. \n",
            "공부도 열성자들만 대상으로 특별과외 등 형식으로 추가로 더 가르\n",
            "쳐 주기 때문에 학습진도가 일반 학생들 보다 빠릅니다. 수업도 이\n",
            "들을 중심으로 하다 보니 일반 학생들은 진도를 따라가지 못하고 \n",
            "그저 자리만 채울 뿐입니다. 그리고 담임이 툭하면 ‘못사는 것들은 \n",
            "배울 필요도 없다고 하면서 개가 되어 똥이나 치우고 살아라’는 식\n",
            "으로 말했습니다. 저희 담임뿐만 아니라 학교 자체에서 그런 식의 \n",
            "차별을 당연시 했습니다.”\n",
            "(3) 지역 간 교육 불평등 \n",
            "북한은 2019년에 제출한 제3차 UPR 보고서에서 중등교육에 있\n",
            "어 도시와 시골 지역의 구분을 없애기 위해 특별한 주의를 기울이고 \n",
            "있다고 언급하며, 훌륭한 교육 여건과 환경을 갖춘 시범학교로 변모\n",
            "한 사례를 다른 시골 학교에 일반화하고자 노력하고 있다고 보고하\n",
            "였다.343 동보고서에서 북한은 유능한 교사와 교원연구원 강사들이 \n",
            "시골 학교 교사의 교수 능력을 향상시키는 임무도 담당하고 있다고 \n",
            "하였다.344 \n",
            "북한에서는 시내 지역과 시골 지역 간에 교육 불평등이 존재하는 \n",
            "것으로 나타났다. 시내에 있는 학교에서 시골에 있는 학교로 전학을 \n",
            "간 적이 있다는 증언자의 진술에 따르면 교육시설이나 교원의 수준\n",
            "에서 차이가 컸다고 한다. 시내 학교에 비해 시골학교는 규모도 작\n",
            "고 현대화 작업이 되어 있지 않아 낙후되어 있었으며, 교원들도 정\n",
            "343\t\tUN\tDoc.\tA/HRC/WG.6/33/PRK/1 \t(2019),\tpara.\t46.\t\n",
            "344\t Ibid.,\tpara.\t46.' metadata={'source': '2023_북한인권보고서.pdf', 'page': 345}\n",
            "--------------------\n",
            "page_content='2023 북한인권보고서3422018년에 학교에서 추천하여 소년궁전 스키부에 선발되었으나, 체\n",
            "육종합지도원이 자신의 출신성분이 좋지 않다는 이유로 선발명단에\n",
            "서 자신을 제외했다고 진술하였다. 정치범수용소에서는 이주민 자\n",
            "녀의 경우 정규교육과정을 받지 못한다는 증언도 있었다. 정치범수\n",
            "용소에도 소학교와 중학교가 있지만 일반 학교와는 달리 학생들이 \n",
            "책가방 대신 지게를 지고 출석하고 학교에서 농사짓는 법에 대해 배\n",
            "운다고 한다. \n",
            "북한에서는 대학 진학 시에도 출신성분에 따른 차별이 존재하는 \n",
            "것으로 나타났다. 한 증언자는 2019년에 고급중학교를 졸업하고 대\n",
            "학에 진학하려고 했는데, 본인 문건에 어머니가 행방불명으로 되어 \n",
            "있어 출신성분이 나쁘다는 이유로 대학에 진학할 수 없었다고 한다. \n",
            "이러한 차별행위는 교육부의 정책에 따른 것이라고 한다. 다른 증\n",
            "언자는 2018년에 의학대학에 진학하고 싶었는데, 교육과장과 면담\n",
            "하는 과정에서 ‘어머니가 행방불명이라 너 같은 아이는 대학에 가기 \n",
            "어렵다.’는 이야기를 듣고 대학 진학을 포기했다고 한다. 중학교 졸\n",
            "업 후 농민의 자식이라는 이유로 일반 대학뿐만 아니라 공업전문학\n",
            "교도 진학할 수 없었다는 증언도 있었다. \n",
            " \n",
            "(2) 경제력에 따른 차별 \n",
            "북한에서는 교육기회에 있어 경제력에 따른 차별이 존재하는 것\n",
            "으로 보인다. 수집된 증언에 따르면 무상교육제가 유명무실해진 상\n",
            "황에서 교육비 부담으로 경제적 취약계층의 아동들이 장기간 결석하\n",
            "거나 중도에 학교를 그만두는 것으로 나타났다. 한 증언자는 2018년\n",
            "에 아들이 소학교 학생이었는데, 당시 학급 정원의 25% 정도가 경제' metadata={'source': '2023_북한인권보고서.pdf', 'page': 343}\n",
            "--------------------\n"
          ]
        }
      ]
    }
  ]
}