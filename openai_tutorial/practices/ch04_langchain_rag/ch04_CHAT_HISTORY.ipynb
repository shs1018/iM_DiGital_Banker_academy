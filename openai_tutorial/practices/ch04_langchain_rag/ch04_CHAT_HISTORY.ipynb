{
  "nbformat": 4,
  "nbformat_minor": 0,
  "metadata": {
    "colab": {
      "provenance": []
    },
    "kernelspec": {
      "name": "python3",
      "display_name": "Python 3"
    },
    "language_info": {
      "name": "python"
    }
  },
  "cells": [
    {
      "cell_type": "code",
      "source": [
        "!pip install langchain langchain_openai langchain_community"
      ],
      "metadata": {
        "colab": {
          "base_uri": "https://localhost:8080/"
        },
        "id": "QglDeJ-SDaSc",
        "outputId": "0055de02-1258-4ae5-ebf0-41a3dc5e096d"
      },
      "execution_count": 3,
      "outputs": [
        {
          "output_type": "stream",
          "name": "stdout",
          "text": [
            "Requirement already satisfied: langchain in /usr/local/lib/python3.10/dist-packages (0.2.12)\n",
            "Requirement already satisfied: langchain_openai in /usr/local/lib/python3.10/dist-packages (0.1.20)\n",
            "Collecting langchain_community\n",
            "  Downloading langchain_community-0.2.10-py3-none-any.whl.metadata (2.7 kB)\n",
            "Requirement already satisfied: PyYAML>=5.3 in /usr/local/lib/python3.10/dist-packages (from langchain) (6.0.1)\n",
            "Requirement already satisfied: SQLAlchemy<3,>=1.4 in /usr/local/lib/python3.10/dist-packages (from langchain) (2.0.31)\n",
            "Requirement already satisfied: aiohttp<4.0.0,>=3.8.3 in /usr/local/lib/python3.10/dist-packages (from langchain) (3.9.5)\n",
            "Requirement already satisfied: async-timeout<5.0.0,>=4.0.0 in /usr/local/lib/python3.10/dist-packages (from langchain) (4.0.3)\n",
            "Requirement already satisfied: langchain-core<0.3.0,>=0.2.27 in /usr/local/lib/python3.10/dist-packages (from langchain) (0.2.27)\n",
            "Requirement already satisfied: langchain-text-splitters<0.3.0,>=0.2.0 in /usr/local/lib/python3.10/dist-packages (from langchain) (0.2.2)\n",
            "Requirement already satisfied: langsmith<0.2.0,>=0.1.17 in /usr/local/lib/python3.10/dist-packages (from langchain) (0.1.96)\n",
            "Requirement already satisfied: numpy<2,>=1 in /usr/local/lib/python3.10/dist-packages (from langchain) (1.26.4)\n",
            "Requirement already satisfied: pydantic<3,>=1 in /usr/local/lib/python3.10/dist-packages (from langchain) (2.8.2)\n",
            "Requirement already satisfied: requests<3,>=2 in /usr/local/lib/python3.10/dist-packages (from langchain) (2.31.0)\n",
            "Requirement already satisfied: tenacity!=8.4.0,<9.0.0,>=8.1.0 in /usr/local/lib/python3.10/dist-packages (from langchain) (8.5.0)\n",
            "Requirement already satisfied: openai<2.0.0,>=1.32.0 in /usr/local/lib/python3.10/dist-packages (from langchain_openai) (1.37.2)\n",
            "Requirement already satisfied: tiktoken<1,>=0.7 in /usr/local/lib/python3.10/dist-packages (from langchain_openai) (0.7.0)\n",
            "Collecting dataclasses-json<0.7,>=0.5.7 (from langchain_community)\n",
            "  Downloading dataclasses_json-0.6.7-py3-none-any.whl.metadata (25 kB)\n",
            "Requirement already satisfied: aiosignal>=1.1.2 in /usr/local/lib/python3.10/dist-packages (from aiohttp<4.0.0,>=3.8.3->langchain) (1.3.1)\n",
            "Requirement already satisfied: attrs>=17.3.0 in /usr/local/lib/python3.10/dist-packages (from aiohttp<4.0.0,>=3.8.3->langchain) (23.2.0)\n",
            "Requirement already satisfied: frozenlist>=1.1.1 in /usr/local/lib/python3.10/dist-packages (from aiohttp<4.0.0,>=3.8.3->langchain) (1.4.1)\n",
            "Requirement already satisfied: multidict<7.0,>=4.5 in /usr/local/lib/python3.10/dist-packages (from aiohttp<4.0.0,>=3.8.3->langchain) (6.0.5)\n",
            "Requirement already satisfied: yarl<2.0,>=1.0 in /usr/local/lib/python3.10/dist-packages (from aiohttp<4.0.0,>=3.8.3->langchain) (1.9.4)\n",
            "Collecting marshmallow<4.0.0,>=3.18.0 (from dataclasses-json<0.7,>=0.5.7->langchain_community)\n",
            "  Downloading marshmallow-3.21.3-py3-none-any.whl.metadata (7.1 kB)\n",
            "Collecting typing-inspect<1,>=0.4.0 (from dataclasses-json<0.7,>=0.5.7->langchain_community)\n",
            "  Downloading typing_inspect-0.9.0-py3-none-any.whl.metadata (1.5 kB)\n",
            "Requirement already satisfied: jsonpatch<2.0,>=1.33 in /usr/local/lib/python3.10/dist-packages (from langchain-core<0.3.0,>=0.2.27->langchain) (1.33)\n",
            "Requirement already satisfied: packaging<25,>=23.2 in /usr/local/lib/python3.10/dist-packages (from langchain-core<0.3.0,>=0.2.27->langchain) (24.1)\n",
            "Requirement already satisfied: typing-extensions>=4.7 in /usr/local/lib/python3.10/dist-packages (from langchain-core<0.3.0,>=0.2.27->langchain) (4.12.2)\n",
            "Requirement already satisfied: orjson<4.0.0,>=3.9.14 in /usr/local/lib/python3.10/dist-packages (from langsmith<0.2.0,>=0.1.17->langchain) (3.10.6)\n",
            "Requirement already satisfied: anyio<5,>=3.5.0 in /usr/local/lib/python3.10/dist-packages (from openai<2.0.0,>=1.32.0->langchain_openai) (3.7.1)\n",
            "Requirement already satisfied: distro<2,>=1.7.0 in /usr/lib/python3/dist-packages (from openai<2.0.0,>=1.32.0->langchain_openai) (1.7.0)\n",
            "Requirement already satisfied: httpx<1,>=0.23.0 in /usr/local/lib/python3.10/dist-packages (from openai<2.0.0,>=1.32.0->langchain_openai) (0.27.0)\n",
            "Requirement already satisfied: sniffio in /usr/local/lib/python3.10/dist-packages (from openai<2.0.0,>=1.32.0->langchain_openai) (1.3.1)\n",
            "Requirement already satisfied: tqdm>4 in /usr/local/lib/python3.10/dist-packages (from openai<2.0.0,>=1.32.0->langchain_openai) (4.66.4)\n",
            "Requirement already satisfied: annotated-types>=0.4.0 in /usr/local/lib/python3.10/dist-packages (from pydantic<3,>=1->langchain) (0.7.0)\n",
            "Requirement already satisfied: pydantic-core==2.20.1 in /usr/local/lib/python3.10/dist-packages (from pydantic<3,>=1->langchain) (2.20.1)\n",
            "Requirement already satisfied: charset-normalizer<4,>=2 in /usr/local/lib/python3.10/dist-packages (from requests<3,>=2->langchain) (3.3.2)\n",
            "Requirement already satisfied: idna<4,>=2.5 in /usr/local/lib/python3.10/dist-packages (from requests<3,>=2->langchain) (3.7)\n",
            "Requirement already satisfied: urllib3<3,>=1.21.1 in /usr/local/lib/python3.10/dist-packages (from requests<3,>=2->langchain) (2.0.7)\n",
            "Requirement already satisfied: certifi>=2017.4.17 in /usr/local/lib/python3.10/dist-packages (from requests<3,>=2->langchain) (2024.7.4)\n",
            "Requirement already satisfied: greenlet!=0.4.17 in /usr/local/lib/python3.10/dist-packages (from SQLAlchemy<3,>=1.4->langchain) (3.0.3)\n",
            "Requirement already satisfied: regex>=2022.1.18 in /usr/local/lib/python3.10/dist-packages (from tiktoken<1,>=0.7->langchain_openai) (2024.5.15)\n",
            "Requirement already satisfied: exceptiongroup in /usr/local/lib/python3.10/dist-packages (from anyio<5,>=3.5.0->openai<2.0.0,>=1.32.0->langchain_openai) (1.2.2)\n",
            "Requirement already satisfied: httpcore==1.* in /usr/local/lib/python3.10/dist-packages (from httpx<1,>=0.23.0->openai<2.0.0,>=1.32.0->langchain_openai) (1.0.5)\n",
            "Requirement already satisfied: h11<0.15,>=0.13 in /usr/local/lib/python3.10/dist-packages (from httpcore==1.*->httpx<1,>=0.23.0->openai<2.0.0,>=1.32.0->langchain_openai) (0.14.0)\n",
            "Requirement already satisfied: jsonpointer>=1.9 in /usr/local/lib/python3.10/dist-packages (from jsonpatch<2.0,>=1.33->langchain-core<0.3.0,>=0.2.27->langchain) (3.0.0)\n",
            "Collecting mypy-extensions>=0.3.0 (from typing-inspect<1,>=0.4.0->dataclasses-json<0.7,>=0.5.7->langchain_community)\n",
            "  Downloading mypy_extensions-1.0.0-py3-none-any.whl.metadata (1.1 kB)\n",
            "Downloading langchain_community-0.2.10-py3-none-any.whl (2.3 MB)\n",
            "\u001b[2K   \u001b[90m━━━━━━━━━━━━━━━━━━━━━━━━━━━━━━━━━━━━━━━━\u001b[0m \u001b[32m2.3/2.3 MB\u001b[0m \u001b[31m11.8 MB/s\u001b[0m eta \u001b[36m0:00:00\u001b[0m\n",
            "\u001b[?25hDownloading dataclasses_json-0.6.7-py3-none-any.whl (28 kB)\n",
            "Downloading marshmallow-3.21.3-py3-none-any.whl (49 kB)\n",
            "\u001b[2K   \u001b[90m━━━━━━━━━━━━━━━━━━━━━━━━━━━━━━━━━━━━━━━━\u001b[0m \u001b[32m49.2/49.2 kB\u001b[0m \u001b[31m2.9 MB/s\u001b[0m eta \u001b[36m0:00:00\u001b[0m\n",
            "\u001b[?25hDownloading typing_inspect-0.9.0-py3-none-any.whl (8.8 kB)\n",
            "Downloading mypy_extensions-1.0.0-py3-none-any.whl (4.7 kB)\n",
            "Installing collected packages: mypy-extensions, marshmallow, typing-inspect, dataclasses-json, langchain_community\n",
            "Successfully installed dataclasses-json-0.6.7 langchain_community-0.2.10 marshmallow-3.21.3 mypy-extensions-1.0.0 typing-inspect-0.9.0\n"
          ]
        }
      ]
    },
    {
      "cell_type": "code",
      "execution_count": 12,
      "metadata": {
        "id": "7sEOljOYDTH-"
      },
      "outputs": [],
      "source": [
        "import os\n",
        "from langchain_core.prompts import PromptTemplate\n",
        "from langchain_openai import ChatOpenAI\n",
        "from langchain_core.runnables.history import RunnableWithMessageHistory\n",
        "from langchain_community.chat_message_histories import ChatMessageHistory\n",
        "from langchain.callbacks.tracers import ConsoleCallbackHandler"
      ]
    },
    {
      "cell_type": "code",
      "source": [
        "os.environ['OPENAI_API_KEY'] = \"여러분들의 Key 값\"\n",
        "\n",
        "# 객체 생성\n",
        "llm = ChatOpenAI(\n",
        "    temperature=0.1,  # 창의성 (0.0 ~ 2.0)\n",
        "    max_tokens=2048,  # 최대 토큰수\n",
        "    model_name=\"gpt-3.5-turbo\",  # 모델명\n",
        ")\n",
        "\n",
        "# 질의내용\n",
        "question = \"세종대왕이 누구인지 설명해주세요\"\n",
        "\n",
        "# 질의\n",
        "result = llm.invoke(question)\n",
        "print(result.content)"
      ],
      "metadata": {
        "colab": {
          "base_uri": "https://localhost:8080/"
        },
        "id": "5YrNz1ARFDqG",
        "outputId": "6be4fc05-9b5d-454b-8e5e-a0e1a2d76c19"
      },
      "execution_count": 6,
      "outputs": [
        {
          "output_type": "stream",
          "name": "stdout",
          "text": [
            "세종대왕은 조선시대 4대 왕 중 하나로, 조선시대의 제4대 군주로 알려진 조선의 왕이다. 그의 본명은 이도이며, 세종대왕은 1418년에서 1450년 사이에 통치했다. 세종대왕은 조선시대의 가장 위대한 왕 중 하나로 꼽히며, 한글을 창제하고 학문과 문화를 발전시키는 데 큰 기여를 했다. 또한 세종대왕은 신민들의 생활을 향상시키기 위해 다양한 사회정책을 시행했고, 조선의 국력을 강화하는 데 큰 역할을 했다. 그의 통치는 조선시대의 전성기를 이루는 데 큰 영향을 미쳤다.\n"
          ]
        }
      ]
    },
    {
      "cell_type": "code",
      "source": [
        "# 질문 템플릿 형식 정의\n",
        "template = \"{who}가 누구인지 설명해주세요\"\n",
        "\n",
        "# 템플릿 완성\n",
        "prompt = PromptTemplate(\n",
        "        template=template, input_variables=['who']\n",
        "    )\n",
        "print(prompt)"
      ],
      "metadata": {
        "colab": {
          "base_uri": "https://localhost:8080/"
        },
        "id": "ONREJvD-IfZ_",
        "outputId": "07b20d9f-fca3-4821-91d5-1be1254da499"
      },
      "execution_count": 26,
      "outputs": [
        {
          "output_type": "stream",
          "name": "stdout",
          "text": [
            "input_variables=['who'] template='{who}가 누구인지 설명해주세요'\n"
          ]
        }
      ]
    },
    {
      "cell_type": "code",
      "source": [
        "print(prompt.format(who=\"오바마\"))"
      ],
      "metadata": {
        "colab": {
          "base_uri": "https://localhost:8080/"
        },
        "id": "m0Pwp6IlKO2-",
        "outputId": "310bd9b2-e949-4252-c1e1-30241ea2d51b"
      },
      "execution_count": 27,
      "outputs": [
        {
          "output_type": "stream",
          "name": "stdout",
          "text": [
            "오바마가 누구인지 설명해주세요\n"
          ]
        }
      ]
    },
    {
      "cell_type": "code",
      "source": [
        "# 연결된 체인(Chain)객체 생성\n",
        "llm_chain = prompt | llm"
      ],
      "metadata": {
        "id": "TxgD_1mXKWg0"
      },
      "execution_count": 29,
      "outputs": []
    },
    {
      "cell_type": "code",
      "source": [
        "result = llm_chain.invoke({\"who\":\"이순신 장군\"})\n",
        "print(result)"
      ],
      "metadata": {
        "id": "-5WIextncmkT"
      },
      "execution_count": null,
      "outputs": []
    },
    {
      "cell_type": "code",
      "source": [
        "result = llm_chain.invoke({\"who\":\"이순신 장군\"},\n",
        "                          config={'callbacks': [ConsoleCallbackHandler()]})"
      ],
      "metadata": {
        "colab": {
          "base_uri": "https://localhost:8080/"
        },
        "id": "A68JWLagL1_D",
        "outputId": "980d3dde-5f8e-4258-892f-486f40ab4370"
      },
      "execution_count": 14,
      "outputs": [
        {
          "output_type": "stream",
          "name": "stdout",
          "text": [
            "\u001b[32;1m\u001b[1;3m[chain/start]\u001b[0m \u001b[1m[chain:RunnableSequence] Entering Chain run with input:\n",
            "\u001b[0m{\n",
            "  \"who\": \"이순신 장군\"\n",
            "}\n",
            "\u001b[32;1m\u001b[1;3m[chain/start]\u001b[0m \u001b[1m[chain:RunnableSequence > prompt:PromptTemplate] Entering Prompt run with input:\n",
            "\u001b[0m{\n",
            "  \"who\": \"이순신 장군\"\n",
            "}\n",
            "\u001b[36;1m\u001b[1;3m[chain/end]\u001b[0m \u001b[1m[chain:RunnableSequence > prompt:PromptTemplate] [3ms] Exiting Prompt run with output:\n",
            "\u001b[0m[outputs]\n",
            "\u001b[32;1m\u001b[1;3m[llm/start]\u001b[0m \u001b[1m[chain:RunnableSequence > llm:ChatOpenAI] Entering LLM run with input:\n",
            "\u001b[0m{\n",
            "  \"prompts\": [\n",
            "    \"Human: 이순신 장군가 누구인지 설명해주세요\"\n",
            "  ]\n",
            "}\n",
            "\u001b[36;1m\u001b[1;3m[llm/end]\u001b[0m \u001b[1m[chain:RunnableSequence > llm:ChatOpenAI] [4.08s] Exiting LLM run with output:\n",
            "\u001b[0m{\n",
            "  \"generations\": [\n",
            "    [\n",
            "      {\n",
            "        \"text\": \"이순신 장군은 조선 시대의 무신이자 미신으로 유명한 역사적 인물입니다. 그는 16세기 후반부터 17세기 초반까지 활약한 조선의 장군으로, 일본의 침략을 막기 위해 전쟁을 이끌었습니다. 특히, 임진왜란이라 불리는 전쟁에서 일본의 강력한 공격을 막고, 해상전투에서 승리를 거두어 조선의 독립을 지켜냈습니다. 이순신 장군은 그의 뛰어난 전략과 무모한 용기로 많은 사람들에게 존경받고 있으며, 한국 역사상 가장 위대한 장군 중 한 명으로 꼽힙니다.\",\n",
            "        \"generation_info\": {\n",
            "          \"finish_reason\": \"stop\",\n",
            "          \"logprobs\": null\n",
            "        },\n",
            "        \"type\": \"ChatGeneration\",\n",
            "        \"message\": {\n",
            "          \"lc\": 1,\n",
            "          \"type\": \"constructor\",\n",
            "          \"id\": [\n",
            "            \"langchain\",\n",
            "            \"schema\",\n",
            "            \"messages\",\n",
            "            \"AIMessage\"\n",
            "          ],\n",
            "          \"kwargs\": {\n",
            "            \"content\": \"이순신 장군은 조선 시대의 무신이자 미신으로 유명한 역사적 인물입니다. 그는 16세기 후반부터 17세기 초반까지 활약한 조선의 장군으로, 일본의 침략을 막기 위해 전쟁을 이끌었습니다. 특히, 임진왜란이라 불리는 전쟁에서 일본의 강력한 공격을 막고, 해상전투에서 승리를 거두어 조선의 독립을 지켜냈습니다. 이순신 장군은 그의 뛰어난 전략과 무모한 용기로 많은 사람들에게 존경받고 있으며, 한국 역사상 가장 위대한 장군 중 한 명으로 꼽힙니다.\",\n",
            "            \"response_metadata\": {\n",
            "              \"token_usage\": {\n",
            "                \"completion_tokens\": 257,\n",
            "                \"prompt_tokens\": 27,\n",
            "                \"total_tokens\": 284\n",
            "              },\n",
            "              \"model_name\": \"gpt-3.5-turbo-0125\",\n",
            "              \"system_fingerprint\": null,\n",
            "              \"finish_reason\": \"stop\",\n",
            "              \"logprobs\": null\n",
            "            },\n",
            "            \"type\": \"ai\",\n",
            "            \"id\": \"run-85dbeced-70d1-4cfa-bb47-af5c537233f3-0\",\n",
            "            \"usage_metadata\": {\n",
            "              \"input_tokens\": 27,\n",
            "              \"output_tokens\": 257,\n",
            "              \"total_tokens\": 284\n",
            "            },\n",
            "            \"tool_calls\": [],\n",
            "            \"invalid_tool_calls\": []\n",
            "          }\n",
            "        }\n",
            "      }\n",
            "    ]\n",
            "  ],\n",
            "  \"llm_output\": {\n",
            "    \"token_usage\": {\n",
            "      \"completion_tokens\": 257,\n",
            "      \"prompt_tokens\": 27,\n",
            "      \"total_tokens\": 284\n",
            "    },\n",
            "    \"model_name\": \"gpt-3.5-turbo-0125\",\n",
            "    \"system_fingerprint\": null\n",
            "  },\n",
            "  \"run\": null\n",
            "}\n",
            "\u001b[36;1m\u001b[1;3m[chain/end]\u001b[0m \u001b[1m[chain:RunnableSequence] [4.09s] Exiting Chain run with output:\n",
            "\u001b[0m[outputs]\n"
          ]
        }
      ]
    },
    {
      "cell_type": "code",
      "source": [
        "# 질문 템플릿 형식 정의\n",
        "template= \"\"\"당신은 위키북스에서 만든 친절한 위키봇입니다.\n",
        "\n",
        "Current Conversation: {history}\n",
        "\n",
        "Human: {input}\n",
        "\n",
        "AI:\"\"\"\n",
        "\n",
        "# 템플릿 완성\n",
        "prompt = PromptTemplate(\n",
        "        template=template, input_variables=['history', 'input']\n",
        "    )\n",
        "print(prompt)"
      ],
      "metadata": {
        "colab": {
          "base_uri": "https://localhost:8080/"
        },
        "id": "Jt3qWI14L4CP",
        "outputId": "04eafc65-af51-44b1-a454-b041df52fa04"
      },
      "execution_count": 92,
      "outputs": [
        {
          "output_type": "stream",
          "name": "stdout",
          "text": [
            "input_variables=['history', 'input'] template='당신은 위키북스에서 만든 친절한 위키봇입니다.\\n\\nCurrent Conversation: {history}\\n\\nHuman: {input}\\n\\nAI:'\n"
          ]
        }
      ]
    },
    {
      "cell_type": "code",
      "source": [
        "model = ChatOpenAI()\n",
        "chain = prompt | model"
      ],
      "metadata": {
        "id": "n6qGAD65VKMW"
      },
      "execution_count": 93,
      "outputs": []
    },
    {
      "cell_type": "code",
      "source": [
        "store = {}"
      ],
      "metadata": {
        "id": "adTtITySVM9p"
      },
      "execution_count": 94,
      "outputs": []
    },
    {
      "cell_type": "code",
      "source": [
        "session_id = \"test\""
      ],
      "metadata": {
        "id": "NJIEAEmwfYm8"
      },
      "execution_count": 95,
      "outputs": []
    },
    {
      "cell_type": "code",
      "source": [
        "# 세션 기록 가져오기\n",
        "if session_id not in store:\n",
        "    store[session_id] = ChatMessageHistory()\n",
        "\n",
        "session_history = store[session_id]  # 안전하게 세션 기록을 변수에 할당\n",
        "\n",
        "with_message_history = RunnableWithMessageHistory(\n",
        "    chain,\n",
        "    lambda session_id: session_history,  # 직접 참조를 반환하도록 수정\n",
        "    input_messages_key=\"input\",\n",
        "    history_messages_key=\"history\"\n",
        ")"
      ],
      "metadata": {
        "id": "JfdNDfdzVOtb"
      },
      "execution_count": 96,
      "outputs": []
    },
    {
      "cell_type": "code",
      "source": [
        "# 주어진 메시지와 설정으로 체인을 실행합니다.\n",
        "result = with_message_history.invoke(\n",
        "    {\"input\": \"당신은 어디에서 만들었습니까?\"},\n",
        "    config={\"configurable\": {\"session_id\": \"test\"}},\n",
        ")\n",
        "print(result.content)"
      ],
      "metadata": {
        "colab": {
          "base_uri": "https://localhost:8080/"
        },
        "id": "phbZZ9mMVVZ_",
        "outputId": "4e494679-0e87-4b1a-a6ea-05dc19292946"
      },
      "execution_count": 97,
      "outputs": [
        {
          "output_type": "stream",
          "name": "stdout",
          "text": [
            "저는 위키북스에서 만들어진 친절한 위키봇입니다. 어떤 도움이 필요하신가요?\n"
          ]
        }
      ]
    },
    {
      "cell_type": "code",
      "source": [
        "result = with_message_history.invoke(\n",
        "    {\"input\": \"푸른 바다를 주제로 감성적이고 짧은 시를 하나 지어주세요\"},\n",
        "    config={\"configurable\": {\"session_id\": \"test\"}},\n",
        ")\n",
        "print(result.content)"
      ],
      "metadata": {
        "colab": {
          "base_uri": "https://localhost:8080/"
        },
        "id": "0qDUGvJeVYgO",
        "outputId": "62e628e9-ec7d-41f4-d597-2620306806e2"
      },
      "execution_count": 98,
      "outputs": [
        {
          "output_type": "stream",
          "name": "stdout",
          "text": [
            "푸른 바다 너머로 떠나는 발걸음  \n",
            "파도 소리가 내 귓가에 퍼지는 순간  \n",
            "고요한 감성이 내 맘을 감싸 안아줘\n"
          ]
        }
      ]
    },
    {
      "cell_type": "code",
      "source": [
        "result = with_message_history.invoke(\n",
        "    {\"input\": \"석양을 주제로도 해줘\"},\n",
        "    config={\"configurable\": {\"session_id\": \"test\"}},\n",
        ")\n",
        "print(result.content)"
      ],
      "metadata": {
        "colab": {
          "base_uri": "https://localhost:8080/"
        },
        "id": "WylSWebYrmfm",
        "outputId": "0b276867-9659-4b8e-c130-38af4229c57c"
      },
      "execution_count": 99,
      "outputs": [
        {
          "output_type": "stream",
          "name": "stdout",
          "text": [
            "붉게 물든 석양이 하늘을 덮치고  \\n마음을 가득 채우는 아름다움  \\n저 하늘 아래 아무것도 필요치 않아\n"
          ]
        }
      ]
    },
    {
      "cell_type": "code",
      "source": [
        "print(store)"
      ],
      "metadata": {
        "colab": {
          "base_uri": "https://localhost:8080/"
        },
        "id": "QEAdajxUsoaG",
        "outputId": "e9e77c60-76df-46db-883e-d65f2d514e6a"
      },
      "execution_count": 100,
      "outputs": [
        {
          "output_type": "stream",
          "name": "stdout",
          "text": [
            "{'test': InMemoryChatMessageHistory(messages=[HumanMessage(content='당신은 어디에서 만들었습니까?'), AIMessage(content='저는 위키북스에서 만들어진 친절한 위키봇입니다. 어떤 도움이 필요하신가요?', response_metadata={'token_usage': {'completion_tokens': 44, 'prompt_tokens': 57, 'total_tokens': 101}, 'model_name': 'gpt-3.5-turbo-0125', 'system_fingerprint': None, 'finish_reason': 'stop', 'logprobs': None}, id='run-00b45b05-a537-448d-847b-b242ad26ffed-0', usage_metadata={'input_tokens': 57, 'output_tokens': 44, 'total_tokens': 101}), HumanMessage(content='푸른 바다를 주제로 감성적이고 짧은 시를 하나 지어주세요'), AIMessage(content='푸른 바다 너머로 떠나는 발걸음  \\n파도 소리가 내 귓가에 퍼지는 순간  \\n고요한 감성이 내 맘을 감싸 안아줘', response_metadata={'token_usage': {'completion_tokens': 63, 'prompt_tokens': 252, 'total_tokens': 315}, 'model_name': 'gpt-3.5-turbo-0125', 'system_fingerprint': None, 'finish_reason': 'stop', 'logprobs': None}, id='run-5e701e99-54f6-4e5c-87d8-8f99a7b54040-0', usage_metadata={'input_tokens': 252, 'output_tokens': 63, 'total_tokens': 315}), HumanMessage(content='석양을 주제로도 해줘'), AIMessage(content='붉게 물든 석양이 하늘을 덮치고  \\\\n마음을 가득 채우는 아름다움  \\\\n저 하늘 아래 아무것도 필요치 않아', response_metadata={'token_usage': {'completion_tokens': 62, 'prompt_tokens': 464, 'total_tokens': 526}, 'model_name': 'gpt-3.5-turbo-0125', 'system_fingerprint': None, 'finish_reason': 'stop', 'logprobs': None}, id='run-e64b3450-0bee-4dd2-b728-a8be1c1888cd-0', usage_metadata={'input_tokens': 464, 'output_tokens': 62, 'total_tokens': 526})])}\n"
          ]
        }
      ]
    }
  ]
}