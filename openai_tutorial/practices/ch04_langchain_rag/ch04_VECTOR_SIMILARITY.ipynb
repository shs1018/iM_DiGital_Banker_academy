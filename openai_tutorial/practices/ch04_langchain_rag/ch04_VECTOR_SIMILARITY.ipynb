{
  "cells": [
    {
      "cell_type": "code",
      "execution_count": 1,
      "metadata": {
        "colab": {
          "base_uri": "https://localhost:8080/"
        },
        "id": "OUafthH9bcNr",
        "outputId": "ca8c0575-e323-4bd3-bba1-0a83d44e0b46"
      },
      "outputs": [
        {
          "name": "stdout",
          "output_type": "stream",
          "text": [
            "벡터1과 벡터2의 유사도 : 0.6666666666666667\n",
            "벡터1과 벡터3의 유사도 : 0.6666666666666667\n",
            "벡터2와 벡터3의 유사도 : 1.0000000000000002\n"
          ]
        }
      ],
      "source": [
        "import numpy as np\n",
        "from numpy import dot\n",
        "from numpy.linalg import norm\n",
        "\n",
        "def cos_sim(A, B):\n",
        "  return dot(A, B)/(norm(A)*norm(B))\n",
        "\n",
        "vec1 = np.array([0,1,1,1])\n",
        "vec2 = np.array([1,0,1,1])\n",
        "vec3 = np.array([2,0,2,2])\n",
        "\n",
        "print('벡터1과 벡터2의 유사도 :',cos_sim(vec1, vec2))\n",
        "print('벡터1과 벡터3의 유사도 :',cos_sim(vec1, vec3))\n",
        "print('벡터2와 벡터3의 유사도 :',cos_sim(vec2, vec3))"
      ]
    }
  ],
  "metadata": {
    "colab": {
      "provenance": []
    },
    "kernelspec": {
      "display_name": "venv",
      "language": "python",
      "name": "python3"
    },
    "language_info": {
      "codemirror_mode": {
        "name": "ipython",
        "version": 3
      },
      "file_extension": ".py",
      "mimetype": "text/x-python",
      "name": "python",
      "nbconvert_exporter": "python",
      "pygments_lexer": "ipython3",
      "version": "3.12.6"
    }
  },
  "nbformat": 4,
  "nbformat_minor": 0
}
