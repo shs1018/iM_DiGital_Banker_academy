{
  "cells": [
    {
      "cell_type": "markdown",
      "metadata": {
        "id": "C6SBbrBBsDlS"
      },
      "source": [
        "# 계산기처럼 이용"
      ]
    },
    {
      "cell_type": "markdown",
      "metadata": {
        "id": "0tLs1TlluVLN"
      },
      "source": [
        "## 계산"
      ]
    },
    {
      "cell_type": "code",
      "execution_count": 1,
      "metadata": {
        "colab": {
          "base_uri": "https://localhost:8080/"
        },
        "id": "zGFAo8yjtGFD",
        "outputId": "1683336d-4805-4350-b66b-8832c40d9fd3"
      },
      "outputs": [
        {
          "data": {
            "text/plain": [
              "float"
            ]
          },
          "execution_count": 1,
          "metadata": {},
          "output_type": "execute_result"
        }
      ],
      "source": [
        "type(3.2)"
      ]
    },
    {
      "cell_type": "code",
      "execution_count": 14,
      "metadata": {
        "colab": {
          "base_uri": "https://localhost:8080/"
        },
        "id": "AIn10EaCtBBd",
        "outputId": "dae7f2ee-8c27-46bb-cec5-1d522e0c4758"
      },
      "outputs": [
        {
          "data": {
            "text/plain": [
              "str"
            ]
          },
          "execution_count": 14,
          "metadata": {},
          "output_type": "execute_result"
        }
      ],
      "source": [
        "a = '5'\n",
        "type(a)"
      ]
    },
    {
      "cell_type": "code",
      "execution_count": 15,
      "metadata": {
        "colab": {
          "base_uri": "https://localhost:8080/"
        },
        "id": "J4e_sIozs9xC",
        "outputId": "9684ec4d-dc0c-4a98-b71c-e8f9137a453a"
      },
      "outputs": [
        {
          "data": {
            "text/plain": [
              "int"
            ]
          },
          "execution_count": 15,
          "metadata": {},
          "output_type": "execute_result"
        }
      ],
      "source": [
        "a = 5\n",
        "type(a)"
      ]
    },
    {
      "cell_type": "code",
      "execution_count": 11,
      "metadata": {
        "colab": {
          "base_uri": "https://localhost:8080/"
        },
        "id": "mpg52V4Dsuef",
        "outputId": "343a173c-9492-4508-e4d5-fc0967d789fc"
      },
      "outputs": [
        {
          "data": {
            "text/plain": [
              "2"
            ]
          },
          "execution_count": 11,
          "metadata": {},
          "output_type": "execute_result"
        }
      ],
      "source": [
        "1+1"
      ]
    },
    {
      "cell_type": "code",
      "execution_count": 12,
      "metadata": {
        "colab": {
          "base_uri": "https://localhost:8080/"
        },
        "id": "vXGpfXP3szVT",
        "outputId": "54c3c266-078d-4d48-c7a9-3fb2e1530e4e"
      },
      "outputs": [
        {
          "data": {
            "text/plain": [
              "5.0"
            ]
          },
          "execution_count": 12,
          "metadata": {},
          "output_type": "execute_result"
        }
      ],
      "source": [
        "10 / 2"
      ]
    },
    {
      "cell_type": "markdown",
      "metadata": {
        "id": "pgqCcPJ9ucvA"
      },
      "source": [
        "###과학적 표기법"
      ]
    },
    {
      "cell_type": "code",
      "execution_count": 16,
      "metadata": {
        "colab": {
          "base_uri": "https://localhost:8080/"
        },
        "id": "DKOxKO39s00A",
        "outputId": "b4311548-93b9-4686-b03f-a9730d91fb53"
      },
      "outputs": [
        {
          "data": {
            "text/plain": [
              "300000000.0"
            ]
          },
          "execution_count": 16,
          "metadata": {},
          "output_type": "execute_result"
        }
      ],
      "source": [
        "3e8"
      ]
    },
    {
      "cell_type": "code",
      "execution_count": 17,
      "metadata": {
        "colab": {
          "base_uri": "https://localhost:8080/"
        },
        "id": "Gg-bSnJquvCU",
        "outputId": "26cb6063-3a1c-42d7-f89d-c0e376fb8794"
      },
      "outputs": [
        {
          "data": {
            "text/plain": [
              "0.0003"
            ]
          },
          "execution_count": 17,
          "metadata": {},
          "output_type": "execute_result"
        }
      ],
      "source": [
        "3e-4"
      ]
    },
    {
      "cell_type": "code",
      "execution_count": 18,
      "metadata": {
        "colab": {
          "base_uri": "https://localhost:8080/"
        },
        "id": "8-v18F3Ruyff",
        "outputId": "4e3cb88f-6e98-4668-eda7-3964e0bffad6"
      },
      "outputs": [
        {
          "data": {
            "text/plain": [
              "29999.7"
            ]
          },
          "execution_count": 18,
          "metadata": {},
          "output_type": "execute_result"
        }
      ],
      "source": [
        "3e4 - 3e-1"
      ]
    },
    {
      "cell_type": "code",
      "execution_count": 19,
      "metadata": {
        "colab": {
          "base_uri": "https://localhost:8080/"
        },
        "id": "oj0r1BZavaqL",
        "outputId": "95343721-c78f-486c-a201-fc684d8f12c9"
      },
      "outputs": [
        {
          "data": {
            "text/plain": [
              "float"
            ]
          },
          "execution_count": 19,
          "metadata": {},
          "output_type": "execute_result"
        }
      ],
      "source": [
        "type(3e2)"
      ]
    },
    {
      "cell_type": "markdown",
      "metadata": {
        "id": "NlIgtTGKOj3r"
      },
      "source": [
        "# 오후수업 실습"
      ]
    },
    {
      "cell_type": "markdown",
      "metadata": {
        "id": "19AtMgrfU-43"
      },
      "source": [
        "## 논리변수"
      ]
    },
    {
      "cell_type": "code",
      "execution_count": 12,
      "metadata": {
        "colab": {
          "base_uri": "https://localhost:8080/"
        },
        "id": "HzQETMLwOnbQ",
        "outputId": "d2d550f4-5bd9-4a02-f305-62b2b9d7a65e"
      },
      "outputs": [
        {
          "name": "stdout",
          "output_type": "stream",
          "text": [
            "True\n"
          ]
        },
        {
          "data": {
            "text/plain": [
              "bool"
            ]
          },
          "execution_count": 12,
          "metadata": {},
          "output_type": "execute_result"
        }
      ],
      "source": [
        "print(True); type(True)"
      ]
    },
    {
      "cell_type": "code",
      "execution_count": 18,
      "metadata": {
        "colab": {
          "base_uri": "https://localhost:8080/"
        },
        "id": "q-KZXhBFQn5v",
        "outputId": "489e838d-43e8-4421-87fa-3953915ce10b"
      },
      "outputs": [
        {
          "name": "stdout",
          "output_type": "stream",
          "text": [
            "False\n",
            "True\n",
            "False\n",
            "True\n"
          ]
        }
      ],
      "source": [
        "print(True and False)\n",
        "print(True or False)\n",
        "print(False and False)\n",
        "print(True and True)"
      ]
    },
    {
      "cell_type": "code",
      "execution_count": 28,
      "metadata": {
        "colab": {
          "base_uri": "https://localhost:8080/"
        },
        "id": "vdDMFttOULTq",
        "outputId": "e3252f4a-ead4-4c17-fa8b-ee8ff36ade75"
      },
      "outputs": [
        {
          "name": "stdout",
          "output_type": "stream",
          "text": [
            "True\n",
            "False\n"
          ]
        }
      ],
      "source": [
        "print((6 > 3) and (7 > 4));\n",
        "print(6 == 10000)"
      ]
    },
    {
      "cell_type": "markdown",
      "metadata": {
        "id": "wCDaMfU3VCYs"
      },
      "source": [
        "## 입력과 출력"
      ]
    },
    {
      "cell_type": "code",
      "execution_count": 30,
      "metadata": {
        "colab": {
          "base_uri": "https://localhost:8080/"
        },
        "id": "vKgm_t-YVLyl",
        "outputId": "332187a3-8673-479e-818e-07692237f1ba"
      },
      "outputs": [
        {
          "name": "stdout",
          "output_type": "stream",
          "text": [
            "random number goes here: 222\n",
            "222\n"
          ]
        }
      ],
      "source": [
        "x = input(\"random number goes here: \")\n",
        "print(x)"
      ]
    },
    {
      "cell_type": "code",
      "execution_count": 33,
      "metadata": {
        "colab": {
          "base_uri": "https://localhost:8080/"
        },
        "id": "QKBZbcavVZvl",
        "outputId": "1bb3bae4-c113-4999-fcb6-eef2d2c4259f"
      },
      "outputs": [
        {
          "name": "stdout",
          "output_type": "stream",
          "text": [
            "random number1 goes here: 123\n",
            "random number2 goes here: -122\n",
            "합이 10보다 작습니다.\n"
          ]
        }
      ],
      "source": [
        "x = int(input(\"random number1 goes here: \"))\n",
        "y = int(input(\"random number2 goes here: \"))\n",
        "sums = x + y\n",
        "\n",
        "if sums > 10:\n",
        "  print(\"합이 10보다 큽니다.\")\n",
        "elif sums == 10:\n",
        "  print(\"합이 10입니다.\")\n",
        "else:\n",
        "  print(\"합이 10보다 작습니다.\")"
      ]
    },
    {
      "cell_type": "code",
      "execution_count": 35,
      "metadata": {
        "colab": {
          "base_uri": "https://localhost:8080/"
        },
        "id": "Pir5XX3vWtyc",
        "outputId": "8d8854fb-79ae-477a-e8e5-5729974563f8"
      },
      "outputs": [
        {
          "name": "stdout",
          "output_type": "stream",
          "text": [
            "random float goes here1: 3e4\n",
            "random float goes here2: 3.342e-2\n",
            "<class 'float'> <class 'float'>\n",
            "30000.03342 1002.5999999999999 897666.0682226212\n"
          ]
        }
      ],
      "source": [
        "# 자료형변환\n",
        "# 숫자를 문자로, 문자를 숫자로.\n",
        "# 대부분이 클래스 또는 함수를 이용한다.\n",
        "\n",
        "x = float(input(\"random float goes here1: \"))\n",
        "y = float(input(\"random float goes here2: \"))\n",
        "print(type(x), type(y))\n",
        "print(x + y, x*y, x/y)"
      ]
    },
    {
      "cell_type": "code",
      "execution_count": 43,
      "metadata": {
        "colab": {
          "base_uri": "https://localhost:8080/"
        },
        "id": "kJOAgkwRYxOW",
        "outputId": "72f5be5f-c716-494e-a33e-4b848c3ce91c"
      },
      "outputs": [
        {
          "name": "stdout",
          "output_type": "stream",
          "text": [
            "<class 'int'> <class 'float'> <class 'int'>\n"
          ]
        }
      ],
      "source": [
        "print(type(round(3.3)),\n",
        "      type(float(3.3)),\n",
        "      type(int(float(3.3))))"
      ]
    },
    {
      "cell_type": "markdown",
      "metadata": {
        "id": "YJ7MgyvKc8Yw"
      },
      "source": [
        "## 문자열(str)"
      ]
    },
    {
      "cell_type": "code",
      "execution_count": 50,
      "metadata": {
        "id": "XRFFrdUYdSjw"
      },
      "outputs": [],
      "source": [
        "a = 'Hello, World! 1'\n",
        "b = 'Hello, World! 2'\n"
      ]
    },
    {
      "cell_type": "code",
      "execution_count": 51,
      "metadata": {
        "colab": {
          "base_uri": "https://localhost:8080/"
        },
        "id": "paLzyc-8d70D",
        "outputId": "06b86612-b47d-4d83-f23a-8df983d2434f"
      },
      "outputs": [
        {
          "name": "stdout",
          "output_type": "stream",
          "text": [
            "Hello, World! 1Hello, World! 2\n"
          ]
        }
      ],
      "source": [
        "res = a + b\n",
        "print(res)"
      ]
    },
    {
      "cell_type": "code",
      "execution_count": 53,
      "metadata": {
        "colab": {
          "base_uri": "https://localhost:8080/"
        },
        "id": "IlBjfaHLd_D-",
        "outputId": "2aa6044a-0c8d-4cf1-9cf9-0c8b8961bd13"
      },
      "outputs": [
        {
          "name": "stdout",
          "output_type": "stream",
          "text": [
            "Hello, World! 1Hello, World! 1\n"
          ]
        }
      ],
      "source": [
        "res2 = a * 2\n",
        "print(res2)"
      ]
    },
    {
      "cell_type": "code",
      "execution_count": 55,
      "metadata": {
        "colab": {
          "base_uri": "https://localhost:8080/"
        },
        "id": "VqwE5gvmehNe",
        "outputId": "edb571e4-8552-42c1-d021-17b2b1d5fc0d"
      },
      "outputs": [
        {
          "name": "stdout",
          "output_type": "stream",
          "text": [
            "\n",
            "string 1\n",
            "string 2\n",
            "string 3\n",
            "and goes on and on...\n",
            "\n"
          ]
        }
      ],
      "source": [
        "a = '''\n",
        "string 1\n",
        "string 2\n",
        "string 3\n",
        "and goes on and on...\n",
        "'''\n",
        "print(a)"
      ]
    },
    {
      "cell_type": "code",
      "execution_count": 59,
      "metadata": {
        "colab": {
          "base_uri": "https://localhost:8080/"
        },
        "id": "38eiHF9Sfz_X",
        "outputId": "d6bea74d-8d6a-4a44-ffc3-532e020f56e0"
      },
      "outputs": [
        {
          "name": "stdout",
          "output_type": "stream",
          "text": [
            "당신의 나이는?: 1\n",
            "당신의 나이는 1살입니다. 10년 전에는 -9살이었습니다.\n"
          ]
        },
        {
          "data": {
            "text/plain": [
              "str"
            ]
          },
          "execution_count": 59,
          "metadata": {},
          "output_type": "execute_result"
        }
      ],
      "source": [
        "age = int(input('당신의 나이는?: '))\n",
        "urage = f'당신의 나이는 {age}살입니다. 10년 전에는 {age - 10}살이었습니다.'\n",
        "print(urage)\n",
        "type(urage)"
      ]
    },
    {
      "cell_type": "code",
      "execution_count": 61,
      "metadata": {
        "colab": {
          "base_uri": "https://localhost:8080/",
          "height": 53
        },
        "id": "GBneFbkygH6N",
        "outputId": "e81e6c79-672e-4704-d9b3-9340fe007f30"
      },
      "outputs": [
        {
          "name": "stdout",
          "output_type": "stream",
          "text": [
            "22\n"
          ]
        },
        {
          "data": {
            "application/vnd.google.colaboratory.intrinsic+json": {
              "type": "string"
            },
            "text/plain": [
              "'하'"
            ]
          },
          "execution_count": 61,
          "metadata": {},
          "output_type": "execute_result"
        }
      ],
      "source": [
        "# 인덱싱 및 슬라이싱\n",
        "# 파이썬은 첫 번째 문자가 0부터 시작이다. R은 1부터 시작이지만...\n",
        "\n",
        "r_str = '안녕하세요. 저는 지나가던 문자열입니다.'\n",
        "print(len(r_str))\n",
        "r_str[2]"
      ]
    },
    {
      "cell_type": "code",
      "execution_count": 63,
      "metadata": {
        "colab": {
          "base_uri": "https://localhost:8080/",
          "height": 35
        },
        "id": "5nAZMPfJg5fD",
        "outputId": "f2e8897f-67cb-44e2-f62f-e79ab92fe1fe"
      },
      "outputs": [
        {
          "data": {
            "application/vnd.google.colaboratory.intrinsic+json": {
              "type": "string"
            },
            "text/plain": [
              "'열'"
            ]
          },
          "execution_count": 63,
          "metadata": {},
          "output_type": "execute_result"
        }
      ],
      "source": [
        "# 인덱싱을 음수로 하면 맨 뒤부터 가져올 수 있다. 0이 아닌 -1 부터 시작임에 주의하자.\n",
        "r_str[-5]"
      ]
    },
    {
      "cell_type": "code",
      "execution_count": 65,
      "metadata": {
        "colab": {
          "base_uri": "https://localhost:8080/"
        },
        "id": "4VnWXjTNhY1J",
        "outputId": "1bcc4bf8-cc97-4ff8-8a02-fd5bc1d271ee"
      },
      "outputs": [
        {
          "name": "stdout",
          "output_type": "stream",
          "text": [
            "안녕하세요.\n"
          ]
        }
      ],
      "source": [
        "#슬라이싱할 때는 마지막 숫자의 -1 까지만 가져온다.\n",
        "#일종의 법칙이라 생각하고 받아들이자.\n",
        "a = '안녕하세요. 저는 지나가던 문자열입니다.'\n",
        "print(a[0:6])"
      ]
    },
    {
      "cell_type": "code",
      "execution_count": 66,
      "metadata": {
        "colab": {
          "base_uri": "https://localhost:8080/"
        },
        "id": "sXx1ae4_iPu7",
        "outputId": "9fae0fde-fe59-4452-cfe3-0c4f94cbb635"
      },
      "outputs": [
        {
          "name": "stdout",
          "output_type": "stream",
          "text": [
            "안하요 \n"
          ]
        }
      ],
      "source": [
        "a = '안녕하세요. 저는 지나가던 문자열입니다.'\n",
        "print(a[0:8:2])"
      ]
    },
    {
      "cell_type": "code",
      "execution_count": 68,
      "metadata": {
        "colab": {
          "base_uri": "https://localhost:8080/"
        },
        "id": "ZN-fX-3JihiJ",
        "outputId": "09d3224e-609f-448b-eaaa-15d1738c11a5"
      },
      "outputs": [
        {
          "name": "stdout",
          "output_type": "stream",
          "text": [
            "안녕하세요.  \n",
            " 지나가던 문자열입니다.\n"
          ]
        }
      ],
      "source": [
        "a = '안녕하세요. 저는 지나가던 문자열입니다.'\n",
        "print(a[:7],'\\n', a[10:])"
      ]
    },
    {
      "cell_type": "code",
      "execution_count": 80,
      "metadata": {
        "colab": {
          "base_uri": "https://localhost:8080/"
        },
        "id": "rAdrZV0Hi4nM",
        "outputId": "1acd94a8-13b8-4576-a7a2-46d4e8225bf4"
      },
      "outputs": [
        {
          "name": "stdout",
          "output_type": "stream",
          "text": [
            "I love Python\n"
          ]
        }
      ],
      "source": [
        "smp = 'I love Rython'\n",
        "print(smp[:7] + \"P\" + smp[8:])"
      ]
    },
    {
      "cell_type": "code",
      "execution_count": 91,
      "metadata": {
        "colab": {
          "base_uri": "https://localhost:8080/"
        },
        "id": "kg8XbExwk8xn",
        "outputId": "1312eb98-c57e-49d9-b700-b189dbe4fe8e"
      },
      "outputs": [
        {
          "name": "stdout",
          "output_type": "stream",
          "text": [
            "I love Python\n",
            "I LOVE PYTHON\n"
          ]
        }
      ],
      "source": [
        "smp = 'I love Rython'\n",
        "res = smp.replace('R', 'P')\n",
        "print(res)\n",
        "\n",
        "res = res.upper()\n",
        "\n",
        "print(res)"
      ]
    },
    {
      "cell_type": "code",
      "execution_count": 92,
      "metadata": {
        "colab": {
          "base_uri": "https://localhost:8080/",
          "height": 35
        },
        "id": "_znNSrXgt8eg",
        "outputId": "9daacd79-10ea-47ee-8f49-f257f24a7672"
      },
      "outputs": [
        {
          "data": {
            "application/vnd.google.colaboratory.intrinsic+json": {
              "type": "string"
            },
            "text/plain": [
              "'I Love Python'"
            ]
          },
          "execution_count": 92,
          "metadata": {},
          "output_type": "execute_result"
        }
      ],
      "source": [
        "res.title()"
      ]
    },
    {
      "cell_type": "code",
      "execution_count": 95,
      "metadata": {
        "colab": {
          "base_uri": "https://localhost:8080/"
        },
        "id": "fU6X5caGuQ2_",
        "outputId": "b6295b18-c396-4897-e0b0-e7567c3098d3"
      },
      "outputs": [
        {
          "name": "stdout",
          "output_type": "stream",
          "text": [
            "hello\n"
          ]
        }
      ],
      "source": [
        "smptxt = 'hello, streamlit'\n",
        "words = smptxt.split(sep = ',')\n",
        "print(words[0])"
      ]
    },
    {
      "cell_type": "code",
      "execution_count": 97,
      "metadata": {
        "colab": {
          "base_uri": "https://localhost:8080/"
        },
        "id": "lTaMAdU7xo-g",
        "outputId": "cd1fa67a-4a6a-4d0a-91da-134e3bbb6855"
      },
      "outputs": [
        {
          "name": "stdout",
          "output_type": "stream",
          "text": [
            "hello, streamlit\n"
          ]
        }
      ],
      "source": [
        "sampleList = [\"hello\", 'streamlit']\n",
        "sampleList = ', '.join(sampleList)\n",
        "print(sampleList)"
      ]
    },
    {
      "cell_type": "code",
      "execution_count": 99,
      "metadata": {
        "colab": {
          "base_uri": "https://localhost:8080/"
        },
        "id": "WEOG4wBq5fpK",
        "outputId": "47aa4d94-e763-45a8-99f0-6ab03881ca2c"
      },
      "outputs": [
        {
          "name": "stdout",
          "output_type": "stream",
          "text": [
            "False\n",
            "True\n",
            "True\n"
          ]
        },
        {
          "data": {
            "text/plain": [
              "[0, 1, 2, ['Python', 'Hello'], 3, 4, 5]"
            ]
          },
          "execution_count": 99,
          "metadata": {},
          "output_type": "execute_result"
        }
      ],
      "source": [
        "from collections.abc import Sequence\n",
        "\n",
        "my_num = 100\n",
        "my_list = [1, 2, 3]\n",
        "my_string = \"hello\"\n",
        "\n",
        "is_num = isinstance(my_num, Sequence)\n",
        "is_list = isinstance(my_list, Sequence)\n",
        "is_string = isinstance(my_string, Sequence)\n",
        "\n",
        "print(is_num)\n",
        "print(is_list)\n",
        "print(is_string)"
      ]
    },
    {
      "cell_type": "code",
      "execution_count": 102,
      "metadata": {
        "colab": {
          "base_uri": "https://localhost:8080/",
          "height": 35
        },
        "id": "4vdS_T3T5h9a",
        "outputId": "2846dafd-7b30-40e1-b776-4a1a41e97881"
      },
      "outputs": [
        {
          "data": {
            "application/vnd.google.colaboratory.intrinsic+json": {
              "type": "string"
            },
            "text/plain": [
              "'e'"
            ]
          },
          "execution_count": 102,
          "metadata": {},
          "output_type": "execute_result"
        }
      ],
      "source": [
        "a = [0, 1, 2, [\"Python\", \"Hello\"], 3, 4, 5]\n",
        "a[3][1][1]"
      ]
    },
    {
      "cell_type": "code",
      "execution_count": 107,
      "metadata": {
        "colab": {
          "base_uri": "https://localhost:8080/"
        },
        "id": "Q9M4bL1Y6GK6",
        "outputId": "b79c1d7e-5a76-4b38-a63b-80e45322b70e"
      },
      "outputs": [
        {
          "data": {
            "text/plain": [
              "['iM', '뱅크', 'academy']"
            ]
          },
          "execution_count": 107,
          "metadata": {},
          "output_type": "execute_result"
        }
      ],
      "source": [
        "bank = [\"iM\", '뱅크']\n",
        "bank.append('academy')\n",
        "bank"
      ]
    },
    {
      "cell_type": "code",
      "execution_count": 109,
      "metadata": {
        "colab": {
          "base_uri": "https://localhost:8080/"
        },
        "id": "dR8hiKv0662z",
        "outputId": "25198f32-72fc-4934-807b-37de248bd353"
      },
      "outputs": [
        {
          "data": {
            "text/plain": [
              "[100, 200, [300, 400]]"
            ]
          },
          "execution_count": 109,
          "metadata": {},
          "output_type": "execute_result"
        }
      ],
      "source": [
        "a = [100, 200]\n",
        "a.append([300, 400])\n",
        "a"
      ]
    },
    {
      "cell_type": "code",
      "execution_count": 111,
      "metadata": {
        "colab": {
          "base_uri": "https://localhost:8080/"
        },
        "id": "xIsc10KW6TeD",
        "outputId": "406b6271-6918-498c-ebca-7f67bfa9a871"
      },
      "outputs": [
        {
          "data": {
            "text/plain": [
              "[100, 200, 300, 400]"
            ]
          },
          "execution_count": 111,
          "metadata": {},
          "output_type": "execute_result"
        }
      ],
      "source": [
        "a = [100, 200]\n",
        "a.extend([300, 400])\n",
        "a"
      ]
    },
    {
      "cell_type": "markdown",
      "metadata": {
        "id": "H5S2BNZN7j9q"
      },
      "source": [
        "## 리스트값 변경 및 삭제"
      ]
    },
    {
      "cell_type": "code",
      "execution_count": 112,
      "metadata": {
        "colab": {
          "base_uri": "https://localhost:8080/"
        },
        "id": "bYRtvrmX7pgH",
        "outputId": "861e85a7-80db-4ad9-cc20-4ebaedd1fc4d"
      },
      "outputs": [
        {
          "data": {
            "text/plain": [
              "[564, 421, 888, 4810, 7642]"
            ]
          },
          "execution_count": 112,
          "metadata": {},
          "output_type": "execute_result"
        }
      ],
      "source": [
        "nums = [301,421, 888, 4810, 7642]\n",
        "nums[0] = 564\n",
        "nums"
      ]
    },
    {
      "cell_type": "code",
      "execution_count": 113,
      "metadata": {
        "colab": {
          "base_uri": "https://localhost:8080/",
          "height": 183
        },
        "id": "Kcz4N05a8q_b",
        "outputId": "37356c47-0c34-4b02-cd90-f8683974c546"
      },
      "outputs": [
        {
          "ename": "TypeError",
          "evalue": "'tuple' object does not support item assignment",
          "output_type": "error",
          "traceback": [
            "\u001b[0;31m---------------------------------------------------------------------------\u001b[0m",
            "\u001b[0;31mTypeError\u001b[0m                                 Traceback (most recent call last)",
            "\u001b[0;32m<ipython-input-113-17d18247f08b>\u001b[0m in \u001b[0;36m<cell line: 2>\u001b[0;34m()\u001b[0m\n\u001b[1;32m      1\u001b[0m \u001b[0mnums\u001b[0m \u001b[0;34m=\u001b[0m \u001b[0;34m(\u001b[0m\u001b[0;36m301\u001b[0m\u001b[0;34m,\u001b[0m\u001b[0;36m421\u001b[0m\u001b[0;34m,\u001b[0m \u001b[0;36m888\u001b[0m\u001b[0;34m,\u001b[0m \u001b[0;36m4810\u001b[0m\u001b[0;34m,\u001b[0m \u001b[0;36m7642\u001b[0m\u001b[0;34m)\u001b[0m\u001b[0;34m\u001b[0m\u001b[0;34m\u001b[0m\u001b[0m\n\u001b[0;32m----> 2\u001b[0;31m \u001b[0mnums\u001b[0m\u001b[0;34m[\u001b[0m\u001b[0;36m0\u001b[0m\u001b[0;34m]\u001b[0m \u001b[0;34m=\u001b[0m \u001b[0;36m564\u001b[0m\u001b[0;34m\u001b[0m\u001b[0;34m\u001b[0m\u001b[0m\n\u001b[0m\u001b[1;32m      3\u001b[0m \u001b[0mnums\u001b[0m\u001b[0;34m\u001b[0m\u001b[0;34m\u001b[0m\u001b[0m\n",
            "\u001b[0;31mTypeError\u001b[0m: 'tuple' object does not support item assignment"
          ]
        }
      ],
      "source": [
        "nums = (301,421, 888, 4810, 7642)\n",
        "nums[0] = 564\n",
        "nums"
      ]
    },
    {
      "cell_type": "code",
      "execution_count": 121,
      "metadata": {
        "colab": {
          "base_uri": "https://localhost:8080/"
        },
        "id": "G9BtnCNj9I7S",
        "outputId": "44ed088a-c7a7-4b6a-c47f-f2a9a343b558"
      },
      "outputs": [
        {
          "data": {
            "text/plain": [
              "[421, 888, 7642]"
            ]
          },
          "execution_count": 121,
          "metadata": {},
          "output_type": "execute_result"
        }
      ],
      "source": [
        "nums = [301,421, 888, 4810, 7642]\n",
        "\n",
        "nums.remove(4810)\n",
        "nums.remove(nums[0])\n",
        "nums"
      ]
    },
    {
      "cell_type": "code",
      "execution_count": 119,
      "metadata": {
        "colab": {
          "base_uri": "https://localhost:8080/"
        },
        "id": "hcENRSJV9Z5o",
        "outputId": "2356ff78-302f-48f3-cc4b-826cdacb2d0a"
      },
      "outputs": [
        {
          "data": {
            "text/plain": [
              "[421, 888, 4810, 7642]"
            ]
          },
          "execution_count": 119,
          "metadata": {},
          "output_type": "execute_result"
        }
      ],
      "source": [
        "nums = [301,421, 888, 4810, 7642]\n",
        "\n",
        "del nums[0]\n",
        "nums"
      ]
    },
    {
      "cell_type": "code",
      "execution_count": 126,
      "metadata": {
        "colab": {
          "base_uri": "https://localhost:8080/",
          "height": 35
        },
        "id": "RKbBpRrH_GNY",
        "outputId": "c017f469-8733-4dd9-cae5-071ba25ef22d"
      },
      "outputs": [
        {
          "data": {
            "application/vnd.google.colaboratory.intrinsic+json": {
              "type": "string"
            },
            "text/plain": [
              "'data analyst'"
            ]
          },
          "execution_count": 126,
          "metadata": {},
          "output_type": "execute_result"
        }
      ],
      "source": [
        "my_list = {\n",
        "    'want1' : 'gulfmaster',\n",
        "    'job' : 'data analyst',\n",
        "    'buy list' : [1,2,3,4],\n",
        "    'others' : {'1' 'really others'}\n",
        "}\n",
        "my_list['job']"
      ]
    },
    {
      "cell_type": "code",
      "execution_count": 133,
      "metadata": {
        "colab": {
          "base_uri": "https://localhost:8080/",
          "height": 35
        },
        "id": "3hbeobpE_4jX",
        "outputId": "940f2533-9ad7-46a7-8693-af0d6fd3d287"
      },
      "outputs": [
        {
          "data": {
            "application/vnd.google.colaboratory.intrinsic+json": {
              "type": "string"
            },
            "text/plain": [
              "'o'"
            ]
          },
          "execution_count": 133,
          "metadata": {},
          "output_type": "execute_result"
        }
      ],
      "source": [
        "my_dic = {\n",
        "    \"name\" : \"evan\",\n",
        "    \"age\" : 20,\n",
        "    \"job\" : \"강사\",\n",
        "    \"쇼핑목록\" : [0, 1, 2, [\"Python\", \"Hello\"], 3, 4, 5],\n",
        "    \"그외\" : (1, 2, 3),\n",
        "    \"그외2\" : {\"key\" : \"value\"}\n",
        "}\n",
        "\n",
        "my_dic['쇼핑목록'][3][1][-1]"
      ]
    },
    {
      "cell_type": "code",
      "execution_count": 134,
      "metadata": {
        "colab": {
          "base_uri": "https://localhost:8080/"
        },
        "id": "TS3UeYQ8AvQu",
        "outputId": "05104071-7fa8-4c67-aaee-7a8315999cc0"
      },
      "outputs": [
        {
          "data": {
            "text/plain": [
              "{'name': 'evan',\n",
              " 'age': 20,\n",
              " 'job': '강사',\n",
              " '쇼핑목록': [0, 1, 2, ['Python', 'Hello'], 3, 4, 5],\n",
              " '그외': (1, 2, 3),\n",
              " '그외2': {'key': 'value'},\n",
              " 'name2': 'bbbb'}"
            ]
          },
          "execution_count": 134,
          "metadata": {},
          "output_type": "execute_result"
        }
      ],
      "source": [
        "my_dic['name2'] = 'bbbb'\n",
        "my_dic"
      ]
    },
    {
      "cell_type": "code",
      "execution_count": 137,
      "metadata": {
        "colab": {
          "base_uri": "https://localhost:8080/"
        },
        "id": "DR2f8WTvA8oV",
        "outputId": "9f4714c5-9563-4d76-d0d1-9d5ec6f4ec61"
      },
      "outputs": [
        {
          "data": {
            "text/plain": [
              "{'name': 'evan',\n",
              " 'age': 20,\n",
              " 'job': '강사',\n",
              " '쇼핑목록': [0, 1, 2, ['Python', 'Hello'], 3, 4, 5],\n",
              " '그외': ['list1', 'list2', 'temp3'],\n",
              " '그외2': {'key': 'value'},\n",
              " 'name2': 'bbbb'}"
            ]
          },
          "execution_count": 137,
          "metadata": {},
          "output_type": "execute_result"
        }
      ],
      "source": [
        "my_dic['그외'] = ['list1', 'list2', 'temp3']\n",
        "my_dic"
      ]
    },
    {
      "cell_type": "code",
      "execution_count": 141,
      "metadata": {
        "colab": {
          "base_uri": "https://localhost:8080/"
        },
        "id": "Xive2N63BMSD",
        "outputId": "28f4de5b-6797-48d8-d230-f5e83a9053be"
      },
      "outputs": [
        {
          "name": "stdout",
          "output_type": "stream",
          "text": [
            "dict_keys(['name', 'age', 'job', '쇼핑목록', '그외', '그외2', 'name2']) \n",
            "\n",
            "dict_values(['evan', 20, '강사', [0, 1, 2, ['Python', 'Hello'], 3, 4, 5], ['list1', 'list2', 'temp3'], {'key': 'value'}, 'bbbb']) \n",
            "\n",
            "dict_items([('name', 'evan'), ('age', 20), ('job', '강사'), ('쇼핑목록', [0, 1, 2, ['Python', 'Hello'], 3, 4, 5]), ('그외', ['list1', 'list2', 'temp3']), ('그외2', {'key': 'value'}), ('name2', 'bbbb')])\n"
          ]
        }
      ],
      "source": [
        "print(my_dic.keys(), '\\n')\n",
        "print(my_dic.values(), '\\n')\n",
        "print(my_dic.items())"
      ]
    },
    {
      "cell_type": "code",
      "execution_count": 145,
      "metadata": {
        "colab": {
          "base_uri": "https://localhost:8080/"
        },
        "id": "T8O6tH1TBs2d",
        "outputId": "039de92f-02bf-4abc-fe66-fee5b36956e2"
      },
      "outputs": [
        {
          "data": {
            "text/plain": [
              "[('name', 'evan'),\n",
              " ('age', 20),\n",
              " ('job', '강사'),\n",
              " ('쇼핑목록', [0, 1, 2, ['Python', 'Hello'], 3, 4, 5]),\n",
              " ('그외', ['list1', 'list2', 'temp3']),\n",
              " ('그외2', {'key': 'value'}),\n",
              " ('name2', 'bbbb')]"
            ]
          },
          "execution_count": 145,
          "metadata": {},
          "output_type": "execute_result"
        }
      ],
      "source": [
        "list(my_dic.items())"
      ]
    }
  ],
  "metadata": {
    "colab": {
      "provenance": [],
      "toc_visible": true
    },
    "kernelspec": {
      "display_name": "Python 3",
      "name": "python3"
    },
    "language_info": {
      "codemirror_mode": {
        "name": "ipython",
        "version": 3
      },
      "file_extension": ".py",
      "mimetype": "text/x-python",
      "name": "python",
      "nbconvert_exporter": "python",
      "pygments_lexer": "ipython3",
      "version": "3.12.6"
    }
  },
  "nbformat": 4,
  "nbformat_minor": 0
}
