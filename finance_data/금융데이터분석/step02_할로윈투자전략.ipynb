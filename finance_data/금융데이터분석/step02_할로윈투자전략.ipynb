{
 "cells": [
  {
   "cell_type": "markdown",
   "id": "d78fcad2-751c-42a9-a220-9aa39bcd4675",
   "metadata": {},
   "source": [
    "# 09. 할로윈 투자 전략"
   ]
  },
  {
   "cell_type": "markdown",
   "id": "a7074a83-8041-4cc7-803e-45a803bf0be1",
   "metadata": {},
   "source": [
    "## 9.1 할로윈 투자 전략"
   ]
  },
  {
   "cell_type": "code",
   "execution_count": 12,
   "id": "29968bcc-1dce-4cd7-a6aa-1a5fecebc567",
   "metadata": {},
   "outputs": [],
   "source": [
    "import FinanceDataReader as fdr\n",
    "\n",
    "# kospi = fdr.DataReader(symbol=\"KS11\", start=\"2000\") # 현재 에러 발생 중 체크 필요\n",
    "# kospi.to_excel(\"data/kospi.xlsx\")"
   ]
  },
  {
   "cell_type": "code",
   "execution_count": 9,
   "id": "a50880e6-79b0-4758-9d73-49792a5e5f8a",
   "metadata": {},
   "outputs": [
    {
     "data": {
      "text/html": [
       "<div>\n",
       "<style scoped>\n",
       "    .dataframe tbody tr th:only-of-type {\n",
       "        vertical-align: middle;\n",
       "    }\n",
       "\n",
       "    .dataframe tbody tr th {\n",
       "        vertical-align: top;\n",
       "    }\n",
       "\n",
       "    .dataframe thead th {\n",
       "        text-align: right;\n",
       "    }\n",
       "</style>\n",
       "<table border=\"1\" class=\"dataframe\">\n",
       "  <thead>\n",
       "    <tr style=\"text-align: right;\">\n",
       "      <th></th>\n",
       "      <th>Close</th>\n",
       "      <th>Open</th>\n",
       "      <th>High</th>\n",
       "      <th>Low</th>\n",
       "      <th>Volume</th>\n",
       "      <th>Change</th>\n",
       "    </tr>\n",
       "    <tr>\n",
       "      <th>Date</th>\n",
       "      <th></th>\n",
       "      <th></th>\n",
       "      <th></th>\n",
       "      <th></th>\n",
       "      <th></th>\n",
       "      <th></th>\n",
       "    </tr>\n",
       "  </thead>\n",
       "  <tbody>\n",
       "    <tr>\n",
       "      <th>2000-01-04</th>\n",
       "      <td>1059.04</td>\n",
       "      <td>1028.33</td>\n",
       "      <td>1066.18</td>\n",
       "      <td>1016.59</td>\n",
       "      <td>195900000.0</td>\n",
       "      <td>0.0301</td>\n",
       "    </tr>\n",
       "    <tr>\n",
       "      <th>2000-01-05</th>\n",
       "      <td>986.31</td>\n",
       "      <td>1006.87</td>\n",
       "      <td>1026.52</td>\n",
       "      <td>984.05</td>\n",
       "      <td>257700000.0</td>\n",
       "      <td>-0.0687</td>\n",
       "    </tr>\n",
       "    <tr>\n",
       "      <th>2000-01-06</th>\n",
       "      <td>960.79</td>\n",
       "      <td>1013.95</td>\n",
       "      <td>1014.90</td>\n",
       "      <td>953.50</td>\n",
       "      <td>203520000.0</td>\n",
       "      <td>-0.0259</td>\n",
       "    </tr>\n",
       "    <tr>\n",
       "      <th>2000-01-07</th>\n",
       "      <td>948.65</td>\n",
       "      <td>949.17</td>\n",
       "      <td>970.16</td>\n",
       "      <td>930.84</td>\n",
       "      <td>215660000.0</td>\n",
       "      <td>-0.0126</td>\n",
       "    </tr>\n",
       "    <tr>\n",
       "      <th>2000-01-10</th>\n",
       "      <td>987.24</td>\n",
       "      <td>979.67</td>\n",
       "      <td>994.94</td>\n",
       "      <td>965.02</td>\n",
       "      <td>240180000.0</td>\n",
       "      <td>0.0407</td>\n",
       "    </tr>\n",
       "  </tbody>\n",
       "</table>\n",
       "</div>"
      ],
      "text/plain": [
       "              Close     Open     High      Low       Volume  Change\n",
       "Date                                                               \n",
       "2000-01-04  1059.04  1028.33  1066.18  1016.59  195900000.0  0.0301\n",
       "2000-01-05   986.31  1006.87  1026.52   984.05  257700000.0 -0.0687\n",
       "2000-01-06   960.79  1013.95  1014.90   953.50  203520000.0 -0.0259\n",
       "2000-01-07   948.65   949.17   970.16   930.84  215660000.0 -0.0126\n",
       "2000-01-10   987.24   979.67   994.94   965.02  240180000.0  0.0407"
      ]
     },
     "execution_count": 9,
     "metadata": {},
     "output_type": "execute_result"
    }
   ],
   "source": [
    "import pandas as pd\n",
    "\n",
    "kospi = pd.read_excel(\"data/kospi.xlsx\", index_col=0)\n",
    "kospi.head()"
   ]
  },
  {
   "cell_type": "code",
   "execution_count": 14,
   "id": "e28f368b-2fb1-4094-a554-803e573545ab",
   "metadata": {},
   "outputs": [
    {
     "data": {
      "text/html": [
       "<div>\n",
       "<style scoped>\n",
       "    .dataframe tbody tr th:only-of-type {\n",
       "        vertical-align: middle;\n",
       "    }\n",
       "\n",
       "    .dataframe tbody tr th {\n",
       "        vertical-align: top;\n",
       "    }\n",
       "\n",
       "    .dataframe thead th {\n",
       "        text-align: right;\n",
       "    }\n",
       "</style>\n",
       "<table border=\"1\" class=\"dataframe\">\n",
       "  <thead>\n",
       "    <tr style=\"text-align: right;\">\n",
       "      <th></th>\n",
       "      <th>Close</th>\n",
       "      <th>Open</th>\n",
       "      <th>High</th>\n",
       "      <th>Low</th>\n",
       "      <th>Volume</th>\n",
       "      <th>Change</th>\n",
       "    </tr>\n",
       "    <tr>\n",
       "      <th>Date</th>\n",
       "      <th></th>\n",
       "      <th></th>\n",
       "      <th></th>\n",
       "      <th></th>\n",
       "      <th></th>\n",
       "      <th></th>\n",
       "    </tr>\n",
       "  </thead>\n",
       "  <tbody>\n",
       "    <tr>\n",
       "      <th>2000-11-01</th>\n",
       "      <td>548.76</td>\n",
       "      <td>524.69</td>\n",
       "      <td>550.06</td>\n",
       "      <td>522.78</td>\n",
       "      <td>366440000.0</td>\n",
       "      <td>0.0666</td>\n",
       "    </tr>\n",
       "  </tbody>\n",
       "</table>\n",
       "</div>"
      ],
      "text/plain": [
       "             Close    Open    High     Low       Volume  Change\n",
       "Date                                                           \n",
       "2000-11-01  548.76  524.69  550.06  522.78  366440000.0  0.0666"
      ]
     },
     "execution_count": 14,
     "metadata": {},
     "output_type": "execute_result"
    }
   ],
   "source": [
    "kospi.loc[\"2000-11\"].head(1)"
   ]
  },
  {
   "cell_type": "code",
   "execution_count": 15,
   "id": "c0201e17-00de-4185-bfbe-2ccbee0cd751",
   "metadata": {},
   "outputs": [
    {
     "data": {
      "text/html": [
       "<div>\n",
       "<style scoped>\n",
       "    .dataframe tbody tr th:only-of-type {\n",
       "        vertical-align: middle;\n",
       "    }\n",
       "\n",
       "    .dataframe tbody tr th {\n",
       "        vertical-align: top;\n",
       "    }\n",
       "\n",
       "    .dataframe thead th {\n",
       "        text-align: right;\n",
       "    }\n",
       "</style>\n",
       "<table border=\"1\" class=\"dataframe\">\n",
       "  <thead>\n",
       "    <tr style=\"text-align: right;\">\n",
       "      <th></th>\n",
       "      <th>Close</th>\n",
       "      <th>Open</th>\n",
       "      <th>High</th>\n",
       "      <th>Low</th>\n",
       "      <th>Volume</th>\n",
       "      <th>Change</th>\n",
       "    </tr>\n",
       "    <tr>\n",
       "      <th>Date</th>\n",
       "      <th></th>\n",
       "      <th></th>\n",
       "      <th></th>\n",
       "      <th></th>\n",
       "      <th></th>\n",
       "      <th></th>\n",
       "    </tr>\n",
       "  </thead>\n",
       "  <tbody>\n",
       "    <tr>\n",
       "      <th>2001-04-02</th>\n",
       "      <td>515.2</td>\n",
       "      <td>520.56</td>\n",
       "      <td>522.09</td>\n",
       "      <td>512.4</td>\n",
       "      <td>231820000.0</td>\n",
       "      <td>-0.0153</td>\n",
       "    </tr>\n",
       "  </tbody>\n",
       "</table>\n",
       "</div>"
      ],
      "text/plain": [
       "            Close    Open    High    Low       Volume  Change\n",
       "Date                                                         \n",
       "2001-04-02  515.2  520.56  522.09  512.4  231820000.0 -0.0153"
      ]
     },
     "execution_count": 15,
     "metadata": {},
     "output_type": "execute_result"
    }
   ],
   "source": [
    "kospi.loc[\"2001-04\"].head(1)"
   ]
  },
  {
   "cell_type": "markdown",
   "id": "2c9d4b58-30ab-4e7a-bf4b-256eaad36c51",
   "metadata": {},
   "source": [
    "- Backtest : 주어진 포트폴리오로 과거의 역사에 대입해보고 주가의 흐름이나 수익률을 볼 수 있는 방법"
   ]
  },
  {
   "cell_type": "code",
   "execution_count": 17,
   "id": "919d2218-40de-48d9-8bc1-5c692e6e11d7",
   "metadata": {},
   "outputs": [
    {
     "name": "stdout",
     "output_type": "stream",
     "text": [
      "2000-11 2001-04\n",
      "2001-11 2002-04\n",
      "2002-11 2003-04\n",
      "2003-11 2004-04\n",
      "2004-11 2005-04\n",
      "2005-11 2006-04\n",
      "2006-11 2007-04\n",
      "2007-11 2008-04\n",
      "2008-11 2009-04\n",
      "2009-11 2010-04\n",
      "2010-11 2011-04\n",
      "2011-11 2012-04\n",
      "2012-11 2013-04\n",
      "2013-11 2014-04\n",
      "2014-11 2015-04\n",
      "2015-11 2016-04\n",
      "2016-11 2017-04\n",
      "2017-11 2018-04\n",
      "2018-11 2019-04\n",
      "2019-11 2020-04\n",
      "2020-11 2021-04\n"
     ]
    }
   ],
   "source": [
    "누적수익률 = 1\n",
    "\n",
    "for year in range(2000, 2021):\n",
    "    buy_mon = str(year) + '-11'\n",
    "    sell_mon = str(year+1) + '-04'\n",
    "    print(buy_mon, sell_mon)"
   ]
  },
  {
   "cell_type": "markdown",
   "id": "a2a78b2a-49fe-4911-9724-1ed243335ac2",
   "metadata": {},
   "source": [
    "- 누적 수익률"
   ]
  },
  {
   "cell_type": "code",
   "execution_count": 18,
   "id": "f6be5426-ec78-44ea-b895-dc57903f099e",
   "metadata": {},
   "outputs": [
    {
     "name": "stdout",
     "output_type": "stream",
     "text": [
      "6.18585306815823\n"
     ]
    }
   ],
   "source": [
    "누적수익률 = 1\n",
    "\n",
    "for year in range(2000, 2021):\n",
    "    buy_mon = str(year) + '-11'\n",
    "    sell_mon = str(year+1) + '-04'\n",
    "    #print(buy_mon, sell_mon)\n",
    "    \n",
    "    # 매수가\n",
    "    매수가 = kospi.loc[buy_mon].iloc[0]['Open']\n",
    "    \n",
    "    # 매도가\n",
    "    매도가 = kospi.loc[sell_mon].iloc[-1]['Close']\n",
    "    \n",
    "    # 수익률 \n",
    "    수익률 = 매도가/매수가\n",
    "    누적수익률 = 누적수익률 * 수익률\n",
    "    \n",
    "print(누적수익률)"
   ]
  },
  {
   "cell_type": "markdown",
   "id": "0ff11a0b-0a0b-49ce-8490-3835ab31fea5",
   "metadata": {},
   "source": [
    "- 연평균 수익률"
   ]
  },
  {
   "cell_type": "code",
   "execution_count": 19,
   "id": "da3c6a5f-4422-4f2d-a670-40e343f904dc",
   "metadata": {},
   "outputs": [
    {
     "data": {
      "text/plain": [
       "9.06507321504515"
      ]
     },
     "execution_count": 19,
     "metadata": {},
     "output_type": "execute_result"
    }
   ],
   "source": [
    "CAGR = (누적수익률 ** (1/21)) -1  # 투자기간 21년\n",
    "CAGR * 100"
   ]
  },
  {
   "cell_type": "markdown",
   "id": "27033788-812f-47d3-92fd-e377c81a94ab",
   "metadata": {},
   "source": [
    "- 단순 보유한 경우의 연평균수익률도 5.44%"
   ]
  },
  {
   "cell_type": "code",
   "execution_count": 21,
   "id": "9cbcc4ef-2978-4142-a444-eeef6c8302c3",
   "metadata": {},
   "outputs": [
    {
     "data": {
      "text/plain": [
       "5.449703577738263"
      ]
     },
     "execution_count": 21,
     "metadata": {},
     "output_type": "execute_result"
    }
   ],
   "source": [
    "단순보유누적수익률 = kospi.iloc[-1]['Close'] / kospi.iloc[0]['Open']\n",
    "단순보유CAGR = 단순보유누적수익률 ** (1/21) - 1\n",
    "단순보유CAGR * 100"
   ]
  },
  {
   "cell_type": "markdown",
   "id": "c27898ab-8b00-476b-8892-68ff17ebf1d5",
   "metadata": {},
   "source": [
    "## 9.2 할로운 투자전략 백테스팅"
   ]
  },
  {
   "cell_type": "code",
   "execution_count": 22,
   "id": "ddbe5ff1-1ade-444e-ab6b-6e7beee5084e",
   "metadata": {},
   "outputs": [
    {
     "name": "stdout",
     "output_type": "stream",
     "text": [
      "2000-11\n",
      "2001-04\n"
     ]
    }
   ],
   "source": [
    "import datetime\n",
    "from dateutil.relativedelta import relativedelta\n",
    "\n",
    "start = datetime.datetime(year=2000, month=11, day=1)\n",
    "end = start + relativedelta(months=5)\n",
    "\n",
    "print(start.strftime(\"%Y-%m\"))\n",
    "print(end.strftime(\"%Y-%m\"))"
   ]
  },
  {
   "cell_type": "code",
   "execution_count": 23,
   "id": "9394c685-dbf6-4bfe-9d5b-78f68666032f",
   "metadata": {},
   "outputs": [],
   "source": [
    "def 투자6개월(df, start_year=2000, end_year=2020, month=11):    \n",
    "    \n",
    "    for year in range(start_year, end_year): \n",
    "        start = datetime.datetime(year=year, month=month, day=1)\n",
    "        end = start + relativedelta(months=5)\n",
    "        \n",
    "        print(start.strftime(\"%Y-%m\"), end.strftime(\"%Y-%m\"))"
   ]
  },
  {
   "cell_type": "code",
   "execution_count": 24,
   "id": "270214b7-afa8-4887-9c4f-fb282179c815",
   "metadata": {},
   "outputs": [
    {
     "name": "stdout",
     "output_type": "stream",
     "text": [
      "2000-12 2001-05\n",
      "2001-12 2002-05\n",
      "2002-12 2003-05\n",
      "2003-12 2004-05\n",
      "2004-12 2005-05\n",
      "2005-12 2006-05\n",
      "2006-12 2007-05\n",
      "2007-12 2008-05\n",
      "2008-12 2009-05\n",
      "2009-12 2010-05\n",
      "2010-12 2011-05\n",
      "2011-12 2012-05\n",
      "2012-12 2013-05\n",
      "2013-12 2014-05\n",
      "2014-12 2015-05\n",
      "2015-12 2016-05\n",
      "2016-12 2017-05\n",
      "2017-12 2018-05\n",
      "2018-12 2019-05\n",
      "2019-12 2020-05\n"
     ]
    }
   ],
   "source": [
    "투자6개월(None, start_year=2000, end_year=2020, month=12)"
   ]
  },
  {
   "cell_type": "code",
   "execution_count": 25,
   "id": "fc417417-a08f-4dad-a225-510a41e0e33c",
   "metadata": {},
   "outputs": [],
   "source": [
    "def 투자6개월(df, start_year=2000, end_year=2020, month=11):    \n",
    "    누적수익률 = 1\n",
    "    \n",
    "    for year in range(start_year, end_year): \n",
    "        start = datetime.datetime(year=year, month=month, day=1)\n",
    "        end = start + relativedelta(months=5)\n",
    "        \n",
    "        buy_mon = start.strftime(\"%Y-%m\")\n",
    "        sell_mon = end.strftime(\"%Y-%m\")\n",
    "        \n",
    "        # 매수가\n",
    "        매수가 = df.loc[buy_mon].iloc[0]['Open']\n",
    "    \n",
    "        # 매도가\n",
    "        매도가 = df.loc[sell_mon].iloc[-1]['Close']\n",
    "    \n",
    "        # 수익률 \n",
    "        수익률 = 매도가/매수가\n",
    "        누적수익률 = 누적수익률 * 수익률\n",
    "    return 누적수익률"
   ]
  },
  {
   "cell_type": "code",
   "execution_count": 26,
   "id": "47bae2fd-a0c0-4d87-999b-92148b006250",
   "metadata": {},
   "outputs": [
    {
     "data": {
      "text/plain": [
       "6.18585306815823"
      ]
     },
     "execution_count": 26,
     "metadata": {},
     "output_type": "execute_result"
    }
   ],
   "source": [
    "투자6개월(kospi, start_year=2000, end_year=2021, month=11)"
   ]
  },
  {
   "cell_type": "code",
   "execution_count": 27,
   "id": "e5302e28-c44a-4c4f-9b39-159240b5ac4d",
   "metadata": {},
   "outputs": [
    {
     "name": "stdout",
     "output_type": "stream",
     "text": [
      "01 1.64\n",
      "02 1.72\n",
      "03 1.64\n",
      "04 1.45\n",
      "05 0.64\n",
      "06 1.16\n",
      "07 1.65\n",
      "08 1.81\n",
      "09 2.03\n",
      "10 2.50\n",
      "11 6.19\n",
      "12 3.68\n"
     ]
    }
   ],
   "source": [
    "for month in range(1, 12+1):\n",
    "    ret = 투자6개월(kospi, start_year=2000, end_year=2021, month=month)\n",
    "    print(f\"{month:02} {ret:.2f}\")"
   ]
  },
  {
   "cell_type": "markdown",
   "id": "f205ac41-8a62-4332-bc6c-e7eeff6236d7",
   "metadata": {},
   "source": [
    "## 9.3 할로윈 투자 전략 시각화"
   ]
  },
  {
   "cell_type": "code",
   "execution_count": 28,
   "id": "1e6b2fb3-c4ef-4749-918b-25b9ee60c615",
   "metadata": {},
   "outputs": [
    {
     "data": {
      "text/plain": [
       "{1: 1.6431293835895036,\n",
       " 2: 1.717483878326282,\n",
       " 3: 1.643198522740701,\n",
       " 4: 1.4531102639420366,\n",
       " 5: 0.644593093127309,\n",
       " 6: 1.162174968269313,\n",
       " 7: 1.650871779226284,\n",
       " 8: 1.8112056687936806,\n",
       " 9: 2.0260433117752066,\n",
       " 10: 2.496730984896318,\n",
       " 11: 6.18585306815823,\n",
       " 12: 3.684635391900742}"
      ]
     },
     "execution_count": 28,
     "metadata": {},
     "output_type": "execute_result"
    }
   ],
   "source": [
    "data = {}\n",
    "\n",
    "for month in range(1, 12+1):\n",
    "    ret = 투자6개월(kospi, start_year=2000, end_year=2021, month=month)\n",
    "    data[month] = ret\n",
    "\n",
    "data"
   ]
  },
  {
   "cell_type": "code",
   "execution_count": 29,
   "id": "39e37c13-5764-4f3a-9424-18024001e87d",
   "metadata": {},
   "outputs": [
    {
     "data": {
      "text/plain": [
       "dict_keys([1, 2, 3, 4, 5, 6, 7, 8, 9, 10, 11, 12])"
      ]
     },
     "execution_count": 29,
     "metadata": {},
     "output_type": "execute_result"
    }
   ],
   "source": [
    "data.keys()"
   ]
  },
  {
   "cell_type": "code",
   "execution_count": 31,
   "id": "52f8cd6d-eb23-46bd-a984-91df56451acd",
   "metadata": {},
   "outputs": [
    {
     "data": {
      "image/png": "[encoded data removed]",
      "text/plain": [
       "<Figure size 1500x800 with 1 Axes>"
      ]
     },
     "metadata": {},
     "output_type": "display_data"
    }
   ],
   "source": [
    "import matplotlib.pyplot as plt\n",
    "import platform\n",
    "\n",
    "# 한글처리\n",
    "if platform.system() == 'Darwin':\n",
    "    plt.rc('font', family='AppleGothic') \n",
    "else:\n",
    "    plt.rc('font', family='Malgun Gothic') \n",
    "    \n",
    "fig = plt.figure(figsize=(15, 8))\n",
    "ax = fig.add_subplot(1, 1, 1)\n",
    "\n",
    "ax.bar(\n",
    "    x=list(data.keys()), \n",
    "    height=list(data.values()), \n",
    "    width=0.5, \n",
    "    color='skyblue'\n",
    ")\n",
    "\n",
    "plt.title(\"코스피 투 시작월별 6개월 성과(2020~)\")\n",
    "plt.xlabel(\"투자 시작월\")\n",
    "plt.ylabel(\"누적수익률\")\n",
    "\n",
    "plt.show()"
   ]
  },
  {
   "cell_type": "code",
   "execution_count": null,
   "id": "0badce68-e9bf-4905-ba95-4c8a42c647ce",
   "metadata": {},
   "outputs": [],
   "source": []
  }
 ],
 "metadata": {
  "kernelspec": {
   "display_name": "Python 3 (ipykernel)",
   "language": "python",
   "name": "python3"
  },
  "language_info": {
   "codemirror_mode": {
    "name": "ipython",
    "version": 3
   },
   "file_extension": ".py",
   "mimetype": "text/x-python",
   "name": "python",
   "nbconvert_exporter": "python",
   "pygments_lexer": "ipython3",
   "version": "3.12.6"
  }
 },
 "nbformat": 4,
 "nbformat_minor": 5
}
