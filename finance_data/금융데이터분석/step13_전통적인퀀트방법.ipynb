{
 "cells": [
  {
   "cell_type": "markdown",
   "metadata": {},
   "source": [
    "# 라이브러리 설치"
   ]
  },
  {
   "cell_type": "code",
   "execution_count": 9,
   "metadata": {},
   "outputs": [
    {
     "name": "stdout",
     "output_type": "stream",
     "text": [
      "Requirement already satisfied: finance-datareader in c:\\users\\campus3s043\\desktop\\alpaco_lectures\\venv\\lib\\site-packages (0.9.94)\n",
      "Requirement already satisfied: pandas>=0.19.2 in c:\\users\\campus3s043\\desktop\\alpaco_lectures\\venv\\lib\\site-packages (from finance-datareader) (2.2.3)\n",
      "Requirement already satisfied: requests>=2.3.0 in c:\\users\\campus3s043\\desktop\\alpaco_lectures\\venv\\lib\\site-packages (from finance-datareader) (2.32.3)\n",
      "Requirement already satisfied: requests-file in c:\\users\\campus3s043\\desktop\\alpaco_lectures\\venv\\lib\\site-packages (from finance-datareader) (2.1.0)\n",
      "Requirement already satisfied: lxml in c:\\users\\campus3s043\\desktop\\alpaco_lectures\\venv\\lib\\site-packages (from finance-datareader) (5.3.0)\n",
      "Requirement already satisfied: tqdm in c:\\users\\campus3s043\\desktop\\alpaco_lectures\\venv\\lib\\site-packages (from finance-datareader) (4.67.1)\n",
      "Requirement already satisfied: numpy>=1.26.0 in c:\\users\\campus3s043\\desktop\\alpaco_lectures\\venv\\lib\\site-packages (from pandas>=0.19.2->finance-datareader) (1.26.4)\n",
      "Requirement already satisfied: python-dateutil>=2.8.2 in c:\\users\\campus3s043\\desktop\\alpaco_lectures\\venv\\lib\\site-packages (from pandas>=0.19.2->finance-datareader) (2.9.0.post0)\n",
      "Requirement already satisfied: pytz>=2020.1 in c:\\users\\campus3s043\\desktop\\alpaco_lectures\\venv\\lib\\site-packages (from pandas>=0.19.2->finance-datareader) (2024.2)\n",
      "Requirement already satisfied: tzdata>=2022.7 in c:\\users\\campus3s043\\desktop\\alpaco_lectures\\venv\\lib\\site-packages (from pandas>=0.19.2->finance-datareader) (2024.2)\n",
      "Requirement already satisfied: charset-normalizer<4,>=2 in c:\\users\\campus3s043\\desktop\\alpaco_lectures\\venv\\lib\\site-packages (from requests>=2.3.0->finance-datareader) (3.3.2)\n",
      "Requirement already satisfied: idna<4,>=2.5 in c:\\users\\campus3s043\\desktop\\alpaco_lectures\\venv\\lib\\site-packages (from requests>=2.3.0->finance-datareader) (3.10)\n",
      "Requirement already satisfied: urllib3<3,>=1.21.1 in c:\\users\\campus3s043\\desktop\\alpaco_lectures\\venv\\lib\\site-packages (from requests>=2.3.0->finance-datareader) (2.2.3)\n",
      "Requirement already satisfied: certifi>=2017.4.17 in c:\\users\\campus3s043\\desktop\\alpaco_lectures\\venv\\lib\\site-packages (from requests>=2.3.0->finance-datareader) (2024.8.30)\n",
      "Requirement already satisfied: colorama in c:\\users\\campus3s043\\desktop\\alpaco_lectures\\venv\\lib\\site-packages (from tqdm->finance-datareader) (0.4.6)\n",
      "Requirement already satisfied: six>=1.5 in c:\\users\\campus3s043\\desktop\\alpaco_lectures\\venv\\lib\\site-packages (from python-dateutil>=2.8.2->pandas>=0.19.2->finance-datareader) (1.16.0)\n"
     ]
    },
    {
     "name": "stderr",
     "output_type": "stream",
     "text": [
      "\n",
      "[notice] A new release of pip is available: 24.2 -> 24.3.1\n",
      "[notice] To update, run: python.exe -m pip install --upgrade pip\n"
     ]
    }
   ],
   "source": [
    "!pip install finance-datareader"
   ]
  },
  {
   "cell_type": "code",
   "execution_count": 10,
   "metadata": {},
   "outputs": [
    {
     "data": {
      "text/html": [
       "<div>\n",
       "<style scoped>\n",
       "    .dataframe tbody tr th:only-of-type {\n",
       "        vertical-align: middle;\n",
       "    }\n",
       "\n",
       "    .dataframe tbody tr th {\n",
       "        vertical-align: top;\n",
       "    }\n",
       "\n",
       "    .dataframe thead th {\n",
       "        text-align: right;\n",
       "    }\n",
       "</style>\n",
       "<table border=\"1\" class=\"dataframe\">\n",
       "  <thead>\n",
       "    <tr style=\"text-align: right;\">\n",
       "      <th></th>\n",
       "      <th>Symbol</th>\n",
       "      <th>Market</th>\n",
       "      <th>Name</th>\n",
       "      <th>Sector</th>\n",
       "      <th>Industry</th>\n",
       "      <th>ListingDate</th>\n",
       "      <th>SettleMonth</th>\n",
       "      <th>Representative</th>\n",
       "      <th>HomePage</th>\n",
       "      <th>Region</th>\n",
       "    </tr>\n",
       "  </thead>\n",
       "  <tbody>\n",
       "    <tr>\n",
       "      <th>0</th>\n",
       "      <td>060310</td>\n",
       "      <td>KOSDAQ</td>\n",
       "      <td>3S</td>\n",
       "      <td>특수 목적용 기계 제조업</td>\n",
       "      <td>반도체 웨이퍼 캐리어</td>\n",
       "      <td>2002-04-23</td>\n",
       "      <td>03월</td>\n",
       "      <td>박종익, 김세완 (각자 대표이사)</td>\n",
       "      <td>http://www.3sref.com</td>\n",
       "      <td>서울특별시</td>\n",
       "    </tr>\n",
       "    <tr>\n",
       "      <th>1</th>\n",
       "      <td>095570</td>\n",
       "      <td>KOSPI</td>\n",
       "      <td>AJ네트웍스</td>\n",
       "      <td>산업용 기계 및 장비 임대업</td>\n",
       "      <td>렌탈(파렛트, OA장비, 건설장비)</td>\n",
       "      <td>2015-08-21</td>\n",
       "      <td>12월</td>\n",
       "      <td>이현우</td>\n",
       "      <td>http://www.ajnet.co.kr</td>\n",
       "      <td>서울특별시</td>\n",
       "    </tr>\n",
       "    <tr>\n",
       "      <th>2</th>\n",
       "      <td>006840</td>\n",
       "      <td>KOSPI</td>\n",
       "      <td>AK홀딩스</td>\n",
       "      <td>기타 금융업</td>\n",
       "      <td>지주사업</td>\n",
       "      <td>1999-08-11</td>\n",
       "      <td>12월</td>\n",
       "      <td>채형석, 이석주(각자 대표이사)</td>\n",
       "      <td>http://www.aekyunggroup.co.kr</td>\n",
       "      <td>서울특별시</td>\n",
       "    </tr>\n",
       "    <tr>\n",
       "      <th>3</th>\n",
       "      <td>054620</td>\n",
       "      <td>KOSDAQ</td>\n",
       "      <td>APS홀딩스</td>\n",
       "      <td>기타 금융업</td>\n",
       "      <td>인터넷 트래픽 솔루션</td>\n",
       "      <td>2001-12-04</td>\n",
       "      <td>12월</td>\n",
       "      <td>정기로</td>\n",
       "      <td>http://www.apsholdings.co.kr</td>\n",
       "      <td>경기도</td>\n",
       "    </tr>\n",
       "    <tr>\n",
       "      <th>4</th>\n",
       "      <td>265520</td>\n",
       "      <td>KOSDAQ</td>\n",
       "      <td>AP시스템</td>\n",
       "      <td>특수 목적용 기계 제조업</td>\n",
       "      <td>디스플레이 제조 장비</td>\n",
       "      <td>2017-04-07</td>\n",
       "      <td>12월</td>\n",
       "      <td>김영주</td>\n",
       "      <td>http://www.apsystems.co.kr</td>\n",
       "      <td>경기도</td>\n",
       "    </tr>\n",
       "  </tbody>\n",
       "</table>\n",
       "</div>"
      ],
      "text/plain": [
       "   Symbol  Market    Name           Sector             Industry ListingDate  \\\n",
       "0  060310  KOSDAQ      3S    특수 목적용 기계 제조업          반도체 웨이퍼 캐리어  2002-04-23   \n",
       "1  095570   KOSPI  AJ네트웍스  산업용 기계 및 장비 임대업  렌탈(파렛트, OA장비, 건설장비)  2015-08-21   \n",
       "2  006840   KOSPI   AK홀딩스           기타 금융업                 지주사업  1999-08-11   \n",
       "3  054620  KOSDAQ  APS홀딩스           기타 금융업          인터넷 트래픽 솔루션  2001-12-04   \n",
       "4  265520  KOSDAQ   AP시스템    특수 목적용 기계 제조업          디스플레이 제조 장비  2017-04-07   \n",
       "\n",
       "  SettleMonth      Representative                       HomePage Region  \n",
       "0         03월  박종익, 김세완 (각자 대표이사)           http://www.3sref.com  서울특별시  \n",
       "1         12월                 이현우         http://www.ajnet.co.kr  서울특별시  \n",
       "2         12월   채형석, 이석주(각자 대표이사)  http://www.aekyunggroup.co.kr  서울특별시  \n",
       "3         12월                 정기로   http://www.apsholdings.co.kr    경기도  \n",
       "4         12월                 김영주     http://www.apsystems.co.kr    경기도  "
      ]
     },
     "execution_count": 10,
     "metadata": {},
     "output_type": "execute_result"
    }
   ],
   "source": [
    "import FinanceDataReader as fdr\n",
    "import pandas as pd\n",
    "\n",
    "df_krx = pd.read_csv(\"https://raw.githubusercontent.com/corazzon/finance-data-analysis/main/krx.csv\")\n",
    "df_krx.head()\n"
   ]
  },
  {
   "cell_type": "markdown",
   "metadata": {},
   "source": [
    "- 미국 S&P500에 상장된 종목 조회"
   ]
  },
  {
   "cell_type": "code",
   "execution_count": 11,
   "metadata": {},
   "outputs": [
    {
     "name": "stdout",
     "output_type": "stream",
     "text": [
      "503\n"
     ]
    },
    {
     "data": {
      "text/html": [
       "<div>\n",
       "<style scoped>\n",
       "    .dataframe tbody tr th:only-of-type {\n",
       "        vertical-align: middle;\n",
       "    }\n",
       "\n",
       "    .dataframe tbody tr th {\n",
       "        vertical-align: top;\n",
       "    }\n",
       "\n",
       "    .dataframe thead th {\n",
       "        text-align: right;\n",
       "    }\n",
       "</style>\n",
       "<table border=\"1\" class=\"dataframe\">\n",
       "  <thead>\n",
       "    <tr style=\"text-align: right;\">\n",
       "      <th></th>\n",
       "      <th>Symbol</th>\n",
       "      <th>Name</th>\n",
       "      <th>Sector</th>\n",
       "      <th>Industry</th>\n",
       "    </tr>\n",
       "  </thead>\n",
       "  <tbody>\n",
       "    <tr>\n",
       "      <th>0</th>\n",
       "      <td>MMM</td>\n",
       "      <td>3M</td>\n",
       "      <td>Industrials</td>\n",
       "      <td>Industrial Conglomerates</td>\n",
       "    </tr>\n",
       "    <tr>\n",
       "      <th>1</th>\n",
       "      <td>AOS</td>\n",
       "      <td>A. O. Smith</td>\n",
       "      <td>Industrials</td>\n",
       "      <td>Building Products</td>\n",
       "    </tr>\n",
       "    <tr>\n",
       "      <th>2</th>\n",
       "      <td>ABT</td>\n",
       "      <td>Abbott Laboratories</td>\n",
       "      <td>Health Care</td>\n",
       "      <td>Health Care Equipment</td>\n",
       "    </tr>\n",
       "    <tr>\n",
       "      <th>3</th>\n",
       "      <td>ABBV</td>\n",
       "      <td>AbbVie</td>\n",
       "      <td>Health Care</td>\n",
       "      <td>Biotechnology</td>\n",
       "    </tr>\n",
       "    <tr>\n",
       "      <th>4</th>\n",
       "      <td>ACN</td>\n",
       "      <td>Accenture</td>\n",
       "      <td>Information Technology</td>\n",
       "      <td>IT Consulting &amp; Other Services</td>\n",
       "    </tr>\n",
       "  </tbody>\n",
       "</table>\n",
       "</div>"
      ],
      "text/plain": [
       "  Symbol                 Name                  Sector  \\\n",
       "0    MMM                   3M             Industrials   \n",
       "1    AOS          A. O. Smith             Industrials   \n",
       "2    ABT  Abbott Laboratories             Health Care   \n",
       "3   ABBV               AbbVie             Health Care   \n",
       "4    ACN            Accenture  Information Technology   \n",
       "\n",
       "                         Industry  \n",
       "0        Industrial Conglomerates  \n",
       "1               Building Products  \n",
       "2           Health Care Equipment  \n",
       "3                   Biotechnology  \n",
       "4  IT Consulting & Other Services  "
      ]
     },
     "execution_count": 11,
     "metadata": {},
     "output_type": "execute_result"
    }
   ],
   "source": [
    "df_spx = fdr.StockListing('S&P500')\n",
    "print(len(df_spx))\n",
    "df_spx.head()\n"
   ]
  },
  {
   "cell_type": "markdown",
   "metadata": {},
   "source": [
    "# 가격 데이터 수집\n",
    "- GS글로벌 데이터 수집 (001250)"
   ]
  },
  {
   "cell_type": "code",
   "execution_count": 12,
   "metadata": {},
   "outputs": [
    {
     "data": {
      "text/html": [
       "<div>\n",
       "<style scoped>\n",
       "    .dataframe tbody tr th:only-of-type {\n",
       "        vertical-align: middle;\n",
       "    }\n",
       "\n",
       "    .dataframe tbody tr th {\n",
       "        vertical-align: top;\n",
       "    }\n",
       "\n",
       "    .dataframe thead th {\n",
       "        text-align: right;\n",
       "    }\n",
       "</style>\n",
       "<table border=\"1\" class=\"dataframe\">\n",
       "  <thead>\n",
       "    <tr style=\"text-align: right;\">\n",
       "      <th></th>\n",
       "      <th>Open</th>\n",
       "      <th>High</th>\n",
       "      <th>Low</th>\n",
       "      <th>Close</th>\n",
       "      <th>Volume</th>\n",
       "      <th>Change</th>\n",
       "    </tr>\n",
       "    <tr>\n",
       "      <th>Date</th>\n",
       "      <th></th>\n",
       "      <th></th>\n",
       "      <th></th>\n",
       "      <th></th>\n",
       "      <th></th>\n",
       "      <th></th>\n",
       "    </tr>\n",
       "  </thead>\n",
       "  <tbody>\n",
       "    <tr>\n",
       "      <th>2024-01-02</th>\n",
       "      <td>2545</td>\n",
       "      <td>2560</td>\n",
       "      <td>2525</td>\n",
       "      <td>2550</td>\n",
       "      <td>293544</td>\n",
       "      <td>0.000000</td>\n",
       "    </tr>\n",
       "    <tr>\n",
       "      <th>2024-01-03</th>\n",
       "      <td>2525</td>\n",
       "      <td>2725</td>\n",
       "      <td>2520</td>\n",
       "      <td>2595</td>\n",
       "      <td>2318575</td>\n",
       "      <td>0.017647</td>\n",
       "    </tr>\n",
       "    <tr>\n",
       "      <th>2024-01-04</th>\n",
       "      <td>2625</td>\n",
       "      <td>2680</td>\n",
       "      <td>2585</td>\n",
       "      <td>2585</td>\n",
       "      <td>2023673</td>\n",
       "      <td>-0.003854</td>\n",
       "    </tr>\n",
       "    <tr>\n",
       "      <th>2024-01-05</th>\n",
       "      <td>2590</td>\n",
       "      <td>2590</td>\n",
       "      <td>2540</td>\n",
       "      <td>2570</td>\n",
       "      <td>472028</td>\n",
       "      <td>-0.005803</td>\n",
       "    </tr>\n",
       "    <tr>\n",
       "      <th>2024-01-08</th>\n",
       "      <td>2570</td>\n",
       "      <td>2575</td>\n",
       "      <td>2540</td>\n",
       "      <td>2555</td>\n",
       "      <td>295378</td>\n",
       "      <td>-0.005837</td>\n",
       "    </tr>\n",
       "  </tbody>\n",
       "</table>\n",
       "</div>"
      ],
      "text/plain": [
       "            Open  High   Low  Close   Volume    Change\n",
       "Date                                                  \n",
       "2024-01-02  2545  2560  2525   2550   293544  0.000000\n",
       "2024-01-03  2525  2725  2520   2595  2318575  0.017647\n",
       "2024-01-04  2625  2680  2585   2585  2023673 -0.003854\n",
       "2024-01-05  2590  2590  2540   2570   472028 -0.005803\n",
       "2024-01-08  2570  2575  2540   2555   295378 -0.005837"
      ]
     },
     "execution_count": 12,
     "metadata": {},
     "output_type": "execute_result"
    }
   ],
   "source": [
    "df = fdr.DataReader('001250', '2024-01-01', '2024-12-31')\n",
    "df.head()\n",
    "\n"
   ]
  },
  {
   "cell_type": "markdown",
   "metadata": {},
   "source": [
    "# Pandas 주요 문법\n",
    "- 시계열과 관련된 주요 메서드 소개\n",
    "- shift() : 시차 데이터 생성\n",
    "- diff() : 차분 데이터 생성\n",
    "- pct_change() : 변화량 데이터 생성\n",
    "- rolling() : 이동평균 데이터 생성\n",
    "- resample() : 시간 간격 데이터 생성\n",
    "- cumsum() : 누적합 데이터 생성\n",
    "- cumprod() : 누적곱 데이터 생성\n",
    "- cummax() : 누적최대값 데이터 생성\n",
    "- cummin() : 누적최소값 데이터 생성\n",
    "- cumprod() : 누적곱 데이터 생성\n",
    "- rescale() : 데이터 정규화"
   ]
  },
  {
   "cell_type": "code",
   "execution_count": 13,
   "metadata": {},
   "outputs": [
    {
     "name": "stdout",
     "output_type": "stream",
     "text": [
      "# shift() 결과:\n",
      "            Close    전일종가\n",
      "Date                     \n",
      "2024-01-02   2550     NaN\n",
      "2024-01-03   2595  2550.0\n",
      "2024-01-04   2585  2595.0\n",
      "2024-01-05   2570  2585.0\n",
      "2024-01-08   2555  2570.0\n"
     ]
    }
   ],
   "source": [
    "# shift() 예제 - 전일 데이터와 비교\n",
    "df['전일종가'] = df['Close'].shift(1)\n",
    "print(\"# shift() 결과:\")\n",
    "print(df[['Close', '전일종가']].head())"
   ]
  },
  {
   "cell_type": "code",
   "execution_count": 14,
   "metadata": {},
   "outputs": [
    {
     "name": "stdout",
     "output_type": "stream",
     "text": [
      "# diff() 결과:\n",
      "            Close  가격변동\n",
      "Date                   \n",
      "2024-01-02   2550   NaN\n",
      "2024-01-03   2595  45.0\n",
      "2024-01-04   2585 -10.0\n",
      "2024-01-05   2570 -15.0\n",
      "2024-01-08   2555 -15.0\n"
     ]
    }
   ],
   "source": [
    "# diff() 예제 - 전일 대비 가격 변동\n",
    "df['가격변동'] = df['Close'].diff()\n",
    "print(\"# diff() 결과:\")\n",
    "print(df[['Close', '가격변동']].head())"
   ]
  },
  {
   "cell_type": "code",
   "execution_count": 15,
   "metadata": {},
   "outputs": [
    {
     "name": "stdout",
     "output_type": "stream",
     "text": [
      "# pct_change() 결과:\n",
      "            Close     일간수익률\n",
      "Date                       \n",
      "2024-01-02   2550       NaN\n",
      "2024-01-03   2595  0.017647\n",
      "2024-01-04   2585 -0.003854\n",
      "2024-01-05   2570 -0.005803\n",
      "2024-01-08   2555 -0.005837\n"
     ]
    }
   ],
   "source": [
    "# pct_change() 예제 - 수익률 계산\n",
    "df['일간수익률'] = df['Close'].pct_change()\n",
    "print(\"# pct_change() 결과:\")\n",
    "print(df[['Close', '일간수익률']].head())"
   ]
  },
  {
   "cell_type": "code",
   "execution_count": 16,
   "metadata": {},
   "outputs": [
    {
     "name": "stdout",
     "output_type": "stream",
     "text": [
      "# rolling() 결과:\n",
      "            Close     MA5\n",
      "Date                     \n",
      "2024-01-02   2550     NaN\n",
      "2024-01-03   2595     NaN\n",
      "2024-01-04   2585     NaN\n",
      "2024-01-05   2570     NaN\n",
      "2024-01-08   2555  2571.0\n"
     ]
    }
   ],
   "source": [
    "# rolling() 예제 - 5일 이동평균\n",
    "df['MA5'] = df['Close'].rolling(window=5).mean()\n",
    "print(\"# rolling() 결과:\")\n",
    "print(df[['Close', 'MA5']].head())"
   ]
  },
  {
   "cell_type": "code",
   "execution_count": 17,
   "metadata": {},
   "outputs": [
    {
     "name": "stdout",
     "output_type": "stream",
     "text": [
      "# resample() 결과 (주간):\n",
      "Date\n",
      "2024-01-07    2570\n",
      "2024-01-14    2680\n",
      "2024-01-21    2690\n",
      "2024-01-28    2570\n",
      "2024-02-04    2670\n",
      "Freq: W-SUN, Name: Close, dtype: int64\n"
     ]
    }
   ],
   "source": [
    "# resample() 예제 - 주간 종가 데이터\n",
    "weekly_data = df['Close'].resample('W').last()\n",
    "print(\"# resample() 결과 (주간):\")\n",
    "print(weekly_data.head())"
   ]
  },
  {
   "cell_type": "code",
   "execution_count": 18,
   "metadata": {},
   "outputs": [
    {
     "name": "stdout",
     "output_type": "stream",
     "text": [
      "# cumsum() 결과:\n",
      "             Volume    거래량누적\n",
      "Date                        \n",
      "2024-01-02   293544   293544\n",
      "2024-01-03  2318575  2612119\n",
      "2024-01-04  2023673  4635792\n",
      "2024-01-05   472028  5107820\n",
      "2024-01-08   295378  5403198\n"
     ]
    }
   ],
   "source": [
    "# cumsum() 예제 - 거래량 누적합\n",
    "df['거래량누적'] = df['Volume'].cumsum()\n",
    "print(\"# cumsum() 결과:\")\n",
    "print(df[['Volume', '거래량누적']].head())"
   ]
  },
  {
   "cell_type": "code",
   "execution_count": 19,
   "metadata": {},
   "outputs": [
    {
     "name": "stdout",
     "output_type": "stream",
     "text": [
      "# cumprod() 결과:\n",
      "               일간수익률     누적수익률\n",
      "Date                          \n",
      "2024-01-02       NaN       NaN\n",
      "2024-01-03  0.017647  1.017647\n",
      "2024-01-04 -0.003854  1.013725\n",
      "2024-01-05 -0.005803  1.007843\n",
      "2024-01-08 -0.005837  1.001961\n"
     ]
    }
   ],
   "source": [
    "# cumprod() 예제 - 수익률 누적곱\n",
    "df['누적수익률'] = (1 + df['일간수익률']).cumprod()\n",
    "print(\"# cumprod() 결과:\")\n",
    "print(df[['일간수익률', '누적수익률']].head())"
   ]
  },
  {
   "cell_type": "code",
   "execution_count": 20,
   "metadata": {},
   "outputs": [
    {
     "name": "stdout",
     "output_type": "stream",
     "text": [
      "# cummax() 결과:\n",
      "            High  최고가갱신\n",
      "Date                   \n",
      "2024-01-02  2560   2560\n",
      "2024-01-03  2725   2725\n",
      "2024-01-04  2680   2725\n",
      "2024-01-05  2590   2725\n",
      "2024-01-08  2575   2725\n"
     ]
    }
   ],
   "source": [
    "# cummax() 예제 - 최고가 갱신 추적\n",
    "df['최고가갱신'] = df['High'].cummax()\n",
    "print(\"# cummax() 결과:\")\n",
    "print(df[['High', '최고가갱신']].head())"
   ]
  },
  {
   "cell_type": "code",
   "execution_count": 21,
   "metadata": {},
   "outputs": [
    {
     "name": "stdout",
     "output_type": "stream",
     "text": [
      "# cummin() 결과:\n",
      "             Low  최저가갱신\n",
      "Date                   \n",
      "2024-01-02  2525   2525\n",
      "2024-01-03  2520   2520\n",
      "2024-01-04  2585   2520\n",
      "2024-01-05  2540   2520\n",
      "2024-01-08  2540   2520\n"
     ]
    }
   ],
   "source": [
    "# cummin() 예제 - 최저가 추적\n",
    "df['최저가갱신'] = df['Low'].cummin()\n",
    "print(\"# cummin() 결과:\")\n",
    "print(df[['Low', '최저가갱신']].head())"
   ]
  },
  {
   "cell_type": "code",
   "execution_count": 22,
   "metadata": {},
   "outputs": [
    {
     "name": "stdout",
     "output_type": "stream",
     "text": [
      "# 정규화 결과:\n",
      "            Close     종가정규화\n",
      "Date                       \n",
      "2024-01-02   2550  0.111111\n",
      "2024-01-03   2595  0.133838\n",
      "2024-01-04   2585  0.128788\n",
      "2024-01-05   2570  0.121212\n",
      "2024-01-08   2555  0.113636\n"
     ]
    }
   ],
   "source": [
    "# 데이터 정규화 예제 (0~1 스케일링)\n",
    "df['종가정규화'] = (df['Close'] - df['Close'].min()) / (df['Close'].max() - df['Close'].min())\n",
    "print(\"# 정규화 결과:\")\n",
    "print(df[['Close', '종가정규화']].head())"
   ]
  },
  {
   "cell_type": "markdown",
   "metadata": {},
   "source": [
    "# TA-Lib 라이브러리 설치 및 활용\n",
    "- 아래코드 실행 전, 사전에 프로그램 설치는 홈페이지 참조 (https://ta-lib.org/install/)\n",
    "- https://github.com/cgohlke/talib-build/?tab=readme-ov-file"
   ]
  },
  {
   "cell_type": "code",
   "execution_count": 32,
   "metadata": {},
   "outputs": [
    {
     "name": "stdout",
     "output_type": "stream",
     "text": [
      "Processing c:\\users\\campus3s043\\desktop\\alpaco_lectures\\step08_finance\\ta_lib-0.6.0-cp312-cp312-win_amd64.whl\n",
      "Requirement already satisfied: setuptools in c:\\users\\campus3s043\\desktop\\alpaco_lectures\\venv\\lib\\site-packages (from ta-lib==0.6.0) (75.1.0)\n",
      "Requirement already satisfied: numpy in c:\\users\\campus3s043\\desktop\\alpaco_lectures\\venv\\lib\\site-packages (from ta-lib==0.6.0) (1.26.4)\n",
      "Installing collected packages: ta-lib\n",
      "Successfully installed ta-lib-0.6.0\n"
     ]
    },
    {
     "name": "stderr",
     "output_type": "stream",
     "text": [
      "\n",
      "[notice] A new release of pip is available: 24.2 -> 24.3.1\n",
      "[notice] To update, run: python.exe -m pip install --upgrade pip\n"
     ]
    }
   ],
   "source": [
    "!python -m pip install ta_lib-0.6.0-cp312-cp312-win_amd64.whl"
   ]
  },
  {
   "cell_type": "code",
   "execution_count": 36,
   "metadata": {},
   "outputs": [
    {
     "name": "stdout",
     "output_type": "stream",
     "text": [
      "2.2.3\n",
      "0.6.0\n"
     ]
    }
   ],
   "source": [
    "import pandas as pd\n",
    "import talib\n",
    "\n",
    "print(pd.__version__)\n",
    "print(talib.__version__)\n"
   ]
  },
  {
   "cell_type": "markdown",
   "metadata": {},
   "source": [
    "## 라이브러리 불러오기"
   ]
  },
  {
   "cell_type": "markdown",
   "metadata": {},
   "source": [
    "# 애플 주식 데이터"
   ]
  },
  {
   "cell_type": "code",
   "execution_count": 58,
   "metadata": {},
   "outputs": [
    {
     "name": "stdout",
     "output_type": "stream",
     "text": [
      "                  Open        High         Low       Close    Volume\n",
      "Date                                                                \n",
      "2024-01-02  186.237618  187.521338  182.993517  184.734985  82488700\n",
      "2024-01-03  183.321908  184.973819  182.535751  183.351761  58414500\n",
      "2024-01-04  181.261983  182.197403  179.998185  181.023163  71983600\n",
      "2024-01-05  181.102771  181.869006  179.291637  180.296707  62303300\n",
      "2024-01-08  181.202281  184.695178  180.615161  184.655365  59144500\n"
     ]
    }
   ],
   "source": [
    "import yfinance as yf\n",
    "from datetime import datetime\n",
    "\n",
    "# Set date range\n",
    "start_date = '2024-01-01'\n",
    "end_date = '2024-12-31'\n",
    "\n",
    "# Get Apple stock data using yfinance directly\n",
    "aapl_data = yf.download('AAPL', start=start_date, end=end_date, progress=False, auto_adjust=True)\n",
    "print(aapl_data.head()) \n"
   ]
  },
  {
   "cell_type": "code",
   "execution_count": 61,
   "metadata": {},
   "outputs": [
    {
     "data": {
      "text/html": [
       "<div>\n",
       "<style scoped>\n",
       "    .dataframe tbody tr th:only-of-type {\n",
       "        vertical-align: middle;\n",
       "    }\n",
       "\n",
       "    .dataframe tbody tr th {\n",
       "        vertical-align: top;\n",
       "    }\n",
       "\n",
       "    .dataframe thead th {\n",
       "        text-align: right;\n",
       "    }\n",
       "</style>\n",
       "<table border=\"1\" class=\"dataframe\">\n",
       "  <thead>\n",
       "    <tr style=\"text-align: right;\">\n",
       "      <th></th>\n",
       "      <th>Open</th>\n",
       "      <th>High</th>\n",
       "      <th>Low</th>\n",
       "      <th>Close</th>\n",
       "      <th>Volume</th>\n",
       "      <th>SMA_20</th>\n",
       "      <th>RSI</th>\n",
       "    </tr>\n",
       "    <tr>\n",
       "      <th>Date</th>\n",
       "      <th></th>\n",
       "      <th></th>\n",
       "      <th></th>\n",
       "      <th></th>\n",
       "      <th></th>\n",
       "      <th></th>\n",
       "      <th></th>\n",
       "    </tr>\n",
       "  </thead>\n",
       "  <tbody>\n",
       "    <tr>\n",
       "      <th>2024-12-23</th>\n",
       "      <td>254.770004</td>\n",
       "      <td>255.649994</td>\n",
       "      <td>253.449997</td>\n",
       "      <td>255.270004</td>\n",
       "      <td>40858800</td>\n",
       "      <td>245.026999</td>\n",
       "      <td>73.085629</td>\n",
       "    </tr>\n",
       "    <tr>\n",
       "      <th>2024-12-24</th>\n",
       "      <td>255.490005</td>\n",
       "      <td>258.209991</td>\n",
       "      <td>255.289993</td>\n",
       "      <td>258.200012</td>\n",
       "      <td>23234700</td>\n",
       "      <td>246.293500</td>\n",
       "      <td>75.750264</td>\n",
       "    </tr>\n",
       "    <tr>\n",
       "      <th>2024-12-26</th>\n",
       "      <td>258.190002</td>\n",
       "      <td>260.100006</td>\n",
       "      <td>257.630005</td>\n",
       "      <td>259.019989</td>\n",
       "      <td>27237100</td>\n",
       "      <td>247.491499</td>\n",
       "      <td>76.452865</td>\n",
       "    </tr>\n",
       "    <tr>\n",
       "      <th>2024-12-27</th>\n",
       "      <td>257.829987</td>\n",
       "      <td>258.700012</td>\n",
       "      <td>253.059998</td>\n",
       "      <td>255.589996</td>\n",
       "      <td>42355300</td>\n",
       "      <td>248.524500</td>\n",
       "      <td>67.626261</td>\n",
       "    </tr>\n",
       "    <tr>\n",
       "      <th>2024-12-30</th>\n",
       "      <td>252.229996</td>\n",
       "      <td>253.500000</td>\n",
       "      <td>250.750000</td>\n",
       "      <td>252.199997</td>\n",
       "      <td>35557500</td>\n",
       "      <td>249.267999</td>\n",
       "      <td>60.225576</td>\n",
       "    </tr>\n",
       "  </tbody>\n",
       "</table>\n",
       "</div>"
      ],
      "text/plain": [
       "                  Open        High         Low       Close    Volume  \\\n",
       "Date                                                                   \n",
       "2024-12-23  254.770004  255.649994  253.449997  255.270004  40858800   \n",
       "2024-12-24  255.490005  258.209991  255.289993  258.200012  23234700   \n",
       "2024-12-26  258.190002  260.100006  257.630005  259.019989  27237100   \n",
       "2024-12-27  257.829987  258.700012  253.059998  255.589996  42355300   \n",
       "2024-12-30  252.229996  253.500000  250.750000  252.199997  35557500   \n",
       "\n",
       "                SMA_20        RSI  \n",
       "Date                               \n",
       "2024-12-23  245.026999  73.085629  \n",
       "2024-12-24  246.293500  75.750264  \n",
       "2024-12-26  247.491499  76.452865  \n",
       "2024-12-27  248.524500  67.626261  \n",
       "2024-12-30  249.267999  60.225576  "
      ]
     },
     "execution_count": 61,
     "metadata": {},
     "output_type": "execute_result"
    }
   ],
   "source": [
    "# 단순이동평균, SMA 계산\n",
    "aapl_data['SMA_20'] = talib.SMA(aapl_data['Close'], timeperiod=20)\n",
    " \n",
    "# 상대강도지수(RSI)\n",
    "aapl_data['RSI'] = talib.RSI(aapl_data['Close'], timeperiod=14) \n",
    "\n",
    "aapl_data.tail()\n"
   ]
  },
  {
   "cell_type": "markdown",
   "metadata": {},
   "source": [
    "# 퀀트 투자 분석"
   ]
  },
  {
   "cell_type": "code",
   "execution_count": 1,
   "metadata": {},
   "outputs": [
    {
     "name": "stderr",
     "output_type": "stream",
     "text": [
      "[*********************100%***********************]  1 of 1 completed\n"
     ]
    },
    {
     "name": "stdout",
     "output_type": "stream",
     "text": [
      "Downloaded AAPL data\n"
     ]
    },
    {
     "name": "stderr",
     "output_type": "stream",
     "text": [
      "[*********************100%***********************]  1 of 1 completed\n"
     ]
    },
    {
     "name": "stdout",
     "output_type": "stream",
     "text": [
      "Downloaded MSFT data\n"
     ]
    },
    {
     "name": "stderr",
     "output_type": "stream",
     "text": [
      "[*********************100%***********************]  1 of 1 completed\n"
     ]
    },
    {
     "name": "stdout",
     "output_type": "stream",
     "text": [
      "Downloaded GOOGL data\n"
     ]
    },
    {
     "name": "stderr",
     "output_type": "stream",
     "text": [
      "[*********************100%***********************]  1 of 1 completed\n"
     ]
    },
    {
     "name": "stdout",
     "output_type": "stream",
     "text": [
      "Downloaded AMZN data\n"
     ]
    },
    {
     "name": "stderr",
     "output_type": "stream",
     "text": [
      "[*********************100%***********************]  1 of 1 completed\n"
     ]
    },
    {
     "name": "stdout",
     "output_type": "stream",
     "text": [
      "Downloaded NVDA data\n",
      "\n",
      "AAPL 모멘텀 팩터:\n",
      "            momentum_20d  momentum_60d  momentum_120d\n",
      "Date                                                 \n",
      "2024-03-08     -0.093405     -0.116213      -0.024456\n",
      "2024-03-11     -0.085253     -0.112783      -0.029331\n",
      "2024-03-12     -0.074379     -0.124924      -0.032613\n",
      "2024-03-13     -0.075173     -0.136187      -0.024845\n",
      "2024-03-14     -0.060548     -0.124361      -0.005347\n",
      "\n",
      "AAPL 변동성 팩터:\n",
      "            volatility_20d  volatility_60d\n",
      "Date                                      \n",
      "2024-03-08        0.010035        0.011551\n",
      "2024-03-11        0.010585        0.011619\n",
      "2024-03-12        0.010643        0.011377\n",
      "2024-03-13        0.010676        0.011443\n",
      "2024-03-14        0.011169        0.011571\n",
      "\n",
      "AAPL 거래량 팩터:\n",
      "            volume_ma20  volume_ratio\n",
      "Date                                 \n",
      "2024-03-08   62663045.0      1.214665\n",
      "2024-03-11   63412260.0      0.948389\n",
      "2024-03-12   64314435.0      0.930202\n",
      "2024-03-13   64112395.0      0.818698\n",
      "2024-03-14   65026545.0      1.121288\n",
      "\n",
      "AAPL 기술적 지표:\n",
      "                  MA_5       MA_20       MA_60        RSI\n",
      "Date                                                     \n",
      "2024-03-08  170.813998  180.091000  186.800833  25.466088\n",
      "2024-03-11  170.343997  179.285999  186.434833  32.287898\n",
      "2024-03-12  170.965997  178.589999  186.022666  31.516839\n",
      "2024-03-13  171.367999  177.894500  185.573000  23.133119\n",
      "2024-03-14  172.167999  177.337000  185.163499  30.697468\n",
      "\n",
      "포트폴리오 통계:\n",
      "              Daily_Return  Volatility  Sharpe_Ratio  Max_Drawdown\n",
      "AAPL_return       0.001332    0.020069      1.053270     -0.335346\n",
      "MSFT_return       0.001279    0.019001      1.068685     -0.416517\n",
      "GOOGL_return      0.000963    0.019949      0.766076     -0.518700\n",
      "AMZN_return       0.000887    0.022034      0.638944     -0.686826\n",
      "NVDA_return       0.003019    0.032713      1.465057     -0.912330\n"
     ]
    },
    {
     "data": {
      "text/plain": [
       "<Figure size 1500x1000 with 0 Axes>"
      ]
     },
     "metadata": {},
     "output_type": "display_data"
    },
    {
     "data": {
      "image/png": "[encoded data removed]",
      "text/plain": [
       "<Figure size 640x480 with 1 Axes>"
      ]
     },
     "metadata": {},
     "output_type": "display_data"
    }
   ],
   "source": [
    "# 퀀트 투자 분석\n",
    "import yfinance as yf\n",
    "import pandas as pd\n",
    "import numpy as np\n",
    "from datetime import datetime\n",
    "\n",
    "# 분석 기간 설정\n",
    "START_DATE = '2019-01-01'\n",
    "END_DATE = '2024-03-15'\n",
    "\n",
    "# 1. 분석 대상 종목 정의\n",
    "TECH_STOCKS = ['AAPL', 'MSFT', 'GOOGL', 'AMZN', 'NVDA']\n",
    "KOREA_STOCKS = ['005930.KS', '000660.KS', '035420.KS']  # 삼성전자, SK하이닉스, NAVER\n",
    "\n",
    "# 2. 데이터 수집\n",
    "def get_stock_data():\n",
    "    tech_data = {}\n",
    "    for symbol in TECH_STOCKS:\n",
    "        df = yf.download(symbol, start=START_DATE, end=END_DATE)\n",
    "        tech_data[symbol] = df\n",
    "        print(f\"Downloaded {symbol} data\")\n",
    "    return tech_data\n",
    "\n",
    "stock_data = get_stock_data()\n",
    "\n",
    "# 3. 팩터 계산 함수들\n",
    "def calculate_momentum(df, periods=[20, 60, 120]):\n",
    "    \"\"\"모멘텀 팩터 계산\"\"\"\n",
    "    results = pd.DataFrame(index=df.index)\n",
    "    for period in periods:\n",
    "        results[f'momentum_{period}d'] = df['Close'].pct_change(period)\n",
    "    return results\n",
    "\n",
    "def calculate_volatility(df, periods=[20, 60]):\n",
    "    \"\"\"변동성 팩터 계산\"\"\"\n",
    "    results = pd.DataFrame(index=df.index)\n",
    "    for period in periods:\n",
    "        results[f'volatility_{period}d'] = df['Close'].pct_change().rolling(period).std()\n",
    "    return results\n",
    "\n",
    "def calculate_volume_factors(df):\n",
    "    \"\"\"거래량 관련 팩터 계산\"\"\"\n",
    "    results = pd.DataFrame(index=df.index)\n",
    "    results['volume_ma20'] = df['Volume'].rolling(20).mean()\n",
    "    results['volume_ratio'] = df['Volume'] / results['volume_ma20']\n",
    "    return results\n",
    "\n",
    "# 4. 기술적 지표 계산\n",
    "def calculate_technical_indicators(df):\n",
    "    \"\"\"기술적 지표 계산\"\"\"\n",
    "    results = pd.DataFrame(index=df.index)\n",
    "    \n",
    "    # 이동평균선\n",
    "    for period in [5, 20, 60]:\n",
    "        results[f'MA_{period}'] = df['Close'].rolling(period).mean()\n",
    "    \n",
    "    # RSI\n",
    "    delta = df['Close'].diff()\n",
    "    gain = (delta.where(delta > 0, 0)).rolling(window=14).mean()\n",
    "    loss = (-delta.where(delta < 0, 0)).rolling(window=14).mean()\n",
    "    rs = gain / loss\n",
    "    results['RSI'] = 100 - (100 / (1 + rs))\n",
    "    \n",
    "    return results\n",
    "\n",
    "# 5. 포트폴리오 분석\n",
    "def analyze_portfolio(stock_data):\n",
    "    \"\"\"포트폴리오 분석\"\"\"\n",
    "    portfolio = pd.DataFrame()\n",
    "    \n",
    "    # 일간 수익률 계산\n",
    "    for symbol in stock_data.keys():\n",
    "        portfolio[f'{symbol}_return'] = stock_data[symbol]['Close'].pct_change()\n",
    "    \n",
    "    # 포트폴리오 통계\n",
    "    stats = {\n",
    "        'Daily_Return': portfolio.mean(),\n",
    "        'Volatility': portfolio.std(),\n",
    "        'Sharpe_Ratio': portfolio.mean() / portfolio.std() * np.sqrt(252),\n",
    "        'Max_Drawdown': (portfolio.cumsum() - portfolio.cumsum().expanding().max()).min()\n",
    "    }\n",
    "    \n",
    "    return portfolio, pd.DataFrame(stats)\n",
    "\n",
    "# 6. 실행 및 결과 출력\n",
    "# AAPL 예시 분석\n",
    "aapl_data = stock_data['AAPL']\n",
    "\n",
    "# 팩터 계산\n",
    "momentum = calculate_momentum(aapl_data)\n",
    "volatility = calculate_volatility(aapl_data)\n",
    "volume = calculate_volume_factors(aapl_data)\n",
    "technical = calculate_technical_indicators(aapl_data)\n",
    "\n",
    "print(\"\\nAAPL 모멘텀 팩터:\")\n",
    "print(momentum.tail())\n",
    "\n",
    "print(\"\\nAAPL 변동성 팩터:\")\n",
    "print(volatility.tail())\n",
    "\n",
    "print(\"\\nAAPL 거래량 팩터:\")\n",
    "print(volume.tail())\n",
    "\n",
    "print(\"\\nAAPL 기술적 지표:\")\n",
    "print(technical.tail())\n",
    "\n",
    "# 포트폴리오 분석\n",
    "portfolio, stats = analyze_portfolio(stock_data)\n",
    "print(\"\\n포트폴리오 통계:\")\n",
    "print(stats)\n",
    "\n",
    "# 7. 시각화\n",
    "import matplotlib.pyplot as plt\n",
    "\n",
    "def plot_portfolio_performance():\n",
    "    plt.figure(figsize=(15, 10))\n",
    "    \n",
    "    # 수익률 누적 곡선\n",
    "    cumulative_returns = (1 + portfolio).cumprod()\n",
    "    cumulative_returns.plot(title='Portfolio Cumulative Returns')\n",
    "    plt.grid(True)\n",
    "    plt.show()\n",
    "\n",
    "plot_portfolio_performance()"
   ]
  }
 ],
 "metadata": {
  "kernelspec": {
   "display_name": "venv",
   "language": "python",
   "name": "python3"
  },
  "language_info": {
   "codemirror_mode": {
    "name": "ipython",
    "version": 3
   },
   "file_extension": ".py",
   "mimetype": "text/x-python",
   "name": "python",
   "nbconvert_exporter": "python",
   "pygments_lexer": "ipython3",
   "version": "3.12.6"
  }
 },
 "nbformat": 4,
 "nbformat_minor": 2
}
