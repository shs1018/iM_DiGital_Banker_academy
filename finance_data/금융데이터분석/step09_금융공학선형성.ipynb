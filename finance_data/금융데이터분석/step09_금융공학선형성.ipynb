{
 "cells": [
  {
   "cell_type": "markdown",
   "id": "6292c568-f395-4e81-b677-e5fd852678fd",
   "metadata": {},
   "source": [
    "# CAPM 예제\n",
    "- 유가증권의 베타를 찾는 데 관심이 있다고 가정\n",
    "- 회사의 주식 수익률를 시장의 수익률 및 절편과 함께 찾기"
   ]
  },
  {
   "cell_type": "code",
   "execution_count": 1,
   "id": "3d79d210-c2d3-4ad5-a206-0d5c09b0090b",
   "metadata": {},
   "outputs": [
    {
     "data": {
      "text/html": [
       "<div>\n",
       "<style scoped>\n",
       "    .dataframe tbody tr th:only-of-type {\n",
       "        vertical-align: middle;\n",
       "    }\n",
       "\n",
       "    .dataframe tbody tr th {\n",
       "        vertical-align: top;\n",
       "    }\n",
       "\n",
       "    .dataframe thead th {\n",
       "        text-align: right;\n",
       "    }\n",
       "</style>\n",
       "<table border=\"1\" class=\"dataframe\">\n",
       "  <thead>\n",
       "    <tr style=\"text-align: right;\">\n",
       "      <th></th>\n",
       "      <th>시간주기</th>\n",
       "      <th>주식수익률</th>\n",
       "      <th>시장수익률</th>\n",
       "    </tr>\n",
       "  </thead>\n",
       "  <tbody>\n",
       "    <tr>\n",
       "      <th>0</th>\n",
       "      <td>1</td>\n",
       "      <td>0.0650</td>\n",
       "      <td>0.055</td>\n",
       "    </tr>\n",
       "    <tr>\n",
       "      <th>1</th>\n",
       "      <td>2</td>\n",
       "      <td>0.0265</td>\n",
       "      <td>-0.090</td>\n",
       "    </tr>\n",
       "    <tr>\n",
       "      <th>2</th>\n",
       "      <td>3</td>\n",
       "      <td>-0.0593</td>\n",
       "      <td>-0.041</td>\n",
       "    </tr>\n",
       "    <tr>\n",
       "      <th>3</th>\n",
       "      <td>4</td>\n",
       "      <td>-0.0010</td>\n",
       "      <td>0.045</td>\n",
       "    </tr>\n",
       "    <tr>\n",
       "      <th>4</th>\n",
       "      <td>5</td>\n",
       "      <td>0.0346</td>\n",
       "      <td>0.022</td>\n",
       "    </tr>\n",
       "  </tbody>\n",
       "</table>\n",
       "</div>"
      ],
      "text/plain": [
       "   시간주기   주식수익률  시장수익률\n",
       "0     1  0.0650  0.055\n",
       "1     2  0.0265 -0.090\n",
       "2     3 -0.0593 -0.041\n",
       "3     4 -0.0010  0.045\n",
       "4     5  0.0346  0.022"
      ]
     },
     "execution_count": 1,
     "metadata": {},
     "output_type": "execute_result"
    }
   ],
   "source": [
    "import pandas as pd \n",
    "\n",
    "time_steps = [1, 2, 3, 4, 5]\n",
    "stock_returns = [0.065, 0.0265, -0.0593, -0.001, 0.0346]\n",
    "mkt_returns = [0.055, -0.09, -0.041, 0.045, 0.022]\n",
    "\n",
    "pd.DataFrame({\n",
    "    \"시간주기\" : time_steps, \n",
    "    \"주식수익률\" : stock_returns, \n",
    "    \"시장수익률\" : mkt_returns\n",
    "})"
   ]
  },
  {
   "cell_type": "code",
   "execution_count": 2,
   "id": "dc9359d3-255d-4cb2-9e46-34e54dd0803a",
   "metadata": {},
   "outputs": [
    {
     "name": "stdout",
     "output_type": "stream",
     "text": [
      "0.5077431878770808 -0.008481900352462384\n"
     ]
    }
   ],
   "source": [
    "from scipy import stats\n",
    "\n",
    "stock_returns = [0.065, 0.0265, -0.0593, -0.001, 0.0346]\n",
    "mkt_returns = [0.055, -0.09, -0.041, 0.045, 0.022]\n",
    "\n",
    "beta, alpha, r_value, p_value, std_err = \\\n",
    "    stats.linregress(stock_returns, mkt_returns)\n",
    "\n",
    "print(beta, alpha)"
   ]
  },
  {
   "cell_type": "markdown",
   "id": "9c2dfeb5-6267-488f-9d76-a60acd6dfac7",
   "metadata": {},
   "source": [
    "- SML"
   ]
  },
  {
   "cell_type": "code",
   "execution_count": 3,
   "id": "2809797c-298b-4ee7-b741-36114390bf41",
   "metadata": {},
   "outputs": [
    {
     "name": "stdout",
     "output_type": "stream",
     "text": [
      "0.5077431878770808 -0.008481900352462384 0.38455905003823676 0.5227155239089462 0.7036705543221569\n",
      "무위험 수익률 (R_f): 5.00%\n",
      "시장 위험 프리미엄 (E(R_M) - R_f): 8.50%\n",
      "주식의 베타 (β): 0.5077\n",
      "예상 자본 수익률 (E(R_i)): 9.32%\n"
     ]
    }
   ],
   "source": [
    "from scipy import stats\n",
    "import numpy as np\n",
    "import matplotlib.pyplot as plt\n",
    "\n",
    "# 수익률 데이터\n",
    "stock_returns = [0.065, 0.0265, -0.0593, -0.001, 0.0346]\n",
    "mkt_returns = [0.055, -0.09, -0.041, 0.045, 0.022]\n",
    "\n",
    "# 선형 회귀 분석 (베타 및 알파 계산)\n",
    "beta, alpha, r_value, p_value, std_err = stats.linregress(stock_returns, mkt_returns)\n",
    "print(beta, alpha, r_value, p_value, std_err)\n",
    "\n",
    "# CAPM 변수 설정\n",
    "rf = 0.05  # 무위험 수익률 (5%)\n",
    "market_premium = 0.085  # 시장 위험 프리미엄 (8.5%)\n",
    "beta = 0.5077  # 주식의 베타 값\n",
    "\n",
    "# CAPM 공식: 기대 수익률 계산\n",
    "expected_return = rf + beta * market_premium\n",
    "\n",
    "# 결과 출력\n",
    "print(f\"무위험 수익률 (R_f): {rf:.2%}\")\n",
    "print(f\"시장 위험 프리미엄 (E(R_M) - R_f): {market_premium:.2%}\")\n",
    "print(f\"주식의 베타 (β): {beta}\")\n",
    "print(f\"예상 자본 수익률 (E(R_i)): {expected_return:.2%}\")"
   ]
  },
  {
   "cell_type": "code",
   "execution_count": 4,
   "id": "600ae4a9-d7f5-47a4-9fd6-b1a5aa0ed5f4",
   "metadata": {},
   "outputs": [
    {
     "name": "stdout",
     "output_type": "stream",
     "text": [
      "회귀 분석 결과: Beta = 0.5077, Alpha = -0.0085\n"
     ]
    },
    {
     "data": {
      "image/png": "[encoded data removed]",
      "text/plain": [
       "<Figure size 1000x600 with 1 Axes>"
      ]
     },
     "metadata": {},
     "output_type": "display_data"
    },
    {
     "name": "stdout",
     "output_type": "stream",
     "text": [
      "\n",
      "주식의 실제 평균 수익률: 1.32%\n",
      "CAPM 기대 수익률: 9.32%\n",
      "주식 상태: 고평가 (Overpriced)\n"
     ]
    }
   ],
   "source": [
    "from scipy import stats\n",
    "import numpy as np\n",
    "import matplotlib.pyplot as plt\n",
    "import platform\n",
    "\n",
    "# 시스템별 한글 폰트 설정\n",
    "if platform.system() == 'Windows':\n",
    "    plt.rcParams['font.family'] = 'Malgun Gothic'  # 윈도우: 맑은 고딕\n",
    "elif platform.system() == 'Darwin':  # Darwin은 MacOS를 의미\n",
    "    plt.rcParams['font.family'] = 'AppleGothic'   # 맥: 애플 고딕\n",
    "else:\n",
    "    plt.rcParams['font.family'] = 'NanumGothic'   # 리눅스 환경 (예: 나눔 고딕)\n",
    "\n",
    "# 음수 값에 '-' 기호 깨짐 방지\n",
    "plt.rcParams['axes.unicode_minus'] = False\n",
    "\n",
    "# 수익률 데이터\n",
    "stock_returns = [0.065, 0.0265, -0.0593, -0.001, 0.0346]\n",
    "mkt_returns = [0.055, -0.09, -0.041, 0.045, 0.022]\n",
    "\n",
    "# 선형 회귀 분석 (베타 및 알파 계산)\n",
    "beta, alpha, r_value, p_value, std_err = stats.linregress(stock_returns, mkt_returns)\n",
    "print(f\"회귀 분석 결과: Beta = {beta:.4f}, Alpha = {alpha:.4f}\")\n",
    "\n",
    "# CAPM 변수 설정\n",
    "rf = 0.05  # 무위험 수익률 (5%)\n",
    "market_premium = 0.085  # 시장 위험 프리미엄 (8.5%)\n",
    "expected_return = rf + beta * market_premium\n",
    "\n",
    "# SML (Security Market Line) 계산\n",
    "betas = np.linspace(-0.5, 1.5, 100)  # 베타 값 범위 (-0.5 ~ 1.5)\n",
    "sml_returns = rf + market_premium * betas  # SML 직선\n",
    "\n",
    "# 주식의 실제 수익률 및 기대 수익률\n",
    "actual_return = np.mean(stock_returns)\n",
    "expected_stock_return = rf + beta * market_premium\n",
    "\n",
    "# 그래프 그리기\n",
    "plt.figure(figsize=(10, 6))\n",
    "plt.plot(betas, sml_returns, color='blue', linewidth=2, label=\"SML (Security Market Line)\")\n",
    "plt.scatter(beta, actual_return, color='red', s=100, label=\"Actual Stock Return (AAPL)\")\n",
    "plt.scatter(beta, expected_stock_return, color='green', s=100, label=\"CAPM Expected Return\")\n",
    "plt.axhline(y=rf, color='gray', linestyle='--', label=\"Risk-Free Rate\")\n",
    "\n",
    "# 저평가 또는 고평가 판단\n",
    "if actual_return > expected_stock_return:\n",
    "    status = \"저평가 (Underpriced)\"\n",
    "else:\n",
    "    status = \"고평가 (Overpriced)\"\n",
    "plt.annotate(f\"{status}\", (beta, actual_return), textcoords=\"offset points\", xytext=(-20,10), ha='center')\n",
    "\n",
    "# 그래프 레이아웃 설정\n",
    "plt.title(\"CAPM SML: 저평가와 고평가 구분\")\n",
    "plt.xlabel(\"Beta (β)\")\n",
    "plt.ylabel(\"Expected Return\")\n",
    "plt.legend()\n",
    "plt.grid(True)\n",
    "plt.show()\n",
    "\n",
    "# 결과 출력\n",
    "print(f\"\\n주식의 실제 평균 수익률: {actual_return:.2%}\")\n",
    "print(f\"CAPM 기대 수익률: {expected_stock_return:.2%}\")\n",
    "print(f\"주식 상태: {status}\")"
   ]
  },
  {
   "cell_type": "markdown",
   "id": "d1f377fe-cbaf-4168-93ee-2fb37745b9fc",
   "metadata": {},
   "source": [
    "# 차익거래가격결정이론 모델"
   ]
  },
  {
   "cell_type": "code",
   "execution_count": 5,
   "id": "0c030b34-b38b-4ef9-9ccf-0964c1841a1d",
   "metadata": {},
   "outputs": [
    {
     "name": "stdout",
     "output_type": "stream",
     "text": [
      "                            OLS Regression Results                            \n",
      "==============================================================================\n",
      "Dep. Variable:                      y   R-squared:                       0.788\n",
      "Model:                            OLS   Adj. R-squared:                 -0.692\n",
      "Method:                 Least Squares   F-statistic:                    0.5326\n",
      "Date:                Wed, 22 Jan 2025   Prob (F-statistic):              0.787\n",
      "Time:                        11:15:07   Log-Likelihood:                 8.4783\n",
      "No. Observations:                   9   AIC:                           -0.9566\n",
      "Df Residuals:                       1   BIC:                            0.6212\n",
      "Df Model:                           7                                         \n",
      "Covariance Type:            nonrobust                                         \n",
      "==============================================================================\n",
      "                 coef    std err          t      P>|t|      [0.025      0.975]\n",
      "------------------------------------------------------------------------------\n",
      "const         -0.3791      2.388     -0.159      0.900     -30.725      29.967\n",
      "x1             1.3609      3.539      0.385      0.766     -43.606      46.327\n",
      "x2            -0.7103      0.865     -0.821      0.562     -11.707      10.287\n",
      "x3            -0.5586      2.166     -0.258      0.839     -28.076      26.958\n",
      "x4            -0.8216      0.929     -0.884      0.539     -12.627      10.984\n",
      "x5             2.1375      3.821      0.559      0.675     -46.410      50.685\n",
      "x6             1.3064      1.760      0.742      0.593     -21.051      23.664\n",
      "x7            -0.9591      2.174     -0.441      0.735     -28.577      26.659\n",
      "==============================================================================\n",
      "Omnibus:                        3.070   Durbin-Watson:                   2.802\n",
      "Prob(Omnibus):                  0.215   Jarque-Bera (JB):                0.961\n",
      "Skew:                          -0.157   Prob(JB):                        0.618\n",
      "Kurtosis:                       1.430   Cond. No.                         123.\n",
      "==============================================================================\n",
      "\n",
      "Notes:\n",
      "[1] Standard Errors assume that the covariance matrix of the errors is correctly specified.\n"
     ]
    },
    {
     "name": "stderr",
     "output_type": "stream",
     "text": [
      "c:\\Users\\campus3S031\\Desktop\\iMBank\\iM_DiGital_Banker_academy\\venv\\Lib\\site-packages\\scipy\\stats\\_axis_nan_policy.py:531: UserWarning: kurtosistest only valid for n>=20 ... continuing anyway, n=9\n",
      "  res = hypotest_fun_out(*samples, **kwds)\n"
     ]
    }
   ],
   "source": [
    "import numpy as np\n",
    "import statsmodels.api as sm\n",
    "\n",
    "# Generate some sample data\n",
    "num_periods = 9\n",
    "all_values = np.array([np.random.random(8) \\\n",
    "                       for i in range(num_periods)])\n",
    "\n",
    "# Filter the data\n",
    "y_values = all_values[:, 0] # First column values as Y\n",
    "x_values = all_values[:, 1:] # All other values as X\n",
    "x_values = sm.add_constant(x_values) # Include the intercept\n",
    "results = sm.OLS(y_values, x_values).fit() # Regress and fit the model\n",
    "\n",
    "print(results.summary())"
   ]
  },
  {
   "cell_type": "code",
   "execution_count": 6,
   "id": "16eea5a9-3de8-4d81-b43b-1aed569bf90a",
   "metadata": {},
   "outputs": [
    {
     "name": "stdout",
     "output_type": "stream",
     "text": [
      "[-0.37906882  1.36086344 -0.71034141 -0.55860382 -0.82164589  2.13747538\n",
      "  1.30642376 -0.95908934]\n"
     ]
    }
   ],
   "source": [
    "print(results.params)"
   ]
  },
  {
   "cell_type": "markdown",
   "id": "75828769-b8a9-440b-bb9b-248883e5ac3b",
   "metadata": {},
   "source": [
    "# 선형 최적화\n",
    "- 라이브러리 : https://github.com/pulp-platform/pulp\n",
    "- 2개 변수를 가진 단순 선형 최적화 문제 "
   ]
  },
  {
   "cell_type": "code",
   "execution_count": 7,
   "id": "cf3d173e-2aec-4d18-8a23-39c360321c1e",
   "metadata": {},
   "outputs": [
    {
     "data": {
      "image/png": "[encoded data removed]",
      "text/plain": [
       "<Figure size 640x480 with 1 Axes>"
      ]
     },
     "metadata": {},
     "output_type": "display_data"
    }
   ],
   "source": [
    "import numpy as np\n",
    "import matplotlib.pyplot as plt\n",
    "import platform\n",
    "\n",
    "# 시스템별 한글 폰트 설정\n",
    "if platform.system() == 'Windows':\n",
    "    plt.rcParams['font.family'] = 'Malgun Gothic'  # 윈도우: 맑은 고딕\n",
    "elif platform.system() == 'Darwin':  # Darwin은 MacOS를 의미\n",
    "    plt.rcParams['font.family'] = 'AppleGothic'   # 맥: 애플 고딕\n",
    "else:\n",
    "    plt.rcParams['font.family'] = 'NanumGothic'   # 리눅스 환경 (예: 나눔 고딕)\n",
    "\n",
    "# Create the figure and axis\n",
    "fig, ax = plt.subplots()\n",
    "\n",
    "# Create the plot range\n",
    "x = np.linspace(0, 80, 100)\n",
    "\n",
    "# Equations of the constraints\n",
    "y1 = 100 - 2*x  # 2x + y = 100\n",
    "y2 = 80 - x     # x + y = 80 -> passes through (20, 60)\n",
    "x3 = 40         # x = 40 (vertical line)\n",
    "\n",
    "# Feasible region\n",
    "x_fill = np.linspace(0, 40, 100)\n",
    "y_fill = np.minimum(100 - 2*x_fill, 80 - x_fill)\n",
    "\n",
    "# Plot the constraints\n",
    "ax.plot(x, y1, 'r-', label='2x + y <= 100')   # Red solid line\n",
    "ax.plot(x, y2, 'b--', label='x + y <= 80')   # Blue dashed line (updated constraint)\n",
    "ax.axvline(x=x3, color='g', linestyle='--', label='x <= 40')  # Green dashed vertical line\n",
    "\n",
    "# Fill the feasible region\n",
    "ax.fill_between(x_fill, 0, y_fill, color='lightblue')\n",
    "\n",
    "# Highlight the optimal solution\n",
    "optimal_x, optimal_y = 20, 60  # Coordinates of the optimal point\n",
    "ax.plot(optimal_x, optimal_y, 'ko')  # Black dot\n",
    "ax.annotate('최댓값', xy=(optimal_x, optimal_y), xytext=(30, 70),\n",
    "            arrowprops=dict(facecolor='black', arrowstyle='->'), fontsize=12)\n",
    "\n",
    "# Set axis labels\n",
    "ax.set_xlabel('x')\n",
    "ax.set_ylabel('y')\n",
    "\n",
    "# Set limits\n",
    "ax.set_xlim(0, 80)\n",
    "ax.set_ylim(0, 100)\n",
    "\n",
    "# Add legend\n",
    "ax.legend()\n",
    "\n",
    "# Show the plot\n",
    "plt.show()"
   ]
  },
  {
   "cell_type": "code",
   "execution_count": 8,
   "id": "7c580395-0cc8-462a-bd12-73541b706961",
   "metadata": {},
   "outputs": [
    {
     "ename": "ModuleNotFoundError",
     "evalue": "No module named 'pulp'",
     "output_type": "error",
     "traceback": [
      "\u001b[1;31m---------------------------------------------------------------------------\u001b[0m",
      "\u001b[1;31mModuleNotFoundError\u001b[0m                       Traceback (most recent call last)",
      "Cell \u001b[1;32mIn[8], line 1\u001b[0m\n\u001b[1;32m----> 1\u001b[0m \u001b[38;5;28;01mimport\u001b[39;00m \u001b[38;5;21;01mpulp\u001b[39;00m\n\u001b[0;32m      3\u001b[0m x \u001b[38;5;241m=\u001b[39m pulp\u001b[38;5;241m.\u001b[39mLpVariable(\u001b[38;5;124m'\u001b[39m\u001b[38;5;124mx\u001b[39m\u001b[38;5;124m'\u001b[39m, lowBound\u001b[38;5;241m=\u001b[39m\u001b[38;5;241m0\u001b[39m)\n\u001b[0;32m      4\u001b[0m y \u001b[38;5;241m=\u001b[39m pulp\u001b[38;5;241m.\u001b[39mLpVariable(\u001b[38;5;124m'\u001b[39m\u001b[38;5;124my\u001b[39m\u001b[38;5;124m'\u001b[39m, lowBound\u001b[38;5;241m=\u001b[39m\u001b[38;5;241m0\u001b[39m)\n",
      "\u001b[1;31mModuleNotFoundError\u001b[0m: No module named 'pulp'"
     ]
    }
   ],
   "source": [
    "import pulp\n",
    "\n",
    "x = pulp.LpVariable('x', lowBound=0)\n",
    "y = pulp.LpVariable('y', lowBound=0)\n",
    "\n",
    "problem = pulp.LpProblem(\n",
    "    'A simple maximization objective', \n",
    "    pulp.LpMaximize)\n",
    "problem += 3*x + 2*y, 'The objective function'\n",
    "problem += 2*x + y <= 100, '1st constraint'\n",
    "problem += x + y <= 80, '2nd constraint'\n",
    "problem += x <= 40, '3rd constraint'\n",
    "problem.solve()"
   ]
  },
  {
   "cell_type": "code",
   "execution_count": 16,
   "id": "5d04143b-1b97-4afb-a585-2ea1e471b129",
   "metadata": {},
   "outputs": [
    {
     "name": "stdout",
     "output_type": "stream",
     "text": [
      "Maximization Results:\n",
      "x = 20.0\n",
      "y = 60.0\n",
      "180\n"
     ]
    }
   ],
   "source": [
    "print(\"Maximization Results:\")\n",
    "for variable in problem.variables():\n",
    "    print(variable.name, '=', variable.varValue)\n",
    "\n",
    "y = 3 * 20 + 2 * 60\n",
    "print(y)"
   ]
  },
  {
   "cell_type": "markdown",
   "id": "de1f3f3a-9e97-4706-8475-24e444aadcda",
   "metadata": {},
   "source": [
    "# 정수 프로그래밍 사용 예제\n",
    "- 딜러 Y로부터 90건의 계약 구매\n",
    "- 딜러 Z로부터 60건의 계약 구매\n",
    "- 다른 모든 제약 충족하면서 66,500$ 최저 비용 값 얻을 수 있음"
   ]
  },
  {
   "cell_type": "code",
   "execution_count": 26,
   "id": "0600bf6d-bb28-49f1-b4f0-fe6915583869",
   "metadata": {},
   "outputs": [
    {
     "name": "stdout",
     "output_type": "stream",
     "text": [
      "Minimization Results:\n",
      "orders_X = 0.0\n",
      "orders_Y = 1.0\n",
      "orders_Z = 1.0\n",
      "quantity_X = 0.0\n",
      "quantity_Y = 90.0\n",
      "quantity_Z = 60.0\n",
      "Total cost: 66500.0\n"
     ]
    }
   ],
   "source": [
    "import pulp\n",
    "\n",
    "# 딜러 목록\n",
    "dealers = ['X', 'Y', 'Z']\n",
    "\n",
    "# 변수 비용 (단위당 비용)\n",
    "variable_costs = {'X': 500, 'Y': 350, 'Z': 450}\n",
    "\n",
    "# 고정 비용 (딜러별로 발생하는 고정 비용)\n",
    "fixed_costs = {'X': 4000, 'Y': 2000, 'Z': 6000}\n",
    "\n",
    "# PuLP 변수를 정의 (딜러별로 계약 수량과 이진 변수)\n",
    "quantities = pulp.LpVariable.dicts('quantity',  # 계약 수량 변수\n",
    "                                   dealers, \n",
    "                                   lowBound=0,  # 최소값은 0\n",
    "                                   cat=pulp.LpInteger)  # 정수형 변수\n",
    "is_orders = pulp.LpVariable.dicts('orders',  # 계약 여부를 나타내는 이진 변수\n",
    "                                  dealers,\n",
    "                                  cat=pulp.LpBinary)  # 이진 변수: 0 또는 1\n",
    "\n",
    "# 모델 초기화 및 목적 함수 설정\n",
    "model = pulp.LpProblem('A cost minimization problem', pulp.LpMinimize)\n",
    "\n",
    "# 목표 함수: 비용 최소화 (단위 비용 * 수량 + 고정 비용 * 계약 여부)\n",
    "model += sum([variable_costs[i] * quantities[i] + \n",
    "              fixed_costs[i] * is_orders[i] for i in dealers]), 'Minimize portfolio cost'\n",
    "\n",
    "# 제약 조건 1: 총 계약 수는 150개여야 한다.\n",
    "model += sum([quantities[i] for i in dealers]) == 150, 'Total contracts required'\n",
    "\n",
    "# 제약 조건 2: 각 딜러별 최소 및 최대 계약 수량 설정\n",
    "model += is_orders['X'] * 30 <= quantities['X'] <= is_orders['X'] * 100, 'Boundary of total volume of X'\n",
    "model += is_orders['Y'] * 30 <= quantities['Y'] <= is_orders['Y'] * 90, 'Boundary of total volume of Y'\n",
    "model += is_orders['Z'] * 30 <= quantities['Z'] <= is_orders['Z'] * 70, 'Boundary of total volume of Z'\n",
    "\n",
    "# 문제 해결\n",
    "model.solve()\n",
    "\n",
    "# 결과 출력\n",
    "print('Minimization Results:')\n",
    "for variable in model.variables():\n",
    "    print(variable, '=', variable.varValue)\n",
    "\n",
    "# 총 비용 출력\n",
    "print('Total cost:', pulp.value(model.objective))"
   ]
  },
  {
   "cell_type": "markdown",
   "id": "66040bec-9361-490c-92d1-f4f299622c59",
   "metadata": {},
   "source": [
    "# 행렬을 사용한 선형 방정식\n",
    "- a 증권은 6개 단위의 롱 포지션\n",
    "- b 증권은 15개 단위의 롱 포지션\n",
    "- c 증권은 23개 단위의 숏 포지션으로 구성"
   ]
  },
  {
   "cell_type": "code",
   "execution_count": 28,
   "id": "32e465b2-b196-4a2b-864b-4a64bb310205",
   "metadata": {},
   "outputs": [
    {
     "name": "stdout",
     "output_type": "stream",
     "text": [
      "[  6.  15. -23.]\n"
     ]
    }
   ],
   "source": [
    "\"\"\"\n",
    "- a 증권은 6개 단위의 롱 포지션\n",
    "- b 증권은 15개 단위의 롱 포지션\n",
    "- c 증권은 23개 단위의 숏 포지션으로 구성\n",
    "\"\"\"\n",
    "\n",
    "import numpy as np\n",
    "\n",
    "A = np.array([[2, 1, 1],[1, 3, 2],[1, 0, 0]])\n",
    "B = np.array([4, 5, 6])\n",
    "\n",
    "print(np.linalg.solve(A, B))"
   ]
  },
  {
   "cell_type": "markdown",
   "id": "0fd0cb4a-e9b7-4ab7-8f70-e008cbc87a22",
   "metadata": {},
   "source": [
    "# LU 분해"
   ]
  },
  {
   "cell_type": "code",
   "execution_count": 30,
   "id": "bf0c34db-2c8a-4b78-b851-de0e5899ce6b",
   "metadata": {},
   "outputs": [
    {
     "name": "stdout",
     "output_type": "stream",
     "text": [
      "[  6.  15. -23.]\n"
     ]
    }
   ],
   "source": [
    " \"\"\" \n",
    "LU decomposition with SciPy \n",
    "\"\"\"\n",
    "import numpy as np\n",
    "import scipy.linalg as linalg\n",
    "\n",
    "\n",
    "# Define A and B\n",
    "A = np.array([\n",
    "    [2., 1., 1.],\n",
    "    [1., 3., 2.],\n",
    "    [1., 0., 0.]])\n",
    "B = np.array([4., 5., 6.])\n",
    "\n",
    "# Perform LU decompositiopn\n",
    "LU = linalg.lu_factor(A)\n",
    "x = linalg.lu_solve(LU, B)\n",
    "print(x)"
   ]
  },
  {
   "cell_type": "code",
   "execution_count": 31,
   "id": "cd7d1cc1-8403-4738-9717-f36ec2e5aa8f",
   "metadata": {},
   "outputs": [
    {
     "name": "stdout",
     "output_type": "stream",
     "text": [
      "P=\n",
      " [[1. 0. 0.]\n",
      " [0. 1. 0.]\n",
      " [0. 0. 1.]]\n",
      "L=\n",
      " [[ 1.   0.   0. ]\n",
      " [ 0.5  1.   0. ]\n",
      " [ 0.5 -0.2  1. ]]\n",
      "U=\n",
      " [[ 2.   1.   1. ]\n",
      " [ 0.   2.5  1.5]\n",
      " [ 0.   0.  -0.2]]\n"
     ]
    }
   ],
   "source": [
    "import scipy\n",
    "\n",
    "P, L, U = scipy.linalg.lu(A)\n",
    "\n",
    "print('P=\\n', P)\n",
    "print('L=\\n', L)\n",
    "print('U=\\n', U)"
   ]
  },
  {
   "cell_type": "markdown",
   "id": "dbe69a4f-9554-4aeb-b00a-bbee3de99904",
   "metadata": {},
   "source": [
    "# 촐레스키 분해"
   ]
  },
  {
   "cell_type": "code",
   "execution_count": 34,
   "id": "2a0fc05b-db14-4eb4-8d9c-44c49848bd61",
   "metadata": {},
   "outputs": [
    {
     "name": "stdout",
     "output_type": "stream",
     "text": [
      "[[ 3.16227766  0.          0.          0.        ]\n",
      " [-0.31622777  3.3015148   0.          0.        ]\n",
      " [ 0.63245553 -0.24231301  3.08889696  0.        ]\n",
      " [ 0.          0.9086738  -0.25245792  2.6665665 ]]\n"
     ]
    }
   ],
   "source": [
    "\"\"\" \n",
    "Cholesky decomposition with NumPy \n",
    "\"\"\"\n",
    "import numpy as np\n",
    "\n",
    "A = np.array([\n",
    "    [10., -1., 2., 0.],\n",
    "    [-1., 11., -1., 3.],\n",
    "    [2., -1., 10., -1.],\n",
    "    [0., 3., -1., 8.]])\n",
    "B = np.array([6., 25., -11., 15.])\n",
    "\n",
    "L = np.linalg.cholesky(A)\n",
    "print(L)"
   ]
  },
  {
   "cell_type": "code",
   "execution_count": 37,
   "id": "d4bb3576-7b72-4165-9b5b-1f1c417856a8",
   "metadata": {},
   "outputs": [
    {
     "name": "stdout",
     "output_type": "stream",
     "text": [
      "[[10. -1.  2.  0.]\n",
      " [-1. 11. -1.  3.]\n",
      " [ 2. -1. 10. -1.]\n",
      " [ 0.  3. -1.  8.]]\n",
      "[ 1.  2. -1.  1.]\n",
      "[[  6.]\n",
      " [ 25.]\n",
      " [-11.]\n",
      " [ 15.]]\n"
     ]
    }
   ],
   "source": [
    "print(np.dot(L, L.T.conj()))  # A=L.L*\n",
    "y = np.linalg.solve(L, B)  # L.L*.x=B; When L*.x=y, then L.y=B\n",
    "x = np.linalg.solve(L.T.conj(), y)  # x=L*'.y\n",
    "print(x)\n",
    "print(np.mat(A) * np.mat(x).T)  # B=Ax"
   ]
  },
  {
   "cell_type": "markdown",
   "id": "61199844-9bf6-4f60-aa89-11f60cee9032",
   "metadata": {},
   "source": [
    "# QR 분해"
   ]
  },
  {
   "cell_type": "code",
   "execution_count": 38,
   "id": "1e64ec8e-49ad-4e87-a34c-a4d2e1e22921",
   "metadata": {},
   "outputs": [
    {
     "name": "stdout",
     "output_type": "stream",
     "text": [
      "[  6.  15. -23.]\n"
     ]
    }
   ],
   "source": [
    "\"\"\" \n",
    "QR decomposition with scipy \n",
    "\"\"\"\n",
    "import numpy as np\n",
    "import scipy.linalg as linalg\n",
    "\n",
    "\n",
    "A = np.array([\n",
    "    [2., 1., 1.],\n",
    "    [1., 3., 2.],\n",
    "    [1., 0., 0]])\n",
    "B = np.array([4., 5., 6.])\n",
    "\n",
    "Q, R = scipy.linalg.qr(A)  # QR decomposition\n",
    "y = np.dot(Q.T, B)  # Let y=Q'.B\n",
    "x = scipy.linalg.solve(R, y)  # Solve Rx=y\n",
    "\n",
    "print(x)"
   ]
  },
  {
   "cell_type": "markdown",
   "id": "73f5c7af-ada2-4266-8928-161a80605b40",
   "metadata": {},
   "source": [
    "# 자코비 기법\n",
    "- 25번의 반복을 사용하여 X의 값을 찾음"
   ]
  },
  {
   "cell_type": "code",
   "execution_count": 1,
   "id": "216625bd-bc56-45a8-9f3c-60c781c0c5c4",
   "metadata": {},
   "outputs": [
    {
     "name": "stdout",
     "output_type": "stream",
     "text": [
      "x = [ 1.  2. -1.  1.]\n"
     ]
    }
   ],
   "source": [
    "\"\"\"\n",
    "Solve Ax=B with the Jacobi method \n",
    "\"\"\"\n",
    "import numpy as np\n",
    "\n",
    "def jacobi(A, B, n, tol=1e-10):\n",
    "    # Initializes x with zeroes with same shape and type as B\n",
    "    x = np.zeros_like(B)\n",
    "\n",
    "    for iter_count in range(n):\n",
    "        x_new = np.zeros_like(x)\n",
    "        for i in range(A.shape[0]):\n",
    "            s1 = np.dot(A[i, :i], x[:i])\n",
    "            s2 = np.dot(A[i, i + 1:], x[i + 1:])\n",
    "            x_new[i] = (B[i] - s1 - s2) / A[i, i]\n",
    "\n",
    "        if np.allclose(x, x_new, tol):\n",
    "            break\n",
    "\n",
    "        x = x_new\n",
    "\n",
    "    return x\n",
    "\n",
    "A = np.array([\n",
    "    [10., -1., 2., 0.], \n",
    "    [-1., 11., -1., 3.], \n",
    "    [2., -1., 10., -1.], \n",
    "    [0.0, 3., -1., 8.]])\n",
    "B = np.array([6., 25., -11., 15.])\n",
    "n = 25\n",
    "\n",
    "x = jacobi(A, B, n)\n",
    "print('x', '=', x)"
   ]
  },
  {
   "cell_type": "markdown",
   "id": "9a613449-ed6c-483d-8cbb-00cb21fa060f",
   "metadata": {},
   "source": [
    "# 가우스-자이델"
   ]
  },
  {
   "cell_type": "code",
   "execution_count": 3,
   "id": "0e3ec014-b0ca-4aa9-9aed-8382db918faa",
   "metadata": {},
   "outputs": [
    {
     "name": "stdout",
     "output_type": "stream",
     "text": [
      "x = [ 1.  2. -1.  1.]\n"
     ]
    }
   ],
   "source": [
    "\"\"\" \n",
    "Solve Ax=B with the Gauss-Seidel method \n",
    "\"\"\"\n",
    "import numpy as np\n",
    "\n",
    "\n",
    "def gauss(A, B, n, tol=1e-10):\n",
    "    L = np.tril(A)  # returns the lower triangular matrix of A\n",
    "    U = A-L  # decompose A = L + U\n",
    "    L_inv = np.linalg.inv(L)\n",
    "    x = np.zeros_like(B)\n",
    "\n",
    "    for i in range(n):\n",
    "        Ux = np.dot(U, x)\n",
    "        x_new = np.dot(L_inv, B - Ux)\n",
    "\n",
    "        if np.allclose(x, x_new, tol):\n",
    "            break\n",
    "\n",
    "        x = x_new\n",
    "\n",
    "    return x\n",
    "\n",
    "A = np.array([\n",
    "    [10., -1., 2., 0.], \n",
    "    [-1., 11., -1., 3.], \n",
    "    [2., -1., 10., -1.], \n",
    "    [0.0, 3., -1., 8.]])\n",
    "B = np.array([6., 25., -11., 15.])\n",
    "n = 100\n",
    "x = gauss(A, B, n)\n",
    "print('x', '=', x)"
   ]
  }
 ],
 "metadata": {
  "kernelspec": {
   "display_name": "Python 3 (ipykernel)",
   "language": "python",
   "name": "python3"
  },
  "language_info": {
   "codemirror_mode": {
    "name": "ipython",
    "version": 3
   },
   "file_extension": ".py",
   "mimetype": "text/x-python",
   "name": "python",
   "nbconvert_exporter": "python",
   "pygments_lexer": "ipython3",
   "version": "3.12.7"
  }
 },
 "nbformat": 4,
 "nbformat_minor": 5
}
