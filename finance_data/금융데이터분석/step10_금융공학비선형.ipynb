{
 "cells": [
  {
   "cell_type": "markdown",
   "id": "fc6e9bac-39a5-457e-8d17-fbc44d2cf824",
   "metadata": {},
   "source": [
    "# 증분 검색 알고리즘\n",
    "- 모든 반복 절차에서 a는 c로 대체\n",
    "- c는 다음 비교 전에 dx만큼 증가\n",
    "- 근이 발견되면 a와 c 사이 어딘가에 있었다는 의미\n",
    "- 해가 미 발견 시, 두 지점의 평균을 최상의 추정치로 반복\n",
    "- 아래 예제는 -5와 5 사이에 해석적 해를 갖고 있는 식을 사용해 찾기 알고리즘 사용\n",
    "- dx는 0.001의 작은 값 사용, 정밀도를 결정하는 역할"
   ]
  },
  {
   "cell_type": "code",
   "execution_count": 1,
   "id": "60bca731-40bc-47a6-a829-d93db4748619",
   "metadata": {},
   "outputs": [
    {
     "name": "stdout",
     "output_type": "stream",
     "text": [
      "Root is: 1.2414999999999783\n",
      "Iterations: 6242\n"
     ]
    }
   ],
   "source": [
    "\"\"\" \n",
    "An incremental search algorithm \n",
    "\"\"\"\n",
    "import numpy as np\n",
    "\n",
    "def incremental_search(func, a, b, dx):\n",
    "    \"\"\"\n",
    "    :param func: The function to solve\n",
    "    :param a: The left boundary x-axis value\n",
    "    :param b: The right boundary x-axis value\n",
    "    :param dx: The incremental value in searching\n",
    "    :return: \n",
    "        The x-axis value of the root,\n",
    "        number of iterations used\n",
    "    \"\"\"\n",
    "    fa = func(a)\n",
    "    c = a + dx\n",
    "    fc = func(c)\n",
    "    n = 1\n",
    "    while np.sign(fa) == np.sign(fc):\n",
    "        if a >= b:\n",
    "            return a - dx, n\n",
    "\n",
    "        a = c\n",
    "        fa = fc\n",
    "        c = a + dx\n",
    "        fc = func(c)\n",
    "        n += 1\n",
    "\n",
    "    if fa == 0:\n",
    "        return a, n\n",
    "    elif fc == 0:\n",
    "        return c, n\n",
    "    else:\n",
    "        return (a + c)/2., n\n",
    "\n",
    "# The keyword 'lambda' creates an anonymous function\n",
    "# with input argument x\n",
    "y = lambda x: x**3 + 2.*x**2 - 5.\n",
    "root, iterations = incremental_search (y, -5., 5., 0.001)\n",
    "print(\"Root is:\", root)\n",
    "print(\"Iterations:\", iterations)"
   ]
  },
  {
   "cell_type": "markdown",
   "id": "3f8b06a6-3212-4743-9bda-381800df4627",
   "metadata": {},
   "source": [
    "# 이분법"
   ]
  },
  {
   "cell_type": "code",
   "execution_count": 2,
   "id": "34351434-be5e-422d-acf8-04369187be98",
   "metadata": {},
   "outputs": [
    {
     "name": "stdout",
     "output_type": "stream",
     "text": [
      "Root is: 1.241903305053711\n",
      "Iterations: 20\n"
     ]
    }
   ],
   "source": [
    "\"\"\" \n",
    "The bisection method \n",
    "\"\"\"\n",
    "def bisection(func, a, b, tol=0.1, maxiter=10):\n",
    "    \"\"\"\n",
    "    :param func: The function to solve\n",
    "    :param a: The x-axis value where f(a)<0\n",
    "    :param b: The x-axis value where f(b)>0\n",
    "    :param tol: The precision of the solution\n",
    "    :param maxiter: Maximum number of iterations\n",
    "    :return: \n",
    "        The x-axis value of the root,\n",
    "        number of iterations used\n",
    "    \"\"\"\n",
    "    c = (a+b)*0.5  # Declare c as the midpoint ab\n",
    "    n = 1  # Start with 1 iteration\n",
    "    while n <= maxiter:\n",
    "        c = (a+b)*0.5\n",
    "        if func(c) == 0 or abs(a-b)*0.5 < tol:\n",
    "            # Root is found or is very close\n",
    "            return c, n\n",
    "\n",
    "        n += 1\n",
    "        if func(c) < 0:\n",
    "            a = c\n",
    "        else:\n",
    "            b = c\n",
    "\n",
    "    return c, n\n",
    "\n",
    "y = lambda x: x**3 + 2.*x**2 - 5\n",
    "root, iterations = bisection(y, -5, 5, 0.00001, 100)\n",
    "print(\"Root is:\", root)\n",
    "print(\"Iterations:\", iterations)"
   ]
  },
  {
   "cell_type": "markdown",
   "id": "1d9108c8-9cc4-47be-95d1-5d2335ea27a1",
   "metadata": {},
   "source": [
    "# 뉴턴 기법"
   ]
  },
  {
   "cell_type": "code",
   "execution_count": 5,
   "id": "0aee5527-1dfa-4f43-8ec4-102394373626",
   "metadata": {},
   "outputs": [
    {
     "name": "stdout",
     "output_type": "stream",
     "text": [
      "Root is: 1.241896563034502\n",
      "Iterations: 7\n"
     ]
    }
   ],
   "source": [
    "\"\"\" \n",
    "The Newton-Raphson method \n",
    "\"\"\"\n",
    "def newton(func, df, x, tol=0.001, maxiter=100):\n",
    "    \"\"\"\n",
    "    :param func: The function to solve\n",
    "    :param df: The derivative function of f\n",
    "    :param x: Initial guess value of x\n",
    "    :param tol: The precision of the solution\n",
    "    :param maxiter: Maximum number of iterations\n",
    "    :return: \n",
    "        The x-axis value of the root,\n",
    "        number of iterations used\n",
    "    \"\"\"\n",
    "    n = 1\n",
    "    while n <= maxiter:\n",
    "        x1 = x - func(x)/df(x)\n",
    "        if abs(x1 - x) < tol: # Root is very close\n",
    "            return x1, n\n",
    "\n",
    "        x = x1\n",
    "        n += 1\n",
    "\n",
    "    return None, n\n",
    "\n",
    "y = lambda x: x**3 + 2.*x**2 - 5.\n",
    "dy = lambda x: 3.*x**2. + 4.*x\n",
    "root, iterations = newton(y, dy, 5.0, 0.00001, 100)\n",
    "print(\"Root is:\", root)\n",
    "print(\"Iterations:\", iterations)"
   ]
  },
  {
   "cell_type": "markdown",
   "id": "17ae0cb8-2358-4872-9f96-5cc4321fdcfe",
   "metadata": {},
   "source": [
    "# 시컨트 기법"
   ]
  },
  {
   "cell_type": "code",
   "execution_count": 7,
   "id": "cf8636b3-38c6-479b-b7b7-bbfedd20c7c9",
   "metadata": {},
   "outputs": [
    {
     "name": "stdout",
     "output_type": "stream",
     "text": [
      "Root is: 1.2418965622558549\n",
      "Iterations: 14\n"
     ]
    }
   ],
   "source": [
    "\"\"\" \n",
    "The secant root-finding method \n",
    "\"\"\"\n",
    "def secant(func, a, b, tol=0.001, maxiter=100):\n",
    "    \"\"\"\n",
    "    :param func: The function to solve\n",
    "    :param a: Initial x-axis guess value\n",
    "    :param b: Initial x-axis guess value, where b>a\n",
    "    :param tol: The precision of the solution\n",
    "    :param maxiter: Maximum number of iterations\n",
    "    :return: \n",
    "        The x-axis value of the root,\n",
    "        number of iterations used\n",
    "    \"\"\"\n",
    "    n = 1\n",
    "    while n <= maxiter:\n",
    "        c = b - func(b)*((b-a)/(func(b)-func(a)))\n",
    "        if abs(c-b) < tol:\n",
    "            return c, n\n",
    "\n",
    "        a = b\n",
    "        b = c\n",
    "        n += 1\n",
    "\n",
    "    return None, n\n",
    "\n",
    "y = lambda x: x**3 + 2.*x**2 - 5.\n",
    "root, iterations = secant(y, -5.0, 5.0, 0.00001, 100)\n",
    "print(\"Root is:\", root)\n",
    "print(\"Iterations:\", iterations)"
   ]
  },
  {
   "cell_type": "markdown",
   "id": "d8c48b51-2d2c-4e94-be91-93a6f44ec897",
   "metadata": {},
   "source": [
    "# SciPy implementations"
   ]
  },
  {
   "cell_type": "markdown",
   "id": "bc3dc571-4c88-4326-ada4-8c5314f809d4",
   "metadata": {},
   "source": [
    "## Root-finding scalar functions"
   ]
  },
  {
   "cell_type": "code",
   "execution_count": 8,
   "id": "19351342-a682-4078-9c50-994666977ed3",
   "metadata": {},
   "outputs": [
    {
     "name": "stdout",
     "output_type": "stream",
     "text": [
      "Bisection method: 1.241903305053711\n",
      "Newton's method: 1.2418965630344798\n",
      "Secant method: 1.2418965630344803\n",
      "Brent's method: 1.241896563034559\n"
     ]
    }
   ],
   "source": [
    "\"\"\"\n",
    "Documentation at\n",
    "http://docs.scipy.org/doc/scipy/reference/optimize.html\n",
    "\"\"\"\n",
    "import scipy.optimize as optimize\n",
    "\n",
    "y = lambda x: x**3 + 2.*x**2 - 5.\n",
    "dy = lambda x: 3.*x**2 + 4.*x\n",
    "\n",
    "# Call method: bisect(f, a, b[, args, xtol, rtol, maxiter, ...])\n",
    "print(\"Bisection method:\", optimize.bisect(y, -5., 5., xtol=0.00001))\n",
    "\n",
    "# Call method: newton(func, x0[, fprime, args, tol, ...])\n",
    "print(\"Newton's method:\", optimize.newton(y, 5., fprime=dy))\n",
    "# When fprime=None, then the secant method is used.\n",
    "print(\"Secant method:\", optimize.newton(y, 5.))\n",
    "\n",
    "# Call method: brentq(f, a, b[, args, xtol, rtol, maxiter, ...])\n",
    "print(\"Brent's method:\", optimize.brentq(y, -5., 5.))"
   ]
  },
  {
   "cell_type": "markdown",
   "id": "a4668724-812b-42a6-a1fa-b0d4451a8115",
   "metadata": {},
   "source": [
    "## General nonlinear solvers"
   ]
  },
  {
   "cell_type": "code",
   "execution_count": 10,
   "id": "c0b14e14-e99e-4727-ac2c-3b0c20560d82",
   "metadata": {},
   "outputs": [
    {
     "name": "stdout",
     "output_type": "stream",
     "text": [
      "[1.24189656]\n",
      " message: The solution converged.\n",
      " success: True\n",
      "  status: 1\n",
      "     fun: [ 3.553e-15]\n",
      "       x: [ 1.242e+00]\n",
      "  method: hybr\n",
      "    nfev: 12\n",
      "    fjac: [[-1.000e+00]]\n",
      "       r: [-9.595e+00]\n",
      "     qtf: [-3.736e-09]\n"
     ]
    }
   ],
   "source": [
    "import scipy.optimize as optimize\n",
    "\n",
    "y = lambda x: x**3 + 2.*x**2 - 5.\n",
    "dy = lambda x: 3.*x**2 + 4.*x\n",
    "\n",
    "print(optimize.fsolve(y, 5., fprime=dy)) \n",
    "print(optimize.root(y, 5.))"
   ]
  },
  {
   "cell_type": "code",
   "execution_count": 11,
   "id": "35d946c4-0bc1-4dd2-b121-a951da17cf18",
   "metadata": {},
   "outputs": [
    {
     "name": "stdout",
     "output_type": "stream",
     "text": [
      "[-1.33306553]\n"
     ]
    },
    {
     "name": "stderr",
     "output_type": "stream",
     "text": [
      "C:\\Users\\campus3S043\\AppData\\Local\\Temp\\ipykernel_33072\\269983661.py:1: RuntimeWarning: The iteration is not making good progress, as measured by the \n",
      "  improvement from the last ten iterations.\n",
      "  print(optimize.fsolve(y, -5., fprime=dy))\n"
     ]
    }
   ],
   "source": [
    "print(optimize.fsolve(y, -5., fprime=dy))"
   ]
  },
  {
   "cell_type": "code",
   "execution_count": 12,
   "id": "1c78e6c4-d3e1-4498-a5a9-d468b72b951b",
   "metadata": {},
   "outputs": [
    {
     "name": "stdout",
     "output_type": "stream",
     "text": [
      " message: The iteration is not making good progress, as measured by the \n",
      "            improvement from the last ten iterations.\n",
      " success: False\n",
      "  status: 5\n",
      "     fun: [-3.815e+00]\n",
      "       x: [-1.333e+00]\n",
      "  method: hybr\n",
      "    nfev: 28\n",
      "    fjac: [[-1.000e+00]]\n",
      "       r: [-4.615e-03]\n",
      "     qtf: [ 3.815e+00]\n"
     ]
    }
   ],
   "source": [
    "print(optimize.root(y, -5.))"
   ]
  }
 ],
 "metadata": {
  "kernelspec": {
   "display_name": "Python 3 (ipykernel)",
   "language": "python",
   "name": "python3"
  },
  "language_info": {
   "codemirror_mode": {
    "name": "ipython",
    "version": 3
   },
   "file_extension": ".py",
   "mimetype": "text/x-python",
   "name": "python",
   "nbconvert_exporter": "python",
   "pygments_lexer": "ipython3",
   "version": "3.12.6"
  }
 },
 "nbformat": 4,
 "nbformat_minor": 5
}
