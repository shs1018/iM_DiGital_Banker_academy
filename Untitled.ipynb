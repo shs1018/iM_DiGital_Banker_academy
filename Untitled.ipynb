{
 "cells": [
  {
   "cell_type": "markdown",
   "id": "e82abeba-20ec-4bc8-a2d9-16c23761a4b2",
   "metadata": {},
   "source": [
    "# 대제목"
   ]
  },
  {
   "cell_type": "code",
   "execution_count": 2,
   "id": "78d021e6-73e0-431b-b4fd-20034ce4ab36",
   "metadata": {},
   "outputs": [
    {
     "data": {
      "text/plain": [
       "-4"
      ]
     },
     "execution_count": 2,
     "metadata": {},
     "output_type": "execute_result"
    }
   ],
   "source": [
    "1+1-3*77%3**2"
   ]
  },
  {
   "cell_type": "markdown",
   "id": "27980a35-793c-403f-993e-ac7089fdd46e",
   "metadata": {},
   "source": [
    "## 중간제목1"
   ]
  },
  {
   "cell_type": "code",
   "execution_count": 8,
   "id": "4060ef3b-d9a8-4975-9bf4-2269bc9021c6",
   "metadata": {},
   "outputs": [
    {
     "name": "stdout",
     "output_type": "stream",
     "text": [
      "1.3.4\n",
      "1.20.3\n",
      "1.0.2\n"
     ]
    }
   ],
   "source": [
    "import pandas as pd\n",
    "import numpy as np\n",
    "import sklearn\n",
    "\n",
    "print(pd.__version__)\n",
    "print(np.__version__)\n",
    "print(sklearn.__version__)"
   ]
  },
  {
   "cell_type": "code",
   "execution_count": null,
   "id": "d25ea0e2-0211-4aba-b78b-7ee77d2c9486",
   "metadata": {},
   "outputs": [],
   "source": []
  }
 ],
 "metadata": {
  "kernelspec": {
   "display_name": "Python 3 (ipykernel)",
   "language": "python",
   "name": "python3"
  },
  "language_info": {
   "codemirror_mode": {
    "name": "ipython",
    "version": 3
   },
   "file_extension": ".py",
   "mimetype": "text/x-python",
   "name": "python",
   "nbconvert_exporter": "python",
   "pygments_lexer": "ipython3",
   "version": "3.9.7"
  },
  "toc-autonumbering": true
 },
 "nbformat": 4,
 "nbformat_minor": 5
}
